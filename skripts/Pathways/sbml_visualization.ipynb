{
 "cells": [
  {
   "cell_type": "code",
   "execution_count": 1,
   "metadata": {},
   "outputs": [],
   "source": [
    "import os\n",
    "import sys\n",
    "sys.path.append(\"..\")\n",
    "from helpers.file_handling import  *\n",
    "from Pathways.fba import *"
   ]
  },
  {
   "cell_type": "code",
   "execution_count": 97,
   "metadata": {},
   "outputs": [
    {
     "data": {
      "text/plain": [
       "['/mnt/d/data/GEMs/Com_8/Bacteroides_thetaiotaomicron_dnLKV9_utf8.xml',\n",
       " '/mnt/d/data/GEMs/Com_8/Bacteroides_uniformis_dnLKV2_utf8.xml',\n",
       " '/mnt/d/data/GEMs/Com_8/Bacteroides_vulgatus_PC510_utf8.xml',\n",
       " '/mnt/d/data/GEMs/Com_8/Clostridium_ramosum_VPI_0427_DSM_1402_utf8.xml',\n",
       " '/mnt/d/data/GEMs/Com_8/Collinsella_aerofaciens_ERR1022282_utf8.xml',\n",
       " '/mnt/d/data/GEMs/Com_8/Fusobacterium_nucleatum_subsp_polymorphum_ATCC_10953_utf8.xml',\n",
       " '/mnt/d/data/GEMs/Com_8/Roseburia_intestinalis_XB6B4_utf8.xml',\n",
       " '/mnt/d/data/GEMs/Com_8/Ruminococcus_gnavus_ATCC_29149_utf8.xml']"
      ]
     },
     "execution_count": 97,
     "metadata": {},
     "output_type": "execute_result"
    }
   ],
   "source": [
    "sbmls_path = \"/mnt/d/data/GEMs/Com_8\"\n",
    "h = 1.008\n",
    "files = [os.path.join(sbmls_path, file) for file in os.listdir(sbmls_path) if file.endswith(\"ml\") and \"utf8\" in file]\n",
    "files"
   ]
  },
  {
   "cell_type": "code",
   "execution_count": 3,
   "metadata": {},
   "outputs": [
    {
     "data": {
      "text/plain": [
       "'\\nfor file in files:\\n    convert_to_utf8(file)\\n'"
      ]
     },
     "execution_count": 3,
     "metadata": {},
     "output_type": "execute_result"
    }
   ],
   "source": [
    "\"\"\"\n",
    "for file in files:\n",
    "    convert_to_utf8(file)\n",
    "\"\"\""
   ]
  },
  {
   "cell_type": "code",
   "execution_count": 217,
   "metadata": {},
   "outputs": [
    {
     "ename": "IndexError",
     "evalue": "list index out of range",
     "output_type": "error",
     "traceback": [
      "\u001b[0;31m---------------------------------------------------------------------------\u001b[0m",
      "\u001b[0;31mIndexError\u001b[0m                                Traceback (most recent call last)",
      "Cell \u001b[0;32mIn[217], line 1\u001b[0m\n\u001b[0;32m----> 1\u001b[0m sb_model \u001b[38;5;241m=\u001b[39m cobra\u001b[38;5;241m.\u001b[39mio\u001b[38;5;241m.\u001b[39mread_sbml_model(\u001b[43mfiles\u001b[49m\u001b[43m[\u001b[49m\u001b[38;5;241;43m8\u001b[39;49m\u001b[43m]\u001b[49m)\n\u001b[1;32m      2\u001b[0m sb_model\n",
      "\u001b[0;31mIndexError\u001b[0m: list index out of range"
     ]
    }
   ],
   "source": [
    "sb_model = cobra.io.read_sbml_model(files[8])\n",
    "sb_model"
   ]
  },
  {
   "cell_type": "code",
   "execution_count": 179,
   "metadata": {},
   "outputs": [
    {
     "data": {
      "text/html": [
       "<strong><em>Optimal</em> solution with objective value 54.647</strong><br><div>\n",
       "<style scoped>\n",
       "    .dataframe tbody tr th:only-of-type {\n",
       "        vertical-align: middle;\n",
       "    }\n",
       "\n",
       "    .dataframe tbody tr th {\n",
       "        vertical-align: top;\n",
       "    }\n",
       "\n",
       "    .dataframe thead th {\n",
       "        text-align: right;\n",
       "    }\n",
       "</style>\n",
       "<table border=\"1\" class=\"dataframe\">\n",
       "  <thead>\n",
       "    <tr style=\"text-align: right;\">\n",
       "      <th></th>\n",
       "      <th>fluxes</th>\n",
       "      <th>reduced_costs</th>\n",
       "    </tr>\n",
       "  </thead>\n",
       "  <tbody>\n",
       "    <tr>\n",
       "      <th>12PPDSDH</th>\n",
       "      <td>0.000000</td>\n",
       "      <td>0.000000e+00</td>\n",
       "    </tr>\n",
       "    <tr>\n",
       "      <th>23DHMPO</th>\n",
       "      <td>0.000000</td>\n",
       "      <td>-1.390921e-17</td>\n",
       "    </tr>\n",
       "    <tr>\n",
       "      <th>26DAPLLAT</th>\n",
       "      <td>-19.817137</td>\n",
       "      <td>-2.555271e-18</td>\n",
       "    </tr>\n",
       "    <tr>\n",
       "      <th>2AHBUTI</th>\n",
       "      <td>0.000000</td>\n",
       "      <td>-2.781843e-17</td>\n",
       "    </tr>\n",
       "    <tr>\n",
       "      <th>2MBCOATA</th>\n",
       "      <td>0.000000</td>\n",
       "      <td>-0.000000e+00</td>\n",
       "    </tr>\n",
       "    <tr>\n",
       "      <th>...</th>\n",
       "      <td>...</td>\n",
       "      <td>...</td>\n",
       "    </tr>\n",
       "    <tr>\n",
       "      <th>tCAP</th>\n",
       "      <td>0.000000</td>\n",
       "      <td>-2.225474e-16</td>\n",
       "    </tr>\n",
       "    <tr>\n",
       "      <th>tCZP</th>\n",
       "      <td>0.000000</td>\n",
       "      <td>-0.000000e+00</td>\n",
       "    </tr>\n",
       "    <tr>\n",
       "      <th>tNCAP</th>\n",
       "      <td>0.000000</td>\n",
       "      <td>0.000000e+00</td>\n",
       "    </tr>\n",
       "    <tr>\n",
       "      <th>tNZP</th>\n",
       "      <td>0.000000</td>\n",
       "      <td>-0.000000e+00</td>\n",
       "    </tr>\n",
       "    <tr>\n",
       "      <th>biomass536</th>\n",
       "      <td>54.647161</td>\n",
       "      <td>-4.056850e-15</td>\n",
       "    </tr>\n",
       "  </tbody>\n",
       "</table>\n",
       "<p>1172 rows × 2 columns</p>\n",
       "</div>"
      ],
      "text/plain": [
       "<Solution 54.647 at 0x7f089d193f10>"
      ]
     },
     "execution_count": 179,
     "metadata": {},
     "output_type": "execute_result"
    }
   ],
   "source": [
    "solution = sb_model.optimize()\n",
    "solution"
   ]
  },
  {
   "cell_type": "code",
   "execution_count": 180,
   "metadata": {},
   "outputs": [],
   "source": [
    "sb_model_json = cobra.io.to_json(sb_model)"
   ]
  },
  {
   "cell_type": "code",
   "execution_count": 181,
   "metadata": {},
   "outputs": [],
   "source": [
    "builder = escher.Builder(model_json=sb_model_json)\n",
    "builder.model = sb_model\n",
    "builder.reaction_data = solution.fluxes\n",
    "builder.metabolite_data = solution.shadow_prices\n",
    "builder.scroll_behavior = 'zoom'\n",
    "builder.reaction_styles = ['size']"
   ]
  },
  {
   "cell_type": "code",
   "execution_count": 182,
   "metadata": {},
   "outputs": [
    {
     "data": {
      "application/vnd.jupyter.widget-view+json": {
       "model_id": "8c32a62c0ffb484aafc7ccfe7515c61d",
       "version_major": 2,
       "version_minor": 0
      },
      "text/plain": [
       "Builder(metabolite_data={'10fthf5glu[c]': 0.0, '10fthf[c]': -3.7331300218288166e-16, '10m3hddcaACP[c]': -1.211…"
      ]
     },
     "metadata": {},
     "output_type": "display_data"
    }
   ],
   "source": [
    "builder"
   ]
  },
  {
   "cell_type": "code",
   "execution_count": 211,
   "metadata": {},
   "outputs": [
    {
     "data": {
      "text/plain": [
       "[<Metabolite mql8[c] at 0x7f089dcfabf0>]"
      ]
     },
     "execution_count": 211,
     "metadata": {},
     "output_type": "execute_result"
    }
   ],
   "source": [
    "m_hits = search_metab_by_name(sb_model, \"Menaquinol\")\n",
    "m_hits"
   ]
  },
  {
   "cell_type": "code",
   "execution_count": 216,
   "metadata": {},
   "outputs": [
    {
     "data": {
      "text/plain": [
       "[]"
      ]
     },
     "execution_count": 216,
     "metadata": {},
     "output_type": "execute_result"
    }
   ],
   "source": [
    "m_hits = search_metab_by_weight(sb_model, 731.559627 + h, 2e-2)\n",
    "m_hits"
   ]
  },
  {
   "cell_type": "code",
   "execution_count": 212,
   "metadata": {},
   "outputs": [
    {
     "name": "stdout",
     "output_type": "stream",
     "text": [
      "719.13206\n"
     ]
    },
    {
     "data": {
      "text/html": [
       "\n",
       "        <table>\n",
       "            <tr>\n",
       "                <td><strong>Metabolite identifier</strong></td><td>mql8[c]</td>\n",
       "            </tr><tr>\n",
       "                <td><strong>Name</strong></td><td>Menaquinol 8</td>\n",
       "            </tr><tr>\n",
       "                <td><strong>Memory address</strong></td>\n",
       "                <td>0x7f089dcfabf0</td>\n",
       "            </tr><tr>\n",
       "                <td><strong>Formula</strong></td><td>C51H74O2</td>\n",
       "            </tr><tr>\n",
       "                <td><strong>Compartment</strong></td><td>c</td>\n",
       "            </tr><tr>\n",
       "                <td><strong>In 3 reaction(s)</strong></td><td>\n",
       "                    L_LACD3, FRD2, SUCDimq\n",
       "                    </td>\n",
       "            </tr>\n",
       "        </table>"
      ],
      "text/plain": [
       "<Metabolite mql8[c] at 0x7f089dcfabf0>"
      ]
     },
     "execution_count": 212,
     "metadata": {},
     "output_type": "execute_result"
    }
   ],
   "source": [
    "hit = m_hits[0]\n",
    "print(hit.formula_weight)\n",
    "hit"
   ]
  },
  {
   "cell_type": "code",
   "execution_count": 29,
   "metadata": {},
   "outputs": [],
   "source": [
    "builder.save_html('/mnt/d/reports/pathway/example_map.html')"
   ]
  },
  {
   "cell_type": "code",
   "execution_count": null,
   "metadata": {},
   "outputs": [],
   "source": []
  }
 ],
 "metadata": {
  "kernelspec": {
   "display_name": "Python 3 (ipykernel)",
   "language": "python",
   "name": "python3"
  },
  "language_info": {
   "codemirror_mode": {
    "name": "ipython",
    "version": 3
   },
   "file_extension": ".py",
   "mimetype": "text/x-python",
   "name": "python",
   "nbconvert_exporter": "python",
   "pygments_lexer": "ipython3",
   "version": "3.10.14"
  }
 },
 "nbformat": 4,
 "nbformat_minor": 2
}
