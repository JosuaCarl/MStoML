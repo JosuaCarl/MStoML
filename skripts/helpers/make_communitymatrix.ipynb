{
 "cells": [
  {
   "cell_type": "code",
   "execution_count": 1,
   "metadata": {},
   "outputs": [],
   "source": [
    "import os\n",
    "import polars as pl"
   ]
  },
  {
   "cell_type": "code",
   "execution_count": 2,
   "metadata": {},
   "outputs": [
    {
     "data": {
      "text/plain": [
       "['/mnt/d/data/Com8_equal_conc_comb', '/mnt/d/data/Com8_grown_together']"
      ]
     },
     "execution_count": 2,
     "metadata": {},
     "output_type": "execute_result"
    }
   ],
   "source": [
    "base = \"/mnt/d/data/\"\n",
    "com = \"Com8\"\n",
    "com_dirs = [os.path.join(base, d) for d in os.listdir(base) if com in d and os.path.isdir(os.path.join(base, d))]\n",
    "com_dirs"
   ]
  },
  {
   "cell_type": "code",
   "execution_count": 6,
   "metadata": {},
   "outputs": [],
   "source": [
    "df = pl.read_csv( os.path.join(\"/mnt/d/runs/FIA/Com8_equal_conc_comb\", \"merged\", \"data_matrix.tsv\"), separator=\"\\t\" )"
   ]
  },
  {
   "cell_type": "code",
   "execution_count": 7,
   "metadata": {},
   "outputs": [
    {
     "data": {
      "text/html": [
       "<div><style>\n",
       ".dataframe > thead > tr,\n",
       ".dataframe > tbody > tr {\n",
       "  text-align: right;\n",
       "  white-space: pre-wrap;\n",
       "}\n",
       "</style>\n",
       "<small>shape: (825_000, 543)</small><table border=\"1\" class=\"dataframe\"><thead><tr><th>mz</th><th>001</th><th>001_duplicated_0</th><th>002</th><th>002_duplicated_0</th><th>003</th><th>003_duplicated_0</th><th>004</th><th>004_duplicated_0</th><th>005</th><th>005_duplicated_0</th><th>006</th><th>006_duplicated_0</th><th>007</th><th>007_duplicated_0</th><th>008</th><th>008_duplicated_0</th><th>009</th><th>009_duplicated_0</th><th>010</th><th>010_duplicated_0</th><th>011</th><th>011_duplicated_0</th><th>012</th><th>012_duplicated_0</th><th>013</th><th>013_duplicated_0</th><th>014</th><th>014_duplicated_0</th><th>015</th><th>015_duplicated_0</th><th>016</th><th>016_duplicated_0</th><th>017</th><th>017_duplicated_0</th><th>018</th><th>018_duplicated_0</th><th>&hellip;</th><th>237_duplicated_0</th><th>238</th><th>238_duplicated_0</th><th>239</th><th>239_duplicated_0</th><th>240</th><th>240_duplicated_0</th><th>241</th><th>241_duplicated_0</th><th>242</th><th>242_duplicated_0</th><th>243</th><th>243_duplicated_0</th><th>244</th><th>244_duplicated_0</th><th>245</th><th>245_duplicated_0</th><th>246</th><th>246_duplicated_0</th><th>247</th><th>247_duplicated_0</th><th>248</th><th>248_duplicated_0</th><th>249</th><th>249_duplicated_0</th><th>250</th><th>250_duplicated_0</th><th>251</th><th>251_duplicated_0</th><th>252</th><th>252_duplicated_0</th><th>253</th><th>253_duplicated_0</th><th>254</th><th>254_duplicated_0</th><th>255</th><th>255_duplicated_0</th></tr><tr><td>f64</td><td>f64</td><td>f64</td><td>f64</td><td>f64</td><td>f64</td><td>f64</td><td>f64</td><td>f64</td><td>f64</td><td>f64</td><td>f64</td><td>f64</td><td>f64</td><td>f64</td><td>f64</td><td>f64</td><td>f64</td><td>f64</td><td>f64</td><td>f64</td><td>f64</td><td>f64</td><td>f64</td><td>f64</td><td>f64</td><td>f64</td><td>f64</td><td>f64</td><td>f64</td><td>f64</td><td>f64</td><td>f64</td><td>f64</td><td>f64</td><td>f64</td><td>f64</td><td>&hellip;</td><td>f64</td><td>f64</td><td>f64</td><td>f64</td><td>f64</td><td>f64</td><td>f64</td><td>f64</td><td>f64</td><td>f64</td><td>f64</td><td>f64</td><td>f64</td><td>f64</td><td>f64</td><td>f64</td><td>f64</td><td>f64</td><td>f64</td><td>f64</td><td>f64</td><td>f64</td><td>f64</td><td>f64</td><td>f64</td><td>f64</td><td>f64</td><td>f64</td><td>f64</td><td>f64</td><td>f64</td><td>f64</td><td>f64</td><td>f64</td><td>f64</td><td>f64</td><td>f64</td></tr></thead><tbody><tr><td>50.001</td><td>26105.0</td><td>32410.0</td><td>32152.0</td><td>46249.0</td><td>36249.0</td><td>25573.0</td><td>42397.0</td><td>33079.0</td><td>38203.0</td><td>24546.0</td><td>45942.0</td><td>22329.0</td><td>38498.0</td><td>25633.0</td><td>34593.0</td><td>30211.0</td><td>39141.0</td><td>37755.0</td><td>27070.0</td><td>21454.0</td><td>31615.0</td><td>29059.0</td><td>36546.0</td><td>27496.0</td><td>38130.0</td><td>27723.0</td><td>28405.0</td><td>29487.0</td><td>37469.0</td><td>21533.0</td><td>47032.0</td><td>35088.0</td><td>51679.0</td><td>36342.0</td><td>36286.0</td><td>32164.0</td><td>&hellip;</td><td>29670.0</td><td>32478.0</td><td>38673.0</td><td>27941.0</td><td>34106.0</td><td>28230.0</td><td>29737.0</td><td>26016.0</td><td>33376.0</td><td>26682.0</td><td>29922.0</td><td>31259.0</td><td>32181.0</td><td>34964.0</td><td>38564.0</td><td>30071.0</td><td>30950.0</td><td>26386.0</td><td>26478.0</td><td>27762.0</td><td>24367.0</td><td>30207.0</td><td>32356.0</td><td>28931.0</td><td>32231.0</td><td>26150.0</td><td>32425.0</td><td>28280.0</td><td>32086.0</td><td>25763.0</td><td>33303.0</td><td>26669.0</td><td>30993.0</td><td>34795.0</td><td>41667.0</td><td>37562.0</td><td>26717.0</td></tr><tr><td>50.003</td><td>19747.0</td><td>28394.0</td><td>29302.0</td><td>41462.0</td><td>31597.0</td><td>35524.0</td><td>36748.0</td><td>41462.0</td><td>30299.0</td><td>34026.0</td><td>31787.0</td><td>30827.0</td><td>27530.0</td><td>34577.0</td><td>27971.0</td><td>38209.0</td><td>27671.0</td><td>48832.0</td><td>28082.0</td><td>26633.0</td><td>27372.0</td><td>37685.0</td><td>27306.0</td><td>35724.0</td><td>34252.0</td><td>33119.0</td><td>24367.0</td><td>44697.0</td><td>25536.0</td><td>31263.0</td><td>34854.0</td><td>37353.0</td><td>38335.0</td><td>48814.0</td><td>28892.0</td><td>46135.0</td><td>&hellip;</td><td>19687.0</td><td>25502.0</td><td>23640.0</td><td>20928.0</td><td>22141.0</td><td>19930.0</td><td>34267.0</td><td>25064.0</td><td>23515.0</td><td>21391.0</td><td>23222.0</td><td>18557.0</td><td>25336.0</td><td>25139.0</td><td>29137.0</td><td>23753.0</td><td>24032.0</td><td>22405.0</td><td>18294.0</td><td>19252.0</td><td>21256.0</td><td>26478.0</td><td>23572.0</td><td>20192.0</td><td>20818.0</td><td>24354.0</td><td>23196.0</td><td>20923.0</td><td>17894.0</td><td>22988.0</td><td>24008.0</td><td>20392.0</td><td>20414.0</td><td>27927.0</td><td>36158.0</td><td>28333.0</td><td>19955.0</td></tr><tr><td>50.005</td><td>28114.0</td><td>33268.0</td><td>40477.0</td><td>46295.0</td><td>36510.0</td><td>41809.0</td><td>49339.0</td><td>44152.0</td><td>34872.0</td><td>39479.0</td><td>43575.0</td><td>28845.0</td><td>36244.0</td><td>35005.0</td><td>33571.0</td><td>47405.0</td><td>39117.0</td><td>50192.0</td><td>36514.0</td><td>28757.0</td><td>31102.0</td><td>38355.0</td><td>37420.0</td><td>33771.0</td><td>37432.0</td><td>37289.0</td><td>31176.0</td><td>41757.0</td><td>36348.0</td><td>31194.0</td><td>48159.0</td><td>35765.0</td><td>56030.0</td><td>50959.0</td><td>37982.0</td><td>44445.0</td><td>&hellip;</td><td>35149.0</td><td>36089.0</td><td>35705.0</td><td>28005.0</td><td>30597.0</td><td>31098.0</td><td>23175.0</td><td>30862.0</td><td>32617.0</td><td>26690.0</td><td>27090.0</td><td>24840.0</td><td>33343.0</td><td>34288.0</td><td>36340.0</td><td>29268.0</td><td>28178.0</td><td>30330.0</td><td>25396.0</td><td>28172.0</td><td>26150.0</td><td>30842.0</td><td>24641.0</td><td>28387.0</td><td>27685.0</td><td>25337.0</td><td>29724.0</td><td>27780.0</td><td>28883.0</td><td>26842.0</td><td>29683.0</td><td>29731.0</td><td>29184.0</td><td>33256.0</td><td>40623.0</td><td>34212.0</td><td>27482.0</td></tr><tr><td>50.007</td><td>22622.0</td><td>19552.0</td><td>34806.0</td><td>32731.0</td><td>37594.0</td><td>30062.0</td><td>43449.0</td><td>31522.0</td><td>30138.0</td><td>27802.0</td><td>43530.0</td><td>18931.0</td><td>38086.0</td><td>27663.0</td><td>45409.0</td><td>31369.0</td><td>38143.0</td><td>39579.0</td><td>37822.0</td><td>25598.0</td><td>30897.0</td><td>26200.0</td><td>35098.0</td><td>25182.0</td><td>38757.0</td><td>29132.0</td><td>31801.0</td><td>34857.0</td><td>29886.0</td><td>21607.0</td><td>49959.0</td><td>27217.0</td><td>47997.0</td><td>39604.0</td><td>35654.0</td><td>34617.0</td><td>&hellip;</td><td>33753.0</td><td>30168.0</td><td>36843.0</td><td>27263.0</td><td>35429.0</td><td>31430.0</td><td>28698.0</td><td>32094.0</td><td>36803.0</td><td>27416.0</td><td>30072.0</td><td>28605.0</td><td>26769.0</td><td>34368.0</td><td>39014.0</td><td>28785.0</td><td>31222.0</td><td>29250.0</td><td>27362.0</td><td>28156.0</td><td>28612.0</td><td>30060.0</td><td>28564.0</td><td>28797.0</td><td>27687.0</td><td>31833.0</td><td>30041.0</td><td>27902.0</td><td>26097.0</td><td>27515.0</td><td>31547.0</td><td>25877.0</td><td>28827.0</td><td>34135.0</td><td>39140.0</td><td>37905.0</td><td>32914.0</td></tr><tr><td>50.009</td><td>18300.0</td><td>34107.0</td><td>26366.0</td><td>40850.0</td><td>32497.0</td><td>40127.0</td><td>29292.0</td><td>45172.0</td><td>24068.0</td><td>37022.0</td><td>31375.0</td><td>25711.0</td><td>26942.0</td><td>36793.0</td><td>27492.0</td><td>39204.0</td><td>28401.0</td><td>49094.0</td><td>28225.0</td><td>31575.0</td><td>25070.0</td><td>35900.0</td><td>32034.0</td><td>38313.0</td><td>32906.0</td><td>35995.0</td><td>22859.0</td><td>44226.0</td><td>24465.0</td><td>30170.0</td><td>37013.0</td><td>36547.0</td><td>37166.0</td><td>45057.0</td><td>24753.0</td><td>51993.0</td><td>&hellip;</td><td>24237.0</td><td>24676.0</td><td>30623.0</td><td>22341.0</td><td>22190.0</td><td>22033.0</td><td>20894.0</td><td>27558.0</td><td>24202.0</td><td>23344.0</td><td>21742.0</td><td>21574.0</td><td>22628.0</td><td>24408.0</td><td>29815.0</td><td>21879.0</td><td>22148.0</td><td>22442.0</td><td>18523.0</td><td>20782.0</td><td>20332.0</td><td>20699.0</td><td>22487.0</td><td>19707.0</td><td>24436.0</td><td>19628.0</td><td>24902.0</td><td>21260.0</td><td>20737.0</td><td>20865.0</td><td>22332.0</td><td>20901.0</td><td>20129.0</td><td>29687.0</td><td>27529.0</td><td>26774.0</td><td>23351.0</td></tr><tr><td>&hellip;</td><td>&hellip;</td><td>&hellip;</td><td>&hellip;</td><td>&hellip;</td><td>&hellip;</td><td>&hellip;</td><td>&hellip;</td><td>&hellip;</td><td>&hellip;</td><td>&hellip;</td><td>&hellip;</td><td>&hellip;</td><td>&hellip;</td><td>&hellip;</td><td>&hellip;</td><td>&hellip;</td><td>&hellip;</td><td>&hellip;</td><td>&hellip;</td><td>&hellip;</td><td>&hellip;</td><td>&hellip;</td><td>&hellip;</td><td>&hellip;</td><td>&hellip;</td><td>&hellip;</td><td>&hellip;</td><td>&hellip;</td><td>&hellip;</td><td>&hellip;</td><td>&hellip;</td><td>&hellip;</td><td>&hellip;</td><td>&hellip;</td><td>&hellip;</td><td>&hellip;</td><td>&hellip;</td><td>&hellip;</td><td>&hellip;</td><td>&hellip;</td><td>&hellip;</td><td>&hellip;</td><td>&hellip;</td><td>&hellip;</td><td>&hellip;</td><td>&hellip;</td><td>&hellip;</td><td>&hellip;</td><td>&hellip;</td><td>&hellip;</td><td>&hellip;</td><td>&hellip;</td><td>&hellip;</td><td>&hellip;</td><td>&hellip;</td><td>&hellip;</td><td>&hellip;</td><td>&hellip;</td><td>&hellip;</td><td>&hellip;</td><td>&hellip;</td><td>&hellip;</td><td>&hellip;</td><td>&hellip;</td><td>&hellip;</td><td>&hellip;</td><td>&hellip;</td><td>&hellip;</td><td>&hellip;</td><td>&hellip;</td><td>&hellip;</td><td>&hellip;</td><td>&hellip;</td><td>&hellip;</td></tr><tr><td>1699.991</td><td>0.0</td><td>0.0</td><td>0.0</td><td>0.0</td><td>0.0</td><td>0.0</td><td>0.0</td><td>0.0</td><td>0.0</td><td>0.0</td><td>0.0</td><td>0.0</td><td>0.0</td><td>0.0</td><td>0.0</td><td>0.0</td><td>0.0</td><td>0.0</td><td>0.0</td><td>0.0</td><td>0.0</td><td>0.0</td><td>0.0</td><td>0.0</td><td>0.0</td><td>0.0</td><td>0.0</td><td>0.0</td><td>0.0</td><td>0.0</td><td>0.0</td><td>0.0</td><td>0.0</td><td>0.0</td><td>0.0</td><td>0.0</td><td>&hellip;</td><td>0.0</td><td>0.0</td><td>0.0</td><td>0.0</td><td>0.0</td><td>0.0</td><td>0.0</td><td>0.0</td><td>0.0</td><td>0.0</td><td>0.0</td><td>0.0</td><td>0.0</td><td>0.0</td><td>0.0</td><td>0.0</td><td>0.0</td><td>0.0</td><td>0.0</td><td>0.0</td><td>0.0</td><td>0.0</td><td>0.0</td><td>0.0</td><td>0.0</td><td>0.0</td><td>0.0</td><td>0.0</td><td>0.0</td><td>0.0</td><td>0.0</td><td>0.0</td><td>0.0</td><td>0.0</td><td>0.0</td><td>0.0</td><td>0.0</td></tr><tr><td>1699.993</td><td>0.0</td><td>0.0</td><td>0.0</td><td>0.0</td><td>0.0</td><td>0.0</td><td>0.0</td><td>0.0</td><td>0.0</td><td>0.0</td><td>0.0</td><td>0.0</td><td>0.0</td><td>0.0</td><td>0.0</td><td>0.0</td><td>0.0</td><td>0.0</td><td>0.0</td><td>0.0</td><td>0.0</td><td>0.0</td><td>0.0</td><td>0.0</td><td>0.0</td><td>0.0</td><td>0.0</td><td>0.0</td><td>0.0</td><td>0.0</td><td>0.0</td><td>0.0</td><td>0.0</td><td>0.0</td><td>0.0</td><td>0.0</td><td>&hellip;</td><td>0.0</td><td>0.0</td><td>0.0</td><td>0.0</td><td>0.0</td><td>0.0</td><td>0.0</td><td>0.0</td><td>0.0</td><td>0.0</td><td>0.0</td><td>0.0</td><td>0.0</td><td>0.0</td><td>0.0</td><td>0.0</td><td>0.0</td><td>0.0</td><td>0.0</td><td>0.0</td><td>0.0</td><td>0.0</td><td>0.0</td><td>0.0</td><td>0.0</td><td>0.0</td><td>0.0</td><td>0.0</td><td>0.0</td><td>0.0</td><td>0.0</td><td>0.0</td><td>0.0</td><td>0.0</td><td>0.0</td><td>0.0</td><td>0.0</td></tr><tr><td>1699.995</td><td>0.0</td><td>0.0</td><td>0.0</td><td>0.0</td><td>0.0</td><td>0.0</td><td>0.0</td><td>0.0</td><td>0.0</td><td>0.0</td><td>0.0</td><td>0.0</td><td>0.0</td><td>0.0</td><td>0.0</td><td>0.0</td><td>0.0</td><td>0.0</td><td>0.0</td><td>0.0</td><td>0.0</td><td>0.0</td><td>0.0</td><td>0.0</td><td>0.0</td><td>0.0</td><td>0.0</td><td>0.0</td><td>0.0</td><td>0.0</td><td>0.0</td><td>0.0</td><td>0.0</td><td>0.0</td><td>0.0</td><td>0.0</td><td>&hellip;</td><td>0.0</td><td>0.0</td><td>0.0</td><td>0.0</td><td>0.0</td><td>0.0</td><td>0.0</td><td>0.0</td><td>0.0</td><td>0.0</td><td>0.0</td><td>0.0</td><td>0.0</td><td>0.0</td><td>0.0</td><td>0.0</td><td>0.0</td><td>0.0</td><td>0.0</td><td>0.0</td><td>0.0</td><td>0.0</td><td>0.0</td><td>0.0</td><td>0.0</td><td>0.0</td><td>0.0</td><td>0.0</td><td>0.0</td><td>0.0</td><td>0.0</td><td>0.0</td><td>0.0</td><td>0.0</td><td>0.0</td><td>0.0</td><td>0.0</td></tr><tr><td>1699.997</td><td>0.0</td><td>0.0</td><td>0.0</td><td>0.0</td><td>0.0</td><td>0.0</td><td>0.0</td><td>0.0</td><td>0.0</td><td>0.0</td><td>0.0</td><td>0.0</td><td>0.0</td><td>0.0</td><td>0.0</td><td>0.0</td><td>0.0</td><td>0.0</td><td>0.0</td><td>0.0</td><td>0.0</td><td>0.0</td><td>0.0</td><td>0.0</td><td>0.0</td><td>0.0</td><td>0.0</td><td>0.0</td><td>0.0</td><td>0.0</td><td>0.0</td><td>0.0</td><td>0.0</td><td>0.0</td><td>0.0</td><td>0.0</td><td>&hellip;</td><td>0.0</td><td>0.0</td><td>0.0</td><td>0.0</td><td>0.0</td><td>0.0</td><td>0.0</td><td>0.0</td><td>0.0</td><td>0.0</td><td>0.0</td><td>0.0</td><td>0.0</td><td>0.0</td><td>0.0</td><td>0.0</td><td>0.0</td><td>0.0</td><td>0.0</td><td>0.0</td><td>0.0</td><td>0.0</td><td>0.0</td><td>0.0</td><td>0.0</td><td>0.0</td><td>0.0</td><td>0.0</td><td>0.0</td><td>0.0</td><td>0.0</td><td>0.0</td><td>0.0</td><td>0.0</td><td>0.0</td><td>0.0</td><td>0.0</td></tr><tr><td>1699.999</td><td>0.0</td><td>0.0</td><td>0.0</td><td>0.0</td><td>0.0</td><td>0.0</td><td>0.0</td><td>0.0</td><td>0.0</td><td>0.0</td><td>0.0</td><td>0.0</td><td>0.0</td><td>0.0</td><td>0.0</td><td>0.0</td><td>0.0</td><td>0.0</td><td>0.0</td><td>0.0</td><td>0.0</td><td>0.0</td><td>0.0</td><td>0.0</td><td>0.0</td><td>0.0</td><td>0.0</td><td>0.0</td><td>0.0</td><td>0.0</td><td>0.0</td><td>0.0</td><td>0.0</td><td>0.0</td><td>0.0</td><td>0.0</td><td>&hellip;</td><td>0.0</td><td>0.0</td><td>0.0</td><td>0.0</td><td>0.0</td><td>0.0</td><td>0.0</td><td>0.0</td><td>0.0</td><td>0.0</td><td>0.0</td><td>0.0</td><td>0.0</td><td>0.0</td><td>0.0</td><td>0.0</td><td>0.0</td><td>0.0</td><td>0.0</td><td>0.0</td><td>0.0</td><td>0.0</td><td>0.0</td><td>0.0</td><td>0.0</td><td>0.0</td><td>0.0</td><td>0.0</td><td>0.0</td><td>0.0</td><td>0.0</td><td>0.0</td><td>0.0</td><td>0.0</td><td>0.0</td><td>0.0</td><td>0.0</td></tr></tbody></table></div>"
      ],
      "text/plain": [
       "shape: (825_000, 543)\n",
       "┌──────────┬─────────┬──────────────┬─────────┬───┬─────────┬──────────────┬─────────┬─────────────┐\n",
       "│ mz       ┆ 001     ┆ 001_duplicat ┆ 002     ┆ … ┆ 254     ┆ 254_duplicat ┆ 255     ┆ 255_duplica │\n",
       "│ ---      ┆ ---     ┆ ed_0         ┆ ---     ┆   ┆ ---     ┆ ed_0         ┆ ---     ┆ ted_0       │\n",
       "│ f64      ┆ f64     ┆ ---          ┆ f64     ┆   ┆ f64     ┆ ---          ┆ f64     ┆ ---         │\n",
       "│          ┆         ┆ f64          ┆         ┆   ┆         ┆ f64          ┆         ┆ f64         │\n",
       "╞══════════╪═════════╪══════════════╪═════════╪═══╪═════════╪══════════════╪═════════╪═════════════╡\n",
       "│ 50.001   ┆ 26105.0 ┆ 32410.0      ┆ 32152.0 ┆ … ┆ 34795.0 ┆ 41667.0      ┆ 37562.0 ┆ 26717.0     │\n",
       "│ 50.003   ┆ 19747.0 ┆ 28394.0      ┆ 29302.0 ┆ … ┆ 27927.0 ┆ 36158.0      ┆ 28333.0 ┆ 19955.0     │\n",
       "│ 50.005   ┆ 28114.0 ┆ 33268.0      ┆ 40477.0 ┆ … ┆ 33256.0 ┆ 40623.0      ┆ 34212.0 ┆ 27482.0     │\n",
       "│ 50.007   ┆ 22622.0 ┆ 19552.0      ┆ 34806.0 ┆ … ┆ 34135.0 ┆ 39140.0      ┆ 37905.0 ┆ 32914.0     │\n",
       "│ 50.009   ┆ 18300.0 ┆ 34107.0      ┆ 26366.0 ┆ … ┆ 29687.0 ┆ 27529.0      ┆ 26774.0 ┆ 23351.0     │\n",
       "│ …        ┆ …       ┆ …            ┆ …       ┆ … ┆ …       ┆ …            ┆ …       ┆ …           │\n",
       "│ 1699.991 ┆ 0.0     ┆ 0.0          ┆ 0.0     ┆ … ┆ 0.0     ┆ 0.0          ┆ 0.0     ┆ 0.0         │\n",
       "│ 1699.993 ┆ 0.0     ┆ 0.0          ┆ 0.0     ┆ … ┆ 0.0     ┆ 0.0          ┆ 0.0     ┆ 0.0         │\n",
       "│ 1699.995 ┆ 0.0     ┆ 0.0          ┆ 0.0     ┆ … ┆ 0.0     ┆ 0.0          ┆ 0.0     ┆ 0.0         │\n",
       "│ 1699.997 ┆ 0.0     ┆ 0.0          ┆ 0.0     ┆ … ┆ 0.0     ┆ 0.0          ┆ 0.0     ┆ 0.0         │\n",
       "│ 1699.999 ┆ 0.0     ┆ 0.0          ┆ 0.0     ┆ … ┆ 0.0     ┆ 0.0          ┆ 0.0     ┆ 0.0         │\n",
       "└──────────┴─────────┴──────────────┴─────────┴───┴─────────┴──────────────┴─────────┴─────────────┘"
      ]
     },
     "execution_count": 7,
     "metadata": {},
     "output_type": "execute_result"
    }
   ],
   "source": [
    "df"
   ]
  },
  {
   "cell_type": "code",
   "execution_count": 26,
   "metadata": {},
   "outputs": [],
   "source": [
    "df2 = df.drop(pl.selectors.starts_with(\"2022\"))"
   ]
  },
  {
   "cell_type": "code",
   "execution_count": 28,
   "metadata": {},
   "outputs": [],
   "source": [
    "df2.write_csv( os.path.join(\"/mnt/d/runs/FIA/Com8_equal_conc_comb\", \"merged\", \"data_matrix.tsv\"), separator=\"\\t\" )"
   ]
  },
  {
   "cell_type": "code",
   "execution_count": 4,
   "metadata": {},
   "outputs": [
    {
     "ename": "FileNotFoundError",
     "evalue": "/mnt/d/data/Com8_equal_conc_comb/20230327_WKL_P0024.xlsx",
     "output_type": "error",
     "traceback": [
      "\u001b[0;31m---------------------------------------------------------------------------\u001b[0m",
      "\u001b[0;31mFileNotFoundError\u001b[0m                         Traceback (most recent call last)",
      "Cell \u001b[0;32mIn[4], line 1\u001b[0m\n\u001b[0;32m----> 1\u001b[0m comb \u001b[38;5;241m=\u001b[39m \u001b[43mpl\u001b[49m\u001b[38;5;241;43m.\u001b[39;49m\u001b[43mread_excel\u001b[49m\u001b[43m(\u001b[49m\u001b[43mos\u001b[49m\u001b[38;5;241;43m.\u001b[39;49m\u001b[43mpath\u001b[49m\u001b[38;5;241;43m.\u001b[39;49m\u001b[43mjoin\u001b[49m\u001b[43m(\u001b[49m\u001b[43mcom_dirs\u001b[49m\u001b[43m[\u001b[49m\u001b[38;5;241;43m0\u001b[39;49m\u001b[43m]\u001b[49m\u001b[43m,\u001b[49m\u001b[43m \u001b[49m\u001b[38;5;124;43m\"\u001b[39;49m\u001b[38;5;124;43m20230327_WKL_P0024.xlsx\u001b[39;49m\u001b[38;5;124;43m\"\u001b[39;49m\u001b[43m)\u001b[49m\u001b[43m,\u001b[49m\u001b[43m \u001b[49m\u001b[43mread_options\u001b[49m\u001b[38;5;241;43m=\u001b[39;49m\u001b[43m{\u001b[49m\u001b[38;5;124;43m\"\u001b[39;49m\u001b[38;5;124;43mhas_header\u001b[39;49m\u001b[38;5;124;43m\"\u001b[39;49m\u001b[43m:\u001b[49m\u001b[43m \u001b[49m\u001b[38;5;28;43;01mFalse\u001b[39;49;00m\u001b[43m}\u001b[49m\u001b[43m)\u001b[49m\n\u001b[1;32m      2\u001b[0m comb\n",
      "File \u001b[0;32m~/miniconda3_linux/envs/VAE/lib/python3.11/site-packages/polars/_utils/deprecation.py:134\u001b[0m, in \u001b[0;36mdeprecate_renamed_parameter.<locals>.decorate.<locals>.wrapper\u001b[0;34m(*args, **kwargs)\u001b[0m\n\u001b[1;32m    129\u001b[0m \u001b[38;5;129m@wraps\u001b[39m(function)\n\u001b[1;32m    130\u001b[0m \u001b[38;5;28;01mdef\u001b[39;00m \u001b[38;5;21mwrapper\u001b[39m(\u001b[38;5;241m*\u001b[39margs: P\u001b[38;5;241m.\u001b[39margs, \u001b[38;5;241m*\u001b[39m\u001b[38;5;241m*\u001b[39mkwargs: P\u001b[38;5;241m.\u001b[39mkwargs) \u001b[38;5;241m-\u001b[39m\u001b[38;5;241m>\u001b[39m T:\n\u001b[1;32m    131\u001b[0m     _rename_keyword_argument(\n\u001b[1;32m    132\u001b[0m         old_name, new_name, kwargs, function\u001b[38;5;241m.\u001b[39m\u001b[38;5;18m__name__\u001b[39m, version\n\u001b[1;32m    133\u001b[0m     )\n\u001b[0;32m--> 134\u001b[0m     \u001b[38;5;28;01mreturn\u001b[39;00m \u001b[43mfunction\u001b[49m\u001b[43m(\u001b[49m\u001b[38;5;241;43m*\u001b[39;49m\u001b[43margs\u001b[49m\u001b[43m,\u001b[49m\u001b[43m \u001b[49m\u001b[38;5;241;43m*\u001b[39;49m\u001b[38;5;241;43m*\u001b[39;49m\u001b[43mkwargs\u001b[49m\u001b[43m)\u001b[49m\n",
      "File \u001b[0;32m~/miniconda3_linux/envs/VAE/lib/python3.11/site-packages/polars/_utils/deprecation.py:134\u001b[0m, in \u001b[0;36mdeprecate_renamed_parameter.<locals>.decorate.<locals>.wrapper\u001b[0;34m(*args, **kwargs)\u001b[0m\n\u001b[1;32m    129\u001b[0m \u001b[38;5;129m@wraps\u001b[39m(function)\n\u001b[1;32m    130\u001b[0m \u001b[38;5;28;01mdef\u001b[39;00m \u001b[38;5;21mwrapper\u001b[39m(\u001b[38;5;241m*\u001b[39margs: P\u001b[38;5;241m.\u001b[39margs, \u001b[38;5;241m*\u001b[39m\u001b[38;5;241m*\u001b[39mkwargs: P\u001b[38;5;241m.\u001b[39mkwargs) \u001b[38;5;241m-\u001b[39m\u001b[38;5;241m>\u001b[39m T:\n\u001b[1;32m    131\u001b[0m     _rename_keyword_argument(\n\u001b[1;32m    132\u001b[0m         old_name, new_name, kwargs, function\u001b[38;5;241m.\u001b[39m\u001b[38;5;18m__name__\u001b[39m, version\n\u001b[1;32m    133\u001b[0m     )\n\u001b[0;32m--> 134\u001b[0m     \u001b[38;5;28;01mreturn\u001b[39;00m \u001b[43mfunction\u001b[49m\u001b[43m(\u001b[49m\u001b[38;5;241;43m*\u001b[39;49m\u001b[43margs\u001b[49m\u001b[43m,\u001b[49m\u001b[43m \u001b[49m\u001b[38;5;241;43m*\u001b[39;49m\u001b[38;5;241;43m*\u001b[39;49m\u001b[43mkwargs\u001b[49m\u001b[43m)\u001b[49m\n",
      "File \u001b[0;32m~/miniconda3_linux/envs/VAE/lib/python3.11/site-packages/polars/io/spreadsheet/functions.py:254\u001b[0m, in \u001b[0;36mread_excel\u001b[0;34m(source, sheet_id, sheet_name, engine, engine_options, read_options, schema_overrides, raise_if_empty)\u001b[0m\n\u001b[1;32m    121\u001b[0m \u001b[38;5;129m@deprecate_renamed_parameter\u001b[39m(\u001b[38;5;124m\"\u001b[39m\u001b[38;5;124mxlsx2csv_options\u001b[39m\u001b[38;5;124m\"\u001b[39m, \u001b[38;5;124m\"\u001b[39m\u001b[38;5;124mengine_options\u001b[39m\u001b[38;5;124m\"\u001b[39m, version\u001b[38;5;241m=\u001b[39m\u001b[38;5;124m\"\u001b[39m\u001b[38;5;124m0.20.6\u001b[39m\u001b[38;5;124m\"\u001b[39m)\n\u001b[1;32m    122\u001b[0m \u001b[38;5;129m@deprecate_renamed_parameter\u001b[39m(\u001b[38;5;124m\"\u001b[39m\u001b[38;5;124mread_csv_options\u001b[39m\u001b[38;5;124m\"\u001b[39m, \u001b[38;5;124m\"\u001b[39m\u001b[38;5;124mread_options\u001b[39m\u001b[38;5;124m\"\u001b[39m, version\u001b[38;5;241m=\u001b[39m\u001b[38;5;124m\"\u001b[39m\u001b[38;5;124m0.20.7\u001b[39m\u001b[38;5;124m\"\u001b[39m)\n\u001b[1;32m    123\u001b[0m \u001b[38;5;28;01mdef\u001b[39;00m \u001b[38;5;21mread_excel\u001b[39m(\n\u001b[0;32m   (...)\u001b[0m\n\u001b[1;32m    132\u001b[0m     raise_if_empty: \u001b[38;5;28mbool\u001b[39m \u001b[38;5;241m=\u001b[39m \u001b[38;5;28;01mTrue\u001b[39;00m,\n\u001b[1;32m    133\u001b[0m ) \u001b[38;5;241m-\u001b[39m\u001b[38;5;241m>\u001b[39m pl\u001b[38;5;241m.\u001b[39mDataFrame \u001b[38;5;241m|\u001b[39m \u001b[38;5;28mdict\u001b[39m[\u001b[38;5;28mstr\u001b[39m, pl\u001b[38;5;241m.\u001b[39mDataFrame]:\n\u001b[1;32m    134\u001b[0m \u001b[38;5;250m    \u001b[39m\u001b[38;5;124;03m\"\"\"\u001b[39;00m\n\u001b[1;32m    135\u001b[0m \u001b[38;5;124;03m    Read Excel spreadsheet data into a DataFrame.\u001b[39;00m\n\u001b[1;32m    136\u001b[0m \n\u001b[0;32m   (...)\u001b[0m\n\u001b[1;32m    252\u001b[0m \u001b[38;5;124;03m    ... )  # doctest: +SKIP\u001b[39;00m\n\u001b[1;32m    253\u001b[0m \u001b[38;5;124;03m    \"\"\"\u001b[39;00m\n\u001b[0;32m--> 254\u001b[0m     \u001b[38;5;28;01mreturn\u001b[39;00m \u001b[43m_read_spreadsheet\u001b[49m\u001b[43m(\u001b[49m\n\u001b[1;32m    255\u001b[0m \u001b[43m        \u001b[49m\u001b[43msheet_id\u001b[49m\u001b[43m,\u001b[49m\n\u001b[1;32m    256\u001b[0m \u001b[43m        \u001b[49m\u001b[43msheet_name\u001b[49m\u001b[43m,\u001b[49m\n\u001b[1;32m    257\u001b[0m \u001b[43m        \u001b[49m\u001b[43msource\u001b[49m\u001b[38;5;241;43m=\u001b[39;49m\u001b[43msource\u001b[49m\u001b[43m,\u001b[49m\n\u001b[1;32m    258\u001b[0m \u001b[43m        \u001b[49m\u001b[43mengine\u001b[49m\u001b[38;5;241;43m=\u001b[39;49m\u001b[43mengine\u001b[49m\u001b[43m,\u001b[49m\n\u001b[1;32m    259\u001b[0m \u001b[43m        \u001b[49m\u001b[43mengine_options\u001b[49m\u001b[38;5;241;43m=\u001b[39;49m\u001b[43mengine_options\u001b[49m\u001b[43m,\u001b[49m\n\u001b[1;32m    260\u001b[0m \u001b[43m        \u001b[49m\u001b[43mread_options\u001b[49m\u001b[38;5;241;43m=\u001b[39;49m\u001b[43mread_options\u001b[49m\u001b[43m,\u001b[49m\n\u001b[1;32m    261\u001b[0m \u001b[43m        \u001b[49m\u001b[43mschema_overrides\u001b[49m\u001b[38;5;241;43m=\u001b[39;49m\u001b[43mschema_overrides\u001b[49m\u001b[43m,\u001b[49m\n\u001b[1;32m    262\u001b[0m \u001b[43m        \u001b[49m\u001b[43mraise_if_empty\u001b[49m\u001b[38;5;241;43m=\u001b[39;49m\u001b[43mraise_if_empty\u001b[49m\u001b[43m,\u001b[49m\n\u001b[1;32m    263\u001b[0m \u001b[43m    \u001b[49m\u001b[43m)\u001b[49m\n",
      "File \u001b[0;32m~/miniconda3_linux/envs/VAE/lib/python3.11/site-packages/polars/io/spreadsheet/functions.py:470\u001b[0m, in \u001b[0;36m_read_spreadsheet\u001b[0;34m(sheet_id, sheet_name, source, engine, engine_options, read_options, schema_overrides, raise_if_empty)\u001b[0m\n\u001b[1;32m    467\u001b[0m         engine \u001b[38;5;241m=\u001b[39m \u001b[38;5;124m\"\u001b[39m\u001b[38;5;124mxlsx2csv\u001b[39m\u001b[38;5;124m\"\u001b[39m\n\u001b[1;32m    469\u001b[0m \u001b[38;5;66;03m# establish the reading function, parser, and available worksheets\u001b[39;00m\n\u001b[0;32m--> 470\u001b[0m reader_fn, parser, worksheets \u001b[38;5;241m=\u001b[39m \u001b[43m_initialise_spreadsheet_parser\u001b[49m\u001b[43m(\u001b[49m\n\u001b[1;32m    471\u001b[0m \u001b[43m    \u001b[49m\u001b[43mengine\u001b[49m\u001b[43m,\u001b[49m\u001b[43m \u001b[49m\u001b[43msource\u001b[49m\u001b[43m,\u001b[49m\u001b[43m \u001b[49m\u001b[43mengine_options\u001b[49m\u001b[43m \u001b[49m\u001b[38;5;129;43;01mor\u001b[39;49;00m\u001b[43m \u001b[49m\u001b[43m{\u001b[49m\u001b[43m}\u001b[49m\n\u001b[1;32m    472\u001b[0m \u001b[43m\u001b[49m\u001b[43m)\u001b[49m\n\u001b[1;32m    473\u001b[0m \u001b[38;5;28;01mtry\u001b[39;00m:\n\u001b[1;32m    474\u001b[0m     \u001b[38;5;66;03m# parse data from the indicated sheet(s)\u001b[39;00m\n\u001b[1;32m    475\u001b[0m     sheet_names, return_multi \u001b[38;5;241m=\u001b[39m _get_sheet_names(sheet_id, sheet_name, worksheets)\n",
      "File \u001b[0;32m~/miniconda3_linux/envs/VAE/lib/python3.11/site-packages/polars/io/spreadsheet/functions.py:554\u001b[0m, in \u001b[0;36m_initialise_spreadsheet_parser\u001b[0;34m(engine, source, engine_options)\u001b[0m\n\u001b[1;32m    552\u001b[0m \u001b[38;5;250m\u001b[39m\u001b[38;5;124;03m\"\"\"Instantiate the indicated spreadsheet parser and establish related properties.\"\"\"\u001b[39;00m\n\u001b[1;32m    553\u001b[0m \u001b[38;5;28;01mif\u001b[39;00m \u001b[38;5;28misinstance\u001b[39m(source, (\u001b[38;5;28mstr\u001b[39m, Path)) \u001b[38;5;129;01mand\u001b[39;00m \u001b[38;5;129;01mnot\u001b[39;00m Path(source)\u001b[38;5;241m.\u001b[39mexists():\n\u001b[0;32m--> 554\u001b[0m     \u001b[38;5;28;01mraise\u001b[39;00m \u001b[38;5;167;01mFileNotFoundError\u001b[39;00m(source)\n\u001b[1;32m    556\u001b[0m \u001b[38;5;28;01mif\u001b[39;00m engine \u001b[38;5;241m==\u001b[39m \u001b[38;5;124m\"\u001b[39m\u001b[38;5;124mxlsx2csv\u001b[39m\u001b[38;5;124m\"\u001b[39m:  \u001b[38;5;66;03m# default\u001b[39;00m\n\u001b[1;32m    557\u001b[0m     xlsx2csv \u001b[38;5;241m=\u001b[39m import_optional(\u001b[38;5;124m\"\u001b[39m\u001b[38;5;124mxlsx2csv\u001b[39m\u001b[38;5;124m\"\u001b[39m)\n",
      "\u001b[0;31mFileNotFoundError\u001b[0m: /mnt/d/data/Com8_equal_conc_comb/20230327_WKL_P0024.xlsx"
     ]
    }
   ],
   "source": [
    "comb = pl.read_excel(os.path.join(com_dirs[0], \"00_Methods+WKL/20220913_WKL_Andi.xlsx\"), read_options={\"has_header\": False})\n",
    "comb"
   ]
  },
  {
   "cell_type": "code",
   "execution_count": null,
   "metadata": {},
   "outputs": [],
   "source": []
  },
  {
   "cell_type": "code",
   "execution_count": 88,
   "metadata": {},
   "outputs": [
    {
     "data": {
      "text/html": [
       "<div><style>\n",
       ".dataframe > thead > tr,\n",
       ".dataframe > tbody > tr {\n",
       "  text-align: right;\n",
       "  white-space: pre-wrap;\n",
       "}\n",
       "</style>\n",
       "<small>shape: (20, 2)</small><table border=\"1\" class=\"dataframe\"><thead><tr><th>ID</th><th>Organism</th></tr><tr><td>str</td><td>str</td></tr></thead><tbody><tr><td>&quot;NT5001&quot;</td><td>&quot;Phocaeicola vu…</td></tr><tr><td>&quot;NT5002&quot;</td><td>&quot;Bacteroides un…</td></tr><tr><td>&quot;NT5003&quot;</td><td>&quot;Bacteroides fr…</td></tr><tr><td>&quot;NT5004&quot;</td><td>&quot;Bacteroides th…</td></tr><tr><td>&quot;NT5006&quot;</td><td>&quot;Thomasclavelia…</td></tr><tr><td>&hellip;</td><td>&hellip;</td></tr><tr><td>&quot;NT5048&quot;</td><td>&quot;Bariatricus co…</td></tr><tr><td>&quot;NT5071&quot;</td><td>&quot;Parabacteroide…</td></tr><tr><td>&quot;NT5072&quot;</td><td>&quot;Streptococcus …</td></tr><tr><td>&quot;NT5073&quot;</td><td>&quot;Collinsella ae…</td></tr><tr><td>&quot;NT5076&quot;</td><td>&quot;Dorea formicig…</td></tr></tbody></table></div>"
      ],
      "text/plain": [
       "shape: (20, 2)\n",
       "┌────────┬──────────────────────────────┐\n",
       "│ ID     ┆ Organism                     │\n",
       "│ ---    ┆ ---                          │\n",
       "│ str    ┆ str                          │\n",
       "╞════════╪══════════════════════════════╡\n",
       "│ NT5001 ┆ Phocaeicola vulgatus         │\n",
       "│ NT5002 ┆ Bacteroides uniformis        │\n",
       "│ NT5003 ┆ Bacteroides fragilis         │\n",
       "│ NT5004 ┆ Bacteroides thetaiotaomicron │\n",
       "│ NT5006 ┆ Thomasclavelia ramosum       │\n",
       "│ …      ┆ …                            │\n",
       "│ NT5048 ┆ Bariatricus comes            │\n",
       "│ NT5071 ┆ Parabacteroides merdae       │\n",
       "│ NT5072 ┆ Streptococcus parasanguinis  │\n",
       "│ NT5073 ┆ Collinsella aerofaciens      │\n",
       "│ NT5076 ┆ Dorea formicigenerans        │\n",
       "└────────┴──────────────────────────────┘"
      ]
     },
     "execution_count": 88,
     "metadata": {},
     "output_type": "execute_result"
    }
   ],
   "source": [
    "orgs = pl.read_csv(os.path.join(base, f\"{com}_microbes.tsv\"), separator=\"\\t\")\n",
    "orgs"
   ]
  },
  {
   "cell_type": "code",
   "execution_count": 5,
   "metadata": {},
   "outputs": [
    {
     "ename": "NameError",
     "evalue": "name 'comb' is not defined",
     "output_type": "error",
     "traceback": [
      "\u001b[0;31m---------------------------------------------------------------------------\u001b[0m",
      "\u001b[0;31mNameError\u001b[0m                                 Traceback (most recent call last)",
      "Cell \u001b[0;32mIn[5], line 2\u001b[0m\n\u001b[1;32m      1\u001b[0m rows \u001b[38;5;241m=\u001b[39m []\n\u001b[0;32m----> 2\u001b[0m \u001b[38;5;28;01mfor\u001b[39;00m row \u001b[38;5;129;01min\u001b[39;00m \u001b[43mcomb\u001b[49m[::\u001b[38;5;241m2\u001b[39m]\u001b[38;5;241m.\u001b[39miter_rows():\n\u001b[1;32m      3\u001b[0m     row \u001b[38;5;241m=\u001b[39m row[\u001b[38;5;241m2\u001b[39m]\n\u001b[1;32m      4\u001b[0m     rows\u001b[38;5;241m.\u001b[39mappend(pl\u001b[38;5;241m.\u001b[39mDataFrame([\u001b[38;5;241m1\u001b[39m \u001b[38;5;28;01mif\u001b[39;00m i \u001b[38;5;129;01min\u001b[39;00m row \u001b[38;5;28;01melse\u001b[39;00m \u001b[38;5;241m0\u001b[39m \u001b[38;5;28;01mfor\u001b[39;00m i \u001b[38;5;129;01min\u001b[39;00m orgs[\u001b[38;5;124m\"\u001b[39m\u001b[38;5;124mID\u001b[39m\u001b[38;5;124m\"\u001b[39m]])\u001b[38;5;241m.\u001b[39mtranspose())\n",
      "\u001b[0;31mNameError\u001b[0m: name 'comb' is not defined"
     ]
    }
   ],
   "source": [
    "rows = []\n",
    "for row in comb[::2].iter_rows():\n",
    "    row = row[2]\n",
    "    rows.append(pl.DataFrame([1 if i in row else 0 for i in orgs[\"ID\"]]).transpose())\n",
    "comb_one_hot_df = pl.concat(rows)\n",
    "comb_one_hot_df.columns = [str(i) for i in range(len(orgs))]\n",
    "comb_one_hot_df[20:30]"
   ]
  },
  {
   "cell_type": "code",
   "execution_count": 104,
   "metadata": {},
   "outputs": [],
   "source": [
    "comb_one_hot_df.write_csv(os.path.join(com_dirs[1], \"comb_one_hot.tsv\"), separator=\"\\t\")"
   ]
  },
  {
   "cell_type": "code",
   "execution_count": null,
   "metadata": {},
   "outputs": [],
   "source": []
  }
 ],
 "metadata": {
  "kernelspec": {
   "display_name": "VAE",
   "language": "python",
   "name": "python3"
  },
  "language_info": {
   "codemirror_mode": {
    "name": "ipython",
    "version": 3
   },
   "file_extension": ".py",
   "mimetype": "text/x-python",
   "name": "python",
   "nbconvert_exporter": "python",
   "pygments_lexer": "ipython3",
   "version": "3.11.8"
  }
 },
 "nbformat": 4,
 "nbformat_minor": 2
}
