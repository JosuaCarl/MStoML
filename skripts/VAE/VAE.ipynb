{
 "cells": [
  {
   "cell_type": "code",
   "execution_count": 1,
   "metadata": {},
   "outputs": [],
   "source": [
    "import sys\n",
    "sys.path.append(\"..\")\n",
    "from VAE.vae import *"
   ]
  },
  {
   "cell_type": "code",
   "execution_count": 150,
   "metadata": {},
   "outputs": [],
   "source": [
    "config_space = ConfigurationSpace(\n",
    "                {'input_dropout': 0.1, 'intermediate_activation': \"relu\", 'intermediate_dimension': 30,\n",
    "                'intermediate_layers': 3, 'latent_dimension': 3, 'learning_rate': 0.0001,\n",
    "                'original_dim': 825000, 'solver': 'nadam'}\n",
    "            )\n",
    "config = config_space.get_default_configuration()"
   ]
  },
  {
   "cell_type": "code",
   "execution_count": 166,
   "metadata": {},
   "outputs": [],
   "source": [
    "from keras import initializers, regularizers , constraints\n",
    "\n",
    "class DenseTied(keras.layers.Layer):\n",
    "  def __init__(self, tie, activation=None, **kwargs):\n",
    "      self.tie = tie\n",
    "      self.activation = keras.activations.get(activation)\n",
    "      super().__init__(**kwargs)\n",
    "  def build(self, batch_input_shape):\n",
    "      self.biases = self.add_weight(name=\"bias\", initializer=\"zeros\", shape=[ops.shape(self.tie.input)[-1]])\n",
    "      self.kernel = ops.transpose(self.tie.kernel)\n",
    "      self.non_trainable_weights.append(self.kernel)\n",
    "      self.built = True\n",
    "      super().build(batch_input_shape)\n",
    "  def call(self, inputs):\n",
    "      z = ops.matmul(inputs,self.kernel)\n",
    "      return self.activation(z + self.biases)"
   ]
  },
  {
   "cell_type": "code",
   "execution_count": 167,
   "metadata": {},
   "outputs": [],
   "source": [
    "@keras.saving.register_keras_serializable(package=\"FIA_VAE\")\n",
    "class FIA_VAE(Model):\n",
    "    \"\"\"\n",
    "    A variational autoencoder for flow injection analysis\n",
    "    \"\"\"\n",
    "    def __init__(self, config:Union[Configuration, dict]):\n",
    "        super().__init__()\n",
    "        self.config             = config\n",
    "        intermediate_dims       = [i for i in range(config[\"intermediate_layers\"]) \n",
    "                                    if config[\"intermediate_dimension\"] // 2**i > config[\"latent_dimension\"]]\n",
    "        activation_function     = self.get_activation_function( config[\"intermediate_activation\"] )\n",
    "\n",
    "        # Encoder (with sucessive halfing of intermediate dimension)\n",
    "        self.dropout            = Dropout( config[\"input_dropout\"] , name=\"dropout\")        \n",
    "        self.intermediate_enc   = Sequential ( [ Input(shape=(config[\"original_dim\"],), name='encoder_input') ] +\n",
    "                                               [ Dense( config[\"intermediate_dimension\"] // 2**i,\n",
    "                                                        activation=activation_function ) \n",
    "                                                for i in intermediate_dims] +\n",
    "                                               [ Dense( config[\"latent_dimension\"] ) ] , name=\"encoder_intermediate\")\n",
    "\n",
    "        self.mu_encoder         = Dense( config[\"latent_dimension\"], name='latent_mu' )\n",
    "        self.sigma_encoder      = Dense( config[\"latent_dimension\"], name='latent_sigma' )\n",
    "        self.z_encoder          = self.Sampling(name=\"latent_reparametrization\") \n",
    "\n",
    "        # Decoder\n",
    "        self.decoder            = Sequential( [ Input(shape=(config[\"latent_dimension\"], ), name='decoder_input') ] +\n",
    "                                              [ DenseTied( tie=self.intermediate_enc.get_layer(index=i+1),\n",
    "                                                           activation=activation_function )\n",
    "                                               for i in reversed(intermediate_dims) ] +\n",
    "                                              [ Dense(config[\"original_dim\"], activation=\"relu\") ] , name=\"Decoder\")\n",
    "\n",
    "        # Define optimizer\n",
    "        self.optimizer          = self.get_solver( config[\"solver\"] )( config[\"learning_rate\"] )\n",
    "\n",
    "        # Compile VAE\n",
    "        self.compile(optimizer=self.optimizer)\n",
    "\n",
    "        # Loss trackers\n",
    "        self.reconstruction_loss    = metrics.Mean(name=\"reconstruction_loss\")\n",
    "        self.kl_loss                = metrics.Mean(name=\"kl_loss\")\n",
    "        self.loss_tracker           = metrics.Mean(name=\"loss\")\n",
    "\n",
    "    \n",
    "    def get_activation_function(self, activation_function:str):\n",
    "        \"\"\"\n",
    "        Convert an activation function string into a keras function\n",
    "\n",
    "        Args:\n",
    "            activation_function (str): Activation function in string representation\n",
    "        Returns:\n",
    "            Activation function as keras.activations or keras.layers\n",
    "        \"\"\"\n",
    "        activation_functions = {\"relu\": activations.relu, \"leakyrelu\" :layers.LeakyReLU(), \"selu\": activations.selu, \"tanh\": activations.tanh}\n",
    "        return activation_functions[activation_function]\n",
    "\n",
    "    \n",
    "    def get_solver(self, solver:str):\n",
    "        \"\"\"\n",
    "        Convert an solver string into a keras function\n",
    "\n",
    "        Args:\n",
    "            solver (str): Solver in string representation \n",
    "        Returns:\n",
    "            solver as a keras.optimizers class\n",
    "        \"\"\"\n",
    "        solvers = {\"adam\": optimizers.Adam, \"nadam\": optimizers.Nadam, \"adamw\": optimizers.AdamW}\n",
    "        return solvers[solver]\n",
    "    \n",
    "    class Sampling(layers.Layer):\n",
    "        \"\"\"\n",
    "        Uses (z_mean, z_log_var) to sample z, the vector encoding a digit.\n",
    "        \"\"\"\n",
    "        def call(self, inputs):\n",
    "            z_mean, z_log_var = inputs\n",
    "            z_mean_shape = ops.shape(z_mean)\n",
    "            batch   = z_mean_shape[0]\n",
    "            dim     = z_mean_shape[1]\n",
    "            epsilon = keras.random.normal(shape=(batch,dim))\n",
    "            return ops.multiply(ops.add(z_mean, ops.exp(0.5 * z_log_var)), epsilon)\n",
    "\n",
    "    def kl_reconstruction_loss(self, y_true, y_pred):\n",
    "        \"\"\"\n",
    "        Loss function for Kullback-Leibler + Reconstruction loss\n",
    "\n",
    "        Args:\n",
    "            true: True values\n",
    "            pred: Predicted values\n",
    "        Returns:\n",
    "            Loss = Kullback-Leibler + Reconstruction loss\n",
    "        \"\"\"\n",
    "        reconstruction_loss = losses.mean_absolute_error(y_true, y_pred)\n",
    "        kl_loss = -0.5 * ops.sum( 1.0 + self.sigma - ops.square(self.mu) - ops.exp(self.sigma) )\n",
    "        loss = reconstruction_loss + kl_loss\n",
    "        \n",
    "        return {\"reconstruction_loss\": reconstruction_loss, \"kl_loss\": kl_loss, \"loss\": loss}\n",
    "\n",
    "    @property\n",
    "    def metrics(self):\n",
    "        return [self.loss_tracker, self.reconstruction_loss, self.kl_loss]\n",
    "    \n",
    "    def get_config(self):\n",
    "        return {\"config\": dict(self.config)}\n",
    "\n",
    "    def call(self, data, training=False):\n",
    "        x = self.dropout(data, training=training)\n",
    "        return self.decode(self.encode(x))\n",
    "\n",
    "    def encode(self, data):\n",
    "        x = self.intermediate_enc(data)\n",
    "        self.mu = self.mu_encoder(x)\n",
    "        self.sigma = self.sigma_encoder(x)\n",
    "        self.z = self.z_encoder( [self.mu, self.sigma] )\n",
    "        return self.z\n",
    "    \n",
    "    def encode_mu(self, data):\n",
    "        x = self.intermediate_enc(data)\n",
    "        return self.mu(x)\n",
    "    \n",
    "    def decode(self, x):\n",
    "        return self.decoder(x)\n",
    "\n",
    "    def train_step(self, data):\n",
    "        x, y = data\n",
    "        with tf.GradientTape() as tape:\n",
    "            y_pred = self(x, training=True)  # Forward pass\n",
    "            # Compute our own loss\n",
    "            loss = self.kl_reconstruction_loss(y, y_pred)\n",
    "\n",
    "        # Compute gradients\n",
    "        trainable_vars = self.trainable_variables\n",
    "        gradients = tape.gradient(loss, trainable_vars)\n",
    "\n",
    "        # Update weights\n",
    "        self.optimizer.apply_gradients(zip(gradients, trainable_vars))\n",
    "\n",
    "        self.reconstruction_loss.update_state( loss[\"reconstruction_loss\"] )\n",
    "        self.kl_loss.update_state( loss[\"kl_loss\"] )\n",
    "        self.loss_tracker.update_state( loss[\"loss\"] )\n",
    "        return loss\n",
    "    \n",
    "    def test_step(self, data):\n",
    "        x, y = data\n",
    "        y_pred = self(x, training=False)\n",
    "        loss = self.kl_reconstruction_loss(y, y_pred)\n",
    "        self.reconstruction_loss.update_state( loss[\"reconstruction_loss\"] )\n",
    "        self.kl_loss.update_state( loss[\"kl_loss\"] )\n",
    "        self.loss_tracker.update_state( loss[\"loss\"] )\n",
    "        return loss"
   ]
  },
  {
   "cell_type": "code",
   "execution_count": null,
   "metadata": {},
   "outputs": [],
   "source": [
    "model = FIA_VAE(config)"
   ]
  },
  {
   "cell_type": "code",
   "execution_count": 168,
   "metadata": {},
   "outputs": [
    {
     "data": {
      "text/html": [
       "<pre style=\"white-space:pre;overflow-x:auto;line-height:normal;font-family:Menlo,'DejaVu Sans Mono',consolas,'Courier New',monospace\"><span style=\"font-weight: bold\">Model: \"encoder_intermediate\"</span>\n",
       "</pre>\n"
      ],
      "text/plain": [
       "\u001b[1mModel: \"encoder_intermediate\"\u001b[0m\n"
      ]
     },
     "metadata": {},
     "output_type": "display_data"
    },
    {
     "data": {
      "text/html": [
       "<pre style=\"white-space:pre;overflow-x:auto;line-height:normal;font-family:Menlo,'DejaVu Sans Mono',consolas,'Courier New',monospace\">┏━━━━━━━━━━━━━━━━━━━━━━━━━━━━━━━━━┳━━━━━━━━━━━━━━━━━━━━━━━━┳━━━━━━━━━━━━━━━┓\n",
       "┃<span style=\"font-weight: bold\"> Layer (type)                    </span>┃<span style=\"font-weight: bold\"> Output Shape           </span>┃<span style=\"font-weight: bold\">       Param # </span>┃\n",
       "┡━━━━━━━━━━━━━━━━━━━━━━━━━━━━━━━━━╇━━━━━━━━━━━━━━━━━━━━━━━━╇━━━━━━━━━━━━━━━┩\n",
       "│ dense_209 (<span style=\"color: #0087ff; text-decoration-color: #0087ff\">Dense</span>)               │ (<span style=\"color: #00d7ff; text-decoration-color: #00d7ff\">None</span>, <span style=\"color: #00af00; text-decoration-color: #00af00\">30</span>)             │    <span style=\"color: #00af00; text-decoration-color: #00af00\">24,750,030</span> │\n",
       "├─────────────────────────────────┼────────────────────────┼───────────────┤\n",
       "│ dense_210 (<span style=\"color: #0087ff; text-decoration-color: #0087ff\">Dense</span>)               │ (<span style=\"color: #00d7ff; text-decoration-color: #00d7ff\">None</span>, <span style=\"color: #00af00; text-decoration-color: #00af00\">15</span>)             │           <span style=\"color: #00af00; text-decoration-color: #00af00\">465</span> │\n",
       "├─────────────────────────────────┼────────────────────────┼───────────────┤\n",
       "│ dense_211 (<span style=\"color: #0087ff; text-decoration-color: #0087ff\">Dense</span>)               │ (<span style=\"color: #00d7ff; text-decoration-color: #00d7ff\">None</span>, <span style=\"color: #00af00; text-decoration-color: #00af00\">7</span>)              │           <span style=\"color: #00af00; text-decoration-color: #00af00\">112</span> │\n",
       "├─────────────────────────────────┼────────────────────────┼───────────────┤\n",
       "│ dense_212 (<span style=\"color: #0087ff; text-decoration-color: #0087ff\">Dense</span>)               │ (<span style=\"color: #00d7ff; text-decoration-color: #00d7ff\">None</span>, <span style=\"color: #00af00; text-decoration-color: #00af00\">3</span>)              │            <span style=\"color: #00af00; text-decoration-color: #00af00\">24</span> │\n",
       "└─────────────────────────────────┴────────────────────────┴───────────────┘\n",
       "</pre>\n"
      ],
      "text/plain": [
       "┏━━━━━━━━━━━━━━━━━━━━━━━━━━━━━━━━━┳━━━━━━━━━━━━━━━━━━━━━━━━┳━━━━━━━━━━━━━━━┓\n",
       "┃\u001b[1m \u001b[0m\u001b[1mLayer (type)                   \u001b[0m\u001b[1m \u001b[0m┃\u001b[1m \u001b[0m\u001b[1mOutput Shape          \u001b[0m\u001b[1m \u001b[0m┃\u001b[1m \u001b[0m\u001b[1m      Param #\u001b[0m\u001b[1m \u001b[0m┃\n",
       "┡━━━━━━━━━━━━━━━━━━━━━━━━━━━━━━━━━╇━━━━━━━━━━━━━━━━━━━━━━━━╇━━━━━━━━━━━━━━━┩\n",
       "│ dense_209 (\u001b[38;5;33mDense\u001b[0m)               │ (\u001b[38;5;45mNone\u001b[0m, \u001b[38;5;34m30\u001b[0m)             │    \u001b[38;5;34m24,750,030\u001b[0m │\n",
       "├─────────────────────────────────┼────────────────────────┼───────────────┤\n",
       "│ dense_210 (\u001b[38;5;33mDense\u001b[0m)               │ (\u001b[38;5;45mNone\u001b[0m, \u001b[38;5;34m15\u001b[0m)             │           \u001b[38;5;34m465\u001b[0m │\n",
       "├─────────────────────────────────┼────────────────────────┼───────────────┤\n",
       "│ dense_211 (\u001b[38;5;33mDense\u001b[0m)               │ (\u001b[38;5;45mNone\u001b[0m, \u001b[38;5;34m7\u001b[0m)              │           \u001b[38;5;34m112\u001b[0m │\n",
       "├─────────────────────────────────┼────────────────────────┼───────────────┤\n",
       "│ dense_212 (\u001b[38;5;33mDense\u001b[0m)               │ (\u001b[38;5;45mNone\u001b[0m, \u001b[38;5;34m3\u001b[0m)              │            \u001b[38;5;34m24\u001b[0m │\n",
       "└─────────────────────────────────┴────────────────────────┴───────────────┘\n"
      ]
     },
     "metadata": {},
     "output_type": "display_data"
    },
    {
     "data": {
      "text/html": [
       "<pre style=\"white-space:pre;overflow-x:auto;line-height:normal;font-family:Menlo,'DejaVu Sans Mono',consolas,'Courier New',monospace\"><span style=\"font-weight: bold\"> Total params: </span><span style=\"color: #00af00; text-decoration-color: #00af00\">24,750,631</span> (94.42 MB)\n",
       "</pre>\n"
      ],
      "text/plain": [
       "\u001b[1m Total params: \u001b[0m\u001b[38;5;34m24,750,631\u001b[0m (94.42 MB)\n"
      ]
     },
     "metadata": {},
     "output_type": "display_data"
    },
    {
     "data": {
      "text/html": [
       "<pre style=\"white-space:pre;overflow-x:auto;line-height:normal;font-family:Menlo,'DejaVu Sans Mono',consolas,'Courier New',monospace\"><span style=\"font-weight: bold\"> Trainable params: </span><span style=\"color: #00af00; text-decoration-color: #00af00\">24,750,631</span> (94.42 MB)\n",
       "</pre>\n"
      ],
      "text/plain": [
       "\u001b[1m Trainable params: \u001b[0m\u001b[38;5;34m24,750,631\u001b[0m (94.42 MB)\n"
      ]
     },
     "metadata": {},
     "output_type": "display_data"
    },
    {
     "data": {
      "text/html": [
       "<pre style=\"white-space:pre;overflow-x:auto;line-height:normal;font-family:Menlo,'DejaVu Sans Mono',consolas,'Courier New',monospace\"><span style=\"font-weight: bold\"> Non-trainable params: </span><span style=\"color: #00af00; text-decoration-color: #00af00\">0</span> (0.00 B)\n",
       "</pre>\n"
      ],
      "text/plain": [
       "\u001b[1m Non-trainable params: \u001b[0m\u001b[38;5;34m0\u001b[0m (0.00 B)\n"
      ]
     },
     "metadata": {},
     "output_type": "display_data"
    }
   ],
   "source": [
    "model.intermediate_enc.summary()"
   ]
  },
  {
   "cell_type": "code",
   "execution_count": 165,
   "metadata": {},
   "outputs": [
    {
     "data": {
      "text/html": [
       "<pre style=\"white-space:pre;overflow-x:auto;line-height:normal;font-family:Menlo,'DejaVu Sans Mono',consolas,'Courier New',monospace\"><span style=\"font-weight: bold\">Model: \"fia_vae_40\"</span>\n",
       "</pre>\n"
      ],
      "text/plain": [
       "\u001b[1mModel: \"fia_vae_40\"\u001b[0m\n"
      ]
     },
     "metadata": {},
     "output_type": "display_data"
    },
    {
     "data": {
      "text/html": [
       "<pre style=\"white-space:pre;overflow-x:auto;line-height:normal;font-family:Menlo,'DejaVu Sans Mono',consolas,'Courier New',monospace\">┏━━━━━━━━━━━━━━━━━━━━━━━━━━━━━━━━━┳━━━━━━━━━━━━━━━━━━━━━━━━┳━━━━━━━━━━━━━━━┓\n",
       "┃<span style=\"font-weight: bold\"> Layer (type)                    </span>┃<span style=\"font-weight: bold\"> Output Shape           </span>┃<span style=\"font-weight: bold\">       Param # </span>┃\n",
       "┡━━━━━━━━━━━━━━━━━━━━━━━━━━━━━━━━━╇━━━━━━━━━━━━━━━━━━━━━━━━╇━━━━━━━━━━━━━━━┩\n",
       "│ dropout (<span style=\"color: #0087ff; text-decoration-color: #0087ff\">Dropout</span>)               │ ?                      │             <span style=\"color: #00af00; text-decoration-color: #00af00\">0</span> │\n",
       "├─────────────────────────────────┼────────────────────────┼───────────────┤\n",
       "│ encoder_intermediate            │ ?                      │    <span style=\"color: #00af00; text-decoration-color: #00af00\">24,750,631</span> │\n",
       "│ (<span style=\"color: #0087ff; text-decoration-color: #0087ff\">Sequential</span>)                    │                        │               │\n",
       "├─────────────────────────────────┼────────────────────────┼───────────────┤\n",
       "│ latent_mu (<span style=\"color: #0087ff; text-decoration-color: #0087ff\">Dense</span>)               │ ?                      │   <span style=\"color: #00af00; text-decoration-color: #00af00\">0</span> (unbuilt) │\n",
       "├─────────────────────────────────┼────────────────────────┼───────────────┤\n",
       "│ latent_sigma (<span style=\"color: #0087ff; text-decoration-color: #0087ff\">Dense</span>)            │ ?                      │   <span style=\"color: #00af00; text-decoration-color: #00af00\">0</span> (unbuilt) │\n",
       "├─────────────────────────────────┼────────────────────────┼───────────────┤\n",
       "│ latent_reparametrization        │ ?                      │   <span style=\"color: #00af00; text-decoration-color: #00af00\">0</span> (unbuilt) │\n",
       "│ (<span style=\"color: #0087ff; text-decoration-color: #0087ff\">Sampling</span>)                      │                        │               │\n",
       "├─────────────────────────────────┼────────────────────────┼───────────────┤\n",
       "│ Decoder (<span style=\"color: #0087ff; text-decoration-color: #0087ff\">Sequential</span>)            │ ?                      │    <span style=\"color: #00af00; text-decoration-color: #00af00\">25,575,653</span> │\n",
       "└─────────────────────────────────┴────────────────────────┴───────────────┘\n",
       "</pre>\n"
      ],
      "text/plain": [
       "┏━━━━━━━━━━━━━━━━━━━━━━━━━━━━━━━━━┳━━━━━━━━━━━━━━━━━━━━━━━━┳━━━━━━━━━━━━━━━┓\n",
       "┃\u001b[1m \u001b[0m\u001b[1mLayer (type)                   \u001b[0m\u001b[1m \u001b[0m┃\u001b[1m \u001b[0m\u001b[1mOutput Shape          \u001b[0m\u001b[1m \u001b[0m┃\u001b[1m \u001b[0m\u001b[1m      Param #\u001b[0m\u001b[1m \u001b[0m┃\n",
       "┡━━━━━━━━━━━━━━━━━━━━━━━━━━━━━━━━━╇━━━━━━━━━━━━━━━━━━━━━━━━╇━━━━━━━━━━━━━━━┩\n",
       "│ dropout (\u001b[38;5;33mDropout\u001b[0m)               │ ?                      │             \u001b[38;5;34m0\u001b[0m │\n",
       "├─────────────────────────────────┼────────────────────────┼───────────────┤\n",
       "│ encoder_intermediate            │ ?                      │    \u001b[38;5;34m24,750,631\u001b[0m │\n",
       "│ (\u001b[38;5;33mSequential\u001b[0m)                    │                        │               │\n",
       "├─────────────────────────────────┼────────────────────────┼───────────────┤\n",
       "│ latent_mu (\u001b[38;5;33mDense\u001b[0m)               │ ?                      │   \u001b[38;5;34m0\u001b[0m (unbuilt) │\n",
       "├─────────────────────────────────┼────────────────────────┼───────────────┤\n",
       "│ latent_sigma (\u001b[38;5;33mDense\u001b[0m)            │ ?                      │   \u001b[38;5;34m0\u001b[0m (unbuilt) │\n",
       "├─────────────────────────────────┼────────────────────────┼───────────────┤\n",
       "│ latent_reparametrization        │ ?                      │   \u001b[38;5;34m0\u001b[0m (unbuilt) │\n",
       "│ (\u001b[38;5;33mSampling\u001b[0m)                      │                        │               │\n",
       "├─────────────────────────────────┼────────────────────────┼───────────────┤\n",
       "│ Decoder (\u001b[38;5;33mSequential\u001b[0m)            │ ?                      │    \u001b[38;5;34m25,575,653\u001b[0m │\n",
       "└─────────────────────────────────┴────────────────────────┴───────────────┘\n"
      ]
     },
     "metadata": {},
     "output_type": "display_data"
    },
    {
     "data": {
      "text/html": [
       "<pre style=\"white-space:pre;overflow-x:auto;line-height:normal;font-family:Menlo,'DejaVu Sans Mono',consolas,'Courier New',monospace\"><span style=\"font-weight: bold\"> Total params: </span><span style=\"color: #00af00; text-decoration-color: #00af00\">50,325,683</span> (191.98 MB)\n",
       "</pre>\n"
      ],
      "text/plain": [
       "\u001b[1m Total params: \u001b[0m\u001b[38;5;34m50,325,683\u001b[0m (191.98 MB)\n"
      ]
     },
     "metadata": {},
     "output_type": "display_data"
    },
    {
     "data": {
      "text/html": [
       "<pre style=\"white-space:pre;overflow-x:auto;line-height:normal;font-family:Menlo,'DejaVu Sans Mono',consolas,'Courier New',monospace\"><span style=\"font-weight: bold\"> Trainable params: </span><span style=\"color: #00af00; text-decoration-color: #00af00\">50,325,683</span> (191.98 MB)\n",
       "</pre>\n"
      ],
      "text/plain": [
       "\u001b[1m Trainable params: \u001b[0m\u001b[38;5;34m50,325,683\u001b[0m (191.98 MB)\n"
      ]
     },
     "metadata": {},
     "output_type": "display_data"
    },
    {
     "data": {
      "text/html": [
       "<pre style=\"white-space:pre;overflow-x:auto;line-height:normal;font-family:Menlo,'DejaVu Sans Mono',consolas,'Courier New',monospace\"><span style=\"font-weight: bold\"> Non-trainable params: </span><span style=\"color: #00af00; text-decoration-color: #00af00\">0</span> (0.00 B)\n",
       "</pre>\n"
      ],
      "text/plain": [
       "\u001b[1m Non-trainable params: \u001b[0m\u001b[38;5;34m0\u001b[0m (0.00 B)\n"
      ]
     },
     "metadata": {},
     "output_type": "display_data"
    }
   ],
   "source": [
    "model.summary()"
   ]
  },
  {
   "cell_type": "markdown",
   "metadata": {},
   "source": [
    "## Saving"
   ]
  },
  {
   "cell_type": "code",
   "execution_count": 169,
   "metadata": {},
   "outputs": [
    {
     "name": "stderr",
     "output_type": "stream",
     "text": [
      "/mnt/lustre/groups/link/linca945/.conda/envs/FIA_VAE/lib/python3.11/site-packages/keras/src/saving/saving_api.py:100: UserWarning: You are saving a model that has not yet been built. It might not contain any weights yet. Consider building the model first by calling it on some data.\n",
      "  saving_lib.save_model(model, filepath)\n"
     ]
    }
   ],
   "source": [
    "keras.saving.save_model(model, \"../../runs/VAE/training/test.keras\")"
   ]
  },
  {
   "cell_type": "code",
   "execution_count": 170,
   "metadata": {},
   "outputs": [],
   "source": [
    "model.save_weights(\"../../runs/VAE/training/test.weights.h5\")"
   ]
  },
  {
   "cell_type": "markdown",
   "metadata": {},
   "source": [
    "## Loading"
   ]
  },
  {
   "cell_type": "code",
   "execution_count": 171,
   "metadata": {},
   "outputs": [],
   "source": [
    "model2 = keras.saving.load_model(\"../../runs/VAE/training/test.keras\")"
   ]
  },
  {
   "cell_type": "code",
   "execution_count": 172,
   "metadata": {},
   "outputs": [],
   "source": [
    "model2.load_weights(\"../../runs/VAE/training/test.weights.h5\")"
   ]
  },
  {
   "cell_type": "markdown",
   "metadata": {},
   "source": [
    "## Testing"
   ]
  },
  {
   "cell_type": "code",
   "execution_count": 173,
   "metadata": {},
   "outputs": [],
   "source": [
    "data_dir  = os.path.normpath(os.path.join(os.getcwd(), \"../../runs/FIA/Com8_grown_together/oms\"))\n",
    "data = read_data(data_dir, verbosity=0)"
   ]
  },
  {
   "cell_type": "code",
   "execution_count": 174,
   "metadata": {},
   "outputs": [],
   "source": [
    "X = np.random.normal(0.0, 1.0, size=(5, 825000))"
   ]
  },
  {
   "cell_type": "code",
   "execution_count": 175,
   "metadata": {},
   "outputs": [],
   "source": [
    "callbacks = [ keras.callbacks.ModelCheckpoint( filepath=\"../../runs/VAE/training/test_{epoch}.keras\",\n",
    "                                                       save_best_only=True, monitor=\"val_loss\",\n",
    "                                                       verbose=1 )]"
   ]
  },
  {
   "cell_type": "code",
   "execution_count": 177,
   "metadata": {},
   "outputs": [
    {
     "name": "stdout",
     "output_type": "stream",
     "text": [
      "Epoch 1/10\n",
      "\u001b[1m27/27\u001b[0m \u001b[32m━━━━━━━━━━━━━━━━━━━━\u001b[0m\u001b[37m\u001b[0m \u001b[1m0s\u001b[0m 338ms/step - kl_loss: 1.0046e-05 - loss: 7.5954e-04 - reconstruction_loss: 7.4949e-04\n",
      "Epoch 1: val_loss improved from 0.84002 to 0.00037, saving model to ../../runs/VAE/training/test_1.keras\n",
      "\u001b[1m27/27\u001b[0m \u001b[32m━━━━━━━━━━━━━━━━━━━━\u001b[0m\u001b[37m\u001b[0m \u001b[1m23s\u001b[0m 875ms/step - kl_loss: 1.0046e-05 - loss: 7.5954e-04 - reconstruction_loss: 7.4949e-04 - val_kl_loss: 1.2036e-05 - val_loss: 3.7028e-04 - val_reconstruction_loss: 3.5824e-04\n",
      "Epoch 2/10\n",
      "\u001b[1m27/27\u001b[0m \u001b[32m━━━━━━━━━━━━━━━━━━━━\u001b[0m\u001b[37m\u001b[0m \u001b[1m0s\u001b[0m 320ms/step - kl_loss: 1.2471e-05 - loss: 3.0458e-04 - reconstruction_loss: 2.9211e-04\n",
      "Epoch 2: val_loss improved from 0.00037 to 0.00005, saving model to ../../runs/VAE/training/test_2.keras\n",
      "\u001b[1m27/27\u001b[0m \u001b[32m━━━━━━━━━━━━━━━━━━━━\u001b[0m\u001b[37m\u001b[0m \u001b[1m10s\u001b[0m 378ms/step - kl_loss: 1.2471e-05 - loss: 3.0458e-04 - reconstruction_loss: 2.9211e-04 - val_kl_loss: 1.2636e-05 - val_loss: 5.2885e-05 - val_reconstruction_loss: 4.0249e-05\n",
      "Epoch 3/10\n",
      "\u001b[1m27/27\u001b[0m \u001b[32m━━━━━━━━━━━━━━━━━━━━\u001b[0m\u001b[37m\u001b[0m \u001b[1m0s\u001b[0m 335ms/step - kl_loss: 1.2674e-05 - loss: 1.0618e-04 - reconstruction_loss: 9.3509e-05\n",
      "Epoch 3: val_loss did not improve from 0.00005\n",
      "\u001b[1m27/27\u001b[0m \u001b[32m━━━━━━━━━━━━━━━━━━━━\u001b[0m\u001b[37m\u001b[0m \u001b[1m9s\u001b[0m 342ms/step - kl_loss: 1.2674e-05 - loss: 1.0618e-04 - reconstruction_loss: 9.3509e-05 - val_kl_loss: 1.2640e-05 - val_loss: 1.1241e-04 - val_reconstruction_loss: 9.9765e-05\n",
      "Epoch 4/10\n",
      "\u001b[1m27/27\u001b[0m \u001b[32m━━━━━━━━━━━━━━━━━━━━\u001b[0m\u001b[37m\u001b[0m \u001b[1m0s\u001b[0m 315ms/step - kl_loss: 1.2647e-05 - loss: 4.1672e-05 - reconstruction_loss: 2.9025e-05\n",
      "Epoch 4: val_loss improved from 0.00005 to 0.00002, saving model to ../../runs/VAE/training/test_4.keras\n",
      "\u001b[1m27/27\u001b[0m \u001b[32m━━━━━━━━━━━━━━━━━━━━\u001b[0m\u001b[37m\u001b[0m \u001b[1m10s\u001b[0m 376ms/step - kl_loss: 1.2647e-05 - loss: 4.1672e-05 - reconstruction_loss: 2.9025e-05 - val_kl_loss: 1.2632e-05 - val_loss: 2.1259e-05 - val_reconstruction_loss: 8.6271e-06\n",
      "Epoch 5/10\n",
      "\u001b[1m27/27\u001b[0m \u001b[32m━━━━━━━━━━━━━━━━━━━━\u001b[0m\u001b[37m\u001b[0m \u001b[1m0s\u001b[0m 324ms/step - kl_loss: 1.2621e-05 - loss: 3.0805e-05 - reconstruction_loss: 1.8185e-05\n",
      "Epoch 5: val_loss improved from 0.00002 to 0.00001, saving model to ../../runs/VAE/training/test_5.keras\n",
      "\u001b[1m27/27\u001b[0m \u001b[32m━━━━━━━━━━━━━━━━━━━━\u001b[0m\u001b[37m\u001b[0m \u001b[1m10s\u001b[0m 384ms/step - kl_loss: 1.2621e-05 - loss: 3.0805e-05 - reconstruction_loss: 1.8185e-05 - val_kl_loss: 1.2594e-05 - val_loss: 1.4108e-05 - val_reconstruction_loss: 1.5148e-06\n",
      "Epoch 6/10\n",
      "\u001b[1m27/27\u001b[0m \u001b[32m━━━━━━━━━━━━━━━━━━━━\u001b[0m\u001b[37m\u001b[0m \u001b[1m0s\u001b[0m 323ms/step - kl_loss: 1.2579e-05 - loss: 2.7932e-05 - reconstruction_loss: 1.5353e-05\n",
      "Epoch 6: val_loss did not improve from 0.00001\n",
      "\u001b[1m27/27\u001b[0m \u001b[32m━━━━━━━━━━━━━━━━━━━━\u001b[0m\u001b[37m\u001b[0m \u001b[1m9s\u001b[0m 327ms/step - kl_loss: 1.2579e-05 - loss: 2.7932e-05 - reconstruction_loss: 1.5353e-05 - val_kl_loss: 1.2487e-05 - val_loss: 1.4307e-05 - val_reconstruction_loss: 1.8194e-06\n",
      "Epoch 7/10\n",
      "\u001b[1m27/27\u001b[0m \u001b[32m━━━━━━━━━━━━━━━━━━━━\u001b[0m\u001b[37m\u001b[0m \u001b[1m0s\u001b[0m 324ms/step - kl_loss: 1.2504e-05 - loss: 2.1083e-05 - reconstruction_loss: 8.5788e-06\n",
      "Epoch 7: val_loss did not improve from 0.00001\n",
      "\u001b[1m27/27\u001b[0m \u001b[32m━━━━━━━━━━━━━━━━━━━━\u001b[0m\u001b[37m\u001b[0m \u001b[1m9s\u001b[0m 331ms/step - kl_loss: 1.2504e-05 - loss: 2.1083e-05 - reconstruction_loss: 8.5788e-06 - val_kl_loss: 1.2513e-05 - val_loss: 1.4779e-05 - val_reconstruction_loss: 2.2663e-06\n",
      "Epoch 8/10\n",
      "\u001b[1m27/27\u001b[0m \u001b[32m━━━━━━━━━━━━━━━━━━━━\u001b[0m\u001b[37m\u001b[0m \u001b[1m0s\u001b[0m 335ms/step - kl_loss: 1.2494e-05 - loss: 1.3739e-05 - reconstruction_loss: 1.2448e-06\n",
      "Epoch 8: val_loss did not improve from 0.00001\n",
      "\u001b[1m27/27\u001b[0m \u001b[32m━━━━━━━━━━━━━━━━━━━━\u001b[0m\u001b[37m\u001b[0m \u001b[1m9s\u001b[0m 340ms/step - kl_loss: 1.2494e-05 - loss: 1.3739e-05 - reconstruction_loss: 1.2448e-06 - val_kl_loss: 1.2445e-05 - val_loss: 1.4399e-05 - val_reconstruction_loss: 1.9544e-06\n",
      "Epoch 9/10\n",
      "\u001b[1m27/27\u001b[0m \u001b[32m━━━━━━━━━━━━━━━━━━━━\u001b[0m\u001b[37m\u001b[0m \u001b[1m0s\u001b[0m 323ms/step - kl_loss: 1.2435e-05 - loss: 1.4509e-05 - reconstruction_loss: 2.0734e-06\n",
      "Epoch 9: val_loss did not improve from 0.00001\n",
      "\u001b[1m27/27\u001b[0m \u001b[32m━━━━━━━━━━━━━━━━━━━━\u001b[0m\u001b[37m\u001b[0m \u001b[1m9s\u001b[0m 328ms/step - kl_loss: 1.2435e-05 - loss: 1.4509e-05 - reconstruction_loss: 2.0734e-06 - val_kl_loss: 1.2398e-05 - val_loss: 1.4576e-05 - val_reconstruction_loss: 2.1785e-06\n",
      "Epoch 10/10\n",
      "\u001b[1m27/27\u001b[0m \u001b[32m━━━━━━━━━━━━━━━━━━━━\u001b[0m\u001b[37m\u001b[0m \u001b[1m0s\u001b[0m 316ms/step - kl_loss: 1.2373e-05 - loss: 1.6788e-05 - reconstruction_loss: 4.4143e-06\n",
      "Epoch 10: val_loss improved from 0.00001 to 0.00001, saving model to ../../runs/VAE/training/test_10.keras\n",
      "\u001b[1m27/27\u001b[0m \u001b[32m━━━━━━━━━━━━━━━━━━━━\u001b[0m\u001b[37m\u001b[0m \u001b[1m10s\u001b[0m 373ms/step - kl_loss: 1.2373e-05 - loss: 1.6788e-05 - reconstruction_loss: 4.4143e-06 - val_kl_loss: 1.2291e-05 - val_loss: 1.3447e-05 - val_reconstruction_loss: 1.1560e-06\n"
     ]
    },
    {
     "data": {
      "text/plain": [
       "<keras.src.callbacks.history.History at 0x7f8327e32690>"
      ]
     },
     "execution_count": 177,
     "metadata": {},
     "output_type": "execute_result"
    }
   ],
   "source": [
    "model2.fit(data, data, validation_split=0.2, batch_size=2, epochs=10, callbacks=callbacks)"
   ]
  },
  {
   "cell_type": "code",
   "execution_count": 17,
   "metadata": {},
   "outputs": [
    {
     "name": "stdout",
     "output_type": "stream",
     "text": [
      "\u001b[1m1/1\u001b[0m \u001b[32m━━━━━━━━━━━━━━━━━━━━\u001b[0m\u001b[37m\u001b[0m \u001b[1m0s\u001b[0m 231ms/step - kl_loss: nan - loss: nan - reconstruction_loss: nan\n"
     ]
    }
   ],
   "source": [
    "loss, kl_loss, recon_loss = model2.evaluate(data, data, batch_size=68)"
   ]
  },
  {
   "cell_type": "code",
   "execution_count": 178,
   "metadata": {},
   "outputs": [
    {
     "name": "stdout",
     "output_type": "stream",
     "text": [
      "\u001b[1m3/3\u001b[0m \u001b[32m━━━━━━━━━━━━━━━━━━━━\u001b[0m\u001b[37m\u001b[0m \u001b[1m0s\u001b[0m 63ms/step\n"
     ]
    }
   ],
   "source": [
    "prediction = pd.DataFrame(model2.predict(data))"
   ]
  },
  {
   "cell_type": "code",
   "execution_count": 187,
   "metadata": {},
   "outputs": [],
   "source": [
    "plot_df = pd.DataFrame(prediction.loc[1].values, index=data.columns, columns=[\"inty\"]).reset_index()\n",
    "plot_df_2 = pd.DataFrame(data.iloc[1].values, index=data.columns, columns=[\"inty\"]).reset_index()"
   ]
  },
  {
   "cell_type": "code",
   "execution_count": 188,
   "metadata": {},
   "outputs": [],
   "source": [
    "import seaborn as sns\n",
    "import matplotlib.pyplot as plt"
   ]
  },
  {
   "cell_type": "code",
   "execution_count": 190,
   "metadata": {},
   "outputs": [
    {
     "data": {
      "image/png": "[encoded data removed]",
      "text/plain": [
       "<Figure size 1200x600 with 1 Axes>"
      ]
     },
     "metadata": {},
     "output_type": "display_data"
    }
   ],
   "source": [
    "mae = np.mean(np.sum( np.abs((plot_df_2[\"inty\"] - plot_df[\"inty\"])) ))\n",
    "rel_mae = mae / np.max(plot_df_2[\"inty\"])\n",
    "\n",
    "sns.set_theme(rc={\"figure.figsize\":(12, 6)})\n",
    "ax = sns.lineplot(data=plot_df_2, x=\"mz\", y=\"inty\", alpha=0.7)\n",
    "ax = sns.lineplot(data=plot_df, x=\"mz\", y=\"inty\", alpha=0.7)\n",
    "plt.annotate(f\"MAE: {mae}\", xy=(0.05, 0.95), xycoords='axes fraction')\n",
    "plt.annotate(f\"Relative MAE: {rel_mae *100} %\", xy=(0.05, 0.90), xycoords='axes fraction')\n",
    "plt.show()"
   ]
  },
  {
   "cell_type": "code",
   "execution_count": null,
   "metadata": {},
   "outputs": [],
   "source": []
  }
 ],
 "metadata": {
  "kernelspec": {
   "display_name": "FIA_VAE",
   "language": "python",
   "name": "python3"
  },
  "language_info": {
   "codemirror_mode": {
    "name": "ipython",
    "version": 3
   },
   "file_extension": ".py",
   "mimetype": "text/x-python",
   "name": "python",
   "nbconvert_exporter": "python",
   "pygments_lexer": "ipython3",
   "version": "3.11.8"
  }
 },
 "nbformat": 4,
 "nbformat_minor": 2
}
