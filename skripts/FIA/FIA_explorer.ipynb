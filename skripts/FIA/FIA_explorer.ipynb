{
 "cells": [
  {
   "cell_type": "code",
   "execution_count": 1,
   "metadata": {},
   "outputs": [
    {
     "name": "stdout",
     "output_type": "stream",
     "text": [
      "Warning: OPENMS_DATA_PATH environment variable already exists. pyOpenMS will use it (C:\\Program Files\\OpenMS-3.1.0\\share\\OpenMS) to locate data in the OpenMS share folder (e.g., the unimod database), instead of the default (c:\\Users\\JosuaCarl\\miniconda3\\envs\\gemml\\Lib\\site-packages\\pyopenms\\share/OpenMS).\n"
     ]
    }
   ],
   "source": [
    "# Imports\n",
    "import os\n",
    "\n",
    "# import methods from FIA python script\n",
    "from FIA import *\n",
    "\n",
    "oms.LogConfigHandler().setLogLevel(\"DEBUG\")"
   ]
  },
  {
   "cell_type": "code",
   "execution_count": 5,
   "metadata": {},
   "outputs": [
    {
     "name": "stdout",
     "output_type": "stream",
     "text": [
      "Param: b'signal_to_noise_' Value: 1.0 Description: Signal to noise value, each peak is required to be above this value (turn off by setting it to 0.0)\n",
      "Param: b'peak_width' Value: 0.0 Description: Expected peak width half width in Dalton - peaks will be extended until this half width is reached (even if the intensitity is increasing). In conjunction with check_width_internally it will also be used to remove peaks whose spacing is larger than this value.\n",
      "Param: b'spacing_difference' Value: 1.5 Description: Difference between peaks in multiples of the minimal difference to continue. The higher this value is set, the further apart peaks are allowed to be to still extend a peak. E.g. if the value is set to 1.5 and in a current peak the minimal spacing between peaks is 10 mDa, then only peaks at most 15 mDa apart will be added to the peak.\n",
      "Param: b'sn_bin_count_' Value: 30 Description: Bin count for the Signal to Noise estimation.\n",
      "Param: b'nr_iterations_' Value: 5 Description: Nr of iterations to perform (how many times the peaks are re-centered).\n",
      "Param: b'sn_win_len_' Value: 20.0 Description: Window length for the Signal to Noise estimation.\n",
      "Param: b'check_width_internally' Value: false Description: Delete peaks where the spacing is larger than the peak width (should be set to true to avoid artefacts)\n",
      "Param: b'ms1_only' Value: false Description: Only do MS1\n",
      "Param: b'clear_meta_data' Value: false Description: Delete meta data about peak width\n"
     ]
    }
   ],
   "source": [
    "hrp = oms.PeakPickerIterative()\n",
    "d = hrp.getDefaults()\n",
    "print_params(d)"
   ]
  },
  {
   "cell_type": "code",
   "execution_count": null,
   "metadata": {},
   "outputs": [],
   "source": []
  },
  {
   "cell_type": "markdown",
   "metadata": {},
   "source": [
    "## Loading"
   ]
  },
  {
   "cell_type": "code",
   "execution_count": 2,
   "metadata": {},
   "outputs": [],
   "source": [
    "# set path to your mzML files and workfolder\n",
    "data_dir = \"../../data/example data/exampleA_ecolistrains\"\n",
    "run_dir = \"../../runs/fia_explorer\"\n",
    "\n",
    "data_dir = os.path.normpath(os.path.join(os.getcwd(), data_dir))\n",
    "run_dir = os.path.normpath(os.path.join(os.getcwd(), run_dir))\n",
    "\n",
    "# clean_dir(run_dir)"
   ]
  },
  {
   "cell_type": "code",
   "execution_count": 3,
   "metadata": {},
   "outputs": [
    {
     "name": "stdout",
     "output_type": "stream",
     "text": [
      "Loading experiments:\n"
     ]
    },
    {
     "name": "stderr",
     "output_type": "stream",
     "text": [
      "100%|██████████| 6/6 [00:04<00:00,  1.49it/s]\n"
     ]
    },
    {
     "name": "stdout",
     "output_type": "stream",
     "text": [
      "Loading names:\n"
     ]
    },
    {
     "name": "stderr",
     "output_type": "stream",
     "text": [
      "100%|██████████| 6/6 [00:00<?, ?it/s]\n"
     ]
    }
   ],
   "source": [
    "fia_df = load_fia_df(data_dir, \".mzXML\")"
   ]
  },
  {
   "cell_type": "code",
   "execution_count": null,
   "metadata": {},
   "outputs": [],
   "source": [
    "# centroid_dir = centroid_batch(data_dir, run_dir, file_ending=\".mzXML\")\n",
    "# centroid_dir = os.path.join(run_dir, \"centroids\")"
   ]
  },
  {
   "cell_type": "markdown",
   "metadata": {},
   "source": [
    "## Data pruning & intesity accumumlation"
   ]
  },
  {
   "cell_type": "code",
   "execution_count": 4,
   "metadata": {},
   "outputs": [],
   "source": [
    "# Computes mean, media or sum of binned peaks (median needs ~2* more time)\n",
    "fia_df[\"lim_experiment\"] = fia_df[\"experiment\"].apply(lambda experiment: limit_experiment(experiment, 51, 1699, 2*10**6, statistic=\"sum\", deepcopy=True))"
   ]
  },
  {
   "cell_type": "markdown",
   "metadata": {},
   "source": [
    "#### Summing intensities"
   ]
  },
  {
   "cell_type": "code",
   "execution_count": 5,
   "metadata": {},
   "outputs": [
    {
     "data": {
      "text/plain": [
       "array([ 61.,   0.,   0.,   0.,  58.,   0.,   0.,   3.,   0.,   0.,   0.,\n",
       "         3.,   0.,   0.,   0.,   3.,   0.,   0.,   0.,   3.,   0.,   0.,\n",
       "         0.,   3.,   0.,   0.,   0.,  49.,   0.,   0.,   0.,  52.,   0.,\n",
       "         0.,   0.,  42.,   0.,   0.,   0., 263.,   0.,   0.,   0., 269.,\n",
       "         0.,   0., 238.,   0.,   0.,   0.], dtype=float32)"
      ]
     },
     "execution_count": 5,
     "metadata": {},
     "output_type": "execute_result"
    }
   ],
   "source": [
    "exp = fia_df.loc[0, \"lim_experiment\"]\n",
    "exp.getSpectra()[0].get_peaks()[1][-50:]"
   ]
  },
  {
   "cell_type": "code",
   "execution_count": 6,
   "metadata": {},
   "outputs": [
    {
     "data": {
      "text/plain": [
       "array([ 1,  7, 12, 12, 23, 78, 78, 78, 78, 78, 78], dtype=int64)"
      ]
     },
     "execution_count": 6,
     "metadata": {},
     "output_type": "execute_result"
    }
   ],
   "source": [
    "bins = np.linspace(1, 10, 100)\n",
    "np.digitize(np.array([1,1.6,2,2,3,8,8,8,8,8,8]), bins)"
   ]
  },
  {
   "cell_type": "code",
   "execution_count": null,
   "metadata": {},
   "outputs": [],
   "source": []
  },
  {
   "cell_type": "code",
   "execution_count": 7,
   "metadata": {},
   "outputs": [
    {
     "data": {
      "text/html": [
       "<div>\n",
       "<style scoped>\n",
       "    .dataframe tbody tr th:only-of-type {\n",
       "        vertical-align: middle;\n",
       "    }\n",
       "\n",
       "    .dataframe tbody tr th {\n",
       "        vertical-align: top;\n",
       "    }\n",
       "\n",
       "    .dataframe thead th {\n",
       "        text-align: right;\n",
       "    }\n",
       "</style>\n",
       "<table border=\"1\" class=\"dataframe\">\n",
       "  <thead>\n",
       "    <tr style=\"text-align: right;\">\n",
       "      <th></th>\n",
       "      <th>sample</th>\n",
       "      <th>polarity</th>\n",
       "      <th>experiment</th>\n",
       "      <th>lim_experiment</th>\n",
       "    </tr>\n",
       "  </thead>\n",
       "  <tbody>\n",
       "    <tr>\n",
       "      <th>0</th>\n",
       "      <td>mg1655</td>\n",
       "      <td>-1</td>\n",
       "      <td>&lt;pyopenms._dataframes._MSExperimentDF object a...</td>\n",
       "      <td>&lt;pyopenms._pyopenms_5.MSExperiment object at 0...</td>\n",
       "    </tr>\n",
       "    <tr>\n",
       "      <th>1</th>\n",
       "      <td>mg1655</td>\n",
       "      <td>1</td>\n",
       "      <td>&lt;pyopenms._dataframes._MSExperimentDF object a...</td>\n",
       "      <td>&lt;pyopenms._pyopenms_5.MSExperiment object at 0...</td>\n",
       "    </tr>\n",
       "    <tr>\n",
       "      <th>2</th>\n",
       "      <td>nissle</td>\n",
       "      <td>-1</td>\n",
       "      <td>&lt;pyopenms._dataframes._MSExperimentDF object a...</td>\n",
       "      <td>&lt;pyopenms._pyopenms_5.MSExperiment object at 0...</td>\n",
       "    </tr>\n",
       "    <tr>\n",
       "      <th>3</th>\n",
       "      <td>nissle</td>\n",
       "      <td>1</td>\n",
       "      <td>&lt;pyopenms._dataframes._MSExperimentDF object a...</td>\n",
       "      <td>&lt;pyopenms._pyopenms_5.MSExperiment object at 0...</td>\n",
       "    </tr>\n",
       "    <tr>\n",
       "      <th>4</th>\n",
       "      <td>tue1</td>\n",
       "      <td>-1</td>\n",
       "      <td>&lt;pyopenms._dataframes._MSExperimentDF object a...</td>\n",
       "      <td>&lt;pyopenms._pyopenms_5.MSExperiment object at 0...</td>\n",
       "    </tr>\n",
       "    <tr>\n",
       "      <th>5</th>\n",
       "      <td>tue1</td>\n",
       "      <td>1</td>\n",
       "      <td>&lt;pyopenms._dataframes._MSExperimentDF object a...</td>\n",
       "      <td>&lt;pyopenms._pyopenms_5.MSExperiment object at 0...</td>\n",
       "    </tr>\n",
       "  </tbody>\n",
       "</table>\n",
       "</div>"
      ],
      "text/plain": [
       "   sample polarity                                         experiment  \\\n",
       "0  mg1655       -1  <pyopenms._dataframes._MSExperimentDF object a...   \n",
       "1  mg1655        1  <pyopenms._dataframes._MSExperimentDF object a...   \n",
       "2  nissle       -1  <pyopenms._dataframes._MSExperimentDF object a...   \n",
       "3  nissle        1  <pyopenms._dataframes._MSExperimentDF object a...   \n",
       "4    tue1       -1  <pyopenms._dataframes._MSExperimentDF object a...   \n",
       "5    tue1        1  <pyopenms._dataframes._MSExperimentDF object a...   \n",
       "\n",
       "                                      lim_experiment  \n",
       "0  <pyopenms._pyopenms_5.MSExperiment object at 0...  \n",
       "1  <pyopenms._pyopenms_5.MSExperiment object at 0...  \n",
       "2  <pyopenms._pyopenms_5.MSExperiment object at 0...  \n",
       "3  <pyopenms._pyopenms_5.MSExperiment object at 0...  \n",
       "4  <pyopenms._pyopenms_5.MSExperiment object at 0...  \n",
       "5  <pyopenms._pyopenms_5.MSExperiment object at 0...  "
      ]
     },
     "execution_count": 7,
     "metadata": {},
     "output_type": "execute_result"
    }
   ],
   "source": [
    "fia_df"
   ]
  },
  {
   "cell_type": "code",
   "execution_count": null,
   "metadata": {},
   "outputs": [],
   "source": []
  }
 ],
 "metadata": {
  "kernelspec": {
   "display_name": "gemml",
   "language": "python",
   "name": "python3"
  },
  "language_info": {
   "codemirror_mode": {
    "name": "ipython",
    "version": 3
   },
   "file_extension": ".py",
   "mimetype": "text/x-python",
   "name": "python",
   "nbconvert_exporter": "python",
   "pygments_lexer": "ipython3",
   "version": "3.11.7"
  }
 },
 "nbformat": 4,
 "nbformat_minor": 2
}
