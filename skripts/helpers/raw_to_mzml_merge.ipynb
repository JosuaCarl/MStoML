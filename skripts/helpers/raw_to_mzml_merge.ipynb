{
 "cells": [
  {
   "cell_type": "code",
   "execution_count": 1,
   "metadata": {},
   "outputs": [],
   "source": [
    "import os\n",
    "import platform\n",
    "from tqdm import tqdm\n",
    "\n",
    "start = \"D:\" if platform.system() == \"Windows\" else \"/mnt/d\""
   ]
  },
  {
   "cell_type": "code",
   "execution_count": 2,
   "metadata": {},
   "outputs": [],
   "source": [
    "def convert_folder(folder):\n",
    "    os.system( f'msconvert --mzML --64 --zlib -o {os.path.join(folder, \"ConvertedData\")} {os.path.join(folder, \"RawData\", \"*\")}' )\n",
    "\n",
    "def convert_folders(root_folder):\n",
    "    for folder in tqdm(os.listdir(root_folder)):\n",
    "        folder = os.path.join(root_folder, folder)\n",
    "        if len(os.listdir(os.path.join(folder, \"RawData\"))) != len(os.listdir(os.path.join(folder, \"ConvertedData\"))):\n",
    "            convert_folder(folder)\n",
    "\n",
    "def convert_file(folder, file):\n",
    "    os.system( f'msconvert --mzML --64 --zlib -o {os.path.join(folder, \"ConvertedData\")} {os.path.join(folder, \"RawData\", file)}' )\n",
    "\n",
    "def convert_files(root_folder):\n",
    "    for folder in tqdm(os.listdir(root_folder)):\n",
    "        folder = os.path.join(root_folder, folder)\n",
    "        for file in tqdm(os.listdir(os.path.join(folder, \"RawData\")), desc=folder):\n",
    "            target_path = os.path.join(folder, \"ConvertedData\", f'{\".\".join(file.split(\".\")[:-1])}.mzML')\n",
    "            if (not os.path.isfile(target_path)) or os.path.getsize(target_path) < 1e8 :\n",
    "                print(f'Converting {target_path}')\n",
    "                convert_file(folder, file)"
   ]
  },
  {
   "cell_type": "code",
   "execution_count": 3,
   "metadata": {},
   "outputs": [
    {
     "name": "stderr",
     "output_type": "stream",
     "text": [
      "D:\\data\\New_Data\\20220620_P0003_S6-S22_FIA-TOF: 100%|██████████| 34/34 [00:00<00:00, 16960.79it/s]\n",
      "D:\\data\\New_Data\\20220726_FIA-TOF_Ex0005_msAG24-msAg77: 100%|██████████| 148/148 [00:00<00:00, 24664.53it/s]\n",
      "D:\\data\\New_Data\\20220817_P0008_S13-S96_FIA-TOF: 100%|██████████| 208/208 [00:00<00:00, 37719.54it/s]\n",
      "D:\\data\\New_Data\\20221221_P0008_S97-S156_FIA-TOF: 100%|██████████| 120/120 [00:00<00:00, 40009.26it/s]\n",
      "D:\\data\\New_Data\\20230307_P0017_S1-S15_FIA-TOF: 100%|██████████| 50/50 [00:00<00:00, 24998.83it/s]\n",
      "D:\\data\\New_Data\\20230505_P0017_S16-S135_FI-TOF: 100%|██████████| 250/250 [00:00<00:00, 53243.42it/s]\n",
      "D:\\data\\New_Data\\20230515_P0008_Plasma_Randomized: 100%|██████████| 116/116 [00:00<?, ?it/s]\n"
     ]
    },
    {
     "name": "stdout",
     "output_type": "stream",
     "text": [
      "Converting D:\\data\\New_Data\\20230515_P0008_Serum_Randomized\\ConvertedData\\2023-05-15_Bioblank05_pos.mzML\n"
     ]
    },
    {
     "name": "stderr",
     "output_type": "stream",
     "text": [
      "D:\\data\\New_Data\\20230515_P0008_Serum_Randomized: 100%|██████████| 78/78 [00:02<00:00, 35.22it/s]\n",
      "D:\\data\\New_Data\\20230516_P0008_Gewebe_Randomized: 100%|██████████| 138/138 [00:00<00:00, 81351.22it/s]\n",
      "D:\\data\\New_Data\\20230629_P0018_S01-S12_FI-TOF: 100%|██████████| 44/44 [00:00<00:00, 7445.71it/s]\n",
      "D:\\data\\New_Data\\20230822_P0031_S1-S66_FI-TOF: 100%|██████████| 132/132 [00:00<?, ?it/s]\n",
      "D:\\data\\New_Data\\20230927_P0031_Decay_DHA_FI-TOF: 100%|██████████| 14/14 [00:00<00:00, 1882.36it/s]\n",
      "D:\\data\\New_Data\\20230927_P0031_S001-S066_FI-TOF_1to100_wdh: 100%|██████████| 132/132 [00:00<00:00, 62368.83it/s]\n",
      "D:\\data\\New_Data\\20231121_P0032_FI-TOF: 100%|██████████| 366/366 [00:00<?, ?it/s]\n",
      "D:\\data\\New_Data\\20240206_P0038_S01-S12_FI-TOF: 100%|██████████| 24/24 [00:00<00:00, 14790.38it/s]\n",
      "D:\\data\\New_Data\\20240216_P0032_plate10_SXX-SXX_FI-TOF: 100%|██████████| 144/144 [00:00<?, ?it/s]\n",
      "D:\\data\\New_Data\\20240327_TestAfterRelocation_FI-TOF: 100%|██████████| 20/20 [00:00<?, ?it/s]\n",
      "100%|██████████| 17/17 [00:02<00:00,  7.39it/s]\n"
     ]
    }
   ],
   "source": [
    "root_folder = os.path.normpath(start + \"/data/New_Data\")\n",
    "convert_files(root_folder)"
   ]
  },
  {
   "cell_type": "code",
   "execution_count": 4,
   "metadata": {},
   "outputs": [
    {
     "name": "stdout",
     "output_type": "stream",
     "text": [
      "Warning: OPENMS_DATA_PATH environment variable already exists. pyOpenMS will use it (C:\\Program Files\\OpenMS-3.1.0\\share\\OpenMS) to locate data in the OpenMS share folder (e.g., the unimod database), instead of the default (c:\\Users\\JosuaCarl\\miniconda3\\envs\\FIA_VAE\\Lib\\site-packages\\pyopenms\\share/OpenMS).\n"
     ]
    }
   ],
   "source": [
    "import sys\n",
    "sys.path.append(\"..\")\n",
    "\n",
    "from FIA.FIA import *\n",
    "from FIA.FIA_oms import *"
   ]
  },
  {
   "cell_type": "code",
   "execution_count": 7,
   "metadata": {},
   "outputs": [],
   "source": [
    "def merge_folder(folder, target_folder):\n",
    "    if not os.path.isdir(os.path.join(target_folder, os.path.basename(folder))):\n",
    "        os.mkdir(os.path.join(target_folder, os.path.basename(folder)))\n",
    "    runner = Runner( data_dir=os.path.join(folder, \"ConvertedData\"), run_dir=os.path.join(target_folder, os.path.basename(folder)),\n",
    "                     file_ending=\".mzML\", runtimes={}, start_time=time.time() )\n",
    "    runner.merge()\n",
    "    \n",
    "   \n",
    "def merge_folders(root_folder, target_folder):\n",
    "    for folder in os.listdir(root_folder):\n",
    "        folder = os.path.join(root_folder, folder)\n",
    "        target = os.path.join(target_folder, os.path.basename(folder), \"merged\")\n",
    "        if not os.path.isdir(target) or len(os.listdir(os.path.join(folder, \"ConvertedData\"))) != len(os.listdir(target)):\n",
    "            merge_folder(folder, target_folder)"
   ]
  },
  {
   "cell_type": "code",
   "execution_count": 8,
   "metadata": {},
   "outputs": [
    {
     "name": "stdout",
     "output_type": "stream",
     "text": [
      "Merging:\n"
     ]
    },
    {
     "name": "stderr",
     "output_type": "stream",
     "text": [
      "100%|██████████| 44/44 [00:00<?, ?it/s]\n",
      "100%|██████████| 44/44 [04:26<00:00,  6.05s/it]\n"
     ]
    },
    {
     "name": "stdout",
     "output_type": "stream",
     "text": [
      "Merging:\n"
     ]
    },
    {
     "name": "stderr",
     "output_type": "stream",
     "text": [
      "100%|██████████| 132/132 [00:00<?, ?it/s]\n",
      "100%|██████████| 132/132 [13:05<00:00,  5.95s/it]\n"
     ]
    },
    {
     "name": "stdout",
     "output_type": "stream",
     "text": [
      "Merging:\n"
     ]
    },
    {
     "name": "stderr",
     "output_type": "stream",
     "text": [
      "100%|██████████| 14/14 [00:00<?, ?it/s]\n",
      "100%|██████████| 14/14 [01:26<00:00,  6.20s/it]\n"
     ]
    },
    {
     "name": "stdout",
     "output_type": "stream",
     "text": [
      "Merging:\n"
     ]
    },
    {
     "name": "stderr",
     "output_type": "stream",
     "text": [
      "100%|██████████| 132/132 [00:00<?, ?it/s]\n",
      "100%|██████████| 132/132 [12:57<00:00,  5.89s/it]\n"
     ]
    },
    {
     "name": "stdout",
     "output_type": "stream",
     "text": [
      "Merging:\n"
     ]
    },
    {
     "name": "stderr",
     "output_type": "stream",
     "text": [
      "100%|██████████| 366/366 [00:00<?, ?it/s]\n",
      "100%|██████████| 366/366 [28:27<00:00,  4.67s/it]\n"
     ]
    },
    {
     "name": "stdout",
     "output_type": "stream",
     "text": [
      "Merging:\n"
     ]
    },
    {
     "name": "stderr",
     "output_type": "stream",
     "text": [
      "100%|██████████| 24/24 [00:00<?, ?it/s]\n",
      "100%|██████████| 24/24 [01:52<00:00,  4.68s/it]\n"
     ]
    },
    {
     "name": "stdout",
     "output_type": "stream",
     "text": [
      "Merging:\n"
     ]
    },
    {
     "name": "stderr",
     "output_type": "stream",
     "text": [
      "100%|██████████| 144/144 [00:00<?, ?it/s]\n",
      "100%|██████████| 144/144 [10:59<00:00,  4.58s/it]\n"
     ]
    },
    {
     "name": "stdout",
     "output_type": "stream",
     "text": [
      "Merging:\n"
     ]
    },
    {
     "name": "stderr",
     "output_type": "stream",
     "text": [
      "100%|██████████| 20/20 [00:00<00:00, 20082.85it/s]\n",
      "100%|██████████| 20/20 [01:40<00:00,  5.03s/it]\n"
     ]
    }
   ],
   "source": [
    "target_folder = os.path.normpath(f'{start}/runs/FIA')\n",
    "merge_folders(root_folder, target_folder)"
   ]
  },
  {
   "cell_type": "code",
   "execution_count": null,
   "metadata": {},
   "outputs": [],
   "source": []
  }
 ],
 "metadata": {
  "kernelspec": {
   "display_name": "VAE",
   "language": "python",
   "name": "python3"
  },
  "language_info": {
   "codemirror_mode": {
    "name": "ipython",
    "version": 3
   },
   "file_extension": ".py",
   "mimetype": "text/x-python",
   "name": "python",
   "nbconvert_exporter": "python",
   "pygments_lexer": "ipython3",
   "version": "3.11.8"
  }
 },
 "nbformat": 4,
 "nbformat_minor": 2
}
