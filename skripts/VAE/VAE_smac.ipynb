{
 "cells": [
  {
   "cell_type": "markdown",
   "metadata": {},
   "source": [
    "# VAE"
   ]
  },
  {
   "cell_type": "code",
   "execution_count": 5,
   "metadata": {},
   "outputs": [
    {
     "name": "stdout",
     "output_type": "stream",
     "text": [
      "Warning: OPENMS_DATA_PATH environment variable not found and no share directory was installed. Some functionality might not work as expected.\n",
      "Available GPUs:  []\n"
     ]
    }
   ],
   "source": [
    "import sys\n",
    "import os\n",
    "sys.path.append( '..' )\n",
    "\n",
    "from VAE.VAE_smac import *\n",
    "from helpers.pc_stats import *"
   ]
  },
  {
   "cell_type": "markdown",
   "metadata": {},
   "source": [
    "## Parameter definition"
   ]
  },
  {
   "cell_type": "code",
   "execution_count": 6,
   "metadata": {},
   "outputs": [
    {
     "name": "stdout",
     "output_type": "stream",
     "text": [
      "Setup loaded\n"
     ]
    }
   ],
   "source": [
    "data_dir  = os.path.normpath(os.path.join(os.getcwd(), \"../../runs/FIA/Com8_grown_together/oms\"))\n",
    "run_dir = os.path.normpath(os.path.join(os.getcwd(), \"../../runs/VAE/hyperparameter_optimization\"))\n",
    "results_dir = os.path.normpath(os.path.join(os.getcwd(), \"../../runs/VAE/results\"))\n",
    "test_configuration = False\n",
    "overwrite = False\n",
    "verbosity = 1\n",
    "framework = \"pytorch_jupyter\"\n",
    "outdir = Path(os.path.normpath(os.path.join(run_dir, f\"smac_vae_{framework}\")))\n",
    "\n",
    "# Logging (time and steps)\n",
    "last_timestamp = time.time()\n",
    "step = 0\n",
    "runtimes = {}\n",
    "\n",
    "\n",
    "time_step(message=\"Setup loaded\", verbosity=verbosity)"
   ]
  },
  {
   "cell_type": "code",
   "execution_count": 7,
   "metadata": {},
   "outputs": [
    {
     "name": "stdout",
     "output_type": "stream",
     "text": [
      "Data loaded\n",
      "Configuration space defined with estimated inf possible combinations.\n",
      "\n"
     ]
    }
   ],
   "source": [
    "X = read_data(data_dir, verbosity=verbosity)\n",
    "\n",
    "configuration_space = ConfigurationSpace(name=\"LD\", seed=42)\n",
    "hyperparameters = [\n",
    "    Constant(       \"original_dim\",             X.shape[1]),\n",
    "    Float(          \"input_dropout\",            (0.0, 0.5), default=0.25),\n",
    "    Integer(        \"intermediate_layers\",      (1, 5), default=2),\n",
    "    Integer(        \"intermediate_dimension\",   (100, 200), log=True, default=200),\n",
    "    Categorical(    \"intermediate_activation\",  [\"relu\", \"selu\", \"tanh\", \"leakyrelu\"], default=\"selu\"),\n",
    "    Integer(        \"latent_dimension\",         (10, 50), log=False, default=50),\n",
    "    Categorical(    \"solver\",                   [\"nadam\"], default=\"nadam\"),\n",
    "    Float(          \"learning_rate\",            (1e-4, 1e-2), log=True, default=1e-3)\n",
    "]\n",
    "configuration_space.add_hyperparameters(hyperparameters)\n",
    "forbidden_clauses = [\n",
    "    ForbiddenGreaterThanRelation(configuration_space[\"latent_dimension\"], configuration_space[\"intermediate_dimension\"])\n",
    "]\n",
    "configuration_space.add_forbidden_clauses(forbidden_clauses)\n",
    "if verbosity > 0: \n",
    "    print(f\"Configuration space defined with estimated {configuration_space.estimate_size()} possible combinations.\\n\")"
   ]
  },
  {
   "cell_type": "markdown",
   "metadata": {},
   "source": [
    "## Optimization definition"
   ]
  },
  {
   "cell_type": "code",
   "execution_count": 8,
   "metadata": {},
   "outputs": [
    {
     "name": "stdout",
     "output_type": "stream",
     "text": [
      "Using cpu device\n"
     ]
    }
   ],
   "source": [
    "if \"torch\" in framework:\n",
    "    device = search_device(verbosity=verbosity)\n",
    "    fia_vae_hptune = FIA_VAE_hptune( X, test_size=0.2, configuration_space=configuration_space, model_builder=FIA_VAE,\n",
    "                                        device=device, workers=0, batch_size=64, verbosity=verbosity )\n",
    "elif \"keras\" in framework:\n",
    "    fia_vae_hptune = FIA_VAE_hptune( X, test_size=0.2, configuration_space=configuration_space, model_builder=FIA_VAE,\n",
    "                                        batch_size=64, verbosity=verbosity )\n",
    "else:\n",
    "    raise(ValueError(f\"The framework {framework} is not implemented. The framework must contain one of ['torch', 'keras'].\"))"
   ]
  },
  {
   "cell_type": "code",
   "execution_count": 9,
   "metadata": {},
   "outputs": [
    {
     "name": "stdout",
     "output_type": "stream",
     "text": [
      "[INFO][abstract_initial_design.py:147] Using 5 initial design configurations and 0 additional configurations.\n",
      "SMAC defined. Overwriting: False\n"
     ]
    }
   ],
   "source": [
    "scenario = Scenario( fia_vae_hptune.configuration_space, deterministic=True,\n",
    "                     n_trials=20, min_budget=2, max_budget=100,\n",
    "                     n_workers=1, output_directory=outdir,\n",
    "                     walltime_limit=np.inf, cputime_limit=np.inf, trial_memory_limit=None )   # Max RAM in Bytes (not MB)\n",
    "                    \n",
    "initial_design = MultiFidelityFacade.get_initial_design(scenario, n_configs=10)\n",
    "intensifier = Hyperband(scenario, incumbent_selection=\"highest_budget\")\n",
    "facade = MultiFidelityFacade( scenario, fia_vae_hptune.train, \n",
    "                              initial_design=initial_design, intensifier=intensifier,\n",
    "                              overwrite=overwrite, logging_level=30-verbosity*10 )\n",
    "time_step(message=f\"SMAC defined. Overwriting: {overwrite}\", verbosity=verbosity)"
   ]
  },
  {
   "cell_type": "markdown",
   "metadata": {},
   "source": [
    "### Search"
   ]
  },
  {
   "cell_type": "code",
   "execution_count": 10,
   "metadata": {},
   "outputs": [
    {
     "data": {
      "text/plain": [
       "'\\nelse:\\n    incumbent = run_optimization(facade=facade, smac_model=fia_vae_hptune, verbose_steps=10, verbosity=verbosity)\\n\\n    results, runtimes = save_runhistory(incumbent=incumbent, fascade=facade, run_dir=run_dir, verbosity=verbosity)\\n'"
      ]
     },
     "execution_count": 10,
     "metadata": {},
     "output_type": "execute_result"
    }
   ],
   "source": [
    "if test_configuration:\n",
    "    config = ConfigurationSpace(\n",
    "                {'input_dropout': 0.25, 'intermediate_activation': 'leakyrelu', 'intermediate_dimension': 200,\n",
    "                'intermediate_layers': 4, 'latent_dimension': 10, 'learning_rate': 0.001,\n",
    "                'original_dim': 825000, 'solver': 'nadam'}\n",
    "            )\n",
    "    test_train(smac_model=fia_vae_hptune, config=config, verbosity=verbosity)\n",
    "else:\n",
    "    incumbent = run_optimization(facade=facade, smac_model=fia_vae_hptune, verbose_steps=10, verbosity=verbosity)\n",
    "\n",
    "    results, runtimes = save_runhistory(incumbent=incumbent, fascade=facade, run_dir=run_dir, verbosity=verbosity)"
   ]
  }
 ],
 "metadata": {
  "kernelspec": {
   "display_name": "gemml",
   "language": "python",
   "name": "python3"
  },
  "language_info": {
   "codemirror_mode": {
    "name": "ipython",
    "version": 3
   },
   "file_extension": ".py",
   "mimetype": "text/x-python",
   "name": "python",
   "nbconvert_exporter": "python",
   "pygments_lexer": "ipython3",
   "version": "3.11.8"
  }
 },
 "nbformat": 4,
 "nbformat_minor": 2
}
