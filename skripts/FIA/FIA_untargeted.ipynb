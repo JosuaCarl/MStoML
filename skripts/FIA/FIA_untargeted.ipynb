{
 "cells": [
  {
   "cell_type": "code",
   "execution_count": 1,
   "metadata": {},
   "outputs": [
    {
     "name": "stdout",
     "output_type": "stream",
     "text": [
      "Warning: OPENMS_DATA_PATH environment variable already exists. pyOpenMS will use it (C:\\Program Files\\OpenMS-3.1.0\\share\\OpenMS) to locate data in the OpenMS share folder (e.g., the unimod database), instead of the default (c:\\Users\\JosuaCarl\\miniconda3\\envs\\gemml\\Lib\\site-packages\\pyopenms\\share/OpenMS).\n"
     ]
    }
   ],
   "source": [
    "# Imports\n",
    "import os\n",
    "\n",
    "# import methods from FIA python script\n",
    "from FIA import *\n",
    "\n",
    "oms.LogConfigHandler().setLogLevel(\"DEBUG\")"
   ]
  },
  {
   "cell_type": "markdown",
   "metadata": {},
   "source": [
    "## Read in"
   ]
  },
  {
   "cell_type": "code",
   "execution_count": 2,
   "metadata": {},
   "outputs": [],
   "source": [
    "# set path to your mzML files and workfolder\n",
    "data_dir = \"../../data/example data/exampleA_ecolistrains\"\n",
    "run_dir = \"../../runs/fia_explorer\"\n",
    "\n",
    "data_dir = os.path.normpath(os.path.join(os.getcwd(), data_dir))\n",
    "run_dir = os.path.normpath(os.path.join(os.getcwd(), run_dir))\n",
    "\n",
    "# clean_dir(run_dir)"
   ]
  },
  {
   "cell_type": "markdown",
   "metadata": {},
   "source": [
    "## Centroiding\n",
    "Data reduction with peak picking"
   ]
  },
  {
   "cell_type": "code",
   "execution_count": 3,
   "metadata": {},
   "outputs": [],
   "source": [
    "# centroid_dir = centroid_batch(data_dir, run_dir, file_ending=\".mzXML\")\n",
    "centroid_dir = os.path.join(run_dir, \"centroids\")"
   ]
  },
  {
   "cell_type": "markdown",
   "metadata": {},
   "source": [
    "## Merging\n",
    "We loose temporal information. Could not be desired, because the isotope spectra get less specific."
   ]
  },
  {
   "cell_type": "code",
   "execution_count": 4,
   "metadata": {},
   "outputs": [],
   "source": [
    "# merge_dir = merge_batch(centroid_dir, run_dir, block_size=None, mz_binning_width=5.0, mz_binning_width_unit=\"ppm\", average_gaussian_cutoff=0.01, file_ending=\".mzML\")\n",
    "# merge_dir = os.path.join(run_dir, \"merged\")"
   ]
  },
  {
   "cell_type": "markdown",
   "metadata": {},
   "source": [
    "## Mass trace detection"
   ]
  },
  {
   "cell_type": "code",
   "execution_count": 5,
   "metadata": {},
   "outputs": [
    {
     "name": "stderr",
     "output_type": "stream",
     "text": [
      "100%|██████████| 6/6 [00:08<00:00,  1.43s/it]\n"
     ]
    }
   ],
   "source": [
    "mass_traces_all = mass_trace_detection_batch(experiments=centroid_dir, file_ending=\".mzML\", \n",
    "                                             mass_error_ppm=10.0, noise_threshold_int= 1000.0, reestimate_mt_sd=\"true\",\n",
    "                                             quant_method=\"median\", trace_termination_criterion=\"outlier\", trace_termination_outliers=3,\n",
    "                                             min_trace_length=5.0, max_trace_length=-1.0)"
   ]
  },
  {
   "cell_type": "markdown",
   "metadata": {},
   "source": [
    "## Elution peak detection\n",
    "Should mostly come out to one peak, but somtimes separation happens in long pipe"
   ]
  },
  {
   "cell_type": "code",
   "execution_count": 6,
   "metadata": {},
   "outputs": [
    {
     "name": "stderr",
     "output_type": "stream",
     "text": [
      "100%|██████████| 6/6 [00:02<00:00,  2.83it/s]\n"
     ]
    }
   ],
   "source": [
    "mass_traces_deconvol_all = elution_peak_detection_batch(mass_traces_all=mass_traces_all, chrom_fwhm=10.0, chrom_peak_snr=2.0,\n",
    "                                                     width_filtering=\"fixed\", min_fwhm=1.0, max_fwhm=60.0,\n",
    "                                                     masstrace_snr_filtering=\"false\")"
   ]
  },
  {
   "cell_type": "code",
   "execution_count": null,
   "metadata": {},
   "outputs": [],
   "source": [
    "import plotly.express as px\n",
    "\n",
    "px.line()"
   ]
  },
  {
   "cell_type": "markdown",
   "metadata": {},
   "source": [
    "## Feature detection"
   ]
  },
  {
   "cell_type": "code",
   "execution_count": 7,
   "metadata": {},
   "outputs": [
    {
     "name": "stderr",
     "output_type": "stream",
     "text": [
      "100%|██████████| 6/6 [00:06<00:00,  1.02s/it]\n"
     ]
    }
   ],
   "source": [
    "feature_maps = feature_detection_untargeted_batch(experiments=centroid_dir,\n",
    "                                                  mass_traces_deconvol_all=mass_traces_deconvol_all, isotope_filtering_model=\"metabolites (2% RMS)\",\n",
    "                                                  local_rt_range=3.0, local_mz_range=5.0, \n",
    "                                                  charge_lower_bound=1, charge_upper_bound=3,\n",
    "                                                  chrom_fwhm=10.0, report_summed_ints=\"true\",\n",
    "                                                  enable_RT_filtering=\"false\", mz_scoring_13C=\"false\",\n",
    "                                                  use_smoothed_intensities=\"false\", report_convex_hulls=\"true\",\n",
    "                                                  report_chromatograms=\"false\", remove_single_traces=\"true\",\n",
    "                                                  mz_scoring_by_elements=\"false\", elements=\"CHNOPS\")"
   ]
  },
  {
   "cell_type": "code",
   "execution_count": 8,
   "metadata": {},
   "outputs": [
    {
     "name": "stdout",
     "output_type": "stream",
     "text": [
      "Storing feature maps:\n"
     ]
    },
    {
     "name": "stderr",
     "output_type": "stream",
     "text": [
      "100%|██████████| 6/6 [00:00<00:00, 25.72it/s]\n"
     ]
    }
   ],
   "source": [
    "store_feature_maps(feature_maps, os.path.join(run_dir, \"features\"), names=centroid_dir, file_ending=\".mzML\")"
   ]
  },
  {
   "cell_type": "markdown",
   "metadata": {},
   "source": [
    "## Feature refinement"
   ]
  },
  {
   "cell_type": "code",
   "execution_count": 9,
   "metadata": {},
   "outputs": [
    {
     "name": "stdout",
     "output_type": "stream",
     "text": [
      "Assign polarity to feature maps:\n"
     ]
    },
    {
     "name": "stderr",
     "output_type": "stream",
     "text": [
      "100%|██████████| 6/6 [00:00<00:00, 201.37it/s]\n"
     ]
    },
    {
     "name": "stdout",
     "output_type": "stream",
     "text": [
      "Separating feature maps:\n"
     ]
    },
    {
     "name": "stderr",
     "output_type": "stream",
     "text": [
      "100%|██████████| 6/6 [00:00<?, ?it/s]\n"
     ]
    }
   ],
   "source": [
    "feature_maps_pol = assign_feature_maps_polarity(feature_maps)\n",
    "feature_maps_pos, feature_maps_neg = separate_feature_maps_pos_neg(feature_maps=feature_maps_pol)"
   ]
  },
  {
   "cell_type": "code",
   "execution_count": 10,
   "metadata": {},
   "outputs": [
    {
     "name": "stdout",
     "output_type": "stream",
     "text": [
      "Detecting adducts:\n"
     ]
    },
    {
     "name": "stderr",
     "output_type": "stream",
     "text": [
      "100%|██████████| 3/3 [00:01<00:00,  2.22it/s]\n"
     ]
    },
    {
     "name": "stdout",
     "output_type": "stream",
     "text": [
      "Storing feature maps:\n"
     ]
    },
    {
     "name": "stderr",
     "output_type": "stream",
     "text": [
      "100%|██████████| 3/3 [00:00<00:00, 16.65it/s]\n"
     ]
    }
   ],
   "source": [
    "pos_adducts = [b\"H:+:0.6\", b\"K:+:0.1\", b\"Na:+:0.1\", b\"NH4:+:0.1\", b\"H-1O-1:+:0.05\", b\"H-3O-2:+:0.05\"]\n",
    "feature_maps_pos_adducts = detect_adducts(feature_maps_pos, potential_adducts=pos_adducts, q_try=\"feature\", mass_max_diff=10.0, unit=\"ppm\", max_minority_bound=2, verbose_level=3)\n",
    "store_feature_maps(feature_maps_pos_adducts, os.path.join(run_dir, \"adduct_features\"), names=centroid_dir, file_ending=\".mzML\")"
   ]
  },
  {
   "cell_type": "code",
   "execution_count": 11,
   "metadata": {},
   "outputs": [
    {
     "name": "stdout",
     "output_type": "stream",
     "text": [
      "Detecting adducts:\n"
     ]
    },
    {
     "name": "stderr",
     "output_type": "stream",
     "text": [
      "100%|██████████| 3/3 [00:01<00:00,  2.73it/s]\n"
     ]
    },
    {
     "name": "stdout",
     "output_type": "stream",
     "text": [
      "Storing feature maps:\n"
     ]
    },
    {
     "name": "stderr",
     "output_type": "stream",
     "text": [
      "100%|██████████| 3/3 [00:00<00:00, 36.22it/s]\n"
     ]
    }
   ],
   "source": [
    "neg_adducts = [b\"H-1:-:0.6\", b\"H-3O-1:-:0.2\", b\"Cl:-:0.1\", b\"Na-1:-:0.05\", b\"K-1:-:0.025\", b\"Br:-:0.025\"]\n",
    "feature_maps_neg_adducts = detect_adducts(feature_maps_neg, potential_adducts=neg_adducts, q_try=\"feature\", mass_max_diff=10.0, unit=\"ppm\", max_minority_bound=2, verbose_level=3)\n",
    "store_feature_maps(feature_maps_neg_adducts, os.path.join(run_dir, \"adduct_features\"), names=centroid_dir, file_ending=\".mzML\")"
   ]
  },
  {
   "cell_type": "code",
   "execution_count": 12,
   "metadata": {},
   "outputs": [
    {
     "name": "stdout",
     "output_type": "stream",
     "text": [
      "Assign polarity to feature maps:\n"
     ]
    },
    {
     "name": "stderr",
     "output_type": "stream",
     "text": [
      "100%|██████████| 1/1 [00:00<00:00, 504.30it/s]\n"
     ]
    },
    {
     "name": "stdout",
     "output_type": "stream",
     "text": [
      "Assign polarity to feature maps:\n"
     ]
    },
    {
     "name": "stderr",
     "output_type": "stream",
     "text": [
      "100%|██████████| 1/1 [00:00<?, ?it/s]\n"
     ]
    }
   ],
   "source": [
    "consensus_map_pos = consensus_features_linking(feature_maps_pos_adducts, feature_grouper_type=\"QT\")\n",
    "consensus_map_pos = assign_feature_maps_polarity([consensus_map_pos], \"positive\")[0]\n",
    "consensus_map_neg = consensus_features_linking(feature_maps_neg_adducts, feature_grouper_type=\"QT\")\n",
    "consensus_map_neg = assign_feature_maps_polarity([consensus_map_neg], \"negative\")[0]"
   ]
  },
  {
   "cell_type": "code",
   "execution_count": 13,
   "metadata": {},
   "outputs": [],
   "source": [
    "cm_pos_df = consensus_map_to_df(consensus_map_pos)\n",
    "filtered_cm_pos_df = filter_consensus_map_df(cm_pos_df, max_missing_values=1, min_feature_quality=0.80)\n",
    "imputed_cm_pos_df = impute_consensus_map_df(filtered_cm_pos_df, n_nearest_neighbours=2)\n",
    "\n",
    "cm_neg_df = consensus_map_to_df(consensus_map_neg)\n",
    "filtered_cm_neg_df = filter_consensus_map_df(cm_neg_df, max_missing_values=1, min_feature_quality=0.80)\n",
    "imputed_cm_neg_df = impute_consensus_map_df(filtered_cm_neg_df, n_nearest_neighbours=2)"
   ]
  },
  {
   "cell_type": "markdown",
   "metadata": {},
   "source": [
    "## Centroiding"
   ]
  },
  {
   "cell_type": "code",
   "execution_count": 14,
   "metadata": {},
   "outputs": [],
   "source": [
    "def extract_centroids_cm_df(cm_df:pd.DataFrame) -> pd.DataFrame:\n",
    "    data_cols = [c for c in cm_df.columns if c not in [\"RT\", \"mz\", \"quality\"]]\n",
    "    intensities = cm_df[data_cols]\n",
    "    intensities = np.where(intensities == 0.0, np.nan, intensities)\n",
    "    centr_df = cm_df[[\"RT\", \"mz\", \"quality\"]].copy()\n",
    "    centr_df[\"centroided_intensity\"] = np.nanmean(intensities, axis=1)\n",
    "    return centr_df"
   ]
  },
  {
   "cell_type": "code",
   "execution_count": 15,
   "metadata": {},
   "outputs": [],
   "source": [
    "cm_neg_centroid_df = extract_centroids_cm_df(cm_neg_df)\n",
    "cm_pos_centroid_df = extract_centroids_cm_df(cm_pos_df)"
   ]
  },
  {
   "cell_type": "markdown",
   "metadata": {},
   "source": [
    "## Labeling"
   ]
  },
  {
   "cell_type": "code",
   "execution_count": 16,
   "metadata": {},
   "outputs": [],
   "source": [
    "mass_search_pos_df = accurate_mass_search(consensus_map_pos, \"../../databases/HMDB/\", os.path.join(run_dir, \"tmp\"),\n",
    " \"PositiveAdducts.tsv\", \"NegativeAdducts.tsv\", \"HMDBMappingFile.tsv\", \"HMDB2StructMapping.tsv\", ionization_mode=\"positive\")\n",
    "mass_search_neg_df = accurate_mass_search(consensus_map_neg, \"../../databases/HMDB/\", os.path.join(run_dir, \"tmp\"),\n",
    " \"PositiveAdducts.tsv\", \"NegativeAdducts.tsv\", \"HMDBMappingFile.tsv\", \"HMDB2StructMapping.tsv\", ionization_mode=\"negative\")"
   ]
  },
  {
   "cell_type": "markdown",
   "metadata": {},
   "source": [
    "## Annotation"
   ]
  },
  {
   "cell_type": "code",
   "execution_count": 17,
   "metadata": {},
   "outputs": [],
   "source": [
    "clean_dir(os.path.join(run_dir, \"results\"))\n",
    "id_pos_df = annotate_consensus_map_df(cm_pos_centroid_df, mass_search_pos_df, os.path.join(run_dir, \"results\", \"pos.tsv\"), mz_tolerance=1e-04)\n",
    "id_neg_df = annotate_consensus_map_df(cm_neg_centroid_df, mass_search_neg_df, os.path.join(run_dir, \"results\", \"neg.tsv\"), mz_tolerance=1e-04)"
   ]
  },
  {
   "cell_type": "markdown",
   "metadata": {},
   "source": [
    "## Merge"
   ]
  },
  {
   "cell_type": "code",
   "execution_count": 18,
   "metadata": {},
   "outputs": [
    {
     "data": {
      "text/plain": [
       "1437"
      ]
     },
     "execution_count": 18,
     "metadata": {},
     "output_type": "execute_result"
    }
   ],
   "source": [
    "len(id_pos_df.index) + len(id_neg_df.index)"
   ]
  },
  {
   "cell_type": "code",
   "execution_count": 19,
   "metadata": {},
   "outputs": [
    {
     "data": {
      "text/html": [
       "<div>\n",
       "<style scoped>\n",
       "    .dataframe tbody tr th:only-of-type {\n",
       "        vertical-align: middle;\n",
       "    }\n",
       "\n",
       "    .dataframe tbody tr th {\n",
       "        vertical-align: top;\n",
       "    }\n",
       "\n",
       "    .dataframe thead th {\n",
       "        text-align: right;\n",
       "    }\n",
       "</style>\n",
       "<table border=\"1\" class=\"dataframe\">\n",
       "  <thead>\n",
       "    <tr style=\"text-align: right;\">\n",
       "      <th></th>\n",
       "      <th>mz</th>\n",
       "      <th>centroided_intensity</th>\n",
       "      <th>identifier</th>\n",
       "    </tr>\n",
       "  </thead>\n",
       "  <tbody>\n",
       "    <tr>\n",
       "      <th>0</th>\n",
       "      <td>767.426869</td>\n",
       "      <td>44872.417969</td>\n",
       "      <td>nan</td>\n",
       "    </tr>\n",
       "    <tr>\n",
       "      <th>1</th>\n",
       "      <td>404.206718</td>\n",
       "      <td>863380.062500</td>\n",
       "      <td>HMDB:HMDB15589;HMDB:HMDB30810;HMDB:HMDB35404;H...</td>\n",
       "    </tr>\n",
       "    <tr>\n",
       "      <th>2</th>\n",
       "      <td>654.581318</td>\n",
       "      <td>24298.349609</td>\n",
       "      <td>HMDB:HMDB39232;HMDB:HMDB07021;HMDB:HMDB07049;H...</td>\n",
       "    </tr>\n",
       "    <tr>\n",
       "      <th>3</th>\n",
       "      <td>265.111163</td>\n",
       "      <td>68061.914062</td>\n",
       "      <td>HMDB:HMDB00235</td>\n",
       "    </tr>\n",
       "    <tr>\n",
       "      <th>4</th>\n",
       "      <td>482.335418</td>\n",
       "      <td>9448.641602</td>\n",
       "      <td>nan;nan</td>\n",
       "    </tr>\n",
       "    <tr>\n",
       "      <th>...</th>\n",
       "      <td>...</td>\n",
       "      <td>...</td>\n",
       "      <td>...</td>\n",
       "    </tr>\n",
       "    <tr>\n",
       "      <th>1424</th>\n",
       "      <td>885.161623</td>\n",
       "      <td>6197.661133</td>\n",
       "      <td>nan;HMDB:HMDB35504;HMDB:HMDB37672;HMDB:HMDB376...</td>\n",
       "    </tr>\n",
       "    <tr>\n",
       "      <th>1425</th>\n",
       "      <td>508.055308</td>\n",
       "      <td>8057.011230</td>\n",
       "      <td>nan</td>\n",
       "    </tr>\n",
       "    <tr>\n",
       "      <th>1426</th>\n",
       "      <td>340.203391</td>\n",
       "      <td>10670.057617</td>\n",
       "      <td>HMDB:HMDB37270</td>\n",
       "    </tr>\n",
       "    <tr>\n",
       "      <th>1427</th>\n",
       "      <td>567.248394</td>\n",
       "      <td>5064.908691</td>\n",
       "      <td>HMDB:HMDB31751;HMDB:HMDB36884</td>\n",
       "    </tr>\n",
       "    <tr>\n",
       "      <th>1428</th>\n",
       "      <td>426.968319</td>\n",
       "      <td>251513.531250</td>\n",
       "      <td>HMDB:HMDB06801;HMDB:HMDB01024</td>\n",
       "    </tr>\n",
       "  </tbody>\n",
       "</table>\n",
       "<p>1429 rows × 3 columns</p>\n",
       "</div>"
      ],
      "text/plain": [
       "              mz  centroided_intensity  \\\n",
       "0     767.426869          44872.417969   \n",
       "1     404.206718         863380.062500   \n",
       "2     654.581318          24298.349609   \n",
       "3     265.111163          68061.914062   \n",
       "4     482.335418           9448.641602   \n",
       "...          ...                   ...   \n",
       "1424  885.161623           6197.661133   \n",
       "1425  508.055308           8057.011230   \n",
       "1426  340.203391          10670.057617   \n",
       "1427  567.248394           5064.908691   \n",
       "1428  426.968319         251513.531250   \n",
       "\n",
       "                                             identifier  \n",
       "0                                                   nan  \n",
       "1     HMDB:HMDB15589;HMDB:HMDB30810;HMDB:HMDB35404;H...  \n",
       "2     HMDB:HMDB39232;HMDB:HMDB07021;HMDB:HMDB07049;H...  \n",
       "3                                        HMDB:HMDB00235  \n",
       "4                                               nan;nan  \n",
       "...                                                 ...  \n",
       "1424  nan;HMDB:HMDB35504;HMDB:HMDB37672;HMDB:HMDB376...  \n",
       "1425                                                nan  \n",
       "1426                                     HMDB:HMDB37270  \n",
       "1427                      HMDB:HMDB31751;HMDB:HMDB36884  \n",
       "1428                      HMDB:HMDB06801;HMDB:HMDB01024  \n",
       "\n",
       "[1429 rows x 3 columns]"
      ]
     },
     "execution_count": 19,
     "metadata": {},
     "output_type": "execute_result"
    }
   ],
   "source": [
    "merged_results_df = merge_by_mz(id_pos_df, id_neg_df)\n",
    "merged_results_df"
   ]
  },
  {
   "cell_type": "code",
   "execution_count": 20,
   "metadata": {},
   "outputs": [],
   "source": [
    "merged_results_df.to_csv(os.path.join(run_dir, \"results\", \"merged.tsv\"), sep=\"\\t\", index=False)"
   ]
  },
  {
   "cell_type": "markdown",
   "metadata": {},
   "source": [
    "## Measurements"
   ]
  },
  {
   "cell_type": "code",
   "execution_count": 21,
   "metadata": {},
   "outputs": [
    {
     "name": "stdout",
     "output_type": "stream",
     "text": [
      "Overall mass deviation of metabolites by RMSD: 0.00162 Da\n"
     ]
    }
   ],
   "source": [
    "rmsd = float(np.mean((mass_search_pos_df[\"exp_mass_to_charge\"] - mass_search_pos_df[\"calc_mass_to_charge\"])**2))**(1/2)\n",
    "print(f\"Overall mass deviation of metabolites by RMSD: {round(rmsd,5)} Da\")"
   ]
  }
 ],
 "metadata": {
  "kernelspec": {
   "display_name": "gemml",
   "language": "python",
   "name": "python3"
  },
  "language_info": {
   "codemirror_mode": {
    "name": "ipython",
    "version": 3
   },
   "file_extension": ".py",
   "mimetype": "text/x-python",
   "name": "python",
   "nbconvert_exporter": "python",
   "pygments_lexer": "ipython3",
   "version": "3.11.7"
  }
 },
 "nbformat": 4,
 "nbformat_minor": 2
}
