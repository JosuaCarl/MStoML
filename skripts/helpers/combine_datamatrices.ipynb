{
 "cells": [
  {
   "cell_type": "code",
   "execution_count": 8,
   "metadata": {},
   "outputs": [],
   "source": [
    "import sys\n",
    "import itertools\n",
    "import shutil\n",
    "\n",
    "sys.path.append(\"..\")\n",
    "from FIA.FIA import *\n",
    "from file_handling import *"
   ]
  },
  {
   "cell_type": "code",
   "execution_count": 9,
   "metadata": {},
   "outputs": [],
   "source": [
    "start = \"/mnt/d\" #\"D:\" # /mnt/d\n",
    "paths = {\"start\":   [f\"{start}/runs/FIA/\"],\n",
    "         \"sub\":     [ \"Com20_single\", \"Com20_val\", \"Com20_repl\", '20220620_P0003_S6-S22_FIA-TOF',\n",
    "                     '20220726_FIA-TOF_Ex0005_msAG24-msAg77', '20220817_P0008_S13-S96_FIA-TOF', '20221221_P0008_S97-S156_FIA-TOF', '20230307_P0017_S1-S15_FIA-TOF',\n",
    "                     '20230505_P0017_S16-S135_FI-TOF', '20230515_P0008_Plasma_Randomized', '20230515_P0008_Serum_Randomized', '20230516_P0008_Gewebe_Randomized',\n",
    "                     '20230629_P0018_S01-S12_FI-TOF', '20230822_P0031_S1-S66_FI-TOF', '20230927_P0031_Decay_DHA_FI-TOF', '20230927_P0031_S001-S066_FI-TOF_1to100_wdh',\n",
    "                     '20231121_P0032_FI-TOF', '20240206_P0038_S01-S12_FI-TOF', '20240216_P0032_plate10_SXX-SXX_FI-TOF', '20240327_TestAfterRelocation_FI-TOF'],\n",
    "         \"subsub\":  [\"merged\"] }\n",
    "path_combs = [os.path.normpath(os.path.join(*path)) for path in itertools.product(*paths.values())]\n",
    "outpath = os.path.normpath(f\"{start}/runs/FIA/all_x_com8/merged\")"
   ]
  },
  {
   "cell_type": "code",
   "execution_count": 13,
   "metadata": {},
   "outputs": [],
   "source": [
    "def read_df(path, framework=pd):\n",
    "    print(f\"Loading: {path}\")\n",
    "    if path.endswith(\".parquet\"):\n",
    "        df = framework.read_parquet( path )\n",
    "    elif path.endswith(\".tsv\"):\n",
    "        if framework == pl:\n",
    "            df = framework.read_csv( path, separator=\"\\t\" )\n",
    "        elif framework == pd:\n",
    "            df = framework.read_csv( path, sep=\"\\t\", index_col=\"mz\")\n",
    "    elif path.endswith(\".feather\"):\n",
    "        df = framework.read_feather( path )\n",
    "    return df\n",
    "\n",
    "def write_df(df, path, framework=pd):\n",
    "    if framework == pl:\n",
    "        if path.endswith(\".parquet\"):\n",
    "            df.write_parquet( path )\n",
    "        elif path.endswith(\".tsv\"):\n",
    "            df.write_csv( path, separator=\"\\t\" )\n",
    "    elif framework == pd:\n",
    "        if path.endswith(\".parquet\"):\n",
    "            df.to_parquet( path )\n",
    "        elif path.endswith(\".tsv\"):\n",
    "            df.to_csv( path, sep=\"\\t\" )\n",
    "        elif path.endswith(\".feather\"):\n",
    "            df.to_feather( path )\n",
    "\n",
    "def concat_dfs(dfs, framework=pd):\n",
    "    if framework == pl:\n",
    "        dfs = framework.concat( dfs, how=\"align\" )\n",
    "    elif framework == pd:\n",
    "        dfs = framework.concat( dfs, axis=\"columns\")\n",
    "    print(dfs.shape)\n",
    "    return dfs\n",
    "\n",
    "def combine_dc(path_combs, outpath, target_format=\"parquet\", framework=pl, bins:int=2):\n",
    "    if len(path_combs) == 1:\n",
    "        if path_combs[0].endswith(target_format):\n",
    "            shutil.copy(path_combs[0], os.path.join(outpath, f\"data_matrix.{target_format}\"))\n",
    "        else:\n",
    "            binned_df = read_df( path_combs[0], framework=framework)\n",
    "            write_df(binned_df, os.path.join(outpath, f\"data_matrix.{target_format}\"), framework=framework)\n",
    "    \n",
    "    else:\n",
    "        tmp_dir = os.path.join(outpath, \"tmp\")\n",
    "        if not os.path.isdir(tmp_dir):\n",
    "            os.mkdir(tmp_dir)\n",
    "\n",
    "        tmp_paths = []\n",
    "        for i, path in enumerate(tqdm(path_combs)):\n",
    "            file = \"\" if os.path.isfile(path) else \"data_matrix.tsv\"\n",
    "            path =  os.path.normpath(os.path.join(path, file))\n",
    "            split = str(os.path.basename(path)).split(\".\")\n",
    "            target_file = f'{\".\".join( split[:-1] )}_{i}.{target_format}'\n",
    "            tmp_paths.append(os.path.join(tmp_dir, target_file))\n",
    "\n",
    "        binned_dfs = []\n",
    "        new_path_combs = []\n",
    "        for i, path in enumerate(tqdm(path_combs)):\n",
    "            check_previous_runs = [os.path.isfile(tmp_path) for tmp_path in tmp_paths[i:np.min([i + bins, len(tmp_paths) - 1])]]\n",
    "            if True not in check_previous_runs:\n",
    "                binned_df = read_df(path, framework=framework)\n",
    "                binned_dfs.append( binned_df )\n",
    "        \n",
    "                if len(binned_dfs) >= bins:\n",
    "                    binned_dfs = concat_dfs(binned_dfs, framework=framework)\n",
    "                    write_df(binned_dfs, tmp_paths[i], framework=framework)\n",
    "                    new_path_combs.append( tmp_paths[i] )\n",
    "                    binned_dfs = []\n",
    "                \n",
    "        if binned_dfs and not os.path.isfile(tmp_paths[i]):\n",
    "            binned_dfs = concat_dfs(binned_dfs, framework=framework)\n",
    "            write_df(binned_dfs, tmp_paths[i], framework=framework)\n",
    "            new_path_combs.append( tmp_paths[i] )\n",
    "    \n",
    "        print(new_path_combs)\n",
    "        combine_dc(new_path_combs, outpath, target_format=target_format, framework=framework)"
   ]
  },
  {
   "cell_type": "code",
   "execution_count": 15,
   "metadata": {},
   "outputs": [
    {
     "name": "stderr",
     "output_type": "stream",
     "text": [
      "100%|██████████| 20/20 [00:00<00:00, 1044.74it/s]\n",
      "  0%|          | 0/20 [00:00<?, ?it/s]"
     ]
    },
    {
     "name": "stdout",
     "output_type": "stream",
     "text": [
      "Loading: /mnt/d/runs/FIA/all_x_com8/merged/data_matrix_12.tsv\n"
     ]
    },
    {
     "name": "stderr",
     "output_type": "stream",
     "text": [
      " 25%|██▌       | 5/20 [00:32<01:38,  6.59s/it]"
     ]
    },
    {
     "name": "stdout",
     "output_type": "stream",
     "text": [
      "Loading: /mnt/d/runs/FIA/all_x_com8/merged/data_matrix_13.tsv\n",
      "(825000, 177)\n"
     ]
    },
    {
     "name": "stderr",
     "output_type": "stream",
     "text": [
      " 30%|███       | 6/20 [01:54<05:24, 23.18s/it]"
     ]
    },
    {
     "name": "stdout",
     "output_type": "stream",
     "text": [
      "Loading: /mnt/d/runs/FIA/all_x_com8/merged/data_matrix_14.tsv\n"
     ]
    },
    {
     "name": "stderr",
     "output_type": "stream",
     "text": [
      " 35%|███▌      | 7/20 [02:13<04:47, 22.14s/it]"
     ]
    },
    {
     "name": "stdout",
     "output_type": "stream",
     "text": [
      "Loading: /mnt/d/runs/FIA/all_x_com8/merged/data_matrix_15.tsv\n"
     ]
    }
   ],
   "source": [
    "combine_dc([os.path.join(outpath, file) for file in os.listdir(outpath) if file.endswith(\".tsv\")], outpath, target_format=\"tsv\", framework=pl, bins=2)"
   ]
  },
  {
   "cell_type": "code",
   "execution_count": 7,
   "metadata": {},
   "outputs": [
    {
     "name": "stderr",
     "output_type": "stream",
     "text": [
      "100%|██████████| 20/20 [06:07<00:00, 18.37s/it]\n"
     ]
    }
   ],
   "source": [
    "for i, path in enumerate(tqdm(path_combs)):\n",
    "    shutil.copy(os.path.join(path, \"data_matrix.tsv\"), os.path.join(outpath, f\"data_matrix_{i}.tsv\"))"
   ]
  },
  {
   "cell_type": "code",
   "execution_count": null,
   "metadata": {},
   "outputs": [
    {
     "name": "stdout",
     "output_type": "stream",
     "text": [
      "Path: /mnt/d/runs/FIA/Com20_single/merged\n",
      "Path: /mnt/d/runs/FIA/Com20_val/merged\n",
      "Path: /mnt/d/runs/FIA/Com8_equal_conc_comb/merged\n",
      "Path: /mnt/d/runs/FIA/Com8_grown_together/merged\n",
      "Path: /mnt/d/runs/FIA/Com20_repl/merged\n",
      "Path: /mnt/d/runs/FIA/20220620_P0003_S6-S22_FIA-TOF/merged\n",
      "Path: /mnt/d/runs/FIA/20220726_FIA-TOF_Ex0005_msAG24-msAg77/merged\n",
      "Path: /mnt/d/runs/FIA/20220817_P0008_S13-S96_FIA-TOF/merged\n",
      "Path: /mnt/d/runs/FIA/20221221_P0008_S97-S156_FIA-TOF/merged\n",
      "Path: /mnt/d/runs/FIA/20230307_P0017_S1-S15_FIA-TOF/merged\n",
      "Path: /mnt/d/runs/FIA/20230505_P0017_S16-S135_FI-TOF/merged\n",
      "Path: /mnt/d/runs/FIA/20230515_P0008_Plasma_Randomized/merged\n",
      "Path: /mnt/d/runs/FIA/20230515_P0008_Serum_Randomized/merged\n",
      "Path: /mnt/d/runs/FIA/20230516_P0008_Gewebe_Randomized/merged\n",
      "Path: /mnt/d/runs/FIA/20230629_P0018_S01-S12_FI-TOF/merged\n",
      "Path: /mnt/d/runs/FIA/20230822_P0031_S1-S66_FI-TOF/merged\n"
     ]
    }
   ],
   "source": [
    "binned_dfs = []\n",
    "for path in path_combs:\n",
    "    print(f\"Path: {path}\")\n",
    "    binned_df = pl.read_csv(os.path.join(path, \"data_matrix.tsv\"), separator=\"\\t\")\n",
    "    binned_dfs.append( binned_df )"
   ]
  },
  {
   "cell_type": "code",
   "execution_count": null,
   "metadata": {},
   "outputs": [],
   "source": []
  }
 ],
 "metadata": {
  "kernelspec": {
   "display_name": "VAE",
   "language": "python",
   "name": "python3"
  },
  "language_info": {
   "codemirror_mode": {
    "name": "ipython",
    "version": 3
   },
   "file_extension": ".py",
   "mimetype": "text/x-python",
   "name": "python",
   "nbconvert_exporter": "python",
   "pygments_lexer": "ipython3",
   "version": "3.11.8"
  }
 },
 "nbformat": 4,
 "nbformat_minor": 2
}
