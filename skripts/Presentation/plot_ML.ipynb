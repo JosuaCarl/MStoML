{
 "cells": [
  {
   "cell_type": "code",
   "execution_count": 1,
   "metadata": {},
   "outputs": [],
   "source": [
    "# imports\n",
    "import sys\n",
    "sys.path.append( '..' )\n",
    "\n",
    "from FIA.FIA import *\n",
    "from ML.ML4com import *\n",
    "from plot import *"
   ]
  },
  {
   "cell_type": "code",
   "execution_count": 6,
   "metadata": {},
   "outputs": [],
   "source": [
    "run = \"latent\" # annot\n",
    "run_dir = f\"../../runs/ML/{run}\"\n",
    "report_dir = f\"../../reports/ML\"\n",
    "\n",
    "source = \"Com8_grown_together\"\n",
    "recon_loss = \"mae_2\"\n",
    "project = f\"{source}_{recon_loss}\" if run.endswith(\"latent\") else source\n",
    "\n",
    "algorithms = [\"Decision tree\", \"Extreme gradient boosting RF\", \"Gaussian Naive-Bayes\", \"K-neighbours classifier\", \"Linear Discriminant Analysis\",\n",
    "              \"Logistic Regression\", \"Neural Network (MLP) SK-learn\", \"Random forest\", \"Support-vector classifier\"]\n",
    "matrices = [\"metrics\", \"organism_metrics\", \"overall_metrics\"]\n",
    "\n",
    "dim_red_methods = {\"Cosine\": \"cos_2\", \"MAE\": \"mae_2\", \"MAE+Cosine\": \"mae_cosine_2\", \"Spectral Entropy\": \"se_2\", }"
   ]
  },
  {
   "cell_type": "code",
   "execution_count": 11,
   "metadata": {},
   "outputs": [],
   "source": [
    "metrics = pd.read_csv(os.path.join(run_dir, project, f\"{algorithms[0]}_{matrices[0]}.tsv\"), sep=\"\\t\", index_col=0)"
   ]
  },
  {
   "cell_type": "code",
   "execution_count": null,
   "metadata": {},
   "outputs": [],
   "source": [
    "dfs = []\n",
    "for dim_red_method, recon_loss in .items():\n",
    "    project = source if \"nnot\" in dim_red_method else f\"{source}_{recon_loss}\"\n",
    "    for algorithm in algorithms:\n",
    "        path = os.path.join(\"../../runs/ML/\", dr_path, f\"{algorithm}_metrics.tsv\")\n",
    "        dfs.append(add_methodology( pd.read_csv( path, sep=\"\\t\", index_col=0),\n",
    "                                    dim_red_method=dim_red_method, classification_algorithm=algorithm))"
   ]
  }
 ],
 "metadata": {
  "kernelspec": {
   "display_name": "VAE",
   "language": "python",
   "name": "python3"
  },
  "language_info": {
   "codemirror_mode": {
    "name": "ipython",
    "version": 3
   },
   "file_extension": ".py",
   "mimetype": "text/x-python",
   "name": "python",
   "nbconvert_exporter": "python",
   "pygments_lexer": "ipython3",
   "version": "3.11.9"
  }
 },
 "nbformat": 4,
 "nbformat_minor": 2
}
