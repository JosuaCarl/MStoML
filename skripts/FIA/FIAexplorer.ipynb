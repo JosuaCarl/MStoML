{
 "cells": [
  {
   "cell_type": "code",
   "execution_count": 1,
   "metadata": {},
   "outputs": [
    {
     "name": "stdout",
     "output_type": "stream",
     "text": [
      "Warning: OPENMS_DATA_PATH environment variable already exists. pyOpenMS will use it (C:\\Program Files\\OpenMS-3.1.0\\share\\OpenMS) to locate data in the OpenMS share folder (e.g., the unimod database), instead of the default (c:\\Users\\JosuaCarl\\miniconda3\\envs\\gemml\\Lib\\site-packages\\pyopenms\\share/OpenMS).\n"
     ]
    }
   ],
   "source": [
    "# Imports\n",
    "import os\n",
    "import datetime\n",
    "import json\n",
    "from typing import overload, Any, List, Dict, Tuple, Set, Sequence, Union, Optional\n",
    "import numpy as np\n",
    "import pandas as pd\n",
    "import pyopenms as oms\n",
    "import matplotlib.pyplot as plt\n",
    "import seaborn as sns\n",
    "import plotly.graph_objects as go\n",
    "import plotly.express as px\n",
    "from tqdm import tqdm\n",
    "import shutil\n",
    "import requests\n",
    "from sklearn.impute import KNNImputer\n",
    "from sklearn.preprocessing import FunctionTransformer\n",
    "from sklearn.pipeline import Pipeline\n",
    "\n",
    "# Ignore seaborn warning for future deprecation of module part\n",
    "import warnings\n",
    "warnings.simplefilter(action='ignore', category=FutureWarning)\n",
    "\n",
    "# import methods from FIA python script\n",
    "from FIA import *\n",
    "\n",
    "oms.LogConfigHandler().setLogLevel(\"DEBUG\")"
   ]
  },
  {
   "cell_type": "markdown",
   "metadata": {},
   "source": [
    "## Read in"
   ]
  },
  {
   "cell_type": "code",
   "execution_count": 2,
   "metadata": {},
   "outputs": [],
   "source": [
    "# set path to your mzML files and workfolder\n",
    "data_dir = \"../../data/example data/exampleA_ecolistrains\"\n",
    "run_dir = \"../../runs/fia_explorer\"\n",
    "\n",
    "data_dir = os.path.normpath(os.path.join(os.getcwd(), data_dir))\n",
    "run_dir = os.path.normpath(os.path.join(os.getcwd(), run_dir))\n",
    "\n",
    "# clean_dir(run_dir)"
   ]
  },
  {
   "cell_type": "markdown",
   "metadata": {},
   "source": [
    "## Centroiding\n",
    "Data reduction with peak picking"
   ]
  },
  {
   "cell_type": "code",
   "execution_count": 3,
   "metadata": {},
   "outputs": [],
   "source": [
    "# centroid_dir = centroid_batch(data_dir, run_dir, file_ending=\".mzXML\")\n",
    "centroid_dir = os.path.join(run_dir, \"centroids\")"
   ]
  },
  {
   "cell_type": "markdown",
   "metadata": {},
   "source": [
    "## Merging\n",
    "We loose temporal information. Could not be desired, because the isotope spectra get less specific."
   ]
  },
  {
   "cell_type": "code",
   "execution_count": 4,
   "metadata": {},
   "outputs": [],
   "source": [
    "# merge_dir = merge_batch(centroid_dir, run_dir, block_size=None, mz_binning_width=5.0, mz_binning_width_unit=\"ppm\", average_gaussian_cutoff=0.01, file_ending=\".mzML\")\n",
    "# merge_dir = os.path.join(run_dir, \"merged\")"
   ]
  },
  {
   "cell_type": "markdown",
   "metadata": {},
   "source": [
    "## Mass trace detection"
   ]
  },
  {
   "cell_type": "code",
   "execution_count": 10,
   "metadata": {},
   "outputs": [
    {
     "name": "stderr",
     "output_type": "stream",
     "text": [
      "100%|██████████| 6/6 [00:03<00:00,  1.50it/s]\n"
     ]
    }
   ],
   "source": [
    "mass_traces_all = mass_trace_detection_batch(experiments=[], in_dir=centroid_dir, file_ending=\".mzML\", \n",
    "                                             mass_error_ppm=10.0, noise_threshold_int= 1000.0, reestimate_mt_sd=\"true\",\n",
    "                                             quant_method=\"median\", trace_termination_criterion=\"outlier\", trace_termination_outliers=3,\n",
    "                                             min_trace_length=5.0, max_trace_length=-1.0)"
   ]
  },
  {
   "cell_type": "markdown",
   "metadata": {},
   "source": [
    "## Elution peak assignment"
   ]
  },
  {
   "cell_type": "code",
   "execution_count": 16,
   "metadata": {},
   "outputs": [
    {
     "name": "stderr",
     "output_type": "stream",
     "text": [
      "100%|██████████| 6/6 [00:02<00:00,  2.60it/s]\n"
     ]
    }
   ],
   "source": [
    "mass_traces_all_final = elution_peak_detection_batch(mass_traces_all=mass_traces_all, chrom_fwhm=10.0, chrom_peak_snr=2.0,\n",
    "                                                     width_filtering=\"fixed\", min_fwhm=1.0, max_fwhm=60.0,\n",
    "                                                     masstrace_snr_filtering=\"false\")"
   ]
  },
  {
   "cell_type": "code",
   "execution_count": null,
   "metadata": {},
   "outputs": [],
   "source": []
  }
 ],
 "metadata": {
  "kernelspec": {
   "display_name": "gemml",
   "language": "python",
   "name": "python3"
  },
  "language_info": {
   "codemirror_mode": {
    "name": "ipython",
    "version": 3
   },
   "file_extension": ".py",
   "mimetype": "text/x-python",
   "name": "python",
   "nbconvert_exporter": "python",
   "pygments_lexer": "ipython3",
   "version": "3.11.7"
  }
 },
 "nbformat": 4,
 "nbformat_minor": 2
}
