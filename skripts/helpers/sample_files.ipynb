{
 "cells": [
  {
   "cell_type": "code",
   "execution_count": 1,
   "metadata": {},
   "outputs": [],
   "source": [
    "import os\n",
    "import itertools\n",
    "import random\n",
    "import shutil\n",
    "from tqdm import tqdm"
   ]
  },
  {
   "cell_type": "code",
   "execution_count": 6,
   "metadata": {},
   "outputs": [],
   "source": [
    "start = \"D:\" # /mnt/d\n",
    "paths = {\"start\":   [f\"{start}/runs/FIA/\"],\n",
    "         \"sub\":     [ \"Com20_single\", \"Com20_val\", \"Com8_equal_conc_comb\", \"Com8_grown_together\", \"Com20_repl\", '20220620_P0003_S6-S22_FIA-TOF',\n",
    "                     '20220726_FIA-TOF_Ex0005_msAG24-msAg77', '20220817_P0008_S13-S96_FIA-TOF', '20221221_P0008_S97-S156_FIA-TOF', '20230307_P0017_S1-S15_FIA-TOF',\n",
    "                     '20230505_P0017_S16-S135_FI-TOF', '20230515_P0008_Plasma_Randomized', '20230515_P0008_Serum_Randomized', '20230516_P0008_Gewebe_Randomized',\n",
    "                     '20230629_P0018_S01-S12_FI-TOF', '20230822_P0031_S1-S66_FI-TOF', '20230927_P0031_Decay_DHA_FI-TOF', '20230927_P0031_S001-S066_FI-TOF_1to100_wdh',\n",
    "                     '20231121_P0032_FI-TOF', '20240206_P0038_S01-S12_FI-TOF', '20240216_P0032_plate10_SXX-SXX_FI-TOF', '20240327_TestAfterRelocation_FI-TOF'],\n",
    "         \"subsub\":  [\"merged\"] }\n",
    "path_combs = [os.path.join(*path) for path in itertools.product(*paths.values())]\n",
    "target = os.path.join(paths[\"start\"][0], \"all\")"
   ]
  },
  {
   "cell_type": "code",
   "execution_count": 7,
   "metadata": {},
   "outputs": [],
   "source": [
    "total_paths = []\n",
    "for p in path_combs:\n",
    "    for file in os.listdir(p):\n",
    "        path = os.path.join(p, file)\n",
    "        if os.path.isfile(path):\n",
    "            total_paths.append(path)\n",
    "    "
   ]
  },
  {
   "cell_type": "code",
   "execution_count": 8,
   "metadata": {},
   "outputs": [
    {
     "name": "stderr",
     "output_type": "stream",
     "text": [
      "100%|██████████| 853/853 [10:16<00:00,  1.38it/s]  \n"
     ]
    }
   ],
   "source": [
    "samples = total_paths # <- for all random.sample(total_paths, 100)\n",
    "for sample in tqdm(samples):\n",
    "    shutil.copy(sample, target)"
   ]
  },
  {
   "cell_type": "code",
   "execution_count": null,
   "metadata": {},
   "outputs": [],
   "source": []
  }
 ],
 "metadata": {
  "kernelspec": {
   "display_name": "FIA_VAE",
   "language": "python",
   "name": "python3"
  },
  "language_info": {
   "codemirror_mode": {
    "name": "ipython",
    "version": 3
   },
   "file_extension": ".py",
   "mimetype": "text/x-python",
   "name": "python",
   "nbconvert_exporter": "python",
   "pygments_lexer": "ipython3",
   "version": "3.11.8"
  }
 },
 "nbformat": 4,
 "nbformat_minor": 2
}
