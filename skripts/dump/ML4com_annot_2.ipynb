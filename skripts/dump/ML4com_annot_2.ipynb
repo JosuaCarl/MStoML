{
 "cells": [
  {
   "cell_type": "markdown",
   "metadata": {},
   "source": [
    "# Machine Learning for metabolomes of microbial communities"
   ]
  },
  {
   "cell_type": "code",
   "execution_count": 1,
   "metadata": {},
   "outputs": [],
   "source": [
    "# imports\n",
    "import sys\n",
    "sys.path.append( '../FIA' )\n",
    "sys.path.append( '../ML' )\n",
    "sys.path.append( '..' )\n",
    "\n",
    "from helpers.normalization import *\n",
    "from FIA import *\n",
    "from ML4com import *\n",
    "from DL4com import *"
   ]
  },
  {
   "cell_type": "markdown",
   "metadata": {},
   "source": [
    "## Loading in"
   ]
  },
  {
   "cell_type": "code",
   "execution_count": 2,
   "metadata": {},
   "outputs": [],
   "source": [
    "orig_dir = os.path.normpath(os.path.join(os.getcwd(), \"/mnt/d/data/Com8_grown_together\"))\n",
    "data_dir  = os.path.normpath(os.path.join(os.getcwd(), \"/mnt/d/runs/FIA/Com8_grown_together\"))\n",
    "run_dir = os.path.normpath(os.path.join(os.getcwd(), \"/mnt/d/runs/ML/annot\"))\n",
    "\n",
    "strains = pd.read_csv( os.path.join(orig_dir, \"strains.tsv\"), sep=\"\\t\")\n",
    "comm = pd.read_csv( os.path.join(orig_dir, \"comb_one_hot.tsv\"), sep=\"\\t\")\n",
    "metData = pd.read_csv( os.path.join(orig_dir, \"metData.tsv\"), sep=\"\\t\")\n",
    "metData.index = pd.read_csv( os.path.join(orig_dir, \"metName.tsv\"), sep=\"\\t\")\n",
    "\n",
    "met_raw_pos = pd.read_excel( os.path.join(orig_dir,\"FIA-Data Com8_20230717_P0024_msAV206-312.xlsx\"), sheet_name=\"pos\" )\n",
    "met_raw_neg = pd.read_excel( os.path.join(orig_dir,\"FIA-Data Com8_20230717_P0024_msAV206-312.xlsx\"), sheet_name=\"neg\" )\n",
    "met_raw_comb = pd.concat( [total_ion_count_normalization( join_df_metNames(met_raw_pos) ),\n",
    "                           total_ion_count_normalization( join_df_metNames(met_raw_neg) )] )\n",
    "\n",
    "outdir = Path( os.path.normpath( run_dir ) )"
   ]
  },
  {
   "cell_type": "markdown",
   "metadata": {},
   "source": [
    "## Normalization"
   ]
  },
  {
   "cell_type": "code",
   "execution_count": 3,
   "metadata": {},
   "outputs": [],
   "source": [
    "X = met_raw_comb.transpose()\n",
    "ys = comm\n",
    "targets = strains.values.flatten()"
   ]
  },
  {
   "cell_type": "markdown",
   "metadata": {},
   "source": [
    "## Learning and tuning"
   ]
  },
  {
   "cell_type": "code",
   "execution_count": 4,
   "metadata": {},
   "outputs": [],
   "source": [
    "from sklearn.model_selection import cross_val_score"
   ]
  },
  {
   "cell_type": "code",
   "execution_count": 5,
   "metadata": {},
   "outputs": [],
   "source": [
    "run_dir = \"../../runs/ML/annot\""
   ]
  },
  {
   "cell_type": "code",
   "execution_count": 6,
   "metadata": {},
   "outputs": [
    {
     "ename": "SyntaxError",
     "evalue": "'break' outside loop (668683560.py, line 1)",
     "output_type": "error",
     "traceback": [
      "\u001b[0;36m  Cell \u001b[0;32mIn[6], line 1\u001b[0;36m\u001b[0m\n\u001b[0;31m    break\u001b[0m\n\u001b[0m    ^\u001b[0m\n\u001b[0;31mSyntaxError\u001b[0m\u001b[0;31m:\u001b[0m 'break' outside loop\n"
     ]
    }
   ],
   "source": [
    "break"
   ]
  },
  {
   "cell_type": "markdown",
   "metadata": {},
   "source": [
    "### SVM"
   ]
  },
  {
   "cell_type": "code",
   "execution_count": null,
   "metadata": {},
   "outputs": [],
   "source": [
    "from sklearn.tree import DecisionTreeClassifier\n",
    "\n",
    "configuration_space = ConfigurationSpace()\n",
    "ccp_alpha   = Float(\"ccp_alpha\", (1e-3, 1e-1), log=True, default=0.01)\n",
    "configuration_space.add_hyperparameters([ccp_alpha])\n",
    "\n",
    "classifier = SKL_Classifier(X, ys, cv=5, configuration_space=configuration_space, classifier=DecisionTreeClassifier)\n",
    "\n",
    "scenario = Scenario(classifier.configuration_space, deterministic=True, n_workers=4, n_trials=200,\n",
    "                    walltime_limit=np.inf, cputime_limit=np.inf, trial_memory_limit=None,\n",
    "                    output_directory=Path(os.path.normpath(\"/mnt/d/runs/ML/NN/smac_dt\")))\n",
    "\n",
    "smac = HyperparameterOptimizationFacade(scenario, classifier.train)\n",
    "incumbent = smac.optimize()"
   ]
  },
  {
   "cell_type": "code",
   "execution_count": null,
   "metadata": {},
   "outputs": [],
   "source": [
    "if isinstance(incumbent, list):\n",
    "    best_hp = incumbent[0]\n",
    "else: \n",
    "    best_hp = incumbent\n",
    "\n",
    "metrics_df = cross_validate_model_sklearn(DecisionTreeClassifier, X, ys, strains[\"0\"], config=best_hp,\n",
    "\t\t\t\t\t\t\t\t          fold=StratifiedKFold(n_splits=5), verbosity=0)"
   ]
  },
  {
   "cell_type": "markdown",
   "metadata": {},
   "source": [
    "### Decision Tree"
   ]
  },
  {
   "cell_type": "code",
   "execution_count": 42,
   "metadata": {},
   "outputs": [
    {
     "name": "stdout",
     "output_type": "stream",
     "text": [
      "[INFO][abstract_initial_design.py:147] Using 10 initial design configurations and 0 additional configurations.\n",
      "[INFO][smbo.py:497] Continuing from previous run.\n",
      "[INFO][abstract_intensifier.py:287] Added existing seed 209652396 from runhistory to the intensifier.\n",
      "[INFO][abstract_intensifier.py:305] Using only one seed for deterministic scenario.\n",
      "[INFO][abstract_intensifier.py:590] Added config d2fe19 and rejected config 7474ab as incumbent because it is not better than the incumbents on 1 instances:\n",
      "[INFO][smbo.py:319] Finished 50 trials.\n",
      "[INFO][smbo.py:319] Finished 100 trials.\n",
      "[INFO][smbo.py:319] Finished 150 trials.\n",
      "[INFO][smbo.py:319] Finished 150 trials.\n",
      "[INFO][smbo.py:319] Finished 150 trials.\n",
      "[INFO][smbo.py:319] Finished 150 trials.\n",
      "[INFO][smbo.py:327] Configuration budget is exhausted:\n",
      "[INFO][smbo.py:328] --- Remaining wallclock time: inf\n",
      "[INFO][smbo.py:329] --- Remaining cpu time: inf\n",
      "[INFO][smbo.py:330] --- Remaining trials: 0\n"
     ]
    }
   ],
   "source": [
    "algorithm = \"decision_tree\"\n",
    "from sklearn.tree import DecisionTreeClassifier\n",
    "\n",
    "configuration_space = ConfigurationSpace()\n",
    "ccp_alpha   = Float(\"ccp_alpha\", (1e-3, 1e-1), log=True, default=0.01)\n",
    "configuration_space.add_hyperparameters([ccp_alpha])\n",
    "\n",
    "classifier = SKL_Classifier(X, ys, cv=5, configuration_space=configuration_space, classifier=DecisionTreeClassifier)\n",
    "\n",
    "scenario = Scenario(classifier.configuration_space, deterministic=True, n_workers=4, n_trials=200,\n",
    "                    walltime_limit=np.inf, cputime_limit=np.inf, trial_memory_limit=None,\n",
    "                    output_directory=Path(os.path.normpath( os.path.join(run_dir, algorithm))))\n",
    "\n",
    "smac = HyperparameterOptimizationFacade(scenario, classifier.train)\n",
    "\n",
    "mlflow.set_tracking_uri(Path(os.path.join(outdir, \"mlruns\")))\n",
    "mlflow.set_experiment(f\"annotated_{algorithm}\")\n",
    "with mlflow.start_run(run_name=f\"annotated_{algorithm}\"):\n",
    "    mlflow.set_tag(\"test_identifier\", \"parent\")\n",
    "    incumbent = smac.optimize()"
   ]
  },
  {
   "cell_type": "code",
   "execution_count": 43,
   "metadata": {},
   "outputs": [
    {
     "name": "stderr",
     "output_type": "stream",
     "text": [
      "100%|██████████| 8/8 [00:02<00:00,  3.96it/s]\n"
     ]
    }
   ],
   "source": [
    "if isinstance(incumbent, list):\n",
    "    best_hp = incumbent[0]\n",
    "else: \n",
    "    best_hp = incumbent\n",
    "\n",
    "metrics_df = cross_validate_model_sklearn(DecisionTreeClassifier, X, ys, strains[\"0\"], config=best_hp,\n",
    "\t\t\t\t\t\t\t\t          fold=StratifiedKFold(n_splits=5), verbosity=0)"
   ]
  },
  {
   "cell_type": "markdown",
   "metadata": {},
   "source": [
    "## Random Forest"
   ]
  },
  {
   "cell_type": "markdown",
   "metadata": {},
   "source": [
    "### Standard"
   ]
  },
  {
   "cell_type": "code",
   "execution_count": 33,
   "metadata": {},
   "outputs": [
    {
     "name": "stderr",
     "output_type": "stream",
     "text": [
      "/home/josua/miniconda3_linux/envs/MStoML/lib/python3.11/site-packages/distributed/node.py:182: UserWarning: Port 8787 is already in use.\n",
      "Perhaps you already have a cluster running?\n",
      "Hosting the HTTP server on port 39757 instead\n",
      "  warnings.warn(\n"
     ]
    },
    {
     "name": "stdout",
     "output_type": "stream",
     "text": [
      "[INFO][abstract_initial_design.py:147] Using 30 initial design configurations and 0 additional configurations.\n",
      "[INFO][smbo.py:497] Continuing from previous run.\n",
      "[INFO][abstract_intensifier.py:287] Added existing seed 209652396 from runhistory to the intensifier.\n",
      "[INFO][abstract_intensifier.py:305] Using only one seed for deterministic scenario.\n",
      "[INFO][smbo.py:319] Finished 50 trials.\n",
      "[INFO][smbo.py:319] Finished 100 trials.\n",
      "[INFO][abstract_intensifier.py:590] Added config 803917 and rejected config d1f329 as incumbent because it is not better than the incumbents on 1 instances:\n",
      "[INFO][abstract_intensifier.py:590] Added config b90126 and rejected config 803917 as incumbent because it is not better than the incumbents on 1 instances:\n",
      "[INFO][smbo.py:319] Finished 150 trials.\n",
      "[INFO][smbo.py:327] Configuration budget is exhausted:\n",
      "[INFO][smbo.py:328] --- Remaining wallclock time: inf\n",
      "[INFO][smbo.py:329] --- Remaining cpu time: inf\n",
      "[INFO][smbo.py:330] --- Remaining trials: 0\n"
     ]
    }
   ],
   "source": [
    "from sklearn.ensemble import RandomForestClassifier\n",
    "\n",
    "configuration_space = ConfigurationSpace()\n",
    "ccp_alpha       = Float(\"ccp_alpha\", (1e-3, 1e-1), log=True, default=0.01)\n",
    "n_estimators    = Integer(\"n_estimators\", (10,1000), log=True, default=100)\n",
    "max_depth       = Integer(\"max_depth\", (5, 100), default=20)\n",
    "configuration_space.add_hyperparameters([ccp_alpha, n_estimators, max_depth])\n",
    "\n",
    "classifier = SKL_Classifier(X, ys, cv=5, configuration_space=configuration_space, classifier=RandomForestClassifier)\n",
    "\n",
    "scenario = Scenario(classifier.configuration_space, deterministic=True, n_workers=4, n_trials=200,\n",
    "                    walltime_limit=np.inf, cputime_limit=np.inf, trial_memory_limit=None,\n",
    "                    output_directory=Path(os.path.normpath(\"/mnt/d/runs/ML/NN/smac_rf\")))\n",
    "\n",
    "smac = HyperparameterOptimizationFacade(scenario, classifier.train)\n",
    "incumbent = smac.optimize()"
   ]
  },
  {
   "cell_type": "code",
   "execution_count": 35,
   "metadata": {},
   "outputs": [
    {
     "name": "stderr",
     "output_type": "stream",
     "text": [
      "100%|██████████| 8/8 [00:31<00:00,  3.98s/it]\n"
     ]
    }
   ],
   "source": [
    "if isinstance(incumbent, list):\n",
    "    best_hp = incumbent[0]\n",
    "else: \n",
    "    best_hp = incumbent\n",
    "\n",
    "metrics_df = cross_validate_model_sklearn(RandomForestClassifier, X, ys, targets, config=best_hp,\n",
    "\t\t\t\t\t\t\t\t          fold=StratifiedKFold(n_splits=5), verbosity=0)"
   ]
  },
  {
   "cell_type": "markdown",
   "metadata": {},
   "source": [
    "### Gradient Boosting"
   ]
  },
  {
   "cell_type": "markdown",
   "metadata": {},
   "source": [
    "##### Extreme Gradiant Boosting"
   ]
  },
  {
   "cell_type": "code",
   "execution_count": 50,
   "metadata": {},
   "outputs": [
    {
     "name": "stdout",
     "output_type": "stream",
     "text": [
      "[INFO][abstract_initial_design.py:95] Reducing the number of initial configurations from 60 to 50 (max_ratio == 0.25).\n"
     ]
    },
    {
     "name": "stderr",
     "output_type": "stream",
     "text": [
      "/home/josua/miniconda3_linux/envs/MStoML/lib/python3.11/site-packages/distributed/node.py:182: UserWarning: Port 8787 is already in use.\n",
      "Perhaps you already have a cluster running?\n",
      "Hosting the HTTP server on port 45093 instead\n",
      "  warnings.warn(\n"
     ]
    },
    {
     "name": "stdout",
     "output_type": "stream",
     "text": [
      "[INFO][abstract_initial_design.py:147] Using 50 initial design configurations and 0 additional configurations.\n",
      "[INFO][abstract_intensifier.py:305] Using only one seed for deterministic scenario.\n",
      "[INFO][smbo.py:319] Finished 0 trials.\n",
      "[INFO][smbo.py:319] Finished 0 trials.\n",
      "[INFO][smbo.py:319] Finished 0 trials.\n",
      "[INFO][smbo.py:319] Finished 0 trials.\n",
      "[INFO][abstract_intensifier.py:515] Added config 829f77 as new incumbent because there are no incumbents yet.\n",
      "[INFO][abstract_intensifier.py:590] Added config 907d4b and rejected config 829f77 as incumbent because it is not better than the incumbents on 1 instances:\n",
      "[INFO][abstract_intensifier.py:590] Added config abb74f and rejected config 907d4b as incumbent because it is not better than the incumbents on 1 instances:\n",
      "[INFO][abstract_intensifier.py:590] Added config 6fddbd and rejected config abb74f as incumbent because it is not better than the incumbents on 1 instances:\n",
      "[INFO][smbo.py:319] Finished 50 trials.\n"
     ]
    },
    {
     "name": "stderr",
     "output_type": "stream",
     "text": [
      "2024-03-25 16:54:00,240 - distributed.utils_perf - INFO - full garbage collection released 11.41 MiB from 62219 reference cycles (threshold: 9.54 MiB)\n"
     ]
    },
    {
     "name": "stdout",
     "output_type": "stream",
     "text": [
      "[INFO][smbo.py:319] Finished 100 trials.\n",
      "[INFO][abstract_intensifier.py:590] Added config 1dac7a and rejected config 6fddbd as incumbent because it is not better than the incumbents on 1 instances:\n",
      "[INFO][smbo.py:319] Finished 150 trials.\n",
      "[INFO][smbo.py:327] Configuration budget is exhausted:\n",
      "[INFO][smbo.py:328] --- Remaining wallclock time: inf\n",
      "[INFO][smbo.py:329] --- Remaining cpu time: inf\n",
      "[INFO][smbo.py:330] --- Remaining trials: 0\n"
     ]
    },
    {
     "name": "stderr",
     "output_type": "stream",
     "text": [
      "2024-03-26 08:04:36,800 - distributed.core - INFO - Event loop was unresponsive in Scheduler for 47461.35s.  This is often caused by long-running GIL-holding functions or moving large chunks of data. This can cause timeouts and instability.\n",
      "2024-03-26 08:04:36,807 - distributed.core - INFO - Event loop was unresponsive in Nanny for 47461.35s.  This is often caused by long-running GIL-holding functions or moving large chunks of data. This can cause timeouts and instability.\n",
      "2024-03-26 08:04:36,808 - distributed.core - INFO - Event loop was unresponsive in Nanny for 47461.36s.  This is often caused by long-running GIL-holding functions or moving large chunks of data. This can cause timeouts and instability.\n",
      "2024-03-26 08:04:36,809 - distributed.core - INFO - Event loop was unresponsive in Nanny for 47461.36s.  This is often caused by long-running GIL-holding functions or moving large chunks of data. This can cause timeouts and instability.\n",
      "2024-03-26 08:04:36,811 - distributed.core - INFO - Event loop was unresponsive in Nanny for 47461.36s.  This is often caused by long-running GIL-holding functions or moving large chunks of data. This can cause timeouts and instability.\n",
      "2024-03-26 10:50:03,842 - distributed.core - INFO - Event loop was unresponsive in Nanny for 2698.12s.  This is often caused by long-running GIL-holding functions or moving large chunks of data. This can cause timeouts and instability.\n",
      "2024-03-26 10:50:03,843 - distributed.core - INFO - Event loop was unresponsive in Nanny for 2698.12s.  This is often caused by long-running GIL-holding functions or moving large chunks of data. This can cause timeouts and instability.\n",
      "2024-03-26 10:50:03,843 - distributed.core - INFO - Event loop was unresponsive in Nanny for 2698.12s.  This is often caused by long-running GIL-holding functions or moving large chunks of data. This can cause timeouts and instability.\n",
      "2024-03-26 10:50:03,845 - distributed.core - INFO - Event loop was unresponsive in Nanny for 2698.12s.  This is often caused by long-running GIL-holding functions or moving large chunks of data. This can cause timeouts and instability.\n",
      "2024-03-26 10:50:03,855 - distributed.core - INFO - Event loop was unresponsive in Scheduler for 2698.12s.  This is often caused by long-running GIL-holding functions or moving large chunks of data. This can cause timeouts and instability.\n",
      "2024-03-26 12:03:10,724 - distributed.core - INFO - Event loop was unresponsive in Scheduler for 787.79s.  This is often caused by long-running GIL-holding functions or moving large chunks of data. This can cause timeouts and instability.\n",
      "2024-03-26 12:03:10,725 - distributed.core - INFO - Event loop was unresponsive in Nanny for 787.78s.  This is often caused by long-running GIL-holding functions or moving large chunks of data. This can cause timeouts and instability.\n",
      "2024-03-26 12:03:10,737 - distributed.core - INFO - Event loop was unresponsive in Nanny for 787.79s.  This is often caused by long-running GIL-holding functions or moving large chunks of data. This can cause timeouts and instability.\n",
      "2024-03-26 12:03:10,739 - distributed.core - INFO - Event loop was unresponsive in Nanny for 787.80s.  This is often caused by long-running GIL-holding functions or moving large chunks of data. This can cause timeouts and instability.\n",
      "2024-03-26 12:03:10,741 - distributed.core - INFO - Event loop was unresponsive in Nanny for 787.80s.  This is often caused by long-running GIL-holding functions or moving large chunks of data. This can cause timeouts and instability.\n"
     ]
    }
   ],
   "source": [
    "from xgboost import XGBClassifier\n",
    "\n",
    "configuration_space = ConfigurationSpace()\n",
    "objective           = Constant(\"objective\", \"binary:logistic\")\n",
    "num_parallel_tree   = Constant(\"num_parallel_tree\", 4)\n",
    "n_estimators        = Integer(\"n_estimators\", (10,1000), log=True, default=100)\n",
    "max_depth           = Integer(\"max_depth\", (1, 100), default=20)\n",
    "subsample           = Float(\"subsample\", (1e-1, 1e0), default=1e0)\n",
    "learning_rate       = Float(\"learning_rate\", (1e-2, 5e-1), default=1e-1)\n",
    "configuration_space.add_hyperparameters([objective, num_parallel_tree, n_estimators, max_depth, subsample, learning_rate])\n",
    "\n",
    "classifier = SKL_Classifier(np.array(X), np.array(ys), cv=5, configuration_space=configuration_space, classifier=XGBClassifier)\n",
    "\n",
    "scenario = Scenario(classifier.configuration_space, deterministic=True, n_workers=4, n_trials=200,\n",
    "                    walltime_limit=np.inf, cputime_limit=np.inf, trial_memory_limit=None,\n",
    "                    output_directory=Path(os.path.normpath(\"/mnt/d/runs/ML/NN/smac_xg\")))\n",
    "\n",
    "smac = HyperparameterOptimizationFacade(scenario, classifier.train)\n",
    "xg_incumbent = smac.optimize()"
   ]
  },
  {
   "cell_type": "code",
   "execution_count": 53,
   "metadata": {},
   "outputs": [
    {
     "name": "stderr",
     "output_type": "stream",
     "text": [
      "  0%|          | 0/8 [00:03<?, ?it/s]\n"
     ]
    },
    {
     "ename": "KeyboardInterrupt",
     "evalue": "",
     "output_type": "error",
     "traceback": [
      "\u001b[0;31m---------------------------------------------------------------------------\u001b[0m",
      "\u001b[0;31mKeyboardInterrupt\u001b[0m                         Traceback (most recent call last)",
      "Cell \u001b[0;32mIn[53], line 6\u001b[0m\n\u001b[1;32m      3\u001b[0m \u001b[38;5;28;01melse\u001b[39;00m: \n\u001b[1;32m      4\u001b[0m     best_hp \u001b[38;5;241m=\u001b[39m incumbent\n\u001b[0;32m----> 6\u001b[0m metrics_df \u001b[38;5;241m=\u001b[39m \u001b[43mcross_validate_model_sklearn\u001b[49m\u001b[43m(\u001b[49m\u001b[43mXGBClassifier\u001b[49m\u001b[43m,\u001b[49m\u001b[43m \u001b[49m\u001b[43mX\u001b[49m\u001b[43m,\u001b[49m\u001b[43m \u001b[49m\u001b[43mys\u001b[49m\u001b[43m,\u001b[49m\u001b[43m \u001b[49m\u001b[43mtargets\u001b[49m\u001b[43m,\u001b[49m\u001b[43m \u001b[49m\u001b[43mconfig\u001b[49m\u001b[38;5;241;43m=\u001b[39;49m\u001b[43mbest_hp\u001b[49m\u001b[43m,\u001b[49m\n\u001b[1;32m      7\u001b[0m \u001b[43m\t\t\t\t\t\t\t\t          \u001b[49m\u001b[43mfold\u001b[49m\u001b[38;5;241;43m=\u001b[39;49m\u001b[43mStratifiedKFold\u001b[49m\u001b[43m(\u001b[49m\u001b[43mn_splits\u001b[49m\u001b[38;5;241;43m=\u001b[39;49m\u001b[38;5;241;43m5\u001b[39;49m\u001b[43m)\u001b[49m\u001b[43m,\u001b[49m\u001b[43m \u001b[49m\u001b[43mverbosity\u001b[49m\u001b[38;5;241;43m=\u001b[39;49m\u001b[38;5;241;43m0\u001b[39;49m\u001b[43m)\u001b[49m\n",
      "Cell \u001b[0;32mIn[15], line 27\u001b[0m, in \u001b[0;36mcross_validate_model_sklearn\u001b[0;34m(model_in, X, ys, labels, config, fold, verbosity)\u001b[0m\n\u001b[1;32m     24\u001b[0m validation_data \u001b[38;5;241m=\u001b[39m X\u001b[38;5;241m.\u001b[39miloc[val_index]\n\u001b[1;32m     25\u001b[0m validation_labels \u001b[38;5;241m=\u001b[39m y\u001b[38;5;241m.\u001b[39miloc[val_index]\n\u001b[0;32m---> 27\u001b[0m \u001b[43mmodel\u001b[49m\u001b[38;5;241;43m.\u001b[39;49m\u001b[43mfit\u001b[49m\u001b[43m(\u001b[49m\u001b[43mnp\u001b[49m\u001b[38;5;241;43m.\u001b[39;49m\u001b[43marray\u001b[49m\u001b[43m(\u001b[49m\u001b[43mtraining_data\u001b[49m\u001b[43m)\u001b[49m\u001b[43m,\u001b[49m\u001b[43m \u001b[49m\u001b[43mnp\u001b[49m\u001b[38;5;241;43m.\u001b[39;49m\u001b[43marray\u001b[49m\u001b[43m(\u001b[49m\u001b[43mtraining_labels\u001b[49m\u001b[43m)\u001b[49m\u001b[43m)\u001b[49m\n\u001b[1;32m     29\u001b[0m prediction \u001b[38;5;241m=\u001b[39m model\u001b[38;5;241m.\u001b[39mpredict(np\u001b[38;5;241m.\u001b[39marray(validation_data))\n\u001b[1;32m     30\u001b[0m metrics_df \u001b[38;5;241m=\u001b[39m extract_metrics(validation_labels, prediction, labels[i], cv_i\u001b[38;5;241m+\u001b[39m\u001b[38;5;241m1\u001b[39m, metrics_df)\n",
      "File \u001b[0;32m~/miniconda3_linux/envs/MStoML/lib/python3.11/site-packages/xgboost/core.py:730\u001b[0m, in \u001b[0;36mrequire_keyword_args.<locals>.throw_if.<locals>.inner_f\u001b[0;34m(*args, **kwargs)\u001b[0m\n\u001b[1;32m    728\u001b[0m \u001b[38;5;28;01mfor\u001b[39;00m k, arg \u001b[38;5;129;01min\u001b[39;00m \u001b[38;5;28mzip\u001b[39m(sig\u001b[38;5;241m.\u001b[39mparameters, args):\n\u001b[1;32m    729\u001b[0m     kwargs[k] \u001b[38;5;241m=\u001b[39m arg\n\u001b[0;32m--> 730\u001b[0m \u001b[38;5;28;01mreturn\u001b[39;00m \u001b[43mfunc\u001b[49m\u001b[43m(\u001b[49m\u001b[38;5;241;43m*\u001b[39;49m\u001b[38;5;241;43m*\u001b[39;49m\u001b[43mkwargs\u001b[49m\u001b[43m)\u001b[49m\n",
      "File \u001b[0;32m~/miniconda3_linux/envs/MStoML/lib/python3.11/site-packages/xgboost/sklearn.py:1519\u001b[0m, in \u001b[0;36mXGBClassifier.fit\u001b[0;34m(self, X, y, sample_weight, base_margin, eval_set, eval_metric, early_stopping_rounds, verbose, xgb_model, sample_weight_eval_set, base_margin_eval_set, feature_weights, callbacks)\u001b[0m\n\u001b[1;32m   1491\u001b[0m (\n\u001b[1;32m   1492\u001b[0m     model,\n\u001b[1;32m   1493\u001b[0m     metric,\n\u001b[0;32m   (...)\u001b[0m\n\u001b[1;32m   1498\u001b[0m     xgb_model, eval_metric, params, early_stopping_rounds, callbacks\n\u001b[1;32m   1499\u001b[0m )\n\u001b[1;32m   1500\u001b[0m train_dmatrix, evals \u001b[38;5;241m=\u001b[39m _wrap_evaluation_matrices(\n\u001b[1;32m   1501\u001b[0m     missing\u001b[38;5;241m=\u001b[39m\u001b[38;5;28mself\u001b[39m\u001b[38;5;241m.\u001b[39mmissing,\n\u001b[1;32m   1502\u001b[0m     X\u001b[38;5;241m=\u001b[39mX,\n\u001b[0;32m   (...)\u001b[0m\n\u001b[1;32m   1516\u001b[0m     feature_types\u001b[38;5;241m=\u001b[39m\u001b[38;5;28mself\u001b[39m\u001b[38;5;241m.\u001b[39mfeature_types,\n\u001b[1;32m   1517\u001b[0m )\n\u001b[0;32m-> 1519\u001b[0m \u001b[38;5;28mself\u001b[39m\u001b[38;5;241m.\u001b[39m_Booster \u001b[38;5;241m=\u001b[39m \u001b[43mtrain\u001b[49m\u001b[43m(\u001b[49m\n\u001b[1;32m   1520\u001b[0m \u001b[43m    \u001b[49m\u001b[43mparams\u001b[49m\u001b[43m,\u001b[49m\n\u001b[1;32m   1521\u001b[0m \u001b[43m    \u001b[49m\u001b[43mtrain_dmatrix\u001b[49m\u001b[43m,\u001b[49m\n\u001b[1;32m   1522\u001b[0m \u001b[43m    \u001b[49m\u001b[38;5;28;43mself\u001b[39;49m\u001b[38;5;241;43m.\u001b[39;49m\u001b[43mget_num_boosting_rounds\u001b[49m\u001b[43m(\u001b[49m\u001b[43m)\u001b[49m\u001b[43m,\u001b[49m\n\u001b[1;32m   1523\u001b[0m \u001b[43m    \u001b[49m\u001b[43mevals\u001b[49m\u001b[38;5;241;43m=\u001b[39;49m\u001b[43mevals\u001b[49m\u001b[43m,\u001b[49m\n\u001b[1;32m   1524\u001b[0m \u001b[43m    \u001b[49m\u001b[43mearly_stopping_rounds\u001b[49m\u001b[38;5;241;43m=\u001b[39;49m\u001b[43mearly_stopping_rounds\u001b[49m\u001b[43m,\u001b[49m\n\u001b[1;32m   1525\u001b[0m \u001b[43m    \u001b[49m\u001b[43mevals_result\u001b[49m\u001b[38;5;241;43m=\u001b[39;49m\u001b[43mevals_result\u001b[49m\u001b[43m,\u001b[49m\n\u001b[1;32m   1526\u001b[0m \u001b[43m    \u001b[49m\u001b[43mobj\u001b[49m\u001b[38;5;241;43m=\u001b[39;49m\u001b[43mobj\u001b[49m\u001b[43m,\u001b[49m\n\u001b[1;32m   1527\u001b[0m \u001b[43m    \u001b[49m\u001b[43mcustom_metric\u001b[49m\u001b[38;5;241;43m=\u001b[39;49m\u001b[43mmetric\u001b[49m\u001b[43m,\u001b[49m\n\u001b[1;32m   1528\u001b[0m \u001b[43m    \u001b[49m\u001b[43mverbose_eval\u001b[49m\u001b[38;5;241;43m=\u001b[39;49m\u001b[43mverbose\u001b[49m\u001b[43m,\u001b[49m\n\u001b[1;32m   1529\u001b[0m \u001b[43m    \u001b[49m\u001b[43mxgb_model\u001b[49m\u001b[38;5;241;43m=\u001b[39;49m\u001b[43mmodel\u001b[49m\u001b[43m,\u001b[49m\n\u001b[1;32m   1530\u001b[0m \u001b[43m    \u001b[49m\u001b[43mcallbacks\u001b[49m\u001b[38;5;241;43m=\u001b[39;49m\u001b[43mcallbacks\u001b[49m\u001b[43m,\u001b[49m\n\u001b[1;32m   1531\u001b[0m \u001b[43m\u001b[49m\u001b[43m)\u001b[49m\n\u001b[1;32m   1533\u001b[0m \u001b[38;5;28;01mif\u001b[39;00m \u001b[38;5;129;01mnot\u001b[39;00m \u001b[38;5;28mcallable\u001b[39m(\u001b[38;5;28mself\u001b[39m\u001b[38;5;241m.\u001b[39mobjective):\n\u001b[1;32m   1534\u001b[0m     \u001b[38;5;28mself\u001b[39m\u001b[38;5;241m.\u001b[39mobjective \u001b[38;5;241m=\u001b[39m params[\u001b[38;5;124m\"\u001b[39m\u001b[38;5;124mobjective\u001b[39m\u001b[38;5;124m\"\u001b[39m]\n",
      "File \u001b[0;32m~/miniconda3_linux/envs/MStoML/lib/python3.11/site-packages/xgboost/core.py:730\u001b[0m, in \u001b[0;36mrequire_keyword_args.<locals>.throw_if.<locals>.inner_f\u001b[0;34m(*args, **kwargs)\u001b[0m\n\u001b[1;32m    728\u001b[0m \u001b[38;5;28;01mfor\u001b[39;00m k, arg \u001b[38;5;129;01min\u001b[39;00m \u001b[38;5;28mzip\u001b[39m(sig\u001b[38;5;241m.\u001b[39mparameters, args):\n\u001b[1;32m    729\u001b[0m     kwargs[k] \u001b[38;5;241m=\u001b[39m arg\n\u001b[0;32m--> 730\u001b[0m \u001b[38;5;28;01mreturn\u001b[39;00m \u001b[43mfunc\u001b[49m\u001b[43m(\u001b[49m\u001b[38;5;241;43m*\u001b[39;49m\u001b[38;5;241;43m*\u001b[39;49m\u001b[43mkwargs\u001b[49m\u001b[43m)\u001b[49m\n",
      "File \u001b[0;32m~/miniconda3_linux/envs/MStoML/lib/python3.11/site-packages/xgboost/training.py:181\u001b[0m, in \u001b[0;36mtrain\u001b[0;34m(params, dtrain, num_boost_round, evals, obj, feval, maximize, early_stopping_rounds, evals_result, verbose_eval, xgb_model, callbacks, custom_metric)\u001b[0m\n\u001b[1;32m    179\u001b[0m \u001b[38;5;28;01mif\u001b[39;00m cb_container\u001b[38;5;241m.\u001b[39mbefore_iteration(bst, i, dtrain, evals):\n\u001b[1;32m    180\u001b[0m     \u001b[38;5;28;01mbreak\u001b[39;00m\n\u001b[0;32m--> 181\u001b[0m \u001b[43mbst\u001b[49m\u001b[38;5;241;43m.\u001b[39;49m\u001b[43mupdate\u001b[49m\u001b[43m(\u001b[49m\u001b[43mdtrain\u001b[49m\u001b[43m,\u001b[49m\u001b[43m \u001b[49m\u001b[43mi\u001b[49m\u001b[43m,\u001b[49m\u001b[43m \u001b[49m\u001b[43mobj\u001b[49m\u001b[43m)\u001b[49m\n\u001b[1;32m    182\u001b[0m \u001b[38;5;28;01mif\u001b[39;00m cb_container\u001b[38;5;241m.\u001b[39mafter_iteration(bst, i, dtrain, evals):\n\u001b[1;32m    183\u001b[0m     \u001b[38;5;28;01mbreak\u001b[39;00m\n",
      "File \u001b[0;32m~/miniconda3_linux/envs/MStoML/lib/python3.11/site-packages/xgboost/core.py:2051\u001b[0m, in \u001b[0;36mBooster.update\u001b[0;34m(self, dtrain, iteration, fobj)\u001b[0m\n\u001b[1;32m   2047\u001b[0m \u001b[38;5;28mself\u001b[39m\u001b[38;5;241m.\u001b[39m_assign_dmatrix_features(dtrain)\n\u001b[1;32m   2049\u001b[0m \u001b[38;5;28;01mif\u001b[39;00m fobj \u001b[38;5;129;01mis\u001b[39;00m \u001b[38;5;28;01mNone\u001b[39;00m:\n\u001b[1;32m   2050\u001b[0m     _check_call(\n\u001b[0;32m-> 2051\u001b[0m         \u001b[43m_LIB\u001b[49m\u001b[38;5;241;43m.\u001b[39;49m\u001b[43mXGBoosterUpdateOneIter\u001b[49m\u001b[43m(\u001b[49m\n\u001b[1;32m   2052\u001b[0m \u001b[43m            \u001b[49m\u001b[38;5;28;43mself\u001b[39;49m\u001b[38;5;241;43m.\u001b[39;49m\u001b[43mhandle\u001b[49m\u001b[43m,\u001b[49m\u001b[43m \u001b[49m\u001b[43mctypes\u001b[49m\u001b[38;5;241;43m.\u001b[39;49m\u001b[43mc_int\u001b[49m\u001b[43m(\u001b[49m\u001b[43miteration\u001b[49m\u001b[43m)\u001b[49m\u001b[43m,\u001b[49m\u001b[43m \u001b[49m\u001b[43mdtrain\u001b[49m\u001b[38;5;241;43m.\u001b[39;49m\u001b[43mhandle\u001b[49m\n\u001b[1;32m   2053\u001b[0m \u001b[43m        \u001b[49m\u001b[43m)\u001b[49m\n\u001b[1;32m   2054\u001b[0m     )\n\u001b[1;32m   2055\u001b[0m \u001b[38;5;28;01melse\u001b[39;00m:\n\u001b[1;32m   2056\u001b[0m     pred \u001b[38;5;241m=\u001b[39m \u001b[38;5;28mself\u001b[39m\u001b[38;5;241m.\u001b[39mpredict(dtrain, output_margin\u001b[38;5;241m=\u001b[39m\u001b[38;5;28;01mTrue\u001b[39;00m, training\u001b[38;5;241m=\u001b[39m\u001b[38;5;28;01mTrue\u001b[39;00m)\n",
      "\u001b[0;31mKeyboardInterrupt\u001b[0m: "
     ]
    }
   ],
   "source": [
    "if isinstance(incumbent, list):\n",
    "    best_hp = incumbent[0]\n",
    "else: \n",
    "    best_hp = incumbent\n",
    "\n",
    "metrics_df = cross_validate_model_sklearn(XGBClassifier, X, ys, targets, config=best_hp,\n",
    "\t\t\t\t\t\t\t\t          fold=StratifiedKFold(n_splits=5), verbosity=0)"
   ]
  },
  {
   "cell_type": "markdown",
   "metadata": {},
   "source": [
    "## Analysis"
   ]
  },
  {
   "cell_type": "code",
   "execution_count": 44,
   "metadata": {},
   "outputs": [
    {
     "data": {
      "text/html": [
       "<div>\n",
       "<style scoped>\n",
       "    .dataframe tbody tr th:only-of-type {\n",
       "        vertical-align: middle;\n",
       "    }\n",
       "\n",
       "    .dataframe tbody tr th {\n",
       "        vertical-align: top;\n",
       "    }\n",
       "\n",
       "    .dataframe thead th {\n",
       "        text-align: right;\n",
       "    }\n",
       "</style>\n",
       "<table border=\"1\" class=\"dataframe\">\n",
       "  <thead>\n",
       "    <tr style=\"text-align: right;\">\n",
       "      <th></th>\n",
       "      <th>Organism</th>\n",
       "      <th>Cross-Validation run</th>\n",
       "      <th>Accuracy</th>\n",
       "      <th>AUC</th>\n",
       "      <th>TPR</th>\n",
       "      <th>FPR</th>\n",
       "      <th>Threshold</th>\n",
       "      <th>Conf_Mat</th>\n",
       "    </tr>\n",
       "  </thead>\n",
       "  <tbody>\n",
       "    <tr>\n",
       "      <th>0</th>\n",
       "      <td>C. ramosum</td>\n",
       "      <td>1</td>\n",
       "      <td>0.928571</td>\n",
       "      <td>0.944444</td>\n",
       "      <td>[0.0, 0.8888888888888888, 1.0]</td>\n",
       "      <td>[0.0, 0.0, 1.0]</td>\n",
       "      <td>[inf, 1.0, 0.0]</td>\n",
       "      <td>[[5, 0], [1, 8]]</td>\n",
       "    </tr>\n",
       "    <tr>\n",
       "      <th>1</th>\n",
       "      <td>C. ramosum</td>\n",
       "      <td>2</td>\n",
       "      <td>1.000000</td>\n",
       "      <td>1.000000</td>\n",
       "      <td>[0.0, 1.0, 1.0]</td>\n",
       "      <td>[0.0, 0.0, 1.0]</td>\n",
       "      <td>[inf, 1.0, 0.0]</td>\n",
       "      <td>[[5, 0], [0, 9]]</td>\n",
       "    </tr>\n",
       "    <tr>\n",
       "      <th>2</th>\n",
       "      <td>C. ramosum</td>\n",
       "      <td>3</td>\n",
       "      <td>1.000000</td>\n",
       "      <td>1.000000</td>\n",
       "      <td>[0.0, 1.0, 1.0]</td>\n",
       "      <td>[0.0, 0.0, 1.0]</td>\n",
       "      <td>[inf, 1.0, 0.0]</td>\n",
       "      <td>[[5, 0], [0, 9]]</td>\n",
       "    </tr>\n",
       "    <tr>\n",
       "      <th>3</th>\n",
       "      <td>C. ramosum</td>\n",
       "      <td>4</td>\n",
       "      <td>1.000000</td>\n",
       "      <td>1.000000</td>\n",
       "      <td>[0.0, 1.0, 1.0]</td>\n",
       "      <td>[0.0, 0.0, 1.0]</td>\n",
       "      <td>[inf, 1.0, 0.0]</td>\n",
       "      <td>[[5, 0], [0, 8]]</td>\n",
       "    </tr>\n",
       "    <tr>\n",
       "      <th>4</th>\n",
       "      <td>C. ramosum</td>\n",
       "      <td>5</td>\n",
       "      <td>1.000000</td>\n",
       "      <td>1.000000</td>\n",
       "      <td>[0.0, 1.0, 1.0]</td>\n",
       "      <td>[0.0, 0.0, 1.0]</td>\n",
       "      <td>[inf, 1.0, 0.0]</td>\n",
       "      <td>[[5, 0], [0, 8]]</td>\n",
       "    </tr>\n",
       "    <tr>\n",
       "      <th>5</th>\n",
       "      <td>R. gnavus</td>\n",
       "      <td>1</td>\n",
       "      <td>1.000000</td>\n",
       "      <td>1.000000</td>\n",
       "      <td>[0.0, 1.0, 1.0]</td>\n",
       "      <td>[0.0, 0.0, 1.0]</td>\n",
       "      <td>[inf, 1.0, 0.0]</td>\n",
       "      <td>[[5, 0], [0, 9]]</td>\n",
       "    </tr>\n",
       "    <tr>\n",
       "      <th>6</th>\n",
       "      <td>R. gnavus</td>\n",
       "      <td>2</td>\n",
       "      <td>1.000000</td>\n",
       "      <td>1.000000</td>\n",
       "      <td>[0.0, 1.0, 1.0]</td>\n",
       "      <td>[0.0, 0.0, 1.0]</td>\n",
       "      <td>[inf, 1.0, 0.0]</td>\n",
       "      <td>[[5, 0], [0, 9]]</td>\n",
       "    </tr>\n",
       "    <tr>\n",
       "      <th>7</th>\n",
       "      <td>R. gnavus</td>\n",
       "      <td>3</td>\n",
       "      <td>1.000000</td>\n",
       "      <td>1.000000</td>\n",
       "      <td>[0.0, 1.0, 1.0]</td>\n",
       "      <td>[0.0, 0.0, 1.0]</td>\n",
       "      <td>[inf, 1.0, 0.0]</td>\n",
       "      <td>[[5, 0], [0, 9]]</td>\n",
       "    </tr>\n",
       "    <tr>\n",
       "      <th>8</th>\n",
       "      <td>R. gnavus</td>\n",
       "      <td>4</td>\n",
       "      <td>1.000000</td>\n",
       "      <td>1.000000</td>\n",
       "      <td>[0.0, 1.0, 1.0]</td>\n",
       "      <td>[0.0, 0.0, 1.0]</td>\n",
       "      <td>[inf, 1.0, 0.0]</td>\n",
       "      <td>[[5, 0], [0, 8]]</td>\n",
       "    </tr>\n",
       "    <tr>\n",
       "      <th>9</th>\n",
       "      <td>R. gnavus</td>\n",
       "      <td>5</td>\n",
       "      <td>0.846154</td>\n",
       "      <td>0.875000</td>\n",
       "      <td>[0.0, 0.75, 1.0]</td>\n",
       "      <td>[0.0, 0.0, 1.0]</td>\n",
       "      <td>[inf, 1.0, 0.0]</td>\n",
       "      <td>[[5, 0], [2, 6]]</td>\n",
       "    </tr>\n",
       "    <tr>\n",
       "      <th>10</th>\n",
       "      <td>C. aerofaciens</td>\n",
       "      <td>1</td>\n",
       "      <td>0.857143</td>\n",
       "      <td>0.888889</td>\n",
       "      <td>[0.0, 0.7777777777777778, 1.0]</td>\n",
       "      <td>[0.0, 0.0, 1.0]</td>\n",
       "      <td>[inf, 1.0, 0.0]</td>\n",
       "      <td>[[5, 0], [2, 7]]</td>\n",
       "    </tr>\n",
       "    <tr>\n",
       "      <th>11</th>\n",
       "      <td>C. aerofaciens</td>\n",
       "      <td>2</td>\n",
       "      <td>1.000000</td>\n",
       "      <td>1.000000</td>\n",
       "      <td>[0.0, 1.0, 1.0]</td>\n",
       "      <td>[0.0, 0.0, 1.0]</td>\n",
       "      <td>[inf, 1.0, 0.0]</td>\n",
       "      <td>[[5, 0], [0, 9]]</td>\n",
       "    </tr>\n",
       "    <tr>\n",
       "      <th>12</th>\n",
       "      <td>C. aerofaciens</td>\n",
       "      <td>3</td>\n",
       "      <td>1.000000</td>\n",
       "      <td>1.000000</td>\n",
       "      <td>[0.0, 1.0, 1.0]</td>\n",
       "      <td>[0.0, 0.0, 1.0]</td>\n",
       "      <td>[inf, 1.0, 0.0]</td>\n",
       "      <td>[[5, 0], [0, 9]]</td>\n",
       "    </tr>\n",
       "    <tr>\n",
       "      <th>13</th>\n",
       "      <td>C. aerofaciens</td>\n",
       "      <td>4</td>\n",
       "      <td>1.000000</td>\n",
       "      <td>1.000000</td>\n",
       "      <td>[0.0, 1.0, 1.0]</td>\n",
       "      <td>[0.0, 0.0, 1.0]</td>\n",
       "      <td>[inf, 1.0, 0.0]</td>\n",
       "      <td>[[5, 0], [0, 8]]</td>\n",
       "    </tr>\n",
       "    <tr>\n",
       "      <th>14</th>\n",
       "      <td>C. aerofaciens</td>\n",
       "      <td>5</td>\n",
       "      <td>1.000000</td>\n",
       "      <td>1.000000</td>\n",
       "      <td>[0.0, 1.0, 1.0]</td>\n",
       "      <td>[0.0, 0.0, 1.0]</td>\n",
       "      <td>[inf, 1.0, 0.0]</td>\n",
       "      <td>[[5, 0], [0, 8]]</td>\n",
       "    </tr>\n",
       "    <tr>\n",
       "      <th>15</th>\n",
       "      <td>B. thetaiotaomicron</td>\n",
       "      <td>1</td>\n",
       "      <td>0.857143</td>\n",
       "      <td>0.854167</td>\n",
       "      <td>[0.0, 0.8333333333333334, 1.0]</td>\n",
       "      <td>[0.0, 0.125, 1.0]</td>\n",
       "      <td>[inf, 1.0, 0.0]</td>\n",
       "      <td>[[7, 1], [1, 5]]</td>\n",
       "    </tr>\n",
       "    <tr>\n",
       "      <th>16</th>\n",
       "      <td>B. thetaiotaomicron</td>\n",
       "      <td>2</td>\n",
       "      <td>1.000000</td>\n",
       "      <td>1.000000</td>\n",
       "      <td>[0.0, 1.0, 1.0]</td>\n",
       "      <td>[0.0, 0.0, 1.0]</td>\n",
       "      <td>[inf, 1.0, 0.0]</td>\n",
       "      <td>[[8, 0], [0, 6]]</td>\n",
       "    </tr>\n",
       "    <tr>\n",
       "      <th>17</th>\n",
       "      <td>B. thetaiotaomicron</td>\n",
       "      <td>3</td>\n",
       "      <td>1.000000</td>\n",
       "      <td>1.000000</td>\n",
       "      <td>[0.0, 1.0, 1.0]</td>\n",
       "      <td>[0.0, 0.0, 1.0]</td>\n",
       "      <td>[inf, 1.0, 0.0]</td>\n",
       "      <td>[[8, 0], [0, 6]]</td>\n",
       "    </tr>\n",
       "    <tr>\n",
       "      <th>18</th>\n",
       "      <td>B. thetaiotaomicron</td>\n",
       "      <td>4</td>\n",
       "      <td>1.000000</td>\n",
       "      <td>1.000000</td>\n",
       "      <td>[0.0, 1.0, 1.0]</td>\n",
       "      <td>[0.0, 0.0, 1.0]</td>\n",
       "      <td>[inf, 1.0, 0.0]</td>\n",
       "      <td>[[8, 0], [0, 5]]</td>\n",
       "    </tr>\n",
       "    <tr>\n",
       "      <th>19</th>\n",
       "      <td>B. thetaiotaomicron</td>\n",
       "      <td>5</td>\n",
       "      <td>0.923077</td>\n",
       "      <td>0.900000</td>\n",
       "      <td>[0.0, 0.8, 1.0]</td>\n",
       "      <td>[0.0, 0.0, 1.0]</td>\n",
       "      <td>[inf, 1.0, 0.0]</td>\n",
       "      <td>[[8, 0], [1, 4]]</td>\n",
       "    </tr>\n",
       "    <tr>\n",
       "      <th>20</th>\n",
       "      <td>B. uniformis</td>\n",
       "      <td>1</td>\n",
       "      <td>0.428571</td>\n",
       "      <td>0.500000</td>\n",
       "      <td>[0.0, 1.0]</td>\n",
       "      <td>[0.0, 1.0]</td>\n",
       "      <td>[inf, 1.0]</td>\n",
       "      <td>[[0, 8], [0, 6]]</td>\n",
       "    </tr>\n",
       "    <tr>\n",
       "      <th>21</th>\n",
       "      <td>B. uniformis</td>\n",
       "      <td>2</td>\n",
       "      <td>0.785714</td>\n",
       "      <td>0.791667</td>\n",
       "      <td>[0.0, 0.8333333333333334, 1.0]</td>\n",
       "      <td>[0.0, 0.25, 1.0]</td>\n",
       "      <td>[inf, 1.0, 0.0]</td>\n",
       "      <td>[[6, 2], [1, 5]]</td>\n",
       "    </tr>\n",
       "    <tr>\n",
       "      <th>22</th>\n",
       "      <td>B. uniformis</td>\n",
       "      <td>3</td>\n",
       "      <td>0.571429</td>\n",
       "      <td>0.562500</td>\n",
       "      <td>[0.0, 0.5, 1.0]</td>\n",
       "      <td>[0.0, 0.375, 1.0]</td>\n",
       "      <td>[inf, 1.0, 0.0]</td>\n",
       "      <td>[[5, 3], [3, 3]]</td>\n",
       "    </tr>\n",
       "    <tr>\n",
       "      <th>23</th>\n",
       "      <td>B. uniformis</td>\n",
       "      <td>4</td>\n",
       "      <td>0.692308</td>\n",
       "      <td>0.600000</td>\n",
       "      <td>[0.0, 0.2, 1.0]</td>\n",
       "      <td>[0.0, 0.0, 1.0]</td>\n",
       "      <td>[inf, 1.0, 0.0]</td>\n",
       "      <td>[[8, 0], [4, 1]]</td>\n",
       "    </tr>\n",
       "    <tr>\n",
       "      <th>24</th>\n",
       "      <td>B. uniformis</td>\n",
       "      <td>5</td>\n",
       "      <td>0.615385</td>\n",
       "      <td>0.612500</td>\n",
       "      <td>[0.0, 0.6, 1.0]</td>\n",
       "      <td>[0.0, 0.375, 1.0]</td>\n",
       "      <td>[inf, 1.0, 0.0]</td>\n",
       "      <td>[[5, 3], [2, 3]]</td>\n",
       "    </tr>\n",
       "    <tr>\n",
       "      <th>25</th>\n",
       "      <td>B. vulgatus</td>\n",
       "      <td>1</td>\n",
       "      <td>0.928571</td>\n",
       "      <td>0.944444</td>\n",
       "      <td>[0.0, 1.0, 1.0]</td>\n",
       "      <td>[0.0, 0.1111111111111111, 1.0]</td>\n",
       "      <td>[inf, 1.0, 0.0]</td>\n",
       "      <td>[[8, 1], [0, 5]]</td>\n",
       "    </tr>\n",
       "    <tr>\n",
       "      <th>26</th>\n",
       "      <td>B. vulgatus</td>\n",
       "      <td>2</td>\n",
       "      <td>1.000000</td>\n",
       "      <td>1.000000</td>\n",
       "      <td>[0.0, 1.0, 1.0]</td>\n",
       "      <td>[0.0, 0.0, 1.0]</td>\n",
       "      <td>[inf, 1.0, 0.0]</td>\n",
       "      <td>[[8, 0], [0, 6]]</td>\n",
       "    </tr>\n",
       "    <tr>\n",
       "      <th>27</th>\n",
       "      <td>B. vulgatus</td>\n",
       "      <td>3</td>\n",
       "      <td>1.000000</td>\n",
       "      <td>1.000000</td>\n",
       "      <td>[0.0, 1.0, 1.0]</td>\n",
       "      <td>[0.0, 0.0, 1.0]</td>\n",
       "      <td>[inf, 1.0, 0.0]</td>\n",
       "      <td>[[8, 0], [0, 6]]</td>\n",
       "    </tr>\n",
       "    <tr>\n",
       "      <th>28</th>\n",
       "      <td>B. vulgatus</td>\n",
       "      <td>4</td>\n",
       "      <td>1.000000</td>\n",
       "      <td>1.000000</td>\n",
       "      <td>[0.0, 1.0, 1.0]</td>\n",
       "      <td>[0.0, 0.0, 1.0]</td>\n",
       "      <td>[inf, 1.0, 0.0]</td>\n",
       "      <td>[[8, 0], [0, 5]]</td>\n",
       "    </tr>\n",
       "    <tr>\n",
       "      <th>29</th>\n",
       "      <td>B. vulgatus</td>\n",
       "      <td>5</td>\n",
       "      <td>1.000000</td>\n",
       "      <td>1.000000</td>\n",
       "      <td>[0.0, 1.0, 1.0]</td>\n",
       "      <td>[0.0, 0.0, 1.0]</td>\n",
       "      <td>[inf, 1.0, 0.0]</td>\n",
       "      <td>[[8, 0], [0, 5]]</td>\n",
       "    </tr>\n",
       "    <tr>\n",
       "      <th>30</th>\n",
       "      <td>F. nucleatum</td>\n",
       "      <td>1</td>\n",
       "      <td>0.500000</td>\n",
       "      <td>0.611111</td>\n",
       "      <td>[0.0, 0.2222222222222222, 1.0]</td>\n",
       "      <td>[0.0, 0.0, 1.0]</td>\n",
       "      <td>[inf, 1.0, 0.0]</td>\n",
       "      <td>[[5, 0], [7, 2]]</td>\n",
       "    </tr>\n",
       "    <tr>\n",
       "      <th>31</th>\n",
       "      <td>F. nucleatum</td>\n",
       "      <td>2</td>\n",
       "      <td>1.000000</td>\n",
       "      <td>1.000000</td>\n",
       "      <td>[0.0, 1.0, 1.0]</td>\n",
       "      <td>[0.0, 0.0, 1.0]</td>\n",
       "      <td>[inf, 1.0, 0.0]</td>\n",
       "      <td>[[5, 0], [0, 9]]</td>\n",
       "    </tr>\n",
       "    <tr>\n",
       "      <th>32</th>\n",
       "      <td>F. nucleatum</td>\n",
       "      <td>3</td>\n",
       "      <td>0.571429</td>\n",
       "      <td>0.533333</td>\n",
       "      <td>[0.0, 0.6666666666666666, 1.0]</td>\n",
       "      <td>[0.0, 0.6, 1.0]</td>\n",
       "      <td>[inf, 1.0, 0.0]</td>\n",
       "      <td>[[2, 3], [3, 6]]</td>\n",
       "    </tr>\n",
       "    <tr>\n",
       "      <th>33</th>\n",
       "      <td>F. nucleatum</td>\n",
       "      <td>4</td>\n",
       "      <td>0.769231</td>\n",
       "      <td>0.775000</td>\n",
       "      <td>[0.0, 0.75, 1.0]</td>\n",
       "      <td>[0.0, 0.2, 1.0]</td>\n",
       "      <td>[inf, 1.0, 0.0]</td>\n",
       "      <td>[[4, 1], [2, 6]]</td>\n",
       "    </tr>\n",
       "    <tr>\n",
       "      <th>34</th>\n",
       "      <td>F. nucleatum</td>\n",
       "      <td>5</td>\n",
       "      <td>1.000000</td>\n",
       "      <td>1.000000</td>\n",
       "      <td>[0.0, 1.0, 1.0]</td>\n",
       "      <td>[0.0, 0.0, 1.0]</td>\n",
       "      <td>[inf, 1.0, 0.0]</td>\n",
       "      <td>[[5, 0], [0, 8]]</td>\n",
       "    </tr>\n",
       "    <tr>\n",
       "      <th>35</th>\n",
       "      <td>R. intestinalis</td>\n",
       "      <td>1</td>\n",
       "      <td>1.000000</td>\n",
       "      <td>1.000000</td>\n",
       "      <td>[0.0, 1.0, 1.0]</td>\n",
       "      <td>[0.0, 0.0, 1.0]</td>\n",
       "      <td>[inf, 1.0, 0.0]</td>\n",
       "      <td>[[5, 0], [0, 9]]</td>\n",
       "    </tr>\n",
       "    <tr>\n",
       "      <th>36</th>\n",
       "      <td>R. intestinalis</td>\n",
       "      <td>2</td>\n",
       "      <td>1.000000</td>\n",
       "      <td>1.000000</td>\n",
       "      <td>[0.0, 1.0, 1.0]</td>\n",
       "      <td>[0.0, 0.0, 1.0]</td>\n",
       "      <td>[inf, 1.0, 0.0]</td>\n",
       "      <td>[[5, 0], [0, 9]]</td>\n",
       "    </tr>\n",
       "    <tr>\n",
       "      <th>37</th>\n",
       "      <td>R. intestinalis</td>\n",
       "      <td>3</td>\n",
       "      <td>1.000000</td>\n",
       "      <td>1.000000</td>\n",
       "      <td>[0.0, 1.0, 1.0]</td>\n",
       "      <td>[0.0, 0.0, 1.0]</td>\n",
       "      <td>[inf, 1.0, 0.0]</td>\n",
       "      <td>[[5, 0], [0, 9]]</td>\n",
       "    </tr>\n",
       "    <tr>\n",
       "      <th>38</th>\n",
       "      <td>R. intestinalis</td>\n",
       "      <td>4</td>\n",
       "      <td>1.000000</td>\n",
       "      <td>1.000000</td>\n",
       "      <td>[0.0, 1.0, 1.0]</td>\n",
       "      <td>[0.0, 0.0, 1.0]</td>\n",
       "      <td>[inf, 1.0, 0.0]</td>\n",
       "      <td>[[5, 0], [0, 8]]</td>\n",
       "    </tr>\n",
       "    <tr>\n",
       "      <th>39</th>\n",
       "      <td>R. intestinalis</td>\n",
       "      <td>5</td>\n",
       "      <td>0.923077</td>\n",
       "      <td>0.937500</td>\n",
       "      <td>[0.0, 0.875, 1.0]</td>\n",
       "      <td>[0.0, 0.0, 1.0]</td>\n",
       "      <td>[inf, 1.0, 0.0]</td>\n",
       "      <td>[[5, 0], [1, 7]]</td>\n",
       "    </tr>\n",
       "  </tbody>\n",
       "</table>\n",
       "</div>"
      ],
      "text/plain": [
       "               Organism  Cross-Validation run  Accuracy       AUC  \\\n",
       "0            C. ramosum                     1  0.928571  0.944444   \n",
       "1            C. ramosum                     2  1.000000  1.000000   \n",
       "2            C. ramosum                     3  1.000000  1.000000   \n",
       "3            C. ramosum                     4  1.000000  1.000000   \n",
       "4            C. ramosum                     5  1.000000  1.000000   \n",
       "5             R. gnavus                     1  1.000000  1.000000   \n",
       "6             R. gnavus                     2  1.000000  1.000000   \n",
       "7             R. gnavus                     3  1.000000  1.000000   \n",
       "8             R. gnavus                     4  1.000000  1.000000   \n",
       "9             R. gnavus                     5  0.846154  0.875000   \n",
       "10       C. aerofaciens                     1  0.857143  0.888889   \n",
       "11       C. aerofaciens                     2  1.000000  1.000000   \n",
       "12       C. aerofaciens                     3  1.000000  1.000000   \n",
       "13       C. aerofaciens                     4  1.000000  1.000000   \n",
       "14       C. aerofaciens                     5  1.000000  1.000000   \n",
       "15  B. thetaiotaomicron                     1  0.857143  0.854167   \n",
       "16  B. thetaiotaomicron                     2  1.000000  1.000000   \n",
       "17  B. thetaiotaomicron                     3  1.000000  1.000000   \n",
       "18  B. thetaiotaomicron                     4  1.000000  1.000000   \n",
       "19  B. thetaiotaomicron                     5  0.923077  0.900000   \n",
       "20         B. uniformis                     1  0.428571  0.500000   \n",
       "21         B. uniformis                     2  0.785714  0.791667   \n",
       "22         B. uniformis                     3  0.571429  0.562500   \n",
       "23         B. uniformis                     4  0.692308  0.600000   \n",
       "24         B. uniformis                     5  0.615385  0.612500   \n",
       "25          B. vulgatus                     1  0.928571  0.944444   \n",
       "26          B. vulgatus                     2  1.000000  1.000000   \n",
       "27          B. vulgatus                     3  1.000000  1.000000   \n",
       "28          B. vulgatus                     4  1.000000  1.000000   \n",
       "29          B. vulgatus                     5  1.000000  1.000000   \n",
       "30         F. nucleatum                     1  0.500000  0.611111   \n",
       "31         F. nucleatum                     2  1.000000  1.000000   \n",
       "32         F. nucleatum                     3  0.571429  0.533333   \n",
       "33         F. nucleatum                     4  0.769231  0.775000   \n",
       "34         F. nucleatum                     5  1.000000  1.000000   \n",
       "35     R. intestinalis                      1  1.000000  1.000000   \n",
       "36     R. intestinalis                      2  1.000000  1.000000   \n",
       "37     R. intestinalis                      3  1.000000  1.000000   \n",
       "38     R. intestinalis                      4  1.000000  1.000000   \n",
       "39     R. intestinalis                      5  0.923077  0.937500   \n",
       "\n",
       "                               TPR                             FPR  \\\n",
       "0   [0.0, 0.8888888888888888, 1.0]                 [0.0, 0.0, 1.0]   \n",
       "1                  [0.0, 1.0, 1.0]                 [0.0, 0.0, 1.0]   \n",
       "2                  [0.0, 1.0, 1.0]                 [0.0, 0.0, 1.0]   \n",
       "3                  [0.0, 1.0, 1.0]                 [0.0, 0.0, 1.0]   \n",
       "4                  [0.0, 1.0, 1.0]                 [0.0, 0.0, 1.0]   \n",
       "5                  [0.0, 1.0, 1.0]                 [0.0, 0.0, 1.0]   \n",
       "6                  [0.0, 1.0, 1.0]                 [0.0, 0.0, 1.0]   \n",
       "7                  [0.0, 1.0, 1.0]                 [0.0, 0.0, 1.0]   \n",
       "8                  [0.0, 1.0, 1.0]                 [0.0, 0.0, 1.0]   \n",
       "9                 [0.0, 0.75, 1.0]                 [0.0, 0.0, 1.0]   \n",
       "10  [0.0, 0.7777777777777778, 1.0]                 [0.0, 0.0, 1.0]   \n",
       "11                 [0.0, 1.0, 1.0]                 [0.0, 0.0, 1.0]   \n",
       "12                 [0.0, 1.0, 1.0]                 [0.0, 0.0, 1.0]   \n",
       "13                 [0.0, 1.0, 1.0]                 [0.0, 0.0, 1.0]   \n",
       "14                 [0.0, 1.0, 1.0]                 [0.0, 0.0, 1.0]   \n",
       "15  [0.0, 0.8333333333333334, 1.0]               [0.0, 0.125, 1.0]   \n",
       "16                 [0.0, 1.0, 1.0]                 [0.0, 0.0, 1.0]   \n",
       "17                 [0.0, 1.0, 1.0]                 [0.0, 0.0, 1.0]   \n",
       "18                 [0.0, 1.0, 1.0]                 [0.0, 0.0, 1.0]   \n",
       "19                 [0.0, 0.8, 1.0]                 [0.0, 0.0, 1.0]   \n",
       "20                      [0.0, 1.0]                      [0.0, 1.0]   \n",
       "21  [0.0, 0.8333333333333334, 1.0]                [0.0, 0.25, 1.0]   \n",
       "22                 [0.0, 0.5, 1.0]               [0.0, 0.375, 1.0]   \n",
       "23                 [0.0, 0.2, 1.0]                 [0.0, 0.0, 1.0]   \n",
       "24                 [0.0, 0.6, 1.0]               [0.0, 0.375, 1.0]   \n",
       "25                 [0.0, 1.0, 1.0]  [0.0, 0.1111111111111111, 1.0]   \n",
       "26                 [0.0, 1.0, 1.0]                 [0.0, 0.0, 1.0]   \n",
       "27                 [0.0, 1.0, 1.0]                 [0.0, 0.0, 1.0]   \n",
       "28                 [0.0, 1.0, 1.0]                 [0.0, 0.0, 1.0]   \n",
       "29                 [0.0, 1.0, 1.0]                 [0.0, 0.0, 1.0]   \n",
       "30  [0.0, 0.2222222222222222, 1.0]                 [0.0, 0.0, 1.0]   \n",
       "31                 [0.0, 1.0, 1.0]                 [0.0, 0.0, 1.0]   \n",
       "32  [0.0, 0.6666666666666666, 1.0]                 [0.0, 0.6, 1.0]   \n",
       "33                [0.0, 0.75, 1.0]                 [0.0, 0.2, 1.0]   \n",
       "34                 [0.0, 1.0, 1.0]                 [0.0, 0.0, 1.0]   \n",
       "35                 [0.0, 1.0, 1.0]                 [0.0, 0.0, 1.0]   \n",
       "36                 [0.0, 1.0, 1.0]                 [0.0, 0.0, 1.0]   \n",
       "37                 [0.0, 1.0, 1.0]                 [0.0, 0.0, 1.0]   \n",
       "38                 [0.0, 1.0, 1.0]                 [0.0, 0.0, 1.0]   \n",
       "39               [0.0, 0.875, 1.0]                 [0.0, 0.0, 1.0]   \n",
       "\n",
       "          Threshold          Conf_Mat  \n",
       "0   [inf, 1.0, 0.0]  [[5, 0], [1, 8]]  \n",
       "1   [inf, 1.0, 0.0]  [[5, 0], [0, 9]]  \n",
       "2   [inf, 1.0, 0.0]  [[5, 0], [0, 9]]  \n",
       "3   [inf, 1.0, 0.0]  [[5, 0], [0, 8]]  \n",
       "4   [inf, 1.0, 0.0]  [[5, 0], [0, 8]]  \n",
       "5   [inf, 1.0, 0.0]  [[5, 0], [0, 9]]  \n",
       "6   [inf, 1.0, 0.0]  [[5, 0], [0, 9]]  \n",
       "7   [inf, 1.0, 0.0]  [[5, 0], [0, 9]]  \n",
       "8   [inf, 1.0, 0.0]  [[5, 0], [0, 8]]  \n",
       "9   [inf, 1.0, 0.0]  [[5, 0], [2, 6]]  \n",
       "10  [inf, 1.0, 0.0]  [[5, 0], [2, 7]]  \n",
       "11  [inf, 1.0, 0.0]  [[5, 0], [0, 9]]  \n",
       "12  [inf, 1.0, 0.0]  [[5, 0], [0, 9]]  \n",
       "13  [inf, 1.0, 0.0]  [[5, 0], [0, 8]]  \n",
       "14  [inf, 1.0, 0.0]  [[5, 0], [0, 8]]  \n",
       "15  [inf, 1.0, 0.0]  [[7, 1], [1, 5]]  \n",
       "16  [inf, 1.0, 0.0]  [[8, 0], [0, 6]]  \n",
       "17  [inf, 1.0, 0.0]  [[8, 0], [0, 6]]  \n",
       "18  [inf, 1.0, 0.0]  [[8, 0], [0, 5]]  \n",
       "19  [inf, 1.0, 0.0]  [[8, 0], [1, 4]]  \n",
       "20       [inf, 1.0]  [[0, 8], [0, 6]]  \n",
       "21  [inf, 1.0, 0.0]  [[6, 2], [1, 5]]  \n",
       "22  [inf, 1.0, 0.0]  [[5, 3], [3, 3]]  \n",
       "23  [inf, 1.0, 0.0]  [[8, 0], [4, 1]]  \n",
       "24  [inf, 1.0, 0.0]  [[5, 3], [2, 3]]  \n",
       "25  [inf, 1.0, 0.0]  [[8, 1], [0, 5]]  \n",
       "26  [inf, 1.0, 0.0]  [[8, 0], [0, 6]]  \n",
       "27  [inf, 1.0, 0.0]  [[8, 0], [0, 6]]  \n",
       "28  [inf, 1.0, 0.0]  [[8, 0], [0, 5]]  \n",
       "29  [inf, 1.0, 0.0]  [[8, 0], [0, 5]]  \n",
       "30  [inf, 1.0, 0.0]  [[5, 0], [7, 2]]  \n",
       "31  [inf, 1.0, 0.0]  [[5, 0], [0, 9]]  \n",
       "32  [inf, 1.0, 0.0]  [[2, 3], [3, 6]]  \n",
       "33  [inf, 1.0, 0.0]  [[4, 1], [2, 6]]  \n",
       "34  [inf, 1.0, 0.0]  [[5, 0], [0, 8]]  \n",
       "35  [inf, 1.0, 0.0]  [[5, 0], [0, 9]]  \n",
       "36  [inf, 1.0, 0.0]  [[5, 0], [0, 9]]  \n",
       "37  [inf, 1.0, 0.0]  [[5, 0], [0, 9]]  \n",
       "38  [inf, 1.0, 0.0]  [[5, 0], [0, 8]]  \n",
       "39  [inf, 1.0, 0.0]  [[5, 0], [1, 7]]  "
      ]
     },
     "execution_count": 44,
     "metadata": {},
     "output_type": "execute_result"
    }
   ],
   "source": [
    "metrics_df"
   ]
  },
  {
   "cell_type": "markdown",
   "metadata": {},
   "source": [
    "### Plotting"
   ]
  },
  {
   "cell_type": "code",
   "execution_count": 45,
   "metadata": {},
   "outputs": [],
   "source": [
    "algorithm = \"decision_tree\""
   ]
  },
  {
   "cell_type": "code",
   "execution_count": 46,
   "metadata": {},
   "outputs": [
    {
     "data": {
      "image/png": "[encoded data removed]",
      "text/plain": [
       "<Figure size 640x480 with 2 Axes>"
      ]
     },
     "metadata": {},
     "output_type": "display_data"
    }
   ],
   "source": [
    "# Accuracy CV matrix\n",
    "ax = sns.heatmap(metrics_df.pivot(index=\"Organism\", columns=\"Cross-Validation run\", values=\"Accuracy\"),\n",
    "                 vmin=0, vmax=1.0, annot=True, cmap=sns.color_palette(\"crest\", as_cmap=True))\n",
    "plt.savefig(f'../../runs/ML/annot/{algorithm}/heatmap_accuracies_1.png')  "
   ]
  },
  {
   "cell_type": "code",
   "execution_count": 47,
   "metadata": {},
   "outputs": [],
   "source": [
    "plot_cv_confmat(ys=ys, target_labels=metrics_df.pivot(index=\"Organism\", columns=\"Cross-Validation run\", values=\"Accuracy\").index,\n",
    "                accuracies=np.mean(metrics_df.pivot(index=\"Organism\", columns=\"Cross-Validation run\", values=\"Accuracy\").values, axis=1),\n",
    "                confusion_matrices=np.sum(metrics_df.pivot(index=\"Organism\", columns=\"Cross-Validation run\", values=\"Conf_Mat\").values, axis=1),\n",
    "\t\t\t\toutdir=f\"../../runs/ML/annot/{algorithm}\", name=\"class_annot_test_smac\")"
   ]
  },
  {
   "cell_type": "markdown",
   "metadata": {},
   "source": [
    "### DT depiction"
   ]
  },
  {
   "cell_type": "code",
   "execution_count": null,
   "metadata": {},
   "outputs": [
    {
     "ename": "NameError",
     "evalue": "name 'DecisionTreeClassifier' is not defined",
     "output_type": "error",
     "traceback": [
      "\u001b[1;31m---------------------------------------------------------------------------\u001b[0m",
      "\u001b[1;31mNameError\u001b[0m                                 Traceback (most recent call last)",
      "Cell \u001b[1;32mIn[169], line 1\u001b[0m\n\u001b[1;32m----> 1\u001b[0m model \u001b[38;5;241m=\u001b[39m \u001b[43mDecisionTreeClassifier\u001b[49m(random_state\u001b[38;5;241m=\u001b[39m\u001b[38;5;241m42\u001b[39m)\n\u001b[0;32m      3\u001b[0m \u001b[38;5;66;03m# for i, estimator in enumerate(model.estimators_):\u001b[39;00m\n\u001b[0;32m      4\u001b[0m \u001b[38;5;28;01mfor\u001b[39;00m i, s \u001b[38;5;129;01min\u001b[39;00m \u001b[38;5;28menumerate\u001b[39m(strains):\n",
      "\u001b[1;31mNameError\u001b[0m: name 'DecisionTreeClassifier' is not defined"
     ]
    }
   ],
   "source": [
    "model = DecisionTreeClassifier(random_state=42)\n",
    "\n",
    "# for i, estimator in enumerate(model.estimators_):\n",
    "for i, s in enumerate(strains):\n",
    "    model.fit(X.transpose(),ys.transpose()[i])\n",
    "    plot_decision_trees(model=model, feature_names=X.index, class_names=[\"absent\", s], outdir=outdir, name=f\"decisiontree/tree_{s}{suffix}\")"
   ]
  },
  {
   "cell_type": "markdown",
   "metadata": {},
   "source": [
    "### Feature importance"
   ]
  },
  {
   "cell_type": "code",
   "execution_count": 61,
   "metadata": {},
   "outputs": [],
   "source": [
    "feature_importances = {}\n",
    "for i, s in enumerate(strains[\"0\"]):\n",
    "    model = XGBClassifier(**best_hp)\n",
    "    model.fit(X.values, ys[f\"{i}\"])\n",
    "    feature_importances[s] = model.feature_importances_\n",
    "\n",
    "    imp_feat = feature_importances.get(s) > 0.1\n",
    "\n",
    "    plt.bar(X.columns[imp_feat], feature_importances.get(s)[imp_feat])\n",
    "    plt.savefig(f\"../../reports/ML/XGBoost/important_features_{s}_3_strict.png\")\n",
    "    plt.close()"
   ]
  },
  {
   "cell_type": "code",
   "execution_count": 55,
   "metadata": {},
   "outputs": [],
   "source": [
    "feat_imp_df = pd.DataFrame(feature_importances, index=X.columns)\n",
    "feat_imp_df.to_csv(\"../../reports/ML/XGBoost/feature_importance_2.tsv\", sep=\"\\t\")"
   ]
  },
  {
   "cell_type": "code",
   "execution_count": 60,
   "metadata": {},
   "outputs": [
    {
     "data": {
      "text/plain": [
       "metNames\n",
       "Palmitoylethanolamide[M+H]+\\n3-Dehydrosphinganine[M+H]+\\nSphingosine[M+H]    0.719717\n",
       "Name: B. vulgatus, dtype: float32"
      ]
     },
     "execution_count": 60,
     "metadata": {},
     "output_type": "execute_result"
    }
   ],
   "source": [
    "feat_imp_df[\"B. vulgatus\"].loc[feat_imp_df[\"B. vulgatus\"].max() == feat_imp_df[\"B. vulgatus\"]]"
   ]
  },
  {
   "cell_type": "code",
   "execution_count": 62,
   "metadata": {},
   "outputs": [
    {
     "data": {
      "text/html": [
       "<div>\n",
       "<style scoped>\n",
       "    .dataframe tbody tr th:only-of-type {\n",
       "        vertical-align: middle;\n",
       "    }\n",
       "\n",
       "    .dataframe tbody tr th {\n",
       "        vertical-align: top;\n",
       "    }\n",
       "\n",
       "    .dataframe thead th {\n",
       "        text-align: right;\n",
       "    }\n",
       "</style>\n",
       "<table border=\"1\" class=\"dataframe\">\n",
       "  <thead>\n",
       "    <tr style=\"text-align: right;\">\n",
       "      <th></th>\n",
       "      <th>0</th>\n",
       "    </tr>\n",
       "  </thead>\n",
       "  <tbody>\n",
       "    <tr>\n",
       "      <th>0</th>\n",
       "      <td>C. ramosum</td>\n",
       "    </tr>\n",
       "    <tr>\n",
       "      <th>1</th>\n",
       "      <td>R. gnavus</td>\n",
       "    </tr>\n",
       "    <tr>\n",
       "      <th>2</th>\n",
       "      <td>C. aerofaciens</td>\n",
       "    </tr>\n",
       "    <tr>\n",
       "      <th>3</th>\n",
       "      <td>B. thetaiotaomicron</td>\n",
       "    </tr>\n",
       "    <tr>\n",
       "      <th>4</th>\n",
       "      <td>B. uniformis</td>\n",
       "    </tr>\n",
       "    <tr>\n",
       "      <th>5</th>\n",
       "      <td>B. vulgatus</td>\n",
       "    </tr>\n",
       "    <tr>\n",
       "      <th>6</th>\n",
       "      <td>F. nucleatum</td>\n",
       "    </tr>\n",
       "    <tr>\n",
       "      <th>7</th>\n",
       "      <td>R. intestinalis</td>\n",
       "    </tr>\n",
       "  </tbody>\n",
       "</table>\n",
       "</div>"
      ],
      "text/plain": [
       "                     0\n",
       "0           C. ramosum\n",
       "1            R. gnavus\n",
       "2       C. aerofaciens\n",
       "3  B. thetaiotaomicron\n",
       "4         B. uniformis\n",
       "5          B. vulgatus\n",
       "6         F. nucleatum\n",
       "7     R. intestinalis "
      ]
     },
     "execution_count": 62,
     "metadata": {},
     "output_type": "execute_result"
    }
   ],
   "source": [
    "strains"
   ]
  },
  {
   "cell_type": "code",
   "execution_count": null,
   "metadata": {},
   "outputs": [],
   "source": []
  }
 ],
 "metadata": {
  "kernelspec": {
   "display_name": "Python 3",
   "language": "python",
   "name": "python3"
  },
  "language_info": {
   "codemirror_mode": {
    "name": "ipython",
    "version": 3
   },
   "file_extension": ".py",
   "mimetype": "text/x-python",
   "name": "python",
   "nbconvert_exporter": "python",
   "pygments_lexer": "ipython3",
   "version": "3.11.7"
  }
 },
 "nbformat": 4,
 "nbformat_minor": 2
}
