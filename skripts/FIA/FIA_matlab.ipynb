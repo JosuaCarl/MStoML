{
 "cells": [
  {
   "cell_type": "code",
   "execution_count": 1,
   "metadata": {},
   "outputs": [
    {
     "name": "stdout",
     "output_type": "stream",
     "text": [
      "Warning: OPENMS_DATA_PATH environment variable already exists. pyOpenMS will use it (C:\\Program Files\\OpenMS-3.1.0\\share\\OpenMS) to locate data in the OpenMS share folder (e.g., the unimod database), instead of the default (c:\\Users\\JosuaCarl\\miniconda3\\envs\\gemml\\Lib\\site-packages\\pyopenms\\share/OpenMS).\n"
     ]
    }
   ],
   "source": [
    "# Imports\n",
    "import os\n",
    "\n",
    "# import methods from FIA python script\n",
    "from FIA import *\n",
    "\n",
    "oms.LogConfigHandler().setLogLevel(\"DEBUG\")"
   ]
  },
  {
   "cell_type": "markdown",
   "metadata": {},
   "source": [
    "## Loading"
   ]
  },
  {
   "cell_type": "code",
   "execution_count": 2,
   "metadata": {},
   "outputs": [],
   "source": [
    "# set path to your mzML files and workfolder\n",
    "data_dir = \"../../data/example data/exampleA_ecolistrains\"\n",
    "run_dir = \"../../runs/fia_explorer\"\n",
    "\n",
    "data_dir = os.path.normpath(os.path.join(os.getcwd(), data_dir))\n",
    "run_dir = os.path.normpath(os.path.join(os.getcwd(), run_dir))\n",
    "\n",
    "# clean_dir(run_dir)"
   ]
  },
  {
   "cell_type": "code",
   "execution_count": 3,
   "metadata": {},
   "outputs": [
    {
     "name": "stdout",
     "output_type": "stream",
     "text": [
      "Loading experiments:\n",
      "Loading names:\n"
     ]
    }
   ],
   "source": [
    "fia_df = load_fia_df(data_dir, \".mzXML\")"
   ]
  },
  {
   "cell_type": "markdown",
   "metadata": {},
   "source": [
    "## Initial Centroiding"
   ]
  },
  {
   "cell_type": "markdown",
   "metadata": {},
   "source": [
    "#### TOF Parameters\n"
   ]
  },
  {
   "cell_type": "code",
   "execution_count": null,
   "metadata": {},
   "outputs": [],
   "source": [
    "fia_df[\"cent_experiment\"] = fia_df[\"experiment\"].apply(lambda experiment: centroid_experiment(experiment, instrument=\"TOF\",\n",
    "                                                                                                signal_to_noise=2.0, spacing_difference=1.5,\n",
    "                                                                                                peak_width=0.0, sn_bin_count=100, nr_iterations=5, sn_win_len=20.0,\n",
    "                                                                                                check_width_internally=\"false\", ms1_only=\"true\", clear_meta_data=\"false\",\n",
    "                                                                                                deepcopy=False))"
   ]
  },
  {
   "cell_type": "markdown",
   "metadata": {},
   "source": [
    "## Data pruning & binning"
   ]
  },
  {
   "cell_type": "code",
   "execution_count": null,
   "metadata": {},
   "outputs": [],
   "source": [
    "# Computes mean, media or sum of binned peaks (median needs ~2* more time)\n",
    "fia_df[\"sum_experiment\"] = fia_df[\"experiment\"].apply(lambda experiment: limit_experiment(experiment, 51, 1699, 2*10**6, statistic=\"sum\", deepcopy=True))"
   ]
  },
  {
   "cell_type": "markdown",
   "metadata": {},
   "source": [
    "## Combining "
   ]
  },
  {
   "cell_type": "code",
   "execution_count": null,
   "metadata": {},
   "outputs": [],
   "source": [
    "fia_df[\"comb_spectrum\"] = fia_df[\"sum_experiment\"].apply(lambda experiment: combine_spectra(experiment)) # type: ignore"
   ]
  },
  {
   "cell_type": "code",
   "execution_count": null,
   "metadata": {},
   "outputs": [
    {
     "data": {
      "text/html": [
       "<div>\n",
       "<style scoped>\n",
       "    .dataframe tbody tr th:only-of-type {\n",
       "        vertical-align: middle;\n",
       "    }\n",
       "\n",
       "    .dataframe tbody tr th {\n",
       "        vertical-align: top;\n",
       "    }\n",
       "\n",
       "    .dataframe thead th {\n",
       "        text-align: right;\n",
       "    }\n",
       "</style>\n",
       "<table border=\"1\" class=\"dataframe\">\n",
       "  <thead>\n",
       "    <tr style=\"text-align: right;\">\n",
       "      <th></th>\n",
       "      <th>mz</th>\n",
       "      <th>intensity</th>\n",
       "    </tr>\n",
       "  </thead>\n",
       "  <tbody>\n",
       "    <tr>\n",
       "      <th>0</th>\n",
       "      <td>51.000412</td>\n",
       "      <td>3082.0</td>\n",
       "    </tr>\n",
       "    <tr>\n",
       "      <th>1</th>\n",
       "      <td>51.001236</td>\n",
       "      <td>3840.0</td>\n",
       "    </tr>\n",
       "    <tr>\n",
       "      <th>2</th>\n",
       "      <td>51.002060</td>\n",
       "      <td>4243.0</td>\n",
       "    </tr>\n",
       "    <tr>\n",
       "      <th>3</th>\n",
       "      <td>51.002884</td>\n",
       "      <td>3719.0</td>\n",
       "    </tr>\n",
       "    <tr>\n",
       "      <th>4</th>\n",
       "      <td>51.003708</td>\n",
       "      <td>4018.0</td>\n",
       "    </tr>\n",
       "    <tr>\n",
       "      <th>...</th>\n",
       "      <td>...</td>\n",
       "      <td>...</td>\n",
       "    </tr>\n",
       "    <tr>\n",
       "      <th>1999995</th>\n",
       "      <td>1698.996292</td>\n",
       "      <td>882.0</td>\n",
       "    </tr>\n",
       "    <tr>\n",
       "      <th>1999996</th>\n",
       "      <td>1698.997116</td>\n",
       "      <td>4873.0</td>\n",
       "    </tr>\n",
       "    <tr>\n",
       "      <th>1999997</th>\n",
       "      <td>1698.997940</td>\n",
       "      <td>1555.0</td>\n",
       "    </tr>\n",
       "    <tr>\n",
       "      <th>1999998</th>\n",
       "      <td>1698.998764</td>\n",
       "      <td>1955.0</td>\n",
       "    </tr>\n",
       "    <tr>\n",
       "      <th>1999999</th>\n",
       "      <td>1698.999588</td>\n",
       "      <td>2783.0</td>\n",
       "    </tr>\n",
       "  </tbody>\n",
       "</table>\n",
       "<p>2000000 rows × 2 columns</p>\n",
       "</div>"
      ],
      "text/plain": [
       "                  mz  intensity\n",
       "0          51.000412     3082.0\n",
       "1          51.001236     3840.0\n",
       "2          51.002060     4243.0\n",
       "3          51.002884     3719.0\n",
       "4          51.003708     4018.0\n",
       "...              ...        ...\n",
       "1999995  1698.996292      882.0\n",
       "1999996  1698.997116     4873.0\n",
       "1999997  1698.997940     1555.0\n",
       "1999998  1698.998764     1955.0\n",
       "1999999  1698.999588     2783.0\n",
       "\n",
       "[2000000 rows x 2 columns]"
      ]
     },
     "execution_count": 8,
     "metadata": {},
     "output_type": "execute_result"
    }
   ],
   "source": [
    "s = fia_df[\"comb_spectrum\"][0]\n",
    "pd.DataFrame(np.array(s.get_peaks()).transpose(), columns=[\"mz\", \"intensity\"])"
   ]
  },
  {
   "cell_type": "code",
   "execution_count": null,
   "metadata": {},
   "outputs": [
    {
     "data": {
      "image/png": "[encoded data removed]",
      "text/plain": [
       "<Figure size 640x480 with 1 Axes>"
      ]
     },
     "metadata": {},
     "output_type": "display_data"
    }
   ],
   "source": [
    "quick_plot(fia_df[\"comb_spectrum\"][0], xlim=[50,100], plottype=\"line\")"
   ]
  },
  {
   "cell_type": "markdown",
   "metadata": {},
   "source": [
    "## Clustering"
   ]
  },
  {
   "cell_type": "code",
   "execution_count": null,
   "metadata": {},
   "outputs": [
    {
     "data": {
      "text/plain": [
       "array([[  51.000412, 3082.      ],\n",
       "       [  51.001236, 3840.      ],\n",
       "       [  51.00206 , 4243.      ],\n",
       "       ...,\n",
       "       [1698.99794 , 1555.      ],\n",
       "       [1698.998764, 1955.      ],\n",
       "       [1698.999588, 2783.      ]])"
      ]
     },
     "execution_count": 10,
     "metadata": {},
     "output_type": "execute_result"
    }
   ],
   "source": [
    "mz_int_paired = np.stack(fia_df[\"comb_spectrum\"][0].get_peaks(), axis=-1)"
   ]
  },
  {
   "cell_type": "code",
   "execution_count": null,
   "metadata": {},
   "outputs": [],
   "source": [
    "from sklearn.cluster import *"
   ]
  },
  {
   "cell_type": "code",
   "execution_count": null,
   "metadata": {},
   "outputs": [
    {
     "name": "stderr",
     "output_type": "stream",
     "text": [
      "c:\\Users\\JosuaCarl\\miniconda3\\envs\\gemml\\Lib\\site-packages\\sklearn\\manifold\\_spectral_embedding.py:285: UserWarning: Graph is not fully connected, spectral embedding may not work as expected.\n",
      "  warnings.warn(\n",
      "c:\\Users\\JosuaCarl\\miniconda3\\envs\\gemml\\Lib\\site-packages\\sklearn\\manifold\\_spectral_embedding.py:411: UserWarning: Exited at iteration 212 with accuracies \n",
      "[3.64602613e-11 7.17876528e-06 3.53883315e-06 8.50051023e-06\n",
      " 1.16486984e-05 1.77417314e-05 1.47306043e-05 2.41061044e-05\n",
      " 1.26198892e-05 2.93792123e-05 1.24461006e-05]\n",
      "not reaching the requested tolerance 1.4901161193847656e-05.\n",
      "Use iteration 187 instead with accuracy \n",
      "1.2263115530142933e-05.\n",
      "\n",
      "  _, diffusion_map = lobpcg(\n",
      "c:\\Users\\JosuaCarl\\miniconda3\\envs\\gemml\\Lib\\site-packages\\sklearn\\manifold\\_spectral_embedding.py:411: UserWarning: Exited postprocessing with accuracies \n",
      "[3.37859905e-12 6.84421082e-06 3.70673689e-06 9.12107961e-06\n",
      " 1.12377683e-05 1.93088176e-05 1.91408995e-05 1.60626082e-05\n",
      " 1.32335160e-05 1.18014265e-05 2.44371790e-05]\n",
      "not reaching the requested tolerance 1.4901161193847656e-05.\n",
      "  _, diffusion_map = lobpcg(\n"
     ]
    }
   ],
   "source": [
    "sc = SpectralClustering(n_clusters=10, eigen_solver=\"amg\", n_components=None, random_state=None, n_init=5, gamma=1.0,\n",
    "                        affinity='rbf', n_neighbors=10, eigen_tol='auto', assign_labels='cluster_qr', degree=3, coef0=1, \n",
    "                        kernel_params=None, n_jobs=None, verbose=False)\n",
    "cluster = sc.fit(np.stack(fia_df[\"comb_spectrum\"][0].get_peaks(), axis=-1)[0:100])"
   ]
  },
  {
   "cell_type": "code",
   "execution_count": null,
   "metadata": {},
   "outputs": [],
   "source": [
    "sns.scatterplot(x=fia_df[\"comb_spectrum\"][0].get_peaks()[0][0:100], y=fia_df[\"comb_spectrum\"][0].get_peaks()[1][0:100], hue=cluster.labels_, sizes=(1, 1))"
   ]
  },
  {
   "cell_type": "code",
   "execution_count": null,
   "metadata": {},
   "outputs": [],
   "source": [
    "from scipy.spatial.distance import pdist\n",
    "from scipy.cluster.hierarchy import single, fcluster, complete, complete, dendrogram"
   ]
  },
  {
   "cell_type": "code",
   "execution_count": null,
   "metadata": {},
   "outputs": [],
   "source": [
    "## Itertools\n",
    "from itertools import combinations\n",
    "distances = [pdist([i[0], j[0]], metric=\"euclidean\") * pdist([i[1], j[1]], metric=\"correlation\") for (i, j) in combinations(mz_int_paired, 2)]"
   ]
  },
  {
   "cell_type": "code",
   "execution_count": null,
   "metadata": {},
   "outputs": [
    {
     "data": {
      "text/plain": [
       "array([0., 0., 0., 0., 0., 0.])"
      ]
     },
     "execution_count": 17,
     "metadata": {},
     "output_type": "execute_result"
    }
   ],
   "source": [
    "a = [1,2,3]\n",
    "b = [1,2,6]\n",
    "c = [10,11,12]\n",
    "d = [10, 20, 30]\n",
    "pdist([ [1, 10],  [11, 100], [2, 10], [2, 11]], metric=\"correlation\")"
   ]
  },
  {
   "cell_type": "code",
   "execution_count": null,
   "metadata": {},
   "outputs": [
    {
     "data": {
      "text/plain": [
       "array([  51.000412,   51.001236,   51.00206 , ..., 1698.99794 ,\n",
       "       1698.998764, 1698.999588])"
      ]
     },
     "execution_count": 18,
     "metadata": {},
     "output_type": "execute_result"
    }
   ],
   "source": [
    "mzs, intensities = fia_df[\"comb_spectrum\"][0].get_peaks()\n",
    "mzs"
   ]
  },
  {
   "cell_type": "code",
   "execution_count": null,
   "metadata": {},
   "outputs": [
    {
     "ename": "ValueError",
     "evalue": "A 2-dimensional array must be passed.",
     "output_type": "error",
     "traceback": [
      "\u001b[1;31m---------------------------------------------------------------------------\u001b[0m",
      "\u001b[1;31mValueError\u001b[0m                                Traceback (most recent call last)",
      "Cell \u001b[1;32mIn[19], line 1\u001b[0m\n\u001b[1;32m----> 1\u001b[0m distances \u001b[38;5;241m=\u001b[39m \u001b[43mpdist\u001b[49m\u001b[43m(\u001b[49m\u001b[43mmzs\u001b[49m\u001b[43m,\u001b[49m\u001b[43m \u001b[49m\u001b[43mmetric\u001b[49m\u001b[38;5;241;43m=\u001b[39;49m\u001b[38;5;124;43m\"\u001b[39;49m\u001b[38;5;124;43meuclidean\u001b[39;49m\u001b[38;5;124;43m\"\u001b[39;49m\u001b[43m)\u001b[49m \u001b[38;5;241m*\u001b[39m pdist(intensities, metric\u001b[38;5;241m=\u001b[39m\u001b[38;5;124m\"\u001b[39m\u001b[38;5;124mcorrelation\u001b[39m\u001b[38;5;124m\"\u001b[39m)\n",
      "File \u001b[1;32mc:\\Users\\JosuaCarl\\miniconda3\\envs\\gemml\\Lib\\site-packages\\scipy\\spatial\\distance.py:2213\u001b[0m, in \u001b[0;36mpdist\u001b[1;34m(X, metric, out, **kwargs)\u001b[0m\n\u001b[0;32m   2211\u001b[0m s \u001b[38;5;241m=\u001b[39m X\u001b[38;5;241m.\u001b[39mshape\n\u001b[0;32m   2212\u001b[0m \u001b[38;5;28;01mif\u001b[39;00m \u001b[38;5;28mlen\u001b[39m(s) \u001b[38;5;241m!=\u001b[39m \u001b[38;5;241m2\u001b[39m:\n\u001b[1;32m-> 2213\u001b[0m     \u001b[38;5;28;01mraise\u001b[39;00m \u001b[38;5;167;01mValueError\u001b[39;00m(\u001b[38;5;124m'\u001b[39m\u001b[38;5;124mA 2-dimensional array must be passed.\u001b[39m\u001b[38;5;124m'\u001b[39m)\n\u001b[0;32m   2215\u001b[0m m, n \u001b[38;5;241m=\u001b[39m s\n\u001b[0;32m   2217\u001b[0m \u001b[38;5;28;01mif\u001b[39;00m \u001b[38;5;28mcallable\u001b[39m(metric):\n",
      "\u001b[1;31mValueError\u001b[0m: A 2-dimensional array must be passed."
     ]
    }
   ],
   "source": [
    "distances = pdist(mzs, metric=\"euclidean\") * pdist(intensities, metric=\"correlation\")"
   ]
  },
  {
   "cell_type": "code",
   "execution_count": null,
   "metadata": {},
   "outputs": [],
   "source": [
    "cluster = complete(distances)"
   ]
  },
  {
   "cell_type": "code",
   "execution_count": null,
   "metadata": {},
   "outputs": [
    {
     "data": {
      "text/plain": [
       "{'icoord': [[25.0, 25.0, 35.0, 35.0],\n",
       "  [15.0, 15.0, 30.0, 30.0],\n",
       "  [5.0, 5.0, 22.5, 22.5]],\n",
       " 'dcoord': [[0.0, 0.0, 0.0, 0.0],\n",
       "  [0.0, 0.0, 0.0, 0.0],\n",
       "  [0.0, 0.6026402928804868, 0.6026402928804868, 0.0]],\n",
       " 'ivl': ['1', '3', '0', '2'],\n",
       " 'leaves': [1, 3, 0, 2],\n",
       " 'color_list': ['C1', 'C1', 'C0'],\n",
       " 'leaves_color_list': ['C0', 'C1', 'C1', 'C1']}"
      ]
     },
     "execution_count": 90,
     "metadata": {},
     "output_type": "execute_result"
    },
    {
     "data": {
      "image/png": "[encoded data removed]",
      "text/plain": [
       "<Figure size 640x480 with 1 Axes>"
      ]
     },
     "metadata": {},
     "output_type": "display_data"
    }
   ],
   "source": [
    "dendrogram(cluster)"
   ]
  },
  {
   "cell_type": "code",
   "execution_count": null,
   "metadata": {},
   "outputs": [
    {
     "data": {
      "text/plain": [
       "array([1, 2, 1, 1], dtype=int32)"
      ]
     },
     "execution_count": 89,
     "metadata": {},
     "output_type": "execute_result"
    }
   ],
   "source": [
    "fcluster(cluster, 0.5, criterion=\"distance\")"
   ]
  },
  {
   "cell_type": "markdown",
   "metadata": {},
   "source": [
    "#### Summing intensities"
   ]
  },
  {
   "cell_type": "code",
   "execution_count": null,
   "metadata": {},
   "outputs": [
    {
     "data": {
      "text/plain": [
       "array([ 61.,   0.,   0.,   0.,  58.,   0.,   0.,   3.,   0.,   0.,   0.,\n",
       "         3.,   0.,   0.,   0.,   3.,   0.,   0.,   0.,   3.,   0.,   0.,\n",
       "         0.,   3.,   0.,   0.,   0.,  49.,   0.,   0.,   0.,  52.,   0.,\n",
       "         0.,   0.,  42.,   0.,   0.,   0., 263.,   0.,   0.,   0., 269.,\n",
       "         0.,   0., 238.,   0.,   0.,   0.], dtype=float32)"
      ]
     },
     "execution_count": 7,
     "metadata": {},
     "output_type": "execute_result"
    }
   ],
   "source": [
    "exp = fia_df.loc[0, \"lim_experiment\"]\n",
    "exp.getSpectra()[0].get_peaks()[1][-50:]"
   ]
  },
  {
   "cell_type": "code",
   "execution_count": null,
   "metadata": {},
   "outputs": [
    {
     "data": {
      "text/plain": [
       "array([ 1,  7, 12, 12, 23, 78, 78, 78, 78, 78, 78], dtype=int64)"
      ]
     },
     "execution_count": 8,
     "metadata": {},
     "output_type": "execute_result"
    }
   ],
   "source": [
    "bins = np.linspace(1, 10, 100)\n",
    "np.digitize(np.array([1,1.6,2,2,3,8,8,8,8,8,8]), bins)"
   ]
  },
  {
   "cell_type": "code",
   "execution_count": null,
   "metadata": {},
   "outputs": [],
   "source": []
  },
  {
   "cell_type": "code",
   "execution_count": null,
   "metadata": {},
   "outputs": [
    {
     "data": {
      "text/html": [
       "<div>\n",
       "<style scoped>\n",
       "    .dataframe tbody tr th:only-of-type {\n",
       "        vertical-align: middle;\n",
       "    }\n",
       "\n",
       "    .dataframe tbody tr th {\n",
       "        vertical-align: top;\n",
       "    }\n",
       "\n",
       "    .dataframe thead th {\n",
       "        text-align: right;\n",
       "    }\n",
       "</style>\n",
       "<table border=\"1\" class=\"dataframe\">\n",
       "  <thead>\n",
       "    <tr style=\"text-align: right;\">\n",
       "      <th></th>\n",
       "      <th>sample</th>\n",
       "      <th>polarity</th>\n",
       "      <th>experiment</th>\n",
       "      <th>lim_experiment</th>\n",
       "    </tr>\n",
       "  </thead>\n",
       "  <tbody>\n",
       "    <tr>\n",
       "      <th>0</th>\n",
       "      <td>mg1655</td>\n",
       "      <td>-1</td>\n",
       "      <td>&lt;pyopenms._dataframes._MSExperimentDF object a...</td>\n",
       "      <td>&lt;pyopenms._pyopenms_5.MSExperiment object at 0...</td>\n",
       "    </tr>\n",
       "    <tr>\n",
       "      <th>1</th>\n",
       "      <td>mg1655</td>\n",
       "      <td>1</td>\n",
       "      <td>&lt;pyopenms._dataframes._MSExperimentDF object a...</td>\n",
       "      <td>&lt;pyopenms._pyopenms_5.MSExperiment object at 0...</td>\n",
       "    </tr>\n",
       "    <tr>\n",
       "      <th>2</th>\n",
       "      <td>nissle</td>\n",
       "      <td>-1</td>\n",
       "      <td>&lt;pyopenms._dataframes._MSExperimentDF object a...</td>\n",
       "      <td>&lt;pyopenms._pyopenms_5.MSExperiment object at 0...</td>\n",
       "    </tr>\n",
       "    <tr>\n",
       "      <th>3</th>\n",
       "      <td>nissle</td>\n",
       "      <td>1</td>\n",
       "      <td>&lt;pyopenms._dataframes._MSExperimentDF object a...</td>\n",
       "      <td>&lt;pyopenms._pyopenms_5.MSExperiment object at 0...</td>\n",
       "    </tr>\n",
       "    <tr>\n",
       "      <th>4</th>\n",
       "      <td>tue1</td>\n",
       "      <td>-1</td>\n",
       "      <td>&lt;pyopenms._dataframes._MSExperimentDF object a...</td>\n",
       "      <td>&lt;pyopenms._pyopenms_5.MSExperiment object at 0...</td>\n",
       "    </tr>\n",
       "    <tr>\n",
       "      <th>5</th>\n",
       "      <td>tue1</td>\n",
       "      <td>1</td>\n",
       "      <td>&lt;pyopenms._dataframes._MSExperimentDF object a...</td>\n",
       "      <td>&lt;pyopenms._pyopenms_5.MSExperiment object at 0...</td>\n",
       "    </tr>\n",
       "  </tbody>\n",
       "</table>\n",
       "</div>"
      ],
      "text/plain": [
       "   sample polarity                                         experiment  \\\n",
       "0  mg1655       -1  <pyopenms._dataframes._MSExperimentDF object a...   \n",
       "1  mg1655        1  <pyopenms._dataframes._MSExperimentDF object a...   \n",
       "2  nissle       -1  <pyopenms._dataframes._MSExperimentDF object a...   \n",
       "3  nissle        1  <pyopenms._dataframes._MSExperimentDF object a...   \n",
       "4    tue1       -1  <pyopenms._dataframes._MSExperimentDF object a...   \n",
       "5    tue1        1  <pyopenms._dataframes._MSExperimentDF object a...   \n",
       "\n",
       "                                      lim_experiment  \n",
       "0  <pyopenms._pyopenms_5.MSExperiment object at 0...  \n",
       "1  <pyopenms._pyopenms_5.MSExperiment object at 0...  \n",
       "2  <pyopenms._pyopenms_5.MSExperiment object at 0...  \n",
       "3  <pyopenms._pyopenms_5.MSExperiment object at 0...  \n",
       "4  <pyopenms._pyopenms_5.MSExperiment object at 0...  \n",
       "5  <pyopenms._pyopenms_5.MSExperiment object at 0...  "
      ]
     },
     "execution_count": 9,
     "metadata": {},
     "output_type": "execute_result"
    }
   ],
   "source": [
    "fia_df"
   ]
  },
  {
   "cell_type": "code",
   "execution_count": null,
   "metadata": {},
   "outputs": [],
   "source": []
  }
 ],
 "metadata": {
  "kernelspec": {
   "display_name": "gemml",
   "language": "python",
   "name": "python3"
  },
  "language_info": {
   "codemirror_mode": {
    "name": "ipython",
    "version": 3
   },
   "file_extension": ".py",
   "mimetype": "text/x-python",
   "name": "python",
   "nbconvert_exporter": "python",
   "pygments_lexer": "ipython3",
   "version": "3.11.7"
  }
 },
 "nbformat": 4,
 "nbformat_minor": 2
}
