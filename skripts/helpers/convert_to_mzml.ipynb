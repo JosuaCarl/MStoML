{
 "cells": [
  {
   "cell_type": "code",
   "execution_count": 1,
   "metadata": {},
   "outputs": [],
   "source": [
    "import os"
   ]
  },
  {
   "cell_type": "code",
   "execution_count": null,
   "metadata": {},
   "outputs": [],
   "source": [
    "def convert_folder(folder):\n",
    "    os.system( f\"msconvert --mzML --64 --zlib -o {folder}\\ConvertedData {folder}\\RawData\\*.d\" )"
   ]
  },
  {
   "cell_type": "code",
   "execution_count": null,
   "metadata": {},
   "outputs": [],
   "source": [
    "origin_folder = \"/mnt/d/data/New_Data\"\n",
    "for dir in os.listdir(origin_folder):\n",
    "    dir = os.path.join(origin_folder, dir)\n",
    "    if len(os.listdir(os.path.join(dir, \"RawData\"))) != len(os.listdir(os.path.join(dir, \"ConvertedData\"))):\n",
    "        convert_folder(dir)"
   ]
  }
 ],
 "metadata": {
  "kernelspec": {
   "display_name": "VAE",
   "language": "python",
   "name": "python3"
  },
  "language_info": {
   "codemirror_mode": {
    "name": "ipython",
    "version": 3
   },
   "file_extension": ".py",
   "mimetype": "text/x-python",
   "name": "python",
   "nbconvert_exporter": "python",
   "pygments_lexer": "ipython3",
   "version": "3.11.8"
  }
 },
 "nbformat": 4,
 "nbformat_minor": 2
}
