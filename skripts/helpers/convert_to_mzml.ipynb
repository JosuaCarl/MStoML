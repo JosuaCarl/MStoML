{
 "cells": [
  {
   "cell_type": "code",
   "execution_count": 1,
   "metadata": {},
   "outputs": [],
   "source": [
    "import os\n",
    "import platform\n"
   ]
  },
  {
   "cell_type": "code",
   "execution_count": 2,
   "metadata": {},
   "outputs": [],
   "source": [
    "def convert_folder(folder):\n",
    "    os.system( f'msconvert --mzML --64 --zlib -o {os.path.join(folder, \"ConvertedData\")} {os.path.join(folder, \"RawData\", \"*\")}' )\n",
    "\n",
    "def merge_folder(folder):\n",
    "    os.system( f'python FIA_oms.py --data_dir \"{os.path.join(folder, \"ConvertedData\")}\" --run_dir \"{os.path.join(os.path.normpath(\"/mnt/d/runs/FIA\"), os.path.basename(folder))}\" --steps \"merge\" -e \".mzML\"' )"
   ]
  },
  {
   "cell_type": "code",
   "execution_count": 5,
   "metadata": {},
   "outputs": [],
   "source": [
    "start = \"D:\" if platform.system() == \"Windows\" else \"/mnt/d\"\n",
    "origin_folder = os.path.normpath(start + \"/data/New_Data\")\n",
    "for folder in os.listdir(origin_folder):\n",
    "    folder = os.path.join(origin_folder, folder)\n",
    "    if len(os.listdir(os.path.join(folder, \"RawData\"))) != len(os.listdir(os.path.join(folder, \"ConvertedData\"))):\n",
    "        convert_folder(folder)"
   ]
  },
  {
   "cell_type": "code",
   "execution_count": 5,
   "metadata": {},
   "outputs": [
    {
     "name": "stdout",
     "output_type": "stream",
     "text": [
      "python FIA_oms.py --data_dir \"xy\" --run_dir \"yz/a\" --steps \"merge\" -e \".mzML\"\n"
     ]
    }
   ],
   "source": [
    "for folder in os.listdir(origin_folder):\n",
    "    folder = os.path.join(origin_folder, folder)\n",
    "    if len(os.listdir(os.path.join(folder, \"ConvertedData\"))) != len({os.path.join(os.path.normpath(\"/mnt/d/runs/FIA\"), os.path.basename(folder))}):\n",
    "        merge_folder(folder)"
   ]
  },
  {
   "cell_type": "code",
   "execution_count": null,
   "metadata": {},
   "outputs": [],
   "source": []
  }
 ],
 "metadata": {
  "kernelspec": {
   "display_name": "VAE",
   "language": "python",
   "name": "python3"
  },
  "language_info": {
   "codemirror_mode": {
    "name": "ipython",
    "version": 3
   },
   "file_extension": ".py",
   "mimetype": "text/x-python",
   "name": "python",
   "nbconvert_exporter": "python",
   "pygments_lexer": "ipython3",
   "version": "3.11.8"
  }
 },
 "nbformat": 4,
 "nbformat_minor": 2
}
