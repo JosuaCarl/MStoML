{
 "cells": [
  {
   "cell_type": "code",
   "execution_count": 1,
   "metadata": {},
   "outputs": [],
   "source": [
    "import os\n",
    "import sys\n",
    "import escher\n",
    "import cobra\n",
    "import numpy as np\n",
    "\n",
    "sys.path.append(\"..\")\n",
    "from helpers.file_handling import  *"
   ]
  },
  {
   "cell_type": "code",
   "execution_count": 2,
   "metadata": {},
   "outputs": [
    {
     "data": {
      "text/plain": [
       "['/mnt/d/data/GEMs/Com_8/Bacteroides_thetaiotaomicron_dnLKV9_utf8.xml',\n",
       " '/mnt/d/data/GEMs/Com_8/Bacteroides_uniformis_dnLKV2_utf8.xml',\n",
       " '/mnt/d/data/GEMs/Com_8/Bacteroides_vulgatus_PC510_utf8.xml',\n",
       " '/mnt/d/data/GEMs/Com_8/Clostridium_ramosum_VPI_0427_DSM_1402_utf8.xml',\n",
       " '/mnt/d/data/GEMs/Com_8/Collinsella_aerofaciens_ERR1022282_utf8.xml',\n",
       " '/mnt/d/data/GEMs/Com_8/Fusobacterium_nucleatum_subsp_polymorphum_ATCC_10953_utf8.xml',\n",
       " '/mnt/d/data/GEMs/Com_8/Roseburia_intestinalis_XB6B4_utf8.xml',\n",
       " '/mnt/d/data/GEMs/Com_8/Ruminococcus_gnavus_ATCC_29149_utf8.xml']"
      ]
     },
     "execution_count": 2,
     "metadata": {},
     "output_type": "execute_result"
    }
   ],
   "source": [
    "sbmls_path = \"/mnt/d/data/GEMs/Com_8\"\n",
    "files = [os.path.join(sbmls_path, file) for file in os.listdir(sbmls_path) if file.endswith(\"ml\") and \"utf8\" in file]\n",
    "files"
   ]
  },
  {
   "cell_type": "code",
   "execution_count": 3,
   "metadata": {},
   "outputs": [
    {
     "data": {
      "text/plain": [
       "'\\nfor file in files:\\n    convert_to_utf8(file)\\n'"
      ]
     },
     "execution_count": 3,
     "metadata": {},
     "output_type": "execute_result"
    }
   ],
   "source": [
    "\"\"\"\n",
    "for file in files:\n",
    "    convert_to_utf8(file)\n",
    "\"\"\""
   ]
  },
  {
   "cell_type": "code",
   "execution_count": 15,
   "metadata": {},
   "outputs": [
    {
     "data": {
      "text/html": [
       "\n",
       "        <table>\n",
       "            <tr>\n",
       "                <td><strong>Name</strong></td>\n",
       "                <td>M_Clostridium_ramosum_VPI_0427_DSM_1402</td>\n",
       "            </tr><tr>\n",
       "                <td><strong>Memory address</strong></td>\n",
       "                <td>7efe148a6980</td>\n",
       "            </tr><tr>\n",
       "                <td><strong>Number of metabolites</strong></td>\n",
       "                <td>962</td>\n",
       "            </tr><tr>\n",
       "                <td><strong>Number of reactions</strong></td>\n",
       "                <td>1049</td>\n",
       "            </tr><tr>\n",
       "                <td><strong>Number of genes</strong></td>\n",
       "                <td>893</td>\n",
       "            </tr><tr>\n",
       "                <td><strong>Number of groups</strong></td>\n",
       "                <td>68</td>\n",
       "            </tr><tr>\n",
       "                <td><strong>Objective expression</strong></td>\n",
       "                <td>1.0*biomass525 - 1.0*biomass525_reverse_5c178</td>\n",
       "            </tr><tr>\n",
       "                <td><strong>Compartments</strong></td>\n",
       "                <td>Cytoplasm, Extracellular</td>\n",
       "            </tr>\n",
       "          </table>"
      ],
      "text/plain": [
       "<Model M_Clostridium_ramosum_VPI_0427_DSM_1402 at 0x7efe148a6980>"
      ]
     },
     "execution_count": 15,
     "metadata": {},
     "output_type": "execute_result"
    }
   ],
   "source": [
    "sb_model = cobra.io.read_sbml_model(files[3])\n",
    "sb_model"
   ]
  },
  {
   "cell_type": "code",
   "execution_count": 16,
   "metadata": {},
   "outputs": [
    {
     "data": {
      "text/html": [
       "<strong><em>Optimal</em> solution with objective value 47.496</strong><br><div>\n",
       "<style scoped>\n",
       "    .dataframe tbody tr th:only-of-type {\n",
       "        vertical-align: middle;\n",
       "    }\n",
       "\n",
       "    .dataframe tbody tr th {\n",
       "        vertical-align: top;\n",
       "    }\n",
       "\n",
       "    .dataframe thead th {\n",
       "        text-align: right;\n",
       "    }\n",
       "</style>\n",
       "<table border=\"1\" class=\"dataframe\">\n",
       "  <thead>\n",
       "    <tr style=\"text-align: right;\">\n",
       "      <th></th>\n",
       "      <th>fluxes</th>\n",
       "      <th>reduced_costs</th>\n",
       "    </tr>\n",
       "  </thead>\n",
       "  <tbody>\n",
       "    <tr>\n",
       "      <th>12aHSDHe</th>\n",
       "      <td>615.247537</td>\n",
       "      <td>2.662693e-17</td>\n",
       "    </tr>\n",
       "    <tr>\n",
       "      <th>23DHMPO</th>\n",
       "      <td>0.000000</td>\n",
       "      <td>-7.528465e-18</td>\n",
       "    </tr>\n",
       "    <tr>\n",
       "      <th>26DAPLLATi</th>\n",
       "      <td>20.234369</td>\n",
       "      <td>6.071532e-18</td>\n",
       "    </tr>\n",
       "    <tr>\n",
       "      <th>2AHBUTI</th>\n",
       "      <td>0.000000</td>\n",
       "      <td>-2.174890e-17</td>\n",
       "    </tr>\n",
       "    <tr>\n",
       "      <th>2MBCOATA</th>\n",
       "      <td>0.000000</td>\n",
       "      <td>0.000000e+00</td>\n",
       "    </tr>\n",
       "    <tr>\n",
       "      <th>...</th>\n",
       "      <td>...</td>\n",
       "      <td>...</td>\n",
       "    </tr>\n",
       "    <tr>\n",
       "      <th>tCAP</th>\n",
       "      <td>0.000000</td>\n",
       "      <td>-0.000000e+00</td>\n",
       "    </tr>\n",
       "    <tr>\n",
       "      <th>tCZP</th>\n",
       "      <td>-243.058162</td>\n",
       "      <td>-2.738546e-19</td>\n",
       "    </tr>\n",
       "    <tr>\n",
       "      <th>tNCAP</th>\n",
       "      <td>0.000000</td>\n",
       "      <td>1.041099e-17</td>\n",
       "    </tr>\n",
       "    <tr>\n",
       "      <th>tNZP</th>\n",
       "      <td>0.000000</td>\n",
       "      <td>-2.738546e-19</td>\n",
       "    </tr>\n",
       "    <tr>\n",
       "      <th>biomass525</th>\n",
       "      <td>47.495620</td>\n",
       "      <td>1.086587e-15</td>\n",
       "    </tr>\n",
       "  </tbody>\n",
       "</table>\n",
       "<p>1049 rows × 2 columns</p>\n",
       "</div>"
      ],
      "text/plain": [
       "<Solution 47.496 at 0x7efe02017280>"
      ]
     },
     "execution_count": 16,
     "metadata": {},
     "output_type": "execute_result"
    }
   ],
   "source": [
    "solution = sb_model.optimize()\n",
    "solution"
   ]
  },
  {
   "cell_type": "code",
   "execution_count": 6,
   "metadata": {},
   "outputs": [],
   "source": [
    "def search_metab_by_name(model, met_name:str):\n",
    "    hits = []\n",
    "    for met in model.metabolites:\n",
    "        if met_name in met.name:\n",
    "            hits.append(met)\n",
    "    return hits\n",
    "\n",
    "def search_metab_by_weight(model, weight:float, tolerance:float):\n",
    "    hits = []\n",
    "    for met in model.metabolites:\n",
    "        if \"R\" in met.formula or \"X\" in met.formula:\n",
    "            continue\n",
    "        if np.isclose(weight, met.formula_weight, atol=tolerance, rtol=0.0):\n",
    "            hits.append(met)\n",
    "    return hits"
   ]
  },
  {
   "cell_type": "code",
   "execution_count": 22,
   "metadata": {},
   "outputs": [],
   "source": [
    "m_hits = search_metab_by_name(sb_model, \"2-C-methyl-D-erythritol 4-phosphate\")"
   ]
  },
  {
   "cell_type": "code",
   "execution_count": 23,
   "metadata": {},
   "outputs": [
    {
     "data": {
      "text/html": [
       "\n",
       "        <table>\n",
       "            <tr>\n",
       "                <td><strong>Metabolite identifier</strong></td><td>2me4p[c]</td>\n",
       "            </tr><tr>\n",
       "                <td><strong>Name</strong></td><td>2-C-methyl-D-erythritol 4-phosphate</td>\n",
       "            </tr><tr>\n",
       "                <td><strong>Memory address</strong></td>\n",
       "                <td>0x7efe023f65c0</td>\n",
       "            </tr><tr>\n",
       "                <td><strong>Formula</strong></td><td>C5H11O7P</td>\n",
       "            </tr><tr>\n",
       "                <td><strong>Compartment</strong></td><td>c</td>\n",
       "            </tr><tr>\n",
       "                <td><strong>In 2 reaction(s)</strong></td><td>\n",
       "                    MEPCT, DXPRIr\n",
       "                    </td>\n",
       "            </tr>\n",
       "        </table>"
      ],
      "text/plain": [
       "<Metabolite 2me4p[c] at 0x7efe023f65c0>"
      ]
     },
     "execution_count": 23,
     "metadata": {},
     "output_type": "execute_result"
    }
   ],
   "source": [
    "m_hits[0]"
   ]
  },
  {
   "cell_type": "code",
   "execution_count": 8,
   "metadata": {},
   "outputs": [
    {
     "data": {
      "text/plain": [
       "[<Metabolite 10fthf5glu[c] at 0x7efe152ad0f0>]"
      ]
     },
     "execution_count": 8,
     "metadata": {},
     "output_type": "execute_result"
    }
   ],
   "source": [
    "search_metab_by_weight(sb_model, 983.8475, 2e-4)"
   ]
  },
  {
   "cell_type": "code",
   "execution_count": 9,
   "metadata": {},
   "outputs": [],
   "source": [
    "sb_model_json = cobra.io.to_json(sb_model)"
   ]
  },
  {
   "cell_type": "code",
   "execution_count": 27,
   "metadata": {},
   "outputs": [],
   "source": [
    "builder = escher.Builder(model_json=sb_model_json)\n",
    "builder.model = sb_model\n",
    "builder.reaction_data = solution.fluxes\n",
    "builder.metabolite_data = solution.shadow_prices\n",
    "builder.scroll_behavior = 'zoom'\n",
    "builder.reaction_styles = ['size']"
   ]
  },
  {
   "cell_type": "code",
   "execution_count": 28,
   "metadata": {},
   "outputs": [
    {
     "data": {
      "application/vnd.jupyter.widget-view+json": {
       "model_id": "50d0a958dca64f22af996ed980501a9d",
       "version_major": 2,
       "version_minor": 0
      },
      "text/plain": [
       "Builder(reaction_data={'12aHSDHe': 615.2475366688848, '23DHMPO': 0.0, '26DAPLLATi': 20.23436890252726, '2AHBUT…"
      ]
     },
     "metadata": {},
     "output_type": "display_data"
    }
   ],
   "source": [
    "builder"
   ]
  },
  {
   "cell_type": "code",
   "execution_count": 29,
   "metadata": {},
   "outputs": [],
   "source": [
    "builder.save_html('../../reports/pathway/example_map.html')"
   ]
  },
  {
   "cell_type": "code",
   "execution_count": null,
   "metadata": {},
   "outputs": [],
   "source": []
  }
 ],
 "metadata": {
  "kernelspec": {
   "display_name": "Python 3 (ipykernel)",
   "language": "python",
   "name": "python3"
  },
  "language_info": {
   "codemirror_mode": {
    "name": "ipython",
    "version": 3
   },
   "file_extension": ".py",
   "mimetype": "text/x-python",
   "name": "python",
   "nbconvert_exporter": "python",
   "pygments_lexer": "ipython3",
   "version": "3.10.14"
  }
 },
 "nbformat": 4,
 "nbformat_minor": 2
}
