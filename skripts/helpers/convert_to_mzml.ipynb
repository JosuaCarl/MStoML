{
 "cells": [
  {
   "cell_type": "code",
   "execution_count": 3,
   "metadata": {},
   "outputs": [],
   "source": [
    "import os\n",
    "import platform\n",
    "from tqdm import tqdm\n",
    "\n",
    "start = \"D:\" if platform.system() == \"Windows\" else \"/mnt/d\""
   ]
  },
  {
   "cell_type": "code",
   "execution_count": 30,
   "metadata": {},
   "outputs": [],
   "source": [
    "def convert_folder(folder):\n",
    "    os.system( f'msconvert --mzML --64 --zlib -o {os.path.join(folder, \"ConvertedData\")} {os.path.join(folder, \"RawData\", \"*\")}' )\n",
    "\n",
    "def convert_folders(root_folder):\n",
    "    for folder in tqdm(os.listdir(root_folder)):\n",
    "        folder = os.path.join(root_folder, folder)\n",
    "        if len(os.listdir(os.path.join(folder, \"RawData\"))) != len(os.listdir(os.path.join(folder, \"ConvertedData\"))):\n",
    "            convert_folder(folder)\n",
    "\n",
    "def convert_file(folder, file):\n",
    "    os.system( f'msconvert --mzML --64 --zlib -o {os.path.join(folder, \"ConvertedData\")} {os.path.join(folder, \"RawData\", file)}' )\n",
    "\n",
    "def convert_files(root_folder):\n",
    "    count = 0\n",
    "    for folder in tqdm(os.listdir(root_folder)):\n",
    "        folder = os.path.join(root_folder, folder)\n",
    "        for file in tqdm(os.listdir(os.path.join(folder, \"RawData\")), desc=folder):\n",
    "            count += 1\n",
    "            target_path = os.path.join(folder, \"ConvertedData\", f'{\".\".join(file.split(\".\")[:-1])}.mzML')\n",
    "            if (not os.path.isfile(target_path)) or os.path.getsize(target_path) < 1e8 :\n",
    "                \n",
    "                print(f'Converting {target_path}')\n",
    "                convert_file(folder, file)\n",
    "    print(count)\n",
    "                \n",
    "\n",
    "def merge_folder(folder):\n",
    "    os.system( f'python FIA_oms.py --data_dir \"{os.path.join(folder, \"ConvertedData\")}\" --run_dir \"{os.path.join(os.path.normpath(start + \"/runs/FIA\"), os.path.basename(folder))}\" --steps \"merge\" -e \".mzML\"' )\n",
    "\n",
    "def merge_folders(root_folder, target_folder):\n",
    "    for folder in os.listdir(root_folder):\n",
    "        folder = os.path.join(root_folder, folder)\n",
    "        if len(os.listdir(os.path.join(folder, \"ConvertedData\"))) != len({os.path.join(target_folder, os.path.basename(folder))}):\n",
    "            merge_folder(folder)"
   ]
  },
  {
   "cell_type": "code",
   "execution_count": 31,
   "metadata": {},
   "outputs": [
    {
     "name": "stderr",
     "output_type": "stream",
     "text": [
      "D:\\data\\New_Data\\20220620_P0003_S6-S22_FIA-TOF: 100%|██████████| 34/34 [00:00<00:00, 33881.29it/s]\n",
      "D:\\data\\New_Data\\20220726_FIA-TOF_Ex0005_msAG24-msAg77: 100%|██████████| 148/148 [00:00<00:00, 37071.18it/s]\n",
      "D:\\data\\New_Data\\20220817_P0008_S13-S96_FIA-TOF: 100%|██████████| 208/208 [00:00<?, ?it/s]\n",
      "D:\\data\\New_Data\\20221221_P0008_S97-S156_FIA-TOF: 100%|██████████| 120/120 [00:00<?, ?it/s]\n",
      "D:\\data\\New_Data\\20230307_P0017_S1-S15_FIA-TOF: 100%|██████████| 50/50 [00:00<?, ?it/s]\n",
      "D:\\data\\New_Data\\20230505_P0017_S16-S135_FI-TOF: 100%|██████████| 250/250 [00:00<00:00, 31217.84it/s]\n",
      "D:\\data\\New_Data\\20230515_P0008_Plasma_Randomized: 100%|██████████| 116/116 [00:00<00:00, 15727.28it/s]\n"
     ]
    },
    {
     "name": "stdout",
     "output_type": "stream",
     "text": [
      "Converting D:\\data\\New_Data\\20230515_P0008_Serum_Randomized\\ConvertedData\\2023-05-15_Bioblank05_pos.mzML\n"
     ]
    },
    {
     "name": "stderr",
     "output_type": "stream",
     "text": [
      "D:\\data\\New_Data\\20230515_P0008_Serum_Randomized: 100%|██████████| 78/78 [00:02<00:00, 32.43it/s]\n",
      "D:\\data\\New_Data\\20230516_P0008_Gewebe_Randomized: 100%|██████████| 138/138 [00:00<00:00, 68458.18it/s]\n",
      "D:\\data\\New_Data\\20230629_P0018_S01-S12_FI-TOF: 100%|██████████| 44/44 [00:00<00:00, 6411.53it/s]\n",
      "D:\\data\\New_Data\\20230822_P0031_S1-S66_FI-TOF: 100%|██████████| 132/132 [00:00<?, ?it/s]\n",
      "D:\\data\\New_Data\\20230927_P0031_Decay_DHA_FI-TOF: 100%|██████████| 14/14 [00:00<?, ?it/s]\n"
     ]
    },
    {
     "name": "stdout",
     "output_type": "stream",
     "text": [
      "Converting D:\\data\\New_Data\\20230927_P0031_S001-S066_FI-TOF_1to100_wdh\\ConvertedData\\P0031_S050_dilut_P3-E2_neg.mzML\n"
     ]
    },
    {
     "name": "stderr",
     "output_type": "stream",
     "text": []
    },
    {
     "name": "stdout",
     "output_type": "stream",
     "text": [
      "Converting D:\\data\\New_Data\\20230927_P0031_S001-S066_FI-TOF_1to100_wdh\\ConvertedData\\P0031_S050_dilut_P3-E2_pos.mzML\n"
     ]
    }
   ],
   "source": [
    "root_folder = os.path.normpath(start + \"/data/New_Data\")\n",
    "convert_files(root_folder)"
   ]
  },
  {
   "cell_type": "code",
   "execution_count": 7,
   "metadata": {},
   "outputs": [
    {
     "ename": "NameError",
     "evalue": "name 'start' is not defined",
     "output_type": "error",
     "traceback": [
      "\u001b[1;31m---------------------------------------------------------------------------\u001b[0m",
      "\u001b[1;31mNameError\u001b[0m                                 Traceback (most recent call last)",
      "Cell \u001b[1;32mIn[7], line 4\u001b[0m\n\u001b[0;32m      2\u001b[0m folder \u001b[38;5;241m=\u001b[39m os\u001b[38;5;241m.\u001b[39mpath\u001b[38;5;241m.\u001b[39mjoin(origin_folder, folder)\n\u001b[0;32m      3\u001b[0m \u001b[38;5;28;01mif\u001b[39;00m \u001b[38;5;28mlen\u001b[39m(os\u001b[38;5;241m.\u001b[39mlistdir(os\u001b[38;5;241m.\u001b[39mpath\u001b[38;5;241m.\u001b[39mjoin(folder, \u001b[38;5;124m\"\u001b[39m\u001b[38;5;124mConvertedData\u001b[39m\u001b[38;5;124m\"\u001b[39m))) \u001b[38;5;241m!=\u001b[39m \u001b[38;5;28mlen\u001b[39m({os\u001b[38;5;241m.\u001b[39mpath\u001b[38;5;241m.\u001b[39mjoin(os\u001b[38;5;241m.\u001b[39mpath\u001b[38;5;241m.\u001b[39mnormpath(\u001b[38;5;124m\"\u001b[39m\u001b[38;5;124m/mnt/d/runs/FIA/merged\u001b[39m\u001b[38;5;124m\"\u001b[39m), os\u001b[38;5;241m.\u001b[39mpath\u001b[38;5;241m.\u001b[39mbasename(folder))}):\n\u001b[1;32m----> 4\u001b[0m     \u001b[43mmerge_folder\u001b[49m\u001b[43m(\u001b[49m\u001b[43mfolder\u001b[49m\u001b[43m)\u001b[49m\n",
      "Cell \u001b[1;32mIn[6], line 5\u001b[0m, in \u001b[0;36mmerge_folder\u001b[1;34m(folder)\u001b[0m\n\u001b[0;32m      4\u001b[0m \u001b[38;5;28;01mdef\u001b[39;00m \u001b[38;5;21mmerge_folder\u001b[39m(folder):\n\u001b[1;32m----> 5\u001b[0m     os\u001b[38;5;241m.\u001b[39msystem( \u001b[38;5;124mf\u001b[39m\u001b[38;5;124m'\u001b[39m\u001b[38;5;124mpython FIA_oms.py --data_dir \u001b[39m\u001b[38;5;124m\"\u001b[39m\u001b[38;5;132;01m{\u001b[39;00mos\u001b[38;5;241m.\u001b[39mpath\u001b[38;5;241m.\u001b[39mjoin(folder,\u001b[38;5;250m \u001b[39m\u001b[38;5;124m\"\u001b[39m\u001b[38;5;124mConvertedData\u001b[39m\u001b[38;5;124m\"\u001b[39m)\u001b[38;5;132;01m}\u001b[39;00m\u001b[38;5;124m\"\u001b[39m\u001b[38;5;124m --run_dir \u001b[39m\u001b[38;5;124m\"\u001b[39m\u001b[38;5;132;01m{\u001b[39;00mos\u001b[38;5;241m.\u001b[39mpath\u001b[38;5;241m.\u001b[39mjoin(os\u001b[38;5;241m.\u001b[39mpath\u001b[38;5;241m.\u001b[39mnormpath(\u001b[43mstart\u001b[49m\u001b[38;5;250m \u001b[39m\u001b[38;5;241m+\u001b[39m\u001b[38;5;250m \u001b[39m\u001b[38;5;124m\"\u001b[39m\u001b[38;5;124m/runs/FIA\u001b[39m\u001b[38;5;124m\"\u001b[39m),\u001b[38;5;250m \u001b[39mos\u001b[38;5;241m.\u001b[39mpath\u001b[38;5;241m.\u001b[39mbasename(folder))\u001b[38;5;132;01m}\u001b[39;00m\u001b[38;5;124m\"\u001b[39m\u001b[38;5;124m --steps \u001b[39m\u001b[38;5;124m\"\u001b[39m\u001b[38;5;124mmerge\u001b[39m\u001b[38;5;124m\"\u001b[39m\u001b[38;5;124m -e \u001b[39m\u001b[38;5;124m\"\u001b[39m\u001b[38;5;124m.mzML\u001b[39m\u001b[38;5;124m\"\u001b[39m\u001b[38;5;124m'\u001b[39m )\n",
      "\u001b[1;31mNameError\u001b[0m: name 'start' is not defined"
     ]
    }
   ],
   "source": [
    "target_folder = os.path.normpath(f'{start}/runs/FIA/merged')\n",
    "merge_folders(root_folder)"
   ]
  },
  {
   "cell_type": "code",
   "execution_count": null,
   "metadata": {},
   "outputs": [],
   "source": []
  }
 ],
 "metadata": {
  "kernelspec": {
   "display_name": "VAE",
   "language": "python",
   "name": "python3"
  },
  "language_info": {
   "codemirror_mode": {
    "name": "ipython",
    "version": 3
   },
   "file_extension": ".py",
   "mimetype": "text/x-python",
   "name": "python",
   "nbconvert_exporter": "python",
   "pygments_lexer": "ipython3",
   "version": "3.11.8"
  }
 },
 "nbformat": 4,
 "nbformat_minor": 2
}
