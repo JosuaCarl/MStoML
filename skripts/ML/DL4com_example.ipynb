{
 "cells": [
  {
   "cell_type": "code",
   "execution_count": 25,
   "metadata": {},
   "outputs": [
    {
     "name": "stdout",
     "output_type": "stream",
     "text": [
      "Warning: OPENMS_DATA_PATH environment variable already exists. pyOpenMS will use it (C:\\Program Files\\OpenMS-3.1.0\\share\\OpenMS) to locate data in the OpenMS share folder (e.g., the unimod database), instead of the default (c:\\Users\\JosuaCarl\\miniconda3\\envs\\gemml\\Lib\\site-packages\\pyopenms\\share/OpenMS).\n"
     ]
    }
   ],
   "source": [
    "# imports\n",
    "import sys\n",
    "import os\n",
    "import mat73\n",
    "import numpy as np\n",
    "import pandas as pd\n",
    "from sklearn.metrics import accuracy_score, confusion_matrix\n",
    "from sklearn.model_selection import cross_val_predict\n",
    "from sklearn import tree\n",
    "import seaborn as sns\n",
    "import matplotlib.pyplot as plt\n",
    "import math\n",
    "import warnings\n",
    "\n",
    "sys.path.append( '../FIA' )\n",
    "sys.path.append( '../ML' )\n",
    "from FIA import *\n",
    "from ML4com import *\n",
    "\n",
    "# TensorFlow and tf.keras\n",
    "import tensorflow as tf\n",
    "import keras\n",
    "import keras_tuner\n",
    "from keras import layers, activations"
   ]
  },
  {
   "cell_type": "code",
   "execution_count": 6,
   "metadata": {},
   "outputs": [],
   "source": [
    "def parse_folder(path):\n",
    "    return os.listdir(path)\n",
    "\n",
    "\n",
    "def mat_to_tsv(folder, file):\n",
    "    \"\"\"\n",
    "    path: path to mat file\n",
    "    saves mat files as tsv in the same folder\n",
    "    \"\"\"\n",
    "    mat = mat73.loadmat(f\"{folder}/{file}\")\n",
    "    for k, v in mat.items():\n",
    "        if not os.path.isfile(f\"{folder}/{k}.tsv\"):\n",
    "            df = pd.DataFrame(v)\n",
    "            df.to_csv(f\"{folder}/{k}.tsv\", sep=\"\\t\", index=False)"
   ]
  },
  {
   "cell_type": "code",
   "execution_count": 9,
   "metadata": {},
   "outputs": [],
   "source": [
    "for file in parse_folder(\"../../data/comm8_0\"):\n",
    "    if file.endswith(\".mat\"):\n",
    "        mat_to_tsv(\"../../data/comm8_0\", file)"
   ]
  },
  {
   "cell_type": "code",
   "execution_count": 13,
   "metadata": {},
   "outputs": [],
   "source": [
    "# Load matrices\n",
    "strains = pd.read_csv(\"../../data/comm8_0/strains.tsv\", sep=\"\\t\")\n",
    "comm8 = pd.read_csv(\"../../data/comm8_0/comm8.tsv\", sep=\"\\t\")\n",
    "metData = pd.read_csv(\"../../data/comm8_0/metData.tsv\", sep=\"\\t\")\n",
    "metData.index = pd.read_csv(\"../../data/comm8_0/metName.tsv\", sep=\"\\t\")\n",
    "\n",
    "met_raw_pos = pd.read_excel(\"../../data/comm8_0/FIA-Data Com8_20230717_P0024_msAV206-312.xlsx\", sheet_name=\"pos\")\n",
    "met_raw_neg = pd.read_excel(\"../../data/comm8_0/FIA-Data Com8_20230717_P0024_msAV206-312.xlsx\", sheet_name=\"neg\")"
   ]
  },
  {
   "cell_type": "code",
   "execution_count": 14,
   "metadata": {},
   "outputs": [],
   "source": [
    "def join_df_metNames(df):\n",
    "    cols = [\"metNames\"] + [f\"MS{i+1}\" for i in range(len(df.columns) - 6)]\n",
    "    comb = pd.DataFrame(columns=cols)\n",
    "    for pid in df[\"peakID\"].unique():\n",
    "        comb_met_name = \"\"\n",
    "        for met_name in df.loc[df[\"peakID\"] == pid][\"MetName\"]:\n",
    "            comb_met_name += met_name + \"\\n\"\n",
    "        comb.loc[len(comb.index)] = [comb_met_name[:-2]] + list(df.loc[df[\"peakID\"] == pid].iloc[0, 6:])\n",
    "    comb = comb.set_index('metNames')\n",
    "    return comb"
   ]
  },
  {
   "cell_type": "code",
   "execution_count": 15,
   "metadata": {},
   "outputs": [],
   "source": [
    "def standard_normalization(df, axis=1):\n",
    "    return df.apply(lambda line: [(x - np.mean(line)) / np.var(line) for x in line], result_type=\"expand\", axis=axis)"
   ]
  },
  {
   "cell_type": "code",
   "execution_count": 16,
   "metadata": {},
   "outputs": [],
   "source": [
    "met_raw_comb = pd.concat( [standard_normalization( join_df_metNames(met_raw_pos) ), standard_normalization( join_df_metNames(met_raw_neg) )] )"
   ]
  },
  {
   "cell_type": "code",
   "execution_count": 18,
   "metadata": {},
   "outputs": [],
   "source": [
    "from sklearn.model_selection import KFold\n",
    "X = met_raw_comb.transpose()\n",
    "ys = comm8\n",
    "kf = KFold(n_splits = 5, shuffle=True)"
   ]
  },
  {
   "cell_type": "markdown",
   "metadata": {},
   "source": [
    "## Model"
   ]
  },
  {
   "cell_type": "code",
   "execution_count": 19,
   "metadata": {},
   "outputs": [],
   "source": [
    "def build_model(hyperparameters):\n",
    "    model = keras.Sequential(name=\"MS_community_classifier\")\n",
    "    if hyperparameters.Boolean(\"dropout_in\"):\n",
    "        model.add(keras.layers.Dropout(0.1, noise_shape=None, seed=None))\n",
    "    model.add(keras.layers.BatchNormalization())\n",
    "    \n",
    "    for i in range(hyperparameters.Int(\"num_layers\", 1, 3)):\n",
    "        model.add(\n",
    "            layers.Dense(\n",
    "                # Tune number of units separately.\n",
    "                units=hyperparameters.Int(f\"units_{i}\", min_value=32, max_value=256, step=64),\n",
    "                activation=hyperparameters.Choice(\"activation\", [\"relu\", \"tanh\"]),\n",
    "            )\n",
    "        )    \n",
    "    if hyperparameters.Boolean(\"dropout\"):\n",
    "        model.add(keras.layers.Dropout(0.25, noise_shape=None, seed=None))\n",
    "    model.add(keras.layers.BatchNormalization())\n",
    "\n",
    "    model.add(layers.Dense(1,  activation=activations.sigmoid))\n",
    "    \n",
    "    loss_function = keras.losses.BinaryCrossentropy(from_logits=False, label_smoothing=0.0, axis=-1, reduction=\"sum_over_batch_size\", name=\"binary_crossentropy\")\n",
    "\n",
    "    learning_rate = hyperparameters.Float(\"lr\", min_value=1e-4, max_value=1e-2, sampling=\"log\")\n",
    "    optimizer = keras.optimizers.Nadam(learning_rate=learning_rate)\n",
    "    model.compile(optimizer=optimizer, loss=loss_function, metrics=['accuracy'])\n",
    "    return model"
   ]
  },
  {
   "cell_type": "code",
   "execution_count": 66,
   "metadata": {},
   "outputs": [],
   "source": [
    "hp = keras_tuner.HyperParameters()\n",
    "hp.Fixed(\"dropout\", True)\n",
    "hp.Fixed(\"num_layers\", 1)\n",
    "hp.Fixed(\"units_1\", 64)\n",
    "hp.Fixed(\"activation\", \"relu\")\n",
    "hp.Fixed(\"lr\", 1e-3)\n",
    "model = build_model(hp)\n"
   ]
  },
  {
   "cell_type": "code",
   "execution_count": null,
   "metadata": {},
   "outputs": [],
   "source": [
    "confusion_matrices = []\n",
    "accuracies = []\n",
    "\n",
    "for y in tqdm(ys.columns):\n",
    "\ty = ys[y]\n",
    "\tconf_mats = []\n",
    "\tacc = []\n",
    "\tfor train_index, val_index in kf.split(X, y):\n",
    "\t\ttraining_data = X.iloc[train_index]\n",
    "\t\ttraining_labels = y.iloc[train_index]\n",
    "\t\tvalidation_data = X.iloc[val_index]\n",
    "\t\tvalidation_labels = y.iloc[val_index]\n",
    "\t\t\n",
    "\t\thistory = model.fit(training_data, training_labels, epochs=1000, verbose=0)\n",
    "\n",
    "\t\tval_loss, val_acc = model.evaluate(validation_data,  validation_labels, verbose=\"auto\")\n",
    "\t\tacc.append(val_acc)\n",
    "\t\tprediction = model.predict(validation_data)\n",
    "\t\tprediction = [0.0 if pred[0] < 0.5 else 1.0 for pred in prediction]\n",
    "\t\tconf_mats.append(confusion_matrix(validation_labels,  prediction))\n",
    "\t\n",
    "\taccuracies.append(np.mean(acc))\n",
    "\tconfusion_matrices.append(np.sum(conf_mats, axis=0))"
   ]
  },
  {
   "cell_type": "code",
   "execution_count": null,
   "metadata": {},
   "outputs": [],
   "source": [
    "plot_cv_confmat(ys=ys, target_labels=strains.values, accuracies=accuracies, confusion_matrices=confusion_matrices,\n",
    "\t\t\t\toutdir=\"../../runs/ML/try/NN\", name=\"64(0.5)x1LR0.001,10000epochs.png\")"
   ]
  },
  {
   "cell_type": "code",
   "execution_count": null,
   "metadata": {},
   "outputs": [
    {
     "data": {
      "text/html": [
       "<div>\n",
       "<style scoped>\n",
       "    .dataframe tbody tr th:only-of-type {\n",
       "        vertical-align: middle;\n",
       "    }\n",
       "\n",
       "    .dataframe tbody tr th {\n",
       "        vertical-align: top;\n",
       "    }\n",
       "\n",
       "    .dataframe thead th {\n",
       "        text-align: right;\n",
       "    }\n",
       "</style>\n",
       "<table border=\"1\" class=\"dataframe\">\n",
       "  <thead>\n",
       "    <tr style=\"text-align: right;\">\n",
       "      <th></th>\n",
       "      <th>0</th>\n",
       "    </tr>\n",
       "    <tr>\n",
       "      <th>0</th>\n",
       "      <th></th>\n",
       "    </tr>\n",
       "  </thead>\n",
       "  <tbody>\n",
       "    <tr>\n",
       "      <th>C. ramosum</th>\n",
       "      <td>43.0</td>\n",
       "    </tr>\n",
       "    <tr>\n",
       "      <th>R. gnavus</th>\n",
       "      <td>43.0</td>\n",
       "    </tr>\n",
       "    <tr>\n",
       "      <th>C. aerofaciens</th>\n",
       "      <td>43.0</td>\n",
       "    </tr>\n",
       "    <tr>\n",
       "      <th>B. thetaiotaomicron</th>\n",
       "      <td>28.0</td>\n",
       "    </tr>\n",
       "    <tr>\n",
       "      <th>B. uniformis</th>\n",
       "      <td>28.0</td>\n",
       "    </tr>\n",
       "    <tr>\n",
       "      <th>B. vulgatus</th>\n",
       "      <td>27.0</td>\n",
       "    </tr>\n",
       "    <tr>\n",
       "      <th>F. nucleatum</th>\n",
       "      <td>43.0</td>\n",
       "    </tr>\n",
       "    <tr>\n",
       "      <th>R. intestinalis</th>\n",
       "      <td>43.0</td>\n",
       "    </tr>\n",
       "  </tbody>\n",
       "</table>\n",
       "</div>"
      ],
      "text/plain": [
       "                        0\n",
       "0                        \n",
       "C. ramosum           43.0\n",
       "R. gnavus            43.0\n",
       "C. aerofaciens       43.0\n",
       "B. thetaiotaomicron  28.0\n",
       "B. uniformis         28.0\n",
       "B. vulgatus          27.0\n",
       "F. nucleatum         43.0\n",
       "R. intestinalis      43.0"
      ]
     },
     "execution_count": 62,
     "metadata": {},
     "output_type": "execute_result"
    }
   ],
   "source": [
    "pd.DataFrame(np.sum(ys, axis = 0)).set_index(strains[\"0\"])"
   ]
  },
  {
   "cell_type": "code",
   "execution_count": null,
   "metadata": {},
   "outputs": [],
   "source": []
  }
 ],
 "metadata": {
  "kernelspec": {
   "display_name": "gemml",
   "language": "python",
   "name": "python3"
  },
  "language_info": {
   "codemirror_mode": {
    "name": "ipython",
    "version": 3
   },
   "file_extension": ".py",
   "mimetype": "text/x-python",
   "name": "python",
   "nbconvert_exporter": "python",
   "pygments_lexer": "ipython3",
   "version": "3.11.7"
  }
 },
 "nbformat": 4,
 "nbformat_minor": 2
}
