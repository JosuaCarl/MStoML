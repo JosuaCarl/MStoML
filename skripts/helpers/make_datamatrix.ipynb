{
 "cells": [
  {
   "cell_type": "code",
   "execution_count": 1,
   "metadata": {},
   "outputs": [],
   "source": [
    "import sys\n",
    "import itertools\n",
    "import shutil\n",
    "import os\n",
    "\n",
    "sys.path.append(\"..\")\n",
    "from FIA.FIA import *"
   ]
  },
  {
   "cell_type": "code",
   "execution_count": 3,
   "metadata": {},
   "outputs": [],
   "source": [
    "paths = {\"start\":   [\"/mnt/d/runs/FIA/\"],\n",
    "         \"sub\":     ['20220620_P0003_S6-S22_FIA-TOF',\n",
    "                     '20220726_FIA-TOF_Ex0005_msAG24-msAg77', '20220817_P0008_S13-S96_FIA-TOF', '20221221_P0008_S97-S156_FIA-TOF', '20230307_P0017_S1-S15_FIA-TOF',\n",
    "                     '20230505_P0017_S16-S135_FI-TOF', '20230515_P0008_Plasma_Randomized', '20230515_P0008_Serum_Randomized', '20230516_P0008_Gewebe_Randomized',\n",
    "                     '20230629_P0018_S01-S12_FI-TOF', '20230822_P0031_S1-S66_FI-TOF', '20230927_P0031_Decay_DHA_FI-TOF', '20230927_P0031_S001-S066_FI-TOF_1to100_wdh',\n",
    "                     '20231121_P0032_FI-TOF', '20240206_P0038_S01-S12_FI-TOF', '20240216_P0032_plate10_SXX-SXX_FI-TOF', '20240327_TestAfterRelocation_FI-TOF'],\n",
    "                     # \"Com8_equal_conc_comb\", \"Com8_grown_together\", \"Com20_repl\", \"Com20_single\", \"Com20_val\", \"Sampled_Coms\",\n",
    "         \"subsub\":  [\"merged\"] }\n",
    "path_combs = [os.path.join(*path) for path in itertools.product(*paths.values())]"
   ]
  },
  {
   "cell_type": "code",
   "execution_count": 5,
   "metadata": {},
   "outputs": [
    {
     "name": "stdout",
     "output_type": "stream",
     "text": [
      "Path: /mnt/d/runs/FIA/20220620_P0003_S6-S22_FIA-TOF/merged\n",
      "Loading names:\n"
     ]
    },
    {
     "name": "stderr",
     "output_type": "stream",
     "text": [
      "100%|██████████| 35/35 [00:00<00:00, 153879.08it/s]\n"
     ]
    },
    {
     "name": "stdout",
     "output_type": "stream",
     "text": [
      "Loading experiments:\n"
     ]
    },
    {
     "name": "stderr",
     "output_type": "stream",
     "text": [
      "100%|██████████| 34/34 [00:06<00:00,  5.52it/s]\n",
      "100%|██████████| 34/34 [00:02<00:00, 12.91it/s]\n"
     ]
    },
    {
     "name": "stdout",
     "output_type": "stream",
     "text": [
      "Path: /mnt/d/runs/FIA/20220726_FIA-TOF_Ex0005_msAG24-msAg77/merged\n",
      "Loading names:\n"
     ]
    },
    {
     "name": "stderr",
     "output_type": "stream",
     "text": [
      "100%|██████████| 148/148 [00:00<00:00, 1048576.00it/s]\n"
     ]
    },
    {
     "name": "stdout",
     "output_type": "stream",
     "text": [
      "Loading experiments:\n"
     ]
    },
    {
     "name": "stderr",
     "output_type": "stream",
     "text": [
      "100%|██████████| 148/148 [01:10<00:00,  2.09it/s]\n",
      "100%|██████████| 148/148 [00:37<00:00,  3.98it/s]\n"
     ]
    },
    {
     "name": "stdout",
     "output_type": "stream",
     "text": [
      "Path: /mnt/d/runs/FIA/20220817_P0008_S13-S96_FIA-TOF/merged\n",
      "Loading names:\n"
     ]
    },
    {
     "name": "stderr",
     "output_type": "stream",
     "text": [
      "100%|██████████| 208/208 [00:00<00:00, 1591998.60it/s]\n"
     ]
    },
    {
     "name": "stdout",
     "output_type": "stream",
     "text": [
      "Loading experiments:\n"
     ]
    },
    {
     "name": "stderr",
     "output_type": "stream",
     "text": [
      "100%|██████████| 208/208 [01:33<00:00,  2.23it/s]\n",
      "100%|██████████| 208/208 [00:58<00:00,  3.53it/s]\n"
     ]
    },
    {
     "name": "stdout",
     "output_type": "stream",
     "text": [
      "Path: /mnt/d/runs/FIA/20221221_P0008_S97-S156_FIA-TOF/merged\n",
      "Loading names:\n"
     ]
    },
    {
     "name": "stderr",
     "output_type": "stream",
     "text": [
      "100%|██████████| 120/120 [00:00<00:00, 973532.84it/s]\n"
     ]
    },
    {
     "name": "stdout",
     "output_type": "stream",
     "text": [
      "Loading experiments:\n"
     ]
    },
    {
     "name": "stderr",
     "output_type": "stream",
     "text": [
      "100%|██████████| 120/120 [00:54<00:00,  2.20it/s]\n",
      "100%|██████████| 120/120 [00:15<00:00,  7.63it/s]\n"
     ]
    },
    {
     "name": "stdout",
     "output_type": "stream",
     "text": [
      "Path: /mnt/d/runs/FIA/20230307_P0017_S1-S15_FIA-TOF/merged\n",
      "Loading names:\n"
     ]
    },
    {
     "name": "stderr",
     "output_type": "stream",
     "text": [
      "100%|██████████| 50/50 [00:00<00:00, 498135.87it/s]\n"
     ]
    },
    {
     "name": "stdout",
     "output_type": "stream",
     "text": [
      "Loading experiments:\n"
     ]
    },
    {
     "name": "stderr",
     "output_type": "stream",
     "text": [
      "100%|██████████| 50/50 [00:22<00:00,  2.24it/s]\n",
      "100%|██████████| 50/50 [00:03<00:00, 12.97it/s]\n"
     ]
    },
    {
     "name": "stdout",
     "output_type": "stream",
     "text": [
      "Path: /mnt/d/runs/FIA/20230505_P0017_S16-S135_FI-TOF/merged\n",
      "Loading names:\n"
     ]
    },
    {
     "name": "stderr",
     "output_type": "stream",
     "text": [
      "100%|██████████| 250/250 [00:00<00:00, 1882542.19it/s]\n"
     ]
    },
    {
     "name": "stdout",
     "output_type": "stream",
     "text": [
      "Loading experiments:\n"
     ]
    },
    {
     "name": "stderr",
     "output_type": "stream",
     "text": [
      "100%|██████████| 250/250 [01:51<00:00,  2.25it/s]\n",
      "100%|██████████| 250/250 [01:49<00:00,  2.29it/s]\n"
     ]
    },
    {
     "name": "stdout",
     "output_type": "stream",
     "text": [
      "Path: /mnt/d/runs/FIA/20230515_P0008_Plasma_Randomized/merged\n",
      "Loading names:\n"
     ]
    },
    {
     "name": "stderr",
     "output_type": "stream",
     "text": [
      "100%|██████████| 116/116 [00:00<00:00, 965355.68it/s]\n"
     ]
    },
    {
     "name": "stdout",
     "output_type": "stream",
     "text": [
      "Loading experiments:\n"
     ]
    },
    {
     "name": "stderr",
     "output_type": "stream",
     "text": [
      "100%|██████████| 116/116 [00:51<00:00,  2.24it/s]\n",
      "100%|██████████| 116/116 [00:13<00:00,  8.42it/s]\n"
     ]
    },
    {
     "name": "stdout",
     "output_type": "stream",
     "text": [
      "Path: /mnt/d/runs/FIA/20230515_P0008_Serum_Randomized/merged\n",
      "Loading names:\n"
     ]
    },
    {
     "name": "stderr",
     "output_type": "stream",
     "text": [
      "100%|██████████| 78/78 [00:00<00:00, 867787.03it/s]\n"
     ]
    },
    {
     "name": "stdout",
     "output_type": "stream",
     "text": [
      "Loading experiments:\n"
     ]
    },
    {
     "name": "stderr",
     "output_type": "stream",
     "text": [
      "100%|██████████| 78/78 [00:35<00:00,  2.22it/s]\n",
      "100%|██████████| 78/78 [00:07<00:00, 10.76it/s]\n"
     ]
    },
    {
     "name": "stdout",
     "output_type": "stream",
     "text": [
      "Path: /mnt/d/runs/FIA/20230516_P0008_Gewebe_Randomized/merged\n",
      "Loading names:\n"
     ]
    },
    {
     "name": "stderr",
     "output_type": "stream",
     "text": [
      "100%|██████████| 138/138 [00:00<00:00, 1102502.77it/s]\n"
     ]
    },
    {
     "name": "stdout",
     "output_type": "stream",
     "text": [
      "Loading experiments:\n"
     ]
    },
    {
     "name": "stderr",
     "output_type": "stream",
     "text": [
      "100%|██████████| 138/138 [01:04<00:00,  2.15it/s]\n",
      "100%|██████████| 138/138 [00:24<00:00,  5.55it/s]\n"
     ]
    },
    {
     "name": "stdout",
     "output_type": "stream",
     "text": [
      "Path: /mnt/d/runs/FIA/20230629_P0018_S01-S12_FI-TOF/merged\n",
      "Loading names:\n"
     ]
    },
    {
     "name": "stderr",
     "output_type": "stream",
     "text": [
      "100%|██████████| 44/44 [00:00<00:00, 593406.35it/s]\n"
     ]
    },
    {
     "name": "stdout",
     "output_type": "stream",
     "text": [
      "Loading experiments:\n"
     ]
    },
    {
     "name": "stderr",
     "output_type": "stream",
     "text": [
      "100%|██████████| 44/44 [00:20<00:00,  2.11it/s]\n",
      "100%|██████████| 44/44 [00:02<00:00, 15.49it/s]\n"
     ]
    },
    {
     "name": "stdout",
     "output_type": "stream",
     "text": [
      "Path: /mnt/d/runs/FIA/20230822_P0031_S1-S66_FI-TOF/merged\n",
      "Loading names:\n"
     ]
    },
    {
     "name": "stderr",
     "output_type": "stream",
     "text": [
      "100%|██████████| 132/132 [00:00<00:00, 1125301.07it/s]\n"
     ]
    },
    {
     "name": "stdout",
     "output_type": "stream",
     "text": [
      "Loading experiments:\n"
     ]
    },
    {
     "name": "stderr",
     "output_type": "stream",
     "text": [
      "100%|██████████| 132/132 [01:02<00:00,  2.11it/s]\n",
      "100%|██████████| 132/132 [00:18<00:00,  7.12it/s]\n"
     ]
    },
    {
     "name": "stdout",
     "output_type": "stream",
     "text": [
      "Path: /mnt/d/runs/FIA/20230927_P0031_Decay_DHA_FI-TOF/merged\n",
      "Loading names:\n"
     ]
    },
    {
     "name": "stderr",
     "output_type": "stream",
     "text": [
      "100%|██████████| 14/14 [00:00<00:00, 226719.14it/s]\n"
     ]
    },
    {
     "name": "stdout",
     "output_type": "stream",
     "text": [
      "Loading experiments:\n"
     ]
    },
    {
     "name": "stderr",
     "output_type": "stream",
     "text": [
      "100%|██████████| 14/14 [00:06<00:00,  2.17it/s]\n",
      "100%|██████████| 14/14 [00:00<00:00, 20.15it/s]\n"
     ]
    },
    {
     "name": "stdout",
     "output_type": "stream",
     "text": [
      "Path: /mnt/d/runs/FIA/20230927_P0031_S001-S066_FI-TOF_1to100_wdh/merged\n",
      "Loading names:\n"
     ]
    },
    {
     "name": "stderr",
     "output_type": "stream",
     "text": [
      "100%|██████████| 132/132 [00:00<00:00, 1367032.41it/s]\n"
     ]
    },
    {
     "name": "stdout",
     "output_type": "stream",
     "text": [
      "Loading experiments:\n"
     ]
    },
    {
     "name": "stderr",
     "output_type": "stream",
     "text": [
      "100%|██████████| 132/132 [00:58<00:00,  2.26it/s]\n",
      "100%|██████████| 132/132 [00:18<00:00,  7.13it/s]\n"
     ]
    },
    {
     "name": "stdout",
     "output_type": "stream",
     "text": [
      "Path: /mnt/d/runs/FIA/20231121_P0032_FI-TOF/merged\n",
      "Loading names:\n"
     ]
    },
    {
     "name": "stderr",
     "output_type": "stream",
     "text": [
      "100%|██████████| 366/366 [00:00<00:00, 1724848.61it/s]\n"
     ]
    },
    {
     "name": "stdout",
     "output_type": "stream",
     "text": [
      "Loading experiments:\n"
     ]
    },
    {
     "name": "stderr",
     "output_type": "stream",
     "text": [
      "100%|██████████| 366/366 [02:45<00:00,  2.21it/s]\n",
      "100%|██████████| 366/366 [03:10<00:00,  1.93it/s]\n"
     ]
    },
    {
     "name": "stdout",
     "output_type": "stream",
     "text": [
      "Path: /mnt/d/runs/FIA/20240206_P0038_S01-S12_FI-TOF/merged\n",
      "Loading names:\n"
     ]
    },
    {
     "name": "stderr",
     "output_type": "stream",
     "text": [
      "100%|██████████| 24/24 [00:00<00:00, 336666.54it/s]\n"
     ]
    },
    {
     "name": "stdout",
     "output_type": "stream",
     "text": [
      "Loading experiments:\n"
     ]
    },
    {
     "name": "stderr",
     "output_type": "stream",
     "text": [
      "100%|██████████| 24/24 [00:10<00:00,  2.23it/s]\n",
      "100%|██████████| 24/24 [00:01<00:00, 16.06it/s]\n"
     ]
    },
    {
     "name": "stdout",
     "output_type": "stream",
     "text": [
      "Path: /mnt/d/runs/FIA/20240216_P0032_plate10_SXX-SXX_FI-TOF/merged\n",
      "Loading names:\n"
     ]
    },
    {
     "name": "stderr",
     "output_type": "stream",
     "text": [
      "100%|██████████| 144/144 [00:00<00:00, 929199.66it/s]\n"
     ]
    },
    {
     "name": "stdout",
     "output_type": "stream",
     "text": [
      "Loading experiments:\n"
     ]
    },
    {
     "name": "stderr",
     "output_type": "stream",
     "text": [
      "100%|██████████| 144/144 [01:19<00:00,  1.82it/s]\n",
      "100%|██████████| 144/144 [00:22<00:00,  6.39it/s]\n"
     ]
    },
    {
     "name": "stdout",
     "output_type": "stream",
     "text": [
      "Path: /mnt/d/runs/FIA/20240327_TestAfterRelocation_FI-TOF/merged\n",
      "Loading names:\n"
     ]
    },
    {
     "name": "stderr",
     "output_type": "stream",
     "text": [
      "100%|██████████| 20/20 [00:00<00:00, 268006.65it/s]\n"
     ]
    },
    {
     "name": "stdout",
     "output_type": "stream",
     "text": [
      "Loading experiments:\n"
     ]
    },
    {
     "name": "stderr",
     "output_type": "stream",
     "text": [
      "100%|██████████| 20/20 [00:08<00:00,  2.24it/s]\n",
      "100%|██████████| 20/20 [00:01<00:00, 16.52it/s]\n"
     ]
    }
   ],
   "source": [
    "for path in path_combs:\n",
    "    print(f\"Path: {path}\")\n",
    "    \n",
    "    fia_df = load_fia_df(path, file_ending=\".mzML\", separator=\"\\t\", backend=pd)\n",
    "    binned_dfs = bin_df_stepwise_batch(fia_df, binning_var=\"mz\", binned_var=\"inty\", statistic=\"sum\", start=50.0, stop=1700.0, step=0.002, backend=pd)\n",
    "    binned_dfs.to_csv(os.path.join(path, \"data_matrix.tsv\"), sep=\"\\t\")"
   ]
  },
  {
   "cell_type": "code",
   "execution_count": 5,
   "metadata": {},
   "outputs": [],
   "source": [
    "def separate_pos_neg(path_combs):\n",
    "    \"\"\"\n",
    "    Put all files ending with \"pos\" in one directory and \"neg\" in another\n",
    "    \"\"\"\n",
    "    for path in path_combs:\n",
    "        for file in tqdm(os.listdir(path)):\n",
    "            if os.path.isfile(os.path.join(path, file)):\n",
    "                if file.endswith(\"pos.mzML\"):\n",
    "                    shutil.copy(os.path.join(path, file), os.path.join(path, \"pos\"))\n",
    "                elif file.endswith(\"neg.mzML\"):\n",
    "                    shutil.copy(os.path.join(path, file), os.path.join(path, \"neg\"))"
   ]
  }
 ],
 "metadata": {
  "kernelspec": {
   "display_name": "VAE",
   "language": "python",
   "name": "python3"
  },
  "language_info": {
   "codemirror_mode": {
    "name": "ipython",
    "version": 3
   },
   "file_extension": ".py",
   "mimetype": "text/x-python",
   "name": "python",
   "nbconvert_exporter": "python",
   "pygments_lexer": "ipython3",
   "version": "3.11.8"
  }
 },
 "nbformat": 4,
 "nbformat_minor": 2
}
