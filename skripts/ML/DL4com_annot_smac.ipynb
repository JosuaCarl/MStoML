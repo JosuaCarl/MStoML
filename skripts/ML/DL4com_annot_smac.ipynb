{
 "cells": [
  {
   "cell_type": "code",
   "execution_count": 1,
   "metadata": {},
   "outputs": [
    {
     "name": "stderr",
     "output_type": "stream",
     "text": [
      "2024-03-20 10:10:16.606723: I tensorflow/core/platform/cpu_feature_guard.cc:182] This TensorFlow binary is optimized to use available CPU instructions in performance-critical operations.\n",
      "To enable the following instructions: SSE4.1 SSE4.2 AVX AVX2 FMA, in other operations, rebuild TensorFlow with the appropriate compiler flags.\n"
     ]
    }
   ],
   "source": [
    "# imports\n",
    "import sys\n",
    "import os\n",
    "import numpy as np\n",
    "import pandas as pd\n",
    "from sklearn.metrics import accuracy_score, confusion_matrix, roc_curve, accuracy_score, roc_auc_score\n",
    "from sklearn.model_selection import cross_val_predict\n",
    "from sklearn import tree\n",
    "import seaborn as sns\n",
    "import matplotlib.pyplot as plt\n",
    "import math\n",
    "import warnings\n",
    "\n",
    "sys.path.append( '../FIA' )\n",
    "sys.path.append( '../ML' )\n",
    "sys.path.append( '..' )\n",
    "from helpers import *\n",
    "from FIA import *\n",
    "from ML4com import *\n",
    "\n",
    "# TensorFlow and tf.keras\n",
    "import tensorflow as tf\n",
    "import keras\n",
    "import keras_tuner\n",
    "from keras import layers, activations"
   ]
  },
  {
   "cell_type": "code",
   "execution_count": 2,
   "metadata": {},
   "outputs": [],
   "source": [
    "for file in parse_folder(\"../../data/comm8_0\"):\n",
    "    if file.endswith(\".mat\"):\n",
    "        mat_to_tsv(\"../../data/comm8_0\", file)"
   ]
  },
  {
   "cell_type": "code",
   "execution_count": 3,
   "metadata": {},
   "outputs": [],
   "source": [
    "# Load matrices\n",
    "strains = pd.read_csv(\"../../data/comm8_0/strains.tsv\", sep=\"\\t\")\n",
    "comm8 = pd.read_csv(\"../../data/comm8_0/comm8.tsv\", sep=\"\\t\")\n",
    "metData = pd.read_csv(\"../../data/comm8_0/metData.tsv\", sep=\"\\t\")\n",
    "metData.index = pd.read_csv(\"../../data/comm8_0/metName.tsv\", sep=\"\\t\")\n",
    "\n",
    "met_raw_pos = pd.read_excel(\"../../data/comm8_0/FIA-Data Com8_20230717_P0024_msAV206-312.xlsx\", sheet_name=\"pos\")\n",
    "met_raw_neg = pd.read_excel(\"../../data/comm8_0/FIA-Data Com8_20230717_P0024_msAV206-312.xlsx\", sheet_name=\"neg\")"
   ]
  },
  {
   "cell_type": "code",
   "execution_count": 4,
   "metadata": {},
   "outputs": [],
   "source": [
    "def join_df_metNames(df):\n",
    "    cols = [\"metNames\"] + [f\"MS{i+1}\" for i in range(len(df.columns) - 6)]\n",
    "    comb = pd.DataFrame(columns=cols)\n",
    "    for pid in df[\"peakID\"].unique():\n",
    "        comb_met_name = \"\"\n",
    "        for met_name in df.loc[df[\"peakID\"] == pid][\"MetName\"]:\n",
    "            comb_met_name += met_name + \"\\n\"\n",
    "        comb.loc[len(comb.index)] = [comb_met_name[:-2]] + list(df.loc[df[\"peakID\"] == pid].iloc[0, 6:])\n",
    "    comb = comb.set_index('metNames')\n",
    "    return comb"
   ]
  },
  {
   "cell_type": "code",
   "execution_count": 5,
   "metadata": {},
   "outputs": [],
   "source": [
    "def standard_normalization(df, axis=1):\n",
    "    return df.apply(lambda line: [(x - np.mean(line)) / np.var(line) for x in line], result_type=\"expand\", axis=axis)"
   ]
  },
  {
   "cell_type": "code",
   "execution_count": 6,
   "metadata": {},
   "outputs": [],
   "source": [
    "met_raw_comb = pd.concat( [standard_normalization( join_df_metNames(met_raw_pos) ), standard_normalization( join_df_metNames(met_raw_neg) )] )"
   ]
  },
  {
   "cell_type": "code",
   "execution_count": 7,
   "metadata": {},
   "outputs": [],
   "source": [
    "# Define data\n",
    "X = met_raw_comb.transpose()\n",
    "ys = comm8"
   ]
  },
  {
   "cell_type": "markdown",
   "metadata": {},
   "source": [
    "## Model"
   ]
  },
  {
   "cell_type": "markdown",
   "metadata": {},
   "source": [
    "### Hyperparameter optimization"
   ]
  },
  {
   "cell_type": "code",
   "execution_count": 8,
   "metadata": {},
   "outputs": [],
   "source": [
    "from pathlib import Path\n",
    "\n",
    "from ConfigSpace import (\n",
    "    Categorical,\n",
    "    Configuration,\n",
    "    ConfigurationSpace,\n",
    "    EqualsCondition,\n",
    "    Float,\n",
    "    InCondition,\n",
    "    Integer,\n",
    ")\n",
    "\n",
    "from sklearn.model_selection import train_test_split\n",
    "\n",
    "from smac import MultiFidelityFacade, HyperparameterOptimizationFacade\n",
    "from smac import Scenario\n",
    "from smac.intensifier.hyperband import Hyperband"
   ]
  },
  {
   "cell_type": "code",
   "execution_count": 35,
   "metadata": {},
   "outputs": [],
   "source": [
    "training_data, test_data, training_labels, test_labels = train_test_split(X, ys, test_size=0.2)# .iloc[:,0], test_size=0.2)"
   ]
  },
  {
   "cell_type": "code",
   "execution_count": 88,
   "metadata": {},
   "outputs": [],
   "source": [
    "def build_model(config:Configuration, multiclass:bool=False):\n",
    "    # Model definition\n",
    "    model = keras.Sequential(name=\"MS_community_classifier\")\n",
    "    model.add(keras.layers.Dropout( config.get(\"dropout_in\") ))\n",
    "    model.add(keras.layers.BatchNormalization())\n",
    "    for i in range( config.get(\"n_layers\") ):\n",
    "        activation = config.get(f\"activation_{i}\")\n",
    "        if activation == \"leakyrelu\":\n",
    "            activation = layers.LeakyReLU()\n",
    "        model.add( layers.Dense( units=config.get(f\"n_neurons_{i}\"), activation=activation ) )\n",
    "        if config.get(f\"dropout_{i}\"):\n",
    "            model.add(keras.layers.Dropout(0.5, noise_shape=None, seed=None))\n",
    "        model.add(keras.layers.BatchNormalization())\n",
    "\n",
    "    if multiclass:\n",
    "        model.add(layers.Dense(8,  activation=activations.sigmoid))     # Interpretation layer\n",
    "        loss_function = keras.losses.CategoricalCrossentropy()\n",
    "    else:\n",
    "        model.add(layers.Dense(1,  activation=activations.sigmoid))     # Interpretation layer\n",
    "        loss_function = keras.losses.BinaryCrossentropy()\n",
    "\n",
    "    if config.get(\"solver\") == \"nadam\":\n",
    "        optimizer = keras.optimizers.Nadam( learning_rate=config.get(\"learning_rate\") )\n",
    "    \n",
    "    model.compile(optimizer=optimizer, loss=loss_function, metrics=['accuracy'])\n",
    "\n",
    "    return model"
   ]
  },
  {
   "cell_type": "code",
   "execution_count": null,
   "metadata": {},
   "outputs": [],
   "source": [
    "class MLP:\n",
    "    @property\n",
    "    def configspace(self) -> ConfigurationSpace:\n",
    "        cs = ConfigurationSpace()\n",
    "        max_layers = 5\n",
    "        dropout_in = Float(\"dropout_in\", (0.0, 0.8), default=0.5)\n",
    "\n",
    "        n_layers = Integer(\"n_layers\", (1, max_layers), default=1)\n",
    "        n_neurons = []\n",
    "        activations = []\n",
    "        dropouts =[]\n",
    "        for i in range(max_layers):\n",
    "            n_neurons.append(Integer(f\"n_neurons_{i}\", (10, 1000), log=True, default=10))\n",
    "            activations.append( Categorical(f\"activation_{i}\", [\"tanh\", \"relu\", \"leakyrelu\", \"sigmoid\"], default=\"relu\") )\n",
    "            dropouts.append( Categorical(f\"dropout_{i}\", [True, False], default=True) )\n",
    "\n",
    "        solver = Categorical(\"solver\", [\"nadam\"], default=\"nadam\")\n",
    "        learning_rate = Float(\"learning_rate\", (1e-3, 1e-1), log=True, default=1e-2)\n",
    "\n",
    "        hyperparameters = n_neurons + activations + dropouts + [dropout_in, n_layers, solver, learning_rate]\n",
    "        cs.add_hyperparameters(hyperparameters)\n",
    "\n",
    "        return cs\n",
    "\n",
    "    def train(self, config: Configuration, seed: int = 0, budget: int = 25) -> float:\n",
    "            keras.utils.set_random_seed(seed)\n",
    "            model = build_model(config=config)\n",
    "    \n",
    "            # Fit\n",
    "            callback = keras.callbacks.EarlyStopping(monitor='loss', patience=100)\t# Model will stop if no improvement\n",
    "            model.fit(training_data, training_labels, epochs=int(budget), verbose=0, callbacks=[callback])\n",
    "\n",
    "            # Evaluation\n",
    "            val_loss, val_acc = model.evaluate(test_data,  test_labels, verbose=0)\n",
    "\n",
    "            return 1 - val_acc"
   ]
  },
  {
   "cell_type": "code",
   "execution_count": 78,
   "metadata": {},
   "outputs": [
    {
     "name": "stdout",
     "output_type": "stream",
     "text": [
      "[INFO][abstract_initial_design.py:82] Using `n_configs` and ignoring `n_configs_per_hyperparameter`.\n",
      "[INFO][abstract_initial_design.py:147] Using 100 initial design configurations and 0 additional configurations.\n",
      "[INFO][successive_halving.py:164] Successive Halving uses budget type BUDGETS with eta 3, min budget 5, and max budget 100.\n",
      "[INFO][successive_halving.py:323] Number of configs in stage:\n",
      "[INFO][successive_halving.py:325] --- Bracket 0: [9, 3, 1]\n",
      "[INFO][successive_halving.py:325] --- Bracket 1: [5, 1]\n",
      "[INFO][successive_halving.py:325] --- Bracket 2: [3]\n",
      "[INFO][successive_halving.py:327] Budgets in stage:\n",
      "[INFO][successive_halving.py:329] --- Bracket 0: [11.11111111111111, 33.33333333333333, 100.0]\n",
      "[INFO][successive_halving.py:329] --- Bracket 1: [33.33333333333333, 100.0]\n",
      "[INFO][successive_halving.py:329] --- Bracket 2: [100.0]\n",
      "[INFO][abstract_intensifier.py:515] Added config 2ce9e3 as new incumbent because there are no incumbents yet.\n",
      "[INFO][abstract_intensifier.py:590] Added config 58a399 and rejected config 2ce9e3 as incumbent because it is not better than the incumbents on 1 instances:\n",
      "[INFO][abstract_intensifier.py:590] Added config d3a548 and rejected config 58a399 as incumbent because it is not better than the incumbents on 1 instances:\n",
      "[INFO][abstract_intensifier.py:590] Added config f5921b and rejected config d3a548 as incumbent because it is not better than the incumbents on 1 instances:\n",
      "[INFO][smbo.py:319] Finished 50 trials.\n",
      "[INFO][smbo.py:319] Finished 100 trials.\n",
      "[INFO][smbo.py:319] Finished 150 trials.\n",
      "[INFO][smbo.py:319] Finished 200 trials.\n",
      "[INFO][smbo.py:319] Finished 250 trials.\n",
      "[INFO][smbo.py:319] Finished 300 trials.\n",
      "[INFO][smbo.py:319] Finished 350 trials.\n",
      "[INFO][smbo.py:319] Finished 400 trials.\n",
      "[INFO][smbo.py:319] Finished 450 trials.\n",
      "[INFO][smbo.py:319] Finished 500 trials.\n",
      "[INFO][smbo.py:319] Finished 550 trials.\n",
      "[INFO][smbo.py:319] Finished 600 trials.\n",
      "[INFO][smbo.py:319] Finished 650 trials.\n",
      "[INFO][smbo.py:319] Finished 700 trials.\n",
      "[INFO][abstract_intensifier.py:590] Added config 3b8b71 and rejected config f5921b as incumbent because it is not better than the incumbents on 1 instances:\n",
      "[INFO][smbo.py:319] Finished 750 trials.\n",
      "[INFO][smbo.py:319] Finished 800 trials.\n",
      "[INFO][smbo.py:319] Finished 850 trials.\n",
      "[INFO][smbo.py:319] Finished 900 trials.\n",
      "[INFO][smbo.py:319] Finished 950 trials.\n",
      "[INFO][smbo.py:319] Finished 1000 trials.\n",
      "[INFO][smbo.py:327] Configuration budget is exhausted:\n",
      "[INFO][smbo.py:328] --- Remaining wallclock time: 1457.9001159667969\n",
      "[INFO][smbo.py:329] --- Remaining cpu time: inf\n",
      "[INFO][smbo.py:330] --- Remaining trials: 0\n"
     ]
    }
   ],
   "source": [
    "outdir = Path(os.path.normpath(\"../../runs/ML/NN/smac\"))\n",
    "mlp = MLP()\n",
    "\n",
    "# Define our environment variables\n",
    "scenario = Scenario(\n",
    "    mlp.configspace,\n",
    "    n_trials=1000,               # Evaluate max 500 different trials\n",
    "    min_budget=5,\n",
    "    max_budget=100,\n",
    "    n_workers=1,\n",
    "    output_directory=outdir,\n",
    "    walltime_limit=3600,         # Max time in s (3600 = 1h)\n",
    "    cputime_limit=np.inf,\n",
    "    trial_memory_limit=6000000000,    # Max RAM in Bytes (not MB)\n",
    ")\n",
    "\n",
    "initial_design = MultiFidelityFacade.get_initial_design(scenario, n_configs=100)\n",
    "\n",
    "intensifier = Hyperband(scenario, incumbent_selection=\"highest_budget\")\n",
    "\n",
    "# Create our SMAC object and pass the scenario and the train method\n",
    "smac = MultiFidelityFacade(\n",
    "    scenario,\n",
    "    mlp.train,\n",
    "    initial_design=initial_design,\n",
    "    intensifier=intensifier,\n",
    "    overwrite=False,\n",
    "    logging_level=20,\n",
    ")\n",
    "\n",
    "tf.config.threading.set_inter_op_parallelism_threads(1)\n",
    "incumbent = smac.optimize()"
   ]
  },
  {
   "cell_type": "markdown",
   "metadata": {},
   "source": [
    "### Return best"
   ]
  },
  {
   "cell_type": "code",
   "execution_count": 79,
   "metadata": {},
   "outputs": [
    {
     "name": "stdout",
     "output_type": "stream",
     "text": [
      "Incumbent cost of continued run: 0.2857142686843872\n"
     ]
    }
   ],
   "source": [
    "incumbent_cost = smac.validate(incumbent)\n",
    "print(f\"Incumbent cost of continued run: {incumbent_cost}\")"
   ]
  },
  {
   "cell_type": "code",
   "execution_count": 80,
   "metadata": {},
   "outputs": [
    {
     "data": {
      "text/html": [
       "<div>\n",
       "<style scoped>\n",
       "    .dataframe tbody tr th:only-of-type {\n",
       "        vertical-align: middle;\n",
       "    }\n",
       "\n",
       "    .dataframe tbody tr th {\n",
       "        vertical-align: top;\n",
       "    }\n",
       "\n",
       "    .dataframe thead th {\n",
       "        text-align: right;\n",
       "    }\n",
       "</style>\n",
       "<table border=\"1\" class=\"dataframe\">\n",
       "  <thead>\n",
       "    <tr style=\"text-align: right;\">\n",
       "      <th></th>\n",
       "      <th>config_id</th>\n",
       "      <th>config</th>\n",
       "      <th>instance</th>\n",
       "      <th>budget</th>\n",
       "      <th>seed</th>\n",
       "      <th>accuracy</th>\n",
       "      <th>time</th>\n",
       "      <th>status</th>\n",
       "      <th>additional_info</th>\n",
       "    </tr>\n",
       "  </thead>\n",
       "  <tbody>\n",
       "    <tr>\n",
       "      <th>0</th>\n",
       "      <td>1</td>\n",
       "      <td>{'activation_0': 'leakyrelu', 'activation_1': ...</td>\n",
       "      <td>None</td>\n",
       "      <td>11.111111</td>\n",
       "      <td>209652396</td>\n",
       "      <td>0.000000</td>\n",
       "      <td>1.771528</td>\n",
       "      <td>1</td>\n",
       "      <td>{}</td>\n",
       "    </tr>\n",
       "    <tr>\n",
       "      <th>1</th>\n",
       "      <td>2</td>\n",
       "      <td>{'activation_0': 'leakyrelu', 'activation_1': ...</td>\n",
       "      <td>None</td>\n",
       "      <td>11.111111</td>\n",
       "      <td>209652396</td>\n",
       "      <td>0.000000</td>\n",
       "      <td>2.583583</td>\n",
       "      <td>1</td>\n",
       "      <td>{}</td>\n",
       "    </tr>\n",
       "    <tr>\n",
       "      <th>2</th>\n",
       "      <td>3</td>\n",
       "      <td>{'activation_0': 'leakyrelu', 'activation_1': ...</td>\n",
       "      <td>None</td>\n",
       "      <td>11.111111</td>\n",
       "      <td>209652396</td>\n",
       "      <td>0.642857</td>\n",
       "      <td>2.567701</td>\n",
       "      <td>1</td>\n",
       "      <td>{}</td>\n",
       "    </tr>\n",
       "    <tr>\n",
       "      <th>3</th>\n",
       "      <td>4</td>\n",
       "      <td>{'activation_0': 'leakyrelu', 'activation_1': ...</td>\n",
       "      <td>None</td>\n",
       "      <td>11.111111</td>\n",
       "      <td>209652396</td>\n",
       "      <td>0.642857</td>\n",
       "      <td>2.753785</td>\n",
       "      <td>1</td>\n",
       "      <td>{}</td>\n",
       "    </tr>\n",
       "    <tr>\n",
       "      <th>4</th>\n",
       "      <td>5</td>\n",
       "      <td>{'activation_0': 'leakyrelu', 'activation_1': ...</td>\n",
       "      <td>None</td>\n",
       "      <td>11.111111</td>\n",
       "      <td>209652396</td>\n",
       "      <td>0.071429</td>\n",
       "      <td>2.586906</td>\n",
       "      <td>1</td>\n",
       "      <td>{}</td>\n",
       "    </tr>\n",
       "    <tr>\n",
       "      <th>...</th>\n",
       "      <td>...</td>\n",
       "      <td>...</td>\n",
       "      <td>...</td>\n",
       "      <td>...</td>\n",
       "      <td>...</td>\n",
       "      <td>...</td>\n",
       "      <td>...</td>\n",
       "      <td>...</td>\n",
       "      <td>...</td>\n",
       "    </tr>\n",
       "    <tr>\n",
       "      <th>995</th>\n",
       "      <td>771</td>\n",
       "      <td>{'activation_0': 'leakyrelu', 'activation_1': ...</td>\n",
       "      <td>None</td>\n",
       "      <td>11.111111</td>\n",
       "      <td>209652396</td>\n",
       "      <td>0.000000</td>\n",
       "      <td>1.265428</td>\n",
       "      <td>1</td>\n",
       "      <td>{}</td>\n",
       "    </tr>\n",
       "    <tr>\n",
       "      <th>996</th>\n",
       "      <td>772</td>\n",
       "      <td>{'activation_0': 'leakyrelu', 'activation_1': ...</td>\n",
       "      <td>None</td>\n",
       "      <td>11.111111</td>\n",
       "      <td>209652396</td>\n",
       "      <td>0.000000</td>\n",
       "      <td>1.294266</td>\n",
       "      <td>1</td>\n",
       "      <td>{}</td>\n",
       "    </tr>\n",
       "    <tr>\n",
       "      <th>997</th>\n",
       "      <td>773</td>\n",
       "      <td>{'activation_0': 'leakyrelu', 'activation_1': ...</td>\n",
       "      <td>None</td>\n",
       "      <td>11.111111</td>\n",
       "      <td>209652396</td>\n",
       "      <td>0.571429</td>\n",
       "      <td>1.617099</td>\n",
       "      <td>1</td>\n",
       "      <td>{}</td>\n",
       "    </tr>\n",
       "    <tr>\n",
       "      <th>998</th>\n",
       "      <td>774</td>\n",
       "      <td>{'activation_0': 'leakyrelu', 'activation_1': ...</td>\n",
       "      <td>None</td>\n",
       "      <td>11.111111</td>\n",
       "      <td>209652396</td>\n",
       "      <td>0.000000</td>\n",
       "      <td>1.972116</td>\n",
       "      <td>1</td>\n",
       "      <td>{}</td>\n",
       "    </tr>\n",
       "    <tr>\n",
       "      <th>999</th>\n",
       "      <td>773</td>\n",
       "      <td>{'activation_0': 'leakyrelu', 'activation_1': ...</td>\n",
       "      <td>None</td>\n",
       "      <td>33.333333</td>\n",
       "      <td>209652396</td>\n",
       "      <td>0.642857</td>\n",
       "      <td>1.760216</td>\n",
       "      <td>1</td>\n",
       "      <td>{}</td>\n",
       "    </tr>\n",
       "  </tbody>\n",
       "</table>\n",
       "<p>1000 rows × 9 columns</p>\n",
       "</div>"
      ],
      "text/plain": [
       "     config_id                                             config instance  \\\n",
       "0            1  {'activation_0': 'leakyrelu', 'activation_1': ...     None   \n",
       "1            2  {'activation_0': 'leakyrelu', 'activation_1': ...     None   \n",
       "2            3  {'activation_0': 'leakyrelu', 'activation_1': ...     None   \n",
       "3            4  {'activation_0': 'leakyrelu', 'activation_1': ...     None   \n",
       "4            5  {'activation_0': 'leakyrelu', 'activation_1': ...     None   \n",
       "..         ...                                                ...      ...   \n",
       "995        771  {'activation_0': 'leakyrelu', 'activation_1': ...     None   \n",
       "996        772  {'activation_0': 'leakyrelu', 'activation_1': ...     None   \n",
       "997        773  {'activation_0': 'leakyrelu', 'activation_1': ...     None   \n",
       "998        774  {'activation_0': 'leakyrelu', 'activation_1': ...     None   \n",
       "999        773  {'activation_0': 'leakyrelu', 'activation_1': ...     None   \n",
       "\n",
       "        budget       seed  accuracy      time  status additional_info  \n",
       "0    11.111111  209652396  0.000000  1.771528       1              {}  \n",
       "1    11.111111  209652396  0.000000  2.583583       1              {}  \n",
       "2    11.111111  209652396  0.642857  2.567701       1              {}  \n",
       "3    11.111111  209652396  0.642857  2.753785       1              {}  \n",
       "4    11.111111  209652396  0.071429  2.586906       1              {}  \n",
       "..         ...        ...       ...       ...     ...             ...  \n",
       "995  11.111111  209652396  0.000000  1.265428       1              {}  \n",
       "996  11.111111  209652396  0.000000  1.294266       1              {}  \n",
       "997  11.111111  209652396  0.571429  1.617099       1              {}  \n",
       "998  11.111111  209652396  0.000000  1.972116       1              {}  \n",
       "999  33.333333  209652396  0.642857  1.760216       1              {}  \n",
       "\n",
       "[1000 rows x 9 columns]"
      ]
     },
     "execution_count": 80,
     "metadata": {},
     "output_type": "execute_result"
    }
   ],
   "source": [
    "results = pd.DataFrame(columns=[\"config_id\", \"config\", \"instance\", \"budget\", \"seed\", \"accuracy\", \"time\", \"status\", \"additional_info\"])\n",
    "for trial_info, trial_value in smac.runhistory.items():\n",
    "    results.loc[len(results.index)] = [trial_info.config_id, dict(smac.runhistory.get_config(1)), trial_info.instance,\n",
    "                                       trial_info.budget, trial_info.seed,\n",
    "                                       1 - trial_value.cost, trial_value.time, trial_value.status, trial_value.additional_info]\n",
    "results"
   ]
  },
  {
   "cell_type": "markdown",
   "metadata": {},
   "source": [
    "### Classification"
   ]
  },
  {
   "cell_type": "code",
   "execution_count": 81,
   "metadata": {},
   "outputs": [],
   "source": [
    "from sklearn.model_selection import KFold, StratifiedKFold\n",
    "cv = 5\n",
    "kf = KFold(n_splits = cv, shuffle=True)\n",
    "\n",
    "choice_hps = incumbent"
   ]
  },
  {
   "cell_type": "code",
   "execution_count": 89,
   "metadata": {},
   "outputs": [
    {
     "name": "stderr",
     "output_type": "stream",
     "text": [
      "  0%|          | 0/8 [00:00<?, ?it/s]"
     ]
    },
    {
     "name": "stdout",
     "output_type": "stream",
     "text": [
      "1/1 [==============================] - 0s 62ms/step\n",
      "1/1 [==============================] - 0s 102ms/step - loss: 2.6432 - accuracy: 0.4286\n",
      "1/1 [==============================] - 0s 47ms/step\n",
      "1/1 [==============================] - 0s 81ms/step - loss: 0.5320 - accuracy: 0.9286\n",
      "1/1 [==============================] - 0s 46ms/step\n",
      "1/1 [==============================] - 0s 82ms/step - loss: 0.0251 - accuracy: 1.0000\n",
      "1/1 [==============================] - 0s 45ms/step\n",
      "1/1 [==============================] - 0s 79ms/step - loss: 9.7909e-04 - accuracy: 1.0000\n",
      "WARNING:tensorflow:5 out of the last 5 calls to <function Model.make_predict_function.<locals>.predict_function at 0x7fad91364360> triggered tf.function retracing. Tracing is expensive and the excessive number of tracings could be due to (1) creating @tf.function repeatedly in a loop, (2) passing tensors with different shapes, (3) passing Python objects instead of tensors. For (1), please define your @tf.function outside of the loop. For (2), @tf.function has reduce_retracing=True option that can avoid unnecessary retracing. For (3), please refer to https://www.tensorflow.org/guide/function#controlling_retracing and https://www.tensorflow.org/api_docs/python/tf/function for  more details.\n",
      "[WARNING][polymorphic_function.py:156] 5 out of the last 5 calls to <function Model.make_predict_function.<locals>.predict_function at 0x7fad91364360> triggered tf.function retracing. Tracing is expensive and the excessive number of tracings could be due to (1) creating @tf.function repeatedly in a loop, (2) passing tensors with different shapes, (3) passing Python objects instead of tensors. For (1), please define your @tf.function outside of the loop. For (2), @tf.function has reduce_retracing=True option that can avoid unnecessary retracing. For (3), please refer to https://www.tensorflow.org/guide/function#controlling_retracing and https://www.tensorflow.org/api_docs/python/tf/function for  more details.\n",
      "1/1 [==============================] - 0s 47ms/step\n",
      "WARNING:tensorflow:5 out of the last 5 calls to <function Model.make_test_function.<locals>.test_function at 0x7fad91367420> triggered tf.function retracing. Tracing is expensive and the excessive number of tracings could be due to (1) creating @tf.function repeatedly in a loop, (2) passing tensors with different shapes, (3) passing Python objects instead of tensors. For (1), please define your @tf.function outside of the loop. For (2), @tf.function has reduce_retracing=True option that can avoid unnecessary retracing. For (3), please refer to https://www.tensorflow.org/guide/function#controlling_retracing and https://www.tensorflow.org/api_docs/python/tf/function for  more details.\n",
      "[WARNING][polymorphic_function.py:156] 5 out of the last 5 calls to <function Model.make_test_function.<locals>.test_function at 0x7fad91367420> triggered tf.function retracing. Tracing is expensive and the excessive number of tracings could be due to (1) creating @tf.function repeatedly in a loop, (2) passing tensors with different shapes, (3) passing Python objects instead of tensors. For (1), please define your @tf.function outside of the loop. For (2), @tf.function has reduce_retracing=True option that can avoid unnecessary retracing. For (3), please refer to https://www.tensorflow.org/guide/function#controlling_retracing and https://www.tensorflow.org/api_docs/python/tf/function for  more details.\n",
      "1/1 [==============================] - 0s 82ms/step - loss: 0.1578 - accuracy: 0.9231\n"
     ]
    },
    {
     "name": "stderr",
     "output_type": "stream",
     "text": [
      " 12%|█▎        | 1/8 [01:29<10:29, 89.90s/it]"
     ]
    },
    {
     "name": "stdout",
     "output_type": "stream",
     "text": [
      "WARNING:tensorflow:6 out of the last 6 calls to <function Model.make_predict_function.<locals>.predict_function at 0x7fad902982c0> triggered tf.function retracing. Tracing is expensive and the excessive number of tracings could be due to (1) creating @tf.function repeatedly in a loop, (2) passing tensors with different shapes, (3) passing Python objects instead of tensors. For (1), please define your @tf.function outside of the loop. For (2), @tf.function has reduce_retracing=True option that can avoid unnecessary retracing. For (3), please refer to https://www.tensorflow.org/guide/function#controlling_retracing and https://www.tensorflow.org/api_docs/python/tf/function for  more details.\n",
      "[WARNING][polymorphic_function.py:156] 6 out of the last 6 calls to <function Model.make_predict_function.<locals>.predict_function at 0x7fad902982c0> triggered tf.function retracing. Tracing is expensive and the excessive number of tracings could be due to (1) creating @tf.function repeatedly in a loop, (2) passing tensors with different shapes, (3) passing Python objects instead of tensors. For (1), please define your @tf.function outside of the loop. For (2), @tf.function has reduce_retracing=True option that can avoid unnecessary retracing. For (3), please refer to https://www.tensorflow.org/guide/function#controlling_retracing and https://www.tensorflow.org/api_docs/python/tf/function for  more details.\n",
      "1/1 [==============================] - 0s 46ms/step\n",
      "WARNING:tensorflow:6 out of the last 6 calls to <function Model.make_test_function.<locals>.test_function at 0x7fad9029b6a0> triggered tf.function retracing. Tracing is expensive and the excessive number of tracings could be due to (1) creating @tf.function repeatedly in a loop, (2) passing tensors with different shapes, (3) passing Python objects instead of tensors. For (1), please define your @tf.function outside of the loop. For (2), @tf.function has reduce_retracing=True option that can avoid unnecessary retracing. For (3), please refer to https://www.tensorflow.org/guide/function#controlling_retracing and https://www.tensorflow.org/api_docs/python/tf/function for  more details.\n",
      "[WARNING][polymorphic_function.py:156] 6 out of the last 6 calls to <function Model.make_test_function.<locals>.test_function at 0x7fad9029b6a0> triggered tf.function retracing. Tracing is expensive and the excessive number of tracings could be due to (1) creating @tf.function repeatedly in a loop, (2) passing tensors with different shapes, (3) passing Python objects instead of tensors. For (1), please define your @tf.function outside of the loop. For (2), @tf.function has reduce_retracing=True option that can avoid unnecessary retracing. For (3), please refer to https://www.tensorflow.org/guide/function#controlling_retracing and https://www.tensorflow.org/api_docs/python/tf/function for  more details.\n",
      "1/1 [==============================] - 0s 80ms/step - loss: 5.8529 - accuracy: 0.6429\n",
      "1/1 [==============================] - 0s 46ms/step\n",
      "1/1 [==============================] - 0s 79ms/step - loss: 2.6079 - accuracy: 0.6429\n",
      "1/1 [==============================] - 0s 49ms/step\n",
      "1/1 [==============================] - 0s 83ms/step - loss: 0.5003 - accuracy: 0.7857\n",
      "1/1 [==============================] - 0s 45ms/step\n",
      "1/1 [==============================] - 0s 79ms/step - loss: 0.8000 - accuracy: 0.6154\n",
      "1/1 [==============================] - 0s 47ms/step\n",
      "1/1 [==============================] - 0s 83ms/step - loss: 3.9037 - accuracy: 0.4615\n"
     ]
    },
    {
     "name": "stderr",
     "output_type": "stream",
     "text": [
      " 25%|██▌       | 2/8 [03:18<10:05, 100.90s/it]"
     ]
    },
    {
     "name": "stdout",
     "output_type": "stream",
     "text": [
      "1/1 [==============================] - 0s 45ms/step\n",
      "1/1 [==============================] - 0s 79ms/step - loss: 0.9691 - accuracy: 0.7857\n",
      "1/1 [==============================] - 0s 47ms/step\n",
      "1/1 [==============================] - 0s 80ms/step - loss: 0.1344 - accuracy: 0.9286\n",
      "1/1 [==============================] - 0s 46ms/step\n",
      "1/1 [==============================] - 0s 79ms/step - loss: 0.0304 - accuracy: 1.0000\n",
      "1/1 [==============================] - 0s 45ms/step\n",
      "1/1 [==============================] - 0s 80ms/step - loss: 10.1383 - accuracy: 0.3846\n",
      "1/1 [==============================] - 0s 45ms/step\n",
      "1/1 [==============================] - 0s 79ms/step - loss: 0.0015 - accuracy: 1.0000\n"
     ]
    },
    {
     "name": "stderr",
     "output_type": "stream",
     "text": [
      " 38%|███▊      | 3/8 [04:56<08:17, 99.42s/it] "
     ]
    },
    {
     "name": "stdout",
     "output_type": "stream",
     "text": [
      "1/1 [==============================] - 0s 45ms/step\n",
      "1/1 [==============================] - 0s 93ms/step - loss: 1.5277 - accuracy: 0.8571\n",
      "1/1 [==============================] - 0s 46ms/step\n",
      "1/1 [==============================] - 0s 80ms/step - loss: 2.1889 - accuracy: 0.8571\n",
      "1/1 [==============================] - 0s 46ms/step\n",
      "1/1 [==============================] - 0s 80ms/step - loss: 1.8929 - accuracy: 0.6429\n",
      "1/1 [==============================] - 0s 46ms/step\n",
      "1/1 [==============================] - 0s 80ms/step - loss: 1.4027 - accuracy: 0.6154\n",
      "1/1 [==============================] - 0s 46ms/step\n",
      "1/1 [==============================] - 0s 80ms/step - loss: 0.1725 - accuracy: 0.9231\n"
     ]
    },
    {
     "name": "stderr",
     "output_type": "stream",
     "text": [
      " 50%|█████     | 4/8 [06:04<05:47, 86.96s/it]"
     ]
    },
    {
     "name": "stdout",
     "output_type": "stream",
     "text": [
      "1/1 [==============================] - 0s 47ms/step\n",
      "1/1 [==============================] - 0s 80ms/step - loss: 0.7877 - accuracy: 0.8571\n",
      "1/1 [==============================] - 0s 45ms/step\n",
      "1/1 [==============================] - 0s 81ms/step - loss: 1.3927 - accuracy: 0.5000\n",
      "1/1 [==============================] - 0s 47ms/step\n",
      "1/1 [==============================] - 0s 84ms/step - loss: 3.6335 - accuracy: 0.6429\n",
      "1/1 [==============================] - 0s 46ms/step\n",
      "1/1 [==============================] - 0s 81ms/step - loss: 1.0966 - accuracy: 0.8462\n",
      "1/1 [==============================] - 0s 46ms/step\n",
      "1/1 [==============================] - 0s 80ms/step - loss: 0.2469 - accuracy: 0.8462\n"
     ]
    },
    {
     "name": "stderr",
     "output_type": "stream",
     "text": [
      " 62%|██████▎   | 5/8 [07:20<04:09, 83.02s/it]"
     ]
    },
    {
     "name": "stdout",
     "output_type": "stream",
     "text": [
      "1/1 [==============================] - 0s 47ms/step\n",
      "1/1 [==============================] - 0s 81ms/step - loss: 0.5379 - accuracy: 0.8571\n",
      "1/1 [==============================] - 0s 47ms/step\n",
      "1/1 [==============================] - 0s 85ms/step - loss: 1.4479 - accuracy: 0.7143\n",
      "1/1 [==============================] - 0s 48ms/step\n",
      "1/1 [==============================] - 0s 81ms/step - loss: 3.1949 - accuracy: 0.7857\n"
     ]
    }
   ],
   "source": [
    "metrics_df = pd.DataFrame(columns=[\"Organism\", \"Cross-Validation run\", \"Accuracy\", \"AUC\", \"TPR\", \"FPR\", \"Threshold\", \"Conf_Mat\"])\n",
    "\n",
    "for i, y in enumerate(tqdm(ys.columns)):\n",
    "\ty = ys[y]\n",
    "\tfor cv_i, (train_index, val_index) in enumerate(kf.split(X, y)):\n",
    "\t\tmodel = build_model(choice_hps, multiclass=False)\n",
    "\t\ttraining_data = X.iloc[train_index]\n",
    "\t\ttraining_labels = y.iloc[train_index]\n",
    "\t\tvalidation_data = X.iloc[val_index]\n",
    "\t\tvalidation_labels = y.iloc[val_index]\n",
    "\t\t\n",
    "\t\tcallback = keras.callbacks.EarlyStopping(monitor='loss', patience=1000)\t# Model will stop when no improvment is reached after 1000 epochs\n",
    "\t\thistory = model.fit(training_data, training_labels, epochs=100000, verbose=0, callbacks=[callback])\n",
    "\n",
    "\t\tprediction = model.predict(validation_data)\n",
    "\t\tmetrics_df = extract_metrics(validation_labels, prediction, strains.iloc[i].item(), cv_i+1, metrics_df)\n",
    "\t\tval_loss, val_acc = model.evaluate(validation_data,  validation_labels, verbose=\"auto\")\n"
   ]
  },
  {
   "cell_type": "code",
   "execution_count": null,
   "metadata": {},
   "outputs": [
    {
     "data": {
      "image/png": "[encoded data removed]",
      "text/plain": [
       "<Figure size 640x480 with 2 Axes>"
      ]
     },
     "metadata": {},
     "output_type": "display_data"
    }
   ],
   "source": [
    "# Accuracy CV matrix\n",
    "ax = sns.heatmap(metrics_df.pivot(index=\"Organism\", columns=\"Cross-Validation run\", values=\"Accuracy\"),\n",
    "                 vmin=0, vmax=1.0, annot=True, cmap=sns.color_palette(\"crest\", as_cmap=True))"
   ]
  },
  {
   "cell_type": "code",
   "execution_count": null,
   "metadata": {},
   "outputs": [],
   "source": [
    "plot_cv_confmat(ys=ys, target_labels=strains.values, accuracies=np.mean(accuracies, axis=1), confusion_matrices=confusion_matrices,\n",
    "\t\t\t\toutdir=\"../../runs/ML/try/NN\", name=\"class_annot_test_1.png\")"
   ]
  },
  {
   "cell_type": "code",
   "execution_count": null,
   "metadata": {},
   "outputs": [],
   "source": []
  }
 ],
 "metadata": {
  "kernelspec": {
   "display_name": "gemml",
   "language": "python",
   "name": "python3"
  },
  "language_info": {
   "codemirror_mode": {
    "name": "ipython",
    "version": 3
   },
   "file_extension": ".py",
   "mimetype": "text/x-python",
   "name": "python",
   "nbconvert_exporter": "python",
   "pygments_lexer": "ipython3",
   "version": "3.11.0"
  }
 },
 "nbformat": 4,
 "nbformat_minor": 2
}
