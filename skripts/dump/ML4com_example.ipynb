{
 "cells": [
  {
   "cell_type": "markdown",
   "metadata": {},
   "source": [
    "# Machine Learning for metabolomes of microbial communities"
   ]
  },
  {
   "cell_type": "code",
   "execution_count": 1,
   "metadata": {},
   "outputs": [],
   "source": [
    "# imports\n",
    "import mat73\n",
    "import numpy as np\n",
    "import pandas as pd\n",
    "from sklearn.metrics import accuracy_score, confusion_matrix\n",
    "from sklearn.model_selection import cross_val_predict\n",
    "from sklearn import tree\n",
    "import seaborn as sns\n",
    "import matplotlib.pyplot as plt\n",
    "import math\n",
    "import warnings"
   ]
  },
  {
   "cell_type": "markdown",
   "metadata": {},
   "source": [
    "## Re-defining tables"
   ]
  },
  {
   "cell_type": "code",
   "execution_count": 2,
   "metadata": {},
   "outputs": [],
   "source": [
    "from helpers import *\n",
    "for file in parse_folder(\"../data/guts\"):\n",
    "    if file.endswith(\".mat\"):\n",
    "        mat_to_tsv(\"../data/guts\", file)"
   ]
  },
  {
   "cell_type": "markdown",
   "metadata": {},
   "source": [
    "## Loading in"
   ]
  },
  {
   "cell_type": "code",
   "execution_count": 3,
   "metadata": {},
   "outputs": [],
   "source": [
    "# Load matrices\n",
    "strains = pd.read_csv(\"../data/guts/strains.tsv\", sep=\"\\t\")\n",
    "comm8 = pd.read_csv(\"../data/guts/comm8.tsv\", sep=\"\\t\")\n",
    "metData = pd.read_csv(\"../data/guts/metData.tsv\", sep=\"\\t\")\n",
    "metData.index = pd.read_csv(\"../data/guts/metName.tsv\", sep=\"\\t\")\n",
    "\n",
    "met_raw_pos = pd.read_excel(\"../data/guts/FIA-Data Com8_20230717_P0024_msAV206-312.xlsx\", sheet_name=\"pos\")\n",
    "met_raw_neg = pd.read_excel(\"../data/guts/FIA-Data Com8_20230717_P0024_msAV206-312.xlsx\", sheet_name=\"neg\")"
   ]
  },
  {
   "cell_type": "markdown",
   "metadata": {},
   "source": [
    "## Combination"
   ]
  },
  {
   "cell_type": "code",
   "execution_count": 4,
   "metadata": {},
   "outputs": [],
   "source": [
    "def join_df_metNames(df):\n",
    "    cols = [\"metNames\"] + [f\"MS{i+1}\" for i in range(len(df.columns) - 6)]\n",
    "    comb = pd.DataFrame(columns=cols)\n",
    "    for pid in df[\"peakID\"].unique():\n",
    "        comb_met_name = \"\"\n",
    "        for met_name in df.loc[df[\"peakID\"] == pid][\"MetName\"]:\n",
    "            comb_met_name += met_name + \"\\n\"\n",
    "        comb.loc[len(comb.index)] = [comb_met_name[:-2]] + list(df.loc[df[\"peakID\"] == pid].iloc[0, 6:])\n",
    "    comb = comb.set_index('metNames')\n",
    "    return comb"
   ]
  },
  {
   "cell_type": "markdown",
   "metadata": {},
   "source": [
    "## Normalization"
   ]
  },
  {
   "cell_type": "code",
   "execution_count": 5,
   "metadata": {},
   "outputs": [],
   "source": [
    "def standard_normalization(df, axis=1):\n",
    "    return df.apply(lambda line: [(x - np.mean(line)) / np.var(line) for x in line], result_type=\"expand\", axis=axis)"
   ]
  },
  {
   "cell_type": "markdown",
   "metadata": {},
   "source": [
    "## Data preparation"
   ]
  },
  {
   "cell_type": "code",
   "execution_count": 6,
   "metadata": {},
   "outputs": [],
   "source": [
    "met_raw_comb = pd.concat( [standard_normalization( join_df_metNames(met_raw_pos) ), standard_normalization( join_df_metNames(met_raw_neg) )] )"
   ]
  },
  {
   "cell_type": "markdown",
   "metadata": {},
   "source": [
    "## Method definitions "
   ]
  },
  {
   "cell_type": "code",
   "execution_count": 7,
   "metadata": {},
   "outputs": [],
   "source": [
    "def mult_cv_model(model, X, ys, n_fold):\n",
    "    \"\"\"\n",
    "    Performs model training and cross-validation over each column\n",
    "    \"\"\"\n",
    "    # Matrices for report\n",
    "    accuracies = []\n",
    "    confusion_matrices = []\n",
    "    \n",
    "    # Perform cross-validation for each strain separately\n",
    "    for y in ys.transpose():\n",
    "\n",
    "        # Predict the test set labels\n",
    "        y_pred = cross_val_predict(model, X.transpose(), y, cv=n_fold)\n",
    "\n",
    "        confusion_matrices.append(confusion_matrix(y, y_pred))\n",
    "        accuracies.append(accuracy_score(y,y_pred))\n",
    "    return (accuracies, confusion_matrices)"
   ]
  },
  {
   "cell_type": "code",
   "execution_count": 8,
   "metadata": {},
   "outputs": [],
   "source": [
    "def plot_cv_confmat(ys, target_labels, accuracies, confusion_matrices, outdir, name):\n",
    "    \"\"\"\n",
    "    Plot heatmap of confusion matrix\n",
    "    \"\"\"\n",
    "    fig, axs = plt.subplots(nrows=4, ncols=2, figsize=(16, 8))\n",
    "    cbar_ax = fig.add_axes([.91, .3, .03, .4])\n",
    "    for i, ax in enumerate(axs.flat):\n",
    "        sns.heatmap(confusion_matrices[i], \n",
    "                    vmin=0, vmax=len(ys), annot=True, ax=ax, \n",
    "                    cbar=i == 0, cbar_ax=None if i else cbar_ax)\n",
    "        ax.set_title(f'{target_labels[i]}, Accuracy: {round(accuracies[i], 5)}')\n",
    "        ax.axis('off')\n",
    "    fig.tight_layout(rect=[0, 0, .9, 1])\n",
    "    plt.savefig(f\"{outdir}/{name}.png\")\n",
    "    plt.close()\n",
    "    "
   ]
  },
  {
   "cell_type": "markdown",
   "metadata": {},
   "source": [
    "## Learning and tuning"
   ]
  },
  {
   "cell_type": "markdown",
   "metadata": {},
   "source": [
    "### SVM"
   ]
  },
  {
   "cell_type": "code",
   "execution_count": null,
   "metadata": {},
   "outputs": [],
   "source": []
  },
  {
   "cell_type": "markdown",
   "metadata": {},
   "source": [
    "### Neural Network"
   ]
  },
  {
   "cell_type": "code",
   "execution_count": 11,
   "metadata": {},
   "outputs": [],
   "source": [
    "from sklearn.neural_network import MLPClassifier\n",
    "warnings.filterwarnings(\"ignore\", message=\"This figure includes Axes that are not compatible with tight_layout, so results might be incorrect*\")\n",
    "\n",
    "# Parameters\n",
    "X = metData\n",
    "ys = comm8\n",
    "seed = 42\n",
    "n_fold = 5\n",
    "maximum_iterations = 1000\n",
    "outdir = \"../reports\"\n",
    "suffix = \"\"\n",
    "target_labels = strains.values\n",
    "param_grid = [\n",
    "  { 'solver': ['adam'],\n",
    "    \"alpha\": [1e-5, 1e-4, 1e-3, 1e-2, 1e-1, 1],\n",
    "    \"hidden_layer_sizes\": [(500, 100), (100, 100), (20, 100), (100, 20), (500, 20)],\n",
    "    activation_functions = [\"identity\", \"logistic\", \"relu\"]},\n",
    "  {'C': [1, 10, 100, 1000], 'gamma': [0.001, 0.0001], 'solver': ['rbf']},\n",
    " ]\n",
    "layer_sizes = [(500, 100, 100, 100, 100, 100)]\n",
    "\n",
    "# Evaluation data\n",
    "results = pd.DataFrame(columns=[\"model_nr\", \"parameters\", \"target\", \"accuracy\"])\n",
    "\n",
    "model_count = 1\n",
    "for seed in seeds:\n",
    "    for solver in solvers:\n",
    "        for layer_size in layer_sizes:\n",
    "            for alpha in alphas:\n",
    "                for act_f in activation_functions:\n",
    "                    # Model definition\n",
    "                    model = MLPClassifier(activation=act_f, solver=solver, alpha=alpha, hidden_layer_sizes=layer_size, random_state=seed, max_iter=maximum_iterations)\n",
    "\n",
    "                    accuracies, confusion_matrices = mult_cv_model(model=model, X=np.array(X), ys=np.array(ys), n_fold=n_fold)\n",
    "                    for i in range(len(target_labels)):\n",
    "                        results.loc[len(results.index)] = [model_count, [act_f, solver, alpha, layer_size], target_labels[i], accuracies[i], ]\n",
    "\n",
    "                    model_count += 1\n",
    "                    name = f\"/mlp/conf_mats/nn_af:{act_f}_solver:{solver}_size:{layer_size}_alpha:{alpha}{suffix}\"\n",
    "                    plot_cv_confmat(ys=ys, target_labels=target_labels, accuracies=accuracies, confusion_matrices=confusion_matrices, outdir=outdir, name=name)\n",
    "\n",
    "results.to_csv(f\"{outdir}/mlp/accuracies_nn{suffix}.tsv\",sep=\"\\t\")"
   ]
  },
  {
   "cell_type": "code",
   "execution_count": 10,
   "metadata": {},
   "outputs": [
    {
     "ename": "SyntaxError",
     "evalue": "'break' outside loop (668683560.py, line 1)",
     "output_type": "error",
     "traceback": [
      "\u001b[0;36m  Cell \u001b[0;32mIn[10], line 1\u001b[0;36m\u001b[0m\n\u001b[0;31m    break\u001b[0m\n\u001b[0m    ^\u001b[0m\n\u001b[0;31mSyntaxError\u001b[0m\u001b[0;31m:\u001b[0m 'break' outside loop\n"
     ]
    }
   ],
   "source": [
    "break"
   ]
  },
  {
   "cell_type": "markdown",
   "metadata": {},
   "source": [
    "### Decision Tree"
   ]
  },
  {
   "cell_type": "code",
   "execution_count": null,
   "metadata": {},
   "outputs": [],
   "source": [
    "from sklearn.tree import DecisionTreeClassifier\n",
    "warnings.filterwarnings(\"ignore\", message=\"This figure includes Axes that are not compatible with tight_layout, so results might be incorrect*\")\n",
    "\n",
    "\n",
    "\n",
    "# Parameters\n",
    "X = metData\n",
    "ys = comm8\n",
    "seeds = [42, 128]\n",
    "n_folds = 6\n",
    "outdir = \"../reports\"\n",
    "suffix = \"\"\n",
    "target_labels = strains.values\n",
    "ccp_alphas = np.arange(0, 0.5, 0.025)\n",
    "\n",
    "\n",
    "# Evaluation data\n",
    "results = pd.DataFrame(columns=[\"seed\", \"ccp_alpha\", \"target\", \"accuracy\",  \"model_nr\"])\n",
    "\n",
    "model_count = 1\n",
    "for seed in seeds:\n",
    "    for ccp_alpha in ccp_alphas:\n",
    "        # Model definition\n",
    "        model = DecisionTreeClassifier(ccp_alpha=ccp_alpha, random_state=seed)\n",
    "\n",
    "        accuracies, confusion_matrices = mult_cv_model(model=model, X=np.array(X), ys=np.array(ys), n_fold=n_fold)\n",
    "        for i in range(len(target_labels)):\n",
    "            results.loc[len(results.index)] = [seed, ccp_alpha, target_labels[i], accuracies[i], model_count]\n",
    "\n",
    "        model_count += 1\n",
    "        name = f\"/decisiontree/conf_mats/cm_seed:{seed}_ccp_alpha:{round(ccp_alpha, 3)}{suffix}\"\n",
    "        plot_cv_confmat(ys=ys, target_labels=target_labels, accuracies=accuracies, confusion_matrices=confusion_matrices, outdir=outdir, name=name)\n",
    "\n",
    "results.to_csv(f\"{outdir}/decisiontree/accuracies_decision_tree{suffix}.tsv\",sep=\"\\t\")"
   ]
  },
  {
   "cell_type": "markdown",
   "metadata": {},
   "source": [
    "### Random Forest"
   ]
  },
  {
   "cell_type": "code",
   "execution_count": null,
   "metadata": {},
   "outputs": [],
   "source": [
    "from sklearn.ensemble import RandomForestClassifier\n",
    "\n",
    "# Parameters\n",
    "X = metData\n",
    "ys = comm8\n",
    "seeds = [42, 128]\n",
    "n_fold = 6\n",
    "n_trees = [10, 100, 400]\n",
    "max_depths = [None, 5, 20]\n",
    "outdir=\"../reports\"\n",
    "suffix = \"\"\n",
    "target_labels = strains.values\n",
    "\n",
    "# Evaluation data\n",
    "results = pd.DataFrame(columns=[\"seed\", \"n_trees\", \"max_depth\", \"target\", \"accuracy\", \"model_nr\"])\n",
    "\n",
    "for seed in seeds:\n",
    "    for n_tree in n_trees:\n",
    "        for max_depth in max_depths:\n",
    "            # Model definition\n",
    "            rfc = RandomForestClassifier(n_estimators=n_tree, max_depth=max_depth, random_state=seed)\n",
    "\n",
    "            accuracies, confusion_matrices = mult_cv_model(model=rfc, X=X, ys=ys, n_fold=n_fold)\n",
    "            for i in range(len(target_labels)):\n",
    "                results.loc[len(results.index)] = [seed, n_tree, max_depth, target_labels[i], accuracies[i], i]\n",
    "\n",
    "            name = f\"/conf_mats/cm_seed:{seed}_trees:{n_tree}_depth:{max_depth}{suffix}\"\n",
    "            plot_cv_confmat(ys=ys, target_labels=target_labels, accuracies=accuracies, confusion_matrices=confusion_matrices, outdir=outdir, name=name)\n",
    "\n",
    "results.to_csv(f\"{outdir}/accuracies_{seeds}_{n_trees}_{max_depths}{suffix}.tsv\",sep=\"\\t\")\n"
   ]
  },
  {
   "cell_type": "code",
   "execution_count": null,
   "metadata": {},
   "outputs": [
    {
     "data": {
      "text/html": [
       "<div>\n",
       "<style scoped>\n",
       "    .dataframe tbody tr th:only-of-type {\n",
       "        vertical-align: middle;\n",
       "    }\n",
       "\n",
       "    .dataframe tbody tr th {\n",
       "        vertical-align: top;\n",
       "    }\n",
       "\n",
       "    .dataframe thead th {\n",
       "        text-align: right;\n",
       "    }\n",
       "</style>\n",
       "<table border=\"1\" class=\"dataframe\">\n",
       "  <thead>\n",
       "    <tr style=\"text-align: right;\">\n",
       "      <th></th>\n",
       "      <th>seed</th>\n",
       "      <th>ccp_alpha</th>\n",
       "      <th>target</th>\n",
       "      <th>accuracy</th>\n",
       "      <th>model_nr</th>\n",
       "    </tr>\n",
       "  </thead>\n",
       "  <tbody>\n",
       "    <tr>\n",
       "      <th>0</th>\n",
       "      <td>42</td>\n",
       "      <td>0.000</td>\n",
       "      <td>C. ramosum</td>\n",
       "      <td>0.985294</td>\n",
       "      <td>1</td>\n",
       "    </tr>\n",
       "    <tr>\n",
       "      <th>1</th>\n",
       "      <td>42</td>\n",
       "      <td>0.000</td>\n",
       "      <td>R. gnavus</td>\n",
       "      <td>0.955882</td>\n",
       "      <td>1</td>\n",
       "    </tr>\n",
       "    <tr>\n",
       "      <th>2</th>\n",
       "      <td>42</td>\n",
       "      <td>0.000</td>\n",
       "      <td>C. aerofaciens</td>\n",
       "      <td>0.985294</td>\n",
       "      <td>1</td>\n",
       "    </tr>\n",
       "    <tr>\n",
       "      <th>3</th>\n",
       "      <td>42</td>\n",
       "      <td>0.000</td>\n",
       "      <td>B. thetaiotaomicron</td>\n",
       "      <td>0.897059</td>\n",
       "      <td>1</td>\n",
       "    </tr>\n",
       "    <tr>\n",
       "      <th>4</th>\n",
       "      <td>42</td>\n",
       "      <td>0.000</td>\n",
       "      <td>B. uniformis</td>\n",
       "      <td>0.617647</td>\n",
       "      <td>1</td>\n",
       "    </tr>\n",
       "    <tr>\n",
       "      <th>...</th>\n",
       "      <td>...</td>\n",
       "      <td>...</td>\n",
       "      <td>...</td>\n",
       "      <td>...</td>\n",
       "      <td>...</td>\n",
       "    </tr>\n",
       "    <tr>\n",
       "      <th>315</th>\n",
       "      <td>128</td>\n",
       "      <td>0.475</td>\n",
       "      <td>B. thetaiotaomicron</td>\n",
       "      <td>0.676471</td>\n",
       "      <td>40</td>\n",
       "    </tr>\n",
       "    <tr>\n",
       "      <th>316</th>\n",
       "      <td>128</td>\n",
       "      <td>0.475</td>\n",
       "      <td>B. uniformis</td>\n",
       "      <td>0.588235</td>\n",
       "      <td>40</td>\n",
       "    </tr>\n",
       "    <tr>\n",
       "      <th>317</th>\n",
       "      <td>128</td>\n",
       "      <td>0.475</td>\n",
       "      <td>B. vulgatus</td>\n",
       "      <td>0.911765</td>\n",
       "      <td>40</td>\n",
       "    </tr>\n",
       "    <tr>\n",
       "      <th>318</th>\n",
       "      <td>128</td>\n",
       "      <td>0.475</td>\n",
       "      <td>F. nucleatum</td>\n",
       "      <td>0.632353</td>\n",
       "      <td>40</td>\n",
       "    </tr>\n",
       "    <tr>\n",
       "      <th>319</th>\n",
       "      <td>128</td>\n",
       "      <td>0.475</td>\n",
       "      <td>R. intestinalis</td>\n",
       "      <td>0.632353</td>\n",
       "      <td>40</td>\n",
       "    </tr>\n",
       "  </tbody>\n",
       "</table>\n",
       "<p>320 rows × 5 columns</p>\n",
       "</div>"
      ],
      "text/plain": [
       "     seed  ccp_alpha               target  accuracy  model_nr\n",
       "0      42      0.000           C. ramosum  0.985294         1\n",
       "1      42      0.000            R. gnavus  0.955882         1\n",
       "2      42      0.000       C. aerofaciens  0.985294         1\n",
       "3      42      0.000  B. thetaiotaomicron  0.897059         1\n",
       "4      42      0.000         B. uniformis  0.617647         1\n",
       "..    ...        ...                  ...       ...       ...\n",
       "315   128      0.475  B. thetaiotaomicron  0.676471        40\n",
       "316   128      0.475         B. uniformis  0.588235        40\n",
       "317   128      0.475          B. vulgatus  0.911765        40\n",
       "318   128      0.475         F. nucleatum  0.632353        40\n",
       "319   128      0.475     R. intestinalis   0.632353        40\n",
       "\n",
       "[320 rows x 5 columns]"
      ]
     },
     "execution_count": 35,
     "metadata": {},
     "output_type": "execute_result"
    }
   ],
   "source": [
    "results"
   ]
  },
  {
   "cell_type": "markdown",
   "metadata": {},
   "source": [
    "## Analyis"
   ]
  },
  {
   "cell_type": "code",
   "execution_count": null,
   "metadata": {},
   "outputs": [],
   "source": [
    "# results = pd.read_csv(\"../reports/accuracies_[42, 128]_[10, 100, 400]_[None, 5, 20].tsv\", sep=\"\\t\", index_col=\"Unnamed: 0\").fillna(0)"
   ]
  },
  {
   "cell_type": "code",
   "execution_count": null,
   "metadata": {},
   "outputs": [
    {
     "data": {
      "text/plain": [
       "<Axes: xlabel='ccp_alpha', ylabel='accuracy'>"
      ]
     },
     "execution_count": 31,
     "metadata": {},
     "output_type": "execute_result"
    },
    {
     "data": {
      "image/png": "[encoded data removed]",
      "text/plain": [
       "<Figure size 640x480 with 1 Axes>"
      ]
     },
     "metadata": {},
     "output_type": "display_data"
    }
   ],
   "source": [
    "sns.lineplot(data=results, y=\"accuracy\", x=\"ccp_alpha\", hue=\"target\")"
   ]
  },
  {
   "cell_type": "code",
   "execution_count": null,
   "metadata": {},
   "outputs": [
    {
     "data": {
      "text/plain": [
       "<Axes: xlabel='ccp_alpha', ylabel='accuracy'>"
      ]
     },
     "execution_count": 46,
     "metadata": {},
     "output_type": "execute_result"
    },
    {
     "data": {
      "image/png": "[encoded data removed]",
      "text/plain": [
       "<Figure size 640x480 with 1 Axes>"
      ]
     },
     "metadata": {},
     "output_type": "display_data"
    }
   ],
   "source": [
    "sns.lineplot(data=results, y=\"accuracy\", x=\"ccp_alpha\", hue=\"target\")"
   ]
  },
  {
   "cell_type": "markdown",
   "metadata": {},
   "source": [
    "## In-depth analysis"
   ]
  },
  {
   "cell_type": "code",
   "execution_count": null,
   "metadata": {},
   "outputs": [],
   "source": [
    "def plot_decision_trees(model, feature_names, class_names, outdir, name):\n",
    "    fig, axes = plt.subplots(nrows = 1,ncols = 1,figsize = (4,4), dpi=900)\n",
    "    tree.plot_tree(model,\n",
    "                feature_names = feature_names, \n",
    "                class_names = class_names,\n",
    "                filled = True)\n",
    "    plt.savefig(f'{outdir}/{name}.png')\n",
    "    plt.close()"
   ]
  },
  {
   "cell_type": "code",
   "execution_count": null,
   "metadata": {},
   "outputs": [],
   "source": [
    "model = DecisionTreeClassifier(random_state=42)\n",
    "\n",
    "# for i, estimator in enumerate(model.estimators_):\n",
    "for i, s in enumerate(strains):\n",
    "    model.fit(X.transpose(),ys.transpose()[i])\n",
    "    plot_decision_trees(model=model, feature_names=X.index, class_names=[\"absent\", s], outdir=outdir, name=f\"decisiontree/tree_{s}{suffix}\")"
   ]
  },
  {
   "cell_type": "code",
   "execution_count": null,
   "metadata": {},
   "outputs": [],
   "source": []
  }
 ],
 "metadata": {
  "kernelspec": {
   "display_name": "Python 3",
   "language": "python",
   "name": "python3"
  },
  "language_info": {
   "codemirror_mode": {
    "name": "ipython",
    "version": 3
   },
   "file_extension": ".py",
   "mimetype": "text/x-python",
   "name": "python",
   "nbconvert_exporter": "python",
   "pygments_lexer": "ipython3",
   "version": "3.11.7"
  }
 },
 "nbformat": 4,
 "nbformat_minor": 2
}
