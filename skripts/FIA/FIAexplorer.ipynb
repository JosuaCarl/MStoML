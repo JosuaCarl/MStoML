{
 "cells": [
  {
   "cell_type": "code",
   "execution_count": 2,
   "metadata": {},
   "outputs": [],
   "source": [
    "# Imports\n",
    "import os\n",
    "import datetime\n",
    "import json\n",
    "from typing import overload, Any, List, Dict, Tuple, Set, Sequence, Union, Optional\n",
    "import numpy as np\n",
    "import pandas as pd\n",
    "import pyopenms as oms\n",
    "import matplotlib.pyplot as plt\n",
    "import seaborn as sns\n",
    "import plotly.graph_objects as go\n",
    "import plotly.express as px\n",
    "from tqdm import tqdm\n",
    "import shutil\n",
    "import requests\n",
    "from sklearn.impute import KNNImputer\n",
    "from sklearn.preprocessing import FunctionTransformer\n",
    "from sklearn.pipeline import Pipeline\n",
    "\n",
    "# Ignore seaborn warning for future deprecation of module part\n",
    "import warnings\n",
    "warnings.simplefilter(action='ignore', category=FutureWarning)\n",
    "\n",
    "# import methods from FIA python script\n",
    "from FIA import *\n",
    "\n",
    "oms.LogConfigHandler().setLogLevel(\"DEBUG\")"
   ]
  },
  {
   "cell_type": "markdown",
   "metadata": {},
   "source": [
    "## Read in"
   ]
  },
  {
   "cell_type": "code",
   "execution_count": 8,
   "metadata": {},
   "outputs": [],
   "source": [
    "# set path to your mzML files and workfolder\n",
    "data_dir = \"../../data/example data/exampleA_ecolistrains\"\n",
    "run_dir = \"../../runs/fia_explorer\"\n",
    "\n",
    "data_dir = os.path.normpath(os.path.join(os.getcwd(), data_dir))\n",
    "run_dir = os.path.normpath(os.path.join(os.getcwd(), run_dir))\n",
    "\n",
    "# clean_dir(run_dir)"
   ]
  },
  {
   "cell_type": "markdown",
   "metadata": {},
   "source": [
    "## Centroiding\n",
    "Data reduction with peak picking"
   ]
  },
  {
   "cell_type": "code",
   "execution_count": 9,
   "metadata": {},
   "outputs": [
    {
     "name": "stderr",
     "output_type": "stream",
     "text": [
      "100%|██████████| 6/6 [00:39<00:00,  6.53s/it]\n"
     ]
    }
   ],
   "source": [
    "# centroid_dir = centroid_batch(data_dir, run_dir, file_ending=\".mzXML\")\n",
    "centroid_dir = os.path.join(run_dir, \"centroids\")"
   ]
  },
  {
   "cell_type": "markdown",
   "metadata": {},
   "source": [
    "## Merging\n",
    "We loose temporal information. Could not be desired, because the isotope spectra get less specific."
   ]
  },
  {
   "cell_type": "code",
   "execution_count": 10,
   "metadata": {},
   "outputs": [
    {
     "name": "stderr",
     "output_type": "stream",
     "text": [
      "100%|██████████| 6/6 [00:09<00:00,  1.53s/it]\n"
     ]
    }
   ],
   "source": [
    "# merge_dir = merge_batch(centroid_dir, run_dir, block_size=None, mz_binning_width=5.0, mz_binning_width_unit=\"ppm\", average_gaussian_cutoff=0.01, file_ending=\".mzML\")\n",
    "merge_dir = os.path.join(run_dir, \"merged\")"
   ]
  },
  {
   "cell_type": "markdown",
   "metadata": {},
   "source": [
    "## Mass trace detection"
   ]
  },
  {
   "cell_type": "code",
   "execution_count": 11,
   "metadata": {},
   "outputs": [],
   "source": [
    "def mass_trace_detection(experiment_path: str, experiment: Optional[oms.MSExperiment] = None,\n",
    "                         mass_error_ppm: float = 10.0, noise_threshold_int: float = 1000.0, reestimate_mt_sd:str=\"true\",\n",
    "                         quant_method:str=\"median\", trace_termination_criterion:str=\"outlier\", trace_termination_outliers:int=3,\n",
    "                         min_trace_length:float=5.0, max_trace_length:float=-1.0) -> list:\n",
    "    \"\"\"\n",
    "    Mass trace detection\n",
    "    \"\"\"\n",
    "    experiment = load_experiment(experiment_path, experiment)\n",
    "    \n",
    "    mass_traces = ([])\n",
    "    mtd = oms.MassTraceDetection()\n",
    "    mtd_par = mtd.getDefaults()\n",
    "    mtd_par.setValue(\"mass_error_ppm\", mass_error_ppm)\n",
    "    mtd_par.setValue(\"noise_threshold_int\", noise_threshold_int)\n",
    "    mtd_par.setValue(\"reestimate_mt_sd\", reestimate_mt_sd)              # Dynamic re-estimation of m/z variance\n",
    "    mtd_par.setValue(\"quant_method\", quant_method)                      # Method of quantification for mass traces. \"median\" is recommended for direct injection\n",
    "    mtd_par.setValue(\"trace_termination_criterion\", trace_termination_criterion) # outlier\n",
    "    mtd_par.setValue(\"trace_termination_outliers\", trace_termination_outliers)\n",
    "    mtd_par.setValue(\"min_trace_length\", min_trace_length)\n",
    "    mtd_par.setValue(\"max_trace_length\", max_trace_length)\n",
    "    mtd.setParameters(mtd_par)\n",
    "    mtd.run(experiment, mass_traces, 0)\n",
    "\n",
    "    return mass_traces\n"
   ]
  },
  {
   "cell_type": "code",
   "execution_count": 12,
   "metadata": {},
   "outputs": [
    {
     "name": "stdout",
     "output_type": "stream",
     "text": [
      "Param: b'mass_error_ppm' Value: 20.0 Description: Allowed mass deviation (in ppm).\n",
      "Param: b'noise_threshold_int' Value: 10.0 Description: Intensity threshold below which peaks are removed as noise.\n",
      "Param: b'chrom_peak_snr' Value: 3.0 Description: Minimum intensity above noise_threshold_int (signal-to-noise) a peak should have to be considered an apex.\n",
      "Param: b'reestimate_mt_sd' Value: true Description: Enables dynamic re-estimation of m/z variance during mass trace collection stage.\n",
      "Param: b'quant_method' Value: area Description: Method of quantification for mass traces. For LC data 'area' is recommended, 'median' for direct injection data. 'max_height' simply uses the most intense peak in the trace.\n",
      "Param: b'trace_termination_criterion' Value: outlier Description: Termination criterion for the extension of mass traces. In 'outlier' mode, trace extension cancels if a predefined number of consecutive outliers are found (see trace_termination_outliers parameter). In 'sample_rate' mode, trace extension in both directions stops if ratio of found peaks versus visited spectra falls below the 'min_sample_rate' threshold.\n",
      "Param: b'trace_termination_outliers' Value: 5 Description: Mass trace extension in one direction cancels if this number of consecutive spectra with no detectable peaks is reached.\n",
      "Param: b'min_sample_rate' Value: 0.5 Description: Minimum fraction of scans along the mass trace that must contain a peak.\n",
      "Param: b'min_trace_length' Value: 5.0 Description: Minimum expected length of a mass trace (in seconds).\n",
      "Param: b'max_trace_length' Value: -1.0 Description: Maximum expected length of a mass trace (in seconds). Set to a negative value to disable maximal length check during mass trace detection.\n"
     ]
    }
   ],
   "source": [
    "mtd = oms.MassTraceDetection()\n",
    "mtd_par = mtd.getDefaults()\n",
    "print_params(mtd_par)"
   ]
  },
  {
   "cell_type": "code",
   "execution_count": null,
   "metadata": {},
   "outputs": [],
   "source": []
  }
 ],
 "metadata": {
  "kernelspec": {
   "display_name": "gemml",
   "language": "python",
   "name": "python3"
  },
  "language_info": {
   "codemirror_mode": {
    "name": "ipython",
    "version": 3
   },
   "file_extension": ".py",
   "mimetype": "text/x-python",
   "name": "python",
   "nbconvert_exporter": "python",
   "pygments_lexer": "ipython3",
   "version": "3.11.7"
  }
 },
 "nbformat": 4,
 "nbformat_minor": 2
}
