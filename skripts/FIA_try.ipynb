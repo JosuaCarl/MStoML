{
 "cells": [
  {
   "cell_type": "code",
   "execution_count": null,
   "metadata": {
    "is_executing": true
   },
   "outputs": [],
   "source": [
    "# Imports\n",
    "import datetime\n",
    "import json\n",
    "from numpy import *\n",
    "import pandas as pd\n",
    "import pyopenms as oms\n",
    "import matplotlib.pyplot as plt\n",
    "import seaborn as sns\n",
    "import plotly.graph_objects as go\n",
    "import plotly.express as px\n",
    "from tqdm import tqdm\n",
    "\n",
    "# Ignore seaborn warning for future deprecation of module part\n",
    "import warnings\n",
    "warnings.simplefilter(action='ignore', category=FutureWarning)\n",
    "\n",
    "# import methods from FIA python script\n",
    "from FIA import *"
   ]
  },
  {
   "cell_type": "markdown",
   "metadata": {},
   "source": [
    "## Loading\n",
    "Reads in files"
   ]
  },
  {
   "cell_type": "code",
   "execution_count": 2,
   "metadata": {},
   "outputs": [],
   "source": [
    "experiment_path = \"../data/example data/exampleA_ecolistrains/mg1655_P3-A8_neg.mzXML\"\n",
    "experiment = read_mzxml(experiment_path)"
   ]
  },
  {
   "cell_type": "markdown",
   "metadata": {},
   "source": [
    "## Data preparation"
   ]
  },
  {
   "cell_type": "markdown",
   "metadata": {},
   "source": [
    "### Limit spectrum\n",
    "Limits range and size by subsampling"
   ]
  },
  {
   "cell_type": "code",
   "execution_count": 3,
   "metadata": {},
   "outputs": [],
   "source": [
    "# lim_exp = limit_experiment(experiment, 51, 1699, 10**6, deepcopy=True)"
   ]
  },
  {
   "cell_type": "code",
   "execution_count": 4,
   "metadata": {},
   "outputs": [],
   "source": [
    "# quick_plot(spectrum=lim_exp[0], xlim=[60.975, 61.04], plottype=\"line\")"
   ]
  },
  {
   "cell_type": "markdown",
   "metadata": {},
   "source": [
    "### Smoothing\n",
    "Can reduce noise, if peaks are non-Gaussian"
   ]
  },
  {
   "cell_type": "code",
   "execution_count": 5,
   "metadata": {},
   "outputs": [],
   "source": [
    "# smooth_exp = smooth_spectra(lim_exp, 0.01, deepcopy=True)"
   ]
  },
  {
   "cell_type": "code",
   "execution_count": 6,
   "metadata": {},
   "outputs": [],
   "source": [
    "# quick_plot(spectrum=smooth_exp[0], xlim=[60.975, 61.04], plottype=\"line\")"
   ]
  },
  {
   "cell_type": "markdown",
   "metadata": {},
   "source": [
    "$\\Rightarrow$ Smoothing not needed, as peaks are sufficently on point and approximately gaussian in distribution"
   ]
  },
  {
   "cell_type": "markdown",
   "metadata": {},
   "source": [
    "### Centroiding\n",
    "Reduces data, while retaining peaks"
   ]
  },
  {
   "cell_type": "code",
   "execution_count": 7,
   "metadata": {},
   "outputs": [],
   "source": [
    "# quick_plot(spectrum=smooth_exp[0], xlim=[60.975, 61.04], plottype=\"scatter\")"
   ]
  },
  {
   "cell_type": "code",
   "execution_count": 8,
   "metadata": {},
   "outputs": [],
   "source": [
    "centroid_exp = centroid_experiment(experiment, deepcopy=True)"
   ]
  },
  {
   "cell_type": "code",
   "execution_count": 9,
   "metadata": {},
   "outputs": [],
   "source": [
    "oms.MzMLFile().store(\"../runs/centroided_experiment.MzML\", centroid_exp)"
   ]
  },
  {
   "cell_type": "code",
   "execution_count": 10,
   "metadata": {},
   "outputs": [],
   "source": [
    "# quick_plot(spectrum=centroid_exp[0], xlim=[60.975, 61.04], plottype=\"scatter\")"
   ]
  },
  {
   "cell_type": "markdown",
   "metadata": {},
   "source": [
    "### Merging\n",
    "Merging spectra in a specified retention time can increase detection"
   ]
  },
  {
   "cell_type": "code",
   "execution_count": 11,
   "metadata": {},
   "outputs": [],
   "source": [
    "# quick_plot(spectrum=centroid_exp[0])"
   ]
  },
  {
   "cell_type": "code",
   "execution_count": 12,
   "metadata": {},
   "outputs": [],
   "source": [
    "# merge_exp = merge_spectra(centroid_exp, block_size=centroid_exp.getNrSpectra(), deepcopy=True)"
   ]
  },
  {
   "cell_type": "code",
   "execution_count": 13,
   "metadata": {},
   "outputs": [],
   "source": [
    "# quick_plot(spectrum=merge_exp[0])"
   ]
  },
  {
   "cell_type": "markdown",
   "metadata": {},
   "source": [
    "### Normalization\n",
    "Useful to compare peaks over spectra"
   ]
  },
  {
   "cell_type": "code",
   "execution_count": 14,
   "metadata": {},
   "outputs": [],
   "source": [
    "# norm_exp = normalize_spectra(merge_exp, deepcopy=True)"
   ]
  },
  {
   "cell_type": "code",
   "execution_count": 15,
   "metadata": {},
   "outputs": [],
   "source": [
    "# quick_plot(spectrum=norm_exp[0], plottype=\"line\")"
   ]
  },
  {
   "cell_type": "markdown",
   "metadata": {},
   "source": [
    "### De-isotoping\n",
    "Adjusting mass/charge-ratio (m/z) for charge and isotopes"
   ]
  },
  {
   "cell_type": "code",
   "execution_count": 16,
   "metadata": {},
   "outputs": [],
   "source": [
    "# dynamic_plot(norm_exp)"
   ]
  },
  {
   "cell_type": "code",
   "execution_count": 17,
   "metadata": {},
   "outputs": [],
   "source": [
    "#deisotop_exp = deisotope_experiment(norm_exp,\n",
    "#                                    fragment_tolerance=0.1, fragment_unit_ppm=False, min_charge=1, max_charge=1,\n",
    "#                                    keep_only_deisotoped=True, min_isopeaks=2, max_isopeaks=5, make_single_charged=True, annotate_charge=True,\n",
    "#                                    annotate_iso_peak_count=True, use_decreasing_model=True, start_intensity_check=False, add_up_intensity=False,\n",
    "#                                    deepcopy=True)"
   ]
  },
  {
   "cell_type": "code",
   "execution_count": 18,
   "metadata": {},
   "outputs": [],
   "source": [
    "# dynamic_plot(deisotop_exp)"
   ]
  },
  {
   "cell_type": "markdown",
   "metadata": {},
   "source": [
    "### Merging positive & negative spectra"
   ]
  },
  {
   "cell_type": "code",
   "execution_count": 19,
   "metadata": {},
   "outputs": [],
   "source": [
    "# merge positive and negative spectra to amplify signals"
   ]
  },
  {
   "cell_type": "markdown",
   "metadata": {},
   "source": [
    "## Spectrum Alignment"
   ]
  },
  {
   "cell_type": "markdown",
   "metadata": {},
   "source": [
    "### Obtaining meabolites\n",
    "All possible metabolites from BiGG, ChEBI, ModelSEED, MetaNetX"
   ]
  },
  {
   "cell_type": "code",
   "execution_count": 20,
   "metadata": {},
   "outputs": [],
   "source": [
    "# from urllib.request import urlretrieve\n",
    "# urlretrieve( \"http://bigg.ucsd.edu/static/namespace/bigg_models_metabolites.txt\", \"../data/databases/BiGG/metabolites.txt\")\n",
    "# urlretrieve( \"https://ftp.ebi.ac.uk/pub/databases/chebi/Flat_file_tab_delimited/chemical_data.tsv\", \"../data/databases/ChEBI/chemical_data.tsv\")\n",
    "# urlretrieve( \"https://raw.githubusercontent.com/ModelSEED/ModelSEEDDatabase/master/Biochemistry/compounds.tsv\", \"../data/databases/SEED/compounds.tsv\")\n",
    "# urlretrieve( \"https://www.metanetx.org/cgi-bin/mnxget/mnxref/chem_prop.tsv\", \"../data/databases/MetaNetX/chem_prop.tsv\")"
   ]
  },
  {
   "cell_type": "markdown",
   "metadata": {},
   "source": [
    "### Condense metabolite info\n",
    "Parse data to obtain a smaller table with metabolite info"
   ]
  },
  {
   "cell_type": "code",
   "execution_count": 21,
   "metadata": {},
   "outputs": [],
   "source": [
    "# mnx_df = read_mnx(\"../data/databases/MetaNetX/chem_prop.tsv\")\n",
    "# mnx_to_oms(mnx_df).to_csv(\"../data/databases/compounds.tsv\", sep=\"\\t\", index=False)"
   ]
  },
  {
   "cell_type": "code",
   "execution_count": 22,
   "metadata": {},
   "outputs": [],
   "source": [
    "# compounds = pd.read_csv(\"../data/databases/compounds.tsv\", sep=\"\\t\")"
   ]
  },
  {
   "cell_type": "code",
   "execution_count": 23,
   "metadata": {},
   "outputs": [],
   "source": [
    "# join_df_by(mnx_df.dropna().iloc[0:10000], \"mass\", \"name\")"
   ]
  },
  {
   "cell_type": "markdown",
   "metadata": {},
   "source": [
    "MetaNetX is periodically refreshing their database from BiGG, ChEBI, enviPath, HMDB, KEGG, LipidMaps, MetaCyc, Reactome, SABIO-RK, SwissLipids and ModelSEED. Therefore it should hold the most complete database."
   ]
  },
  {
   "cell_type": "markdown",
   "metadata": {},
   "source": [
    "### Defining the theoretical spectrum\n",
    "Assigning theoretical spectra to the metabolites that can be present"
   ]
  },
  {
   "cell_type": "code",
   "execution_count": 24,
   "metadata": {},
   "outputs": [],
   "source": [
    "#seq = oms.EmpiricalFormula(\"H6C2H\")\n",
    "#seq_formula = oms.EmpiricalFormula(\"H6C2H-1\")\n",
    "#isotopes = seq_formula.getIsotopeDistribution(oms.CoarseIsotopePatternGenerator(6))"
   ]
  },
  {
   "cell_type": "code",
   "execution_count": 25,
   "metadata": {},
   "outputs": [],
   "source": [
    "#print(\"[M-H]- weight:\", seq_formula.getMonoWeight())"
   ]
  },
  {
   "cell_type": "markdown",
   "metadata": {},
   "source": [
    "### Assign metabolites to spectrum\n",
    "Detect peaks at metabolite masses and obtain relative prevalence"
   ]
  },
  {
   "cell_type": "code",
   "execution_count": 26,
   "metadata": {},
   "outputs": [],
   "source": [
    "# "
   ]
  },
  {
   "cell_type": "markdown",
   "metadata": {},
   "source": [
    "## Feature Detection"
   ]
  },
  {
   "cell_type": "markdown",
   "metadata": {},
   "source": [
    "### Untargeted"
   ]
  },
  {
   "cell_type": "code",
   "execution_count": 27,
   "metadata": {},
   "outputs": [
    {
     "name": "stdout",
     "output_type": "stream",
     "text": [
      "Progress of 'mass trace detection':\n",
      "-- done [took 0.24 s (CPU), 0.25 s (Wall)] -- \n",
      "Progress of 'elution peak detection':\n",
      "-- done [took 1.97 s (CPU), 0.31 s (Wall)] -- \n",
      "Progress of 'assembling mass traces to features':\n",
      "-- done [took 22.62 s (CPU), 4.29 s (Wall)] -- \n"
     ]
    },
    {
     "data": {
      "text/plain": [
       "<pyopenms._dataframes._FeatureMapDF at 0x7a413fb06f80>"
      ]
     },
     "execution_count": 27,
     "metadata": {},
     "output_type": "execute_result"
    }
   ],
   "source": [
    "untargeted_feature_detection(experiment, filepath=\"../runs/untargeted.featureXML\")"
   ]
  },
  {
   "cell_type": "code",
   "execution_count": 28,
   "metadata": {},
   "outputs": [],
   "source": [
    "import os\n",
    "\n",
    "def untargeted_feature_detection(filepath):\n",
    "    feature_maps = []\n",
    "    for file in mzML_files:\n",
    "        exp = oms.MSExperiment()\n",
    "        oms.MzMLFile().load(file, exp)\n",
    "\n",
    "        # mass trace detection\n",
    "        mass_traces = ( [] )\n",
    "        mtd = oms.MassTraceDetection()\n",
    "        mtd_par = ( mtd.getDefaults() )\n",
    "        mtd_par.setValue(\"mass_error_ppm\", 10.0)  # high-res instrument, orbitraps\n",
    "        mtd_par.setValue(\"noise_threshold_int\", 1.0e04 )  # data-dependent (usually works for orbitraps)\n",
    "        mtd.setParameters(mtd_par)  # set the new parameters\n",
    "        mtd.run(exp, mass_traces, 0)  # run mass trace detection\n",
    "\n",
    "        # elution peak detection\n",
    "        mass_traces_deconvol = []\n",
    "        epd = oms.ElutionPeakDetection()\n",
    "        epd_par = epd.getDefaults()\n",
    "        epd_par.setValue(\n",
    "            \"width_filtering\", \"fixed\"\n",
    "        )  # The fixed setting filters out mass traces outside the [min_fwhm: 1.0, max_fwhm: 60.0] interval\n",
    "        epd.setParameters(epd_par)\n",
    "        epd.detectPeaks(mass_traces, mass_traces_deconvol)\n",
    "\n",
    "        # feature detection\n",
    "        feature_map = oms.FeatureMap()  # output features\n",
    "        chrom_out = []  # output chromatograms\n",
    "        ffm = oms.FeatureFindingMetabo()\n",
    "        ffm_par = ffm.getDefaults()\n",
    "        ffm_par.setValue(\n",
    "            \"remove_single_traces\", \"true\"\n",
    "        )  # remove mass traces without satellite isotopic traces\n",
    "        ffm.setParameters(ffm_par)\n",
    "        ffm.run(mass_traces_deconvol, feature_map, chrom_out)\n",
    "        feature_map.setUniqueIds()  # Assigns a new, valid unique id per feature\n",
    "        feature_map.setPrimaryMSRunPath(\n",
    "            [file.encode()]\n",
    "        )  # Sets the file path to the primary MS run (usually the mzML file)\n",
    "        feature_maps.append(feature_map)"
   ]
  },
  {
   "cell_type": "markdown",
   "metadata": {},
   "source": [
    "### Targeted"
   ]
  },
  {
   "cell_type": "code",
   "execution_count": 31,
   "metadata": {},
   "outputs": [],
   "source": [
    "def targeted_feature_detection(experiment:oms.MSExperiment, experiment_file:str, compound_library_file:str, \n",
    "                               mz_window:float=5.0, rt_window:float=20.0, peak_width:float=3.0) -> oms.FeatureMap:\n",
    "    \"\"\"\n",
    "    @mz_window: ppm\n",
    "    @rt_window: s\n",
    "    @peak_width: s\n",
    "    returns: pyopenms.FeatureMap\n",
    "    \"\"\"\n",
    "    # read library generate a metabo table with compounds\n",
    "    metab_df = pd.read_csv(compound_library_file, sep=\"\\t\", engine=\"pyarrow\")\n",
    "    print(\"Defining metabolite table...\")\n",
    "    metab_table = []\n",
    "    metab_df.apply(lambda row: \n",
    "                    metab_table.append(oms.FeatureFinderMetaboIdentCompound(\n",
    "                                       row[\"CompoundName\"], row[\"SumFormula\"], row[\"Mass\"], [ int(row[\"Charge\"]) ],\n",
    "                                       [ row[\"RetentionTime\"] ], [ row[\"RetentionTimeRange\"] ], [ row[\"IsotopeDistribution\"] ] ) ), axis=1)\n",
    "    print(\"Metabolite table defined...\")\n",
    "\n",
    "    # FeatureMap to store results\n",
    "    fm = oms.FeatureMap()\n",
    "\n",
    "    # create FeatureFinderAlgorithmMetaboIdent and assign ms data\n",
    "    ff = oms.FeatureFinderAlgorithmMetaboIdent()\n",
    "    ff.setMSData(experiment)\n",
    "    params = ff.getParameters()\n",
    "    params[b\"extract:mz_window\"] = mz_window\n",
    "    params[b\"extract:rt_window\"] = rt_window\n",
    "    params[b\"detect:peak_width\"] = peak_width\n",
    "    ff.setParameters(params)\n",
    "    print(\"Feature finder parameters set...\")\n",
    "\n",
    "    # run the FeatureFinderMetaboIdent with the metabo_table and mzML file path -> store results in fm\n",
    "    ff.run(metab_table, fm, experiment_file)\n",
    "    print(\"Feature map created.\")\n",
    "\n",
    "    return fm"
   ]
  },
  {
   "cell_type": "code",
   "execution_count": 32,
   "metadata": {},
   "outputs": [
    {
     "name": "stdout",
     "output_type": "stream",
     "text": [
      "Defining metabolite table...\n",
      "Metabolite table defined...\n",
      "Feature finder parameters set...\n",
      "Path or file name of primary MS run is empty. This might be the result of incomplete conversion. Not that tracing back e.g. identification results to the original file might more difficult.\n",
      "To ensure tracability of results please prefer mzML files as primary MS run.\n",
      "<Path or file name of primary MS run is empty. This might be the result of incomplete conversion. Not that tracing back e.g. identification results to the original file might more difficult.> occurred 2 times\n",
      "Filename: ''\n"
     ]
    },
    {
     "ename": "RuntimeError",
     "evalue": "'Ra' found. in: Unknown element 'Ra'",
     "output_type": "error",
     "traceback": [
      "\u001B[0;31m---------------------------------------------------------------------------\u001B[0m",
      "\u001B[0;31mRuntimeError\u001B[0m                              Traceback (most recent call last)",
      "\u001B[1;32m/mnt/Data/Uni/Nextcloud/aktuelles_Semester/Thesis/Link Lab/skripts/FIA_try.ipynb Cell 49\u001B[0m line \u001B[0;36m1\n\u001B[0;32m----> <a href='vscode-notebook-cell:/mnt/Data/Uni/Nextcloud/aktuelles_Semester/Thesis/Link%20Lab/skripts/FIA_try.ipynb#Y112sZmlsZQ%3D%3D?line=0'>1</a>\u001B[0m fm \u001B[39m=\u001B[39m targeted_feature_detection(centroid_exp, \u001B[39m\"\u001B[39m\u001B[39m\"\u001B[39m, \u001B[39m\"\u001B[39m\u001B[39m../data/databases/compounds.tsv\u001B[39m\u001B[39m\"\u001B[39m, mz_window\u001B[39m=\u001B[39m\u001B[39m5.0\u001B[39m, rt_window\u001B[39m=\u001B[39m\u001B[39m500.0\u001B[39m, peak_width\u001B[39m=\u001B[39m\u001B[39m3.0\u001B[39m)\n\u001B[1;32m      <a href='vscode-notebook-cell:/mnt/Data/Uni/Nextcloud/aktuelles_Semester/Thesis/Link%20Lab/skripts/FIA_try.ipynb#Y112sZmlsZQ%3D%3D?line=1'>2</a>\u001B[0m oms\u001B[39m.\u001B[39mFeatureXMLFile()\u001B[39m.\u001B[39mstore(\u001B[39m\"\u001B[39m\u001B[39m../runs/targeted.featureXML\u001B[39m\u001B[39m\"\u001B[39m, fm)\n",
      "\u001B[1;32m/mnt/Data/Uni/Nextcloud/aktuelles_Semester/Thesis/Link Lab/skripts/FIA_try.ipynb Cell 49\u001B[0m line \u001B[0;36m3\n\u001B[1;32m     <a href='vscode-notebook-cell:/mnt/Data/Uni/Nextcloud/aktuelles_Semester/Thesis/Link%20Lab/skripts/FIA_try.ipynb#Y112sZmlsZQ%3D%3D?line=29'>30</a>\u001B[0m \u001B[39mprint\u001B[39m(\u001B[39m\"\u001B[39m\u001B[39mFeature finder parameters set...\u001B[39m\u001B[39m\"\u001B[39m)\n\u001B[1;32m     <a href='vscode-notebook-cell:/mnt/Data/Uni/Nextcloud/aktuelles_Semester/Thesis/Link%20Lab/skripts/FIA_try.ipynb#Y112sZmlsZQ%3D%3D?line=31'>32</a>\u001B[0m \u001B[39m# run the FeatureFinderMetaboIdent with the metabo_table and mzML file path -> store results in fm\u001B[39;00m\n\u001B[0;32m---> <a href='vscode-notebook-cell:/mnt/Data/Uni/Nextcloud/aktuelles_Semester/Thesis/Link%20Lab/skripts/FIA_try.ipynb#Y112sZmlsZQ%3D%3D?line=32'>33</a>\u001B[0m ff\u001B[39m.\u001B[39mrun(metab_table, fm, experiment_file)\n\u001B[1;32m     <a href='vscode-notebook-cell:/mnt/Data/Uni/Nextcloud/aktuelles_Semester/Thesis/Link%20Lab/skripts/FIA_try.ipynb#Y112sZmlsZQ%3D%3D?line=33'>34</a>\u001B[0m \u001B[39mprint\u001B[39m(\u001B[39m\"\u001B[39m\u001B[39mFeature map created.\u001B[39m\u001B[39m\"\u001B[39m)\n\u001B[1;32m     <a href='vscode-notebook-cell:/mnt/Data/Uni/Nextcloud/aktuelles_Semester/Thesis/Link%20Lab/skripts/FIA_try.ipynb#Y112sZmlsZQ%3D%3D?line=35'>36</a>\u001B[0m \u001B[39mreturn\u001B[39;00m fm\n",
      "File \u001B[0;32mpyopenms/_pyopenms_7.pyx:3782\u001B[0m, in \u001B[0;36mpyopenms._pyopenms_7.FeatureFinderAlgorithmMetaboIdent.run\u001B[0;34m()\u001B[0m\n",
      "\u001B[0;31mRuntimeError\u001B[0m: 'Ra' found. in: Unknown element 'Ra'"
     ]
    }
   ],
   "source": [
    "fm = targeted_feature_detection(centroid_exp, \"\", \"../data/databases/compounds.tsv\", mz_window=5.0, rt_window=500.0, peak_width=3.0)\n",
    "oms.FeatureXMLFile().store(\"../runs/targeted.featureXML\", fm)"
   ]
  },
  {
   "cell_type": "markdown",
   "metadata": {},
   "source": [
    "### Plot"
   ]
  },
  {
   "cell_type": "code",
   "execution_count": null,
   "metadata": {},
   "outputs": [],
   "source": [
    "feature_map = read_feature_map_XML(\"../runs/untargeted.featureXML\")"
   ]
  },
  {
   "cell_type": "code",
   "execution_count": null,
   "metadata": {},
   "outputs": [],
   "source": [
    "def extract_feature_coord(feature, mzs, retention_times, intensities, labels, sub:bool=False):\n",
    "    for hull in feature.getConvexHulls():\n",
    "        hull_split = hsplit(hull.getHullPoints(), 2)\n",
    "        if sub:\n",
    "            mzs = append(mzs, tile(feature.getMZ(), len(hull_split[0])))\n",
    "            retention_times = append(retention_times, hull_split[1])\n",
    "            intensities = append(intensities, hull_split[0])\n",
    "            labels = append(labels, tile(feature.getMetaValue(\"label\"), len(hull_split[0])))\n",
    "        else:\n",
    "            mzs = append(mzs, feature.getMZ())\n",
    "            retention_times = append(retention_times, feature.getRT())\n",
    "            intensities = append(intensities, feature.getIntensity())\n",
    "            labels = append(labels, feature.getMetaValue(\"label\"))\n",
    "        \n",
    "\n",
    "    return [mzs, retention_times, intensities, labels]\n",
    "\n",
    "def plot_features_3D(feature_map:oms.FeatureMap, plottype:str=None) -> None:\n",
    "    \"\"\"\n",
    "    Represents found features in 3D\n",
    "    \"\"\"\n",
    "    mzs = empty([0])\n",
    "    retention_times = empty([0])\n",
    "    intensities = empty([0])\n",
    "    labels = empty([0])\n",
    "\n",
    "    for feature in feature_map:\n",
    "        if feature.getSubordinates():\n",
    "            for i, sub_feat in enumerate(feature.getSubordinates()):\n",
    "                mzs, retention_times, intensities, labels = extract_feature_coord(sub_feat, mzs, retention_times, intensities, labels, True)\n",
    "        else:\n",
    "            mzs, retention_times, intensities, labels = extract_feature_coord(feature, mzs, retention_times, intensities, labels)\n",
    "\n",
    "    df = pd.DataFrame({\"m/z\": mzs, \"rt\": retention_times, \"intensity\": intensities, \"labels\": labels})\n",
    "    \n",
    "    if plottype == \"surface\":\n",
    "        fig = go.Figure(data=[go.Surface(z=df)])\n",
    "        fig.update_layout(title='3D plot of features', autosize=False,\n",
    "                    width=500, height=500,\n",
    "                    margin=dict(l=65, r=50, b=65, t=90))\n",
    "    elif plottype == \"line\":\n",
    "        fig = px.line_3d(data_frame=df, x=\"m/z\", y=\"rt\", z=\"intensity\", color=\"labels\")\n",
    "    elif plottype == \"scatter\":\n",
    "        fig = px.scatter_3d(data_frame=df, x=\"m/z\", y=\"rt\", z=\"intensity\", color=\"labels\", size_max=8)\n",
    " \n",
    "    if plottype:\n",
    "        fig.show()\n",
    "    \n",
    "    return df"
   ]
  },
  {
   "cell_type": "code",
   "execution_count": null,
   "metadata": {},
   "outputs": [
    {
     "data": {
      "application/vnd.plotly.v1+json": {
       "config": {
        "plotlyServerURL": "https://plot.ly"
       },
       "data": [
        {
         "hovertemplate": "labels=T2288.1_T6720.1<br>m/z=%{x}<br>rt=%{y}<br>intensity=%{z}<extra></extra>",
         "legendgroup": "T2288.1_T6720.1",
         "marker": {
          "color": "#636efa",
          "symbol": "circle"
         },
         "mode": "markers",
         "name": "T2288.1_T6720.1",
         "scene": "scene",
         "showlegend": true,
         "type": "scatter3d",
         "x": [
          57.03270072990669,
          57.03270072990669
         ],
         "y": [
          7.304,
          7.304
         ],
         "z": [
          323343,
          323343
         ]
        },
        {
         "hovertemplate": "labels=T2833.1_T5370.1<br>m/z=%{x}<br>rt=%{y}<br>intensity=%{z}<extra></extra>",
         "legendgroup": "T2833.1_T5370.1",
         "marker": {
          "color": "#EF553B",
          "symbol": "circle"
         },
         "mode": "markers",
         "name": "T2833.1_T5370.1",
         "scene": "scene",
         "showlegend": true,
         "type": "scatter3d",
         "x": [
          57.03623327097393,
          57.03623327097393
         ],
         "y": [
          25.165,
          25.165
         ],
         "z": [
          612747.625,
          612747.625
         ]
        },
        {
         "hovertemplate": "labels=T3214_T5737<br>m/z=%{x}<br>rt=%{y}<br>intensity=%{z}<extra></extra>",
         "legendgroup": "T3214_T5737",
         "marker": {
          "color": "#00cc96",
          "symbol": "circle"
         },
         "mode": "markers",
         "name": "T3214_T5737",
         "scene": "scene",
         "showlegend": true,
         "type": "scatter3d",
         "x": [
          58.00639133810854,
          58.00639133810854
         ],
         "y": [
          13.019,
          13.019
         ],
         "z": [
          278096.40625,
          278096.40625
         ]
        },
        {
         "hovertemplate": "labels=T125.2_T8609<br>m/z=%{x}<br>rt=%{y}<br>intensity=%{z}<extra></extra>",
         "legendgroup": "T125.2_T8609",
         "marker": {
          "color": "#ab63fa",
          "symbol": "circle"
         },
         "mode": "markers",
         "name": "T125.2_T8609",
         "scene": "scene",
         "showlegend": true,
         "type": "scatter3d",
         "x": [
          59.014054818614014,
          59.014054818614014
         ],
         "y": [
          13.019,
          13.019
         ],
         "z": [
          3156673,
          3156673
         ]
        },
        {
         "hovertemplate": "labels=T2245_T9449<br>m/z=%{x}<br>rt=%{y}<br>intensity=%{z}<extra></extra>",
         "legendgroup": "T2245_T9449",
         "marker": {
          "color": "#FFA15A",
          "symbol": "circle"
         },
         "mode": "markers",
         "name": "T2245_T9449",
         "scene": "scene",
         "showlegend": true,
         "type": "scatter3d",
         "x": [
          59.01585099773514,
          59.01585099773514
         ],
         "y": [
          14.448,
          14.448
         ],
         "z": [
          318173.90625,
          318173.90625
         ]
        },
        {
         "hovertemplate": "labels=T16.1_T2466.1_T3912.1<br>m/z=%{x}<br>rt=%{y}<br>intensity=%{z}<extra></extra>",
         "legendgroup": "T16.1_T2466.1_T3912.1",
         "marker": {
          "color": "#19d3f3",
          "symbol": "circle"
         },
         "mode": "markers",
         "name": "T16.1_T2466.1_T3912.1",
         "scene": "scene",
         "showlegend": true,
         "type": "scatter3d",
         "x": [
          59.04999968472938,
          59.04999968472938,
          59.04999968472938
         ],
         "y": [
          5.875,
          5.875,
          5.875
         ],
         "z": [
          18322360,
          18322360,
          18322360
         ]
        },
        {
         "hovertemplate": "labels=T17.1_T1216.1<br>m/z=%{x}<br>rt=%{y}<br>intensity=%{z}<extra></extra>",
         "legendgroup": "T17.1_T1216.1",
         "marker": {
          "color": "#FF6692",
          "symbol": "circle"
         },
         "mode": "markers",
         "name": "T17.1_T1216.1",
         "scene": "scene",
         "showlegend": true,
         "type": "scatter3d",
         "x": [
          59.05059848432001,
          59.05059848432001
         ],
         "y": [
          5.875,
          5.875
         ],
         "z": [
          17756780,
          17756780
         ]
        },
        {
         "hovertemplate": "labels=T6374.2_T890.2<br>m/z=%{x}<br>rt=%{y}<br>intensity=%{z}<extra></extra>",
         "legendgroup": "T6374.2_T890.2",
         "marker": {
          "color": "#B6E880",
          "symbol": "circle"
         },
         "mode": "markers",
         "name": "T6374.2_T890.2",
         "scene": "scene",
         "showlegend": true,
         "type": "scatter3d",
         "x": [
          60.00740066082733,
          60.00740066082733
         ],
         "y": [
          26.594,
          26.594
         ],
         "z": [
          156191.296875,
          156191.296875
         ]
        },
        {
         "hovertemplate": "labels=T6374.1_T890.1_T8958.1<br>m/z=%{x}<br>rt=%{y}<br>intensity=%{z}<extra></extra>",
         "legendgroup": "T6374.1_T890.1_T8958.1",
         "marker": {
          "color": "#FF97FF",
          "symbol": "circle"
         },
         "mode": "markers",
         "name": "T6374.1_T890.1_T8958.1",
         "scene": "scene",
         "showlegend": true,
         "type": "scatter3d",
         "x": [
          60.007425823157746,
          60.007425823157746,
          60.007425823157746
         ],
         "y": [
          8.018,
          8.018,
          8.018
         ],
         "z": [
          106256.296875,
          106256.296875,
          106256.296875
         ]
        },
        {
         "hovertemplate": "labels=T3526.2_T380.2<br>m/z=%{x}<br>rt=%{y}<br>intensity=%{z}<extra></extra>",
         "legendgroup": "T3526.2_T380.2",
         "marker": {
          "color": "#FECB52",
          "symbol": "circle"
         },
         "mode": "markers",
         "name": "T3526.2_T380.2",
         "scene": "scene",
         "showlegend": true,
         "type": "scatter3d",
         "x": [
          60.0080055936273,
          60.0080055936273
         ],
         "y": [
          21.593,
          21.593
         ],
         "z": [
          279831.6875,
          279831.6875
         ]
        },
        {
         "hovertemplate": "labels=T3526.1_T380.1<br>m/z=%{x}<br>rt=%{y}<br>intensity=%{z}<extra></extra>",
         "legendgroup": "T3526.1_T380.1",
         "marker": {
          "color": "#636efa",
          "symbol": "circle"
         },
         "mode": "markers",
         "name": "T3526.1_T380.1",
         "scene": "scene",
         "showlegend": true,
         "type": "scatter3d",
         "x": [
          60.008029702177296,
          60.008029702177296
         ],
         "y": [
          8.733,
          8.733
         ],
         "z": [
          196919.703125,
          196919.703125
         ]
        },
        {
         "hovertemplate": "labels=T2029.2_T205.2<br>m/z=%{x}<br>rt=%{y}<br>intensity=%{z}<extra></extra>",
         "legendgroup": "T2029.2_T205.2",
         "marker": {
          "color": "#EF553B",
          "symbol": "circle"
         },
         "mode": "markers",
         "name": "T2029.2_T205.2",
         "scene": "scene",
         "showlegend": true,
         "type": "scatter3d",
         "x": [
          60.00860852819246,
          60.00860852819246
         ],
         "y": [
          21.593,
          21.593
         ],
         "z": [
          455898,
          455898
         ]
        },
        {
         "hovertemplate": "labels=T2029.1_T205.1<br>m/z=%{x}<br>rt=%{y}<br>intensity=%{z}<extra></extra>",
         "legendgroup": "T2029.1_T205.1",
         "marker": {
          "color": "#00cc96",
          "symbol": "circle"
         },
         "mode": "markers",
         "name": "T2029.1_T205.1",
         "scene": "scene",
         "showlegend": true,
         "type": "scatter3d",
         "x": [
          60.00863368662022,
          60.00863368662022
         ],
         "y": [
          7.304,
          7.304
         ],
         "z": [
          318773.3125,
          318773.3125
         ]
        },
        {
         "hovertemplate": "labels=T1668.2_T149.2<br>m/z=%{x}<br>rt=%{y}<br>intensity=%{z}<extra></extra>",
         "legendgroup": "T1668.2_T149.2",
         "marker": {
          "color": "#ab63fa",
          "symbol": "circle"
         },
         "mode": "markers",
         "name": "T1668.2_T149.2",
         "scene": "scene",
         "showlegend": true,
         "type": "scatter3d",
         "x": [
          60.00921195445214,
          60.00921195445214
         ],
         "y": [
          21.593,
          21.593
         ],
         "z": [
          520225,
          520225
         ]
        },
        {
         "hovertemplate": "labels=T1668.1_T149.1<br>m/z=%{x}<br>rt=%{y}<br>intensity=%{z}<extra></extra>",
         "legendgroup": "T1668.1_T149.1",
         "marker": {
          "color": "#FFA15A",
          "symbol": "circle"
         },
         "mode": "markers",
         "name": "T1668.1_T149.1",
         "scene": "scene",
         "showlegend": true,
         "type": "scatter3d",
         "x": [
          60.009237328778575,
          60.009237328778575
         ],
         "y": [
          6.59,
          6.59
         ],
         "z": [
          364206,
          364206
         ]
        },
        {
         "hovertemplate": "labels=T2275.1_T201.1<br>m/z=%{x}<br>rt=%{y}<br>intensity=%{z}<extra></extra>",
         "legendgroup": "T2275.1_T201.1",
         "marker": {
          "color": "#19d3f3",
          "symbol": "circle"
         },
         "mode": "markers",
         "name": "T2275.1_T201.1",
         "scene": "scene",
         "showlegend": true,
         "type": "scatter3d",
         "x": [
          60.00984144710879,
          60.00984144710879
         ],
         "y": [
          7.304,
          7.304
         ],
         "z": [
          280405.5,
          280405.5
         ]
        },
        {
         "hovertemplate": "labels=T6934.1_T10126.1<br>m/z=%{x}<br>rt=%{y}<br>intensity=%{z}<extra></extra>",
         "legendgroup": "T6934.1_T10126.1",
         "marker": {
          "color": "#FF6692",
          "symbol": "circle"
         },
         "mode": "markers",
         "name": "T6934.1_T10126.1",
         "scene": "scene",
         "showlegend": true,
         "type": "scatter3d",
         "x": [
          60.98776871788015,
          60.98776871788015
         ],
         "y": [
          20.878,
          20.878
         ],
         "z": [
          241566,
          241566
         ]
        },
        {
         "hovertemplate": "labels=T846_T1070.1<br>m/z=%{x}<br>rt=%{y}<br>intensity=%{z}<extra></extra>",
         "legendgroup": "T846_T1070.1",
         "marker": {
          "color": "#B6E880",
          "symbol": "circle"
         },
         "mode": "markers",
         "name": "T846_T1070.1",
         "scene": "scene",
         "showlegend": true,
         "type": "scatter3d",
         "x": [
          60.99083537631889,
          60.99083537631889
         ],
         "y": [
          14.448,
          14.448
         ],
         "z": [
          377408.59375,
          377408.59375
         ]
        },
        {
         "hovertemplate": "labels=T21.1_T2655.1<br>m/z=%{x}<br>rt=%{y}<br>intensity=%{z}<extra></extra>",
         "legendgroup": "T21.1_T2655.1",
         "marker": {
          "color": "#FF97FF",
          "symbol": "circle"
         },
         "mode": "markers",
         "name": "T21.1_T2655.1",
         "scene": "scene",
         "showlegend": true,
         "type": "scatter3d",
         "x": [
          60.99203403362186,
          60.99203403362186
         ],
         "y": [
          10.162,
          10.162
         ],
         "z": [
          34887360,
          34887360
         ]
        },
        {
         "hovertemplate": "labels=T3.2_T618.2_T4636.2<br>m/z=%{x}<br>rt=%{y}<br>intensity=%{z}<extra></extra>",
         "legendgroup": "T3.2_T618.2_T4636.2",
         "marker": {
          "color": "#FECB52",
          "symbol": "circle"
         },
         "mode": "markers",
         "name": "T3.2_T618.2_T4636.2",
         "scene": "scene",
         "showlegend": true,
         "type": "scatter3d",
         "x": [
          60.99262660232856,
          60.99262660232856,
          60.99262660232856
         ],
         "y": [
          27.308,
          27.308,
          27.308
         ],
         "z": [
          68728808,
          68728808,
          68728808
         ]
        },
        {
         "hovertemplate": "labels=T1.1_T1378.1_T10086.1<br>m/z=%{x}<br>rt=%{y}<br>intensity=%{z}<extra></extra>",
         "legendgroup": "T1.1_T1378.1_T10086.1",
         "marker": {
          "color": "#636efa",
          "symbol": "circle"
         },
         "mode": "markers",
         "name": "T1.1_T1378.1_T10086.1",
         "scene": "scene",
         "showlegend": true,
         "type": "scatter3d",
         "x": [
          60.99325593892073,
          60.99325593892073,
          60.99325593892073
         ],
         "y": [
          6.59,
          6.59,
          6.59
         ],
         "z": [
          68791536,
          68791536,
          68791536
         ]
        },
        {
         "hovertemplate": "labels=T436.2_T10086.2<br>m/z=%{x}<br>rt=%{y}<br>intensity=%{z}<extra></extra>",
         "legendgroup": "T436.2_T10086.2",
         "marker": {
          "color": "#EF553B",
          "symbol": "circle"
         },
         "mode": "markers",
         "name": "T436.2_T10086.2",
         "scene": "scene",
         "showlegend": true,
         "type": "scatter3d",
         "x": [
          61.9963151912744,
          61.9963151912744
         ],
         "y": [
          28.022,
          28.022
         ],
         "z": [
          1131138,
          1131138
         ]
        },
        {
         "hovertemplate": "labels=T128.2_T8996.1<br>m/z=%{x}<br>rt=%{y}<br>intensity=%{z}<extra></extra>",
         "legendgroup": "T128.2_T8996.1",
         "marker": {
          "color": "#00cc96",
          "symbol": "circle"
         },
         "mode": "markers",
         "name": "T128.2_T8996.1",
         "scene": "scene",
         "showlegend": true,
         "type": "scatter3d",
         "x": [
          71.01376742856986,
          71.01376742856986
         ],
         "y": [
          15.877,
          15.877
         ],
         "z": [
          3348325,
          3348325
         ]
        },
        {
         "hovertemplate": "labels=T283.2_T7699.1<br>m/z=%{x}<br>rt=%{y}<br>intensity=%{z}<extra></extra>",
         "legendgroup": "T283.2_T7699.1",
         "marker": {
          "color": "#ab63fa",
          "symbol": "circle"
         },
         "mode": "markers",
         "name": "T283.2_T7699.1",
         "scene": "scene",
         "showlegend": true,
         "type": "scatter3d",
         "x": [
          71.015088939906,
          71.015088939906
         ],
         "y": [
          15.877,
          15.877
         ],
         "z": [
          1766316,
          1766316
         ]
        },
        {
         "hovertemplate": "labels=T950.1_T7751<br>m/z=%{x}<br>rt=%{y}<br>intensity=%{z}<extra></extra>",
         "legendgroup": "T950.1_T7751",
         "marker": {
          "color": "#FFA15A",
          "symbol": "circle"
         },
         "mode": "markers",
         "name": "T950.1_T7751",
         "scene": "scene",
         "showlegend": true,
         "type": "scatter3d",
         "x": [
          71.0157462134704,
          71.0157462134704
         ],
         "y": [
          15.877,
          15.877
         ],
         "z": [
          699801.8125,
          699801.8125
         ]
        },
        {
         "hovertemplate": "labels=T3451.1_T2406<br>m/z=%{x}<br>rt=%{y}<br>intensity=%{z}<extra></extra>",
         "legendgroup": "T3451.1_T2406",
         "marker": {
          "color": "#19d3f3",
          "symbol": "circle"
         },
         "mode": "markers",
         "name": "T3451.1_T2406",
         "scene": "scene",
         "showlegend": true,
         "type": "scatter3d",
         "x": [
          78.95295480393925,
          78.95295480393925
         ],
         "y": [
          13.734,
          13.734
         ],
         "z": [
          208644.296875,
          208644.296875
         ]
        },
        {
         "hovertemplate": "labels=T860.1_T2637.1_T8971.1<br>m/z=%{x}<br>rt=%{y}<br>intensity=%{z}<extra></extra>",
         "legendgroup": "T860.1_T2637.1_T8971.1",
         "marker": {
          "color": "#FF6692",
          "symbol": "circle"
         },
         "mode": "markers",
         "name": "T860.1_T2637.1_T8971.1",
         "scene": "scene",
         "showlegend": true,
         "type": "scatter3d",
         "x": [
          78.95502806239092,
          78.95502806239092,
          78.95502806239092
         ],
         "y": [
          13.734,
          13.734,
          13.734
         ],
         "z": [
          644620.6875,
          644620.6875,
          644620.6875
         ]
        },
        {
         "hovertemplate": "labels=T35.2_T2740<br>m/z=%{x}<br>rt=%{y}<br>intensity=%{z}<extra></extra>",
         "legendgroup": "T35.2_T2740",
         "marker": {
          "color": "#B6E880",
          "symbol": "circle"
         },
         "mode": "markers",
         "name": "T35.2_T2740",
         "scene": "scene",
         "showlegend": true,
         "type": "scatter3d",
         "x": [
          78.95708122892522,
          78.95708122892522
         ],
         "y": [
          13.734,
          13.734
         ],
         "z": [
          1660510,
          1660510
         ]
        },
        {
         "hovertemplate": "labels=T20.2_T4895.1_T9365.1<br>m/z=%{x}<br>rt=%{y}<br>intensity=%{z}<extra></extra>",
         "legendgroup": "T20.2_T4895.1_T9365.1",
         "marker": {
          "color": "#FF97FF",
          "symbol": "circle"
         },
         "mode": "markers",
         "name": "T20.2_T4895.1_T9365.1",
         "scene": "scene",
         "showlegend": true,
         "type": "scatter3d",
         "x": [
          78.95921242279368,
          78.95921242279368,
          78.95921242279368
         ],
         "y": [
          11.591,
          11.591,
          11.591
         ],
         "z": [
          19011830,
          19011830,
          19011830
         ]
        },
        {
         "hovertemplate": "labels=T1861.1_T9537<br>m/z=%{x}<br>rt=%{y}<br>intensity=%{z}<extra></extra>",
         "legendgroup": "T1861.1_T9537",
         "marker": {
          "color": "#FECB52",
          "symbol": "circle"
         },
         "mode": "markers",
         "name": "T1861.1_T9537",
         "scene": "scene",
         "showlegend": true,
         "type": "scatter3d",
         "x": [
          79.95759871778115,
          79.95759871778115
         ],
         "y": [
          10.162,
          10.162
         ],
         "z": [
          365498.90625,
          365498.90625
         ]
        },
        {
         "hovertemplate": "labels=T47_T5719<br>m/z=%{x}<br>rt=%{y}<br>intensity=%{z}<extra></extra>",
         "legendgroup": "T47_T5719",
         "marker": {
          "color": "#636efa",
          "symbol": "circle"
         },
         "mode": "markers",
         "name": "T47_T5719",
         "scene": "scene",
         "showlegend": true,
         "type": "scatter3d",
         "x": [
          89.02194255811675,
          89.02194255811675
         ],
         "y": [
          13.734,
          13.734
         ],
         "z": [
          978680.8125,
          978680.8125
         ]
        },
        {
         "hovertemplate": "labels=T51.2_T3699.1<br>m/z=%{x}<br>rt=%{y}<br>intensity=%{z}<extra></extra>",
         "legendgroup": "T51.2_T3699.1",
         "marker": {
          "color": "#EF553B",
          "symbol": "circle"
         },
         "mode": "markers",
         "name": "T51.2_T3699.1",
         "scene": "scene",
         "showlegend": true,
         "type": "scatter3d",
         "x": [
          89.02276041716819,
          89.02276041716819
         ],
         "y": [
          13.734,
          13.734
         ],
         "z": [
          1341503,
          1341503
         ]
        },
        {
         "hovertemplate": "labels=T46.2_T3898.1<br>m/z=%{x}<br>rt=%{y}<br>intensity=%{z}<extra></extra>",
         "legendgroup": "T46.2_T3898.1",
         "marker": {
          "color": "#00cc96",
          "symbol": "circle"
         },
         "mode": "markers",
         "name": "T46.2_T3898.1",
         "scene": "scene",
         "showlegend": true,
         "type": "scatter3d",
         "x": [
          89.02431447330282,
          89.02431447330282
         ],
         "y": [
          15.877,
          15.877
         ],
         "z": [
          5847252,
          5847252
         ]
        },
        {
         "hovertemplate": "labels=T49.2_T3791.1<br>m/z=%{x}<br>rt=%{y}<br>intensity=%{z}<extra></extra>",
         "legendgroup": "T49.2_T3791.1",
         "marker": {
          "color": "#ab63fa",
          "symbol": "circle"
         },
         "mode": "markers",
         "name": "T49.2_T3791.1",
         "scene": "scene",
         "showlegend": true,
         "type": "scatter3d",
         "x": [
          89.02504801353042,
          89.02504801353042
         ],
         "y": [
          15.877,
          15.877
         ],
         "z": [
          5637460,
          5637460
         ]
        },
        {
         "hovertemplate": "labels=T84.2_T3141.1<br>m/z=%{x}<br>rt=%{y}<br>intensity=%{z}<extra></extra>",
         "legendgroup": "T84.2_T3141.1",
         "marker": {
          "color": "#FFA15A",
          "symbol": "circle"
         },
         "mode": "markers",
         "name": "T84.2_T3141.1",
         "scene": "scene",
         "showlegend": true,
         "type": "scatter3d",
         "x": [
          89.02578440054336,
          89.02578440054336
         ],
         "y": [
          15.877,
          15.877
         ],
         "z": [
          3569450,
          3569450
         ]
        },
        {
         "hovertemplate": "labels=T252.1_T3607<br>m/z=%{x}<br>rt=%{y}<br>intensity=%{z}<extra></extra>",
         "legendgroup": "T252.1_T3607",
         "marker": {
          "color": "#19d3f3",
          "symbol": "circle"
         },
         "mode": "markers",
         "name": "T252.1_T3607",
         "scene": "scene",
         "showlegend": true,
         "type": "scatter3d",
         "x": [
          89.02652047529608,
          89.02652047529608
         ],
         "y": [
          15.877,
          15.877
         ],
         "z": [
          1558132,
          1558132
         ]
        },
        {
         "hovertemplate": "labels=T1049.1_T5811<br>m/z=%{x}<br>rt=%{y}<br>intensity=%{z}<extra></extra>",
         "legendgroup": "T1049.1_T5811",
         "marker": {
          "color": "#FF6692",
          "symbol": "circle"
         },
         "mode": "markers",
         "name": "T1049.1_T5811",
         "scene": "scene",
         "showlegend": true,
         "type": "scatter3d",
         "x": [
          89.02726501135236,
          89.02726501135236
         ],
         "y": [
          15.877,
          15.877
         ],
         "z": [
          582756.375,
          582756.375
         ]
        },
        {
         "hovertemplate": "labels=T25.2_T7907_T5440.1<br>m/z=%{x}<br>rt=%{y}<br>intensity=%{z}<extra></extra>",
         "legendgroup": "T25.2_T7907_T5440.1",
         "marker": {
          "color": "#B6E880",
          "symbol": "circle"
         },
         "mode": "markers",
         "name": "T25.2_T7907_T5440.1",
         "scene": "scene",
         "showlegend": true,
         "type": "scatter3d",
         "x": [
          96.9606182871338,
          96.9606182871338,
          96.9606182871338
         ],
         "y": [
          10.162,
          10.162,
          10.162
         ],
         "z": [
          10726370,
          10726370,
          10726370
         ]
        },
        {
         "hovertemplate": "labels=T9638.1_T7663.1<br>m/z=%{x}<br>rt=%{y}<br>intensity=%{z}<extra></extra>",
         "legendgroup": "T9638.1_T7663.1",
         "marker": {
          "color": "#FF97FF",
          "symbol": "circle"
         },
         "mode": "markers",
         "name": "T9638.1_T7663.1",
         "scene": "scene",
         "showlegend": true,
         "type": "scatter3d",
         "x": [
          97.95853039817688,
          97.95853039817688
         ],
         "y": [
          10.162,
          10.162
         ],
         "z": [
          72934.7421875,
          72934.7421875
         ]
        },
        {
         "hovertemplate": "labels=T7091.1_T7979.1<br>m/z=%{x}<br>rt=%{y}<br>intensity=%{z}<extra></extra>",
         "legendgroup": "T7091.1_T7979.1",
         "marker": {
          "color": "#FECB52",
          "symbol": "circle"
         },
         "mode": "markers",
         "name": "T7091.1_T7979.1",
         "scene": "scene",
         "showlegend": true,
         "type": "scatter3d",
         "x": [
          97.95931400287564,
          97.95931400287564
         ],
         "y": [
          10.162,
          10.162
         ],
         "z": [
          104844.3984375,
          104844.3984375
         ]
        },
        {
         "hovertemplate": "labels=T147.2_T7784.1<br>m/z=%{x}<br>rt=%{y}<br>intensity=%{z}<extra></extra>",
         "legendgroup": "T147.2_T7784.1",
         "marker": {
          "color": "#636efa",
          "symbol": "circle"
         },
         "mode": "markers",
         "name": "T147.2_T7784.1",
         "scene": "scene",
         "showlegend": true,
         "type": "scatter3d",
         "x": [
          99.0429816796097,
          99.0429816796097
         ],
         "y": [
          15.877,
          15.877
         ],
         "z": [
          2857109,
          2857109
         ]
        },
        {
         "hovertemplate": "labels=T450.1_T8698.1<br>m/z=%{x}<br>rt=%{y}<br>intensity=%{z}<extra></extra>",
         "legendgroup": "T450.1_T8698.1",
         "marker": {
          "color": "#EF553B",
          "symbol": "circle"
         },
         "mode": "markers",
         "name": "T450.1_T8698.1",
         "scene": "scene",
         "showlegend": true,
         "type": "scatter3d",
         "x": [
          99.0446583357494,
          99.0446583357494
         ],
         "y": [
          17.306,
          17.306
         ],
         "z": [
          1092352,
          1092352
         ]
        },
        {
         "hovertemplate": "labels=T778.1_T7136.2<br>m/z=%{x}<br>rt=%{y}<br>intensity=%{z}<extra></extra>",
         "legendgroup": "T778.1_T7136.2",
         "marker": {
          "color": "#00cc96",
          "symbol": "circle"
         },
         "mode": "markers",
         "name": "T778.1_T7136.2",
         "scene": "scene",
         "showlegend": true,
         "type": "scatter3d",
         "x": [
          103.03340677626844,
          103.03340677626844
         ],
         "y": [
          13.734,
          13.734
         ],
         "z": [
          129936.796875,
          129936.796875
         ]
        },
        {
         "hovertemplate": "labels=T286.3_T4390.2<br>m/z=%{x}<br>rt=%{y}<br>intensity=%{z}<extra></extra>",
         "legendgroup": "T286.3_T4390.2",
         "marker": {
          "color": "#ab63fa",
          "symbol": "circle"
         },
         "mode": "markers",
         "name": "T286.3_T4390.2",
         "scene": "scene",
         "showlegend": true,
         "type": "scatter3d",
         "x": [
          103.03418093307918,
          103.03418093307918
         ],
         "y": [
          28.022,
          28.022
         ],
         "z": [
          346088.6875,
          346088.6875
         ]
        },
        {
         "hovertemplate": "labels=T79.2_T2998.3<br>m/z=%{x}<br>rt=%{y}<br>intensity=%{z}<extra></extra>",
         "legendgroup": "T79.2_T2998.3",
         "marker": {
          "color": "#FFA15A",
          "symbol": "circle"
         },
         "mode": "markers",
         "name": "T79.2_T2998.3",
         "scene": "scene",
         "showlegend": true,
         "type": "scatter3d",
         "x": [
          103.03734645874545,
          103.03734645874545
         ],
         "y": [
          20.164,
          20.164
         ],
         "z": [
          1176752,
          1176752
         ]
        },
        {
         "hovertemplate": "labels=T79.1_T2998.2<br>m/z=%{x}<br>rt=%{y}<br>intensity=%{z}<extra></extra>",
         "legendgroup": "T79.1_T2998.2",
         "marker": {
          "color": "#19d3f3",
          "symbol": "circle"
         },
         "mode": "markers",
         "name": "T79.1_T2998.2",
         "scene": "scene",
         "showlegend": true,
         "type": "scatter3d",
         "x": [
          103.03740613838674,
          103.03740613838674
         ],
         "y": [
          13.734,
          13.734
         ],
         "z": [
          860005.125,
          860005.125
         ]
        },
        {
         "hovertemplate": "labels=T43.1_T3208.1<br>m/z=%{x}<br>rt=%{y}<br>intensity=%{z}<extra></extra>",
         "legendgroup": "T43.1_T3208.1",
         "marker": {
          "color": "#FF6692",
          "symbol": "circle"
         },
         "mode": "markers",
         "name": "T43.1_T3208.1",
         "scene": "scene",
         "showlegend": true,
         "type": "scatter3d",
         "x": [
          103.03892830561483,
          103.03892830561483
         ],
         "y": [
          5.161,
          5.161
         ],
         "z": [
          7377935,
          7377935
         ]
        },
        {
         "hovertemplate": "labels=T22.2_T2514.3_T10141.1<br>m/z=%{x}<br>rt=%{y}<br>intensity=%{z}<extra></extra>",
         "legendgroup": "T22.2_T2514.3_T10141.1",
         "marker": {
          "color": "#B6E880",
          "symbol": "circle"
         },
         "mode": "markers",
         "name": "T22.2_T2514.3_T10141.1",
         "scene": "scene",
         "showlegend": true,
         "type": "scatter3d",
         "x": [
          103.03971094344345,
          103.03971094344345,
          103.03971094344345
         ],
         "y": [
          28.022,
          28.022,
          28.022
         ],
         "z": [
          17046440,
          17046440,
          17046440
         ]
        },
        {
         "hovertemplate": "labels=T22.1_T3793.1<br>m/z=%{x}<br>rt=%{y}<br>intensity=%{z}<extra></extra>",
         "legendgroup": "T22.1_T3793.1",
         "marker": {
          "color": "#FF97FF",
          "symbol": "circle"
         },
         "mode": "markers",
         "name": "T22.1_T3793.1",
         "scene": "scene",
         "showlegend": true,
         "type": "scatter3d",
         "x": [
          103.03972475538434,
          103.03972475538434
         ],
         "y": [
          6.59,
          6.59
         ],
         "z": [
          12603310,
          12603310
         ]
        },
        {
         "hovertemplate": "labels=T19.1_T1746.1_T6297.1<br>m/z=%{x}<br>rt=%{y}<br>intensity=%{z}<extra></extra>",
         "legendgroup": "T19.1_T1746.1_T6297.1",
         "marker": {
          "color": "#FECB52",
          "symbol": "circle"
         },
         "mode": "markers",
         "name": "T19.1_T1746.1_T6297.1",
         "scene": "scene",
         "showlegend": true,
         "type": "scatter3d",
         "x": [
          103.04051413851602,
          103.04051413851602,
          103.04051413851602
         ],
         "y": [
          6.59,
          6.59,
          6.59
         ],
         "z": [
          13997590,
          13997590,
          13997590
         ]
        },
        {
         "hovertemplate": "labels=T2001.1_T4797.2<br>m/z=%{x}<br>rt=%{y}<br>intensity=%{z}<extra></extra>",
         "legendgroup": "T2001.1_T4797.2",
         "marker": {
          "color": "#636efa",
          "symbol": "circle"
         },
         "mode": "markers",
         "name": "T2001.1_T4797.2",
         "scene": "scene",
         "showlegend": true,
         "type": "scatter3d",
         "x": [
          103.04684641003577,
          103.04684641003577
         ],
         "y": [
          26.594,
          26.594
         ],
         "z": [
          505993.8125,
          505993.8125
         ]
        },
        {
         "hovertemplate": "labels=T806.1_T7531.1<br>m/z=%{x}<br>rt=%{y}<br>intensity=%{z}<extra></extra>",
         "legendgroup": "T806.1_T7531.1",
         "marker": {
          "color": "#EF553B",
          "symbol": "circle"
         },
         "mode": "markers",
         "name": "T806.1_T7531.1",
         "scene": "scene",
         "showlegend": true,
         "type": "scatter3d",
         "x": [
          104.04370116268139,
          104.04370116268139
         ],
         "y": [
          5.875,
          5.875
         ],
         "z": [
          625634.3125,
          625634.3125
         ]
        },
        {
         "hovertemplate": "labels=T915.1_T9320.1<br>m/z=%{x}<br>rt=%{y}<br>intensity=%{z}<extra></extra>",
         "legendgroup": "T915.1_T9320.1",
         "marker": {
          "color": "#00cc96",
          "symbol": "circle"
         },
         "mode": "markers",
         "name": "T915.1_T9320.1",
         "scene": "scene",
         "showlegend": true,
         "type": "scatter3d",
         "x": [
          111.01802755564806,
          111.01802755564806
         ],
         "y": [
          18.02,
          18.02
         ],
         "z": [
          886896,
          886896
         ]
        },
        {
         "hovertemplate": "labels=T381.1_T6294.1_T1847.1_T8465.1_T8552.1<br>m/z=%{x}<br>rt=%{y}<br>intensity=%{z}<extra></extra>",
         "legendgroup": "T381.1_T6294.1_T1847.1_T8465.1_T8552.1",
         "marker": {
          "color": "#ab63fa",
          "symbol": "circle"
         },
         "mode": "markers",
         "name": "T381.1_T6294.1_T1847.1_T8465.1_T8552.1",
         "scene": "scene",
         "showlegend": true,
         "type": "scatter3d",
         "x": [
          111.0187513155395,
          111.0187513155395,
          111.0187513155395,
          111.0187513155395,
          111.0187513155395
         ],
         "y": [
          11.591,
          11.591,
          11.591,
          11.591,
          11.591
         ],
         "z": [
          1586769,
          1586769,
          1586769,
          1586769,
          1586769
         ]
        },
        {
         "hovertemplate": "labels=T1348.1_T5873.1_T448.1_T9448<br>m/z=%{x}<br>rt=%{y}<br>intensity=%{z}<extra></extra>",
         "legendgroup": "T1348.1_T5873.1_T448.1_T9448",
         "marker": {
          "color": "#FFA15A",
          "symbol": "circle"
         },
         "mode": "markers",
         "name": "T1348.1_T5873.1_T448.1_T9448",
         "scene": "scene",
         "showlegend": true,
         "type": "scatter3d",
         "x": [
          111.02283251217922,
          111.02283251217922,
          111.02283251217922,
          111.02283251217922
         ],
         "y": [
          18.735,
          18.735,
          18.735,
          18.735
         ],
         "z": [
          592826.125,
          592826.125,
          592826.125,
          592826.125
         ]
        },
        {
         "hovertemplate": "labels=T9225.1_T2423.1_T7502.1<br>m/z=%{x}<br>rt=%{y}<br>intensity=%{z}<extra></extra>",
         "legendgroup": "T9225.1_T2423.1_T7502.1",
         "marker": {
          "color": "#19d3f3",
          "symbol": "circle"
         },
         "mode": "markers",
         "name": "T9225.1_T2423.1_T7502.1",
         "scene": "scene",
         "showlegend": true,
         "type": "scatter3d",
         "x": [
          112.0252627279381,
          112.0252627279381,
          112.0252627279381
         ],
         "y": [
          10.876,
          10.876,
          10.876
         ],
         "z": [
          81938.8203125,
          81938.8203125,
          81938.8203125
         ]
        },
        {
         "hovertemplate": "labels=T967_T7182.2_T2321.1<br>m/z=%{x}<br>rt=%{y}<br>intensity=%{z}<extra></extra>",
         "legendgroup": "T967_T7182.2_T2321.1",
         "marker": {
          "color": "#FF6692",
          "symbol": "circle"
         },
         "mode": "markers",
         "name": "T967_T7182.2_T2321.1",
         "scene": "scene",
         "showlegend": true,
         "type": "scatter3d",
         "x": [
          113.02162202141557,
          113.02162202141557,
          113.02162202141557
         ],
         "y": [
          14.448,
          14.448,
          14.448
         ],
         "z": [
          226961.90625,
          226961.90625,
          226961.90625
         ]
        },
        {
         "hovertemplate": "labels=T361.1_T9416_T4041.1<br>m/z=%{x}<br>rt=%{y}<br>intensity=%{z}<extra></extra>",
         "legendgroup": "T361.1_T9416_T4041.1",
         "marker": {
          "color": "#B6E880",
          "symbol": "circle"
         },
         "mode": "markers",
         "name": "T361.1_T9416_T4041.1",
         "scene": "scene",
         "showlegend": true,
         "type": "scatter3d",
         "x": [
          113.02415780515054,
          113.02415780515054,
          113.02415780515054
         ],
         "y": [
          15.877,
          15.877,
          15.877
         ],
         "z": [
          1291291,
          1291291,
          1291291
         ]
        },
        {
         "hovertemplate": "labels=T882.1_T6656.1_T7528.2<br>m/z=%{x}<br>rt=%{y}<br>intensity=%{z}<extra></extra>",
         "legendgroup": "T882.1_T6656.1_T7528.2",
         "marker": {
          "color": "#FF97FF",
          "symbol": "circle"
         },
         "mode": "markers",
         "name": "T882.1_T6656.1_T7528.2",
         "scene": "scene",
         "showlegend": true,
         "type": "scatter3d",
         "x": [
          113.0264939919608,
          113.0264939919608,
          113.0264939919608
         ],
         "y": [
          18.02,
          18.02,
          18.02
         ],
         "z": [
          645515.3125,
          645515.3125,
          645515.3125
         ]
        },
        {
         "hovertemplate": "labels=T6004_T8453<br>m/z=%{x}<br>rt=%{y}<br>intensity=%{z}<extra></extra>",
         "legendgroup": "T6004_T8453",
         "marker": {
          "color": "#FECB52",
          "symbol": "circle"
         },
         "mode": "markers",
         "name": "T6004_T8453",
         "scene": "scene",
         "showlegend": true,
         "type": "scatter3d",
         "x": [
          113.02813313241072,
          113.02813313241072
         ],
         "y": [
          16.592,
          16.592
         ],
         "z": [
          148595.203125,
          148595.203125
         ]
        },
        {
         "hovertemplate": "labels=T5535_T9646.1<br>m/z=%{x}<br>rt=%{y}<br>intensity=%{z}<extra></extra>",
         "legendgroup": "T5535_T9646.1",
         "marker": {
          "color": "#636efa",
          "symbol": "circle"
         },
         "mode": "markers",
         "name": "T5535_T9646.1",
         "scene": "scene",
         "showlegend": true,
         "type": "scatter3d",
         "x": [
          113.02901449156754,
          113.02901449156754
         ],
         "y": [
          13.019,
          13.019
         ],
         "z": [
          90078.1875,
          90078.1875
         ]
        },
        {
         "hovertemplate": "labels=T303.1_T8929.1<br>m/z=%{x}<br>rt=%{y}<br>intensity=%{z}<extra></extra>",
         "legendgroup": "T303.1_T8929.1",
         "marker": {
          "color": "#EF553B",
          "symbol": "circle"
         },
         "mode": "markers",
         "name": "T303.1_T8929.1",
         "scene": "scene",
         "showlegend": true,
         "type": "scatter3d",
         "x": [
          119.03628736825972,
          119.03628736825972
         ],
         "y": [
          15.877,
          15.877
         ],
         "z": [
          3653830,
          3653830
         ]
        },
        {
         "hovertemplate": "labels=T6671.1_T10052.1<br>m/z=%{x}<br>rt=%{y}<br>intensity=%{z}<extra></extra>",
         "legendgroup": "T6671.1_T10052.1",
         "marker": {
          "color": "#00cc96",
          "symbol": "circle"
         },
         "mode": "markers",
         "name": "T6671.1_T10052.1",
         "scene": "scene",
         "showlegend": true,
         "type": "scatter3d",
         "x": [
          119.04052824640206,
          119.04052824640206
         ],
         "y": [
          11.591,
          11.591
         ],
         "z": [
          216944,
          216944
         ]
        },
        {
         "hovertemplate": "labels=T6960_T5815.1_T5380.1<br>m/z=%{x}<br>rt=%{y}<br>intensity=%{z}<extra></extra>",
         "legendgroup": "T6960_T5815.1_T5380.1",
         "marker": {
          "color": "#ab63fa",
          "symbol": "circle"
         },
         "mode": "markers",
         "name": "T6960_T5815.1_T5380.1",
         "scene": "scene",
         "showlegend": true,
         "type": "scatter3d",
         "x": [
          131.03242911357214,
          131.03242911357214,
          131.03242911357214
         ],
         "y": [
          14.448,
          14.448,
          14.448
         ],
         "z": [
          68932.3125,
          68932.3125,
          68932.3125
         ]
        },
        {
         "hovertemplate": "labels=T4120.1_T1921.1_T9336.1<br>m/z=%{x}<br>rt=%{y}<br>intensity=%{z}<extra></extra>",
         "legendgroup": "T4120.1_T1921.1_T9336.1",
         "marker": {
          "color": "#FFA15A",
          "symbol": "circle"
         },
         "mode": "markers",
         "name": "T4120.1_T1921.1_T9336.1",
         "scene": "scene",
         "showlegend": true,
         "type": "scatter3d",
         "x": [
          131.03317562440216,
          131.03317562440216,
          131.03317562440216
         ],
         "y": [
          15.877,
          15.877,
          15.877
         ],
         "z": [
          126019.5,
          126019.5,
          126019.5
         ]
        },
        {
         "hovertemplate": "labels=T2647.3_T9582.1<br>m/z=%{x}<br>rt=%{y}<br>intensity=%{z}<extra></extra>",
         "legendgroup": "T2647.3_T9582.1",
         "marker": {
          "color": "#19d3f3",
          "symbol": "circle"
         },
         "mode": "markers",
         "name": "T2647.3_T9582.1",
         "scene": "scene",
         "showlegend": true,
         "type": "scatter3d",
         "x": [
          132.0251577751645,
          132.0251577751645
         ],
         "y": [
          19.449,
          19.449
         ],
         "z": [
          30141.259765625,
          30141.259765625
         ]
        },
        {
         "hovertemplate": "labels=T210.2_T9742.1<br>m/z=%{x}<br>rt=%{y}<br>intensity=%{z}<extra></extra>",
         "legendgroup": "T210.2_T9742.1",
         "marker": {
          "color": "#FF6692",
          "symbol": "circle"
         },
         "mode": "markers",
         "name": "T210.2_T9742.1",
         "scene": "scene",
         "showlegend": true,
         "type": "scatter3d",
         "x": [
          133.0141654952736,
          133.0141654952736
         ],
         "y": [
          20.164,
          20.164
         ],
         "z": [
          1185584,
          1185584
         ]
        },
        {
         "hovertemplate": "labels=T238.2_T7701.1<br>m/z=%{x}<br>rt=%{y}<br>intensity=%{z}<extra></extra>",
         "legendgroup": "T238.2_T7701.1",
         "marker": {
          "color": "#B6E880",
          "symbol": "circle"
         },
         "mode": "markers",
         "name": "T238.2_T7701.1",
         "scene": "scene",
         "showlegend": true,
         "type": "scatter3d",
         "x": [
          133.01505801283014,
          133.01505801283014
         ],
         "y": [
          19.449,
          19.449
         ],
         "z": [
          1251622,
          1251622
         ]
        },
        {
         "hovertemplate": "labels=T322.2_T7452.1<br>m/z=%{x}<br>rt=%{y}<br>intensity=%{z}<extra></extra>",
         "legendgroup": "T322.2_T7452.1",
         "marker": {
          "color": "#FF97FF",
          "symbol": "circle"
         },
         "mode": "markers",
         "name": "T322.2_T7452.1",
         "scene": "scene",
         "showlegend": true,
         "type": "scatter3d",
         "x": [
          133.01593407471145,
          133.01593407471145
         ],
         "y": [
          19.449,
          19.449
         ],
         "z": [
          966369.375,
          966369.375
         ]
        },
        {
         "hovertemplate": "labels=T9112.1_T9578.1<br>m/z=%{x}<br>rt=%{y}<br>intensity=%{z}<extra></extra>",
         "legendgroup": "T9112.1_T9578.1",
         "marker": {
          "color": "#FECB52",
          "symbol": "circle"
         },
         "mode": "markers",
         "name": "T9112.1_T9578.1",
         "scene": "scene",
         "showlegend": true,
         "type": "scatter3d",
         "x": [
          133.02053548866252,
          133.02053548866252
         ],
         "y": [
          19.449,
          19.449
         ],
         "z": [
          101061.3984375,
          101061.3984375
         ]
        },
        {
         "hovertemplate": "labels=T278.1_T7594.1<br>m/z=%{x}<br>rt=%{y}<br>intensity=%{z}<extra></extra>",
         "legendgroup": "T278.1_T7594.1",
         "marker": {
          "color": "#636efa",
          "symbol": "circle"
         },
         "mode": "markers",
         "name": "T278.1_T7594.1",
         "scene": "scene",
         "showlegend": true,
         "type": "scatter3d",
         "x": [
          141.08915660301207,
          141.08915660301207
         ],
         "y": [
          15.877,
          15.877
         ],
         "z": [
          1284806,
          1284806
         ]
        },
        {
         "hovertemplate": "labels=T289_T8067.1<br>m/z=%{x}<br>rt=%{y}<br>intensity=%{z}<extra></extra>",
         "legendgroup": "T289_T8067.1",
         "marker": {
          "color": "#EF553B",
          "symbol": "circle"
         },
         "mode": "markers",
         "name": "T289_T8067.1",
         "scene": "scene",
         "showlegend": true,
         "type": "scatter3d",
         "x": [
          141.09001051822355,
          141.09001051822355
         ],
         "y": [
          15.877,
          15.877
         ],
         "z": [
          1660096,
          1660096
         ]
        },
        {
         "hovertemplate": "labels=T315.1_T7073.1<br>m/z=%{x}<br>rt=%{y}<br>intensity=%{z}<extra></extra>",
         "legendgroup": "T315.1_T7073.1",
         "marker": {
          "color": "#00cc96",
          "symbol": "circle"
         },
         "mode": "markers",
         "name": "T315.1_T7073.1",
         "scene": "scene",
         "showlegend": true,
         "type": "scatter3d",
         "x": [
          141.09083800839042,
          141.09083800839042
         ],
         "y": [
          17.306,
          17.306
         ],
         "z": [
          1343011,
          1343011
         ]
        },
        {
         "hovertemplate": "labels=T554.1_T7481.1<br>m/z=%{x}<br>rt=%{y}<br>intensity=%{z}<extra></extra>",
         "legendgroup": "T554.1_T7481.1",
         "marker": {
          "color": "#ab63fa",
          "symbol": "circle"
         },
         "mode": "markers",
         "name": "T554.1_T7481.1",
         "scene": "scene",
         "showlegend": true,
         "type": "scatter3d",
         "x": [
          141.09171112521608,
          141.09171112521608
         ],
         "y": [
          18.02,
          18.02
         ],
         "z": [
          878595.625,
          878595.625
         ]
        },
        {
         "hovertemplate": "labels=T6794.1_T9581<br>m/z=%{x}<br>rt=%{y}<br>intensity=%{z}<extra></extra>",
         "legendgroup": "T6794.1_T9581",
         "marker": {
          "color": "#FFA15A",
          "symbol": "circle"
         },
         "mode": "markers",
         "name": "T6794.1_T9581",
         "scene": "scene",
         "showlegend": true,
         "type": "scatter3d",
         "x": [
          145.04977635983502,
          145.04977635983502
         ],
         "y": [
          11.591,
          11.591
         ],
         "z": [
          107733.296875,
          107733.296875
         ]
        },
        {
         "hovertemplate": "labels=T5577.1_T8613.1_T9842.1<br>m/z=%{x}<br>rt=%{y}<br>intensity=%{z}<extra></extra>",
         "legendgroup": "T5577.1_T8613.1_T9842.1",
         "marker": {
          "color": "#19d3f3",
          "symbol": "circle"
         },
         "mode": "markers",
         "name": "T5577.1_T8613.1_T9842.1",
         "scene": "scene",
         "showlegend": true,
         "type": "scatter3d",
         "x": [
          145.0507222537727,
          145.0507222537727,
          145.0507222537727
         ],
         "y": [
          11.591,
          11.591,
          11.591
         ],
         "z": [
          126444.5,
          126444.5,
          126444.5
         ]
        },
        {
         "hovertemplate": "labels=T6750_T6953.1<br>m/z=%{x}<br>rt=%{y}<br>intensity=%{z}<extra></extra>",
         "legendgroup": "T6750_T6953.1",
         "marker": {
          "color": "#FF6692",
          "symbol": "circle"
         },
         "mode": "markers",
         "name": "T6750_T6953.1",
         "scene": "scene",
         "showlegend": true,
         "type": "scatter3d",
         "x": [
          145.05162297259386,
          145.05162297259386
         ],
         "y": [
          14.448,
          14.448
         ],
         "z": [
          117425.1015625,
          117425.1015625
         ]
        },
        {
         "hovertemplate": "labels=T297.1_T8606.1<br>m/z=%{x}<br>rt=%{y}<br>intensity=%{z}<extra></extra>",
         "legendgroup": "T297.1_T8606.1",
         "marker": {
          "color": "#B6E880",
          "symbol": "circle"
         },
         "mode": "markers",
         "name": "T297.1_T8606.1",
         "scene": "scene",
         "showlegend": true,
         "type": "scatter3d",
         "x": [
          146.04627368729464,
          146.04627368729464
         ],
         "y": [
          11.591,
          11.591
         ],
         "z": [
          1497609,
          1497609
         ]
        },
        {
         "hovertemplate": "labels=T422.1_T8547.1<br>m/z=%{x}<br>rt=%{y}<br>intensity=%{z}<extra></extra>",
         "legendgroup": "T422.1_T8547.1",
         "marker": {
          "color": "#FF97FF",
          "symbol": "circle"
         },
         "mode": "markers",
         "name": "T422.1_T8547.1",
         "scene": "scene",
         "showlegend": true,
         "type": "scatter3d",
         "x": [
          146.0477111818665,
          146.0477111818665
         ],
         "y": [
          17.306,
          17.306
         ],
         "z": [
          1030714,
          1030714
         ]
        },
        {
         "hovertemplate": "labels=T6797_T8275.1<br>m/z=%{x}<br>rt=%{y}<br>intensity=%{z}<extra></extra>",
         "legendgroup": "T6797_T8275.1",
         "marker": {
          "color": "#FECB52",
          "symbol": "circle"
         },
         "mode": "markers",
         "name": "T6797_T8275.1",
         "scene": "scene",
         "showlegend": true,
         "type": "scatter3d",
         "x": [
          146.05474394137673,
          146.05474394137673
         ],
         "y": [
          11.591,
          11.591
         ],
         "z": [
          127252,
          127252
         ]
        },
        {
         "hovertemplate": "labels=T143.1_T6237.1<br>m/z=%{x}<br>rt=%{y}<br>intensity=%{z}<extra></extra>",
         "legendgroup": "T143.1_T6237.1",
         "marker": {
          "color": "#636efa",
          "symbol": "circle"
         },
         "mode": "markers",
         "name": "T143.1_T6237.1",
         "scene": "scene",
         "showlegend": true,
         "type": "scatter3d",
         "x": [
          155.00110362385234,
          155.00110362385234
         ],
         "y": [
          13.734,
          13.734
         ],
         "z": [
          292234.3125,
          292234.3125
         ]
        },
        {
         "hovertemplate": "labels=T364.1_T7163.1<br>m/z=%{x}<br>rt=%{y}<br>intensity=%{z}<extra></extra>",
         "legendgroup": "T364.1_T7163.1",
         "marker": {
          "color": "#EF553B",
          "symbol": "circle"
         },
         "mode": "markers",
         "name": "T364.1_T7163.1",
         "scene": "scene",
         "showlegend": true,
         "type": "scatter3d",
         "x": [
          155.00711918925987,
          155.00711918925987
         ],
         "y": [
          13.019,
          13.019
         ],
         "z": [
          1475248,
          1475248
         ]
        },
        {
         "hovertemplate": "labels=T77.2_T9135.2_T3009.2<br>m/z=%{x}<br>rt=%{y}<br>intensity=%{z}<extra></extra>",
         "legendgroup": "T77.2_T9135.2_T3009.2",
         "marker": {
          "color": "#00cc96",
          "symbol": "circle"
         },
         "mode": "markers",
         "name": "T77.2_T9135.2_T3009.2",
         "scene": "scene",
         "showlegend": true,
         "type": "scatter3d",
         "x": [
          155.00988295116133,
          155.00988295116133,
          155.00988295116133
         ],
         "y": [
          19.449,
          19.449,
          19.449
         ],
         "z": [
          3253973,
          3253973,
          3253973
         ]
        },
        {
         "hovertemplate": "labels=T77.1_T9135.1<br>m/z=%{x}<br>rt=%{y}<br>intensity=%{z}<extra></extra>",
         "legendgroup": "T77.1_T9135.1",
         "marker": {
          "color": "#ab63fa",
          "symbol": "circle"
         },
         "mode": "markers",
         "name": "T77.1_T9135.1",
         "scene": "scene",
         "showlegend": true,
         "type": "scatter3d",
         "x": [
          155.00992507641894,
          155.00992507641894
         ],
         "y": [
          11.591,
          11.591
         ],
         "z": [
          1603836,
          1603836
         ]
        },
        {
         "hovertemplate": "labels=T3719.1_T6804.1_T3928<br>m/z=%{x}<br>rt=%{y}<br>intensity=%{z}<extra></extra>",
         "legendgroup": "T3719.1_T6804.1_T3928",
         "marker": {
          "color": "#FFA15A",
          "symbol": "circle"
         },
         "mode": "markers",
         "name": "T3719.1_T6804.1_T3928",
         "scene": "scene",
         "showlegend": true,
         "type": "scatter3d",
         "x": [
          155.01765659899257,
          155.01765659899257,
          155.01765659899257
         ],
         "y": [
          11.591,
          11.591,
          11.591
         ],
         "z": [
          286872.40625,
          286872.40625,
          286872.40625
         ]
        },
        {
         "hovertemplate": "labels=T8278.1_T6341.1<br>m/z=%{x}<br>rt=%{y}<br>intensity=%{z}<extra></extra>",
         "legendgroup": "T8278.1_T6341.1",
         "marker": {
          "color": "#19d3f3",
          "symbol": "circle"
         },
         "mode": "markers",
         "name": "T8278.1_T6341.1",
         "scene": "scene",
         "showlegend": true,
         "type": "scatter3d",
         "x": [
          156.00586303783967,
          156.00586303783967
         ],
         "y": [
          12.305,
          12.305
         ],
         "z": [
          34385.05078125,
          34385.05078125
         ]
        },
        {
         "hovertemplate": "labels=T3025.1_T2536.1<br>m/z=%{x}<br>rt=%{y}<br>intensity=%{z}<extra></extra>",
         "legendgroup": "T3025.1_T2536.1",
         "marker": {
          "color": "#FF6692",
          "symbol": "circle"
         },
         "mode": "markers",
         "name": "T3025.1_T2536.1",
         "scene": "scene",
         "showlegend": true,
         "type": "scatter3d",
         "x": [
          156.01461376628166,
          156.01461376628166
         ],
         "y": [
          18.735,
          18.735
         ],
         "z": [
          256865.203125,
          256865.203125
         ]
        },
        {
         "hovertemplate": "labels=T343.1_T8677.1<br>m/z=%{x}<br>rt=%{y}<br>intensity=%{z}<extra></extra>",
         "legendgroup": "T343.1_T8677.1",
         "marker": {
          "color": "#B6E880",
          "symbol": "circle"
         },
         "mode": "markers",
         "name": "T343.1_T8677.1",
         "scene": "scene",
         "showlegend": true,
         "type": "scatter3d",
         "x": [
          157.0256121431807,
          157.0256121431807
         ],
         "y": [
          18.02,
          18.02
         ],
         "z": [
          1614111,
          1614111
         ]
        },
        {
         "hovertemplate": "labels=T636.1_T8895.1<br>m/z=%{x}<br>rt=%{y}<br>intensity=%{z}<extra></extra>",
         "legendgroup": "T636.1_T8895.1",
         "marker": {
          "color": "#FF97FF",
          "symbol": "circle"
         },
         "mode": "markers",
         "name": "T636.1_T8895.1",
         "scene": "scene",
         "showlegend": true,
         "type": "scatter3d",
         "x": [
          157.02845558224226,
          157.02845558224226
         ],
         "y": [
          18.02,
          18.02
         ],
         "z": [
          427163,
          427163
         ]
        },
        {
         "hovertemplate": "labels=T347.1_T4329.1<br>m/z=%{x}<br>rt=%{y}<br>intensity=%{z}<extra></extra>",
         "legendgroup": "T347.1_T4329.1",
         "marker": {
          "color": "#FECB52",
          "symbol": "circle"
         },
         "mode": "markers",
         "name": "T347.1_T4329.1",
         "scene": "scene",
         "showlegend": true,
         "type": "scatter3d",
         "x": [
          174.02840844645203,
          174.02840844645203
         ],
         "y": [
          13.734,
          13.734
         ],
         "z": [
          178393,
          178393
         ]
        },
        {
         "hovertemplate": "labels=T538.2_T645.2<br>m/z=%{x}<br>rt=%{y}<br>intensity=%{z}<extra></extra>",
         "legendgroup": "T538.2_T645.2",
         "marker": {
          "color": "#636efa",
          "symbol": "circle"
         },
         "mode": "markers",
         "name": "T538.2_T645.2",
         "scene": "scene",
         "showlegend": true,
         "type": "scatter3d",
         "x": [
          174.03236414893018,
          174.03236414893018
         ],
         "y": [
          20.164,
          20.164
         ],
         "z": [
          183882.5,
          183882.5
         ]
        },
        {
         "hovertemplate": "labels=T1431.1_T1620.1<br>m/z=%{x}<br>rt=%{y}<br>intensity=%{z}<extra></extra>",
         "legendgroup": "T1431.1_T1620.1",
         "marker": {
          "color": "#EF553B",
          "symbol": "circle"
         },
         "mode": "markers",
         "name": "T1431.1_T1620.1",
         "scene": "scene",
         "showlegend": true,
         "type": "scatter3d",
         "x": [
          174.03339951193348,
          174.03339951193348
         ],
         "y": [
          12.305,
          12.305
         ],
         "z": [
          424698.3125,
          424698.3125
         ]
        },
        {
         "hovertemplate": "labels=T1666.1_T616.2<br>m/z=%{x}<br>rt=%{y}<br>intensity=%{z}<extra></extra>",
         "legendgroup": "T1666.1_T616.2",
         "marker": {
          "color": "#00cc96",
          "symbol": "circle"
         },
         "mode": "markers",
         "name": "T1666.1_T616.2",
         "scene": "scene",
         "showlegend": true,
         "type": "scatter3d",
         "x": [
          174.03496661542187,
          174.03496661542187
         ],
         "y": [
          20.878,
          20.878
         ],
         "z": [
          350974.5,
          350974.5
         ]
        },
        {
         "hovertemplate": "labels=T1054.1_T720.2<br>m/z=%{x}<br>rt=%{y}<br>intensity=%{z}<extra></extra>",
         "legendgroup": "T1054.1_T720.2",
         "marker": {
          "color": "#ab63fa",
          "symbol": "circle"
         },
         "mode": "markers",
         "name": "T1054.1_T720.2",
         "scene": "scene",
         "showlegend": true,
         "type": "scatter3d",
         "x": [
          174.03634088512132,
          174.03634088512132
         ],
         "y": [
          20.164,
          20.164
         ],
         "z": [
          530120.6875,
          530120.6875
         ]
        },
        {
         "hovertemplate": "labels=T539.1_T1080.1<br>m/z=%{x}<br>rt=%{y}<br>intensity=%{z}<extra></extra>",
         "legendgroup": "T539.1_T1080.1",
         "marker": {
          "color": "#FFA15A",
          "symbol": "circle"
         },
         "mode": "markers",
         "name": "T539.1_T1080.1",
         "scene": "scene",
         "showlegend": true,
         "type": "scatter3d",
         "x": [
          174.03726429695186,
          174.03726429695186
         ],
         "y": [
          11.591,
          11.591
         ],
         "z": [
          337626.6875,
          337626.6875
         ]
        },
        {
         "hovertemplate": "labels=T222.1_T2217.1<br>m/z=%{x}<br>rt=%{y}<br>intensity=%{z}<extra></extra>",
         "legendgroup": "T222.1_T2217.1",
         "marker": {
          "color": "#19d3f3",
          "symbol": "circle"
         },
         "mode": "markers",
         "name": "T222.1_T2217.1",
         "scene": "scene",
         "showlegend": true,
         "type": "scatter3d",
         "x": [
          174.03828766506356,
          174.03828766506356
         ],
         "y": [
          11.591,
          11.591
         ],
         "z": [
          585198.8125,
          585198.8125
         ]
        },
        {
         "hovertemplate": "labels=T222.2_T2217.2<br>m/z=%{x}<br>rt=%{y}<br>intensity=%{z}<extra></extra>",
         "legendgroup": "T222.2_T2217.2",
         "marker": {
          "color": "#FF6692",
          "symbol": "circle"
         },
         "mode": "markers",
         "name": "T222.2_T2217.2",
         "scene": "scene",
         "showlegend": true,
         "type": "scatter3d",
         "x": [
          174.03841840026382,
          174.03841840026382
         ],
         "y": [
          20.164,
          20.164
         ],
         "z": [
          1492702,
          1492702
         ]
        },
        {
         "hovertemplate": "labels=T89.1_T3769.1<br>m/z=%{x}<br>rt=%{y}<br>intensity=%{z}<extra></extra>",
         "legendgroup": "T89.1_T3769.1",
         "marker": {
          "color": "#B6E880",
          "symbol": "circle"
         },
         "mode": "markers",
         "name": "T89.1_T3769.1",
         "scene": "scene",
         "showlegend": true,
         "type": "scatter3d",
         "x": [
          174.03931708155457,
          174.03931708155457
         ],
         "y": [
          11.591,
          11.591
         ],
         "z": [
          1129876,
          1129876
         ]
        },
        {
         "hovertemplate": "labels=T89.2_T3769.2<br>m/z=%{x}<br>rt=%{y}<br>intensity=%{z}<extra></extra>",
         "legendgroup": "T89.2_T3769.2",
         "marker": {
          "color": "#FF97FF",
          "symbol": "circle"
         },
         "mode": "markers",
         "name": "T89.2_T3769.2",
         "scene": "scene",
         "showlegend": true,
         "type": "scatter3d",
         "x": [
          174.0394323459607,
          174.0394323459607
         ],
         "y": [
          20.164,
          20.164
         ],
         "z": [
          2208977,
          2208977
         ]
        },
        {
         "hovertemplate": "labels=T63.1_T2790.1<br>m/z=%{x}<br>rt=%{y}<br>intensity=%{z}<extra></extra>",
         "legendgroup": "T63.1_T2790.1",
         "marker": {
          "color": "#FECB52",
          "symbol": "circle"
         },
         "mode": "markers",
         "name": "T63.1_T2790.1",
         "scene": "scene",
         "showlegend": true,
         "type": "scatter3d",
         "x": [
          174.04032814188236,
          174.04032814188236
         ],
         "y": [
          11.591,
          11.591
         ],
         "z": [
          1686653,
          1686653
         ]
        },
        {
         "hovertemplate": "labels=T63.2_T2790.2<br>m/z=%{x}<br>rt=%{y}<br>intensity=%{z}<extra></extra>",
         "legendgroup": "T63.2_T2790.2",
         "marker": {
          "color": "#636efa",
          "symbol": "circle"
         },
         "mode": "markers",
         "name": "T63.2_T2790.2",
         "scene": "scene",
         "showlegend": true,
         "type": "scatter3d",
         "x": [
          174.04044712698936,
          174.04044712698936
         ],
         "y": [
          20.164,
          20.164
         ],
         "z": [
          3529771,
          3529771
         ]
        },
        {
         "hovertemplate": "labels=T61.1_T1663.1_T8703.1<br>m/z=%{x}<br>rt=%{y}<br>intensity=%{z}<extra></extra>",
         "legendgroup": "T61.1_T1663.1_T8703.1",
         "marker": {
          "color": "#EF553B",
          "symbol": "circle"
         },
         "mode": "markers",
         "name": "T61.1_T1663.1_T8703.1",
         "scene": "scene",
         "showlegend": true,
         "type": "scatter3d",
         "x": [
          174.0413523927149,
          174.0413523927149,
          174.0413523927149
         ],
         "y": [
          11.591,
          11.591,
          11.591
         ],
         "z": [
          1852150,
          1852150,
          1852150
         ]
        },
        {
         "hovertemplate": "labels=T61.2_T1663.2_T9214<br>m/z=%{x}<br>rt=%{y}<br>intensity=%{z}<extra></extra>",
         "legendgroup": "T61.2_T1663.2_T9214",
         "marker": {
          "color": "#00cc96",
          "symbol": "circle"
         },
         "mode": "markers",
         "name": "T61.2_T1663.2_T9214",
         "scene": "scene",
         "showlegend": true,
         "type": "scatter3d",
         "x": [
          174.04146026342406,
          174.04146026342406,
          174.04146026342406
         ],
         "y": [
          20.164,
          20.164,
          20.164
         ],
         "z": [
          3852215,
          3852215,
          3852215
         ]
        },
        {
         "hovertemplate": "labels=T81.1_T1343.1<br>m/z=%{x}<br>rt=%{y}<br>intensity=%{z}<extra></extra>",
         "legendgroup": "T81.1_T1343.1",
         "marker": {
          "color": "#ab63fa",
          "symbol": "circle"
         },
         "mode": "markers",
         "name": "T81.1_T1343.1",
         "scene": "scene",
         "showlegend": true,
         "type": "scatter3d",
         "x": [
          174.04236827080973,
          174.04236827080973
         ],
         "y": [
          11.591,
          11.591
         ],
         "z": [
          1481700,
          1481700
         ]
        },
        {
         "hovertemplate": "labels=T81.2_T1343.2_T8703.2<br>m/z=%{x}<br>rt=%{y}<br>intensity=%{z}<extra></extra>",
         "legendgroup": "T81.2_T1343.2_T8703.2",
         "marker": {
          "color": "#FFA15A",
          "symbol": "circle"
         },
         "mode": "markers",
         "name": "T81.2_T1343.2_T8703.2",
         "scene": "scene",
         "showlegend": true,
         "type": "scatter3d",
         "x": [
          174.04254738283115,
          174.04254738283115,
          174.04254738283115
         ],
         "y": [
          19.449,
          19.449,
          19.449
         ],
         "z": [
          2696356,
          2696356,
          2696356
         ]
        },
        {
         "hovertemplate": "labels=T103.1_T1369.1<br>m/z=%{x}<br>rt=%{y}<br>intensity=%{z}<extra></extra>",
         "legendgroup": "T103.1_T1369.1",
         "marker": {
          "color": "#19d3f3",
          "symbol": "circle"
         },
         "mode": "markers",
         "name": "T103.1_T1369.1",
         "scene": "scene",
         "showlegend": true,
         "type": "scatter3d",
         "x": [
          174.04338143626404,
          174.04338143626404
         ],
         "y": [
          10.876,
          10.876
         ],
         "z": [
          967931.625,
          967931.625
         ]
        },
        {
         "hovertemplate": "labels=T103.2_T1369.2_T8875.1<br>m/z=%{x}<br>rt=%{y}<br>intensity=%{z}<extra></extra>",
         "legendgroup": "T103.2_T1369.2_T8875.1",
         "marker": {
          "color": "#FF6692",
          "symbol": "circle"
         },
         "mode": "markers",
         "name": "T103.2_T1369.2_T8875.1",
         "scene": "scene",
         "showlegend": true,
         "type": "scatter3d",
         "x": [
          174.04353161049633,
          174.04353161049633,
          174.04353161049633
         ],
         "y": [
          18.735,
          18.735,
          18.735
         ],
         "z": [
          1754910,
          1754910,
          1754910
         ]
        },
        {
         "hovertemplate": "labels=T213.1_T2025.1<br>m/z=%{x}<br>rt=%{y}<br>intensity=%{z}<extra></extra>",
         "legendgroup": "T213.1_T2025.1",
         "marker": {
          "color": "#B6E880",
          "symbol": "circle"
         },
         "mode": "markers",
         "name": "T213.1_T2025.1",
         "scene": "scene",
         "showlegend": true,
         "type": "scatter3d",
         "x": [
          174.04442892852964,
          174.04442892852964
         ],
         "y": [
          10.876,
          10.876
         ],
         "z": [
          538430.875,
          538430.875
         ]
        },
        {
         "hovertemplate": "labels=T213.2_T2025.2<br>m/z=%{x}<br>rt=%{y}<br>intensity=%{z}<extra></extra>",
         "legendgroup": "T213.2_T2025.2",
         "marker": {
          "color": "#FF97FF",
          "symbol": "circle"
         },
         "mode": "markers",
         "name": "T213.2_T2025.2",
         "scene": "scene",
         "showlegend": true,
         "type": "scatter3d",
         "x": [
          174.04448504564374,
          174.04448504564374
         ],
         "y": [
          18.735,
          18.735
         ],
         "z": [
          871447.5,
          871447.5
         ]
        },
        {
         "hovertemplate": "labels=T605.1_T2830.1<br>m/z=%{x}<br>rt=%{y}<br>intensity=%{z}<extra></extra>",
         "legendgroup": "T605.1_T2830.1",
         "marker": {
          "color": "#FECB52",
          "symbol": "circle"
         },
         "mode": "markers",
         "name": "T605.1_T2830.1",
         "scene": "scene",
         "showlegend": true,
         "type": "scatter3d",
         "x": [
          174.0454580116042,
          174.0454580116042
         ],
         "y": [
          10.876,
          10.876
         ],
         "z": [
          242324,
          242324
         ]
        },
        {
         "hovertemplate": "labels=T605.2_T2830.2<br>m/z=%{x}<br>rt=%{y}<br>intensity=%{z}<extra></extra>",
         "legendgroup": "T605.2_T2830.2",
         "marker": {
          "color": "#636efa",
          "symbol": "circle"
         },
         "mode": "markers",
         "name": "T605.2_T2830.2",
         "scene": "scene",
         "showlegend": true,
         "type": "scatter3d",
         "x": [
          174.04549399555523,
          174.04549399555523
         ],
         "y": [
          18.735,
          18.735
         ],
         "z": [
          366665.59375,
          366665.59375
         ]
        },
        {
         "hovertemplate": "labels=T1779.1_T2255.1<br>m/z=%{x}<br>rt=%{y}<br>intensity=%{z}<extra></extra>",
         "legendgroup": "T1779.1_T2255.1",
         "marker": {
          "color": "#EF553B",
          "symbol": "circle"
         },
         "mode": "markers",
         "name": "T1779.1_T2255.1",
         "scene": "scene",
         "showlegend": true,
         "type": "scatter3d",
         "x": [
          174.0465198861198,
          174.0465198861198
         ],
         "y": [
          10.876,
          10.876
         ],
         "z": [
          133441.90625,
          133441.90625
         ]
        },
        {
         "hovertemplate": "labels=T1779.2_T2255.2<br>m/z=%{x}<br>rt=%{y}<br>intensity=%{z}<extra></extra>",
         "legendgroup": "T1779.2_T2255.2",
         "marker": {
          "color": "#00cc96",
          "symbol": "circle"
         },
         "mode": "markers",
         "name": "T1779.2_T2255.2",
         "scene": "scene",
         "showlegend": true,
         "type": "scatter3d",
         "x": [
          174.0465277931814,
          174.0465277931814
         ],
         "y": [
          18.735,
          18.735
         ],
         "z": [
          193209.703125,
          193209.703125
         ]
        },
        {
         "hovertemplate": "labels=T3270.1_T5028.1<br>m/z=%{x}<br>rt=%{y}<br>intensity=%{z}<extra></extra>",
         "legendgroup": "T3270.1_T5028.1",
         "marker": {
          "color": "#ab63fa",
          "symbol": "circle"
         },
         "mode": "markers",
         "name": "T3270.1_T5028.1",
         "scene": "scene",
         "showlegend": true,
         "type": "scatter3d",
         "x": [
          174.04864428517885,
          174.04864428517885
         ],
         "y": [
          20.878,
          20.878
         ],
         "z": [
          303972.40625,
          303972.40625
         ]
        },
        {
         "hovertemplate": "labels=T2753.1_T1637.3<br>m/z=%{x}<br>rt=%{y}<br>intensity=%{z}<extra></extra>",
         "legendgroup": "T2753.1_T1637.3",
         "marker": {
          "color": "#FFA15A",
          "symbol": "circle"
         },
         "mode": "markers",
         "name": "T2753.1_T1637.3",
         "scene": "scene",
         "showlegend": true,
         "type": "scatter3d",
         "x": [
          174.04966790455535,
          174.04966790455535
         ],
         "y": [
          20.164,
          20.164
         ],
         "z": [
          229976.703125,
          229976.703125
         ]
        },
        {
         "hovertemplate": "labels=T8589.1_T5308.1<br>m/z=%{x}<br>rt=%{y}<br>intensity=%{z}<extra></extra>",
         "legendgroup": "T8589.1_T5308.1",
         "marker": {
          "color": "#19d3f3",
          "symbol": "circle"
         },
         "mode": "markers",
         "name": "T8589.1_T5308.1",
         "scene": "scene",
         "showlegend": true,
         "type": "scatter3d",
         "x": [
          174.054729420464,
          174.054729420464
         ],
         "y": [
          18.735,
          18.735
         ],
         "z": [
          86539.3203125,
          86539.3203125
         ]
        },
        {
         "hovertemplate": "labels=T240.1_T9015<br>m/z=%{x}<br>rt=%{y}<br>intensity=%{z}<extra></extra>",
         "legendgroup": "T240.1_T9015",
         "marker": {
          "color": "#FF6692",
          "symbol": "circle"
         },
         "mode": "markers",
         "name": "T240.1_T9015",
         "scene": "scene",
         "showlegend": true,
         "type": "scatter3d",
         "x": [
          179.0533549708066,
          179.0533549708066
         ],
         "y": [
          15.877,
          15.877
         ],
         "z": [
          769717.1875,
          769717.1875
         ]
        },
        {
         "hovertemplate": "labels=T117.1_T6242<br>m/z=%{x}<br>rt=%{y}<br>intensity=%{z}<extra></extra>",
         "legendgroup": "T117.1_T6242",
         "marker": {
          "color": "#B6E880",
          "symbol": "circle"
         },
         "mode": "markers",
         "name": "T117.1_T6242",
         "scene": "scene",
         "showlegend": true,
         "type": "scatter3d",
         "x": [
          179.05439323790463,
          179.05439323790463
         ],
         "y": [
          15.877,
          15.877
         ],
         "z": [
          1342000,
          1342000
         ]
        },
        {
         "hovertemplate": "labels=T93.1_T3471.1_T7758.1<br>m/z=%{x}<br>rt=%{y}<br>intensity=%{z}<extra></extra>",
         "legendgroup": "T93.1_T3471.1_T7758.1",
         "marker": {
          "color": "#FF97FF",
          "symbol": "circle"
         },
         "mode": "markers",
         "name": "T93.1_T3471.1_T7758.1",
         "scene": "scene",
         "showlegend": true,
         "type": "scatter3d",
         "x": [
          179.0554150628503,
          179.0554150628503,
          179.0554150628503
         ],
         "y": [
          15.877,
          15.877,
          15.877
         ],
         "z": [
          2078839,
          2078839,
          2078839
         ]
        },
        {
         "hovertemplate": "labels=T107_T2779_T9197.1<br>m/z=%{x}<br>rt=%{y}<br>intensity=%{z}<extra></extra>",
         "legendgroup": "T107_T2779_T9197.1",
         "marker": {
          "color": "#FECB52",
          "symbol": "circle"
         },
         "mode": "markers",
         "name": "T107_T2779_T9197.1",
         "scene": "scene",
         "showlegend": true,
         "type": "scatter3d",
         "x": [
          179.05725570036637,
          179.05725570036637,
          179.05725570036637
         ],
         "y": [
          16.592,
          16.592,
          16.592
         ],
         "z": [
          3170871,
          3170871,
          3170871
         ]
        },
        {
         "hovertemplate": "labels=T104.1_T2649.1<br>m/z=%{x}<br>rt=%{y}<br>intensity=%{z}<extra></extra>",
         "legendgroup": "T104.1_T2649.1",
         "marker": {
          "color": "#636efa",
          "symbol": "circle"
         },
         "mode": "markers",
         "name": "T104.1_T2649.1",
         "scene": "scene",
         "showlegend": true,
         "type": "scatter3d",
         "x": [
          179.0580264920549,
          179.0580264920549
         ],
         "y": [
          15.877,
          15.877
         ],
         "z": [
          2242032,
          2242032
         ]
        },
        {
         "hovertemplate": "labels=T164.1_T3390<br>m/z=%{x}<br>rt=%{y}<br>intensity=%{z}<extra></extra>",
         "legendgroup": "T164.1_T3390",
         "marker": {
          "color": "#EF553B",
          "symbol": "circle"
         },
         "mode": "markers",
         "name": "T164.1_T3390",
         "scene": "scene",
         "showlegend": true,
         "type": "scatter3d",
         "x": [
          179.05905208551167,
          179.05905208551167
         ],
         "y": [
          18.02,
          18.02
         ],
         "z": [
          1099912,
          1099912
         ]
        },
        {
         "hovertemplate": "labels=T403.1_T4862<br>m/z=%{x}<br>rt=%{y}<br>intensity=%{z}<extra></extra>",
         "legendgroup": "T403.1_T4862",
         "marker": {
          "color": "#00cc96",
          "symbol": "circle"
         },
         "mode": "markers",
         "name": "T403.1_T4862",
         "scene": "scene",
         "showlegend": true,
         "type": "scatter3d",
         "x": [
          179.06007794318867,
          179.06007794318867
         ],
         "y": [
          18.02,
          18.02
         ],
         "z": [
          528790.8125,
          528790.8125
         ]
        },
        {
         "hovertemplate": "labels=T1060.1_T8138.1<br>m/z=%{x}<br>rt=%{y}<br>intensity=%{z}<extra></extra>",
         "legendgroup": "T1060.1_T8138.1",
         "marker": {
          "color": "#ab63fa",
          "symbol": "circle"
         },
         "mode": "markers",
         "name": "T1060.1_T8138.1",
         "scene": "scene",
         "showlegend": true,
         "type": "scatter3d",
         "x": [
          179.06112867421825,
          179.06112867421825
         ],
         "y": [
          15.877,
          15.877
         ],
         "z": [
          248873.203125,
          248873.203125
         ]
        },
        {
         "hovertemplate": "labels=T9.2_T356.1_T408.2_T1683.1<br>m/z=%{x}<br>rt=%{y}<br>intensity=%{z}<extra></extra>",
         "legendgroup": "T9.2_T356.1_T408.2_T1683.1",
         "marker": {
          "color": "#FFA15A",
          "symbol": "circle"
         },
         "mode": "markers",
         "name": "T9.2_T356.1_T408.2_T1683.1",
         "scene": "scene",
         "showlegend": true,
         "type": "scatter3d",
         "x": [
          215.01737918685225,
          215.01737918685225,
          215.01737918685225,
          215.01737918685225
         ],
         "y": [
          13.734,
          13.734,
          13.734,
          13.734
         ],
         "z": [
          1837368,
          1837368,
          1837368,
          1837368
         ]
        },
        {
         "hovertemplate": "labels=T458_T483.1_T796<br>m/z=%{x}<br>rt=%{y}<br>intensity=%{z}<extra></extra>",
         "legendgroup": "T458_T483.1_T796",
         "marker": {
          "color": "#19d3f3",
          "symbol": "circle"
         },
         "mode": "markers",
         "name": "T458_T483.1_T796",
         "scene": "scene",
         "showlegend": true,
         "type": "scatter3d",
         "x": [
          215.02180602512362,
          215.02180602512362,
          215.02180602512362
         ],
         "y": [
          13.734,
          13.734,
          13.734
         ],
         "z": [
          498089.6875,
          498089.6875,
          498089.6875
         ]
        },
        {
         "hovertemplate": "labels=T948_T5350_T369.1_T9190<br>m/z=%{x}<br>rt=%{y}<br>intensity=%{z}<extra></extra>",
         "legendgroup": "T948_T5350_T369.1_T9190",
         "marker": {
          "color": "#FF6692",
          "symbol": "circle"
         },
         "mode": "markers",
         "name": "T948_T5350_T369.1_T9190",
         "scene": "scene",
         "showlegend": true,
         "type": "scatter3d",
         "x": [
          215.02271482084163,
          215.02271482084163,
          215.02271482084163,
          215.02271482084163
         ],
         "y": [
          15.163,
          15.163,
          15.163,
          15.163
         ],
         "z": [
          535252.6875,
          535252.6875,
          535252.6875,
          535252.6875
         ]
        },
        {
         "hovertemplate": "labels=T1168.1_T4935<br>m/z=%{x}<br>rt=%{y}<br>intensity=%{z}<extra></extra>",
         "legendgroup": "T1168.1_T4935",
         "marker": {
          "color": "#B6E880",
          "symbol": "circle"
         },
         "mode": "markers",
         "name": "T1168.1_T4935",
         "scene": "scene",
         "showlegend": true,
         "type": "scatter3d",
         "x": [
          215.0248554147281,
          215.0248554147281
         ],
         "y": [
          17.306,
          17.306
         ],
         "z": [
          507998.40625,
          507998.40625
         ]
        },
        {
         "hovertemplate": "labels=T14.1_T3364_T68.1_T8110<br>m/z=%{x}<br>rt=%{y}<br>intensity=%{z}<extra></extra>",
         "legendgroup": "T14.1_T3364_T68.1_T8110",
         "marker": {
          "color": "#FF97FF",
          "symbol": "circle"
         },
         "mode": "markers",
         "name": "T14.1_T3364_T68.1_T8110",
         "scene": "scene",
         "showlegend": true,
         "type": "scatter3d",
         "x": [
          215.03190084312038,
          215.03190084312038,
          215.03190084312038,
          215.03190084312038
         ],
         "y": [
          15.877,
          15.877,
          15.877,
          15.877
         ],
         "z": [
          5602176,
          5602176,
          5602176,
          5602176
         ]
        },
        {
         "hovertemplate": "labels=T15_T328.1_T400.1_T1209.1_T7065<br>m/z=%{x}<br>rt=%{y}<br>intensity=%{z}<extra></extra>",
         "legendgroup": "T15_T328.1_T400.1_T1209.1_T7065",
         "marker": {
          "color": "#FECB52",
          "symbol": "circle"
         },
         "mode": "markers",
         "name": "T15_T328.1_T400.1_T1209.1_T7065",
         "scene": "scene",
         "showlegend": true,
         "type": "scatter3d",
         "x": [
          215.0329413829679,
          215.0329413829679,
          215.0329413829679,
          215.0329413829679,
          215.0329413829679
         ],
         "y": [
          15.163,
          15.163,
          15.163,
          15.163,
          15.163
         ],
         "z": [
          12848280,
          12848280,
          12848280,
          12848280,
          12848280
         ]
        },
        {
         "hovertemplate": "labels=T8.1_T334_T757_T2656_T7809.1<br>m/z=%{x}<br>rt=%{y}<br>intensity=%{z}<extra></extra>",
         "legendgroup": "T8.1_T334_T757_T2656_T7809.1",
         "marker": {
          "color": "#636efa",
          "symbol": "circle"
         },
         "mode": "markers",
         "name": "T8.1_T334_T757_T2656_T7809.1",
         "scene": "scene",
         "showlegend": true,
         "type": "scatter3d",
         "x": [
          215.03399129900413,
          215.03399129900413,
          215.03399129900413,
          215.03399129900413,
          215.03399129900413
         ],
         "y": [
          15.877,
          15.877,
          15.877,
          15.877,
          15.877
         ],
         "z": [
          11535940,
          11535940,
          11535940,
          11535940,
          11535940
         ]
        },
        {
         "hovertemplate": "labels=T10.1_T319_T1231_T4744<br>m/z=%{x}<br>rt=%{y}<br>intensity=%{z}<extra></extra>",
         "legendgroup": "T10.1_T319_T1231_T4744",
         "marker": {
          "color": "#EF553B",
          "symbol": "circle"
         },
         "mode": "markers",
         "name": "T10.1_T319_T1231_T4744",
         "scene": "scene",
         "showlegend": true,
         "type": "scatter3d",
         "x": [
          215.03511383954392,
          215.03511383954392,
          215.03511383954392,
          215.03511383954392
         ],
         "y": [
          13.734,
          13.734,
          13.734,
          13.734
         ],
         "z": [
          7554201,
          7554201,
          7554201,
          7554201
         ]
        },
        {
         "hovertemplate": "labels=T32.1_T815_T4243_T3617<br>m/z=%{x}<br>rt=%{y}<br>intensity=%{z}<extra></extra>",
         "legendgroup": "T32.1_T815_T4243_T3617",
         "marker": {
          "color": "#00cc96",
          "symbol": "circle"
         },
         "mode": "markers",
         "name": "T32.1_T815_T4243_T3617",
         "scene": "scene",
         "showlegend": true,
         "type": "scatter3d",
         "x": [
          215.03617872341167,
          215.03617872341167,
          215.03617872341167,
          215.03617872341167
         ],
         "y": [
          13.734,
          13.734,
          13.734,
          13.734
         ],
         "z": [
          1858533,
          1858533,
          1858533,
          1858533
         ]
        },
        {
         "hovertemplate": "labels=T524.1_T425_T1839.1<br>m/z=%{x}<br>rt=%{y}<br>intensity=%{z}<extra></extra>",
         "legendgroup": "T524.1_T425_T1839.1",
         "marker": {
          "color": "#ab63fa",
          "symbol": "circle"
         },
         "mode": "markers",
         "name": "T524.1_T425_T1839.1",
         "scene": "scene",
         "showlegend": true,
         "type": "scatter3d",
         "x": [
          215.03853406677013,
          215.03853406677013,
          215.03853406677013
         ],
         "y": [
          18.02,
          18.02,
          18.02
         ],
         "z": [
          435689.59375,
          435689.59375,
          435689.59375
         ]
        },
        {
         "hovertemplate": "labels=T1513.1_T4713_T2180.1<br>m/z=%{x}<br>rt=%{y}<br>intensity=%{z}<extra></extra>",
         "legendgroup": "T1513.1_T4713_T2180.1",
         "marker": {
          "color": "#FFA15A",
          "symbol": "circle"
         },
         "mode": "markers",
         "name": "T1513.1_T4713_T2180.1",
         "scene": "scene",
         "showlegend": true,
         "type": "scatter3d",
         "x": [
          215.0398557722932,
          215.0398557722932,
          215.0398557722932
         ],
         "y": [
          16.592,
          16.592,
          16.592
         ],
         "z": [
          365579.8125,
          365579.8125,
          365579.8125
         ]
        },
        {
         "hovertemplate": "labels=T2625.1_T6901_T4975.1<br>m/z=%{x}<br>rt=%{y}<br>intensity=%{z}<extra></extra>",
         "legendgroup": "T2625.1_T6901_T4975.1",
         "marker": {
          "color": "#19d3f3",
          "symbol": "circle"
         },
         "mode": "markers",
         "name": "T2625.1_T6901_T4975.1",
         "scene": "scene",
         "showlegend": true,
         "type": "scatter3d",
         "x": [
          215.04554561443845,
          215.04554561443845,
          215.04554561443845
         ],
         "y": [
          18.735,
          18.735,
          18.735
         ],
         "z": [
          263278.40625,
          263278.40625,
          263278.40625
         ]
        },
        {
         "hovertemplate": "labels=T992_T7891_T8751<br>m/z=%{x}<br>rt=%{y}<br>intensity=%{z}<extra></extra>",
         "legendgroup": "T992_T7891_T8751",
         "marker": {
          "color": "#FF6692",
          "symbol": "circle"
         },
         "mode": "markers",
         "name": "T992_T7891_T8751",
         "scene": "scene",
         "showlegend": true,
         "type": "scatter3d",
         "x": [
          215.05020282789292,
          215.05020282789292,
          215.05020282789292
         ],
         "y": [
          15.163,
          15.163,
          15.163
         ],
         "z": [
          331262.90625,
          331262.90625,
          331262.90625
         ]
        },
        {
         "hovertemplate": "labels=T1843.1_T83<br>m/z=%{x}<br>rt=%{y}<br>intensity=%{z}<extra></extra>",
         "legendgroup": "T1843.1_T83",
         "marker": {
          "color": "#B6E880",
          "symbol": "circle"
         },
         "mode": "markers",
         "name": "T1843.1_T83",
         "scene": "scene",
         "showlegend": true,
         "type": "scatter3d",
         "x": [
          216.03153766519654,
          216.03153766519654
         ],
         "y": [
          15.877,
          15.877
         ],
         "z": [
          175801.90625,
          175801.90625
         ]
        },
        {
         "hovertemplate": "labels=T302.1_T1765.1_T9423<br>m/z=%{x}<br>rt=%{y}<br>intensity=%{z}<extra></extra>",
         "legendgroup": "T302.1_T1765.1_T9423",
         "marker": {
          "color": "#FF97FF",
          "symbol": "circle"
         },
         "mode": "markers",
         "name": "T302.1_T1765.1_T9423",
         "scene": "scene",
         "showlegend": true,
         "type": "scatter3d",
         "x": [
          216.03821402746087,
          216.03821402746087,
          216.03821402746087
         ],
         "y": [
          15.877,
          15.877,
          15.877
         ],
         "z": [
          731720.375,
          731720.375,
          731720.375
         ]
        },
        {
         "hovertemplate": "labels=T1955.1_T3356.1<br>m/z=%{x}<br>rt=%{y}<br>intensity=%{z}<extra></extra>",
         "legendgroup": "T1955.1_T3356.1",
         "marker": {
          "color": "#FECB52",
          "symbol": "circle"
         },
         "mode": "markers",
         "name": "T1955.1_T3356.1",
         "scene": "scene",
         "showlegend": true,
         "type": "scatter3d",
         "x": [
          216.04169921919316,
          216.04169921919316
         ],
         "y": [
          13.734,
          13.734
         ],
         "z": [
          123249,
          123249
         ]
        },
        {
         "hovertemplate": "labels=T7083_T4918<br>m/z=%{x}<br>rt=%{y}<br>intensity=%{z}<extra></extra>",
         "legendgroup": "T7083_T4918",
         "marker": {
          "color": "#636efa",
          "symbol": "circle"
         },
         "mode": "markers",
         "name": "T7083_T4918",
         "scene": "scene",
         "showlegend": true,
         "type": "scatter3d",
         "x": [
          216.04398461874635,
          216.04398461874635
         ],
         "y": [
          15.163,
          15.163
         ],
         "z": [
          74928.1484375,
          74928.1484375
         ]
        },
        {
         "hovertemplate": "labels=T6845_T4203<br>m/z=%{x}<br>rt=%{y}<br>intensity=%{z}<extra></extra>",
         "legendgroup": "T6845_T4203",
         "marker": {
          "color": "#EF553B",
          "symbol": "circle"
         },
         "mode": "markers",
         "name": "T6845_T4203",
         "scene": "scene",
         "showlegend": true,
         "type": "scatter3d",
         "x": [
          216.04640691959978,
          216.04640691959978
         ],
         "y": [
          15.877,
          15.877
         ],
         "z": [
          75420.359375,
          75420.359375
         ]
        },
        {
         "hovertemplate": "labels=T7054_T5792<br>m/z=%{x}<br>rt=%{y}<br>intensity=%{z}<extra></extra>",
         "legendgroup": "T7054_T5792",
         "marker": {
          "color": "#00cc96",
          "symbol": "circle"
         },
         "mode": "markers",
         "name": "T7054_T5792",
         "scene": "scene",
         "showlegend": true,
         "type": "scatter3d",
         "x": [
          216.04856150004966,
          216.04856150004966
         ],
         "y": [
          13.019,
          13.019
         ],
         "z": [
          77100.1328125,
          77100.1328125
         ]
        },
        {
         "hovertemplate": "labels=T52.1_T2133<br>m/z=%{x}<br>rt=%{y}<br>intensity=%{z}<extra></extra>",
         "legendgroup": "T52.1_T2133",
         "marker": {
          "color": "#ab63fa",
          "symbol": "circle"
         },
         "mode": "markers",
         "name": "T52.1_T2133",
         "scene": "scene",
         "showlegend": true,
         "type": "scatter3d",
         "x": [
          217.02888062324993,
          217.02888062324993
         ],
         "y": [
          15.877,
          15.877
         ],
         "z": [
          3134495,
          3134495
         ]
        },
        {
         "hovertemplate": "labels=T58_T1492_T8462<br>m/z=%{x}<br>rt=%{y}<br>intensity=%{z}<extra></extra>",
         "legendgroup": "T58_T1492_T8462",
         "marker": {
          "color": "#FFA15A",
          "symbol": "circle"
         },
         "mode": "markers",
         "name": "T58_T1492_T8462",
         "scene": "scene",
         "showlegend": true,
         "type": "scatter3d",
         "x": [
          217.0299527913717,
          217.0299527913717,
          217.0299527913717
         ],
         "y": [
          15.163,
          15.163,
          15.163
         ],
         "z": [
          4324604,
          4324604,
          4324604
         ]
        },
        {
         "hovertemplate": "labels=T50.1_T1308_T7648<br>m/z=%{x}<br>rt=%{y}<br>intensity=%{z}<extra></extra>",
         "legendgroup": "T50.1_T1308_T7648",
         "marker": {
          "color": "#19d3f3",
          "symbol": "circle"
         },
         "mode": "markers",
         "name": "T50.1_T1308_T7648",
         "scene": "scene",
         "showlegend": true,
         "type": "scatter3d",
         "x": [
          217.03103438051238,
          217.03103438051238,
          217.03103438051238
         ],
         "y": [
          15.877,
          15.877,
          15.877
         ],
         "z": [
          3915754,
          3915754,
          3915754
         ]
        },
        {
         "hovertemplate": "labels=T55.1_T1306_T7007<br>m/z=%{x}<br>rt=%{y}<br>intensity=%{z}<extra></extra>",
         "legendgroup": "T55.1_T1306_T7007",
         "marker": {
          "color": "#FF6692",
          "symbol": "circle"
         },
         "mode": "markers",
         "name": "T55.1_T1306_T7007",
         "scene": "scene",
         "showlegend": true,
         "type": "scatter3d",
         "x": [
          217.03216632703473,
          217.03216632703473,
          217.03216632703473
         ],
         "y": [
          13.734,
          13.734,
          13.734
         ],
         "z": [
          2970061,
          2970061,
          2970061
         ]
        },
        {
         "hovertemplate": "labels=T158.1_T1523<br>m/z=%{x}<br>rt=%{y}<br>intensity=%{z}<extra></extra>",
         "legendgroup": "T158.1_T1523",
         "marker": {
          "color": "#B6E880",
          "symbol": "circle"
         },
         "mode": "markers",
         "name": "T158.1_T1523",
         "scene": "scene",
         "showlegend": true,
         "type": "scatter3d",
         "x": [
          217.0344409325944,
          217.0344409325944
         ],
         "y": [
          13.734,
          13.734
         ],
         "z": [
          1010467,
          1010467
         ]
        },
        {
         "hovertemplate": "labels=T7897.1_T4722.1<br>m/z=%{x}<br>rt=%{y}<br>intensity=%{z}<extra></extra>",
         "legendgroup": "T7897.1_T4722.1",
         "marker": {
          "color": "#FF97FF",
          "symbol": "circle"
         },
         "mode": "markers",
         "name": "T7897.1_T4722.1",
         "scene": "scene",
         "showlegend": true,
         "type": "scatter3d",
         "x": [
          254.8857757928645,
          254.8857757928645
         ],
         "y": [
          18.02,
          18.02
         ],
         "z": [
          116782.5,
          116782.5
         ]
        },
        {
         "hovertemplate": "labels=T8005.1_T4679.1<br>m/z=%{x}<br>rt=%{y}<br>intensity=%{z}<extra></extra>",
         "legendgroup": "T8005.1_T4679.1",
         "marker": {
          "color": "#FECB52",
          "symbol": "circle"
         },
         "mode": "markers",
         "name": "T8005.1_T4679.1",
         "scene": "scene",
         "showlegend": true,
         "type": "scatter3d",
         "x": [
          254.8870265804124,
          254.8870265804124
         ],
         "y": [
          18.02,
          18.02
         ],
         "z": [
          89147.5625,
          89147.5625
         ]
        },
        {
         "hovertemplate": "labels=T2147.1_T7050.1<br>m/z=%{x}<br>rt=%{y}<br>intensity=%{z}<extra></extra>",
         "legendgroup": "T2147.1_T7050.1",
         "marker": {
          "color": "#636efa",
          "symbol": "circle"
         },
         "mode": "markers",
         "name": "T2147.1_T7050.1",
         "scene": "scene",
         "showlegend": true,
         "type": "scatter3d",
         "x": [
          255.21819419624572,
          255.21819419624572
         ],
         "y": [
          13.734,
          13.734
         ],
         "z": [
          63472.2890625,
          63472.2890625
         ]
        },
        {
         "hovertemplate": "labels=T3905.1_T9398.1<br>m/z=%{x}<br>rt=%{y}<br>intensity=%{z}<extra></extra>",
         "legendgroup": "T3905.1_T9398.1",
         "marker": {
          "color": "#EF553B",
          "symbol": "circle"
         },
         "mode": "markers",
         "name": "T3905.1_T9398.1",
         "scene": "scene",
         "showlegend": true,
         "type": "scatter3d",
         "x": [
          255.22452721365087,
          255.22452721365087
         ],
         "y": [
          13.019,
          13.019
         ],
         "z": [
          251475,
          251475
         ]
        },
        {
         "hovertemplate": "labels=T900.1_T6440.1<br>m/z=%{x}<br>rt=%{y}<br>intensity=%{z}<extra></extra>",
         "legendgroup": "T900.1_T6440.1",
         "marker": {
          "color": "#00cc96",
          "symbol": "circle"
         },
         "mode": "markers",
         "name": "T900.1_T6440.1",
         "scene": "scene",
         "showlegend": true,
         "type": "scatter3d",
         "x": [
          255.22831812180863,
          255.22831812180863
         ],
         "y": [
          15.877,
          15.877
         ],
         "z": [
          343643.5,
          343643.5
         ]
        },
        {
         "hovertemplate": "labels=T225.1_T2643.1<br>m/z=%{x}<br>rt=%{y}<br>intensity=%{z}<extra></extra>",
         "legendgroup": "T225.1_T2643.1",
         "marker": {
          "color": "#ab63fa",
          "symbol": "circle"
         },
         "mode": "markers",
         "name": "T225.1_T2643.1",
         "scene": "scene",
         "showlegend": true,
         "type": "scatter3d",
         "x": [
          255.23201246258512,
          255.23201246258512
         ],
         "y": [
          15.877,
          15.877
         ],
         "z": [
          1868204,
          1868204
         ]
        },
        {
         "hovertemplate": "labels=T224.1_T1930.1<br>m/z=%{x}<br>rt=%{y}<br>intensity=%{z}<extra></extra>",
         "legendgroup": "T224.1_T1930.1",
         "marker": {
          "color": "#FFA15A",
          "symbol": "circle"
         },
         "mode": "markers",
         "name": "T224.1_T1930.1",
         "scene": "scene",
         "showlegend": true,
         "type": "scatter3d",
         "x": [
          255.2332508963909,
          255.2332508963909
         ],
         "y": [
          13.019,
          13.019
         ],
         "z": [
          2707520,
          2707520
         ]
        },
        {
         "hovertemplate": "labels=T229.1_T1890.1<br>m/z=%{x}<br>rt=%{y}<br>intensity=%{z}<extra></extra>",
         "legendgroup": "T229.1_T1890.1",
         "marker": {
          "color": "#19d3f3",
          "symbol": "circle"
         },
         "mode": "markers",
         "name": "T229.1_T1890.1",
         "scene": "scene",
         "showlegend": true,
         "type": "scatter3d",
         "x": [
          255.23449087409563,
          255.23449087409563
         ],
         "y": [
          13.019,
          13.019
         ],
         "z": [
          2200520,
          2200520
         ]
        },
        {
         "hovertemplate": "labels=T245.1_T1774.1<br>m/z=%{x}<br>rt=%{y}<br>intensity=%{z}<extra></extra>",
         "legendgroup": "T245.1_T1774.1",
         "marker": {
          "color": "#FF6692",
          "symbol": "circle"
         },
         "mode": "markers",
         "name": "T245.1_T1774.1",
         "scene": "scene",
         "showlegend": true,
         "type": "scatter3d",
         "x": [
          255.2357324350558,
          255.2357324350558
         ],
         "y": [
          13.019,
          13.019
         ],
         "z": [
          1562834,
          1562834
         ]
        },
        {
         "hovertemplate": "labels=T363.1_T2412.1<br>m/z=%{x}<br>rt=%{y}<br>intensity=%{z}<extra></extra>",
         "legendgroup": "T363.1_T2412.1",
         "marker": {
          "color": "#B6E880",
          "symbol": "circle"
         },
         "mode": "markers",
         "name": "T363.1_T2412.1",
         "scene": "scene",
         "showlegend": true,
         "type": "scatter3d",
         "x": [
          255.2369832671016,
          255.2369832671016
         ],
         "y": [
          18.02,
          18.02
         ],
         "z": [
          889990.5,
          889990.5
         ]
        },
        {
         "hovertemplate": "labels=T786.1_T2714.1<br>m/z=%{x}<br>rt=%{y}<br>intensity=%{z}<extra></extra>",
         "legendgroup": "T786.1_T2714.1",
         "marker": {
          "color": "#FF97FF",
          "symbol": "circle"
         },
         "mode": "markers",
         "name": "T786.1_T2714.1",
         "scene": "scene",
         "showlegend": true,
         "type": "scatter3d",
         "x": [
          255.23822683219169,
          255.23822683219169
         ],
         "y": [
          13.019,
          13.019
         ],
         "z": [
          469358.1875,
          469358.1875
         ]
        },
        {
         "hovertemplate": "labels=T2113.1_T4192.1<br>m/z=%{x}<br>rt=%{y}<br>intensity=%{z}<extra></extra>",
         "legendgroup": "T2113.1_T4192.1",
         "marker": {
          "color": "#FECB52",
          "symbol": "circle"
         },
         "mode": "markers",
         "name": "T2113.1_T4192.1",
         "scene": "scene",
         "showlegend": true,
         "type": "scatter3d",
         "x": [
          255.23948065086205,
          255.23948065086205
         ],
         "y": [
          13.019,
          13.019
         ],
         "z": [
          300707.90625,
          300707.90625
         ]
        },
        {
         "hovertemplate": "labels=T4845.1_T6356.1<br>m/z=%{x}<br>rt=%{y}<br>intensity=%{z}<extra></extra>",
         "legendgroup": "T4845.1_T6356.1",
         "marker": {
          "color": "#636efa",
          "symbol": "circle"
         },
         "mode": "markers",
         "name": "T4845.1_T6356.1",
         "scene": "scene",
         "showlegend": true,
         "type": "scatter3d",
         "x": [
          255.24321982847658,
          255.24321982847658
         ],
         "y": [
          15.877,
          15.877
         ],
         "z": [
          215434.90625,
          215434.90625
         ]
        },
        {
         "hovertemplate": "labels=T2731.1_T7886.1<br>m/z=%{x}<br>rt=%{y}<br>intensity=%{z}<extra></extra>",
         "legendgroup": "T2731.1_T7886.1",
         "marker": {
          "color": "#EF553B",
          "symbol": "circle"
         },
         "mode": "markers",
         "name": "T2731.1_T7886.1",
         "scene": "scene",
         "showlegend": true,
         "type": "scatter3d",
         "x": [
          265.14400894748655,
          265.14400894748655
         ],
         "y": [
          10.162,
          10.162
         ],
         "z": [
          191428.40625,
          191428.40625
         ]
        },
        {
         "hovertemplate": "labels=T698.1_T6607.1<br>m/z=%{x}<br>rt=%{y}<br>intensity=%{z}<extra></extra>",
         "legendgroup": "T698.1_T6607.1",
         "marker": {
          "color": "#00cc96",
          "symbol": "circle"
         },
         "mode": "markers",
         "name": "T698.1_T6607.1",
         "scene": "scene",
         "showlegend": true,
         "type": "scatter3d",
         "x": [
          265.1476954044549,
          265.1476954044549
         ],
         "y": [
          10.162,
          10.162
         ],
         "z": [
          269741.90625,
          269741.90625
         ]
        },
        {
         "hovertemplate": "labels=T736.1_T6045.1<br>m/z=%{x}<br>rt=%{y}<br>intensity=%{z}<extra></extra>",
         "legendgroup": "T736.1_T6045.1",
         "marker": {
          "color": "#ab63fa",
          "symbol": "circle"
         },
         "mode": "markers",
         "name": "T736.1_T6045.1",
         "scene": "scene",
         "showlegend": true,
         "type": "scatter3d",
         "x": [
          265.15071517926555,
          265.15071517926555
         ],
         "y": [
          10.162,
          10.162
         ],
         "z": [
          190266.59375,
          190266.59375
         ]
        },
        {
         "hovertemplate": "labels=T1079.1_T5754.1<br>m/z=%{x}<br>rt=%{y}<br>intensity=%{z}<extra></extra>",
         "legendgroup": "T1079.1_T5754.1",
         "marker": {
          "color": "#FFA15A",
          "symbol": "circle"
         },
         "mode": "markers",
         "name": "T1079.1_T5754.1",
         "scene": "scene",
         "showlegend": true,
         "type": "scatter3d",
         "x": [
          265.1519872420435,
          265.1519872420435
         ],
         "y": [
          10.162,
          10.162
         ],
         "z": [
          126000.796875,
          126000.796875
         ]
        },
        {
         "hovertemplate": "labels=T2309.1_T7488<br>m/z=%{x}<br>rt=%{y}<br>intensity=%{z}<extra></extra>",
         "legendgroup": "T2309.1_T7488",
         "marker": {
          "color": "#19d3f3",
          "symbol": "circle"
         },
         "mode": "markers",
         "name": "T2309.1_T7488",
         "scene": "scene",
         "showlegend": true,
         "type": "scatter3d",
         "x": [
          265.1532486811701,
          265.1532486811701
         ],
         "y": [
          10.162,
          10.162
         ],
         "z": [
          65184.4609375,
          65184.4609375
         ]
        },
        {
         "hovertemplate": "labels=T116_T2135.2_T5063<br>m/z=%{x}<br>rt=%{y}<br>intensity=%{z}<extra></extra>",
         "legendgroup": "T116_T2135.2_T5063",
         "marker": {
          "color": "#FF6692",
          "symbol": "circle"
         },
         "mode": "markers",
         "name": "T116_T2135.2_T5063",
         "scene": "scene",
         "showlegend": true,
         "type": "scatter3d",
         "x": [
          277.01395742986927,
          277.01395742986927,
          277.01395742986927
         ],
         "y": [
          13.734,
          13.734,
          13.734
         ],
         "z": [
          345899.09375,
          345899.09375,
          345899.09375
         ]
        },
        {
         "hovertemplate": "labels=T861.1_T8789<br>m/z=%{x}<br>rt=%{y}<br>intensity=%{z}<extra></extra>",
         "legendgroup": "T861.1_T8789",
         "marker": {
          "color": "#B6E880",
          "symbol": "circle"
         },
         "mode": "markers",
         "name": "T861.1_T8789",
         "scene": "scene",
         "showlegend": true,
         "type": "scatter3d",
         "x": [
          277.0222130201709,
          277.0222130201709
         ],
         "y": [
          11.591,
          11.591
         ],
         "z": [
          663967.1875,
          663967.1875
         ]
        },
        {
         "hovertemplate": "labels=T841.1_T7541.1<br>m/z=%{x}<br>rt=%{y}<br>intensity=%{z}<extra></extra>",
         "legendgroup": "T841.1_T7541.1",
         "marker": {
          "color": "#FF97FF",
          "symbol": "circle"
         },
         "mode": "markers",
         "name": "T841.1_T7541.1",
         "scene": "scene",
         "showlegend": true,
         "type": "scatter3d",
         "x": [
          277.02351642731895,
          277.02351642731895
         ],
         "y": [
          10.876,
          10.876
         ],
         "z": [
          660781,
          660781
         ]
        },
        {
         "hovertemplate": "labels=T859.1_T6929.1<br>m/z=%{x}<br>rt=%{y}<br>intensity=%{z}<extra></extra>",
         "legendgroup": "T859.1_T6929.1",
         "marker": {
          "color": "#FECB52",
          "symbol": "circle"
         },
         "mode": "markers",
         "name": "T859.1_T6929.1",
         "scene": "scene",
         "showlegend": true,
         "type": "scatter3d",
         "x": [
          277.02495781973323,
          277.02495781973323
         ],
         "y": [
          10.162,
          10.162
         ],
         "z": [
          673172.625,
          673172.625
         ]
        },
        {
         "hovertemplate": "labels=T791_T6147.1_T9273.1<br>m/z=%{x}<br>rt=%{y}<br>intensity=%{z}<extra></extra>",
         "legendgroup": "T791_T6147.1_T9273.1",
         "marker": {
          "color": "#636efa",
          "symbol": "circle"
         },
         "mode": "markers",
         "name": "T791_T6147.1_T9273.1",
         "scene": "scene",
         "showlegend": true,
         "type": "scatter3d",
         "x": [
          277.0261880030536,
          277.0261880030536,
          277.0261880030536
         ],
         "y": [
          14.448,
          14.448,
          14.448
         ],
         "z": [
          742169.5,
          742169.5,
          742169.5
         ]
        },
        {
         "hovertemplate": "labels=T161.1_T5053.1_T6311<br>m/z=%{x}<br>rt=%{y}<br>intensity=%{z}<extra></extra>",
         "legendgroup": "T161.1_T5053.1_T6311",
         "marker": {
          "color": "#EF553B",
          "symbol": "circle"
         },
         "mode": "markers",
         "name": "T161.1_T5053.1_T6311",
         "scene": "scene",
         "showlegend": true,
         "type": "scatter3d",
         "x": [
          277.02879300161277,
          277.02879300161277,
          277.02879300161277
         ],
         "y": [
          15.877,
          15.877,
          15.877
         ],
         "z": [
          1431637,
          1431637,
          1431637
         ]
        },
        {
         "hovertemplate": "labels=T54.1_T1725_T5952<br>m/z=%{x}<br>rt=%{y}<br>intensity=%{z}<extra></extra>",
         "legendgroup": "T54.1_T1725_T5952",
         "marker": {
          "color": "#00cc96",
          "symbol": "circle"
         },
         "mode": "markers",
         "name": "T54.1_T1725_T5952",
         "scene": "scene",
         "showlegend": true,
         "type": "scatter3d",
         "x": [
          277.03139427244037,
          277.03139427244037,
          277.03139427244037
         ],
         "y": [
          15.877,
          15.877,
          15.877
         ],
         "z": [
          5447029,
          5447029,
          5447029
         ]
        },
        {
         "hovertemplate": "labels=T48.1_T929.1_T3783.1<br>m/z=%{x}<br>rt=%{y}<br>intensity=%{z}<extra></extra>",
         "legendgroup": "T48.1_T929.1_T3783.1",
         "marker": {
          "color": "#ab63fa",
          "symbol": "circle"
         },
         "mode": "markers",
         "name": "T48.1_T929.1_T3783.1",
         "scene": "scene",
         "showlegend": true,
         "type": "scatter3d",
         "x": [
          277.0352988431775,
          277.0352988431775,
          277.0352988431775
         ],
         "y": [
          11.591,
          11.591,
          11.591
         ],
         "z": [
          5687581,
          5687581,
          5687581
         ]
        },
        {
         "hovertemplate": "labels=T66.1_T1032.1_T3862.1<br>m/z=%{x}<br>rt=%{y}<br>intensity=%{z}<extra></extra>",
         "legendgroup": "T66.1_T1032.1_T3862.1",
         "marker": {
          "color": "#FFA15A",
          "symbol": "circle"
         },
         "mode": "markers",
         "name": "T66.1_T1032.1_T3862.1",
         "scene": "scene",
         "showlegend": true,
         "type": "scatter3d",
         "x": [
          277.03660762139504,
          277.03660762139504,
          277.03660762139504
         ],
         "y": [
          18.02,
          18.02,
          18.02
         ],
         "z": [
          2367769,
          2367769,
          2367769
         ]
        },
        {
         "hovertemplate": "labels=T110.1_T1387.1_T4363.1<br>m/z=%{x}<br>rt=%{y}<br>intensity=%{z}<extra></extra>",
         "legendgroup": "T110.1_T1387.1_T4363.1",
         "marker": {
          "color": "#19d3f3",
          "symbol": "circle"
         },
         "mode": "markers",
         "name": "T110.1_T1387.1_T4363.1",
         "scene": "scene",
         "showlegend": true,
         "type": "scatter3d",
         "x": [
          277.0379188656511,
          277.0379188656511,
          277.0379188656511
         ],
         "y": [
          18.02,
          18.02,
          18.02
         ],
         "z": [
          1254049,
          1254049,
          1254049
         ]
        },
        {
         "hovertemplate": "labels=T792.1_T3932.1_T6209.1<br>m/z=%{x}<br>rt=%{y}<br>intensity=%{z}<extra></extra>",
         "legendgroup": "T792.1_T3932.1_T6209.1",
         "marker": {
          "color": "#FF6692",
          "symbol": "circle"
         },
         "mode": "markers",
         "name": "T792.1_T3932.1_T6209.1",
         "scene": "scene",
         "showlegend": true,
         "type": "scatter3d",
         "x": [
          277.040526100631,
          277.040526100631,
          277.040526100631
         ],
         "y": [
          18.02,
          18.02,
          18.02
         ],
         "z": [
          354514.40625,
          354514.40625,
          354514.40625
         ]
        },
        {
         "hovertemplate": "labels=T1689.1_T6363.1<br>m/z=%{x}<br>rt=%{y}<br>intensity=%{z}<extra></extra>",
         "legendgroup": "T1689.1_T6363.1",
         "marker": {
          "color": "#B6E880",
          "symbol": "circle"
         },
         "mode": "markers",
         "name": "T1689.1_T6363.1",
         "scene": "scene",
         "showlegend": true,
         "type": "scatter3d",
         "x": [
          277.0418163451742,
          277.0418163451742
         ],
         "y": [
          11.591,
          11.591
         ],
         "z": [
          382512.59375,
          382512.59375
         ]
        },
        {
         "hovertemplate": "labels=T2163.1_T9828.1<br>m/z=%{x}<br>rt=%{y}<br>intensity=%{z}<extra></extra>",
         "legendgroup": "T2163.1_T9828.1",
         "marker": {
          "color": "#FF97FF",
          "symbol": "circle"
         },
         "mode": "markers",
         "name": "T2163.1_T9828.1",
         "scene": "scene",
         "showlegend": true,
         "type": "scatter3d",
         "x": [
          277.0430804782086,
          277.0430804782086
         ],
         "y": [
          15.877,
          15.877
         ],
         "z": [
          381503.8125,
          381503.8125
         ]
        },
        {
         "hovertemplate": "labels=T1246.1_T3770<br>m/z=%{x}<br>rt=%{y}<br>intensity=%{z}<extra></extra>",
         "legendgroup": "T1246.1_T3770",
         "marker": {
          "color": "#FECB52",
          "symbol": "circle"
         },
         "mode": "markers",
         "name": "T1246.1_T3770",
         "scene": "scene",
         "showlegend": true,
         "type": "scatter3d",
         "x": [
          278.0345090667706,
          278.0345090667706
         ],
         "y": [
          15.877,
          15.877
         ],
         "z": [
          428621.3125,
          428621.3125
         ]
        },
        {
         "hovertemplate": "labels=T808_T6323.1<br>m/z=%{x}<br>rt=%{y}<br>intensity=%{z}<extra></extra>",
         "legendgroup": "T808_T6323.1",
         "marker": {
          "color": "#636efa",
          "symbol": "circle"
         },
         "mode": "markers",
         "name": "T808_T6323.1",
         "scene": "scene",
         "showlegend": true,
         "type": "scatter3d",
         "x": [
          283.24549552412645,
          283.24549552412645
         ],
         "y": [
          13.734,
          13.734
         ],
         "z": [
          107479.6015625,
          107479.6015625
         ]
        },
        {
         "hovertemplate": "labels=T2364.1_T10137.1<br>m/z=%{x}<br>rt=%{y}<br>intensity=%{z}<extra></extra>",
         "legendgroup": "T2364.1_T10137.1",
         "marker": {
          "color": "#EF553B",
          "symbol": "circle"
         },
         "mode": "markers",
         "name": "T2364.1_T10137.1",
         "scene": "scene",
         "showlegend": true,
         "type": "scatter3d",
         "x": [
          283.25706405282915,
          283.25706405282915
         ],
         "y": [
          15.877,
          15.877
         ],
         "z": [
          252915.203125,
          252915.203125
         ]
        },
        {
         "hovertemplate": "labels=T711.1_T7484.1<br>m/z=%{x}<br>rt=%{y}<br>intensity=%{z}<extra></extra>",
         "legendgroup": "T711.1_T7484.1",
         "marker": {
          "color": "#00cc96",
          "symbol": "circle"
         },
         "mode": "markers",
         "name": "T711.1_T7484.1",
         "scene": "scene",
         "showlegend": true,
         "type": "scatter3d",
         "x": [
          283.25961918337697,
          283.25961918337697
         ],
         "y": [
          15.877,
          15.877
         ],
         "z": [
          389398.40625,
          389398.40625
         ]
        },
        {
         "hovertemplate": "labels=T396.1_T3644.1<br>m/z=%{x}<br>rt=%{y}<br>intensity=%{z}<extra></extra>",
         "legendgroup": "T396.1_T3644.1",
         "marker": {
          "color": "#ab63fa",
          "symbol": "circle"
         },
         "mode": "markers",
         "name": "T396.1_T3644.1",
         "scene": "scene",
         "showlegend": true,
         "type": "scatter3d",
         "x": [
          283.2609318853349,
          283.2609318853349
         ],
         "y": [
          15.877,
          15.877
         ],
         "z": [
          717083.5,
          717083.5
         ]
        },
        {
         "hovertemplate": "labels=T246.1_T2220.1<br>m/z=%{x}<br>rt=%{y}<br>intensity=%{z}<extra></extra>",
         "legendgroup": "T246.1_T2220.1",
         "marker": {
          "color": "#FFA15A",
          "symbol": "circle"
         },
         "mode": "markers",
         "name": "T246.1_T2220.1",
         "scene": "scene",
         "showlegend": true,
         "type": "scatter3d",
         "x": [
          283.26227478208006,
          283.26227478208006
         ],
         "y": [
          15.877,
          15.877
         ],
         "z": [
          1219529,
          1219529
         ]
        },
        {
         "hovertemplate": "labels=T228.1_T1701.1<br>m/z=%{x}<br>rt=%{y}<br>intensity=%{z}<extra></extra>",
         "legendgroup": "T228.1_T1701.1",
         "marker": {
          "color": "#19d3f3",
          "symbol": "circle"
         },
         "mode": "markers",
         "name": "T228.1_T1701.1",
         "scene": "scene",
         "showlegend": true,
         "type": "scatter3d",
         "x": [
          283.2635850153276,
          283.2635850153276
         ],
         "y": [
          15.877,
          15.877
         ],
         "z": [
          1772274,
          1772274
         ]
        },
        {
         "hovertemplate": "labels=T226.1_T1632.1<br>m/z=%{x}<br>rt=%{y}<br>intensity=%{z}<extra></extra>",
         "legendgroup": "T226.1_T1632.1",
         "marker": {
          "color": "#FF6692",
          "symbol": "circle"
         },
         "mode": "markers",
         "name": "T226.1_T1632.1",
         "scene": "scene",
         "showlegend": true,
         "type": "scatter3d",
         "x": [
          283.26489869648947,
          283.26489869648947
         ],
         "y": [
          12.305,
          12.305
         ],
         "z": [
          2189554,
          2189554
         ]
        },
        {
         "hovertemplate": "labels=T223.1_T1739.1<br>m/z=%{x}<br>rt=%{y}<br>intensity=%{z}<extra></extra>",
         "legendgroup": "T223.1_T1739.1",
         "marker": {
          "color": "#B6E880",
          "symbol": "circle"
         },
         "mode": "markers",
         "name": "T223.1_T1739.1",
         "scene": "scene",
         "showlegend": true,
         "type": "scatter3d",
         "x": [
          283.26621655590947,
          283.26621655590947
         ],
         "y": [
          11.591,
          11.591
         ],
         "z": [
          1824245,
          1824245
         ]
        },
        {
         "hovertemplate": "labels=T261.1_T1716.1<br>m/z=%{x}<br>rt=%{y}<br>intensity=%{z}<extra></extra>",
         "legendgroup": "T261.1_T1716.1",
         "marker": {
          "color": "#FF97FF",
          "symbol": "circle"
         },
         "mode": "markers",
         "name": "T261.1_T1716.1",
         "scene": "scene",
         "showlegend": true,
         "type": "scatter3d",
         "x": [
          283.2675268329329,
          283.2675268329329
         ],
         "y": [
          13.019,
          13.019
         ],
         "z": [
          1333985,
          1333985
         ]
        },
        {
         "hovertemplate": "labels=T453.1_T2362.1<br>m/z=%{x}<br>rt=%{y}<br>intensity=%{z}<extra></extra>",
         "legendgroup": "T453.1_T2362.1",
         "marker": {
          "color": "#FECB52",
          "symbol": "circle"
         },
         "mode": "markers",
         "name": "T453.1_T2362.1",
         "scene": "scene",
         "showlegend": true,
         "type": "scatter3d",
         "x": [
          283.2688432109967,
          283.2688432109967
         ],
         "y": [
          18.02,
          18.02
         ],
         "z": [
          714409.625,
          714409.625
         ]
        },
        {
         "hovertemplate": "labels=T1016.1_T3930.1<br>m/z=%{x}<br>rt=%{y}<br>intensity=%{z}<extra></extra>",
         "legendgroup": "T1016.1_T3930.1",
         "marker": {
          "color": "#636efa",
          "symbol": "circle"
         },
         "mode": "markers",
         "name": "T1016.1_T3930.1",
         "scene": "scene",
         "showlegend": true,
         "type": "scatter3d",
         "x": [
          283.27015519215587,
          283.27015519215587
         ],
         "y": [
          18.02,
          18.02
         ],
         "z": [
          381157.1875,
          381157.1875
         ]
        },
        {
         "hovertemplate": "labels=T2332.1_T7953.1<br>m/z=%{x}<br>rt=%{y}<br>intensity=%{z}<extra></extra>",
         "legendgroup": "T2332.1_T7953.1",
         "marker": {
          "color": "#EF553B",
          "symbol": "circle"
         },
         "mode": "markers",
         "name": "T2332.1_T7953.1",
         "scene": "scene",
         "showlegend": true,
         "type": "scatter3d",
         "x": [
          283.2714724741761,
          283.2714724741761
         ],
         "y": [
          11.591,
          11.591
         ],
         "z": [
          220975.703125,
          220975.703125
         ]
        },
        {
         "hovertemplate": "labels=T308.1_T9755<br>m/z=%{x}<br>rt=%{y}<br>intensity=%{z}<extra></extra>",
         "legendgroup": "T308.1_T9755",
         "marker": {
          "color": "#00cc96",
          "symbol": "circle"
         },
         "mode": "markers",
         "name": "T308.1_T9755",
         "scene": "scene",
         "showlegend": true,
         "type": "scatter3d",
         "x": [
          298.94254736022003,
          298.94254736022003
         ],
         "y": [
          15.877,
          15.877
         ],
         "z": [
          1131427,
          1131427
         ]
        },
        {
         "hovertemplate": "labels=T312.1_T8386.1_T9774<br>m/z=%{x}<br>rt=%{y}<br>intensity=%{z}<extra></extra>",
         "legendgroup": "T312.1_T8386.1_T9774",
         "marker": {
          "color": "#ab63fa",
          "symbol": "circle"
         },
         "mode": "markers",
         "name": "T312.1_T8386.1_T9774",
         "scene": "scene",
         "showlegend": true,
         "type": "scatter3d",
         "x": [
          298.9438868052618,
          298.9438868052618,
          298.9438868052618
         ],
         "y": [
          11.591,
          11.591,
          11.591
         ],
         "z": [
          1337375,
          1337375,
          1337375
         ]
        },
        {
         "hovertemplate": "labels=T313.1_T7822.1<br>m/z=%{x}<br>rt=%{y}<br>intensity=%{z}<extra></extra>",
         "legendgroup": "T313.1_T7822.1",
         "marker": {
          "color": "#FFA15A",
          "symbol": "circle"
         },
         "mode": "markers",
         "name": "T313.1_T7822.1",
         "scene": "scene",
         "showlegend": true,
         "type": "scatter3d",
         "x": [
          298.94526402963095,
          298.94526402963095
         ],
         "y": [
          11.591,
          11.591
         ],
         "z": [
          1097144,
          1097144
         ]
        },
        {
         "hovertemplate": "labels=T395.1_T8100<br>m/z=%{x}<br>rt=%{y}<br>intensity=%{z}<extra></extra>",
         "legendgroup": "T395.1_T8100",
         "marker": {
          "color": "#19d3f3",
          "symbol": "circle"
         },
         "mode": "markers",
         "name": "T395.1_T8100",
         "scene": "scene",
         "showlegend": true,
         "type": "scatter3d",
         "x": [
          298.9466245394126,
          298.9466245394126
         ],
         "y": [
          11.591,
          11.591
         ],
         "z": [
          782677.375,
          782677.375
         ]
        },
        {
         "hovertemplate": "labels=T1125.1_T9068.1<br>m/z=%{x}<br>rt=%{y}<br>intensity=%{z}<extra></extra>",
         "legendgroup": "T1125.1_T9068.1",
         "marker": {
          "color": "#FF6692",
          "symbol": "circle"
         },
         "mode": "markers",
         "name": "T1125.1_T9068.1",
         "scene": "scene",
         "showlegend": true,
         "type": "scatter3d",
         "x": [
          306.07808371798154,
          306.07808371798154
         ],
         "y": [
          11.591,
          11.591
         ],
         "z": [
          576570.3125,
          576570.3125
         ]
        },
        {
         "hovertemplate": "labels=T1486.1_T9826.1<br>m/z=%{x}<br>rt=%{y}<br>intensity=%{z}<extra></extra>",
         "legendgroup": "T1486.1_T9826.1",
         "marker": {
          "color": "#B6E880",
          "symbol": "circle"
         },
         "mode": "markers",
         "name": "T1486.1_T9826.1",
         "scene": "scene",
         "showlegend": true,
         "type": "scatter3d",
         "x": [
          306.0794556187477,
          306.0794556187477
         ],
         "y": [
          18.02,
          18.02
         ],
         "z": [
          444452.40625,
          444452.40625
         ]
        },
        {
         "hovertemplate": "labels=T1600_T8894.1<br>m/z=%{x}<br>rt=%{y}<br>intensity=%{z}<extra></extra>",
         "legendgroup": "T1600_T8894.1",
         "marker": {
          "color": "#FF97FF",
          "symbol": "circle"
         },
         "mode": "markers",
         "name": "T1600_T8894.1",
         "scene": "scene",
         "showlegend": true,
         "type": "scatter3d",
         "x": [
          311.16856457396545,
          311.16856457396545
         ],
         "y": [
          10.162,
          10.162
         ],
         "z": [
          356086.09375,
          356086.09375
         ]
        },
        {
         "hovertemplate": "labels=T1363.1_T7573<br>m/z=%{x}<br>rt=%{y}<br>intensity=%{z}<extra></extra>",
         "legendgroup": "T1363.1_T7573",
         "marker": {
          "color": "#FECB52",
          "symbol": "circle"
         },
         "mode": "markers",
         "name": "T1363.1_T7573",
         "scene": "scene",
         "showlegend": true,
         "type": "scatter3d",
         "x": [
          311.1698183569528,
          311.1698183569528
         ],
         "y": [
          10.162,
          10.162
         ],
         "z": [
          341388.5,
          341388.5
         ]
        },
        {
         "hovertemplate": "labels=T1361.1_T7986.1<br>m/z=%{x}<br>rt=%{y}<br>intensity=%{z}<extra></extra>",
         "legendgroup": "T1361.1_T7986.1",
         "marker": {
          "color": "#636efa",
          "symbol": "circle"
         },
         "mode": "markers",
         "name": "T1361.1_T7986.1",
         "scene": "scene",
         "showlegend": true,
         "type": "scatter3d",
         "x": [
          311.1712948791011,
          311.1712948791011
         ],
         "y": [
          10.162,
          10.162
         ],
         "z": [
          186728.5,
          186728.5
         ]
        },
        {
         "hovertemplate": "labels=T2630.1_T7924.1<br>m/z=%{x}<br>rt=%{y}<br>intensity=%{z}<extra></extra>",
         "legendgroup": "T2630.1_T7924.1",
         "marker": {
          "color": "#EF553B",
          "symbol": "circle"
         },
         "mode": "markers",
         "name": "T2630.1_T7924.1",
         "scene": "scene",
         "showlegend": true,
         "type": "scatter3d",
         "x": [
          311.17404496388633,
          311.17404496388633
         ],
         "y": [
          10.876,
          10.876
         ],
         "z": [
          114105.703125,
          114105.703125
         ]
        },
        {
         "hovertemplate": "labels=T3118.2_T7199<br>m/z=%{x}<br>rt=%{y}<br>intensity=%{z}<extra></extra>",
         "legendgroup": "T3118.2_T7199",
         "marker": {
          "color": "#00cc96",
          "symbol": "circle"
         },
         "mode": "markers",
         "name": "T3118.2_T7199",
         "scene": "scene",
         "showlegend": true,
         "type": "scatter3d",
         "x": [
          317.02472165147776,
          317.02472165147776
         ],
         "y": [
          23.736,
          23.736
         ],
         "z": [
          195183.796875,
          195183.796875
         ]
        },
        {
         "hovertemplate": "labels=T3149_T6543.1<br>m/z=%{x}<br>rt=%{y}<br>intensity=%{z}<extra></extra>",
         "legendgroup": "T3149_T6543.1",
         "marker": {
          "color": "#ab63fa",
          "symbol": "circle"
         },
         "mode": "markers",
         "name": "T3149_T6543.1",
         "scene": "scene",
         "showlegend": true,
         "type": "scatter3d",
         "x": [
          317.0256800136378,
          317.0256800136378
         ],
         "y": [
          23.021,
          23.021
         ],
         "z": [
          177800.90625,
          177800.90625
         ]
        },
        {
         "hovertemplate": "labels=T3088.1_T9247<br>m/z=%{x}<br>rt=%{y}<br>intensity=%{z}<extra></extra>",
         "legendgroup": "T3088.1_T9247",
         "marker": {
          "color": "#FFA15A",
          "symbol": "circle"
         },
         "mode": "markers",
         "name": "T3088.1_T9247",
         "scene": "scene",
         "showlegend": true,
         "type": "scatter3d",
         "x": [
          317.02654372678796,
          317.02654372678796
         ],
         "y": [
          6.59,
          6.59
         ],
         "z": [
          144902.59375,
          144902.59375
         ]
        },
        {
         "hovertemplate": "labels=T3088.2_T7013.1<br>m/z=%{x}<br>rt=%{y}<br>intensity=%{z}<extra></extra>",
         "legendgroup": "T3088.2_T7013.1",
         "marker": {
          "color": "#19d3f3",
          "symbol": "circle"
         },
         "mode": "markers",
         "name": "T3088.2_T7013.1",
         "scene": "scene",
         "showlegend": true,
         "type": "scatter3d",
         "x": [
          317.02676781281434,
          317.02676781281434
         ],
         "y": [
          22.307,
          22.307
         ],
         "z": [
          199537.203125,
          199537.203125
         ]
        },
        {
         "hovertemplate": "labels=T3714.2_T7963.1<br>m/z=%{x}<br>rt=%{y}<br>intensity=%{z}<extra></extra>",
         "legendgroup": "T3714.2_T7963.1",
         "marker": {
          "color": "#FF6692",
          "symbol": "circle"
         },
         "mode": "markers",
         "name": "T3714.2_T7963.1",
         "scene": "scene",
         "showlegend": true,
         "type": "scatter3d",
         "x": [
          317.0280822444905,
          317.0280822444905
         ],
         "y": [
          21.593,
          21.593
         ],
         "z": [
          160946.59375,
          160946.59375
         ]
        },
        {
         "hovertemplate": "labels=T1309_T9215.1<br>m/z=%{x}<br>rt=%{y}<br>intensity=%{z}<extra></extra>",
         "legendgroup": "T1309_T9215.1",
         "marker": {
          "color": "#B6E880",
          "symbol": "circle"
         },
         "mode": "markers",
         "name": "T1309_T9215.1",
         "scene": "scene",
         "showlegend": true,
         "type": "scatter3d",
         "x": [
          325.1835236879515,
          325.1835236879515
         ],
         "y": [
          10.162,
          10.162
         ],
         "z": [
          376212.90625,
          376212.90625
         ]
        },
        {
         "hovertemplate": "labels=T1394_T8961.1<br>m/z=%{x}<br>rt=%{y}<br>intensity=%{z}<extra></extra>",
         "legendgroup": "T1394_T8961.1",
         "marker": {
          "color": "#FF97FF",
          "symbol": "circle"
         },
         "mode": "markers",
         "name": "T1394_T8961.1",
         "scene": "scene",
         "showlegend": true,
         "type": "scatter3d",
         "x": [
          325.18487385771414,
          325.18487385771414
         ],
         "y": [
          10.162,
          10.162
         ],
         "z": [
          400289.59375,
          400289.59375
         ]
        },
        {
         "hovertemplate": "labels=T3399.1_T9045.1<br>m/z=%{x}<br>rt=%{y}<br>intensity=%{z}<extra></extra>",
         "legendgroup": "T3399.1_T9045.1",
         "marker": {
          "color": "#FECB52",
          "symbol": "circle"
         },
         "mode": "markers",
         "name": "T3399.1_T9045.1",
         "scene": "scene",
         "showlegend": true,
         "type": "scatter3d",
         "x": [
          325.1905801652608,
          325.1905801652608
         ],
         "y": [
          10.162,
          10.162
         ],
         "z": [
          113953.203125,
          113953.203125
         ]
        },
        {
         "hovertemplate": "labels=T1952.1_T8636.1<br>m/z=%{x}<br>rt=%{y}<br>intensity=%{z}<extra></extra>",
         "legendgroup": "T1952.1_T8636.1",
         "marker": {
          "color": "#636efa",
          "symbol": "circle"
         },
         "mode": "markers",
         "name": "T1952.1_T8636.1",
         "scene": "scene",
         "showlegend": true,
         "type": "scatter3d",
         "x": [
          336.86678669278797,
          336.86678669278797
         ],
         "y": [
          15.877,
          15.877
         ],
         "z": [
          318960.6875,
          318960.6875
         ]
        },
        {
         "hovertemplate": "labels=T1628.1_T6665.1<br>m/z=%{x}<br>rt=%{y}<br>intensity=%{z}<extra></extra>",
         "legendgroup": "T1628.1_T6665.1",
         "marker": {
          "color": "#EF553B",
          "symbol": "circle"
         },
         "mode": "markers",
         "name": "T1628.1_T6665.1",
         "scene": "scene",
         "showlegend": true,
         "type": "scatter3d",
         "x": [
          336.86994507089514,
          336.86994507089514
         ],
         "y": [
          11.591,
          11.591
         ],
         "z": [
          406951.8125,
          406951.8125
         ]
        },
        {
         "hovertemplate": "labels=T569.1_T8150.1<br>m/z=%{x}<br>rt=%{y}<br>intensity=%{z}<extra></extra>",
         "legendgroup": "T569.1_T8150.1",
         "marker": {
          "color": "#00cc96",
          "symbol": "circle"
         },
         "mode": "markers",
         "name": "T569.1_T8150.1",
         "scene": "scene",
         "showlegend": true,
         "type": "scatter3d",
         "x": [
          336.8773157570317,
          336.8773157570317
         ],
         "y": [
          11.591,
          11.591
         ],
         "z": [
          373089.09375,
          373089.09375
         ]
        },
        {
         "hovertemplate": "labels=T2240_T9917.1<br>m/z=%{x}<br>rt=%{y}<br>intensity=%{z}<extra></extra>",
         "legendgroup": "T2240_T9917.1",
         "marker": {
          "color": "#ab63fa",
          "symbol": "circle"
         },
         "mode": "markers",
         "name": "T2240_T9917.1",
         "scene": "scene",
         "showlegend": true,
         "type": "scatter3d",
         "x": [
          339.20096319664304,
          339.20096319664304
         ],
         "y": [
          9.447,
          9.447
         ],
         "z": [
          256543.203125,
          256543.203125
         ]
        },
        {
         "hovertemplate": "labels=T6520.1_T9375<br>m/z=%{x}<br>rt=%{y}<br>intensity=%{z}<extra></extra>",
         "legendgroup": "T6520.1_T9375",
         "marker": {
          "color": "#FFA15A",
          "symbol": "circle"
         },
         "mode": "markers",
         "name": "T6520.1_T9375",
         "scene": "scene",
         "showlegend": true,
         "type": "scatter3d",
         "x": [
          352.83877492962125,
          352.83877492962125
         ],
         "y": [
          12.305,
          12.305
         ],
         "z": [
          92740.46875,
          92740.46875
         ]
        },
        {
         "hovertemplate": "labels=T1103_T9043.1<br>m/z=%{x}<br>rt=%{y}<br>intensity=%{z}<extra></extra>",
         "legendgroup": "T1103_T9043.1",
         "marker": {
          "color": "#19d3f3",
          "symbol": "circle"
         },
         "mode": "markers",
         "name": "T1103_T9043.1",
         "scene": "scene",
         "showlegend": true,
         "type": "scatter3d",
         "x": [
          352.86052930766647,
          352.86052930766647
         ],
         "y": [
          15.163,
          15.163
         ],
         "z": [
          639568.6875,
          639568.6875
         ]
        },
        {
         "hovertemplate": "labels=T1090.1_T7032.1<br>m/z=%{x}<br>rt=%{y}<br>intensity=%{z}<extra></extra>",
         "legendgroup": "T1090.1_T7032.1",
         "marker": {
          "color": "#FF6692",
          "symbol": "circle"
         },
         "mode": "markers",
         "name": "T1090.1_T7032.1",
         "scene": "scene",
         "showlegend": true,
         "type": "scatter3d",
         "x": [
          352.86179629621085,
          352.86179629621085
         ],
         "y": [
          12.305,
          12.305
         ],
         "z": [
          648751.6875,
          648751.6875
         ]
        },
        {
         "hovertemplate": "labels=T1257.1_T4438.1<br>m/z=%{x}<br>rt=%{y}<br>intensity=%{z}<extra></extra>",
         "legendgroup": "T1257.1_T4438.1",
         "marker": {
          "color": "#B6E880",
          "symbol": "circle"
         },
         "mode": "markers",
         "name": "T1257.1_T4438.1",
         "scene": "scene",
         "showlegend": true,
         "type": "scatter3d",
         "x": [
          352.8646110660228,
          352.8646110660228
         ],
         "y": [
          18.02,
          18.02
         ],
         "z": [
          471158.5,
          471158.5
         ]
        },
        {
         "hovertemplate": "labels=T612.1_T7447.1<br>m/z=%{x}<br>rt=%{y}<br>intensity=%{z}<extra></extra>",
         "legendgroup": "T612.1_T7447.1",
         "marker": {
          "color": "#FF97FF",
          "symbol": "circle"
         },
         "mode": "markers",
         "name": "T612.1_T7447.1",
         "scene": "scene",
         "showlegend": true,
         "type": "scatter3d",
         "x": [
          353.0057377963566,
          353.0057377963566
         ],
         "y": [
          15.877,
          15.877
         ],
         "z": [
          527705.125,
          527705.125
         ]
        },
        {
         "hovertemplate": "labels=T474.1_T7201<br>m/z=%{x}<br>rt=%{y}<br>intensity=%{z}<extra></extra>",
         "legendgroup": "T474.1_T7201",
         "marker": {
          "color": "#FECB52",
          "symbol": "circle"
         },
         "mode": "markers",
         "name": "T474.1_T7201",
         "scene": "scene",
         "showlegend": true,
         "type": "scatter3d",
         "x": [
          353.0069211863299,
          353.0069211863299
         ],
         "y": [
          17.306,
          17.306
         ],
         "z": [
          824706.625,
          824706.625
         ]
        },
        {
         "hovertemplate": "labels=T410.1_T6820<br>m/z=%{x}<br>rt=%{y}<br>intensity=%{z}<extra></extra>",
         "legendgroup": "T410.1_T6820",
         "marker": {
          "color": "#636efa",
          "symbol": "circle"
         },
         "mode": "markers",
         "name": "T410.1_T6820",
         "scene": "scene",
         "showlegend": true,
         "type": "scatter3d",
         "x": [
          353.0082097197392,
          353.0082097197392
         ],
         "y": [
          15.877,
          15.877
         ],
         "z": [
          1089324,
          1089324
         ]
        },
        {
         "hovertemplate": "labels=T393.1_T5306<br>m/z=%{x}<br>rt=%{y}<br>intensity=%{z}<extra></extra>",
         "legendgroup": "T393.1_T5306",
         "marker": {
          "color": "#EF553B",
          "symbol": "circle"
         },
         "mode": "markers",
         "name": "T393.1_T5306",
         "scene": "scene",
         "showlegend": true,
         "type": "scatter3d",
         "x": [
          353.00963728703084,
          353.00963728703084
         ],
         "y": [
          12.305,
          12.305
         ],
         "z": [
          1274513,
          1274513
         ]
        },
        {
         "hovertemplate": "labels=T405_T5375.1<br>m/z=%{x}<br>rt=%{y}<br>intensity=%{z}<extra></extra>",
         "legendgroup": "T405_T5375.1",
         "marker": {
          "color": "#00cc96",
          "symbol": "circle"
         },
         "mode": "markers",
         "name": "T405_T5375.1",
         "scene": "scene",
         "showlegend": true,
         "type": "scatter3d",
         "x": [
          353.0108955930043,
          353.0108955930043
         ],
         "y": [
          11.591,
          11.591
         ],
         "z": [
          1430090,
          1430090
         ]
        },
        {
         "hovertemplate": "labels=T421.1_T5516.1<br>m/z=%{x}<br>rt=%{y}<br>intensity=%{z}<extra></extra>",
         "legendgroup": "T421.1_T5516.1",
         "marker": {
          "color": "#ab63fa",
          "symbol": "circle"
         },
         "mode": "markers",
         "name": "T421.1_T5516.1",
         "scene": "scene",
         "showlegend": true,
         "type": "scatter3d",
         "x": [
          353.01276282238933,
          353.01276282238933
         ],
         "y": [
          18.02,
          18.02
         ],
         "z": [
          1114700,
          1114700
         ]
        },
        {
         "hovertemplate": "labels=T1518.1_T6682.1<br>m/z=%{x}<br>rt=%{y}<br>intensity=%{z}<extra></extra>",
         "legendgroup": "T1518.1_T6682.1",
         "marker": {
          "color": "#FFA15A",
          "symbol": "circle"
         },
         "mode": "markers",
         "name": "T1518.1_T6682.1",
         "scene": "scene",
         "showlegend": true,
         "type": "scatter3d",
         "x": [
          353.0171126664947,
          353.0171126664947
         ],
         "y": [
          10.876,
          10.876
         ],
         "z": [
          324132.6875,
          324132.6875
         ]
        },
        {
         "hovertemplate": "labels=T1347.1_T10129<br>m/z=%{x}<br>rt=%{y}<br>intensity=%{z}<extra></extra>",
         "legendgroup": "T1347.1_T10129",
         "marker": {
          "color": "#19d3f3",
          "symbol": "circle"
         },
         "mode": "markers",
         "name": "T1347.1_T10129",
         "scene": "scene",
         "showlegend": true,
         "type": "scatter3d",
         "x": [
          359.11988165571427,
          359.11988165571427
         ],
         "y": [
          15.877,
          15.877
         ],
         "z": [
          380918.6875,
          380918.6875
         ]
        },
        {
         "hovertemplate": "labels=T350.1_T3865.1_T9437.1<br>m/z=%{x}<br>rt=%{y}<br>intensity=%{z}<extra></extra>",
         "legendgroup": "T350.1_T3865.1_T9437.1",
         "marker": {
          "color": "#FF6692",
          "symbol": "circle"
         },
         "mode": "markers",
         "name": "T350.1_T3865.1_T9437.1",
         "scene": "scene",
         "showlegend": true,
         "type": "scatter3d",
         "x": [
          417.02562987627994,
          417.02562987627994,
          417.02562987627994
         ],
         "y": [
          18.735,
          18.735,
          18.735
         ],
         "z": [
          1209756,
          1209756,
          1209756
         ]
        },
        {
         "hovertemplate": "labels=T864.1_T6503.1<br>m/z=%{x}<br>rt=%{y}<br>intensity=%{z}<extra></extra>",
         "legendgroup": "T864.1_T6503.1",
         "marker": {
          "color": "#B6E880",
          "symbol": "circle"
         },
         "mode": "markers",
         "name": "T864.1_T6503.1",
         "scene": "scene",
         "showlegend": true,
         "type": "scatter3d",
         "x": [
          417.0300615354002,
          417.0300615354002
         ],
         "y": [
          18.02,
          18.02
         ],
         "z": [
          295793.3125,
          295793.3125
         ]
        },
        {
         "hovertemplate": "labels=T2677.1_T9532.1<br>m/z=%{x}<br>rt=%{y}<br>intensity=%{z}<extra></extra>",
         "legendgroup": "T2677.1_T9532.1",
         "marker": {
          "color": "#FF97FF",
          "symbol": "circle"
         },
         "mode": "markers",
         "name": "T2677.1_T9532.1",
         "scene": "scene",
         "showlegend": true,
         "type": "scatter3d",
         "x": [
          417.0332285809649,
          417.0332285809649
         ],
         "y": [
          18.02,
          18.02
         ],
         "z": [
          232374.40625,
          232374.40625
         ]
        },
        {
         "hovertemplate": "labels=T3763.1_T7055.1<br>m/z=%{x}<br>rt=%{y}<br>intensity=%{z}<extra></extra>",
         "legendgroup": "T3763.1_T7055.1",
         "marker": {
          "color": "#FECB52",
          "symbol": "circle"
         },
         "mode": "markers",
         "name": "T3763.1_T7055.1",
         "scene": "scene",
         "showlegend": true,
         "type": "scatter3d",
         "x": [
          417.0608437017692,
          417.0608437017692
         ],
         "y": [
          8.018,
          8.018
         ],
         "z": [
          158969.796875,
          158969.796875
         ]
        },
        {
         "hovertemplate": "labels=T1920.2_T8195.1<br>m/z=%{x}<br>rt=%{y}<br>intensity=%{z}<extra></extra>",
         "legendgroup": "T1920.2_T8195.1",
         "marker": {
          "color": "#636efa",
          "symbol": "circle"
         },
         "mode": "markers",
         "name": "T1920.2_T8195.1",
         "scene": "scene",
         "showlegend": true,
         "type": "scatter3d",
         "x": [
          417.0641872590354,
          417.0641872590354
         ],
         "y": [
          22.307,
          22.307
         ],
         "z": [
          201740.59375,
          201740.59375
         ]
        },
        {
         "hovertemplate": "labels=T1084.2_T5416.1<br>m/z=%{x}<br>rt=%{y}<br>intensity=%{z}<extra></extra>",
         "legendgroup": "T1084.2_T5416.1",
         "marker": {
          "color": "#EF553B",
          "symbol": "circle"
         },
         "mode": "markers",
         "name": "T1084.2_T5416.1",
         "scene": "scene",
         "showlegend": true,
         "type": "scatter3d",
         "x": [
          417.0657058986851,
          417.0657058986851
         ],
         "y": [
          22.307,
          22.307
         ],
         "z": [
          276535.09375,
          276535.09375
         ]
        },
        {
         "hovertemplate": "labels=T656.1_T3698.2<br>m/z=%{x}<br>rt=%{y}<br>intensity=%{z}<extra></extra>",
         "legendgroup": "T656.1_T3698.2",
         "marker": {
          "color": "#00cc96",
          "symbol": "circle"
         },
         "mode": "markers",
         "name": "T656.1_T3698.2",
         "scene": "scene",
         "showlegend": true,
         "type": "scatter3d",
         "x": [
          417.06693448823273,
          417.06693448823273
         ],
         "y": [
          21.593,
          21.593
         ],
         "z": [
          424028.40625,
          424028.40625
         ]
        },
        {
         "hovertemplate": "labels=T275.2_T2438.2<br>m/z=%{x}<br>rt=%{y}<br>intensity=%{z}<extra></extra>",
         "legendgroup": "T275.2_T2438.2",
         "marker": {
          "color": "#ab63fa",
          "symbol": "circle"
         },
         "mode": "markers",
         "name": "T275.2_T2438.2",
         "scene": "scene",
         "showlegend": true,
         "type": "scatter3d",
         "x": [
          417.0695538268091,
          417.0695538268091
         ],
         "y": [
          23.736,
          23.736
         ],
         "z": [
          660033.375,
          660033.375
         ]
        },
        {
         "hovertemplate": "labels=T249.2_T1814.2<br>m/z=%{x}<br>rt=%{y}<br>intensity=%{z}<extra></extra>",
         "legendgroup": "T249.2_T1814.2",
         "marker": {
          "color": "#FFA15A",
          "symbol": "circle"
         },
         "mode": "markers",
         "name": "T249.2_T1814.2",
         "scene": "scene",
         "showlegend": true,
         "type": "scatter3d",
         "x": [
          417.07091966885355,
          417.07091966885355
         ],
         "y": [
          23.021,
          23.021
         ],
         "z": [
          1018543,
          1018543
         ]
        },
        {
         "hovertemplate": "labels=T218.2_T1367.2_T9883<br>m/z=%{x}<br>rt=%{y}<br>intensity=%{z}<extra></extra>",
         "legendgroup": "T218.2_T1367.2_T9883",
         "marker": {
          "color": "#19d3f3",
          "symbol": "circle"
         },
         "mode": "markers",
         "name": "T218.2_T1367.2_T9883",
         "scene": "scene",
         "showlegend": true,
         "type": "scatter3d",
         "x": [
          417.072437945708,
          417.072437945708,
          417.072437945708
         ],
         "y": [
          22.307,
          22.307,
          22.307
         ],
         "z": [
          1380541,
          1380541,
          1380541
         ]
        },
        {
         "hovertemplate": "labels=T191.2_T1175.2_T9024.1<br>m/z=%{x}<br>rt=%{y}<br>intensity=%{z}<extra></extra>",
         "legendgroup": "T191.2_T1175.2_T9024.1",
         "marker": {
          "color": "#FF6692",
          "symbol": "circle"
         },
         "mode": "markers",
         "name": "T191.2_T1175.2_T9024.1",
         "scene": "scene",
         "showlegend": true,
         "type": "scatter3d",
         "x": [
          417.0740064276582,
          417.0740064276582,
          417.0740064276582
         ],
         "y": [
          21.593,
          21.593,
          21.593
         ],
         "z": [
          1501671,
          1501671,
          1501671
         ]
        },
        {
         "hovertemplate": "labels=T191.1_T1175.1_T9200.1<br>m/z=%{x}<br>rt=%{y}<br>intensity=%{z}<extra></extra>",
         "legendgroup": "T191.1_T1175.1_T9200.1",
         "marker": {
          "color": "#B6E880",
          "symbol": "circle"
         },
         "mode": "markers",
         "name": "T191.1_T1175.1_T9200.1",
         "scene": "scene",
         "showlegend": true,
         "type": "scatter3d",
         "x": [
          417.07418706837956,
          417.07418706837956,
          417.07418706837956
         ],
         "y": [
          7.304,
          7.304,
          7.304
         ],
         "z": [
          1323049,
          1323049,
          1323049
         ]
        },
        {
         "hovertemplate": "labels=T215.2_T1126.2_T9323.1<br>m/z=%{x}<br>rt=%{y}<br>intensity=%{z}<extra></extra>",
         "legendgroup": "T215.2_T1126.2_T9323.1",
         "marker": {
          "color": "#FF97FF",
          "symbol": "circle"
         },
         "mode": "markers",
         "name": "T215.2_T1126.2_T9323.1",
         "scene": "scene",
         "showlegend": true,
         "type": "scatter3d",
         "x": [
          417.0755839807129,
          417.0755839807129,
          417.0755839807129
         ],
         "y": [
          21.593,
          21.593,
          21.593
         ],
         "z": [
          1269085,
          1269085,
          1269085
         ]
        },
        {
         "hovertemplate": "labels=T215.1_T1126.1_T7030.1<br>m/z=%{x}<br>rt=%{y}<br>intensity=%{z}<extra></extra>",
         "legendgroup": "T215.1_T1126.1_T7030.1",
         "marker": {
          "color": "#FECB52",
          "symbol": "circle"
         },
         "mode": "markers",
         "name": "T215.1_T1126.1_T7030.1",
         "scene": "scene",
         "showlegend": true,
         "type": "scatter3d",
         "x": [
          417.07574546113585,
          417.07574546113585,
          417.07574546113585
         ],
         "y": [
          7.304,
          7.304,
          7.304
         ],
         "z": [
          1091221,
          1091221,
          1091221
         ]
        },
        {
         "hovertemplate": "labels=T296.2_T1551.2_T9274.1<br>m/z=%{x}<br>rt=%{y}<br>intensity=%{z}<extra></extra>",
         "legendgroup": "T296.2_T1551.2_T9274.1",
         "marker": {
          "color": "#636efa",
          "symbol": "circle"
         },
         "mode": "markers",
         "name": "T296.2_T1551.2_T9274.1",
         "scene": "scene",
         "showlegend": true,
         "type": "scatter3d",
         "x": [
          417.0771354041079,
          417.0771354041079,
          417.0771354041079
         ],
         "y": [
          21.593,
          21.593,
          21.593
         ],
         "z": [
          897453.1875,
          897453.1875,
          897453.1875
         ]
        },
        {
         "hovertemplate": "labels=T296.1_T1551.1_T6335<br>m/z=%{x}<br>rt=%{y}<br>intensity=%{z}<extra></extra>",
         "legendgroup": "T296.1_T1551.1_T6335",
         "marker": {
          "color": "#EF553B",
          "symbol": "circle"
         },
         "mode": "markers",
         "name": "T296.1_T1551.1_T6335",
         "scene": "scene",
         "showlegend": true,
         "type": "scatter3d",
         "x": [
          417.0772604949333,
          417.0772604949333,
          417.0772604949333
         ],
         "y": [
          8.018,
          8.018,
          8.018
         ],
         "z": [
          762356.375,
          762356.375,
          762356.375
         ]
        },
        {
         "hovertemplate": "labels=T559.2_T2286.2_T9552<br>m/z=%{x}<br>rt=%{y}<br>intensity=%{z}<extra></extra>",
         "legendgroup": "T559.2_T2286.2_T9552",
         "marker": {
          "color": "#00cc96",
          "symbol": "circle"
         },
         "mode": "markers",
         "name": "T559.2_T2286.2_T9552",
         "scene": "scene",
         "showlegend": true,
         "type": "scatter3d",
         "x": [
          417.07865625578427,
          417.07865625578427,
          417.07865625578427
         ],
         "y": [
          21.593,
          21.593,
          21.593
         ],
         "z": [
          598785.3125,
          598785.3125,
          598785.3125
         ]
        },
        {
         "hovertemplate": "labels=T559.1_T2286.1_T8044.1<br>m/z=%{x}<br>rt=%{y}<br>intensity=%{z}<extra></extra>",
         "legendgroup": "T559.1_T2286.1_T8044.1",
         "marker": {
          "color": "#ab63fa",
          "symbol": "circle"
         },
         "mode": "markers",
         "name": "T559.1_T2286.1_T8044.1",
         "scene": "scene",
         "showlegend": true,
         "type": "scatter3d",
         "x": [
          417.0787005814834,
          417.0787005814834,
          417.0787005814834
         ],
         "y": [
          9.447,
          9.447,
          9.447
         ],
         "z": [
          533140.375,
          533140.375,
          533140.375
         ]
        },
        {
         "hovertemplate": "labels=T813.1_T3499.1<br>m/z=%{x}<br>rt=%{y}<br>intensity=%{z}<extra></extra>",
         "legendgroup": "T813.1_T3499.1",
         "marker": {
          "color": "#FFA15A",
          "symbol": "circle"
         },
         "mode": "markers",
         "name": "T813.1_T3499.1",
         "scene": "scene",
         "showlegend": true,
         "type": "scatter3d",
         "x": [
          417.0800093633389,
          417.0800093633389
         ],
         "y": [
          8.018,
          8.018
         ],
         "z": [
          400629.59375,
          400629.59375
         ]
        },
        {
         "hovertemplate": "labels=T813.2_T3713.1<br>m/z=%{x}<br>rt=%{y}<br>intensity=%{z}<extra></extra>",
         "legendgroup": "T813.2_T3713.1",
         "marker": {
          "color": "#19d3f3",
          "symbol": "circle"
         },
         "mode": "markers",
         "name": "T813.2_T3713.1",
         "scene": "scene",
         "showlegend": true,
         "type": "scatter3d",
         "x": [
          417.0800982384635,
          417.0800982384635
         ],
         "y": [
          20.878,
          20.878
         ],
         "z": [
          420371.6875,
          420371.6875
         ]
        },
        {
         "hovertemplate": "labels=T1189.1_T4889.1<br>m/z=%{x}<br>rt=%{y}<br>intensity=%{z}<extra></extra>",
         "legendgroup": "T1189.1_T4889.1",
         "marker": {
          "color": "#FF6692",
          "symbol": "circle"
         },
         "mode": "markers",
         "name": "T1189.1_T4889.1",
         "scene": "scene",
         "showlegend": true,
         "type": "scatter3d",
         "x": [
          417.08132166711965,
          417.08132166711965
         ],
         "y": [
          9.447,
          9.447
         ],
         "z": [
          278771.09375,
          278771.09375
         ]
        },
        {
         "hovertemplate": "labels=T2414.1_T7245.1<br>m/z=%{x}<br>rt=%{y}<br>intensity=%{z}<extra></extra>",
         "legendgroup": "T2414.1_T7245.1",
         "marker": {
          "color": "#B6E880",
          "symbol": "circle"
         },
         "mode": "markers",
         "name": "T2414.1_T7245.1",
         "scene": "scene",
         "showlegend": true,
         "type": "scatter3d",
         "x": [
          417.08284386804297,
          417.08284386804297
         ],
         "y": [
          9.447,
          9.447
         ],
         "z": [
          196547.40625,
          196547.40625
         ]
        },
        {
         "hovertemplate": "labels=T2414.2_T5975<br>m/z=%{x}<br>rt=%{y}<br>intensity=%{z}<extra></extra>",
         "legendgroup": "T2414.2_T5975",
         "marker": {
          "color": "#FF97FF",
          "symbol": "circle"
         },
         "mode": "markers",
         "name": "T2414.2_T5975",
         "scene": "scene",
         "showlegend": true,
         "type": "scatter3d",
         "x": [
          417.08297508747114,
          417.08297508747114
         ],
         "y": [
          23.736,
          23.736
         ],
         "z": [
          218127.09375,
          218127.09375
         ]
        },
        {
         "hovertemplate": "labels=T3307.2_T8338.1<br>m/z=%{x}<br>rt=%{y}<br>intensity=%{z}<extra></extra>",
         "legendgroup": "T3307.2_T8338.1",
         "marker": {
          "color": "#FECB52",
          "symbol": "circle"
         },
         "mode": "markers",
         "name": "T3307.2_T8338.1",
         "scene": "scene",
         "showlegend": true,
         "type": "scatter3d",
         "x": [
          417.08518109049214,
          417.08518109049214
         ],
         "y": [
          23.021,
          23.021
         ],
         "z": [
          165191.296875,
          165191.296875
         ]
        },
        {
         "hovertemplate": "labels=T3307.1_T9950<br>m/z=%{x}<br>rt=%{y}<br>intensity=%{z}<extra></extra>",
         "legendgroup": "T3307.1_T9950",
         "marker": {
          "color": "#636efa",
          "symbol": "circle"
         },
         "mode": "markers",
         "name": "T3307.1_T9950",
         "scene": "scene",
         "showlegend": true,
         "type": "scatter3d",
         "x": [
          417.08537664111486,
          417.08537664111486
         ],
         "y": [
          7.304,
          7.304
         ],
         "z": [
          157564.296875,
          157564.296875
         ]
        },
        {
         "hovertemplate": "labels=T6971_T7801.1<br>m/z=%{x}<br>rt=%{y}<br>intensity=%{z}<extra></extra>",
         "legendgroup": "T6971_T7801.1",
         "marker": {
          "color": "#EF553B",
          "symbol": "circle"
         },
         "mode": "markers",
         "name": "T6971_T7801.1",
         "scene": "scene",
         "showlegend": true,
         "type": "scatter3d",
         "x": [
          418.0189741605843,
          418.0189741605843
         ],
         "y": [
          15.877,
          15.877
         ],
         "z": [
          72481.078125,
          72481.078125
         ]
        },
        {
         "hovertemplate": "labels=T1120.1_T8556.1<br>m/z=%{x}<br>rt=%{y}<br>intensity=%{z}<extra></extra>",
         "legendgroup": "T1120.1_T8556.1",
         "marker": {
          "color": "#00cc96",
          "symbol": "circle"
         },
         "mode": "markers",
         "name": "T1120.1_T8556.1",
         "scene": "scene",
         "showlegend": true,
         "type": "scatter3d",
         "x": [
          426.9614145675083,
          426.9614145675083
         ],
         "y": [
          10.876,
          10.876
         ],
         "z": [
          486324.6875,
          486324.6875
         ]
        },
        {
         "hovertemplate": "labels=T329.1_T5337.1_T10048.1<br>m/z=%{x}<br>rt=%{y}<br>intensity=%{z}<extra></extra>",
         "legendgroup": "T329.1_T5337.1_T10048.1",
         "marker": {
          "color": "#ab63fa",
          "symbol": "circle"
         },
         "mode": "markers",
         "name": "T329.1_T5337.1_T10048.1",
         "scene": "scene",
         "showlegend": true,
         "type": "scatter3d",
         "x": [
          426.9660576285795,
          426.9660576285795,
          426.9660576285795
         ],
         "y": [
          10.162,
          10.162,
          10.162
         ],
         "z": [
          1229333,
          1229333,
          1229333
         ]
        },
        {
         "hovertemplate": "labels=T271.1_T6019.1_T8810.1<br>m/z=%{x}<br>rt=%{y}<br>intensity=%{z}<extra></extra>",
         "legendgroup": "T271.1_T6019.1_T8810.1",
         "marker": {
          "color": "#FFA15A",
          "symbol": "circle"
         },
         "mode": "markers",
         "name": "T271.1_T6019.1_T8810.1",
         "scene": "scene",
         "showlegend": true,
         "type": "scatter3d",
         "x": [
          426.96760979786984,
          426.96760979786984,
          426.96760979786984
         ],
         "y": [
          10.162,
          10.162,
          10.162
         ],
         "z": [
          708123.5,
          708123.5,
          708123.5
         ]
        },
        {
         "hovertemplate": "labels=T272.1_T4388.1_T7249.1<br>m/z=%{x}<br>rt=%{y}<br>intensity=%{z}<extra></extra>",
         "legendgroup": "T272.1_T4388.1_T7249.1",
         "marker": {
          "color": "#19d3f3",
          "symbol": "circle"
         },
         "mode": "markers",
         "name": "T272.1_T4388.1_T7249.1",
         "scene": "scene",
         "showlegend": true,
         "type": "scatter3d",
         "x": [
          426.96919660114224,
          426.96919660114224,
          426.96919660114224
         ],
         "y": [
          10.162,
          10.162,
          10.162
         ],
         "z": [
          615840.8125,
          615840.8125,
          615840.8125
         ]
        },
        {
         "hovertemplate": "labels=T274.1_T4475.1<br>m/z=%{x}<br>rt=%{y}<br>intensity=%{z}<extra></extra>",
         "legendgroup": "T274.1_T4475.1",
         "marker": {
          "color": "#FF6692",
          "symbol": "circle"
         },
         "mode": "markers",
         "name": "T274.1_T4475.1",
         "scene": "scene",
         "showlegend": true,
         "type": "scatter3d",
         "x": [
          426.9706191090308,
          426.9706191090308
         ],
         "y": [
          10.876,
          10.876
         ],
         "z": [
          520398,
          520398
         ]
        },
        {
         "hovertemplate": "labels=T335.1_T4909.1<br>m/z=%{x}<br>rt=%{y}<br>intensity=%{z}<extra></extra>",
         "legendgroup": "T335.1_T4909.1",
         "marker": {
          "color": "#B6E880",
          "symbol": "circle"
         },
         "mode": "markers",
         "name": "T335.1_T4909.1",
         "scene": "scene",
         "showlegend": true,
         "type": "scatter3d",
         "x": [
          426.97358476326514,
          426.97358476326514
         ],
         "y": [
          10.162,
          10.162
         ],
         "z": [
          309550.90625,
          309550.90625
         ]
        },
        {
         "hovertemplate": "labels=T335.2_T4475.2<br>m/z=%{x}<br>rt=%{y}<br>intensity=%{z}<extra></extra>",
         "legendgroup": "T335.2_T4475.2",
         "marker": {
          "color": "#FF97FF",
          "symbol": "circle"
         },
         "mode": "markers",
         "name": "T335.2_T4475.2",
         "scene": "scene",
         "showlegend": true,
         "type": "scatter3d",
         "x": [
          426.97360357474906,
          426.97360357474906
         ],
         "y": [
          18.02,
          18.02
         ],
         "z": [
          282330.09375,
          282330.09375
         ]
        },
        {
         "hovertemplate": "labels=T541.1_T5058.1<br>m/z=%{x}<br>rt=%{y}<br>intensity=%{z}<extra></extra>",
         "legendgroup": "T541.1_T5058.1",
         "marker": {
          "color": "#FECB52",
          "symbol": "circle"
         },
         "mode": "markers",
         "name": "T541.1_T5058.1",
         "scene": "scene",
         "showlegend": true,
         "type": "scatter3d",
         "x": [
          426.9756469620432,
          426.9756469620432
         ],
         "y": [
          10.162,
          10.162
         ],
         "z": [
          179112.703125,
          179112.703125
         ]
        },
        {
         "hovertemplate": "labels=T985.1_T7598.1<br>m/z=%{x}<br>rt=%{y}<br>intensity=%{z}<extra></extra>",
         "legendgroup": "T985.1_T7598.1",
         "marker": {
          "color": "#636efa",
          "symbol": "circle"
         },
         "mode": "markers",
         "name": "T985.1_T7598.1",
         "scene": "scene",
         "showlegend": true,
         "type": "scatter3d",
         "x": [
          426.97727410293595,
          426.97727410293595
         ],
         "y": [
          10.876,
          10.876
         ],
         "z": [
          107433,
          107433
         ]
        },
        {
         "hovertemplate": "labels=T10005_T10150<br>m/z=%{x}<br>rt=%{y}<br>intensity=%{z}<extra></extra>",
         "legendgroup": "T10005_T10150",
         "marker": {
          "color": "#EF553B",
          "symbol": "circle"
         },
         "mode": "markers",
         "name": "T10005_T10150",
         "scene": "scene",
         "showlegend": true,
         "type": "scatter3d",
         "x": [
          434.79568283742543,
          434.79568283742543
         ],
         "y": [
          13.734,
          13.734
         ],
         "z": [
          27214.359375,
          27214.359375
         ]
        },
        {
         "hovertemplate": "labels=T4246.1_T8970.1<br>m/z=%{x}<br>rt=%{y}<br>intensity=%{z}<extra></extra>",
         "legendgroup": "T4246.1_T8970.1",
         "marker": {
          "color": "#00cc96",
          "symbol": "circle"
         },
         "mode": "markers",
         "name": "T4246.1_T8970.1",
         "scene": "scene",
         "showlegend": true,
         "type": "scatter3d",
         "x": [
          440.9276052237064,
          440.9276052237064
         ],
         "y": [
          13.734,
          13.734
         ],
         "z": [
          44720.46875,
          44720.46875
         ]
        },
        {
         "hovertemplate": "labels=T8519.1_T9236<br>m/z=%{x}<br>rt=%{y}<br>intensity=%{z}<extra></extra>",
         "legendgroup": "T8519.1_T9236",
         "marker": {
          "color": "#ab63fa",
          "symbol": "circle"
         },
         "mode": "markers",
         "name": "T8519.1_T9236",
         "scene": "scene",
         "showlegend": true,
         "type": "scatter3d",
         "x": [
          481.0079102312178,
          481.0079102312178
         ],
         "y": [
          15.163,
          15.163
         ],
         "z": [
          77436.71875,
          77436.71875
         ]
        },
        {
         "hovertemplate": "labels=T385.1_T5177.1_T7060.1<br>m/z=%{x}<br>rt=%{y}<br>intensity=%{z}<extra></extra>",
         "legendgroup": "T385.1_T5177.1_T7060.1",
         "marker": {
          "color": "#FFA15A",
          "symbol": "circle"
         },
         "mode": "markers",
         "name": "T385.1_T5177.1_T7060.1",
         "scene": "scene",
         "showlegend": true,
         "type": "scatter3d",
         "x": [
          481.03010032088974,
          481.03010032088974,
          481.03010032088974
         ],
         "y": [
          15.877,
          15.877,
          15.877
         ],
         "z": [
          725537.125,
          725537.125,
          725537.125
         ]
        },
        {
         "hovertemplate": "labels=T1122.1_T5560.1<br>m/z=%{x}<br>rt=%{y}<br>intensity=%{z}<extra></extra>",
         "legendgroup": "T1122.1_T5560.1",
         "marker": {
          "color": "#19d3f3",
          "symbol": "circle"
         },
         "mode": "markers",
         "name": "T1122.1_T5560.1",
         "scene": "scene",
         "showlegend": true,
         "type": "scatter3d",
         "x": [
          481.04539060479016,
          481.04539060479016
         ],
         "y": [
          18.02,
          18.02
         ],
         "z": [
          330835.09375,
          330835.09375
         ]
        },
        {
         "hovertemplate": "labels=T9193_T7019<br>m/z=%{x}<br>rt=%{y}<br>intensity=%{z}<extra></extra>",
         "legendgroup": "T9193_T7019",
         "marker": {
          "color": "#FF6692",
          "symbol": "circle"
         },
         "mode": "markers",
         "name": "T9193_T7019",
         "scene": "scene",
         "showlegend": true,
         "type": "scatter3d",
         "x": [
          482.0278795138727,
          482.0278795138727
         ],
         "y": [
          15.877,
          15.877
         ],
         "z": [
          59009.51953125,
          59009.51953125
         ]
        },
        {
         "hovertemplate": "labels=T4103_T7948.1<br>m/z=%{x}<br>rt=%{y}<br>intensity=%{z}<extra></extra>",
         "legendgroup": "T4103_T7948.1",
         "marker": {
          "color": "#B6E880",
          "symbol": "circle"
         },
         "mode": "markers",
         "name": "T4103_T7948.1",
         "scene": "scene",
         "showlegend": true,
         "type": "scatter3d",
         "x": [
          482.0330030608501,
          482.0330030608501
         ],
         "y": [
          13.019,
          13.019
         ],
         "z": [
          148660.703125,
          148660.703125
         ]
        },
        {
         "hovertemplate": "labels=T3138.1_T7852.1<br>m/z=%{x}<br>rt=%{y}<br>intensity=%{z}<extra></extra>",
         "legendgroup": "T3138.1_T7852.1",
         "marker": {
          "color": "#FF97FF",
          "symbol": "circle"
         },
         "mode": "markers",
         "name": "T3138.1_T7852.1",
         "scene": "scene",
         "showlegend": true,
         "type": "scatter3d",
         "x": [
          482.03634145232667,
          482.03634145232667
         ],
         "y": [
          11.591,
          11.591
         ],
         "z": [
          247620.09375,
          247620.09375
         ]
        },
        {
         "hovertemplate": "labels=T6069_T9926<br>m/z=%{x}<br>rt=%{y}<br>intensity=%{z}<extra></extra>",
         "legendgroup": "T6069_T9926",
         "marker": {
          "color": "#FECB52",
          "symbol": "circle"
         },
         "mode": "markers",
         "name": "T6069_T9926",
         "scene": "scene",
         "showlegend": true,
         "type": "scatter3d",
         "x": [
          517.0607841250621,
          517.0607841250621
         ],
         "y": [
          21.593,
          21.593
         ],
         "z": [
          65825.3125,
          65825.3125
         ]
        },
        {
         "hovertemplate": "labels=T5519.1_T9729<br>m/z=%{x}<br>rt=%{y}<br>intensity=%{z}<extra></extra>",
         "legendgroup": "T5519.1_T9729",
         "marker": {
          "color": "#636efa",
          "symbol": "circle"
         },
         "mode": "markers",
         "name": "T5519.1_T9729",
         "scene": "scene",
         "showlegend": true,
         "type": "scatter3d",
         "x": [
          517.0609021948072,
          517.0609021948072
         ],
         "y": [
          8.018,
          8.018
         ],
         "z": [
          70165.5625,
          70165.5625
         ]
        },
        {
         "hovertemplate": "labels=T5757_T9471<br>m/z=%{x}<br>rt=%{y}<br>intensity=%{z}<extra></extra>",
         "legendgroup": "T5757_T9471",
         "marker": {
          "color": "#EF553B",
          "symbol": "circle"
         },
         "mode": "markers",
         "name": "T5757_T9471",
         "scene": "scene",
         "showlegend": true,
         "type": "scatter3d",
         "x": [
          517.0625220984219,
          517.0625220984219
         ],
         "y": [
          22.307,
          22.307
         ],
         "z": [
          76201.9765625,
          76201.9765625
         ]
        },
        {
         "hovertemplate": "labels=T5697.1_T9645<br>m/z=%{x}<br>rt=%{y}<br>intensity=%{z}<extra></extra>",
         "legendgroup": "T5697.1_T9645",
         "marker": {
          "color": "#00cc96",
          "symbol": "circle"
         },
         "mode": "markers",
         "name": "T5697.1_T9645",
         "scene": "scene",
         "showlegend": true,
         "type": "scatter3d",
         "x": [
          517.0626621707482,
          517.0626621707482
         ],
         "y": [
          8.018,
          8.018
         ],
         "z": [
          73511.703125,
          73511.703125
         ]
        },
        {
         "hovertemplate": "labels=T3160.1_T8868.1_T9703.1<br>m/z=%{x}<br>rt=%{y}<br>intensity=%{z}<extra></extra>",
         "legendgroup": "T3160.1_T8868.1_T9703.1",
         "marker": {
          "color": "#ab63fa",
          "symbol": "circle"
         },
         "mode": "markers",
         "name": "T3160.1_T8868.1_T9703.1",
         "scene": "scene",
         "showlegend": true,
         "type": "scatter3d",
         "x": [
          545.0342957400253,
          545.0342957400253,
          545.0342957400253
         ],
         "y": [
          15.877,
          15.877,
          15.877
         ],
         "z": [
          185668.703125,
          185668.703125,
          185668.703125
         ]
        },
        {
         "hovertemplate": "labels=T457.1_T4208.1_T8379.1<br>m/z=%{x}<br>rt=%{y}<br>intensity=%{z}<extra></extra>",
         "legendgroup": "T457.1_T4208.1_T8379.1",
         "marker": {
          "color": "#FFA15A",
          "symbol": "circle"
         },
         "mode": "markers",
         "name": "T457.1_T4208.1_T8379.1",
         "scene": "scene",
         "showlegend": true,
         "type": "scatter3d",
         "x": [
          545.0433660041193,
          545.0433660041193,
          545.0433660041193
         ],
         "y": [
          15.877,
          15.877,
          15.877
         ],
         "z": [
          814226.5,
          814226.5,
          814226.5
         ]
        },
        {
         "hovertemplate": "labels=T407.1_T3632.1_T9802.1<br>m/z=%{x}<br>rt=%{y}<br>intensity=%{z}<extra></extra>",
         "legendgroup": "T407.1_T3632.1_T9802.1",
         "marker": {
          "color": "#19d3f3",
          "symbol": "circle"
         },
         "mode": "markers",
         "name": "T407.1_T3632.1_T9802.1",
         "scene": "scene",
         "showlegend": true,
         "type": "scatter3d",
         "x": [
          545.0511402788958,
          545.0511402788958,
          545.0511402788958
         ],
         "y": [
          11.591,
          11.591,
          11.591
         ],
         "z": [
          1119259,
          1119259,
          1119259
         ]
        },
        {
         "hovertemplate": "labels=T427.1_T3408.1<br>m/z=%{x}<br>rt=%{y}<br>intensity=%{z}<extra></extra>",
         "legendgroup": "T427.1_T3408.1",
         "marker": {
          "color": "#FF6692",
          "symbol": "circle"
         },
         "mode": "markers",
         "name": "T427.1_T3408.1",
         "scene": "scene",
         "showlegend": true,
         "type": "scatter3d",
         "x": [
          545.0529573448194,
          545.0529573448194
         ],
         "y": [
          18.02,
          18.02
         ],
         "z": [
          930115.8125,
          930115.8125
         ]
        },
        {
         "hovertemplate": "labels=T503.1_T3922.2<br>m/z=%{x}<br>rt=%{y}<br>intensity=%{z}<extra></extra>",
         "legendgroup": "T503.1_T3922.2",
         "marker": {
          "color": "#B6E880",
          "symbol": "circle"
         },
         "mode": "markers",
         "name": "T503.1_T3922.2",
         "scene": "scene",
         "showlegend": true,
         "type": "scatter3d",
         "x": [
          545.0547801900238,
          545.0547801900238
         ],
         "y": [
          18.02,
          18.02
         ],
         "z": [
          251444.40625,
          251444.40625
         ]
        },
        {
         "hovertemplate": "labels=T1232.1_T3319.1_T6729.1<br>m/z=%{x}<br>rt=%{y}<br>intensity=%{z}<extra></extra>",
         "legendgroup": "T1232.1_T3319.1_T6729.1",
         "marker": {
          "color": "#FF97FF",
          "symbol": "circle"
         },
         "mode": "markers",
         "name": "T1232.1_T3319.1_T6729.1",
         "scene": "scene",
         "showlegend": true,
         "type": "scatter3d",
         "x": [
          545.0584173785842,
          545.0584173785842,
          545.0584173785842
         ],
         "y": [
          18.02,
          18.02,
          18.02
         ],
         "z": [
          312676.90625,
          312676.90625,
          312676.90625
         ]
        },
        {
         "hovertemplate": "labels=T6604.1_T8281.1<br>m/z=%{x}<br>rt=%{y}<br>intensity=%{z}<extra></extra>",
         "legendgroup": "T6604.1_T8281.1",
         "marker": {
          "color": "#FECB52",
          "symbol": "circle"
         },
         "mode": "markers",
         "name": "T6604.1_T8281.1",
         "scene": "scene",
         "showlegend": true,
         "type": "scatter3d",
         "x": [
          546.0416833412356,
          546.0416833412356
         ],
         "y": [
          15.877,
          15.877
         ],
         "z": [
          77677.953125,
          77677.953125
         ]
        },
        {
         "hovertemplate": "labels=T3965.1_T9874.1<br>m/z=%{x}<br>rt=%{y}<br>intensity=%{z}<extra></extra>",
         "legendgroup": "T3965.1_T9874.1",
         "marker": {
          "color": "#636efa",
          "symbol": "circle"
         },
         "mode": "markers",
         "name": "T3965.1_T9874.1",
         "scene": "scene",
         "showlegend": true,
         "type": "scatter3d",
         "x": [
          546.0471483321842,
          546.0471483321842
         ],
         "y": [
          11.591,
          11.591
         ],
         "z": [
          201861,
          201861
         ]
        },
        {
         "hovertemplate": "labels=T2263.1_T8433.1<br>m/z=%{x}<br>rt=%{y}<br>intensity=%{z}<extra></extra>",
         "legendgroup": "T2263.1_T8433.1",
         "marker": {
          "color": "#EF553B",
          "symbol": "circle"
         },
         "mode": "markers",
         "name": "T2263.1_T8433.1",
         "scene": "scene",
         "showlegend": true,
         "type": "scatter3d",
         "x": [
          567.2249894073359,
          567.2249894073359
         ],
         "y": [
          10.876,
          10.876
         ],
         "z": [
          326616.5,
          326616.5
         ]
        },
        {
         "hovertemplate": "labels=T1825.1_T6668.1<br>m/z=%{x}<br>rt=%{y}<br>intensity=%{z}<extra></extra>",
         "legendgroup": "T1825.1_T6668.1",
         "marker": {
          "color": "#00cc96",
          "symbol": "circle"
         },
         "mode": "markers",
         "name": "T1825.1_T6668.1",
         "scene": "scene",
         "showlegend": true,
         "type": "scatter3d",
         "x": [
          567.2269035839278,
          567.2269035839278
         ],
         "y": [
          10.162,
          10.162
         ],
         "z": [
          381208.09375,
          381208.09375
         ]
        },
        {
         "hovertemplate": "labels=T1933.1_T7108.1<br>m/z=%{x}<br>rt=%{y}<br>intensity=%{z}<extra></extra>",
         "legendgroup": "T1933.1_T7108.1",
         "marker": {
          "color": "#ab63fa",
          "symbol": "circle"
         },
         "mode": "markers",
         "name": "T1933.1_T7108.1",
         "scene": "scene",
         "showlegend": true,
         "type": "scatter3d",
         "x": [
          567.2305778746082,
          567.2305778746082
         ],
         "y": [
          10.162,
          10.162
         ],
         "z": [
          423188.59375,
          423188.59375
         ]
        },
        {
         "hovertemplate": "labels=T1703.1_T6813.1<br>m/z=%{x}<br>rt=%{y}<br>intensity=%{z}<extra></extra>",
         "legendgroup": "T1703.1_T6813.1",
         "marker": {
          "color": "#FFA15A",
          "symbol": "circle"
         },
         "mode": "markers",
         "name": "T1703.1_T6813.1",
         "scene": "scene",
         "showlegend": true,
         "type": "scatter3d",
         "x": [
          567.2324866332199,
          567.2324866332199
         ],
         "y": [
          10.162,
          10.162
         ],
         "z": [
          209811.203125,
          209811.203125
         ]
        },
        {
         "hovertemplate": "labels=T5087.1_T8736.1<br>m/z=%{x}<br>rt=%{y}<br>intensity=%{z}<extra></extra>",
         "legendgroup": "T5087.1_T8736.1",
         "marker": {
          "color": "#19d3f3",
          "symbol": "circle"
         },
         "mode": "markers",
         "name": "T5087.1_T8736.1",
         "scene": "scene",
         "showlegend": true,
         "type": "scatter3d",
         "x": [
          567.2419567629768,
          567.2419567629768
         ],
         "y": [
          10.876,
          10.876
         ],
         "z": [
          102507,
          102507
         ]
        },
        {
         "hovertemplate": "labels=T9368_T9892<br>m/z=%{x}<br>rt=%{y}<br>intensity=%{z}<extra></extra>",
         "legendgroup": "T9368_T9892",
         "marker": {
          "color": "#FF6692",
          "symbol": "circle"
         },
         "mode": "markers",
         "name": "T9368_T9892",
         "scene": "scene",
         "showlegend": true,
         "type": "scatter3d",
         "x": [
          594.7630418863945,
          594.7630418863945
         ],
         "y": [
          13.019,
          13.019
         ],
         "z": [
          58597.12890625,
          58597.12890625
         ]
        },
        {
         "hovertemplate": "labels=T7945_T8065<br>m/z=%{x}<br>rt=%{y}<br>intensity=%{z}<extra></extra>",
         "legendgroup": "T7945_T8065",
         "marker": {
          "color": "#B6E880",
          "symbol": "circle"
         },
         "mode": "markers",
         "name": "T7945_T8065",
         "scene": "scene",
         "showlegend": true,
         "type": "scatter3d",
         "x": [
          594.7705987328158,
          594.7705987328158
         ],
         "y": [
          14.448,
          14.448
         ],
         "z": [
          61482.921875,
          61482.921875
         ]
        },
        {
         "hovertemplate": "labels=T9317_T8102<br>m/z=%{x}<br>rt=%{y}<br>intensity=%{z}<extra></extra>",
         "legendgroup": "T9317_T8102",
         "marker": {
          "color": "#FF97FF",
          "symbol": "circle"
         },
         "mode": "markers",
         "name": "T9317_T8102",
         "scene": "scene",
         "showlegend": true,
         "type": "scatter3d",
         "x": [
          594.7725021396564,
          594.7725021396564
         ],
         "y": [
          15.163,
          15.163
         ],
         "z": [
          60803.12109375,
          60803.12109375
         ]
        },
        {
         "hovertemplate": "labels=T8952_T8977.1<br>m/z=%{x}<br>rt=%{y}<br>intensity=%{z}<extra></extra>",
         "legendgroup": "T8952_T8977.1",
         "marker": {
          "color": "#FECB52",
          "symbol": "circle"
         },
         "mode": "markers",
         "name": "T8952_T8977.1",
         "scene": "scene",
         "showlegend": true,
         "type": "scatter3d",
         "x": [
          594.7744923389356,
          594.7744923389356
         ],
         "y": [
          15.163,
          15.163
         ],
         "z": [
          62793.7890625,
          62793.7890625
         ]
        },
        {
         "hovertemplate": "labels=T5122.1_T9324.1<br>m/z=%{x}<br>rt=%{y}<br>intensity=%{z}<extra></extra>",
         "legendgroup": "T5122.1_T9324.1",
         "marker": {
          "color": "#636efa",
          "symbol": "circle"
         },
         "mode": "markers",
         "name": "T5122.1_T9324.1",
         "scene": "scene",
         "showlegend": true,
         "type": "scatter3d",
         "x": [
          599.4344647381362,
          599.4344647381362
         ],
         "y": [
          17.306,
          17.306
         ],
         "z": [
          169662.5,
          169662.5
         ]
        },
        {
         "hovertemplate": "labels=T4919.1_T9522.1<br>m/z=%{x}<br>rt=%{y}<br>intensity=%{z}<extra></extra>",
         "legendgroup": "T4919.1_T9522.1",
         "marker": {
          "color": "#EF553B",
          "symbol": "circle"
         },
         "mode": "markers",
         "name": "T4919.1_T9522.1",
         "scene": "scene",
         "showlegend": true,
         "type": "scatter3d",
         "x": [
          599.4362754790238,
          599.4362754790238
         ],
         "y": [
          18.02,
          18.02
         ],
         "z": [
          138835.40625,
          138835.40625
         ]
        },
        {
         "hovertemplate": "labels=T5583.1_T8832.1<br>m/z=%{x}<br>rt=%{y}<br>intensity=%{z}<extra></extra>",
         "legendgroup": "T5583.1_T8832.1",
         "marker": {
          "color": "#00cc96",
          "symbol": "circle"
         },
         "mode": "markers",
         "name": "T5583.1_T8832.1",
         "scene": "scene",
         "showlegend": true,
         "type": "scatter3d",
         "x": [
          599.4381808589332,
          599.4381808589332
         ],
         "y": [
          18.02,
          18.02
         ],
         "z": [
          103200.796875,
          103200.796875
         ]
        },
        {
         "hovertemplate": "labels=T7697_T942.1<br>m/z=%{x}<br>rt=%{y}<br>intensity=%{z}<extra></extra>",
         "legendgroup": "T7697_T942.1",
         "marker": {
          "color": "#ab63fa",
          "symbol": "circle"
         },
         "mode": "markers",
         "name": "T7697_T942.1",
         "scene": "scene",
         "showlegend": true,
         "type": "scatter3d",
         "x": [
          608.735758874346,
          608.735758874346
         ],
         "y": [
          15.163,
          15.163
         ],
         "z": [
          65253.03125,
          65253.03125
         ]
        },
        {
         "hovertemplate": "labels=T6334_T2580.1<br>m/z=%{x}<br>rt=%{y}<br>intensity=%{z}<extra></extra>",
         "legendgroup": "T6334_T2580.1",
         "marker": {
          "color": "#FFA15A",
          "symbol": "circle"
         },
         "mode": "markers",
         "name": "T6334_T2580.1",
         "scene": "scene",
         "showlegend": true,
         "type": "scatter3d",
         "x": [
          608.739567934685,
          608.739567934685
         ],
         "y": [
          15.163,
          15.163
         ],
         "z": [
          92405.90625,
          92405.90625
         ]
        },
        {
         "hovertemplate": "labels=T5713_T3700.1<br>m/z=%{x}<br>rt=%{y}<br>intensity=%{z}<extra></extra>",
         "legendgroup": "T5713_T3700.1",
         "marker": {
          "color": "#19d3f3",
          "symbol": "circle"
         },
         "mode": "markers",
         "name": "T5713_T3700.1",
         "scene": "scene",
         "showlegend": true,
         "type": "scatter3d",
         "x": [
          608.7414900910245,
          608.7414900910245
         ],
         "y": [
          15.163,
          15.163
         ],
         "z": [
          99872.15625,
          99872.15625
         ]
        },
        {
         "hovertemplate": "labels=T5658_T4445.1<br>m/z=%{x}<br>rt=%{y}<br>intensity=%{z}<extra></extra>",
         "legendgroup": "T5658_T4445.1",
         "marker": {
          "color": "#FF6692",
          "symbol": "circle"
         },
         "mode": "markers",
         "name": "T5658_T4445.1",
         "scene": "scene",
         "showlegend": true,
         "type": "scatter3d",
         "x": [
          608.7433899553789,
          608.7433899553789
         ],
         "y": [
          15.877,
          15.877
         ],
         "z": [
          112091.5,
          112091.5
         ]
        },
        {
         "hovertemplate": "labels=T5559_T5006.1<br>m/z=%{x}<br>rt=%{y}<br>intensity=%{z}<extra></extra>",
         "legendgroup": "T5559_T5006.1",
         "marker": {
          "color": "#B6E880",
          "symbol": "circle"
         },
         "mode": "markers",
         "name": "T5559_T5006.1",
         "scene": "scene",
         "showlegend": true,
         "type": "scatter3d",
         "x": [
          608.7453214923726,
          608.7453214923726
         ],
         "y": [
          15.877,
          15.877
         ],
         "z": [
          119916.203125,
          119916.203125
         ]
        },
        {
         "hovertemplate": "labels=T5895.1_T5568.1<br>m/z=%{x}<br>rt=%{y}<br>intensity=%{z}<extra></extra>",
         "legendgroup": "T5895.1_T5568.1",
         "marker": {
          "color": "#FF97FF",
          "symbol": "circle"
         },
         "mode": "markers",
         "name": "T5895.1_T5568.1",
         "scene": "scene",
         "showlegend": true,
         "type": "scatter3d",
         "x": [
          608.7472334243062,
          608.7472334243062
         ],
         "y": [
          15.877,
          15.877
         ],
         "z": [
          124116.703125,
          124116.703125
         ]
        },
        {
         "hovertemplate": "labels=T5767_T6418.1<br>m/z=%{x}<br>rt=%{y}<br>intensity=%{z}<extra></extra>",
         "legendgroup": "T5767_T6418.1",
         "marker": {
          "color": "#FECB52",
          "symbol": "circle"
         },
         "mode": "markers",
         "name": "T5767_T6418.1",
         "scene": "scene",
         "showlegend": true,
         "type": "scatter3d",
         "x": [
          608.7491599035925,
          608.7491599035925
         ],
         "y": [
          13.019,
          13.019
         ],
         "z": [
          128239.8984375,
          128239.8984375
         ]
        },
        {
         "hovertemplate": "labels=T6064_T9307.1<br>m/z=%{x}<br>rt=%{y}<br>intensity=%{z}<extra></extra>",
         "legendgroup": "T6064_T9307.1",
         "marker": {
          "color": "#636efa",
          "symbol": "circle"
         },
         "mode": "markers",
         "name": "T6064_T9307.1",
         "scene": "scene",
         "showlegend": true,
         "type": "scatter3d",
         "x": [
          608.7529644538638,
          608.7529644538638
         ],
         "y": [
          13.019,
          13.019
         ],
         "z": [
          113255.796875,
          113255.796875
         ]
        },
        {
         "hovertemplate": "labels=T507.1_T3448_T9839<br>m/z=%{x}<br>rt=%{y}<br>intensity=%{z}<extra></extra>",
         "legendgroup": "T507.1_T3448_T9839",
         "marker": {
          "color": "#EF553B",
          "symbol": "circle"
         },
         "mode": "markers",
         "name": "T507.1_T3448_T9839",
         "scene": "scene",
         "showlegend": true,
         "type": "scatter3d",
         "x": [
          609.060997666637,
          609.060997666637,
          609.060997666637
         ],
         "y": [
          12.305,
          12.305,
          12.305
         ],
         "z": [
          1046387,
          1046387,
          1046387
         ]
        },
        {
         "hovertemplate": "labels=T602.1_T3447.1<br>m/z=%{x}<br>rt=%{y}<br>intensity=%{z}<extra></extra>",
         "legendgroup": "T602.1_T3447.1",
         "marker": {
          "color": "#00cc96",
          "symbol": "circle"
         },
         "mode": "markers",
         "name": "T602.1_T3447.1",
         "scene": "scene",
         "showlegend": true,
         "type": "scatter3d",
         "x": [
          609.0627450200241,
          609.0627450200241
         ],
         "y": [
          18.02,
          18.02
         ],
         "z": [
          955081.3125,
          955081.3125
         ]
        },
        {
         "hovertemplate": "labels=T597.1_T3840.1<br>m/z=%{x}<br>rt=%{y}<br>intensity=%{z}<extra></extra>",
         "legendgroup": "T597.1_T3840.1",
         "marker": {
          "color": "#ab63fa",
          "symbol": "circle"
         },
         "mode": "markers",
         "name": "T597.1_T3840.1",
         "scene": "scene",
         "showlegend": true,
         "type": "scatter3d",
         "x": [
          609.0644177321817,
          609.0644177321817
         ],
         "y": [
          18.02,
          18.02
         ],
         "z": [
          857177.5,
          857177.5
         ]
        },
        {
         "hovertemplate": "labels=T614.1_T4295.1<br>m/z=%{x}<br>rt=%{y}<br>intensity=%{z}<extra></extra>",
         "legendgroup": "T614.1_T4295.1",
         "marker": {
          "color": "#FFA15A",
          "symbol": "circle"
         },
         "mode": "markers",
         "name": "T614.1_T4295.1",
         "scene": "scene",
         "showlegend": true,
         "type": "scatter3d",
         "x": [
          609.0663325534148,
          609.0663325534148
         ],
         "y": [
          18.02,
          18.02
         ],
         "z": [
          680614,
          680614
         ]
        },
        {
         "hovertemplate": "labels=T942.2_T8719.1<br>m/z=%{x}<br>rt=%{y}<br>intensity=%{z}<extra></extra>",
         "legendgroup": "T942.2_T8719.1",
         "marker": {
          "color": "#19d3f3",
          "symbol": "circle"
         },
         "mode": "markers",
         "name": "T942.2_T8719.1",
         "scene": "scene",
         "showlegend": true,
         "type": "scatter3d",
         "x": [
          609.0699975974884,
          609.0699975974884
         ],
         "y": [
          18.02,
          18.02
         ],
         "z": [
          130052.8984375,
          130052.8984375
         ]
        },
        {
         "hovertemplate": "labels=T1465.1_T6267.1<br>m/z=%{x}<br>rt=%{y}<br>intensity=%{z}<extra></extra>",
         "legendgroup": "T1465.1_T6267.1",
         "marker": {
          "color": "#FF6692",
          "symbol": "circle"
         },
         "mode": "markers",
         "name": "T1465.1_T6267.1",
         "scene": "scene",
         "showlegend": true,
         "type": "scatter3d",
         "x": [
          609.0721064916635,
          609.0721064916635
         ],
         "y": [
          18.02,
          18.02
         ],
         "z": [
          279861.59375,
          279861.59375
         ]
        },
        {
         "hovertemplate": "labels=T4694.1_T9958<br>m/z=%{x}<br>rt=%{y}<br>intensity=%{z}<extra></extra>",
         "legendgroup": "T4694.1_T9958",
         "marker": {
          "color": "#B6E880",
          "symbol": "circle"
         },
         "mode": "markers",
         "name": "T4694.1_T9958",
         "scene": "scene",
         "showlegend": true,
         "type": "scatter3d",
         "x": [
          610.0566246547394,
          610.0566246547394
         ],
         "y": [
          15.877,
          15.877
         ],
         "z": [
          105503.5,
          105503.5
         ]
        },
        {
         "hovertemplate": "labels=T2350.1_T10002.1<br>m/z=%{x}<br>rt=%{y}<br>intensity=%{z}<extra></extra>",
         "legendgroup": "T2350.1_T10002.1",
         "marker": {
          "color": "#FF97FF",
          "symbol": "circle"
         },
         "mode": "markers",
         "name": "T2350.1_T10002.1",
         "scene": "scene",
         "showlegend": true,
         "type": "scatter3d",
         "x": [
          617.1511273248008,
          617.1511273248008
         ],
         "y": [
          15.877,
          15.877
         ],
         "z": [
          327013.40625,
          327013.40625
         ]
        },
        {
         "hovertemplate": "labels=T2326.1_T8684.1<br>m/z=%{x}<br>rt=%{y}<br>intensity=%{z}<extra></extra>",
         "legendgroup": "T2326.1_T8684.1",
         "marker": {
          "color": "#FECB52",
          "symbol": "circle"
         },
         "mode": "markers",
         "name": "T2326.1_T8684.1",
         "scene": "scene",
         "showlegend": true,
         "type": "scatter3d",
         "x": [
          617.1530692705552,
          617.1530692705552
         ],
         "y": [
          15.877,
          15.877
         ],
         "z": [
          394426.3125,
          394426.3125
         ]
        },
        {
         "hovertemplate": "labels=T2086.1_T8618.1<br>m/z=%{x}<br>rt=%{y}<br>intensity=%{z}<extra></extra>",
         "legendgroup": "T2086.1_T8618.1",
         "marker": {
          "color": "#636efa",
          "symbol": "circle"
         },
         "mode": "markers",
         "name": "T2086.1_T8618.1",
         "scene": "scene",
         "showlegend": true,
         "type": "scatter3d",
         "x": [
          617.1550559303114,
          617.1550559303114
         ],
         "y": [
          12.305,
          12.305
         ],
         "z": [
          429096.3125,
          429096.3125
         ]
        },
        {
         "hovertemplate": "labels=T2209.1_T8549.1<br>m/z=%{x}<br>rt=%{y}<br>intensity=%{z}<extra></extra>",
         "legendgroup": "T2209.1_T8549.1",
         "marker": {
          "color": "#EF553B",
          "symbol": "circle"
         },
         "mode": "markers",
         "name": "T2209.1_T8549.1",
         "scene": "scene",
         "showlegend": true,
         "type": "scatter3d",
         "x": [
          617.1569175949519,
          617.1569175949519
         ],
         "y": [
          12.305,
          12.305
         ],
         "z": [
          427026.5,
          427026.5
         ]
        },
        {
         "hovertemplate": "labels=T2498.1_T9781.1<br>m/z=%{x}<br>rt=%{y}<br>intensity=%{z}<extra></extra>",
         "legendgroup": "T2498.1_T9781.1",
         "marker": {
          "color": "#00cc96",
          "symbol": "circle"
         },
         "mode": "markers",
         "name": "T2498.1_T9781.1",
         "scene": "scene",
         "showlegend": true,
         "type": "scatter3d",
         "x": [
          617.1585728810664,
          617.1585728810664
         ],
         "y": [
          17.306,
          17.306
         ],
         "z": [
          383591.40625,
          383591.40625
         ]
        },
        {
         "hovertemplate": "labels=T2444.1_T8795.1<br>m/z=%{x}<br>rt=%{y}<br>intensity=%{z}<extra></extra>",
         "legendgroup": "T2444.1_T8795.1",
         "marker": {
          "color": "#ab63fa",
          "symbol": "circle"
         },
         "mode": "markers",
         "name": "T2444.1_T8795.1",
         "scene": "scene",
         "showlegend": true,
         "type": "scatter3d",
         "x": [
          617.160192188894,
          617.160192188894
         ],
         "y": [
          18.02,
          18.02
         ],
         "z": [
          340428.59375,
          340428.59375
         ]
        },
        {
         "hovertemplate": "labels=T3063_T9462.1<br>m/z=%{x}<br>rt=%{y}<br>intensity=%{z}<extra></extra>",
         "legendgroup": "T3063_T9462.1",
         "marker": {
          "color": "#FFA15A",
          "symbol": "circle"
         },
         "mode": "markers",
         "name": "T3063_T9462.1",
         "scene": "scene",
         "showlegend": true,
         "type": "scatter3d",
         "x": [
          635.0559093103327,
          635.0559093103327
         ],
         "y": [
          8.733,
          8.733
         ],
         "z": [
          81413.4609375,
          81413.4609375
         ]
        },
        {
         "hovertemplate": "labels=T2487_T7834.1<br>m/z=%{x}<br>rt=%{y}<br>intensity=%{z}<extra></extra>",
         "legendgroup": "T2487_T7834.1",
         "marker": {
          "color": "#19d3f3",
          "symbol": "circle"
         },
         "mode": "markers",
         "name": "T2487_T7834.1",
         "scene": "scene",
         "showlegend": true,
         "type": "scatter3d",
         "x": [
          635.0578784206357,
          635.0578784206357
         ],
         "y": [
          8.733,
          8.733
         ],
         "z": [
          84173.6328125,
          84173.6328125
         ]
        },
        {
         "hovertemplate": "labels=T2346_T6948.1<br>m/z=%{x}<br>rt=%{y}<br>intensity=%{z}<extra></extra>",
         "legendgroup": "T2346_T6948.1",
         "marker": {
          "color": "#FF6692",
          "symbol": "circle"
         },
         "mode": "markers",
         "name": "T2346_T6948.1",
         "scene": "scene",
         "showlegend": true,
         "type": "scatter3d",
         "x": [
          635.0598428525802,
          635.0598428525802
         ],
         "y": [
          8.733,
          8.733
         ],
         "z": [
          83414.1171875,
          83414.1171875
         ]
        },
        {
         "hovertemplate": "labels=T3472_T7530<br>m/z=%{x}<br>rt=%{y}<br>intensity=%{z}<extra></extra>",
         "legendgroup": "T3472_T7530",
         "marker": {
          "color": "#B6E880",
          "symbol": "circle"
         },
         "mode": "markers",
         "name": "T3472_T7530",
         "scene": "scene",
         "showlegend": true,
         "type": "scatter3d",
         "x": [
          635.0637471281,
          635.0637471281
         ],
         "y": [
          8.733,
          8.733
         ],
         "z": [
          91235.2578125,
          91235.2578125
         ]
        },
        {
         "hovertemplate": "labels=T1631.1_T8218_T3904<br>m/z=%{x}<br>rt=%{y}<br>intensity=%{z}<extra></extra>",
         "legendgroup": "T1631.1_T8218_T3904",
         "marker": {
          "color": "#FF97FF",
          "symbol": "circle"
         },
         "mode": "markers",
         "name": "T1631.1_T8218_T3904",
         "scene": "scene",
         "showlegend": true,
         "type": "scatter3d",
         "x": [
          655.1358904387982,
          655.1358904387982,
          655.1358904387982
         ],
         "y": [
          15.877,
          15.877,
          15.877
         ],
         "z": [
          201667.40625,
          201667.40625,
          201667.40625
         ]
        },
        {
         "hovertemplate": "labels=T1286_T6793_T3819<br>m/z=%{x}<br>rt=%{y}<br>intensity=%{z}<extra></extra>",
         "legendgroup": "T1286_T6793_T3819",
         "marker": {
          "color": "#FECB52",
          "symbol": "circle"
         },
         "mode": "markers",
         "name": "T1286_T6793_T3819",
         "scene": "scene",
         "showlegend": true,
         "type": "scatter3d",
         "x": [
          655.1378880131867,
          655.1378880131867,
          655.1378880131867
         ],
         "y": [
          15.877,
          15.877,
          15.877
         ],
         "z": [
          268274.8125,
          268274.8125,
          268274.8125
         ]
        },
        {
         "hovertemplate": "labels=T1093_T6630.1_T3555<br>m/z=%{x}<br>rt=%{y}<br>intensity=%{z}<extra></extra>",
         "legendgroup": "T1093_T6630.1_T3555",
         "marker": {
          "color": "#636efa",
          "symbol": "circle"
         },
         "mode": "markers",
         "name": "T1093_T6630.1_T3555",
         "scene": "scene",
         "showlegend": true,
         "type": "scatter3d",
         "x": [
          655.139916748132,
          655.139916748132,
          655.139916748132
         ],
         "y": [
          15.163,
          15.163,
          15.163
         ],
         "z": [
          325389.8125,
          325389.8125,
          325389.8125
         ]
        },
        {
         "hovertemplate": "labels=T1226_T6048.1_T4060<br>m/z=%{x}<br>rt=%{y}<br>intensity=%{z}<extra></extra>",
         "legendgroup": "T1226_T6048.1_T4060",
         "marker": {
          "color": "#EF553B",
          "symbol": "circle"
         },
         "mode": "markers",
         "name": "T1226_T6048.1_T4060",
         "scene": "scene",
         "showlegend": true,
         "type": "scatter3d",
         "x": [
          655.141921634287,
          655.141921634287,
          655.141921634287
         ],
         "y": [
          14.448,
          14.448,
          14.448
         ],
         "z": [
          375824.5,
          375824.5,
          375824.5
         ]
        },
        {
         "hovertemplate": "labels=T1110_T5934_T4424<br>m/z=%{x}<br>rt=%{y}<br>intensity=%{z}<extra></extra>",
         "legendgroup": "T1110_T5934_T4424",
         "marker": {
          "color": "#00cc96",
          "symbol": "circle"
         },
         "mode": "markers",
         "name": "T1110_T5934_T4424",
         "scene": "scene",
         "showlegend": true,
         "type": "scatter3d",
         "x": [
          655.1439070546368,
          655.1439070546368,
          655.1439070546368
         ],
         "y": [
          12.305,
          12.305,
          12.305
         ],
         "z": [
          401240.8125,
          401240.8125,
          401240.8125
         ]
        },
        {
         "hovertemplate": "labels=T1094_T5500_T4480<br>m/z=%{x}<br>rt=%{y}<br>intensity=%{z}<extra></extra>",
         "legendgroup": "T1094_T5500_T4480",
         "marker": {
          "color": "#ab63fa",
          "symbol": "circle"
         },
         "mode": "markers",
         "name": "T1094_T5500_T4480",
         "scene": "scene",
         "showlegend": true,
         "type": "scatter3d",
         "x": [
          655.145916361155,
          655.145916361155,
          655.145916361155
         ],
         "y": [
          12.305,
          12.305,
          12.305
         ],
         "z": [
          393650.90625,
          393650.90625,
          393650.90625
         ]
        },
        {
         "hovertemplate": "labels=T1167.1_T5801.1_T5604.1<br>m/z=%{x}<br>rt=%{y}<br>intensity=%{z}<extra></extra>",
         "legendgroup": "T1167.1_T5801.1_T5604.1",
         "marker": {
          "color": "#FFA15A",
          "symbol": "circle"
         },
         "mode": "markers",
         "name": "T1167.1_T5801.1_T5604.1",
         "scene": "scene",
         "showlegend": true,
         "type": "scatter3d",
         "x": [
          655.1479040130765,
          655.1479040130765,
          655.1479040130765
         ],
         "y": [
          12.305,
          12.305,
          12.305
         ],
         "z": [
          370948.5,
          370948.5,
          370948.5
         ]
        },
        {
         "hovertemplate": "labels=T1276.1_T6551.1_T7145.1<br>m/z=%{x}<br>rt=%{y}<br>intensity=%{z}<extra></extra>",
         "legendgroup": "T1276.1_T6551.1_T7145.1",
         "marker": {
          "color": "#19d3f3",
          "symbol": "circle"
         },
         "mode": "markers",
         "name": "T1276.1_T6551.1_T7145.1",
         "scene": "scene",
         "showlegend": true,
         "type": "scatter3d",
         "x": [
          655.1498608212507,
          655.1498608212507,
          655.1498608212507
         ],
         "y": [
          13.019,
          13.019,
          13.019
         ],
         "z": [
          303791.09375,
          303791.09375,
          303791.09375
         ]
        },
        {
         "hovertemplate": "labels=T1710.1_T6689.1_T9568.1<br>m/z=%{x}<br>rt=%{y}<br>intensity=%{z}<extra></extra>",
         "legendgroup": "T1710.1_T6689.1_T9568.1",
         "marker": {
          "color": "#FF6692",
          "symbol": "circle"
         },
         "mode": "markers",
         "name": "T1710.1_T6689.1_T9568.1",
         "scene": "scene",
         "showlegend": true,
         "type": "scatter3d",
         "x": [
          655.1518364089658,
          655.1518364089658,
          655.1518364089658
         ],
         "y": [
          13.019,
          13.019,
          13.019
         ],
         "z": [
          256315.59375,
          256315.59375,
          256315.59375
         ]
        },
        {
         "hovertemplate": "labels=T2399.1_T8048.1<br>m/z=%{x}<br>rt=%{y}<br>intensity=%{z}<extra></extra>",
         "legendgroup": "T2399.1_T8048.1",
         "marker": {
          "color": "#B6E880",
          "symbol": "circle"
         },
         "mode": "markers",
         "name": "T2399.1_T8048.1",
         "scene": "scene",
         "showlegend": true,
         "type": "scatter3d",
         "x": [
          655.1538514909777,
          655.1538514909777
         ],
         "y": [
          13.019,
          13.019
         ],
         "z": [
          198971,
          198971
         ]
        },
        {
         "hovertemplate": "labels=T3964_T2547.1<br>m/z=%{x}<br>rt=%{y}<br>intensity=%{z}<extra></extra>",
         "legendgroup": "T3964_T2547.1",
         "marker": {
          "color": "#FF97FF",
          "symbol": "circle"
         },
         "mode": "markers",
         "name": "T3964_T2547.1",
         "scene": "scene",
         "showlegend": true,
         "type": "scatter3d",
         "x": [
          658.7102909458825,
          658.7102909458825
         ],
         "y": [
          15.163,
          15.163
         ],
         "z": [
          118661.5,
          118661.5
         ]
        },
        {
         "hovertemplate": "labels=T3942_T3204.1<br>m/z=%{x}<br>rt=%{y}<br>intensity=%{z}<extra></extra>",
         "legendgroup": "T3942_T3204.1",
         "marker": {
          "color": "#FECB52",
          "symbol": "circle"
         },
         "mode": "markers",
         "name": "T3942_T3204.1",
         "scene": "scene",
         "showlegend": true,
         "type": "scatter3d",
         "x": [
          658.7122884966548,
          658.7122884966548
         ],
         "y": [
          15.163,
          15.163
         ],
         "z": [
          135161.09375,
          135161.09375
         ]
        },
        {
         "hovertemplate": "labels=T3610_T5775.1<br>m/z=%{x}<br>rt=%{y}<br>intensity=%{z}<extra></extra>",
         "legendgroup": "T3610_T5775.1",
         "marker": {
          "color": "#636efa",
          "symbol": "circle"
         },
         "mode": "markers",
         "name": "T3610_T5775.1",
         "scene": "scene",
         "showlegend": true,
         "type": "scatter3d",
         "x": [
          658.7162655530517,
          658.7162655530517
         ],
         "y": [
          15.877,
          15.877
         ],
         "z": [
          163422.09375,
          163422.09375
         ]
        },
        {
         "hovertemplate": "labels=T3587.1_T6700.1<br>m/z=%{x}<br>rt=%{y}<br>intensity=%{z}<extra></extra>",
         "legendgroup": "T3587.1_T6700.1",
         "marker": {
          "color": "#EF553B",
          "symbol": "circle"
         },
         "mode": "markers",
         "name": "T3587.1_T6700.1",
         "scene": "scene",
         "showlegend": true,
         "type": "scatter3d",
         "x": [
          658.7182799507659,
          658.7182799507659
         ],
         "y": [
          15.877,
          15.877
         ],
         "z": [
          150986.5,
          150986.5
         ]
        },
        {
         "hovertemplate": "labels=T3430_T8827.1<br>m/z=%{x}<br>rt=%{y}<br>intensity=%{z}<extra></extra>",
         "legendgroup": "T3430_T8827.1",
         "marker": {
          "color": "#00cc96",
          "symbol": "circle"
         },
         "mode": "markers",
         "name": "T3430_T8827.1",
         "scene": "scene",
         "showlegend": true,
         "type": "scatter3d",
         "x": [
          658.7202792073982,
          658.7202792073982
         ],
         "y": [
          15.877,
          15.877
         ],
         "z": [
          157814.09375,
          157814.09375
         ]
        },
        {
         "hovertemplate": "labels=T8866.1_T4151.1<br>m/z=%{x}<br>rt=%{y}<br>intensity=%{z}<extra></extra>",
         "legendgroup": "T8866.1_T4151.1",
         "marker": {
          "color": "#ab63fa",
          "symbol": "circle"
         },
         "mode": "markers",
         "name": "T8866.1_T4151.1",
         "scene": "scene",
         "showlegend": true,
         "type": "scatter3d",
         "x": [
          658.880478648354,
          658.880478648354
         ],
         "y": [
          12.305,
          12.305
         ],
         "z": [
          58105.23828125,
          58105.23828125
         ]
        },
        {
         "hovertemplate": "labels=T2021.1_T9840<br>m/z=%{x}<br>rt=%{y}<br>intensity=%{z}<extra></extra>",
         "legendgroup": "T2021.1_T9840",
         "marker": {
          "color": "#FFA15A",
          "symbol": "circle"
         },
         "mode": "markers",
         "name": "T2021.1_T9840",
         "scene": "scene",
         "showlegend": true,
         "type": "scatter3d",
         "x": [
          659.1968791602955,
          659.1968791602955
         ],
         "y": [
          15.877,
          15.877
         ],
         "z": [
          201560.5,
          201560.5
         ]
        },
        {
         "hovertemplate": "labels=T1838_T7661<br>m/z=%{x}<br>rt=%{y}<br>intensity=%{z}<extra></extra>",
         "legendgroup": "T1838_T7661",
         "marker": {
          "color": "#19d3f3",
          "symbol": "circle"
         },
         "mode": "markers",
         "name": "T1838_T7661",
         "scene": "scene",
         "showlegend": true,
         "type": "scatter3d",
         "x": [
          659.1988891622219,
          659.1988891622219
         ],
         "y": [
          15.877,
          15.877
         ],
         "z": [
          251426.09375,
          251426.09375
         ]
        },
        {
         "hovertemplate": "labels=T1913_T7347<br>m/z=%{x}<br>rt=%{y}<br>intensity=%{z}<extra></extra>",
         "legendgroup": "T1913_T7347",
         "marker": {
          "color": "#FF6692",
          "symbol": "circle"
         },
         "mode": "markers",
         "name": "T1913_T7347",
         "scene": "scene",
         "showlegend": true,
         "type": "scatter3d",
         "x": [
          659.200900792079,
          659.200900792079
         ],
         "y": [
          12.305,
          12.305
         ],
         "z": [
          337006.09375,
          337006.09375
         ]
        },
        {
         "hovertemplate": "labels=T2016_T8186<br>m/z=%{x}<br>rt=%{y}<br>intensity=%{z}<extra></extra>",
         "legendgroup": "T2016_T8186",
         "marker": {
          "color": "#B6E880",
          "symbol": "circle"
         },
         "mode": "markers",
         "name": "T2016_T8186",
         "scene": "scene",
         "showlegend": true,
         "type": "scatter3d",
         "x": [
          659.2028974809318,
          659.2028974809318
         ],
         "y": [
          12.305,
          12.305
         ],
         "z": [
          339780.40625,
          339780.40625
         ]
        },
        {
         "hovertemplate": "labels=T2096.1_T8545<br>m/z=%{x}<br>rt=%{y}<br>intensity=%{z}<extra></extra>",
         "legendgroup": "T2096.1_T8545",
         "marker": {
          "color": "#FF97FF",
          "symbol": "circle"
         },
         "mode": "markers",
         "name": "T2096.1_T8545",
         "scene": "scene",
         "showlegend": true,
         "type": "scatter3d",
         "x": [
          659.2049108473936,
          659.2049108473936
         ],
         "y": [
          12.305,
          12.305
         ],
         "z": [
          343310.5,
          343310.5
         ]
        },
        {
         "hovertemplate": "labels=T2222.1_T8681.1<br>m/z=%{x}<br>rt=%{y}<br>intensity=%{z}<extra></extra>",
         "legendgroup": "T2222.1_T8681.1",
         "marker": {
          "color": "#FECB52",
          "symbol": "circle"
         },
         "mode": "markers",
         "name": "T2222.1_T8681.1",
         "scene": "scene",
         "showlegend": true,
         "type": "scatter3d",
         "x": [
          659.2068681823399,
          659.2068681823399
         ],
         "y": [
          18.02,
          18.02
         ],
         "z": [
          288556,
          288556
         ]
        },
        {
         "hovertemplate": "labels=T2157.1_T8647.1<br>m/z=%{x}<br>rt=%{y}<br>intensity=%{z}<extra></extra>",
         "legendgroup": "T2157.1_T8647.1",
         "marker": {
          "color": "#636efa",
          "symbol": "circle"
         },
         "mode": "markers",
         "name": "T2157.1_T8647.1",
         "scene": "scene",
         "showlegend": true,
         "type": "scatter3d",
         "x": [
          659.2088370343936,
          659.2088370343936
         ],
         "y": [
          18.02,
          18.02
         ],
         "z": [
          235615.703125,
          235615.703125
         ]
        },
        {
         "hovertemplate": "labels=T5280.1_T9363.1<br>m/z=%{x}<br>rt=%{y}<br>intensity=%{z}<extra></extra>",
         "legendgroup": "T5280.1_T9363.1",
         "marker": {
          "color": "#EF553B",
          "symbol": "circle"
         },
         "mode": "markers",
         "name": "T5280.1_T9363.1",
         "scene": "scene",
         "showlegend": true,
         "type": "scatter3d",
         "x": [
          666.0574068605653,
          666.0574068605653
         ],
         "y": [
          12.305,
          12.305
         ],
         "z": [
          189171.703125,
          189171.703125
         ]
        },
        {
         "hovertemplate": "labels=T4855.1_T7962.1<br>m/z=%{x}<br>rt=%{y}<br>intensity=%{z}<extra></extra>",
         "legendgroup": "T4855.1_T7962.1",
         "marker": {
          "color": "#00cc96",
          "symbol": "circle"
         },
         "mode": "markers",
         "name": "T4855.1_T7962.1",
         "scene": "scene",
         "showlegend": true,
         "type": "scatter3d",
         "x": [
          666.0594199351223,
          666.0594199351223
         ],
         "y": [
          12.305,
          12.305
         ],
         "z": [
          192299.59375,
          192299.59375
         ]
        },
        {
         "hovertemplate": "labels=T5291.1_T8421.1<br>m/z=%{x}<br>rt=%{y}<br>intensity=%{z}<extra></extra>",
         "legendgroup": "T5291.1_T8421.1",
         "marker": {
          "color": "#ab63fa",
          "symbol": "circle"
         },
         "mode": "markers",
         "name": "T5291.1_T8421.1",
         "scene": "scene",
         "showlegend": true,
         "type": "scatter3d",
         "x": [
          666.0614361996467,
          666.0614361996467
         ],
         "y": [
          12.305,
          12.305
         ],
         "z": [
          165033.59375,
          165033.59375
         ]
        },
        {
         "hovertemplate": "labels=T5602.1_T8804.1<br>m/z=%{x}<br>rt=%{y}<br>intensity=%{z}<extra></extra>",
         "legendgroup": "T5602.1_T8804.1",
         "marker": {
          "color": "#FFA15A",
          "symbol": "circle"
         },
         "mode": "markers",
         "name": "T5602.1_T8804.1",
         "scene": "scene",
         "showlegend": true,
         "type": "scatter3d",
         "x": [
          668.7795073623062,
          668.7795073623062
         ],
         "y": [
          11.591,
          11.591
         ],
         "z": [
          106899.6015625,
          106899.6015625
         ]
        },
        {
         "hovertemplate": "labels=T970.1_T5666.1<br>m/z=%{x}<br>rt=%{y}<br>intensity=%{z}<extra></extra>",
         "legendgroup": "T970.1_T5666.1",
         "marker": {
          "color": "#19d3f3",
          "symbol": "circle"
         },
         "mode": "markers",
         "name": "T970.1_T5666.1",
         "scene": "scene",
         "showlegend": true,
         "type": "scatter3d",
         "x": [
          673.0666433046686,
          673.0666433046686
         ],
         "y": [
          15.877,
          15.877
         ],
         "z": [
          387835.09375,
          387835.09375
         ]
        },
        {
         "hovertemplate": "labels=T819.1_T5456.1<br>m/z=%{x}<br>rt=%{y}<br>intensity=%{z}<extra></extra>",
         "legendgroup": "T819.1_T5456.1",
         "marker": {
          "color": "#FF6692",
          "symbol": "circle"
         },
         "mode": "markers",
         "name": "T819.1_T5456.1",
         "scene": "scene",
         "showlegend": true,
         "type": "scatter3d",
         "x": [
          673.0687283443087,
          673.0687283443087
         ],
         "y": [
          12.305,
          12.305
         ],
         "z": [
          598384.625,
          598384.625
         ]
        },
        {
         "hovertemplate": "labels=T807.1_T4778<br>m/z=%{x}<br>rt=%{y}<br>intensity=%{z}<extra></extra>",
         "legendgroup": "T807.1_T4778",
         "marker": {
          "color": "#B6E880",
          "symbol": "circle"
         },
         "mode": "markers",
         "name": "T807.1_T4778",
         "scene": "scene",
         "showlegend": true,
         "type": "scatter3d",
         "x": [
          673.0727634090964,
          673.0727634090964
         ],
         "y": [
          12.305,
          12.305
         ],
         "z": [
          747230.125,
          747230.125
         ]
        },
        {
         "hovertemplate": "labels=T913.1_T4839<br>m/z=%{x}<br>rt=%{y}<br>intensity=%{z}<extra></extra>",
         "legendgroup": "T913.1_T4839",
         "marker": {
          "color": "#FF97FF",
          "symbol": "circle"
         },
         "mode": "markers",
         "name": "T913.1_T4839",
         "scene": "scene",
         "showlegend": true,
         "type": "scatter3d",
         "x": [
          673.0747670142069,
          673.0747670142069
         ],
         "y": [
          12.305,
          12.305
         ],
         "z": [
          719505.5,
          719505.5
         ]
        },
        {
         "hovertemplate": "labels=T1002.1_T5647.1<br>m/z=%{x}<br>rt=%{y}<br>intensity=%{z}<extra></extra>",
         "legendgroup": "T1002.1_T5647.1",
         "marker": {
          "color": "#FECB52",
          "symbol": "circle"
         },
         "mode": "markers",
         "name": "T1002.1_T5647.1",
         "scene": "scene",
         "showlegend": true,
         "type": "scatter3d",
         "x": [
          673.0766977810246,
          673.0766977810246
         ],
         "y": [
          18.02,
          18.02
         ],
         "z": [
          627916.6875,
          627916.6875
         ]
        },
        {
         "hovertemplate": "labels=T931.1_T6339.1<br>m/z=%{x}<br>rt=%{y}<br>intensity=%{z}<extra></extra>",
         "legendgroup": "T931.1_T6339.1",
         "marker": {
          "color": "#636efa",
          "symbol": "circle"
         },
         "mode": "markers",
         "name": "T931.1_T6339.1",
         "scene": "scene",
         "showlegend": true,
         "type": "scatter3d",
         "x": [
          673.0785385049924,
          673.0785385049924
         ],
         "y": [
          18.02,
          18.02
         ],
         "z": [
          541160.1875,
          541160.1875
         ]
        },
        {
         "hovertemplate": "labels=T1709.1_T8459.1<br>m/z=%{x}<br>rt=%{y}<br>intensity=%{z}<extra></extra>",
         "legendgroup": "T1709.1_T8459.1",
         "marker": {
          "color": "#EF553B",
          "symbol": "circle"
         },
         "mode": "markers",
         "name": "T1709.1_T8459.1",
         "scene": "scene",
         "showlegend": true,
         "type": "scatter3d",
         "x": [
          673.0846116743043,
          673.0846116743043
         ],
         "y": [
          18.02,
          18.02
         ],
         "z": [
          239502.203125,
          239502.203125
         ]
        },
        {
         "hovertemplate": "labels=T5642.1_T7995.1<br>m/z=%{x}<br>rt=%{y}<br>intensity=%{z}<extra></extra>",
         "legendgroup": "T5642.1_T7995.1",
         "marker": {
          "color": "#00cc96",
          "symbol": "circle"
         },
         "mode": "markers",
         "name": "T5642.1_T7995.1",
         "scene": "scene",
         "showlegend": true,
         "type": "scatter3d",
         "x": [
          680.8613344178603,
          680.8613344178603
         ],
         "y": [
          12.305,
          12.305
         ],
         "z": [
          115248.8984375,
          115248.8984375
         ]
        },
        {
         "hovertemplate": "labels=T4969.1_T8695.1<br>m/z=%{x}<br>rt=%{y}<br>intensity=%{z}<extra></extra>",
         "legendgroup": "T4969.1_T8695.1",
         "marker": {
          "color": "#ab63fa",
          "symbol": "circle"
         },
         "mode": "markers",
         "name": "T4969.1_T8695.1",
         "scene": "scene",
         "showlegend": true,
         "type": "scatter3d",
         "x": [
          680.8634065843855,
          680.8634065843855
         ],
         "y": [
          11.591,
          11.591
         ],
         "z": [
          133934.296875,
          133934.296875
         ]
        },
        {
         "hovertemplate": "labels=T3730.1_T7120.1<br>m/z=%{x}<br>rt=%{y}<br>intensity=%{z}<extra></extra>",
         "legendgroup": "T3730.1_T7120.1",
         "marker": {
          "color": "#FFA15A",
          "symbol": "circle"
         },
         "mode": "markers",
         "name": "T3730.1_T7120.1",
         "scene": "scene",
         "showlegend": true,
         "type": "scatter3d",
         "x": [
          681.1545807628994,
          681.1545807628994
         ],
         "y": [
          15.877,
          15.877
         ],
         "z": [
          244666.90625,
          244666.90625
         ]
        },
        {
         "hovertemplate": "labels=T2574.1_T8731.1<br>m/z=%{x}<br>rt=%{y}<br>intensity=%{z}<extra></extra>",
         "legendgroup": "T2574.1_T8731.1",
         "marker": {
          "color": "#19d3f3",
          "symbol": "circle"
         },
         "mode": "markers",
         "name": "T2574.1_T8731.1",
         "scene": "scene",
         "showlegend": true,
         "type": "scatter3d",
         "x": [
          681.1566464713537,
          681.1566464713537
         ],
         "y": [
          15.877,
          15.877
         ],
         "z": [
          199287.796875,
          199287.796875
         ]
        },
        {
         "hovertemplate": "labels=T1204.1_T4891.1<br>m/z=%{x}<br>rt=%{y}<br>intensity=%{z}<extra></extra>",
         "legendgroup": "T1204.1_T4891.1",
         "marker": {
          "color": "#FF6692",
          "symbol": "circle"
         },
         "mode": "markers",
         "name": "T1204.1_T4891.1",
         "scene": "scene",
         "showlegend": true,
         "type": "scatter3d",
         "x": [
          681.1607336713796,
          681.1607336713796
         ],
         "y": [
          15.877,
          15.877
         ],
         "z": [
          617734.1875,
          617734.1875
         ]
        },
        {
         "hovertemplate": "labels=T879.1_T4122.1<br>m/z=%{x}<br>rt=%{y}<br>intensity=%{z}<extra></extra>",
         "legendgroup": "T879.1_T4122.1",
         "marker": {
          "color": "#B6E880",
          "symbol": "circle"
         },
         "mode": "markers",
         "name": "T879.1_T4122.1",
         "scene": "scene",
         "showlegend": true,
         "type": "scatter3d",
         "x": [
          681.1627720470674,
          681.1627720470674
         ],
         "y": [
          21.593,
          21.593
         ],
         "z": [
          780875,
          780875
         ]
        },
        {
         "hovertemplate": "labels=T784.1_T3839.1<br>m/z=%{x}<br>rt=%{y}<br>intensity=%{z}<extra></extra>",
         "legendgroup": "T784.1_T3839.1",
         "marker": {
          "color": "#FF97FF",
          "symbol": "circle"
         },
         "mode": "markers",
         "name": "T784.1_T3839.1",
         "scene": "scene",
         "showlegend": true,
         "type": "scatter3d",
         "x": [
          681.1647983994262,
          681.1647983994262
         ],
         "y": [
          21.593,
          21.593
         ],
         "z": [
          925999.625,
          925999.625
         ]
        },
        {
         "hovertemplate": "labels=T737.1_T3822.1<br>m/z=%{x}<br>rt=%{y}<br>intensity=%{z}<extra></extra>",
         "legendgroup": "T737.1_T3822.1",
         "marker": {
          "color": "#FECB52",
          "symbol": "circle"
         },
         "mode": "markers",
         "name": "T737.1_T3822.1",
         "scene": "scene",
         "showlegend": true,
         "type": "scatter3d",
         "x": [
          681.1668154404728,
          681.1668154404728
         ],
         "y": [
          20.164,
          20.164
         ],
         "z": [
          1015167,
          1015167
         ]
        },
        {
         "hovertemplate": "labels=T721.1_T3639.1<br>m/z=%{x}<br>rt=%{y}<br>intensity=%{z}<extra></extra>",
         "legendgroup": "T721.1_T3639.1",
         "marker": {
          "color": "#636efa",
          "symbol": "circle"
         },
         "mode": "markers",
         "name": "T721.1_T3639.1",
         "scene": "scene",
         "showlegend": true,
         "type": "scatter3d",
         "x": [
          681.1688356991925,
          681.1688356991925
         ],
         "y": [
          10.162,
          10.162
         ],
         "z": [
          1037791,
          1037791
         ]
        },
        {
         "hovertemplate": "labels=T761.1_T3947.1<br>m/z=%{x}<br>rt=%{y}<br>intensity=%{z}<extra></extra>",
         "legendgroup": "T761.1_T3947.1",
         "marker": {
          "color": "#EF553B",
          "symbol": "circle"
         },
         "mode": "markers",
         "name": "T761.1_T3947.1",
         "scene": "scene",
         "showlegend": true,
         "type": "scatter3d",
         "x": [
          681.1708215619079,
          681.1708215619079
         ],
         "y": [
          18.02,
          18.02
         ],
         "z": [
          937731.875,
          937731.875
         ]
        },
        {
         "hovertemplate": "labels=T837.1_T3973.1<br>m/z=%{x}<br>rt=%{y}<br>intensity=%{z}<extra></extra>",
         "legendgroup": "T837.1_T3973.1",
         "marker": {
          "color": "#00cc96",
          "symbol": "circle"
         },
         "mode": "markers",
         "name": "T837.1_T3973.1",
         "scene": "scene",
         "showlegend": true,
         "type": "scatter3d",
         "x": [
          681.1727176137092,
          681.1727176137092
         ],
         "y": [
          18.02,
          18.02
         ],
         "z": [
          502544.8125,
          502544.8125
         ]
        },
        {
         "hovertemplate": "labels=T1150.2_T4250.1<br>m/z=%{x}<br>rt=%{y}<br>intensity=%{z}<extra></extra>",
         "legendgroup": "T1150.2_T4250.1",
         "marker": {
          "color": "#ab63fa",
          "symbol": "circle"
         },
         "mode": "markers",
         "name": "T1150.2_T4250.1",
         "scene": "scene",
         "showlegend": true,
         "type": "scatter3d",
         "x": [
          681.1788023657336,
          681.1788023657336
         ],
         "y": [
          18.02,
          18.02
         ],
         "z": [
          169764.09375,
          169764.09375
         ]
        },
        {
         "hovertemplate": "labels=T5459.1_T9677.1<br>m/z=%{x}<br>rt=%{y}<br>intensity=%{z}<extra></extra>",
         "legendgroup": "T5459.1_T9677.1",
         "marker": {
          "color": "#FFA15A",
          "symbol": "circle"
         },
         "mode": "markers",
         "name": "T5459.1_T9677.1",
         "scene": "scene",
         "showlegend": true,
         "type": "scatter3d",
         "x": [
          681.1890818665266,
          681.1890818665266
         ],
         "y": [
          18.02,
          18.02
         ],
         "z": [
          137958.796875,
          137958.796875
         ]
        },
        {
         "hovertemplate": "labels=T7330.1_T9346.2<br>m/z=%{x}<br>rt=%{y}<br>intensity=%{z}<extra></extra>",
         "legendgroup": "T7330.1_T9346.2",
         "marker": {
          "color": "#19d3f3",
          "symbol": "circle"
         },
         "mode": "markers",
         "name": "T7330.1_T9346.2",
         "scene": "scene",
         "showlegend": true,
         "type": "scatter3d",
         "x": [
          682.1868719402345,
          682.1868719402345
         ],
         "y": [
          18.02,
          18.02
         ],
         "z": [
          68911.6171875,
          68911.6171875
         ]
        },
        {
         "hovertemplate": "labels=T5258.1_T9021.1<br>m/z=%{x}<br>rt=%{y}<br>intensity=%{z}<extra></extra>",
         "legendgroup": "T5258.1_T9021.1",
         "marker": {
          "color": "#FF6692",
          "symbol": "circle"
         },
         "mode": "markers",
         "name": "T5258.1_T9021.1",
         "scene": "scene",
         "showlegend": true,
         "type": "scatter3d",
         "x": [
          688.4677974555168,
          688.4677974555168
         ],
         "y": [
          11.591,
          11.591
         ],
         "z": [
          197314,
          197314
         ]
        },
        {
         "hovertemplate": "labels=T4670.1_T9515.1<br>m/z=%{x}<br>rt=%{y}<br>intensity=%{z}<extra></extra>",
         "legendgroup": "T4670.1_T9515.1",
         "marker": {
          "color": "#B6E880",
          "symbol": "circle"
         },
         "mode": "markers",
         "name": "T4670.1_T9515.1",
         "scene": "scene",
         "showlegend": true,
         "type": "scatter3d",
         "x": [
          688.4698563876414,
          688.4698563876414
         ],
         "y": [
          10.162,
          10.162
         ],
         "z": [
          223472.296875,
          223472.296875
         ]
        },
        {
         "hovertemplate": "labels=T3407.1_T8238.1<br>m/z=%{x}<br>rt=%{y}<br>intensity=%{z}<extra></extra>",
         "legendgroup": "T3407.1_T8238.1",
         "marker": {
          "color": "#FF97FF",
          "symbol": "circle"
         },
         "mode": "markers",
         "name": "T3407.1_T8238.1",
         "scene": "scene",
         "showlegend": true,
         "type": "scatter3d",
         "x": [
          688.4738261320539,
          688.4738261320539
         ],
         "y": [
          15.877,
          15.877
         ],
         "z": [
          277845.59375,
          277845.59375
         ]
        },
        {
         "hovertemplate": "labels=T2689.1_T5159.1_T9541.1<br>m/z=%{x}<br>rt=%{y}<br>intensity=%{z}<extra></extra>",
         "legendgroup": "T2689.1_T5159.1_T9541.1",
         "marker": {
          "color": "#FECB52",
          "symbol": "circle"
         },
         "mode": "markers",
         "name": "T2689.1_T5159.1_T9541.1",
         "scene": "scene",
         "showlegend": true,
         "type": "scatter3d",
         "x": [
          688.4758773627731,
          688.4758773627731,
          688.4758773627731
         ],
         "y": [
          15.877,
          15.877,
          15.877
         ],
         "z": [
          324284.90625,
          324284.90625,
          324284.90625
         ]
        },
        {
         "hovertemplate": "labels=T544.1_T2384.1<br>m/z=%{x}<br>rt=%{y}<br>intensity=%{z}<extra></extra>",
         "legendgroup": "T544.1_T2384.1",
         "marker": {
          "color": "#636efa",
          "symbol": "circle"
         },
         "mode": "markers",
         "name": "T544.1_T2384.1",
         "scene": "scene",
         "showlegend": true,
         "type": "scatter3d",
         "x": [
          688.4841604768657,
          688.4841604768657
         ],
         "y": [
          15.877,
          15.877
         ],
         "z": [
          624266.375,
          624266.375
         ]
        },
        {
         "hovertemplate": "labels=T413.1_T1535.1_T7296.1<br>m/z=%{x}<br>rt=%{y}<br>intensity=%{z}<extra></extra>",
         "legendgroup": "T413.1_T1535.1_T7296.1",
         "marker": {
          "color": "#EF553B",
          "symbol": "circle"
         },
         "mode": "markers",
         "name": "T413.1_T1535.1_T7296.1",
         "scene": "scene",
         "showlegend": true,
         "type": "scatter3d",
         "x": [
          688.486235775639,
          688.486235775639,
          688.486235775639
         ],
         "y": [
          15.877,
          15.877,
          15.877
         ],
         "z": [
          833099.6875,
          833099.6875,
          833099.6875
         ]
        },
        {
         "hovertemplate": "labels=T243.1_T921.1_T5173.1<br>m/z=%{x}<br>rt=%{y}<br>intensity=%{z}<extra></extra>",
         "legendgroup": "T243.1_T921.1_T5173.1",
         "marker": {
          "color": "#00cc96",
          "symbol": "circle"
         },
         "mode": "markers",
         "name": "T243.1_T921.1_T5173.1",
         "scene": "scene",
         "showlegend": true,
         "type": "scatter3d",
         "x": [
          688.4903294801043,
          688.4903294801043,
          688.4903294801043
         ],
         "y": [
          10.162,
          10.162,
          10.162
         ],
         "z": [
          2074859,
          2074859,
          2074859
         ]
        },
        {
         "hovertemplate": "labels=T259.1_T870.1_T4111.1<br>m/z=%{x}<br>rt=%{y}<br>intensity=%{z}<extra></extra>",
         "legendgroup": "T259.1_T870.1_T4111.1",
         "marker": {
          "color": "#ab63fa",
          "symbol": "circle"
         },
         "mode": "markers",
         "name": "T259.1_T870.1_T4111.1",
         "scene": "scene",
         "showlegend": true,
         "type": "scatter3d",
         "x": [
          688.4923709581103,
          688.4923709581103,
          688.4923709581103
         ],
         "y": [
          10.162,
          10.162,
          10.162
         ],
         "z": [
          2128215,
          2128215,
          2128215
         ]
        },
        {
         "hovertemplate": "labels=T295.1_T980.1_T3801.1<br>m/z=%{x}<br>rt=%{y}<br>intensity=%{z}<extra></extra>",
         "legendgroup": "T295.1_T980.1_T3801.1",
         "marker": {
          "color": "#FFA15A",
          "symbol": "circle"
         },
         "mode": "markers",
         "name": "T295.1_T980.1_T3801.1",
         "scene": "scene",
         "showlegend": true,
         "type": "scatter3d",
         "x": [
          688.4943876455117,
          688.4943876455117,
          688.4943876455117
         ],
         "y": [
          9.447,
          9.447,
          9.447
         ],
         "z": [
          2031913,
          2031913,
          2031913
         ]
        },
        {
         "hovertemplate": "labels=T284.1_T926.1_T3795.1<br>m/z=%{x}<br>rt=%{y}<br>intensity=%{z}<extra></extra>",
         "legendgroup": "T284.1_T926.1_T3795.1",
         "marker": {
          "color": "#19d3f3",
          "symbol": "circle"
         },
         "mode": "markers",
         "name": "T284.1_T926.1_T3795.1",
         "scene": "scene",
         "showlegend": true,
         "type": "scatter3d",
         "x": [
          688.4964090030197,
          688.4964090030197,
          688.4964090030197
         ],
         "y": [
          10.162,
          10.162,
          10.162
         ],
         "z": [
          1657523,
          1657523,
          1657523
         ]
        },
        {
         "hovertemplate": "labels=T255.1_T845.1<br>m/z=%{x}<br>rt=%{y}<br>intensity=%{z}<extra></extra>",
         "legendgroup": "T255.1_T845.1",
         "marker": {
          "color": "#FF6692",
          "symbol": "circle"
         },
         "mode": "markers",
         "name": "T255.1_T845.1",
         "scene": "scene",
         "showlegend": true,
         "type": "scatter3d",
         "x": [
          688.498432834614,
          688.498432834614
         ],
         "y": [
          10.162,
          10.162
         ],
         "z": [
          746953,
          746953
         ]
        },
        {
         "hovertemplate": "labels=T349.2_T1508.2<br>m/z=%{x}<br>rt=%{y}<br>intensity=%{z}<extra></extra>",
         "legendgroup": "T349.2_T1508.2",
         "marker": {
          "color": "#B6E880",
          "symbol": "circle"
         },
         "mode": "markers",
         "name": "T349.2_T1508.2",
         "scene": "scene",
         "showlegend": true,
         "type": "scatter3d",
         "x": [
          688.5024340232144,
          688.5024340232144
         ],
         "y": [
          18.02,
          18.02
         ],
         "z": [
          276104.40625,
          276104.40625
         ]
        },
        {
         "hovertemplate": "labels=T1111.1_T2148.1<br>m/z=%{x}<br>rt=%{y}<br>intensity=%{z}<extra></extra>",
         "legendgroup": "T1111.1_T2148.1",
         "marker": {
          "color": "#FF97FF",
          "symbol": "circle"
         },
         "mode": "markers",
         "name": "T1111.1_T2148.1",
         "scene": "scene",
         "showlegend": true,
         "type": "scatter3d",
         "x": [
          688.5085855442929,
          688.5085855442929
         ],
         "y": [
          10.162,
          10.162
         ],
         "z": [
          214425.203125,
          214425.203125
         ]
        },
        {
         "hovertemplate": "labels=T1795.1_T4153.1_T7285.1<br>m/z=%{x}<br>rt=%{y}<br>intensity=%{z}<extra></extra>",
         "legendgroup": "T1795.1_T4153.1_T7285.1",
         "marker": {
          "color": "#FECB52",
          "symbol": "circle"
         },
         "mode": "markers",
         "name": "T1795.1_T4153.1_T7285.1",
         "scene": "scene",
         "showlegend": true,
         "type": "scatter3d",
         "x": [
          688.5106347318558,
          688.5106347318558,
          688.5106347318558
         ],
         "y": [
          10.162,
          10.162,
          10.162
         ],
         "z": [
          302576.59375,
          302576.59375,
          302576.59375
         ]
        },
        {
         "hovertemplate": "labels=T3050.1_T5158.1_T9983.1<br>m/z=%{x}<br>rt=%{y}<br>intensity=%{z}<extra></extra>",
         "legendgroup": "T3050.1_T5158.1_T9983.1",
         "marker": {
          "color": "#636efa",
          "symbol": "circle"
         },
         "mode": "markers",
         "name": "T3050.1_T5158.1_T9983.1",
         "scene": "scene",
         "showlegend": true,
         "type": "scatter3d",
         "x": [
          688.5148189383946,
          688.5148189383946,
          688.5148189383946
         ],
         "y": [
          10.162,
          10.162,
          10.162
         ],
         "z": [
          206185.703125,
          206185.703125,
          206185.703125
         ]
        },
        {
         "hovertemplate": "labels=T3493.1_T5520.1<br>m/z=%{x}<br>rt=%{y}<br>intensity=%{z}<extra></extra>",
         "legendgroup": "T3493.1_T5520.1",
         "marker": {
          "color": "#EF553B",
          "symbol": "circle"
         },
         "mode": "markers",
         "name": "T3493.1_T5520.1",
         "scene": "scene",
         "showlegend": true,
         "type": "scatter3d",
         "x": [
          688.5168660838767,
          688.5168660838767
         ],
         "y": [
          10.162,
          10.162
         ],
         "z": [
          164466.90625,
          164466.90625
         ]
        },
        {
         "hovertemplate": "labels=T6362.1_T7901.1<br>m/z=%{x}<br>rt=%{y}<br>intensity=%{z}<extra></extra>",
         "legendgroup": "T6362.1_T7901.1",
         "marker": {
          "color": "#00cc96",
          "symbol": "circle"
         },
         "mode": "markers",
         "name": "T6362.1_T7901.1",
         "scene": "scene",
         "showlegend": true,
         "type": "scatter3d",
         "x": [
          688.5229570467116,
          688.5229570467116
         ],
         "y": [
          10.162,
          10.162
         ],
         "z": [
          74428.921875,
          74428.921875
         ]
        },
        {
         "hovertemplate": "labels=T1025.1_T6003.1<br>m/z=%{x}<br>rt=%{y}<br>intensity=%{z}<extra></extra>",
         "legendgroup": "T1025.1_T6003.1",
         "marker": {
          "color": "#ab63fa",
          "symbol": "circle"
         },
         "mode": "markers",
         "name": "T1025.1_T6003.1",
         "scene": "scene",
         "showlegend": true,
         "type": "scatter3d",
         "x": [
          689.4894117918984,
          689.4894117918984
         ],
         "y": [
          15.877,
          15.877
         ],
         "z": [
          610906.625,
          610906.625
         ]
        },
        {
         "hovertemplate": "labels=T941.1_T4346.1<br>m/z=%{x}<br>rt=%{y}<br>intensity=%{z}<extra></extra>",
         "legendgroup": "T941.1_T4346.1",
         "marker": {
          "color": "#FFA15A",
          "symbol": "circle"
         },
         "mode": "markers",
         "name": "T941.1_T4346.1",
         "scene": "scene",
         "showlegend": true,
         "type": "scatter3d",
         "x": [
          689.499595377274,
          689.499595377274
         ],
         "y": [
          10.162,
          10.162
         ],
         "z": [
          718581.8125,
          718581.8125
         ]
        },
        {
         "hovertemplate": "labels=T2446.1_T7514.1<br>m/z=%{x}<br>rt=%{y}<br>intensity=%{z}<extra></extra>",
         "legendgroup": "T2446.1_T7514.1",
         "marker": {
          "color": "#19d3f3",
          "symbol": "circle"
         },
         "mode": "markers",
         "name": "T2446.1_T7514.1",
         "scene": "scene",
         "showlegend": true,
         "type": "scatter3d",
         "x": [
          702.4978116368183,
          702.4978116368183
         ],
         "y": [
          15.877,
          15.877
         ],
         "z": [
          200176,
          200176
         ]
        },
        {
         "hovertemplate": "labels=T1690.1_T4614.1<br>m/z=%{x}<br>rt=%{y}<br>intensity=%{z}<extra></extra>",
         "legendgroup": "T1690.1_T4614.1",
         "marker": {
          "color": "#FF6692",
          "symbol": "circle"
         },
         "mode": "markers",
         "name": "T1690.1_T4614.1",
         "scene": "scene",
         "showlegend": true,
         "type": "scatter3d",
         "x": [
          702.500028057073,
          702.500028057073
         ],
         "y": [
          15.877,
          15.877
         ],
         "z": [
          261249.203125,
          261249.203125
         ]
        },
        {
         "hovertemplate": "labels=T1344.1_T4006.1<br>m/z=%{x}<br>rt=%{y}<br>intensity=%{z}<extra></extra>",
         "legendgroup": "T1344.1_T4006.1",
         "marker": {
          "color": "#B6E880",
          "symbol": "circle"
         },
         "mode": "markers",
         "name": "T1344.1_T4006.1",
         "scene": "scene",
         "showlegend": true,
         "type": "scatter3d",
         "x": [
          702.5020970207662,
          702.5020970207662
         ],
         "y": [
          15.877,
          15.877
         ],
         "z": [
          336289.1875,
          336289.1875
         ]
        },
        {
         "hovertemplate": "labels=T1057.1_T3510.1<br>m/z=%{x}<br>rt=%{y}<br>intensity=%{z}<extra></extra>",
         "legendgroup": "T1057.1_T3510.1",
         "marker": {
          "color": "#FF97FF",
          "symbol": "circle"
         },
         "mode": "markers",
         "name": "T1057.1_T3510.1",
         "scene": "scene",
         "showlegend": true,
         "type": "scatter3d",
         "x": [
          702.5062447851378,
          702.5062447851378
         ],
         "y": [
          10.162,
          10.162
         ],
         "z": [
          761059.375,
          761059.375
         ]
        },
        {
         "hovertemplate": "labels=T1046.1_T2880.1<br>m/z=%{x}<br>rt=%{y}<br>intensity=%{z}<extra></extra>",
         "legendgroup": "T1046.1_T2880.1",
         "marker": {
          "color": "#FECB52",
          "symbol": "circle"
         },
         "mode": "markers",
         "name": "T1046.1_T2880.1",
         "scene": "scene",
         "showlegend": true,
         "type": "scatter3d",
         "x": [
          702.508311479699,
          702.508311479699
         ],
         "y": [
          10.162,
          10.162
         ],
         "z": [
          796739.125,
          796739.125
         ]
        },
        {
         "hovertemplate": "labels=T1127.1_T2907.1<br>m/z=%{x}<br>rt=%{y}<br>intensity=%{z}<extra></extra>",
         "legendgroup": "T1127.1_T2907.1",
         "marker": {
          "color": "#636efa",
          "symbol": "circle"
         },
         "mode": "markers",
         "name": "T1127.1_T2907.1",
         "scene": "scene",
         "showlegend": true,
         "type": "scatter3d",
         "x": [
          702.5103454716887,
          702.5103454716887
         ],
         "y": [
          10.162,
          10.162
         ],
         "z": [
          735977.1875,
          735977.1875
         ]
        },
        {
         "hovertemplate": "labels=T1023.1_T3100.1<br>m/z=%{x}<br>rt=%{y}<br>intensity=%{z}<extra></extra>",
         "legendgroup": "T1023.1_T3100.1",
         "marker": {
          "color": "#EF553B",
          "symbol": "circle"
         },
         "mode": "markers",
         "name": "T1023.1_T3100.1",
         "scene": "scene",
         "showlegend": true,
         "type": "scatter3d",
         "x": [
          702.5123771832725,
          702.5123771832725
         ],
         "y": [
          10.162,
          10.162
         ],
         "z": [
          586899,
          586899
         ]
        },
        {
         "hovertemplate": "labels=T1001.1_T2975.1<br>m/z=%{x}<br>rt=%{y}<br>intensity=%{z}<extra></extra>",
         "legendgroup": "T1001.1_T2975.1",
         "marker": {
          "color": "#00cc96",
          "symbol": "circle"
         },
         "mode": "markers",
         "name": "T1001.1_T2975.1",
         "scene": "scene",
         "showlegend": true,
         "type": "scatter3d",
         "x": [
          702.5144279907872,
          702.5144279907872
         ],
         "y": [
          10.162,
          10.162
         ],
         "z": [
          266925.8125,
          266925.8125
         ]
        },
        {
         "hovertemplate": "labels=T1181.1_T2961.1<br>m/z=%{x}<br>rt=%{y}<br>intensity=%{z}<extra></extra>",
         "legendgroup": "T1181.1_T2961.1",
         "marker": {
          "color": "#ab63fa",
          "symbol": "circle"
         },
         "mode": "markers",
         "name": "T1181.1_T2961.1",
         "scene": "scene",
         "showlegend": true,
         "type": "scatter3d",
         "x": [
          702.5164923727664,
          702.5164923727664
         ],
         "y": [
          10.162,
          10.162
         ],
         "z": [
          208861,
          208861
         ]
        },
        {
         "hovertemplate": "labels=T2077.1_T3532.1<br>m/z=%{x}<br>rt=%{y}<br>intensity=%{z}<extra></extra>",
         "legendgroup": "T2077.1_T3532.1",
         "marker": {
          "color": "#FFA15A",
          "symbol": "circle"
         },
         "mode": "markers",
         "name": "T2077.1_T3532.1",
         "scene": "scene",
         "showlegend": true,
         "type": "scatter3d",
         "x": [
          702.5205558284123,
          702.5205558284123
         ],
         "y": [
          10.162,
          10.162
         ],
         "z": [
          75884.6328125,
          75884.6328125
         ]
        },
        {
         "hovertemplate": "labels=T2876.1_T5185.1<br>m/z=%{x}<br>rt=%{y}<br>intensity=%{z}<extra></extra>",
         "legendgroup": "T2876.1_T5185.1",
         "marker": {
          "color": "#19d3f3",
          "symbol": "circle"
         },
         "mode": "markers",
         "name": "T2876.1_T5185.1",
         "scene": "scene",
         "showlegend": true,
         "type": "scatter3d",
         "x": [
          702.5227081931229,
          702.5227081931229
         ],
         "y": [
          10.162,
          10.162
         ],
         "z": [
          101552.296875,
          101552.296875
         ]
        },
        {
         "hovertemplate": "labels=T5474.1_T7332.1<br>m/z=%{x}<br>rt=%{y}<br>intensity=%{z}<extra></extra>",
         "legendgroup": "T5474.1_T7332.1",
         "marker": {
          "color": "#FF6692",
          "symbol": "circle"
         },
         "mode": "markers",
         "name": "T5474.1_T7332.1",
         "scene": "scene",
         "showlegend": true,
         "type": "scatter3d",
         "x": [
          702.5268740940817,
          702.5268740940817
         ],
         "y": [
          18.02,
          18.02
         ],
         "z": [
          130892.1015625,
          130892.1015625
         ]
        },
        {
         "hovertemplate": "labels=T7835.1_T9413.1<br>m/z=%{x}<br>rt=%{y}<br>intensity=%{z}<extra></extra>",
         "legendgroup": "T7835.1_T9413.1",
         "marker": {
          "color": "#B6E880",
          "symbol": "circle"
         },
         "mode": "markers",
         "name": "T7835.1_T9413.1",
         "scene": "scene",
         "showlegend": true,
         "type": "scatter3d",
         "x": [
          702.5309781760217,
          702.5309781760217
         ],
         "y": [
          10.162,
          10.162
         ],
         "z": [
          100938.796875,
          100938.796875
         ]
        },
        {
         "hovertemplate": "labels=T3593.1_T7111.1<br>m/z=%{x}<br>rt=%{y}<br>intensity=%{z}<extra></extra>",
         "legendgroup": "T3593.1_T7111.1",
         "marker": {
          "color": "#FF97FF",
          "symbol": "circle"
         },
         "mode": "markers",
         "name": "T3593.1_T7111.1",
         "scene": "scene",
         "showlegend": true,
         "type": "scatter3d",
         "x": [
          714.4995960308577,
          714.4995960308577
         ],
         "y": [
          15.877,
          15.877
         ],
         "z": [
          235077.90625,
          235077.90625
         ]
        },
        {
         "hovertemplate": "labels=T2743.1_T9978.1<br>m/z=%{x}<br>rt=%{y}<br>intensity=%{z}<extra></extra>",
         "legendgroup": "T2743.1_T9978.1",
         "marker": {
          "color": "#FECB52",
          "symbol": "circle"
         },
         "mode": "markers",
         "name": "T2743.1_T9978.1",
         "scene": "scene",
         "showlegend": true,
         "type": "scatter3d",
         "x": [
          714.501814007934,
          714.501814007934
         ],
         "y": [
          15.877,
          15.877
         ],
         "z": [
          199428.703125,
          199428.703125
         ]
        },
        {
         "hovertemplate": "labels=T2094.1_T4923.1_T7750.1<br>m/z=%{x}<br>rt=%{y}<br>intensity=%{z}<extra></extra>",
         "legendgroup": "T2094.1_T4923.1_T7750.1",
         "marker": {
          "color": "#636efa",
          "symbol": "circle"
         },
         "mode": "markers",
         "name": "T2094.1_T4923.1_T7750.1",
         "scene": "scene",
         "showlegend": true,
         "type": "scatter3d",
         "x": [
          714.5059847363214,
          714.5059847363214,
          714.5059847363214
         ],
         "y": [
          10.162,
          10.162,
          10.162
         ],
         "z": [
          432651.40625,
          432651.40625,
          432651.40625
         ]
        },
        {
         "hovertemplate": "labels=T2105.1_T4104.1_T6967.1<br>m/z=%{x}<br>rt=%{y}<br>intensity=%{z}<extra></extra>",
         "legendgroup": "T2105.1_T4104.1_T6967.1",
         "marker": {
          "color": "#EF553B",
          "symbol": "circle"
         },
         "mode": "markers",
         "name": "T2105.1_T4104.1_T6967.1",
         "scene": "scene",
         "showlegend": true,
         "type": "scatter3d",
         "x": [
          714.5080594414502,
          714.5080594414502,
          714.5080594414502
         ],
         "y": [
          10.162,
          10.162,
          10.162
         ],
         "z": [
          439572.8125,
          439572.8125,
          439572.8125
         ]
        },
        {
         "hovertemplate": "labels=T2330.1_T4457.1_T5906.1<br>m/z=%{x}<br>rt=%{y}<br>intensity=%{z}<extra></extra>",
         "legendgroup": "T2330.1_T4457.1_T5906.1",
         "marker": {
          "color": "#00cc96",
          "symbol": "circle"
         },
         "mode": "markers",
         "name": "T2330.1_T4457.1_T5906.1",
         "scene": "scene",
         "showlegend": true,
         "type": "scatter3d",
         "x": [
          714.5100832322154,
          714.5100832322154,
          714.5100832322154
         ],
         "y": [
          9.447,
          9.447,
          9.447
         ],
         "z": [
          386145.6875,
          386145.6875,
          386145.6875
         ]
        },
        {
         "hovertemplate": "labels=T2121.1_T5550.1_T4793.1_T8902.1<br>m/z=%{x}<br>rt=%{y}<br>intensity=%{z}<extra></extra>",
         "legendgroup": "T2121.1_T5550.1_T4793.1_T8902.1",
         "marker": {
          "color": "#ab63fa",
          "symbol": "circle"
         },
         "mode": "markers",
         "name": "T2121.1_T5550.1_T4793.1_T8902.1",
         "scene": "scene",
         "showlegend": true,
         "type": "scatter3d",
         "x": [
          714.5121015624577,
          714.5121015624577,
          714.5121015624577,
          714.5121015624577
         ],
         "y": [
          10.162,
          10.162,
          10.162,
          10.162
         ],
         "z": [
          368521.90625,
          368521.90625,
          368521.90625,
          368521.90625
         ]
        },
        {
         "hovertemplate": "labels=T2439.1_T5246.1<br>m/z=%{x}<br>rt=%{y}<br>intensity=%{z}<extra></extra>",
         "legendgroup": "T2439.1_T5246.1",
         "marker": {
          "color": "#FFA15A",
          "symbol": "circle"
         },
         "mode": "markers",
         "name": "T2439.1_T5246.1",
         "scene": "scene",
         "showlegend": true,
         "type": "scatter3d",
         "x": [
          714.5163401311048,
          714.5163401311048
         ],
         "y": [
          10.162,
          10.162
         ],
         "z": [
          135834.59375,
          135834.59375
         ]
        },
        {
         "hovertemplate": "labels=T4582.1_T7878.1_T3126.1<br>m/z=%{x}<br>rt=%{y}<br>intensity=%{z}<extra></extra>",
         "legendgroup": "T4582.1_T7878.1_T3126.1",
         "marker": {
          "color": "#19d3f3",
          "symbol": "circle"
         },
         "mode": "markers",
         "name": "T4582.1_T7878.1_T3126.1",
         "scene": "scene",
         "showlegend": true,
         "type": "scatter3d",
         "x": [
          714.5225971216398,
          714.5225971216398,
          714.5225971216398
         ],
         "y": [
          10.162,
          10.162,
          10.162
         ],
         "z": [
          110807.703125,
          110807.703125,
          110807.703125
         ]
        },
        {
         "hovertemplate": "labels=T6679.1_T9287.1_T3729.1_T7913.1<br>m/z=%{x}<br>rt=%{y}<br>intensity=%{z}<extra></extra>",
         "legendgroup": "T6679.1_T9287.1_T3729.1_T7913.1",
         "marker": {
          "color": "#FF6692",
          "symbol": "circle"
         },
         "mode": "markers",
         "name": "T6679.1_T9287.1_T3729.1_T7913.1",
         "scene": "scene",
         "showlegend": true,
         "type": "scatter3d",
         "x": [
          714.524711730238,
          714.524711730238,
          714.524711730238,
          714.524711730238
         ],
         "y": [
          10.162,
          10.162,
          10.162,
          10.162
         ],
         "z": [
          91523.703125,
          91523.703125,
          91523.703125,
          91523.703125
         ]
        },
        {
         "hovertemplate": "labels=T5865.1_T3338.1<br>m/z=%{x}<br>rt=%{y}<br>intensity=%{z}<extra></extra>",
         "legendgroup": "T5865.1_T3338.1",
         "marker": {
          "color": "#B6E880",
          "symbol": "circle"
         },
         "mode": "markers",
         "name": "T5865.1_T3338.1",
         "scene": "scene",
         "showlegend": true,
         "type": "scatter3d",
         "x": [
          715.5195923851908,
          715.5195923851908
         ],
         "y": [
          10.162,
          10.162
         ],
         "z": [
          106628.296875,
          106628.296875
         ]
        },
        {
         "hovertemplate": "labels=T3804.1_T8568.1<br>m/z=%{x}<br>rt=%{y}<br>intensity=%{z}<extra></extra>",
         "legendgroup": "T3804.1_T8568.1",
         "marker": {
          "color": "#FF97FF",
          "symbol": "circle"
         },
         "mode": "markers",
         "name": "T3804.1_T8568.1",
         "scene": "scene",
         "showlegend": true,
         "type": "scatter3d",
         "x": [
          716.5296857140825,
          716.5296857140825
         ],
         "y": [
          10.162,
          10.162
         ],
         "z": [
          193368.09375,
          193368.09375
         ]
        },
        {
         "hovertemplate": "labels=T9749.1_T8570.1<br>m/z=%{x}<br>rt=%{y}<br>intensity=%{z}<extra></extra>",
         "legendgroup": "T9749.1_T8570.1",
         "marker": {
          "color": "#FECB52",
          "symbol": "circle"
         },
         "mode": "markers",
         "name": "T9749.1_T8570.1",
         "scene": "scene",
         "showlegend": true,
         "type": "scatter3d",
         "x": [
          717.1393981174899,
          717.1393981174899
         ],
         "y": [
          15.877,
          15.877
         ],
         "z": [
          74968.9375,
          74968.9375
         ]
        },
        {
         "hovertemplate": "labels=T9905.1_T6915.1<br>m/z=%{x}<br>rt=%{y}<br>intensity=%{z}<extra></extra>",
         "legendgroup": "T9905.1_T6915.1",
         "marker": {
          "color": "#636efa",
          "symbol": "circle"
         },
         "mode": "markers",
         "name": "T9905.1_T6915.1",
         "scene": "scene",
         "showlegend": true,
         "type": "scatter3d",
         "x": [
          717.1414547128617,
          717.1414547128617
         ],
         "y": [
          11.591,
          11.591
         ],
         "z": [
          73697.2578125,
          73697.2578125
         ]
        },
        {
         "hovertemplate": "labels=T9600.1_T7709.1<br>m/z=%{x}<br>rt=%{y}<br>intensity=%{z}<extra></extra>",
         "legendgroup": "T9600.1_T7709.1",
         "marker": {
          "color": "#EF553B",
          "symbol": "circle"
         },
         "mode": "markers",
         "name": "T9600.1_T7709.1",
         "scene": "scene",
         "showlegend": true,
         "type": "scatter3d",
         "x": [
          717.1453856838467,
          717.1453856838467
         ],
         "y": [
          18.02,
          18.02
         ],
         "z": [
          67248.15625,
          67248.15625
         ]
        },
        {
         "hovertemplate": "labels=T9502_T4584.1_T1698.1<br>m/z=%{x}<br>rt=%{y}<br>intensity=%{z}<extra></extra>",
         "legendgroup": "T9502_T4584.1_T1698.1",
         "marker": {
          "color": "#00cc96",
          "symbol": "circle"
         },
         "mode": "markers",
         "name": "T9502_T4584.1_T1698.1",
         "scene": "scene",
         "showlegend": true,
         "type": "scatter3d",
         "x": [
          718.8024759015835,
          718.8024759015835,
          718.8024759015835
         ],
         "y": [
          15.163,
          15.163,
          15.163
         ],
         "z": [
          49346.66015625,
          49346.66015625,
          49346.66015625
         ]
        },
        {
         "hovertemplate": "labels=T9108_T3651.1<br>m/z=%{x}<br>rt=%{y}<br>intensity=%{z}<extra></extra>",
         "legendgroup": "T9108_T3651.1",
         "marker": {
          "color": "#ab63fa",
          "symbol": "circle"
         },
         "mode": "markers",
         "name": "T9108_T3651.1",
         "scene": "scene",
         "showlegend": true,
         "type": "scatter3d",
         "x": [
          718.8045806058241,
          718.8045806058241
         ],
         "y": [
          15.877,
          15.877
         ],
         "z": [
          52059.69921875,
          52059.69921875
         ]
        },
        {
         "hovertemplate": "labels=T5993_T1211.1_T332.1<br>m/z=%{x}<br>rt=%{y}<br>intensity=%{z}<extra></extra>",
         "legendgroup": "T5993_T1211.1_T332.1",
         "marker": {
          "color": "#FFA15A",
          "symbol": "circle"
         },
         "mode": "markers",
         "name": "T5993_T1211.1_T332.1",
         "scene": "scene",
         "showlegend": true,
         "type": "scatter3d",
         "x": [
          718.8108240123528,
          718.8108240123528,
          718.8108240123528
         ],
         "y": [
          15.877,
          15.877,
          15.877
         ],
         "z": [
          80601.78125,
          80601.78125,
          80601.78125
         ]
        },
        {
         "hovertemplate": "labels=T4065_T5351<br>m/z=%{x}<br>rt=%{y}<br>intensity=%{z}<extra></extra>",
         "legendgroup": "T4065_T5351",
         "marker": {
          "color": "#19d3f3",
          "symbol": "circle"
         },
         "mode": "markers",
         "name": "T4065_T5351",
         "scene": "scene",
         "showlegend": true,
         "type": "scatter3d",
         "x": [
          719.1082109925736,
          719.1082109925736
         ],
         "y": [
          15.163,
          15.163
         ],
         "z": [
          38898.96875,
          38898.96875
         ]
        },
        {
         "hovertemplate": "labels=T10006_T6706.1<br>m/z=%{x}<br>rt=%{y}<br>intensity=%{z}<extra></extra>",
         "legendgroup": "T10006_T6706.1",
         "marker": {
          "color": "#FF6692",
          "symbol": "circle"
         },
         "mode": "markers",
         "name": "T10006_T6706.1",
         "scene": "scene",
         "showlegend": true,
         "type": "scatter3d",
         "x": [
          719.1186326913241,
          719.1186326913241
         ],
         "y": [
          15.877,
          15.877
         ],
         "z": [
          48798.8203125,
          48798.8203125
         ]
        },
        {
         "hovertemplate": "labels=T2748.1_T714.1<br>m/z=%{x}<br>rt=%{y}<br>intensity=%{z}<extra></extra>",
         "legendgroup": "T2748.1_T714.1",
         "marker": {
          "color": "#B6E880",
          "symbol": "circle"
         },
         "mode": "markers",
         "name": "T2748.1_T714.1",
         "scene": "scene",
         "showlegend": true,
         "type": "scatter3d",
         "x": [
          719.1412669641477,
          719.1412669641477
         ],
         "y": [
          15.877,
          15.877
         ],
         "z": [
          79049.5234375,
          79049.5234375
         ]
        },
        {
         "hovertemplate": "labels=T1858_T7155_T2432.1<br>m/z=%{x}<br>rt=%{y}<br>intensity=%{z}<extra></extra>",
         "legendgroup": "T1858_T7155_T2432.1",
         "marker": {
          "color": "#FF97FF",
          "symbol": "circle"
         },
         "mode": "markers",
         "name": "T1858_T7155_T2432.1",
         "scene": "scene",
         "showlegend": true,
         "type": "scatter3d",
         "x": [
          719.1435144907339,
          719.1435144907339,
          719.1435144907339
         ],
         "y": [
          15.877,
          15.877,
          15.877
         ],
         "z": [
          189637.703125,
          189637.703125,
          189637.703125
         ]
        },
        {
         "hovertemplate": "labels=T933.1_T4478.1_T2168.1_T9971.1<br>m/z=%{x}<br>rt=%{y}<br>intensity=%{z}<extra></extra>",
         "legendgroup": "T933.1_T4478.1_T2168.1_T9971.1",
         "marker": {
          "color": "#FECB52",
          "symbol": "circle"
         },
         "mode": "markers",
         "name": "T933.1_T4478.1_T2168.1_T9971.1",
         "scene": "scene",
         "showlegend": true,
         "type": "scatter3d",
         "x": [
          719.1475613371528,
          719.1475613371528,
          719.1475613371528,
          719.1475613371528
         ],
         "y": [
          15.877,
          15.877,
          15.877,
          15.877
         ],
         "z": [
          335072.6875,
          335072.6875,
          335072.6875,
          335072.6875
         ]
        },
        {
         "hovertemplate": "labels=T722.1_T166.1<br>m/z=%{x}<br>rt=%{y}<br>intensity=%{z}<extra></extra>",
         "legendgroup": "T722.1_T166.1",
         "marker": {
          "color": "#636efa",
          "symbol": "circle"
         },
         "mode": "markers",
         "name": "T722.1_T166.1",
         "scene": "scene",
         "showlegend": true,
         "type": "scatter3d",
         "x": [
          719.1497152388109,
          719.1497152388109
         ],
         "y": [
          11.591,
          11.591
         ],
         "z": [
          192062,
          192062
         ]
        },
        {
         "hovertemplate": "labels=T600.1_T2716.1_T2070_T8502<br>m/z=%{x}<br>rt=%{y}<br>intensity=%{z}<extra></extra>",
         "legendgroup": "T600.1_T2716.1_T2070_T8502",
         "marker": {
          "color": "#EF553B",
          "symbol": "circle"
         },
         "mode": "markers",
         "name": "T600.1_T2716.1_T2070_T8502",
         "scene": "scene",
         "showlegend": true,
         "type": "scatter3d",
         "x": [
          719.1521623640689,
          719.1521623640689,
          719.1521623640689,
          719.1521623640689
         ],
         "y": [
          15.877,
          15.877,
          15.877,
          15.877
         ],
         "z": [
          556226.6875,
          556226.6875,
          556226.6875,
          556226.6875
         ]
        },
        {
         "hovertemplate": "labels=T555.1_T2684<br>m/z=%{x}<br>rt=%{y}<br>intensity=%{z}<extra></extra>",
         "legendgroup": "T555.1_T2684",
         "marker": {
          "color": "#00cc96",
          "symbol": "circle"
         },
         "mode": "markers",
         "name": "T555.1_T2684",
         "scene": "scene",
         "showlegend": true,
         "type": "scatter3d",
         "x": [
          719.1542694974511,
          719.1542694974511
         ],
         "y": [
          12.305,
          12.305
         ],
         "z": [
          628098.8125,
          628098.8125
         ]
        },
        {
         "hovertemplate": "labels=T601_T2976_T2283.1_T8839.1<br>m/z=%{x}<br>rt=%{y}<br>intensity=%{z}<extra></extra>",
         "legendgroup": "T601_T2976_T2283.1_T8839.1",
         "marker": {
          "color": "#ab63fa",
          "symbol": "circle"
         },
         "mode": "markers",
         "name": "T601_T2976_T2283.1_T8839.1",
         "scene": "scene",
         "showlegend": true,
         "type": "scatter3d",
         "x": [
          719.1563764583999,
          719.1563764583999,
          719.1563764583999,
          719.1563764583999
         ],
         "y": [
          12.305,
          12.305,
          12.305,
          12.305
         ],
         "z": [
          698651.3125,
          698651.3125,
          698651.3125,
          698651.3125
         ]
        },
        {
         "hovertemplate": "labels=T627_T3014_T2298.1_T9743<br>m/z=%{x}<br>rt=%{y}<br>intensity=%{z}<extra></extra>",
         "legendgroup": "T627_T3014_T2298.1_T9743",
         "marker": {
          "color": "#FFA15A",
          "symbol": "circle"
         },
         "mode": "markers",
         "name": "T627_T3014_T2298.1_T9743",
         "scene": "scene",
         "showlegend": true,
         "type": "scatter3d",
         "x": [
          719.1585344628439,
          719.1585344628439,
          719.1585344628439,
          719.1585344628439
         ],
         "y": [
          12.305,
          12.305,
          12.305,
          12.305
         ],
         "z": [
          706377.625,
          706377.625,
          706377.625,
          706377.625
         ]
        },
        {
         "hovertemplate": "labels=T572.1_T3139.1_T3030.1_T9586<br>m/z=%{x}<br>rt=%{y}<br>intensity=%{z}<extra></extra>",
         "legendgroup": "T572.1_T3139.1_T3030.1_T9586",
         "marker": {
          "color": "#19d3f3",
          "symbol": "circle"
         },
         "mode": "markers",
         "name": "T572.1_T3139.1_T3030.1_T9586",
         "scene": "scene",
         "showlegend": true,
         "type": "scatter3d",
         "x": [
          719.160980192109,
          719.160980192109,
          719.160980192109,
          719.160980192109
         ],
         "y": [
          12.305,
          12.305,
          12.305,
          12.305
         ],
         "z": [
          616379,
          616379,
          616379,
          616379
         ]
        },
        {
         "hovertemplate": "labels=T583.1_T3259.1_T3701.1_T9778<br>m/z=%{x}<br>rt=%{y}<br>intensity=%{z}<extra></extra>",
         "legendgroup": "T583.1_T3259.1_T3701.1_T9778",
         "marker": {
          "color": "#FF6692",
          "symbol": "circle"
         },
         "mode": "markers",
         "name": "T583.1_T3259.1_T3701.1_T9778",
         "scene": "scene",
         "showlegend": true,
         "type": "scatter3d",
         "x": [
          719.1630649857022,
          719.1630649857022,
          719.1630649857022,
          719.1630649857022
         ],
         "y": [
          13.019,
          13.019,
          13.019,
          13.019
         ],
         "z": [
          544579.5,
          544579.5,
          544579.5,
          544579.5
         ]
        },
        {
         "hovertemplate": "labels=T687.1_T3657_T4723.1<br>m/z=%{x}<br>rt=%{y}<br>intensity=%{z}<extra></extra>",
         "legendgroup": "T687.1_T3657_T4723.1",
         "marker": {
          "color": "#B6E880",
          "symbol": "circle"
         },
         "mode": "markers",
         "name": "T687.1_T3657_T4723.1",
         "scene": "scene",
         "showlegend": true,
         "type": "scatter3d",
         "x": [
          719.1651407054582,
          719.1651407054582,
          719.1651407054582
         ],
         "y": [
          13.019,
          13.019,
          13.019
         ],
         "z": [
          431217.5,
          431217.5,
          431217.5
         ]
        },
        {
         "hovertemplate": "labels=T932.1_T4157_T5683.1<br>m/z=%{x}<br>rt=%{y}<br>intensity=%{z}<extra></extra>",
         "legendgroup": "T932.1_T4157_T5683.1",
         "marker": {
          "color": "#FF97FF",
          "symbol": "circle"
         },
         "mode": "markers",
         "name": "T932.1_T4157_T5683.1",
         "scene": "scene",
         "showlegend": true,
         "type": "scatter3d",
         "x": [
          719.1672314930782,
          719.1672314930782,
          719.1672314930782
         ],
         "y": [
          13.019,
          13.019,
          13.019
         ],
         "z": [
          331953.59375,
          331953.59375,
          331953.59375
         ]
        },
        {
         "hovertemplate": "labels=T1432.1_T5151.1_T7553.1<br>m/z=%{x}<br>rt=%{y}<br>intensity=%{z}<extra></extra>",
         "legendgroup": "T1432.1_T5151.1_T7553.1",
         "marker": {
          "color": "#FECB52",
          "symbol": "circle"
         },
         "mode": "markers",
         "name": "T1432.1_T5151.1_T7553.1",
         "scene": "scene",
         "showlegend": true,
         "type": "scatter3d",
         "x": [
          719.1693288187228,
          719.1693288187228,
          719.1693288187228
         ],
         "y": [
          13.019,
          13.019,
          13.019
         ],
         "z": [
          259061.203125,
          259061.203125,
          259061.203125
         ]
        },
        {
         "hovertemplate": "labels=T2082.1_T6563.1_T8257<br>m/z=%{x}<br>rt=%{y}<br>intensity=%{z}<extra></extra>",
         "legendgroup": "T2082.1_T6563.1_T8257",
         "marker": {
          "color": "#636efa",
          "symbol": "circle"
         },
         "mode": "markers",
         "name": "T2082.1_T6563.1_T8257",
         "scene": "scene",
         "showlegend": true,
         "type": "scatter3d",
         "x": [
          719.1717864765554,
          719.1717864765554,
          719.1717864765554
         ],
         "y": [
          13.019,
          13.019,
          13.019
         ],
         "z": [
          198756.296875,
          198756.296875,
          198756.296875
         ]
        },
        {
         "hovertemplate": "labels=T3047.1_T8845.1<br>m/z=%{x}<br>rt=%{y}<br>intensity=%{z}<extra></extra>",
         "legendgroup": "T3047.1_T8845.1",
         "marker": {
          "color": "#EF553B",
          "symbol": "circle"
         },
         "mode": "markers",
         "name": "T3047.1_T8845.1",
         "scene": "scene",
         "showlegend": true,
         "type": "scatter3d",
         "x": [
          719.1738876154363,
          719.1738876154363
         ],
         "y": [
          13.019,
          13.019
         ],
         "z": [
          162612.203125,
          162612.203125
         ]
        },
        {
         "hovertemplate": "labels=T4062_T9424<br>m/z=%{x}<br>rt=%{y}<br>intensity=%{z}<extra></extra>",
         "legendgroup": "T4062_T9424",
         "marker": {
          "color": "#00cc96",
          "symbol": "circle"
         },
         "mode": "markers",
         "name": "T4062_T9424",
         "scene": "scene",
         "showlegend": true,
         "type": "scatter3d",
         "x": [
          719.1760006588456,
          719.1760006588456
         ],
         "y": [
          13.019,
          13.019
         ],
         "z": [
          137020.5,
          137020.5
         ]
        },
        {
         "hovertemplate": "labels=T8482_T6660.1<br>m/z=%{x}<br>rt=%{y}<br>intensity=%{z}<extra></extra>",
         "legendgroup": "T8482_T6660.1",
         "marker": {
          "color": "#ab63fa",
          "symbol": "circle"
         },
         "mode": "markers",
         "name": "T8482_T6660.1",
         "scene": "scene",
         "showlegend": true,
         "type": "scatter3d",
         "x": [
          719.1858923043227,
          719.1858923043227
         ],
         "y": [
          15.163,
          15.163
         ],
         "z": [
          58807.109375,
          58807.109375
         ]
        },
        {
         "hovertemplate": "labels=T1642.1_T7848<br>m/z=%{x}<br>rt=%{y}<br>intensity=%{z}<extra></extra>",
         "legendgroup": "T1642.1_T7848",
         "marker": {
          "color": "#FFA15A",
          "symbol": "circle"
         },
         "mode": "markers",
         "name": "T1642.1_T7848",
         "scene": "scene",
         "showlegend": true,
         "type": "scatter3d",
         "x": [
          719.426887344663,
          719.426887344663
         ],
         "y": [
          13.734,
          13.734
         ],
         "z": [
          49198.12109375,
          49198.12109375
         ]
        },
        {
         "hovertemplate": "labels=T5121.1_T6920.1<br>m/z=%{x}<br>rt=%{y}<br>intensity=%{z}<extra></extra>",
         "legendgroup": "T5121.1_T6920.1",
         "marker": {
          "color": "#19d3f3",
          "symbol": "circle"
         },
         "mode": "markers",
         "name": "T5121.1_T6920.1",
         "scene": "scene",
         "showlegend": true,
         "type": "scatter3d",
         "x": [
          719.4534923198981,
          719.4534923198981
         ],
         "y": [
          10.876,
          10.876
         ],
         "z": [
          132506.296875,
          132506.296875
         ]
        },
        {
         "hovertemplate": "labels=T4472.1_T9281.1<br>m/z=%{x}<br>rt=%{y}<br>intensity=%{z}<extra></extra>",
         "legendgroup": "T4472.1_T9281.1",
         "marker": {
          "color": "#FF6692",
          "symbol": "circle"
         },
         "mode": "markers",
         "name": "T4472.1_T9281.1",
         "scene": "scene",
         "showlegend": true,
         "type": "scatter3d",
         "x": [
          719.4556106245278,
          719.4556106245278
         ],
         "y": [
          10.876,
          10.876
         ],
         "z": [
          152369.703125,
          152369.703125
         ]
        },
        {
         "hovertemplate": "labels=T3855.1_T7731.1<br>m/z=%{x}<br>rt=%{y}<br>intensity=%{z}<extra></extra>",
         "legendgroup": "T3855.1_T7731.1",
         "marker": {
          "color": "#B6E880",
          "symbol": "circle"
         },
         "mode": "markers",
         "name": "T3855.1_T7731.1",
         "scene": "scene",
         "showlegend": true,
         "type": "scatter3d",
         "x": [
          719.4577097818153,
          719.4577097818153
         ],
         "y": [
          10.876,
          10.876
         ],
         "z": [
          176093.796875,
          176093.796875
         ]
        },
        {
         "hovertemplate": "labels=T3768.1_T7884.1<br>m/z=%{x}<br>rt=%{y}<br>intensity=%{z}<extra></extra>",
         "legendgroup": "T3768.1_T7884.1",
         "marker": {
          "color": "#FF97FF",
          "symbol": "circle"
         },
         "mode": "markers",
         "name": "T3768.1_T7884.1",
         "scene": "scene",
         "showlegend": true,
         "type": "scatter3d",
         "x": [
          719.4598113534361,
          719.4598113534361
         ],
         "y": [
          10.876,
          10.876
         ],
         "z": [
          200649.5,
          200649.5
         ]
        },
        {
         "hovertemplate": "labels=T3543.1_T7446.1<br>m/z=%{x}<br>rt=%{y}<br>intensity=%{z}<extra></extra>",
         "legendgroup": "T3543.1_T7446.1",
         "marker": {
          "color": "#FECB52",
          "symbol": "circle"
         },
         "mode": "markers",
         "name": "T3543.1_T7446.1",
         "scene": "scene",
         "showlegend": true,
         "type": "scatter3d",
         "x": [
          719.4618781617537,
          719.4618781617537
         ],
         "y": [
          10.876,
          10.876
         ],
         "z": [
          209622.703125,
          209622.703125
         ]
        },
        {
         "hovertemplate": "labels=T3336.1_T6556.1<br>m/z=%{x}<br>rt=%{y}<br>intensity=%{z}<extra></extra>",
         "legendgroup": "T3336.1_T6556.1",
         "marker": {
          "color": "#636efa",
          "symbol": "circle"
         },
         "mode": "markers",
         "name": "T3336.1_T6556.1",
         "scene": "scene",
         "showlegend": true,
         "type": "scatter3d",
         "x": [
          719.4639346423368,
          719.4639346423368
         ],
         "y": [
          10.876,
          10.876
         ],
         "z": [
          231347.796875,
          231347.796875
         ]
        },
        {
         "hovertemplate": "labels=T2807.1_T6333.1<br>m/z=%{x}<br>rt=%{y}<br>intensity=%{z}<extra></extra>",
         "legendgroup": "T2807.1_T6333.1",
         "marker": {
          "color": "#EF553B",
          "symbol": "circle"
         },
         "mode": "markers",
         "name": "T2807.1_T6333.1",
         "scene": "scene",
         "showlegend": true,
         "type": "scatter3d",
         "x": [
          719.4660013035965,
          719.4660013035965
         ],
         "y": [
          10.876,
          10.876
         ],
         "z": [
          256958.5,
          256958.5
         ]
        },
        {
         "hovertemplate": "labels=T2463.1_T5230.1_T7729.1<br>m/z=%{x}<br>rt=%{y}<br>intensity=%{z}<extra></extra>",
         "legendgroup": "T2463.1_T5230.1_T7729.1",
         "marker": {
          "color": "#00cc96",
          "symbol": "circle"
         },
         "mode": "markers",
         "name": "T2463.1_T5230.1_T7729.1",
         "scene": "scene",
         "showlegend": true,
         "type": "scatter3d",
         "x": [
          719.4680109871376,
          719.4680109871376,
          719.4680109871376
         ],
         "y": [
          10.876,
          10.876,
          10.876
         ],
         "z": [
          306433.59375,
          306433.59375,
          306433.59375
         ]
        },
        {
         "hovertemplate": "labels=T235.1_T767.1_T3884.1<br>m/z=%{x}<br>rt=%{y}<br>intensity=%{z}<extra></extra>",
         "legendgroup": "T235.1_T767.1_T3884.1",
         "marker": {
          "color": "#ab63fa",
          "symbol": "circle"
         },
         "mode": "markers",
         "name": "T235.1_T767.1_T3884.1",
         "scene": "scene",
         "showlegend": true,
         "type": "scatter3d",
         "x": [
          719.4807324805564,
          719.4807324805564,
          719.4807324805564
         ],
         "y": [
          15.877,
          15.877,
          15.877
         ],
         "z": [
          1229728,
          1229728,
          1229728
         ]
        },
        {
         "hovertemplate": "labels=T166.2_T1155.1<br>m/z=%{x}<br>rt=%{y}<br>intensity=%{z}<extra></extra>",
         "legendgroup": "T166.2_T1155.1",
         "marker": {
          "color": "#FFA15A",
          "symbol": "circle"
         },
         "mode": "markers",
         "name": "T166.2_T1155.1",
         "scene": "scene",
         "showlegend": true,
         "type": "scatter3d",
         "x": [
          719.4827827345234,
          719.4827827345234
         ],
         "y": [
          15.877,
          15.877
         ],
         "z": [
          513209.90625,
          513209.90625
         ]
        },
        {
         "hovertemplate": "labels=T148.1_T502.1_T2604.1<br>m/z=%{x}<br>rt=%{y}<br>intensity=%{z}<extra></extra>",
         "legendgroup": "T148.1_T502.1_T2604.1",
         "marker": {
          "color": "#19d3f3",
          "symbol": "circle"
         },
         "mode": "markers",
         "name": "T148.1_T502.1_T2604.1",
         "scene": "scene",
         "showlegend": true,
         "type": "scatter3d",
         "x": [
          719.4849377957066,
          719.4849377957066,
          719.4849377957066
         ],
         "y": [
          10.162,
          10.162,
          10.162
         ],
         "z": [
          2353657,
          2353657,
          2353657
         ]
        },
        {
         "hovertemplate": "labels=T154_T491.1_T2713.1<br>m/z=%{x}<br>rt=%{y}<br>intensity=%{z}<extra></extra>",
         "legendgroup": "T154_T491.1_T2713.1",
         "marker": {
          "color": "#FF6692",
          "symbol": "circle"
         },
         "mode": "markers",
         "name": "T154_T491.1_T2713.1",
         "scene": "scene",
         "showlegend": true,
         "type": "scatter3d",
         "x": [
          719.4870419158124,
          719.4870419158124,
          719.4870419158124
         ],
         "y": [
          10.162,
          10.162,
          10.162
         ],
         "z": [
          2497915,
          2497915,
          2497915
         ]
        },
        {
         "hovertemplate": "labels=T189.1_T537.1_T2598<br>m/z=%{x}<br>rt=%{y}<br>intensity=%{z}<extra></extra>",
         "legendgroup": "T189.1_T537.1_T2598",
         "marker": {
          "color": "#B6E880",
          "symbol": "circle"
         },
         "mode": "markers",
         "name": "T189.1_T537.1_T2598",
         "scene": "scene",
         "showlegend": true,
         "type": "scatter3d",
         "x": [
          719.4891229591865,
          719.4891229591865,
          719.4891229591865
         ],
         "y": [
          10.876,
          10.876,
          10.876
         ],
         "z": [
          2279212,
          2279212,
          2279212
         ]
        },
        {
         "hovertemplate": "labels=T156.1_T526.1_T2732.1<br>m/z=%{x}<br>rt=%{y}<br>intensity=%{z}<extra></extra>",
         "legendgroup": "T156.1_T526.1_T2732.1",
         "marker": {
          "color": "#FF97FF",
          "symbol": "circle"
         },
         "mode": "markers",
         "name": "T156.1_T526.1_T2732.1",
         "scene": "scene",
         "showlegend": true,
         "type": "scatter3d",
         "x": [
          719.491204597292,
          719.491204597292,
          719.491204597292
         ],
         "y": [
          10.162,
          10.162,
          10.162
         ],
         "z": [
          2041496,
          2041496,
          2041496
         ]
        },
        {
         "hovertemplate": "labels=T142.1_T464.1_T2073.1<br>m/z=%{x}<br>rt=%{y}<br>intensity=%{z}<extra></extra>",
         "legendgroup": "T142.1_T464.1_T2073.1",
         "marker": {
          "color": "#FECB52",
          "symbol": "circle"
         },
         "mode": "markers",
         "name": "T142.1_T464.1_T2073.1",
         "scene": "scene",
         "showlegend": true,
         "type": "scatter3d",
         "x": [
          719.4932838134393,
          719.4932838134393,
          719.4932838134393
         ],
         "y": [
          10.162,
          10.162,
          10.162
         ],
         "z": [
          1064864,
          1064864,
          1064864
         ]
        },
        {
         "hovertemplate": "labels=T195.2_T512.2<br>m/z=%{x}<br>rt=%{y}<br>intensity=%{z}<extra></extra>",
         "legendgroup": "T195.2_T512.2",
         "marker": {
          "color": "#636efa",
          "symbol": "circle"
         },
         "mode": "markers",
         "name": "T195.2_T512.2",
         "scene": "scene",
         "showlegend": true,
         "type": "scatter3d",
         "x": [
          719.4974440932948,
          719.4974440932948
         ],
         "y": [
          18.02,
          18.02
         ],
         "z": [
          314912.3125,
          314912.3125
         ]
        },
        {
         "hovertemplate": "labels=T195.1_T512.1<br>m/z=%{x}<br>rt=%{y}<br>intensity=%{z}<extra></extra>",
         "legendgroup": "T195.1_T512.1",
         "marker": {
          "color": "#EF553B",
          "symbol": "circle"
         },
         "mode": "markers",
         "name": "T195.1_T512.1",
         "scene": "scene",
         "showlegend": true,
         "type": "scatter3d",
         "x": [
          719.4974640928409,
          719.4974640928409
         ],
         "y": [
          10.162,
          10.162
         ],
         "z": [
          385197.09375,
          385197.09375
         ]
        },
        {
         "hovertemplate": "labels=T277.2_T632.2<br>m/z=%{x}<br>rt=%{y}<br>intensity=%{z}<extra></extra>",
         "legendgroup": "T277.2_T632.2",
         "marker": {
          "color": "#00cc96",
          "symbol": "circle"
         },
         "mode": "markers",
         "name": "T277.2_T632.2",
         "scene": "scene",
         "showlegend": true,
         "type": "scatter3d",
         "x": [
          719.4994866189351,
          719.4994866189351
         ],
         "y": [
          18.02,
          18.02
         ],
         "z": [
          230101.09375,
          230101.09375
         ]
        },
        {
         "hovertemplate": "labels=T277.1_T632.1<br>m/z=%{x}<br>rt=%{y}<br>intensity=%{z}<extra></extra>",
         "legendgroup": "T277.1_T632.1",
         "marker": {
          "color": "#ab63fa",
          "symbol": "circle"
         },
         "mode": "markers",
         "name": "T277.1_T632.1",
         "scene": "scene",
         "showlegend": true,
         "type": "scatter3d",
         "x": [
          719.4995534645896,
          719.4995534645896
         ],
         "y": [
          10.162,
          10.162
         ],
         "z": [
          294023.90625,
          294023.90625
         ]
        },
        {
         "hovertemplate": "labels=T470.1_T855.1<br>m/z=%{x}<br>rt=%{y}<br>intensity=%{z}<extra></extra>",
         "legendgroup": "T470.1_T855.1",
         "marker": {
          "color": "#FFA15A",
          "symbol": "circle"
         },
         "mode": "markers",
         "name": "T470.1_T855.1",
         "scene": "scene",
         "showlegend": true,
         "type": "scatter3d",
         "x": [
          719.5016407344835,
          719.5016407344835
         ],
         "y": [
          10.162,
          10.162
         ],
         "z": [
          215991.59375,
          215991.59375
         ]
        },
        {
         "hovertemplate": "labels=T738.1_T1408.1_T5146.1<br>m/z=%{x}<br>rt=%{y}<br>intensity=%{z}<extra></extra>",
         "legendgroup": "T738.1_T1408.1_T5146.1",
         "marker": {
          "color": "#19d3f3",
          "symbol": "circle"
         },
         "mode": "markers",
         "name": "T738.1_T1408.1_T5146.1",
         "scene": "scene",
         "showlegend": true,
         "type": "scatter3d",
         "x": [
          719.5037136210548,
          719.5037136210548,
          719.5037136210548
         ],
         "y": [
          10.162,
          10.162,
          10.162
         ],
         "z": [
          281473.1875,
          281473.1875,
          281473.1875
         ]
        },
        {
         "hovertemplate": "labels=T1160.1_T2230.1_T4603.1<br>m/z=%{x}<br>rt=%{y}<br>intensity=%{z}<extra></extra>",
         "legendgroup": "T1160.1_T2230.1_T4603.1",
         "marker": {
          "color": "#FF6692",
          "symbol": "circle"
         },
         "mode": "markers",
         "name": "T1160.1_T2230.1_T4603.1",
         "scene": "scene",
         "showlegend": true,
         "type": "scatter3d",
         "x": [
          719.5057761350678,
          719.5057761350678,
          719.5057761350678
         ],
         "y": [
          10.162,
          10.162,
          10.162
         ],
         "z": [
          351998.09375,
          351998.09375,
          351998.09375
         ]
        },
        {
         "hovertemplate": "labels=T1623.1_T2935.1<br>m/z=%{x}<br>rt=%{y}<br>intensity=%{z}<extra></extra>",
         "legendgroup": "T1623.1_T2935.1",
         "marker": {
          "color": "#B6E880",
          "symbol": "circle"
         },
         "mode": "markers",
         "name": "T1623.1_T2935.1",
         "scene": "scene",
         "showlegend": true,
         "type": "scatter3d",
         "x": [
          719.5079305105809,
          719.5079305105809
         ],
         "y": [
          10.162,
          10.162
         ],
         "z": [
          320526.5,
          320526.5
         ]
        },
        {
         "hovertemplate": "labels=T1945.1_T3655.1_T6910.1<br>m/z=%{x}<br>rt=%{y}<br>intensity=%{z}<extra></extra>",
         "legendgroup": "T1945.1_T3655.1_T6910.1",
         "marker": {
          "color": "#FF97FF",
          "symbol": "circle"
         },
         "mode": "markers",
         "name": "T1945.1_T3655.1_T6910.1",
         "scene": "scene",
         "showlegend": true,
         "type": "scatter3d",
         "x": [
          719.5100306220282,
          719.5100306220282,
          719.5100306220282
         ],
         "y": [
          10.162,
          10.162,
          10.162
         ],
         "z": [
          259848.40625,
          259848.40625,
          259848.40625
         ]
        },
        {
         "hovertemplate": "labels=T3939.1_T5918.1_T8579.1<br>m/z=%{x}<br>rt=%{y}<br>intensity=%{z}<extra></extra>",
         "legendgroup": "T3939.1_T5918.1_T8579.1",
         "marker": {
          "color": "#FECB52",
          "symbol": "circle"
         },
         "mode": "markers",
         "name": "T3939.1_T5918.1_T8579.1",
         "scene": "scene",
         "showlegend": true,
         "type": "scatter3d",
         "x": [
          719.5162994318661,
          719.5162994318661,
          719.5162994318661
         ],
         "y": [
          10.876,
          10.876,
          10.876
         ],
         "z": [
          120763.3984375,
          120763.3984375,
          120763.3984375
         ]
        },
        {
         "hovertemplate": "labels=T9360_T1723.1<br>m/z=%{x}<br>rt=%{y}<br>intensity=%{z}<extra></extra>",
         "legendgroup": "T9360_T1723.1",
         "marker": {
          "color": "#636efa",
          "symbol": "circle"
         },
         "mode": "markers",
         "name": "T9360_T1723.1",
         "scene": "scene",
         "showlegend": true,
         "type": "scatter3d",
         "x": [
          720.1438095465727,
          720.1438095465727
         ],
         "y": [
          15.163,
          15.163
         ],
         "z": [
          50402.66015625,
          50402.66015625
         ]
        },
        {
         "hovertemplate": "labels=T5657.1_T2219.1<br>m/z=%{x}<br>rt=%{y}<br>intensity=%{z}<extra></extra>",
         "legendgroup": "T5657.1_T2219.1",
         "marker": {
          "color": "#EF553B",
          "symbol": "circle"
         },
         "mode": "markers",
         "name": "T5657.1_T2219.1",
         "scene": "scene",
         "showlegend": true,
         "type": "scatter3d",
         "x": [
          720.1477640730752,
          720.1477640730752
         ],
         "y": [
          15.163,
          15.163
         ],
         "z": [
          83539.1484375,
          83539.1484375
         ]
        },
        {
         "hovertemplate": "labels=T3738.1_T2046_T8822.1<br>m/z=%{x}<br>rt=%{y}<br>intensity=%{z}<extra></extra>",
         "legendgroup": "T3738.1_T2046_T8822.1",
         "marker": {
          "color": "#00cc96",
          "symbol": "circle"
         },
         "mode": "markers",
         "name": "T3738.1_T2046_T8822.1",
         "scene": "scene",
         "showlegend": true,
         "type": "scatter3d",
         "x": [
          720.1519127624198,
          720.1519127624198,
          720.1519127624198
         ],
         "y": [
          15.877,
          15.877,
          15.877
         ],
         "z": [
          113112.1015625,
          113112.1015625,
          113112.1015625
         ]
        },
        {
         "hovertemplate": "labels=T451.1_T2122.1<br>m/z=%{x}<br>rt=%{y}<br>intensity=%{z}<extra></extra>",
         "legendgroup": "T451.1_T2122.1",
         "marker": {
          "color": "#ab63fa",
          "symbol": "circle"
         },
         "mode": "markers",
         "name": "T451.1_T2122.1",
         "scene": "scene",
         "showlegend": true,
         "type": "scatter3d",
         "x": [
          720.4978577866382,
          720.4978577866382
         ],
         "y": [
          10.162,
          10.162
         ],
         "z": [
          424773.6875,
          424773.6875
         ]
        },
        {
         "hovertemplate": "labels=T1736.1_T8248.1<br>m/z=%{x}<br>rt=%{y}<br>intensity=%{z}<extra></extra>",
         "legendgroup": "T1736.1_T8248.1",
         "marker": {
          "color": "#FFA15A",
          "symbol": "circle"
         },
         "mode": "markers",
         "name": "T1736.1_T8248.1",
         "scene": "scene",
         "showlegend": true,
         "type": "scatter3d",
         "x": [
          723.2047710046779,
          723.2047710046779
         ],
         "y": [
          15.877,
          15.877
         ],
         "z": [
          204088.296875,
          204088.296875
         ]
        },
        {
         "hovertemplate": "labels=T1243.1_T5819.1<br>m/z=%{x}<br>rt=%{y}<br>intensity=%{z}<extra></extra>",
         "legendgroup": "T1243.1_T5819.1",
         "marker": {
          "color": "#19d3f3",
          "symbol": "circle"
         },
         "mode": "markers",
         "name": "T1243.1_T5819.1",
         "scene": "scene",
         "showlegend": true,
         "type": "scatter3d",
         "x": [
          723.2068684807473,
          723.2068684807473
         ],
         "y": [
          15.877,
          15.877
         ],
         "z": [
          253044.296875,
          253044.296875
         ]
        },
        {
         "hovertemplate": "labels=T1037_T5117.1<br>m/z=%{x}<br>rt=%{y}<br>intensity=%{z}<extra></extra>",
         "legendgroup": "T1037_T5117.1",
         "marker": {
          "color": "#FF6692",
          "symbol": "circle"
         },
         "mode": "markers",
         "name": "T1037_T5117.1",
         "scene": "scene",
         "showlegend": true,
         "type": "scatter3d",
         "x": [
          723.2093179056247,
          723.2093179056247
         ],
         "y": [
          15.877,
          15.877
         ],
         "z": [
          318247.09375,
          318247.09375
         ]
        },
        {
         "hovertemplate": "labels=T1053.1_T5009.1<br>m/z=%{x}<br>rt=%{y}<br>intensity=%{z}<extra></extra>",
         "legendgroup": "T1053.1_T5009.1",
         "marker": {
          "color": "#B6E880",
          "symbol": "circle"
         },
         "mode": "markers",
         "name": "T1053.1_T5009.1",
         "scene": "scene",
         "showlegend": true,
         "type": "scatter3d",
         "x": [
          723.211357497424,
          723.211357497424
         ],
         "y": [
          15.877,
          15.877
         ],
         "z": [
          468508.59375,
          468508.59375
         ]
        },
        {
         "hovertemplate": "labels=T1179.1_T4452.1<br>m/z=%{x}<br>rt=%{y}<br>intensity=%{z}<extra></extra>",
         "legendgroup": "T1179.1_T4452.1",
         "marker": {
          "color": "#FF97FF",
          "symbol": "circle"
         },
         "mode": "markers",
         "name": "T1179.1_T4452.1",
         "scene": "scene",
         "showlegend": true,
         "type": "scatter3d",
         "x": [
          723.2136991658069,
          723.2136991658069
         ],
         "y": [
          12.305,
          12.305
         ],
         "z": [
          543169.375,
          543169.375
         ]
        },
        {
         "hovertemplate": "labels=T1109_T4396.1<br>m/z=%{x}<br>rt=%{y}<br>intensity=%{z}<extra></extra>",
         "legendgroup": "T1109_T4396.1",
         "marker": {
          "color": "#FECB52",
          "symbol": "circle"
         },
         "mode": "markers",
         "name": "T1109_T4396.1",
         "scene": "scene",
         "showlegend": true,
         "type": "scatter3d",
         "x": [
          723.2157755002037,
          723.2157755002037
         ],
         "y": [
          12.305,
          12.305
         ],
         "z": [
          563423,
          563423
         ]
        },
        {
         "hovertemplate": "labels=T1100.1_T4914<br>m/z=%{x}<br>rt=%{y}<br>intensity=%{z}<extra></extra>",
         "legendgroup": "T1100.1_T4914",
         "marker": {
          "color": "#636efa",
          "symbol": "circle"
         },
         "mode": "markers",
         "name": "T1100.1_T4914",
         "scene": "scene",
         "showlegend": true,
         "type": "scatter3d",
         "x": [
          723.2186376310736,
          723.2186376310736
         ],
         "y": [
          13.019,
          13.019
         ],
         "z": [
          516292.90625,
          516292.90625
         ]
        },
        {
         "hovertemplate": "labels=T1064.1_T4876.1<br>m/z=%{x}<br>rt=%{y}<br>intensity=%{z}<extra></extra>",
         "legendgroup": "T1064.1_T4876.1",
         "marker": {
          "color": "#EF553B",
          "symbol": "circle"
         },
         "mode": "markers",
         "name": "T1064.1_T4876.1",
         "scene": "scene",
         "showlegend": true,
         "type": "scatter3d",
         "x": [
          723.2206516686438,
          723.2206516686438
         ],
         "y": [
          13.019,
          13.019
         ],
         "z": [
          446171.59375,
          446171.59375
         ]
        },
        {
         "hovertemplate": "labels=T1323.1_T5330.1<br>m/z=%{x}<br>rt=%{y}<br>intensity=%{z}<extra></extra>",
         "legendgroup": "T1323.1_T5330.1",
         "marker": {
          "color": "#00cc96",
          "symbol": "circle"
         },
         "mode": "markers",
         "name": "T1323.1_T5330.1",
         "scene": "scene",
         "showlegend": true,
         "type": "scatter3d",
         "x": [
          723.2226567836673,
          723.2226567836673
         ],
         "y": [
          18.02,
          18.02
         ],
         "z": [
          360227.59375,
          360227.59375
         ]
        },
        {
         "hovertemplate": "labels=T1904.1_T6128.1<br>m/z=%{x}<br>rt=%{y}<br>intensity=%{z}<extra></extra>",
         "legendgroup": "T1904.1_T6128.1",
         "marker": {
          "color": "#ab63fa",
          "symbol": "circle"
         },
         "mode": "markers",
         "name": "T1904.1_T6128.1",
         "scene": "scene",
         "showlegend": true,
         "type": "scatter3d",
         "x": [
          723.2263037893539,
          723.2263037893539
         ],
         "y": [
          18.02,
          18.02
         ],
         "z": [
          217833.796875,
          217833.796875
         ]
        },
        {
         "hovertemplate": "labels=T2634.1_T6465.1<br>m/z=%{x}<br>rt=%{y}<br>intensity=%{z}<extra></extra>",
         "legendgroup": "T2634.1_T6465.1",
         "marker": {
          "color": "#FFA15A",
          "symbol": "circle"
         },
         "mode": "markers",
         "name": "T2634.1_T6465.1",
         "scene": "scene",
         "showlegend": true,
         "type": "scatter3d",
         "x": [
          723.2283691353074,
          723.2283691353074
         ],
         "y": [
          18.02,
          18.02
         ],
         "z": [
          180823.5,
          180823.5
         ]
        },
        {
         "hovertemplate": "labels=T3613.1_T8693<br>m/z=%{x}<br>rt=%{y}<br>intensity=%{z}<extra></extra>",
         "legendgroup": "T3613.1_T8693",
         "marker": {
          "color": "#19d3f3",
          "symbol": "circle"
         },
         "mode": "markers",
         "name": "T3613.1_T8693",
         "scene": "scene",
         "showlegend": true,
         "type": "scatter3d",
         "x": [
          723.230507005254,
          723.230507005254
         ],
         "y": [
          13.019,
          13.019
         ],
         "z": [
          152308,
          152308
         ]
        },
        {
         "hovertemplate": "labels=T3567.1_T9514.1<br>m/z=%{x}<br>rt=%{y}<br>intensity=%{z}<extra></extra>",
         "legendgroup": "T3567.1_T9514.1",
         "marker": {
          "color": "#FF6692",
          "symbol": "circle"
         },
         "mode": "markers",
         "name": "T3567.1_T9514.1",
         "scene": "scene",
         "showlegend": true,
         "type": "scatter3d",
         "x": [
          733.4939029142197,
          733.4939029142197
         ],
         "y": [
          10.876,
          10.876
         ],
         "z": [
          167624.59375,
          167624.59375
         ]
        },
        {
         "hovertemplate": "labels=T3115.1_T7965.1<br>m/z=%{x}<br>rt=%{y}<br>intensity=%{z}<extra></extra>",
         "legendgroup": "T3115.1_T7965.1",
         "marker": {
          "color": "#B6E880",
          "symbol": "circle"
         },
         "mode": "markers",
         "name": "T3115.1_T7965.1",
         "scene": "scene",
         "showlegend": true,
         "type": "scatter3d",
         "x": [
          733.4964461991686,
          733.4964461991686
         ],
         "y": [
          10.876,
          10.876
         ],
         "z": [
          248746.5,
          248746.5
         ]
        },
        {
         "hovertemplate": "labels=T2733.1_T7323<br>m/z=%{x}<br>rt=%{y}<br>intensity=%{z}<extra></extra>",
         "legendgroup": "T2733.1_T7323",
         "marker": {
          "color": "#FF97FF",
          "symbol": "circle"
         },
         "mode": "markers",
         "name": "T2733.1_T7323",
         "scene": "scene",
         "showlegend": true,
         "type": "scatter3d",
         "x": [
          733.4985525841594,
          733.4985525841594
         ],
         "y": [
          11.591,
          11.591
         ],
         "z": [
          284176.5,
          284176.5
         ]
        },
        {
         "hovertemplate": "labels=T2369.1_T6731.1<br>m/z=%{x}<br>rt=%{y}<br>intensity=%{z}<extra></extra>",
         "legendgroup": "T2369.1_T6731.1",
         "marker": {
          "color": "#FECB52",
          "symbol": "circle"
         },
         "mode": "markers",
         "name": "T2369.1_T6731.1",
         "scene": "scene",
         "showlegend": true,
         "type": "scatter3d",
         "x": [
          733.5007339701082,
          733.5007339701082
         ],
         "y": [
          11.591,
          11.591
         ],
         "z": [
          328548,
          328548
         ]
        },
        {
         "hovertemplate": "labels=T2228_T6806.1<br>m/z=%{x}<br>rt=%{y}<br>intensity=%{z}<extra></extra>",
         "legendgroup": "T2228_T6806.1",
         "marker": {
          "color": "#636efa",
          "symbol": "circle"
         },
         "mode": "markers",
         "name": "T2228_T6806.1",
         "scene": "scene",
         "showlegend": true,
         "type": "scatter3d",
         "x": [
          733.502835692927,
          733.502835692927
         ],
         "y": [
          10.162,
          10.162
         ],
         "z": [
          341451.59375,
          341451.59375
         ]
        },
        {
         "hovertemplate": "labels=T2527.1_T5829.1<br>m/z=%{x}<br>rt=%{y}<br>intensity=%{z}<extra></extra>",
         "legendgroup": "T2527.1_T5829.1",
         "marker": {
          "color": "#EF553B",
          "symbol": "circle"
         },
         "mode": "markers",
         "name": "T2527.1_T5829.1",
         "scene": "scene",
         "showlegend": true,
         "type": "scatter3d",
         "x": [
          733.504955806212,
          733.504955806212
         ],
         "y": [
          10.162,
          10.162
         ],
         "z": [
          309742.09375,
          309742.09375
         ]
        },
        {
         "hovertemplate": "labels=T1939.1_T4244.1<br>m/z=%{x}<br>rt=%{y}<br>intensity=%{z}<extra></extra>",
         "legendgroup": "T1939.1_T4244.1",
         "marker": {
          "color": "#00cc96",
          "symbol": "circle"
         },
         "mode": "markers",
         "name": "T1939.1_T4244.1",
         "scene": "scene",
         "showlegend": true,
         "type": "scatter3d",
         "x": [
          733.507067627658,
          733.507067627658
         ],
         "y": [
          10.162,
          10.162
         ],
         "z": [
          187433.59375,
          187433.59375
         ]
        },
        {
         "hovertemplate": "labels=T2751.1_T5247.1<br>m/z=%{x}<br>rt=%{y}<br>intensity=%{z}<extra></extra>",
         "legendgroup": "T2751.1_T5247.1",
         "marker": {
          "color": "#ab63fa",
          "symbol": "circle"
         },
         "mode": "markers",
         "name": "T2751.1_T5247.1",
         "scene": "scene",
         "showlegend": true,
         "type": "scatter3d",
         "x": [
          733.5133682446501,
          733.5133682446501
         ],
         "y": [
          10.162,
          10.162
         ],
         "z": [
          97626.796875,
          97626.796875
         ]
        },
        {
         "hovertemplate": "labels=T2534.1_T9835.1<br>m/z=%{x}<br>rt=%{y}<br>intensity=%{z}<extra></extra>",
         "legendgroup": "T2534.1_T9835.1",
         "marker": {
          "color": "#FFA15A",
          "symbol": "circle"
         },
         "mode": "markers",
         "name": "T2534.1_T9835.1",
         "scene": "scene",
         "showlegend": true,
         "type": "scatter3d",
         "x": [
          737.0744358808997,
          737.0744358808997
         ],
         "y": [
          15.877,
          15.877
         ],
         "z": [
          162844,
          162844
         ]
        },
        {
         "hovertemplate": "labels=T1942.1_T8953.1<br>m/z=%{x}<br>rt=%{y}<br>intensity=%{z}<extra></extra>",
         "legendgroup": "T1942.1_T8953.1",
         "marker": {
          "color": "#19d3f3",
          "symbol": "circle"
         },
         "mode": "markers",
         "name": "T1942.1_T8953.1",
         "scene": "scene",
         "showlegend": true,
         "type": "scatter3d",
         "x": [
          737.0764702610803,
          737.0764702610803
         ],
         "y": [
          11.591,
          11.591
         ],
         "z": [
          256242.703125,
          256242.703125
         ]
        },
        {
         "hovertemplate": "labels=T1677.1_T8203.1<br>m/z=%{x}<br>rt=%{y}<br>intensity=%{z}<extra></extra>",
         "legendgroup": "T1677.1_T8203.1",
         "marker": {
          "color": "#FF6692",
          "symbol": "circle"
         },
         "mode": "markers",
         "name": "T1677.1_T8203.1",
         "scene": "scene",
         "showlegend": true,
         "type": "scatter3d",
         "x": [
          737.0812903513896,
          737.0812903513896
         ],
         "y": [
          12.305,
          12.305
         ],
         "z": [
          423323.1875,
          423323.1875
         ]
        },
        {
         "hovertemplate": "labels=T1498_T7165<br>m/z=%{x}<br>rt=%{y}<br>intensity=%{z}<extra></extra>",
         "legendgroup": "T1498_T7165",
         "marker": {
          "color": "#B6E880",
          "symbol": "circle"
         },
         "mode": "markers",
         "name": "T1498_T7165",
         "scene": "scene",
         "showlegend": true,
         "type": "scatter3d",
         "x": [
          737.0834152365608,
          737.0834152365608
         ],
         "y": [
          12.305,
          12.305
         ],
         "z": [
          462778,
          462778
         ]
        },
        {
         "hovertemplate": "labels=T1433.1_T6926<br>m/z=%{x}<br>rt=%{y}<br>intensity=%{z}<extra></extra>",
         "legendgroup": "T1433.1_T6926",
         "marker": {
          "color": "#FF97FF",
          "symbol": "circle"
         },
         "mode": "markers",
         "name": "T1433.1_T6926",
         "scene": "scene",
         "showlegend": true,
         "type": "scatter3d",
         "x": [
          737.0855451581631,
          737.0855451581631
         ],
         "y": [
          12.305,
          12.305
         ],
         "z": [
          474796.5,
          474796.5
         ]
        },
        {
         "hovertemplate": "labels=T1559.1_T7190.1<br>m/z=%{x}<br>rt=%{y}<br>intensity=%{z}<extra></extra>",
         "legendgroup": "T1559.1_T7190.1",
         "marker": {
          "color": "#FECB52",
          "symbol": "circle"
         },
         "mode": "markers",
         "name": "T1559.1_T7190.1",
         "scene": "scene",
         "showlegend": true,
         "type": "scatter3d",
         "x": [
          737.0877135529255,
          737.0877135529255
         ],
         "y": [
          12.305,
          12.305
         ],
         "z": [
          461490.5,
          461490.5
         ]
        },
        {
         "hovertemplate": "labels=T1678.1_T7538.1<br>m/z=%{x}<br>rt=%{y}<br>intensity=%{z}<extra></extra>",
         "legendgroup": "T1678.1_T7538.1",
         "marker": {
          "color": "#636efa",
          "symbol": "circle"
         },
         "mode": "markers",
         "name": "T1678.1_T7538.1",
         "scene": "scene",
         "showlegend": true,
         "type": "scatter3d",
         "x": [
          737.0898104777477,
          737.0898104777477
         ],
         "y": [
          18.02,
          18.02
         ],
         "z": [
          410445.3125,
          410445.3125
         ]
        },
        {
         "hovertemplate": "labels=T1785.1_T8158.1<br>m/z=%{x}<br>rt=%{y}<br>intensity=%{z}<extra></extra>",
         "legendgroup": "T1785.1_T8158.1",
         "marker": {
          "color": "#EF553B",
          "symbol": "circle"
         },
         "mode": "markers",
         "name": "T1785.1_T8158.1",
         "scene": "scene",
         "showlegend": true,
         "type": "scatter3d",
         "x": [
          737.0919534039369,
          737.0919534039369
         ],
         "y": [
          18.02,
          18.02
         ],
         "z": [
          335194.90625,
          335194.90625
         ]
        },
        {
         "hovertemplate": "labels=T1992.1_T7967.1<br>m/z=%{x}<br>rt=%{y}<br>intensity=%{z}<extra></extra>",
         "legendgroup": "T1992.1_T7967.1",
         "marker": {
          "color": "#00cc96",
          "symbol": "circle"
         },
         "mode": "markers",
         "name": "T1992.1_T7967.1",
         "scene": "scene",
         "showlegend": true,
         "type": "scatter3d",
         "x": [
          737.0940811315577,
          737.0940811315577
         ],
         "y": [
          18.02,
          18.02
         ],
         "z": [
          277669.59375,
          277669.59375
         ]
        },
        {
         "hovertemplate": "labels=T7123.1_T7439.1<br>m/z=%{x}<br>rt=%{y}<br>intensity=%{z}<extra></extra>",
         "legendgroup": "T7123.1_T7439.1",
         "marker": {
          "color": "#ab63fa",
          "symbol": "circle"
         },
         "mode": "markers",
         "name": "T7123.1_T7439.1",
         "scene": "scene",
         "showlegend": true,
         "type": "scatter3d",
         "x": [
          745.1302895073256,
          745.1302895073256
         ],
         "y": [
          13.734,
          13.734
         ],
         "z": [
          67159.203125,
          67159.203125
         ]
        },
        {
         "hovertemplate": "labels=T6101.1_T9947.1<br>m/z=%{x}<br>rt=%{y}<br>intensity=%{z}<extra></extra>",
         "legendgroup": "T6101.1_T9947.1",
         "marker": {
          "color": "#FFA15A",
          "symbol": "circle"
         },
         "mode": "markers",
         "name": "T6101.1_T9947.1",
         "scene": "scene",
         "showlegend": true,
         "type": "scatter3d",
         "x": [
          745.1500828786131,
          745.1500828786131
         ],
         "y": [
          9.447,
          9.447
         ],
         "z": [
          121078.3984375,
          121078.3984375
         ]
        },
        {
         "hovertemplate": "labels=T5070.1_T8371.1<br>m/z=%{x}<br>rt=%{y}<br>intensity=%{z}<extra></extra>",
         "legendgroup": "T5070.1_T8371.1",
         "marker": {
          "color": "#19d3f3",
          "symbol": "circle"
         },
         "mode": "markers",
         "name": "T5070.1_T8371.1",
         "scene": "scene",
         "showlegend": true,
         "type": "scatter3d",
         "x": [
          745.1607244396247,
          745.1607244396247
         ],
         "y": [
          20.164,
          20.164
         ],
         "z": [
          188422.703125,
          188422.703125
         ]
        },
        {
         "hovertemplate": "labels=T3292.1_T5137.1<br>m/z=%{x}<br>rt=%{y}<br>intensity=%{z}<extra></extra>",
         "legendgroup": "T3292.1_T5137.1",
         "marker": {
          "color": "#FF6692",
          "symbol": "circle"
         },
         "mode": "markers",
         "name": "T3292.1_T5137.1",
         "scene": "scene",
         "showlegend": true,
         "type": "scatter3d",
         "x": [
          745.1649866361697,
          745.1649866361697
         ],
         "y": [
          23.021,
          23.021
         ],
         "z": [
          282772.6875,
          282772.6875
         ]
        },
        {
         "hovertemplate": "labels=T2179.1_T4255.1<br>m/z=%{x}<br>rt=%{y}<br>intensity=%{z}<extra></extra>",
         "legendgroup": "T2179.1_T4255.1",
         "marker": {
          "color": "#B6E880",
          "symbol": "circle"
         },
         "mode": "markers",
         "name": "T2179.1_T4255.1",
         "scene": "scene",
         "showlegend": true,
         "type": "scatter3d",
         "x": [
          745.167117693672,
          745.167117693672
         ],
         "y": [
          22.307,
          22.307
         ],
         "z": [
          370922.40625,
          370922.40625
         ]
        },
        {
         "hovertemplate": "labels=T628.1_T3659.1<br>m/z=%{x}<br>rt=%{y}<br>intensity=%{z}<extra></extra>",
         "legendgroup": "T628.1_T3659.1",
         "marker": {
          "color": "#FF97FF",
          "symbol": "circle"
         },
         "mode": "markers",
         "name": "T628.1_T3659.1",
         "scene": "scene",
         "showlegend": true,
         "type": "scatter3d",
         "x": [
          745.1735234184557,
          745.1735234184557
         ],
         "y": [
          22.307,
          22.307
         ],
         "z": [
          860056.3125,
          860056.3125
         ]
        },
        {
         "hovertemplate": "labels=T424.1_T2304.1_T9932.1<br>m/z=%{x}<br>rt=%{y}<br>intensity=%{z}<extra></extra>",
         "legendgroup": "T424.1_T2304.1_T9932.1",
         "marker": {
          "color": "#FECB52",
          "symbol": "circle"
         },
         "mode": "markers",
         "name": "T424.1_T2304.1_T9932.1",
         "scene": "scene",
         "showlegend": true,
         "type": "scatter3d",
         "x": [
          745.1777951975695,
          745.1777951975695,
          745.1777951975695
         ],
         "y": [
          21.593,
          21.593,
          21.593
         ],
         "z": [
          1253680,
          1253680,
          1253680
         ]
        },
        {
         "hovertemplate": "labels=T444.1_T1840.1_T9483.1<br>m/z=%{x}<br>rt=%{y}<br>intensity=%{z}<extra></extra>",
         "legendgroup": "T444.1_T1840.1_T9483.1",
         "marker": {
          "color": "#636efa",
          "symbol": "circle"
         },
         "mode": "markers",
         "name": "T444.1_T1840.1_T9483.1",
         "scene": "scene",
         "showlegend": true,
         "type": "scatter3d",
         "x": [
          745.1799243998455,
          745.1799243998455,
          745.1799243998455
         ],
         "y": [
          10.162,
          10.162,
          10.162
         ],
         "z": [
          1353494,
          1353494,
          1353494
         ]
        },
        {
         "hovertemplate": "labels=T546.1_T2893.1<br>m/z=%{x}<br>rt=%{y}<br>intensity=%{z}<extra></extra>",
         "legendgroup": "T546.1_T2893.1",
         "marker": {
          "color": "#EF553B",
          "symbol": "circle"
         },
         "mode": "markers",
         "name": "T546.1_T2893.1",
         "scene": "scene",
         "showlegend": true,
         "type": "scatter3d",
         "x": [
          745.1820491208393,
          745.1820491208393
         ],
         "y": [
          10.162,
          10.162
         ],
         "z": [
          484174.59375,
          484174.59375
         ]
        },
        {
         "hovertemplate": "labels=T637.2_T2372.1<br>m/z=%{x}<br>rt=%{y}<br>intensity=%{z}<extra></extra>",
         "legendgroup": "T637.2_T2372.1",
         "marker": {
          "color": "#00cc96",
          "symbol": "circle"
         },
         "mode": "markers",
         "name": "T637.2_T2372.1",
         "scene": "scene",
         "showlegend": true,
         "type": "scatter3d",
         "x": [
          745.1841385121402,
          745.1841385121402
         ],
         "y": [
          18.02,
          18.02
         ],
         "z": [
          707906,
          707906
         ]
        },
        {
         "hovertemplate": "labels=T660.2_T2654.1<br>m/z=%{x}<br>rt=%{y}<br>intensity=%{z}<extra></extra>",
         "legendgroup": "T660.2_T2654.1",
         "marker": {
          "color": "#ab63fa",
          "symbol": "circle"
         },
         "mode": "markers",
         "name": "T660.2_T2654.1",
         "scene": "scene",
         "showlegend": true,
         "type": "scatter3d",
         "x": [
          745.1905209011395,
          745.1905209011395
         ],
         "y": [
          18.02,
          18.02
         ],
         "z": [
          272425.09375,
          272425.09375
         ]
        },
        {
         "hovertemplate": "labels=T1303.2_T3302.2<br>m/z=%{x}<br>rt=%{y}<br>intensity=%{z}<extra></extra>",
         "legendgroup": "T1303.2_T3302.2",
         "marker": {
          "color": "#FFA15A",
          "symbol": "circle"
         },
         "mode": "markers",
         "name": "T1303.2_T3302.2",
         "scene": "scene",
         "showlegend": true,
         "type": "scatter3d",
         "x": [
          745.1948096193355,
          745.1948096193355
         ],
         "y": [
          18.02,
          18.02
         ],
         "z": [
          174541,
          174541
         ]
        },
        {
         "hovertemplate": "labels=T2090.2_T4442.2<br>m/z=%{x}<br>rt=%{y}<br>intensity=%{z}<extra></extra>",
         "legendgroup": "T2090.2_T4442.2",
         "marker": {
          "color": "#19d3f3",
          "symbol": "circle"
         },
         "mode": "markers",
         "name": "T2090.2_T4442.2",
         "scene": "scene",
         "showlegend": true,
         "type": "scatter3d",
         "x": [
          745.1969450789628,
          745.1969450789628
         ],
         "y": [
          18.02,
          18.02
         ],
         "z": [
          161575.09375,
          161575.09375
         ]
        },
        {
         "hovertemplate": "labels=T2645.1_T4442.1<br>m/z=%{x}<br>rt=%{y}<br>intensity=%{z}<extra></extra>",
         "legendgroup": "T2645.1_T4442.1",
         "marker": {
          "color": "#FF6692",
          "symbol": "circle"
         },
         "mode": "markers",
         "name": "T2645.1_T4442.1",
         "scene": "scene",
         "showlegend": true,
         "type": "scatter3d",
         "x": [
          745.1990518123953,
          745.1990518123953
         ],
         "y": [
          10.162,
          10.162
         ],
         "z": [
          102803.796875,
          102803.796875
         ]
        },
        {
         "hovertemplate": "labels=T4123.1_T9592.1<br>m/z=%{x}<br>rt=%{y}<br>intensity=%{z}<extra></extra>",
         "legendgroup": "T4123.1_T9592.1",
         "marker": {
          "color": "#B6E880",
          "symbol": "circle"
         },
         "mode": "markers",
         "name": "T4123.1_T9592.1",
         "scene": "scene",
         "showlegend": true,
         "type": "scatter3d",
         "x": [
          745.4901714126734,
          745.4901714126734
         ],
         "y": [
          15.877,
          15.877
         ],
         "z": [
          120359.796875,
          120359.796875
         ]
        },
        {
         "hovertemplate": "labels=T3444.1_T7104.1<br>m/z=%{x}<br>rt=%{y}<br>intensity=%{z}<extra></extra>",
         "legendgroup": "T3444.1_T7104.1",
         "marker": {
          "color": "#FF97FF",
          "symbol": "circle"
         },
         "mode": "markers",
         "name": "T3444.1_T7104.1",
         "scene": "scene",
         "showlegend": true,
         "type": "scatter3d",
         "x": [
          745.4923650414602,
          745.4923650414602
         ],
         "y": [
          15.877,
          15.877
         ],
         "z": [
          151702.703125,
          151702.703125
         ]
        },
        {
         "hovertemplate": "labels=T2546.1_T5553.1_T9438.1_T9479.1<br>m/z=%{x}<br>rt=%{y}<br>intensity=%{z}<extra></extra>",
         "legendgroup": "T2546.1_T5553.1_T9438.1_T9479.1",
         "marker": {
          "color": "#FECB52",
          "symbol": "circle"
         },
         "mode": "markers",
         "name": "T2546.1_T5553.1_T9438.1_T9479.1",
         "scene": "scene",
         "showlegend": true,
         "type": "scatter3d",
         "x": [
          745.4949328871725,
          745.4949328871725,
          745.4949328871725,
          745.4949328871725
         ],
         "y": [
          15.877,
          15.877,
          15.877,
          15.877
         ],
         "z": [
          198364.09375,
          198364.09375,
          198364.09375,
          198364.09375
         ]
        },
        {
         "hovertemplate": "labels=T1835.1_T5361.1_T5125.1<br>m/z=%{x}<br>rt=%{y}<br>intensity=%{z}<extra></extra>",
         "legendgroup": "T1835.1_T5361.1_T5125.1",
         "marker": {
          "color": "#636efa",
          "symbol": "circle"
         },
         "mode": "markers",
         "name": "T1835.1_T5361.1_T5125.1",
         "scene": "scene",
         "showlegend": true,
         "type": "scatter3d",
         "x": [
          745.4971281999701,
          745.4971281999701,
          745.4971281999701
         ],
         "y": [
          10.162,
          10.162,
          10.162
         ],
         "z": [
          350379.40625,
          350379.40625,
          350379.40625
         ]
        },
        {
         "hovertemplate": "labels=T1519.1_T4513.1_T2993.1_T6796.1<br>m/z=%{x}<br>rt=%{y}<br>intensity=%{z}<extra></extra>",
         "legendgroup": "T1519.1_T4513.1_T2993.1_T6796.1",
         "marker": {
          "color": "#EF553B",
          "symbol": "circle"
         },
         "mode": "markers",
         "name": "T1519.1_T4513.1_T2993.1_T6796.1",
         "scene": "scene",
         "showlegend": true,
         "type": "scatter3d",
         "x": [
          745.501409559516,
          745.501409559516,
          745.501409559516,
          745.501409559516
         ],
         "y": [
          10.162,
          10.162,
          10.162,
          10.162
         ],
         "z": [
          440009.1875,
          440009.1875,
          440009.1875,
          440009.1875
         ]
        },
        {
         "hovertemplate": "labels=T1586.1_T4251.1<br>m/z=%{x}<br>rt=%{y}<br>intensity=%{z}<extra></extra>",
         "legendgroup": "T1586.1_T4251.1",
         "marker": {
          "color": "#00cc96",
          "symbol": "circle"
         },
         "mode": "markers",
         "name": "T1586.1_T4251.1",
         "scene": "scene",
         "showlegend": true,
         "type": "scatter3d",
         "x": [
          745.5035529917833,
          745.5035529917833
         ],
         "y": [
          10.876,
          10.876
         ],
         "z": [
          434971.1875,
          434971.1875
         ]
        },
        {
         "hovertemplate": "labels=T1719.1_T4195.1_T1414.1_T5106.1<br>m/z=%{x}<br>rt=%{y}<br>intensity=%{z}<extra></extra>",
         "legendgroup": "T1719.1_T4195.1_T1414.1_T5106.1",
         "marker": {
          "color": "#ab63fa",
          "symbol": "circle"
         },
         "mode": "markers",
         "name": "T1719.1_T4195.1_T1414.1_T5106.1",
         "scene": "scene",
         "showlegend": true,
         "type": "scatter3d",
         "x": [
          745.5056882070081,
          745.5056882070081,
          745.5056882070081,
          745.5056882070081
         ],
         "y": [
          10.162,
          10.162,
          10.162,
          10.162
         ],
         "z": [
          409061.09375,
          409061.09375,
          409061.09375,
          409061.09375
         ]
        },
        {
         "hovertemplate": "labels=T1544.1_T4042.1_T1029.1_T3853.1<br>m/z=%{x}<br>rt=%{y}<br>intensity=%{z}<extra></extra>",
         "legendgroup": "T1544.1_T4042.1_T1029.1_T3853.1",
         "marker": {
          "color": "#FFA15A",
          "symbol": "circle"
         },
         "mode": "markers",
         "name": "T1544.1_T4042.1_T1029.1_T3853.1",
         "scene": "scene",
         "showlegend": true,
         "type": "scatter3d",
         "x": [
          745.5078085373642,
          745.5078085373642,
          745.5078085373642,
          745.5078085373642
         ],
         "y": [
          10.162,
          10.162,
          10.162,
          10.162
         ],
         "z": [
          339227.6875,
          339227.6875,
          339227.6875,
          339227.6875
         ]
        },
        {
         "hovertemplate": "labels=T2080.1_T5144.1<br>m/z=%{x}<br>rt=%{y}<br>intensity=%{z}<extra></extra>",
         "legendgroup": "T2080.1_T5144.1",
         "marker": {
          "color": "#19d3f3",
          "symbol": "circle"
         },
         "mode": "markers",
         "name": "T2080.1_T5144.1",
         "scene": "scene",
         "showlegend": true,
         "type": "scatter3d",
         "x": [
          745.5141964319389,
          745.5141964319389
         ],
         "y": [
          10.876,
          10.876
         ],
         "z": [
          107587.703125,
          107587.703125
         ]
        },
        {
         "hovertemplate": "labels=T4703.1_T6914.1_T667.1_T2107.1<br>m/z=%{x}<br>rt=%{y}<br>intensity=%{z}<extra></extra>",
         "legendgroup": "T4703.1_T6914.1_T667.1_T2107.1",
         "marker": {
          "color": "#FF6692",
          "symbol": "circle"
         },
         "mode": "markers",
         "name": "T4703.1_T6914.1_T667.1_T2107.1",
         "scene": "scene",
         "showlegend": true,
         "type": "scatter3d",
         "x": [
          745.5205918122036,
          745.5205918122036,
          745.5205918122036,
          745.5205918122036
         ],
         "y": [
          10.876,
          10.876,
          10.876,
          10.876
         ],
         "z": [
          59495.578125,
          59495.578125,
          59495.578125,
          59495.578125
         ]
        },
        {
         "hovertemplate": "labels=T2111.1_T9764.1<br>m/z=%{x}<br>rt=%{y}<br>intensity=%{z}<extra></extra>",
         "legendgroup": "T2111.1_T9764.1",
         "marker": {
          "color": "#B6E880",
          "symbol": "circle"
         },
         "mode": "markers",
         "name": "T2111.1_T9764.1",
         "scene": "scene",
         "showlegend": true,
         "type": "scatter3d",
         "x": [
          746.1852365995458,
          746.1852365995458
         ],
         "y": [
          10.162,
          10.162
         ],
         "z": [
          450802.90625,
          450802.90625
         ]
        },
        {
         "hovertemplate": "labels=T2447.1_T9477.1<br>m/z=%{x}<br>rt=%{y}<br>intensity=%{z}<extra></extra>",
         "legendgroup": "T2447.1_T9477.1",
         "marker": {
          "color": "#FF97FF",
          "symbol": "circle"
         },
         "mode": "markers",
         "name": "T2447.1_T9477.1",
         "scene": "scene",
         "showlegend": true,
         "type": "scatter3d",
         "x": [
          746.1873460125942,
          746.1873460125942
         ],
         "y": [
          18.02,
          18.02
         ],
         "z": [
          393215.1875,
          393215.1875
         ]
        },
        {
         "hovertemplate": "labels=T6174.1_T6011.1<br>m/z=%{x}<br>rt=%{y}<br>intensity=%{z}<extra></extra>",
         "legendgroup": "T6174.1_T6011.1",
         "marker": {
          "color": "#FECB52",
          "symbol": "circle"
         },
         "mode": "markers",
         "name": "T6174.1_T6011.1",
         "scene": "scene",
         "showlegend": true,
         "type": "scatter3d",
         "x": [
          746.4956168384333,
          746.4956168384333
         ],
         "y": [
          15.163,
          15.163
         ],
         "z": [
          95571.59375,
          95571.59375
         ]
        },
        {
         "hovertemplate": "labels=T3843.1_T828.1_T2891.1<br>m/z=%{x}<br>rt=%{y}<br>intensity=%{z}<extra></extra>",
         "legendgroup": "T3843.1_T828.1_T2891.1",
         "marker": {
          "color": "#636efa",
          "symbol": "circle"
         },
         "mode": "markers",
         "name": "T3843.1_T828.1_T2891.1",
         "scene": "scene",
         "showlegend": true,
         "type": "scatter3d",
         "x": [
          746.5111647085913,
          746.5111647085913,
          746.5111647085913
         ],
         "y": [
          10.876,
          10.876,
          10.876
         ],
         "z": [
          152613.5,
          152613.5,
          152613.5
         ]
        },
        {
         "hovertemplate": "labels=T701.1_T2119.1<br>m/z=%{x}<br>rt=%{y}<br>intensity=%{z}<extra></extra>",
         "legendgroup": "T701.1_T2119.1",
         "marker": {
          "color": "#EF553B",
          "symbol": "circle"
         },
         "mode": "markers",
         "name": "T701.1_T2119.1",
         "scene": "scene",
         "showlegend": true,
         "type": "scatter3d",
         "x": [
          747.5152386737424,
          747.5152386737424
         ],
         "y": [
          10.162,
          10.162
         ],
         "z": [
          748571.375,
          748571.375
         ]
        },
        {
         "hovertemplate": "labels=T748.1_T2006.1_T8689.1<br>m/z=%{x}<br>rt=%{y}<br>intensity=%{z}<extra></extra>",
         "legendgroup": "T748.1_T2006.1_T8689.1",
         "marker": {
          "color": "#00cc96",
          "symbol": "circle"
         },
         "mode": "markers",
         "name": "T748.1_T2006.1_T8689.1",
         "scene": "scene",
         "showlegend": true,
         "type": "scatter3d",
         "x": [
          747.5173882622022,
          747.5173882622022,
          747.5173882622022
         ],
         "y": [
          10.162,
          10.162,
          10.162
         ],
         "z": [
          768028.125,
          768028.125,
          768028.125
         ]
        },
        {
         "hovertemplate": "labels=T835.1_T2268<br>m/z=%{x}<br>rt=%{y}<br>intensity=%{z}<extra></extra>",
         "legendgroup": "T835.1_T2268",
         "marker": {
          "color": "#ab63fa",
          "symbol": "circle"
         },
         "mode": "markers",
         "name": "T835.1_T2268",
         "scene": "scene",
         "showlegend": true,
         "type": "scatter3d",
         "x": [
          747.5195280569192,
          747.5195280569192
         ],
         "y": [
          10.876,
          10.876
         ],
         "z": [
          712012.125,
          712012.125
         ]
        },
        {
         "hovertemplate": "labels=T705.1_T2433.1_T8770.1<br>m/z=%{x}<br>rt=%{y}<br>intensity=%{z}<extra></extra>",
         "legendgroup": "T705.1_T2433.1_T8770.1",
         "marker": {
          "color": "#FFA15A",
          "symbol": "circle"
         },
         "mode": "markers",
         "name": "T705.1_T2433.1_T8770.1",
         "scene": "scene",
         "showlegend": true,
         "type": "scatter3d",
         "x": [
          747.5216491924347,
          747.5216491924347,
          747.5216491924347
         ],
         "y": [
          10.162,
          10.162,
          10.162
         ],
         "z": [
          624079.1875,
          624079.1875,
          624079.1875
         ]
        },
        {
         "hovertemplate": "labels=T817.1_T2356.1<br>m/z=%{x}<br>rt=%{y}<br>intensity=%{z}<extra></extra>",
         "legendgroup": "T817.1_T2356.1",
         "marker": {
          "color": "#19d3f3",
          "symbol": "circle"
         },
         "mode": "markers",
         "name": "T817.1_T2356.1",
         "scene": "scene",
         "showlegend": true,
         "type": "scatter3d",
         "x": [
          747.5280567703996,
          747.5280567703996
         ],
         "y": [
          10.162,
          10.162
         ],
         "z": [
          249688.59375,
          249688.59375
         ]
        },
        {
         "hovertemplate": "labels=T1383.1_T3172.1_T7619.1<br>m/z=%{x}<br>rt=%{y}<br>intensity=%{z}<extra></extra>",
         "legendgroup": "T1383.1_T3172.1_T7619.1",
         "marker": {
          "color": "#FF6692",
          "symbol": "circle"
         },
         "mode": "markers",
         "name": "T1383.1_T3172.1_T7619.1",
         "scene": "scene",
         "showlegend": true,
         "type": "scatter3d",
         "x": [
          747.5323122812175,
          747.5323122812175,
          747.5323122812175
         ],
         "y": [
          10.162,
          10.162,
          10.162
         ],
         "z": [
          97682.109375,
          97682.109375,
          97682.109375
         ]
        },
        {
         "hovertemplate": "labels=T2017.1_T4200.1<br>m/z=%{x}<br>rt=%{y}<br>intensity=%{z}<extra></extra>",
         "legendgroup": "T2017.1_T4200.1",
         "marker": {
          "color": "#B6E880",
          "symbol": "circle"
         },
         "mode": "markers",
         "name": "T2017.1_T4200.1",
         "scene": "scene",
         "showlegend": true,
         "type": "scatter3d",
         "x": [
          747.5344583729383,
          747.5344583729383
         ],
         "y": [
          10.876,
          10.876
         ],
         "z": [
          114865.8984375,
          114865.8984375
         ]
        },
        {
         "hovertemplate": "labels=T3668.1_T7550.1<br>m/z=%{x}<br>rt=%{y}<br>intensity=%{z}<extra></extra>",
         "legendgroup": "T3668.1_T7550.1",
         "marker": {
          "color": "#FF97FF",
          "symbol": "circle"
         },
         "mode": "markers",
         "name": "T3668.1_T7550.1",
         "scene": "scene",
         "showlegend": true,
         "type": "scatter3d",
         "x": [
          747.538732278423,
          747.538732278423
         ],
         "y": [
          10.876,
          10.876
         ],
         "z": [
          120340.796875,
          120340.796875
         ]
        },
        {
         "hovertemplate": "labels=T4950.1_T8938.1<br>m/z=%{x}<br>rt=%{y}<br>intensity=%{z}<extra></extra>",
         "legendgroup": "T4950.1_T8938.1",
         "marker": {
          "color": "#FECB52",
          "symbol": "circle"
         },
         "mode": "markers",
         "name": "T4950.1_T8938.1",
         "scene": "scene",
         "showlegend": true,
         "type": "scatter3d",
         "x": [
          747.5408704201526,
          747.5408704201526
         ],
         "y": [
          10.876,
          10.876
         ],
         "z": [
          99506.75,
          99506.75
         ]
        },
        {
         "hovertemplate": "labels=T2079.1_T8018.1<br>m/z=%{x}<br>rt=%{y}<br>intensity=%{z}<extra></extra>",
         "legendgroup": "T2079.1_T8018.1",
         "marker": {
          "color": "#636efa",
          "symbol": "circle"
         },
         "mode": "markers",
         "name": "T2079.1_T8018.1",
         "scene": "scene",
         "showlegend": true,
         "type": "scatter3d",
         "x": [
          748.5263827771663,
          748.5263827771663
         ],
         "y": [
          10.162,
          10.162
         ],
         "z": [
          290428,
          290428
         ]
        },
        {
         "hovertemplate": "labels=T4366.1_T9707.1<br>m/z=%{x}<br>rt=%{y}<br>intensity=%{z}<extra></extra>",
         "legendgroup": "T4366.1_T9707.1",
         "marker": {
          "color": "#EF553B",
          "symbol": "circle"
         },
         "mode": "markers",
         "name": "T4366.1_T9707.1",
         "scene": "scene",
         "showlegend": true,
         "type": "scatter3d",
         "x": [
          772.4706149522691,
          772.4706149522691
         ],
         "y": [
          23.021,
          23.021
         ],
         "z": [
          229241.40625,
          229241.40625
         ]
        },
        {
         "hovertemplate": "labels=T3731.1_T8124.1<br>m/z=%{x}<br>rt=%{y}<br>intensity=%{z}<extra></extra>",
         "legendgroup": "T3731.1_T8124.1",
         "marker": {
          "color": "#00cc96",
          "symbol": "circle"
         },
         "mode": "markers",
         "name": "T3731.1_T8124.1",
         "scene": "scene",
         "showlegend": true,
         "type": "scatter3d",
         "x": [
          772.4748966065566,
          772.4748966065566
         ],
         "y": [
          20.164,
          20.164
         ],
         "z": [
          168009,
          168009
         ]
        },
        {
         "hovertemplate": "labels=T3828.1_T8496.1<br>m/z=%{x}<br>rt=%{y}<br>intensity=%{z}<extra></extra>",
         "legendgroup": "T3828.1_T8496.1",
         "marker": {
          "color": "#ab63fa",
          "symbol": "circle"
         },
         "mode": "markers",
         "name": "T3828.1_T8496.1",
         "scene": "scene",
         "showlegend": true,
         "type": "scatter3d",
         "x": [
          772.4770432319859,
          772.4770432319859
         ],
         "y": [
          20.164,
          20.164
         ],
         "z": [
          149337.203125,
          149337.203125
         ]
        },
        {
         "hovertemplate": "labels=T4146.1_T7544.1<br>m/z=%{x}<br>rt=%{y}<br>intensity=%{z}<extra></extra>",
         "legendgroup": "T4146.1_T7544.1",
         "marker": {
          "color": "#FFA15A",
          "symbol": "circle"
         },
         "mode": "markers",
         "name": "T4146.1_T7544.1",
         "scene": "scene",
         "showlegend": true,
         "type": "scatter3d",
         "x": [
          772.4790820307619,
          772.4790820307619
         ],
         "y": [
          10.876,
          10.876
         ],
         "z": [
          86645.59375,
          86645.59375
         ]
        },
        {
         "hovertemplate": "labels=T4146.2_T8285.1<br>m/z=%{x}<br>rt=%{y}<br>intensity=%{z}<extra></extra>",
         "legendgroup": "T4146.2_T8285.1",
         "marker": {
          "color": "#19d3f3",
          "symbol": "circle"
         },
         "mode": "markers",
         "name": "T4146.2_T8285.1",
         "scene": "scene",
         "showlegend": true,
         "type": "scatter3d",
         "x": [
          772.4791953620313,
          772.4791953620313
         ],
         "y": [
          19.449,
          19.449
         ],
         "z": [
          119816.796875,
          119816.796875
         ]
        },
        {
         "hovertemplate": "labels=T4569.2_T8834.1<br>m/z=%{x}<br>rt=%{y}<br>intensity=%{z}<extra></extra>",
         "legendgroup": "T4569.2_T8834.1",
         "marker": {
          "color": "#FF6692",
          "symbol": "circle"
         },
         "mode": "markers",
         "name": "T4569.2_T8834.1",
         "scene": "scene",
         "showlegend": true,
         "type": "scatter3d",
         "x": [
          772.4811051039904,
          772.4811051039904
         ],
         "y": [
          19.449,
          19.449
         ],
         "z": [
          104881.5,
          104881.5
         ]
        },
        {
         "hovertemplate": "labels=T4865.1_T8848.2<br>m/z=%{x}<br>rt=%{y}<br>intensity=%{z}<extra></extra>",
         "legendgroup": "T4865.1_T8848.2",
         "marker": {
          "color": "#B6E880",
          "symbol": "circle"
         },
         "mode": "markers",
         "name": "T4865.1_T8848.2",
         "scene": "scene",
         "showlegend": true,
         "type": "scatter3d",
         "x": [
          772.482934209484,
          772.482934209484
         ],
         "y": [
          19.449,
          19.449
         ],
         "z": [
          131881,
          131881
         ]
        },
        {
         "hovertemplate": "labels=T5332.1_T9775.1<br>m/z=%{x}<br>rt=%{y}<br>intensity=%{z}<extra></extra>",
         "legendgroup": "T5332.1_T9775.1",
         "marker": {
          "color": "#FF97FF",
          "symbol": "circle"
         },
         "mode": "markers",
         "name": "T5332.1_T9775.1",
         "scene": "scene",
         "showlegend": true,
         "type": "scatter3d",
         "x": [
          772.485055299592,
          772.485055299592
         ],
         "y": [
          18.735,
          18.735
         ],
         "z": [
          78677.8828125,
          78677.8828125
         ]
        },
        {
         "hovertemplate": "labels=T2882_T8664.1_T3108.1_T9192.1<br>m/z=%{x}<br>rt=%{y}<br>intensity=%{z}<extra></extra>",
         "legendgroup": "T2882_T8664.1_T3108.1_T9192.1",
         "marker": {
          "color": "#FECB52",
          "symbol": "circle"
         },
         "mode": "markers",
         "name": "T2882_T8664.1_T3108.1_T9192.1",
         "scene": "scene",
         "showlegend": true,
         "type": "scatter3d",
         "x": [
          783.151272660061,
          783.151272660061,
          783.151272660061,
          783.151272660061
         ],
         "y": [
          15.877,
          15.877,
          15.877,
          15.877
         ],
         "z": [
          140708.09375,
          140708.09375,
          140708.09375,
          140708.09375
         ]
        },
        {
         "hovertemplate": "labels=T1943_T7062.1_T2421.1_T9419<br>m/z=%{x}<br>rt=%{y}<br>intensity=%{z}<extra></extra>",
         "legendgroup": "T1943_T7062.1_T2421.1_T9419",
         "marker": {
          "color": "#636efa",
          "symbol": "circle"
         },
         "mode": "markers",
         "name": "T1943_T7062.1_T2421.1_T9419",
         "scene": "scene",
         "showlegend": true,
         "type": "scatter3d",
         "x": [
          783.1534488554774,
          783.1534488554774,
          783.1534488554774,
          783.1534488554774
         ],
         "y": [
          15.877,
          15.877,
          15.877,
          15.877
         ],
         "z": [
          175337.796875,
          175337.796875,
          175337.796875,
          175337.796875
         ]
        },
        {
         "hovertemplate": "labels=T1307_T5410.1_T1989.1_T8720.1<br>m/z=%{x}<br>rt=%{y}<br>intensity=%{z}<extra></extra>",
         "legendgroup": "T1307_T5410.1_T1989.1_T8720.1",
         "marker": {
          "color": "#EF553B",
          "symbol": "circle"
         },
         "mode": "markers",
         "name": "T1307_T5410.1_T1989.1_T8720.1",
         "scene": "scene",
         "showlegend": true,
         "type": "scatter3d",
         "x": [
          783.1556735051965,
          783.1556735051965,
          783.1556735051965,
          783.1556735051965
         ],
         "y": [
          15.877,
          15.877,
          15.877,
          15.877
         ],
         "z": [
          225760,
          225760,
          225760,
          225760
         ]
        },
        {
         "hovertemplate": "labels=T683_T3119<br>m/z=%{x}<br>rt=%{y}<br>intensity=%{z}<extra></extra>",
         "legendgroup": "T683_T3119",
         "marker": {
          "color": "#00cc96",
          "symbol": "circle"
         },
         "mode": "markers",
         "name": "T683_T3119",
         "scene": "scene",
         "showlegend": true,
         "type": "scatter3d",
         "x": [
          783.1600542896833,
          783.1600542896833
         ],
         "y": [
          15.877,
          15.877
         ],
         "z": [
          400051.59375,
          400051.59375
         ]
        },
        {
         "hovertemplate": "labels=T543_T2983.1_T1865_T7646<br>m/z=%{x}<br>rt=%{y}<br>intensity=%{z}<extra></extra>",
         "legendgroup": "T543_T2983.1_T1865_T7646",
         "marker": {
          "color": "#ab63fa",
          "symbol": "circle"
         },
         "mode": "markers",
         "name": "T543_T2983.1_T1865_T7646",
         "scene": "scene",
         "showlegend": true,
         "type": "scatter3d",
         "x": [
          783.1622043034905,
          783.1622043034905,
          783.1622043034905,
          783.1622043034905
         ],
         "y": [
          15.877,
          15.877,
          15.877,
          15.877
         ],
         "z": [
          531120.3125,
          531120.3125,
          531120.3125,
          531120.3125
         ]
        },
        {
         "hovertemplate": "labels=T578_T2700.1_T1844_T7621_T7819.1<br>m/z=%{x}<br>rt=%{y}<br>intensity=%{z}<extra></extra>",
         "legendgroup": "T578_T2700.1_T1844_T7621_T7819.1",
         "marker": {
          "color": "#FFA15A",
          "symbol": "circle"
         },
         "mode": "markers",
         "name": "T578_T2700.1_T1844_T7621_T7819.1",
         "scene": "scene",
         "showlegend": true,
         "type": "scatter3d",
         "x": [
          783.1661929842587,
          783.1661929842587,
          783.1661929842587,
          783.1661929842587,
          783.1661929842587
         ],
         "y": [
          15.163,
          15.163,
          15.163,
          15.163,
          15.163
         ],
         "z": [
          680708.3125,
          680708.3125,
          680708.3125,
          680708.3125,
          680708.3125
         ]
        },
        {
         "hovertemplate": "labels=T548_T2390_T1766.1_T7480.1<br>m/z=%{x}<br>rt=%{y}<br>intensity=%{z}<extra></extra>",
         "legendgroup": "T548_T2390_T1766.1_T7480.1",
         "marker": {
          "color": "#19d3f3",
          "symbol": "circle"
         },
         "mode": "markers",
         "name": "T548_T2390_T1766.1_T7480.1",
         "scene": "scene",
         "showlegend": true,
         "type": "scatter3d",
         "x": [
          783.1679576933195,
          783.1679576933195,
          783.1679576933195,
          783.1679576933195
         ],
         "y": [
          12.305,
          12.305,
          12.305,
          12.305
         ],
         "z": [
          800165,
          800165,
          800165,
          800165
         ]
        },
        {
         "hovertemplate": "labels=T542.1_T2490_T1770.1_T7471<br>m/z=%{x}<br>rt=%{y}<br>intensity=%{z}<extra></extra>",
         "legendgroup": "T542.1_T2490_T1770.1_T7471",
         "marker": {
          "color": "#FF6692",
          "symbol": "circle"
         },
         "mode": "markers",
         "name": "T542.1_T2490_T1770.1_T7471",
         "scene": "scene",
         "showlegend": true,
         "type": "scatter3d",
         "x": [
          783.1701095383581,
          783.1701095383581,
          783.1701095383581,
          783.1701095383581
         ],
         "y": [
          12.305,
          12.305,
          12.305,
          12.305
         ],
         "z": [
          816474.5,
          816474.5,
          816474.5,
          816474.5
         ]
        },
        {
         "hovertemplate": "labels=T586.1_T2436.1_T2207.1_T6383_T9982.1<br>m/z=%{x}<br>rt=%{y}<br>intensity=%{z}<extra></extra>",
         "legendgroup": "T586.1_T2436.1_T2207.1_T6383_T9982.1",
         "marker": {
          "color": "#B6E880",
          "symbol": "circle"
         },
         "mode": "markers",
         "name": "T586.1_T2436.1_T2207.1_T6383_T9982.1",
         "scene": "scene",
         "showlegend": true,
         "type": "scatter3d",
         "x": [
          783.1729342949468,
          783.1729342949468,
          783.1729342949468,
          783.1729342949468,
          783.1729342949468
         ],
         "y": [
          12.305,
          12.305,
          12.305,
          12.305,
          12.305
         ],
         "z": [
          791672.8125,
          791672.8125,
          791672.8125,
          791672.8125,
          791672.8125
         ]
        },
        {
         "hovertemplate": "labels=T577.1_T2508.1_T2703.1_T6406<br>m/z=%{x}<br>rt=%{y}<br>intensity=%{z}<extra></extra>",
         "legendgroup": "T577.1_T2508.1_T2703.1_T6406",
         "marker": {
          "color": "#FF97FF",
          "symbol": "circle"
         },
         "mode": "markers",
         "name": "T577.1_T2508.1_T2703.1_T6406",
         "scene": "scene",
         "showlegend": true,
         "type": "scatter3d",
         "x": [
          783.1750675582676,
          783.1750675582676,
          783.1750675582676,
          783.1750675582676
         ],
         "y": [
          13.019,
          13.019,
          13.019,
          13.019
         ],
         "z": [
          670593.5,
          670593.5,
          670593.5,
          670593.5
         ]
        },
        {
         "hovertemplate": "labels=T674.1_T2842.1_T3547.1_T8108<br>m/z=%{x}<br>rt=%{y}<br>intensity=%{z}<extra></extra>",
         "legendgroup": "T674.1_T2842.1_T3547.1_T8108",
         "marker": {
          "color": "#FECB52",
          "symbol": "circle"
         },
         "mode": "markers",
         "name": "T674.1_T2842.1_T3547.1_T8108",
         "scene": "scene",
         "showlegend": true,
         "type": "scatter3d",
         "x": [
          783.1772316986832,
          783.1772316986832,
          783.1772316986832,
          783.1772316986832
         ],
         "y": [
          18.02,
          18.02,
          18.02,
          18.02
         ],
         "z": [
          553254.875,
          553254.875,
          553254.875,
          553254.875
         ]
        },
        {
         "hovertemplate": "labels=T771.1_T2953.1_T3967.1<br>m/z=%{x}<br>rt=%{y}<br>intensity=%{z}<extra></extra>",
         "legendgroup": "T771.1_T2953.1_T3967.1",
         "marker": {
          "color": "#636efa",
          "symbol": "circle"
         },
         "mode": "markers",
         "name": "T771.1_T2953.1_T3967.1",
         "scene": "scene",
         "showlegend": true,
         "type": "scatter3d",
         "x": [
          783.1793966077763,
          783.1793966077763,
          783.1793966077763
         ],
         "y": [
          18.02,
          18.02,
          18.02
         ],
         "z": [
          450112.09375,
          450112.09375,
          450112.09375
         ]
        },
        {
         "hovertemplate": "labels=T1014.1_T3360.1_T4834.1<br>m/z=%{x}<br>rt=%{y}<br>intensity=%{z}<extra></extra>",
         "legendgroup": "T1014.1_T3360.1_T4834.1",
         "marker": {
          "color": "#EF553B",
          "symbol": "circle"
         },
         "mode": "markers",
         "name": "T1014.1_T3360.1_T4834.1",
         "scene": "scene",
         "showlegend": true,
         "type": "scatter3d",
         "x": [
          783.1815636487324,
          783.1815636487324,
          783.1815636487324
         ],
         "y": [
          18.02,
          18.02,
          18.02
         ],
         "z": [
          360896.1875,
          360896.1875,
          360896.1875
         ]
        },
        {
         "hovertemplate": "labels=T1420.1_T4557.1_T6215.1<br>m/z=%{x}<br>rt=%{y}<br>intensity=%{z}<extra></extra>",
         "legendgroup": "T1420.1_T4557.1_T6215.1",
         "marker": {
          "color": "#00cc96",
          "symbol": "circle"
         },
         "mode": "markers",
         "name": "T1420.1_T4557.1_T6215.1",
         "scene": "scene",
         "showlegend": true,
         "type": "scatter3d",
         "x": [
          783.183764497459,
          783.183764497459,
          783.183764497459
         ],
         "y": [
          13.019,
          13.019,
          13.019
         ],
         "z": [
          283895.3125,
          283895.3125,
          283895.3125
         ]
        },
        {
         "hovertemplate": "labels=T2088.1_T6236.1_T7831.1<br>m/z=%{x}<br>rt=%{y}<br>intensity=%{z}<extra></extra>",
         "legendgroup": "T2088.1_T6236.1_T7831.1",
         "marker": {
          "color": "#ab63fa",
          "symbol": "circle"
         },
         "mode": "markers",
         "name": "T2088.1_T6236.1_T7831.1",
         "scene": "scene",
         "showlegend": true,
         "type": "scatter3d",
         "x": [
          783.185972091253,
          783.185972091253,
          783.185972091253
         ],
         "y": [
          13.019,
          13.019,
          13.019
         ],
         "z": [
          229998.203125,
          229998.203125,
          229998.203125
         ]
        },
        {
         "hovertemplate": "labels=T2890.1_T7846_T8678.1<br>m/z=%{x}<br>rt=%{y}<br>intensity=%{z}<extra></extra>",
         "legendgroup": "T2890.1_T7846_T8678.1",
         "marker": {
          "color": "#FFA15A",
          "symbol": "circle"
         },
         "mode": "markers",
         "name": "T2890.1_T7846_T8678.1",
         "scene": "scene",
         "showlegend": true,
         "type": "scatter3d",
         "x": [
          783.1879830809785,
          783.1879830809785,
          783.1879830809785
         ],
         "y": [
          11.591,
          11.591,
          11.591
         ],
         "z": [
          212568.203125,
          212568.203125,
          212568.203125
         ]
        },
        {
         "hovertemplate": "labels=T3803_T8663_T9585.1<br>m/z=%{x}<br>rt=%{y}<br>intensity=%{z}<extra></extra>",
         "legendgroup": "T3803_T8663_T9585.1",
         "marker": {
          "color": "#19d3f3",
          "symbol": "circle"
         },
         "mode": "markers",
         "name": "T3803_T8663_T9585.1",
         "scene": "scene",
         "showlegend": true,
         "type": "scatter3d",
         "x": [
          783.1897295004161,
          783.1897295004161,
          783.1897295004161
         ],
         "y": [
          16.592,
          16.592,
          16.592
         ],
         "z": [
          181828.59375,
          181828.59375,
          181828.59375
         ]
        },
        {
         "hovertemplate": "labels=T4556.1_T9667<br>m/z=%{x}<br>rt=%{y}<br>intensity=%{z}<extra></extra>",
         "legendgroup": "T4556.1_T9667",
         "marker": {
          "color": "#FF6692",
          "symbol": "circle"
         },
         "mode": "markers",
         "name": "T4556.1_T9667",
         "scene": "scene",
         "showlegend": true,
         "type": "scatter3d",
         "x": [
          783.1925192393469,
          783.1925192393469
         ],
         "y": [
          18.02,
          18.02
         ],
         "z": [
          129487.8984375,
          129487.8984375
         ]
        },
        {
         "hovertemplate": "labels=T4267.1_T1887.1_T8172.1<br>m/z=%{x}<br>rt=%{y}<br>intensity=%{z}<extra></extra>",
         "legendgroup": "T4267.1_T1887.1_T8172.1",
         "marker": {
          "color": "#B6E880",
          "symbol": "circle"
         },
         "mode": "markers",
         "name": "T4267.1_T1887.1_T8172.1",
         "scene": "scene",
         "showlegend": true,
         "type": "scatter3d",
         "x": [
          784.1602491755863,
          784.1602491755863,
          784.1602491755863
         ],
         "y": [
          15.877,
          15.877,
          15.877
         ],
         "z": [
          103382.5,
          103382.5,
          103382.5
         ]
        },
        {
         "hovertemplate": "labels=T1797_T6862<br>m/z=%{x}<br>rt=%{y}<br>intensity=%{z}<extra></extra>",
         "legendgroup": "T1797_T6862",
         "marker": {
          "color": "#FF97FF",
          "symbol": "circle"
         },
         "mode": "markers",
         "name": "T1797_T6862",
         "scene": "scene",
         "showlegend": true,
         "type": "scatter3d",
         "x": [
          785.1664564138322,
          785.1664564138322
         ],
         "y": [
          12.305,
          12.305
         ],
         "z": [
          313511.8125,
          313511.8125
         ]
        },
        {
         "hovertemplate": "labels=T1871.1_T6079.1<br>m/z=%{x}<br>rt=%{y}<br>intensity=%{z}<extra></extra>",
         "legendgroup": "T1871.1_T6079.1",
         "marker": {
          "color": "#FECB52",
          "symbol": "circle"
         },
         "mode": "markers",
         "name": "T1871.1_T6079.1",
         "scene": "scene",
         "showlegend": true,
         "type": "scatter3d",
         "x": [
          786.4609070424275,
          786.4609070424275
         ],
         "y": [
          10.162,
          10.162
         ],
         "z": [
          189627.5,
          189627.5
         ]
        },
        {
         "hovertemplate": "labels=T1583.1_T4698.1<br>m/z=%{x}<br>rt=%{y}<br>intensity=%{z}<extra></extra>",
         "legendgroup": "T1583.1_T4698.1",
         "marker": {
          "color": "#636efa",
          "symbol": "circle"
         },
         "mode": "markers",
         "name": "T1583.1_T4698.1",
         "scene": "scene",
         "showlegend": true,
         "type": "scatter3d",
         "x": [
          786.4630737254794,
          786.4630737254794
         ],
         "y": [
          10.162,
          10.162
         ],
         "z": [
          361996.1875,
          361996.1875
         ]
        },
        {
         "hovertemplate": "labels=T1449.1_T4016.1<br>m/z=%{x}<br>rt=%{y}<br>intensity=%{z}<extra></extra>",
         "legendgroup": "T1449.1_T4016.1",
         "marker": {
          "color": "#EF553B",
          "symbol": "circle"
         },
         "mode": "markers",
         "name": "T1449.1_T4016.1",
         "scene": "scene",
         "showlegend": true,
         "type": "scatter3d",
         "x": [
          786.4652423454073,
          786.4652423454073
         ],
         "y": [
          10.162,
          10.162
         ],
         "z": [
          151180.90625,
          151180.90625
         ]
        },
        {
         "hovertemplate": "labels=T1379.1_T3355.1<br>m/z=%{x}<br>rt=%{y}<br>intensity=%{z}<extra></extra>",
         "legendgroup": "T1379.1_T3355.1",
         "marker": {
          "color": "#00cc96",
          "symbol": "circle"
         },
         "mode": "markers",
         "name": "T1379.1_T3355.1",
         "scene": "scene",
         "showlegend": true,
         "type": "scatter3d",
         "x": [
          786.4674143342958,
          786.4674143342958
         ],
         "y": [
          10.162,
          10.162
         ],
         "z": [
          163015.796875,
          163015.796875
         ]
        },
        {
         "hovertemplate": "labels=T1485.1_T4288.1<br>m/z=%{x}<br>rt=%{y}<br>intensity=%{z}<extra></extra>",
         "legendgroup": "T1485.1_T4288.1",
         "marker": {
          "color": "#ab63fa",
          "symbol": "circle"
         },
         "mode": "markers",
         "name": "T1485.1_T4288.1",
         "scene": "scene",
         "showlegend": true,
         "type": "scatter3d",
         "x": [
          786.4739027204122,
          786.4739027204122
         ],
         "y": [
          10.162,
          10.162
         ],
         "z": [
          157432.40625,
          157432.40625
         ]
        },
        {
         "hovertemplate": "labels=T1407.1_T4331.1<br>m/z=%{x}<br>rt=%{y}<br>intensity=%{z}<extra></extra>",
         "legendgroup": "T1407.1_T4331.1",
         "marker": {
          "color": "#FFA15A",
          "symbol": "circle"
         },
         "mode": "markers",
         "name": "T1407.1_T4331.1",
         "scene": "scene",
         "showlegend": true,
         "type": "scatter3d",
         "x": [
          786.4761140329456,
          786.4761140329456
         ],
         "y": [
          10.162,
          10.162
         ],
         "z": [
          126031.5,
          126031.5
         ]
        },
        {
         "hovertemplate": "labels=T1540.1_T4115.1<br>m/z=%{x}<br>rt=%{y}<br>intensity=%{z}<extra></extra>",
         "legendgroup": "T1540.1_T4115.1",
         "marker": {
          "color": "#19d3f3",
          "symbol": "circle"
         },
         "mode": "markers",
         "name": "T1540.1_T4115.1",
         "scene": "scene",
         "showlegend": true,
         "type": "scatter3d",
         "x": [
          786.4783775401802,
          786.4783775401802
         ],
         "y": [
          10.162,
          10.162
         ],
         "z": [
          108149.1015625,
          108149.1015625
         ]
        },
        {
         "hovertemplate": "labels=T1751.1_T4025.1<br>m/z=%{x}<br>rt=%{y}<br>intensity=%{z}<extra></extra>",
         "legendgroup": "T1751.1_T4025.1",
         "marker": {
          "color": "#FF6692",
          "symbol": "circle"
         },
         "mode": "markers",
         "name": "T1751.1_T4025.1",
         "scene": "scene",
         "showlegend": true,
         "type": "scatter3d",
         "x": [
          786.4805803610745,
          786.4805803610745
         ],
         "y": [
          10.162,
          10.162
         ],
         "z": [
          94347.9765625,
          94347.9765625
         ]
        },
        {
         "hovertemplate": "labels=T2451.1_T4412.1<br>m/z=%{x}<br>rt=%{y}<br>intensity=%{z}<extra></extra>",
         "legendgroup": "T2451.1_T4412.1",
         "marker": {
          "color": "#B6E880",
          "symbol": "circle"
         },
         "mode": "markers",
         "name": "T2451.1_T4412.1",
         "scene": "scene",
         "showlegend": true,
         "type": "scatter3d",
         "x": [
          786.4827906868047,
          786.4827906868047
         ],
         "y": [
          10.162,
          10.162
         ],
         "z": [
          66439.9921875,
          66439.9921875
         ]
        },
        {
         "hovertemplate": "labels=T3070.1_T5769.1<br>m/z=%{x}<br>rt=%{y}<br>intensity=%{z}<extra></extra>",
         "legendgroup": "T3070.1_T5769.1",
         "marker": {
          "color": "#FF97FF",
          "symbol": "circle"
         },
         "mode": "markers",
         "name": "T3070.1_T5769.1",
         "scene": "scene",
         "showlegend": true,
         "type": "scatter3d",
         "x": [
          786.4849540978591,
          786.4849540978591
         ],
         "y": [
          10.162,
          10.162
         ],
         "z": [
          76759.2890625,
          76759.2890625
         ]
        },
        {
         "hovertemplate": "labels=T3774.1_T7740.1<br>m/z=%{x}<br>rt=%{y}<br>intensity=%{z}<extra></extra>",
         "legendgroup": "T3774.1_T7740.1",
         "marker": {
          "color": "#FECB52",
          "symbol": "circle"
         },
         "mode": "markers",
         "name": "T3774.1_T7740.1",
         "scene": "scene",
         "showlegend": true,
         "type": "scatter3d",
         "x": [
          786.4871339412963,
          786.4871339412963
         ],
         "y": [
          10.162,
          10.162
         ],
         "z": [
          81955.5703125,
          81955.5703125
         ]
        },
        {
         "hovertemplate": "labels=T4593.1_T9648.1<br>m/z=%{x}<br>rt=%{y}<br>intensity=%{z}<extra></extra>",
         "legendgroup": "T4593.1_T9648.1",
         "marker": {
          "color": "#636efa",
          "symbol": "circle"
         },
         "mode": "markers",
         "name": "T4593.1_T9648.1",
         "scene": "scene",
         "showlegend": true,
         "type": "scatter3d",
         "x": [
          786.4893088856907,
          786.4893088856907
         ],
         "y": [
          10.162,
          10.162
         ],
         "z": [
          178956.796875,
          178956.796875
         ]
        },
        {
         "hovertemplate": "labels=T2632_T8247.1<br>m/z=%{x}<br>rt=%{y}<br>intensity=%{z}<extra></extra>",
         "legendgroup": "T2632_T8247.1",
         "marker": {
          "color": "#EF553B",
          "symbol": "circle"
         },
         "mode": "markers",
         "name": "T2632_T8247.1",
         "scene": "scene",
         "showlegend": true,
         "type": "scatter3d",
         "x": [
          787.2143252200706,
          787.2143252200706
         ],
         "y": [
          15.877,
          15.877
         ],
         "z": [
          144016.59375,
          144016.59375
         ]
        },
        {
         "hovertemplate": "labels=T1903_T6930.1<br>m/z=%{x}<br>rt=%{y}<br>intensity=%{z}<extra></extra>",
         "legendgroup": "T1903_T6930.1",
         "marker": {
          "color": "#00cc96",
          "symbol": "circle"
         },
         "mode": "markers",
         "name": "T1903_T6930.1",
         "scene": "scene",
         "showlegend": true,
         "type": "scatter3d",
         "x": [
          787.2164419796924,
          787.2164419796924
         ],
         "y": [
          15.877,
          15.877
         ],
         "z": [
          179248.796875,
          179248.796875
         ]
        },
        {
         "hovertemplate": "labels=T1483.1_T5099.1<br>m/z=%{x}<br>rt=%{y}<br>intensity=%{z}<extra></extra>",
         "legendgroup": "T1483.1_T5099.1",
         "marker": {
          "color": "#ab63fa",
          "symbol": "circle"
         },
         "mode": "markers",
         "name": "T1483.1_T5099.1",
         "scene": "scene",
         "showlegend": true,
         "type": "scatter3d",
         "x": [
          787.2186014715107,
          787.2186014715107
         ],
         "y": [
          15.877,
          15.877
         ],
         "z": [
          234496.5,
          234496.5
         ]
        },
        {
         "hovertemplate": "labels=T1138_T4840.1<br>m/z=%{x}<br>rt=%{y}<br>intensity=%{z}<extra></extra>",
         "legendgroup": "T1138_T4840.1",
         "marker": {
          "color": "#FFA15A",
          "symbol": "circle"
         },
         "mode": "markers",
         "name": "T1138_T4840.1",
         "scene": "scene",
         "showlegend": true,
         "type": "scatter3d",
         "x": [
          787.2207778767004,
          787.2207778767004
         ],
         "y": [
          15.877,
          15.877
         ],
         "z": [
          293855.1875,
          293855.1875
         ]
        },
        {
         "hovertemplate": "labels=T1135.1_T5024.1<br>m/z=%{x}<br>rt=%{y}<br>intensity=%{z}<extra></extra>",
         "legendgroup": "T1135.1_T5024.1",
         "marker": {
          "color": "#19d3f3",
          "symbol": "circle"
         },
         "mode": "markers",
         "name": "T1135.1_T5024.1",
         "scene": "scene",
         "showlegend": true,
         "type": "scatter3d",
         "x": [
          787.222924426373,
          787.222924426373
         ],
         "y": [
          15.877,
          15.877
         ],
         "z": [
          438505,
          438505
         ]
        },
        {
         "hovertemplate": "labels=T1339.1_T5467.1<br>m/z=%{x}<br>rt=%{y}<br>intensity=%{z}<extra></extra>",
         "legendgroup": "T1339.1_T5467.1",
         "marker": {
          "color": "#FF6692",
          "symbol": "circle"
         },
         "mode": "markers",
         "name": "T1339.1_T5467.1",
         "scene": "scene",
         "showlegend": true,
         "type": "scatter3d",
         "x": [
          787.2250852215037,
          787.2250852215037
         ],
         "y": [
          15.877,
          15.877
         ],
         "z": [
          495028.5,
          495028.5
         ]
        },
        {
         "hovertemplate": "labels=T1233.1_T4954<br>m/z=%{x}<br>rt=%{y}<br>intensity=%{z}<extra></extra>",
         "legendgroup": "T1233.1_T4954",
         "marker": {
          "color": "#B6E880",
          "symbol": "circle"
         },
         "mode": "markers",
         "name": "T1233.1_T4954",
         "scene": "scene",
         "showlegend": true,
         "type": "scatter3d",
         "x": [
          787.227874106098,
          787.227874106098
         ],
         "y": [
          12.305,
          12.305
         ],
         "z": [
          528611.1875,
          528611.1875
         ]
        },
        {
         "hovertemplate": "labels=T1269.1_T4704.1<br>m/z=%{x}<br>rt=%{y}<br>intensity=%{z}<extra></extra>",
         "legendgroup": "T1269.1_T4704.1",
         "marker": {
          "color": "#FF97FF",
          "symbol": "circle"
         },
         "mode": "markers",
         "name": "T1269.1_T4704.1",
         "scene": "scene",
         "showlegend": true,
         "type": "scatter3d",
         "x": [
          787.2300890011004,
          787.2300890011004
         ],
         "y": [
          17.306,
          17.306
         ],
         "z": [
          519915.1875,
          519915.1875
         ]
        },
        {
         "hovertemplate": "labels=T1357_T4783.1<br>m/z=%{x}<br>rt=%{y}<br>intensity=%{z}<extra></extra>",
         "legendgroup": "T1357_T4783.1",
         "marker": {
          "color": "#FECB52",
          "symbol": "circle"
         },
         "mode": "markers",
         "name": "T1357_T4783.1",
         "scene": "scene",
         "showlegend": true,
         "type": "scatter3d",
         "x": [
          787.2319594929253,
          787.2319594929253
         ],
         "y": [
          13.019,
          13.019
         ],
         "z": [
          454315,
          454315
         ]
        },
        {
         "hovertemplate": "labels=T1423_T4606.1<br>m/z=%{x}<br>rt=%{y}<br>intensity=%{z}<extra></extra>",
         "legendgroup": "T1423_T4606.1",
         "marker": {
          "color": "#636efa",
          "symbol": "circle"
         },
         "mode": "markers",
         "name": "T1423_T4606.1",
         "scene": "scene",
         "showlegend": true,
         "type": "scatter3d",
         "x": [
          787.2333851542139,
          787.2333851542139
         ],
         "y": [
          16.592,
          16.592
         ],
         "z": [
          475784.6875,
          475784.6875
         ]
        },
        {
         "hovertemplate": "labels=T1438.1_T5112.1<br>m/z=%{x}<br>rt=%{y}<br>intensity=%{z}<extra></extra>",
         "legendgroup": "T1438.1_T5112.1",
         "marker": {
          "color": "#EF553B",
          "symbol": "circle"
         },
         "mode": "markers",
         "name": "T1438.1_T5112.1",
         "scene": "scene",
         "showlegend": true,
         "type": "scatter3d",
         "x": [
          787.2373615445553,
          787.2373615445553
         ],
         "y": [
          18.02,
          18.02
         ],
         "z": [
          286847.40625,
          286847.40625
         ]
        },
        {
         "hovertemplate": "labels=T1998.1_T6525.1<br>m/z=%{x}<br>rt=%{y}<br>intensity=%{z}<extra></extra>",
         "legendgroup": "T1998.1_T6525.1",
         "marker": {
          "color": "#00cc96",
          "symbol": "circle"
         },
         "mode": "markers",
         "name": "T1998.1_T6525.1",
         "scene": "scene",
         "showlegend": true,
         "type": "scatter3d",
         "x": [
          787.2395481698796,
          787.2395481698796
         ],
         "y": [
          18.02,
          18.02
         ],
         "z": [
          233109.40625,
          233109.40625
         ]
        },
        {
         "hovertemplate": "labels=T3221.1_T8709.1<br>m/z=%{x}<br>rt=%{y}<br>intensity=%{z}<extra></extra>",
         "legendgroup": "T3221.1_T8709.1",
         "marker": {
          "color": "#ab63fa",
          "symbol": "circle"
         },
         "mode": "markers",
         "name": "T3221.1_T8709.1",
         "scene": "scene",
         "showlegend": true,
         "type": "scatter3d",
         "x": [
          787.2417270775554,
          787.2417270775554
         ],
         "y": [
          18.02,
          18.02
         ],
         "z": [
          178626.296875,
          178626.296875
         ]
        },
        {
         "hovertemplate": "labels=T3997.1_T10003.1<br>m/z=%{x}<br>rt=%{y}<br>intensity=%{z}<extra></extra>",
         "legendgroup": "T3997.1_T10003.1",
         "marker": {
          "color": "#FFA15A",
          "symbol": "circle"
         },
         "mode": "markers",
         "name": "T3997.1_T10003.1",
         "scene": "scene",
         "showlegend": true,
         "type": "scatter3d",
         "x": [
          800.4825514449926,
          800.4825514449926
         ],
         "y": [
          10.162,
          10.162
         ],
         "z": [
          70254.5234375,
          70254.5234375
         ]
        },
        {
         "hovertemplate": "labels=T2702.1_T9487.1<br>m/z=%{x}<br>rt=%{y}<br>intensity=%{z}<extra></extra>",
         "legendgroup": "T2702.1_T9487.1",
         "marker": {
          "color": "#19d3f3",
          "symbol": "circle"
         },
         "mode": "markers",
         "name": "T2702.1_T9487.1",
         "scene": "scene",
         "showlegend": true,
         "type": "scatter3d",
         "x": [
          801.0906751971974,
          801.0906751971974
         ],
         "y": [
          12.305,
          12.305
         ],
         "z": [
          212667.40625,
          212667.40625
         ]
        },
        {
         "hovertemplate": "labels=T2539.1_T7833.1<br>m/z=%{x}<br>rt=%{y}<br>intensity=%{z}<extra></extra>",
         "legendgroup": "T2539.1_T7833.1",
         "marker": {
          "color": "#FF6692",
          "symbol": "circle"
         },
         "mode": "markers",
         "name": "T2539.1_T7833.1",
         "scene": "scene",
         "showlegend": true,
         "type": "scatter3d",
         "x": [
          801.0953316177092,
          801.0953316177092
         ],
         "y": [
          11.591,
          11.591
         ],
         "z": [
          284811.40625,
          284811.40625
         ]
        },
        {
         "hovertemplate": "labels=T1834.1_T9738.1<br>m/z=%{x}<br>rt=%{y}<br>intensity=%{z}<extra></extra>",
         "legendgroup": "T1834.1_T9738.1",
         "marker": {
          "color": "#B6E880",
          "symbol": "circle"
         },
         "mode": "markers",
         "name": "T1834.1_T9738.1",
         "scene": "scene",
         "showlegend": true,
         "type": "scatter3d",
         "x": [
          805.9859232429262,
          805.9859232429262
         ],
         "y": [
          5.875,
          5.875
         ],
         "z": [
          258166.09375,
          258166.09375
         ]
        },
        {
         "hovertemplate": "labels=T567.2_T2183.2<br>m/z=%{x}<br>rt=%{y}<br>intensity=%{z}<extra></extra>",
         "legendgroup": "T567.2_T2183.2",
         "marker": {
          "color": "#FF97FF",
          "symbol": "circle"
         },
         "mode": "markers",
         "name": "T567.2_T2183.2",
         "scene": "scene",
         "showlegend": true,
         "type": "scatter3d",
         "x": [
          809.1961453669129,
          809.1961453669129
         ],
         "y": [
          20.878,
          20.878
         ],
         "z": [
          712754,
          712754
         ]
        },
        {
         "hovertemplate": "labels=T581.2_T2075.2<br>m/z=%{x}<br>rt=%{y}<br>intensity=%{z}<extra></extra>",
         "legendgroup": "T581.2_T2075.2",
         "marker": {
          "color": "#FECB52",
          "symbol": "circle"
         },
         "mode": "markers",
         "name": "T581.2_T2075.2",
         "scene": "scene",
         "showlegend": true,
         "type": "scatter3d",
         "x": [
          809.2005654288866,
          809.2005654288866
         ],
         "y": [
          18.02,
          18.02
         ],
         "z": [
          420279.6875,
          420279.6875
         ]
        },
        {
         "hovertemplate": "labels=T581.1_T2075.1<br>m/z=%{x}<br>rt=%{y}<br>intensity=%{z}<extra></extra>",
         "legendgroup": "T581.1_T2075.1",
         "marker": {
          "color": "#636efa",
          "symbol": "circle"
         },
         "mode": "markers",
         "name": "T581.1_T2075.1",
         "scene": "scene",
         "showlegend": true,
         "type": "scatter3d",
         "x": [
          809.2005769496727,
          809.2005769496727
         ],
         "y": [
          10.162,
          10.162
         ],
         "z": [
          259162.09375,
          259162.09375
         ]
        },
        {
         "hovertemplate": "labels=T662.2_T2039.2<br>m/z=%{x}<br>rt=%{y}<br>intensity=%{z}<extra></extra>",
         "legendgroup": "T662.2_T2039.2",
         "marker": {
          "color": "#EF553B",
          "symbol": "circle"
         },
         "mode": "markers",
         "name": "T662.2_T2039.2",
         "scene": "scene",
         "showlegend": true,
         "type": "scatter3d",
         "x": [
          809.2027650899213,
          809.2027650899213
         ],
         "y": [
          18.02,
          18.02
         ],
         "z": [
          320277.59375,
          320277.59375
         ]
        },
        {
         "hovertemplate": "labels=T662.1_T2039.1<br>m/z=%{x}<br>rt=%{y}<br>intensity=%{z}<extra></extra>",
         "legendgroup": "T662.1_T2039.1",
         "marker": {
          "color": "#00cc96",
          "symbol": "circle"
         },
         "mode": "markers",
         "name": "T662.1_T2039.1",
         "scene": "scene",
         "showlegend": true,
         "type": "scatter3d",
         "x": [
          809.2028160782282,
          809.2028160782282
         ],
         "y": [
          10.162,
          10.162
         ],
         "z": [
          205113.5,
          205113.5
         ]
        },
        {
         "hovertemplate": "labels=T821.2_T2663.2<br>m/z=%{x}<br>rt=%{y}<br>intensity=%{z}<extra></extra>",
         "legendgroup": "T821.2_T2663.2",
         "marker": {
          "color": "#ab63fa",
          "symbol": "circle"
         },
         "mode": "markers",
         "name": "T821.2_T2663.2",
         "scene": "scene",
         "showlegend": true,
         "type": "scatter3d",
         "x": [
          809.2049751784676,
          809.2049751784676
         ],
         "y": [
          18.02,
          18.02
         ],
         "z": [
          240682.40625,
          240682.40625
         ]
        },
        {
         "hovertemplate": "labels=T821.1_T2663.1<br>m/z=%{x}<br>rt=%{y}<br>intensity=%{z}<extra></extra>",
         "legendgroup": "T821.1_T2663.1",
         "marker": {
          "color": "#FFA15A",
          "symbol": "circle"
         },
         "mode": "markers",
         "name": "T821.1_T2663.1",
         "scene": "scene",
         "showlegend": true,
         "type": "scatter3d",
         "x": [
          809.205063104106,
          809.205063104106
         ],
         "y": [
          10.162,
          10.162
         ],
         "z": [
          159028.09375,
          159028.09375
         ]
        },
        {
         "hovertemplate": "labels=T1190.2_T3325.2<br>m/z=%{x}<br>rt=%{y}<br>intensity=%{z}<extra></extra>",
         "legendgroup": "T1190.2_T3325.2",
         "marker": {
          "color": "#19d3f3",
          "symbol": "circle"
         },
         "mode": "markers",
         "name": "T1190.2_T3325.2",
         "scene": "scene",
         "showlegend": true,
         "type": "scatter3d",
         "x": [
          809.207203971069,
          809.207203971069
         ],
         "y": [
          18.02,
          18.02
         ],
         "z": [
          197744.203125,
          197744.203125
         ]
        },
        {
         "hovertemplate": "labels=T1190.1_T3325.1<br>m/z=%{x}<br>rt=%{y}<br>intensity=%{z}<extra></extra>",
         "legendgroup": "T1190.1_T3325.1",
         "marker": {
          "color": "#FF6692",
          "symbol": "circle"
         },
         "mode": "markers",
         "name": "T1190.1_T3325.1",
         "scene": "scene",
         "showlegend": true,
         "type": "scatter3d",
         "x": [
          809.2072778469836,
          809.2072778469836
         ],
         "y": [
          10.162,
          10.162
         ],
         "z": [
          124604.203125,
          124604.203125
         ]
        },
        {
         "hovertemplate": "labels=T1643.2_T4174.2<br>m/z=%{x}<br>rt=%{y}<br>intensity=%{z}<extra></extra>",
         "legendgroup": "T1643.2_T4174.2",
         "marker": {
          "color": "#B6E880",
          "symbol": "circle"
         },
         "mode": "markers",
         "name": "T1643.2_T4174.2",
         "scene": "scene",
         "showlegend": true,
         "type": "scatter3d",
         "x": [
          809.2094105858837,
          809.2094105858837
         ],
         "y": [
          18.02,
          18.02
         ],
         "z": [
          157496.09375,
          157496.09375
         ]
        },
        {
         "hovertemplate": "labels=T1643.1_T4174.1<br>m/z=%{x}<br>rt=%{y}<br>intensity=%{z}<extra></extra>",
         "legendgroup": "T1643.1_T4174.1",
         "marker": {
          "color": "#FF97FF",
          "symbol": "circle"
         },
         "mode": "markers",
         "name": "T1643.1_T4174.1",
         "scene": "scene",
         "showlegend": true,
         "type": "scatter3d",
         "x": [
          809.209466083329,
          809.209466083329
         ],
         "y": [
          10.162,
          10.162
         ],
         "z": [
          103171.6015625,
          103171.6015625
         ]
        },
        {
         "hovertemplate": "labels=T2417.1_T5156.1<br>m/z=%{x}<br>rt=%{y}<br>intensity=%{z}<extra></extra>",
         "legendgroup": "T2417.1_T5156.1",
         "marker": {
          "color": "#FECB52",
          "symbol": "circle"
         },
         "mode": "markers",
         "name": "T2417.1_T5156.1",
         "scene": "scene",
         "showlegend": true,
         "type": "scatter3d",
         "x": [
          809.2116584727127,
          809.2116584727127
         ],
         "y": [
          10.162,
          10.162
         ],
         "z": [
          82381.5,
          82381.5
         ]
        },
        {
         "hovertemplate": "labels=T2417.2_T5156.2<br>m/z=%{x}<br>rt=%{y}<br>intensity=%{z}<extra></extra>",
         "legendgroup": "T2417.2_T5156.2",
         "marker": {
          "color": "#636efa",
          "symbol": "circle"
         },
         "mode": "markers",
         "name": "T2417.2_T5156.2",
         "scene": "scene",
         "showlegend": true,
         "type": "scatter3d",
         "x": [
          809.2116585722916,
          809.2116585722916
         ],
         "y": [
          18.02,
          18.02
         ],
         "z": [
          143182.90625,
          143182.90625
         ]
        },
        {
         "hovertemplate": "labels=T3521.1_T6394.1<br>m/z=%{x}<br>rt=%{y}<br>intensity=%{z}<extra></extra>",
         "legendgroup": "T3521.1_T6394.1",
         "marker": {
          "color": "#EF553B",
          "symbol": "circle"
         },
         "mode": "markers",
         "name": "T3521.1_T6394.1",
         "scene": "scene",
         "showlegend": true,
         "type": "scatter3d",
         "x": [
          809.2138669069662,
          809.2138669069662
         ],
         "y": [
          10.162,
          10.162
         ],
         "z": [
          72726.3125,
          72726.3125
         ]
        },
        {
         "hovertemplate": "labels=T3521.2_T6394.2<br>m/z=%{x}<br>rt=%{y}<br>intensity=%{z}<extra></extra>",
         "legendgroup": "T3521.2_T6394.2",
         "marker": {
          "color": "#00cc96",
          "symbol": "circle"
         },
         "mode": "markers",
         "name": "T3521.2_T6394.2",
         "scene": "scene",
         "showlegend": true,
         "type": "scatter3d",
         "x": [
          809.2138764360072,
          809.2138764360072
         ],
         "y": [
          18.02,
          18.02
         ],
         "z": [
          120512.703125,
          120512.703125
         ]
        },
        {
         "hovertemplate": "labels=T5432.1_T9890.1<br>m/z=%{x}<br>rt=%{y}<br>intensity=%{z}<extra></extra>",
         "legendgroup": "T5432.1_T9890.1",
         "marker": {
          "color": "#ab63fa",
          "symbol": "circle"
         },
         "mode": "markers",
         "name": "T5432.1_T9890.1",
         "scene": "scene",
         "showlegend": true,
         "type": "scatter3d",
         "x": [
          809.218299067797,
          809.218299067797
         ],
         "y": [
          18.02,
          18.02
         ],
         "z": [
          149601,
          149601
         ]
        },
        {
         "hovertemplate": "labels=T1849.1_T9267.1<br>m/z=%{x}<br>rt=%{y}<br>intensity=%{z}<extra></extra>",
         "legendgroup": "T1849.1_T9267.1",
         "marker": {
          "color": "#FFA15A",
          "symbol": "circle"
         },
         "mode": "markers",
         "name": "T1849.1_T9267.1",
         "scene": "scene",
         "showlegend": true,
         "type": "scatter3d",
         "x": [
          810.1904542311779,
          810.1904542311779
         ],
         "y": [
          10.162,
          10.162
         ],
         "z": [
          442930.59375,
          442930.59375
         ]
        },
        {
         "hovertemplate": "labels=T1860.1_T8168.1<br>m/z=%{x}<br>rt=%{y}<br>intensity=%{z}<extra></extra>",
         "legendgroup": "T1860.1_T8168.1",
         "marker": {
          "color": "#19d3f3",
          "symbol": "circle"
         },
         "mode": "markers",
         "name": "T1860.1_T8168.1",
         "scene": "scene",
         "showlegend": true,
         "type": "scatter3d",
         "x": [
          810.1926746617429,
          810.1926746617429
         ],
         "y": [
          10.162,
          10.162
         ],
         "z": [
          478874.59375,
          478874.59375
         ]
        },
        {
         "hovertemplate": "labels=T1815.1_T9486.1<br>m/z=%{x}<br>rt=%{y}<br>intensity=%{z}<extra></extra>",
         "legendgroup": "T1815.1_T9486.1",
         "marker": {
          "color": "#FF6692",
          "symbol": "circle"
         },
         "mode": "markers",
         "name": "T1815.1_T9486.1",
         "scene": "scene",
         "showlegend": true,
         "type": "scatter3d",
         "x": [
          810.1948852001714,
          810.1948852001714
         ],
         "y": [
          10.162,
          10.162
         ],
         "z": [
          496473.5,
          496473.5
         ]
        },
        {
         "hovertemplate": "labels=T969.1_T3019.1<br>m/z=%{x}<br>rt=%{y}<br>intensity=%{z}<extra></extra>",
         "legendgroup": "T969.1_T3019.1",
         "marker": {
          "color": "#B6E880",
          "symbol": "circle"
         },
         "mode": "markers",
         "name": "T969.1_T3019.1",
         "scene": "scene",
         "showlegend": true,
         "type": "scatter3d",
         "x": [
          817.4597441083374,
          817.4597441083374
         ],
         "y": [
          9.447,
          9.447
         ],
         "z": [
          110022.6015625,
          110022.6015625
         ]
        },
        {
         "hovertemplate": "labels=T1165.2_T3255.2<br>m/z=%{x}<br>rt=%{y}<br>intensity=%{z}<extra></extra>",
         "legendgroup": "T1165.2_T3255.2",
         "marker": {
          "color": "#FF97FF",
          "symbol": "circle"
         },
         "mode": "markers",
         "name": "T1165.2_T3255.2",
         "scene": "scene",
         "showlegend": true,
         "type": "scatter3d",
         "x": [
          817.4641853398472,
          817.4641853398472
         ],
         "y": [
          20.164,
          20.164
         ],
         "z": [
          90180.703125,
          90180.703125
         ]
        },
        {
         "hovertemplate": "labels=T1460.2_T3858.2<br>m/z=%{x}<br>rt=%{y}<br>intensity=%{z}<extra></extra>",
         "legendgroup": "T1460.2_T3858.2",
         "marker": {
          "color": "#FECB52",
          "symbol": "circle"
         },
         "mode": "markers",
         "name": "T1460.2_T3858.2",
         "scene": "scene",
         "showlegend": true,
         "type": "scatter3d",
         "x": [
          817.4664105361455,
          817.4664105361455
         ],
         "y": [
          19.449,
          19.449
         ],
         "z": [
          82894.9296875,
          82894.9296875
         ]
        },
        {
         "hovertemplate": "labels=T1290.1_T4285.1<br>m/z=%{x}<br>rt=%{y}<br>intensity=%{z}<extra></extra>",
         "legendgroup": "T1290.1_T4285.1",
         "marker": {
          "color": "#636efa",
          "symbol": "circle"
         },
         "mode": "markers",
         "name": "T1290.1_T4285.1",
         "scene": "scene",
         "showlegend": true,
         "type": "scatter3d",
         "x": [
          817.4708026622715,
          817.4708026622715
         ],
         "y": [
          10.162,
          10.162
         ],
         "z": [
          97478.390625,
          97478.390625
         ]
        },
        {
         "hovertemplate": "labels=T2455.1_T10049_T2980.1_T9005<br>m/z=%{x}<br>rt=%{y}<br>intensity=%{z}<extra></extra>",
         "legendgroup": "T2455.1_T10049_T2980.1_T9005",
         "marker": {
          "color": "#EF553B",
          "symbol": "circle"
         },
         "mode": "markers",
         "name": "T2455.1_T10049_T2980.1_T9005",
         "scene": "scene",
         "showlegend": true,
         "type": "scatter3d",
         "x": [
          847.1639973753234,
          847.1639973753234,
          847.1639973753234,
          847.1639973753234
         ],
         "y": [
          15.877,
          15.877,
          15.877,
          15.877
         ],
         "z": [
          164386.59375,
          164386.59375,
          164386.59375,
          164386.59375
         ]
        },
        {
         "hovertemplate": "labels=T1017.1_T4877_T2348.1_T7546<br>m/z=%{x}<br>rt=%{y}<br>intensity=%{z}<extra></extra>",
         "legendgroup": "T1017.1_T4877_T2348.1_T7546",
         "marker": {
          "color": "#00cc96",
          "symbol": "circle"
         },
         "mode": "markers",
         "name": "T1017.1_T4877_T2348.1_T7546",
         "scene": "scene",
         "showlegend": true,
         "type": "scatter3d",
         "x": [
          847.1685637897565,
          847.1685637897565,
          847.1685637897565,
          847.1685637897565
         ],
         "y": [
          15.877,
          15.877,
          15.877,
          15.877
         ],
         "z": [
          279309,
          279309,
          279309,
          279309
         ]
        },
        {
         "hovertemplate": "labels=T827.1_T3834_T2085.1_T7355<br>m/z=%{x}<br>rt=%{y}<br>intensity=%{z}<extra></extra>",
         "legendgroup": "T827.1_T3834_T2085.1_T7355",
         "marker": {
          "color": "#ab63fa",
          "symbol": "circle"
         },
         "mode": "markers",
         "name": "T827.1_T3834_T2085.1_T7355",
         "scene": "scene",
         "showlegend": true,
         "type": "scatter3d",
         "x": [
          847.170842881257,
          847.170842881257,
          847.170842881257,
          847.170842881257
         ],
         "y": [
          15.877,
          15.877,
          15.877,
          15.877
         ],
         "z": [
          350809.3125,
          350809.3125,
          350809.3125,
          350809.3125
         ]
        },
        {
         "hovertemplate": "labels=T703_T3263.1_T2150.1_T7251.1<br>m/z=%{x}<br>rt=%{y}<br>intensity=%{z}<extra></extra>",
         "legendgroup": "T703_T3263.1_T2150.1_T7251.1",
         "marker": {
          "color": "#FFA15A",
          "symbol": "circle"
         },
         "mode": "markers",
         "name": "T703_T3263.1_T2150.1_T7251.1",
         "scene": "scene",
         "showlegend": true,
         "type": "scatter3d",
         "x": [
          847.173112803004,
          847.173112803004,
          847.173112803004,
          847.173112803004
         ],
         "y": [
          15.877,
          15.877,
          15.877,
          15.877
         ],
         "z": [
          431697.8125,
          431697.8125,
          431697.8125,
          431697.8125
         ]
        },
        {
         "hovertemplate": "labels=T670.1_T2764.1<br>m/z=%{x}<br>rt=%{y}<br>intensity=%{z}<extra></extra>",
         "legendgroup": "T670.1_T2764.1",
         "marker": {
          "color": "#19d3f3",
          "symbol": "circle"
         },
         "mode": "markers",
         "name": "T670.1_T2764.1",
         "scene": "scene",
         "showlegend": true,
         "type": "scatter3d",
         "x": [
          847.1758233315816,
          847.1758233315816
         ],
         "y": [
          15.877,
          15.877
         ],
         "z": [
          556756.5,
          556756.5
         ]
        },
        {
         "hovertemplate": "labels=T629.1_T2788_T2023_T8396<br>m/z=%{x}<br>rt=%{y}<br>intensity=%{z}<extra></extra>",
         "legendgroup": "T629.1_T2788_T2023_T8396",
         "marker": {
          "color": "#FF6692",
          "symbol": "circle"
         },
         "mode": "markers",
         "name": "T629.1_T2788_T2023_T8396",
         "scene": "scene",
         "showlegend": true,
         "type": "scatter3d",
         "x": [
          847.1780940581684,
          847.1780940581684,
          847.1780940581684,
          847.1780940581684
         ],
         "y": [
          12.305,
          12.305,
          12.305,
          12.305
         ],
         "z": [
          698721.3125,
          698721.3125,
          698721.3125,
          698721.3125
         ]
        },
        {
         "hovertemplate": "labels=T574.1_T2675_T2146.1_T6628_T9063.1<br>m/z=%{x}<br>rt=%{y}<br>intensity=%{z}<extra></extra>",
         "legendgroup": "T574.1_T2675_T2146.1_T6628_T9063.1",
         "marker": {
          "color": "#B6E880",
          "symbol": "circle"
         },
         "mode": "markers",
         "name": "T574.1_T2675_T2146.1_T6628_T9063.1",
         "scene": "scene",
         "showlegend": true,
         "type": "scatter3d",
         "x": [
          847.1803772693754,
          847.1803772693754,
          847.1803772693754,
          847.1803772693754,
          847.1803772693754
         ],
         "y": [
          12.305,
          12.305,
          12.305,
          12.305,
          12.305
         ],
         "z": [
          713386.125,
          713386.125,
          713386.125,
          713386.125,
          713386.125
         ]
        },
        {
         "hovertemplate": "labels=T625.1_T2826_T2114.1_T5998.1<br>m/z=%{x}<br>rt=%{y}<br>intensity=%{z}<extra></extra>",
         "legendgroup": "T625.1_T2826_T2114.1_T5998.1",
         "marker": {
          "color": "#FF97FF",
          "symbol": "circle"
         },
         "mode": "markers",
         "name": "T625.1_T2826_T2114.1_T5998.1",
         "scene": "scene",
         "showlegend": true,
         "type": "scatter3d",
         "x": [
          847.1826315951542,
          847.1826315951542,
          847.1826315951542,
          847.1826315951542
         ],
         "y": [
          12.305,
          12.305,
          12.305,
          12.305
         ],
         "z": [
          816951.875,
          816951.875,
          816951.875,
          816951.875
         ]
        },
        {
         "hovertemplate": "labels=T644_T2765_T2600.1_T6310.1<br>m/z=%{x}<br>rt=%{y}<br>intensity=%{z}<extra></extra>",
         "legendgroup": "T644_T2765_T2600.1_T6310.1",
         "marker": {
          "color": "#FECB52",
          "symbol": "circle"
         },
         "mode": "markers",
         "name": "T644_T2765_T2600.1_T6310.1",
         "scene": "scene",
         "showlegend": true,
         "type": "scatter3d",
         "x": [
          847.18458746704,
          847.18458746704,
          847.18458746704,
          847.18458746704
         ],
         "y": [
          12.305,
          12.305,
          12.305,
          12.305
         ],
         "z": [
          766614.625,
          766614.625,
          766614.625,
          766614.625
         ]
        },
        {
         "hovertemplate": "labels=T634.1_T2727.1_T3010.1_T7988.1<br>m/z=%{x}<br>rt=%{y}<br>intensity=%{z}<extra></extra>",
         "legendgroup": "T634.1_T2727.1_T3010.1_T7988.1",
         "marker": {
          "color": "#636efa",
          "symbol": "circle"
         },
         "mode": "markers",
         "name": "T634.1_T2727.1_T3010.1_T7988.1",
         "scene": "scene",
         "showlegend": true,
         "type": "scatter3d",
         "x": [
          847.1866179783093,
          847.1866179783093,
          847.1866179783093,
          847.1866179783093
         ],
         "y": [
          12.305,
          12.305,
          12.305,
          12.305
         ],
         "z": [
          712547.8125,
          712547.8125,
          712547.8125,
          712547.8125
         ]
        },
        {
         "hovertemplate": "labels=T630.1_T2583.1_T3564.1<br>m/z=%{x}<br>rt=%{y}<br>intensity=%{z}<extra></extra>",
         "legendgroup": "T630.1_T2583.1_T3564.1",
         "marker": {
          "color": "#EF553B",
          "symbol": "circle"
         },
         "mode": "markers",
         "name": "T630.1_T2583.1_T3564.1",
         "scene": "scene",
         "showlegend": true,
         "type": "scatter3d",
         "x": [
          847.1888591785005,
          847.1888591785005,
          847.1888591785005
         ],
         "y": [
          18.02,
          18.02,
          18.02
         ],
         "z": [
          593962.375,
          593962.375,
          593962.375
         ]
        },
        {
         "hovertemplate": "labels=T728.1_T2708.1_T4015.1<br>m/z=%{x}<br>rt=%{y}<br>intensity=%{z}<extra></extra>",
         "legendgroup": "T728.1_T2708.1_T4015.1",
         "marker": {
          "color": "#00cc96",
          "symbol": "circle"
         },
         "mode": "markers",
         "name": "T728.1_T2708.1_T4015.1",
         "scene": "scene",
         "showlegend": true,
         "type": "scatter3d",
         "x": [
          847.1911475707855,
          847.1911475707855,
          847.1911475707855
         ],
         "y": [
          18.02,
          18.02,
          18.02
         ],
         "z": [
          491212.09375,
          491212.09375,
          491212.09375
         ]
        },
        {
         "hovertemplate": "labels=T878.1_T3290.1_T4927.1<br>m/z=%{x}<br>rt=%{y}<br>intensity=%{z}<extra></extra>",
         "legendgroup": "T878.1_T3290.1_T4927.1",
         "marker": {
          "color": "#ab63fa",
          "symbol": "circle"
         },
         "mode": "markers",
         "name": "T878.1_T3290.1_T4927.1",
         "scene": "scene",
         "showlegend": true,
         "type": "scatter3d",
         "x": [
          847.1934066998075,
          847.1934066998075,
          847.1934066998075
         ],
         "y": [
          18.02,
          18.02,
          18.02
         ],
         "z": [
          398970.59375,
          398970.59375,
          398970.59375
         ]
        },
        {
         "hovertemplate": "labels=T1273.1_T3777.1_T5894.1<br>m/z=%{x}<br>rt=%{y}<br>intensity=%{z}<extra></extra>",
         "legendgroup": "T1273.1_T3777.1_T5894.1",
         "marker": {
          "color": "#FFA15A",
          "symbol": "circle"
         },
         "mode": "markers",
         "name": "T1273.1_T3777.1_T5894.1",
         "scene": "scene",
         "showlegend": true,
         "type": "scatter3d",
         "x": [
          847.1956772670186,
          847.1956772670186,
          847.1956772670186
         ],
         "y": [
          18.02,
          18.02,
          18.02
         ],
         "z": [
          310381,
          310381,
          310381
         ]
        },
        {
         "hovertemplate": "labels=T1707.1_T4394.1_T6517<br>m/z=%{x}<br>rt=%{y}<br>intensity=%{z}<extra></extra>",
         "legendgroup": "T1707.1_T4394.1_T6517",
         "marker": {
          "color": "#19d3f3",
          "symbol": "circle"
         },
         "mode": "markers",
         "name": "T1707.1_T4394.1_T6517",
         "scene": "scene",
         "showlegend": true,
         "type": "scatter3d",
         "x": [
          847.1979560128168,
          847.1979560128168,
          847.1979560128168
         ],
         "y": [
          17.306,
          17.306,
          17.306
         ],
         "z": [
          247109.703125,
          247109.703125,
          247109.703125
         ]
        },
        {
         "hovertemplate": "labels=T2567.1_T5286.1_T6844.1<br>m/z=%{x}<br>rt=%{y}<br>intensity=%{z}<extra></extra>",
         "legendgroup": "T2567.1_T5286.1_T6844.1",
         "marker": {
          "color": "#FF6692",
          "symbol": "circle"
         },
         "mode": "markers",
         "name": "T2567.1_T5286.1_T6844.1",
         "scene": "scene",
         "showlegend": true,
         "type": "scatter3d",
         "x": [
          847.2002316642972,
          847.2002316642972,
          847.2002316642972
         ],
         "y": [
          17.306,
          17.306,
          17.306
         ],
         "z": [
          201096.796875,
          201096.796875,
          201096.796875
         ]
        },
        {
         "hovertemplate": "labels=T3477.1_T6878.1_T8914.1<br>m/z=%{x}<br>rt=%{y}<br>intensity=%{z}<extra></extra>",
         "legendgroup": "T3477.1_T6878.1_T8914.1",
         "marker": {
          "color": "#B6E880",
          "symbol": "circle"
         },
         "mode": "markers",
         "name": "T3477.1_T6878.1_T8914.1",
         "scene": "scene",
         "showlegend": true,
         "type": "scatter3d",
         "x": [
          847.202511771716,
          847.202511771716,
          847.202511771716
         ],
         "y": [
          17.306,
          17.306,
          17.306
         ],
         "z": [
          174133.90625,
          174133.90625,
          174133.90625
         ]
        },
        {
         "hovertemplate": "labels=T4212.1_T8901.1<br>m/z=%{x}<br>rt=%{y}<br>intensity=%{z}<extra></extra>",
         "legendgroup": "T4212.1_T8901.1",
         "marker": {
          "color": "#FF97FF",
          "symbol": "circle"
         },
         "mode": "markers",
         "name": "T4212.1_T8901.1",
         "scene": "scene",
         "showlegend": true,
         "type": "scatter3d",
         "x": [
          847.2047718300804,
          847.2047718300804
         ],
         "y": [
          18.02,
          18.02
         ],
         "z": [
          149856.40625,
          149856.40625
         ]
        },
        {
         "hovertemplate": "labels=T6775.1_T8919_T2576.1<br>m/z=%{x}<br>rt=%{y}<br>intensity=%{z}<extra></extra>",
         "legendgroup": "T6775.1_T8919_T2576.1",
         "marker": {
          "color": "#FECB52",
          "symbol": "circle"
         },
         "mode": "markers",
         "name": "T6775.1_T8919_T2576.1",
         "scene": "scene",
         "showlegend": true,
         "type": "scatter3d",
         "x": [
          848.1677657149282,
          848.1677657149282,
          848.1677657149282
         ],
         "y": [
          15.877,
          15.877,
          15.877
         ],
         "z": [
          54935.91015625,
          54935.91015625,
          54935.91015625
         ]
        },
        {
         "hovertemplate": "labels=T9478.1_T10125<br>m/z=%{x}<br>rt=%{y}<br>intensity=%{z}<extra></extra>",
         "legendgroup": "T9478.1_T10125",
         "marker": {
          "color": "#636efa",
          "symbol": "circle"
         },
         "mode": "markers",
         "name": "T9478.1_T10125",
         "scene": "scene",
         "showlegend": true,
         "type": "scatter3d",
         "x": [
          848.6560834721968,
          848.6560834721968
         ],
         "y": [
          15.877,
          15.877
         ],
         "z": [
          51497.87890625,
          51497.87890625
         ]
        },
        {
         "hovertemplate": "labels=T8850.1_T6721.1<br>m/z=%{x}<br>rt=%{y}<br>intensity=%{z}<extra></extra>",
         "legendgroup": "T8850.1_T6721.1",
         "marker": {
          "color": "#EF553B",
          "symbol": "circle"
         },
         "mode": "markers",
         "name": "T8850.1_T6721.1",
         "scene": "scene",
         "showlegend": true,
         "type": "scatter3d",
         "x": [
          848.6584898440635,
          848.6584898440635
         ],
         "y": [
          15.877,
          15.877
         ],
         "z": [
          54553.30078125,
          54553.30078125
         ]
        },
        {
         "hovertemplate": "labels=T8366_T5372<br>m/z=%{x}<br>rt=%{y}<br>intensity=%{z}<extra></extra>",
         "legendgroup": "T8366_T5372",
         "marker": {
          "color": "#00cc96",
          "symbol": "circle"
         },
         "mode": "markers",
         "name": "T8366_T5372",
         "scene": "scene",
         "showlegend": true,
         "type": "scatter3d",
         "x": [
          848.662769379557,
          848.662769379557
         ],
         "y": [
          14.448,
          14.448
         ],
         "z": [
          62066.25,
          62066.25
         ]
        },
        {
         "hovertemplate": "labels=T8322.1_T3881.1<br>m/z=%{x}<br>rt=%{y}<br>intensity=%{z}<extra></extra>",
         "legendgroup": "T8322.1_T3881.1",
         "marker": {
          "color": "#ab63fa",
          "symbol": "circle"
         },
         "mode": "markers",
         "name": "T8322.1_T3881.1",
         "scene": "scene",
         "showlegend": true,
         "type": "scatter3d",
         "x": [
          848.6644785178155,
          848.6644785178155
         ],
         "y": [
          15.877,
          15.877
         ],
         "z": [
          68299.46875,
          68299.46875
         ]
        },
        {
         "hovertemplate": "labels=T2938.1_T9765.1<br>m/z=%{x}<br>rt=%{y}<br>intensity=%{z}<extra></extra>",
         "legendgroup": "T2938.1_T9765.1",
         "marker": {
          "color": "#FFA15A",
          "symbol": "circle"
         },
         "mode": "markers",
         "name": "T2938.1_T9765.1",
         "scene": "scene",
         "showlegend": true,
         "type": "scatter3d",
         "x": [
          851.2256760707282,
          851.2256760707282
         ],
         "y": [
          15.877,
          15.877
         ],
         "z": [
          123859.796875,
          123859.796875
         ]
        },
        {
         "hovertemplate": "labels=T2205_T7919.1<br>m/z=%{x}<br>rt=%{y}<br>intensity=%{z}<extra></extra>",
         "legendgroup": "T2205_T7919.1",
         "marker": {
          "color": "#19d3f3",
          "symbol": "circle"
         },
         "mode": "markers",
         "name": "T2205_T7919.1",
         "scene": "scene",
         "showlegend": true,
         "type": "scatter3d",
         "x": [
          851.227949617021,
          851.227949617021
         ],
         "y": [
          15.877,
          15.877
         ],
         "z": [
          156665.703125,
          156665.703125
         ]
        },
        {
         "hovertemplate": "labels=T1973.1_T6230<br>m/z=%{x}<br>rt=%{y}<br>intensity=%{z}<extra></extra>",
         "legendgroup": "T1973.1_T6230",
         "marker": {
          "color": "#FF6692",
          "symbol": "circle"
         },
         "mode": "markers",
         "name": "T1973.1_T6230",
         "scene": "scene",
         "showlegend": true,
         "type": "scatter3d",
         "x": [
          851.2302336383618,
          851.2302336383618
         ],
         "y": [
          15.877,
          15.877
         ],
         "z": [
          186582.90625,
          186582.90625
         ]
        },
        {
         "hovertemplate": "labels=T1809.1_T6002.1<br>m/z=%{x}<br>rt=%{y}<br>intensity=%{z}<extra></extra>",
         "legendgroup": "T1809.1_T6002.1",
         "marker": {
          "color": "#B6E880",
          "symbol": "circle"
         },
         "mode": "markers",
         "name": "T1809.1_T6002.1",
         "scene": "scene",
         "showlegend": true,
         "type": "scatter3d",
         "x": [
          851.2324767486227,
          851.2324767486227
         ],
         "y": [
          15.877,
          15.877
         ],
         "z": [
          258962.296875,
          258962.296875
         ]
        },
        {
         "hovertemplate": "labels=T1614.1_T4972.1<br>m/z=%{x}<br>rt=%{y}<br>intensity=%{z}<extra></extra>",
         "legendgroup": "T1614.1_T4972.1",
         "marker": {
          "color": "#FF97FF",
          "symbol": "circle"
         },
         "mode": "markers",
         "name": "T1614.1_T4972.1",
         "scene": "scene",
         "showlegend": true,
         "type": "scatter3d",
         "x": [
          851.2347308394318,
          851.2347308394318
         ],
         "y": [
          15.877,
          15.877
         ],
         "z": [
          342873.3125,
          342873.3125
         ]
        },
        {
         "hovertemplate": "labels=T1749_T5018.1<br>m/z=%{x}<br>rt=%{y}<br>intensity=%{z}<extra></extra>",
         "legendgroup": "T1749_T5018.1",
         "marker": {
          "color": "#FECB52",
          "symbol": "circle"
         },
         "mode": "markers",
         "name": "T1749_T5018.1",
         "scene": "scene",
         "showlegend": true,
         "type": "scatter3d",
         "x": [
          851.2368698275794,
          851.2368698275794
         ],
         "y": [
          12.305,
          12.305
         ],
         "z": [
          400286.40625,
          400286.40625
         ]
        },
        {
         "hovertemplate": "labels=T1687_T5203.1<br>m/z=%{x}<br>rt=%{y}<br>intensity=%{z}<extra></extra>",
         "legendgroup": "T1687_T5203.1",
         "marker": {
          "color": "#636efa",
          "symbol": "circle"
         },
         "mode": "markers",
         "name": "T1687_T5203.1",
         "scene": "scene",
         "showlegend": true,
         "type": "scatter3d",
         "x": [
          851.2386393875748,
          851.2386393875748
         ],
         "y": [
          15.877,
          15.877
         ],
         "z": [
          437279.3125,
          437279.3125
         ]
        },
        {
         "hovertemplate": "labels=T1646.1_T5310<br>m/z=%{x}<br>rt=%{y}<br>intensity=%{z}<extra></extra>",
         "legendgroup": "T1646.1_T5310",
         "marker": {
          "color": "#EF553B",
          "symbol": "circle"
         },
         "mode": "markers",
         "name": "T1646.1_T5310",
         "scene": "scene",
         "showlegend": true,
         "type": "scatter3d",
         "x": [
          851.240668634411,
          851.240668634411
         ],
         "y": [
          12.305,
          12.305
         ],
         "z": [
          423160.3125,
          423160.3125
         ]
        },
        {
         "hovertemplate": "labels=T1756.1_T5486.1<br>m/z=%{x}<br>rt=%{y}<br>intensity=%{z}<extra></extra>",
         "legendgroup": "T1756.1_T5486.1",
         "marker": {
          "color": "#00cc96",
          "symbol": "circle"
         },
         "mode": "markers",
         "name": "T1756.1_T5486.1",
         "scene": "scene",
         "showlegend": true,
         "type": "scatter3d",
         "x": [
          851.2429155350613,
          851.2429155350613
         ],
         "y": [
          12.305,
          12.305
         ],
         "z": [
          418284.5,
          418284.5
         ]
        },
        {
         "hovertemplate": "labels=T1753.1_T5760.1<br>m/z=%{x}<br>rt=%{y}<br>intensity=%{z}<extra></extra>",
         "legendgroup": "T1753.1_T5760.1",
         "marker": {
          "color": "#ab63fa",
          "symbol": "circle"
         },
         "mode": "markers",
         "name": "T1753.1_T5760.1",
         "scene": "scene",
         "showlegend": true,
         "type": "scatter3d",
         "x": [
          851.2460481290744,
          851.2460481290744
         ],
         "y": [
          18.02,
          18.02
         ],
         "z": [
          350146.90625,
          350146.90625
         ]
        },
        {
         "hovertemplate": "labels=T1914.1_T5379.1<br>m/z=%{x}<br>rt=%{y}<br>intensity=%{z}<extra></extra>",
         "legendgroup": "T1914.1_T5379.1",
         "marker": {
          "color": "#FFA15A",
          "symbol": "circle"
         },
         "mode": "markers",
         "name": "T1914.1_T5379.1",
         "scene": "scene",
         "showlegend": true,
         "type": "scatter3d",
         "x": [
          851.2483036197682,
          851.2483036197682
         ],
         "y": [
          18.02,
          18.02
         ],
         "z": [
          306979.59375,
          306979.59375
         ]
        },
        {
         "hovertemplate": "labels=T2221.1_T5834.1<br>m/z=%{x}<br>rt=%{y}<br>intensity=%{z}<extra></extra>",
         "legendgroup": "T2221.1_T5834.1",
         "marker": {
          "color": "#19d3f3",
          "symbol": "circle"
         },
         "mode": "markers",
         "name": "T2221.1_T5834.1",
         "scene": "scene",
         "showlegend": true,
         "type": "scatter3d",
         "x": [
          851.2505629847974,
          851.2505629847974
         ],
         "y": [
          18.02,
          18.02
         ],
         "z": [
          249180.703125,
          249180.703125
         ]
        },
        {
         "hovertemplate": "labels=T2456.1_T7066.1<br>m/z=%{x}<br>rt=%{y}<br>intensity=%{z}<extra></extra>",
         "legendgroup": "T2456.1_T7066.1",
         "marker": {
          "color": "#FF6692",
          "symbol": "circle"
         },
         "mode": "markers",
         "name": "T2456.1_T7066.1",
         "scene": "scene",
         "showlegend": true,
         "type": "scatter3d",
         "x": [
          851.2528514736206,
          851.2528514736206
         ],
         "y": [
          18.02,
          18.02
         ],
         "z": [
          185734.90625,
          185734.90625
         ]
        },
        {
         "hovertemplate": "labels=T3256.1_T8487.1<br>m/z=%{x}<br>rt=%{y}<br>intensity=%{z}<extra></extra>",
         "legendgroup": "T3256.1_T8487.1",
         "marker": {
          "color": "#B6E880",
          "symbol": "circle"
         },
         "mode": "markers",
         "name": "T3256.1_T8487.1",
         "scene": "scene",
         "showlegend": true,
         "type": "scatter3d",
         "x": [
          851.2551363888766,
          851.2551363888766
         ],
         "y": [
          18.02,
          18.02
         ],
         "z": [
          153586.796875,
          153586.796875
         ]
        },
        {
         "hovertemplate": "labels=T3626.1_T8858.1<br>m/z=%{x}<br>rt=%{y}<br>intensity=%{z}<extra></extra>",
         "legendgroup": "T3626.1_T8858.1",
         "marker": {
          "color": "#FF97FF",
          "symbol": "circle"
         },
         "mode": "markers",
         "name": "T3626.1_T8858.1",
         "scene": "scene",
         "showlegend": true,
         "type": "scatter3d",
         "x": [
          868.5483882158604,
          868.5483882158604
         ],
         "y": [
          15.877,
          15.877
         ],
         "z": [
          108526.296875,
          108526.296875
         ]
        },
        {
         "hovertemplate": "labels=T3260.1_T9411.1<br>m/z=%{x}<br>rt=%{y}<br>intensity=%{z}<extra></extra>",
         "legendgroup": "T3260.1_T9411.1",
         "marker": {
          "color": "#FECB52",
          "symbol": "circle"
         },
         "mode": "markers",
         "name": "T3260.1_T9411.1",
         "scene": "scene",
         "showlegend": true,
         "type": "scatter3d",
         "x": [
          868.5507350143879,
          868.5507350143879
         ],
         "y": [
          15.877,
          15.877
         ],
         "z": [
          129522.1015625,
          129522.1015625
         ]
        },
        {
         "hovertemplate": "labels=T3995_T9023<br>m/z=%{x}<br>rt=%{y}<br>intensity=%{z}<extra></extra>",
         "legendgroup": "T3995_T9023",
         "marker": {
          "color": "#636efa",
          "symbol": "circle"
         },
         "mode": "markers",
         "name": "T3995_T9023",
         "scene": "scene",
         "showlegend": true,
         "type": "scatter3d",
         "x": [
          868.552980348536,
          868.552980348536
         ],
         "y": [
          14.448,
          14.448
         ],
         "z": [
          161088.796875,
          161088.796875
         ]
        },
        {
         "hovertemplate": "labels=T4838_T8261<br>m/z=%{x}<br>rt=%{y}<br>intensity=%{z}<extra></extra>",
         "legendgroup": "T4838_T8261",
         "marker": {
          "color": "#EF553B",
          "symbol": "circle"
         },
         "mode": "markers",
         "name": "T4838_T8261",
         "scene": "scene",
         "showlegend": true,
         "type": "scatter3d",
         "x": [
          868.5553570015663,
          868.5553570015663
         ],
         "y": [
          13.019,
          13.019
         ],
         "z": [
          164902.5,
          164902.5
         ]
        },
        {
         "hovertemplate": "labels=T3978_T7732.1<br>m/z=%{x}<br>rt=%{y}<br>intensity=%{z}<extra></extra>",
         "legendgroup": "T3978_T7732.1",
         "marker": {
          "color": "#00cc96",
          "symbol": "circle"
         },
         "mode": "markers",
         "name": "T3978_T7732.1",
         "scene": "scene",
         "showlegend": true,
         "type": "scatter3d",
         "x": [
          868.5575312883572,
          868.5575312883572
         ],
         "y": [
          12.305,
          12.305
         ],
         "z": [
          159434.09375,
          159434.09375
         ]
        },
        {
         "hovertemplate": "labels=T3802_T7892<br>m/z=%{x}<br>rt=%{y}<br>intensity=%{z}<extra></extra>",
         "legendgroup": "T3802_T7892",
         "marker": {
          "color": "#ab63fa",
          "symbol": "circle"
         },
         "mode": "markers",
         "name": "T3802_T7892",
         "scene": "scene",
         "showlegend": true,
         "type": "scatter3d",
         "x": [
          868.5598088706033,
          868.5598088706033
         ],
         "y": [
          13.019,
          13.019
         ],
         "z": [
          151365.796875,
          151365.796875
         ]
        },
        {
         "hovertemplate": "labels=T3919_T6807<br>m/z=%{x}<br>rt=%{y}<br>intensity=%{z}<extra></extra>",
         "legendgroup": "T3919_T6807",
         "marker": {
          "color": "#FFA15A",
          "symbol": "circle"
         },
         "mode": "markers",
         "name": "T3919_T6807",
         "scene": "scene",
         "showlegend": true,
         "type": "scatter3d",
         "x": [
          868.5621468859274,
          868.5621468859274
         ],
         "y": [
          13.019,
          13.019
         ],
         "z": [
          133004,
          133004
         ]
        },
        {
         "hovertemplate": "labels=T4554.1_T6597<br>m/z=%{x}<br>rt=%{y}<br>intensity=%{z}<extra></extra>",
         "legendgroup": "T4554.1_T6597",
         "marker": {
          "color": "#19d3f3",
          "symbol": "circle"
         },
         "mode": "markers",
         "name": "T4554.1_T6597",
         "scene": "scene",
         "showlegend": true,
         "type": "scatter3d",
         "x": [
          868.5644674504847,
          868.5644674504847
         ],
         "y": [
          13.019,
          13.019
         ],
         "z": [
          116167,
          116167
         ]
        },
        {
         "hovertemplate": "labels=T5201.1_T7149.1<br>m/z=%{x}<br>rt=%{y}<br>intensity=%{z}<extra></extra>",
         "legendgroup": "T5201.1_T7149.1",
         "marker": {
          "color": "#FF6692",
          "symbol": "circle"
         },
         "mode": "markers",
         "name": "T5201.1_T7149.1",
         "scene": "scene",
         "showlegend": true,
         "type": "scatter3d",
         "x": [
          868.5667484906792,
          868.5667484906792
         ],
         "y": [
          14.448,
          14.448
         ],
         "z": [
          96778.5078125,
          96778.5078125
         ]
        },
        {
         "hovertemplate": "labels=T7954.1_T8577.1<br>m/z=%{x}<br>rt=%{y}<br>intensity=%{z}<extra></extra>",
         "legendgroup": "T7954.1_T8577.1",
         "marker": {
          "color": "#B6E880",
          "symbol": "circle"
         },
         "mode": "markers",
         "name": "T7954.1_T8577.1",
         "scene": "scene",
         "showlegend": true,
         "type": "scatter3d",
         "x": [
          873.1793560659261,
          873.1793560659261
         ],
         "y": [
          22.307,
          22.307
         ],
         "z": [
          135125.09375,
          135125.09375
         ]
        },
        {
         "hovertemplate": "labels=T518.1_T2328.1<br>m/z=%{x}<br>rt=%{y}<br>intensity=%{z}<extra></extra>",
         "legendgroup": "T518.1_T2328.1",
         "marker": {
          "color": "#FF97FF",
          "symbol": "circle"
         },
         "mode": "markers",
         "name": "T518.1_T2328.1",
         "scene": "scene",
         "showlegend": true,
         "type": "scatter3d",
         "x": [
          873.2062262793985,
          873.2062262793985
         ],
         "y": [
          10.162,
          10.162
         ],
         "z": [
          299769.90625,
          299769.90625
         ]
        },
        {
         "hovertemplate": "labels=T518.2_T2328.2<br>m/z=%{x}<br>rt=%{y}<br>intensity=%{z}<extra></extra>",
         "legendgroup": "T518.2_T2328.2",
         "marker": {
          "color": "#FECB52",
          "symbol": "circle"
         },
         "mode": "markers",
         "name": "T518.2_T2328.2",
         "scene": "scene",
         "showlegend": true,
         "type": "scatter3d",
         "x": [
          873.2065156341457,
          873.2065156341457
         ],
         "y": [
          21.593,
          21.593
         ],
         "z": [
          604096.625,
          604096.625
         ]
        },
        {
         "hovertemplate": "labels=T633.1_T2408.1<br>m/z=%{x}<br>rt=%{y}<br>intensity=%{z}<extra></extra>",
         "legendgroup": "T633.1_T2408.1",
         "marker": {
          "color": "#636efa",
          "symbol": "circle"
         },
         "mode": "markers",
         "name": "T633.1_T2408.1",
         "scene": "scene",
         "showlegend": true,
         "type": "scatter3d",
         "x": [
          873.2087434260437,
          873.2087434260437
         ],
         "y": [
          10.162,
          10.162
         ],
         "z": [
          287879.3125,
          287879.3125
         ]
        },
        {
         "hovertemplate": "labels=T633.2_T2408.2<br>m/z=%{x}<br>rt=%{y}<br>intensity=%{z}<extra></extra>",
         "legendgroup": "T633.2_T2408.2",
         "marker": {
          "color": "#EF553B",
          "symbol": "circle"
         },
         "mode": "markers",
         "name": "T633.2_T2408.2",
         "scene": "scene",
         "showlegend": true,
         "type": "scatter3d",
         "x": [
          873.2088029223996,
          873.2088029223996
         ],
         "y": [
          21.593,
          21.593
         ],
         "z": [
          563648.5,
          563648.5
         ]
        },
        {
         "hovertemplate": "labels=T869.1_T2924.1<br>m/z=%{x}<br>rt=%{y}<br>intensity=%{z}<extra></extra>",
         "legendgroup": "T869.1_T2924.1",
         "marker": {
          "color": "#00cc96",
          "symbol": "circle"
         },
         "mode": "markers",
         "name": "T869.1_T2924.1",
         "scene": "scene",
         "showlegend": true,
         "type": "scatter3d",
         "x": [
          873.2111661516552,
          873.2111661516552
         ],
         "y": [
          10.162,
          10.162
         ],
         "z": [
          235499.796875,
          235499.796875
         ]
        },
        {
         "hovertemplate": "labels=T805.2_T3318.2<br>m/z=%{x}<br>rt=%{y}<br>intensity=%{z}<extra></extra>",
         "legendgroup": "T805.2_T3318.2",
         "marker": {
          "color": "#ab63fa",
          "symbol": "circle"
         },
         "mode": "markers",
         "name": "T805.2_T3318.2",
         "scene": "scene",
         "showlegend": true,
         "type": "scatter3d",
         "x": [
          873.2139294689387,
          873.2139294689387
         ],
         "y": [
          19.449,
          19.449
         ],
         "z": [
          380288.59375,
          380288.59375
         ]
        },
        {
         "hovertemplate": "labels=T1071.2_T3724.2<br>m/z=%{x}<br>rt=%{y}<br>intensity=%{z}<extra></extra>",
         "legendgroup": "T1071.2_T3724.2",
         "marker": {
          "color": "#FFA15A",
          "symbol": "circle"
         },
         "mode": "markers",
         "name": "T1071.2_T3724.2",
         "scene": "scene",
         "showlegend": true,
         "type": "scatter3d",
         "x": [
          873.218522910041,
          873.218522910041
         ],
         "y": [
          18.735,
          18.735
         ],
         "z": [
          216533.09375,
          216533.09375
         ]
        },
        {
         "hovertemplate": "labels=T1616.1_T4377.1<br>m/z=%{x}<br>rt=%{y}<br>intensity=%{z}<extra></extra>",
         "legendgroup": "T1616.1_T4377.1",
         "marker": {
          "color": "#19d3f3",
          "symbol": "circle"
         },
         "mode": "markers",
         "name": "T1616.1_T4377.1",
         "scene": "scene",
         "showlegend": true,
         "type": "scatter3d",
         "x": [
          873.2207650943359,
          873.2207650943359
         ],
         "y": [
          10.162,
          10.162
         ],
         "z": [
          102677.3984375,
          102677.3984375
         ]
        },
        {
         "hovertemplate": "labels=T1616.2_T4377.2<br>m/z=%{x}<br>rt=%{y}<br>intensity=%{z}<extra></extra>",
         "legendgroup": "T1616.2_T4377.2",
         "marker": {
          "color": "#FF6692",
          "symbol": "circle"
         },
         "mode": "markers",
         "name": "T1616.2_T4377.2",
         "scene": "scene",
         "showlegend": true,
         "type": "scatter3d",
         "x": [
          873.2208235759532,
          873.2208235759532
         ],
         "y": [
          18.735,
          18.735
         ],
         "z": [
          177998.40625,
          177998.40625
         ]
        },
        {
         "hovertemplate": "labels=T2175.2_T6273.2<br>m/z=%{x}<br>rt=%{y}<br>intensity=%{z}<extra></extra>",
         "legendgroup": "T2175.2_T6273.2",
         "marker": {
          "color": "#B6E880",
          "symbol": "circle"
         },
         "mode": "markers",
         "name": "T2175.2_T6273.2",
         "scene": "scene",
         "showlegend": true,
         "type": "scatter3d",
         "x": [
          873.2231325768304,
          873.2231325768304
         ],
         "y": [
          18.735,
          18.735
         ],
         "z": [
          138130,
          138130
         ]
        },
        {
         "hovertemplate": "labels=T2971.2_T7792.2<br>m/z=%{x}<br>rt=%{y}<br>intensity=%{z}<extra></extra>",
         "legendgroup": "T2971.2_T7792.2",
         "marker": {
          "color": "#FF97FF",
          "symbol": "circle"
         },
         "mode": "markers",
         "name": "T2971.2_T7792.2",
         "scene": "scene",
         "showlegend": true,
         "type": "scatter3d",
         "x": [
          873.2254318539847,
          873.2254318539847
         ],
         "y": [
          18.735,
          18.735
         ],
         "z": [
          121822.1015625,
          121822.1015625
         ]
        },
        {
         "hovertemplate": "labels=T2036.1_T9328.1<br>m/z=%{x}<br>rt=%{y}<br>intensity=%{z}<extra></extra>",
         "legendgroup": "T2036.1_T9328.1",
         "marker": {
          "color": "#FECB52",
          "symbol": "circle"
         },
         "mode": "markers",
         "name": "T2036.1_T9328.1",
         "scene": "scene",
         "showlegend": true,
         "type": "scatter3d",
         "x": [
          874.2024277743428,
          874.2024277743428
         ],
         "y": [
          21.593,
          21.593
         ],
         "z": [
          420235,
          420235
         ]
        },
        {
         "hovertemplate": "labels=T2066.1_T9602.1<br>m/z=%{x}<br>rt=%{y}<br>intensity=%{z}<extra></extra>",
         "legendgroup": "T2066.1_T9602.1",
         "marker": {
          "color": "#636efa",
          "symbol": "circle"
         },
         "mode": "markers",
         "name": "T2066.1_T9602.1",
         "scene": "scene",
         "showlegend": true,
         "type": "scatter3d",
         "x": [
          874.2046899704171,
          874.2046899704171
         ],
         "y": [
          21.593,
          21.593
         ],
         "z": [
          435468.40625,
          435468.40625
         ]
        },
        {
         "hovertemplate": "labels=T2526.1_T8813_T3744.1<br>m/z=%{x}<br>rt=%{y}<br>intensity=%{z}<extra></extra>",
         "legendgroup": "T2526.1_T8813_T3744.1",
         "marker": {
          "color": "#EF553B",
          "symbol": "circle"
         },
         "mode": "markers",
         "name": "T2526.1_T8813_T3744.1",
         "scene": "scene",
         "showlegend": true,
         "type": "scatter3d",
         "x": [
          911.1772787557983,
          911.1772787557983,
          911.1772787557983
         ],
         "y": [
          15.877,
          15.877,
          15.877
         ],
         "z": [
          174211.59375,
          174211.59375,
          174211.59375
         ]
        },
        {
         "hovertemplate": "labels=T1846.1_T6639_T3435.1<br>m/z=%{x}<br>rt=%{y}<br>intensity=%{z}<extra></extra>",
         "legendgroup": "T1846.1_T6639_T3435.1",
         "marker": {
          "color": "#00cc96",
          "symbol": "circle"
         },
         "mode": "markers",
         "name": "T1846.1_T6639_T3435.1",
         "scene": "scene",
         "showlegend": true,
         "type": "scatter3d",
         "x": [
          911.1795554256132,
          911.1795554256132,
          911.1795554256132
         ],
         "y": [
          15.877,
          15.877,
          15.877
         ],
         "z": [
          219835.5,
          219835.5,
          219835.5
         ]
        },
        {
         "hovertemplate": "labels=T1397.1_T5787_T3247.1_T9394.1<br>m/z=%{x}<br>rt=%{y}<br>intensity=%{z}<extra></extra>",
         "legendgroup": "T1397.1_T5787_T3247.1_T9394.1",
         "marker": {
          "color": "#ab63fa",
          "symbol": "circle"
         },
         "mode": "markers",
         "name": "T1397.1_T5787_T3247.1_T9394.1",
         "scene": "scene",
         "showlegend": true,
         "type": "scatter3d",
         "x": [
          911.1818433433884,
          911.1818433433884,
          911.1818433433884,
          911.1818433433884
         ],
         "y": [
          15.877,
          15.877,
          15.877,
          15.877
         ],
         "z": [
          256465,
          256465,
          256465,
          256465
         ]
        },
        {
         "hovertemplate": "labels=T1028.1_T4710_T3158.1_T7503<br>m/z=%{x}<br>rt=%{y}<br>intensity=%{z}<extra></extra>",
         "legendgroup": "T1028.1_T4710_T3158.1_T7503",
         "marker": {
          "color": "#FFA15A",
          "symbol": "circle"
         },
         "mode": "markers",
         "name": "T1028.1_T4710_T3158.1_T7503",
         "scene": "scene",
         "showlegend": true,
         "type": "scatter3d",
         "x": [
          911.1843110736963,
          911.1843110736963,
          911.1843110736963,
          911.1843110736963
         ],
         "y": [
          15.877,
          15.877,
          15.877,
          15.877
         ],
         "z": [
          327645.40625,
          327645.40625,
          327645.40625,
          327645.40625
         ]
        },
        {
         "hovertemplate": "labels=T832.1_T4002.1_T2956_T8686.1<br>m/z=%{x}<br>rt=%{y}<br>intensity=%{z}<extra></extra>",
         "legendgroup": "T832.1_T4002.1_T2956_T8686.1",
         "marker": {
          "color": "#19d3f3",
          "symbol": "circle"
         },
         "mode": "markers",
         "name": "T832.1_T4002.1_T2956_T8686.1",
         "scene": "scene",
         "showlegend": true,
         "type": "scatter3d",
         "x": [
          911.1866702133939,
          911.1866702133939,
          911.1866702133939,
          911.1866702133939
         ],
         "y": [
          15.877,
          15.877,
          15.877,
          15.877
         ],
         "z": [
          392742,
          392742,
          392742,
          392742
         ]
        },
        {
         "hovertemplate": "labels=T725.1_T3165.1_T2992_T9580<br>m/z=%{x}<br>rt=%{y}<br>intensity=%{z}<extra></extra>",
         "legendgroup": "T725.1_T3165.1_T2992_T9580",
         "marker": {
          "color": "#FF6692",
          "symbol": "circle"
         },
         "mode": "markers",
         "name": "T725.1_T3165.1_T2992_T9580",
         "scene": "scene",
         "showlegend": true,
         "type": "scatter3d",
         "x": [
          911.1892297550253,
          911.1892297550253,
          911.1892297550253,
          911.1892297550253
         ],
         "y": [
          15.877,
          15.877,
          15.877,
          15.877
         ],
         "z": [
          505042.90625,
          505042.90625,
          505042.90625,
          505042.90625
         ]
        },
        {
         "hovertemplate": "labels=T799_T3329_T3048.1_T9022.1<br>m/z=%{x}<br>rt=%{y}<br>intensity=%{z}<extra></extra>",
         "legendgroup": "T799_T3329_T3048.1_T9022.1",
         "marker": {
          "color": "#B6E880",
          "symbol": "circle"
         },
         "mode": "markers",
         "name": "T799_T3329_T3048.1_T9022.1",
         "scene": "scene",
         "showlegend": true,
         "type": "scatter3d",
         "x": [
          911.1938238474386,
          911.1938238474386,
          911.1938238474386,
          911.1938238474386
         ],
         "y": [
          13.019,
          13.019,
          13.019,
          13.019
         ],
         "z": [
          627459,
          627459,
          627459,
          627459
         ]
        },
        {
         "hovertemplate": "labels=T744.1_T3277_T2828.1<br>m/z=%{x}<br>rt=%{y}<br>intensity=%{z}<extra></extra>",
         "legendgroup": "T744.1_T3277_T2828.1",
         "marker": {
          "color": "#FF97FF",
          "symbol": "circle"
         },
         "mode": "markers",
         "name": "T744.1_T3277_T2828.1",
         "scene": "scene",
         "showlegend": true,
         "type": "scatter3d",
         "x": [
          911.1960993591877,
          911.1960993591877,
          911.1960993591877
         ],
         "y": [
          12.305,
          12.305,
          12.305
         ],
         "z": [
          627872.375,
          627872.375,
          627872.375
         ]
        },
        {
         "hovertemplate": "labels=T829.1_T3105.1_T3022.1<br>m/z=%{x}<br>rt=%{y}<br>intensity=%{z}<extra></extra>",
         "legendgroup": "T829.1_T3105.1_T3022.1",
         "marker": {
          "color": "#FECB52",
          "symbol": "circle"
         },
         "mode": "markers",
         "name": "T829.1_T3105.1_T3022.1",
         "scene": "scene",
         "showlegend": true,
         "type": "scatter3d",
         "x": [
          911.1984592393994,
          911.1984592393994,
          911.1984592393994
         ],
         "y": [
          12.305,
          12.305,
          12.305
         ],
         "z": [
          580443.1875,
          580443.1875,
          580443.1875
         ]
        },
        {
         "hovertemplate": "labels=T865.1_T3073.1_T3970.1<br>m/z=%{x}<br>rt=%{y}<br>intensity=%{z}<extra></extra>",
         "legendgroup": "T865.1_T3073.1_T3970.1",
         "marker": {
          "color": "#636efa",
          "symbol": "circle"
         },
         "mode": "markers",
         "name": "T865.1_T3073.1_T3970.1",
         "scene": "scene",
         "showlegend": true,
         "type": "scatter3d",
         "x": [
          911.2008222151622,
          911.2008222151622,
          911.2008222151622
         ],
         "y": [
          13.019,
          13.019,
          13.019
         ],
         "z": [
          505958.09375,
          505958.09375,
          505958.09375
         ]
        },
        {
         "hovertemplate": "labels=T968.1_T3402.1_T4735.1<br>m/z=%{x}<br>rt=%{y}<br>intensity=%{z}<extra></extra>",
         "legendgroup": "T968.1_T3402.1_T4735.1",
         "marker": {
          "color": "#EF553B",
          "symbol": "circle"
         },
         "mode": "markers",
         "name": "T968.1_T3402.1_T4735.1",
         "scene": "scene",
         "showlegend": true,
         "type": "scatter3d",
         "x": [
          911.2031872434902,
          911.2031872434902,
          911.2031872434902
         ],
         "y": [
          18.02,
          18.02,
          18.02
         ],
         "z": [
          418019.90625,
          418019.90625,
          418019.90625
         ]
        },
        {
         "hovertemplate": "labels=T1185.1_T3476.1_T5302.1<br>m/z=%{x}<br>rt=%{y}<br>intensity=%{z}<extra></extra>",
         "legendgroup": "T1185.1_T3476.1_T5302.1",
         "marker": {
          "color": "#00cc96",
          "symbol": "circle"
         },
         "mode": "markers",
         "name": "T1185.1_T3476.1_T5302.1",
         "scene": "scene",
         "showlegend": true,
         "type": "scatter3d",
         "x": [
          911.2055310738525,
          911.2055310738525,
          911.2055310738525
         ],
         "y": [
          18.02,
          18.02,
          18.02
         ],
         "z": [
          345405.59375,
          345405.59375,
          345405.59375
         ]
        },
        {
         "hovertemplate": "labels=T1530.1_T3827.1_T5596.1<br>m/z=%{x}<br>rt=%{y}<br>intensity=%{z}<extra></extra>",
         "legendgroup": "T1530.1_T3827.1_T5596.1",
         "marker": {
          "color": "#ab63fa",
          "symbol": "circle"
         },
         "mode": "markers",
         "name": "T1530.1_T3827.1_T5596.1",
         "scene": "scene",
         "showlegend": true,
         "type": "scatter3d",
         "x": [
          911.2078943353238,
          911.2078943353238,
          911.2078943353238
         ],
         "y": [
          18.02,
          18.02,
          18.02
         ],
         "z": [
          284427.1875,
          284427.1875,
          284427.1875
         ]
        },
        {
         "hovertemplate": "labels=T2012.1_T4762.1_T7424.1<br>m/z=%{x}<br>rt=%{y}<br>intensity=%{z}<extra></extra>",
         "legendgroup": "T2012.1_T4762.1_T7424.1",
         "marker": {
          "color": "#FFA15A",
          "symbol": "circle"
         },
         "mode": "markers",
         "name": "T2012.1_T4762.1_T7424.1",
         "scene": "scene",
         "showlegend": true,
         "type": "scatter3d",
         "x": [
          911.2102416327995,
          911.2102416327995,
          911.2102416327995
         ],
         "y": [
          18.02,
          18.02,
          18.02
         ],
         "z": [
          240103.90625,
          240103.90625,
          240103.90625
         ]
        },
        {
         "hovertemplate": "labels=T2982.1_T6076.1_T9977.1<br>m/z=%{x}<br>rt=%{y}<br>intensity=%{z}<extra></extra>",
         "legendgroup": "T2982.1_T6076.1_T9977.1",
         "marker": {
          "color": "#19d3f3",
          "symbol": "circle"
         },
         "mode": "markers",
         "name": "T2982.1_T6076.1_T9977.1",
         "scene": "scene",
         "showlegend": true,
         "type": "scatter3d",
         "x": [
          911.2125953056737,
          911.2125953056737,
          911.2125953056737
         ],
         "y": [
          18.02,
          18.02,
          18.02
         ],
         "z": [
          190373.40625,
          190373.40625,
          190373.40625
         ]
        },
        {
         "hovertemplate": "labels=T3677.1_T6136.1<br>m/z=%{x}<br>rt=%{y}<br>intensity=%{z}<extra></extra>",
         "legendgroup": "T3677.1_T6136.1",
         "marker": {
          "color": "#FF6692",
          "symbol": "circle"
         },
         "mode": "markers",
         "name": "T3677.1_T6136.1",
         "scene": "scene",
         "showlegend": true,
         "type": "scatter3d",
         "x": [
          911.2149584443066,
          911.2149584443066
         ],
         "y": [
          18.02,
          18.02
         ],
         "z": [
          157936.796875,
          157936.796875
         ]
        },
        {
         "hovertemplate": "labels=T4604.1_T7078.1<br>m/z=%{x}<br>rt=%{y}<br>intensity=%{z}<extra></extra>",
         "legendgroup": "T4604.1_T7078.1",
         "marker": {
          "color": "#B6E880",
          "symbol": "circle"
         },
         "mode": "markers",
         "name": "T4604.1_T7078.1",
         "scene": "scene",
         "showlegend": true,
         "type": "scatter3d",
         "x": [
          911.217304886647,
          911.217304886647
         ],
         "y": [
          18.02,
          18.02
         ],
         "z": [
          133130,
          133130
         ]
        },
        {
         "hovertemplate": "labels=T5078.1_T8910.1<br>m/z=%{x}<br>rt=%{y}<br>intensity=%{z}<extra></extra>",
         "legendgroup": "T5078.1_T8910.1",
         "marker": {
          "color": "#FF97FF",
          "symbol": "circle"
         },
         "mode": "markers",
         "name": "T5078.1_T8910.1",
         "scene": "scene",
         "showlegend": true,
         "type": "scatter3d",
         "x": [
          911.2196773224941,
          911.2196773224941
         ],
         "y": [
          18.02,
          18.02
         ],
         "z": [
          109062.796875,
          109062.796875
         ]
        },
        {
         "hovertemplate": "labels=T3228.1_T2906_T9266.1<br>m/z=%{x}<br>rt=%{y}<br>intensity=%{z}<extra></extra>",
         "legendgroup": "T3228.1_T2906_T9266.1",
         "marker": {
          "color": "#FECB52",
          "symbol": "circle"
         },
         "mode": "markers",
         "name": "T3228.1_T2906_T9266.1",
         "scene": "scene",
         "showlegend": true,
         "type": "scatter3d",
         "x": [
          912.1923318410956,
          912.1923318410956,
          912.1923318410956
         ],
         "y": [
          15.877,
          15.877,
          15.877
         ],
         "z": [
          171435.703125,
          171435.703125,
          171435.703125
         ]
        },
        {
         "hovertemplate": "labels=T2786.1_T8621<br>m/z=%{x}<br>rt=%{y}<br>intensity=%{z}<extra></extra>",
         "legendgroup": "T2786.1_T8621",
         "marker": {
          "color": "#636efa",
          "symbol": "circle"
         },
         "mode": "markers",
         "name": "T2786.1_T8621",
         "scene": "scene",
         "showlegend": true,
         "type": "scatter3d",
         "x": [
          915.2429782721148,
          915.2429782721148
         ],
         "y": [
          15.163,
          15.163
         ],
         "z": [
          172688.59375,
          172688.59375
         ]
        },
        {
         "hovertemplate": "labels=T2658.1_T7461<br>m/z=%{x}<br>rt=%{y}<br>intensity=%{z}<extra></extra>",
         "legendgroup": "T2658.1_T7461",
         "marker": {
          "color": "#EF553B",
          "symbol": "circle"
         },
         "mode": "markers",
         "name": "T2658.1_T7461",
         "scene": "scene",
         "showlegend": true,
         "type": "scatter3d",
         "x": [
          915.2453088892539,
          915.2453088892539
         ],
         "y": [
          15.877,
          15.877
         ],
         "z": [
          206020.5,
          206020.5
         ]
        },
        {
         "hovertemplate": "labels=T2383.1_T7092.1<br>m/z=%{x}<br>rt=%{y}<br>intensity=%{z}<extra></extra>",
         "legendgroup": "T2383.1_T7092.1",
         "marker": {
          "color": "#00cc96",
          "symbol": "circle"
         },
         "mode": "markers",
         "name": "T2383.1_T7092.1",
         "scene": "scene",
         "showlegend": true,
         "type": "scatter3d",
         "x": [
          915.2480715269253,
          915.2480715269253
         ],
         "y": [
          12.305,
          12.305
         ],
         "z": [
          293780.3125,
          293780.3125
         ]
        },
        {
         "hovertemplate": "labels=T2475.1_T7625.1<br>m/z=%{x}<br>rt=%{y}<br>intensity=%{z}<extra></extra>",
         "legendgroup": "T2475.1_T7625.1",
         "marker": {
          "color": "#ab63fa",
          "symbol": "circle"
         },
         "mode": "markers",
         "name": "T2475.1_T7625.1",
         "scene": "scene",
         "showlegend": true,
         "type": "scatter3d",
         "x": [
          915.2503867902753,
          915.2503867902753
         ],
         "y": [
          12.305,
          12.305
         ],
         "z": [
          330989.3125,
          330989.3125
         ]
        },
        {
         "hovertemplate": "labels=T2528_T6718.1<br>m/z=%{x}<br>rt=%{y}<br>intensity=%{z}<extra></extra>",
         "legendgroup": "T2528_T6718.1",
         "marker": {
          "color": "#FFA15A",
          "symbol": "circle"
         },
         "mode": "markers",
         "name": "T2528_T6718.1",
         "scene": "scene",
         "showlegend": true,
         "type": "scatter3d",
         "x": [
          915.2525432034365,
          915.2525432034365
         ],
         "y": [
          13.019,
          13.019
         ],
         "z": [
          320705.09375,
          320705.09375
         ]
        },
        {
         "hovertemplate": "labels=T2641.1_T6739.1<br>m/z=%{x}<br>rt=%{y}<br>intensity=%{z}<extra></extra>",
         "legendgroup": "T2641.1_T6739.1",
         "marker": {
          "color": "#19d3f3",
          "symbol": "circle"
         },
         "mode": "markers",
         "name": "T2641.1_T6739.1",
         "scene": "scene",
         "showlegend": true,
         "type": "scatter3d",
         "x": [
          915.2558424105998,
          915.2558424105998
         ],
         "y": [
          17.306,
          17.306
         ],
         "z": [
          302548.40625,
          302548.40625
         ]
        },
        {
         "hovertemplate": "labels=T2683.1_T6715.1<br>m/z=%{x}<br>rt=%{y}<br>intensity=%{z}<extra></extra>",
         "legendgroup": "T2683.1_T6715.1",
         "marker": {
          "color": "#FF6692",
          "symbol": "circle"
         },
         "mode": "markers",
         "name": "T2683.1_T6715.1",
         "scene": "scene",
         "showlegend": true,
         "type": "scatter3d",
         "x": [
          915.2580491609726,
          915.2580491609726
         ],
         "y": [
          18.02,
          18.02
         ],
         "z": [
          265466.8125,
          265466.8125
         ]
        },
        {
         "hovertemplate": "labels=T2795.1_T7494.1<br>m/z=%{x}<br>rt=%{y}<br>intensity=%{z}<extra></extra>",
         "legendgroup": "T2795.1_T7494.1",
         "marker": {
          "color": "#B6E880",
          "symbol": "circle"
         },
         "mode": "markers",
         "name": "T2795.1_T7494.1",
         "scene": "scene",
         "showlegend": true,
         "type": "scatter3d",
         "x": [
          915.259906425873,
          915.259906425873
         ],
         "y": [
          18.02,
          18.02
         ],
         "z": [
          253476.90625,
          253476.90625
         ]
        },
        {
         "hovertemplate": "labels=T2960.1_T7399.1<br>m/z=%{x}<br>rt=%{y}<br>intensity=%{z}<extra></extra>",
         "legendgroup": "T2960.1_T7399.1",
         "marker": {
          "color": "#FF97FF",
          "symbol": "circle"
         },
         "mode": "markers",
         "name": "T2960.1_T7399.1",
         "scene": "scene",
         "showlegend": true,
         "type": "scatter3d",
         "x": [
          915.2619872367234,
          915.2619872367234
         ],
         "y": [
          18.02,
          18.02
         ],
         "z": [
          213690.59375,
          213690.59375
         ]
        },
        {
         "hovertemplate": "labels=T3479.1_T8704.1<br>m/z=%{x}<br>rt=%{y}<br>intensity=%{z}<extra></extra>",
         "legendgroup": "T3479.1_T8704.1",
         "marker": {
          "color": "#FECB52",
          "symbol": "circle"
         },
         "mode": "markers",
         "name": "T3479.1_T8704.1",
         "scene": "scene",
         "showlegend": true,
         "type": "scatter3d",
         "x": [
          915.2643610776196,
          915.2643610776196
         ],
         "y": [
          18.02,
          18.02
         ],
         "z": [
          173555.703125,
          173555.703125
         ]
        },
        {
         "hovertemplate": "labels=T4941.2_T7845.1<br>m/z=%{x}<br>rt=%{y}<br>intensity=%{z}<extra></extra>",
         "legendgroup": "T4941.2_T7845.1",
         "marker": {
          "color": "#636efa",
          "symbol": "circle"
         },
         "mode": "markers",
         "name": "T4941.2_T7845.1",
         "scene": "scene",
         "showlegend": true,
         "type": "scatter3d",
         "x": [
          937.1965624670283,
          937.1965624670283
         ],
         "y": [
          15.877,
          15.877
         ],
         "z": [
          100673.203125,
          100673.203125
         ]
        },
        {
         "hovertemplate": "labels=T798.1_T2640.1<br>m/z=%{x}<br>rt=%{y}<br>intensity=%{z}<extra></extra>",
         "legendgroup": "T798.1_T2640.1",
         "marker": {
          "color": "#EF553B",
          "symbol": "circle"
         },
         "mode": "markers",
         "name": "T798.1_T2640.1",
         "scene": "scene",
         "showlegend": true,
         "type": "scatter3d",
         "x": [
          937.2180999912421,
          937.2180999912421
         ],
         "y": [
          10.162,
          10.162
         ],
         "z": [
          205815.09375,
          205815.09375
         ]
        },
        {
         "hovertemplate": "labels=T974.1_T2800.1<br>m/z=%{x}<br>rt=%{y}<br>intensity=%{z}<extra></extra>",
         "legendgroup": "T974.1_T2800.1",
         "marker": {
          "color": "#00cc96",
          "symbol": "circle"
         },
         "mode": "markers",
         "name": "T974.1_T2800.1",
         "scene": "scene",
         "showlegend": true,
         "type": "scatter3d",
         "x": [
          937.2205230046849,
          937.2205230046849
         ],
         "y": [
          10.162,
          10.162
         ],
         "z": [
          199143,
          199143
         ]
        },
        {
         "hovertemplate": "labels=T1335.2_T3628.2<br>m/z=%{x}<br>rt=%{y}<br>intensity=%{z}<extra></extra>",
         "legendgroup": "T1335.2_T3628.2",
         "marker": {
          "color": "#ab63fa",
          "symbol": "circle"
         },
         "mode": "markers",
         "name": "T1335.2_T3628.2",
         "scene": "scene",
         "showlegend": true,
         "type": "scatter3d",
         "x": [
          937.2232718758211,
          937.2232718758211
         ],
         "y": [
          19.449,
          19.449
         ],
         "z": [
          374125.40625,
          374125.40625
         ]
        },
        {
         "hovertemplate": "labels=T1358.2_T3723.2<br>m/z=%{x}<br>rt=%{y}<br>intensity=%{z}<extra></extra>",
         "legendgroup": "T1358.2_T3723.2",
         "marker": {
          "color": "#FFA15A",
          "symbol": "circle"
         },
         "mode": "markers",
         "name": "T1358.2_T3723.2",
         "scene": "scene",
         "showlegend": true,
         "type": "scatter3d",
         "x": [
          937.228473842953,
          937.228473842953
         ],
         "y": [
          19.449,
          19.449
         ],
         "z": [
          241477,
          241477
         ]
        },
        {
         "hovertemplate": "labels=T1581.2_T5301.2<br>m/z=%{x}<br>rt=%{y}<br>intensity=%{z}<extra></extra>",
         "legendgroup": "T1581.2_T5301.2",
         "marker": {
          "color": "#19d3f3",
          "symbol": "circle"
         },
         "mode": "markers",
         "name": "T1581.2_T5301.2",
         "scene": "scene",
         "showlegend": true,
         "type": "scatter3d",
         "x": [
          937.2308470654358,
          937.2308470654358
         ],
         "y": [
          18.735,
          18.735
         ],
         "z": [
          189631.40625,
          189631.40625
         ]
        },
        {
         "hovertemplate": "labels=T2942.2_T6439.2<br>m/z=%{x}<br>rt=%{y}<br>intensity=%{z}<extra></extra>",
         "legendgroup": "T2942.2_T6439.2",
         "marker": {
          "color": "#FF6692",
          "symbol": "circle"
         },
         "mode": "markers",
         "name": "T2942.2_T6439.2",
         "scene": "scene",
         "showlegend": true,
         "type": "scatter3d",
         "x": [
          937.2356258148393,
          937.2356258148393
         ],
         "y": [
          18.735,
          18.735
         ],
         "z": [
          123889.203125,
          123889.203125
         ]
        },
        {
         "hovertemplate": "labels=T3672.2_T7187.2<br>m/z=%{x}<br>rt=%{y}<br>intensity=%{z}<extra></extra>",
         "legendgroup": "T3672.2_T7187.2",
         "marker": {
          "color": "#B6E880",
          "symbol": "circle"
         },
         "mode": "markers",
         "name": "T3672.2_T7187.2",
         "scene": "scene",
         "showlegend": true,
         "type": "scatter3d",
         "x": [
          937.2380266813476,
          937.2380266813476
         ],
         "y": [
          18.02,
          18.02
         ],
         "z": [
          97663.7109375,
          97663.7109375
         ]
        },
        {
         "hovertemplate": "labels=T7197.1_T9863.1<br>m/z=%{x}<br>rt=%{y}<br>intensity=%{z}<extra></extra>",
         "legendgroup": "T7197.1_T9863.1",
         "marker": {
          "color": "#FF97FF",
          "symbol": "circle"
         },
         "mode": "markers",
         "name": "T7197.1_T9863.1",
         "scene": "scene",
         "showlegend": true,
         "type": "scatter3d",
         "x": [
          937.24514454248,
          937.24514454248
         ],
         "y": [
          9.447,
          9.447
         ],
         "z": [
          105641.296875,
          105641.296875
         ]
        },
        {
         "hovertemplate": "labels=T2381.1_T8264.1<br>m/z=%{x}<br>rt=%{y}<br>intensity=%{z}<extra></extra>",
         "legendgroup": "T2381.1_T8264.1",
         "marker": {
          "color": "#FECB52",
          "symbol": "circle"
         },
         "mode": "markers",
         "name": "T2381.1_T8264.1",
         "scene": "scene",
         "showlegend": true,
         "type": "scatter3d",
         "x": [
          955.9412943452734,
          955.9412943452734
         ],
         "y": [
          5.161,
          5.161
         ],
         "z": [
          670588.375,
          670588.375
         ]
        },
        {
         "hovertemplate": "labels=T2137.1_T6622.1_T4805.1_T7838.1<br>m/z=%{x}<br>rt=%{y}<br>intensity=%{z}<extra></extra>",
         "legendgroup": "T2137.1_T6622.1_T4805.1_T7838.1",
         "marker": {
          "color": "#636efa",
          "symbol": "circle"
         },
         "mode": "markers",
         "name": "T2137.1_T6622.1_T4805.1_T7838.1",
         "scene": "scene",
         "showlegend": true,
         "type": "scatter3d",
         "x": [
          955.9448612993785,
          955.9448612993785,
          955.9448612993785,
          955.9448612993785
         ],
         "y": [
          15.877,
          15.877,
          15.877,
          15.877
         ],
         "z": [
          738839.625,
          738839.625,
          738839.625,
          738839.625
         ]
        },
        {
         "hovertemplate": "labels=T523.2_T3179.2_T745.2<br>m/z=%{x}<br>rt=%{y}<br>intensity=%{z}<extra></extra>",
         "legendgroup": "T523.2_T3179.2_T745.2",
         "marker": {
          "color": "#EF553B",
          "symbol": "circle"
         },
         "mode": "markers",
         "name": "T523.2_T3179.2_T745.2",
         "scene": "scene",
         "showlegend": true,
         "type": "scatter3d",
         "x": [
          955.9553108435924,
          955.9553108435924,
          955.9553108435924
         ],
         "y": [
          23.021,
          23.021,
          23.021
         ],
         "z": [
          567416.625,
          567416.625,
          567416.625
         ]
        },
        {
         "hovertemplate": "labels=T324.1_T2185.2_T1085.2<br>m/z=%{x}<br>rt=%{y}<br>intensity=%{z}<extra></extra>",
         "legendgroup": "T324.1_T2185.2_T1085.2",
         "marker": {
          "color": "#00cc96",
          "symbol": "circle"
         },
         "mode": "markers",
         "name": "T324.1_T2185.2_T1085.2",
         "scene": "scene",
         "showlegend": true,
         "type": "scatter3d",
         "x": [
          955.9575269237927,
          955.9575269237927,
          955.9575269237927
         ],
         "y": [
          15.877,
          15.877,
          15.877
         ],
         "z": [
          595844.6875,
          595844.6875,
          595844.6875
         ]
        },
        {
         "hovertemplate": "labels=T236.3_T1584.2_T489.2_T6474.2<br>m/z=%{x}<br>rt=%{y}<br>intensity=%{z}<extra></extra>",
         "legendgroup": "T236.3_T1584.2_T489.2_T6474.2",
         "marker": {
          "color": "#ab63fa",
          "symbol": "circle"
         },
         "mode": "markers",
         "name": "T236.3_T1584.2_T489.2_T6474.2",
         "scene": "scene",
         "showlegend": true,
         "type": "scatter3d",
         "x": [
          955.960139104252,
          955.960139104252,
          955.960139104252,
          955.960139104252
         ],
         "y": [
          23.021,
          23.021,
          23.021,
          23.021
         ],
         "z": [
          1006047,
          1006047,
          1006047,
          1006047
         ]
        },
        {
         "hovertemplate": "labels=T140.1_T1083.1_T779.1_T4547.1<br>m/z=%{x}<br>rt=%{y}<br>intensity=%{z}<extra></extra>",
         "legendgroup": "T140.1_T1083.1_T779.1_T4547.1",
         "marker": {
          "color": "#FFA15A",
          "symbol": "circle"
         },
         "mode": "markers",
         "name": "T140.1_T1083.1_T779.1_T4547.1",
         "scene": "scene",
         "showlegend": true,
         "type": "scatter3d",
         "x": [
          955.9826857266204,
          955.9826857266204,
          955.9826857266204,
          955.9826857266204
         ],
         "y": [
          17.306,
          17.306,
          17.306,
          17.306
         ],
         "z": [
          4323667,
          4323667,
          4323667,
          4323667
         ]
        },
        {
         "hovertemplate": "labels=T305.1_T1608.1_T2212.1_T6443.1<br>m/z=%{x}<br>rt=%{y}<br>intensity=%{z}<extra></extra>",
         "legendgroup": "T305.1_T1608.1_T2212.1_T6443.1",
         "marker": {
          "color": "#19d3f3",
          "symbol": "circle"
         },
         "mode": "markers",
         "name": "T305.1_T1608.1_T2212.1_T6443.1",
         "scene": "scene",
         "showlegend": true,
         "type": "scatter3d",
         "x": [
          955.9896444316307,
          955.9896444316307,
          955.9896444316307,
          955.9896444316307
         ],
         "y": [
          18.02,
          18.02,
          18.02,
          18.02
         ],
         "z": [
          1828887,
          1828887,
          1828887,
          1828887
         ]
        },
        {
         "hovertemplate": "labels=T4398.1_T9744.1_T8594.1<br>m/z=%{x}<br>rt=%{y}<br>intensity=%{z}<extra></extra>",
         "legendgroup": "T4398.1_T9744.1_T8594.1",
         "marker": {
          "color": "#FF6692",
          "symbol": "circle"
         },
         "mode": "markers",
         "name": "T4398.1_T9744.1_T8594.1",
         "scene": "scene",
         "showlegend": true,
         "type": "scatter3d",
         "x": [
          956.0112902271843,
          956.0112902271843,
          956.0112902271843
         ],
         "y": [
          8.733,
          8.733,
          8.733
         ],
         "z": [
          273466.90625,
          273466.90625,
          273466.90625
         ]
        },
        {
         "hovertemplate": "labels=T4090.2_T1356.1<br>m/z=%{x}<br>rt=%{y}<br>intensity=%{z}<extra></extra>",
         "legendgroup": "T4090.2_T1356.1",
         "marker": {
          "color": "#B6E880",
          "symbol": "circle"
         },
         "mode": "markers",
         "name": "T4090.2_T1356.1",
         "scene": "scene",
         "showlegend": true,
         "type": "scatter3d",
         "x": [
          956.9536431676114,
          956.9536431676114
         ],
         "y": [
          15.877,
          15.877
         ],
         "z": [
          86707.5234375,
          86707.5234375
         ]
        },
        {
         "hovertemplate": "labels=T809.1_T622.1_T3520.1<br>m/z=%{x}<br>rt=%{y}<br>intensity=%{z}<extra></extra>",
         "legendgroup": "T809.1_T622.1_T3520.1",
         "marker": {
          "color": "#FF97FF",
          "symbol": "circle"
         },
         "mode": "markers",
         "name": "T809.1_T622.1_T3520.1",
         "scene": "scene",
         "showlegend": true,
         "type": "scatter3d",
         "x": [
          956.9786603699215,
          956.9786603699215,
          956.9786603699215
         ],
         "y": [
          26.594,
          26.594,
          26.594
         ],
         "z": [
          1664440,
          1664440,
          1664440
         ]
        },
        {
         "hovertemplate": "labels=T976.1_T1052.1_T4429.1<br>m/z=%{x}<br>rt=%{y}<br>intensity=%{z}<extra></extra>",
         "legendgroup": "T976.1_T1052.1_T4429.1",
         "marker": {
          "color": "#FECB52",
          "symbol": "circle"
         },
         "mode": "markers",
         "name": "T976.1_T1052.1_T4429.1",
         "scene": "scene",
         "showlegend": true,
         "type": "scatter3d",
         "x": [
          956.9830709222914,
          956.9830709222914,
          956.9830709222914
         ],
         "y": [
          27.308,
          27.308,
          27.308
         ],
         "z": [
          1303321,
          1303321,
          1303321
         ]
        },
        {
         "hovertemplate": "labels=T1186.1_T1439.1<br>m/z=%{x}<br>rt=%{y}<br>intensity=%{z}<extra></extra>",
         "legendgroup": "T1186.1_T1439.1",
         "marker": {
          "color": "#636efa",
          "symbol": "circle"
         },
         "mode": "markers",
         "name": "T1186.1_T1439.1",
         "scene": "scene",
         "showlegend": true,
         "type": "scatter3d",
         "x": [
          956.9882918594773,
          956.9882918594773
         ],
         "y": [
          18.02,
          18.02
         ],
         "z": [
          825048.375,
          825048.375
         ]
        },
        {
         "hovertemplate": "labels=T2067.1_T2875.1_T8997.1<br>m/z=%{x}<br>rt=%{y}<br>intensity=%{z}<extra></extra>",
         "legendgroup": "T2067.1_T2875.1_T8997.1",
         "marker": {
          "color": "#EF553B",
          "symbol": "circle"
         },
         "mode": "markers",
         "name": "T2067.1_T2875.1_T8997.1",
         "scene": "scene",
         "showlegend": true,
         "type": "scatter3d",
         "x": [
          956.9931220676357,
          956.9931220676357,
          956.9931220676357
         ],
         "y": [
          18.02,
          18.02,
          18.02
         ],
         "z": [
          534440.875,
          534440.875,
          534440.875
         ]
        },
        {
         "hovertemplate": "labels=T3860.1_T3631.1<br>m/z=%{x}<br>rt=%{y}<br>intensity=%{z}<extra></extra>",
         "legendgroup": "T3860.1_T3631.1",
         "marker": {
          "color": "#00cc96",
          "symbol": "circle"
         },
         "mode": "markers",
         "name": "T3860.1_T3631.1",
         "scene": "scene",
         "showlegend": true,
         "type": "scatter3d",
         "x": [
          956.997957873895,
          956.997957873895
         ],
         "y": [
          18.02,
          18.02
         ],
         "z": [
          365944,
          365944
         ]
        },
        {
         "hovertemplate": "labels=T5012.1_T4434.1<br>m/z=%{x}<br>rt=%{y}<br>intensity=%{z}<extra></extra>",
         "legendgroup": "T5012.1_T4434.1",
         "marker": {
          "color": "#ab63fa",
          "symbol": "circle"
         },
         "mode": "markers",
         "name": "T5012.1_T4434.1",
         "scene": "scene",
         "showlegend": true,
         "type": "scatter3d",
         "x": [
          957.0003623958789,
          957.0003623958789
         ],
         "y": [
          19.449,
          19.449
         ],
         "z": [
          310628.59375,
          310628.59375
         ]
        },
        {
         "hovertemplate": "labels=T5941.1_T5357.1<br>m/z=%{x}<br>rt=%{y}<br>intensity=%{z}<extra></extra>",
         "legendgroup": "T5941.1_T5357.1",
         "marker": {
          "color": "#FFA15A",
          "symbol": "circle"
         },
         "mode": "markers",
         "name": "T5941.1_T5357.1",
         "scene": "scene",
         "showlegend": true,
         "type": "scatter3d",
         "x": [
          957.0032536952133,
          957.0032536952133
         ],
         "y": [
          18.02,
          18.02
         ],
         "z": [
          250064.40625,
          250064.40625
         ]
        },
        {
         "hovertemplate": "labels=T6984.1_T6572.1<br>m/z=%{x}<br>rt=%{y}<br>intensity=%{z}<extra></extra>",
         "legendgroup": "T6984.1_T6572.1",
         "marker": {
          "color": "#19d3f3",
          "symbol": "circle"
         },
         "mode": "markers",
         "name": "T6984.1_T6572.1",
         "scene": "scene",
         "showlegend": true,
         "type": "scatter3d",
         "x": [
          957.0056644942408,
          957.0056644942408
         ],
         "y": [
          18.02,
          18.02
         ],
         "z": [
          204810.203125,
          204810.203125
         ]
        },
        {
         "hovertemplate": "labels=T417.1_T3032.1<br>m/z=%{x}<br>rt=%{y}<br>intensity=%{z}<extra></extra>",
         "legendgroup": "T417.1_T3032.1",
         "marker": {
          "color": "#FF6692",
          "symbol": "circle"
         },
         "mode": "markers",
         "name": "T417.1_T3032.1",
         "scene": "scene",
         "showlegend": true,
         "type": "scatter3d",
         "x": [
          957.9711664982959,
          957.9711664982959
         ],
         "y": [
          26.594,
          26.594
         ],
         "z": [
          2780216,
          2780216
         ]
        },
        {
         "hovertemplate": "labels=T500.1_T3147.1<br>m/z=%{x}<br>rt=%{y}<br>intensity=%{z}<extra></extra>",
         "legendgroup": "T500.1_T3147.1",
         "marker": {
          "color": "#B6E880",
          "symbol": "circle"
         },
         "mode": "markers",
         "name": "T500.1_T3147.1",
         "scene": "scene",
         "showlegend": true,
         "type": "scatter3d",
         "x": [
          957.9757980304329,
          957.9757980304329
         ],
         "y": [
          28.022,
          28.022
         ],
         "z": [
          2352965,
          2352965
         ]
        },
        {
         "hovertemplate": "labels=T2928_T8483_T5294<br>m/z=%{x}<br>rt=%{y}<br>intensity=%{z}<extra></extra>",
         "legendgroup": "T2928_T8483_T5294",
         "marker": {
          "color": "#FF97FF",
          "symbol": "circle"
         },
         "mode": "markers",
         "name": "T2928_T8483_T5294",
         "scene": "scene",
         "showlegend": true,
         "type": "scatter3d",
         "x": [
          975.1888262883382,
          975.1888262883382,
          975.1888262883382
         ],
         "y": [
          15.163,
          15.163,
          15.163
         ],
         "z": [
          114108.796875,
          114108.796875,
          114108.796875
         ]
        },
        {
         "hovertemplate": "labels=T2267.1_T6673.1_T4993<br>m/z=%{x}<br>rt=%{y}<br>intensity=%{z}<extra></extra>",
         "legendgroup": "T2267.1_T6673.1_T4993",
         "marker": {
          "color": "#FECB52",
          "symbol": "circle"
         },
         "mode": "markers",
         "name": "T2267.1_T6673.1_T4993",
         "scene": "scene",
         "showlegend": true,
         "type": "scatter3d",
         "x": [
          975.191562540305,
          975.191562540305,
          975.191562540305
         ],
         "y": [
          15.877,
          15.877,
          15.877
         ],
         "z": [
          144060.296875,
          144060.296875,
          144060.296875
         ]
        },
        {
         "hovertemplate": "labels=T1821.1_T5691_T4531<br>m/z=%{x}<br>rt=%{y}<br>intensity=%{z}<extra></extra>",
         "legendgroup": "T1821.1_T5691_T4531",
         "marker": {
          "color": "#636efa",
          "symbol": "circle"
         },
         "mode": "markers",
         "name": "T1821.1_T5691_T4531",
         "scene": "scene",
         "showlegend": true,
         "type": "scatter3d",
         "x": [
          975.1960956536697,
          975.1960956536697,
          975.1960956536697
         ],
         "y": [
          15.877,
          15.877,
          15.877
         ],
         "z": [
          219476.203125,
          219476.203125,
          219476.203125
         ]
        },
        {
         "hovertemplate": "labels=T1630.1_T4825_T4742.1<br>m/z=%{x}<br>rt=%{y}<br>intensity=%{z}<extra></extra>",
         "legendgroup": "T1630.1_T4825_T4742.1",
         "marker": {
          "color": "#EF553B",
          "symbol": "circle"
         },
         "mode": "markers",
         "name": "T1630.1_T4825_T4742.1",
         "scene": "scene",
         "showlegend": true,
         "type": "scatter3d",
         "x": [
          975.1985142578397,
          975.1985142578397,
          975.1985142578397
         ],
         "y": [
          15.877,
          15.877,
          15.877
         ],
         "z": [
          267507.90625,
          267507.90625,
          267507.90625
         ]
        },
        {
         "hovertemplate": "labels=T1527.1_T4906.1_T4653.1<br>m/z=%{x}<br>rt=%{y}<br>intensity=%{z}<extra></extra>",
         "legendgroup": "T1527.1_T4906.1_T4653.1",
         "marker": {
          "color": "#00cc96",
          "symbol": "circle"
         },
         "mode": "markers",
         "name": "T1527.1_T4906.1_T4653.1",
         "scene": "scene",
         "showlegend": true,
         "type": "scatter3d",
         "x": [
          975.2016381894626,
          975.2016381894626,
          975.2016381894626
         ],
         "y": [
          12.305,
          12.305,
          12.305
         ],
         "z": [
          341698.5,
          341698.5,
          341698.5
         ]
        },
        {
         "hovertemplate": "labels=T1457_T4747.1_T5187<br>m/z=%{x}<br>rt=%{y}<br>intensity=%{z}<extra></extra>",
         "legendgroup": "T1457_T4747.1_T5187",
         "marker": {
          "color": "#ab63fa",
          "symbol": "circle"
         },
         "mode": "markers",
         "name": "T1457_T4747.1_T5187",
         "scene": "scene",
         "showlegend": true,
         "type": "scatter3d",
         "x": [
          975.2041027178058,
          975.2041027178058,
          975.2041027178058
         ],
         "y": [
          12.305,
          12.305,
          12.305
         ],
         "z": [
          377161.09375,
          377161.09375,
          377161.09375
         ]
        },
        {
         "hovertemplate": "labels=T1440_T4821.1_T5043.1<br>m/z=%{x}<br>rt=%{y}<br>intensity=%{z}<extra></extra>",
         "legendgroup": "T1440_T4821.1_T5043.1",
         "marker": {
          "color": "#FFA15A",
          "symbol": "circle"
         },
         "mode": "markers",
         "name": "T1440_T4821.1_T5043.1",
         "scene": "scene",
         "showlegend": true,
         "type": "scatter3d",
         "x": [
          975.2065861179394,
          975.2065861179394,
          975.2065861179394
         ],
         "y": [
          13.019,
          13.019,
          13.019
         ],
         "z": [
          406908.59375,
          406908.59375,
          406908.59375
         ]
        },
        {
         "hovertemplate": "labels=T1436.1_T5042<br>m/z=%{x}<br>rt=%{y}<br>intensity=%{z}<extra></extra>",
         "legendgroup": "T1436.1_T5042",
         "marker": {
          "color": "#19d3f3",
          "symbol": "circle"
         },
         "mode": "markers",
         "name": "T1436.1_T5042",
         "scene": "scene",
         "showlegend": true,
         "type": "scatter3d",
         "x": [
          975.2089220641776,
          975.2089220641776
         ],
         "y": [
          12.305,
          12.305
         ],
         "z": [
          407983.90625,
          407983.90625
         ]
        },
        {
         "hovertemplate": "labels=T1522.1_T5292.1_T4911.1<br>m/z=%{x}<br>rt=%{y}<br>intensity=%{z}<extra></extra>",
         "legendgroup": "T1522.1_T5292.1_T4911.1",
         "marker": {
          "color": "#FF6692",
          "symbol": "circle"
         },
         "mode": "markers",
         "name": "T1522.1_T5292.1_T4911.1",
         "scene": "scene",
         "showlegend": true,
         "type": "scatter3d",
         "x": [
          975.2123735978786,
          975.2123735978786,
          975.2123735978786
         ],
         "y": [
          12.305,
          12.305,
          12.305
         ],
         "z": [
          350957.6875,
          350957.6875,
          350957.6875
         ]
        },
        {
         "hovertemplate": "labels=T1574.1_T4786.1_T5649.1<br>m/z=%{x}<br>rt=%{y}<br>intensity=%{z}<extra></extra>",
         "legendgroup": "T1574.1_T4786.1_T5649.1",
         "marker": {
          "color": "#B6E880",
          "symbol": "circle"
         },
         "mode": "markers",
         "name": "T1574.1_T4786.1_T5649.1",
         "scene": "scene",
         "showlegend": true,
         "type": "scatter3d",
         "x": [
          975.2147830312363,
          975.2147830312363,
          975.2147830312363
         ],
         "y": [
          13.019,
          13.019,
          13.019
         ],
         "z": [
          289916.3125,
          289916.3125,
          289916.3125
         ]
        },
        {
         "hovertemplate": "labels=T1740.1_T5755.1_T6564.1<br>m/z=%{x}<br>rt=%{y}<br>intensity=%{z}<extra></extra>",
         "legendgroup": "T1740.1_T5755.1_T6564.1",
         "marker": {
          "color": "#FF97FF",
          "symbol": "circle"
         },
         "mode": "markers",
         "name": "T1740.1_T5755.1_T6564.1",
         "scene": "scene",
         "showlegend": true,
         "type": "scatter3d",
         "x": [
          975.2171949816432,
          975.2171949816432,
          975.2171949816432
         ],
         "y": [
          18.02,
          18.02,
          18.02
         ],
         "z": [
          265015.1875,
          265015.1875,
          265015.1875
         ]
        },
        {
         "hovertemplate": "labels=T2011.1_T6885.1_T8036.1<br>m/z=%{x}<br>rt=%{y}<br>intensity=%{z}<extra></extra>",
         "legendgroup": "T2011.1_T6885.1_T8036.1",
         "marker": {
          "color": "#FECB52",
          "symbol": "circle"
         },
         "mode": "markers",
         "name": "T2011.1_T6885.1_T8036.1",
         "scene": "scene",
         "showlegend": true,
         "type": "scatter3d",
         "x": [
          975.2195867725277,
          975.2195867725277,
          975.2195867725277
         ],
         "y": [
          18.02,
          18.02,
          18.02
         ],
         "z": [
          210783,
          210783,
          210783
         ]
        },
        {
         "hovertemplate": "labels=T2375.1_T7743.1_T10127.1<br>m/z=%{x}<br>rt=%{y}<br>intensity=%{z}<extra></extra>",
         "legendgroup": "T2375.1_T7743.1_T10127.1",
         "marker": {
          "color": "#636efa",
          "symbol": "circle"
         },
         "mode": "markers",
         "name": "T2375.1_T7743.1_T10127.1",
         "scene": "scene",
         "showlegend": true,
         "type": "scatter3d",
         "x": [
          975.2220141841515,
          975.2220141841515,
          975.2220141841515
         ],
         "y": [
          13.019,
          13.019,
          13.019
         ],
         "z": [
          176009.40625,
          176009.40625,
          176009.40625
         ]
        },
        {
         "hovertemplate": "labels=T3286.1_T7790.1<br>m/z=%{x}<br>rt=%{y}<br>intensity=%{z}<extra></extra>",
         "legendgroup": "T3286.1_T7790.1",
         "marker": {
          "color": "#EF553B",
          "symbol": "circle"
         },
         "mode": "markers",
         "name": "T3286.1_T7790.1",
         "scene": "scene",
         "showlegend": true,
         "type": "scatter3d",
         "x": [
          975.2244626188118,
          975.2244626188118
         ],
         "y": [
          13.019,
          13.019
         ],
         "z": [
          142388.90625,
          142388.90625
         ]
        },
        {
         "hovertemplate": "labels=T3962.1_T9476.1<br>m/z=%{x}<br>rt=%{y}<br>intensity=%{z}<extra></extra>",
         "legendgroup": "T3962.1_T9476.1",
         "marker": {
          "color": "#00cc96",
          "symbol": "circle"
         },
         "mode": "markers",
         "name": "T3962.1_T9476.1",
         "scene": "scene",
         "showlegend": true,
         "type": "scatter3d",
         "x": [
          975.2268063624247,
          975.2268063624247
         ],
         "y": [
          18.02,
          18.02
         ],
         "z": [
          124715.8984375,
          124715.8984375
         ]
        },
        {
         "hovertemplate": "labels=T4479.1_T10095.1<br>m/z=%{x}<br>rt=%{y}<br>intensity=%{z}<extra></extra>",
         "legendgroup": "T4479.1_T10095.1",
         "marker": {
          "color": "#ab63fa",
          "symbol": "circle"
         },
         "mode": "markers",
         "name": "T4479.1_T10095.1",
         "scene": "scene",
         "showlegend": true,
         "type": "scatter3d",
         "x": [
          975.2293382052636,
          975.2293382052636
         ],
         "y": [
          18.02,
          18.02
         ],
         "z": [
          105295.703125,
          105295.703125
         ]
        },
        {
         "hovertemplate": "labels=T4404.1_T9848.1<br>m/z=%{x}<br>rt=%{y}<br>intensity=%{z}<extra></extra>",
         "legendgroup": "T4404.1_T9848.1",
         "marker": {
          "color": "#FFA15A",
          "symbol": "circle"
         },
         "mode": "markers",
         "name": "T4404.1_T9848.1",
         "scene": "scene",
         "showlegend": true,
         "type": "scatter3d",
         "x": [
          979.257710248396,
          979.257710248396
         ],
         "y": [
          15.163,
          15.163
         ],
         "z": [
          162100.796875,
          162100.796875
         ]
        },
        {
         "hovertemplate": "labels=T4269.1_T10144<br>m/z=%{x}<br>rt=%{y}<br>intensity=%{z}<extra></extra>",
         "legendgroup": "T4269.1_T10144",
         "marker": {
          "color": "#19d3f3",
          "symbol": "circle"
         },
         "mode": "markers",
         "name": "T4269.1_T10144",
         "scene": "scene",
         "showlegend": true,
         "type": "scatter3d",
         "x": [
          979.2599113146733,
          979.2599113146733
         ],
         "y": [
          15.877,
          15.877
         ],
         "z": [
          186956.40625,
          186956.40625
         ]
        },
        {
         "hovertemplate": "labels=T4147.1_T10031.1<br>m/z=%{x}<br>rt=%{y}<br>intensity=%{z}<extra></extra>",
         "legendgroup": "T4147.1_T10031.1",
         "marker": {
          "color": "#FF6692",
          "symbol": "circle"
         },
         "mode": "markers",
         "name": "T4147.1_T10031.1",
         "scene": "scene",
         "showlegend": true,
         "type": "scatter3d",
         "x": [
          979.2621543024355,
          979.2621543024355
         ],
         "y": [
          12.305,
          12.305
         ],
         "z": [
          205450.40625,
          205450.40625
         ]
        },
        {
         "hovertemplate": "labels=T3951.1_T9783<br>m/z=%{x}<br>rt=%{y}<br>intensity=%{z}<extra></extra>",
         "legendgroup": "T3951.1_T9783",
         "marker": {
          "color": "#B6E880",
          "symbol": "circle"
         },
         "mode": "markers",
         "name": "T3951.1_T9783",
         "scene": "scene",
         "showlegend": true,
         "type": "scatter3d",
         "x": [
          979.2646122226922,
          979.2646122226922
         ],
         "y": [
          12.305,
          12.305
         ],
         "z": [
          212189.40625,
          212189.40625
         ]
        },
        {
         "hovertemplate": "labels=T4494.1_T9504.1<br>m/z=%{x}<br>rt=%{y}<br>intensity=%{z}<extra></extra>",
         "legendgroup": "T4494.1_T9504.1",
         "marker": {
          "color": "#FF97FF",
          "symbol": "circle"
         },
         "mode": "markers",
         "name": "T4494.1_T9504.1",
         "scene": "scene",
         "showlegend": true,
         "type": "scatter3d",
         "x": [
          979.2695626726755,
          979.2695626726755
         ],
         "y": [
          13.019,
          13.019
         ],
         "z": [
          182874.703125,
          182874.703125
         ]
        },
        {
         "hovertemplate": "labels=T4381.1_T9397.1<br>m/z=%{x}<br>rt=%{y}<br>intensity=%{z}<extra></extra>",
         "legendgroup": "T4381.1_T9397.1",
         "marker": {
          "color": "#FECB52",
          "symbol": "circle"
         },
         "mode": "markers",
         "name": "T4381.1_T9397.1",
         "scene": "scene",
         "showlegend": true,
         "type": "scatter3d",
         "x": [
          979.2719380792146,
          979.2719380792146
         ],
         "y": [
          13.019,
          13.019
         ],
         "z": [
          167984.90625,
          167984.90625
         ]
        },
        {
         "hovertemplate": "labels=T9577.2_T5036.2<br>m/z=%{x}<br>rt=%{y}<br>intensity=%{z}<extra></extra>",
         "legendgroup": "T9577.2_T5036.2",
         "marker": {
          "color": "#636efa",
          "symbol": "circle"
         },
         "mode": "markers",
         "name": "T9577.2_T5036.2",
         "scene": "scene",
         "showlegend": true,
         "type": "scatter3d",
         "x": [
          981.9392380618358,
          981.9392380618358
         ],
         "y": [
          23.021,
          23.021
         ],
         "z": [
          59352.98046875,
          59352.98046875
         ]
        },
        {
         "hovertemplate": "labels=T8847.2_T4552.2<br>m/z=%{x}<br>rt=%{y}<br>intensity=%{z}<extra></extra>",
         "legendgroup": "T8847.2_T4552.2",
         "marker": {
          "color": "#EF553B",
          "symbol": "circle"
         },
         "mode": "markers",
         "name": "T8847.2_T4552.2",
         "scene": "scene",
         "showlegend": true,
         "type": "scatter3d",
         "x": [
          981.9416372669331,
          981.9416372669331
         ],
         "y": [
          23.736,
          23.736
         ],
         "z": [
          69216.640625,
          69216.640625
         ]
        },
        {
         "hovertemplate": "labels=T4309.2_T2223.2_T8904.2<br>m/z=%{x}<br>rt=%{y}<br>intensity=%{z}<extra></extra>",
         "legendgroup": "T4309.2_T2223.2_T8904.2",
         "marker": {
          "color": "#00cc96",
          "symbol": "circle"
         },
         "mode": "markers",
         "name": "T4309.2_T2223.2_T8904.2",
         "scene": "scene",
         "showlegend": true,
         "type": "scatter3d",
         "x": [
          981.9583257087328,
          981.9583257087328,
          981.9583257087328
         ],
         "y": [
          27.308,
          27.308,
          27.308
         ],
         "z": [
          173751,
          173751,
          173751
         ]
        },
        {
         "hovertemplate": "labels=T2556.2_T1077.3<br>m/z=%{x}<br>rt=%{y}<br>intensity=%{z}<extra></extra>",
         "legendgroup": "T2556.2_T1077.3",
         "marker": {
          "color": "#ab63fa",
          "symbol": "circle"
         },
         "mode": "markers",
         "name": "T2556.2_T1077.3",
         "scene": "scene",
         "showlegend": true,
         "type": "scatter3d",
         "x": [
          981.9687325634001,
          981.9687325634001
         ],
         "y": [
          25.165,
          25.165
         ],
         "z": [
          275781.40625,
          275781.40625
         ]
        },
        {
         "hovertemplate": "labels=T2291.2_T749.2_T5072.1<br>m/z=%{x}<br>rt=%{y}<br>intensity=%{z}<extra></extra>",
         "legendgroup": "T2291.2_T749.2_T5072.1",
         "marker": {
          "color": "#FFA15A",
          "symbol": "circle"
         },
         "mode": "markers",
         "name": "T2291.2_T749.2_T5072.1",
         "scene": "scene",
         "showlegend": true,
         "type": "scatter3d",
         "x": [
          981.9711863160293,
          981.9711863160293,
          981.9711863160293
         ],
         "y": [
          24.45,
          24.45,
          24.45
         ],
         "z": [
          273349.90625,
          273349.90625,
          273349.90625
         ]
        },
        {
         "hovertemplate": "labels=T415.2_T144.2<br>m/z=%{x}<br>rt=%{y}<br>intensity=%{z}<extra></extra>",
         "legendgroup": "T415.2_T144.2",
         "marker": {
          "color": "#19d3f3",
          "symbol": "circle"
         },
         "mode": "markers",
         "name": "T415.2_T144.2",
         "scene": "scene",
         "showlegend": true,
         "type": "scatter3d",
         "x": [
          981.9834581413061,
          981.9834581413061
         ],
         "y": [
          23.736,
          23.736
         ],
         "z": [
          769890,
          769890
         ]
        },
        {
         "hovertemplate": "labels=T281.2_T135.2_T2037.2<br>m/z=%{x}<br>rt=%{y}<br>intensity=%{z}<extra></extra>",
         "legendgroup": "T281.2_T135.2_T2037.2",
         "marker": {
          "color": "#FF6692",
          "symbol": "circle"
         },
         "mode": "markers",
         "name": "T281.2_T135.2_T2037.2",
         "scene": "scene",
         "showlegend": true,
         "type": "scatter3d",
         "x": [
          981.9858931711117,
          981.9858931711117,
          981.9858931711117
         ],
         "y": [
          23.736,
          23.736,
          23.736
         ],
         "z": [
          1031368,
          1031368,
          1031368
         ]
        },
        {
         "hovertemplate": "labels=T174.1_T139.1_T995.1_T6488.1<br>m/z=%{x}<br>rt=%{y}<br>intensity=%{z}<extra></extra>",
         "legendgroup": "T174.1_T139.1_T995.1_T6488.1",
         "marker": {
          "color": "#B6E880",
          "symbol": "circle"
         },
         "mode": "markers",
         "name": "T174.1_T139.1_T995.1_T6488.1",
         "scene": "scene",
         "showlegend": true,
         "type": "scatter3d",
         "x": [
          981.996891434088,
          981.996891434088,
          981.996891434088,
          981.996891434088
         ],
         "y": [
          5.161,
          5.161,
          5.161,
          5.161
         ],
         "z": [
          1738189,
          1738189,
          1738189,
          1738189
         ]
        },
        {
         "hovertemplate": "labels=T175.2_T178.2_T1146.1<br>m/z=%{x}<br>rt=%{y}<br>intensity=%{z}<extra></extra>",
         "legendgroup": "T175.2_T178.2_T1146.1",
         "marker": {
          "color": "#FF97FF",
          "symbol": "circle"
         },
         "mode": "markers",
         "name": "T175.2_T178.2_T1146.1",
         "scene": "scene",
         "showlegend": true,
         "type": "scatter3d",
         "x": [
          981.9989084358513,
          981.9989084358513,
          981.9989084358513
         ],
         "y": [
          26.594,
          26.594,
          26.594
         ],
         "z": [
          2156366,
          2156366,
          2156366
         ]
        },
        {
         "hovertemplate": "labels=T175.1_T178.1<br>m/z=%{x}<br>rt=%{y}<br>intensity=%{z}<extra></extra>",
         "legendgroup": "T175.1_T178.1",
         "marker": {
          "color": "#FECB52",
          "symbol": "circle"
         },
         "mode": "markers",
         "name": "T175.1_T178.1",
         "scene": "scene",
         "showlegend": true,
         "type": "scatter3d",
         "x": [
          981.9993363749194,
          981.9993363749194
         ],
         "y": [
          5.161,
          5.161
         ],
         "z": [
          1616435,
          1616435
         ]
        },
        {
         "hovertemplate": "labels=T184.2_T231.2_T1350.1<br>m/z=%{x}<br>rt=%{y}<br>intensity=%{z}<extra></extra>",
         "legendgroup": "T184.2_T231.2_T1350.1",
         "marker": {
          "color": "#636efa",
          "symbol": "circle"
         },
         "mode": "markers",
         "name": "T184.2_T231.2_T1350.1",
         "scene": "scene",
         "showlegend": true,
         "type": "scatter3d",
         "x": [
          982.0013333738965,
          982.0013333738965,
          982.0013333738965
         ],
         "y": [
          26.594,
          26.594,
          26.594
         ],
         "z": [
          1917798,
          1917798,
          1917798
         ]
        },
        {
         "hovertemplate": "labels=T184.1_T231.1_T1480.1_T9587.1<br>m/z=%{x}<br>rt=%{y}<br>intensity=%{z}<extra></extra>",
         "legendgroup": "T184.1_T231.1_T1480.1_T9587.1",
         "marker": {
          "color": "#EF553B",
          "symbol": "circle"
         },
         "mode": "markers",
         "name": "T184.1_T231.1_T1480.1_T9587.1",
         "scene": "scene",
         "showlegend": true,
         "type": "scatter3d",
         "x": [
          982.0017032099927,
          982.0017032099927,
          982.0017032099927,
          982.0017032099927
         ],
         "y": [
          6.59,
          6.59,
          6.59,
          6.59
         ],
         "z": [
          1374573,
          1374573,
          1374573,
          1374573
         ]
        },
        {
         "hovertemplate": "labels=T214.1_T285.1<br>m/z=%{x}<br>rt=%{y}<br>intensity=%{z}<extra></extra>",
         "legendgroup": "T214.1_T285.1",
         "marker": {
          "color": "#00cc96",
          "symbol": "circle"
         },
         "mode": "markers",
         "name": "T214.1_T285.1",
         "scene": "scene",
         "showlegend": true,
         "type": "scatter3d",
         "x": [
          982.0038807288587,
          982.0038807288587
         ],
         "y": [
          6.59,
          6.59
         ],
         "z": [
          1189137,
          1189137
         ]
        },
        {
         "hovertemplate": "labels=T402.1_T536.1_T1836.1<br>m/z=%{x}<br>rt=%{y}<br>intensity=%{z}<extra></extra>",
         "legendgroup": "T402.1_T536.1_T1836.1",
         "marker": {
          "color": "#ab63fa",
          "symbol": "circle"
         },
         "mode": "markers",
         "name": "T402.1_T536.1_T1836.1",
         "scene": "scene",
         "showlegend": true,
         "type": "scatter3d",
         "x": [
          982.0088239071086,
          982.0088239071086,
          982.0088239071086
         ],
         "y": [
          7.304,
          7.304,
          7.304
         ],
         "z": [
          744806.6875,
          744806.6875,
          744806.6875
         ]
        },
        {
         "hovertemplate": "labels=T599.1_T739.1<br>m/z=%{x}<br>rt=%{y}<br>intensity=%{z}<extra></extra>",
         "legendgroup": "T599.1_T739.1",
         "marker": {
          "color": "#FFA15A",
          "symbol": "circle"
         },
         "mode": "markers",
         "name": "T599.1_T739.1",
         "scene": "scene",
         "showlegend": true,
         "type": "scatter3d",
         "x": [
          982.0119935289231,
          982.0119935289231
         ],
         "y": [
          7.304,
          7.304
         ],
         "z": [
          540912.1875,
          540912.1875
         ]
        },
        {
         "hovertemplate": "labels=T599.2_T739.2_T3136.2<br>m/z=%{x}<br>rt=%{y}<br>intensity=%{z}<extra></extra>",
         "legendgroup": "T599.2_T739.2_T3136.2",
         "marker": {
          "color": "#19d3f3",
          "symbol": "circle"
         },
         "mode": "markers",
         "name": "T599.2_T739.2_T3136.2",
         "scene": "scene",
         "showlegend": true,
         "type": "scatter3d",
         "x": [
          982.0124115124262,
          982.0124115124262,
          982.0124115124262
         ],
         "y": [
          27.308,
          27.308,
          27.308
         ],
         "z": [
          740700.6875,
          740700.6875,
          740700.6875
         ]
        },
        {
         "hovertemplate": "labels=T863.2_T1076.2_T3921.1<br>m/z=%{x}<br>rt=%{y}<br>intensity=%{z}<extra></extra>",
         "legendgroup": "T863.2_T1076.2_T3921.1",
         "marker": {
          "color": "#FF6692",
          "symbol": "circle"
         },
         "mode": "markers",
         "name": "T863.2_T1076.2_T3921.1",
         "scene": "scene",
         "showlegend": true,
         "type": "scatter3d",
         "x": [
          982.0142981702331,
          982.0142981702331,
          982.0142981702331
         ],
         "y": [
          27.308,
          27.308,
          27.308
         ],
         "z": [
          607803.875,
          607803.875,
          607803.875
         ]
        },
        {
         "hovertemplate": "labels=T863.1_T1076.1<br>m/z=%{x}<br>rt=%{y}<br>intensity=%{z}<extra></extra>",
         "legendgroup": "T863.1_T1076.1",
         "marker": {
          "color": "#B6E880",
          "symbol": "circle"
         },
         "mode": "markers",
         "name": "T863.1_T1076.1",
         "scene": "scene",
         "showlegend": true,
         "type": "scatter3d",
         "x": [
          982.0144048433617,
          982.0144048433617
         ],
         "y": [
          7.304,
          7.304
         ],
         "z": [
          422266,
          422266
         ]
        },
        {
         "hovertemplate": "labels=T1258.2_T1384.2_T4830.1<br>m/z=%{x}<br>rt=%{y}<br>intensity=%{z}<extra></extra>",
         "legendgroup": "T1258.2_T1384.2_T4830.1",
         "marker": {
          "color": "#FF97FF",
          "symbol": "circle"
         },
         "mode": "markers",
         "name": "T1258.2_T1384.2_T4830.1",
         "scene": "scene",
         "showlegend": true,
         "type": "scatter3d",
         "x": [
          982.0165550158193,
          982.0165550158193,
          982.0165550158193
         ],
         "y": [
          26.594,
          26.594,
          26.594
         ],
         "z": [
          501308,
          501308,
          501308
         ]
        },
        {
         "hovertemplate": "labels=T1744.2_T1695.2_T6060.1<br>m/z=%{x}<br>rt=%{y}<br>intensity=%{z}<extra></extra>",
         "legendgroup": "T1744.2_T1695.2_T6060.1",
         "marker": {
          "color": "#FECB52",
          "symbol": "circle"
         },
         "mode": "markers",
         "name": "T1744.2_T1695.2_T6060.1",
         "scene": "scene",
         "showlegend": true,
         "type": "scatter3d",
         "x": [
          982.018994024688,
          982.018994024688,
          982.018994024688
         ],
         "y": [
          26.594,
          26.594,
          26.594
         ],
         "z": [
          419185.6875,
          419185.6875,
          419185.6875
         ]
        },
        {
         "hovertemplate": "labels=T1744.1_T1695.1_T3136.1<br>m/z=%{x}<br>rt=%{y}<br>intensity=%{z}<extra></extra>",
         "legendgroup": "T1744.1_T1695.1_T3136.1",
         "marker": {
          "color": "#636efa",
          "symbol": "circle"
         },
         "mode": "markers",
         "name": "T1744.1_T1695.1_T3136.1",
         "scene": "scene",
         "showlegend": true,
         "type": "scatter3d",
         "x": [
          982.0192869639013,
          982.0192869639013,
          982.0192869639013
         ],
         "y": [
          7.304,
          7.304,
          7.304
         ],
         "z": [
          288124.90625,
          288124.90625,
          288124.90625
         ]
        },
        {
         "hovertemplate": "labels=T2139.2_T1894.2_T6452.1<br>m/z=%{x}<br>rt=%{y}<br>intensity=%{z}<extra></extra>",
         "legendgroup": "T2139.2_T1894.2_T6452.1",
         "marker": {
          "color": "#EF553B",
          "symbol": "circle"
         },
         "mode": "markers",
         "name": "T2139.2_T1894.2_T6452.1",
         "scene": "scene",
         "showlegend": true,
         "type": "scatter3d",
         "x": [
          982.0212126613847,
          982.0212126613847,
          982.0212126613847
         ],
         "y": [
          28.022,
          28.022,
          28.022
         ],
         "z": [
          354512.6875,
          354512.6875,
          354512.6875
         ]
        },
        {
         "hovertemplate": "labels=T2139.1_T1894.1<br>m/z=%{x}<br>rt=%{y}<br>intensity=%{z}<extra></extra>",
         "legendgroup": "T2139.1_T1894.1",
         "marker": {
          "color": "#00cc96",
          "symbol": "circle"
         },
         "mode": "markers",
         "name": "T2139.1_T1894.1",
         "scene": "scene",
         "showlegend": true,
         "type": "scatter3d",
         "x": [
          982.0215814686477,
          982.0215814686477
         ],
         "y": [
          8.018,
          8.018
         ],
         "z": [
          238639.59375,
          238639.59375
         ]
        },
        {
         "hovertemplate": "labels=T2486.1_T2617.1<br>m/z=%{x}<br>rt=%{y}<br>intensity=%{z}<extra></extra>",
         "legendgroup": "T2486.1_T2617.1",
         "marker": {
          "color": "#ab63fa",
          "symbol": "circle"
         },
         "mode": "markers",
         "name": "T2486.1_T2617.1",
         "scene": "scene",
         "showlegend": true,
         "type": "scatter3d",
         "x": [
          982.02362074523,
          982.02362074523
         ],
         "y": [
          4.446,
          4.446
         ],
         "z": [
          203508.703125,
          203508.703125
         ]
        },
        {
         "hovertemplate": "labels=T3124.2_T2617.2<br>m/z=%{x}<br>rt=%{y}<br>intensity=%{z}<extra></extra>",
         "legendgroup": "T3124.2_T2617.2",
         "marker": {
          "color": "#FFA15A",
          "symbol": "circle"
         },
         "mode": "markers",
         "name": "T3124.2_T2617.2",
         "scene": "scene",
         "showlegend": true,
         "type": "scatter3d",
         "x": [
          982.0248549272775,
          982.0248549272775
         ],
         "y": [
          26.594,
          26.594
         ],
         "z": [
          191975.59375,
          191975.59375
         ]
        },
        {
         "hovertemplate": "labels=T3437.2_T3393.1_T7641.1<br>m/z=%{x}<br>rt=%{y}<br>intensity=%{z}<extra></extra>",
         "legendgroup": "T3437.2_T3393.1_T7641.1",
         "marker": {
          "color": "#19d3f3",
          "symbol": "circle"
         },
         "mode": "markers",
         "name": "T3437.2_T3393.1_T7641.1",
         "scene": "scene",
         "showlegend": true,
         "type": "scatter3d",
         "x": [
          982.0270560282943,
          982.0270560282943,
          982.0270560282943
         ],
         "y": [
          26.594,
          26.594,
          26.594
         ],
         "z": [
          222215.203125,
          222215.203125,
          222215.203125
         ]
        },
        {
         "hovertemplate": "labels=T4058.2_T4624.1<br>m/z=%{x}<br>rt=%{y}<br>intensity=%{z}<extra></extra>",
         "legendgroup": "T4058.2_T4624.1",
         "marker": {
          "color": "#FF6692",
          "symbol": "circle"
         },
         "mode": "markers",
         "name": "T4058.2_T4624.1",
         "scene": "scene",
         "showlegend": true,
         "type": "scatter3d",
         "x": [
          982.029127923381,
          982.029127923381
         ],
         "y": [
          27.308,
          27.308
         ],
         "z": [
          192382.90625,
          192382.90625
         ]
        },
        {
         "hovertemplate": "labels=T5190.2_T5718.1<br>m/z=%{x}<br>rt=%{y}<br>intensity=%{z}<extra></extra>",
         "legendgroup": "T5190.2_T5718.1",
         "marker": {
          "color": "#B6E880",
          "symbol": "circle"
         },
         "mode": "markers",
         "name": "T5190.2_T5718.1",
         "scene": "scene",
         "showlegend": true,
         "type": "scatter3d",
         "x": [
          982.0312596380936,
          982.0312596380936
         ],
         "y": [
          26.594,
          26.594
         ],
         "z": [
          145078,
          145078
         ]
        },
        {
         "hovertemplate": "labels=T6972.2_T7188.1<br>m/z=%{x}<br>rt=%{y}<br>intensity=%{z}<extra></extra>",
         "legendgroup": "T6972.2_T7188.1",
         "marker": {
          "color": "#FF97FF",
          "symbol": "circle"
         },
         "mode": "markers",
         "name": "T6972.2_T7188.1",
         "scene": "scene",
         "showlegend": true,
         "type": "scatter3d",
         "x": [
          982.0339908909594,
          982.0339908909594
         ],
         "y": [
          26.594,
          26.594
         ],
         "z": [
          114920.5,
          114920.5
         ]
        },
        {
         "hovertemplate": "labels=T127.1_T833.1<br>m/z=%{x}<br>rt=%{y}<br>intensity=%{z}<extra></extra>",
         "legendgroup": "T127.1_T833.1",
         "marker": {
          "color": "#FECB52",
          "symbol": "circle"
         },
         "mode": "markers",
         "name": "T127.1_T833.1",
         "scene": "scene",
         "showlegend": true,
         "type": "scatter3d",
         "x": [
          982.9943176754774,
          982.9943176754774
         ],
         "y": [
          7.304,
          7.304
         ],
         "z": [
          2447605,
          2447605
         ]
        },
        {
         "hovertemplate": "labels=T126.2_T995.2<br>m/z=%{x}<br>rt=%{y}<br>intensity=%{z}<extra></extra>",
         "legendgroup": "T126.2_T995.2",
         "marker": {
          "color": "#636efa",
          "symbol": "circle"
         },
         "mode": "markers",
         "name": "T126.2_T995.2",
         "scene": "scene",
         "showlegend": true,
         "type": "scatter3d",
         "x": [
          982.9963870984617,
          982.9963870984617
         ],
         "y": [
          26.594,
          26.594
         ],
         "z": [
          2993887,
          2993887
         ]
        },
        {
         "hovertemplate": "labels=T285.2_T1836.2<br>m/z=%{x}<br>rt=%{y}<br>intensity=%{z}<extra></extra>",
         "legendgroup": "T285.2_T1836.2",
         "marker": {
          "color": "#EF553B",
          "symbol": "circle"
         },
         "mode": "markers",
         "name": "T285.2_T1836.2",
         "scene": "scene",
         "showlegend": true,
         "type": "scatter3d",
         "x": [
          983.0066776513324,
          983.0066776513324
         ],
         "y": [
          26.594,
          26.594
         ],
         "z": [
          1216420,
          1216420
         ]
        },
        {
         "hovertemplate": "labels=T1951.2_T5852.2<br>m/z=%{x}<br>rt=%{y}<br>intensity=%{z}<extra></extra>",
         "legendgroup": "T1951.2_T5852.2",
         "marker": {
          "color": "#00cc96",
          "symbol": "circle"
         },
         "mode": "markers",
         "name": "T1951.2_T5852.2",
         "scene": "scene",
         "showlegend": true,
         "type": "scatter3d",
         "x": [
          1001.2341899661164,
          1001.2341899661164
         ],
         "y": [
          21.593,
          21.593
         ],
         "z": [
          249498,
          249498
         ]
        },
        {
         "hovertemplate": "labels=T2589.2_T5938.2<br>m/z=%{x}<br>rt=%{y}<br>intensity=%{z}<extra></extra>",
         "legendgroup": "T2589.2_T5938.2",
         "marker": {
          "color": "#ab63fa",
          "symbol": "circle"
         },
         "mode": "markers",
         "name": "T2589.2_T5938.2",
         "scene": "scene",
         "showlegend": true,
         "type": "scatter3d",
         "x": [
          1001.2364495427728,
          1001.2364495427728
         ],
         "y": [
          21.593,
          21.593
         ],
         "z": [
          228679.796875,
          228679.796875
         ]
        },
        {
         "hovertemplate": "labels=T2211.2_T6027.2<br>m/z=%{x}<br>rt=%{y}<br>intensity=%{z}<extra></extra>",
         "legendgroup": "T2211.2_T6027.2",
         "marker": {
          "color": "#FFA15A",
          "symbol": "circle"
         },
         "mode": "markers",
         "name": "T2211.2_T6027.2",
         "scene": "scene",
         "showlegend": true,
         "type": "scatter3d",
         "x": [
          1001.2387200187333,
          1001.2387200187333
         ],
         "y": [
          21.593,
          21.593
         ],
         "z": [
          191399.5,
          191399.5
         ]
        },
        {
         "hovertemplate": "labels=T2264.2_T6505.2<br>m/z=%{x}<br>rt=%{y}<br>intensity=%{z}<extra></extra>",
         "legendgroup": "T2264.2_T6505.2",
         "marker": {
          "color": "#19d3f3",
          "symbol": "circle"
         },
         "mode": "markers",
         "name": "T2264.2_T6505.2",
         "scene": "scene",
         "showlegend": true,
         "type": "scatter3d",
         "x": [
          1001.2410580488215,
          1001.2410580488215
         ],
         "y": [
          18.735,
          18.735
         ],
         "z": [
          158992,
          158992
         ]
        },
        {
         "hovertemplate": "labels=T1161.2_T5898.2<br>m/z=%{x}<br>rt=%{y}<br>intensity=%{z}<extra></extra>",
         "legendgroup": "T1161.2_T5898.2",
         "marker": {
          "color": "#FF6692",
          "symbol": "circle"
         },
         "mode": "markers",
         "name": "T1161.2_T5898.2",
         "scene": "scene",
         "showlegend": true,
         "type": "scatter3d",
         "x": [
          1024.0310157922581,
          1024.0310157922581
         ],
         "y": [
          23.736,
          23.736
         ],
         "z": [
          386598.90625,
          386598.90625
         ]
        },
        {
         "hovertemplate": "labels=T918.2_T4697.2<br>m/z=%{x}<br>rt=%{y}<br>intensity=%{z}<extra></extra>",
         "legendgroup": "T918.2_T4697.2",
         "marker": {
          "color": "#B6E880",
          "symbol": "circle"
         },
         "mode": "markers",
         "name": "T918.2_T4697.2",
         "scene": "scene",
         "showlegend": true,
         "type": "scatter3d",
         "x": [
          1024.0335289912096,
          1024.0335289912096
         ],
         "y": [
          23.736,
          23.736
         ],
         "z": [
          487121.09375,
          487121.09375
         ]
        },
        {
         "hovertemplate": "labels=T802.2_T4620.2<br>m/z=%{x}<br>rt=%{y}<br>intensity=%{z}<extra></extra>",
         "legendgroup": "T802.2_T4620.2",
         "marker": {
          "color": "#FF97FF",
          "symbol": "circle"
         },
         "mode": "markers",
         "name": "T802.2_T4620.2",
         "scene": "scene",
         "showlegend": true,
         "type": "scatter3d",
         "x": [
          1024.0359692553004,
          1024.0359692553004
         ],
         "y": [
          23.736,
          23.736
         ],
         "z": [
          597750.375,
          597750.375
         ]
        },
        {
         "hovertemplate": "labels=T668.1_T3612.1<br>m/z=%{x}<br>rt=%{y}<br>intensity=%{z}<extra></extra>",
         "legendgroup": "T668.1_T3612.1",
         "marker": {
          "color": "#FECB52",
          "symbol": "circle"
         },
         "mode": "markers",
         "name": "T668.1_T3612.1",
         "scene": "scene",
         "showlegend": true,
         "type": "scatter3d",
         "x": [
          1024.042068242576,
          1024.042068242576
         ],
         "y": [
          5.161,
          5.161
         ],
         "z": [
          677245.8125,
          677245.8125
         ]
        },
        {
         "hovertemplate": "labels=T665.1_T3601.1<br>m/z=%{x}<br>rt=%{y}<br>intensity=%{z}<extra></extra>",
         "legendgroup": "T665.1_T3601.1",
         "marker": {
          "color": "#636efa",
          "symbol": "circle"
         },
         "mode": "markers",
         "name": "T665.1_T3601.1",
         "scene": "scene",
         "showlegend": true,
         "type": "scatter3d",
         "x": [
          1024.0445331997582,
          1024.0445331997582
         ],
         "y": [
          5.161,
          5.161
         ],
         "z": [
          681074.125,
          681074.125
         ]
        },
        {
         "hovertemplate": "labels=T669.2_T3585.2<br>m/z=%{x}<br>rt=%{y}<br>intensity=%{z}<extra></extra>",
         "legendgroup": "T669.2_T3585.2",
         "marker": {
          "color": "#EF553B",
          "symbol": "circle"
         },
         "mode": "markers",
         "name": "T669.2_T3585.2",
         "scene": "scene",
         "showlegend": true,
         "type": "scatter3d",
         "x": [
          1024.0468764165648,
          1024.0468764165648
         ],
         "y": [
          26.594,
          26.594
         ],
         "z": [
          811591.875,
          811591.875
         ]
        },
        {
         "hovertemplate": "labels=T669.1_T3585.1<br>m/z=%{x}<br>rt=%{y}<br>intensity=%{z}<extra></extra>",
         "legendgroup": "T669.1_T3585.1",
         "marker": {
          "color": "#00cc96",
          "symbol": "circle"
         },
         "mode": "markers",
         "name": "T669.1_T3585.1",
         "scene": "scene",
         "showlegend": true,
         "type": "scatter3d",
         "x": [
          1024.0470213751894,
          1024.0470213751894
         ],
         "y": [
          7.304,
          7.304
         ],
         "z": [
          621121.3125,
          621121.3125
         ]
        },
        {
         "hovertemplate": "labels=T775.2_T3948.2<br>m/z=%{x}<br>rt=%{y}<br>intensity=%{z}<extra></extra>",
         "legendgroup": "T775.2_T3948.2",
         "marker": {
          "color": "#ab63fa",
          "symbol": "circle"
         },
         "mode": "markers",
         "name": "T775.2_T3948.2",
         "scene": "scene",
         "showlegend": true,
         "type": "scatter3d",
         "x": [
          1024.0492793361773,
          1024.0492793361773
         ],
         "y": [
          26.594,
          26.594
         ],
         "z": [
          715218.3125,
          715218.3125
         ]
        },
        {
         "hovertemplate": "labels=T775.1_T3948.1<br>m/z=%{x}<br>rt=%{y}<br>intensity=%{z}<extra></extra>",
         "legendgroup": "T775.1_T3948.1",
         "marker": {
          "color": "#FFA15A",
          "symbol": "circle"
         },
         "mode": "markers",
         "name": "T775.1_T3948.1",
         "scene": "scene",
         "showlegend": true,
         "type": "scatter3d",
         "x": [
          1024.0495003660596,
          1024.0495003660596
         ],
         "y": [
          7.304,
          7.304
         ],
         "z": [
          542882.6875,
          542882.6875
         ]
        },
        {
         "hovertemplate": "labels=T961.2_T4378.2<br>m/z=%{x}<br>rt=%{y}<br>intensity=%{z}<extra></extra>",
         "legendgroup": "T961.2_T4378.2",
         "marker": {
          "color": "#19d3f3",
          "symbol": "circle"
         },
         "mode": "markers",
         "name": "T961.2_T4378.2",
         "scene": "scene",
         "showlegend": true,
         "type": "scatter3d",
         "x": [
          1024.0517291857107,
          1024.0517291857107
         ],
         "y": [
          26.594,
          26.594
         ],
         "z": [
          612100.3125,
          612100.3125
         ]
        },
        {
         "hovertemplate": "labels=T961.1_T4378.1<br>m/z=%{x}<br>rt=%{y}<br>intensity=%{z}<extra></extra>",
         "legendgroup": "T961.1_T4378.1",
         "marker": {
          "color": "#FF6692",
          "symbol": "circle"
         },
         "mode": "markers",
         "name": "T961.1_T4378.1",
         "scene": "scene",
         "showlegend": true,
         "type": "scatter3d",
         "x": [
          1024.051910736504,
          1024.051910736504
         ],
         "y": [
          6.59,
          6.59
         ],
         "z": [
          456693.59375,
          456693.59375
         ]
        },
        {
         "hovertemplate": "labels=T1173.2_T4616.1<br>m/z=%{x}<br>rt=%{y}<br>intensity=%{z}<extra></extra>",
         "legendgroup": "T1173.2_T4616.1",
         "marker": {
          "color": "#B6E880",
          "symbol": "circle"
         },
         "mode": "markers",
         "name": "T1173.2_T4616.1",
         "scene": "scene",
         "showlegend": true,
         "type": "scatter3d",
         "x": [
          1024.0539924934471,
          1024.0539924934471
         ],
         "y": [
          26.594,
          26.594
         ],
         "z": [
          540398.1875,
          540398.1875
         ]
        },
        {
         "hovertemplate": "labels=T1191.1_T5637.1<br>m/z=%{x}<br>rt=%{y}<br>intensity=%{z}<extra></extra>",
         "legendgroup": "T1191.1_T5637.1",
         "marker": {
          "color": "#FF97FF",
          "symbol": "circle"
         },
         "mode": "markers",
         "name": "T1191.1_T5637.1",
         "scene": "scene",
         "showlegend": true,
         "type": "scatter3d",
         "x": [
          1024.0553440528747,
          1024.0553440528747
         ],
         "y": [
          7.304,
          7.304
         ],
         "z": [
          354442.90625,
          354442.90625
         ]
        },
        {
         "hovertemplate": "labels=T1191.2_T5637.2<br>m/z=%{x}<br>rt=%{y}<br>intensity=%{z}<extra></extra>",
         "legendgroup": "T1191.2_T5637.2",
         "marker": {
          "color": "#FECB52",
          "symbol": "circle"
         },
         "mode": "markers",
         "name": "T1191.2_T5637.2",
         "scene": "scene",
         "showlegend": true,
         "type": "scatter3d",
         "x": [
          1024.055867160145,
          1024.055867160145
         ],
         "y": [
          26.594,
          26.594
         ],
         "z": [
          402342.59375,
          402342.59375
         ]
        },
        {
         "hovertemplate": "labels=T1500.2_T6358.1<br>m/z=%{x}<br>rt=%{y}<br>intensity=%{z}<extra></extra>",
         "legendgroup": "T1500.2_T6358.1",
         "marker": {
          "color": "#636efa",
          "symbol": "circle"
         },
         "mode": "markers",
         "name": "T1500.2_T6358.1",
         "scene": "scene",
         "showlegend": true,
         "type": "scatter3d",
         "x": [
          1024.0579456558073,
          1024.0579456558073
         ],
         "y": [
          25.879,
          25.879
         ],
         "z": [
          379328.40625,
          379328.40625
         ]
        },
        {
         "hovertemplate": "labels=T2515.2_T7387.1<br>m/z=%{x}<br>rt=%{y}<br>intensity=%{z}<extra></extra>",
         "legendgroup": "T2515.2_T7387.1",
         "marker": {
          "color": "#EF553B",
          "symbol": "circle"
         },
         "mode": "markers",
         "name": "T2515.2_T7387.1",
         "scene": "scene",
         "showlegend": true,
         "type": "scatter3d",
         "x": [
          1024.0626807865976,
          1024.0626807865976
         ],
         "y": [
          27.308,
          27.308
         ],
         "z": [
          246244.09375,
          246244.09375
         ]
        },
        {
         "hovertemplate": "labels=T2996.1_T7698_T5960.1<br>m/z=%{x}<br>rt=%{y}<br>intensity=%{z}<extra></extra>",
         "legendgroup": "T2996.1_T7698_T5960.1",
         "marker": {
          "color": "#00cc96",
          "symbol": "circle"
         },
         "mode": "markers",
         "name": "T2996.1_T7698_T5960.1",
         "scene": "scene",
         "showlegend": true,
         "type": "scatter3d",
         "x": [
          1039.2125884414675,
          1039.2125884414675,
          1039.2125884414675
         ],
         "y": [
          15.877,
          15.877,
          15.877
         ],
         "z": [
          188747.59375,
          188747.59375,
          188747.59375
         ]
        },
        {
         "hovertemplate": "labels=T2798.1_T6737_T7318<br>m/z=%{x}<br>rt=%{y}<br>intensity=%{z}<extra></extra>",
         "legendgroup": "T2798.1_T6737_T7318",
         "marker": {
          "color": "#ab63fa",
          "symbol": "circle"
         },
         "mode": "markers",
         "name": "T2798.1_T6737_T7318",
         "scene": "scene",
         "showlegend": true,
         "type": "scatter3d",
         "x": [
          1039.2160033117666,
          1039.2160033117666,
          1039.2160033117666
         ],
         "y": [
          12.305,
          12.305,
          12.305
         ],
         "z": [
          251481.703125,
          251481.703125,
          251481.703125
         ]
        },
        {
         "hovertemplate": "labels=T2566_T6288_T7303<br>m/z=%{x}<br>rt=%{y}<br>intensity=%{z}<extra></extra>",
         "legendgroup": "T2566_T6288_T7303",
         "marker": {
          "color": "#FFA15A",
          "symbol": "circle"
         },
         "mode": "markers",
         "name": "T2566_T6288_T7303",
         "scene": "scene",
         "showlegend": true,
         "type": "scatter3d",
         "x": [
          1039.2193912920288,
          1039.2193912920288,
          1039.2193912920288
         ],
         "y": [
          12.305,
          12.305,
          12.305
         ],
         "z": [
          257791,
          257791,
          257791
         ]
        },
        {
         "hovertemplate": "labels=T2737.1_T7271.1_T7002.1<br>m/z=%{x}<br>rt=%{y}<br>intensity=%{z}<extra></extra>",
         "legendgroup": "T2737.1_T7271.1_T7002.1",
         "marker": {
          "color": "#19d3f3",
          "symbol": "circle"
         },
         "mode": "markers",
         "name": "T2737.1_T7271.1_T7002.1",
         "scene": "scene",
         "showlegend": true,
         "type": "scatter3d",
         "x": [
          1039.221894292039,
          1039.221894292039,
          1039.221894292039
         ],
         "y": [
          12.305,
          12.305,
          12.305
         ],
         "z": [
          253296.296875,
          253296.296875,
          253296.296875
         ]
        },
        {
         "hovertemplate": "labels=T3347.1_T7110.1_T7096.1<br>m/z=%{x}<br>rt=%{y}<br>intensity=%{z}<extra></extra>",
         "legendgroup": "T3347.1_T7110.1_T7096.1",
         "marker": {
          "color": "#FF6692",
          "symbol": "circle"
         },
         "mode": "markers",
         "name": "T3347.1_T7110.1_T7096.1",
         "scene": "scene",
         "showlegend": true,
         "type": "scatter3d",
         "x": [
          1039.2249497965126,
          1039.2249497965126,
          1039.2249497965126
         ],
         "y": [
          12.305,
          12.305,
          12.305
         ],
         "z": [
          227798.703125,
          227798.703125,
          227798.703125
         ]
        },
        {
         "hovertemplate": "labels=T3406.1_T7366.1_T8091.1<br>m/z=%{x}<br>rt=%{y}<br>intensity=%{z}<extra></extra>",
         "legendgroup": "T3406.1_T7366.1_T8091.1",
         "marker": {
          "color": "#B6E880",
          "symbol": "circle"
         },
         "mode": "markers",
         "name": "T3406.1_T7366.1_T8091.1",
         "scene": "scene",
         "showlegend": true,
         "type": "scatter3d",
         "x": [
          1039.2274755360424,
          1039.2274755360424,
          1039.2274755360424
         ],
         "y": [
          18.02,
          18.02,
          18.02
         ],
         "z": [
          188201.203125,
          188201.203125,
          188201.203125
         ]
        },
        {
         "hovertemplate": "labels=T3799.1_T7472.1_T8881.1<br>m/z=%{x}<br>rt=%{y}<br>intensity=%{z}<extra></extra>",
         "legendgroup": "T3799.1_T7472.1_T8881.1",
         "marker": {
          "color": "#FF97FF",
          "symbol": "circle"
         },
         "mode": "markers",
         "name": "T3799.1_T7472.1_T8881.1",
         "scene": "scene",
         "showlegend": true,
         "type": "scatter3d",
         "x": [
          1039.2321763899936,
          1039.2321763899936,
          1039.2321763899936
         ],
         "y": [
          18.02,
          18.02,
          18.02
         ],
         "z": [
          152376.5,
          152376.5,
          152376.5
         ]
        },
        {
         "hovertemplate": "labels=T4348.1_T8739.1<br>m/z=%{x}<br>rt=%{y}<br>intensity=%{z}<extra></extra>",
         "legendgroup": "T4348.1_T8739.1",
         "marker": {
          "color": "#FECB52",
          "symbol": "circle"
         },
         "mode": "markers",
         "name": "T4348.1_T8739.1",
         "scene": "scene",
         "showlegend": true,
         "type": "scatter3d",
         "x": [
          1039.234625357589,
          1039.234625357589
         ],
         "y": [
          13.019,
          13.019
         ],
         "z": [
          119206.3984375,
          119206.3984375
         ]
        },
        {
         "hovertemplate": "labels=T9020_T6190.1<br>m/z=%{x}<br>rt=%{y}<br>intensity=%{z}<extra></extra>",
         "legendgroup": "T9020_T6190.1",
         "marker": {
          "color": "#636efa",
          "symbol": "circle"
         },
         "mode": "markers",
         "name": "T9020_T6190.1",
         "scene": "scene",
         "showlegend": true,
         "type": "scatter3d",
         "x": [
          1040.2110458421685,
          1040.2110458421685
         ],
         "y": [
          16.592,
          16.592
         ],
         "z": [
          60480.01953125,
          60480.01953125
         ]
        },
        {
         "hovertemplate": "labels=T3711_T10065_T7999<br>m/z=%{x}<br>rt=%{y}<br>intensity=%{z}<extra></extra>",
         "legendgroup": "T3711_T10065_T7999",
         "marker": {
          "color": "#EF553B",
          "symbol": "circle"
         },
         "mode": "markers",
         "name": "T3711_T10065_T7999",
         "scene": "scene",
         "showlegend": true,
         "type": "scatter3d",
         "x": [
          1103.2248736366312,
          1103.2248736366312,
          1103.2248736366312
         ],
         "y": [
          12.305,
          12.305,
          12.305
         ],
         "z": [
          154879.09375,
          154879.09375,
          154879.09375
         ]
        },
        {
         "hovertemplate": "labels=T4260_T8917.1_T9710<br>m/z=%{x}<br>rt=%{y}<br>intensity=%{z}<extra></extra>",
         "legendgroup": "T4260_T8917.1_T9710",
         "marker": {
          "color": "#00cc96",
          "symbol": "circle"
         },
         "mode": "markers",
         "name": "T4260_T8917.1_T9710",
         "scene": "scene",
         "showlegend": true,
         "type": "scatter3d",
         "x": [
          1103.230041109636,
          1103.230041109636,
          1103.230041109636
         ],
         "y": [
          12.305,
          12.305,
          12.305
         ],
         "z": [
          164956.09375,
          164956.09375,
          164956.09375
         ]
        },
        {
         "hovertemplate": "labels=T4560.1_T9829.1_T10041.1<br>m/z=%{x}<br>rt=%{y}<br>intensity=%{z}<extra></extra>",
         "legendgroup": "T4560.1_T9829.1_T10041.1",
         "marker": {
          "color": "#ab63fa",
          "symbol": "circle"
         },
         "mode": "markers",
         "name": "T4560.1_T9829.1_T10041.1",
         "scene": "scene",
         "showlegend": true,
         "type": "scatter3d",
         "x": [
          1103.232349328651,
          1103.232349328651,
          1103.232349328651
         ],
         "y": [
          13.019,
          13.019,
          13.019
         ],
         "z": [
          151828.5,
          151828.5,
          151828.5
         ]
        },
        {
         "hovertemplate": "labels=T4466.2_T8983.1<br>m/z=%{x}<br>rt=%{y}<br>intensity=%{z}<extra></extra>",
         "legendgroup": "T4466.2_T8983.1",
         "marker": {
          "color": "#FFA15A",
          "symbol": "circle"
         },
         "mode": "markers",
         "name": "T4466.2_T8983.1",
         "scene": "scene",
         "showlegend": true,
         "type": "scatter3d",
         "x": [
          1129.2558241246152,
          1129.2558241246152
         ],
         "y": [
          22.307,
          22.307
         ],
         "z": [
          100339.703125,
          100339.703125
         ]
        }
       ],
       "layout": {
        "legend": {
         "title": {
          "text": "labels"
         },
         "tracegroupgap": 0
        },
        "margin": {
         "t": 60
        },
        "scene": {
         "domain": {
          "x": [
           0,
           1
          ],
          "y": [
           0,
           1
          ]
         },
         "xaxis": {
          "title": {
           "text": "m/z"
          }
         },
         "yaxis": {
          "title": {
           "text": "rt"
          }
         },
         "zaxis": {
          "title": {
           "text": "intensity"
          }
         }
        },
        "template": {
         "data": {
          "bar": [
           {
            "error_x": {
             "color": "#2a3f5f"
            },
            "error_y": {
             "color": "#2a3f5f"
            },
            "marker": {
             "line": {
              "color": "#E5ECF6",
              "width": 0.5
             },
             "pattern": {
              "fillmode": "overlay",
              "size": 10,
              "solidity": 0.2
             }
            },
            "type": "bar"
           }
          ],
          "barpolar": [
           {
            "marker": {
             "line": {
              "color": "#E5ECF6",
              "width": 0.5
             },
             "pattern": {
              "fillmode": "overlay",
              "size": 10,
              "solidity": 0.2
             }
            },
            "type": "barpolar"
           }
          ],
          "carpet": [
           {
            "aaxis": {
             "endlinecolor": "#2a3f5f",
             "gridcolor": "white",
             "linecolor": "white",
             "minorgridcolor": "white",
             "startlinecolor": "#2a3f5f"
            },
            "baxis": {
             "endlinecolor": "#2a3f5f",
             "gridcolor": "white",
             "linecolor": "white",
             "minorgridcolor": "white",
             "startlinecolor": "#2a3f5f"
            },
            "type": "carpet"
           }
          ],
          "choropleth": [
           {
            "colorbar": {
             "outlinewidth": 0,
             "ticks": ""
            },
            "type": "choropleth"
           }
          ],
          "contour": [
           {
            "colorbar": {
             "outlinewidth": 0,
             "ticks": ""
            },
            "colorscale": [
             [
              0,
              "#0d0887"
             ],
             [
              0.1111111111111111,
              "#46039f"
             ],
             [
              0.2222222222222222,
              "#7201a8"
             ],
             [
              0.3333333333333333,
              "#9c179e"
             ],
             [
              0.4444444444444444,
              "#bd3786"
             ],
             [
              0.5555555555555556,
              "#d8576b"
             ],
             [
              0.6666666666666666,
              "#ed7953"
             ],
             [
              0.7777777777777778,
              "#fb9f3a"
             ],
             [
              0.8888888888888888,
              "#fdca26"
             ],
             [
              1,
              "#f0f921"
             ]
            ],
            "type": "contour"
           }
          ],
          "contourcarpet": [
           {
            "colorbar": {
             "outlinewidth": 0,
             "ticks": ""
            },
            "type": "contourcarpet"
           }
          ],
          "heatmap": [
           {
            "colorbar": {
             "outlinewidth": 0,
             "ticks": ""
            },
            "colorscale": [
             [
              0,
              "#0d0887"
             ],
             [
              0.1111111111111111,
              "#46039f"
             ],
             [
              0.2222222222222222,
              "#7201a8"
             ],
             [
              0.3333333333333333,
              "#9c179e"
             ],
             [
              0.4444444444444444,
              "#bd3786"
             ],
             [
              0.5555555555555556,
              "#d8576b"
             ],
             [
              0.6666666666666666,
              "#ed7953"
             ],
             [
              0.7777777777777778,
              "#fb9f3a"
             ],
             [
              0.8888888888888888,
              "#fdca26"
             ],
             [
              1,
              "#f0f921"
             ]
            ],
            "type": "heatmap"
           }
          ],
          "heatmapgl": [
           {
            "colorbar": {
             "outlinewidth": 0,
             "ticks": ""
            },
            "colorscale": [
             [
              0,
              "#0d0887"
             ],
             [
              0.1111111111111111,
              "#46039f"
             ],
             [
              0.2222222222222222,
              "#7201a8"
             ],
             [
              0.3333333333333333,
              "#9c179e"
             ],
             [
              0.4444444444444444,
              "#bd3786"
             ],
             [
              0.5555555555555556,
              "#d8576b"
             ],
             [
              0.6666666666666666,
              "#ed7953"
             ],
             [
              0.7777777777777778,
              "#fb9f3a"
             ],
             [
              0.8888888888888888,
              "#fdca26"
             ],
             [
              1,
              "#f0f921"
             ]
            ],
            "type": "heatmapgl"
           }
          ],
          "histogram": [
           {
            "marker": {
             "pattern": {
              "fillmode": "overlay",
              "size": 10,
              "solidity": 0.2
             }
            },
            "type": "histogram"
           }
          ],
          "histogram2d": [
           {
            "colorbar": {
             "outlinewidth": 0,
             "ticks": ""
            },
            "colorscale": [
             [
              0,
              "#0d0887"
             ],
             [
              0.1111111111111111,
              "#46039f"
             ],
             [
              0.2222222222222222,
              "#7201a8"
             ],
             [
              0.3333333333333333,
              "#9c179e"
             ],
             [
              0.4444444444444444,
              "#bd3786"
             ],
             [
              0.5555555555555556,
              "#d8576b"
             ],
             [
              0.6666666666666666,
              "#ed7953"
             ],
             [
              0.7777777777777778,
              "#fb9f3a"
             ],
             [
              0.8888888888888888,
              "#fdca26"
             ],
             [
              1,
              "#f0f921"
             ]
            ],
            "type": "histogram2d"
           }
          ],
          "histogram2dcontour": [
           {
            "colorbar": {
             "outlinewidth": 0,
             "ticks": ""
            },
            "colorscale": [
             [
              0,
              "#0d0887"
             ],
             [
              0.1111111111111111,
              "#46039f"
             ],
             [
              0.2222222222222222,
              "#7201a8"
             ],
             [
              0.3333333333333333,
              "#9c179e"
             ],
             [
              0.4444444444444444,
              "#bd3786"
             ],
             [
              0.5555555555555556,
              "#d8576b"
             ],
             [
              0.6666666666666666,
              "#ed7953"
             ],
             [
              0.7777777777777778,
              "#fb9f3a"
             ],
             [
              0.8888888888888888,
              "#fdca26"
             ],
             [
              1,
              "#f0f921"
             ]
            ],
            "type": "histogram2dcontour"
           }
          ],
          "mesh3d": [
           {
            "colorbar": {
             "outlinewidth": 0,
             "ticks": ""
            },
            "type": "mesh3d"
           }
          ],
          "parcoords": [
           {
            "line": {
             "colorbar": {
              "outlinewidth": 0,
              "ticks": ""
             }
            },
            "type": "parcoords"
           }
          ],
          "pie": [
           {
            "automargin": true,
            "type": "pie"
           }
          ],
          "scatter": [
           {
            "fillpattern": {
             "fillmode": "overlay",
             "size": 10,
             "solidity": 0.2
            },
            "type": "scatter"
           }
          ],
          "scatter3d": [
           {
            "line": {
             "colorbar": {
              "outlinewidth": 0,
              "ticks": ""
             }
            },
            "marker": {
             "colorbar": {
              "outlinewidth": 0,
              "ticks": ""
             }
            },
            "type": "scatter3d"
           }
          ],
          "scattercarpet": [
           {
            "marker": {
             "colorbar": {
              "outlinewidth": 0,
              "ticks": ""
             }
            },
            "type": "scattercarpet"
           }
          ],
          "scattergeo": [
           {
            "marker": {
             "colorbar": {
              "outlinewidth": 0,
              "ticks": ""
             }
            },
            "type": "scattergeo"
           }
          ],
          "scattergl": [
           {
            "marker": {
             "colorbar": {
              "outlinewidth": 0,
              "ticks": ""
             }
            },
            "type": "scattergl"
           }
          ],
          "scattermapbox": [
           {
            "marker": {
             "colorbar": {
              "outlinewidth": 0,
              "ticks": ""
             }
            },
            "type": "scattermapbox"
           }
          ],
          "scatterpolar": [
           {
            "marker": {
             "colorbar": {
              "outlinewidth": 0,
              "ticks": ""
             }
            },
            "type": "scatterpolar"
           }
          ],
          "scatterpolargl": [
           {
            "marker": {
             "colorbar": {
              "outlinewidth": 0,
              "ticks": ""
             }
            },
            "type": "scatterpolargl"
           }
          ],
          "scatterternary": [
           {
            "marker": {
             "colorbar": {
              "outlinewidth": 0,
              "ticks": ""
             }
            },
            "type": "scatterternary"
           }
          ],
          "surface": [
           {
            "colorbar": {
             "outlinewidth": 0,
             "ticks": ""
            },
            "colorscale": [
             [
              0,
              "#0d0887"
             ],
             [
              0.1111111111111111,
              "#46039f"
             ],
             [
              0.2222222222222222,
              "#7201a8"
             ],
             [
              0.3333333333333333,
              "#9c179e"
             ],
             [
              0.4444444444444444,
              "#bd3786"
             ],
             [
              0.5555555555555556,
              "#d8576b"
             ],
             [
              0.6666666666666666,
              "#ed7953"
             ],
             [
              0.7777777777777778,
              "#fb9f3a"
             ],
             [
              0.8888888888888888,
              "#fdca26"
             ],
             [
              1,
              "#f0f921"
             ]
            ],
            "type": "surface"
           }
          ],
          "table": [
           {
            "cells": {
             "fill": {
              "color": "#EBF0F8"
             },
             "line": {
              "color": "white"
             }
            },
            "header": {
             "fill": {
              "color": "#C8D4E3"
             },
             "line": {
              "color": "white"
             }
            },
            "type": "table"
           }
          ]
         },
         "layout": {
          "annotationdefaults": {
           "arrowcolor": "#2a3f5f",
           "arrowhead": 0,
           "arrowwidth": 1
          },
          "autotypenumbers": "strict",
          "coloraxis": {
           "colorbar": {
            "outlinewidth": 0,
            "ticks": ""
           }
          },
          "colorscale": {
           "diverging": [
            [
             0,
             "#8e0152"
            ],
            [
             0.1,
             "#c51b7d"
            ],
            [
             0.2,
             "#de77ae"
            ],
            [
             0.3,
             "#f1b6da"
            ],
            [
             0.4,
             "#fde0ef"
            ],
            [
             0.5,
             "#f7f7f7"
            ],
            [
             0.6,
             "#e6f5d0"
            ],
            [
             0.7,
             "#b8e186"
            ],
            [
             0.8,
             "#7fbc41"
            ],
            [
             0.9,
             "#4d9221"
            ],
            [
             1,
             "#276419"
            ]
           ],
           "sequential": [
            [
             0,
             "#0d0887"
            ],
            [
             0.1111111111111111,
             "#46039f"
            ],
            [
             0.2222222222222222,
             "#7201a8"
            ],
            [
             0.3333333333333333,
             "#9c179e"
            ],
            [
             0.4444444444444444,
             "#bd3786"
            ],
            [
             0.5555555555555556,
             "#d8576b"
            ],
            [
             0.6666666666666666,
             "#ed7953"
            ],
            [
             0.7777777777777778,
             "#fb9f3a"
            ],
            [
             0.8888888888888888,
             "#fdca26"
            ],
            [
             1,
             "#f0f921"
            ]
           ],
           "sequentialminus": [
            [
             0,
             "#0d0887"
            ],
            [
             0.1111111111111111,
             "#46039f"
            ],
            [
             0.2222222222222222,
             "#7201a8"
            ],
            [
             0.3333333333333333,
             "#9c179e"
            ],
            [
             0.4444444444444444,
             "#bd3786"
            ],
            [
             0.5555555555555556,
             "#d8576b"
            ],
            [
             0.6666666666666666,
             "#ed7953"
            ],
            [
             0.7777777777777778,
             "#fb9f3a"
            ],
            [
             0.8888888888888888,
             "#fdca26"
            ],
            [
             1,
             "#f0f921"
            ]
           ]
          },
          "colorway": [
           "#636efa",
           "#EF553B",
           "#00cc96",
           "#ab63fa",
           "#FFA15A",
           "#19d3f3",
           "#FF6692",
           "#B6E880",
           "#FF97FF",
           "#FECB52"
          ],
          "font": {
           "color": "#2a3f5f"
          },
          "geo": {
           "bgcolor": "white",
           "lakecolor": "white",
           "landcolor": "#E5ECF6",
           "showlakes": true,
           "showland": true,
           "subunitcolor": "white"
          },
          "hoverlabel": {
           "align": "left"
          },
          "hovermode": "closest",
          "mapbox": {
           "style": "light"
          },
          "paper_bgcolor": "white",
          "plot_bgcolor": "#E5ECF6",
          "polar": {
           "angularaxis": {
            "gridcolor": "white",
            "linecolor": "white",
            "ticks": ""
           },
           "bgcolor": "#E5ECF6",
           "radialaxis": {
            "gridcolor": "white",
            "linecolor": "white",
            "ticks": ""
           }
          },
          "scene": {
           "xaxis": {
            "backgroundcolor": "#E5ECF6",
            "gridcolor": "white",
            "gridwidth": 2,
            "linecolor": "white",
            "showbackground": true,
            "ticks": "",
            "zerolinecolor": "white"
           },
           "yaxis": {
            "backgroundcolor": "#E5ECF6",
            "gridcolor": "white",
            "gridwidth": 2,
            "linecolor": "white",
            "showbackground": true,
            "ticks": "",
            "zerolinecolor": "white"
           },
           "zaxis": {
            "backgroundcolor": "#E5ECF6",
            "gridcolor": "white",
            "gridwidth": 2,
            "linecolor": "white",
            "showbackground": true,
            "ticks": "",
            "zerolinecolor": "white"
           }
          },
          "shapedefaults": {
           "line": {
            "color": "#2a3f5f"
           }
          },
          "ternary": {
           "aaxis": {
            "gridcolor": "white",
            "linecolor": "white",
            "ticks": ""
           },
           "baxis": {
            "gridcolor": "white",
            "linecolor": "white",
            "ticks": ""
           },
           "bgcolor": "#E5ECF6",
           "caxis": {
            "gridcolor": "white",
            "linecolor": "white",
            "ticks": ""
           }
          },
          "title": {
           "x": 0.05
          },
          "xaxis": {
           "automargin": true,
           "gridcolor": "white",
           "linecolor": "white",
           "ticks": "",
           "title": {
            "standoff": 15
           },
           "zerolinecolor": "white",
           "zerolinewidth": 2
          },
          "yaxis": {
           "automargin": true,
           "gridcolor": "white",
           "linecolor": "white",
           "ticks": "",
           "title": {
            "standoff": 15
           },
           "zerolinecolor": "white",
           "zerolinewidth": 2
          }
         }
        }
       }
      }
     },
     "metadata": {},
     "output_type": "display_data"
    }
   ],
   "source": [
    "df = plot_features_3D(feature_map, plottype=\"scatter\")"
   ]
  },
  {
   "cell_type": "code",
   "execution_count": null,
   "metadata": {},
   "outputs": [
    {
     "data": {
      "text/html": [
       "<div>\n",
       "<style scoped>\n",
       "    .dataframe tbody tr th:only-of-type {\n",
       "        vertical-align: middle;\n",
       "    }\n",
       "\n",
       "    .dataframe tbody tr th {\n",
       "        vertical-align: top;\n",
       "    }\n",
       "\n",
       "    .dataframe thead th {\n",
       "        text-align: right;\n",
       "    }\n",
       "</style>\n",
       "<table border=\"1\" class=\"dataframe\">\n",
       "  <thead>\n",
       "    <tr style=\"text-align: right;\">\n",
       "      <th></th>\n",
       "      <th>m/z</th>\n",
       "      <th>rt</th>\n",
       "      <th>intensity</th>\n",
       "      <th>feature</th>\n",
       "    </tr>\n",
       "  </thead>\n",
       "  <tbody>\n",
       "    <tr>\n",
       "      <th>0</th>\n",
       "      <td>57.032701</td>\n",
       "      <td>3.017</td>\n",
       "      <td>57.032684</td>\n",
       "      <td>1.092705e+19</td>\n",
       "    </tr>\n",
       "    <tr>\n",
       "      <th>1</th>\n",
       "      <td>57.032701</td>\n",
       "      <td>3.732</td>\n",
       "      <td>57.032696</td>\n",
       "      <td>1.092705e+19</td>\n",
       "    </tr>\n",
       "    <tr>\n",
       "      <th>2</th>\n",
       "      <td>57.032701</td>\n",
       "      <td>4.446</td>\n",
       "      <td>57.032703</td>\n",
       "      <td>1.092705e+19</td>\n",
       "    </tr>\n",
       "    <tr>\n",
       "      <th>3</th>\n",
       "      <td>57.032701</td>\n",
       "      <td>5.161</td>\n",
       "      <td>57.032700</td>\n",
       "      <td>1.092705e+19</td>\n",
       "    </tr>\n",
       "    <tr>\n",
       "      <th>4</th>\n",
       "      <td>57.032701</td>\n",
       "      <td>5.875</td>\n",
       "      <td>57.032711</td>\n",
       "      <td>1.092705e+19</td>\n",
       "    </tr>\n",
       "    <tr>\n",
       "      <th>...</th>\n",
       "      <td>...</td>\n",
       "      <td>...</td>\n",
       "      <td>...</td>\n",
       "      <td>...</td>\n",
       "    </tr>\n",
       "    <tr>\n",
       "      <th>75397</th>\n",
       "      <td>1129.255824</td>\n",
       "      <td>12.305</td>\n",
       "      <td>1130.256592</td>\n",
       "      <td>6.417598e+18</td>\n",
       "    </tr>\n",
       "    <tr>\n",
       "      <th>75398</th>\n",
       "      <td>1129.255824</td>\n",
       "      <td>11.591</td>\n",
       "      <td>1130.257202</td>\n",
       "      <td>6.417598e+18</td>\n",
       "    </tr>\n",
       "    <tr>\n",
       "      <th>75399</th>\n",
       "      <td>1129.255824</td>\n",
       "      <td>10.876</td>\n",
       "      <td>1130.258179</td>\n",
       "      <td>6.417598e+18</td>\n",
       "    </tr>\n",
       "    <tr>\n",
       "      <th>75400</th>\n",
       "      <td>1129.255824</td>\n",
       "      <td>10.162</td>\n",
       "      <td>1130.257812</td>\n",
       "      <td>6.417598e+18</td>\n",
       "    </tr>\n",
       "    <tr>\n",
       "      <th>75401</th>\n",
       "      <td>1129.255824</td>\n",
       "      <td>9.447</td>\n",
       "      <td>1130.257812</td>\n",
       "      <td>6.417598e+18</td>\n",
       "    </tr>\n",
       "  </tbody>\n",
       "</table>\n",
       "<p>75402 rows × 4 columns</p>\n",
       "</div>"
      ],
      "text/plain": [
       "               m/z      rt    intensity       feature\n",
       "0        57.032701   3.017    57.032684  1.092705e+19\n",
       "1        57.032701   3.732    57.032696  1.092705e+19\n",
       "2        57.032701   4.446    57.032703  1.092705e+19\n",
       "3        57.032701   5.161    57.032700  1.092705e+19\n",
       "4        57.032701   5.875    57.032711  1.092705e+19\n",
       "...            ...     ...          ...           ...\n",
       "75397  1129.255824  12.305  1130.256592  6.417598e+18\n",
       "75398  1129.255824  11.591  1130.257202  6.417598e+18\n",
       "75399  1129.255824  10.876  1130.258179  6.417598e+18\n",
       "75400  1129.255824  10.162  1130.257812  6.417598e+18\n",
       "75401  1129.255824   9.447  1130.257812  6.417598e+18\n",
       "\n",
       "[75402 rows x 4 columns]"
      ]
     },
     "execution_count": 59,
     "metadata": {},
     "output_type": "execute_result"
    }
   ],
   "source": [
    "df"
   ]
  },
  {
   "cell_type": "code",
   "execution_count": null,
   "metadata": {},
   "outputs": [
    {
     "data": {
      "text/plain": [
       "(25, 25)"
      ]
     },
     "execution_count": 176,
     "metadata": {},
     "output_type": "execute_result"
    }
   ],
   "source": [
    "z_data = pd.read_csv('https://raw.githubusercontent.com/plotly/datasets/master/api_docs/mt_bruno_elevation.csv')\n",
    "z_data.values.shape"
   ]
  },
  {
   "cell_type": "code",
   "execution_count": null,
   "metadata": {},
   "outputs": [],
   "source": []
  },
  {
   "cell_type": "code",
   "execution_count": null,
   "metadata": {},
   "outputs": [],
   "source": [
    "feature = feature_map[0]"
   ]
  },
  {
   "cell_type": "code",
   "execution_count": null,
   "metadata": {},
   "outputs": [],
   "source": []
  }
 ],
 "metadata": {
  "kernelspec": {
   "display_name": "gemml",
   "language": "python",
   "name": "python3"
  },
  "language_info": {
   "codemirror_mode": {
    "name": "ipython",
    "version": 3
   },
   "file_extension": ".py",
   "mimetype": "text/x-python",
   "name": "python",
   "nbconvert_exporter": "python",
   "pygments_lexer": "ipython3",
   "version": "3.11.0"
  }
 },
 "nbformat": 4,
 "nbformat_minor": 2
}
