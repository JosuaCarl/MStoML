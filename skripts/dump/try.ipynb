{
 "cells": [
  {
   "cell_type": "code",
   "execution_count": 74,
   "metadata": {
    "ExecuteTime": {
     "end_time": "2024-01-24T17:26:04.331182945Z",
     "start_time": "2024-01-24T17:26:01.402929478Z"
    }
   },
   "outputs": [
    {
     "name": "stdout",
     "output_type": "stream",
     "text": [
      "Warning: OPENMS_DATA_PATH environment variable already exists. pyOpenMS will use it (C:\\Program Files\\OpenMS-3.1.0\\share\\OpenMS) to locate data in the OpenMS share folder (e.g., the unimod database), instead of the default (c:\\Users\\JosuaCarl\\miniconda3\\envs\\gemml\\Lib\\site-packages\\pyopenms\\share/OpenMS).\n"
     ]
    }
   ],
   "source": [
    "# Imports\n",
    "import os\n",
    "import datetime\n",
    "import json\n",
    "from typing import overload, Any, List, Dict, Tuple, Set, Sequence, Union\n",
    "from numpy import *\n",
    "import pandas as pd\n",
    "import pyopenms as oms\n",
    "import matplotlib.pyplot as plt\n",
    "import seaborn as sns\n",
    "import plotly.graph_objects as go\n",
    "import plotly.express as px\n",
    "from tqdm import tqdm\n",
    "import shutil\n",
    "import requests\n",
    "from sklearn.impute import KNNImputer\n",
    "from sklearn.preprocessing import FunctionTransformer\n",
    "from sklearn.pipeline import Pipeline\n",
    "\n",
    "# Ignore seaborn warning for future deprecation of module part\n",
    "import warnings\n",
    "warnings.simplefilter(action='ignore', category=FutureWarning)\n",
    "\n",
    "# import methods from FIA python script\n",
    "from FIA import *\n",
    "\n",
    "oms.LogConfigHandler().setLogLevel(\"DEBUG\")"
   ]
  },
  {
   "cell_type": "code",
   "execution_count": 75,
   "metadata": {},
   "outputs": [],
   "source": [
    "def sirius_integration(sirius_path: Union[str, oms.String], feature_xml_path: str, msfile_path:str, csifingerid_path:str, experiment_path:str, experiment:oms.MSExperiment=None,\n",
    "                       email:Union[str, oms.String]=None, password:Union[str, oms.String]=None,\n",
    "                       filter_by_num_masstraces:int=1, precursor_mz_tolerance:float=10.0, precursor_mz_tolerance_unit:str=\"ppm\", precursor_rt_tolerance:float=5.0,\n",
    "                       isotope_pattern_iterations:int=3, feature_only:str=\"false\", max_mz:int=-1, log_level:str=\"WARNING\"):\n",
    "    \"\"\"\n",
    "    Preprocess and export .ms files for SIRIUS\n",
    "    \"\"\"\n",
    "    experiment = load_experiment(experiment_path, experiment)\n",
    "    clean_dir(msfile_path)\n",
    "    clean_dir(csifingerid_path)\n",
    "\n",
    "    saa = oms.SiriusAdapterAlgorithm()\n",
    "    param = saa.getDefaults()\n",
    "    param.setValue(\"preprocessing:filter_by_num_masstraces\", filter_by_num_masstraces)\n",
    "    param.setValue(\"preprocessing:precursor_mz_tolerance\", precursor_mz_tolerance)\n",
    "    param.setValue(\"preprocessing:precursor_mz_tolerance_unit\", precursor_mz_tolerance_unit)\n",
    "    param.setValue(\"preprocessing:precursor_rt_tolerance\", precursor_rt_tolerance)\n",
    "    param.setValue(\"preprocessing:isotope_pattern_iterations\", isotope_pattern_iterations)\n",
    "    param.setValue(\"preprocessing:feature_only\", feature_only)\n",
    "    param.setValue(\"project:maxmz\", max_mz)\n",
    "    param.setValue(\"project:loglevel\", log_level)\n",
    "    saa.setParameters(param)\n",
    "\n",
    "    saa.determineSiriusExecutable(sirius_path)\n",
    "    saa. logInSiriusAccount(sirius_path, email, password)\n",
    "\n",
    "    feature_mapping = oms.FeatureMapping_FeatureToMs2Indices()\n",
    "    fm_info = oms.FeatureMapping_FeatureMappingInfo()\n",
    "    saa.preprocessingSirius(feature_xml_path, experiment, fm_info, feature_mapping)\n",
    "\n",
    "    saa.logFeatureSpectraNumber(feature_xml_path, feature_mapping, experiment)\n",
    "\n",
    "    tmp_ms_file = clean_dir(os.path.dirname(feature_xml_path), \"tmp_ms\")\n",
    "    tmp_out_dir = clean_dir(os.path.dirname(feature_xml_path), \"tmp\")\n",
    "    v_cmpinfo = saa.callSiriusQProcess( tmp_ms_file, tmp_out_dir, sirius_path, csifingerid_path, False)\n",
    "\n",
    "    smsf = oms.SiriusMSFile()\n",
    "    smsf.store(experiment, os.path.join(msfile_path, os.path.basename(feature_xml_path)[:-11] + \".ms\"), feature_mapping, feature_only, isotope_pattern_iterations, False, v_cmpinfo)\n",
    "\n",
    "    return v_cmpinfo \t"
   ]
  },
  {
   "cell_type": "code",
   "execution_count": 76,
   "metadata": {},
   "outputs": [],
   "source": [
    "c = sirius_integration(oms.String(r\"C:\\Program Files\\OpenMS-3.1.0\\share\\OpenMS\\THIRDPARTY\\Sirius\\sirius.bat\"), r\"..\\runs\\example\\features_rtaligned\\mg1655_P3-A8_neg.featureXML\",\n",
    "                   r\"..\\runs\\example\\mss\", r\"..\\runs\\example\\csifingerids\", r\"..\\data\\example data\\exampleA_ecolistrains\\mg1655_P3-A8_neg.mzXML\", experiment=None, \n",
    "                   email=oms.String(\"josua.carl@uni-tuebingen.de\"), password=pw,\n",
    "                   filter_by_num_masstraces=1, precursor_mz_tolerance=10.0, precursor_mz_tolerance_unit=\"ppm\", precursor_rt_tolerance=5.0,\n",
    "                   isotope_pattern_iterations=3, feature_only=\"false\", max_mz=-1, log_level=\"ALL\")"
   ]
  },
  {
   "cell_type": "code",
   "execution_count": 28,
   "metadata": {},
   "outputs": [],
   "source": [
    "pw = oms.String(\"H43fft4260!\")"
   ]
  },
  {
   "cell_type": "code",
   "execution_count": 2,
   "metadata": {},
   "outputs": [
    {
     "ename": "AssertionError",
     "evalue": "arg executable wrong type",
     "output_type": "error",
     "traceback": [
      "\u001b[1;31m---------------------------------------------------------------------------\u001b[0m",
      "\u001b[1;31mAssertionError\u001b[0m                            Traceback (most recent call last)",
      "Cell \u001b[1;32mIn[3], line 1\u001b[0m\n\u001b[1;32m----> 1\u001b[0m \u001b[43msirius_integration\u001b[49m\u001b[43m(\u001b[49m\u001b[38;5;124;43mr\u001b[39;49m\u001b[38;5;124;43m\"\u001b[39;49m\u001b[38;5;124;43mC:\u001b[39;49m\u001b[38;5;124;43m\\\u001b[39;49m\u001b[38;5;124;43mProgram Files\u001b[39;49m\u001b[38;5;124;43m\\\u001b[39;49m\u001b[38;5;124;43mOpenMS-3.1.0\u001b[39;49m\u001b[38;5;124;43m\\\u001b[39;49m\u001b[38;5;124;43mshare\u001b[39;49m\u001b[38;5;124;43m\\\u001b[39;49m\u001b[38;5;124;43mOpenMS\u001b[39;49m\u001b[38;5;124;43m\\\u001b[39;49m\u001b[38;5;124;43mTHIRDPARTY\u001b[39;49m\u001b[38;5;124;43m\\\u001b[39;49m\u001b[38;5;124;43mSirius\u001b[39;49m\u001b[38;5;124;43m\\\u001b[39;49m\u001b[38;5;124;43msirius.bat\u001b[39;49m\u001b[38;5;124;43m\"\u001b[39;49m\u001b[43m,\u001b[49m\u001b[43m \u001b[49m\u001b[38;5;124;43mr\u001b[39;49m\u001b[38;5;124;43m\"\u001b[39;49m\u001b[38;5;124;43m..\u001b[39;49m\u001b[38;5;124;43m\\\u001b[39;49m\u001b[38;5;124;43mruns\u001b[39;49m\u001b[38;5;124;43m\\\u001b[39;49m\u001b[38;5;124;43mexample\u001b[39;49m\u001b[38;5;124;43m\\\u001b[39;49m\u001b[38;5;124;43mfeatures_rtaligned\u001b[39;49m\u001b[38;5;124;43m\\\u001b[39;49m\u001b[38;5;124;43mmg1655_P3-A8_neg.featureXML\u001b[39;49m\u001b[38;5;124;43m\"\u001b[39;49m\u001b[43m,\u001b[49m\u001b[43m \u001b[49m\u001b[38;5;124;43mr\u001b[39;49m\u001b[38;5;124;43m\"\u001b[39;49m\u001b[38;5;124;43m..\u001b[39;49m\u001b[38;5;124;43m\\\u001b[39;49m\u001b[38;5;124;43mruns\u001b[39;49m\u001b[38;5;124;43m\\\u001b[39;49m\u001b[38;5;124;43mexample\u001b[39;49m\u001b[38;5;124;43m\\\u001b[39;49m\u001b[38;5;124;43mmss\u001b[39;49m\u001b[38;5;124;43m\"\u001b[39;49m\u001b[43m,\u001b[49m\n\u001b[0;32m      2\u001b[0m \u001b[43m                   \u001b[49m\u001b[38;5;124;43mr\u001b[39;49m\u001b[38;5;124;43m\"\u001b[39;49m\u001b[38;5;124;43m..\u001b[39;49m\u001b[38;5;124;43m\\\u001b[39;49m\u001b[38;5;124;43mruns\u001b[39;49m\u001b[38;5;124;43m\\\u001b[39;49m\u001b[38;5;124;43mexample\u001b[39;49m\u001b[38;5;124;43m\\\u001b[39;49m\u001b[38;5;124;43mcsifingerids\u001b[39;49m\u001b[38;5;124;43m\"\u001b[39;49m\u001b[43m,\u001b[49m\u001b[43m \u001b[49m\u001b[38;5;124;43mr\u001b[39;49m\u001b[38;5;124;43m\"\u001b[39;49m\u001b[38;5;124;43m..\u001b[39;49m\u001b[38;5;124;43m\\\u001b[39;49m\u001b[38;5;124;43mdata\u001b[39;49m\u001b[38;5;124;43m\\\u001b[39;49m\u001b[38;5;124;43mexample data\u001b[39;49m\u001b[38;5;124;43m\\\u001b[39;49m\u001b[38;5;124;43mexampleA_ecolistrains\u001b[39;49m\u001b[38;5;124;43m\\\u001b[39;49m\u001b[38;5;124;43mmg1655_P3-A8_neg.mzXML\u001b[39;49m\u001b[38;5;124;43m\"\u001b[39;49m\u001b[43m,\u001b[49m\u001b[43m \u001b[49m\u001b[43mexperiment\u001b[49m\u001b[38;5;241;43m=\u001b[39;49m\u001b[38;5;28;43;01mNone\u001b[39;49;00m\u001b[43m,\u001b[49m\u001b[43m \u001b[49m\u001b[43memail\u001b[49m\u001b[38;5;241;43m=\u001b[39;49m\u001b[38;5;28;43;01mNone\u001b[39;49;00m\u001b[43m,\u001b[49m\u001b[43m \u001b[49m\u001b[43mpassword\u001b[49m\u001b[38;5;241;43m=\u001b[39;49m\u001b[38;5;28;43;01mNone\u001b[39;49;00m\u001b[43m,\u001b[49m\n\u001b[0;32m      3\u001b[0m \u001b[43m                   \u001b[49m\u001b[43mfilter_by_num_masstraces\u001b[49m\u001b[38;5;241;43m=\u001b[39;49m\u001b[38;5;241;43m1\u001b[39;49m\u001b[43m,\u001b[49m\u001b[43m \u001b[49m\u001b[43mprecursor_mz_tolerance\u001b[49m\u001b[38;5;241;43m=\u001b[39;49m\u001b[38;5;241;43m10.0\u001b[39;49m\u001b[43m,\u001b[49m\u001b[43m \u001b[49m\u001b[43mprecursor_mz_tolerance_unit\u001b[49m\u001b[38;5;241;43m=\u001b[39;49m\u001b[38;5;124;43m\"\u001b[39;49m\u001b[38;5;124;43mppm\u001b[39;49m\u001b[38;5;124;43m\"\u001b[39;49m\u001b[43m,\u001b[49m\u001b[43m \u001b[49m\u001b[43mprecursor_rt_tolerance\u001b[49m\u001b[38;5;241;43m=\u001b[39;49m\u001b[38;5;241;43m5.0\u001b[39;49m\u001b[43m,\u001b[49m\n\u001b[0;32m      4\u001b[0m \u001b[43m                   \u001b[49m\u001b[43misotope_pattern_iterations\u001b[49m\u001b[38;5;241;43m=\u001b[39;49m\u001b[38;5;241;43m3\u001b[39;49m\u001b[43m,\u001b[49m\u001b[43m \u001b[49m\u001b[43mfeature_only\u001b[49m\u001b[38;5;241;43m=\u001b[39;49m\u001b[38;5;124;43m\"\u001b[39;49m\u001b[38;5;124;43mfalse\u001b[39;49m\u001b[38;5;124;43m\"\u001b[39;49m\u001b[43m,\u001b[49m\u001b[43m \u001b[49m\u001b[43mmaxmz\u001b[49m\u001b[38;5;241;43m=\u001b[39;49m\u001b[38;5;241;43m-\u001b[39;49m\u001b[38;5;241;43m1\u001b[39;49m\u001b[43m)\u001b[49m\n",
      "Cell \u001b[1;32mIn[2], line 22\u001b[0m, in \u001b[0;36msirius_integration\u001b[1;34m(sirius_path, feature_xml_path, msfile_path, csifingerid_path, experiment_path, experiment, email, password, filter_by_num_masstraces, precursor_mz_tolerance, precursor_mz_tolerance_unit, precursor_rt_tolerance, isotope_pattern_iterations, feature_only, maxmz)\u001b[0m\n\u001b[0;32m     19\u001b[0m param\u001b[38;5;241m.\u001b[39msetValue(\u001b[38;5;124m\"\u001b[39m\u001b[38;5;124mpreprocessing:feature_only\u001b[39m\u001b[38;5;124m\"\u001b[39m, feature_only)\n\u001b[0;32m     20\u001b[0m param\u001b[38;5;241m.\u001b[39msetValue(\u001b[38;5;124m\"\u001b[39m\u001b[38;5;124mproject:maxmz\u001b[39m\u001b[38;5;124m\"\u001b[39m, maxmz)\n\u001b[1;32m---> 22\u001b[0m \u001b[43msaa\u001b[49m\u001b[38;5;241;43m.\u001b[39;49m\u001b[43mdetermineSiriusExecutable\u001b[49m\u001b[43m(\u001b[49m\u001b[43msirius_path\u001b[49m\u001b[43m)\u001b[49m\n\u001b[0;32m     23\u001b[0m saa\u001b[38;5;241m.\u001b[39m logInSiriusAccount(sirius_path, email, password)\n\u001b[0;32m     25\u001b[0m feature_mapping \u001b[38;5;241m=\u001b[39m oms\u001b[38;5;241m.\u001b[39mFeatureMapping_FeatureToMs2Indices()\n",
      "File \u001b[1;32mpyopenms\\\\_pyopenms_7.pyx:11554\u001b[0m, in \u001b[0;36mpyopenms._pyopenms_7.SiriusAdapterAlgorithm.determineSiriusExecutable\u001b[1;34m()\u001b[0m\n",
      "\u001b[1;31mAssertionError\u001b[0m: arg executable wrong type"
     ]
    }
   ],
   "source": [
    "\n",
    "sirius_integration(oms.String(r\"C:\\Program Files\\OpenMS-3.1.0\\share\\OpenMS\\THIRDPARTY\\Sirius\\sirius.bat\"), r\"..\\runs\\example\\features_rtaligned\\mg1655_P3-A8_neg.featureXML\", r\"..\\runs\\example\\mss\",\n",
    "                   r\"..\\runs\\example\\csifingerids\", r\"..\\data\\example data\\exampleA_ecolistrains\\mg1655_P3-A8_neg.mzXML\", experiment=None, email=None, password=None,\n",
    "                   filter_by_num_masstraces=1, precursor_mz_tolerance=10.0, precursor_mz_tolerance_unit=\"ppm\", precursor_rt_tolerance=5.0,\n",
    "                   isotope_pattern_iterations=3, feature_only=\"false\", maxmz=-1)"
   ]
  },
  {
   "cell_type": "code",
   "execution_count": 2,
   "metadata": {},
   "outputs": [
    {
     "name": "stdout",
     "output_type": "stream",
     "text": [
      "Param: b'read_sirius_stdout' Value: false Description: Read and print the standard output and error of the Sirius executable, even if it succeeds.\n",
      "Param: b'preprocessing:filter_by_num_masstraces' Value: 1 Description: Number of mass traces each feature has to have to be included. To use this parameter, setting the feature_only flag is necessary\n",
      "Param: b'preprocessing:precursor_mz_tolerance' Value: 10.0 Description: Tolerance window for precursor selection (Feature selection in regard to the precursor)\n",
      "Param: b'preprocessing:precursor_mz_tolerance_unit' Value: ppm Description: Unit of the precursor_mz_tolerance\n",
      "Param: b'preprocessing:precursor_rt_tolerance' Value: 5.0 Description: Tolerance window (left and right) for precursor selection [seconds]\n",
      "Param: b'preprocessing:isotope_pattern_iterations' Value: 3 Description: Number of iterations that should be performed to extract the C13 isotope pattern. If no peak is found (C13 distance) the function will abort. Be careful with noisy data - since this can lead to wrong isotope patterns\n",
      "Param: b'preprocessing:feature_only' Value: false Description: Uses the feature information from in_featureinfo to reduce the search space to MS2 associated with a feature\n",
      "Param: b'preprocessing:no_masstrace_info_isotope_pattern' Value: false Description: Use this flag if the masstrace information from a feature should be discarded and the isotope_pattern_iterations should be used instead\n",
      "Param: b'project:maxmz' Value: -1 Description: Just consider compounds with a precursor mz lower or equal\n",
      "this maximum mz. All other compounds in the input file\n",
      "are ignored.\n",
      "Param: b'project:processors' Value: 1 Description: Number of cpu cores to use. If not specified SIRIUS uses all available cores.\n",
      "Param: b'project:loglevel' Value:  Description: Set logging level of the Jobs SIRIUS will execute.\n",
      "Valid values: SEVERE, WARNING, INFO, FINER, ALL\n",
      "Default: WARNING\n",
      "Param: b'project:ignore_formula' Value: false Description: Ignore given molecular formula in internal .ms format, while processing.\n",
      "Param: b'project:q' Value: false Description: Suppress shell output\n",
      "Param: b'sirius:ppm_max' Value: 10.0 Description: Maximum allowed mass deviation in ppm for decomposing masses [ppm].\n",
      "Param: b'sirius:ppm_max_ms2' Value: 10.0 Description: Maximum allowed mass deviation in ppm for decomposing masses in MS2 [ppm].If not specified, the same value as for the MS1 is used. \n",
      "Param: b'sirius:tree_timeout' Value: 100 Description: Time out in seconds per fragmentation tree computations. 0 for an infinite amount of time\n",
      "Param: b'sirius:compound_timeout' Value: 100 Description: Maximal computation time in seconds for a single compound. 0 for an infinite amount of time.\n",
      "Param: b'sirius:no_recalibration' Value: false Description: Disable recalibration of input spectra\n",
      "Param: b'sirius:profile' Value: default Description: Name of the configuration profile\n",
      "Param: b'sirius:formulas' Value:  Description: Specify the neutral molecular formula of the measured compound to compute its tree or a list of candidate formulas the method should discriminate. Omit this option if you want to consider all possible molecular formulas\n",
      "Param: b'sirius:ions_enforced' Value:  Description: The iontype/adduct of the MS/MS data. Example: [M+H]+, \n",
      "[M-H]-, [M+Cl]-, [M+Na]+, [M]+. You can also provide a \n",
      "comma separated list of adducts.\n",
      "Param: b'sirius:candidates' Value: 10 Description: The number of formula candidates in the SIRIUS output\n",
      "Param: b'sirius:candidates_per_ion' Value: 1 Description: Minimum number of candidates in the output for each ionization. Set to force output of results for each possible ionization, even if not part of highest ranked results.\n",
      "Param: b'sirius:elements_considered' Value: SBrClBSe Description: Set the allowed elements for rare element detection. Write SBrClBSe to allow the elements S,Br,Cl,B and Se.\n",
      "Param: b'sirius:elements_enforced' Value: CHNOP Description: Enforce elements for molecular formula determination. Write CHNOPSCl to allow the elements C, H, N, O, P, S and Cl. Add numbers in brackets to restrict the minimal and maximal allowed occurrence of these elements: CHNOP[5]S[8]Cl[1-2]. When one number is given then it is interpreted as upper bound.\n",
      "Param: b'sirius:no_isotope_score' Value: false Description: Disable isotope pattern score.\n",
      "Param: b'sirius:no_isotope_filter' Value: false Description: Disable molecular formula filter. When filtering is enabled, molecular formulas are excluded if their theoretical isotope pattern does not match the theoretical one, even if their MS/MS pattern has high score.\n",
      "Param: b'sirius:ions_considered' Value: [M+H]+,[M+K]+,[M+Na]+,[M+H-H2O]+,[M+H-H4O2]+,[M+NH4]+,[M-H]-,[M+Cl]-,[M-H2O-H]-,[M+Br]- Description: the iontype/adduct of the MS/MS data. Example: [M+H]+, [M-H]-, [M+Cl]-, [M+Na]+, [M]+. You can also provide a comma separated list of adducts.\n",
      "Param: b'sirius:db' Value: none Description: Search formulas in the Union of the given databases db-name1,db-name2,db-name3. If no database is given all possible molecular formulas will be respected (no database is used). Example: possible DBs: ALL,BIO,PUBCHEM,MESH,HMDB,KNAPSACK,CHEBI,PUBMED,KEGG,HSDB,MACONDA,METACYC,GNPS,ZINCBIO,UNDP,YMDB,PLANTCYC,NORMAN,ADDITIONAL,PUBCHEMANNOTATIONBIO,PUBCHEMANNOTATIONDRUG,PUBCHEMANNOTATIONSAFETYANDTOXIC,PUBCHEMANNOTATIONFOOD,KEGGMINE,ECOCYCMINE,YMDBMINE\n",
      "Param: b'sirius:solver' Value: CLP Description: For GUROBI and CPLEX environment variables need to be configured. \n",
      "(see SIRIUS manual: https://boecker-lab.github.io/docs.sirius.github.io/install/).\n",
      "Param: b'fingerid:db' Value:  Description: Search structures in the Union of the given databases db-name1,db-name2,db-name3. If no database is given all possible molecular formulas will be respected (no database is used). Example: possible DBs: ALL,BIO,PUBCHEM,MESH,HMDB,KNAPSACK,CHEBI,PUBMED,KEGG,HSDB,MACONDA,METACYC,GNPS,ZINCBIO,UNDP,YMDB,PLANTCYC,NORMAN,ADDITIONAL,PUBCHEMANNOTATIONBIO,PUBCHEMANNOTATIONDRUG,PUBCHEMANNOTATIONSAFETYANDTOXIC,PUBCHEMANNOTATIONFOOD,KEGGMINE,ECOCYCMINE,YMDBMINE\n"
     ]
    }
   ],
   "source": [
    "sa = oms.SiriusAdapterAlgorithm()\n",
    "par = sa.getParameters()\n",
    "print_params(par)"
   ]
  },
  {
   "cell_type": "markdown",
   "metadata": {},
   "source": [
    "## Loading\n",
    "Reads in files"
   ]
  },
  {
   "cell_type": "code",
   "execution_count": 78,
   "metadata": {
    "ExecuteTime": {
     "end_time": "2024-01-24T17:08:28.423346775Z",
     "start_time": "2024-01-24T17:08:28.371566080Z"
    }
   },
   "outputs": [],
   "source": [
    "experiment_path = \"../data/example data/exampleA_ecolistrains/mg1655_P3-A8_neg.mzXML\"\n",
    "experiment = read_experiment(experiment_path)"
   ]
  },
  {
   "cell_type": "code",
   "execution_count": null,
   "metadata": {},
   "outputs": [],
   "source": [
    "from corems.transient.input.brukerSolarix import ReadBrukerSolarix\n",
    "from corems.molecular_id.search.molecularFormulaSearch import SearchMolecularFormulas\n",
    "from corems.mass_spectrum.output.export import HighResMassSpecExport\n",
    "from matplotlib import pyplot\n",
    "from corems.mass_spectra.input.rawFileReader import ThermoBaseClass\n",
    "\n",
    "file_path= 'tests/tests_data/ftms/ESI_NEG_SRFA.d'\n",
    "\n",
    "# Instatiate the Bruker Solarix reader with the filepath\n",
    "bruker_reader = ReadBrukerSolarix(file_path)\n",
    "\n",
    "# Use the reader to instatiate a transient object\n",
    "bruker_transient_obj = bruker_reader.get_transient()\n",
    "\n",
    "# Calculate the transient duration time\n",
    "T =  bruker_transient_obj.transient_time\n",
    "\n",
    "# Use the transient object to instatitate a mass spectrum object\n",
    "mass_spectrum_obj = bruker_transient_obj.get_mass_spectrum(plot_result=False, auto_process=True)\n",
    "\n",
    "# The following SearchMolecularFormulas function does the following\n",
    "# - searches monoisotopic molecular formulas for all mass spectral peaks\n",
    "# - calculates fine isotopic structure based on monoisotopic molecular formulas found and current dynamic range\n",
    "# - searches molecular formulas of correspondent calculated isotopologues\n",
    "# - settings are stored at SearchConfig.json and can be changed directly on the file or inside the framework class\n",
    "\n",
    "SearchMolecularFormulas(mass_spectrum_obj, first_hit=False).run_worker_mass_spectrum()\n",
    "\n",
    "# Iterate over mass spectral peaks objs within the mass_spectrum_obj\n",
    "for mspeak in mass_spectrum_obj.sort_by_abundance():\n",
    "\n",
    "    # If there is at least one molecular formula associated, mspeak returns True\n",
    "    if  mspeak:\n",
    "\n",
    "        # Get the molecular formula with the highest mass accuracy\n",
    "        molecular_formula = mspeak.molecular_formula_lowest_error\n",
    "\n",
    "        # Plot mz and peak height\n",
    "        pyplot.plot(mspeak.mz_exp, mspeak.abundance, 'o', c='g')\n",
    "\n",
    "        # Iterate over all molecular formulas associated with the ms peaks obj\n",
    "        for molecular_formula in mspeak:\n",
    "\n",
    "            # Check if the molecular formula is a isotopologue\n",
    "            if molecular_formula.is_isotopologue:\n",
    "\n",
    "                # Access the molecular formula text representation and print\n",
    "                print (molecular_formula.string)\n",
    "\n",
    "                # Get 13C atoms count\n",
    "                print (molecular_formula['13C'])\n",
    "    else:\n",
    "        # Get mz and peak height\n",
    "        print(mspeak.mz_exp,mspeak.abundance)\n",
    "\n",
    "# Save data\n",
    "## to a csv file\n",
    "mass_spectrum_obj.to_csv(\"filename\")\n",
    "mass_spectrum_obj.to_hdf(\"filename\")\n",
    "# to pandas Datarame pickle\n",
    "mass_spectrum_obj.to_pandas(\"filename\")\n",
    "\n",
    "# Extract data as a pandas Dataframe\n",
    "df = mass_spectrum_obj.to_dataframe()"
   ]
  }
 ],
 "metadata": {
  "kernelspec": {
   "display_name": "gemml",
   "language": "python",
   "name": "python3"
  },
  "language_info": {
   "codemirror_mode": {
    "name": "ipython",
    "version": 3
   },
   "file_extension": ".py",
   "mimetype": "text/x-python",
   "name": "python",
   "nbconvert_exporter": "python",
   "pygments_lexer": "ipython3",
   "version": "3.11.7"
  }
 },
 "nbformat": 4,
 "nbformat_minor": 2
}
