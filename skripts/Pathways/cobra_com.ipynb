{
 "cells": [
  {
   "cell_type": "code",
   "execution_count": 1,
   "metadata": {},
   "outputs": [],
   "source": [
    "import os\n",
    "import sys\n",
    "import escher\n",
    "import cobra\n",
    "import numpy as np\n",
    "\n",
    "sys.path.append(\"..\")\n",
    "from helpers.file_handling import  *"
   ]
  },
  {
   "cell_type": "code",
   "execution_count": 73,
   "metadata": {},
   "outputs": [],
   "source": [
    "def search_metab_by_name(model, met_name:str):\n",
    "    hits = []\n",
    "    for met in model.metabolites:\n",
    "        if met_name in met.name:\n",
    "            hits.append(met)\n",
    "    return hits\n",
    "\n",
    "def search_metab_by_weight(model, weight:float, tolerance:float):\n",
    "    hits = []\n",
    "    for met in model.metabolites:\n",
    "        if \"R\" in met.formula or \"X\" in met.formula:\n",
    "            continue\n",
    "        if np.isclose(weight, met.formula_weight, atol=tolerance, rtol=0.0):\n",
    "            hits.append(met)\n",
    "    return hits"
   ]
  },
  {
   "cell_type": "code",
   "execution_count": 2,
   "metadata": {},
   "outputs": [
    {
     "data": {
      "text/plain": [
       "['/mnt/d/data/GEMs/Com_8/Bacteroides_thetaiotaomicron_dnLKV9_utf8.xml',\n",
       " '/mnt/d/data/GEMs/Com_8/Bacteroides_uniformis_dnLKV2_utf8.xml',\n",
       " '/mnt/d/data/GEMs/Com_8/Bacteroides_vulgatus_PC510_utf8.xml',\n",
       " '/mnt/d/data/GEMs/Com_8/Clostridium_ramosum_VPI_0427_DSM_1402_utf8.xml',\n",
       " '/mnt/d/data/GEMs/Com_8/Collinsella_aerofaciens_ERR1022282_utf8.xml',\n",
       " '/mnt/d/data/GEMs/Com_8/Fusobacterium_nucleatum_subsp_polymorphum_ATCC_10953_utf8.xml',\n",
       " '/mnt/d/data/GEMs/Com_8/Roseburia_intestinalis_XB6B4_utf8.xml',\n",
       " '/mnt/d/data/GEMs/Com_8/Ruminococcus_gnavus_ATCC_29149_utf8.xml']"
      ]
     },
     "execution_count": 2,
     "metadata": {},
     "output_type": "execute_result"
    }
   ],
   "source": [
    "sbmls_path = \"/mnt/d/data/GEMs/Com_8\"\n",
    "files = [os.path.join(sbmls_path, file) for file in os.listdir(sbmls_path) if file.endswith(\"ml\") and \"utf8\" in file]\n",
    "files"
   ]
  },
  {
   "cell_type": "code",
   "execution_count": 15,
   "metadata": {},
   "outputs": [
    {
     "data": {
      "text/html": [
       "\n",
       "        <table>\n",
       "            <tr>\n",
       "                <td><strong>Name</strong></td>\n",
       "                <td>M_Clostridium_ramosum_VPI_0427_DSM_1402</td>\n",
       "            </tr><tr>\n",
       "                <td><strong>Memory address</strong></td>\n",
       "                <td>7f6a401df340</td>\n",
       "            </tr><tr>\n",
       "                <td><strong>Number of metabolites</strong></td>\n",
       "                <td>962</td>\n",
       "            </tr><tr>\n",
       "                <td><strong>Number of reactions</strong></td>\n",
       "                <td>1049</td>\n",
       "            </tr><tr>\n",
       "                <td><strong>Number of genes</strong></td>\n",
       "                <td>893</td>\n",
       "            </tr><tr>\n",
       "                <td><strong>Number of groups</strong></td>\n",
       "                <td>68</td>\n",
       "            </tr><tr>\n",
       "                <td><strong>Objective expression</strong></td>\n",
       "                <td>1.0*biomass525 - 1.0*biomass525_reverse_5c178</td>\n",
       "            </tr><tr>\n",
       "                <td><strong>Compartments</strong></td>\n",
       "                <td>Cytoplasm, Extracellular</td>\n",
       "            </tr>\n",
       "          </table>"
      ],
      "text/plain": [
       "<Model M_Clostridium_ramosum_VPI_0427_DSM_1402 at 0x7f6a401df340>"
      ]
     },
     "execution_count": 15,
     "metadata": {},
     "output_type": "execute_result"
    }
   ],
   "source": [
    "sb_model = cobra.io.read_sbml_model(files[3])\n",
    "sb_model_2 = cobra.io.read_sbml_model(files[2])\n",
    "sb_model"
   ]
  },
  {
   "cell_type": "code",
   "execution_count": 88,
   "metadata": {},
   "outputs": [
    {
     "data": {
      "text/html": [
       "\n",
       "        <table>\n",
       "            <tr>\n",
       "                <td><strong>Name</strong></td>\n",
       "                <td>M_Bacteroides_vulgatus_PC510</td>\n",
       "            </tr><tr>\n",
       "                <td><strong>Memory address</strong></td>\n",
       "                <td>7f6a3ba4bd90</td>\n",
       "            </tr><tr>\n",
       "                <td><strong>Number of metabolites</strong></td>\n",
       "                <td>2446</td>\n",
       "            </tr><tr>\n",
       "                <td><strong>Number of reactions</strong></td>\n",
       "                <td>2623</td>\n",
       "            </tr><tr>\n",
       "                <td><strong>Number of genes</strong></td>\n",
       "                <td>1197</td>\n",
       "            </tr><tr>\n",
       "                <td><strong>Number of groups</strong></td>\n",
       "                <td>113</td>\n",
       "            </tr><tr>\n",
       "                <td><strong>Objective expression</strong></td>\n",
       "                <td>1.0*bio1 - 1.0*bio1_reverse_b18f7</td>\n",
       "            </tr><tr>\n",
       "                <td><strong>Compartments</strong></td>\n",
       "                <td>Cytoplasm, Extracellular, Periplasm</td>\n",
       "            </tr>\n",
       "          </table>"
      ],
      "text/plain": [
       "<Model M_Bacteroides_vulgatus_PC510 at 0x7f6a3ba4bd90>"
      ]
     },
     "execution_count": 88,
     "metadata": {},
     "output_type": "execute_result"
    }
   ],
   "source": [
    "sb_model_2"
   ]
  },
  {
   "cell_type": "code",
   "execution_count": 91,
   "metadata": {},
   "outputs": [
    {
     "data": {
      "text/latex": [
       "$\\displaystyle 1.0 \\cdot bio_{1} - 1.0 \\cdot bio_{1 reverse b18f7}$"
      ],
      "text/plain": [
       "1.0*bio1 - 1.0*bio1_reverse_b18f7"
      ]
     },
     "execution_count": 91,
     "metadata": {},
     "output_type": "execute_result"
    }
   ],
   "source": [
    "o = sb_model_2.objective\n",
    "o.expression"
   ]
  },
  {
   "cell_type": "code",
   "execution_count": 104,
   "metadata": {},
   "outputs": [
    {
     "name": "stdout",
     "output_type": "stream",
     "text": [
      "1.0*bio1 - 1.0*bio1_reverse_b18f7\n"
     ]
    }
   ],
   "source": [
    "print(o.expression)"
   ]
  },
  {
   "cell_type": "code",
   "execution_count": 75,
   "metadata": {},
   "outputs": [
    {
     "data": {
      "text/html": [
       "\n",
       "        <table>\n",
       "            <tr>\n",
       "                <td><strong>Metabolite identifier</strong></td><td>biomass[c]</td>\n",
       "            </tr><tr>\n",
       "                <td><strong>Name</strong></td><td>Produced biomass</td>\n",
       "            </tr><tr>\n",
       "                <td><strong>Memory address</strong></td>\n",
       "                <td>0x7f6a4024be80</td>\n",
       "            </tr><tr>\n",
       "                <td><strong>Formula</strong></td><td>X</td>\n",
       "            </tr><tr>\n",
       "                <td><strong>Compartment</strong></td><td>c</td>\n",
       "            </tr><tr>\n",
       "                <td><strong>In 2 reaction(s)</strong></td><td>\n",
       "                    biomass525, EX_biomass(e)\n",
       "                    </td>\n",
       "            </tr>\n",
       "        </table>"
      ],
      "text/plain": [
       "<Metabolite biomass[c] at 0x7f6a4024be80>"
      ]
     },
     "execution_count": 75,
     "metadata": {},
     "output_type": "execute_result"
    }
   ],
   "source": [
    "search_metab_by_name(sb_model, \"biomass\")[0]"
   ]
  },
  {
   "cell_type": "code",
   "execution_count": 11,
   "metadata": {},
   "outputs": [],
   "source": [
    "med = sb_model.medium"
   ]
  },
  {
   "cell_type": "code",
   "execution_count": 12,
   "metadata": {},
   "outputs": [
    {
     "data": {
      "text/plain": [
       "{'EX_12dhchol(e)': 1000.0,\n",
       " 'EX_7a_czp(e)': 1000.0,\n",
       " 'EX_ac(e)': 1000.0,\n",
       " 'EX_acald(e)': 1000.0,\n",
       " 'EX_acgam(e)': 1000.0,\n",
       " 'EX_adocbl(e)': 1000.0,\n",
       " 'EX_alaasp(e)': 1000.0,\n",
       " 'EX_alagln(e)': 1000.0,\n",
       " 'EX_alaglu(e)': 1000.0,\n",
       " 'EX_alagly(e)': 1000.0,\n",
       " 'EX_alahis(e)': 1000.0,\n",
       " 'EX_alaleu(e)': 1000.0,\n",
       " 'EX_alathr(e)': 1000.0,\n",
       " 'EX_anzp(e)': 1000.0,\n",
       " 'EX_arab_L(e)': 1000.0,\n",
       " 'EX_arbt(e)': 1000.0,\n",
       " 'EX_biomass(e)': 1000.0,\n",
       " 'EX_btn(e)': 1000.0,\n",
       " 'EX_ca2(e)': 1000.0,\n",
       " 'EX_cd2(e)': 1000.0,\n",
       " 'EX_cellb(e)': 1000.0,\n",
       " 'EX_cgly(e)': 1000.0,\n",
       " 'EX_chlphncl(e)': 1000.0,\n",
       " 'EX_cholate(e)': 1000.0,\n",
       " 'EX_cl(e)': 1000.0,\n",
       " 'EX_co2(e)': 1000.0,\n",
       " 'EX_cobalt2(e)': 1000.0,\n",
       " 'EX_cro4(e)': 1000.0,\n",
       " 'EX_cu2(e)': 1000.0,\n",
       " 'EX_czp(e)': 1000.0,\n",
       " 'EX_dextrin(e)': 1000.0,\n",
       " 'EX_dfdcytd(e)': 1000.0,\n",
       " 'EX_dfduri(e)': 1000.0,\n",
       " 'EX_etha(e)': 1000.0,\n",
       " 'EX_etoh(e)': 1000.0,\n",
       " 'EX_fe2(e)': 1000.0,\n",
       " 'EX_fe3(e)': 1000.0,\n",
       " 'EX_fecrm(e)': 1000.0,\n",
       " 'EX_fol(e)': 1000.0,\n",
       " 'EX_for(e)': 1000.0,\n",
       " 'EX_fru(e)': 1000.0,\n",
       " 'EX_fum(e)': 1000.0,\n",
       " 'EX_gal(e)': 1000.0,\n",
       " 'EX_glc_D(e)': 1000.0,\n",
       " 'EX_glu_L(e)': 1000.0,\n",
       " 'EX_glyasn(e)': 1000.0,\n",
       " 'EX_glyasp(e)': 1000.0,\n",
       " 'EX_glyb(e)': 1000.0,\n",
       " 'EX_glyc3p(e)': 1000.0,\n",
       " 'EX_glycys(e)': 1000.0,\n",
       " 'EX_glygln(e)': 1000.0,\n",
       " 'EX_glyglu(e)': 1000.0,\n",
       " 'EX_glyleu(e)': 1000.0,\n",
       " 'EX_glymet(e)': 1000.0,\n",
       " 'EX_glyphe(e)': 1000.0,\n",
       " 'EX_glypro(e)': 1000.0,\n",
       " 'EX_glytyr(e)': 1000.0,\n",
       " 'EX_h(e)': 1000.0,\n",
       " 'EX_h2o(e)': 1000.0,\n",
       " 'EX_hg2(e)': 1000.0,\n",
       " 'EX_hxan(e)': 1000.0,\n",
       " 'EX_ile_L(e)': 1000.0,\n",
       " 'EX_k(e)': 1000.0,\n",
       " 'EX_kesto(e)': 1000.0,\n",
       " 'EX_kestopt(e)': 1000.0,\n",
       " 'EX_kestottr(e)': 1000.0,\n",
       " 'EX_lac_D(e)': 1000.0,\n",
       " 'EX_lac_L(e)': 1000.0,\n",
       " 'EX_lactl(e)': 1000.0,\n",
       " 'EX_lcts(e)': 1000.0,\n",
       " 'EX_leu_L(e)': 1000.0,\n",
       " 'EX_malt(e)': 1000.0,\n",
       " 'EX_man(e)': 1000.0,\n",
       " 'EX_mantr(e)': 1000.0,\n",
       " 'EX_melib(e)': 1000.0,\n",
       " 'EX_met_D(e)': 1000.0,\n",
       " 'EX_met_L(e)': 1000.0,\n",
       " 'EX_metala(e)': 1000.0,\n",
       " 'EX_metsox_S_L(e)': 1000.0,\n",
       " 'EX_mg2(e)': 1000.0,\n",
       " 'EX_mn2(e)': 1000.0,\n",
       " 'EX_na1(e)': 1000.0,\n",
       " 'EX_nac(e)': 1000.0,\n",
       " 'EX_nchlphncl(e)': 1000.0,\n",
       " 'EX_nh4(e)': 1000.0,\n",
       " 'EX_nzp(e)': 1000.0,\n",
       " 'EX_o2(e)': 1000.0,\n",
       " 'EX_pb(e)': 1000.0,\n",
       " 'EX_phe_L(e)': 1000.0,\n",
       " 'EX_pi(e)': 1000.0,\n",
       " 'EX_pnto_R(e)': 1000.0,\n",
       " 'EX_pppn(e)': 1000.0,\n",
       " 'EX_pro_L(e)': 1000.0,\n",
       " 'EX_ptrc(e)': 1000.0,\n",
       " 'EX_pydx(e)': 1000.0,\n",
       " 'EX_pydxn(e)': 1000.0,\n",
       " 'EX_pyr(e)': 1000.0,\n",
       " 'EX_raffin(e)': 1000.0,\n",
       " 'EX_ribflv(e)': 1000.0,\n",
       " 'EX_salcn(e)': 1000.0,\n",
       " 'EX_so4(e)': 1000.0,\n",
       " 'EX_spmd(e)': 1000.0,\n",
       " 'EX_stys(e)': 1000.0,\n",
       " 'EX_succ(e)': 1000.0,\n",
       " 'EX_sucr(e)': 1000.0,\n",
       " 'EX_thm(e)': 1000.0,\n",
       " 'EX_tre(e)': 1000.0,\n",
       " 'EX_trp_L(e)': 1000.0,\n",
       " 'EX_ura(e)': 1000.0,\n",
       " 'EX_val_L(e)': 1000.0,\n",
       " 'EX_xan(e)': 1000.0,\n",
       " 'EX_zn2(e)': 1000.0}"
      ]
     },
     "execution_count": 12,
     "metadata": {},
     "output_type": "execute_result"
    }
   ],
   "source": [
    "med"
   ]
  },
  {
   "cell_type": "code",
   "execution_count": 14,
   "metadata": {},
   "outputs": [
    {
     "data": {
      "text/plain": [
       "112"
      ]
     },
     "execution_count": 14,
     "metadata": {},
     "output_type": "execute_result"
    }
   ],
   "source": [
    "len(med)"
   ]
  },
  {
   "cell_type": "code",
   "execution_count": null,
   "metadata": {},
   "outputs": [],
   "source": []
  }
 ],
 "metadata": {
  "kernelspec": {
   "display_name": "FBA",
   "language": "python",
   "name": "python3"
  },
  "language_info": {
   "codemirror_mode": {
    "name": "ipython",
    "version": 3
   },
   "file_extension": ".py",
   "mimetype": "text/x-python",
   "name": "python",
   "nbconvert_exporter": "python",
   "pygments_lexer": "ipython3",
   "version": "3.10.14"
  }
 },
 "nbformat": 4,
 "nbformat_minor": 2
}
