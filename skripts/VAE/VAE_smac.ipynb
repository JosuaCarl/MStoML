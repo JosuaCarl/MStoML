{
 "cells": [
  {
   "cell_type": "markdown",
   "metadata": {},
   "source": [
    "# VAE"
   ]
  },
  {
   "cell_type": "code",
   "execution_count": 1,
   "metadata": {},
   "outputs": [],
   "source": [
    "import sys\n",
    "import os\n",
    "sys.path.append( '..' )\n",
    "from VAE.vae import *\n",
    "from VAE.VAE_smac import *\n",
    "from helpers.pc_stats import *\n",
    "import mlflow"
   ]
  },
  {
   "cell_type": "markdown",
   "metadata": {},
   "source": [
    "## Parameter definition"
   ]
  },
  {
   "cell_type": "code",
   "execution_count": 2,
   "metadata": {},
   "outputs": [
    {
     "name": "stdout",
     "output_type": "stream",
     "text": [
      "Setup loaded (0.014248371124267578s)\n"
     ]
    }
   ],
   "source": [
    "data_dir  = os.path.normpath(os.path.join(os.getcwd(), \"../../runs/FIA/Com8_grown_together/oms\"))\n",
    "run_dir = os.path.normpath(os.path.join(os.getcwd(), \"../../runs/VAE/hyperparameter_optimization\"))\n",
    "results_dir = os.path.normpath(os.path.join(os.getcwd(), \"../../runs/VAE/results\"))\n",
    "test_configuration = False\n",
    "overwrite = False\n",
    "verbosity = 1\n",
    "framework = \"pytorch_jupyter\"\n",
    "outdir = Path(os.path.normpath(os.path.join(run_dir, f\"smac_vae_{framework}\")))\n",
    "\n",
    "# Logging (time and steps)\n",
    "last_timestamp = time.time()\n",
    "step = 0\n",
    "runtimes = {}\n",
    "\n",
    "\n",
    "time_step(message=\"Setup loaded\", verbosity=verbosity)"
   ]
  },
  {
   "cell_type": "code",
   "execution_count": 3,
   "metadata": {},
   "outputs": [
    {
     "name": "stdout",
     "output_type": "stream",
     "text": [
      "Data loaded (2.688612222671509s)\n",
      "Configuration space defined with estimated inf possible combinations.\n",
      "\n"
     ]
    }
   ],
   "source": [
    "X = read_data(data_dir, verbosity=verbosity)\n",
    "\n",
    "configuration_space = ConfigurationSpace(name=\"LD\", seed=42)\n",
    "hyperparameters = [\n",
    "    Constant(       \"original_dim\",             X.shape[1]),\n",
    "    Float(          \"input_dropout\",            (0.0, 0.5), default=0.25),\n",
    "    Integer(        \"intermediate_layers\",      (1, 5), default=2),\n",
    "    Integer(        \"intermediate_dimension\",   (1, 5), log=True, default=4),\n",
    "    Categorical(    \"intermediate_activation\",  [\"relu\", \"selu\", \"tanh\", \"leakyrelu\"], default=\"leakyrelu\"),\n",
    "    Integer(        \"latent_dimension\",         (1, 2), log=False, default=2),\n",
    "    Categorical(    \"solver\",                   [\"nadam\"], default=\"nadam\"),\n",
    "    Float(          \"learning_rate\",            (1e-4, 1e-2), log=True, default=1e-3)\n",
    "]\n",
    "configuration_space.add_hyperparameters(hyperparameters)\n",
    "forbidden_clauses = [\n",
    "    ForbiddenGreaterThanRelation(configuration_space[\"latent_dimension\"], configuration_space[\"intermediate_dimension\"])\n",
    "]\n",
    "configuration_space.add_forbidden_clauses(forbidden_clauses)\n",
    "if verbosity > 0: \n",
    "    print(f\"Configuration space defined with estimated {configuration_space.estimate_size()} possible combinations.\\n\")"
   ]
  },
  {
   "cell_type": "markdown",
   "metadata": {},
   "source": [
    "## Optimization definition"
   ]
  },
  {
   "cell_type": "code",
   "execution_count": 4,
   "metadata": {},
   "outputs": [],
   "source": [
    "class FIA_VAE_tune:\n",
    "    \"\"\"\n",
    "    Class for running the SMAC3 tuning\n",
    "    \"\"\"\n",
    "    def __init__(self, data, test_size:float, configuration_space:ConfigurationSpace, model_builder,\n",
    "                 log_dir:str, batch_size:int=16, verbosity:int=0, gpu:bool=False, name:str=\"smac_vae\"):\n",
    "        self.configuration_space = configuration_space\n",
    "        self.model_builder = model_builder\n",
    "        self.data = data\n",
    "        self.training_data, self.test_data = train_test_split(data, test_size=test_size)\n",
    "        self.batch_size = batch_size\n",
    "        self.log_dir = log_dir\n",
    "        self.verbosity = verbosity\n",
    "        self.gpu = gpu\n",
    "        self.name = name\n",
    "        self.count = 0\n",
    "\n",
    "    def train(self, config:Configuration, seed:int=0, budget:int=25) -> float:\n",
    "        \"\"\"\n",
    "        Method to train the model\n",
    "\n",
    "        Args:\n",
    "            config: Configuration to be trained upon\n",
    "            seed: initializing seed\n",
    "            budget: number of epochs to be used in training\n",
    "        \n",
    "        Returns:\n",
    "            Average loss of the model\n",
    "        \"\"\"\n",
    "        time_step(\"Start\", verbosity=self.verbosity, min_verbosity=2)\n",
    "        keras.utils.set_random_seed(seed)\n",
    "\n",
    "        # Definition\n",
    "        model = self.model_builder(config)\n",
    "        if self.verbosity >= 3:\n",
    "            model.summary()\n",
    "            print_utilization(gpu=self.gpu)\n",
    "        time_step(\"Model built\", verbosity=self.verbosity, min_verbosity=2)\n",
    "\n",
    "        # Fitting\n",
    "        callbacks = []\n",
    "        with mlflow.start_run(run_name=f\"fia_vae_hptune_{self.count}\", nested=True):\n",
    "            mlflow.set_tag(\"test_identifier\", f\"child_{self.count}\")\n",
    "            model.fit(x=self.training_data, y=self.training_data, validation_split=0.2,\n",
    "                      batch_size=self.batch_size, epochs=int(budget),\n",
    "                      callbacks=callbacks, verbose=self.verbosity)\n",
    "\n",
    "            if self.verbosity >= 3:\n",
    "                print(\"After training utilization:\")\n",
    "                print_utilization(gpu=self.gpu)\n",
    "            time_step(\"Model trained\", verbosity=self.verbosity, min_verbosity=2)\n",
    "\n",
    "            # Evaluation\n",
    "            loss, recon_loss, kl_loss = model.evaluate(self.test_data, self.test_data,\n",
    "                                                    batch_size=self.batch_size, verbose=self.verbosity)\n",
    "            \n",
    "            mlflow.log_params(config)\n",
    "            mlflow.log_metrics({\"eval-loss\": loss, \"eval-reconstruction_loss\": recon_loss, \"eval-kl_loss\": kl_loss},\n",
    "                            step=int(budget) + 1)\n",
    "        time_step(\"Model evaluated\", verbosity=self.verbosity, min_verbosity=2)        \n",
    "        \n",
    "        # Clearing model parameters\n",
    "        keras.backend.clear_session()\n",
    "        self.count += 1\n",
    "        time_step(\"Session cleared\", verbosity=self.verbosity, min_verbosity=2)\n",
    "                \n",
    "        return loss"
   ]
  },
  {
   "cell_type": "code",
   "execution_count": 5,
   "metadata": {},
   "outputs": [],
   "source": [
    "fia_vae_tune = FIA_VAE_tune( X, test_size=0.2, configuration_space=configuration_space, model_builder=FIA_VAE,\n",
    "                                batch_size=64, log_dir=os.path.join(outdir, \"log\"), verbosity=verbosity, gpu=False )"
   ]
  },
  {
   "cell_type": "code",
   "execution_count": 6,
   "metadata": {},
   "outputs": [
    {
     "name": "stdout",
     "output_type": "stream",
     "text": [
      "[INFO][abstract_initial_design.py:147] Using 5 initial design configurations and 0 additional configurations.\n",
      "SMAC defined. Overwriting: False (2.118586301803589s)\n"
     ]
    }
   ],
   "source": [
    "scenario = Scenario( fia_vae_tune.configuration_space, deterministic=True,\n",
    "                     n_trials=20, min_budget=2, max_budget=100,\n",
    "                     n_workers=1, output_directory=outdir,\n",
    "                     walltime_limit=np.inf, cputime_limit=np.inf, trial_memory_limit=None )   # Max RAM in Bytes (not MB)\n",
    "                    \n",
    "initial_design = MultiFidelityFacade.get_initial_design(scenario, n_configs=10)\n",
    "intensifier = Hyperband(scenario, incumbent_selection=\"highest_budget\")\n",
    "facade = MultiFidelityFacade( scenario, fia_vae_tune.train, \n",
    "                              initial_design=initial_design, intensifier=intensifier,\n",
    "                              overwrite=overwrite, logging_level=30-verbosity*10 )\n",
    "time_step(message=f\"SMAC defined. Overwriting: {overwrite}\", verbosity=verbosity)"
   ]
  },
  {
   "cell_type": "markdown",
   "metadata": {},
   "source": [
    "### Search"
   ]
  },
  {
   "cell_type": "code",
   "execution_count": 7,
   "metadata": {},
   "outputs": [],
   "source": [
    "from pathlib import Path"
   ]
  },
  {
   "cell_type": "code",
   "execution_count": 8,
   "metadata": {},
   "outputs": [
    {
     "ename": "NameError",
     "evalue": "name 'self' is not defined",
     "output_type": "error",
     "traceback": [
      "\u001b[0;31m---------------------------------------------------------------------------\u001b[0m",
      "\u001b[0;31mNameError\u001b[0m                                 Traceback (most recent call last)",
      "Cell \u001b[0;32mIn[8], line 3\u001b[0m\n\u001b[1;32m      1\u001b[0m mlflow\u001b[38;5;241m.\u001b[39mset_tracking_uri(Path(\u001b[38;5;124m\"\u001b[39m\u001b[38;5;124m../../runs/VAE/hyperparameter_optimization/smac_vae_test/mlruns\u001b[39m\u001b[38;5;124m\"\u001b[39m))\n\u001b[1;32m      2\u001b[0m mlflow\u001b[38;5;241m.\u001b[39mset_experiment(\u001b[38;5;124mf\u001b[39m\u001b[38;5;124m\"\u001b[39m\u001b[38;5;124mFIA_VAE_hptune_test\u001b[39m\u001b[38;5;124m\"\u001b[39m)\n\u001b[0;32m----> 3\u001b[0m mlflow\u001b[38;5;241m.\u001b[39mautolog(log_datasets\u001b[38;5;241m=\u001b[39m\u001b[38;5;28;01mFalse\u001b[39;00m, log_models\u001b[38;5;241m=\u001b[39m\u001b[38;5;28;01mFalse\u001b[39;00m, silent\u001b[38;5;241m=\u001b[39m\u001b[38;5;28;43mself\u001b[39;49m\u001b[38;5;241m.\u001b[39mverbosity \u001b[38;5;241m<\u001b[39m\u001b[38;5;241m=\u001b[39m \u001b[38;5;241m2\u001b[39m)\n\u001b[1;32m      4\u001b[0m \u001b[38;5;28;01mwith\u001b[39;00m mlflow\u001b[38;5;241m.\u001b[39mstart_run(run_name\u001b[38;5;241m=\u001b[39m\u001b[38;5;124mf\u001b[39m\u001b[38;5;124m\"\u001b[39m\u001b[38;5;124mfia_vae_hptune_test\u001b[39m\u001b[38;5;124m\"\u001b[39m):\n\u001b[1;32m      5\u001b[0m     mlflow\u001b[38;5;241m.\u001b[39mset_tag(\u001b[38;5;124m\"\u001b[39m\u001b[38;5;124mtest_identifier\u001b[39m\u001b[38;5;124m\"\u001b[39m, \u001b[38;5;124m\"\u001b[39m\u001b[38;5;124mparent\u001b[39m\u001b[38;5;124m\"\u001b[39m)\n",
      "\u001b[0;31mNameError\u001b[0m: name 'self' is not defined"
     ]
    }
   ],
   "source": [
    "mlflow.set_tracking_uri(Path(\"../../runs/VAE/hyperparameter_optimization/smac_vae_test/mlruns\"))\n",
    "mlflow.set_experiment(f\"FIA_VAE_hptune_test\")\n",
    "mlflow.autolog(log_datasets=False, log_models=False, silent=self.verbosity <= 2)\n",
    "with mlflow.start_run(run_name=f\"fia_vae_hptune_test\"):\n",
    "    mlflow.set_tag(\"test_identifier\", \"parent\")\n",
    "    incumbent = run_optimization(facade=facade, smac_model=fia_vae_tune, verbose_steps=10, verbosity=1)\n",
    "mlflow.end_run()"
   ]
  },
  {
   "cell_type": "code",
   "execution_count": null,
   "metadata": {},
   "outputs": [],
   "source": []
  }
 ],
 "metadata": {
  "kernelspec": {
   "display_name": "gemml",
   "language": "python",
   "name": "python3"
  },
  "language_info": {
   "codemirror_mode": {
    "name": "ipython",
    "version": 3
   },
   "file_extension": ".py",
   "mimetype": "text/x-python",
   "name": "python",
   "nbconvert_exporter": "python",
   "pygments_lexer": "ipython3",
   "version": "3.11.8"
  }
 },
 "nbformat": 4,
 "nbformat_minor": 2
}
