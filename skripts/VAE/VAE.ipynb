{
 "cells": [
  {
   "cell_type": "code",
   "execution_count": 1,
   "metadata": {},
   "outputs": [],
   "source": [
    "import sys\n",
    "sys.path.append(\"..\")\n",
    "from VAE.vae import *"
   ]
  },
  {
   "cell_type": "code",
   "execution_count": 2,
   "metadata": {},
   "outputs": [],
   "source": [
    "config_space = ConfigurationSpace(\n",
    "                {'input_dropout': 0.1, 'intermediate_activation': \"relu\", 'intermediate_dimension': 10,\n",
    "                'intermediate_layers': 2, 'latent_dimension': 1, 'learning_rate': 0.0001,\n",
    "                'original_dim': 825000, 'solver': 'nadam'}\n",
    "            )\n",
    "config = config_space.get_default_configuration()"
   ]
  },
  {
   "cell_type": "code",
   "execution_count": 3,
   "metadata": {},
   "outputs": [],
   "source": [
    "model = FIA_VAE(config)"
   ]
  },
  {
   "cell_type": "code",
   "execution_count": 4,
   "metadata": {},
   "outputs": [
    {
     "data": {
      "text/html": [
       "<pre style=\"white-space:pre;overflow-x:auto;line-height:normal;font-family:Menlo,'DejaVu Sans Mono',consolas,'Courier New',monospace\"><span style=\"font-weight: bold\">Model: \"fia_vae\"</span>\n",
       "</pre>\n"
      ],
      "text/plain": [
       "\u001b[1mModel: \"fia_vae\"\u001b[0m\n"
      ]
     },
     "metadata": {},
     "output_type": "display_data"
    },
    {
     "data": {
      "text/html": [
       "<pre style=\"white-space:pre;overflow-x:auto;line-height:normal;font-family:Menlo,'DejaVu Sans Mono',consolas,'Courier New',monospace\">┏━━━━━━━━━━━━━━━━━━━━━━━━━━━━━━━━━┳━━━━━━━━━━━━━━━━━━━━━━━━┳━━━━━━━━━━━━━━━┓\n",
       "┃<span style=\"font-weight: bold\"> Layer (type)                    </span>┃<span style=\"font-weight: bold\"> Output Shape           </span>┃<span style=\"font-weight: bold\">       Param # </span>┃\n",
       "┡━━━━━━━━━━━━━━━━━━━━━━━━━━━━━━━━━╇━━━━━━━━━━━━━━━━━━━━━━━━╇━━━━━━━━━━━━━━━┩\n",
       "│ dropout (<span style=\"color: #0087ff; text-decoration-color: #0087ff\">Dropout</span>)               │ ?                      │             <span style=\"color: #00af00; text-decoration-color: #00af00\">0</span> │\n",
       "├─────────────────────────────────┼────────────────────────┼───────────────┤\n",
       "│ encoder_intermediate            │ ?                      │     <span style=\"color: #00af00; text-decoration-color: #00af00\">8,250,065</span> │\n",
       "│ (<span style=\"color: #0087ff; text-decoration-color: #0087ff\">Sequential</span>)                    │                        │               │\n",
       "├─────────────────────────────────┼────────────────────────┼───────────────┤\n",
       "│ latent_mu (<span style=\"color: #0087ff; text-decoration-color: #0087ff\">Dense</span>)               │ ?                      │   <span style=\"color: #00af00; text-decoration-color: #00af00\">0</span> (unbuilt) │\n",
       "├─────────────────────────────────┼────────────────────────┼───────────────┤\n",
       "│ latent_sigma (<span style=\"color: #0087ff; text-decoration-color: #0087ff\">Dense</span>)            │ ?                      │   <span style=\"color: #00af00; text-decoration-color: #00af00\">0</span> (unbuilt) │\n",
       "├─────────────────────────────────┼────────────────────────┼───────────────┤\n",
       "│ latent_reparametrization        │ ?                      │   <span style=\"color: #00af00; text-decoration-color: #00af00\">0</span> (unbuilt) │\n",
       "│ (<span style=\"color: #0087ff; text-decoration-color: #0087ff\">Sampling</span>)                      │                        │               │\n",
       "├─────────────────────────────────┼────────────────────────┼───────────────┤\n",
       "│ Decoder (<span style=\"color: #0087ff; text-decoration-color: #0087ff\">Sequential</span>)            │ ?                      │     <span style=\"color: #00af00; text-decoration-color: #00af00\">9,075,070</span> │\n",
       "└─────────────────────────────────┴────────────────────────┴───────────────┘\n",
       "</pre>\n"
      ],
      "text/plain": [
       "┏━━━━━━━━━━━━━━━━━━━━━━━━━━━━━━━━━┳━━━━━━━━━━━━━━━━━━━━━━━━┳━━━━━━━━━━━━━━━┓\n",
       "┃\u001b[1m \u001b[0m\u001b[1mLayer (type)                   \u001b[0m\u001b[1m \u001b[0m┃\u001b[1m \u001b[0m\u001b[1mOutput Shape          \u001b[0m\u001b[1m \u001b[0m┃\u001b[1m \u001b[0m\u001b[1m      Param #\u001b[0m\u001b[1m \u001b[0m┃\n",
       "┡━━━━━━━━━━━━━━━━━━━━━━━━━━━━━━━━━╇━━━━━━━━━━━━━━━━━━━━━━━━╇━━━━━━━━━━━━━━━┩\n",
       "│ dropout (\u001b[38;5;33mDropout\u001b[0m)               │ ?                      │             \u001b[38;5;34m0\u001b[0m │\n",
       "├─────────────────────────────────┼────────────────────────┼───────────────┤\n",
       "│ encoder_intermediate            │ ?                      │     \u001b[38;5;34m8,250,065\u001b[0m │\n",
       "│ (\u001b[38;5;33mSequential\u001b[0m)                    │                        │               │\n",
       "├─────────────────────────────────┼────────────────────────┼───────────────┤\n",
       "│ latent_mu (\u001b[38;5;33mDense\u001b[0m)               │ ?                      │   \u001b[38;5;34m0\u001b[0m (unbuilt) │\n",
       "├─────────────────────────────────┼────────────────────────┼───────────────┤\n",
       "│ latent_sigma (\u001b[38;5;33mDense\u001b[0m)            │ ?                      │   \u001b[38;5;34m0\u001b[0m (unbuilt) │\n",
       "├─────────────────────────────────┼────────────────────────┼───────────────┤\n",
       "│ latent_reparametrization        │ ?                      │   \u001b[38;5;34m0\u001b[0m (unbuilt) │\n",
       "│ (\u001b[38;5;33mSampling\u001b[0m)                      │                        │               │\n",
       "├─────────────────────────────────┼────────────────────────┼───────────────┤\n",
       "│ Decoder (\u001b[38;5;33mSequential\u001b[0m)            │ ?                      │     \u001b[38;5;34m9,075,070\u001b[0m │\n",
       "└─────────────────────────────────┴────────────────────────┴───────────────┘\n"
      ]
     },
     "metadata": {},
     "output_type": "display_data"
    },
    {
     "data": {
      "text/html": [
       "<pre style=\"white-space:pre;overflow-x:auto;line-height:normal;font-family:Menlo,'DejaVu Sans Mono',consolas,'Courier New',monospace\"><span style=\"font-weight: bold\"> Total params: </span><span style=\"color: #00af00; text-decoration-color: #00af00\">17,325,135</span> (66.09 MB)\n",
       "</pre>\n"
      ],
      "text/plain": [
       "\u001b[1m Total params: \u001b[0m\u001b[38;5;34m17,325,135\u001b[0m (66.09 MB)\n"
      ]
     },
     "metadata": {},
     "output_type": "display_data"
    },
    {
     "data": {
      "text/html": [
       "<pre style=\"white-space:pre;overflow-x:auto;line-height:normal;font-family:Menlo,'DejaVu Sans Mono',consolas,'Courier New',monospace\"><span style=\"font-weight: bold\"> Trainable params: </span><span style=\"color: #00af00; text-decoration-color: #00af00\">17,325,135</span> (66.09 MB)\n",
       "</pre>\n"
      ],
      "text/plain": [
       "\u001b[1m Trainable params: \u001b[0m\u001b[38;5;34m17,325,135\u001b[0m (66.09 MB)\n"
      ]
     },
     "metadata": {},
     "output_type": "display_data"
    },
    {
     "data": {
      "text/html": [
       "<pre style=\"white-space:pre;overflow-x:auto;line-height:normal;font-family:Menlo,'DejaVu Sans Mono',consolas,'Courier New',monospace\"><span style=\"font-weight: bold\"> Non-trainable params: </span><span style=\"color: #00af00; text-decoration-color: #00af00\">0</span> (0.00 B)\n",
       "</pre>\n"
      ],
      "text/plain": [
       "\u001b[1m Non-trainable params: \u001b[0m\u001b[38;5;34m0\u001b[0m (0.00 B)\n"
      ]
     },
     "metadata": {},
     "output_type": "display_data"
    }
   ],
   "source": [
    "model.summary()"
   ]
  },
  {
   "cell_type": "markdown",
   "metadata": {},
   "source": [
    "## Saving"
   ]
  },
  {
   "cell_type": "code",
   "execution_count": 5,
   "metadata": {},
   "outputs": [
    {
     "name": "stderr",
     "output_type": "stream",
     "text": [
      "/mnt/lustre/groups/link/linca945/.conda/envs/FIA_VAE/lib/python3.11/site-packages/keras/src/saving/saving_api.py:100: UserWarning: You are saving a model that has not yet been built. It might not contain any weights yet. Consider building the model first by calling it on some data.\n",
      "  saving_lib.save_model(model, filepath)\n"
     ]
    }
   ],
   "source": [
    "keras.saving.save_model(model, \"../../runs/VAE/training/test.keras\")"
   ]
  },
  {
   "cell_type": "code",
   "execution_count": 6,
   "metadata": {},
   "outputs": [],
   "source": [
    "model.save_weights(\"../../runs/VAE/training/test.weights.h5\")"
   ]
  },
  {
   "cell_type": "markdown",
   "metadata": {},
   "source": [
    "## Loading"
   ]
  },
  {
   "cell_type": "code",
   "execution_count": 7,
   "metadata": {},
   "outputs": [],
   "source": [
    "model2 = keras.saving.load_model(\"../../runs/VAE/training/test.keras\")"
   ]
  },
  {
   "cell_type": "code",
   "execution_count": 8,
   "metadata": {},
   "outputs": [],
   "source": [
    "model2.load_weights(\"../../runs/VAE/training/test.weights.h5\")"
   ]
  },
  {
   "cell_type": "markdown",
   "metadata": {},
   "source": [
    "## Testing"
   ]
  },
  {
   "cell_type": "code",
   "execution_count": 9,
   "metadata": {},
   "outputs": [],
   "source": [
    "data_dir  = os.path.normpath(os.path.join(os.getcwd(), \"../../runs/FIA/Com8_grown_together/oms\"))\n",
    "data = read_data(data_dir, verbosity=0)"
   ]
  },
  {
   "cell_type": "code",
   "execution_count": 10,
   "metadata": {},
   "outputs": [],
   "source": [
    "X = np.random.normal(0.0, 1.0, size=(5, 825000))"
   ]
  },
  {
   "cell_type": "code",
   "execution_count": 13,
   "metadata": {},
   "outputs": [
    {
     "ename": "TypeError",
     "evalue": "list.append() takes exactly one argument (0 given)",
     "output_type": "error",
     "traceback": [
      "\u001b[0;31m---------------------------------------------------------------------------\u001b[0m",
      "\u001b[0;31mTypeError\u001b[0m                                 Traceback (most recent call last)",
      "Cell \u001b[0;32mIn[13], line 4\u001b[0m\n\u001b[1;32m      1\u001b[0m callbacks \u001b[38;5;241m=\u001b[39m [ keras\u001b[38;5;241m.\u001b[39mcallbacks\u001b[38;5;241m.\u001b[39mModelCheckpoint( filepath\u001b[38;5;241m=\u001b[39m\u001b[38;5;124m\"\u001b[39m\u001b[38;5;124m../../runs/VAE/training/test_\u001b[39m\u001b[38;5;132;01m{epoch}\u001b[39;00m\u001b[38;5;124m.keras\u001b[39m\u001b[38;5;124m\"\u001b[39m,\n\u001b[1;32m      2\u001b[0m                                                        save_best_only\u001b[38;5;241m=\u001b[39m\u001b[38;5;28;01mTrue\u001b[39;00m, monitor\u001b[38;5;241m=\u001b[39m\u001b[38;5;124m\"\u001b[39m\u001b[38;5;124mval_loss\u001b[39m\u001b[38;5;124m\"\u001b[39m,\n\u001b[1;32m      3\u001b[0m                                                        verbose\u001b[38;5;241m=\u001b[39m\u001b[38;5;241m1\u001b[39m )]\n\u001b[0;32m----> 4\u001b[0m \u001b[43mcallbacks\u001b[49m\u001b[38;5;241;43m.\u001b[39;49m\u001b[43mappend\u001b[49m\u001b[43m(\u001b[49m\u001b[43m \u001b[49m\u001b[43m)\u001b[49m\n",
      "\u001b[0;31mTypeError\u001b[0m: list.append() takes exactly one argument (0 given)"
     ]
    }
   ],
   "source": [
    "callbacks = [ keras.callbacks.ModelCheckpoint( filepath=\"../../runs/VAE/training/test_{epoch}.keras\",\n",
    "                                                       save_best_only=True, monitor=\"val_loss\",\n",
    "                                                       verbose=1 )]\n",
    "callbacks.append( )"
   ]
  },
  {
   "cell_type": "code",
   "execution_count": 14,
   "metadata": {},
   "outputs": [
    {
     "name": "stdout",
     "output_type": "stream",
     "text": [
      "Epoch 1/10\n"
     ]
    },
    {
     "name": "stdout",
     "output_type": "stream",
     "text": [
      "\u001b[1m2/2\u001b[0m \u001b[32m━━━━━━━━━━━━━━━━━━━━\u001b[0m\u001b[37m\u001b[0m \u001b[1m0s\u001b[0m 111ms/step - kl_loss: 0.7328 - loss: 1.5298 - reconstruction_loss: 0.7970\n",
      "Epoch 1: val_loss improved from inf to 0.84213, saving model to ../../runs/VAE/training/test_1.keras\n",
      "\u001b[1m2/2\u001b[0m \u001b[32m━━━━━━━━━━━━━━━━━━━━\u001b[0m\u001b[37m\u001b[0m \u001b[1m1s\u001b[0m 612ms/step - kl_loss: 0.7328 - loss: 1.5298 - reconstruction_loss: 0.7970 - val_kl_loss: 0.0447 - val_loss: 0.8421 - val_reconstruction_loss: 0.7974\n",
      "Epoch 2/10\n",
      "\u001b[1m2/2\u001b[0m \u001b[32m━━━━━━━━━━━━━━━━━━━━\u001b[0m\u001b[37m\u001b[0m \u001b[1m0s\u001b[0m 187ms/step - kl_loss: 13287.1094 - loss: 13287.9062 - reconstruction_loss: 0.7974\n",
      "Epoch 2: val_loss improved from 0.84213 to 0.82966, saving model to ../../runs/VAE/training/test_2.keras\n",
      "\u001b[1m2/2\u001b[0m \u001b[32m━━━━━━━━━━━━━━━━━━━━\u001b[0m\u001b[37m\u001b[0m \u001b[1m1s\u001b[0m 551ms/step - kl_loss: 13287.1094 - loss: 13287.9062 - reconstruction_loss: 0.7974 - val_kl_loss: 0.0322 - val_loss: 0.8297 - val_reconstruction_loss: 0.7974\n",
      "Epoch 3/10\n",
      "\u001b[1m2/2\u001b[0m \u001b[32m━━━━━━━━━━━━━━━━━━━━\u001b[0m\u001b[37m\u001b[0m \u001b[1m0s\u001b[0m 114ms/step - kl_loss: 804.3394 - loss: 805.1360 - reconstruction_loss: 0.7965\n",
      "Epoch 3: val_loss did not improve from 0.82966\n",
      "\u001b[1m2/2\u001b[0m \u001b[32m━━━━━━━━━━━━━━━━━━━━\u001b[0m\u001b[37m\u001b[0m \u001b[1m0s\u001b[0m 137ms/step - kl_loss: 804.3394 - loss: 805.1360 - reconstruction_loss: 0.7965 - val_kl_loss: 0.0330 - val_loss: 0.8304 - val_reconstruction_loss: 0.7974\n",
      "Epoch 4/10\n",
      "\u001b[1m2/2\u001b[0m \u001b[32m━━━━━━━━━━━━━━━━━━━━\u001b[0m\u001b[37m\u001b[0m \u001b[1m0s\u001b[0m 111ms/step - kl_loss: 785.4866 - loss: 786.2830 - reconstruction_loss: 0.7964  \n",
      "Epoch 4: val_loss did not improve from 0.82966\n",
      "\u001b[1m2/2\u001b[0m \u001b[32m━━━━━━━━━━━━━━━━━━━━\u001b[0m\u001b[37m\u001b[0m \u001b[1m0s\u001b[0m 135ms/step - kl_loss: 785.4866 - loss: 786.2830 - reconstruction_loss: 0.7964 - val_kl_loss: 0.0331 - val_loss: 0.8306 - val_reconstruction_loss: 0.7974\n",
      "Epoch 5/10\n",
      "\u001b[1m2/2\u001b[0m \u001b[32m━━━━━━━━━━━━━━━━━━━━\u001b[0m\u001b[37m\u001b[0m \u001b[1m0s\u001b[0m 112ms/step - kl_loss: 920.7812 - loss: 921.5751 - reconstruction_loss: 0.7939\n",
      "Epoch 5: val_loss did not improve from 0.82966\n",
      "\u001b[1m2/2\u001b[0m \u001b[32m━━━━━━━━━━━━━━━━━━━━\u001b[0m\u001b[37m\u001b[0m \u001b[1m0s\u001b[0m 135ms/step - kl_loss: 920.7812 - loss: 921.5751 - reconstruction_loss: 0.7939 - val_kl_loss: 0.0340 - val_loss: 0.8314 - val_reconstruction_loss: 0.7974\n",
      "Epoch 6/10\n",
      "\u001b[1m2/2\u001b[0m \u001b[32m━━━━━━━━━━━━━━━━━━━━\u001b[0m\u001b[37m\u001b[0m \u001b[1m0s\u001b[0m 109ms/step - kl_loss: 954.5595 - loss: 955.3533 - reconstruction_loss: 0.7937\n",
      "Epoch 6: val_loss did not improve from 0.82966\n",
      "\u001b[1m2/2\u001b[0m \u001b[32m━━━━━━━━━━━━━━━━━━━━\u001b[0m\u001b[37m\u001b[0m \u001b[1m0s\u001b[0m 135ms/step - kl_loss: 954.5595 - loss: 955.3533 - reconstruction_loss: 0.7937 - val_kl_loss: 0.0352 - val_loss: 0.8326 - val_reconstruction_loss: 0.7974\n",
      "Epoch 7/10\n",
      "\u001b[1m2/2\u001b[0m \u001b[32m━━━━━━━━━━━━━━━━━━━━\u001b[0m\u001b[37m\u001b[0m \u001b[1m0s\u001b[0m 108ms/step - kl_loss: 350.8067 - loss: 351.5996 - reconstruction_loss: 0.7929\n",
      "Epoch 7: val_loss did not improve from 0.82966\n",
      "\u001b[1m2/2\u001b[0m \u001b[32m━━━━━━━━━━━━━━━━━━━━\u001b[0m\u001b[37m\u001b[0m \u001b[1m0s\u001b[0m 136ms/step - kl_loss: 350.8067 - loss: 351.5996 - reconstruction_loss: 0.7929 - val_kl_loss: 0.0371 - val_loss: 0.8345 - val_reconstruction_loss: 0.7974\n",
      "Epoch 8/10\n",
      "\u001b[1m2/2\u001b[0m \u001b[32m━━━━━━━━━━━━━━━━━━━━\u001b[0m\u001b[37m\u001b[0m \u001b[1m0s\u001b[0m 108ms/step - kl_loss: 116.0780 - loss: 116.8727 - reconstruction_loss: 0.7947\n",
      "Epoch 8: val_loss did not improve from 0.82966\n",
      "\u001b[1m2/2\u001b[0m \u001b[32m━━━━━━━━━━━━━━━━━━━━\u001b[0m\u001b[37m\u001b[0m \u001b[1m0s\u001b[0m 136ms/step - kl_loss: 116.0780 - loss: 116.8727 - reconstruction_loss: 0.7947 - val_kl_loss: 0.0391 - val_loss: 0.8366 - val_reconstruction_loss: 0.7974\n",
      "Epoch 9/10\n",
      "\u001b[1m2/2\u001b[0m \u001b[32m━━━━━━━━━━━━━━━━━━━━\u001b[0m\u001b[37m\u001b[0m \u001b[1m0s\u001b[0m 109ms/step - kl_loss: 8.3463 - loss: 9.1423 - reconstruction_loss: 0.7960  \n",
      "Epoch 9: val_loss did not improve from 0.82966\n",
      "\u001b[1m2/2\u001b[0m \u001b[32m━━━━━━━━━━━━━━━━━━━━\u001b[0m\u001b[37m\u001b[0m \u001b[1m0s\u001b[0m 139ms/step - kl_loss: 8.3463 - loss: 9.1423 - reconstruction_loss: 0.7960 - val_kl_loss: 0.0410 - val_loss: 0.8384 - val_reconstruction_loss: 0.7974\n",
      "Epoch 10/10\n",
      "\u001b[1m2/2\u001b[0m \u001b[32m━━━━━━━━━━━━━━━━━━━━\u001b[0m\u001b[37m\u001b[0m \u001b[1m0s\u001b[0m 180ms/step - kl_loss: 1.1772e-06 - loss: 0.7968 - reconstruction_loss: 0.7968\n",
      "Epoch 10: val_loss did not improve from 0.82966\n",
      "\u001b[1m2/2\u001b[0m \u001b[32m━━━━━━━━━━━━━━━━━━━━\u001b[0m\u001b[37m\u001b[0m \u001b[1m0s\u001b[0m 207ms/step - kl_loss: 1.1772e-06 - loss: 0.7968 - reconstruction_loss: 0.7968 - val_kl_loss: 0.0423 - val_loss: 0.8398 - val_reconstruction_loss: 0.7974\n"
     ]
    },
    {
     "data": {
      "text/plain": [
       "<keras.src.callbacks.history.History at 0x7f0ff84b1fd0>"
      ]
     },
     "execution_count": 14,
     "metadata": {},
     "output_type": "execute_result"
    }
   ],
   "source": [
    "model2.fit(X, X, validation_split=0.2, batch_size=2, epochs=10, callbacks=callbacks)"
   ]
  },
  {
   "cell_type": "code",
   "execution_count": 15,
   "metadata": {},
   "outputs": [
    {
     "name": "stdout",
     "output_type": "stream",
     "text": [
      "\u001b[1m1/1\u001b[0m \u001b[32m━━━━━━━━━━━━━━━━━━━━\u001b[0m\u001b[37m\u001b[0m \u001b[1m0s\u001b[0m 90ms/step - kl_loss: 2.8402e-05 - loss: 7.4781e-04 - reconstruction_loss: 7.1941e-04\n"
     ]
    }
   ],
   "source": [
    "loss, kl_loss, recon_loss = model2.evaluate(data, data, batch_size=68)"
   ]
  },
  {
   "cell_type": "code",
   "execution_count": 17,
   "metadata": {},
   "outputs": [
    {
     "name": "stdout",
     "output_type": "stream",
     "text": [
      "\u001b[1m3/3\u001b[0m \u001b[32m━━━━━━━━━━━━━━━━━━━━\u001b[0m\u001b[37m\u001b[0m \u001b[1m0s\u001b[0m 26ms/step\n"
     ]
    }
   ],
   "source": [
    "prediction = model2.predict(data)"
   ]
  },
  {
   "cell_type": "code",
   "execution_count": 19,
   "metadata": {},
   "outputs": [
    {
     "data": {
      "text/html": [
       "<div>\n",
       "<style scoped>\n",
       "    .dataframe tbody tr th:only-of-type {\n",
       "        vertical-align: middle;\n",
       "    }\n",
       "\n",
       "    .dataframe tbody tr th {\n",
       "        vertical-align: top;\n",
       "    }\n",
       "\n",
       "    .dataframe thead th {\n",
       "        text-align: right;\n",
       "    }\n",
       "</style>\n",
       "<table border=\"1\" class=\"dataframe\">\n",
       "  <thead>\n",
       "    <tr style=\"text-align: right;\">\n",
       "      <th></th>\n",
       "      <th>0</th>\n",
       "      <th>1</th>\n",
       "      <th>2</th>\n",
       "      <th>3</th>\n",
       "      <th>4</th>\n",
       "      <th>5</th>\n",
       "      <th>6</th>\n",
       "      <th>7</th>\n",
       "      <th>8</th>\n",
       "      <th>9</th>\n",
       "      <th>...</th>\n",
       "      <th>824990</th>\n",
       "      <th>824991</th>\n",
       "      <th>824992</th>\n",
       "      <th>824993</th>\n",
       "      <th>824994</th>\n",
       "      <th>824995</th>\n",
       "      <th>824996</th>\n",
       "      <th>824997</th>\n",
       "      <th>824998</th>\n",
       "      <th>824999</th>\n",
       "    </tr>\n",
       "  </thead>\n",
       "  <tbody>\n",
       "    <tr>\n",
       "      <th>0</th>\n",
       "      <td>0.000000</td>\n",
       "      <td>0.000271</td>\n",
       "      <td>0.003579</td>\n",
       "      <td>0.000000</td>\n",
       "      <td>0.0</td>\n",
       "      <td>0.000393</td>\n",
       "      <td>0.000000</td>\n",
       "      <td>0.000000</td>\n",
       "      <td>0.002761</td>\n",
       "      <td>0.002984</td>\n",
       "      <td>...</td>\n",
       "      <td>0.003010</td>\n",
       "      <td>0.0</td>\n",
       "      <td>0.000412</td>\n",
       "      <td>0.000000</td>\n",
       "      <td>0.001058</td>\n",
       "      <td>0.000000</td>\n",
       "      <td>0.000177</td>\n",
       "      <td>0.0</td>\n",
       "      <td>0.000000</td>\n",
       "      <td>0.001853</td>\n",
       "    </tr>\n",
       "    <tr>\n",
       "      <th>1</th>\n",
       "      <td>0.000783</td>\n",
       "      <td>0.000236</td>\n",
       "      <td>0.002461</td>\n",
       "      <td>0.004321</td>\n",
       "      <td>0.0</td>\n",
       "      <td>0.000563</td>\n",
       "      <td>0.000610</td>\n",
       "      <td>0.000000</td>\n",
       "      <td>0.001099</td>\n",
       "      <td>0.001626</td>\n",
       "      <td>...</td>\n",
       "      <td>0.002565</td>\n",
       "      <td>0.0</td>\n",
       "      <td>0.000435</td>\n",
       "      <td>0.002737</td>\n",
       "      <td>0.001041</td>\n",
       "      <td>0.001859</td>\n",
       "      <td>0.001998</td>\n",
       "      <td>0.0</td>\n",
       "      <td>0.000127</td>\n",
       "      <td>0.000000</td>\n",
       "    </tr>\n",
       "    <tr>\n",
       "      <th>2</th>\n",
       "      <td>0.000000</td>\n",
       "      <td>0.000063</td>\n",
       "      <td>0.002080</td>\n",
       "      <td>0.001112</td>\n",
       "      <td>0.0</td>\n",
       "      <td>0.000636</td>\n",
       "      <td>0.000000</td>\n",
       "      <td>0.000000</td>\n",
       "      <td>0.000452</td>\n",
       "      <td>0.001553</td>\n",
       "      <td>...</td>\n",
       "      <td>0.001434</td>\n",
       "      <td>0.0</td>\n",
       "      <td>0.000621</td>\n",
       "      <td>0.000415</td>\n",
       "      <td>0.001264</td>\n",
       "      <td>0.000276</td>\n",
       "      <td>0.000636</td>\n",
       "      <td>0.0</td>\n",
       "      <td>0.000105</td>\n",
       "      <td>0.000729</td>\n",
       "    </tr>\n",
       "    <tr>\n",
       "      <th>3</th>\n",
       "      <td>0.000000</td>\n",
       "      <td>0.000367</td>\n",
       "      <td>0.004271</td>\n",
       "      <td>0.000000</td>\n",
       "      <td>0.0</td>\n",
       "      <td>0.000281</td>\n",
       "      <td>0.000000</td>\n",
       "      <td>0.000000</td>\n",
       "      <td>0.003827</td>\n",
       "      <td>0.003644</td>\n",
       "      <td>...</td>\n",
       "      <td>0.003738</td>\n",
       "      <td>0.0</td>\n",
       "      <td>0.000316</td>\n",
       "      <td>0.000000</td>\n",
       "      <td>0.000962</td>\n",
       "      <td>0.000000</td>\n",
       "      <td>0.000000</td>\n",
       "      <td>0.0</td>\n",
       "      <td>0.000000</td>\n",
       "      <td>0.002372</td>\n",
       "    </tr>\n",
       "    <tr>\n",
       "      <th>4</th>\n",
       "      <td>0.001032</td>\n",
       "      <td>0.000315</td>\n",
       "      <td>0.002708</td>\n",
       "      <td>0.005441</td>\n",
       "      <td>0.0</td>\n",
       "      <td>0.000519</td>\n",
       "      <td>0.000908</td>\n",
       "      <td>0.000120</td>\n",
       "      <td>0.001505</td>\n",
       "      <td>0.001754</td>\n",
       "      <td>...</td>\n",
       "      <td>0.003100</td>\n",
       "      <td>0.0</td>\n",
       "      <td>0.000350</td>\n",
       "      <td>0.003487</td>\n",
       "      <td>0.000943</td>\n",
       "      <td>0.002281</td>\n",
       "      <td>0.002476</td>\n",
       "      <td>0.0</td>\n",
       "      <td>0.000112</td>\n",
       "      <td>0.000000</td>\n",
       "    </tr>\n",
       "    <tr>\n",
       "      <th>...</th>\n",
       "      <td>...</td>\n",
       "      <td>...</td>\n",
       "      <td>...</td>\n",
       "      <td>...</td>\n",
       "      <td>...</td>\n",
       "      <td>...</td>\n",
       "      <td>...</td>\n",
       "      <td>...</td>\n",
       "      <td>...</td>\n",
       "      <td>...</td>\n",
       "      <td>...</td>\n",
       "      <td>...</td>\n",
       "      <td>...</td>\n",
       "      <td>...</td>\n",
       "      <td>...</td>\n",
       "      <td>...</td>\n",
       "      <td>...</td>\n",
       "      <td>...</td>\n",
       "      <td>...</td>\n",
       "      <td>...</td>\n",
       "      <td>...</td>\n",
       "    </tr>\n",
       "    <tr>\n",
       "      <th>63</th>\n",
       "      <td>0.000791</td>\n",
       "      <td>0.000239</td>\n",
       "      <td>0.002469</td>\n",
       "      <td>0.004357</td>\n",
       "      <td>0.0</td>\n",
       "      <td>0.000562</td>\n",
       "      <td>0.000619</td>\n",
       "      <td>0.000000</td>\n",
       "      <td>0.001113</td>\n",
       "      <td>0.001631</td>\n",
       "      <td>...</td>\n",
       "      <td>0.002583</td>\n",
       "      <td>0.0</td>\n",
       "      <td>0.000432</td>\n",
       "      <td>0.002762</td>\n",
       "      <td>0.001038</td>\n",
       "      <td>0.001873</td>\n",
       "      <td>0.002014</td>\n",
       "      <td>0.0</td>\n",
       "      <td>0.000127</td>\n",
       "      <td>0.000000</td>\n",
       "    </tr>\n",
       "    <tr>\n",
       "      <th>64</th>\n",
       "      <td>0.000000</td>\n",
       "      <td>0.000351</td>\n",
       "      <td>0.004160</td>\n",
       "      <td>0.000000</td>\n",
       "      <td>0.0</td>\n",
       "      <td>0.000299</td>\n",
       "      <td>0.000000</td>\n",
       "      <td>0.000000</td>\n",
       "      <td>0.003655</td>\n",
       "      <td>0.003538</td>\n",
       "      <td>...</td>\n",
       "      <td>0.003621</td>\n",
       "      <td>0.0</td>\n",
       "      <td>0.000332</td>\n",
       "      <td>0.000000</td>\n",
       "      <td>0.000977</td>\n",
       "      <td>0.000000</td>\n",
       "      <td>0.000000</td>\n",
       "      <td>0.0</td>\n",
       "      <td>0.000000</td>\n",
       "      <td>0.002288</td>\n",
       "    </tr>\n",
       "    <tr>\n",
       "      <th>65</th>\n",
       "      <td>0.000000</td>\n",
       "      <td>0.000068</td>\n",
       "      <td>0.002114</td>\n",
       "      <td>0.001086</td>\n",
       "      <td>0.0</td>\n",
       "      <td>0.000630</td>\n",
       "      <td>0.000000</td>\n",
       "      <td>0.000000</td>\n",
       "      <td>0.000505</td>\n",
       "      <td>0.001585</td>\n",
       "      <td>...</td>\n",
       "      <td>0.001470</td>\n",
       "      <td>0.0</td>\n",
       "      <td>0.000616</td>\n",
       "      <td>0.000376</td>\n",
       "      <td>0.001259</td>\n",
       "      <td>0.000221</td>\n",
       "      <td>0.000625</td>\n",
       "      <td>0.0</td>\n",
       "      <td>0.000097</td>\n",
       "      <td>0.000754</td>\n",
       "    </tr>\n",
       "    <tr>\n",
       "      <th>66</th>\n",
       "      <td>0.000000</td>\n",
       "      <td>0.000631</td>\n",
       "      <td>0.006178</td>\n",
       "      <td>0.000000</td>\n",
       "      <td>0.0</td>\n",
       "      <td>0.000000</td>\n",
       "      <td>0.000000</td>\n",
       "      <td>0.000000</td>\n",
       "      <td>0.006763</td>\n",
       "      <td>0.005464</td>\n",
       "      <td>...</td>\n",
       "      <td>0.005743</td>\n",
       "      <td>0.0</td>\n",
       "      <td>0.000051</td>\n",
       "      <td>0.000000</td>\n",
       "      <td>0.000699</td>\n",
       "      <td>0.000000</td>\n",
       "      <td>0.000000</td>\n",
       "      <td>0.0</td>\n",
       "      <td>0.000000</td>\n",
       "      <td>0.003802</td>\n",
       "    </tr>\n",
       "    <tr>\n",
       "      <th>67</th>\n",
       "      <td>0.001760</td>\n",
       "      <td>0.000548</td>\n",
       "      <td>0.003431</td>\n",
       "      <td>0.008717</td>\n",
       "      <td>0.0</td>\n",
       "      <td>0.000390</td>\n",
       "      <td>0.001782</td>\n",
       "      <td>0.000526</td>\n",
       "      <td>0.002690</td>\n",
       "      <td>0.002129</td>\n",
       "      <td>...</td>\n",
       "      <td>0.004664</td>\n",
       "      <td>0.0</td>\n",
       "      <td>0.000100</td>\n",
       "      <td>0.005681</td>\n",
       "      <td>0.000658</td>\n",
       "      <td>0.003513</td>\n",
       "      <td>0.003874</td>\n",
       "      <td>0.0</td>\n",
       "      <td>0.000065</td>\n",
       "      <td>0.000000</td>\n",
       "    </tr>\n",
       "  </tbody>\n",
       "</table>\n",
       "<p>68 rows × 825000 columns</p>\n",
       "</div>"
      ],
      "text/plain": [
       "      0         1         2         3       4         5         6       \\\n",
       "0   0.000000  0.000271  0.003579  0.000000     0.0  0.000393  0.000000   \n",
       "1   0.000783  0.000236  0.002461  0.004321     0.0  0.000563  0.000610   \n",
       "2   0.000000  0.000063  0.002080  0.001112     0.0  0.000636  0.000000   \n",
       "3   0.000000  0.000367  0.004271  0.000000     0.0  0.000281  0.000000   \n",
       "4   0.001032  0.000315  0.002708  0.005441     0.0  0.000519  0.000908   \n",
       "..       ...       ...       ...       ...     ...       ...       ...   \n",
       "63  0.000791  0.000239  0.002469  0.004357     0.0  0.000562  0.000619   \n",
       "64  0.000000  0.000351  0.004160  0.000000     0.0  0.000299  0.000000   \n",
       "65  0.000000  0.000068  0.002114  0.001086     0.0  0.000630  0.000000   \n",
       "66  0.000000  0.000631  0.006178  0.000000     0.0  0.000000  0.000000   \n",
       "67  0.001760  0.000548  0.003431  0.008717     0.0  0.000390  0.001782   \n",
       "\n",
       "      7         8         9       ...    824990  824991    824992    824993  \\\n",
       "0   0.000000  0.002761  0.002984  ...  0.003010     0.0  0.000412  0.000000   \n",
       "1   0.000000  0.001099  0.001626  ...  0.002565     0.0  0.000435  0.002737   \n",
       "2   0.000000  0.000452  0.001553  ...  0.001434     0.0  0.000621  0.000415   \n",
       "3   0.000000  0.003827  0.003644  ...  0.003738     0.0  0.000316  0.000000   \n",
       "4   0.000120  0.001505  0.001754  ...  0.003100     0.0  0.000350  0.003487   \n",
       "..       ...       ...       ...  ...       ...     ...       ...       ...   \n",
       "63  0.000000  0.001113  0.001631  ...  0.002583     0.0  0.000432  0.002762   \n",
       "64  0.000000  0.003655  0.003538  ...  0.003621     0.0  0.000332  0.000000   \n",
       "65  0.000000  0.000505  0.001585  ...  0.001470     0.0  0.000616  0.000376   \n",
       "66  0.000000  0.006763  0.005464  ...  0.005743     0.0  0.000051  0.000000   \n",
       "67  0.000526  0.002690  0.002129  ...  0.004664     0.0  0.000100  0.005681   \n",
       "\n",
       "      824994    824995    824996  824997    824998    824999  \n",
       "0   0.001058  0.000000  0.000177     0.0  0.000000  0.001853  \n",
       "1   0.001041  0.001859  0.001998     0.0  0.000127  0.000000  \n",
       "2   0.001264  0.000276  0.000636     0.0  0.000105  0.000729  \n",
       "3   0.000962  0.000000  0.000000     0.0  0.000000  0.002372  \n",
       "4   0.000943  0.002281  0.002476     0.0  0.000112  0.000000  \n",
       "..       ...       ...       ...     ...       ...       ...  \n",
       "63  0.001038  0.001873  0.002014     0.0  0.000127  0.000000  \n",
       "64  0.000977  0.000000  0.000000     0.0  0.000000  0.002288  \n",
       "65  0.001259  0.000221  0.000625     0.0  0.000097  0.000754  \n",
       "66  0.000699  0.000000  0.000000     0.0  0.000000  0.003802  \n",
       "67  0.000658  0.003513  0.003874     0.0  0.000065  0.000000  \n",
       "\n",
       "[68 rows x 825000 columns]"
      ]
     },
     "execution_count": 19,
     "metadata": {},
     "output_type": "execute_result"
    }
   ],
   "source": [
    "pd.DataFrame(prediction)"
   ]
  },
  {
   "cell_type": "code",
   "execution_count": null,
   "metadata": {},
   "outputs": [],
   "source": []
  }
 ],
 "metadata": {
  "kernelspec": {
   "display_name": "FIA_VAE",
   "language": "python",
   "name": "python3"
  },
  "language_info": {
   "codemirror_mode": {
    "name": "ipython",
    "version": 3
   },
   "file_extension": ".py",
   "mimetype": "text/x-python",
   "name": "python",
   "nbconvert_exporter": "python",
   "pygments_lexer": "ipython3",
   "version": "3.11.8"
  }
 },
 "nbformat": 4,
 "nbformat_minor": 2
}
