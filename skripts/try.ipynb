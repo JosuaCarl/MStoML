{
 "cells": [
  {
   "cell_type": "code",
   "execution_count": 1,
   "metadata": {
    "ExecuteTime": {
     "end_time": "2024-01-24T17:26:04.331182945Z",
     "start_time": "2024-01-24T17:26:01.402929478Z"
    }
   },
   "outputs": [],
   "source": [
    "# Imports\n",
    "import os\n",
    "import datetime\n",
    "import json\n",
    "from numpy import *\n",
    "import pandas as pd\n",
    "import pyopenms as oms\n",
    "import matplotlib.pyplot as plt\n",
    "import seaborn as sns\n",
    "import plotly.graph_objects as go\n",
    "import plotly.express as px\n",
    "from tqdm import tqdm\n",
    "import shutil\n",
    "import requests\n",
    "from sklearn.impute import KNNImputer\n",
    "from sklearn.preprocessing import FunctionTransformer\n",
    "from sklearn.pipeline import Pipeline\n",
    "\n",
    "# Ignore seaborn warning for future deprecation of module part\n",
    "import warnings\n",
    "warnings.simplefilter(action='ignore', category=FutureWarning)\n",
    "\n",
    "# import methods from FIA python script\n",
    "from FIA import *"
   ]
  },
  {
   "cell_type": "code",
   "execution_count": 7,
   "metadata": {},
   "outputs": [
    {
     "ename": "TypeError",
     "evalue": "'list' object is not callable",
     "output_type": "error",
     "traceback": [
      "\u001b[0;31m---------------------------------------------------------------------------\u001b[0m",
      "\u001b[0;31mTypeError\u001b[0m                                 Traceback (most recent call last)",
      "\u001b[1;32m/mnt/Data/Uni/Nextcloud/aktuelles_Semester/Thesis/MStoML/skripts/try.ipynb Cell 2\u001b[0m line \u001b[0;36m2\n\u001b[1;32m      <a href='vscode-notebook-cell:/mnt/Data/Uni/Nextcloud/aktuelles_Semester/Thesis/MStoML/skripts/try.ipynb#W4sZmlsZQ%3D%3D?line=0'>1</a>\u001b[0m sar \u001b[39m=\u001b[39m oms\u001b[39m.\u001b[39mSiriusAdapterRun()\n\u001b[0;32m----> <a href='vscode-notebook-cell:/mnt/Data/Uni/Nextcloud/aktuelles_Semester/Thesis/MStoML/skripts/try.ipynb#W4sZmlsZQ%3D%3D?line=1'>2</a>\u001b[0m sar\u001b[39m.\u001b[39;49midentifications()\n",
      "\u001b[0;31mTypeError\u001b[0m: 'list' object is not callable"
     ]
    }
   ],
   "source": [
    "sar = oms.SiriusAdapterRun()"
   ]
  },
  {
   "cell_type": "code",
   "execution_count": 3,
   "metadata": {},
   "outputs": [
    {
     "name": "stdout",
     "output_type": "stream",
     "text": [
      "Param: b'read_sirius_stdout' Value: false Description: Read and print the standard output and error of the Sirius executable, even if it succeeds.\n",
      "Param: b'preprocessing:filter_by_num_masstraces' Value: 1 Description: Number of mass traces each feature has to have to be included. To use this parameter, setting the feature_only flag is necessary\n",
      "Param: b'preprocessing:precursor_mz_tolerance' Value: 10.0 Description: Tolerance window for precursor selection (Feature selection in regard to the precursor)\n",
      "Param: b'preprocessing:precursor_mz_tolerance_unit' Value: ppm Description: Unit of the precursor_mz_tolerance\n",
      "Param: b'preprocessing:precursor_rt_tolerance' Value: 5.0 Description: Tolerance window (left and right) for precursor selection [seconds]\n",
      "Param: b'preprocessing:isotope_pattern_iterations' Value: 3 Description: Number of iterations that should be performed to extract the C13 isotope pattern. If no peak is found (C13 distance) the function will abort. Be careful with noisy data - since this can lead to wrong isotope patterns\n",
      "Param: b'preprocessing:feature_only' Value: false Description: Uses the feature information from in_featureinfo to reduce the search space to MS2 associated with a feature\n",
      "Param: b'preprocessing:no_masstrace_info_isotope_pattern' Value: false Description: Use this flag if the masstrace information from a feature should be discarded and the isotope_pattern_iterations should be used instead\n",
      "Param: b'project:maxmz' Value: -1 Description: Just consider compounds with a precursor mz lower or equal\n",
      "this maximum mz. All other compounds in the input file\n",
      "are ignored.\n",
      "Param: b'project:processors' Value: 1 Description: Number of cpu cores to use. If not specified SIRIUS uses all available cores.\n",
      "Param: b'project:loglevel' Value:  Description: Set logging level of the Jobs SIRIUS will execute.\n",
      "Valid values: SEVERE, WARNING, INFO, FINER, ALL\n",
      "Default: WARNING\n",
      "Param: b'project:ignore_formula' Value: false Description: Ignore given molecular formula in internal .ms format, while processing.\n",
      "Param: b'project:q' Value: false Description: Suppress shell output\n",
      "Param: b'sirius:ppm_max' Value: 10.0 Description: Maximum allowed mass deviation in ppm for decomposing masses [ppm].\n",
      "Param: b'sirius:ppm_max_ms2' Value: 10.0 Description: Maximum allowed mass deviation in ppm for decomposing masses in MS2 [ppm].If not specified, the same value as for the MS1 is used. \n",
      "Param: b'sirius:tree_timeout' Value: 100 Description: Time out in seconds per fragmentation tree computations. 0 for an infinite amount of time\n",
      "Param: b'sirius:compound_timeout' Value: 100 Description: Maximal computation time in seconds for a single compound. 0 for an infinite amount of time.\n",
      "Param: b'sirius:no_recalibration' Value: false Description: Disable recalibration of input spectra\n",
      "Param: b'sirius:profile' Value: default Description: Name of the configuration profile\n",
      "Param: b'sirius:formulas' Value:  Description: Specify the neutral molecular formula of the measured compound to compute its tree or a list of candidate formulas the method should discriminate. Omit this option if you want to consider all possible molecular formulas\n",
      "Param: b'sirius:ions_enforced' Value:  Description: The iontype/adduct of the MS/MS data. Example: [M+H]+, \n",
      "[M-H]-, [M+Cl]-, [M+Na]+, [M]+. You can also provide a \n",
      "comma separated list of adducts.\n",
      "Param: b'sirius:candidates' Value: 10 Description: The number of formula candidates in the SIRIUS output\n",
      "Param: b'sirius:candidates_per_ion' Value: 1 Description: Minimum number of candidates in the output for each ionization. Set to force output of results for each possible ionization, even if not part of highest ranked results.\n",
      "Param: b'sirius:elements_considered' Value: SBrClBSe Description: Set the allowed elements for rare element detection. Write SBrClBSe to allow the elements S,Br,Cl,B and Se.\n",
      "Param: b'sirius:elements_enforced' Value: CHNOP Description: Enforce elements for molecular formula determination. Write CHNOPSCl to allow the elements C, H, N, O, P, S and Cl. Add numbers in brackets to restrict the minimal and maximal allowed occurrence of these elements: CHNOP[5]S[8]Cl[1-2]. When one number is given then it is interpreted as upper bound.\n",
      "Param: b'sirius:no_isotope_score' Value: false Description: Disable isotope pattern score.\n",
      "Param: b'sirius:no_isotope_filter' Value: false Description: Disable molecular formula filter. When filtering is enabled, molecular formulas are excluded if their theoretical isotope pattern does not match the theoretical one, even if their MS/MS pattern has high score.\n",
      "Param: b'sirius:ions_considered' Value: [M+H]+,[M+K]+,[M+Na]+,[M+H-H2O]+,[M+H-H4O2]+,[M+NH4]+,[M-H]-,[M+Cl]-,[M-H2O-H]-,[M+Br]- Description: the iontype/adduct of the MS/MS data. Example: [M+H]+, [M-H]-, [M+Cl]-, [M+Na]+, [M]+. You can also provide a comma separated list of adducts.\n",
      "Param: b'sirius:db' Value: none Description: Search formulas in the Union of the given databases db-name1,db-name2,db-name3. If no database is given all possible molecular formulas will be respected (no database is used). Example: possible DBs: ALL,BIO,PUBCHEM,MESH,HMDB,KNAPSACK,CHEBI,PUBMED,KEGG,HSDB,MACONDA,METACYC,GNPS,ZINCBIO,UNDP,YMDB,PLANTCYC,NORMAN,ADDITIONAL,PUBCHEMANNOTATIONBIO,PUBCHEMANNOTATIONDRUG,PUBCHEMANNOTATIONSAFETYANDTOXIC,PUBCHEMANNOTATIONFOOD,KEGGMINE,ECOCYCMINE,YMDBMINE\n",
      "Param: b'sirius:solver' Value: CLP Description: For GUROBI and CPLEX environment variables need to be configured. \n",
      "(see SIRIUS manual: https://boecker-lab.github.io/docs.sirius.github.io/install/).\n",
      "Param: b'fingerid:db' Value:  Description: Search structures in the Union of the given databases db-name1,db-name2,db-name3. If no database is given all possible molecular formulas will be respected (no database is used). Example: possible DBs: ALL,BIO,PUBCHEM,MESH,HMDB,KNAPSACK,CHEBI,PUBMED,KEGG,HSDB,MACONDA,METACYC,GNPS,ZINCBIO,UNDP,YMDB,PLANTCYC,NORMAN,ADDITIONAL,PUBCHEMANNOTATIONBIO,PUBCHEMANNOTATIONDRUG,PUBCHEMANNOTATIONSAFETYANDTOXIC,PUBCHEMANNOTATIONFOOD,KEGGMINE,ECOCYCMINE,YMDBMINE\n"
     ]
    }
   ],
   "source": [
    "sa = oms.SiriusAdapterAlgorithm()\n",
    "par = sa.getParameters()\n",
    "print_params(par)"
   ]
  },
  {
   "cell_type": "markdown",
   "metadata": {},
   "source": [
    "## Loading\n",
    "Reads in files"
   ]
  },
  {
   "cell_type": "code",
   "execution_count": 6,
   "metadata": {
    "ExecuteTime": {
     "end_time": "2024-01-24T17:08:28.423346775Z",
     "start_time": "2024-01-24T17:08:28.371566080Z"
    }
   },
   "outputs": [],
   "source": [
    "experiment_path = \"../data/example data/exampleA_ecolistrains/mg1655_P3-A8_neg.mzXML\"\n",
    "experiment = read_experiment(experiment_path)"
   ]
  }
 ],
 "metadata": {
  "kernelspec": {
   "display_name": "gemml",
   "language": "python",
   "name": "python3"
  },
  "language_info": {
   "codemirror_mode": {
    "name": "ipython",
    "version": 3
   },
   "file_extension": ".py",
   "mimetype": "text/x-python",
   "name": "python",
   "nbconvert_exporter": "python",
   "pygments_lexer": "ipython3",
   "version": "3.11.7"
  }
 },
 "nbformat": 4,
 "nbformat_minor": 2
}
