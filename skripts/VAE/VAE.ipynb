{
 "cells": [
  {
   "cell_type": "code",
   "execution_count": 1,
   "metadata": {},
   "outputs": [],
   "source": [
    "import sys\n",
    "sys.path.append(\"..\")\n",
    "from VAE.vae import *"
   ]
  },
  {
   "cell_type": "code",
   "execution_count": 2,
   "metadata": {},
   "outputs": [],
   "source": [
    "config_space = ConfigurationSpace(\n",
    "                {'input_dropout': 0.1, 'intermediate_activation': \"relu\", 'intermediate_dimension': 10,\n",
    "                'intermediate_layers': 2, 'latent_dimension': 1, 'learning_rate': 0.001,\n",
    "                'original_dim': 200, 'solver': 'nadam'}\n",
    "            )\n",
    "config = config_space.get_default_configuration()"
   ]
  },
  {
   "cell_type": "code",
   "execution_count": 16,
   "metadata": {},
   "outputs": [],
   "source": [
    "@keras.saving.register_keras_serializable(package=\"FIA_VAE\")\n",
    "class Sampling(layers.Layer):\n",
    "        \"\"\"\n",
    "        Uses (z_mean, z_log_var) to sample z, the vector encoding a digit.\n",
    "        \"\"\"\n",
    "        def call(self, inputs):\n",
    "            z_mean, z_log_var = inputs\n",
    "            z_mean_shape = ops.shape(z_mean)\n",
    "            batch   = z_mean_shape[0]\n",
    "            dim     = z_mean_shape[1]\n",
    "            epsilon = keras.random.normal(shape=(batch,dim))\n",
    "            return ops.multiply(ops.add(z_mean, ops.exp(0.5 * z_log_var)), epsilon)\n",
    "\n",
    "\n",
    "@keras.saving.register_keras_serializable(package=\"FIA_VAE\")\n",
    "def kl_reconstruction_loss(y_true, y_pred, sigma, mu):\n",
    "    \"\"\"\n",
    "    Loss function for Kullback-Leibler + Reconstruction loss\n",
    "\n",
    "    Args:\n",
    "        true: True values\n",
    "        pred: Predicted values\n",
    "    Returns:\n",
    "        Loss = Kullback-Leibler + Reconstruction loss\n",
    "    \"\"\"\n",
    "    reconstruction_loss = losses.mean_absolute_error(y_true, y_pred)\n",
    "    kl_loss = -0.5 * ops.sum( 1.0 + sigma - ops.square(mu) - ops.exp(sigma) )\n",
    "    loss = reconstruction_loss + kl_loss\n",
    "    \n",
    "    return {\"reconstruction_loss\": reconstruction_loss, \"kl_loss\": kl_loss, \"loss\": loss}\n",
    "\n",
    "@keras.saving.register_keras_serializable(package=\"FIA_VAE\")\n",
    "class FIA_VAE(Model):\n",
    "    \"\"\"\n",
    "    A variational autoencoder for flow injection analysis\n",
    "    \"\"\"\n",
    "    def __init__(self, config:Union[Configuration, dict]):\n",
    "        super().__init__()\n",
    "        self.config             = config\n",
    "        intermediate_dims       = [i for i in range(config[\"intermediate_layers\"]) \n",
    "                                    if config[\"intermediate_dimension\"] // 2**i > config[\"latent_dimension\"]]\n",
    "        activation_function     = get_activation_function( config[\"intermediate_activation\"] )\n",
    "\n",
    "        # Encoder (with sucessive halfing of intermediate dimension)\n",
    "        self.dropout            = Dropout( config[\"input_dropout\"] , name=\"dropout\")        \n",
    "        self.intermediate_enc   = Sequential ( [ Input(shape=(config[\"original_dim\"],), name='encoder_input') ] +\n",
    "                                               [ Dense( config[\"intermediate_dimension\"] // 2**i,\n",
    "                                                        activation=activation_function ) \n",
    "                                                for i in intermediate_dims] , name=\"encoder_intermediate\")\n",
    "\n",
    "        self.mu_encoder         = Dense( config[\"latent_dimension\"], name='latent_mu' )\n",
    "        self.sigma_encoder      = Dense( config[\"latent_dimension\"], name='latent_sigma' )\n",
    "        self.z_encoder          = Sampling(name=\"latent_reparametrization\") \n",
    "\n",
    "        # Decoder\n",
    "        self.decoder            = Sequential( [ Input(shape=(config[\"latent_dimension\"], ), name='decoder_input') ] +\n",
    "                                              [ Dense( config[\"intermediate_dimension\"] // 2**i,\n",
    "                                                       activation=activation_function )\n",
    "                                               for i in reversed(intermediate_dims) ] +\n",
    "                                              [ Dense(config[\"original_dim\"], activation=\"relu\") ] , name=\"Decoder\")\n",
    "\n",
    "        # Loss trackers\n",
    "        self.reconstruction_loss    = metrics.Mean(name=\"reconstruction_loss\")\n",
    "        self.kl_loss                = metrics.Mean(name=\"kl_loss\")\n",
    "        self.loss_tracker           = metrics.Mean(name=\"loss\")\n",
    "\n",
    "        # Define optimizer\n",
    "        self.optimizer = get_solver( config[\"solver\"] )( config[\"learning_rate\"] )\n",
    "\n",
    "        # Compile VAE\n",
    "        self.compile(optimizer=self.optimizer, loss=kl_reconstruction_loss)\n",
    "\n",
    "    @property\n",
    "    def metrics(self):\n",
    "        return [self.loss_tracker, self.reconstruction_loss, self.kl_loss]\n",
    "    \n",
    "    def get_config(self):\n",
    "        return {\"config\": dict(self.config)}\n",
    "\n",
    "    def call(self, data, training=False):\n",
    "        x = self.dropout(data, training=training)\n",
    "        return self.decode(self.encode(x))\n",
    "\n",
    "    def encode(self, data):\n",
    "        x = self.intermediate_enc(data)\n",
    "        self.mu = self.mu_encoder(x)\n",
    "        self.sigma = self.sigma_encoder(x)\n",
    "        self.z = self.z_encoder( [self.mu, self.sigma] )\n",
    "        return self.z\n",
    "    \n",
    "    def encode_mu(self, data):\n",
    "        x = self.intermediate_enc(data)\n",
    "        return self.mu(x)\n",
    "    \n",
    "    def decode(self, x):\n",
    "        return self.decoder(x)\n",
    "    \n",
    "    def train_step(self, data):\n",
    "        x, y = data\n",
    "\n",
    "        with tf.GradientTape() as tape:\n",
    "            y_pred = self(x, training=True)  # Forward pass\n",
    "            # Compute our own loss\n",
    "            loss = kl_reconstruction_loss(y, y_pred, self.sigma, self.mu)\n",
    "\n",
    "        # Compute gradients\n",
    "        trainable_vars = self.trainable_variables\n",
    "        gradients = tape.gradient(loss, trainable_vars)\n",
    "\n",
    "        # Update weights\n",
    "        self.optimizer.apply_gradients(zip(gradients, trainable_vars))\n",
    "\n",
    "        self.reconstruction_loss.update_state( loss[\"reconstruction_loss\"] )\n",
    "        self.kl_loss.update_state( loss[\"kl_loss\"] )\n",
    "        self.loss_tracker.update_state( loss[\"loss\"] )\n",
    "        return loss\n",
    "    \n",
    "    def test_step(self, data):\n",
    "        x, y = data\n",
    "        y_pred = self(x, training=False)\n",
    "        loss = kl_reconstruction_loss(y, y_pred, self.sigma, self.mu)\n",
    "        self.reconstruction_loss.update_state( loss[\"reconstruction_loss\"] )\n",
    "        self.kl_loss.update_state( loss[\"kl_loss\"] )\n",
    "        self.loss_tracker.update_state( loss[\"loss\"] )\n",
    "        return loss\n"
   ]
  },
  {
   "cell_type": "code",
   "execution_count": 17,
   "metadata": {},
   "outputs": [],
   "source": [
    "model = FIA_VAE(config)"
   ]
  },
  {
   "cell_type": "code",
   "execution_count": 18,
   "metadata": {},
   "outputs": [
    {
     "data": {
      "text/html": [
       "<pre style=\"white-space:pre;overflow-x:auto;line-height:normal;font-family:Menlo,'DejaVu Sans Mono',consolas,'Courier New',monospace\"><span style=\"font-weight: bold\">Model: \"fia_vae_2\"</span>\n",
       "</pre>\n"
      ],
      "text/plain": [
       "\u001b[1mModel: \"fia_vae_2\"\u001b[0m\n"
      ]
     },
     "metadata": {},
     "output_type": "display_data"
    },
    {
     "data": {
      "text/html": [
       "<pre style=\"white-space:pre;overflow-x:auto;line-height:normal;font-family:Menlo,'DejaVu Sans Mono',consolas,'Courier New',monospace\">┏━━━━━━━━━━━━━━━━━━━━━━━━━━━━━━━━━┳━━━━━━━━━━━━━━━━━━━━━━━━┳━━━━━━━━━━━━━━━┓\n",
       "┃<span style=\"font-weight: bold\"> Layer (type)                    </span>┃<span style=\"font-weight: bold\"> Output Shape           </span>┃<span style=\"font-weight: bold\">       Param # </span>┃\n",
       "┡━━━━━━━━━━━━━━━━━━━━━━━━━━━━━━━━━╇━━━━━━━━━━━━━━━━━━━━━━━━╇━━━━━━━━━━━━━━━┩\n",
       "│ dropout (<span style=\"color: #0087ff; text-decoration-color: #0087ff\">Dropout</span>)               │ ?                      │             <span style=\"color: #00af00; text-decoration-color: #00af00\">0</span> │\n",
       "├─────────────────────────────────┼────────────────────────┼───────────────┤\n",
       "│ encoder_intermediate            │ ?                      │         <span style=\"color: #00af00; text-decoration-color: #00af00\">2,065</span> │\n",
       "│ (<span style=\"color: #0087ff; text-decoration-color: #0087ff\">Sequential</span>)                    │                        │               │\n",
       "├─────────────────────────────────┼────────────────────────┼───────────────┤\n",
       "│ latent_mu (<span style=\"color: #0087ff; text-decoration-color: #0087ff\">Dense</span>)               │ ?                      │   <span style=\"color: #00af00; text-decoration-color: #00af00\">0</span> (unbuilt) │\n",
       "├─────────────────────────────────┼────────────────────────┼───────────────┤\n",
       "│ latent_sigma (<span style=\"color: #0087ff; text-decoration-color: #0087ff\">Dense</span>)            │ ?                      │   <span style=\"color: #00af00; text-decoration-color: #00af00\">0</span> (unbuilt) │\n",
       "├─────────────────────────────────┼────────────────────────┼───────────────┤\n",
       "│ latent_reparametrization        │ ?                      │   <span style=\"color: #00af00; text-decoration-color: #00af00\">0</span> (unbuilt) │\n",
       "│ (<span style=\"color: #0087ff; text-decoration-color: #0087ff\">Sampling</span>)                      │                        │               │\n",
       "├─────────────────────────────────┼────────────────────────┼───────────────┤\n",
       "│ Decoder (<span style=\"color: #0087ff; text-decoration-color: #0087ff\">Sequential</span>)            │ ?                      │         <span style=\"color: #00af00; text-decoration-color: #00af00\">2,270</span> │\n",
       "└─────────────────────────────────┴────────────────────────┴───────────────┘\n",
       "</pre>\n"
      ],
      "text/plain": [
       "┏━━━━━━━━━━━━━━━━━━━━━━━━━━━━━━━━━┳━━━━━━━━━━━━━━━━━━━━━━━━┳━━━━━━━━━━━━━━━┓\n",
       "┃\u001b[1m \u001b[0m\u001b[1mLayer (type)                   \u001b[0m\u001b[1m \u001b[0m┃\u001b[1m \u001b[0m\u001b[1mOutput Shape          \u001b[0m\u001b[1m \u001b[0m┃\u001b[1m \u001b[0m\u001b[1m      Param #\u001b[0m\u001b[1m \u001b[0m┃\n",
       "┡━━━━━━━━━━━━━━━━━━━━━━━━━━━━━━━━━╇━━━━━━━━━━━━━━━━━━━━━━━━╇━━━━━━━━━━━━━━━┩\n",
       "│ dropout (\u001b[38;5;33mDropout\u001b[0m)               │ ?                      │             \u001b[38;5;34m0\u001b[0m │\n",
       "├─────────────────────────────────┼────────────────────────┼───────────────┤\n",
       "│ encoder_intermediate            │ ?                      │         \u001b[38;5;34m2,065\u001b[0m │\n",
       "│ (\u001b[38;5;33mSequential\u001b[0m)                    │                        │               │\n",
       "├─────────────────────────────────┼────────────────────────┼───────────────┤\n",
       "│ latent_mu (\u001b[38;5;33mDense\u001b[0m)               │ ?                      │   \u001b[38;5;34m0\u001b[0m (unbuilt) │\n",
       "├─────────────────────────────────┼────────────────────────┼───────────────┤\n",
       "│ latent_sigma (\u001b[38;5;33mDense\u001b[0m)            │ ?                      │   \u001b[38;5;34m0\u001b[0m (unbuilt) │\n",
       "├─────────────────────────────────┼────────────────────────┼───────────────┤\n",
       "│ latent_reparametrization        │ ?                      │   \u001b[38;5;34m0\u001b[0m (unbuilt) │\n",
       "│ (\u001b[38;5;33mSampling\u001b[0m)                      │                        │               │\n",
       "├─────────────────────────────────┼────────────────────────┼───────────────┤\n",
       "│ Decoder (\u001b[38;5;33mSequential\u001b[0m)            │ ?                      │         \u001b[38;5;34m2,270\u001b[0m │\n",
       "└─────────────────────────────────┴────────────────────────┴───────────────┘\n"
      ]
     },
     "metadata": {},
     "output_type": "display_data"
    },
    {
     "data": {
      "text/html": [
       "<pre style=\"white-space:pre;overflow-x:auto;line-height:normal;font-family:Menlo,'DejaVu Sans Mono',consolas,'Courier New',monospace\"><span style=\"font-weight: bold\"> Total params: </span><span style=\"color: #00af00; text-decoration-color: #00af00\">4,335</span> (16.93 KB)\n",
       "</pre>\n"
      ],
      "text/plain": [
       "\u001b[1m Total params: \u001b[0m\u001b[38;5;34m4,335\u001b[0m (16.93 KB)\n"
      ]
     },
     "metadata": {},
     "output_type": "display_data"
    },
    {
     "data": {
      "text/html": [
       "<pre style=\"white-space:pre;overflow-x:auto;line-height:normal;font-family:Menlo,'DejaVu Sans Mono',consolas,'Courier New',monospace\"><span style=\"font-weight: bold\"> Trainable params: </span><span style=\"color: #00af00; text-decoration-color: #00af00\">4,335</span> (16.93 KB)\n",
       "</pre>\n"
      ],
      "text/plain": [
       "\u001b[1m Trainable params: \u001b[0m\u001b[38;5;34m4,335\u001b[0m (16.93 KB)\n"
      ]
     },
     "metadata": {},
     "output_type": "display_data"
    },
    {
     "data": {
      "text/html": [
       "<pre style=\"white-space:pre;overflow-x:auto;line-height:normal;font-family:Menlo,'DejaVu Sans Mono',consolas,'Courier New',monospace\"><span style=\"font-weight: bold\"> Non-trainable params: </span><span style=\"color: #00af00; text-decoration-color: #00af00\">0</span> (0.00 B)\n",
       "</pre>\n"
      ],
      "text/plain": [
       "\u001b[1m Non-trainable params: \u001b[0m\u001b[38;5;34m0\u001b[0m (0.00 B)\n"
      ]
     },
     "metadata": {},
     "output_type": "display_data"
    }
   ],
   "source": [
    "model.summary()"
   ]
  },
  {
   "cell_type": "markdown",
   "metadata": {},
   "source": [
    "## Saving"
   ]
  },
  {
   "cell_type": "code",
   "execution_count": 19,
   "metadata": {},
   "outputs": [
    {
     "name": "stderr",
     "output_type": "stream",
     "text": [
      "/mnt/lustre/groups/link/linca945/.conda/envs/FIA_VAE/lib/python3.11/site-packages/keras/src/saving/saving_api.py:100: UserWarning: You are saving a model that has not yet been built. It might not contain any weights yet. Consider building the model first by calling it on some data.\n",
      "  saving_lib.save_model(model, filepath)\n"
     ]
    }
   ],
   "source": [
    "keras.saving.save_model(model, \"../../runs/VAE/training/test.keras\")"
   ]
  },
  {
   "cell_type": "code",
   "execution_count": 20,
   "metadata": {},
   "outputs": [],
   "source": [
    "model.save_weights(\"../../runs/VAE/training/test.weights.h5\")"
   ]
  },
  {
   "cell_type": "markdown",
   "metadata": {},
   "source": [
    "## Loading"
   ]
  },
  {
   "cell_type": "code",
   "execution_count": 21,
   "metadata": {},
   "outputs": [],
   "source": [
    "model2 = keras.saving.load_model(\"../../runs/VAE/training/test.keras\")"
   ]
  },
  {
   "cell_type": "code",
   "execution_count": 22,
   "metadata": {},
   "outputs": [],
   "source": [
    "model2.load_weights(\"../../runs/VAE/training/test.weights.h5\")"
   ]
  },
  {
   "cell_type": "markdown",
   "metadata": {},
   "source": [
    "## Testing"
   ]
  },
  {
   "cell_type": "code",
   "execution_count": 23,
   "metadata": {},
   "outputs": [],
   "source": [
    "X = np.random.normal(0.0, 1.0, size=(5, 200))"
   ]
  },
  {
   "cell_type": "code",
   "execution_count": 24,
   "metadata": {},
   "outputs": [
    {
     "name": "stdout",
     "output_type": "stream",
     "text": [
      "Epoch 1/10\n",
      "\u001b[1m1/1\u001b[0m \u001b[32m━━━━━━━━━━━━━━━━━━━━\u001b[0m\u001b[37m\u001b[0m \u001b[1m1s\u001b[0m 1s/step - kl_loss: 8.5074 - loss: 9.3195 - reconstruction_loss: 0.8122\n",
      "Epoch 2/10\n",
      "\u001b[1m1/1\u001b[0m \u001b[32m━━━━━━━━━━━━━━━━━━━━\u001b[0m\u001b[37m\u001b[0m \u001b[1m0s\u001b[0m 17ms/step - kl_loss: 7.5106 - loss: 8.3222 - reconstruction_loss: 0.8116\n",
      "Epoch 3/10\n",
      "\u001b[1m1/1\u001b[0m \u001b[32m━━━━━━━━━━━━━━━━━━━━\u001b[0m\u001b[37m\u001b[0m \u001b[1m0s\u001b[0m 16ms/step - kl_loss: 9.0302 - loss: 9.8400 - reconstruction_loss: 0.8098\n",
      "Epoch 4/10\n",
      "\u001b[1m1/1\u001b[0m \u001b[32m━━━━━━━━━━━━━━━━━━━━\u001b[0m\u001b[37m\u001b[0m \u001b[1m0s\u001b[0m 15ms/step - kl_loss: 5.4824 - loss: 6.2958 - reconstruction_loss: 0.8134\n",
      "Epoch 5/10\n",
      "\u001b[1m1/1\u001b[0m \u001b[32m━━━━━━━━━━━━━━━━━━━━\u001b[0m\u001b[37m\u001b[0m \u001b[1m0s\u001b[0m 15ms/step - kl_loss: 5.0127 - loss: 5.8234 - reconstruction_loss: 0.8108\n",
      "Epoch 6/10\n",
      "\u001b[1m1/1\u001b[0m \u001b[32m━━━━━━━━━━━━━━━━━━━━\u001b[0m\u001b[37m\u001b[0m \u001b[1m0s\u001b[0m 18ms/step - kl_loss: 4.4637 - loss: 5.2724 - reconstruction_loss: 0.8087\n",
      "Epoch 7/10\n",
      "\u001b[1m1/1\u001b[0m \u001b[32m━━━━━━━━━━━━━━━━━━━━\u001b[0m\u001b[37m\u001b[0m \u001b[1m0s\u001b[0m 23ms/step - kl_loss: 3.3990 - loss: 4.2082 - reconstruction_loss: 0.8093\n",
      "Epoch 8/10\n",
      "\u001b[1m1/1\u001b[0m \u001b[32m━━━━━━━━━━━━━━━━━━━━\u001b[0m\u001b[37m\u001b[0m \u001b[1m0s\u001b[0m 19ms/step - kl_loss: 4.0722 - loss: 4.8849 - reconstruction_loss: 0.8127\n",
      "Epoch 9/10\n",
      "\u001b[1m1/1\u001b[0m \u001b[32m━━━━━━━━━━━━━━━━━━━━\u001b[0m\u001b[37m\u001b[0m \u001b[1m0s\u001b[0m 21ms/step - kl_loss: 4.3943 - loss: 5.2014 - reconstruction_loss: 0.8071\n",
      "Epoch 10/10\n",
      "\u001b[1m1/1\u001b[0m \u001b[32m━━━━━━━━━━━━━━━━━━━━\u001b[0m\u001b[37m\u001b[0m \u001b[1m0s\u001b[0m 19ms/step - kl_loss: 3.2059 - loss: 4.0148 - reconstruction_loss: 0.8089\n"
     ]
    },
    {
     "data": {
      "text/plain": [
       "<keras.src.callbacks.history.History at 0x7f724040d750>"
      ]
     },
     "execution_count": 24,
     "metadata": {},
     "output_type": "execute_result"
    }
   ],
   "source": [
    "model2.fit(X, X, epochs=10)"
   ]
  },
  {
   "cell_type": "code",
   "execution_count": 26,
   "metadata": {},
   "outputs": [
    {
     "name": "stdout",
     "output_type": "stream",
     "text": [
      "\u001b[1m1/1\u001b[0m \u001b[32m━━━━━━━━━━━━━━━━━━━━\u001b[0m\u001b[37m\u001b[0m \u001b[1m0s\u001b[0m 15ms/step - kl_loss: 1.8405 - loss: 2.6484 - reconstruction_loss: 0.8078\n"
     ]
    }
   ],
   "source": [
    "loss, kl_loss, recon_loss = model2.evaluate(X, X)"
   ]
  },
  {
   "cell_type": "code",
   "execution_count": 14,
   "metadata": {},
   "outputs": [
    {
     "name": "stdout",
     "output_type": "stream",
     "text": [
      "\u001b[1m1/1\u001b[0m \u001b[32m━━━━━━━━━━━━━━━━━━━━\u001b[0m\u001b[37m\u001b[0m \u001b[1m0s\u001b[0m 12ms/step\n"
     ]
    },
    {
     "data": {
      "text/plain": [
       "array([[0.00000000e+00, 3.55275522e-04, 0.00000000e+00, 0.00000000e+00,\n",
       "        2.10498832e-03, 0.00000000e+00, 2.08790787e-03, 0.00000000e+00,\n",
       "        1.23358611e-03, 0.00000000e+00, 1.41797820e-03, 0.00000000e+00,\n",
       "        0.00000000e+00, 0.00000000e+00, 2.00977339e-03, 0.00000000e+00,\n",
       "        0.00000000e+00, 0.00000000e+00, 0.00000000e+00, 6.97784999e-04,\n",
       "        0.00000000e+00, 0.00000000e+00, 0.00000000e+00, 0.00000000e+00,\n",
       "        0.00000000e+00, 0.00000000e+00, 0.00000000e+00, 0.00000000e+00,\n",
       "        0.00000000e+00, 0.00000000e+00, 0.00000000e+00, 7.31553533e-04,\n",
       "        2.06541247e-03, 0.00000000e+00, 1.94932602e-03, 0.00000000e+00,\n",
       "        1.30252074e-03, 1.66016701e-03, 0.00000000e+00, 0.00000000e+00,\n",
       "        1.36951555e-03, 0.00000000e+00, 0.00000000e+00, 0.00000000e+00,\n",
       "        1.93478819e-03, 0.00000000e+00, 2.02537701e-03, 2.06639245e-03,\n",
       "        5.01542818e-04, 1.57206971e-03, 0.00000000e+00, 1.85412681e-03,\n",
       "        2.47976277e-06, 0.00000000e+00, 1.42496079e-03, 2.08898704e-03,\n",
       "        9.64003266e-04, 0.00000000e+00, 0.00000000e+00, 0.00000000e+00,\n",
       "        0.00000000e+00, 0.00000000e+00, 0.00000000e+00, 0.00000000e+00,\n",
       "        0.00000000e+00, 1.30488060e-03, 1.48229999e-03, 0.00000000e+00,\n",
       "        0.00000000e+00, 0.00000000e+00, 0.00000000e+00, 0.00000000e+00,\n",
       "        0.00000000e+00, 1.87816215e-03, 1.12821127e-03, 1.42264622e-03,\n",
       "        0.00000000e+00, 1.94364996e-03, 1.83856045e-03, 0.00000000e+00,\n",
       "        0.00000000e+00, 1.84259290e-04, 0.00000000e+00, 0.00000000e+00,\n",
       "        0.00000000e+00, 0.00000000e+00, 0.00000000e+00, 0.00000000e+00,\n",
       "        1.32677879e-03, 0.00000000e+00, 0.00000000e+00, 0.00000000e+00,\n",
       "        1.79489260e-03, 0.00000000e+00, 9.22810519e-04, 1.83201442e-03,\n",
       "        0.00000000e+00, 0.00000000e+00, 0.00000000e+00, 0.00000000e+00,\n",
       "        2.73133037e-06, 0.00000000e+00, 0.00000000e+00, 0.00000000e+00,\n",
       "        0.00000000e+00, 5.89421070e-05, 1.72758568e-03, 1.52312079e-03,\n",
       "        0.00000000e+00, 0.00000000e+00, 1.56696793e-03, 0.00000000e+00,\n",
       "        1.25411316e-03, 0.00000000e+00, 0.00000000e+00, 1.61998952e-03,\n",
       "        0.00000000e+00, 0.00000000e+00, 0.00000000e+00, 0.00000000e+00,\n",
       "        0.00000000e+00, 0.00000000e+00, 1.40078622e-03, 1.04004890e-03,\n",
       "        1.38721266e-03, 3.31608229e-04, 0.00000000e+00, 1.72053929e-03,\n",
       "        0.00000000e+00, 0.00000000e+00, 1.63207913e-03, 1.41772488e-03,\n",
       "        0.00000000e+00, 0.00000000e+00, 0.00000000e+00, 0.00000000e+00,\n",
       "        0.00000000e+00, 0.00000000e+00, 4.43520199e-04, 0.00000000e+00,\n",
       "        1.45744323e-03, 0.00000000e+00, 0.00000000e+00, 1.74066797e-03,\n",
       "        0.00000000e+00, 8.71858865e-05, 0.00000000e+00, 0.00000000e+00,\n",
       "        0.00000000e+00, 1.20517670e-03, 0.00000000e+00, 0.00000000e+00,\n",
       "        0.00000000e+00, 1.26576039e-03, 0.00000000e+00, 1.88248139e-03,\n",
       "        0.00000000e+00, 0.00000000e+00, 1.87814073e-03, 2.00941507e-03,\n",
       "        1.25740725e-03, 1.74595788e-03, 0.00000000e+00, 2.08700914e-03,\n",
       "        0.00000000e+00, 2.01746402e-03, 0.00000000e+00, 0.00000000e+00,\n",
       "        0.00000000e+00, 0.00000000e+00, 0.00000000e+00, 0.00000000e+00,\n",
       "        0.00000000e+00, 0.00000000e+00, 0.00000000e+00, 1.61355932e-03,\n",
       "        0.00000000e+00, 1.28595042e-03, 0.00000000e+00, 0.00000000e+00,\n",
       "        1.55716203e-03, 1.90686458e-03, 0.00000000e+00, 1.26923749e-03,\n",
       "        2.03901296e-03, 0.00000000e+00, 0.00000000e+00, 4.33504698e-04,\n",
       "        0.00000000e+00, 0.00000000e+00, 0.00000000e+00, 1.04181888e-03,\n",
       "        1.98063999e-03, 0.00000000e+00, 1.55319669e-03, 1.43486273e-03,\n",
       "        0.00000000e+00, 1.90198084e-03, 0.00000000e+00, 0.00000000e+00],\n",
       "       [1.28659606e-01, 1.48642987e-01, 0.00000000e+00, 0.00000000e+00,\n",
       "        0.00000000e+00, 0.00000000e+00, 0.00000000e+00, 0.00000000e+00,\n",
       "        0.00000000e+00, 2.32597113e-01, 1.21759571e-01, 0.00000000e+00,\n",
       "        0.00000000e+00, 6.61269277e-02, 0.00000000e+00, 0.00000000e+00,\n",
       "        0.00000000e+00, 0.00000000e+00, 1.52601656e-02, 1.10777371e-01,\n",
       "        2.91940510e-01, 0.00000000e+00, 8.42185169e-02, 1.98430866e-02,\n",
       "        1.50877237e-02, 4.96806875e-02, 6.57673255e-02, 0.00000000e+00,\n",
       "        0.00000000e+00, 0.00000000e+00, 0.00000000e+00, 1.29944816e-01,\n",
       "        7.35056847e-02, 0.00000000e+00, 2.93390691e-01, 0.00000000e+00,\n",
       "        2.17617035e-01, 0.00000000e+00, 0.00000000e+00, 0.00000000e+00,\n",
       "        1.56840369e-01, 0.00000000e+00, 8.21615532e-02, 0.00000000e+00,\n",
       "        0.00000000e+00, 1.08928923e-02, 9.19816419e-02, 0.00000000e+00,\n",
       "        6.41221181e-02, 2.50166088e-01, 9.57478285e-02, 0.00000000e+00,\n",
       "        0.00000000e+00, 0.00000000e+00, 0.00000000e+00, 3.06791186e-01,\n",
       "        1.25381142e-01, 0.00000000e+00, 1.55101359e-01, 2.54263021e-02,\n",
       "        3.12426746e-01, 0.00000000e+00, 0.00000000e+00, 1.76141903e-01,\n",
       "        0.00000000e+00, 8.34484622e-02, 5.05779162e-02, 7.93491453e-02,\n",
       "        0.00000000e+00, 1.38231307e-01, 0.00000000e+00, 1.34061441e-01,\n",
       "        0.00000000e+00, 1.08091518e-01, 1.93417251e-01, 0.00000000e+00,\n",
       "        0.00000000e+00, 0.00000000e+00, 0.00000000e+00, 0.00000000e+00,\n",
       "        1.30331725e-01, 0.00000000e+00, 9.97172818e-02, 0.00000000e+00,\n",
       "        0.00000000e+00, 0.00000000e+00, 0.00000000e+00, 0.00000000e+00,\n",
       "        0.00000000e+00, 1.26853243e-01, 0.00000000e+00, 1.08672194e-01,\n",
       "        6.83854520e-02, 4.85441759e-02, 5.71990386e-02, 0.00000000e+00,\n",
       "        0.00000000e+00, 0.00000000e+00, 0.00000000e+00, 5.02242669e-02,\n",
       "        0.00000000e+00, 0.00000000e+00, 0.00000000e+00, 0.00000000e+00,\n",
       "        0.00000000e+00, 0.00000000e+00, 1.26897871e-01, 0.00000000e+00,\n",
       "        0.00000000e+00, 1.12182297e-01, 0.00000000e+00, 0.00000000e+00,\n",
       "        0.00000000e+00, 1.41631169e-02, 0.00000000e+00, 1.22973181e-01,\n",
       "        0.00000000e+00, 2.05778986e-01, 2.27210701e-01, 1.03712127e-01,\n",
       "        0.00000000e+00, 1.71522662e-01, 1.33302227e-01, 2.15049624e-01,\n",
       "        0.00000000e+00, 2.60254741e-01, 4.59649526e-02, 2.69929897e-02,\n",
       "        1.25117647e-02, 7.15124235e-02, 0.00000000e+00, 9.81307924e-02,\n",
       "        0.00000000e+00, 3.50990631e-02, 0.00000000e+00, 0.00000000e+00,\n",
       "        0.00000000e+00, 0.00000000e+00, 1.86862648e-01, 5.34879006e-02,\n",
       "        0.00000000e+00, 0.00000000e+00, 5.95561415e-02, 0.00000000e+00,\n",
       "        0.00000000e+00, 0.00000000e+00, 2.17077546e-02, 0.00000000e+00,\n",
       "        0.00000000e+00, 5.03491536e-02, 0.00000000e+00, 1.01635188e-01,\n",
       "        0.00000000e+00, 4.14529480e-02, 6.07568510e-02, 0.00000000e+00,\n",
       "        0.00000000e+00, 3.58541100e-03, 0.00000000e+00, 0.00000000e+00,\n",
       "        1.83990207e-02, 1.33608850e-02, 0.00000000e+00, 1.10872909e-01,\n",
       "        0.00000000e+00, 7.89219067e-02, 0.00000000e+00, 0.00000000e+00,\n",
       "        0.00000000e+00, 0.00000000e+00, 0.00000000e+00, 1.06729604e-01,\n",
       "        0.00000000e+00, 0.00000000e+00, 0.00000000e+00, 7.00186267e-02,\n",
       "        0.00000000e+00, 1.88051105e-01, 2.65348136e-01, 0.00000000e+00,\n",
       "        0.00000000e+00, 0.00000000e+00, 0.00000000e+00, 1.80330381e-01,\n",
       "        0.00000000e+00, 1.23320625e-03, 5.56086972e-02, 7.27323219e-02,\n",
       "        3.84477675e-02, 0.00000000e+00, 0.00000000e+00, 1.32300735e-01,\n",
       "        2.07609981e-01, 0.00000000e+00, 0.00000000e+00, 7.26751238e-02,\n",
       "        0.00000000e+00, 0.00000000e+00, 2.23252773e-01, 0.00000000e+00],\n",
       "       [0.00000000e+00, 9.21845203e-04, 0.00000000e+00, 0.00000000e+00,\n",
       "        1.26074825e-03, 0.00000000e+00, 1.09820510e-03, 0.00000000e+00,\n",
       "        1.25232677e-03, 1.64438694e-04, 1.16160256e-03, 0.00000000e+00,\n",
       "        0.00000000e+00, 1.15009916e-05, 1.31454656e-03, 0.00000000e+00,\n",
       "        0.00000000e+00, 0.00000000e+00, 0.00000000e+00, 9.65468411e-04,\n",
       "        1.41813842e-04, 0.00000000e+00, 0.00000000e+00, 0.00000000e+00,\n",
       "        0.00000000e+00, 0.00000000e+00, 0.00000000e+00, 0.00000000e+00,\n",
       "        0.00000000e+00, 0.00000000e+00, 0.00000000e+00, 1.12175499e-03,\n",
       "        1.31646404e-03, 0.00000000e+00, 1.41723058e-03, 0.00000000e+00,\n",
       "        1.23126723e-03, 1.11763540e-03, 0.00000000e+00, 0.00000000e+00,\n",
       "        1.27038546e-03, 0.00000000e+00, 1.49651487e-05, 4.77800204e-05,\n",
       "        1.18151272e-03, 0.00000000e+00, 1.32299797e-03, 1.44745305e-03,\n",
       "        8.35096347e-04, 1.41260156e-03, 1.56339927e-04, 1.18775410e-03,\n",
       "        0.00000000e+00, 0.00000000e+00, 1.05087494e-03, 1.46733446e-03,\n",
       "        1.06349436e-03, 0.00000000e+00, 0.00000000e+00, 0.00000000e+00,\n",
       "        0.00000000e+00, 0.00000000e+00, 0.00000000e+00, 0.00000000e+00,\n",
       "        0.00000000e+00, 1.13845943e-03, 1.15609402e-03, 2.84025038e-04,\n",
       "        0.00000000e+00, 0.00000000e+00, 0.00000000e+00, 0.00000000e+00,\n",
       "        0.00000000e+00, 1.22756558e-03, 1.37215073e-03, 1.01442565e-03,\n",
       "        0.00000000e+00, 1.14598800e-03, 1.07363972e-03, 0.00000000e+00,\n",
       "        0.00000000e+00, 0.00000000e+00, 0.00000000e+00, 0.00000000e+00,\n",
       "        0.00000000e+00, 0.00000000e+00, 0.00000000e+00, 0.00000000e+00,\n",
       "        9.45126638e-04, 0.00000000e+00, 0.00000000e+00, 0.00000000e+00,\n",
       "        1.17397471e-03, 1.15378962e-05, 1.00728893e-03, 1.06186839e-03,\n",
       "        0.00000000e+00, 0.00000000e+00, 0.00000000e+00, 0.00000000e+00,\n",
       "        0.00000000e+00, 0.00000000e+00, 0.00000000e+00, 0.00000000e+00,\n",
       "        0.00000000e+00, 0.00000000e+00, 1.42709771e-03, 1.21591648e-03,\n",
       "        0.00000000e+00, 8.42666719e-04, 1.14810630e-03, 0.00000000e+00,\n",
       "        1.01115613e-03, 0.00000000e+00, 0.00000000e+00, 1.47137302e-03,\n",
       "        0.00000000e+00, 0.00000000e+00, 1.29923763e-04, 0.00000000e+00,\n",
       "        0.00000000e+00, 7.07321960e-05, 1.21241948e-03, 1.25921809e-03,\n",
       "        9.68920998e-04, 1.05515250e-03, 0.00000000e+00, 1.26997393e-03,\n",
       "        0.00000000e+00, 0.00000000e+00, 1.07895536e-03, 1.22061884e-03,\n",
       "        0.00000000e+00, 0.00000000e+00, 0.00000000e+00, 0.00000000e+00,\n",
       "        0.00000000e+00, 0.00000000e+00, 1.09629275e-03, 0.00000000e+00,\n",
       "        1.22450537e-03, 0.00000000e+00, 0.00000000e+00, 1.28872599e-03,\n",
       "        0.00000000e+00, 1.39435042e-05, 0.00000000e+00, 0.00000000e+00,\n",
       "        0.00000000e+00, 1.12157909e-03, 0.00000000e+00, 0.00000000e+00,\n",
       "        0.00000000e+00, 1.13391283e-03, 0.00000000e+00, 1.33082969e-03,\n",
       "        0.00000000e+00, 0.00000000e+00, 1.20325270e-03, 1.28981355e-03,\n",
       "        1.23109983e-03, 1.09651464e-03, 0.00000000e+00, 1.42175693e-03,\n",
       "        0.00000000e+00, 1.30618934e-03, 0.00000000e+00, 0.00000000e+00,\n",
       "        0.00000000e+00, 0.00000000e+00, 0.00000000e+00, 0.00000000e+00,\n",
       "        0.00000000e+00, 0.00000000e+00, 0.00000000e+00, 1.39228161e-03,\n",
       "        0.00000000e+00, 1.37724669e-03, 0.00000000e+00, 0.00000000e+00,\n",
       "        1.03768660e-03, 1.30946212e-03, 3.28517999e-05, 1.20068179e-03,\n",
       "        1.16677152e-03, 0.00000000e+00, 0.00000000e+00, 9.60766745e-04,\n",
       "        0.00000000e+00, 0.00000000e+00, 0.00000000e+00, 1.11974997e-03,\n",
       "        1.53915770e-03, 0.00000000e+00, 9.35473130e-04, 1.21995620e-03,\n",
       "        0.00000000e+00, 1.12807960e-03, 1.32390909e-04, 0.00000000e+00],\n",
       "       [0.00000000e+00, 0.00000000e+00, 0.00000000e+00, 0.00000000e+00,\n",
       "        3.13950004e-03, 2.26399163e-04, 3.12038558e-03, 2.00252631e-04,\n",
       "        1.33950403e-03, 0.00000000e+00, 1.61657797e-03, 8.14125873e-04,\n",
       "        8.29940662e-04, 0.00000000e+00, 2.95948517e-03, 0.00000000e+00,\n",
       "        0.00000000e+00, 0.00000000e+00, 0.00000000e+00, 4.15603979e-04,\n",
       "        0.00000000e+00, 0.00000000e+00, 0.00000000e+00, 0.00000000e+00,\n",
       "        0.00000000e+00, 0.00000000e+00, 0.00000000e+00, 0.00000000e+00,\n",
       "        0.00000000e+00, 9.58137680e-05, 0.00000000e+00, 3.78924946e-04,\n",
       "        3.09329294e-03, 0.00000000e+00, 2.72047380e-03, 0.00000000e+00,\n",
       "        1.56931684e-03, 2.16735434e-03, 0.00000000e+00, 0.00000000e+00,\n",
       "        1.80760270e-03, 0.00000000e+00, 0.00000000e+00, 0.00000000e+00,\n",
       "        2.88876635e-03, 0.00000000e+00, 2.80364417e-03, 2.86349980e-03,\n",
       "        4.11455985e-05, 1.97427534e-03, 0.00000000e+00, 2.65727052e-03,\n",
       "        1.03920710e-03, 0.00000000e+00, 1.78730953e-03, 2.90058344e-03,\n",
       "        7.25778053e-04, 7.70950690e-04, 0.00000000e+00, 0.00000000e+00,\n",
       "        0.00000000e+00, 0.00000000e+00, 0.00000000e+00, 0.00000000e+00,\n",
       "        0.00000000e+00, 1.53971533e-03, 1.84497144e-03, 0.00000000e+00,\n",
       "        7.89212296e-04, 0.00000000e+00, 9.07040085e-04, 0.00000000e+00,\n",
       "        0.00000000e+00, 2.75275670e-03, 1.02536823e-03, 1.55447656e-03,\n",
       "        0.00000000e+00, 2.84368382e-03, 2.53716158e-03, 0.00000000e+00,\n",
       "        1.03988277e-03, 1.75718844e-04, 0.00000000e+00, 0.00000000e+00,\n",
       "        0.00000000e+00, 0.00000000e+00, 0.00000000e+00, 0.00000000e+00,\n",
       "        1.46532769e-03, 0.00000000e+00, 0.00000000e+00, 0.00000000e+00,\n",
       "        2.50001345e-03, 0.00000000e+00, 7.86663382e-04, 2.38167425e-03,\n",
       "        0.00000000e+00, 4.15917835e-04, 0.00000000e+00, 0.00000000e+00,\n",
       "        0.00000000e+00, 0.00000000e+00, 0.00000000e+00, 0.00000000e+00,\n",
       "        8.93881428e-04, 0.00000000e+00, 2.33486248e-03, 2.05356977e-03,\n",
       "        0.00000000e+00, 0.00000000e+00, 1.94786501e-03, 0.00000000e+00,\n",
       "        1.30617223e-03, 0.00000000e+00, 0.00000000e+00, 2.11889856e-03,\n",
       "        0.00000000e+00, 0.00000000e+00, 0.00000000e+00, 0.00000000e+00,\n",
       "        0.00000000e+00, 0.00000000e+00, 1.53212540e-03, 1.01125310e-03,\n",
       "        1.60968211e-03, 0.00000000e+00, 0.00000000e+00, 2.42687087e-03,\n",
       "        0.00000000e+00, 1.30180269e-05, 2.08325777e-03, 1.75666367e-03,\n",
       "        0.00000000e+00, 0.00000000e+00, 0.00000000e+00, 0.00000000e+00,\n",
       "        3.39185237e-04, 0.00000000e+00, 0.00000000e+00, 0.00000000e+00,\n",
       "        1.78027502e-03, 0.00000000e+00, 0.00000000e+00, 2.23681051e-03,\n",
       "        0.00000000e+00, 1.84438086e-05, 0.00000000e+00, 0.00000000e+00,\n",
       "        0.00000000e+00, 1.31228392e-03, 0.00000000e+00, 0.00000000e+00,\n",
       "        0.00000000e+00, 1.34345249e-03, 0.00000000e+00, 2.59582512e-03,\n",
       "        6.47770474e-04, 0.00000000e+00, 2.44751479e-03, 2.81523471e-03,\n",
       "        1.39126182e-03, 2.50684493e-03, 0.00000000e+00, 2.94666039e-03,\n",
       "        8.55681719e-05, 2.67403526e-03, 0.00000000e+00, 0.00000000e+00,\n",
       "        0.00000000e+00, 0.00000000e+00, 0.00000000e+00, 0.00000000e+00,\n",
       "        4.59006289e-04, 0.00000000e+00, 0.00000000e+00, 2.28528678e-03,\n",
       "        0.00000000e+00, 1.31045387e-03, 0.00000000e+00, 0.00000000e+00,\n",
       "        2.05890043e-03, 2.67330417e-03, 0.00000000e+00, 1.45643181e-03,\n",
       "        2.72311084e-03, 0.00000000e+00, 0.00000000e+00, 4.33207024e-05,\n",
       "        5.72105986e-04, 4.47476865e-04, 0.00000000e+00, 9.61717393e-04,\n",
       "        2.86773127e-03, 0.00000000e+00, 2.07365863e-03, 1.75183755e-03,\n",
       "        0.00000000e+00, 2.46547675e-03, 0.00000000e+00, 0.00000000e+00],\n",
       "       [0.00000000e+00, 1.42150326e-04, 0.00000000e+00, 0.00000000e+00,\n",
       "        2.43974035e-03, 0.00000000e+00, 2.42200191e-03, 0.00000000e+00,\n",
       "        1.26785948e-03, 0.00000000e+00, 1.48224202e-03, 1.58946845e-04,\n",
       "        2.36138934e-04, 0.00000000e+00, 2.31708540e-03, 0.00000000e+00,\n",
       "        0.00000000e+00, 0.00000000e+00, 0.00000000e+00, 6.06475573e-04,\n",
       "        0.00000000e+00, 0.00000000e+00, 0.00000000e+00, 0.00000000e+00,\n",
       "        0.00000000e+00, 0.00000000e+00, 0.00000000e+00, 0.00000000e+00,\n",
       "        0.00000000e+00, 0.00000000e+00, 0.00000000e+00, 6.17448357e-04,\n",
       "        2.39801873e-03, 0.00000000e+00, 2.19885772e-03, 0.00000000e+00,\n",
       "        1.38885179e-03, 1.82428502e-03, 0.00000000e+00, 0.00000000e+00,\n",
       "        1.51127379e-03, 0.00000000e+00, 0.00000000e+00, 0.00000000e+00,\n",
       "        2.24348088e-03, 0.00000000e+00, 2.27721222e-03, 2.32432410e-03,\n",
       "        3.52565374e-04, 1.70221727e-03, 0.00000000e+00, 2.11401191e-03,\n",
       "        3.37948673e-04, 0.00000000e+00, 1.54221128e-03, 2.35160720e-03,\n",
       "        8.86917289e-04, 1.80479838e-04, 0.00000000e+00, 0.00000000e+00,\n",
       "        0.00000000e+00, 0.00000000e+00, 0.00000000e+00, 0.00000000e+00,\n",
       "        0.00000000e+00, 1.38086954e-03, 1.59965479e-03, 0.00000000e+00,\n",
       "        1.71976979e-04, 0.00000000e+00, 2.19676411e-04, 0.00000000e+00,\n",
       "        0.00000000e+00, 2.16116756e-03, 1.09493278e-03, 1.46530452e-03,\n",
       "        0.00000000e+00, 2.23488687e-03, 2.06461689e-03, 0.00000000e+00,\n",
       "        3.27769900e-04, 1.81495750e-04, 0.00000000e+00, 0.00000000e+00,\n",
       "        0.00000000e+00, 0.00000000e+00, 0.00000000e+00, 0.00000000e+00,\n",
       "        1.37161114e-03, 0.00000000e+00, 0.00000000e+00, 0.00000000e+00,\n",
       "        2.02305894e-03, 0.00000000e+00, 8.78755352e-04, 2.00987584e-03,\n",
       "        0.00000000e+00, 0.00000000e+00, 0.00000000e+00, 0.00000000e+00,\n",
       "        0.00000000e+00, 0.00000000e+00, 0.00000000e+00, 0.00000000e+00,\n",
       "        2.49105156e-04, 2.38058128e-05, 1.92409102e-03, 1.69476587e-03,\n",
       "        0.00000000e+00, 0.00000000e+00, 1.69022032e-03, 0.00000000e+00,\n",
       "        1.27095869e-03, 0.00000000e+00, 0.00000000e+00, 1.78142870e-03,\n",
       "        0.00000000e+00, 0.00000000e+00, 0.00000000e+00, 0.00000000e+00,\n",
       "        0.00000000e+00, 0.00000000e+00, 1.44328550e-03, 1.03073101e-03,\n",
       "        1.45920040e-03, 8.01116694e-05, 0.00000000e+00, 1.94909726e-03,\n",
       "        0.00000000e+00, 0.00000000e+00, 1.77807361e-03, 1.52740022e-03,\n",
       "        0.00000000e+00, 0.00000000e+00, 0.00000000e+00, 0.00000000e+00,\n",
       "        0.00000000e+00, 0.00000000e+00, 2.63747410e-04, 0.00000000e+00,\n",
       "        1.56190665e-03, 0.00000000e+00, 0.00000000e+00, 1.90121203e-03,\n",
       "        0.00000000e+00, 6.49420253e-05, 0.00000000e+00, 0.00000000e+00,\n",
       "        0.00000000e+00, 1.23983494e-03, 0.00000000e+00, 0.00000000e+00,\n",
       "        0.00000000e+00, 1.29090040e-03, 0.00000000e+00, 2.11330829e-03,\n",
       "        1.05552841e-04, 0.00000000e+00, 2.06238148e-03, 2.27016583e-03,\n",
       "        1.30072050e-03, 1.99216930e-03, 0.00000000e+00, 2.36517913e-03,\n",
       "        0.00000000e+00, 2.22992059e-03, 0.00000000e+00, 0.00000000e+00,\n",
       "        0.00000000e+00, 0.00000000e+00, 0.00000000e+00, 0.00000000e+00,\n",
       "        0.00000000e+00, 0.00000000e+00, 0.00000000e+00, 1.83091999e-03,\n",
       "        0.00000000e+00, 1.29387935e-03, 0.00000000e+00, 0.00000000e+00,\n",
       "        1.71951693e-03, 2.15487275e-03, 0.00000000e+00, 1.32981059e-03,\n",
       "        2.26037670e-03, 0.00000000e+00, 0.00000000e+00, 3.07247159e-04,\n",
       "        6.85792184e-05, 0.00000000e+00, 0.00000000e+00, 1.01589935e-03,\n",
       "        2.26768898e-03, 0.00000000e+00, 1.72161020e-03, 1.53743092e-03,\n",
       "        0.00000000e+00, 2.08431948e-03, 0.00000000e+00, 0.00000000e+00]],\n",
       "      dtype=float32)"
      ]
     },
     "execution_count": 14,
     "metadata": {},
     "output_type": "execute_result"
    }
   ],
   "source": [
    "model2.predict(X)"
   ]
  },
  {
   "cell_type": "code",
   "execution_count": null,
   "metadata": {},
   "outputs": [],
   "source": []
  }
 ],
 "metadata": {
  "kernelspec": {
   "display_name": "FIA_VAE",
   "language": "python",
   "name": "python3"
  },
  "language_info": {
   "codemirror_mode": {
    "name": "ipython",
    "version": 3
   },
   "file_extension": ".py",
   "mimetype": "text/x-python",
   "name": "python",
   "nbconvert_exporter": "python",
   "pygments_lexer": "ipython3",
   "version": "3.11.8"
  }
 },
 "nbformat": 4,
 "nbformat_minor": 2
}
