{
 "cells": [
  {
   "cell_type": "code",
   "execution_count": 1,
   "metadata": {},
   "outputs": [],
   "source": [
    "# imports\n",
    "import sys\n",
    "sys.path.append( '../FIA' )\n",
    "sys.path.append( '../ML' )\n",
    "sys.path.append( '..' )\n",
    "from helpers import *\n",
    "from FIA import *\n",
    "from ML4com import *\n",
    "from DL4com import *"
   ]
  },
  {
   "cell_type": "code",
   "execution_count": 2,
   "metadata": {},
   "outputs": [],
   "source": [
    "# Load matrices\n",
    "mat_to_tsv_batch(\"../../data/comm8_0\")\n",
    "\n",
    "strains = pd.read_csv(\"../../data/comm8_0/strains.tsv\", sep=\"\\t\")\n",
    "comm8 = pd.read_csv(\"../../data/comm8_0/comm8.tsv\", sep=\"\\t\")\n",
    "metData = pd.read_csv(\"../../data/comm8_0/metData.tsv\", sep=\"\\t\")\n",
    "metData.index = pd.read_csv(\"../../data/comm8_0/metName.tsv\", sep=\"\\t\") # type: ignore\n",
    "\n",
    "met_raw_pos = pd.read_excel(\"../../data/comm8_0/FIA-Data Com8_20230717_P0024_msAV206-312.xlsx\", sheet_name=\"pos\")\n",
    "met_raw_neg = pd.read_excel(\"../../data/comm8_0/FIA-Data Com8_20230717_P0024_msAV206-312.xlsx\", sheet_name=\"neg\")\n",
    "met_raw_comb = pd.concat( [total_ion_count_normalization( join_df_metNames(met_raw_pos) ),\n",
    "                           total_ion_count_normalization( join_df_metNames(met_raw_neg) )] )"
   ]
  },
  {
   "cell_type": "code",
   "execution_count": 3,
   "metadata": {},
   "outputs": [],
   "source": [
    "# Define data\n",
    "X = met_raw_comb.transpose()\n",
    "ys = comm8"
   ]
  },
  {
   "cell_type": "markdown",
   "metadata": {},
   "source": [
    "## Model"
   ]
  },
  {
   "cell_type": "markdown",
   "metadata": {},
   "source": [
    "### Hyperparameter optimization"
   ]
  },
  {
   "cell_type": "code",
   "execution_count": 4,
   "metadata": {},
   "outputs": [
    {
     "data": {
      "text/plain": [
       "[n_neurons_0, Type: UniformInteger, Range: [10, 1000], Default: 10, on log-scale,\n",
       " n_neurons_1, Type: UniformInteger, Range: [10, 1000], Default: 10, on log-scale,\n",
       " n_neurons_2, Type: UniformInteger, Range: [10, 1000], Default: 10, on log-scale,\n",
       " n_neurons_3, Type: UniformInteger, Range: [10, 1000], Default: 10, on log-scale,\n",
       " n_neurons_4, Type: UniformInteger, Range: [10, 1000], Default: 10, on log-scale,\n",
       " activation_0, Type: Categorical, Choices: {tanh, relu, leakyrelu, sigmoid}, Default: relu,\n",
       " activation_1, Type: Categorical, Choices: {tanh, relu, leakyrelu, sigmoid}, Default: relu,\n",
       " activation_2, Type: Categorical, Choices: {tanh, relu, leakyrelu, sigmoid}, Default: relu,\n",
       " activation_3, Type: Categorical, Choices: {tanh, relu, leakyrelu, sigmoid}, Default: relu,\n",
       " activation_4, Type: Categorical, Choices: {tanh, relu, leakyrelu, sigmoid}, Default: relu,\n",
       " dropout_0, Type: Categorical, Choices: {True, False}, Default: True,\n",
       " dropout_1, Type: Categorical, Choices: {True, False}, Default: True,\n",
       " dropout_2, Type: Categorical, Choices: {True, False}, Default: True,\n",
       " dropout_3, Type: Categorical, Choices: {True, False}, Default: True,\n",
       " dropout_4, Type: Categorical, Choices: {True, False}, Default: True,\n",
       " dropout_in, Type: UniformFloat, Range: [0.0, 0.8], Default: 0.5,\n",
       " n_layers, Type: UniformInteger, Range: [1, 5], Default: 1,\n",
       " solver, Type: Categorical, Choices: {nadam}, Default: nadam,\n",
       " learning_rate, Type: UniformFloat, Range: [0.001, 0.1], Default: 0.01, on log-scale]"
      ]
     },
     "execution_count": 4,
     "metadata": {},
     "output_type": "execute_result"
    }
   ],
   "source": [
    "configuration_space = ConfigurationSpace()\n",
    "max_layers = 5\n",
    "dropout_in = Float(\"dropout_in\", (0.0, 0.8), default=0.5)\n",
    "\n",
    "n_layers = Integer(\"n_layers\", (1, max_layers), default=1)\n",
    "n_neurons = []\n",
    "activations = []\n",
    "dropouts =[]\n",
    "for i in range(max_layers):\n",
    "    n_neurons.append(Integer(f\"n_neurons_{i}\", (10, 1000), log=True, default=10))\n",
    "    activations.append( Categorical(f\"activation_{i}\", [\"tanh\", \"relu\", \"leakyrelu\", \"sigmoid\"], default=\"relu\") )\n",
    "    dropouts.append( Categorical(f\"dropout_{i}\", [True, False], default=True) )\n",
    "\n",
    "solver = Categorical(\"solver\", [\"nadam\"], default=\"nadam\")\n",
    "learning_rate = Float(\"learning_rate\", (1e-3, 1e-1), log=True, default=1e-2)\n",
    "\n",
    "hyperparameters = n_neurons + activations + dropouts + [dropout_in, n_layers, solver, learning_rate]\n",
    "configuration_space.add_hyperparameters(hyperparameters)"
   ]
  },
  {
   "cell_type": "code",
   "execution_count": 5,
   "metadata": {},
   "outputs": [
    {
     "name": "stdout",
     "output_type": "stream",
     "text": [
      "[INFO][abstract_initial_design.py:147] Using 100 initial design configurations and 0 additional configurations.\n",
      "[INFO][smbo.py:497] Continuing from previous run.\n"
     ]
    }
   ],
   "source": [
    "outdir = Path(os.path.normpath(\"/mnt/d/runs/ML/NN/smac\"))\n",
    "cpus = 1\n",
    "classifier = Classifier(X, ys, test_size=0.2, configuration_space=configuration_space, model_builder=build_classification_model, model_args={\"classes\": 1})\n",
    "\n",
    "# Define our environment variables\n",
    "scenario = Scenario( classifier.configspace, n_trials=10000,\n",
    "                    min_budget=5, max_budget=100,\n",
    "                    n_workers=cpus, output_directory=outdir,\n",
    "                    walltime_limit=12*60*60, cputime_limit=np.inf, trial_memory_limit=int(6e10)    # Max RAM in Bytes (not MB) 3600 = 1h\n",
    "                    )\n",
    "\n",
    "initial_design = MultiFidelityFacade.get_initial_design(scenario, n_configs=100)\n",
    "\n",
    "intensifier = Hyperband(scenario, incumbent_selection=\"highest_budget\")\n",
    "\n",
    "# Create our SMAC object and pass the scenario and the train method\n",
    "smac = MultiFidelityFacade( scenario, classifier.train, \n",
    "                           initial_design=initial_design, intensifier=intensifier,\n",
    "                           overwrite=False, logging_level=20\n",
    "                           )\n",
    "                           \n",
    "tf.config.threading.set_inter_op_parallelism_threads(cpus)"
   ]
  },
  {
   "cell_type": "code",
   "execution_count": 6,
   "metadata": {},
   "outputs": [
    {
     "name": "stdout",
     "output_type": "stream",
     "text": [
      "[INFO][smbo.py:270] Optimization process was already finished. Returning incumbent...\n"
     ]
    }
   ],
   "source": [
    "incumbent = smac.optimize()"
   ]
  },
  {
   "cell_type": "markdown",
   "metadata": {},
   "source": [
    "### Save history"
   ]
  },
  {
   "cell_type": "code",
   "execution_count": 7,
   "metadata": {},
   "outputs": [
    {
     "ename": "RuntimeError",
     "evalue": "Please call __post_init__ before calling this method.",
     "output_type": "error",
     "traceback": [
      "\u001b[0;31m---------------------------------------------------------------------------\u001b[0m",
      "\u001b[0;31mRuntimeError\u001b[0m                              Traceback (most recent call last)",
      "Cell \u001b[0;32mIn[7], line 5\u001b[0m\n\u001b[1;32m      3\u001b[0m \u001b[38;5;28;01melse\u001b[39;00m: \n\u001b[1;32m      4\u001b[0m     best_hp \u001b[38;5;241m=\u001b[39m incumbent\n\u001b[0;32m----> 5\u001b[0m incumbent_cost \u001b[38;5;241m=\u001b[39m \u001b[43msmac\u001b[49m\u001b[38;5;241;43m.\u001b[39;49m\u001b[43mvalidate\u001b[49m\u001b[43m(\u001b[49m\u001b[43mbest_hp\u001b[49m\u001b[43m)\u001b[49m\n\u001b[1;32m      6\u001b[0m \u001b[38;5;28mprint\u001b[39m(\u001b[38;5;124mf\u001b[39m\u001b[38;5;124m\"\u001b[39m\u001b[38;5;124mIncumbent cost of continued run: \u001b[39m\u001b[38;5;132;01m{\u001b[39;00mincumbent_cost\u001b[38;5;132;01m}\u001b[39;00m\u001b[38;5;124m\"\u001b[39m)\n\u001b[1;32m      7\u001b[0m send_mail(subject\u001b[38;5;241m=\u001b[39m\u001b[38;5;124m\"\u001b[39m\u001b[38;5;124mClassifier Tuning\u001b[39m\u001b[38;5;124m\"\u001b[39m, message\u001b[38;5;241m=\u001b[39m\u001b[38;5;124mf\u001b[39m\u001b[38;5;124m\"\u001b[39m\u001b[38;5;130;01m\\n\u001b[39;00m\u001b[38;5;124mHyperparameter search finished with cost \u001b[39m\u001b[38;5;132;01m{\u001b[39;00mincumbent_cost\u001b[38;5;132;01m}\u001b[39;00m\u001b[38;5;124m at:\u001b[39m\u001b[38;5;130;01m\\n\u001b[39;00m\u001b[38;5;132;01m{\u001b[39;00m\u001b[38;5;28mdict\u001b[39m(best_hp)\u001b[38;5;132;01m}\u001b[39;00m\u001b[38;5;124m\"\u001b[39m,\n\u001b[1;32m      8\u001b[0m           pw_file\u001b[38;5;241m=\u001b[39m\u001b[38;5;124m\"\u001b[39m\u001b[38;5;124m/mnt/c/Users/JosuaCarl/Desktop/keys/pw.txt\u001b[39m\u001b[38;5;124m\"\u001b[39m, private_key\u001b[38;5;241m=\u001b[39m\u001b[38;5;124m\"\u001b[39m\u001b[38;5;124m/mnt/c/Users/JosuaCarl/Desktop/keys/privatekey.pem\u001b[39m\u001b[38;5;124m\"\u001b[39m)\n",
      "File \u001b[0;32m~/miniconda3_linux/envs/MStoML/lib/python3.11/site-packages/smac/facade/abstract_facade.py:350\u001b[0m, in \u001b[0;36mAbstractFacade.validate\u001b[0;34m(self, config, seed)\u001b[0m\n\u001b[1;32m    325\u001b[0m \u001b[38;5;28;01mdef\u001b[39;00m \u001b[38;5;21mvalidate\u001b[39m(\n\u001b[1;32m    326\u001b[0m     \u001b[38;5;28mself\u001b[39m,\n\u001b[1;32m    327\u001b[0m     config: Configuration,\n\u001b[1;32m    328\u001b[0m     \u001b[38;5;241m*\u001b[39m,\n\u001b[1;32m    329\u001b[0m     seed: \u001b[38;5;28mint\u001b[39m \u001b[38;5;241m|\u001b[39m \u001b[38;5;28;01mNone\u001b[39;00m \u001b[38;5;241m=\u001b[39m \u001b[38;5;28;01mNone\u001b[39;00m,\n\u001b[1;32m    330\u001b[0m ) \u001b[38;5;241m-\u001b[39m\u001b[38;5;241m>\u001b[39m \u001b[38;5;28mfloat\u001b[39m \u001b[38;5;241m|\u001b[39m \u001b[38;5;28mlist\u001b[39m[\u001b[38;5;28mfloat\u001b[39m]:\n\u001b[1;32m    331\u001b[0m \u001b[38;5;250m    \u001b[39m\u001b[38;5;124;03m\"\"\"Validates a configuration on seeds different from the ones used in the optimization process and on the\u001b[39;00m\n\u001b[1;32m    332\u001b[0m \u001b[38;5;124;03m    highest budget (if budget type is real-valued).\u001b[39;00m\n\u001b[1;32m    333\u001b[0m \n\u001b[0;32m   (...)\u001b[0m\n\u001b[1;32m    348\u001b[0m \u001b[38;5;124;03m        averaged.\u001b[39;00m\n\u001b[1;32m    349\u001b[0m \u001b[38;5;124;03m    \"\"\"\u001b[39;00m\n\u001b[0;32m--> 350\u001b[0m     \u001b[38;5;28;01mreturn\u001b[39;00m \u001b[38;5;28;43mself\u001b[39;49m\u001b[38;5;241;43m.\u001b[39;49m\u001b[43m_optimizer\u001b[49m\u001b[38;5;241;43m.\u001b[39;49m\u001b[43mvalidate\u001b[49m\u001b[43m(\u001b[49m\u001b[43mconfig\u001b[49m\u001b[43m,\u001b[49m\u001b[43m \u001b[49m\u001b[43mseed\u001b[49m\u001b[38;5;241;43m=\u001b[39;49m\u001b[43mseed\u001b[49m\u001b[43m)\u001b[49m\n",
      "File \u001b[0;32m~/miniconda3_linux/envs/MStoML/lib/python3.11/site-packages/smac/main/smbo.py:573\u001b[0m, in \u001b[0;36mSMBO.validate\u001b[0;34m(self, config, seed)\u001b[0m\n\u001b[1;32m    570\u001b[0m     seed \u001b[38;5;241m=\u001b[39m \u001b[38;5;28mself\u001b[39m\u001b[38;5;241m.\u001b[39m_scenario\u001b[38;5;241m.\u001b[39mseed\n\u001b[1;32m    572\u001b[0m costs \u001b[38;5;241m=\u001b[39m []\n\u001b[0;32m--> 573\u001b[0m \u001b[38;5;28;01mfor\u001b[39;00m trial \u001b[38;5;129;01min\u001b[39;00m \u001b[38;5;28;43mself\u001b[39;49m\u001b[38;5;241;43m.\u001b[39;49m\u001b[43m_intensifier\u001b[49m\u001b[38;5;241;43m.\u001b[39;49m\u001b[43mget_trials_of_interest\u001b[49m\u001b[43m(\u001b[49m\u001b[43mconfig\u001b[49m\u001b[43m,\u001b[49m\u001b[43m \u001b[49m\u001b[43mvalidate\u001b[49m\u001b[38;5;241;43m=\u001b[39;49m\u001b[38;5;28;43;01mTrue\u001b[39;49;00m\u001b[43m,\u001b[49m\u001b[43m \u001b[49m\u001b[43mseed\u001b[49m\u001b[38;5;241;43m=\u001b[39;49m\u001b[43mseed\u001b[49m\u001b[43m)\u001b[49m:\n\u001b[1;32m    574\u001b[0m     kwargs: \u001b[38;5;28mdict\u001b[39m[\u001b[38;5;28mstr\u001b[39m, Any] \u001b[38;5;241m=\u001b[39m {}\n\u001b[1;32m    575\u001b[0m     \u001b[38;5;28;01mif\u001b[39;00m trial\u001b[38;5;241m.\u001b[39mseed \u001b[38;5;129;01mis\u001b[39;00m \u001b[38;5;129;01mnot\u001b[39;00m \u001b[38;5;28;01mNone\u001b[39;00m:\n",
      "File \u001b[0;32m~/miniconda3_linux/envs/MStoML/lib/python3.11/site-packages/smac/intensifier/successive_halving.py:275\u001b[0m, in \u001b[0;36mSuccessiveHalving.get_trials_of_interest\u001b[0;34m(self, config, validate, seed)\u001b[0m\n\u001b[1;32m    268\u001b[0m \u001b[38;5;28;01mdef\u001b[39;00m \u001b[38;5;21mget_trials_of_interest\u001b[39m(\n\u001b[1;32m    269\u001b[0m     \u001b[38;5;28mself\u001b[39m,\n\u001b[1;32m    270\u001b[0m     config: Configuration,\n\u001b[0;32m   (...)\u001b[0m\n\u001b[1;32m    273\u001b[0m     seed: \u001b[38;5;28mint\u001b[39m \u001b[38;5;241m|\u001b[39m \u001b[38;5;28;01mNone\u001b[39;00m \u001b[38;5;241m=\u001b[39m \u001b[38;5;28;01mNone\u001b[39;00m,\n\u001b[1;32m    274\u001b[0m ) \u001b[38;5;241m-\u001b[39m\u001b[38;5;241m>\u001b[39m \u001b[38;5;28mlist\u001b[39m[TrialInfo]:  \u001b[38;5;66;03m# noqa: D102\u001b[39;00m\n\u001b[0;32m--> 275\u001b[0m     is_keys \u001b[38;5;241m=\u001b[39m \u001b[38;5;28;43mself\u001b[39;49m\u001b[38;5;241;43m.\u001b[39;49m\u001b[43mget_instance_seed_keys_of_interest\u001b[49m\u001b[43m(\u001b[49m\u001b[43mvalidate\u001b[49m\u001b[38;5;241;43m=\u001b[39;49m\u001b[43mvalidate\u001b[49m\u001b[43m,\u001b[49m\u001b[43m \u001b[49m\u001b[43mseed\u001b[49m\u001b[38;5;241;43m=\u001b[39;49m\u001b[43mseed\u001b[49m\u001b[43m)\u001b[49m\n\u001b[1;32m    276\u001b[0m     budget \u001b[38;5;241m=\u001b[39m \u001b[38;5;28;01mNone\u001b[39;00m\n\u001b[1;32m    278\u001b[0m     \u001b[38;5;66;03m# When we use budgets, we always evaluated on the highest budget only\u001b[39;00m\n",
      "File \u001b[0;32m~/miniconda3_linux/envs/MStoML/lib/python3.11/site-packages/smac/intensifier/abstract_intensifier.py:257\u001b[0m, in \u001b[0;36mAbstractIntensifier.get_instance_seed_keys_of_interest\u001b[0;34m(self, validate, seed)\u001b[0m\n\u001b[1;32m    254\u001b[0m     \u001b[38;5;28;01mraise\u001b[39;00m \u001b[38;5;167;01mRuntimeError\u001b[39;00m(\u001b[38;5;124m\"\u001b[39m\u001b[38;5;124mPlease set the runhistory before calling this method.\u001b[39m\u001b[38;5;124m\"\u001b[39m)\n\u001b[1;32m    256\u001b[0m \u001b[38;5;28;01mif\u001b[39;00m \u001b[38;5;28mlen\u001b[39m(\u001b[38;5;28mself\u001b[39m\u001b[38;5;241m.\u001b[39m_tf_instances) \u001b[38;5;241m==\u001b[39m \u001b[38;5;241m0\u001b[39m:\n\u001b[0;32m--> 257\u001b[0m     \u001b[38;5;28;01mraise\u001b[39;00m \u001b[38;5;167;01mRuntimeError\u001b[39;00m(\u001b[38;5;124m\"\u001b[39m\u001b[38;5;124mPlease call __post_init__ before calling this method.\u001b[39m\u001b[38;5;124m\"\u001b[39m)\n\u001b[1;32m    259\u001b[0m \u001b[38;5;28;01mif\u001b[39;00m seed \u001b[38;5;129;01mis\u001b[39;00m \u001b[38;5;28;01mNone\u001b[39;00m:\n\u001b[1;32m    260\u001b[0m     seed \u001b[38;5;241m=\u001b[39m \u001b[38;5;241m0\u001b[39m\n",
      "\u001b[0;31mRuntimeError\u001b[0m: Please call __post_init__ before calling this method."
     ]
    }
   ],
   "source": [
    "if isinstance(incumbent, list):\n",
    "    best_hp = incumbent[0]\n",
    "else: \n",
    "    best_hp = incumbent\n",
    "incumbent_cost = smac.validate(best_hp)\n",
    "print(f\"Incumbent cost of continued run: {incumbent_cost}\")\n",
    "send_mail(subject=\"Classifier Tuning\", message=f\"\\nHyperparameter search finished with cost {incumbent_cost} at:\\n{dict(best_hp)}\",\n",
    "          pw_file=\"/mnt/c/Users/JosuaCarl/Desktop/keys/pw.txt\", private_key=\"/mnt/c/Users/JosuaCarl/Desktop/keys/privatekey.pem\")"
   ]
  },
  {
   "cell_type": "code",
   "execution_count": 9,
   "metadata": {},
   "outputs": [
    {
     "data": {
      "text/html": [
       "<div>\n",
       "<style scoped>\n",
       "    .dataframe tbody tr th:only-of-type {\n",
       "        vertical-align: middle;\n",
       "    }\n",
       "\n",
       "    .dataframe tbody tr th {\n",
       "        vertical-align: top;\n",
       "    }\n",
       "\n",
       "    .dataframe thead th {\n",
       "        text-align: right;\n",
       "    }\n",
       "</style>\n",
       "<table border=\"1\" class=\"dataframe\">\n",
       "  <thead>\n",
       "    <tr style=\"text-align: right;\">\n",
       "      <th></th>\n",
       "      <th>config_id</th>\n",
       "      <th>config</th>\n",
       "      <th>instance</th>\n",
       "      <th>budget</th>\n",
       "      <th>seed</th>\n",
       "      <th>loss</th>\n",
       "      <th>time</th>\n",
       "      <th>status</th>\n",
       "      <th>additional_info</th>\n",
       "    </tr>\n",
       "  </thead>\n",
       "  <tbody>\n",
       "    <tr>\n",
       "      <th>0</th>\n",
       "      <td>1</td>\n",
       "      <td>{'activation_0': 'leakyrelu', 'activation_1': ...</td>\n",
       "      <td>None</td>\n",
       "      <td>11.111111</td>\n",
       "      <td>209652396</td>\n",
       "      <td>0.692519</td>\n",
       "      <td>5.648537</td>\n",
       "      <td>1</td>\n",
       "      <td>{}</td>\n",
       "    </tr>\n",
       "    <tr>\n",
       "      <th>1</th>\n",
       "      <td>2</td>\n",
       "      <td>{'activation_0': 'leakyrelu', 'activation_1': ...</td>\n",
       "      <td>None</td>\n",
       "      <td>11.111111</td>\n",
       "      <td>209652396</td>\n",
       "      <td>0.780937</td>\n",
       "      <td>7.979464</td>\n",
       "      <td>1</td>\n",
       "      <td>{}</td>\n",
       "    </tr>\n",
       "    <tr>\n",
       "      <th>2</th>\n",
       "      <td>3</td>\n",
       "      <td>{'activation_0': 'leakyrelu', 'activation_1': ...</td>\n",
       "      <td>None</td>\n",
       "      <td>11.111111</td>\n",
       "      <td>209652396</td>\n",
       "      <td>0.691562</td>\n",
       "      <td>7.908545</td>\n",
       "      <td>1</td>\n",
       "      <td>{}</td>\n",
       "    </tr>\n",
       "    <tr>\n",
       "      <th>3</th>\n",
       "      <td>4</td>\n",
       "      <td>{'activation_0': 'leakyrelu', 'activation_1': ...</td>\n",
       "      <td>None</td>\n",
       "      <td>11.111111</td>\n",
       "      <td>209652396</td>\n",
       "      <td>0.673983</td>\n",
       "      <td>8.717660</td>\n",
       "      <td>1</td>\n",
       "      <td>{}</td>\n",
       "    </tr>\n",
       "    <tr>\n",
       "      <th>4</th>\n",
       "      <td>5</td>\n",
       "      <td>{'activation_0': 'leakyrelu', 'activation_1': ...</td>\n",
       "      <td>None</td>\n",
       "      <td>11.111111</td>\n",
       "      <td>209652396</td>\n",
       "      <td>0.893800</td>\n",
       "      <td>8.812661</td>\n",
       "      <td>1</td>\n",
       "      <td>{}</td>\n",
       "    </tr>\n",
       "    <tr>\n",
       "      <th>...</th>\n",
       "      <td>...</td>\n",
       "      <td>...</td>\n",
       "      <td>...</td>\n",
       "      <td>...</td>\n",
       "      <td>...</td>\n",
       "      <td>...</td>\n",
       "      <td>...</td>\n",
       "      <td>...</td>\n",
       "      <td>...</td>\n",
       "    </tr>\n",
       "    <tr>\n",
       "      <th>239</th>\n",
       "      <td>185</td>\n",
       "      <td>{'activation_0': 'leakyrelu', 'activation_1': ...</td>\n",
       "      <td>None</td>\n",
       "      <td>100.000000</td>\n",
       "      <td>209652396</td>\n",
       "      <td>0.588785</td>\n",
       "      <td>8.966356</td>\n",
       "      <td>1</td>\n",
       "      <td>{}</td>\n",
       "    </tr>\n",
       "    <tr>\n",
       "      <th>240</th>\n",
       "      <td>186</td>\n",
       "      <td>{'activation_0': 'leakyrelu', 'activation_1': ...</td>\n",
       "      <td>None</td>\n",
       "      <td>100.000000</td>\n",
       "      <td>209652396</td>\n",
       "      <td>0.701655</td>\n",
       "      <td>21.000801</td>\n",
       "      <td>1</td>\n",
       "      <td>{}</td>\n",
       "    </tr>\n",
       "    <tr>\n",
       "      <th>241</th>\n",
       "      <td>187</td>\n",
       "      <td>{'activation_0': 'leakyrelu', 'activation_1': ...</td>\n",
       "      <td>None</td>\n",
       "      <td>100.000000</td>\n",
       "      <td>209652396</td>\n",
       "      <td>0.669784</td>\n",
       "      <td>9.115000</td>\n",
       "      <td>1</td>\n",
       "      <td>{}</td>\n",
       "    </tr>\n",
       "    <tr>\n",
       "      <th>242</th>\n",
       "      <td>188</td>\n",
       "      <td>{'activation_0': 'leakyrelu', 'activation_1': ...</td>\n",
       "      <td>None</td>\n",
       "      <td>11.111111</td>\n",
       "      <td>209652396</td>\n",
       "      <td>0.853201</td>\n",
       "      <td>4.311765</td>\n",
       "      <td>1</td>\n",
       "      <td>{}</td>\n",
       "    </tr>\n",
       "    <tr>\n",
       "      <th>243</th>\n",
       "      <td>189</td>\n",
       "      <td>{'activation_0': 'leakyrelu', 'activation_1': ...</td>\n",
       "      <td>None</td>\n",
       "      <td>11.111111</td>\n",
       "      <td>209652396</td>\n",
       "      <td>0.681811</td>\n",
       "      <td>149438.193096</td>\n",
       "      <td>1</td>\n",
       "      <td>{}</td>\n",
       "    </tr>\n",
       "  </tbody>\n",
       "</table>\n",
       "<p>244 rows × 9 columns</p>\n",
       "</div>"
      ],
      "text/plain": [
       "     config_id                                             config instance  \\\n",
       "0            1  {'activation_0': 'leakyrelu', 'activation_1': ...     None   \n",
       "1            2  {'activation_0': 'leakyrelu', 'activation_1': ...     None   \n",
       "2            3  {'activation_0': 'leakyrelu', 'activation_1': ...     None   \n",
       "3            4  {'activation_0': 'leakyrelu', 'activation_1': ...     None   \n",
       "4            5  {'activation_0': 'leakyrelu', 'activation_1': ...     None   \n",
       "..         ...                                                ...      ...   \n",
       "239        185  {'activation_0': 'leakyrelu', 'activation_1': ...     None   \n",
       "240        186  {'activation_0': 'leakyrelu', 'activation_1': ...     None   \n",
       "241        187  {'activation_0': 'leakyrelu', 'activation_1': ...     None   \n",
       "242        188  {'activation_0': 'leakyrelu', 'activation_1': ...     None   \n",
       "243        189  {'activation_0': 'leakyrelu', 'activation_1': ...     None   \n",
       "\n",
       "         budget       seed      loss           time  status additional_info  \n",
       "0     11.111111  209652396  0.692519       5.648537       1              {}  \n",
       "1     11.111111  209652396  0.780937       7.979464       1              {}  \n",
       "2     11.111111  209652396  0.691562       7.908545       1              {}  \n",
       "3     11.111111  209652396  0.673983       8.717660       1              {}  \n",
       "4     11.111111  209652396  0.893800       8.812661       1              {}  \n",
       "..          ...        ...       ...            ...     ...             ...  \n",
       "239  100.000000  209652396  0.588785       8.966356       1              {}  \n",
       "240  100.000000  209652396  0.701655      21.000801       1              {}  \n",
       "241  100.000000  209652396  0.669784       9.115000       1              {}  \n",
       "242   11.111111  209652396  0.853201       4.311765       1              {}  \n",
       "243   11.111111  209652396  0.681811  149438.193096       1              {}  \n",
       "\n",
       "[244 rows x 9 columns]"
      ]
     },
     "execution_count": 9,
     "metadata": {},
     "output_type": "execute_result"
    }
   ],
   "source": [
    "results = pd.DataFrame(columns=[\"config_id\", \"config\", \"instance\", \"budget\", \"seed\", \"loss\", \"time\", \"status\", \"additional_info\"])\n",
    "for trial_info, trial_value in smac.runhistory.items():\n",
    "    results.loc[len(results.index)] = [trial_info.config_id, dict(smac.runhistory.get_config(1)), trial_info.instance,\n",
    "                                       trial_info.budget, trial_info.seed,\n",
    "                                       trial_value.cost, trial_value.time, trial_value.status, trial_value.additional_info]\n",
    "results"
   ]
  },
  {
   "cell_type": "markdown",
   "metadata": {},
   "source": [
    "### Classification"
   ]
  },
  {
   "cell_type": "code",
   "execution_count": 10,
   "metadata": {},
   "outputs": [
    {
     "name": "stderr",
     "output_type": "stream",
     "text": [
      "  0%|          | 0/8 [00:00<?, ?it/s]"
     ]
    },
    {
     "name": "stdout",
     "output_type": "stream",
     "text": [
      "1/1 [==============================] - 0s 73ms/step\n",
      "1/1 [==============================] - 0s 62ms/step\n",
      "1/1 [==============================] - 0s 66ms/step\n",
      "1/1 [==============================] - 0s 59ms/step\n",
      "WARNING:tensorflow:5 out of the last 5 calls to <function Model.make_predict_function.<locals>.predict_function at 0x7f2f58c3fec0> triggered tf.function retracing. Tracing is expensive and the excessive number of tracings could be due to (1) creating @tf.function repeatedly in a loop, (2) passing tensors with different shapes, (3) passing Python objects instead of tensors. For (1), please define your @tf.function outside of the loop. For (2), @tf.function has reduce_retracing=True option that can avoid unnecessary retracing. For (3), please refer to https://www.tensorflow.org/guide/function#controlling_retracing and https://www.tensorflow.org/api_docs/python/tf/function for  more details.\n",
      "[WARNING][polymorphic_function.py:156] 5 out of the last 5 calls to <function Model.make_predict_function.<locals>.predict_function at 0x7f2f58c3fec0> triggered tf.function retracing. Tracing is expensive and the excessive number of tracings could be due to (1) creating @tf.function repeatedly in a loop, (2) passing tensors with different shapes, (3) passing Python objects instead of tensors. For (1), please define your @tf.function outside of the loop. For (2), @tf.function has reduce_retracing=True option that can avoid unnecessary retracing. For (3), please refer to https://www.tensorflow.org/guide/function#controlling_retracing and https://www.tensorflow.org/api_docs/python/tf/function for  more details.\n",
      "1/1 [==============================] - 0s 62ms/step\n"
     ]
    },
    {
     "name": "stderr",
     "output_type": "stream",
     "text": [
      " 12%|█▎        | 1/8 [02:32<17:49, 152.73s/it]"
     ]
    },
    {
     "name": "stdout",
     "output_type": "stream",
     "text": [
      "WARNING:tensorflow:6 out of the last 6 calls to <function Model.make_predict_function.<locals>.predict_function at 0x7f2eebc17880> triggered tf.function retracing. Tracing is expensive and the excessive number of tracings could be due to (1) creating @tf.function repeatedly in a loop, (2) passing tensors with different shapes, (3) passing Python objects instead of tensors. For (1), please define your @tf.function outside of the loop. For (2), @tf.function has reduce_retracing=True option that can avoid unnecessary retracing. For (3), please refer to https://www.tensorflow.org/guide/function#controlling_retracing and https://www.tensorflow.org/api_docs/python/tf/function for  more details.\n",
      "[WARNING][polymorphic_function.py:156] 6 out of the last 6 calls to <function Model.make_predict_function.<locals>.predict_function at 0x7f2eebc17880> triggered tf.function retracing. Tracing is expensive and the excessive number of tracings could be due to (1) creating @tf.function repeatedly in a loop, (2) passing tensors with different shapes, (3) passing Python objects instead of tensors. For (1), please define your @tf.function outside of the loop. For (2), @tf.function has reduce_retracing=True option that can avoid unnecessary retracing. For (3), please refer to https://www.tensorflow.org/guide/function#controlling_retracing and https://www.tensorflow.org/api_docs/python/tf/function for  more details.\n",
      "1/1 [==============================] - 0s 63ms/step\n",
      "1/1 [==============================] - 0s 59ms/step\n",
      "1/1 [==============================] - 0s 75ms/step\n",
      "1/1 [==============================] - 0s 61ms/step\n",
      "1/1 [==============================] - 0s 61ms/step\n"
     ]
    },
    {
     "name": "stderr",
     "output_type": "stream",
     "text": [
      " 25%|██▌       | 2/8 [05:10<15:34, 155.83s/it]"
     ]
    },
    {
     "name": "stdout",
     "output_type": "stream",
     "text": [
      "1/1 [==============================] - 0s 58ms/step\n",
      "1/1 [==============================] - 0s 60ms/step\n",
      "1/1 [==============================] - 0s 59ms/step\n",
      "1/1 [==============================] - 0s 59ms/step\n",
      "1/1 [==============================] - 0s 60ms/step\n"
     ]
    },
    {
     "name": "stderr",
     "output_type": "stream",
     "text": [
      " 38%|███▊      | 3/8 [07:46<12:58, 155.78s/it]"
     ]
    },
    {
     "name": "stdout",
     "output_type": "stream",
     "text": [
      "1/1 [==============================] - 0s 62ms/step\n",
      "1/1 [==============================] - 0s 61ms/step\n",
      "1/1 [==============================] - 0s 66ms/step\n",
      "1/1 [==============================] - 0s 61ms/step\n",
      "1/1 [==============================] - 0s 59ms/step\n"
     ]
    },
    {
     "name": "stderr",
     "output_type": "stream",
     "text": [
      " 50%|█████     | 4/8 [10:27<10:31, 157.81s/it]"
     ]
    },
    {
     "name": "stdout",
     "output_type": "stream",
     "text": [
      "1/1 [==============================] - 0s 60ms/step\n",
      "1/1 [==============================] - 0s 63ms/step\n",
      "1/1 [==============================] - 0s 61ms/step\n",
      "1/1 [==============================] - 0s 61ms/step\n",
      "1/1 [==============================] - 0s 63ms/step\n"
     ]
    },
    {
     "name": "stderr",
     "output_type": "stream",
     "text": [
      " 62%|██████▎   | 5/8 [13:00<07:48, 156.08s/it]"
     ]
    },
    {
     "name": "stdout",
     "output_type": "stream",
     "text": [
      "1/1 [==============================] - 0s 59ms/step\n",
      "1/1 [==============================] - 0s 60ms/step\n"
     ]
    }
   ],
   "source": [
    "metrics_df = cross_validate_model(X, ys, strains[\"0\"], config=best_hp, classes=1,\n",
    "\t\t\t\t\t\t\t\t  fold=StratifiedKFold(n_splits=5), patience=1000, epochs=100000,\n",
    "\t\t\t\t\t\t\t\t  verbosity=0)"
   ]
  },
  {
   "cell_type": "code",
   "execution_count": null,
   "metadata": {},
   "outputs": [
    {
     "ename": "NameError",
     "evalue": "name 'metrics_df' is not defined",
     "output_type": "error",
     "traceback": [
      "\u001b[0;31m---------------------------------------------------------------------------\u001b[0m",
      "\u001b[0;31mNameError\u001b[0m                                 Traceback (most recent call last)",
      "Cell \u001b[0;32mIn[8], line 1\u001b[0m\n\u001b[0;32m----> 1\u001b[0m \u001b[43mmetrics_df\u001b[49m\n",
      "\u001b[0;31mNameError\u001b[0m: name 'metrics_df' is not defined"
     ]
    }
   ],
   "source": [
    "metrics_df"
   ]
  },
  {
   "cell_type": "code",
   "execution_count": null,
   "metadata": {},
   "outputs": [
    {
     "data": {
      "image/png": "[encoded data removed]",
      "text/plain": [
       "<Figure size 640x480 with 2 Axes>"
      ]
     },
     "metadata": {},
     "output_type": "display_data"
    }
   ],
   "source": [
    "# Accuracy CV matrix\n",
    "ax = sns.heatmap(metrics_df.pivot(index=\"Organism\", columns=\"Cross-Validation run\", values=\"Accuracy\"),\n",
    "                 vmin=0, vmax=1.0, annot=True, cmap=sns.color_palette(\"crest\", as_cmap=True))\n",
    "plt.savefig('../../runs/ML/annot/multi_layer_perceptron/heatmap_accuracies_1.png')  "
   ]
  },
  {
   "cell_type": "code",
   "execution_count": null,
   "metadata": {},
   "outputs": [],
   "source": [
    "plot_cv_confmat(ys=ys, target_labels=strains.values,\n",
    "                accuracies=np.mean(metrics_df.pivot(index=\"Organism\", columns=\"Cross-Validation run\", values=\"Accuracy\").values, axis=1),\n",
    "                confusion_matrices=np.sum(metrics_df.pivot(index=\"Organism\", columns=\"Cross-Validation run\", values=\"Conf_Mat\").values, axis=1),\n",
    "\t\t\t\toutdir=\"../../runs/ML/annot/multi_layer_perceptron\", name=\"class_annot_test_smac\")"
   ]
  },
  {
   "cell_type": "code",
   "execution_count": null,
   "metadata": {},
   "outputs": [],
   "source": []
  }
 ],
 "metadata": {
  "kernelspec": {
   "display_name": "gemml",
   "language": "python",
   "name": "python3"
  },
  "language_info": {
   "codemirror_mode": {
    "name": "ipython",
    "version": 3
   },
   "file_extension": ".py",
   "mimetype": "text/x-python",
   "name": "python",
   "nbconvert_exporter": "python",
   "pygments_lexer": "ipython3",
   "version": "3.11.7"
  }
 },
 "nbformat": 4,
 "nbformat_minor": 2
}
