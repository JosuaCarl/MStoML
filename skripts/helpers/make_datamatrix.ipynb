{
 "cells": [
  {
   "cell_type": "code",
   "execution_count": 1,
   "metadata": {},
   "outputs": [],
   "source": [
    "import sys\n",
    "import itertools\n",
    "import shutil\n",
    "\n",
    "sys.path.append(\"..\")\n",
    "from FIA.FIA import *"
   ]
  },
  {
   "cell_type": "code",
   "execution_count": 22,
   "metadata": {},
   "outputs": [],
   "source": [
    "paths = {\"start\":   [\"/mnt/d/runs/FIA/\"],\n",
    "         \"sub\":     [\"Sampled_Coms\"],\n",
    "         \"subsub\":  [\"\"] }\n",
    "path_combs = [os.path.join(*path) for path in itertools.product(*paths.values())]"
   ]
  },
  {
   "cell_type": "code",
   "execution_count": 20,
   "metadata": {},
   "outputs": [
    {
     "name": "stderr",
     "output_type": "stream",
     "text": [
      "100%|██████████| 102/102 [00:19<00:00,  5.11it/s]\n"
     ]
    }
   ],
   "source": [
    "for path in path_combs:\n",
    "    for file in tqdm(os.listdir(path)):\n",
    "        if os.path.isfile(os.path.join(path, file)):\n",
    "            if file.endswith(\"pos.mzML\"):\n",
    "                shutil.copy(os.path.join(path, file), os.path.join(path, \"pos\"))\n",
    "            elif file.endswith(\"neg.mzML\"):\n",
    "                shutil.copy(os.path.join(path, file), os.path.join(path, \"neg\"))"
   ]
  },
  {
   "cell_type": "code",
   "execution_count": 23,
   "metadata": {},
   "outputs": [
    {
     "name": "stdout",
     "output_type": "stream",
     "text": [
      "Path: /mnt/d/runs/FIA/Sampled_Coms/pos\n",
      "Loading names:\n"
     ]
    },
    {
     "name": "stderr",
     "output_type": "stream",
     "text": [
      "100%|██████████| 59/59 [00:00<00:00, 713152.55it/s]\n"
     ]
    },
    {
     "name": "stdout",
     "output_type": "stream",
     "text": [
      "Loading experiments:\n"
     ]
    },
    {
     "name": "stderr",
     "output_type": "stream",
     "text": [
      "100%|██████████| 59/59 [00:09<00:00,  6.46it/s]\n",
      "100%|██████████| 59/59 [00:04<00:00, 12.82it/s]\n"
     ]
    },
    {
     "name": "stdout",
     "output_type": "stream",
     "text": [
      "Path: /mnt/d/runs/FIA/Sampled_Coms/neg\n",
      "Loading names:\n"
     ]
    },
    {
     "name": "stderr",
     "output_type": "stream",
     "text": [
      "100%|██████████| 41/41 [00:00<00:00, 707680.92it/s]\n"
     ]
    },
    {
     "name": "stdout",
     "output_type": "stream",
     "text": [
      "Loading experiments:\n"
     ]
    },
    {
     "name": "stderr",
     "output_type": "stream",
     "text": [
      "100%|██████████| 41/41 [00:06<00:00,  6.73it/s]\n",
      "100%|██████████| 41/41 [00:02<00:00, 15.35it/s]\n"
     ]
    }
   ],
   "source": [
    "for path in path_combs:\n",
    "    print(f\"Path: {path}\")\n",
    "    fia_df = load_fia_df(path, file_ending=\".mzML\", separator=\"\\t\", backend=pd)\n",
    "    binned_dfs = bin_df_stepwise_batch(fia_df, binning_var=\"mz\", binned_var=\"inty\", statistic=\"sum\", start=50.0, stop=1700.0, step=0.002, backend=pd)\n",
    "    binned_dfs.to_csv(os.path.join(path, \"data_matrix.tsv\"), sep=\"\\t\")"
   ]
  },
  {
   "cell_type": "code",
   "execution_count": null,
   "metadata": {},
   "outputs": [],
   "source": []
  }
 ],
 "metadata": {
  "kernelspec": {
   "display_name": "VAE",
   "language": "python",
   "name": "python3"
  },
  "language_info": {
   "codemirror_mode": {
    "name": "ipython",
    "version": 3
   },
   "file_extension": ".py",
   "mimetype": "text/x-python",
   "name": "python",
   "nbconvert_exporter": "python",
   "pygments_lexer": "ipython3",
   "version": "3.11.8"
  }
 },
 "nbformat": 4,
 "nbformat_minor": 2
}
