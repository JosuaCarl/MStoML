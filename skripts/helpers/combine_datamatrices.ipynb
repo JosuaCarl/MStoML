{
 "cells": [
  {
   "cell_type": "code",
   "execution_count": 2,
   "metadata": {},
   "outputs": [],
   "source": [
    "import sys\n",
    "import itertools\n",
    "\n",
    "sys.path.append(\"..\")\n",
    "from FIA.FIA import *\n",
    "from file_handling import *"
   ]
  },
  {
   "cell_type": "code",
   "execution_count": 4,
   "metadata": {},
   "outputs": [],
   "source": [
    "start = \"D:\" # /mnt/d\n",
    "paths = {\"start\":   [f\"{start}/runs/FIA/\"],\n",
    "         \"sub\":     [ \"Com20_single\", \"Com20_val\", \"Com8_equal_conc_comb\", \"Com8_grown_together\", \"Com20_repl\", '20220620_P0003_S6-S22_FIA-TOF',\n",
    "                     '20220726_FIA-TOF_Ex0005_msAG24-msAg77', '20220817_P0008_S13-S96_FIA-TOF', '20221221_P0008_S97-S156_FIA-TOF', '20230307_P0017_S1-S15_FIA-TOF',\n",
    "                     '20230505_P0017_S16-S135_FI-TOF', '20230515_P0008_Plasma_Randomized', '20230515_P0008_Serum_Randomized', '20230516_P0008_Gewebe_Randomized',\n",
    "                     '20230629_P0018_S01-S12_FI-TOF', '20230822_P0031_S1-S66_FI-TOF', '20230927_P0031_Decay_DHA_FI-TOF', '20230927_P0031_S001-S066_FI-TOF_1to100_wdh',\n",
    "                     '20231121_P0032_FI-TOF', '20240206_P0038_S01-S12_FI-TOF', '20240216_P0032_plate10_SXX-SXX_FI-TOF', '20240327_TestAfterRelocation_FI-TOF'],\n",
    "         \"subsub\":  [\"merged\"] }\n",
    "path_combs = [os.path.normpath(os.path.join(*path)) for path in itertools.product(*paths.values())]\n",
    "outpath = os.path.normpath(f\"{start}/runs/FIA/all\")"
   ]
  },
  {
   "cell_type": "code",
   "execution_count": 5,
   "metadata": {},
   "outputs": [
    {
     "name": "stderr",
     "output_type": "stream",
     "text": [
      "100%|██████████| 22/22 [00:00<00:00, 241.71it/s]\n",
      "  0%|          | 0/11 [00:00<?, ?it/s]"
     ]
    },
    {
     "name": "stdout",
     "output_type": "stream",
     "text": [
      "Loading: /mnt/d/runs/FIA/all/tmp/data_matrix_0.feather\n"
     ]
    },
    {
     "name": "stderr",
     "output_type": "stream",
     "text": [
      "  9%|▉         | 1/11 [00:03<00:30,  3.04s/it]"
     ]
    },
    {
     "name": "stdout",
     "output_type": "stream",
     "text": [
      "Loading: /mnt/d/runs/FIA/all/tmp/data_matrix_1.feather\n"
     ]
    },
    {
     "name": "stderr",
     "output_type": "stream",
     "text": [
      " 18%|█▊        | 2/11 [01:01<05:18, 35.42s/it]"
     ]
    },
    {
     "name": "stdout",
     "output_type": "stream",
     "text": [
      "Loading: /mnt/d/runs/FIA/all/tmp/data_matrix_2.feather\n"
     ]
    },
    {
     "name": "stderr",
     "output_type": "stream",
     "text": [
      " 27%|██▋       | 3/11 [01:14<03:22, 25.35s/it]"
     ]
    },
    {
     "name": "stdout",
     "output_type": "stream",
     "text": [
      "Loading: /mnt/d/runs/FIA/all/tmp/data_matrix_3.feather\n"
     ]
    },
    {
     "name": "stderr",
     "output_type": "stream",
     "text": [
      " 36%|███▋      | 4/11 [01:34<02:41, 23.12s/it]"
     ]
    },
    {
     "name": "stdout",
     "output_type": "stream",
     "text": [
      "Loading: /mnt/d/runs/FIA/all/tmp/data_matrix_4.feather\n"
     ]
    },
    {
     "name": "stderr",
     "output_type": "stream",
     "text": [
      " 45%|████▌     | 5/11 [01:36<01:33, 15.66s/it]"
     ]
    },
    {
     "name": "stdout",
     "output_type": "stream",
     "text": [
      "Loading: /mnt/d/runs/FIA/all/tmp/data_matrix_5.feather\n"
     ]
    },
    {
     "name": "stderr",
     "output_type": "stream",
     "text": [
      " 55%|█████▍    | 6/11 [01:59<01:31, 18.25s/it]"
     ]
    },
    {
     "name": "stdout",
     "output_type": "stream",
     "text": [
      "Loading: /mnt/d/runs/FIA/all/tmp/data_matrix_6.feather\n"
     ]
    },
    {
     "name": "stderr",
     "output_type": "stream",
     "text": [
      " 64%|██████▎   | 7/11 [02:03<00:53, 13.41s/it]"
     ]
    },
    {
     "name": "stdout",
     "output_type": "stream",
     "text": [
      "Loading: /mnt/d/runs/FIA/all/tmp/data_matrix_7.feather\n"
     ]
    },
    {
     "name": "stderr",
     "output_type": "stream",
     "text": [
      " 73%|███████▎  | 8/11 [02:19<00:42, 14.17s/it]"
     ]
    },
    {
     "name": "stdout",
     "output_type": "stream",
     "text": [
      "Loading: /mnt/d/runs/FIA/all/tmp/data_matrix_8.feather\n"
     ]
    },
    {
     "name": "stderr",
     "output_type": "stream",
     "text": [
      " 82%|████████▏ | 9/11 [02:21<00:20, 10.44s/it]"
     ]
    },
    {
     "name": "stdout",
     "output_type": "stream",
     "text": [
      "Loading: /mnt/d/runs/FIA/all/tmp/data_matrix_9.feather\n"
     ]
    },
    {
     "name": "stderr",
     "output_type": "stream",
     "text": [
      " 91%|█████████ | 10/11 [02:46<00:14, 14.97s/it]"
     ]
    },
    {
     "name": "stdout",
     "output_type": "stream",
     "text": [
      "Loading: /mnt/d/runs/FIA/all/tmp/data_matrix_10.feather\n"
     ]
    },
    {
     "name": "stderr",
     "output_type": "stream",
     "text": [
      "100%|██████████| 11/11 [02:49<00:00, 15.36s/it]\n",
      "  0%|          | 0/11 [00:00<?, ?it/s]"
     ]
    },
    {
     "name": "stdout",
     "output_type": "stream",
     "text": [
      "Loading: /mnt/d/runs/FIA/all/tmp/data_matrix_1_0.feather\n"
     ]
    },
    {
     "ename": "",
     "evalue": "",
     "output_type": "error",
     "traceback": [
      "\u001b[1;31mThe Kernel crashed while executing code in the current cell or a previous cell. \n",
      "\u001b[1;31mPlease review the code in the cell(s) to identify a possible cause of the failure. \n",
      "\u001b[1;31mClick <a href='https://aka.ms/vscodeJupyterKernelCrash'>here</a> for more info. \n",
      "\u001b[1;31mView Jupyter <a href='command:jupyter.viewOutput'>log</a> for further details."
     ]
    }
   ],
   "source": [
    "combine_dc(path_combs, outpath, target_format=\"feather\", framework=pd)"
   ]
  },
  {
   "cell_type": "code",
   "execution_count": null,
   "metadata": {},
   "outputs": [
    {
     "name": "stdout",
     "output_type": "stream",
     "text": [
      "Path: /mnt/d/runs/FIA/Com20_single/merged\n",
      "Path: /mnt/d/runs/FIA/Com20_val/merged\n",
      "Path: /mnt/d/runs/FIA/Com8_equal_conc_comb/merged\n",
      "Path: /mnt/d/runs/FIA/Com8_grown_together/merged\n",
      "Path: /mnt/d/runs/FIA/Com20_repl/merged\n",
      "Path: /mnt/d/runs/FIA/20220620_P0003_S6-S22_FIA-TOF/merged\n",
      "Path: /mnt/d/runs/FIA/20220726_FIA-TOF_Ex0005_msAG24-msAg77/merged\n",
      "Path: /mnt/d/runs/FIA/20220817_P0008_S13-S96_FIA-TOF/merged\n",
      "Path: /mnt/d/runs/FIA/20221221_P0008_S97-S156_FIA-TOF/merged\n",
      "Path: /mnt/d/runs/FIA/20230307_P0017_S1-S15_FIA-TOF/merged\n",
      "Path: /mnt/d/runs/FIA/20230505_P0017_S16-S135_FI-TOF/merged\n",
      "Path: /mnt/d/runs/FIA/20230515_P0008_Plasma_Randomized/merged\n",
      "Path: /mnt/d/runs/FIA/20230515_P0008_Serum_Randomized/merged\n",
      "Path: /mnt/d/runs/FIA/20230516_P0008_Gewebe_Randomized/merged\n",
      "Path: /mnt/d/runs/FIA/20230629_P0018_S01-S12_FI-TOF/merged\n",
      "Path: /mnt/d/runs/FIA/20230822_P0031_S1-S66_FI-TOF/merged\n"
     ]
    }
   ],
   "source": [
    "binned_dfs = []\n",
    "for path in path_combs:\n",
    "    print(f\"Path: {path}\")\n",
    "    binned_df = pl.read_csv(os.path.join(path, \"data_matrix.tsv\"), separator=\"\\t\")\n",
    "    binned_dfs.append( binned_df )"
   ]
  },
  {
   "cell_type": "code",
   "execution_count": null,
   "metadata": {},
   "outputs": [],
   "source": []
  }
 ],
 "metadata": {
  "kernelspec": {
   "display_name": "VAE",
   "language": "python",
   "name": "python3"
  },
  "language_info": {
   "codemirror_mode": {
    "name": "ipython",
    "version": 3
   },
   "file_extension": ".py",
   "mimetype": "text/x-python",
   "name": "python",
   "nbconvert_exporter": "python",
   "pygments_lexer": "ipython3",
   "version": "3.11.8"
  }
 },
 "nbformat": 4,
 "nbformat_minor": 2
}
