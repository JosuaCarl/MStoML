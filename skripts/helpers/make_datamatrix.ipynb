{
 "cells": [
  {
   "cell_type": "code",
   "execution_count": 1,
   "metadata": {},
   "outputs": [],
   "source": [
    "import sys\n",
    "import itertools\n",
    "import shutil\n",
    "\n",
    "sys.path.append(\"..\")\n",
    "from FIA.FIA import *"
   ]
  },
  {
   "cell_type": "code",
   "execution_count": 4,
   "metadata": {},
   "outputs": [],
   "source": [
    "paths = {\"start\":   [\"/mnt/d/runs/FIA/\"],\n",
    "         \"sub\":     [\"all\"], #[\"Com8_equal_conc_comb\", \"Com8_grown_together\", \"Com20_repl\", \"Com20_single\", \"Com20_val\", \"Sampled_Coms\"],\n",
    "         \"subsub\":  [\"merged\"] }\n",
    "path_combs = [os.path.join(*path) for path in itertools.product(*paths.values())]"
   ]
  },
  {
   "cell_type": "code",
   "execution_count": 6,
   "metadata": {},
   "outputs": [
    {
     "name": "stdout",
     "output_type": "stream",
     "text": [
      "Path: /mnt/d/runs/FIA/all/merged\n",
      "Loading names:\n"
     ]
    },
    {
     "name": "stderr",
     "output_type": "stream",
     "text": [
      "100%|██████████| 847/847 [00:00<00:00, 2699525.45it/s]\n"
     ]
    },
    {
     "name": "stdout",
     "output_type": "stream",
     "text": [
      "Loading experiments:\n"
     ]
    },
    {
     "name": "stderr",
     "output_type": "stream",
     "text": [
      "100%|██████████| 846/846 [02:08<00:00,  6.60it/s]\n",
      "100%|██████████| 846/846 [15:26<00:00,  1.10s/it]\n"
     ]
    }
   ],
   "source": [
    "batch_size = 100\n",
    "for path in path_combs:\n",
    "    print(f\"Path: {path}\")\n",
    "    \n",
    "    fia_df = load_fia_df(path, file_ending=\".mzML\", separator=\"\\t\", backend=pd)\n",
    "    binned_dfs = bin_df_stepwise_batch(fia_df, binning_var=\"mz\", binned_var=\"inty\", statistic=\"sum\", start=50.0, stop=1700.0, step=0.002, backend=pd)\n",
    "    binned_dfs.to_csv(os.path.join(path, \"data_matrix.tsv\"), sep=\"\\t\")"
   ]
  },
  {
   "cell_type": "code",
   "execution_count": 5,
   "metadata": {},
   "outputs": [],
   "source": [
    "def separate_pos_neg(path_combs):\n",
    "    \"\"\"\n",
    "    Put all files ending with \"pos\" in one directory and \"neg\" in another\n",
    "    \"\"\"\n",
    "    for path in path_combs:\n",
    "        for file in tqdm(os.listdir(path)):\n",
    "            if os.path.isfile(os.path.join(path, file)):\n",
    "                if file.endswith(\"pos.mzML\"):\n",
    "                    shutil.copy(os.path.join(path, file), os.path.join(path, \"pos\"))\n",
    "                elif file.endswith(\"neg.mzML\"):\n",
    "                    shutil.copy(os.path.join(path, file), os.path.join(path, \"neg\"))"
   ]
  }
 ],
 "metadata": {
  "kernelspec": {
   "display_name": "VAE",
   "language": "python",
   "name": "python3"
  },
  "language_info": {
   "codemirror_mode": {
    "name": "ipython",
    "version": 3
   },
   "file_extension": ".py",
   "mimetype": "text/x-python",
   "name": "python",
   "nbconvert_exporter": "python",
   "pygments_lexer": "ipython3",
   "version": "3.11.8"
  }
 },
 "nbformat": 4,
 "nbformat_minor": 2
}
