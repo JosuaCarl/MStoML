{
 "cells": [
  {
   "cell_type": "code",
   "execution_count": 1,
   "metadata": {},
   "outputs": [
    {
     "name": "stdout",
     "output_type": "stream",
     "text": [
      "Warning: OPENMS_DATA_PATH environment variable already exists. pyOpenMS will use it (C:\\Program Files\\OpenMS-3.1.0\\share\\OpenMS) to locate data in the OpenMS share folder (e.g., the unimod database), instead of the default (c:\\Users\\JosuaCarl\\miniconda3\\envs\\gemml\\Lib\\site-packages\\pyopenms\\share/OpenMS).\n"
     ]
    }
   ],
   "source": [
    "# Imports\n",
    "import os\n",
    "\n",
    "# import methods from FIA python script\n",
    "from FIA import *\n",
    "\n",
    "oms.LogConfigHandler().setLogLevel(\"DEBUG\")"
   ]
  },
  {
   "cell_type": "markdown",
   "metadata": {},
   "source": [
    "## Loading"
   ]
  },
  {
   "cell_type": "code",
   "execution_count": 2,
   "metadata": {},
   "outputs": [],
   "source": [
    "# set path to your mzML files and workfolder\n",
    "data_dir = \"../../data/example data/exampleA_ecolistrains\"\n",
    "run_dir = \"../../runs/fia_explorer\"\n",
    "\n",
    "data_dir = os.path.normpath(os.path.join(os.getcwd(), data_dir))\n",
    "run_dir = os.path.normpath(os.path.join(os.getcwd(), run_dir))\n",
    "\n",
    "# clean_dir(run_dir)"
   ]
  },
  {
   "cell_type": "code",
   "execution_count": 3,
   "metadata": {},
   "outputs": [
    {
     "name": "stdout",
     "output_type": "stream",
     "text": [
      "Loading experiments:\n"
     ]
    },
    {
     "name": "stderr",
     "output_type": "stream",
     "text": [
      "100%|██████████| 6/6 [00:09<00:00,  1.53s/it]\n"
     ]
    },
    {
     "name": "stdout",
     "output_type": "stream",
     "text": [
      "Loading names:\n"
     ]
    },
    {
     "name": "stderr",
     "output_type": "stream",
     "text": [
      "100%|██████████| 6/6 [00:00<?, ?it/s]\n"
     ]
    }
   ],
   "source": [
    "fia_df = load_fia_df(data_dir, \".mzXML\")"
   ]
  },
  {
   "cell_type": "markdown",
   "metadata": {},
   "source": [
    "## Initial Centroiding"
   ]
  },
  {
   "cell_type": "code",
   "execution_count": 4,
   "metadata": {},
   "outputs": [
    {
     "data": {
      "text/plain": [
       "'\\nfia_df[\"cent_experiment\"] = fia_df[\"experiment\"].apply(lambda experiment: centroid_experiment(experiment, instrument=\"Orbitrap\",                                      # For All\\n                                                                                                signal_to_noise=1.0, spacing_difference=1.5,                        \\n                                                                                                spacing_difference_gap=4.0, missing=1, ms_levels=[1],                   # For Orbitrap\\n                                                                                                report_FWHM=\"true\", report_FWHM_unit=\"relative\", max_intensity=-1,\\n                                                                                                auto_max_stdev_factor=3.0, auto_max_percentile=95, auto_mode=0,\\n                                                                                                win_len=200.0, bin_count=30, min_required_elements=10, \\n                                                                                                noise_for_empty_window=1e+20, write_log_messages=\"true\",            \\n                                                                                                peak_width=0.0, sn_bin_count=30, nr_iterations=5, sn_win_len=20.0,      # For TOF\\n                                                                                                check_width_internally=\"false\", ms1_only=\"true\", clear_meta_data=\"false\",\\n                                                                                                deepcopy=False))\\n'"
      ]
     },
     "execution_count": 4,
     "metadata": {},
     "output_type": "execute_result"
    }
   ],
   "source": [
    "\"\"\"\n",
    "fia_df[\"cent_experiment\"] = fia_df[\"experiment\"].apply(lambda experiment: centroid_experiment(experiment, instrument=\"Orbitrap\",                                      # For All\n",
    "                                                                                                signal_to_noise=1.0, spacing_difference=1.5,                        \n",
    "                                                                                                spacing_difference_gap=4.0, missing=1, ms_levels=[1],                   # For Orbitrap\n",
    "                                                                                                report_FWHM=\"true\", report_FWHM_unit=\"relative\", max_intensity=-1,\n",
    "                                                                                                auto_max_stdev_factor=3.0, auto_max_percentile=95, auto_mode=0,\n",
    "                                                                                                win_len=200.0, bin_count=30, min_required_elements=10, \n",
    "                                                                                                noise_for_empty_window=1e+20, write_log_messages=\"true\",            \n",
    "                                                                                                peak_width=0.0, sn_bin_count=30, nr_iterations=5, sn_win_len=20.0,      # For TOF\n",
    "                                                                                                check_width_internally=\"false\", ms1_only=\"true\", clear_meta_data=\"false\",\n",
    "                                                                                                deepcopy=False))\n",
    "\"\"\"\n",
    "# centroid_dir = os.path.join(run_dir, \"centroids\")"
   ]
  },
  {
   "cell_type": "markdown",
   "metadata": {},
   "source": [
    "## Data pruning & binning"
   ]
  },
  {
   "cell_type": "code",
   "execution_count": 5,
   "metadata": {},
   "outputs": [],
   "source": [
    "# Computes mean, media or sum of binned peaks (median needs ~2* more time)\n",
    "fia_df[\"sum_experiment\"] = fia_df[\"experiment\"].apply(lambda experiment: limit_experiment(experiment, 51, 1699, 2*10**6, statistic=\"sum\", deepcopy=True))"
   ]
  },
  {
   "cell_type": "markdown",
   "metadata": {},
   "source": [
    "## Combining "
   ]
  },
  {
   "cell_type": "code",
   "execution_count": 6,
   "metadata": {},
   "outputs": [],
   "source": [
    "# merge_dir = merge_batch(centroid_dir, run_dir, block_size=None, mz_binning_width=5.0, mz_binning_width_unit=\"ppm\", average_gaussian_cutoff=0.01, file_ending=\".mzML\")\n",
    "# merge_dir = os.path.join(run_dir, \"merged\")"
   ]
  },
  {
   "cell_type": "code",
   "execution_count": 7,
   "metadata": {},
   "outputs": [],
   "source": [
    "fia_df[\"comb_spectrum\"] = fia_df[\"sum_experiment\"].apply(lambda experiment: combine_spectra(experiment)) # type: ignore"
   ]
  },
  {
   "cell_type": "code",
   "execution_count": 8,
   "metadata": {},
   "outputs": [
    {
     "data": {
      "text/html": [
       "<div>\n",
       "<style scoped>\n",
       "    .dataframe tbody tr th:only-of-type {\n",
       "        vertical-align: middle;\n",
       "    }\n",
       "\n",
       "    .dataframe tbody tr th {\n",
       "        vertical-align: top;\n",
       "    }\n",
       "\n",
       "    .dataframe thead th {\n",
       "        text-align: right;\n",
       "    }\n",
       "</style>\n",
       "<table border=\"1\" class=\"dataframe\">\n",
       "  <thead>\n",
       "    <tr style=\"text-align: right;\">\n",
       "      <th></th>\n",
       "      <th>mz</th>\n",
       "      <th>intensity</th>\n",
       "    </tr>\n",
       "  </thead>\n",
       "  <tbody>\n",
       "    <tr>\n",
       "      <th>0</th>\n",
       "      <td>51.000412</td>\n",
       "      <td>3082.0</td>\n",
       "    </tr>\n",
       "    <tr>\n",
       "      <th>1</th>\n",
       "      <td>51.001236</td>\n",
       "      <td>3840.0</td>\n",
       "    </tr>\n",
       "    <tr>\n",
       "      <th>2</th>\n",
       "      <td>51.002060</td>\n",
       "      <td>4243.0</td>\n",
       "    </tr>\n",
       "    <tr>\n",
       "      <th>3</th>\n",
       "      <td>51.002884</td>\n",
       "      <td>3719.0</td>\n",
       "    </tr>\n",
       "    <tr>\n",
       "      <th>4</th>\n",
       "      <td>51.003708</td>\n",
       "      <td>4018.0</td>\n",
       "    </tr>\n",
       "    <tr>\n",
       "      <th>...</th>\n",
       "      <td>...</td>\n",
       "      <td>...</td>\n",
       "    </tr>\n",
       "    <tr>\n",
       "      <th>1999995</th>\n",
       "      <td>1698.996292</td>\n",
       "      <td>882.0</td>\n",
       "    </tr>\n",
       "    <tr>\n",
       "      <th>1999996</th>\n",
       "      <td>1698.997116</td>\n",
       "      <td>4873.0</td>\n",
       "    </tr>\n",
       "    <tr>\n",
       "      <th>1999997</th>\n",
       "      <td>1698.997940</td>\n",
       "      <td>1555.0</td>\n",
       "    </tr>\n",
       "    <tr>\n",
       "      <th>1999998</th>\n",
       "      <td>1698.998764</td>\n",
       "      <td>1955.0</td>\n",
       "    </tr>\n",
       "    <tr>\n",
       "      <th>1999999</th>\n",
       "      <td>1698.999588</td>\n",
       "      <td>2783.0</td>\n",
       "    </tr>\n",
       "  </tbody>\n",
       "</table>\n",
       "<p>2000000 rows × 2 columns</p>\n",
       "</div>"
      ],
      "text/plain": [
       "                  mz  intensity\n",
       "0          51.000412     3082.0\n",
       "1          51.001236     3840.0\n",
       "2          51.002060     4243.0\n",
       "3          51.002884     3719.0\n",
       "4          51.003708     4018.0\n",
       "...              ...        ...\n",
       "1999995  1698.996292      882.0\n",
       "1999996  1698.997116     4873.0\n",
       "1999997  1698.997940     1555.0\n",
       "1999998  1698.998764     1955.0\n",
       "1999999  1698.999588     2783.0\n",
       "\n",
       "[2000000 rows x 2 columns]"
      ]
     },
     "execution_count": 8,
     "metadata": {},
     "output_type": "execute_result"
    }
   ],
   "source": [
    "s = fia_df[\"comb_spectrum\"][0]\n",
    "pd.DataFrame(np.array(s.get_peaks()).transpose(), columns=[\"mz\", \"intensity\"])"
   ]
  },
  {
   "cell_type": "code",
   "execution_count": 9,
   "metadata": {},
   "outputs": [
    {
     "data": {
      "image/png": "[encoded data removed]",
      "text/plain": [
       "<Figure size 640x480 with 1 Axes>"
      ]
     },
     "metadata": {},
     "output_type": "display_data"
    }
   ],
   "source": [
    "quick_plot(fia_df[\"comb_spectrum\"][0], xlim=[50,100], ylim=[-1, 10000000], plottype=\"line\")"
   ]
  },
  {
   "cell_type": "markdown",
   "metadata": {},
   "source": [
    "## Clustering"
   ]
  },
  {
   "cell_type": "code",
   "execution_count": 10,
   "metadata": {},
   "outputs": [
    {
     "data": {
      "text/plain": [
       "array([[  51.000412, 3082.      ],\n",
       "       [  51.001236, 3840.      ],\n",
       "       [  51.00206 , 4243.      ],\n",
       "       ...,\n",
       "       [1698.99794 , 1555.      ],\n",
       "       [1698.998764, 1955.      ],\n",
       "       [1698.999588, 2783.      ]])"
      ]
     },
     "execution_count": 10,
     "metadata": {},
     "output_type": "execute_result"
    }
   ],
   "source": [
    "np.stack(fia_df[\"comb_spectrum\"][0].get_peaks(), axis=-1)"
   ]
  },
  {
   "cell_type": "code",
   "execution_count": 11,
   "metadata": {},
   "outputs": [],
   "source": [
    "from sklearn.cluster import *"
   ]
  },
  {
   "cell_type": "code",
   "execution_count": 12,
   "metadata": {},
   "outputs": [
    {
     "name": "stderr",
     "output_type": "stream",
     "text": [
      "c:\\Users\\JosuaCarl\\miniconda3\\envs\\gemml\\Lib\\site-packages\\sklearn\\manifold\\_spectral_embedding.py:285: UserWarning: Graph is not fully connected, spectral embedding may not work as expected.\n",
      "  warnings.warn(\n",
      "c:\\Users\\JosuaCarl\\miniconda3\\envs\\gemml\\Lib\\site-packages\\sklearn\\manifold\\_spectral_embedding.py:411: UserWarning: Exited at iteration 854 with accuracies \n",
      "[1.84160305e-07 1.56172943e-07 1.62416687e-07 1.55450887e-07\n",
      " 1.39098387e-07 1.39881977e-07 1.79596891e-07 1.52571762e-07\n",
      " 1.47517382e-07 2.12371571e-07 2.45569328e-07 2.81271154e-07\n",
      " 2.18647444e-07 2.94085902e-07 3.15110610e-07 4.94767106e-07\n",
      " 4.18025607e-07 3.57586935e-07 6.58781670e-07 8.92655970e-07\n",
      " 4.08826088e-07 7.10566446e-07 3.81532614e-07 7.26470636e-07\n",
      " 6.15836777e-07 6.55429301e-07 5.62864121e-07 9.90829111e-07\n",
      " 1.12524584e-06 1.29187430e-06 1.37206139e-06 8.91568067e-07\n",
      " 1.25638488e-06 5.18160389e-07 2.02897415e-06 8.79500791e-07\n",
      " 8.65444671e-07 3.34961584e-06 1.63548382e-06 1.98481612e-06\n",
      " 1.52166416e-06 1.96033996e-06 2.05623865e-06 2.69382219e-06\n",
      " 2.47035555e-06 6.30039288e-06 8.14573385e-06 1.71874031e-06\n",
      " 2.99324054e-06 2.69196060e-06 3.65707515e-06 2.62686740e-06\n",
      " 3.02183139e-06 3.07887998e-06 8.09035980e-06 6.02077887e-06\n",
      " 6.69275903e-06 6.88705468e-06 8.07912967e-06 8.63663376e-06\n",
      " 9.47664682e-06 6.41049111e-06 5.71711588e-06 6.56562582e-06\n",
      " 7.98493153e-06 8.39448494e-06 6.86378203e-06 6.52584863e-06\n",
      " 7.93112705e-06 7.64998212e-06 3.04928996e-06 8.09045522e-06\n",
      " 6.90007754e-06 5.87254064e-06 4.63794784e-06 5.30486026e-06\n",
      " 7.70935441e-06 6.96765628e-06 4.70160351e-06 8.42834125e-06\n",
      " 7.77797021e-06 6.21432312e-06 6.20638121e-06 7.18236398e-06\n",
      " 4.91833668e-06 8.58015333e-06 5.30549877e-06 6.66704722e-06\n",
      " 7.07116061e-06 5.24477568e-06 5.92950722e-06 1.05753925e-05\n",
      " 5.13754026e-06 6.52393825e-06 1.08915163e-05 5.71642585e-06\n",
      " 4.40817393e-06 5.72539852e-06 1.35253515e-05 1.47617824e-05\n",
      " 1.51138710e-05]\n",
      "not reaching the requested tolerance 1.4901161193847656e-05.\n",
      "Use iteration 824 instead with accuracy \n",
      "4.094926852510755e-06.\n",
      "\n",
      "  _, diffusion_map = lobpcg(\n",
      "c:\\Users\\JosuaCarl\\miniconda3\\envs\\gemml\\Lib\\site-packages\\sklearn\\manifold\\_spectral_embedding.py:411: UserWarning: Exited postprocessing with accuracies \n",
      "[1.55557923e-10 7.70604104e-08 9.72361422e-08 1.12810438e-07\n",
      " 1.33053124e-07 1.41625743e-07 1.44949997e-07 1.64620224e-07\n",
      " 1.85044565e-07 1.97403711e-07 2.05977074e-07 1.75835617e-07\n",
      " 3.32648722e-07 3.28879229e-07 4.27134676e-07 3.90361670e-07\n",
      " 4.49403644e-07 3.88380712e-07 6.23275209e-07 9.21589933e-07\n",
      " 6.77036607e-07 3.85088557e-07 3.62443180e-07 6.07572734e-07\n",
      " 7.66975555e-07 5.77070417e-07 6.55288561e-07 9.57088877e-07\n",
      " 1.08198296e-06 1.42087947e-06 1.19776418e-06 9.61427413e-07\n",
      " 1.24125645e-06 6.19347054e-07 2.06480207e-06 8.25054125e-07\n",
      " 8.89596250e-07 3.34222769e-06 1.62504037e-06 1.98047164e-06\n",
      " 1.51553718e-06 1.83325050e-06 2.14527014e-06 2.66912159e-06\n",
      " 2.73831782e-06 6.19968205e-06 8.17037562e-06 1.67960849e-06\n",
      " 3.00067085e-06 2.70641006e-06 3.65709623e-06 2.62051638e-06\n",
      " 3.02541027e-06 3.04949309e-06 8.08789833e-06 6.05649838e-06\n",
      " 6.58071761e-06 5.75855477e-06 8.74321033e-06 8.68527637e-06\n",
      " 9.47498669e-06 6.34174799e-06 6.23158070e-06 5.52256063e-06\n",
      " 8.57048997e-06 8.37309734e-06 6.76192015e-06 6.52881840e-06\n",
      " 8.03189911e-06 7.66297568e-06 3.06662195e-06 8.27023244e-06\n",
      " 6.78635679e-06 5.82921303e-06 4.59394892e-06 5.30067894e-06\n",
      " 7.68372816e-06 6.78156167e-06 4.72722083e-06 8.25531195e-06\n",
      " 8.82908006e-06 6.90334296e-06 6.34962479e-06 6.82502863e-06\n",
      " 4.83465371e-06 9.10289152e-06 4.89414731e-06 6.70511066e-06\n",
      " 6.97466070e-06 4.78191978e-06 5.89680662e-06 1.09700785e-05\n",
      " 5.16056831e-06 5.45682635e-06 9.97949809e-06 5.47748429e-06\n",
      " 4.42210430e-06 5.50078895e-06 1.30679855e-05 1.53099259e-05\n",
      " 1.43889236e-05]\n",
      "not reaching the requested tolerance 1.4901161193847656e-05.\n",
      "  _, diffusion_map = lobpcg(\n"
     ]
    }
   ],
   "source": [
    "sc = SpectralClustering(n_clusters=100, eigen_solver=\"amg\", n_components=None, random_state=None, n_init=10, gamma=1.0,\n",
    "                        affinity='rbf', n_neighbors=10, eigen_tol='auto', assign_labels='cluster_qr', degree=3, coef0=1, \n",
    "                        kernel_params=None, n_jobs=None, verbose=False)\n",
    "cluster = sc.fit(np.stack(fia_df[\"comb_spectrum\"][0].get_peaks(), axis=-1)[0:1000])"
   ]
  },
  {
   "cell_type": "code",
   "execution_count": 13,
   "metadata": {},
   "outputs": [
    {
     "data": {
      "text/plain": [
       "array([15, 42, 88, 64, 36, 43, 58, 78, 59, 43,  7, 11, 50,  2,  2, 46, 65,\n",
       "       60,  3, 64,  4, 31, 48, 24, 57, 74,  4,  6,  9,  3,  9,  3, 10, 16,\n",
       "       92,  8,  6,  0, 90, 64, 97, 91, 61, 70, 33, 96, 83, 45, 32, 35,  3,\n",
       "       83, 64, 87, 74, 90, 90, 96, 37, 68,  0, 77, 63, 77, 90, 73, 39, 47,\n",
       "       22, 14, 32, 74, 58,  3, 10,  6, 61, 56, 56,  1, 81, 40, 70,  2, 65,\n",
       "       78, 93, 44, 36,  9, 67, 88, 83, 31, 49,  2, 36, 91, 78,  3, 46, 80,\n",
       "       48, 52, 61, 35, 42, 68, 18, 83, 69, 92, 61, 24, 88, 67, 81, 31, 10,\n",
       "       65, 98,  6,  7, 60, 98,  7, 34, 87, 58, 74, 82,  2, 77, 61, 20,  1,\n",
       "       33,  5, 61, 89,  6, 90,  4, 77, 92, 71, 78, 92, 66, 18, 96,  6, 77,\n",
       "       85, 39, 54, 30, 91,  9, 39, 83, 19, 44, 97, 71, 92, 51, 82, 26, 82,\n",
       "       66, 65, 13, 90, 61, 93, 58, 71, 59,  9, 35, 97, 46, 39, 98, 90, 10,\n",
       "       63,  1, 30, 20, 42, 98, 44, 49, 59, 37, 34, 60, 87, 51, 37, 53, 39,\n",
       "       68, 58, 30, 33, 18, 44, 68, 66, 73, 60,  0, 34, 84, 39, 35, 49, 95,\n",
       "       34,  1, 56, 71, 59, 40, 74, 91, 20, 46, 88, 60, 53, 65, 99,  9, 18,\n",
       "       93, 31, 60, 47, 50, 90,  2, 64, 22,  2, 56,  7, 73, 10, 39, 92, 11,\n",
       "        0, 92, 49, 77,  8, 92, 83, 18,  2, 35, 23, 47, 88, 64, 90, 54,  3,\n",
       "       48, 42, 94, 13, 74, 42, 30, 26, 91, 71, 64, 92,  9, 43, 60,  6,  5,\n",
       "       64, 62, 66,  1, 46,  3, 92, 41, 83, 24, 60, 58, 48, 19, 90, 11, 59,\n",
       "       61, 59, 18, 69, 81, 42,  6, 60, 18,  9, 81, 15, 18, 99, 98, 47, 66,\n",
       "       44, 64,  6, 96, 33, 34, 61, 96, 19, 61, 91, 60, 92, 77, 60, 87, 88,\n",
       "        2, 17,  2, 60, 97, 10, 71, 81, 97, 60, 92, 22, 83, 31, 95, 60, 51,\n",
       "       61,  7, 98,  7, 80, 93, 34, 81, 33, 49, 92, 43, 35, 97, 92, 10, 36,\n",
       "       37, 76, 91, 97,  0,  3, 90, 62,  2,  1, 34, 56, 73,  2, 97, 51, 50,\n",
       "        5, 32, 15, 31, 37, 81, 59, 15, 31,  9, 80, 70, 73, 20, 16,  9,  3,\n",
       "       93,  7, 81, 76,  6, 91, 92,  8, 64,  6,  0, 66, 53, 91, 71, 37, 97,\n",
       "       90, 46, 32, 35,  2, 33,  0,  7,  3, 40, 23, 58, 13, 10, 67, 61, 43,\n",
       "       95, 57,  0, 91,  2, 23,  0, 54, 49, 90, 34,  1, 80,  9, 90,  0, 93,\n",
       "       25, 59, 30, 61, 60, 81, 23, 65, 60, 18, 39, 92, 97,  2, 73, 44, 47,\n",
       "        4, 98, 56, 92, 64,  9, 88, 31, 20, 28, 30,  7,  3, 64, 90, 43, 24,\n",
       "       35, 99,  0, 33, 84,  0,  7, 87, 16,  1, 44, 93, 66, 81,  6, 84, 15,\n",
       "        1, 83, 46, 58, 88, 65,  3, 77, 18,  7, 71, 18, 38, 87, 97, 80, 46,\n",
       "       63, 97,  3, 77,  9, 80, 56, 99,  9, 93, 66, 18, 64, 66, 82, 99, 20,\n",
       "       98, 88, 11, 48, 38,  1, 84, 99,  6,  0, 33, 52, 85, 53, 43, 11, 74,\n",
       "        6,  6, 90,  6, 81, 87,  2, 48, 48,  0, 34, 99,  1, 47,  3, 87, 96,\n",
       "       71, 48, 11, 48, 12, 22, 11,  3, 12, 34, 33, 41, 66, 80, 49, 99,  3,\n",
       "       70, 10, 74,  7, 40, 66, 76, 10,  9, 92, 41, 47, 88, 11, 66, 88, 10,\n",
       "       18, 60, 70, 84, 96, 88, 71,  0, 81, 16, 67, 74, 71,  1,  7, 88, 65,\n",
       "       31, 63,  2,  2, 66, 32,  6, 80,  6, 59, 12, 36, 59, 92, 35,  7, 65,\n",
       "        0, 67, 81, 58, 80, 64, 18,  4, 71, 93,  8, 61,  3, 23,  3, 90,  9,\n",
       "       26,  0, 97, 84, 33, 36, 53, 56, 97, 92, 88,  6,  2, 37,  2, 51, 90,\n",
       "       87, 91, 34, 64, 37, 73,  4,  5, 65,  3, 59, 48, 35, 85, 82, 87, 98,\n",
       "       56,  3, 23,  0, 92,  8, 73, 33, 73,  9, 88, 46, 60, 91,  2, 23,  0,\n",
       "       31, 20,  6, 23, 23, 25, 77, 41, 92, 34, 70, 51, 43,  1,  1, 92, 64,\n",
       "       22, 46, 24, 60, 37, 49, 91, 88, 87, 52, 43, 11, 73,  1,  9, 22, 82,\n",
       "        0, 49, 24, 88, 36, 23, 91,  2, 95,  2, 71, 91, 66,  3, 74, 88, 88,\n",
       "        1, 62, 11, 61,  6, 65, 42,  0,  6, 52, 46, 91, 32, 46, 98, 53, 12,\n",
       "       11, 31, 23,  5, 13, 89, 37, 48, 81, 12, 60, 39, 88, 65, 88, 13, 17,\n",
       "        9, 82, 53, 60, 23, 96, 93, 10, 91, 85, 15, 18, 88, 55,  6, 71, 94,\n",
       "       56,  9, 31, 85, 81, 46, 11, 93, 49, 31, 42, 68, 56, 70, 89, 26, 91,\n",
       "       39, 20,  0,  1,  4, 57, 89, 23, 32, 76, 60, 34,  8, 88, 77, 52, 60,\n",
       "       61,  6, 97, 38, 71, 53, 92,  9, 82, 87, 31, 65, 88, 33, 88, 92,  0,\n",
       "       23, 10, 92,  2, 23, 64, 64, 36, 18, 99, 10, 33, 57,  0, 37, 77, 22,\n",
       "       34, 33, 68, 94, 60, 23,  6, 11, 64, 65,  3, 19, 26, 41, 56, 34, 81,\n",
       "        2, 60, 92, 30, 49, 88, 10, 55, 22, 82, 39, 97, 81, 96, 49, 91, 62,\n",
       "       31, 32, 14,  7, 94, 81, 10,  0,  6, 96, 94, 97,  9, 92, 45, 87,  7,\n",
       "       66, 23, 93, 59, 40, 71, 37,  0, 25, 58, 64, 13, 95, 26, 95, 87, 18,\n",
       "        0, 56, 10, 64,  3, 88, 64,  6, 74, 61,  9, 80, 76, 11, 71,  9, 65,\n",
       "        7, 71, 18, 97, 59, 57, 62, 39, 56, 53, 92,  6, 90,  0,  0,  1, 80,\n",
       "       40, 35, 90, 71, 96, 10, 92, 78, 42, 18, 68, 80, 74, 33],\n",
       "      dtype=int64)"
      ]
     },
     "execution_count": 13,
     "metadata": {},
     "output_type": "execute_result"
    }
   ],
   "source": [
    "cluster.labels_"
   ]
  },
  {
   "cell_type": "code",
   "execution_count": 14,
   "metadata": {},
   "outputs": [
    {
     "data": {
      "text/plain": [
       "<Axes: >"
      ]
     },
     "execution_count": 14,
     "metadata": {},
     "output_type": "execute_result"
    },
    {
     "data": {
      "image/png": "[encoded data removed]",
      "text/plain": [
       "<Figure size 640x480 with 1 Axes>"
      ]
     },
     "metadata": {},
     "output_type": "display_data"
    }
   ],
   "source": [
    "sns.lineplot(x=fia_df[\"comb_spectrum\"][0].get_peaks()[0][0:1000], y=fia_df[\"comb_spectrum\"][0].get_peaks()[1][0:1000], hue=cluster.labels_, sizes=(40, 40))"
   ]
  },
  {
   "cell_type": "code",
   "execution_count": 15,
   "metadata": {},
   "outputs": [],
   "source": [
    "## Itertools\n",
    "from itertools import combinations"
   ]
  },
  {
   "cell_type": "code",
   "execution_count": 16,
   "metadata": {},
   "outputs": [],
   "source": [
    "from scipy.spatial.distance import pdist\n",
    "from scipy.cluster.hierarchy import single, fcluster, complete, complete, dendrogram"
   ]
  },
  {
   "cell_type": "code",
   "execution_count": 17,
   "metadata": {},
   "outputs": [
    {
     "data": {
      "text/plain": [
       "array([0., 0., 0., 0., 0., 0.])"
      ]
     },
     "execution_count": 17,
     "metadata": {},
     "output_type": "execute_result"
    }
   ],
   "source": [
    "a = [1,2,3]\n",
    "b = [1,2,6]\n",
    "c = [10,11,12]\n",
    "d = [10, 20, 30]\n",
    "pdist([ [1, 10],  [11, 100], [2, 10], [2, 11]], metric=\"correlation\")"
   ]
  },
  {
   "cell_type": "code",
   "execution_count": 18,
   "metadata": {},
   "outputs": [
    {
     "data": {
      "text/plain": [
       "array([  51.000412,   51.001236,   51.00206 , ..., 1698.99794 ,\n",
       "       1698.998764, 1698.999588])"
      ]
     },
     "execution_count": 18,
     "metadata": {},
     "output_type": "execute_result"
    }
   ],
   "source": [
    "mzs, intensities = fia_df[\"comb_spectrum\"][0].get_peaks()\n",
    "mzs"
   ]
  },
  {
   "cell_type": "code",
   "execution_count": 19,
   "metadata": {},
   "outputs": [
    {
     "ename": "ValueError",
     "evalue": "A 2-dimensional array must be passed.",
     "output_type": "error",
     "traceback": [
      "\u001b[1;31m---------------------------------------------------------------------------\u001b[0m",
      "\u001b[1;31mValueError\u001b[0m                                Traceback (most recent call last)",
      "Cell \u001b[1;32mIn[19], line 1\u001b[0m\n\u001b[1;32m----> 1\u001b[0m distances \u001b[38;5;241m=\u001b[39m \u001b[43mpdist\u001b[49m\u001b[43m(\u001b[49m\u001b[43mmzs\u001b[49m\u001b[43m,\u001b[49m\u001b[43m \u001b[49m\u001b[43mmetric\u001b[49m\u001b[38;5;241;43m=\u001b[39;49m\u001b[38;5;124;43m\"\u001b[39;49m\u001b[38;5;124;43meuclidean\u001b[39;49m\u001b[38;5;124;43m\"\u001b[39;49m\u001b[43m)\u001b[49m \u001b[38;5;241m*\u001b[39m pdist(intensities, metric\u001b[38;5;241m=\u001b[39m\u001b[38;5;124m\"\u001b[39m\u001b[38;5;124mcorrelation\u001b[39m\u001b[38;5;124m\"\u001b[39m)\n",
      "File \u001b[1;32mc:\\Users\\JosuaCarl\\miniconda3\\envs\\gemml\\Lib\\site-packages\\scipy\\spatial\\distance.py:2213\u001b[0m, in \u001b[0;36mpdist\u001b[1;34m(X, metric, out, **kwargs)\u001b[0m\n\u001b[0;32m   2211\u001b[0m s \u001b[38;5;241m=\u001b[39m X\u001b[38;5;241m.\u001b[39mshape\n\u001b[0;32m   2212\u001b[0m \u001b[38;5;28;01mif\u001b[39;00m \u001b[38;5;28mlen\u001b[39m(s) \u001b[38;5;241m!=\u001b[39m \u001b[38;5;241m2\u001b[39m:\n\u001b[1;32m-> 2213\u001b[0m     \u001b[38;5;28;01mraise\u001b[39;00m \u001b[38;5;167;01mValueError\u001b[39;00m(\u001b[38;5;124m'\u001b[39m\u001b[38;5;124mA 2-dimensional array must be passed.\u001b[39m\u001b[38;5;124m'\u001b[39m)\n\u001b[0;32m   2215\u001b[0m m, n \u001b[38;5;241m=\u001b[39m s\n\u001b[0;32m   2217\u001b[0m \u001b[38;5;28;01mif\u001b[39;00m \u001b[38;5;28mcallable\u001b[39m(metric):\n",
      "\u001b[1;31mValueError\u001b[0m: A 2-dimensional array must be passed."
     ]
    }
   ],
   "source": [
    "distances = pdist(mzs, metric=\"euclidean\") * pdist(intensities, metric=\"correlation\")"
   ]
  },
  {
   "cell_type": "code",
   "execution_count": null,
   "metadata": {},
   "outputs": [],
   "source": [
    "cluster = complete(distances)"
   ]
  },
  {
   "cell_type": "code",
   "execution_count": null,
   "metadata": {},
   "outputs": [
    {
     "data": {
      "text/plain": [
       "{'icoord': [[25.0, 25.0, 35.0, 35.0],\n",
       "  [15.0, 15.0, 30.0, 30.0],\n",
       "  [5.0, 5.0, 22.5, 22.5]],\n",
       " 'dcoord': [[0.0, 0.0, 0.0, 0.0],\n",
       "  [0.0, 0.0, 0.0, 0.0],\n",
       "  [0.0, 0.6026402928804868, 0.6026402928804868, 0.0]],\n",
       " 'ivl': ['1', '3', '0', '2'],\n",
       " 'leaves': [1, 3, 0, 2],\n",
       " 'color_list': ['C1', 'C1', 'C0'],\n",
       " 'leaves_color_list': ['C0', 'C1', 'C1', 'C1']}"
      ]
     },
     "execution_count": 90,
     "metadata": {},
     "output_type": "execute_result"
    },
    {
     "data": {
      "image/png": "[encoded data removed]",
      "text/plain": [
       "<Figure size 640x480 with 1 Axes>"
      ]
     },
     "metadata": {},
     "output_type": "display_data"
    }
   ],
   "source": [
    "dendrogram(cluster)"
   ]
  },
  {
   "cell_type": "code",
   "execution_count": null,
   "metadata": {},
   "outputs": [
    {
     "data": {
      "text/plain": [
       "array([1, 2, 1, 1], dtype=int32)"
      ]
     },
     "execution_count": 89,
     "metadata": {},
     "output_type": "execute_result"
    }
   ],
   "source": [
    "fcluster(cluster, 0.5, criterion=\"distance\")"
   ]
  },
  {
   "cell_type": "markdown",
   "metadata": {},
   "source": [
    "#### Summing intensities"
   ]
  },
  {
   "cell_type": "code",
   "execution_count": null,
   "metadata": {},
   "outputs": [
    {
     "data": {
      "text/plain": [
       "array([ 61.,   0.,   0.,   0.,  58.,   0.,   0.,   3.,   0.,   0.,   0.,\n",
       "         3.,   0.,   0.,   0.,   3.,   0.,   0.,   0.,   3.,   0.,   0.,\n",
       "         0.,   3.,   0.,   0.,   0.,  49.,   0.,   0.,   0.,  52.,   0.,\n",
       "         0.,   0.,  42.,   0.,   0.,   0., 263.,   0.,   0.,   0., 269.,\n",
       "         0.,   0., 238.,   0.,   0.,   0.], dtype=float32)"
      ]
     },
     "execution_count": 7,
     "metadata": {},
     "output_type": "execute_result"
    }
   ],
   "source": [
    "exp = fia_df.loc[0, \"lim_experiment\"]\n",
    "exp.getSpectra()[0].get_peaks()[1][-50:]"
   ]
  },
  {
   "cell_type": "code",
   "execution_count": null,
   "metadata": {},
   "outputs": [
    {
     "data": {
      "text/plain": [
       "array([ 1,  7, 12, 12, 23, 78, 78, 78, 78, 78, 78], dtype=int64)"
      ]
     },
     "execution_count": 8,
     "metadata": {},
     "output_type": "execute_result"
    }
   ],
   "source": [
    "bins = np.linspace(1, 10, 100)\n",
    "np.digitize(np.array([1,1.6,2,2,3,8,8,8,8,8,8]), bins)"
   ]
  },
  {
   "cell_type": "code",
   "execution_count": null,
   "metadata": {},
   "outputs": [],
   "source": []
  },
  {
   "cell_type": "code",
   "execution_count": null,
   "metadata": {},
   "outputs": [
    {
     "data": {
      "text/html": [
       "<div>\n",
       "<style scoped>\n",
       "    .dataframe tbody tr th:only-of-type {\n",
       "        vertical-align: middle;\n",
       "    }\n",
       "\n",
       "    .dataframe tbody tr th {\n",
       "        vertical-align: top;\n",
       "    }\n",
       "\n",
       "    .dataframe thead th {\n",
       "        text-align: right;\n",
       "    }\n",
       "</style>\n",
       "<table border=\"1\" class=\"dataframe\">\n",
       "  <thead>\n",
       "    <tr style=\"text-align: right;\">\n",
       "      <th></th>\n",
       "      <th>sample</th>\n",
       "      <th>polarity</th>\n",
       "      <th>experiment</th>\n",
       "      <th>lim_experiment</th>\n",
       "    </tr>\n",
       "  </thead>\n",
       "  <tbody>\n",
       "    <tr>\n",
       "      <th>0</th>\n",
       "      <td>mg1655</td>\n",
       "      <td>-1</td>\n",
       "      <td>&lt;pyopenms._dataframes._MSExperimentDF object a...</td>\n",
       "      <td>&lt;pyopenms._pyopenms_5.MSExperiment object at 0...</td>\n",
       "    </tr>\n",
       "    <tr>\n",
       "      <th>1</th>\n",
       "      <td>mg1655</td>\n",
       "      <td>1</td>\n",
       "      <td>&lt;pyopenms._dataframes._MSExperimentDF object a...</td>\n",
       "      <td>&lt;pyopenms._pyopenms_5.MSExperiment object at 0...</td>\n",
       "    </tr>\n",
       "    <tr>\n",
       "      <th>2</th>\n",
       "      <td>nissle</td>\n",
       "      <td>-1</td>\n",
       "      <td>&lt;pyopenms._dataframes._MSExperimentDF object a...</td>\n",
       "      <td>&lt;pyopenms._pyopenms_5.MSExperiment object at 0...</td>\n",
       "    </tr>\n",
       "    <tr>\n",
       "      <th>3</th>\n",
       "      <td>nissle</td>\n",
       "      <td>1</td>\n",
       "      <td>&lt;pyopenms._dataframes._MSExperimentDF object a...</td>\n",
       "      <td>&lt;pyopenms._pyopenms_5.MSExperiment object at 0...</td>\n",
       "    </tr>\n",
       "    <tr>\n",
       "      <th>4</th>\n",
       "      <td>tue1</td>\n",
       "      <td>-1</td>\n",
       "      <td>&lt;pyopenms._dataframes._MSExperimentDF object a...</td>\n",
       "      <td>&lt;pyopenms._pyopenms_5.MSExperiment object at 0...</td>\n",
       "    </tr>\n",
       "    <tr>\n",
       "      <th>5</th>\n",
       "      <td>tue1</td>\n",
       "      <td>1</td>\n",
       "      <td>&lt;pyopenms._dataframes._MSExperimentDF object a...</td>\n",
       "      <td>&lt;pyopenms._pyopenms_5.MSExperiment object at 0...</td>\n",
       "    </tr>\n",
       "  </tbody>\n",
       "</table>\n",
       "</div>"
      ],
      "text/plain": [
       "   sample polarity                                         experiment  \\\n",
       "0  mg1655       -1  <pyopenms._dataframes._MSExperimentDF object a...   \n",
       "1  mg1655        1  <pyopenms._dataframes._MSExperimentDF object a...   \n",
       "2  nissle       -1  <pyopenms._dataframes._MSExperimentDF object a...   \n",
       "3  nissle        1  <pyopenms._dataframes._MSExperimentDF object a...   \n",
       "4    tue1       -1  <pyopenms._dataframes._MSExperimentDF object a...   \n",
       "5    tue1        1  <pyopenms._dataframes._MSExperimentDF object a...   \n",
       "\n",
       "                                      lim_experiment  \n",
       "0  <pyopenms._pyopenms_5.MSExperiment object at 0...  \n",
       "1  <pyopenms._pyopenms_5.MSExperiment object at 0...  \n",
       "2  <pyopenms._pyopenms_5.MSExperiment object at 0...  \n",
       "3  <pyopenms._pyopenms_5.MSExperiment object at 0...  \n",
       "4  <pyopenms._pyopenms_5.MSExperiment object at 0...  \n",
       "5  <pyopenms._pyopenms_5.MSExperiment object at 0...  "
      ]
     },
     "execution_count": 9,
     "metadata": {},
     "output_type": "execute_result"
    }
   ],
   "source": [
    "fia_df"
   ]
  },
  {
   "cell_type": "code",
   "execution_count": null,
   "metadata": {},
   "outputs": [],
   "source": []
  }
 ],
 "metadata": {
  "kernelspec": {
   "display_name": "gemml",
   "language": "python",
   "name": "python3"
  },
  "language_info": {
   "codemirror_mode": {
    "name": "ipython",
    "version": 3
   },
   "file_extension": ".py",
   "mimetype": "text/x-python",
   "name": "python",
   "nbconvert_exporter": "python",
   "pygments_lexer": "ipython3",
   "version": "3.11.7"
  }
 },
 "nbformat": 4,
 "nbformat_minor": 2
}
