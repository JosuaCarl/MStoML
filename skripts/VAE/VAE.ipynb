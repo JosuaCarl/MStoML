{
 "cells": [
  {
   "cell_type": "code",
   "execution_count": 1,
   "metadata": {},
   "outputs": [],
   "source": [
    "import sys\n",
    "sys.path.append(\"..\")\n",
    "from VAE.vae import *"
   ]
  },
  {
   "cell_type": "code",
   "execution_count": 25,
   "metadata": {},
   "outputs": [],
   "source": [
    "config_space = ConfigurationSpace(\n",
    "                {'input_dropout': 0.1, 'intermediate_activation': \"relu\", 'intermediate_dimension': 10,\n",
    "                'intermediate_layers': 2, 'latent_dimension': 1, 'learning_rate': 0.001,\n",
    "                'original_dim': 200, 'solver': 'nadam'}\n",
    "            )\n",
    "config = config_space.get_default_configuration()"
   ]
  },
  {
   "cell_type": "code",
   "execution_count": 65,
   "metadata": {},
   "outputs": [],
   "source": [
    "@keras.saving.register_keras_serializable(package=\"FIA_VAE\")\n",
    "class Sampling(layers.Layer):\n",
    "        \"\"\"\n",
    "        Uses (z_mean, z_log_var) to sample z, the vector encoding a digit.\n",
    "        \"\"\"\n",
    "        def call(self, inputs):\n",
    "            z_mean, z_log_var = inputs\n",
    "            z_mean_shape = ops.shape(z_mean)\n",
    "            batch   = z_mean_shape[0]\n",
    "            dim     = z_mean_shape[1]\n",
    "            epsilon = keras.random.normal(shape=(batch,dim))\n",
    "            return ops.multiply(ops.add(z_mean, ops.exp(0.5 * z_log_var)), epsilon)\n",
    "\n",
    "\n",
    "@keras.saving.register_keras_serializable(package=\"FIA_VAE\")\n",
    "def kl_reconstruction_loss(y_true, y_pred, sigma, mu):\n",
    "    \"\"\"\n",
    "    Loss function for Kullback-Leibler + Reconstruction loss\n",
    "\n",
    "    Args:\n",
    "        true: True values\n",
    "        pred: Predicted values\n",
    "    Returns:\n",
    "        Loss = Kullback-Leibler + Reconstruction loss\n",
    "    \"\"\"\n",
    "    reconstruction_loss = losses.mean_absolute_error(y_true, y_pred)\n",
    "    kl_loss = -0.5 * ops.sum( 1.0 + sigma - ops.square(mu) - ops.exp(sigma) )\n",
    "    loss = reconstruction_loss + kl_loss\n",
    "    \n",
    "    return {\"reconstruction_loss\": reconstruction_loss, \"kl_loss\": kl_loss, \"loss\": loss}\n",
    "\n",
    "@keras.saving.register_keras_serializable(package=\"FIA_VAE\")\n",
    "class FIA_VAE(Model):\n",
    "    \"\"\"\n",
    "    A variational autoencoder for flow injection analysis\n",
    "    \"\"\"\n",
    "    def __init__(self, config:Union[Configuration, dict]):\n",
    "        super().__init__()\n",
    "        self.config             = config\n",
    "        intermediate_dims       = [i for i in range(config[\"intermediate_layers\"]) \n",
    "                                    if config[\"intermediate_dimension\"] // 2**i > config[\"latent_dimension\"]]\n",
    "        activation_function     = get_activation_function( config[\"intermediate_activation\"] )\n",
    "\n",
    "        # Encoder (with sucessive halfing of intermediate dimension)\n",
    "        self.dropout            = Dropout( config[\"input_dropout\"] , name=\"dropout\")        \n",
    "        self.intermediate_enc   = Sequential ( [ Input(shape=(config[\"original_dim\"],), name='encoder_input') ] +\n",
    "                                               [ Dense( config[\"intermediate_dimension\"] // 2**i,\n",
    "                                                        activation=activation_function ) \n",
    "                                                for i in intermediate_dims] , name=\"encoder_intermediate\")\n",
    "\n",
    "        self.mu_encoder         = Dense( config[\"latent_dimension\"], name='latent_mu' )\n",
    "        self.sigma_encoder      = Dense( config[\"latent_dimension\"], name='latent_sigma' )\n",
    "        self.z_encoder          = Sampling(name=\"latent_reparametrization\") \n",
    "\n",
    "        # Decoder\n",
    "        self.decoder            = Sequential( [ Input(shape=(config[\"latent_dimension\"], ), name='decoder_input') ] +\n",
    "                                              [ Dense( config[\"intermediate_dimension\"] // 2**i,\n",
    "                                                       activation=activation_function )\n",
    "                                               for i in reversed(intermediate_dims) ] +\n",
    "                                              [ Dense(config[\"original_dim\"], activation=\"relu\") ] , name=\"Decoder\")\n",
    "\n",
    "        # Loss trackers\n",
    "        self.reconstruction_loss    = metrics.Mean(name=\"reconstruction_loss\")\n",
    "        self.kl_loss                = metrics.Mean(name=\"kl_loss\")\n",
    "        self.loss_tracker           = metrics.Mean(name=\"loss\")\n",
    "\n",
    "        # Define optimizer\n",
    "        self.optimizer = get_solver( config[\"solver\"] )( config[\"learning_rate\"] )\n",
    "\n",
    "        # Compile VAE\n",
    "        self.compile(optimizer=self.optimizer, loss=kl_reconstruction_loss)\n",
    "\n",
    "    @property\n",
    "    def metrics(self):\n",
    "        return [self.loss_tracker, self.reconstruction_loss, self.kl_loss]\n",
    "    \n",
    "    def get_config(self):\n",
    "        return {\"config\": dict(self.config)}\n",
    "\n",
    "    def call(self, data, training=False):\n",
    "        x = self.dropout(data, training=training)\n",
    "        return self.decode(self.encode(x))\n",
    "\n",
    "    def encode(self, data):\n",
    "        x = self.intermediate_enc(data)\n",
    "        self.mu = self.mu_encoder(x)\n",
    "        self.sigma = self.sigma_encoder(x)\n",
    "        self.z = self.z_encoder( [self.mu, self.sigma] )\n",
    "        return self.z\n",
    "    \n",
    "    def encode_mu(self, data):\n",
    "        x = self.intermediate_enc(data)\n",
    "        return self.mu(x)\n",
    "    \n",
    "    def decode(self, x):\n",
    "        return self.decoder(x)\n",
    "    \n",
    "    def train_step(self, data):\n",
    "        x, y = data\n",
    "\n",
    "        with tf.GradientTape() as tape:\n",
    "            y_pred = self(x, training=True)  # Forward pass\n",
    "            # Compute our own loss\n",
    "            loss = kl_reconstruction_loss(y, y_pred, self.sigma, self.mu)\n",
    "\n",
    "        # Compute gradients\n",
    "        trainable_vars = self.trainable_variables\n",
    "        gradients = tape.gradient(loss, trainable_vars)\n",
    "\n",
    "        # Update weights\n",
    "        self.optimizer.apply_gradients(zip(gradients, trainable_vars))\n",
    "\n",
    "        self.reconstruction_loss.update_state(loss[\"reconstruction_loss\"])\n",
    "        self.kl_loss.update_state(loss[\"kl_loss\"])\n",
    "        self.loss_tracker.update_state( loss[\"loss\"] )\n",
    "        return loss"
   ]
  },
  {
   "cell_type": "code",
   "execution_count": 66,
   "metadata": {},
   "outputs": [],
   "source": [
    "model = FIA_VAE(config)"
   ]
  },
  {
   "cell_type": "code",
   "execution_count": 67,
   "metadata": {},
   "outputs": [
    {
     "data": {
      "text/html": [
       "<pre style=\"white-space:pre;overflow-x:auto;line-height:normal;font-family:Menlo,'DejaVu Sans Mono',consolas,'Courier New',monospace\"><span style=\"font-weight: bold\">Model: \"fia_vae_13\"</span>\n",
       "</pre>\n"
      ],
      "text/plain": [
       "\u001b[1mModel: \"fia_vae_13\"\u001b[0m\n"
      ]
     },
     "metadata": {},
     "output_type": "display_data"
    },
    {
     "data": {
      "text/html": [
       "<pre style=\"white-space:pre;overflow-x:auto;line-height:normal;font-family:Menlo,'DejaVu Sans Mono',consolas,'Courier New',monospace\">┏━━━━━━━━━━━━━━━━━━━━━━━━━━━━━━━━━┳━━━━━━━━━━━━━━━━━━━━━━━━┳━━━━━━━━━━━━━━━┓\n",
       "┃<span style=\"font-weight: bold\"> Layer (type)                    </span>┃<span style=\"font-weight: bold\"> Output Shape           </span>┃<span style=\"font-weight: bold\">       Param # </span>┃\n",
       "┡━━━━━━━━━━━━━━━━━━━━━━━━━━━━━━━━━╇━━━━━━━━━━━━━━━━━━━━━━━━╇━━━━━━━━━━━━━━━┩\n",
       "│ dropout (<span style=\"color: #0087ff; text-decoration-color: #0087ff\">Dropout</span>)               │ ?                      │             <span style=\"color: #00af00; text-decoration-color: #00af00\">0</span> │\n",
       "├─────────────────────────────────┼────────────────────────┼───────────────┤\n",
       "│ encoder_intermediate            │ ?                      │         <span style=\"color: #00af00; text-decoration-color: #00af00\">2,065</span> │\n",
       "│ (<span style=\"color: #0087ff; text-decoration-color: #0087ff\">Sequential</span>)                    │                        │               │\n",
       "├─────────────────────────────────┼────────────────────────┼───────────────┤\n",
       "│ latent_mu (<span style=\"color: #0087ff; text-decoration-color: #0087ff\">Dense</span>)               │ ?                      │   <span style=\"color: #00af00; text-decoration-color: #00af00\">0</span> (unbuilt) │\n",
       "├─────────────────────────────────┼────────────────────────┼───────────────┤\n",
       "│ latent_sigma (<span style=\"color: #0087ff; text-decoration-color: #0087ff\">Dense</span>)            │ ?                      │   <span style=\"color: #00af00; text-decoration-color: #00af00\">0</span> (unbuilt) │\n",
       "├─────────────────────────────────┼────────────────────────┼───────────────┤\n",
       "│ latent_reparametrization        │ ?                      │   <span style=\"color: #00af00; text-decoration-color: #00af00\">0</span> (unbuilt) │\n",
       "│ (<span style=\"color: #0087ff; text-decoration-color: #0087ff\">Sampling</span>)                      │                        │               │\n",
       "├─────────────────────────────────┼────────────────────────┼───────────────┤\n",
       "│ Decoder (<span style=\"color: #0087ff; text-decoration-color: #0087ff\">Sequential</span>)            │ ?                      │         <span style=\"color: #00af00; text-decoration-color: #00af00\">2,270</span> │\n",
       "└─────────────────────────────────┴────────────────────────┴───────────────┘\n",
       "</pre>\n"
      ],
      "text/plain": [
       "┏━━━━━━━━━━━━━━━━━━━━━━━━━━━━━━━━━┳━━━━━━━━━━━━━━━━━━━━━━━━┳━━━━━━━━━━━━━━━┓\n",
       "┃\u001b[1m \u001b[0m\u001b[1mLayer (type)                   \u001b[0m\u001b[1m \u001b[0m┃\u001b[1m \u001b[0m\u001b[1mOutput Shape          \u001b[0m\u001b[1m \u001b[0m┃\u001b[1m \u001b[0m\u001b[1m      Param #\u001b[0m\u001b[1m \u001b[0m┃\n",
       "┡━━━━━━━━━━━━━━━━━━━━━━━━━━━━━━━━━╇━━━━━━━━━━━━━━━━━━━━━━━━╇━━━━━━━━━━━━━━━┩\n",
       "│ dropout (\u001b[38;5;33mDropout\u001b[0m)               │ ?                      │             \u001b[38;5;34m0\u001b[0m │\n",
       "├─────────────────────────────────┼────────────────────────┼───────────────┤\n",
       "│ encoder_intermediate            │ ?                      │         \u001b[38;5;34m2,065\u001b[0m │\n",
       "│ (\u001b[38;5;33mSequential\u001b[0m)                    │                        │               │\n",
       "├─────────────────────────────────┼────────────────────────┼───────────────┤\n",
       "│ latent_mu (\u001b[38;5;33mDense\u001b[0m)               │ ?                      │   \u001b[38;5;34m0\u001b[0m (unbuilt) │\n",
       "├─────────────────────────────────┼────────────────────────┼───────────────┤\n",
       "│ latent_sigma (\u001b[38;5;33mDense\u001b[0m)            │ ?                      │   \u001b[38;5;34m0\u001b[0m (unbuilt) │\n",
       "├─────────────────────────────────┼────────────────────────┼───────────────┤\n",
       "│ latent_reparametrization        │ ?                      │   \u001b[38;5;34m0\u001b[0m (unbuilt) │\n",
       "│ (\u001b[38;5;33mSampling\u001b[0m)                      │                        │               │\n",
       "├─────────────────────────────────┼────────────────────────┼───────────────┤\n",
       "│ Decoder (\u001b[38;5;33mSequential\u001b[0m)            │ ?                      │         \u001b[38;5;34m2,270\u001b[0m │\n",
       "└─────────────────────────────────┴────────────────────────┴───────────────┘\n"
      ]
     },
     "metadata": {},
     "output_type": "display_data"
    },
    {
     "data": {
      "text/html": [
       "<pre style=\"white-space:pre;overflow-x:auto;line-height:normal;font-family:Menlo,'DejaVu Sans Mono',consolas,'Courier New',monospace\"><span style=\"font-weight: bold\"> Total params: </span><span style=\"color: #00af00; text-decoration-color: #00af00\">4,335</span> (16.93 KB)\n",
       "</pre>\n"
      ],
      "text/plain": [
       "\u001b[1m Total params: \u001b[0m\u001b[38;5;34m4,335\u001b[0m (16.93 KB)\n"
      ]
     },
     "metadata": {},
     "output_type": "display_data"
    },
    {
     "data": {
      "text/html": [
       "<pre style=\"white-space:pre;overflow-x:auto;line-height:normal;font-family:Menlo,'DejaVu Sans Mono',consolas,'Courier New',monospace\"><span style=\"font-weight: bold\"> Trainable params: </span><span style=\"color: #00af00; text-decoration-color: #00af00\">4,335</span> (16.93 KB)\n",
       "</pre>\n"
      ],
      "text/plain": [
       "\u001b[1m Trainable params: \u001b[0m\u001b[38;5;34m4,335\u001b[0m (16.93 KB)\n"
      ]
     },
     "metadata": {},
     "output_type": "display_data"
    },
    {
     "data": {
      "text/html": [
       "<pre style=\"white-space:pre;overflow-x:auto;line-height:normal;font-family:Menlo,'DejaVu Sans Mono',consolas,'Courier New',monospace\"><span style=\"font-weight: bold\"> Non-trainable params: </span><span style=\"color: #00af00; text-decoration-color: #00af00\">0</span> (0.00 B)\n",
       "</pre>\n"
      ],
      "text/plain": [
       "\u001b[1m Non-trainable params: \u001b[0m\u001b[38;5;34m0\u001b[0m (0.00 B)\n"
      ]
     },
     "metadata": {},
     "output_type": "display_data"
    }
   ],
   "source": [
    "model.summary()"
   ]
  },
  {
   "cell_type": "markdown",
   "metadata": {},
   "source": [
    "## Saving"
   ]
  },
  {
   "cell_type": "code",
   "execution_count": 68,
   "metadata": {},
   "outputs": [],
   "source": [
    "keras.saving.save_model(model, \"../../runs/VAE/training/test.keras\")"
   ]
  },
  {
   "cell_type": "code",
   "execution_count": 69,
   "metadata": {},
   "outputs": [],
   "source": [
    "model.save_weights(\"../../runs/VAE/training/test.weights.h5\")"
   ]
  },
  {
   "cell_type": "markdown",
   "metadata": {},
   "source": [
    "## Loading"
   ]
  },
  {
   "cell_type": "code",
   "execution_count": 70,
   "metadata": {},
   "outputs": [],
   "source": [
    "model2 = keras.saving.load_model(\"../../runs/VAE/training/test.keras\")"
   ]
  },
  {
   "cell_type": "code",
   "execution_count": 71,
   "metadata": {},
   "outputs": [],
   "source": [
    "model2.load_weights(\"../../runs/VAE/training/test.weights.h5\")"
   ]
  },
  {
   "cell_type": "markdown",
   "metadata": {},
   "source": [
    "## Testing"
   ]
  },
  {
   "cell_type": "code",
   "execution_count": 73,
   "metadata": {},
   "outputs": [],
   "source": [
    "X = np.random.normal(0.0, 1.0, size=(5, 200))"
   ]
  },
  {
   "cell_type": "code",
   "execution_count": 74,
   "metadata": {},
   "outputs": [
    {
     "name": "stdout",
     "output_type": "stream",
     "text": [
      "\u001b[1m1/1\u001b[0m \u001b[32m━━━━━━━━━━━━━━━━━━━━\u001b[0m\u001b[37m\u001b[0m \u001b[1m1s\u001b[0m 1s/step - kl_loss: 3.9384 - loss: 4.7367 - reconstruction_loss: 0.7983\n"
     ]
    },
    {
     "data": {
      "text/plain": [
       "<keras.src.callbacks.history.History at 0x7ff29028dc10>"
      ]
     },
     "execution_count": 74,
     "metadata": {},
     "output_type": "execute_result"
    }
   ],
   "source": [
    "model2.fit(X, X)"
   ]
  },
  {
   "cell_type": "code",
   "execution_count": null,
   "metadata": {},
   "outputs": [],
   "source": []
  }
 ],
 "metadata": {
  "kernelspec": {
   "display_name": "FIA_VAE",
   "language": "python",
   "name": "python3"
  },
  "language_info": {
   "codemirror_mode": {
    "name": "ipython",
    "version": 3
   },
   "file_extension": ".py",
   "mimetype": "text/x-python",
   "name": "python",
   "nbconvert_exporter": "python",
   "pygments_lexer": "ipython3",
   "version": "3.11.8"
  }
 },
 "nbformat": 4,
 "nbformat_minor": 2
}
