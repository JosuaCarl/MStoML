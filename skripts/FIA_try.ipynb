{
 "cells": [
  {
   "cell_type": "code",
   "execution_count": 2,
   "metadata": {
    "ExecuteTime": {
     "end_time": "2024-01-24T17:26:04.331182945Z",
     "start_time": "2024-01-24T17:26:01.402929478Z"
    }
   },
   "outputs": [],
   "source": [
    "# Imports\n",
    "import os\n",
    "import datetime\n",
    "import json\n",
    "from numpy import *\n",
    "import pandas as pd\n",
    "import pyopenms as oms\n",
    "import matplotlib.pyplot as plt\n",
    "import seaborn as sns\n",
    "import plotly.graph_objects as go\n",
    "import plotly.express as px\n",
    "from tqdm import tqdm\n",
    "import shutil\n",
    "import requests\n",
    "from sklearn.impute import KNNImputer\n",
    "from sklearn.preprocessing import FunctionTransformer\n",
    "from sklearn.pipeline import Pipeline\n",
    "\n",
    "# Ignore seaborn warning for future deprecation of module part\n",
    "import warnings\n",
    "warnings.simplefilter(action='ignore', category=FutureWarning)\n",
    "\n",
    "# import methods from FIA python script\n",
    "from FIA import *"
   ]
  },
  {
   "cell_type": "code",
   "execution_count": 60,
   "metadata": {},
   "outputs": [],
   "source": [
    "def merge_compounds(path_to_tsv:str) -> pd.DataFrame:\n",
    "\t\"\"\"\n",
    "\tJoins entries with equal Mass and SumFormula.\n",
    "\tLinks CompoundName with: ;\n",
    "\tLinks rest with: ,\n",
    "\t\"\"\"\n",
    "\tdf = pd.read_csv(path_to_tsv, sep=\"\\t\")\n",
    "\t\n",
    "\taggregation_functions = {'CompoundName': lambda x: \";\".join(x)}\n",
    "\tgroupies = [ df['Mass'], df[\"SumFormula\"], df[\"Charge\"], df[\"RetentionTime\"], df[\"RetentionTimeRange\"], df[\"IsotopeDistribution\"] ]\n",
    "\tdf_new = df.groupby( groupies , as_index=False).aggregate(aggregation_functions)\n",
    "\n",
    "\n",
    "\taggregation_functions = {'Charge': lambda x: x.to_list(),\n",
    "\t\t\t\t\t\t\t 'RetentionTime': lambda x: x.to_list(),\n",
    "\t\t\t\t\t\t\t 'RetentionTimeRange': lambda x: x.to_list(),\n",
    "\t\t\t\t\t\t\t 'IsotopeDistribution': lambda x: x.to_list()}\n",
    "\tgroupies = [ df_new['Mass'], df_new[\"SumFormula\"], df_new[\"CompoundName\"]]\n",
    "\tdf_new = df_new.groupby( groupies , as_index=False).aggregate(aggregation_functions)\n",
    "\n",
    "\t# Exclude inorganics\n",
    "\torganic_elements = [\"H\", \"C\", \"N\", \"P\", \"I\", \"Cu\", \"Mg\", \"Na\", \"K\", \"Zn\", \"S\", \"Ca\", \"Co\", \"Fe\", \"O\"]\n",
    "\telements = ['Ac', 'Ag', 'Al', 'Am', 'Ar', 'As', 'At', 'Au', 'B', 'Ba', 'Be', 'Bh', 'Bi', 'Bk', 'Br', 'C', 'Ca', 'Cd', 'Ce', 'Cf', 'Cl', 'Cm', 'Cn', 'Co', 'Cr', 'Cs', 'Cu', 'Db', 'Ds', 'Dy', 'Er', 'Es', 'Eu', 'F', 'Fe', 'Fl', 'Fm', 'Fr', 'Ga', 'Gd', 'Ge', 'H', 'He', 'Hf', 'Hg', 'Ho', 'Hs', 'I', 'In', 'Ir', 'K', 'Kr', 'La', 'Li', 'Lr', 'Lu', 'Lv', 'Mc', 'Md', 'Mg', 'Mn', 'Mo', 'Mt', 'N', 'Na', 'Nb', 'Nd', 'Ne', 'Nh', 'Ni', 'No', 'Np', 'O', 'Og', 'Os', 'P', 'Pa', 'Pb', 'Pd', 'Pm', 'Po', 'Pr', 'Pt', 'Pu', 'Ra', 'Rb', 'Re', 'Rf', 'Rg', 'Rh', 'Rn', 'Ru', 'S', 'Sb', 'Sc', 'Se', 'Sg', 'Si', 'Sm', 'Sn', 'Sr', 'Ta', 'Tb', 'Tc', 'Te', 'Th', 'Ti', 'Tl', 'Tm', 'Ts', 'U', 'V', 'W', 'Xe', 'Y', 'Yb', 'Zn', 'Zr']\n",
    "\texclude_elements = [e for e in elements if e not in organic_elements]\n",
    "\tfor element in exclude_elements:\n",
    "\t\tdf_new = df_new.loc[~df_new[\"SumFormula\"].str.contains(element)]\n",
    "\n",
    "\treturn df_new[[\"CompoundName\", \"SumFormula\", \"Mass\", \"Charge\", \"RetentionTime\", \"RetentionTimeRange\", \"IsotopeDistribution\"]].reset_index(drop=True)"
   ]
  },
  {
   "cell_type": "code",
   "execution_count": 61,
   "metadata": {},
   "outputs": [],
   "source": [
    "df_comp_new = merge_compounds(\"../databases/compounds.tsv\")"
   ]
  },
  {
   "cell_type": "code",
   "execution_count": 62,
   "metadata": {},
   "outputs": [
    {
     "data": {
      "text/html": [
       "<div>\n",
       "<style scoped>\n",
       "    .dataframe tbody tr th:only-of-type {\n",
       "        vertical-align: middle;\n",
       "    }\n",
       "\n",
       "    .dataframe tbody tr th {\n",
       "        vertical-align: top;\n",
       "    }\n",
       "\n",
       "    .dataframe thead th {\n",
       "        text-align: right;\n",
       "    }\n",
       "</style>\n",
       "<table border=\"1\" class=\"dataframe\">\n",
       "  <thead>\n",
       "    <tr style=\"text-align: right;\">\n",
       "      <th></th>\n",
       "      <th>CompoundName</th>\n",
       "      <th>SumFormula</th>\n",
       "      <th>Mass</th>\n",
       "      <th>Charge</th>\n",
       "      <th>RetentionTime</th>\n",
       "      <th>RetentionTimeRange</th>\n",
       "      <th>IsotopeDistribution</th>\n",
       "    </tr>\n",
       "  </thead>\n",
       "  <tbody>\n",
       "    <tr>\n",
       "      <th>0</th>\n",
       "      <td>protium atom;hydrogen(.)</td>\n",
       "      <td>H</td>\n",
       "      <td>1.00783</td>\n",
       "      <td>[0]</td>\n",
       "      <td>[1]</td>\n",
       "      <td>[0]</td>\n",
       "      <td>[0]</td>\n",
       "    </tr>\n",
       "    <tr>\n",
       "      <th>1</th>\n",
       "      <td>PMF;H(+)</td>\n",
       "      <td>H</td>\n",
       "      <td>1.00794</td>\n",
       "      <td>[1]</td>\n",
       "      <td>[1]</td>\n",
       "      <td>[0]</td>\n",
       "      <td>[0]</td>\n",
       "    </tr>\n",
       "    <tr>\n",
       "      <th>2</th>\n",
       "      <td>hydride</td>\n",
       "      <td>H</td>\n",
       "      <td>1.00837</td>\n",
       "      <td>[-1]</td>\n",
       "      <td>[1]</td>\n",
       "      <td>[0]</td>\n",
       "      <td>[0]</td>\n",
       "    </tr>\n",
       "    <tr>\n",
       "      <th>3</th>\n",
       "      <td>H2</td>\n",
       "      <td>H2</td>\n",
       "      <td>2.01565</td>\n",
       "      <td>[0]</td>\n",
       "      <td>[1]</td>\n",
       "      <td>[0]</td>\n",
       "      <td>[0]</td>\n",
       "    </tr>\n",
       "    <tr>\n",
       "      <th>4</th>\n",
       "      <td>carbon-12(4+)</td>\n",
       "      <td>C</td>\n",
       "      <td>11.99781</td>\n",
       "      <td>[4]</td>\n",
       "      <td>[1]</td>\n",
       "      <td>[0]</td>\n",
       "      <td>[0]</td>\n",
       "    </tr>\n",
       "    <tr>\n",
       "      <th>...</th>\n",
       "      <td>...</td>\n",
       "      <td>...</td>\n",
       "      <td>...</td>\n",
       "      <td>...</td>\n",
       "      <td>...</td>\n",
       "      <td>...</td>\n",
       "      <td>...</td>\n",
       "    </tr>\n",
       "    <tr>\n",
       "      <th>63414</th>\n",
       "      <td>Candida albicans hexasaccharide dendrimer--gly...</td>\n",
       "      <td>C354H569N43O199S2</td>\n",
       "      <td>8670.51678</td>\n",
       "      <td>[0]</td>\n",
       "      <td>[1]</td>\n",
       "      <td>[0]</td>\n",
       "      <td>[0]</td>\n",
       "    </tr>\n",
       "    <tr>\n",
       "      <th>63415</th>\n",
       "      <td>(Araf)36(Galf)30-Rha-GlcNAc-P-P-C50</td>\n",
       "      <td>C409H666NO298P2</td>\n",
       "      <td>10421.64827</td>\n",
       "      <td>[-3]</td>\n",
       "      <td>[1]</td>\n",
       "      <td>[0]</td>\n",
       "      <td>[0]</td>\n",
       "    </tr>\n",
       "    <tr>\n",
       "      <th>63416</th>\n",
       "      <td>(Araf)63(Galf)30-Rha-GlcNAc-P-P-C50</td>\n",
       "      <td>C484H786NO358P2</td>\n",
       "      <td>12402.28215</td>\n",
       "      <td>[-3]</td>\n",
       "      <td>[1]</td>\n",
       "      <td>[0]</td>\n",
       "      <td>[0]</td>\n",
       "    </tr>\n",
       "    <tr>\n",
       "      <th>63417</th>\n",
       "      <td>mycobacterial arabinogalactan containing linea...</td>\n",
       "      <td>C514H834NO382P2</td>\n",
       "      <td>13194.53570</td>\n",
       "      <td>[-3]</td>\n",
       "      <td>[1]</td>\n",
       "      <td>[0]</td>\n",
       "      <td>[0]</td>\n",
       "    </tr>\n",
       "    <tr>\n",
       "      <th>63418</th>\n",
       "      <td>(Araf)51(Galf)30-Rha-GlcNAc-P-P-C50;(Araf)48(G...</td>\n",
       "      <td>C519H842NO386P2</td>\n",
       "      <td>13326.57796</td>\n",
       "      <td>[-3]</td>\n",
       "      <td>[1]</td>\n",
       "      <td>[0]</td>\n",
       "      <td>[0]</td>\n",
       "    </tr>\n",
       "  </tbody>\n",
       "</table>\n",
       "<p>63419 rows × 7 columns</p>\n",
       "</div>"
      ],
      "text/plain": [
       "                                            CompoundName         SumFormula  \\\n",
       "0                               protium atom;hydrogen(.)                  H   \n",
       "1                                               PMF;H(+)                  H   \n",
       "2                                                hydride                  H   \n",
       "3                                                     H2                 H2   \n",
       "4                                          carbon-12(4+)                  C   \n",
       "...                                                  ...                ...   \n",
       "63414  Candida albicans hexasaccharide dendrimer--gly...  C354H569N43O199S2   \n",
       "63415                (Araf)36(Galf)30-Rha-GlcNAc-P-P-C50    C409H666NO298P2   \n",
       "63416                (Araf)63(Galf)30-Rha-GlcNAc-P-P-C50    C484H786NO358P2   \n",
       "63417  mycobacterial arabinogalactan containing linea...    C514H834NO382P2   \n",
       "63418  (Araf)51(Galf)30-Rha-GlcNAc-P-P-C50;(Araf)48(G...    C519H842NO386P2   \n",
       "\n",
       "              Mass Charge RetentionTime RetentionTimeRange IsotopeDistribution  \n",
       "0          1.00783    [0]           [1]                [0]                 [0]  \n",
       "1          1.00794    [1]           [1]                [0]                 [0]  \n",
       "2          1.00837   [-1]           [1]                [0]                 [0]  \n",
       "3          2.01565    [0]           [1]                [0]                 [0]  \n",
       "4         11.99781    [4]           [1]                [0]                 [0]  \n",
       "...            ...    ...           ...                ...                 ...  \n",
       "63414   8670.51678    [0]           [1]                [0]                 [0]  \n",
       "63415  10421.64827   [-3]           [1]                [0]                 [0]  \n",
       "63416  12402.28215   [-3]           [1]                [0]                 [0]  \n",
       "63417  13194.53570   [-3]           [1]                [0]                 [0]  \n",
       "63418  13326.57796   [-3]           [1]                [0]                 [0]  \n",
       "\n",
       "[63419 rows x 7 columns]"
      ]
     },
     "execution_count": 62,
     "metadata": {},
     "output_type": "execute_result"
    }
   ],
   "source": [
    "df_comp_new"
   ]
  },
  {
   "cell_type": "code",
   "execution_count": 63,
   "metadata": {},
   "outputs": [],
   "source": [
    "df_comp_new.to_csv(\"../databases/compounds_merged.tsv\", sep=\"\\t\", index=False)"
   ]
  },
  {
   "cell_type": "code",
   "execution_count": 15,
   "metadata": {},
   "outputs": [],
   "source": [
    "def define_metabolite_table(path_to_library_file:str, mass_range:list) -> list:\n",
    "    \"\"\"\n",
    "    Read tsv file and create list of FeatureFinderMetaboIdentCompound\n",
    "    \"\"\"\n",
    "    metabo_table = []\n",
    "    df = pd.read_csv(path_to_library_file, sep=\"\\t\")\n",
    "    df.apply(lambda row: \n",
    "        metabo_table.append(\n",
    "                    oms.FeatureFinderMetaboIdentCompound(\n",
    "                        row[\"CompoundName\"], row[\"SumFormula\"], row[\"Mass\"],\n",
    "                        list(map(int, row[\"Charge\"][1:-1].split(\", \"))), \n",
    "                        list(map(float, row[\"RetentionTime\"][1:-1].split(\", \"))),\n",
    "                        list(map(float, row[\"RetentionTimeRange\"][1:-1].split(\", \"))),\n",
    "                        list(map(float, row[\"IsotopeDistribution\"][1:-1].split(\", \")))\n",
    "                    )\n",
    "                )\n",
    "    , axis=1)\n",
    "    return df, metabo_table"
   ]
  },
  {
   "cell_type": "code",
   "execution_count": 16,
   "metadata": {},
   "outputs": [
    {
     "data": {
      "text/plain": [
       "2251"
      ]
     },
     "execution_count": 16,
     "metadata": {},
     "output_type": "execute_result"
    }
   ],
   "source": [
    "df, mt = define_metabolite_table(\"../databases/compounds_merged.tsv\", [0.0, 10000.0])\n",
    "len(mt)"
   ]
  },
  {
   "cell_type": "code",
   "execution_count": 17,
   "metadata": {},
   "outputs": [
    {
     "data": {
      "text/html": [
       "<div>\n",
       "<style scoped>\n",
       "    .dataframe tbody tr th:only-of-type {\n",
       "        vertical-align: middle;\n",
       "    }\n",
       "\n",
       "    .dataframe tbody tr th {\n",
       "        vertical-align: top;\n",
       "    }\n",
       "\n",
       "    .dataframe thead th {\n",
       "        text-align: right;\n",
       "    }\n",
       "</style>\n",
       "<table border=\"1\" class=\"dataframe\">\n",
       "  <thead>\n",
       "    <tr style=\"text-align: right;\">\n",
       "      <th></th>\n",
       "      <th>CompoundName</th>\n",
       "      <th>SumFormula</th>\n",
       "      <th>Mass</th>\n",
       "      <th>Charge</th>\n",
       "      <th>RetentionTime</th>\n",
       "      <th>RetentionTimeRange</th>\n",
       "      <th>IsotopeDistribution</th>\n",
       "    </tr>\n",
       "  </thead>\n",
       "  <tbody>\n",
       "    <tr>\n",
       "      <th>0</th>\n",
       "      <td>protium atom;hydrogen(.)</td>\n",
       "      <td>H</td>\n",
       "      <td>1.00783</td>\n",
       "      <td>[0, 0]</td>\n",
       "      <td>[1, 1]</td>\n",
       "      <td>[0, 0]</td>\n",
       "      <td>[0, 0]</td>\n",
       "    </tr>\n",
       "    <tr>\n",
       "      <th>1</th>\n",
       "      <td>PMF;H(+)</td>\n",
       "      <td>H</td>\n",
       "      <td>1.00794</td>\n",
       "      <td>[1, 1]</td>\n",
       "      <td>[1, 1]</td>\n",
       "      <td>[0, 0]</td>\n",
       "      <td>[0, 0]</td>\n",
       "    </tr>\n",
       "    <tr>\n",
       "      <th>2</th>\n",
       "      <td>hydride</td>\n",
       "      <td>H</td>\n",
       "      <td>1.00837</td>\n",
       "      <td>[-1]</td>\n",
       "      <td>[1]</td>\n",
       "      <td>[0]</td>\n",
       "      <td>[0]</td>\n",
       "    </tr>\n",
       "    <tr>\n",
       "      <th>3</th>\n",
       "      <td>H2</td>\n",
       "      <td>H2</td>\n",
       "      <td>2.01565</td>\n",
       "      <td>[0]</td>\n",
       "      <td>[1]</td>\n",
       "      <td>[0]</td>\n",
       "      <td>[0]</td>\n",
       "    </tr>\n",
       "    <tr>\n",
       "      <th>4</th>\n",
       "      <td>carbon-12(4+)</td>\n",
       "      <td>C</td>\n",
       "      <td>11.99781</td>\n",
       "      <td>[4]</td>\n",
       "      <td>[1]</td>\n",
       "      <td>[0]</td>\n",
       "      <td>[0]</td>\n",
       "    </tr>\n",
       "    <tr>\n",
       "      <th>...</th>\n",
       "      <td>...</td>\n",
       "      <td>...</td>\n",
       "      <td>...</td>\n",
       "      <td>...</td>\n",
       "      <td>...</td>\n",
       "      <td>...</td>\n",
       "      <td>...</td>\n",
       "    </tr>\n",
       "    <tr>\n",
       "      <th>2246</th>\n",
       "      <td>circumcircumcoronene</td>\n",
       "      <td>C96H24</td>\n",
       "      <td>1176.18780</td>\n",
       "      <td>[0]</td>\n",
       "      <td>[1]</td>\n",
       "      <td>[0]</td>\n",
       "      <td>[0]</td>\n",
       "    </tr>\n",
       "    <tr>\n",
       "      <th>2247</th>\n",
       "      <td>BoBo-1</td>\n",
       "      <td>C41H54I4N6S2</td>\n",
       "      <td>1202.00303</td>\n",
       "      <td>[0]</td>\n",
       "      <td>[1]</td>\n",
       "      <td>[0]</td>\n",
       "      <td>[0]</td>\n",
       "    </tr>\n",
       "    <tr>\n",
       "      <th>2248</th>\n",
       "      <td>BoBo-3</td>\n",
       "      <td>C45H58I4N6S2</td>\n",
       "      <td>1254.03433</td>\n",
       "      <td>[0]</td>\n",
       "      <td>[1]</td>\n",
       "      <td>[0]</td>\n",
       "      <td>[0]</td>\n",
       "    </tr>\n",
       "    <tr>\n",
       "      <th>2249</th>\n",
       "      <td>ToTo-1</td>\n",
       "      <td>C49H58I4N6S2</td>\n",
       "      <td>1302.03433</td>\n",
       "      <td>[0]</td>\n",
       "      <td>[1]</td>\n",
       "      <td>[0]</td>\n",
       "      <td>[0]</td>\n",
       "    </tr>\n",
       "    <tr>\n",
       "      <th>2250</th>\n",
       "      <td>ToTo-3</td>\n",
       "      <td>C55H62I4N6S2</td>\n",
       "      <td>1378.06563</td>\n",
       "      <td>[0]</td>\n",
       "      <td>[1]</td>\n",
       "      <td>[0]</td>\n",
       "      <td>[0]</td>\n",
       "    </tr>\n",
       "  </tbody>\n",
       "</table>\n",
       "<p>2251 rows × 7 columns</p>\n",
       "</div>"
      ],
      "text/plain": [
       "                  CompoundName    SumFormula        Mass  Charge  \\\n",
       "0     protium atom;hydrogen(.)             H     1.00783  [0, 0]   \n",
       "1                     PMF;H(+)             H     1.00794  [1, 1]   \n",
       "2                      hydride             H     1.00837    [-1]   \n",
       "3                           H2            H2     2.01565     [0]   \n",
       "4                carbon-12(4+)             C    11.99781     [4]   \n",
       "...                        ...           ...         ...     ...   \n",
       "2246      circumcircumcoronene        C96H24  1176.18780     [0]   \n",
       "2247                    BoBo-1  C41H54I4N6S2  1202.00303     [0]   \n",
       "2248                    BoBo-3  C45H58I4N6S2  1254.03433     [0]   \n",
       "2249                    ToTo-1  C49H58I4N6S2  1302.03433     [0]   \n",
       "2250                    ToTo-3  C55H62I4N6S2  1378.06563     [0]   \n",
       "\n",
       "     RetentionTime RetentionTimeRange IsotopeDistribution  \n",
       "0           [1, 1]             [0, 0]              [0, 0]  \n",
       "1           [1, 1]             [0, 0]              [0, 0]  \n",
       "2              [1]                [0]                 [0]  \n",
       "3              [1]                [0]                 [0]  \n",
       "4              [1]                [0]                 [0]  \n",
       "...            ...                ...                 ...  \n",
       "2246           [1]                [0]                 [0]  \n",
       "2247           [1]                [0]                 [0]  \n",
       "2248           [1]                [0]                 [0]  \n",
       "2249           [1]                [0]                 [0]  \n",
       "2250           [1]                [0]                 [0]  \n",
       "\n",
       "[2251 rows x 7 columns]"
      ]
     },
     "execution_count": 17,
     "metadata": {},
     "output_type": "execute_result"
    }
   ],
   "source": [
    "df"
   ]
  },
  {
   "cell_type": "markdown",
   "metadata": {},
   "source": [
    "## Loading\n",
    "Reads in files"
   ]
  },
  {
   "cell_type": "code",
   "execution_count": 6,
   "metadata": {
    "ExecuteTime": {
     "end_time": "2024-01-24T17:08:28.423346775Z",
     "start_time": "2024-01-24T17:08:28.371566080Z"
    }
   },
   "outputs": [],
   "source": [
    "experiment_path = \"../data/example data/exampleA_ecolistrains/mg1655_P3-A8_neg.mzXML\"\n",
    "experiment = read_experiment(experiment_path)"
   ]
  },
  {
   "cell_type": "markdown",
   "metadata": {},
   "source": [
    "## Data preparation"
   ]
  },
  {
   "cell_type": "markdown",
   "metadata": {},
   "source": [
    "### Limit spectrum\n",
    "Limits range and size by subsampling"
   ]
  },
  {
   "cell_type": "code",
   "execution_count": 3,
   "metadata": {
    "ExecuteTime": {
     "end_time": "2024-01-24T17:08:28.427834673Z",
     "start_time": "2024-01-24T17:08:28.378174061Z"
    }
   },
   "outputs": [],
   "source": [
    "# lim_exp = limit_experiment(experiment, 51, 1699, 10**6, deepcopy=True)"
   ]
  },
  {
   "cell_type": "code",
   "execution_count": 4,
   "metadata": {
    "ExecuteTime": {
     "end_time": "2024-01-24T17:08:28.518965236Z",
     "start_time": "2024-01-24T17:08:28.389944931Z"
    }
   },
   "outputs": [],
   "source": [
    "# quick_plot(spectrum=lim_exp[0], xlim=[60.975, 61.04], plottype=\"line\")"
   ]
  },
  {
   "cell_type": "markdown",
   "metadata": {},
   "source": [
    "### Smoothing\n",
    "Can reduce noise, if peaks are non-Gaussian"
   ]
  },
  {
   "cell_type": "code",
   "execution_count": 5,
   "metadata": {
    "ExecuteTime": {
     "end_time": "2024-01-24T17:08:28.522515768Z",
     "start_time": "2024-01-24T17:08:28.402081576Z"
    }
   },
   "outputs": [],
   "source": [
    "# smooth_exp = smooth_spectra(lim_exp, 0.01, deepcopy=True)"
   ]
  },
  {
   "cell_type": "code",
   "execution_count": 6,
   "metadata": {
    "ExecuteTime": {
     "end_time": "2024-01-24T17:08:28.583071915Z",
     "start_time": "2024-01-24T17:08:28.410378208Z"
    }
   },
   "outputs": [],
   "source": [
    "# quick_plot(spectrum=smooth_exp[0], xlim=[60.975, 61.04], plottype=\"line\")"
   ]
  },
  {
   "cell_type": "markdown",
   "metadata": {},
   "source": [
    "$\\Rightarrow$ Smoothing not needed, as peaks are sufficently on point and approximately gaussian in distribution"
   ]
  },
  {
   "cell_type": "markdown",
   "metadata": {},
   "source": [
    "### Centroiding\n",
    "Reduces data, while retaining peaks"
   ]
  },
  {
   "cell_type": "code",
   "execution_count": 7,
   "metadata": {
    "ExecuteTime": {
     "end_time": "2024-01-24T17:08:28.610389552Z",
     "start_time": "2024-01-24T17:08:28.450632597Z"
    }
   },
   "outputs": [],
   "source": [
    "# quick_plot(spectrum=smooth_exp[0], xlim=[60.975, 61.04], plottype=\"scatter\")"
   ]
  },
  {
   "cell_type": "code",
   "execution_count": 8,
   "metadata": {
    "ExecuteTime": {
     "end_time": "2024-01-24T17:08:40.788296031Z",
     "start_time": "2024-01-24T17:08:40.075738198Z"
    }
   },
   "outputs": [],
   "source": [
    "# centroid_exp = centroid_experiment(experiment, deepcopy=True)"
   ]
  },
  {
   "cell_type": "code",
   "execution_count": 9,
   "metadata": {
    "ExecuteTime": {
     "end_time": "2024-01-24T17:08:42.440372393Z",
     "start_time": "2024-01-24T17:08:42.423664976Z"
    }
   },
   "outputs": [],
   "source": [
    "# oms.MzMLFile().store(\"../runs/centroided_experiment.MzML\", centroid_exp)"
   ]
  },
  {
   "cell_type": "code",
   "execution_count": 10,
   "metadata": {
    "ExecuteTime": {
     "end_time": "2024-01-24T17:08:42.455979989Z",
     "start_time": "2024-01-24T17:08:42.432334693Z"
    }
   },
   "outputs": [],
   "source": [
    "# quick_plot(spectrum=centroid_exp[0], xlim=[60.975, 61.04], plottype=\"scatter\")"
   ]
  },
  {
   "cell_type": "markdown",
   "metadata": {},
   "source": [
    "### Merging\n",
    "Merging spectra in a specified retention time can increase detection"
   ]
  },
  {
   "cell_type": "code",
   "execution_count": 11,
   "metadata": {
    "ExecuteTime": {
     "end_time": "2024-01-24T17:08:42.511135525Z",
     "start_time": "2024-01-24T17:08:42.444570052Z"
    }
   },
   "outputs": [],
   "source": [
    "# quick_plot(spectrum=centroid_exp[0])"
   ]
  },
  {
   "cell_type": "code",
   "execution_count": 12,
   "metadata": {
    "ExecuteTime": {
     "end_time": "2024-01-24T17:08:42.514911835Z",
     "start_time": "2024-01-24T17:08:42.476730507Z"
    }
   },
   "outputs": [],
   "source": [
    "# merge_exp = merge_spectra(centroid_exp, block_size=centroid_exp.getNrSpectra(), deepcopy=True)"
   ]
  },
  {
   "cell_type": "code",
   "execution_count": 13,
   "metadata": {
    "ExecuteTime": {
     "end_time": "2024-01-24T17:08:42.631065697Z",
     "start_time": "2024-01-24T17:08:42.482535592Z"
    }
   },
   "outputs": [],
   "source": [
    "# quick_plot(spectrum=merge_exp[0])"
   ]
  },
  {
   "cell_type": "markdown",
   "metadata": {},
   "source": [
    "### Normalization\n",
    "Useful to compare peaks over spectra"
   ]
  },
  {
   "cell_type": "code",
   "execution_count": 14,
   "metadata": {
    "ExecuteTime": {
     "end_time": "2024-01-24T17:08:42.639991138Z",
     "start_time": "2024-01-24T17:08:42.524122048Z"
    }
   },
   "outputs": [],
   "source": [
    "# norm_exp = normalize_spectra(merge_exp, deepcopy=True)"
   ]
  },
  {
   "cell_type": "code",
   "execution_count": 15,
   "metadata": {
    "ExecuteTime": {
     "end_time": "2024-01-24T17:08:42.643545606Z",
     "start_time": "2024-01-24T17:08:42.524424243Z"
    }
   },
   "outputs": [],
   "source": [
    "# quick_plot(spectrum=norm_exp[0], plottype=\"line\")"
   ]
  },
  {
   "cell_type": "markdown",
   "metadata": {},
   "source": [
    "### De-isotoping\n",
    "Adjusting mass/charge-ratio (m/z) for charge and isotopes"
   ]
  },
  {
   "cell_type": "code",
   "execution_count": 16,
   "metadata": {
    "ExecuteTime": {
     "end_time": "2024-01-24T17:08:42.661872051Z",
     "start_time": "2024-01-24T17:08:42.524773169Z"
    }
   },
   "outputs": [],
   "source": [
    "# dynamic_plot(norm_exp)"
   ]
  },
  {
   "cell_type": "code",
   "execution_count": 17,
   "metadata": {
    "ExecuteTime": {
     "end_time": "2024-01-24T17:08:42.666179974Z",
     "start_time": "2024-01-24T17:08:42.540668744Z"
    }
   },
   "outputs": [],
   "source": [
    "#deisotop_exp = deisotope_experiment(norm_exp,\n",
    "#                                    fragment_tolerance=0.1, fragment_unit_ppm=False, min_charge=1, max_charge=1,\n",
    "#                                    keep_only_deisotoped=True, min_isopeaks=2, max_isopeaks=5, make_single_charged=True, annotate_charge=True,\n",
    "#                                    annotate_iso_peak_count=True, use_decreasing_model=True, start_intensity_check=False, add_up_intensity=False,\n",
    "#                                    deepcopy=True)"
   ]
  },
  {
   "cell_type": "code",
   "execution_count": 18,
   "metadata": {
    "ExecuteTime": {
     "end_time": "2024-01-24T17:08:42.671585719Z",
     "start_time": "2024-01-24T17:08:42.587229331Z"
    }
   },
   "outputs": [],
   "source": [
    "# dynamic_plot(deisotop_exp)"
   ]
  },
  {
   "cell_type": "markdown",
   "metadata": {},
   "source": [
    "### Merging positive & negative spectra"
   ]
  },
  {
   "cell_type": "code",
   "execution_count": 19,
   "metadata": {
    "ExecuteTime": {
     "end_time": "2024-01-24T17:08:42.693426038Z",
     "start_time": "2024-01-24T17:08:42.587523145Z"
    }
   },
   "outputs": [],
   "source": [
    "# merge positive and negative spectra to amplify signals"
   ]
  },
  {
   "cell_type": "markdown",
   "metadata": {},
   "source": [
    "## Spectrum Alignment"
   ]
  },
  {
   "cell_type": "markdown",
   "metadata": {},
   "source": [
    "### Obtaining meabolites\n",
    "All possible metabolites from BiGG, ChEBI, ModelSEED, MetaNetX"
   ]
  },
  {
   "cell_type": "code",
   "execution_count": 20,
   "metadata": {
    "ExecuteTime": {
     "end_time": "2024-01-24T17:08:42.698510187Z",
     "start_time": "2024-01-24T17:08:42.587758783Z"
    }
   },
   "outputs": [],
   "source": [
    "# from urllib.request import urlretrieve\n",
    "# urlretrieve( \"http://bigg.ucsd.edu/static/namespace/bigg_models_metabolites.txt\", \"../data/databases/BiGG/metabolites.txt\")\n",
    "# urlretrieve( \"https://ftp.ebi.ac.uk/pub/databases/chebi/Flat_file_tab_delimited/chemical_data.tsv\", \"../data/databases/ChEBI/chemical_data.tsv\")\n",
    "# urlretrieve( \"https://raw.githubusercontent.com/ModelSEED/ModelSEEDDatabase/master/Biochemistry/compounds.tsv\", \"../data/databases/SEED/compounds.tsv\")\n",
    "# urlretrieve( \"https://www.metanetx.org/cgi-bin/mnxget/mnxref/chem_prop.tsv\", \"../data/databases/MetaNetX/chem_prop.tsv\")"
   ]
  },
  {
   "cell_type": "markdown",
   "metadata": {},
   "source": [
    "### Condense metabolite info\n",
    "Parse data to obtain a smaller table with metabolite info"
   ]
  },
  {
   "cell_type": "code",
   "execution_count": 21,
   "metadata": {
    "ExecuteTime": {
     "end_time": "2024-01-24T17:08:42.885526411Z",
     "start_time": "2024-01-24T17:08:42.592658037Z"
    }
   },
   "outputs": [],
   "source": [
    "# mnx_df = read_mnx(\"../databases/MetaNetX/chem_prop.tsv\")\n",
    "# mnx_to_oms(mnx_df).to_csv(\"../databases/compounds.tsv\", sep=\"\\t\", index=False)"
   ]
  },
  {
   "cell_type": "code",
   "execution_count": 22,
   "metadata": {
    "ExecuteTime": {
     "end_time": "2024-01-24T17:08:42.908336244Z",
     "start_time": "2024-01-24T17:08:42.636996291Z"
    }
   },
   "outputs": [],
   "source": [
    "# compounds = pd.read_csv(\"../data/databases/compounds.tsv\", sep=\"\\t\")"
   ]
  },
  {
   "cell_type": "code",
   "execution_count": 23,
   "metadata": {
    "ExecuteTime": {
     "end_time": "2024-01-24T17:08:42.953483424Z",
     "start_time": "2024-01-24T17:08:42.637377085Z"
    }
   },
   "outputs": [],
   "source": [
    "# join_df_by(mnx_df.dropna().iloc[0:10000], \"mass\", \"name\")"
   ]
  },
  {
   "cell_type": "markdown",
   "metadata": {},
   "source": [
    "MetaNetX is periodically refreshing their database from BiGG, ChEBI, enviPath, HMDB, KEGG, LipidMaps, MetaCyc, Reactome, SABIO-RK, SwissLipids and ModelSEED. Therefore it should hold the most complete database."
   ]
  },
  {
   "cell_type": "markdown",
   "metadata": {},
   "source": [
    "### Defining the theoretical spectrum\n",
    "Assigning theoretical spectra to the metabolites that can be presen. This is more for peptide detection !"
   ]
  },
  {
   "cell_type": "code",
   "execution_count": 24,
   "metadata": {
    "ExecuteTime": {
     "end_time": "2024-01-24T17:08:42.958638216Z",
     "start_time": "2024-01-24T17:08:42.637616598Z"
    }
   },
   "outputs": [],
   "source": [
    "#seq = oms.EmpiricalFormula(\"H6C2H\")\n",
    "#seq_formula = oms.EmpiricalFormula(\"H6C2H-1\")\n",
    "#isotopes = seq_formula.getIsotopeDistribution(oms.CoarseIsotopePatternGenerator(6))"
   ]
  },
  {
   "cell_type": "code",
   "execution_count": 25,
   "metadata": {
    "ExecuteTime": {
     "end_time": "2024-01-24T17:08:43.196887661Z",
     "start_time": "2024-01-24T17:08:42.643528414Z"
    }
   },
   "outputs": [],
   "source": [
    "#print(\"[M-H]- weight:\", seq_formula.getMonoWeight())"
   ]
  },
  {
   "cell_type": "markdown",
   "metadata": {},
   "source": [
    "### Assign metabolites to spectrum\n",
    "Detect peaks at metabolite masses and obtain relative prevalence"
   ]
  },
  {
   "cell_type": "code",
   "execution_count": 26,
   "metadata": {
    "ExecuteTime": {
     "end_time": "2024-01-24T17:08:43.220811223Z",
     "start_time": "2024-01-24T17:08:42.684156810Z"
    }
   },
   "outputs": [],
   "source": [
    "# "
   ]
  },
  {
   "cell_type": "markdown",
   "metadata": {},
   "source": [
    "## Feature Detection"
   ]
  },
  {
   "cell_type": "markdown",
   "metadata": {},
   "source": [
    "### Untargeted"
   ]
  },
  {
   "cell_type": "code",
   "execution_count": 27,
   "metadata": {
    "ExecuteTime": {
     "end_time": "2024-01-24T17:08:43.672313590Z",
     "start_time": "2024-01-24T17:08:42.684488428Z"
    },
    "collapsed": false
   },
   "outputs": [
    {
     "name": "stdout",
     "output_type": "stream",
     "text": [
      "Progress of 'mass trace detection':\n",
      "-- done [took 0.02 s (CPU), 0.00 s (Wall)] -- \n",
      "Progress of 'elution peak detection':\n",
      "-- done [took 0.07 s (CPU), 0.01 s (Wall)] -- \n",
      "Progress of 'assembling mass traces to features':\n",
      "-- done [took 0.03 s (CPU), 0.00 s (Wall)] -- \n",
      "To ensure tracability of results please prefer mzML files as primary MS run.\n",
      "Filename: '../runs/tr_example/centroided_experiment.MzML'\n",
      "MassExplainer table size: 312\n",
      "Generating Masses with threshold: -6.90776 ...\n",
      "done\n",
      "2 of 4 valid net charge compomer results did not pass the feature charge constraints\n",
      "Inferring edges raised edge count from 2 to 2\n",
      "Found 2 putative edges (of 23) and avg hit-size of 2.5\n",
      "Using solver 'coinor' ...\n",
      "Optimal solution found!\n",
      " Branch and cut took 0.000978 seconds,  with objective value: 0.12.\n",
      "ILP score is: 0.12\n",
      "Agreeing charges: 4/4\n"
     ]
    }
   ],
   "source": [
    "filepaths = [\"../runs/tr_example/centroided_experiment.MzML\"]\n",
    "fms = [ untargeted_feature_detection(filepath=filepath,\n",
    "                                     feature_filepath=\"../runs/tr_example/untargeted.featureXML\",\n",
    "                                     mass_error_ppm=10.0,\n",
    "                                     noise_threshold_int=10000.0,\n",
    "                                     remove_single_traces=\"true\") \n",
    "        for filepath in filepaths ]\n",
    "fms_rt = align_retention_times(fms)\n",
    "fms_a = detect_adducts(fms_rt)"
   ]
  },
  {
   "cell_type": "code",
   "execution_count": 28,
   "metadata": {
    "ExecuteTime": {
     "end_time": "2024-01-24T17:08:43.804117701Z",
     "start_time": "2024-01-24T17:08:43.788626930Z"
    },
    "collapsed": false
   },
   "outputs": [],
   "source": [
    "# store_feature_maps(fms_a)"
   ]
  },
  {
   "cell_type": "markdown",
   "metadata": {},
   "source": [
    "### Build Consensus"
   ]
  },
  {
   "cell_type": "code",
   "execution_count": 29,
   "metadata": {
    "ExecuteTime": {
     "end_time": "2024-01-24T17:08:44.035694771Z",
     "start_time": "2024-01-24T17:08:43.816967934Z"
    },
    "collapsed": false
   },
   "outputs": [],
   "source": [
    "# cm = consensus_features(fms_a)\n",
    "# oms.ConsensusXMLFile().store(\"../runs/FeatureMatrix_.consensusXML\", cm)"
   ]
  },
  {
   "cell_type": "code",
   "execution_count": 30,
   "metadata": {
    "ExecuteTime": {
     "start_time": "2024-01-24T17:08:44.035663455Z"
    },
    "collapsed": false
   },
   "outputs": [],
   "source": [
    "# df = cm.get_df()\n",
    "# df"
   ]
  },
  {
   "cell_type": "markdown",
   "metadata": {
    "collapsed": false
   },
   "source": [
    "#### Link metabolites to features"
   ]
  },
  {
   "cell_type": "code",
   "execution_count": 31,
   "metadata": {
    "collapsed": false
   },
   "outputs": [],
   "source": [
    "# Link it "
   ]
  },
  {
   "cell_type": "markdown",
   "metadata": {},
   "source": [
    "### Targeted\n",
    "Give a list of metabolites with mass, charge and retention time to feature finder"
   ]
  },
  {
   "cell_type": "code",
   "execution_count": 32,
   "metadata": {
    "ExecuteTime": {
     "end_time": "2024-01-24T17:26:15.929976016Z",
     "start_time": "2024-01-24T17:26:10.869794044Z"
    },
    "collapsed": false
   },
   "outputs": [
    {
     "data": {
      "text/plain": [
       "1048469"
      ]
     },
     "execution_count": 32,
     "metadata": {},
     "output_type": "execute_result"
    }
   ],
   "source": [
    "mt = define_metabolite_table(\"../databases/compounds.tsv\", [50.0, 3000.0])\n",
    "len(mt)"
   ]
  },
  {
   "cell_type": "code",
   "execution_count": 33,
   "metadata": {
    "collapsed": false,
    "is_executing": true
   },
   "outputs": [
    {
     "name": "stdout",
     "output_type": "stream",
     "text": [
      "RT window size calculated as 240 seconds.\n",
      "Extracting chromatograms...\n",
      "Detecting chromatographic peaks...\n",
      "Found 536 feature candidates in total.\n",
      "92 features left after selection of best candidates.\n",
      "Model fitting: 1 successes, 44 failures\n",
      "Imputing model failures with a linear model based on log(rawIntensities). Slope: 1, Intercept: 0.207468\n"
     ]
    },
    {
     "name": "stderr",
     "output_type": "stream",
     "text": [
      "Error: Invalid charge 0 for target '6Z,9Z-Heneicosadien-11-one' - skipping this charge.\n",
      "Error: Invalid charge 0 for target '4,10-Dimethyltriacontane' - skipping this charge.\n",
      "Error: Invalid charge 0 for target '9,13-Dimethylheptacosane' - skipping this charge.\n",
      "Error: Invalid charge 0 for target 'trans-4S,5S-Epoxy-6Z,9Z-nonadecadiene' - skipping this charge.\n",
      "Error: Invalid charge 0 for target '(Z)-3-Decenyl (E)-2-hexenoate' - skipping this charge.\n",
      "Error: Invalid charge 0 for target '9Z-Hexadecenyl acetate' - skipping this charge.\n",
      "Error: Invalid charge 0 for target '2S-Hydroxyoctan-3-one' - skipping this charge.\n",
      "Error: Invalid charge 0 for target '7,7-Difluoro-8Z-dodecenyl acetate' - skipping this charge.\n"
     ]
    }
   ],
   "source": [
    "fm = feature_detection_targeted(\"../runs/tr_example/centroided_experiment.MzML\", mt[0:100], mz_window=5.0, rt_window=200.0, peak_width=3.0)"
   ]
  },
  {
   "cell_type": "code",
   "execution_count": 34,
   "metadata": {
    "ExecuteTime": {
     "start_time": "2024-01-24T17:08:44.052455566Z"
    }
   },
   "outputs": [],
   "source": [
    "# fm = targeted_feature_detection(\"../runs/centroided_experiment.MzML\", centroid_exp, \"../data/databases/compounds.tsv\", mz_window=5.0, rt_window=500.0, peak_width=3.0)\n",
    "oms.FeatureXMLFile().store(\"../runs/tr_example/targeted.featureXML\", fm)"
   ]
  },
  {
   "cell_type": "markdown",
   "metadata": {},
   "source": [
    "### Feature annotation by accurate mass"
   ]
  },
  {
   "cell_type": "code",
   "execution_count": 35,
   "metadata": {},
   "outputs": [],
   "source": [
    "# set path to your mzML files, or leave like this to use the example data\n",
    "run_dir = \"../runs/tr1\"\n",
    "run_dir = os.path.normpath(os.path.join(os.getcwd(), run_dir))\n",
    "\n",
    "# build_directory(run_dir)"
   ]
  },
  {
   "cell_type": "code",
   "execution_count": 36,
   "metadata": {},
   "outputs": [],
   "source": [
    "# run_dir = centroid_batch(run_dir, file_ending=\".mzML\")\n",
    "run_dir = os.path.normpath(os.path.join(os.getcwd(), os.path.join(run_dir, \"centroids\")))"
   ]
  },
  {
   "cell_type": "code",
   "execution_count": 37,
   "metadata": {},
   "outputs": [
    {
     "name": "stdout",
     "output_type": "stream",
     "text": [
      "Progress of 'mass trace detection':\n",
      "-- done [took 0.01 s (CPU), 0.00 s (Wall)] -- \n",
      "Progress of 'elution peak detection':\n",
      "-- done [took 0.01 s (CPU), 0.00 s (Wall)] -- \n",
      "Progress of 'assembling mass traces to features':\n",
      "-- done [took 0.00 s (CPU), 0.00 s (Wall)] -- \n",
      "Progress of 'mass trace detection':\n",
      "-- done [took 0.02 s (CPU), 0.00 s (Wall)] -- \n",
      "Progress of 'elution peak detection':\n",
      "-- done [took 0.00 s (CPU), 0.00 s (Wall)] -- \n",
      "Progress of 'assembling mass traces to features':\n",
      "-- done [took 0.00 s (CPU), 0.00 s (Wall)] -- \n"
     ]
    }
   ],
   "source": [
    "feature_maps = untargeted_features_detection(run_dir, \".mzML\", \n",
    "                                            mass_error_ppm=10.0, noise_threshold_int=1000.0,\n",
    "                                            width_filtering=\"fixed\", isotope_filtering_model=\"none\", remove_single_traces=\"true\",\n",
    "                                            mz_scoring_by_elements=\"false\", report_convex_hulls=\"true\")"
   ]
  },
  {
   "cell_type": "code",
   "execution_count": 1,
   "metadata": {},
   "outputs": [
    {
     "ename": "NameError",
     "evalue": "name 'align_retention_times' is not defined",
     "output_type": "error",
     "traceback": [
      "\u001b[0;31m---------------------------------------------------------------------------\u001b[0m",
      "\u001b[0;31mNameError\u001b[0m                                 Traceback (most recent call last)",
      "\u001b[1;32m/mnt/Data/Uni/Nextcloud/aktuelles_Semester/Thesis/MStoML/skripts/FIA_try.ipynb Cell 60\u001b[0m line \u001b[0;36m1\n\u001b[0;32m----> <a href='vscode-notebook-cell:/mnt/Data/Uni/Nextcloud/aktuelles_Semester/Thesis/MStoML/skripts/FIA_try.ipynb#Y113sZmlsZQ%3D%3D?line=0'>1</a>\u001b[0m feature_maps \u001b[39m=\u001b[39m align_retention_times(feature_maps, \n\u001b[1;32m      <a href='vscode-notebook-cell:/mnt/Data/Uni/Nextcloud/aktuelles_Semester/Thesis/MStoML/skripts/FIA_try.ipynb#Y113sZmlsZQ%3D%3D?line=1'>2</a>\u001b[0m                                     max_num_peaks_considered\u001b[39m=\u001b[39m\u001b[39m-\u001b[39m\u001b[39m1\u001b[39m,      \u001b[39m# -1 -> consider infinite/all peaks\u001b[39;00m\n\u001b[1;32m      <a href='vscode-notebook-cell:/mnt/Data/Uni/Nextcloud/aktuelles_Semester/Thesis/MStoML/skripts/FIA_try.ipynb#Y113sZmlsZQ%3D%3D?line=2'>3</a>\u001b[0m                                     max_mz_difference\u001b[39m=\u001b[39m\u001b[39m10.0\u001b[39m,\n\u001b[1;32m      <a href='vscode-notebook-cell:/mnt/Data/Uni/Nextcloud/aktuelles_Semester/Thesis/MStoML/skripts/FIA_try.ipynb#Y113sZmlsZQ%3D%3D?line=3'>4</a>\u001b[0m                                     mz_unit\u001b[39m=\u001b[39m\u001b[39m\"\u001b[39m\u001b[39mppm\u001b[39m\u001b[39m\"\u001b[39m)\n",
      "\u001b[0;31mNameError\u001b[0m: name 'align_retention_times' is not defined"
     ]
    }
   ],
   "source": [
    "feature_maps = align_retention_times(feature_maps, \n",
    "                                    max_num_peaks_considered=-1,      # -1 -> consider infinite/all peaks\n",
    "                                    max_mz_difference=10.0,\n",
    "                                    mz_unit=\"ppm\")"
   ]
  },
  {
   "cell_type": "code",
   "execution_count": 39,
   "metadata": {},
   "outputs": [
    {
     "data": {
      "image/png": "[encoded data removed]",
      "text/plain": [
       "<Figure size 1000x500 with 2 Axes>"
      ]
     },
     "metadata": {},
     "output_type": "display_data"
    }
   ],
   "source": [
    "plot_feature_map_rt_alignment(feature_maps)"
   ]
  },
  {
   "cell_type": "code",
   "execution_count": 40,
   "metadata": {},
   "outputs": [
    {
     "name": "stdout",
     "output_type": "stream",
     "text": [
      "Progress of 'computing RT transformations':\n",
      "<To ensure tracability of results please prefer mzML files as primary MS run.> occurred 3 times\n",
      "Warning: Only 3 data points for LOWESS fit of map 0. Consider adjusting RT or m/z tolerance or max_pairwise_log_fc, decreasing min_rel_cc_size, or increasing max_nr_conflicts.\n",
      "<Filename: '../runs/tr_example/centroided_experiment.MzML'> occurred 3 times\n",
      "Warning: Only 3 data points for LOWESS fit of map 1. Consider adjusting RT or m/z tolerance or max_pairwise_log_fc, decreasing min_rel_cc_size, or increasing max_nr_conflicts.\n",
      "-- done [took 0.00 s (CPU), 0.00 s (Wall)] -- \n",
      "Progress of 'linking features':\n",
      "-- done [took 0.00 s (CPU), 0.00 s (Wall)] -- \n"
     ]
    }
   ],
   "source": [
    "consensus_map = consensus_features_linking(feature_maps, feature_grouper=\"KD\")"
   ]
  },
  {
   "cell_type": "code",
   "execution_count": 41,
   "metadata": {},
   "outputs": [
    {
     "name": "stdout",
     "output_type": "stream",
     "text": [
      "Read 9635 entries from mapping file!\n",
      "Read 33 entries from adduct file '../runs/tr1/PositiveAdducts.tsv'.\n",
      "Read 15 entries from adduct file '../runs/tr1/NegativeAdducts.tsv'.\n",
      "Hits by adduct: #peaks explained (# matching db entries)'\n",
      "  'M+Br;1-' : 1 (5)\n",
      "  'M+Na-2H;1-' : 1 (4)\n",
      "  'M-H2O-H;1-' : 1 (1)\n",
      "  'M-H;1-' : 4 (7)\n",
      "\n"
     ]
    }
   ],
   "source": [
    "mass_search_df = accurate_mass_search(consensus_map, \"../runs/tr1\", \"tmp\",\n",
    " \"PositiveAdducts.tsv\", \"NegativeAdducts.tsv\", \"HMDBMappingFile.tsv\", \"HMDB2StructMapping.tsv\", ionization_mode=\"negative\")"
   ]
  },
  {
   "cell_type": "code",
   "execution_count": 42,
   "metadata": {},
   "outputs": [],
   "source": [
    "cm_df = consensus_map_to_df(consensus_map)"
   ]
  },
  {
   "cell_type": "code",
   "execution_count": 43,
   "metadata": {},
   "outputs": [],
   "source": [
    "filtered_cm_df = filter_consensus_map_df(cm_df, max_missing_values=1, min_feature_quality=0.8)\n",
    "imputed_cm_df = impute_consensus_map_df(filtered_cm_df, n_nearest_neighbours=2)"
   ]
  },
  {
   "cell_type": "code",
   "execution_count": 44,
   "metadata": {},
   "outputs": [],
   "source": [
    "def consensus_map_df_to_id_df(consensus_map_df:pd.DataFrame, mass_search_df:pd.DataFrame, result_dir:str) -> pd.DataFrame:\n",
    "    clean_dir(result_dir)\n",
    "    id_df = consensus_map_df\n",
    "\n",
    "    id_df[\"identifications\"] = pd.Series([\"\" for x in range(len(id_df.index))])\n",
    "\n",
    "    for rt, mz, description in zip(\n",
    "        mass_search_df[\"retention_time\"],\n",
    "        mass_search_df[\"exp_mass_to_charge\"],\n",
    "        mass_search_df[\"description\"],\n",
    "    ):\n",
    "        indices = id_df.index[\n",
    "            isclose(id_df[\"mz\"], float(mz), atol=1e-05)\n",
    "            & isclose(id_df[\"RT\"], float(rt), atol=1e-05)\n",
    "        ].tolist()\n",
    "        for index in indices:\n",
    "            if description != \"null\":\n",
    "                id_df.loc[index, \"identifications\"] += str(description) + \";\"\n",
    "    id_df[\"identifications\"] = [\n",
    "        item[:-1] if \";\" in item else \"\" for item in id_df[\"identifications\"]\n",
    "    ]\n",
    "    id_df.to_csv(os.path.join(result_dir, \"result.tsv\"), sep=\"\\t\", index=False)\n",
    "    return id_df"
   ]
  },
  {
   "cell_type": "code",
   "execution_count": 46,
   "metadata": {},
   "outputs": [],
   "source": [
    "id_df = consensus_map_df_to_id_df(imputed_cm_df, mass_search_df, \"../runs/tr1/results\")"
   ]
  },
  {
   "cell_type": "code",
   "execution_count": 47,
   "metadata": {},
   "outputs": [
    {
     "data": {
      "application/vnd.plotly.v1+json": {
       "config": {
        "plotlyServerURL": "https://plot.ly"
       },
       "data": [
        {
         "hovertemplate": "<b>%{hovertext}</b><br><br>RT=%{x}<br>mz=%{y}<extra></extra>",
         "hovertext": [],
         "legendgroup": "",
         "marker": {
          "color": "#636efa",
          "symbol": "circle"
         },
         "mode": "markers",
         "name": "",
         "orientation": "v",
         "showlegend": false,
         "type": "scatter",
         "x": [],
         "xaxis": "x",
         "y": [],
         "yaxis": "y"
        }
       ],
       "layout": {
        "legend": {
         "tracegroupgap": 0
        },
        "margin": {
         "t": 60
        },
        "template": {
         "data": {
          "bar": [
           {
            "error_x": {
             "color": "#2a3f5f"
            },
            "error_y": {
             "color": "#2a3f5f"
            },
            "marker": {
             "line": {
              "color": "#E5ECF6",
              "width": 0.5
             },
             "pattern": {
              "fillmode": "overlay",
              "size": 10,
              "solidity": 0.2
             }
            },
            "type": "bar"
           }
          ],
          "barpolar": [
           {
            "marker": {
             "line": {
              "color": "#E5ECF6",
              "width": 0.5
             },
             "pattern": {
              "fillmode": "overlay",
              "size": 10,
              "solidity": 0.2
             }
            },
            "type": "barpolar"
           }
          ],
          "carpet": [
           {
            "aaxis": {
             "endlinecolor": "#2a3f5f",
             "gridcolor": "white",
             "linecolor": "white",
             "minorgridcolor": "white",
             "startlinecolor": "#2a3f5f"
            },
            "baxis": {
             "endlinecolor": "#2a3f5f",
             "gridcolor": "white",
             "linecolor": "white",
             "minorgridcolor": "white",
             "startlinecolor": "#2a3f5f"
            },
            "type": "carpet"
           }
          ],
          "choropleth": [
           {
            "colorbar": {
             "outlinewidth": 0,
             "ticks": ""
            },
            "type": "choropleth"
           }
          ],
          "contour": [
           {
            "colorbar": {
             "outlinewidth": 0,
             "ticks": ""
            },
            "colorscale": [
             [
              0,
              "#0d0887"
             ],
             [
              0.1111111111111111,
              "#46039f"
             ],
             [
              0.2222222222222222,
              "#7201a8"
             ],
             [
              0.3333333333333333,
              "#9c179e"
             ],
             [
              0.4444444444444444,
              "#bd3786"
             ],
             [
              0.5555555555555556,
              "#d8576b"
             ],
             [
              0.6666666666666666,
              "#ed7953"
             ],
             [
              0.7777777777777778,
              "#fb9f3a"
             ],
             [
              0.8888888888888888,
              "#fdca26"
             ],
             [
              1,
              "#f0f921"
             ]
            ],
            "type": "contour"
           }
          ],
          "contourcarpet": [
           {
            "colorbar": {
             "outlinewidth": 0,
             "ticks": ""
            },
            "type": "contourcarpet"
           }
          ],
          "heatmap": [
           {
            "colorbar": {
             "outlinewidth": 0,
             "ticks": ""
            },
            "colorscale": [
             [
              0,
              "#0d0887"
             ],
             [
              0.1111111111111111,
              "#46039f"
             ],
             [
              0.2222222222222222,
              "#7201a8"
             ],
             [
              0.3333333333333333,
              "#9c179e"
             ],
             [
              0.4444444444444444,
              "#bd3786"
             ],
             [
              0.5555555555555556,
              "#d8576b"
             ],
             [
              0.6666666666666666,
              "#ed7953"
             ],
             [
              0.7777777777777778,
              "#fb9f3a"
             ],
             [
              0.8888888888888888,
              "#fdca26"
             ],
             [
              1,
              "#f0f921"
             ]
            ],
            "type": "heatmap"
           }
          ],
          "heatmapgl": [
           {
            "colorbar": {
             "outlinewidth": 0,
             "ticks": ""
            },
            "colorscale": [
             [
              0,
              "#0d0887"
             ],
             [
              0.1111111111111111,
              "#46039f"
             ],
             [
              0.2222222222222222,
              "#7201a8"
             ],
             [
              0.3333333333333333,
              "#9c179e"
             ],
             [
              0.4444444444444444,
              "#bd3786"
             ],
             [
              0.5555555555555556,
              "#d8576b"
             ],
             [
              0.6666666666666666,
              "#ed7953"
             ],
             [
              0.7777777777777778,
              "#fb9f3a"
             ],
             [
              0.8888888888888888,
              "#fdca26"
             ],
             [
              1,
              "#f0f921"
             ]
            ],
            "type": "heatmapgl"
           }
          ],
          "histogram": [
           {
            "marker": {
             "pattern": {
              "fillmode": "overlay",
              "size": 10,
              "solidity": 0.2
             }
            },
            "type": "histogram"
           }
          ],
          "histogram2d": [
           {
            "colorbar": {
             "outlinewidth": 0,
             "ticks": ""
            },
            "colorscale": [
             [
              0,
              "#0d0887"
             ],
             [
              0.1111111111111111,
              "#46039f"
             ],
             [
              0.2222222222222222,
              "#7201a8"
             ],
             [
              0.3333333333333333,
              "#9c179e"
             ],
             [
              0.4444444444444444,
              "#bd3786"
             ],
             [
              0.5555555555555556,
              "#d8576b"
             ],
             [
              0.6666666666666666,
              "#ed7953"
             ],
             [
              0.7777777777777778,
              "#fb9f3a"
             ],
             [
              0.8888888888888888,
              "#fdca26"
             ],
             [
              1,
              "#f0f921"
             ]
            ],
            "type": "histogram2d"
           }
          ],
          "histogram2dcontour": [
           {
            "colorbar": {
             "outlinewidth": 0,
             "ticks": ""
            },
            "colorscale": [
             [
              0,
              "#0d0887"
             ],
             [
              0.1111111111111111,
              "#46039f"
             ],
             [
              0.2222222222222222,
              "#7201a8"
             ],
             [
              0.3333333333333333,
              "#9c179e"
             ],
             [
              0.4444444444444444,
              "#bd3786"
             ],
             [
              0.5555555555555556,
              "#d8576b"
             ],
             [
              0.6666666666666666,
              "#ed7953"
             ],
             [
              0.7777777777777778,
              "#fb9f3a"
             ],
             [
              0.8888888888888888,
              "#fdca26"
             ],
             [
              1,
              "#f0f921"
             ]
            ],
            "type": "histogram2dcontour"
           }
          ],
          "mesh3d": [
           {
            "colorbar": {
             "outlinewidth": 0,
             "ticks": ""
            },
            "type": "mesh3d"
           }
          ],
          "parcoords": [
           {
            "line": {
             "colorbar": {
              "outlinewidth": 0,
              "ticks": ""
             }
            },
            "type": "parcoords"
           }
          ],
          "pie": [
           {
            "automargin": true,
            "type": "pie"
           }
          ],
          "scatter": [
           {
            "fillpattern": {
             "fillmode": "overlay",
             "size": 10,
             "solidity": 0.2
            },
            "type": "scatter"
           }
          ],
          "scatter3d": [
           {
            "line": {
             "colorbar": {
              "outlinewidth": 0,
              "ticks": ""
             }
            },
            "marker": {
             "colorbar": {
              "outlinewidth": 0,
              "ticks": ""
             }
            },
            "type": "scatter3d"
           }
          ],
          "scattercarpet": [
           {
            "marker": {
             "colorbar": {
              "outlinewidth": 0,
              "ticks": ""
             }
            },
            "type": "scattercarpet"
           }
          ],
          "scattergeo": [
           {
            "marker": {
             "colorbar": {
              "outlinewidth": 0,
              "ticks": ""
             }
            },
            "type": "scattergeo"
           }
          ],
          "scattergl": [
           {
            "marker": {
             "colorbar": {
              "outlinewidth": 0,
              "ticks": ""
             }
            },
            "type": "scattergl"
           }
          ],
          "scattermapbox": [
           {
            "marker": {
             "colorbar": {
              "outlinewidth": 0,
              "ticks": ""
             }
            },
            "type": "scattermapbox"
           }
          ],
          "scatterpolar": [
           {
            "marker": {
             "colorbar": {
              "outlinewidth": 0,
              "ticks": ""
             }
            },
            "type": "scatterpolar"
           }
          ],
          "scatterpolargl": [
           {
            "marker": {
             "colorbar": {
              "outlinewidth": 0,
              "ticks": ""
             }
            },
            "type": "scatterpolargl"
           }
          ],
          "scatterternary": [
           {
            "marker": {
             "colorbar": {
              "outlinewidth": 0,
              "ticks": ""
             }
            },
            "type": "scatterternary"
           }
          ],
          "surface": [
           {
            "colorbar": {
             "outlinewidth": 0,
             "ticks": ""
            },
            "colorscale": [
             [
              0,
              "#0d0887"
             ],
             [
              0.1111111111111111,
              "#46039f"
             ],
             [
              0.2222222222222222,
              "#7201a8"
             ],
             [
              0.3333333333333333,
              "#9c179e"
             ],
             [
              0.4444444444444444,
              "#bd3786"
             ],
             [
              0.5555555555555556,
              "#d8576b"
             ],
             [
              0.6666666666666666,
              "#ed7953"
             ],
             [
              0.7777777777777778,
              "#fb9f3a"
             ],
             [
              0.8888888888888888,
              "#fdca26"
             ],
             [
              1,
              "#f0f921"
             ]
            ],
            "type": "surface"
           }
          ],
          "table": [
           {
            "cells": {
             "fill": {
              "color": "#EBF0F8"
             },
             "line": {
              "color": "white"
             }
            },
            "header": {
             "fill": {
              "color": "#C8D4E3"
             },
             "line": {
              "color": "white"
             }
            },
            "type": "table"
           }
          ]
         },
         "layout": {
          "annotationdefaults": {
           "arrowcolor": "#2a3f5f",
           "arrowhead": 0,
           "arrowwidth": 1
          },
          "autotypenumbers": "strict",
          "coloraxis": {
           "colorbar": {
            "outlinewidth": 0,
            "ticks": ""
           }
          },
          "colorscale": {
           "diverging": [
            [
             0,
             "#8e0152"
            ],
            [
             0.1,
             "#c51b7d"
            ],
            [
             0.2,
             "#de77ae"
            ],
            [
             0.3,
             "#f1b6da"
            ],
            [
             0.4,
             "#fde0ef"
            ],
            [
             0.5,
             "#f7f7f7"
            ],
            [
             0.6,
             "#e6f5d0"
            ],
            [
             0.7,
             "#b8e186"
            ],
            [
             0.8,
             "#7fbc41"
            ],
            [
             0.9,
             "#4d9221"
            ],
            [
             1,
             "#276419"
            ]
           ],
           "sequential": [
            [
             0,
             "#0d0887"
            ],
            [
             0.1111111111111111,
             "#46039f"
            ],
            [
             0.2222222222222222,
             "#7201a8"
            ],
            [
             0.3333333333333333,
             "#9c179e"
            ],
            [
             0.4444444444444444,
             "#bd3786"
            ],
            [
             0.5555555555555556,
             "#d8576b"
            ],
            [
             0.6666666666666666,
             "#ed7953"
            ],
            [
             0.7777777777777778,
             "#fb9f3a"
            ],
            [
             0.8888888888888888,
             "#fdca26"
            ],
            [
             1,
             "#f0f921"
            ]
           ],
           "sequentialminus": [
            [
             0,
             "#0d0887"
            ],
            [
             0.1111111111111111,
             "#46039f"
            ],
            [
             0.2222222222222222,
             "#7201a8"
            ],
            [
             0.3333333333333333,
             "#9c179e"
            ],
            [
             0.4444444444444444,
             "#bd3786"
            ],
            [
             0.5555555555555556,
             "#d8576b"
            ],
            [
             0.6666666666666666,
             "#ed7953"
            ],
            [
             0.7777777777777778,
             "#fb9f3a"
            ],
            [
             0.8888888888888888,
             "#fdca26"
            ],
            [
             1,
             "#f0f921"
            ]
           ]
          },
          "colorway": [
           "#636efa",
           "#EF553B",
           "#00cc96",
           "#ab63fa",
           "#FFA15A",
           "#19d3f3",
           "#FF6692",
           "#B6E880",
           "#FF97FF",
           "#FECB52"
          ],
          "font": {
           "color": "#2a3f5f"
          },
          "geo": {
           "bgcolor": "white",
           "lakecolor": "white",
           "landcolor": "#E5ECF6",
           "showlakes": true,
           "showland": true,
           "subunitcolor": "white"
          },
          "hoverlabel": {
           "align": "left"
          },
          "hovermode": "closest",
          "mapbox": {
           "style": "light"
          },
          "paper_bgcolor": "white",
          "plot_bgcolor": "#E5ECF6",
          "polar": {
           "angularaxis": {
            "gridcolor": "white",
            "linecolor": "white",
            "ticks": ""
           },
           "bgcolor": "#E5ECF6",
           "radialaxis": {
            "gridcolor": "white",
            "linecolor": "white",
            "ticks": ""
           }
          },
          "scene": {
           "xaxis": {
            "backgroundcolor": "#E5ECF6",
            "gridcolor": "white",
            "gridwidth": 2,
            "linecolor": "white",
            "showbackground": true,
            "ticks": "",
            "zerolinecolor": "white"
           },
           "yaxis": {
            "backgroundcolor": "#E5ECF6",
            "gridcolor": "white",
            "gridwidth": 2,
            "linecolor": "white",
            "showbackground": true,
            "ticks": "",
            "zerolinecolor": "white"
           },
           "zaxis": {
            "backgroundcolor": "#E5ECF6",
            "gridcolor": "white",
            "gridwidth": 2,
            "linecolor": "white",
            "showbackground": true,
            "ticks": "",
            "zerolinecolor": "white"
           }
          },
          "shapedefaults": {
           "line": {
            "color": "#2a3f5f"
           }
          },
          "ternary": {
           "aaxis": {
            "gridcolor": "white",
            "linecolor": "white",
            "ticks": ""
           },
           "baxis": {
            "gridcolor": "white",
            "linecolor": "white",
            "ticks": ""
           },
           "bgcolor": "#E5ECF6",
           "caxis": {
            "gridcolor": "white",
            "linecolor": "white",
            "ticks": ""
           }
          },
          "title": {
           "x": 0.05
          },
          "xaxis": {
           "automargin": true,
           "gridcolor": "white",
           "linecolor": "white",
           "ticks": "",
           "title": {
            "standoff": 15
           },
           "zerolinecolor": "white",
           "zerolinewidth": 2
          },
          "yaxis": {
           "automargin": true,
           "gridcolor": "white",
           "linecolor": "white",
           "ticks": "",
           "title": {
            "standoff": 15
           },
           "zerolinecolor": "white",
           "zerolinewidth": 2
          }
         }
        },
        "title": {
         "text": "Consensus features with identifications (hover)"
        },
        "xaxis": {
         "anchor": "y",
         "domain": [
          0,
          1
         ],
         "title": {
          "text": "RT"
         }
        },
        "yaxis": {
         "anchor": "x",
         "domain": [
          0,
          1
         ],
         "title": {
          "text": "mz"
         }
        }
       }
      }
     },
     "metadata": {},
     "output_type": "display_data"
    }
   ],
   "source": [
    "plot_id_df(id_df)"
   ]
  },
  {
   "cell_type": "markdown",
   "metadata": {},
   "source": [
    "### Plot"
   ]
  },
  {
   "cell_type": "code",
   "execution_count": null,
   "metadata": {
    "ExecuteTime": {
     "start_time": "2024-01-24T17:08:44.056519101Z"
    }
   },
   "outputs": [],
   "source": [
    "feature_map = read_feature_map_XML(\"../runs/targeted.featureXML\")"
   ]
  },
  {
   "cell_type": "code",
   "execution_count": null,
   "metadata": {
    "ExecuteTime": {
     "start_time": "2024-01-24T17:08:44.103732021Z"
    }
   },
   "outputs": [
    {
     "data": {
      "application/vnd.plotly.v1+json": {
       "config": {
        "plotlyServerURL": "https://plot.ly"
       },
       "data": [
        {
         "hovertemplate": "labels=(2E)-geranyl diphosphate_0<br>m/z=%{x}<br>rt=%{y}<br>intensity=%{z}<extra></extra>",
         "legendgroup": "(2E)-geranyl diphosphate_0",
         "line": {
          "color": "#636efa",
          "dash": "solid"
         },
         "marker": {
          "symbol": "circle"
         },
         "mode": "lines",
         "name": "(2E)-geranyl diphosphate_0",
         "scene": "scene",
         "showlegend": false,
         "type": "scatter3d",
         "x": [
          102.674923533229,
          102.674923533229,
          103.00937514582901,
          103.00937514582901
         ],
         "y": [
          8.017999649047852,
          8.732999801635742,
          8.017999649047852,
          8.732999801635742
         ],
         "z": [
          0,
          159.0012664794922,
          0,
          232.7641143798828
         ]
        },
        {
         "hovertemplate": "labels=(3-hydroxy-2-oxindol-3-yl)acetyl-L-aspartate_0<br>m/z=%{x}<br>rt=%{y}<br>intensity=%{z}<extra></extra>",
         "legendgroup": "(3-hydroxy-2-oxindol-3-yl)acetyl-L-aspartate_0",
         "line": {
          "color": "#EF553B",
          "dash": "solid"
         },
         "marker": {
          "symbol": "circle"
         },
         "mode": "lines",
         "name": "(3-hydroxy-2-oxindol-3-yl)acetyl-L-aspartate_0",
         "scene": "scene",
         "showlegend": false,
         "type": "scatter3d",
         "x": [
          159.02549853322898,
          159.02549853322898,
          159.02549853322898,
          159.52717595212897,
          159.52717595212897,
          159.52717595212897
         ],
         "y": [
          5.160999774932861,
          5.875,
          6.590000152587891,
          5.160999774932861,
          5.875,
          6.590000152587891
         ],
         "z": [
          0,
          0,
          0,
          3.0000765323638916,
          37.39716720581055,
          0
         ]
        },
        {
         "hovertemplate": "labels=1-(14Z,17Z,20Z,23Z,26Z-dotriacontapentaenoyl)-2-(10Z,13Z,16Z,19Z,22Z,25Z-octacosahexaenoyl)-sn-glycero-3-phospho-N-(11Z-octadecenoyl)-ethanolamine/1-(14Z,17Z,20Z,23Z,26Z-dotriacontapentaenoyl)-2-(10Z,13Z,16Z,19Z,22Z,25Z-octacosahexaenoyl)-sn-glycero-3-phospho-N-(9Z-octadecenoyl)-ethanolamine/1-(14Z,17Z,20Z,23Z,26Z-dotriacontapentaenoyl)-2-(10Z,13Z,16Z,19Z,22Z-octacosapentaenoyl)-sn-glycero-3-phospho-N-(9Z,12Z-octadecadienoyl)-ethanolamine/1-(14Z,17Z,20Z,23Z,26Z-dotriacontapentaenoyl)-2-(13Z,16Z,19Z,22Z,25Z-octacosapentaenoyl)-sn-glycero-3-phospho-N-(9Z,12Z-octadecadienoyl)-ethanolamine/1-(14Z,17Z,20Z,23Z,26Z-dotriacontapentaenoyl)-2-(13Z,16Z,19Z,22Z-octacosatetraenoyl)-sn-glycero-3-phospho-N-(6Z,9Z,12Z-octadecatrienoyl)-ethanolamine/1-(14Z,17Z,20Z,23Z,26Z-dotriacontapentaenoyl)-2-(13Z,16Z,19Z,22Z-octacosatetraenoyl)-sn-glycero-3-phospho-N-(9Z,12Z,15Z-octadecatrienoyl)-ethanolamine/1-(14Z,17Z,20Z,23Z,26Z-dotriacontapentaenoyl)-2-(15Z-tetracosenoyl)-sn-glycero-3-phospho-N-(4Z,7Z,10Z,13Z,16Z,19Z-docosahexaenoyl)-ethanolamine_0<br>m/z=%{x}<br>rt=%{y}<br>intensity=%{z}<extra></extra>",
         "legendgroup": "1-(14Z,17Z,20Z,23Z,26Z-dotriacontapentaenoyl)-2-(10Z,13Z,16Z,19Z,22Z,25Z-octacosahexaenoyl)-sn-glycero-3-phospho-N-(11Z-octadecenoyl)-ethanolamine/1-(14Z,17Z,20Z,23Z,26Z-dotriacontapentaenoyl)-2-(10Z,13Z,16Z,19Z,22Z,25Z-octacosahexaenoyl)-sn-glycero-3-phospho-N-(9Z-octadecenoyl)-ethanolamine/1-(14Z,17Z,20Z,23Z,26Z-dotriacontapentaenoyl)-2-(10Z,13Z,16Z,19Z,22Z-octacosapentaenoyl)-sn-glycero-3-phospho-N-(9Z,12Z-octadecadienoyl)-ethanolamine/1-(14Z,17Z,20Z,23Z,26Z-dotriacontapentaenoyl)-2-(13Z,16Z,19Z,22Z,25Z-octacosapentaenoyl)-sn-glycero-3-phospho-N-(9Z,12Z-octadecadienoyl)-ethanolamine/1-(14Z,17Z,20Z,23Z,26Z-dotriacontapentaenoyl)-2-(13Z,16Z,19Z,22Z-octacosatetraenoyl)-sn-glycero-3-phospho-N-(6Z,9Z,12Z-octadecatrienoyl)-ethanolamine/1-(14Z,17Z,20Z,23Z,26Z-dotriacontapentaenoyl)-2-(13Z,16Z,19Z,22Z-octacosatetraenoyl)-sn-glycero-3-phospho-N-(9Z,12Z,15Z-octadecatrienoyl)-ethanolamine/1-(14Z,17Z,20Z,23Z,26Z-dotriacontapentaenoyl)-2-(15Z-tetracosenoyl)-sn-glycero-3-phospho-N-(4Z,7Z,10Z,13Z,16Z,19Z-docosahexaenoyl)-ethanolamine_0",
         "line": {
          "color": "#00cc96",
          "dash": "solid"
         },
         "marker": {
          "symbol": "circle"
         },
         "mode": "lines",
         "name": "1-(14Z,17Z,20Z,23Z,26Z-dotriacontapentaenoyl)-2-(10Z,13Z,16Z,19Z,22Z,25Z-octacosahexaenoyl)-sn-glycero-3-phospho-N-(11Z-octadecenoyl)-ethanolamine/1-(14Z,17Z,20Z,23Z,26Z-dotriacontapentaenoyl)-2-(10Z,13Z,16Z,19Z,22Z,25Z-octacosahexaenoyl)-sn-glycero-3-phospho-N-(9Z-octadecenoyl)-ethanolamine/1-(14Z,17Z,20Z,23Z,26Z-dotriacontapentaenoyl)-2-(10Z,13Z,16Z,19Z,22Z-octacosapentaenoyl)-sn-glycero-3-phospho-N-(9Z,12Z-octadecadienoyl)-ethanolamine/1-(14Z,17Z,20Z,23Z,26Z-dotriacontapentaenoyl)-2-(13Z,16Z,19Z,22Z,25Z-octacosapentaenoyl)-sn-glycero-3-phospho-N-(9Z,12Z-octadecadienoyl)-ethanolamine/1-(14Z,17Z,20Z,23Z,26Z-dotriacontapentaenoyl)-2-(13Z,16Z,19Z,22Z-octacosatetraenoyl)-sn-glycero-3-phospho-N-(6Z,9Z,12Z-octadecatrienoyl)-ethanolamine/1-(14Z,17Z,20Z,23Z,26Z-dotriacontapentaenoyl)-2-(13Z,16Z,19Z,22Z-octacosatetraenoyl)-sn-glycero-3-phospho-N-(9Z,12Z,15Z-octadecatrienoyl)-ethanolamine/1-(14Z,17Z,20Z,23Z,26Z-dotriacontapentaenoyl)-2-(15Z-tetracosenoyl)-sn-glycero-3-phospho-N-(4Z,7Z,10Z,13Z,16Z,19Z-docosahexaenoyl)-ethanolamine_0",
         "scene": "scene",
         "showlegend": false,
         "type": "scatter3d",
         "x": [
          1324.012023533229,
          1324.012023533229,
          1325.015378371029,
          1325.015378371029
         ],
         "y": [
          5.160999774932861,
          5.875,
          5.160999774932861,
          5.875
         ],
         "z": [
          135.1376953125,
          0,
          0,
          0
         ]
        },
        {
         "hovertemplate": "labels=1-(14Z,17Z,20Z,23Z,26Z-dotriacontapentaenoyl)-2-(10Z,13Z,16Z,19Z,22Z,25Z-octacosahexaenoyl)-sn-glycero-3-phospho-N-(4Z,7Z,10Z,13Z,16Z,19Z-docosahexaenoyl)-ethanolamine_0<br>m/z=%{x}<br>rt=%{y}<br>intensity=%{z}<extra></extra>",
         "legendgroup": "1-(14Z,17Z,20Z,23Z,26Z-dotriacontapentaenoyl)-2-(10Z,13Z,16Z,19Z,22Z,25Z-octacosahexaenoyl)-sn-glycero-3-phospho-N-(4Z,7Z,10Z,13Z,16Z,19Z-docosahexaenoyl)-ethanolamine_0",
         "line": {
          "color": "#ab63fa",
          "dash": "solid"
         },
         "marker": {
          "symbol": "circle"
         },
         "mode": "lines",
         "name": "1-(14Z,17Z,20Z,23Z,26Z-dotriacontapentaenoyl)-2-(10Z,13Z,16Z,19Z,22Z,25Z-octacosahexaenoyl)-sn-glycero-3-phospho-N-(4Z,7Z,10Z,13Z,16Z,19Z-docosahexaenoyl)-ethanolamine_0",
         "scene": "scene",
         "showlegend": false,
         "type": "scatter3d",
         "x": [
          1369.9963735332294,
          1369.9963735332294,
          1369.9963735332294,
          1370.9997283710293,
          1370.9997283710293,
          1370.9997283710293
         ],
         "y": [
          11.590999603271484,
          12.305000305175781,
          13.019000053405762,
          11.590999603271484,
          12.305000305175781,
          13.019000053405762
         ],
         "z": [
          657.658447265625,
          702.010009765625,
          695.6703491210938,
          726.4014892578125,
          1657.300048828125,
          0
         ]
        },
        {
         "hovertemplate": "labels=1-(14Z,17Z,20Z,23Z,26Z-dotriacontapentaenoyl)-2-(10Z,13Z,16Z,19Z,22Z,25Z-octacosahexaenoyl)-sn-glycero-3-phospho-N-(5Z,8Z,11Z,14Z-eicosatetraenoyl)-ethanolamine/1-(14Z,17Z,20Z,23Z,26Z-dotriacontapentaenoyl)-2-(11Z,14Z,17Z,20Z-hexacosatetraenoyl)-sn-glycero-3-phospho-N-(4Z,7Z,10Z,13Z,16Z,19Z-docosahexaenoyl)-ethanolamine_0<br>m/z=%{x}<br>rt=%{y}<br>intensity=%{z}<extra></extra>",
         "legendgroup": "1-(14Z,17Z,20Z,23Z,26Z-dotriacontapentaenoyl)-2-(10Z,13Z,16Z,19Z,22Z,25Z-octacosahexaenoyl)-sn-glycero-3-phospho-N-(5Z,8Z,11Z,14Z-eicosatetraenoyl)-ethanolamine/1-(14Z,17Z,20Z,23Z,26Z-dotriacontapentaenoyl)-2-(11Z,14Z,17Z,20Z-hexacosatetraenoyl)-sn-glycero-3-phospho-N-(4Z,7Z,10Z,13Z,16Z,19Z-docosahexaenoyl)-ethanolamine_0",
         "line": {
          "color": "#FFA15A",
          "dash": "solid"
         },
         "marker": {
          "symbol": "circle"
         },
         "mode": "lines",
         "name": "1-(14Z,17Z,20Z,23Z,26Z-dotriacontapentaenoyl)-2-(10Z,13Z,16Z,19Z,22Z,25Z-octacosahexaenoyl)-sn-glycero-3-phospho-N-(5Z,8Z,11Z,14Z-eicosatetraenoyl)-ethanolamine/1-(14Z,17Z,20Z,23Z,26Z-dotriacontapentaenoyl)-2-(11Z,14Z,17Z,20Z-hexacosatetraenoyl)-sn-glycero-3-phospho-N-(4Z,7Z,10Z,13Z,16Z,19Z-docosahexaenoyl)-ethanolamine_0",
         "scene": "scene",
         "showlegend": false,
         "type": "scatter3d",
         "x": [
          1345.9963735332294,
          1345.9963735332294,
          1346.9997283710293,
          1346.9997283710293
         ],
         "y": [
          7.303999900817871,
          8.017999649047852,
          7.303999900817871,
          8.017999649047852
         ],
         "z": [
          598.0799560546875,
          0,
          0,
          0
         ]
        },
        {
         "hovertemplate": "labels=1-(14Z,17Z,20Z,23Z,26Z-dotriacontapentaenoyl)-2-(10Z,13Z,16Z,19Z,22Z,25Z-octacosahexaenoyl)-sn-glycero-3-phospho-N-(6Z,9Z,12Z-octadecatrienoyl)-ethanolamine/1-(14Z,17Z,20Z,23Z,26Z-dotriacontapentaenoyl)-2-(10Z,13Z,16Z,19Z,22Z,25Z-octacosahexaenoyl)-sn-glycero-3-phospho-N-(9Z,12Z,15Z-octadecatrienoyl)-ethanolamine/1-(14Z,17Z,20Z,23Z,26Z-dotriacontapentaenoyl)-2-(11Z,14Z,17Z,20Z,23Z-hexacosapentaenoyl)-sn-glycero-3-phospho-N-(5Z,8Z,11Z,14Z-eicosatetraenoyl)-ethanolamine/1-(14Z,17Z,20Z,23Z,26Z-dotriacontapentaenoyl)-2-(8Z,11Z,14Z,17Z,20Z-hexacosapentaenoyl)-sn-glycero-3-phospho-N-(5Z,8Z,11Z,14Z-eicosatetraenoyl)-ethanolamine_0<br>m/z=%{x}<br>rt=%{y}<br>intensity=%{z}<extra></extra>",
         "legendgroup": "1-(14Z,17Z,20Z,23Z,26Z-dotriacontapentaenoyl)-2-(10Z,13Z,16Z,19Z,22Z,25Z-octacosahexaenoyl)-sn-glycero-3-phospho-N-(6Z,9Z,12Z-octadecatrienoyl)-ethanolamine/1-(14Z,17Z,20Z,23Z,26Z-dotriacontapentaenoyl)-2-(10Z,13Z,16Z,19Z,22Z,25Z-octacosahexaenoyl)-sn-glycero-3-phospho-N-(9Z,12Z,15Z-octadecatrienoyl)-ethanolamine/1-(14Z,17Z,20Z,23Z,26Z-dotriacontapentaenoyl)-2-(11Z,14Z,17Z,20Z,23Z-hexacosapentaenoyl)-sn-glycero-3-phospho-N-(5Z,8Z,11Z,14Z-eicosatetraenoyl)-ethanolamine/1-(14Z,17Z,20Z,23Z,26Z-dotriacontapentaenoyl)-2-(8Z,11Z,14Z,17Z,20Z-hexacosapentaenoyl)-sn-glycero-3-phospho-N-(5Z,8Z,11Z,14Z-eicosatetraenoyl)-ethanolamine_0",
         "line": {
          "color": "#19d3f3",
          "dash": "solid"
         },
         "marker": {
          "symbol": "circle"
         },
         "mode": "lines",
         "name": "1-(14Z,17Z,20Z,23Z,26Z-dotriacontapentaenoyl)-2-(10Z,13Z,16Z,19Z,22Z,25Z-octacosahexaenoyl)-sn-glycero-3-phospho-N-(6Z,9Z,12Z-octadecatrienoyl)-ethanolamine/1-(14Z,17Z,20Z,23Z,26Z-dotriacontapentaenoyl)-2-(10Z,13Z,16Z,19Z,22Z,25Z-octacosahexaenoyl)-sn-glycero-3-phospho-N-(9Z,12Z,15Z-octadecatrienoyl)-ethanolamine/1-(14Z,17Z,20Z,23Z,26Z-dotriacontapentaenoyl)-2-(11Z,14Z,17Z,20Z,23Z-hexacosapentaenoyl)-sn-glycero-3-phospho-N-(5Z,8Z,11Z,14Z-eicosatetraenoyl)-ethanolamine/1-(14Z,17Z,20Z,23Z,26Z-dotriacontapentaenoyl)-2-(8Z,11Z,14Z,17Z,20Z-hexacosapentaenoyl)-sn-glycero-3-phospho-N-(5Z,8Z,11Z,14Z-eicosatetraenoyl)-ethanolamine_0",
         "scene": "scene",
         "showlegend": false,
         "type": "scatter3d",
         "x": [
          1319.9807235332291,
          1320.9840783710292
         ],
         "y": [
          7.303999900817871,
          7.303999900817871
         ],
         "z": [
          538.1769409179688,
          0
         ]
        },
        {
         "hovertemplate": "labels=1-(14Z,17Z,20Z,23Z,26Z-dotriacontapentaenoyl)-2-(10Z,13Z,16Z,19Z,22Z,25Z-octacosahexaenoyl)-sn-glycero-3-phospho-N-(9Z,12Z-octadecadienoyl)-ethanolamine/1-(14Z,17Z,20Z,23Z,26Z-dotriacontapentaenoyl)-2-(10Z,13Z,16Z,19Z,22Z-octacosapentaenoyl)-sn-glycero-3-phospho-N-(6Z,9Z,12Z-octadecatrienoyl)-ethanolamine/1-(14Z,17Z,20Z,23Z,26Z-dotriacontapentaenoyl)-2-(10Z,13Z,16Z,19Z,22Z-octacosapentaenoyl)-sn-glycero-3-phospho-N-(9Z,12Z,15Z-octadecatrienoyl)-ethanolamine/1-(14Z,17Z,20Z,23Z,26Z-dotriacontapentaenoyl)-2-(11Z,14Z,17Z,20Z-hexacosatetraenoyl)-sn-glycero-3-phospho-N-(5Z,8Z,11Z,14Z-eicosatetraenoyl)-ethanolamine/1-(14Z,17Z,20Z,23Z,26Z-dotriacontapentaenoyl)-2-(13Z,16Z,19Z,22Z,25Z-octacosapentaenoyl)-sn-glycero-3-phospho-N-(6Z,9Z,12Z-octadecatrienoyl)-ethanolamine/1-(14Z,17Z,20Z,23Z,26Z-dotriacontapentaenoyl)-2-(13Z,16Z,19Z,22Z,25Z-octacosapentaenoyl)-sn-glycero-3-phospho-N-(9Z,12Z,15Z-octadecatrienoyl)-ethanolamine_0<br>m/z=%{x}<br>rt=%{y}<br>intensity=%{z}<extra></extra>",
         "legendgroup": "1-(14Z,17Z,20Z,23Z,26Z-dotriacontapentaenoyl)-2-(10Z,13Z,16Z,19Z,22Z,25Z-octacosahexaenoyl)-sn-glycero-3-phospho-N-(9Z,12Z-octadecadienoyl)-ethanolamine/1-(14Z,17Z,20Z,23Z,26Z-dotriacontapentaenoyl)-2-(10Z,13Z,16Z,19Z,22Z-octacosapentaenoyl)-sn-glycero-3-phospho-N-(6Z,9Z,12Z-octadecatrienoyl)-ethanolamine/1-(14Z,17Z,20Z,23Z,26Z-dotriacontapentaenoyl)-2-(10Z,13Z,16Z,19Z,22Z-octacosapentaenoyl)-sn-glycero-3-phospho-N-(9Z,12Z,15Z-octadecatrienoyl)-ethanolamine/1-(14Z,17Z,20Z,23Z,26Z-dotriacontapentaenoyl)-2-(11Z,14Z,17Z,20Z-hexacosatetraenoyl)-sn-glycero-3-phospho-N-(5Z,8Z,11Z,14Z-eicosatetraenoyl)-ethanolamine/1-(14Z,17Z,20Z,23Z,26Z-dotriacontapentaenoyl)-2-(13Z,16Z,19Z,22Z,25Z-octacosapentaenoyl)-sn-glycero-3-phospho-N-(6Z,9Z,12Z-octadecatrienoyl)-ethanolamine/1-(14Z,17Z,20Z,23Z,26Z-dotriacontapentaenoyl)-2-(13Z,16Z,19Z,22Z,25Z-octacosapentaenoyl)-sn-glycero-3-phospho-N-(9Z,12Z,15Z-octadecatrienoyl)-ethanolamine_0",
         "line": {
          "color": "#FF6692",
          "dash": "solid"
         },
         "marker": {
          "symbol": "circle"
         },
         "mode": "lines",
         "name": "1-(14Z,17Z,20Z,23Z,26Z-dotriacontapentaenoyl)-2-(10Z,13Z,16Z,19Z,22Z,25Z-octacosahexaenoyl)-sn-glycero-3-phospho-N-(9Z,12Z-octadecadienoyl)-ethanolamine/1-(14Z,17Z,20Z,23Z,26Z-dotriacontapentaenoyl)-2-(10Z,13Z,16Z,19Z,22Z-octacosapentaenoyl)-sn-glycero-3-phospho-N-(6Z,9Z,12Z-octadecatrienoyl)-ethanolamine/1-(14Z,17Z,20Z,23Z,26Z-dotriacontapentaenoyl)-2-(10Z,13Z,16Z,19Z,22Z-octacosapentaenoyl)-sn-glycero-3-phospho-N-(9Z,12Z,15Z-octadecatrienoyl)-ethanolamine/1-(14Z,17Z,20Z,23Z,26Z-dotriacontapentaenoyl)-2-(11Z,14Z,17Z,20Z-hexacosatetraenoyl)-sn-glycero-3-phospho-N-(5Z,8Z,11Z,14Z-eicosatetraenoyl)-ethanolamine/1-(14Z,17Z,20Z,23Z,26Z-dotriacontapentaenoyl)-2-(13Z,16Z,19Z,22Z,25Z-octacosapentaenoyl)-sn-glycero-3-phospho-N-(6Z,9Z,12Z-octadecatrienoyl)-ethanolamine/1-(14Z,17Z,20Z,23Z,26Z-dotriacontapentaenoyl)-2-(13Z,16Z,19Z,22Z,25Z-octacosapentaenoyl)-sn-glycero-3-phospho-N-(9Z,12Z,15Z-octadecatrienoyl)-ethanolamine_0",
         "scene": "scene",
         "showlegend": false,
         "type": "scatter3d",
         "x": [
          1321.9963735332294,
          1321.9963735332294,
          1321.9963735332294,
          1321.9963735332294,
          1322.9997283710293,
          1322.9997283710293,
          1322.9997283710293,
          1322.9997283710293
         ],
         "y": [
          11.590999603271484,
          12.305000305175781,
          13.019000053405762,
          13.734000205993652,
          11.590999603271484,
          12.305000305175781,
          13.019000053405762,
          13.734000205993652
         ],
         "z": [
          0,
          1010.2206420898438,
          1234.1741943359375,
          0,
          0,
          956.6085815429688,
          827.0108642578125,
          0
         ]
        },
        {
         "hovertemplate": "labels=1-(14Z,17Z,20Z,23Z,26Z-dotriacontapentaenoyl)-2-(10Z,13Z,16Z,19Z,22Z,25Z-octacosahexaenoyl)-sn-glycero-3-phospho-N-decanoyl-ethanolamine/1-(14Z,17Z,20Z,23Z,26Z-dotriacontapentaenoyl)-2-(11Z,14Z,17Z-eicoastrienoyl)-sn-glycero-3-phospho-N-(6Z,9Z,12Z-octadecatrienoyl)-ethanolamine/1-(14Z,17Z,20Z,23Z,26Z-dotriacontapentaenoyl)-2-(11Z,14Z,17Z-eicoastrienoyl)-sn-glycero-3-phospho-N-(9Z,12Z,15Z-octadecatrienoyl)-ethanolamine/1-(14Z,17Z,20Z,23Z,26Z-dotriacontapentaenoyl)-2-(12Z,15Z,18Z,21Z,24Z,27Z-triacontahexaenoyl)-sn-glycero-3-phospho-N-octanoyl-ethanolamine/1-(14Z,17Z,20Z,23Z,26Z-dotriacontapentaenoyl)-2-(14Z,17Z,20Z,23Z,26Z,29Z-dotriacontahexaenoyl)-sn-glycero-3-phospho-N-hexanoyl-ethanolamine/1-(14Z,17Z,20Z,23Z,26Z-dotriacontapentaenoyl)-2-(4Z,7Z,10Z,13Z,16Z,19Z-docosahexaenoyl)-sn-glycero-3-phospho-N-hexadecanoyl-ethanolamine/1-(14Z,17Z,20Z,23Z,26Z-dotriacontapentaenoyl)-2-(5Z,8Z,11Z,14Z,17Z-eicosapentaenoyl)-sn-glycero-3-phospho-N-(11Z-octadecenoyl)-ethanolamine/1-(14Z,17Z,20Z,23Z,26Z-dotriacontapentaenoyl)-2-(5Z,8Z,11Z,14Z,17Z-eicosapentaenoyl)-sn-glycero-3-phospho-N-(9Z-octadecenoyl)-ethanolamine/1-(14Z,17Z,20Z,23Z,26Z-dotriacontapentaenoyl)-2-(5Z,8Z,11Z,14Z-eicosatetraenoyl)-sn-glycero-3-phospho-N-(9Z,12Z-octadecadienoyl)-ethanolamine/1-(14Z,17Z,20Z,23Z,26Z-dotriacontapentaenoyl)-2-(6Z,9Z,12Z,15Z,18Z,21Z-tetracosahexaenoyl)-sn-glycero-3-phospho-N-tetradecanoyl-ethanolamine/1-(14Z,17Z,20Z,23Z,26Z-dotriacontapentaenoyl)-2-(8Z,11Z,14Z,17Z,20Z,23Z-hexacosahexaenoyl)-sn-glycero-3-phospho-N-dodecanoyl-ethanolamine/1-(14Z,17Z,20Z,23Z,26Z-dotriacontapentaenoyl)-2-(8Z,11Z,14Z,17Z-eicosatetraenoyl)-sn-glycero-3-phospho-N-(9Z,12Z-octadecadienoyl)-ethanolamine/1-(14Z,17Z,20Z,23Z,26Z-dotriacontapentaenoyl)-2-(8Z,11Z,14Z-eicosatrienoyl)-sn-glycero-3-phospho-N-(6Z,9Z,12Z-octadecatrienoyl)-ethanolamine/1-(14Z,17Z,20Z,23Z,26Z-dotriacontapentaenoyl)-2-(8Z,11Z,14Z-eicosatrienoyl)-sn-glycero-3-phospho-N-(9Z,12Z,15Z-octadecatrienoyl)-ethanolamine/1-(14Z,17Z,20Z,23Z,26Z-dotriacontapentaenoyl)-2-(9Z,11E-octadecadienoyl)-sn-glycero-3-phospho-N-(5Z,8Z,11Z,14Z-eicosatetraenoyl)-ethanolamine/1-(14Z,17Z,20Z,23Z,26Z-dotriacontapentaenoyl)-2-(9Z,12Z-octadecadienoyl)-sn-glycero-3-phospho-N-(5Z,8Z,11Z,14Z-eicosatetraenoyl)-ethanolamine/1-(14Z,17Z,20Z,23Z,26Z-dotriacontapentaenoyl)-2-hexadecanoyl-sn-glycero-3-phospho-N-(4Z,7Z,10Z,13Z,16Z,19Z-docosahexaenoyl)-ethanolamine_0<br>m/z=%{x}<br>rt=%{y}<br>intensity=%{z}<extra></extra>",
         "legendgroup": "1-(14Z,17Z,20Z,23Z,26Z-dotriacontapentaenoyl)-2-(10Z,13Z,16Z,19Z,22Z,25Z-octacosahexaenoyl)-sn-glycero-3-phospho-N-decanoyl-ethanolamine/1-(14Z,17Z,20Z,23Z,26Z-dotriacontapentaenoyl)-2-(11Z,14Z,17Z-eicoastrienoyl)-sn-glycero-3-phospho-N-(6Z,9Z,12Z-octadecatrienoyl)-ethanolamine/1-(14Z,17Z,20Z,23Z,26Z-dotriacontapentaenoyl)-2-(11Z,14Z,17Z-eicoastrienoyl)-sn-glycero-3-phospho-N-(9Z,12Z,15Z-octadecatrienoyl)-ethanolamine/1-(14Z,17Z,20Z,23Z,26Z-dotriacontapentaenoyl)-2-(12Z,15Z,18Z,21Z,24Z,27Z-triacontahexaenoyl)-sn-glycero-3-phospho-N-octanoyl-ethanolamine/1-(14Z,17Z,20Z,23Z,26Z-dotriacontapentaenoyl)-2-(14Z,17Z,20Z,23Z,26Z,29Z-dotriacontahexaenoyl)-sn-glycero-3-phospho-N-hexanoyl-ethanolamine/1-(14Z,17Z,20Z,23Z,26Z-dotriacontapentaenoyl)-2-(4Z,7Z,10Z,13Z,16Z,19Z-docosahexaenoyl)-sn-glycero-3-phospho-N-hexadecanoyl-ethanolamine/1-(14Z,17Z,20Z,23Z,26Z-dotriacontapentaenoyl)-2-(5Z,8Z,11Z,14Z,17Z-eicosapentaenoyl)-sn-glycero-3-phospho-N-(11Z-octadecenoyl)-ethanolamine/1-(14Z,17Z,20Z,23Z,26Z-dotriacontapentaenoyl)-2-(5Z,8Z,11Z,14Z,17Z-eicosapentaenoyl)-sn-glycero-3-phospho-N-(9Z-octadecenoyl)-ethanolamine/1-(14Z,17Z,20Z,23Z,26Z-dotriacontapentaenoyl)-2-(5Z,8Z,11Z,14Z-eicosatetraenoyl)-sn-glycero-3-phospho-N-(9Z,12Z-octadecadienoyl)-ethanolamine/1-(14Z,17Z,20Z,23Z,26Z-dotriacontapentaenoyl)-2-(6Z,9Z,12Z,15Z,18Z,21Z-tetracosahexaenoyl)-sn-glycero-3-phospho-N-tetradecanoyl-ethanolamine/1-(14Z,17Z,20Z,23Z,26Z-dotriacontapentaenoyl)-2-(8Z,11Z,14Z,17Z,20Z,23Z-hexacosahexaenoyl)-sn-glycero-3-phospho-N-dodecanoyl-ethanolamine/1-(14Z,17Z,20Z,23Z,26Z-dotriacontapentaenoyl)-2-(8Z,11Z,14Z,17Z-eicosatetraenoyl)-sn-glycero-3-phospho-N-(9Z,12Z-octadecadienoyl)-ethanolamine/1-(14Z,17Z,20Z,23Z,26Z-dotriacontapentaenoyl)-2-(8Z,11Z,14Z-eicosatrienoyl)-sn-glycero-3-phospho-N-(6Z,9Z,12Z-octadecatrienoyl)-ethanolamine/1-(14Z,17Z,20Z,23Z,26Z-dotriacontapentaenoyl)-2-(8Z,11Z,14Z-eicosatrienoyl)-sn-glycero-3-phospho-N-(9Z,12Z,15Z-octadecatrienoyl)-ethanolamine/1-(14Z,17Z,20Z,23Z,26Z-dotriacontapentaenoyl)-2-(9Z,11E-octadecadienoyl)-sn-glycero-3-phospho-N-(5Z,8Z,11Z,14Z-eicosatetraenoyl)-ethanolamine/1-(14Z,17Z,20Z,23Z,26Z-dotriacontapentaenoyl)-2-(9Z,12Z-octadecadienoyl)-sn-glycero-3-phospho-N-(5Z,8Z,11Z,14Z-eicosatetraenoyl)-ethanolamine/1-(14Z,17Z,20Z,23Z,26Z-dotriacontapentaenoyl)-2-hexadecanoyl-sn-glycero-3-phospho-N-(4Z,7Z,10Z,13Z,16Z,19Z-docosahexaenoyl)-ethanolamine_0",
         "line": {
          "color": "#B6E880",
          "dash": "solid"
         },
         "marker": {
          "symbol": "circle"
         },
         "mode": "lines",
         "name": "1-(14Z,17Z,20Z,23Z,26Z-dotriacontapentaenoyl)-2-(10Z,13Z,16Z,19Z,22Z,25Z-octacosahexaenoyl)-sn-glycero-3-phospho-N-decanoyl-ethanolamine/1-(14Z,17Z,20Z,23Z,26Z-dotriacontapentaenoyl)-2-(11Z,14Z,17Z-eicoastrienoyl)-sn-glycero-3-phospho-N-(6Z,9Z,12Z-octadecatrienoyl)-ethanolamine/1-(14Z,17Z,20Z,23Z,26Z-dotriacontapentaenoyl)-2-(11Z,14Z,17Z-eicoastrienoyl)-sn-glycero-3-phospho-N-(9Z,12Z,15Z-octadecatrienoyl)-ethanolamine/1-(14Z,17Z,20Z,23Z,26Z-dotriacontapentaenoyl)-2-(12Z,15Z,18Z,21Z,24Z,27Z-triacontahexaenoyl)-sn-glycero-3-phospho-N-octanoyl-ethanolamine/1-(14Z,17Z,20Z,23Z,26Z-dotriacontapentaenoyl)-2-(14Z,17Z,20Z,23Z,26Z,29Z-dotriacontahexaenoyl)-sn-glycero-3-phospho-N-hexanoyl-ethanolamine/1-(14Z,17Z,20Z,23Z,26Z-dotriacontapentaenoyl)-2-(4Z,7Z,10Z,13Z,16Z,19Z-docosahexaenoyl)-sn-glycero-3-phospho-N-hexadecanoyl-ethanolamine/1-(14Z,17Z,20Z,23Z,26Z-dotriacontapentaenoyl)-2-(5Z,8Z,11Z,14Z,17Z-eicosapentaenoyl)-sn-glycero-3-phospho-N-(11Z-octadecenoyl)-ethanolamine/1-(14Z,17Z,20Z,23Z,26Z-dotriacontapentaenoyl)-2-(5Z,8Z,11Z,14Z,17Z-eicosapentaenoyl)-sn-glycero-3-phospho-N-(9Z-octadecenoyl)-ethanolamine/1-(14Z,17Z,20Z,23Z,26Z-dotriacontapentaenoyl)-2-(5Z,8Z,11Z,14Z-eicosatetraenoyl)-sn-glycero-3-phospho-N-(9Z,12Z-octadecadienoyl)-ethanolamine/1-(14Z,17Z,20Z,23Z,26Z-dotriacontapentaenoyl)-2-(6Z,9Z,12Z,15Z,18Z,21Z-tetracosahexaenoyl)-sn-glycero-3-phospho-N-tetradecanoyl-ethanolamine/1-(14Z,17Z,20Z,23Z,26Z-dotriacontapentaenoyl)-2-(8Z,11Z,14Z,17Z,20Z,23Z-hexacosahexaenoyl)-sn-glycero-3-phospho-N-dodecanoyl-ethanolamine/1-(14Z,17Z,20Z,23Z,26Z-dotriacontapentaenoyl)-2-(8Z,11Z,14Z,17Z-eicosatetraenoyl)-sn-glycero-3-phospho-N-(9Z,12Z-octadecadienoyl)-ethanolamine/1-(14Z,17Z,20Z,23Z,26Z-dotriacontapentaenoyl)-2-(8Z,11Z,14Z-eicosatrienoyl)-sn-glycero-3-phospho-N-(6Z,9Z,12Z-octadecatrienoyl)-ethanolamine/1-(14Z,17Z,20Z,23Z,26Z-dotriacontapentaenoyl)-2-(8Z,11Z,14Z-eicosatrienoyl)-sn-glycero-3-phospho-N-(9Z,12Z,15Z-octadecatrienoyl)-ethanolamine/1-(14Z,17Z,20Z,23Z,26Z-dotriacontapentaenoyl)-2-(9Z,11E-octadecadienoyl)-sn-glycero-3-phospho-N-(5Z,8Z,11Z,14Z-eicosatetraenoyl)-ethanolamine/1-(14Z,17Z,20Z,23Z,26Z-dotriacontapentaenoyl)-2-(9Z,12Z-octadecadienoyl)-sn-glycero-3-phospho-N-(5Z,8Z,11Z,14Z-eicosatetraenoyl)-ethanolamine/1-(14Z,17Z,20Z,23Z,26Z-dotriacontapentaenoyl)-2-hexadecanoyl-sn-glycero-3-phospho-N-(4Z,7Z,10Z,13Z,16Z,19Z-docosahexaenoyl)-ethanolamine_0",
         "scene": "scene",
         "showlegend": false,
         "type": "scatter3d",
         "x": [
          1213.9024635332291,
          1213.9024635332291,
          1213.9024635332291,
          1214.9058183710292,
          1214.9058183710292,
          1214.9058183710292
         ],
         "y": [
          9.446999549865723,
          10.161999702453613,
          10.87600040435791,
          9.446999549865723,
          10.161999702453613,
          10.87600040435791
         ],
         "z": [
          0,
          0,
          0,
          0,
          269.2690734863281,
          0
         ]
        },
        {
         "hovertemplate": "labels=1-(14Z,17Z,20Z,23Z,26Z-dotriacontapentaenoyl)-2-(10Z,13Z,16Z,19Z,22Z,25Z-octacosahexaenoyl)-sn-glycero-3-phospho-N-dodecanoyl-ethanolamine/1-(14Z,17Z,20Z,23Z,26Z-dotriacontapentaenoyl)-2-(10Z,13Z,16Z-docosatrienoyl)-sn-glycero-3-phospho-N-(6Z,9Z,12Z-octadecatrienoyl)-ethanolamine/1-(14Z,17Z,20Z,23Z,26Z-dotriacontapentaenoyl)-2-(10Z,13Z,16Z-docosatrienoyl)-sn-glycero-3-phospho-N-(9Z,12Z,15Z-octadecatrienoyl)-ethanolamine/1-(14Z,17Z,20Z,23Z,26Z-dotriacontapentaenoyl)-2-(11Z,14Z-eicosadienoyl)-sn-glycero-3-phospho-N-(5Z,8Z,11Z,14Z-eicosatetraenoyl)-ethanolamine/1-(14Z,17Z,20Z,23Z,26Z-dotriacontapentaenoyl)-2-(12Z,15Z,18Z,21Z,24Z,27Z-triacontahexaenoyl)-sn-glycero-3-phospho-N-decanoyl-ethanolamine/1-(14Z,17Z,20Z,23Z,26Z-dotriacontapentaenoyl)-2-(14Z,17Z,20Z,23Z,26Z,29Z-dotriacontahexaenoyl)-sn-glycero-3-phospho-N-octanoyl-ethanolamine/1-(14Z,17Z,20Z,23Z,26Z-dotriacontapentaenoyl)-2-(16Z,19Z,22Z,25Z,28Z,31Z-tetratriacontahexaenoyl)-sn-glycero-3-phospho-N-hexanoyl-ethanolamine/1-(14Z,17Z,20Z,23Z,26Z-dotriacontapentaenoyl)-2-(4Z,7Z,10Z,13Z,16Z,19Z-docosahexaenoyl)-sn-glycero-3-phospho-N-octadecanoyl-ethanolamine/1-(14Z,17Z,20Z,23Z,26Z-dotriacontapentaenoyl)-2-(4Z,7Z,10Z,13Z,16Z-docosapentaenoyl)-sn-glycero-3-phospho-N-(11Z-octadecenoyl)-ethanolamine/1-(14Z,17Z,20Z,23Z,26Z-dotriacontapentaenoyl)-2-(4Z,7Z,10Z,13Z,16Z-docosapentaenoyl)-sn-glycero-3-phospho-N-(9Z-octadecenoyl)-ethanolamine/1-(14Z,17Z,20Z,23Z,26Z-dotriacontapentaenoyl)-2-(6Z,9Z,12Z,15Z,18Z,21Z-tetracosahexaenoyl)-sn-glycero-3-phospho-N-hexadecanoyl-ethanolamine/1-(14Z,17Z,20Z,23Z,26Z-dotriacontapentaenoyl)-2-(7Z,10Z,13Z,16Z,19Z-docosapentaenoyl)-sn-glycero-3-phospho-N-(11Z-octadecenoyl)-ethanolamine/1-(14Z,17Z,20Z,23Z,26Z-dotriacontapentaenoyl)-2-(7Z,10Z,13Z,16Z,19Z-docosapentaenoyl)-sn-glycero-3-phospho-N-(9Z-octadecenoyl)-ethanolamine/1-(14Z,17Z,20Z,23Z,26Z-dotriacontapentaenoyl)-2-(7Z,10Z,13Z,16Z-docosatetraenoyl)-sn-glycero-3-phospho-N-(9Z,12Z-octadecadienoyl)-ethanolamine/1-(14Z,17Z,20Z,23Z,26Z-dotriacontapentaenoyl)-2-(8Z,11Z,14Z,17Z,20Z,23Z-hexacosahexaenoyl)-sn-glycero-3-phospho-N-tetradecanoyl-ethanolamine/1-(14Z,17Z,20Z,23Z,26Z-dotriacontapentaenoyl)-2-octadecanoyl-sn-glycero-3-phospho-N-(4Z,7Z,10Z,13Z,16Z,19Z-docosahexaenoyl)-ethanolamine_0<br>m/z=%{x}<br>rt=%{y}<br>intensity=%{z}<extra></extra>",
         "legendgroup": "1-(14Z,17Z,20Z,23Z,26Z-dotriacontapentaenoyl)-2-(10Z,13Z,16Z,19Z,22Z,25Z-octacosahexaenoyl)-sn-glycero-3-phospho-N-dodecanoyl-ethanolamine/1-(14Z,17Z,20Z,23Z,26Z-dotriacontapentaenoyl)-2-(10Z,13Z,16Z-docosatrienoyl)-sn-glycero-3-phospho-N-(6Z,9Z,12Z-octadecatrienoyl)-ethanolamine/1-(14Z,17Z,20Z,23Z,26Z-dotriacontapentaenoyl)-2-(10Z,13Z,16Z-docosatrienoyl)-sn-glycero-3-phospho-N-(9Z,12Z,15Z-octadecatrienoyl)-ethanolamine/1-(14Z,17Z,20Z,23Z,26Z-dotriacontapentaenoyl)-2-(11Z,14Z-eicosadienoyl)-sn-glycero-3-phospho-N-(5Z,8Z,11Z,14Z-eicosatetraenoyl)-ethanolamine/1-(14Z,17Z,20Z,23Z,26Z-dotriacontapentaenoyl)-2-(12Z,15Z,18Z,21Z,24Z,27Z-triacontahexaenoyl)-sn-glycero-3-phospho-N-decanoyl-ethanolamine/1-(14Z,17Z,20Z,23Z,26Z-dotriacontapentaenoyl)-2-(14Z,17Z,20Z,23Z,26Z,29Z-dotriacontahexaenoyl)-sn-glycero-3-phospho-N-octanoyl-ethanolamine/1-(14Z,17Z,20Z,23Z,26Z-dotriacontapentaenoyl)-2-(16Z,19Z,22Z,25Z,28Z,31Z-tetratriacontahexaenoyl)-sn-glycero-3-phospho-N-hexanoyl-ethanolamine/1-(14Z,17Z,20Z,23Z,26Z-dotriacontapentaenoyl)-2-(4Z,7Z,10Z,13Z,16Z,19Z-docosahexaenoyl)-sn-glycero-3-phospho-N-octadecanoyl-ethanolamine/1-(14Z,17Z,20Z,23Z,26Z-dotriacontapentaenoyl)-2-(4Z,7Z,10Z,13Z,16Z-docosapentaenoyl)-sn-glycero-3-phospho-N-(11Z-octadecenoyl)-ethanolamine/1-(14Z,17Z,20Z,23Z,26Z-dotriacontapentaenoyl)-2-(4Z,7Z,10Z,13Z,16Z-docosapentaenoyl)-sn-glycero-3-phospho-N-(9Z-octadecenoyl)-ethanolamine/1-(14Z,17Z,20Z,23Z,26Z-dotriacontapentaenoyl)-2-(6Z,9Z,12Z,15Z,18Z,21Z-tetracosahexaenoyl)-sn-glycero-3-phospho-N-hexadecanoyl-ethanolamine/1-(14Z,17Z,20Z,23Z,26Z-dotriacontapentaenoyl)-2-(7Z,10Z,13Z,16Z,19Z-docosapentaenoyl)-sn-glycero-3-phospho-N-(11Z-octadecenoyl)-ethanolamine/1-(14Z,17Z,20Z,23Z,26Z-dotriacontapentaenoyl)-2-(7Z,10Z,13Z,16Z,19Z-docosapentaenoyl)-sn-glycero-3-phospho-N-(9Z-octadecenoyl)-ethanolamine/1-(14Z,17Z,20Z,23Z,26Z-dotriacontapentaenoyl)-2-(7Z,10Z,13Z,16Z-docosatetraenoyl)-sn-glycero-3-phospho-N-(9Z,12Z-octadecadienoyl)-ethanolamine/1-(14Z,17Z,20Z,23Z,26Z-dotriacontapentaenoyl)-2-(8Z,11Z,14Z,17Z,20Z,23Z-hexacosahexaenoyl)-sn-glycero-3-phospho-N-tetradecanoyl-ethanolamine/1-(14Z,17Z,20Z,23Z,26Z-dotriacontapentaenoyl)-2-octadecanoyl-sn-glycero-3-phospho-N-(4Z,7Z,10Z,13Z,16Z,19Z-docosahexaenoyl)-ethanolamine_0",
         "line": {
          "color": "#FF97FF",
          "dash": "solid"
         },
         "marker": {
          "symbol": "circle"
         },
         "mode": "lines",
         "name": "1-(14Z,17Z,20Z,23Z,26Z-dotriacontapentaenoyl)-2-(10Z,13Z,16Z,19Z,22Z,25Z-octacosahexaenoyl)-sn-glycero-3-phospho-N-dodecanoyl-ethanolamine/1-(14Z,17Z,20Z,23Z,26Z-dotriacontapentaenoyl)-2-(10Z,13Z,16Z-docosatrienoyl)-sn-glycero-3-phospho-N-(6Z,9Z,12Z-octadecatrienoyl)-ethanolamine/1-(14Z,17Z,20Z,23Z,26Z-dotriacontapentaenoyl)-2-(10Z,13Z,16Z-docosatrienoyl)-sn-glycero-3-phospho-N-(9Z,12Z,15Z-octadecatrienoyl)-ethanolamine/1-(14Z,17Z,20Z,23Z,26Z-dotriacontapentaenoyl)-2-(11Z,14Z-eicosadienoyl)-sn-glycero-3-phospho-N-(5Z,8Z,11Z,14Z-eicosatetraenoyl)-ethanolamine/1-(14Z,17Z,20Z,23Z,26Z-dotriacontapentaenoyl)-2-(12Z,15Z,18Z,21Z,24Z,27Z-triacontahexaenoyl)-sn-glycero-3-phospho-N-decanoyl-ethanolamine/1-(14Z,17Z,20Z,23Z,26Z-dotriacontapentaenoyl)-2-(14Z,17Z,20Z,23Z,26Z,29Z-dotriacontahexaenoyl)-sn-glycero-3-phospho-N-octanoyl-ethanolamine/1-(14Z,17Z,20Z,23Z,26Z-dotriacontapentaenoyl)-2-(16Z,19Z,22Z,25Z,28Z,31Z-tetratriacontahexaenoyl)-sn-glycero-3-phospho-N-hexanoyl-ethanolamine/1-(14Z,17Z,20Z,23Z,26Z-dotriacontapentaenoyl)-2-(4Z,7Z,10Z,13Z,16Z,19Z-docosahexaenoyl)-sn-glycero-3-phospho-N-octadecanoyl-ethanolamine/1-(14Z,17Z,20Z,23Z,26Z-dotriacontapentaenoyl)-2-(4Z,7Z,10Z,13Z,16Z-docosapentaenoyl)-sn-glycero-3-phospho-N-(11Z-octadecenoyl)-ethanolamine/1-(14Z,17Z,20Z,23Z,26Z-dotriacontapentaenoyl)-2-(4Z,7Z,10Z,13Z,16Z-docosapentaenoyl)-sn-glycero-3-phospho-N-(9Z-octadecenoyl)-ethanolamine/1-(14Z,17Z,20Z,23Z,26Z-dotriacontapentaenoyl)-2-(6Z,9Z,12Z,15Z,18Z,21Z-tetracosahexaenoyl)-sn-glycero-3-phospho-N-hexadecanoyl-ethanolamine/1-(14Z,17Z,20Z,23Z,26Z-dotriacontapentaenoyl)-2-(7Z,10Z,13Z,16Z,19Z-docosapentaenoyl)-sn-glycero-3-phospho-N-(11Z-octadecenoyl)-ethanolamine/1-(14Z,17Z,20Z,23Z,26Z-dotriacontapentaenoyl)-2-(7Z,10Z,13Z,16Z,19Z-docosapentaenoyl)-sn-glycero-3-phospho-N-(9Z-octadecenoyl)-ethanolamine/1-(14Z,17Z,20Z,23Z,26Z-dotriacontapentaenoyl)-2-(7Z,10Z,13Z,16Z-docosatetraenoyl)-sn-glycero-3-phospho-N-(9Z,12Z-octadecadienoyl)-ethanolamine/1-(14Z,17Z,20Z,23Z,26Z-dotriacontapentaenoyl)-2-(8Z,11Z,14Z,17Z,20Z,23Z-hexacosahexaenoyl)-sn-glycero-3-phospho-N-tetradecanoyl-ethanolamine/1-(14Z,17Z,20Z,23Z,26Z-dotriacontapentaenoyl)-2-octadecanoyl-sn-glycero-3-phospho-N-(4Z,7Z,10Z,13Z,16Z,19Z-docosahexaenoyl)-ethanolamine_0",
         "scene": "scene",
         "showlegend": false,
         "type": "scatter3d",
         "x": [
          1241.933763533229,
          1241.933763533229,
          1241.933763533229,
          1241.933763533229,
          1242.937118371029,
          1242.937118371029,
          1242.937118371029,
          1242.937118371029
         ],
         "y": [
          11.590999603271484,
          12.305000305175781,
          13.019000053405762,
          13.734000205993652,
          11.590999603271484,
          12.305000305175781,
          13.019000053405762,
          13.734000205993652
         ],
         "z": [
          565.7239990234375,
          703.4534301757812,
          0,
          1538.3021240234375,
          0,
          325.00103759765625,
          955.71240234375,
          0
         ]
        },
        {
         "hovertemplate": "labels=1-(14Z,17Z,20Z,23Z,26Z-dotriacontapentaenoyl)-2-(10Z,13Z,16Z,19Z,22Z,25Z-octacosahexaenoyl)-sn-glycero-3-phospho-N-hexadecanoyl-ethanolamine/1-(14Z,17Z,20Z,23Z,26Z-dotriacontapentaenoyl)-2-(11Z,14Z,17Z,20Z,23Z-hexacosapentaenoyl)-sn-glycero-3-phospho-N-(11Z-octadecenoyl)-ethanolamine/1-(14Z,17Z,20Z,23Z,26Z-dotriacontapentaenoyl)-2-(11Z,14Z,17Z,20Z,23Z-hexacosapentaenoyl)-sn-glycero-3-phospho-N-(9Z-octadecenoyl)-ethanolamine/1-(14Z,17Z,20Z,23Z,26Z-dotriacontapentaenoyl)-2-(11Z,14Z,17Z,20Z-hexacosatetraenoyl)-sn-glycero-3-phospho-N-(9Z,12Z-octadecadienoyl)-ethanolamine/1-(14Z,17Z,20Z,23Z,26Z-dotriacontapentaenoyl)-2-(12Z,15Z,18Z,21Z,24Z,27Z-triacontahexaenoyl)-sn-glycero-3-phospho-N-tetradecanoyl-ethanolamine/1-(14Z,17Z,20Z,23Z,26Z-dotriacontapentaenoyl)-2-(14Z,17Z,20Z,23Z,26Z,29Z-dotriacontahexaenoyl)-sn-glycero-3-phospho-N-dodecanoyl-ethanolamine/1-(14Z,17Z,20Z,23Z,26Z-dotriacontapentaenoyl)-2-(16Z,19Z,22Z,25Z,28Z,31Z-tetratriacontahexaenoyl)-sn-glycero-3-phospho-N-decanoyl-ethanolamine/1-(14Z,17Z,20Z,23Z,26Z-dotriacontapentaenoyl)-2-(18Z,21Z,24Z,27Z,30Z,33Z-hexatriacontahexaenoyl)-sn-glycero-3-phospho-N-octanoyl-ethanolamine/1-(14Z,17Z,20Z,23Z,26Z-dotriacontapentaenoyl)-2-(8Z,11Z,14Z,17Z,20Z,23Z-hexacosahexaenoyl)-sn-glycero-3-phospho-N-octadecanoyl-ethanolamine/1-(14Z,17Z,20Z,23Z,26Z-dotriacontapentaenoyl)-2-(8Z,11Z,14Z,17Z,20Z-hexacosapentaenoyl)-sn-glycero-3-phospho-N-(11Z-octadecenoyl)-ethanolamine/1-(14Z,17Z,20Z,23Z,26Z-dotriacontapentaenoyl)-2-(8Z,11Z,14Z,17Z,20Z-hexacosapentaenoyl)-sn-glycero-3-phospho-N-(9Z-octadecenoyl)-ethanolamine/1-(14Z,17Z,20Z,23Z,26Z-dotriacontapentaenoyl)-2-docosanoyl-sn-glycero-3-phospho-N-(4Z,7Z,10Z,13Z,16Z,19Z-docosahexaenoyl)-ethanolamine_0<br>m/z=%{x}<br>rt=%{y}<br>intensity=%{z}<extra></extra>",
         "legendgroup": "1-(14Z,17Z,20Z,23Z,26Z-dotriacontapentaenoyl)-2-(10Z,13Z,16Z,19Z,22Z,25Z-octacosahexaenoyl)-sn-glycero-3-phospho-N-hexadecanoyl-ethanolamine/1-(14Z,17Z,20Z,23Z,26Z-dotriacontapentaenoyl)-2-(11Z,14Z,17Z,20Z,23Z-hexacosapentaenoyl)-sn-glycero-3-phospho-N-(11Z-octadecenoyl)-ethanolamine/1-(14Z,17Z,20Z,23Z,26Z-dotriacontapentaenoyl)-2-(11Z,14Z,17Z,20Z,23Z-hexacosapentaenoyl)-sn-glycero-3-phospho-N-(9Z-octadecenoyl)-ethanolamine/1-(14Z,17Z,20Z,23Z,26Z-dotriacontapentaenoyl)-2-(11Z,14Z,17Z,20Z-hexacosatetraenoyl)-sn-glycero-3-phospho-N-(9Z,12Z-octadecadienoyl)-ethanolamine/1-(14Z,17Z,20Z,23Z,26Z-dotriacontapentaenoyl)-2-(12Z,15Z,18Z,21Z,24Z,27Z-triacontahexaenoyl)-sn-glycero-3-phospho-N-tetradecanoyl-ethanolamine/1-(14Z,17Z,20Z,23Z,26Z-dotriacontapentaenoyl)-2-(14Z,17Z,20Z,23Z,26Z,29Z-dotriacontahexaenoyl)-sn-glycero-3-phospho-N-dodecanoyl-ethanolamine/1-(14Z,17Z,20Z,23Z,26Z-dotriacontapentaenoyl)-2-(16Z,19Z,22Z,25Z,28Z,31Z-tetratriacontahexaenoyl)-sn-glycero-3-phospho-N-decanoyl-ethanolamine/1-(14Z,17Z,20Z,23Z,26Z-dotriacontapentaenoyl)-2-(18Z,21Z,24Z,27Z,30Z,33Z-hexatriacontahexaenoyl)-sn-glycero-3-phospho-N-octanoyl-ethanolamine/1-(14Z,17Z,20Z,23Z,26Z-dotriacontapentaenoyl)-2-(8Z,11Z,14Z,17Z,20Z,23Z-hexacosahexaenoyl)-sn-glycero-3-phospho-N-octadecanoyl-ethanolamine/1-(14Z,17Z,20Z,23Z,26Z-dotriacontapentaenoyl)-2-(8Z,11Z,14Z,17Z,20Z-hexacosapentaenoyl)-sn-glycero-3-phospho-N-(11Z-octadecenoyl)-ethanolamine/1-(14Z,17Z,20Z,23Z,26Z-dotriacontapentaenoyl)-2-(8Z,11Z,14Z,17Z,20Z-hexacosapentaenoyl)-sn-glycero-3-phospho-N-(9Z-octadecenoyl)-ethanolamine/1-(14Z,17Z,20Z,23Z,26Z-dotriacontapentaenoyl)-2-docosanoyl-sn-glycero-3-phospho-N-(4Z,7Z,10Z,13Z,16Z,19Z-docosahexaenoyl)-ethanolamine_0",
         "line": {
          "color": "#FECB52",
          "dash": "solid"
         },
         "marker": {
          "symbol": "circle"
         },
         "mode": "lines",
         "name": "1-(14Z,17Z,20Z,23Z,26Z-dotriacontapentaenoyl)-2-(10Z,13Z,16Z,19Z,22Z,25Z-octacosahexaenoyl)-sn-glycero-3-phospho-N-hexadecanoyl-ethanolamine/1-(14Z,17Z,20Z,23Z,26Z-dotriacontapentaenoyl)-2-(11Z,14Z,17Z,20Z,23Z-hexacosapentaenoyl)-sn-glycero-3-phospho-N-(11Z-octadecenoyl)-ethanolamine/1-(14Z,17Z,20Z,23Z,26Z-dotriacontapentaenoyl)-2-(11Z,14Z,17Z,20Z,23Z-hexacosapentaenoyl)-sn-glycero-3-phospho-N-(9Z-octadecenoyl)-ethanolamine/1-(14Z,17Z,20Z,23Z,26Z-dotriacontapentaenoyl)-2-(11Z,14Z,17Z,20Z-hexacosatetraenoyl)-sn-glycero-3-phospho-N-(9Z,12Z-octadecadienoyl)-ethanolamine/1-(14Z,17Z,20Z,23Z,26Z-dotriacontapentaenoyl)-2-(12Z,15Z,18Z,21Z,24Z,27Z-triacontahexaenoyl)-sn-glycero-3-phospho-N-tetradecanoyl-ethanolamine/1-(14Z,17Z,20Z,23Z,26Z-dotriacontapentaenoyl)-2-(14Z,17Z,20Z,23Z,26Z,29Z-dotriacontahexaenoyl)-sn-glycero-3-phospho-N-dodecanoyl-ethanolamine/1-(14Z,17Z,20Z,23Z,26Z-dotriacontapentaenoyl)-2-(16Z,19Z,22Z,25Z,28Z,31Z-tetratriacontahexaenoyl)-sn-glycero-3-phospho-N-decanoyl-ethanolamine/1-(14Z,17Z,20Z,23Z,26Z-dotriacontapentaenoyl)-2-(18Z,21Z,24Z,27Z,30Z,33Z-hexatriacontahexaenoyl)-sn-glycero-3-phospho-N-octanoyl-ethanolamine/1-(14Z,17Z,20Z,23Z,26Z-dotriacontapentaenoyl)-2-(8Z,11Z,14Z,17Z,20Z,23Z-hexacosahexaenoyl)-sn-glycero-3-phospho-N-octadecanoyl-ethanolamine/1-(14Z,17Z,20Z,23Z,26Z-dotriacontapentaenoyl)-2-(8Z,11Z,14Z,17Z,20Z-hexacosapentaenoyl)-sn-glycero-3-phospho-N-(11Z-octadecenoyl)-ethanolamine/1-(14Z,17Z,20Z,23Z,26Z-dotriacontapentaenoyl)-2-(8Z,11Z,14Z,17Z,20Z-hexacosapentaenoyl)-sn-glycero-3-phospho-N-(9Z-octadecenoyl)-ethanolamine/1-(14Z,17Z,20Z,23Z,26Z-dotriacontapentaenoyl)-2-docosanoyl-sn-glycero-3-phospho-N-(4Z,7Z,10Z,13Z,16Z,19Z-docosahexaenoyl)-ethanolamine_0",
         "scene": "scene",
         "showlegend": false,
         "type": "scatter3d",
         "x": [
          1297.9963735332294,
          1297.9963735332294,
          1297.9963735332294,
          1298.9997283710293,
          1298.9997283710293,
          1298.9997283710293
         ],
         "y": [
          9.446999549865723,
          10.161999702453613,
          10.87600040435791,
          9.446999549865723,
          10.161999702453613,
          10.87600040435791
         ],
         "z": [
          76.48648834228516,
          404.3978271484375,
          0,
          329.64544677734375,
          219.31495666503906,
          0
         ]
        },
        {
         "hovertemplate": "labels=1-(14Z,17Z,20Z,23Z,26Z-dotriacontapentaenoyl)-2-(10Z,13Z,16Z,19Z,22Z,25Z-octacosahexaenoyl)-sn-glycero-3-phospho-N-hexanoyl-ethanolamine/1-(14Z,17Z,20Z,23Z,26Z-dotriacontapentaenoyl)-2-(4Z,7Z,10Z,13Z,16Z,19Z-docosahexaenoyl)-sn-glycero-3-phospho-N-dodecanoyl-ethanolamine/1-(14Z,17Z,20Z,23Z,26Z-dotriacontapentaenoyl)-2-(6Z,9Z,12Z,15Z,18Z,21Z-tetracosahexaenoyl)-sn-glycero-3-phospho-N-decanoyl-ethanolamine/1-(14Z,17Z,20Z,23Z,26Z-dotriacontapentaenoyl)-2-(8Z,11Z,14Z,17Z,20Z,23Z-hexacosahexaenoyl)-sn-glycero-3-phospho-N-octanoyl-ethanolamine_0<br>m/z=%{x}<br>rt=%{y}<br>intensity=%{z}<extra></extra>",
         "legendgroup": "1-(14Z,17Z,20Z,23Z,26Z-dotriacontapentaenoyl)-2-(10Z,13Z,16Z,19Z,22Z,25Z-octacosahexaenoyl)-sn-glycero-3-phospho-N-hexanoyl-ethanolamine/1-(14Z,17Z,20Z,23Z,26Z-dotriacontapentaenoyl)-2-(4Z,7Z,10Z,13Z,16Z,19Z-docosahexaenoyl)-sn-glycero-3-phospho-N-dodecanoyl-ethanolamine/1-(14Z,17Z,20Z,23Z,26Z-dotriacontapentaenoyl)-2-(6Z,9Z,12Z,15Z,18Z,21Z-tetracosahexaenoyl)-sn-glycero-3-phospho-N-decanoyl-ethanolamine/1-(14Z,17Z,20Z,23Z,26Z-dotriacontapentaenoyl)-2-(8Z,11Z,14Z,17Z,20Z,23Z-hexacosahexaenoyl)-sn-glycero-3-phospho-N-octanoyl-ethanolamine_0",
         "line": {
          "color": "#636efa",
          "dash": "solid"
         },
         "marker": {
          "symbol": "circle"
         },
         "mode": "lines",
         "name": "1-(14Z,17Z,20Z,23Z,26Z-dotriacontapentaenoyl)-2-(10Z,13Z,16Z,19Z,22Z,25Z-octacosahexaenoyl)-sn-glycero-3-phospho-N-hexanoyl-ethanolamine/1-(14Z,17Z,20Z,23Z,26Z-dotriacontapentaenoyl)-2-(4Z,7Z,10Z,13Z,16Z,19Z-docosahexaenoyl)-sn-glycero-3-phospho-N-dodecanoyl-ethanolamine/1-(14Z,17Z,20Z,23Z,26Z-dotriacontapentaenoyl)-2-(6Z,9Z,12Z,15Z,18Z,21Z-tetracosahexaenoyl)-sn-glycero-3-phospho-N-decanoyl-ethanolamine/1-(14Z,17Z,20Z,23Z,26Z-dotriacontapentaenoyl)-2-(8Z,11Z,14Z,17Z,20Z,23Z-hexacosahexaenoyl)-sn-glycero-3-phospho-N-octanoyl-ethanolamine_0",
         "scene": "scene",
         "showlegend": false,
         "type": "scatter3d",
         "x": [
          1157.8398635332292,
          1157.8398635332292,
          1157.8398635332292,
          1158.8432183710293,
          1158.8432183710293,
          1158.8432183710293
         ],
         "y": [
          5.160999774932861,
          5.875,
          6.590000152587891,
          5.160999774932861,
          5.875,
          6.590000152587891
         ],
         "z": [
          0,
          0,
          0,
          74.86457824707031,
          18.041187286376953,
          446.2636413574219
         ]
        },
        {
         "hovertemplate": "labels=1-(14Z,17Z,20Z,23Z,26Z-dotriacontapentaenoyl)-2-(10Z,13Z,16Z,19Z,22Z,25Z-octacosahexaenoyl)-sn-glycero-3-phospho-N-octadecanoyl-ethanolamine/1-(14Z,17Z,20Z,23Z,26Z-dotriacontapentaenoyl)-2-(10Z,13Z,16Z,19Z,22Z-octacosapentaenoyl)-sn-glycero-3-phospho-N-(11Z-octadecenoyl)-ethanolamine/1-(14Z,17Z,20Z,23Z,26Z-dotriacontapentaenoyl)-2-(10Z,13Z,16Z,19Z,22Z-octacosapentaenoyl)-sn-glycero-3-phospho-N-(9Z-octadecenoyl)-ethanolamine/1-(14Z,17Z,20Z,23Z,26Z-dotriacontapentaenoyl)-2-(12Z,15Z,18Z,21Z,24Z,27Z-triacontahexaenoyl)-sn-glycero-3-phospho-N-hexadecanoyl-ethanolamine/1-(14Z,17Z,20Z,23Z,26Z-dotriacontapentaenoyl)-2-(13Z,16Z,19Z,22Z,25Z-octacosapentaenoyl)-sn-glycero-3-phospho-N-(11Z-octadecenoyl)-ethanolamine/1-(14Z,17Z,20Z,23Z,26Z-dotriacontapentaenoyl)-2-(13Z,16Z,19Z,22Z,25Z-octacosapentaenoyl)-sn-glycero-3-phospho-N-(9Z-octadecenoyl)-ethanolamine/1-(14Z,17Z,20Z,23Z,26Z-dotriacontapentaenoyl)-2-(13Z,16Z,19Z,22Z-octacosatetraenoyl)-sn-glycero-3-phospho-N-(9Z,12Z-octadecadienoyl)-ethanolamine/1-(14Z,17Z,20Z,23Z,26Z-dotriacontapentaenoyl)-2-(14Z,17Z,20Z,23Z,26Z,29Z-dotriacontahexaenoyl)-sn-glycero-3-phospho-N-tetradecanoyl-ethanolamine/1-(14Z,17Z,20Z,23Z,26Z-dotriacontapentaenoyl)-2-(16Z,19Z,22Z,25Z,28Z,31Z-tetratriacontahexaenoyl)-sn-glycero-3-phospho-N-dodecanoyl-ethanolamine/1-(14Z,17Z,20Z,23Z,26Z-dotriacontapentaenoyl)-2-(18Z,21Z,24Z,27Z,30Z,33Z-hexatriacontahexaenoyl)-sn-glycero-3-phospho-N-decanoyl-ethanolamine/1-(14Z,17Z,20Z,23Z,26Z-dotriacontapentaenoyl)-2-tetracosanoyl-sn-glycero-3-phospho-N-(4Z,7Z,10Z,13Z,16Z,19Z-docosahexaenoyl)-ethanolamine_0<br>m/z=%{x}<br>rt=%{y}<br>intensity=%{z}<extra></extra>",
         "legendgroup": "1-(14Z,17Z,20Z,23Z,26Z-dotriacontapentaenoyl)-2-(10Z,13Z,16Z,19Z,22Z,25Z-octacosahexaenoyl)-sn-glycero-3-phospho-N-octadecanoyl-ethanolamine/1-(14Z,17Z,20Z,23Z,26Z-dotriacontapentaenoyl)-2-(10Z,13Z,16Z,19Z,22Z-octacosapentaenoyl)-sn-glycero-3-phospho-N-(11Z-octadecenoyl)-ethanolamine/1-(14Z,17Z,20Z,23Z,26Z-dotriacontapentaenoyl)-2-(10Z,13Z,16Z,19Z,22Z-octacosapentaenoyl)-sn-glycero-3-phospho-N-(9Z-octadecenoyl)-ethanolamine/1-(14Z,17Z,20Z,23Z,26Z-dotriacontapentaenoyl)-2-(12Z,15Z,18Z,21Z,24Z,27Z-triacontahexaenoyl)-sn-glycero-3-phospho-N-hexadecanoyl-ethanolamine/1-(14Z,17Z,20Z,23Z,26Z-dotriacontapentaenoyl)-2-(13Z,16Z,19Z,22Z,25Z-octacosapentaenoyl)-sn-glycero-3-phospho-N-(11Z-octadecenoyl)-ethanolamine/1-(14Z,17Z,20Z,23Z,26Z-dotriacontapentaenoyl)-2-(13Z,16Z,19Z,22Z,25Z-octacosapentaenoyl)-sn-glycero-3-phospho-N-(9Z-octadecenoyl)-ethanolamine/1-(14Z,17Z,20Z,23Z,26Z-dotriacontapentaenoyl)-2-(13Z,16Z,19Z,22Z-octacosatetraenoyl)-sn-glycero-3-phospho-N-(9Z,12Z-octadecadienoyl)-ethanolamine/1-(14Z,17Z,20Z,23Z,26Z-dotriacontapentaenoyl)-2-(14Z,17Z,20Z,23Z,26Z,29Z-dotriacontahexaenoyl)-sn-glycero-3-phospho-N-tetradecanoyl-ethanolamine/1-(14Z,17Z,20Z,23Z,26Z-dotriacontapentaenoyl)-2-(16Z,19Z,22Z,25Z,28Z,31Z-tetratriacontahexaenoyl)-sn-glycero-3-phospho-N-dodecanoyl-ethanolamine/1-(14Z,17Z,20Z,23Z,26Z-dotriacontapentaenoyl)-2-(18Z,21Z,24Z,27Z,30Z,33Z-hexatriacontahexaenoyl)-sn-glycero-3-phospho-N-decanoyl-ethanolamine/1-(14Z,17Z,20Z,23Z,26Z-dotriacontapentaenoyl)-2-tetracosanoyl-sn-glycero-3-phospho-N-(4Z,7Z,10Z,13Z,16Z,19Z-docosahexaenoyl)-ethanolamine_0",
         "line": {
          "color": "#EF553B",
          "dash": "solid"
         },
         "marker": {
          "symbol": "circle"
         },
         "mode": "lines",
         "name": "1-(14Z,17Z,20Z,23Z,26Z-dotriacontapentaenoyl)-2-(10Z,13Z,16Z,19Z,22Z,25Z-octacosahexaenoyl)-sn-glycero-3-phospho-N-octadecanoyl-ethanolamine/1-(14Z,17Z,20Z,23Z,26Z-dotriacontapentaenoyl)-2-(10Z,13Z,16Z,19Z,22Z-octacosapentaenoyl)-sn-glycero-3-phospho-N-(11Z-octadecenoyl)-ethanolamine/1-(14Z,17Z,20Z,23Z,26Z-dotriacontapentaenoyl)-2-(10Z,13Z,16Z,19Z,22Z-octacosapentaenoyl)-sn-glycero-3-phospho-N-(9Z-octadecenoyl)-ethanolamine/1-(14Z,17Z,20Z,23Z,26Z-dotriacontapentaenoyl)-2-(12Z,15Z,18Z,21Z,24Z,27Z-triacontahexaenoyl)-sn-glycero-3-phospho-N-hexadecanoyl-ethanolamine/1-(14Z,17Z,20Z,23Z,26Z-dotriacontapentaenoyl)-2-(13Z,16Z,19Z,22Z,25Z-octacosapentaenoyl)-sn-glycero-3-phospho-N-(11Z-octadecenoyl)-ethanolamine/1-(14Z,17Z,20Z,23Z,26Z-dotriacontapentaenoyl)-2-(13Z,16Z,19Z,22Z,25Z-octacosapentaenoyl)-sn-glycero-3-phospho-N-(9Z-octadecenoyl)-ethanolamine/1-(14Z,17Z,20Z,23Z,26Z-dotriacontapentaenoyl)-2-(13Z,16Z,19Z,22Z-octacosatetraenoyl)-sn-glycero-3-phospho-N-(9Z,12Z-octadecadienoyl)-ethanolamine/1-(14Z,17Z,20Z,23Z,26Z-dotriacontapentaenoyl)-2-(14Z,17Z,20Z,23Z,26Z,29Z-dotriacontahexaenoyl)-sn-glycero-3-phospho-N-tetradecanoyl-ethanolamine/1-(14Z,17Z,20Z,23Z,26Z-dotriacontapentaenoyl)-2-(16Z,19Z,22Z,25Z,28Z,31Z-tetratriacontahexaenoyl)-sn-glycero-3-phospho-N-dodecanoyl-ethanolamine/1-(14Z,17Z,20Z,23Z,26Z-dotriacontapentaenoyl)-2-(18Z,21Z,24Z,27Z,30Z,33Z-hexatriacontahexaenoyl)-sn-glycero-3-phospho-N-decanoyl-ethanolamine/1-(14Z,17Z,20Z,23Z,26Z-dotriacontapentaenoyl)-2-tetracosanoyl-sn-glycero-3-phospho-N-(4Z,7Z,10Z,13Z,16Z,19Z-docosahexaenoyl)-ethanolamine_0",
         "scene": "scene",
         "showlegend": false,
         "type": "scatter3d",
         "x": [
          1326.027673533229,
          1326.027673533229,
          1327.0310283710292,
          1327.0310283710292
         ],
         "y": [
          5.875,
          6.590000152587891,
          5.875,
          6.590000152587891
         ],
         "z": [
          48.05908203125,
          200.99147033691406,
          59.265289306640625,
          0
         ]
        },
        {
         "hovertemplate": "labels=1-(14Z,17Z,20Z,23Z,26Z-dotriacontapentaenoyl)-2-(10Z,13Z,16Z,19Z,22Z,25Z-octacosahexaenoyl)-sn-glycero-3-phospho-N-octanoyl-ethanolamine/1-(14Z,17Z,20Z,23Z,26Z-dotriacontapentaenoyl)-2-(12Z,15Z,18Z,21Z,24Z,27Z-triacontahexaenoyl)-sn-glycero-3-phospho-N-hexanoyl-ethanolamine/1-(14Z,17Z,20Z,23Z,26Z-dotriacontapentaenoyl)-2-(4Z,7Z,10Z,13Z,16Z,19Z-docosahexaenoyl)-sn-glycero-3-phospho-N-tetradecanoyl-ethanolamine/1-(14Z,17Z,20Z,23Z,26Z-dotriacontapentaenoyl)-2-(6Z,9Z,12Z,15Z,18Z,21Z-tetracosahexaenoyl)-sn-glycero-3-phospho-N-dodecanoyl-ethanolamine/1-(14Z,17Z,20Z,23Z,26Z-dotriacontapentaenoyl)-2-(6Z,9Z,12Z,15Z-octadecatetraenoyl)-sn-glycero-3-phospho-N-(9Z,12Z-octadecadienoyl)-ethanolamine/1-(14Z,17Z,20Z,23Z,26Z-dotriacontapentaenoyl)-2-(6Z,9Z,12Z-octadecatrienoyl)-sn-glycero-3-phospho-N-(6Z,9Z,12Z-octadecatrienoyl)-ethanolamine/1-(14Z,17Z,20Z,23Z,26Z-dotriacontapentaenoyl)-2-(6Z,9Z,12Z-octadecatrienoyl)-sn-glycero-3-phospho-N-(9Z,12Z,15Z-octadecatrienoyl)-ethanolamine/1-(14Z,17Z,20Z,23Z,26Z-dotriacontapentaenoyl)-2-(8Z,11Z,14Z,17Z,20Z,23Z-hexacosahexaenoyl)-sn-glycero-3-phospho-N-decanoyl-ethanolamine/1-(14Z,17Z,20Z,23Z,26Z-dotriacontapentaenoyl)-2-(9Z,12Z,15Z-octadecatrienoyl)-sn-glycero-3-phospho-N-(6Z,9Z,12Z-octadecatrienoyl)-ethanolamine/1-(14Z,17Z,20Z,23Z,26Z-dotriacontapentaenoyl)-2-(9Z,12Z,15Z-octadecatrienoyl)-sn-glycero-3-phospho-N-(9Z,12Z,15Z-octadecatrienoyl)-ethanolamine/1-(14Z,17Z,20Z,23Z,26Z-dotriacontapentaenoyl)-2-(9Z,12Z-hexadecadienoyl)-sn-glycero-3-phospho-N-(5Z,8Z,11Z,14Z-eicosatetraenoyl)-ethanolamine_0<br>m/z=%{x}<br>rt=%{y}<br>intensity=%{z}<extra></extra>",
         "legendgroup": "1-(14Z,17Z,20Z,23Z,26Z-dotriacontapentaenoyl)-2-(10Z,13Z,16Z,19Z,22Z,25Z-octacosahexaenoyl)-sn-glycero-3-phospho-N-octanoyl-ethanolamine/1-(14Z,17Z,20Z,23Z,26Z-dotriacontapentaenoyl)-2-(12Z,15Z,18Z,21Z,24Z,27Z-triacontahexaenoyl)-sn-glycero-3-phospho-N-hexanoyl-ethanolamine/1-(14Z,17Z,20Z,23Z,26Z-dotriacontapentaenoyl)-2-(4Z,7Z,10Z,13Z,16Z,19Z-docosahexaenoyl)-sn-glycero-3-phospho-N-tetradecanoyl-ethanolamine/1-(14Z,17Z,20Z,23Z,26Z-dotriacontapentaenoyl)-2-(6Z,9Z,12Z,15Z,18Z,21Z-tetracosahexaenoyl)-sn-glycero-3-phospho-N-dodecanoyl-ethanolamine/1-(14Z,17Z,20Z,23Z,26Z-dotriacontapentaenoyl)-2-(6Z,9Z,12Z,15Z-octadecatetraenoyl)-sn-glycero-3-phospho-N-(9Z,12Z-octadecadienoyl)-ethanolamine/1-(14Z,17Z,20Z,23Z,26Z-dotriacontapentaenoyl)-2-(6Z,9Z,12Z-octadecatrienoyl)-sn-glycero-3-phospho-N-(6Z,9Z,12Z-octadecatrienoyl)-ethanolamine/1-(14Z,17Z,20Z,23Z,26Z-dotriacontapentaenoyl)-2-(6Z,9Z,12Z-octadecatrienoyl)-sn-glycero-3-phospho-N-(9Z,12Z,15Z-octadecatrienoyl)-ethanolamine/1-(14Z,17Z,20Z,23Z,26Z-dotriacontapentaenoyl)-2-(8Z,11Z,14Z,17Z,20Z,23Z-hexacosahexaenoyl)-sn-glycero-3-phospho-N-decanoyl-ethanolamine/1-(14Z,17Z,20Z,23Z,26Z-dotriacontapentaenoyl)-2-(9Z,12Z,15Z-octadecatrienoyl)-sn-glycero-3-phospho-N-(6Z,9Z,12Z-octadecatrienoyl)-ethanolamine/1-(14Z,17Z,20Z,23Z,26Z-dotriacontapentaenoyl)-2-(9Z,12Z,15Z-octadecatrienoyl)-sn-glycero-3-phospho-N-(9Z,12Z,15Z-octadecatrienoyl)-ethanolamine/1-(14Z,17Z,20Z,23Z,26Z-dotriacontapentaenoyl)-2-(9Z,12Z-hexadecadienoyl)-sn-glycero-3-phospho-N-(5Z,8Z,11Z,14Z-eicosatetraenoyl)-ethanolamine_0",
         "line": {
          "color": "#00cc96",
          "dash": "solid"
         },
         "marker": {
          "symbol": "circle"
         },
         "mode": "lines",
         "name": "1-(14Z,17Z,20Z,23Z,26Z-dotriacontapentaenoyl)-2-(10Z,13Z,16Z,19Z,22Z,25Z-octacosahexaenoyl)-sn-glycero-3-phospho-N-octanoyl-ethanolamine/1-(14Z,17Z,20Z,23Z,26Z-dotriacontapentaenoyl)-2-(12Z,15Z,18Z,21Z,24Z,27Z-triacontahexaenoyl)-sn-glycero-3-phospho-N-hexanoyl-ethanolamine/1-(14Z,17Z,20Z,23Z,26Z-dotriacontapentaenoyl)-2-(4Z,7Z,10Z,13Z,16Z,19Z-docosahexaenoyl)-sn-glycero-3-phospho-N-tetradecanoyl-ethanolamine/1-(14Z,17Z,20Z,23Z,26Z-dotriacontapentaenoyl)-2-(6Z,9Z,12Z,15Z,18Z,21Z-tetracosahexaenoyl)-sn-glycero-3-phospho-N-dodecanoyl-ethanolamine/1-(14Z,17Z,20Z,23Z,26Z-dotriacontapentaenoyl)-2-(6Z,9Z,12Z,15Z-octadecatetraenoyl)-sn-glycero-3-phospho-N-(9Z,12Z-octadecadienoyl)-ethanolamine/1-(14Z,17Z,20Z,23Z,26Z-dotriacontapentaenoyl)-2-(6Z,9Z,12Z-octadecatrienoyl)-sn-glycero-3-phospho-N-(6Z,9Z,12Z-octadecatrienoyl)-ethanolamine/1-(14Z,17Z,20Z,23Z,26Z-dotriacontapentaenoyl)-2-(6Z,9Z,12Z-octadecatrienoyl)-sn-glycero-3-phospho-N-(9Z,12Z,15Z-octadecatrienoyl)-ethanolamine/1-(14Z,17Z,20Z,23Z,26Z-dotriacontapentaenoyl)-2-(8Z,11Z,14Z,17Z,20Z,23Z-hexacosahexaenoyl)-sn-glycero-3-phospho-N-decanoyl-ethanolamine/1-(14Z,17Z,20Z,23Z,26Z-dotriacontapentaenoyl)-2-(9Z,12Z,15Z-octadecatrienoyl)-sn-glycero-3-phospho-N-(6Z,9Z,12Z-octadecatrienoyl)-ethanolamine/1-(14Z,17Z,20Z,23Z,26Z-dotriacontapentaenoyl)-2-(9Z,12Z,15Z-octadecatrienoyl)-sn-glycero-3-phospho-N-(9Z,12Z,15Z-octadecatrienoyl)-ethanolamine/1-(14Z,17Z,20Z,23Z,26Z-dotriacontapentaenoyl)-2-(9Z,12Z-hexadecadienoyl)-sn-glycero-3-phospho-N-(5Z,8Z,11Z,14Z-eicosatetraenoyl)-ethanolamine_0",
         "scene": "scene",
         "showlegend": false,
         "type": "scatter3d",
         "x": [
          1185.871163533229,
          1185.871163533229,
          1185.871163533229,
          1186.8745183710294,
          1186.8745183710294,
          1186.8745183710294
         ],
         "y": [
          9.446999549865723,
          10.161999702453613,
          10.87600040435791,
          9.446999549865723,
          10.161999702453613,
          10.87600040435791
         ],
         "z": [
          0,
          726.1765747070312,
          0,
          175.59442138671875,
          282.0003356933594,
          373.4727478027344
         ]
        },
        {
         "hovertemplate": "labels=1-(14Z,17Z,20Z,23Z,26Z-dotriacontapentaenoyl)-2-(10Z,13Z,16Z,19Z,22Z,25Z-octacosahexaenoyl)-sn-glycero-3-phospho-N-tetradecanoyl-ethanolamine/1-(14Z,17Z,20Z,23Z,26Z-dotriacontapentaenoyl)-2-(12Z,15Z,18Z,21Z,24Z,27Z-triacontahexaenoyl)-sn-glycero-3-phospho-N-dodecanoyl-ethanolamine/1-(14Z,17Z,20Z,23Z,26Z-dotriacontapentaenoyl)-2-(13Z,16Z-docosadienoyl)-sn-glycero-3-phospho-N-(5Z,8Z,11Z,14Z-eicosatetraenoyl)-ethanolamine/1-(14Z,17Z,20Z,23Z,26Z-dotriacontapentaenoyl)-2-(14Z,17Z,20Z,23Z,26Z,29Z-dotriacontahexaenoyl)-sn-glycero-3-phospho-N-decanoyl-ethanolamine/1-(14Z,17Z,20Z,23Z,26Z-dotriacontapentaenoyl)-2-(16Z,19Z,22Z,25Z,28Z,31Z-tetratriacontahexaenoyl)-sn-glycero-3-phospho-N-octanoyl-ethanolamine/1-(14Z,17Z,20Z,23Z,26Z-dotriacontapentaenoyl)-2-(18Z,21Z,24Z,27Z,30Z,33Z-hexatriacontahexaenoyl)-sn-glycero-3-phospho-N-hexanoyl-ethanolamine/1-(14Z,17Z,20Z,23Z,26Z-dotriacontapentaenoyl)-2-(6Z,9Z,12Z,15Z,18Z,21Z-tetracosahexaenoyl)-sn-glycero-3-phospho-N-octadecanoyl-ethanolamine/1-(14Z,17Z,20Z,23Z,26Z-dotriacontapentaenoyl)-2-(6Z,9Z,12Z,15Z,18Z-tetracosapentaenoyl)-sn-glycero-3-phospho-N-(11Z-octadecenoyl)-ethanolamine/1-(14Z,17Z,20Z,23Z,26Z-dotriacontapentaenoyl)-2-(6Z,9Z,12Z,15Z,18Z-tetracosapentaenoyl)-sn-glycero-3-phospho-N-(9Z-octadecenoyl)-ethanolamine/1-(14Z,17Z,20Z,23Z,26Z-dotriacontapentaenoyl)-2-(8Z,11Z,14Z,17Z,20Z,23Z-hexacosahexaenoyl)-sn-glycero-3-phospho-N-hexadecanoyl-ethanolamine/1-(14Z,17Z,20Z,23Z,26Z-dotriacontapentaenoyl)-2-(9Z,12Z,15Z,18Z,21Z-tetracosapentaenoyl)-sn-glycero-3-phospho-N-(11Z-octadecenoyl)-ethanolamine/1-(14Z,17Z,20Z,23Z,26Z-dotriacontapentaenoyl)-2-(9Z,12Z,15Z,18Z,21Z-tetracosapentaenoyl)-sn-glycero-3-phospho-N-(9Z-octadecenoyl)-ethanolamine/1-(14Z,17Z,20Z,23Z,26Z-dotriacontapentaenoyl)-2-(9Z,12Z,15Z,18Z-tetracosatetraenoyl)-sn-glycero-3-phospho-N-(9Z,12Z-octadecadienoyl)-ethanolamine/1-(14Z,17Z,20Z,23Z,26Z-dotriacontapentaenoyl)-2-eicosanoyl-sn-glycero-3-phospho-N-(4Z,7Z,10Z,13Z,16Z,19Z-docosahexaenoyl)-ethanolamine_0<br>m/z=%{x}<br>rt=%{y}<br>intensity=%{z}<extra></extra>",
         "legendgroup": "1-(14Z,17Z,20Z,23Z,26Z-dotriacontapentaenoyl)-2-(10Z,13Z,16Z,19Z,22Z,25Z-octacosahexaenoyl)-sn-glycero-3-phospho-N-tetradecanoyl-ethanolamine/1-(14Z,17Z,20Z,23Z,26Z-dotriacontapentaenoyl)-2-(12Z,15Z,18Z,21Z,24Z,27Z-triacontahexaenoyl)-sn-glycero-3-phospho-N-dodecanoyl-ethanolamine/1-(14Z,17Z,20Z,23Z,26Z-dotriacontapentaenoyl)-2-(13Z,16Z-docosadienoyl)-sn-glycero-3-phospho-N-(5Z,8Z,11Z,14Z-eicosatetraenoyl)-ethanolamine/1-(14Z,17Z,20Z,23Z,26Z-dotriacontapentaenoyl)-2-(14Z,17Z,20Z,23Z,26Z,29Z-dotriacontahexaenoyl)-sn-glycero-3-phospho-N-decanoyl-ethanolamine/1-(14Z,17Z,20Z,23Z,26Z-dotriacontapentaenoyl)-2-(16Z,19Z,22Z,25Z,28Z,31Z-tetratriacontahexaenoyl)-sn-glycero-3-phospho-N-octanoyl-ethanolamine/1-(14Z,17Z,20Z,23Z,26Z-dotriacontapentaenoyl)-2-(18Z,21Z,24Z,27Z,30Z,33Z-hexatriacontahexaenoyl)-sn-glycero-3-phospho-N-hexanoyl-ethanolamine/1-(14Z,17Z,20Z,23Z,26Z-dotriacontapentaenoyl)-2-(6Z,9Z,12Z,15Z,18Z,21Z-tetracosahexaenoyl)-sn-glycero-3-phospho-N-octadecanoyl-ethanolamine/1-(14Z,17Z,20Z,23Z,26Z-dotriacontapentaenoyl)-2-(6Z,9Z,12Z,15Z,18Z-tetracosapentaenoyl)-sn-glycero-3-phospho-N-(11Z-octadecenoyl)-ethanolamine/1-(14Z,17Z,20Z,23Z,26Z-dotriacontapentaenoyl)-2-(6Z,9Z,12Z,15Z,18Z-tetracosapentaenoyl)-sn-glycero-3-phospho-N-(9Z-octadecenoyl)-ethanolamine/1-(14Z,17Z,20Z,23Z,26Z-dotriacontapentaenoyl)-2-(8Z,11Z,14Z,17Z,20Z,23Z-hexacosahexaenoyl)-sn-glycero-3-phospho-N-hexadecanoyl-ethanolamine/1-(14Z,17Z,20Z,23Z,26Z-dotriacontapentaenoyl)-2-(9Z,12Z,15Z,18Z,21Z-tetracosapentaenoyl)-sn-glycero-3-phospho-N-(11Z-octadecenoyl)-ethanolamine/1-(14Z,17Z,20Z,23Z,26Z-dotriacontapentaenoyl)-2-(9Z,12Z,15Z,18Z,21Z-tetracosapentaenoyl)-sn-glycero-3-phospho-N-(9Z-octadecenoyl)-ethanolamine/1-(14Z,17Z,20Z,23Z,26Z-dotriacontapentaenoyl)-2-(9Z,12Z,15Z,18Z-tetracosatetraenoyl)-sn-glycero-3-phospho-N-(9Z,12Z-octadecadienoyl)-ethanolamine/1-(14Z,17Z,20Z,23Z,26Z-dotriacontapentaenoyl)-2-eicosanoyl-sn-glycero-3-phospho-N-(4Z,7Z,10Z,13Z,16Z,19Z-docosahexaenoyl)-ethanolamine_0",
         "line": {
          "color": "#ab63fa",
          "dash": "solid"
         },
         "marker": {
          "symbol": "circle"
         },
         "mode": "lines",
         "name": "1-(14Z,17Z,20Z,23Z,26Z-dotriacontapentaenoyl)-2-(10Z,13Z,16Z,19Z,22Z,25Z-octacosahexaenoyl)-sn-glycero-3-phospho-N-tetradecanoyl-ethanolamine/1-(14Z,17Z,20Z,23Z,26Z-dotriacontapentaenoyl)-2-(12Z,15Z,18Z,21Z,24Z,27Z-triacontahexaenoyl)-sn-glycero-3-phospho-N-dodecanoyl-ethanolamine/1-(14Z,17Z,20Z,23Z,26Z-dotriacontapentaenoyl)-2-(13Z,16Z-docosadienoyl)-sn-glycero-3-phospho-N-(5Z,8Z,11Z,14Z-eicosatetraenoyl)-ethanolamine/1-(14Z,17Z,20Z,23Z,26Z-dotriacontapentaenoyl)-2-(14Z,17Z,20Z,23Z,26Z,29Z-dotriacontahexaenoyl)-sn-glycero-3-phospho-N-decanoyl-ethanolamine/1-(14Z,17Z,20Z,23Z,26Z-dotriacontapentaenoyl)-2-(16Z,19Z,22Z,25Z,28Z,31Z-tetratriacontahexaenoyl)-sn-glycero-3-phospho-N-octanoyl-ethanolamine/1-(14Z,17Z,20Z,23Z,26Z-dotriacontapentaenoyl)-2-(18Z,21Z,24Z,27Z,30Z,33Z-hexatriacontahexaenoyl)-sn-glycero-3-phospho-N-hexanoyl-ethanolamine/1-(14Z,17Z,20Z,23Z,26Z-dotriacontapentaenoyl)-2-(6Z,9Z,12Z,15Z,18Z,21Z-tetracosahexaenoyl)-sn-glycero-3-phospho-N-octadecanoyl-ethanolamine/1-(14Z,17Z,20Z,23Z,26Z-dotriacontapentaenoyl)-2-(6Z,9Z,12Z,15Z,18Z-tetracosapentaenoyl)-sn-glycero-3-phospho-N-(11Z-octadecenoyl)-ethanolamine/1-(14Z,17Z,20Z,23Z,26Z-dotriacontapentaenoyl)-2-(6Z,9Z,12Z,15Z,18Z-tetracosapentaenoyl)-sn-glycero-3-phospho-N-(9Z-octadecenoyl)-ethanolamine/1-(14Z,17Z,20Z,23Z,26Z-dotriacontapentaenoyl)-2-(8Z,11Z,14Z,17Z,20Z,23Z-hexacosahexaenoyl)-sn-glycero-3-phospho-N-hexadecanoyl-ethanolamine/1-(14Z,17Z,20Z,23Z,26Z-dotriacontapentaenoyl)-2-(9Z,12Z,15Z,18Z,21Z-tetracosapentaenoyl)-sn-glycero-3-phospho-N-(11Z-octadecenoyl)-ethanolamine/1-(14Z,17Z,20Z,23Z,26Z-dotriacontapentaenoyl)-2-(9Z,12Z,15Z,18Z,21Z-tetracosapentaenoyl)-sn-glycero-3-phospho-N-(9Z-octadecenoyl)-ethanolamine/1-(14Z,17Z,20Z,23Z,26Z-dotriacontapentaenoyl)-2-(9Z,12Z,15Z,18Z-tetracosatetraenoyl)-sn-glycero-3-phospho-N-(9Z,12Z-octadecadienoyl)-ethanolamine/1-(14Z,17Z,20Z,23Z,26Z-dotriacontapentaenoyl)-2-eicosanoyl-sn-glycero-3-phospho-N-(4Z,7Z,10Z,13Z,16Z,19Z-docosahexaenoyl)-ethanolamine_0",
         "scene": "scene",
         "showlegend": false,
         "type": "scatter3d",
         "x": [
          1269.965073533229,
          1269.965073533229,
          1270.9684283710292,
          1270.9684283710292
         ],
         "y": [
          10.161999702453613,
          10.87600040435791,
          10.161999702453613,
          10.87600040435791
         ],
         "z": [
          0,
          361.5546569824219,
          0,
          554.7975463867188
         ]
        },
        {
         "hovertemplate": "labels=1-(14Z,17Z,20Z,23Z,26Z-dotriacontapentaenoyl)-2-(10Z,13Z,16Z,19Z,22Z-octacosapentaenoyl)-sn-glycero-3-phospho-N-(4Z,7Z,10Z,13Z,16Z,19Z-docosahexaenoyl)-ethanolamine/1-(14Z,17Z,20Z,23Z,26Z-dotriacontapentaenoyl)-2-(13Z,16Z,19Z,22Z,25Z-octacosapentaenoyl)-sn-glycero-3-phospho-N-(4Z,7Z,10Z,13Z,16Z,19Z-docosahexaenoyl)-ethanolamine_0<br>m/z=%{x}<br>rt=%{y}<br>intensity=%{z}<extra></extra>",
         "legendgroup": "1-(14Z,17Z,20Z,23Z,26Z-dotriacontapentaenoyl)-2-(10Z,13Z,16Z,19Z,22Z-octacosapentaenoyl)-sn-glycero-3-phospho-N-(4Z,7Z,10Z,13Z,16Z,19Z-docosahexaenoyl)-ethanolamine/1-(14Z,17Z,20Z,23Z,26Z-dotriacontapentaenoyl)-2-(13Z,16Z,19Z,22Z,25Z-octacosapentaenoyl)-sn-glycero-3-phospho-N-(4Z,7Z,10Z,13Z,16Z,19Z-docosahexaenoyl)-ethanolamine_0",
         "line": {
          "color": "#FFA15A",
          "dash": "solid"
         },
         "marker": {
          "symbol": "circle"
         },
         "mode": "lines",
         "name": "1-(14Z,17Z,20Z,23Z,26Z-dotriacontapentaenoyl)-2-(10Z,13Z,16Z,19Z,22Z-octacosapentaenoyl)-sn-glycero-3-phospho-N-(4Z,7Z,10Z,13Z,16Z,19Z-docosahexaenoyl)-ethanolamine/1-(14Z,17Z,20Z,23Z,26Z-dotriacontapentaenoyl)-2-(13Z,16Z,19Z,22Z,25Z-octacosapentaenoyl)-sn-glycero-3-phospho-N-(4Z,7Z,10Z,13Z,16Z,19Z-docosahexaenoyl)-ethanolamine_0",
         "scene": "scene",
         "showlegend": false,
         "type": "scatter3d",
         "x": [
          1372.012023533229,
          1372.012023533229,
          1372.012023533229,
          1373.015378371029,
          1373.015378371029,
          1373.015378371029
         ],
         "y": [
          9.446999549865723,
          10.161999702453613,
          10.87600040435791,
          9.446999549865723,
          10.161999702453613,
          10.87600040435791
         ],
         "z": [
          272.97491455078125,
          0,
          0,
          71.41041564941406,
          592.7940063476562,
          188.3826141357422
         ]
        },
        {
         "hovertemplate": "labels=1-(14Z,17Z,20Z,23Z,26Z-dotriacontapentaenoyl)-2-(10Z,13Z,16Z,19Z,22Z-octacosapentaenoyl)-sn-glycero-3-phospho-N-(5Z,8Z,11Z,14Z-eicosatetraenoyl)-ethanolamine/1-(14Z,17Z,20Z,23Z,26Z-dotriacontapentaenoyl)-2-(12Z,15Z,18Z,21Z,24Z,27Z-triacontahexaenoyl)-sn-glycero-3-phospho-N-(6Z,9Z,12Z-octadecatrienoyl)-ethanolamine/1-(14Z,17Z,20Z,23Z,26Z-dotriacontapentaenoyl)-2-(12Z,15Z,18Z,21Z,24Z,27Z-triacontahexaenoyl)-sn-glycero-3-phospho-N-(9Z,12Z,15Z-octadecatrienoyl)-ethanolamine/1-(14Z,17Z,20Z,23Z,26Z-dotriacontapentaenoyl)-2-(13Z,16Z,19Z,22Z,25Z-octacosapentaenoyl)-sn-glycero-3-phospho-N-(5Z,8Z,11Z,14Z-eicosatetraenoyl)-ethanolamine_0<br>m/z=%{x}<br>rt=%{y}<br>intensity=%{z}<extra></extra>",
         "legendgroup": "1-(14Z,17Z,20Z,23Z,26Z-dotriacontapentaenoyl)-2-(10Z,13Z,16Z,19Z,22Z-octacosapentaenoyl)-sn-glycero-3-phospho-N-(5Z,8Z,11Z,14Z-eicosatetraenoyl)-ethanolamine/1-(14Z,17Z,20Z,23Z,26Z-dotriacontapentaenoyl)-2-(12Z,15Z,18Z,21Z,24Z,27Z-triacontahexaenoyl)-sn-glycero-3-phospho-N-(6Z,9Z,12Z-octadecatrienoyl)-ethanolamine/1-(14Z,17Z,20Z,23Z,26Z-dotriacontapentaenoyl)-2-(12Z,15Z,18Z,21Z,24Z,27Z-triacontahexaenoyl)-sn-glycero-3-phospho-N-(9Z,12Z,15Z-octadecatrienoyl)-ethanolamine/1-(14Z,17Z,20Z,23Z,26Z-dotriacontapentaenoyl)-2-(13Z,16Z,19Z,22Z,25Z-octacosapentaenoyl)-sn-glycero-3-phospho-N-(5Z,8Z,11Z,14Z-eicosatetraenoyl)-ethanolamine_0",
         "line": {
          "color": "#19d3f3",
          "dash": "solid"
         },
         "marker": {
          "symbol": "circle"
         },
         "mode": "lines",
         "name": "1-(14Z,17Z,20Z,23Z,26Z-dotriacontapentaenoyl)-2-(10Z,13Z,16Z,19Z,22Z-octacosapentaenoyl)-sn-glycero-3-phospho-N-(5Z,8Z,11Z,14Z-eicosatetraenoyl)-ethanolamine/1-(14Z,17Z,20Z,23Z,26Z-dotriacontapentaenoyl)-2-(12Z,15Z,18Z,21Z,24Z,27Z-triacontahexaenoyl)-sn-glycero-3-phospho-N-(6Z,9Z,12Z-octadecatrienoyl)-ethanolamine/1-(14Z,17Z,20Z,23Z,26Z-dotriacontapentaenoyl)-2-(12Z,15Z,18Z,21Z,24Z,27Z-triacontahexaenoyl)-sn-glycero-3-phospho-N-(9Z,12Z,15Z-octadecatrienoyl)-ethanolamine/1-(14Z,17Z,20Z,23Z,26Z-dotriacontapentaenoyl)-2-(13Z,16Z,19Z,22Z,25Z-octacosapentaenoyl)-sn-glycero-3-phospho-N-(5Z,8Z,11Z,14Z-eicosatetraenoyl)-ethanolamine_0",
         "scene": "scene",
         "showlegend": false,
         "type": "scatter3d",
         "x": [
          1348.012023533229,
          1348.012023533229,
          1349.015378371029,
          1349.015378371029
         ],
         "y": [
          10.161999702453613,
          10.87600040435791,
          10.161999702453613,
          10.87600040435791
         ],
         "z": [
          0,
          0,
          0,
          1267.555908203125
         ]
        },
        {
         "hovertemplate": "labels=1-(14Z,17Z,20Z,23Z,26Z-dotriacontapentaenoyl)-2-(10Z,13Z,16Z,19Z,22Z-octacosapentaenoyl)-sn-glycero-3-phospho-N-decanoyl-ethanolamine/1-(14Z,17Z,20Z,23Z,26Z-dotriacontapentaenoyl)-2-(11E-octadecenoyl)-sn-glycero-3-phospho-N-(5Z,8Z,11Z,14Z-eicosatetraenoyl)-ethanolamine/1-(14Z,17Z,20Z,23Z,26Z-dotriacontapentaenoyl)-2-(11Z,14Z,17Z,20Z,23Z-hexacosapentaenoyl)-sn-glycero-3-phospho-N-dodecanoyl-ethanolamine/1-(14Z,17Z,20Z,23Z,26Z-dotriacontapentaenoyl)-2-(11Z,14Z,17Z-eicoastrienoyl)-sn-glycero-3-phospho-N-(9Z,12Z-octadecadienoyl)-ethanolamine/1-(14Z,17Z,20Z,23Z,26Z-dotriacontapentaenoyl)-2-(11Z,14Z-eicosadienoyl)-sn-glycero-3-phospho-N-(6Z,9Z,12Z-octadecatrienoyl)-ethanolamine/1-(14Z,17Z,20Z,23Z,26Z-dotriacontapentaenoyl)-2-(11Z,14Z-eicosadienoyl)-sn-glycero-3-phospho-N-(9Z,12Z,15Z-octadecatrienoyl)-ethanolamine/1-(14Z,17Z,20Z,23Z,26Z-dotriacontapentaenoyl)-2-(11Z-octadecenoyl)-sn-glycero-3-phospho-N-(5Z,8Z,11Z,14Z-eicosatetraenoyl)-ethanolamine/1-(14Z,17Z,20Z,23Z,26Z-dotriacontapentaenoyl)-2-(12Z,15Z,18Z,21Z,24Z-triacontapentaenoyl)-sn-glycero-3-phospho-N-octanoyl-ethanolamine/1-(14Z,17Z,20Z,23Z,26Z-dotriacontapentaenoyl)-2-(13Z,16Z,19Z,22Z,25Z-octacosapentaenoyl)-sn-glycero-3-phospho-N-decanoyl-ethanolamine/1-(14Z,17Z,20Z,23Z,26Z-dotriacontapentaenoyl)-2-(15Z,18Z,21Z,24Z,27Z-triacontapentaenoyl)-sn-glycero-3-phospho-N-octanoyl-ethanolamine/1-(14Z,17Z,20Z,23Z,26Z-dotriacontapentaenoyl)-2-(17Z,20Z,23Z,26Z,29Z-dotriacontapentaenoyl)-sn-glycero-3-phospho-N-hexanoyl-ethanolamine/1-(14Z,17Z,20Z,23Z,26Z-dotriacontapentaenoyl)-2-(4Z,7Z,10Z,13Z,16Z-docosapentaenoyl)-sn-glycero-3-phospho-N-hexadecanoyl-ethanolamine/1-(14Z,17Z,20Z,23Z,26Z-dotriacontapentaenoyl)-2-(5Z,8Z,11Z,14Z,17Z-eicosapentaenoyl)-sn-glycero-3-phospho-N-octadecanoyl-ethanolamine/1-(14Z,17Z,20Z,23Z,26Z-dotriacontapentaenoyl)-2-(5Z,8Z,11Z,14Z-eicosatetraenoyl)-sn-glycero-3-phospho-N-(11Z-octadecenoyl)-ethanolamine/1-(14Z,17Z,20Z,23Z,26Z-dotriacontapentaenoyl)-2-(5Z,8Z,11Z,14Z-eicosatetraenoyl)-sn-glycero-3-phospho-N-(9Z-octadecenoyl)-ethanolamine/1-(14Z,17Z,20Z,23Z,26Z-dotriacontapentaenoyl)-2-(6Z,9Z,12Z,15Z,18Z-tetracosapentaenoyl)-sn-glycero-3-phospho-N-tetradecanoyl-ethanolamine/1-(14Z,17Z,20Z,23Z,26Z-dotriacontapentaenoyl)-2-(6Z-octadecenoyl)-sn-glycero-3-phospho-N-(5Z,8Z,11Z,14Z-eicosatetraenoyl)-ethanolamine/1-(14Z,17Z,20Z,23Z,26Z-dotriacontapentaenoyl)-2-(7Z,10Z,13Z,16Z,19Z-docosapentaenoyl)-sn-glycero-3-phospho-N-hexadecanoyl-ethanolamine/1-(14Z,17Z,20Z,23Z,26Z-dotriacontapentaenoyl)-2-(8Z,11Z,14Z,17Z,20Z-hexacosapentaenoyl)-sn-glycero-3-phospho-N-dodecanoyl-ethanolamine/1-(14Z,17Z,20Z,23Z,26Z-dotriacontapentaenoyl)-2-(8Z,11Z,14Z,17Z-eicosatetraenoyl)-sn-glycero-3-phospho-N-(11Z-octadecenoyl)-ethanolamine/1-(14Z,17Z,20Z,23Z,26Z-dotriacontapentaenoyl)-2-(8Z,11Z,14Z,17Z-eicosatetraenoyl)-sn-glycero-3-phospho-N-(9Z-octadecenoyl)-ethanolamine/1-(14Z,17Z,20Z,23Z,26Z-dotriacontapentaenoyl)-2-(8Z,11Z,14Z-eicosatrienoyl)-sn-glycero-3-phospho-N-(9Z,12Z-octadecadienoyl)-ethanolamine/1-(14Z,17Z,20Z,23Z,26Z-dotriacontapentaenoyl)-2-(9Z,12Z,15Z,18Z,21Z-tetracosapentaenoyl)-sn-glycero-3-phospho-N-tetradecanoyl-ethanolamine/1-(14Z,17Z,20Z,23Z,26Z-dotriacontapentaenoyl)-2-(9Z-octadecenoyl)-sn-glycero-3-phospho-N-(5Z,8Z,11Z,14Z-eicosatetraenoyl)-ethanolamine_0<br>m/z=%{x}<br>rt=%{y}<br>intensity=%{z}<extra></extra>",
         "legendgroup": "1-(14Z,17Z,20Z,23Z,26Z-dotriacontapentaenoyl)-2-(10Z,13Z,16Z,19Z,22Z-octacosapentaenoyl)-sn-glycero-3-phospho-N-decanoyl-ethanolamine/1-(14Z,17Z,20Z,23Z,26Z-dotriacontapentaenoyl)-2-(11E-octadecenoyl)-sn-glycero-3-phospho-N-(5Z,8Z,11Z,14Z-eicosatetraenoyl)-ethanolamine/1-(14Z,17Z,20Z,23Z,26Z-dotriacontapentaenoyl)-2-(11Z,14Z,17Z,20Z,23Z-hexacosapentaenoyl)-sn-glycero-3-phospho-N-dodecanoyl-ethanolamine/1-(14Z,17Z,20Z,23Z,26Z-dotriacontapentaenoyl)-2-(11Z,14Z,17Z-eicoastrienoyl)-sn-glycero-3-phospho-N-(9Z,12Z-octadecadienoyl)-ethanolamine/1-(14Z,17Z,20Z,23Z,26Z-dotriacontapentaenoyl)-2-(11Z,14Z-eicosadienoyl)-sn-glycero-3-phospho-N-(6Z,9Z,12Z-octadecatrienoyl)-ethanolamine/1-(14Z,17Z,20Z,23Z,26Z-dotriacontapentaenoyl)-2-(11Z,14Z-eicosadienoyl)-sn-glycero-3-phospho-N-(9Z,12Z,15Z-octadecatrienoyl)-ethanolamine/1-(14Z,17Z,20Z,23Z,26Z-dotriacontapentaenoyl)-2-(11Z-octadecenoyl)-sn-glycero-3-phospho-N-(5Z,8Z,11Z,14Z-eicosatetraenoyl)-ethanolamine/1-(14Z,17Z,20Z,23Z,26Z-dotriacontapentaenoyl)-2-(12Z,15Z,18Z,21Z,24Z-triacontapentaenoyl)-sn-glycero-3-phospho-N-octanoyl-ethanolamine/1-(14Z,17Z,20Z,23Z,26Z-dotriacontapentaenoyl)-2-(13Z,16Z,19Z,22Z,25Z-octacosapentaenoyl)-sn-glycero-3-phospho-N-decanoyl-ethanolamine/1-(14Z,17Z,20Z,23Z,26Z-dotriacontapentaenoyl)-2-(15Z,18Z,21Z,24Z,27Z-triacontapentaenoyl)-sn-glycero-3-phospho-N-octanoyl-ethanolamine/1-(14Z,17Z,20Z,23Z,26Z-dotriacontapentaenoyl)-2-(17Z,20Z,23Z,26Z,29Z-dotriacontapentaenoyl)-sn-glycero-3-phospho-N-hexanoyl-ethanolamine/1-(14Z,17Z,20Z,23Z,26Z-dotriacontapentaenoyl)-2-(4Z,7Z,10Z,13Z,16Z-docosapentaenoyl)-sn-glycero-3-phospho-N-hexadecanoyl-ethanolamine/1-(14Z,17Z,20Z,23Z,26Z-dotriacontapentaenoyl)-2-(5Z,8Z,11Z,14Z,17Z-eicosapentaenoyl)-sn-glycero-3-phospho-N-octadecanoyl-ethanolamine/1-(14Z,17Z,20Z,23Z,26Z-dotriacontapentaenoyl)-2-(5Z,8Z,11Z,14Z-eicosatetraenoyl)-sn-glycero-3-phospho-N-(11Z-octadecenoyl)-ethanolamine/1-(14Z,17Z,20Z,23Z,26Z-dotriacontapentaenoyl)-2-(5Z,8Z,11Z,14Z-eicosatetraenoyl)-sn-glycero-3-phospho-N-(9Z-octadecenoyl)-ethanolamine/1-(14Z,17Z,20Z,23Z,26Z-dotriacontapentaenoyl)-2-(6Z,9Z,12Z,15Z,18Z-tetracosapentaenoyl)-sn-glycero-3-phospho-N-tetradecanoyl-ethanolamine/1-(14Z,17Z,20Z,23Z,26Z-dotriacontapentaenoyl)-2-(6Z-octadecenoyl)-sn-glycero-3-phospho-N-(5Z,8Z,11Z,14Z-eicosatetraenoyl)-ethanolamine/1-(14Z,17Z,20Z,23Z,26Z-dotriacontapentaenoyl)-2-(7Z,10Z,13Z,16Z,19Z-docosapentaenoyl)-sn-glycero-3-phospho-N-hexadecanoyl-ethanolamine/1-(14Z,17Z,20Z,23Z,26Z-dotriacontapentaenoyl)-2-(8Z,11Z,14Z,17Z,20Z-hexacosapentaenoyl)-sn-glycero-3-phospho-N-dodecanoyl-ethanolamine/1-(14Z,17Z,20Z,23Z,26Z-dotriacontapentaenoyl)-2-(8Z,11Z,14Z,17Z-eicosatetraenoyl)-sn-glycero-3-phospho-N-(11Z-octadecenoyl)-ethanolamine/1-(14Z,17Z,20Z,23Z,26Z-dotriacontapentaenoyl)-2-(8Z,11Z,14Z,17Z-eicosatetraenoyl)-sn-glycero-3-phospho-N-(9Z-octadecenoyl)-ethanolamine/1-(14Z,17Z,20Z,23Z,26Z-dotriacontapentaenoyl)-2-(8Z,11Z,14Z-eicosatrienoyl)-sn-glycero-3-phospho-N-(9Z,12Z-octadecadienoyl)-ethanolamine/1-(14Z,17Z,20Z,23Z,26Z-dotriacontapentaenoyl)-2-(9Z,12Z,15Z,18Z,21Z-tetracosapentaenoyl)-sn-glycero-3-phospho-N-tetradecanoyl-ethanolamine/1-(14Z,17Z,20Z,23Z,26Z-dotriacontapentaenoyl)-2-(9Z-octadecenoyl)-sn-glycero-3-phospho-N-(5Z,8Z,11Z,14Z-eicosatetraenoyl)-ethanolamine_0",
         "line": {
          "color": "#FF6692",
          "dash": "solid"
         },
         "marker": {
          "symbol": "circle"
         },
         "mode": "lines",
         "name": "1-(14Z,17Z,20Z,23Z,26Z-dotriacontapentaenoyl)-2-(10Z,13Z,16Z,19Z,22Z-octacosapentaenoyl)-sn-glycero-3-phospho-N-decanoyl-ethanolamine/1-(14Z,17Z,20Z,23Z,26Z-dotriacontapentaenoyl)-2-(11E-octadecenoyl)-sn-glycero-3-phospho-N-(5Z,8Z,11Z,14Z-eicosatetraenoyl)-ethanolamine/1-(14Z,17Z,20Z,23Z,26Z-dotriacontapentaenoyl)-2-(11Z,14Z,17Z,20Z,23Z-hexacosapentaenoyl)-sn-glycero-3-phospho-N-dodecanoyl-ethanolamine/1-(14Z,17Z,20Z,23Z,26Z-dotriacontapentaenoyl)-2-(11Z,14Z,17Z-eicoastrienoyl)-sn-glycero-3-phospho-N-(9Z,12Z-octadecadienoyl)-ethanolamine/1-(14Z,17Z,20Z,23Z,26Z-dotriacontapentaenoyl)-2-(11Z,14Z-eicosadienoyl)-sn-glycero-3-phospho-N-(6Z,9Z,12Z-octadecatrienoyl)-ethanolamine/1-(14Z,17Z,20Z,23Z,26Z-dotriacontapentaenoyl)-2-(11Z,14Z-eicosadienoyl)-sn-glycero-3-phospho-N-(9Z,12Z,15Z-octadecatrienoyl)-ethanolamine/1-(14Z,17Z,20Z,23Z,26Z-dotriacontapentaenoyl)-2-(11Z-octadecenoyl)-sn-glycero-3-phospho-N-(5Z,8Z,11Z,14Z-eicosatetraenoyl)-ethanolamine/1-(14Z,17Z,20Z,23Z,26Z-dotriacontapentaenoyl)-2-(12Z,15Z,18Z,21Z,24Z-triacontapentaenoyl)-sn-glycero-3-phospho-N-octanoyl-ethanolamine/1-(14Z,17Z,20Z,23Z,26Z-dotriacontapentaenoyl)-2-(13Z,16Z,19Z,22Z,25Z-octacosapentaenoyl)-sn-glycero-3-phospho-N-decanoyl-ethanolamine/1-(14Z,17Z,20Z,23Z,26Z-dotriacontapentaenoyl)-2-(15Z,18Z,21Z,24Z,27Z-triacontapentaenoyl)-sn-glycero-3-phospho-N-octanoyl-ethanolamine/1-(14Z,17Z,20Z,23Z,26Z-dotriacontapentaenoyl)-2-(17Z,20Z,23Z,26Z,29Z-dotriacontapentaenoyl)-sn-glycero-3-phospho-N-hexanoyl-ethanolamine/1-(14Z,17Z,20Z,23Z,26Z-dotriacontapentaenoyl)-2-(4Z,7Z,10Z,13Z,16Z-docosapentaenoyl)-sn-glycero-3-phospho-N-hexadecanoyl-ethanolamine/1-(14Z,17Z,20Z,23Z,26Z-dotriacontapentaenoyl)-2-(5Z,8Z,11Z,14Z,17Z-eicosapentaenoyl)-sn-glycero-3-phospho-N-octadecanoyl-ethanolamine/1-(14Z,17Z,20Z,23Z,26Z-dotriacontapentaenoyl)-2-(5Z,8Z,11Z,14Z-eicosatetraenoyl)-sn-glycero-3-phospho-N-(11Z-octadecenoyl)-ethanolamine/1-(14Z,17Z,20Z,23Z,26Z-dotriacontapentaenoyl)-2-(5Z,8Z,11Z,14Z-eicosatetraenoyl)-sn-glycero-3-phospho-N-(9Z-octadecenoyl)-ethanolamine/1-(14Z,17Z,20Z,23Z,26Z-dotriacontapentaenoyl)-2-(6Z,9Z,12Z,15Z,18Z-tetracosapentaenoyl)-sn-glycero-3-phospho-N-tetradecanoyl-ethanolamine/1-(14Z,17Z,20Z,23Z,26Z-dotriacontapentaenoyl)-2-(6Z-octadecenoyl)-sn-glycero-3-phospho-N-(5Z,8Z,11Z,14Z-eicosatetraenoyl)-ethanolamine/1-(14Z,17Z,20Z,23Z,26Z-dotriacontapentaenoyl)-2-(7Z,10Z,13Z,16Z,19Z-docosapentaenoyl)-sn-glycero-3-phospho-N-hexadecanoyl-ethanolamine/1-(14Z,17Z,20Z,23Z,26Z-dotriacontapentaenoyl)-2-(8Z,11Z,14Z,17Z,20Z-hexacosapentaenoyl)-sn-glycero-3-phospho-N-dodecanoyl-ethanolamine/1-(14Z,17Z,20Z,23Z,26Z-dotriacontapentaenoyl)-2-(8Z,11Z,14Z,17Z-eicosatetraenoyl)-sn-glycero-3-phospho-N-(11Z-octadecenoyl)-ethanolamine/1-(14Z,17Z,20Z,23Z,26Z-dotriacontapentaenoyl)-2-(8Z,11Z,14Z,17Z-eicosatetraenoyl)-sn-glycero-3-phospho-N-(9Z-octadecenoyl)-ethanolamine/1-(14Z,17Z,20Z,23Z,26Z-dotriacontapentaenoyl)-2-(8Z,11Z,14Z-eicosatrienoyl)-sn-glycero-3-phospho-N-(9Z,12Z-octadecadienoyl)-ethanolamine/1-(14Z,17Z,20Z,23Z,26Z-dotriacontapentaenoyl)-2-(9Z,12Z,15Z,18Z,21Z-tetracosapentaenoyl)-sn-glycero-3-phospho-N-tetradecanoyl-ethanolamine/1-(14Z,17Z,20Z,23Z,26Z-dotriacontapentaenoyl)-2-(9Z-octadecenoyl)-sn-glycero-3-phospho-N-(5Z,8Z,11Z,14Z-eicosatetraenoyl)-ethanolamine_0",
         "scene": "scene",
         "showlegend": false,
         "type": "scatter3d",
         "x": [
          1215.9181135332294,
          1215.9181135332294,
          1215.9181135332294,
          1216.9214683710293,
          1216.9214683710293,
          1216.9214683710293
         ],
         "y": [
          9.446999549865723,
          10.161999702453613,
          10.87600040435791,
          9.446999549865723,
          10.161999702453613,
          10.87600040435791
         ],
         "z": [
          0,
          417.1364440917969,
          0,
          0,
          0,
          0
         ]
        },
        {
         "hovertemplate": "labels=1-(14Z,17Z,20Z,23Z,26Z-dotriacontapentaenoyl)-2-(10Z,13Z,16Z,19Z,22Z-octacosapentaenoyl)-sn-glycero-3-phospho-N-dodecanoyl-ethanolamine/1-(14Z,17Z,20Z,23Z,26Z-dotriacontapentaenoyl)-2-(10Z,13Z,16Z-docosatrienoyl)-sn-glycero-3-phospho-N-(9Z,12Z-octadecadienoyl)-ethanolamine/1-(14Z,17Z,20Z,23Z,26Z-dotriacontapentaenoyl)-2-(11Z,14Z,17Z,20Z,23Z-hexacosapentaenoyl)-sn-glycero-3-phospho-N-tetradecanoyl-ethanolamine/1-(14Z,17Z,20Z,23Z,26Z-dotriacontapentaenoyl)-2-(11Z-eicosenoyl)-sn-glycero-3-phospho-N-(5Z,8Z,11Z,14Z-eicosatetraenoyl)-ethanolamine/1-(14Z,17Z,20Z,23Z,26Z-dotriacontapentaenoyl)-2-(12Z,15Z,18Z,21Z,24Z-triacontapentaenoyl)-sn-glycero-3-phospho-N-decanoyl-ethanolamine/1-(14Z,17Z,20Z,23Z,26Z-dotriacontapentaenoyl)-2-(13Z,16Z,19Z,22Z,25Z-octacosapentaenoyl)-sn-glycero-3-phospho-N-dodecanoyl-ethanolamine/1-(14Z,17Z,20Z,23Z,26Z-dotriacontapentaenoyl)-2-(13Z,16Z-docosadienoyl)-sn-glycero-3-phospho-N-(6Z,9Z,12Z-octadecatrienoyl)-ethanolamine/1-(14Z,17Z,20Z,23Z,26Z-dotriacontapentaenoyl)-2-(13Z,16Z-docosadienoyl)-sn-glycero-3-phospho-N-(9Z,12Z,15Z-octadecatrienoyl)-ethanolamine/1-(14Z,17Z,20Z,23Z,26Z-dotriacontapentaenoyl)-2-(15Z,18Z,21Z,24Z,27Z-triacontapentaenoyl)-sn-glycero-3-phospho-N-decanoyl-ethanolamine/1-(14Z,17Z,20Z,23Z,26Z-dotriacontapentaenoyl)-2-(17Z,20Z,23Z,26Z,29Z-dotriacontapentaenoyl)-sn-glycero-3-phospho-N-octanoyl-ethanolamine/1-(14Z,17Z,20Z,23Z,26Z-dotriacontapentaenoyl)-2-(19Z,22Z,25Z,28Z,31Z-tetratriacontapentaenoyl)-sn-glycero-3-phospho-N-hexanoyl-ethanolamine/1-(14Z,17Z,20Z,23Z,26Z-dotriacontapentaenoyl)-2-(4Z,7Z,10Z,13Z,16Z-docosapentaenoyl)-sn-glycero-3-phospho-N-octadecanoyl-ethanolamine/1-(14Z,17Z,20Z,23Z,26Z-dotriacontapentaenoyl)-2-(6Z,9Z,12Z,15Z,18Z-tetracosapentaenoyl)-sn-glycero-3-phospho-N-hexadecanoyl-ethanolamine/1-(14Z,17Z,20Z,23Z,26Z-dotriacontapentaenoyl)-2-(7Z,10Z,13Z,16Z,19Z-docosapentaenoyl)-sn-glycero-3-phospho-N-octadecanoyl-ethanolamine/1-(14Z,17Z,20Z,23Z,26Z-dotriacontapentaenoyl)-2-(7Z,10Z,13Z,16Z-docosatetraenoyl)-sn-glycero-3-phospho-N-(11Z-octadecenoyl)-ethanolamine/1-(14Z,17Z,20Z,23Z,26Z-dotriacontapentaenoyl)-2-(7Z,10Z,13Z,16Z-docosatetraenoyl)-sn-glycero-3-phospho-N-(9Z-octadecenoyl)-ethanolamine/1-(14Z,17Z,20Z,23Z,26Z-dotriacontapentaenoyl)-2-(8Z,11Z,14Z,17Z,20Z-hexacosapentaenoyl)-sn-glycero-3-phospho-N-tetradecanoyl-ethanolamine/1-(14Z,17Z,20Z,23Z,26Z-dotriacontapentaenoyl)-2-(9Z,12Z,15Z,18Z,21Z-tetracosapentaenoyl)-sn-glycero-3-phospho-N-hexadecanoyl-ethanolamine_0<br>m/z=%{x}<br>rt=%{y}<br>intensity=%{z}<extra></extra>",
         "legendgroup": "1-(14Z,17Z,20Z,23Z,26Z-dotriacontapentaenoyl)-2-(10Z,13Z,16Z,19Z,22Z-octacosapentaenoyl)-sn-glycero-3-phospho-N-dodecanoyl-ethanolamine/1-(14Z,17Z,20Z,23Z,26Z-dotriacontapentaenoyl)-2-(10Z,13Z,16Z-docosatrienoyl)-sn-glycero-3-phospho-N-(9Z,12Z-octadecadienoyl)-ethanolamine/1-(14Z,17Z,20Z,23Z,26Z-dotriacontapentaenoyl)-2-(11Z,14Z,17Z,20Z,23Z-hexacosapentaenoyl)-sn-glycero-3-phospho-N-tetradecanoyl-ethanolamine/1-(14Z,17Z,20Z,23Z,26Z-dotriacontapentaenoyl)-2-(11Z-eicosenoyl)-sn-glycero-3-phospho-N-(5Z,8Z,11Z,14Z-eicosatetraenoyl)-ethanolamine/1-(14Z,17Z,20Z,23Z,26Z-dotriacontapentaenoyl)-2-(12Z,15Z,18Z,21Z,24Z-triacontapentaenoyl)-sn-glycero-3-phospho-N-decanoyl-ethanolamine/1-(14Z,17Z,20Z,23Z,26Z-dotriacontapentaenoyl)-2-(13Z,16Z,19Z,22Z,25Z-octacosapentaenoyl)-sn-glycero-3-phospho-N-dodecanoyl-ethanolamine/1-(14Z,17Z,20Z,23Z,26Z-dotriacontapentaenoyl)-2-(13Z,16Z-docosadienoyl)-sn-glycero-3-phospho-N-(6Z,9Z,12Z-octadecatrienoyl)-ethanolamine/1-(14Z,17Z,20Z,23Z,26Z-dotriacontapentaenoyl)-2-(13Z,16Z-docosadienoyl)-sn-glycero-3-phospho-N-(9Z,12Z,15Z-octadecatrienoyl)-ethanolamine/1-(14Z,17Z,20Z,23Z,26Z-dotriacontapentaenoyl)-2-(15Z,18Z,21Z,24Z,27Z-triacontapentaenoyl)-sn-glycero-3-phospho-N-decanoyl-ethanolamine/1-(14Z,17Z,20Z,23Z,26Z-dotriacontapentaenoyl)-2-(17Z,20Z,23Z,26Z,29Z-dotriacontapentaenoyl)-sn-glycero-3-phospho-N-octanoyl-ethanolamine/1-(14Z,17Z,20Z,23Z,26Z-dotriacontapentaenoyl)-2-(19Z,22Z,25Z,28Z,31Z-tetratriacontapentaenoyl)-sn-glycero-3-phospho-N-hexanoyl-ethanolamine/1-(14Z,17Z,20Z,23Z,26Z-dotriacontapentaenoyl)-2-(4Z,7Z,10Z,13Z,16Z-docosapentaenoyl)-sn-glycero-3-phospho-N-octadecanoyl-ethanolamine/1-(14Z,17Z,20Z,23Z,26Z-dotriacontapentaenoyl)-2-(6Z,9Z,12Z,15Z,18Z-tetracosapentaenoyl)-sn-glycero-3-phospho-N-hexadecanoyl-ethanolamine/1-(14Z,17Z,20Z,23Z,26Z-dotriacontapentaenoyl)-2-(7Z,10Z,13Z,16Z,19Z-docosapentaenoyl)-sn-glycero-3-phospho-N-octadecanoyl-ethanolamine/1-(14Z,17Z,20Z,23Z,26Z-dotriacontapentaenoyl)-2-(7Z,10Z,13Z,16Z-docosatetraenoyl)-sn-glycero-3-phospho-N-(11Z-octadecenoyl)-ethanolamine/1-(14Z,17Z,20Z,23Z,26Z-dotriacontapentaenoyl)-2-(7Z,10Z,13Z,16Z-docosatetraenoyl)-sn-glycero-3-phospho-N-(9Z-octadecenoyl)-ethanolamine/1-(14Z,17Z,20Z,23Z,26Z-dotriacontapentaenoyl)-2-(8Z,11Z,14Z,17Z,20Z-hexacosapentaenoyl)-sn-glycero-3-phospho-N-tetradecanoyl-ethanolamine/1-(14Z,17Z,20Z,23Z,26Z-dotriacontapentaenoyl)-2-(9Z,12Z,15Z,18Z,21Z-tetracosapentaenoyl)-sn-glycero-3-phospho-N-hexadecanoyl-ethanolamine_0",
         "line": {
          "color": "#B6E880",
          "dash": "solid"
         },
         "marker": {
          "symbol": "circle"
         },
         "mode": "lines",
         "name": "1-(14Z,17Z,20Z,23Z,26Z-dotriacontapentaenoyl)-2-(10Z,13Z,16Z,19Z,22Z-octacosapentaenoyl)-sn-glycero-3-phospho-N-dodecanoyl-ethanolamine/1-(14Z,17Z,20Z,23Z,26Z-dotriacontapentaenoyl)-2-(10Z,13Z,16Z-docosatrienoyl)-sn-glycero-3-phospho-N-(9Z,12Z-octadecadienoyl)-ethanolamine/1-(14Z,17Z,20Z,23Z,26Z-dotriacontapentaenoyl)-2-(11Z,14Z,17Z,20Z,23Z-hexacosapentaenoyl)-sn-glycero-3-phospho-N-tetradecanoyl-ethanolamine/1-(14Z,17Z,20Z,23Z,26Z-dotriacontapentaenoyl)-2-(11Z-eicosenoyl)-sn-glycero-3-phospho-N-(5Z,8Z,11Z,14Z-eicosatetraenoyl)-ethanolamine/1-(14Z,17Z,20Z,23Z,26Z-dotriacontapentaenoyl)-2-(12Z,15Z,18Z,21Z,24Z-triacontapentaenoyl)-sn-glycero-3-phospho-N-decanoyl-ethanolamine/1-(14Z,17Z,20Z,23Z,26Z-dotriacontapentaenoyl)-2-(13Z,16Z,19Z,22Z,25Z-octacosapentaenoyl)-sn-glycero-3-phospho-N-dodecanoyl-ethanolamine/1-(14Z,17Z,20Z,23Z,26Z-dotriacontapentaenoyl)-2-(13Z,16Z-docosadienoyl)-sn-glycero-3-phospho-N-(6Z,9Z,12Z-octadecatrienoyl)-ethanolamine/1-(14Z,17Z,20Z,23Z,26Z-dotriacontapentaenoyl)-2-(13Z,16Z-docosadienoyl)-sn-glycero-3-phospho-N-(9Z,12Z,15Z-octadecatrienoyl)-ethanolamine/1-(14Z,17Z,20Z,23Z,26Z-dotriacontapentaenoyl)-2-(15Z,18Z,21Z,24Z,27Z-triacontapentaenoyl)-sn-glycero-3-phospho-N-decanoyl-ethanolamine/1-(14Z,17Z,20Z,23Z,26Z-dotriacontapentaenoyl)-2-(17Z,20Z,23Z,26Z,29Z-dotriacontapentaenoyl)-sn-glycero-3-phospho-N-octanoyl-ethanolamine/1-(14Z,17Z,20Z,23Z,26Z-dotriacontapentaenoyl)-2-(19Z,22Z,25Z,28Z,31Z-tetratriacontapentaenoyl)-sn-glycero-3-phospho-N-hexanoyl-ethanolamine/1-(14Z,17Z,20Z,23Z,26Z-dotriacontapentaenoyl)-2-(4Z,7Z,10Z,13Z,16Z-docosapentaenoyl)-sn-glycero-3-phospho-N-octadecanoyl-ethanolamine/1-(14Z,17Z,20Z,23Z,26Z-dotriacontapentaenoyl)-2-(6Z,9Z,12Z,15Z,18Z-tetracosapentaenoyl)-sn-glycero-3-phospho-N-hexadecanoyl-ethanolamine/1-(14Z,17Z,20Z,23Z,26Z-dotriacontapentaenoyl)-2-(7Z,10Z,13Z,16Z,19Z-docosapentaenoyl)-sn-glycero-3-phospho-N-octadecanoyl-ethanolamine/1-(14Z,17Z,20Z,23Z,26Z-dotriacontapentaenoyl)-2-(7Z,10Z,13Z,16Z-docosatetraenoyl)-sn-glycero-3-phospho-N-(11Z-octadecenoyl)-ethanolamine/1-(14Z,17Z,20Z,23Z,26Z-dotriacontapentaenoyl)-2-(7Z,10Z,13Z,16Z-docosatetraenoyl)-sn-glycero-3-phospho-N-(9Z-octadecenoyl)-ethanolamine/1-(14Z,17Z,20Z,23Z,26Z-dotriacontapentaenoyl)-2-(8Z,11Z,14Z,17Z,20Z-hexacosapentaenoyl)-sn-glycero-3-phospho-N-tetradecanoyl-ethanolamine/1-(14Z,17Z,20Z,23Z,26Z-dotriacontapentaenoyl)-2-(9Z,12Z,15Z,18Z,21Z-tetracosapentaenoyl)-sn-glycero-3-phospho-N-hexadecanoyl-ethanolamine_0",
         "scene": "scene",
         "showlegend": false,
         "type": "scatter3d",
         "x": [
          1243.949413533229,
          1243.949413533229,
          1244.9527683710292,
          1244.9527683710292
         ],
         "y": [
          7.303999900817871,
          8.017999649047852,
          7.303999900817871,
          8.017999649047852
         ],
         "z": [
          0,
          674.1017456054688,
          8.000244140625,
          0
         ]
        },
        {
         "hovertemplate": "labels=1-(14Z,17Z,20Z,23Z,26Z-dotriacontapentaenoyl)-2-(10Z,13Z,16Z,19Z,22Z-octacosapentaenoyl)-sn-glycero-3-phospho-N-hexadecanoyl-ethanolamine/1-(14Z,17Z,20Z,23Z,26Z-dotriacontapentaenoyl)-2-(11Z,14Z,17Z,20Z,23Z-hexacosapentaenoyl)-sn-glycero-3-phospho-N-octadecanoyl-ethanolamine/1-(14Z,17Z,20Z,23Z,26Z-dotriacontapentaenoyl)-2-(11Z,14Z,17Z,20Z-hexacosatetraenoyl)-sn-glycero-3-phospho-N-(11Z-octadecenoyl)-ethanolamine/1-(14Z,17Z,20Z,23Z,26Z-dotriacontapentaenoyl)-2-(11Z,14Z,17Z,20Z-hexacosatetraenoyl)-sn-glycero-3-phospho-N-(9Z-octadecenoyl)-ethanolamine/1-(14Z,17Z,20Z,23Z,26Z-dotriacontapentaenoyl)-2-(12Z,15Z,18Z,21Z,24Z-triacontapentaenoyl)-sn-glycero-3-phospho-N-tetradecanoyl-ethanolamine/1-(14Z,17Z,20Z,23Z,26Z-dotriacontapentaenoyl)-2-(13Z,16Z,19Z,22Z,25Z-octacosapentaenoyl)-sn-glycero-3-phospho-N-hexadecanoyl-ethanolamine/1-(14Z,17Z,20Z,23Z,26Z-dotriacontapentaenoyl)-2-(15Z,18Z,21Z,24Z,27Z-triacontapentaenoyl)-sn-glycero-3-phospho-N-tetradecanoyl-ethanolamine/1-(14Z,17Z,20Z,23Z,26Z-dotriacontapentaenoyl)-2-(15Z-tetracosenoyl)-sn-glycero-3-phospho-N-(5Z,8Z,11Z,14Z-eicosatetraenoyl)-ethanolamine/1-(14Z,17Z,20Z,23Z,26Z-dotriacontapentaenoyl)-2-(17Z,20Z,23Z,26Z,29Z-dotriacontapentaenoyl)-sn-glycero-3-phospho-N-dodecanoyl-ethanolamine/1-(14Z,17Z,20Z,23Z,26Z-dotriacontapentaenoyl)-2-(19Z,22Z,25Z,28Z,31Z-tetratriacontapentaenoyl)-sn-glycero-3-phospho-N-decanoyl-ethanolamine/1-(14Z,17Z,20Z,23Z,26Z-dotriacontapentaenoyl)-2-(21Z,24Z,27Z,30Z,33Z-hexatriacontapentaenoyl)-sn-glycero-3-phospho-N-octanoyl-ethanolamine/1-(14Z,17Z,20Z,23Z,26Z-dotriacontapentaenoyl)-2-(23Z,26Z,29Z,32Z,35Z-octatriacontapentaenoyl)-sn-glycero-3-phospho-N-hexanoyl-ethanolamine/1-(14Z,17Z,20Z,23Z,26Z-dotriacontapentaenoyl)-2-(8Z,11Z,14Z,17Z,20Z-hexacosapentaenoyl)-sn-glycero-3-phospho-N-octadecanoyl-ethanolamine_0<br>m/z=%{x}<br>rt=%{y}<br>intensity=%{z}<extra></extra>",
         "legendgroup": "1-(14Z,17Z,20Z,23Z,26Z-dotriacontapentaenoyl)-2-(10Z,13Z,16Z,19Z,22Z-octacosapentaenoyl)-sn-glycero-3-phospho-N-hexadecanoyl-ethanolamine/1-(14Z,17Z,20Z,23Z,26Z-dotriacontapentaenoyl)-2-(11Z,14Z,17Z,20Z,23Z-hexacosapentaenoyl)-sn-glycero-3-phospho-N-octadecanoyl-ethanolamine/1-(14Z,17Z,20Z,23Z,26Z-dotriacontapentaenoyl)-2-(11Z,14Z,17Z,20Z-hexacosatetraenoyl)-sn-glycero-3-phospho-N-(11Z-octadecenoyl)-ethanolamine/1-(14Z,17Z,20Z,23Z,26Z-dotriacontapentaenoyl)-2-(11Z,14Z,17Z,20Z-hexacosatetraenoyl)-sn-glycero-3-phospho-N-(9Z-octadecenoyl)-ethanolamine/1-(14Z,17Z,20Z,23Z,26Z-dotriacontapentaenoyl)-2-(12Z,15Z,18Z,21Z,24Z-triacontapentaenoyl)-sn-glycero-3-phospho-N-tetradecanoyl-ethanolamine/1-(14Z,17Z,20Z,23Z,26Z-dotriacontapentaenoyl)-2-(13Z,16Z,19Z,22Z,25Z-octacosapentaenoyl)-sn-glycero-3-phospho-N-hexadecanoyl-ethanolamine/1-(14Z,17Z,20Z,23Z,26Z-dotriacontapentaenoyl)-2-(15Z,18Z,21Z,24Z,27Z-triacontapentaenoyl)-sn-glycero-3-phospho-N-tetradecanoyl-ethanolamine/1-(14Z,17Z,20Z,23Z,26Z-dotriacontapentaenoyl)-2-(15Z-tetracosenoyl)-sn-glycero-3-phospho-N-(5Z,8Z,11Z,14Z-eicosatetraenoyl)-ethanolamine/1-(14Z,17Z,20Z,23Z,26Z-dotriacontapentaenoyl)-2-(17Z,20Z,23Z,26Z,29Z-dotriacontapentaenoyl)-sn-glycero-3-phospho-N-dodecanoyl-ethanolamine/1-(14Z,17Z,20Z,23Z,26Z-dotriacontapentaenoyl)-2-(19Z,22Z,25Z,28Z,31Z-tetratriacontapentaenoyl)-sn-glycero-3-phospho-N-decanoyl-ethanolamine/1-(14Z,17Z,20Z,23Z,26Z-dotriacontapentaenoyl)-2-(21Z,24Z,27Z,30Z,33Z-hexatriacontapentaenoyl)-sn-glycero-3-phospho-N-octanoyl-ethanolamine/1-(14Z,17Z,20Z,23Z,26Z-dotriacontapentaenoyl)-2-(23Z,26Z,29Z,32Z,35Z-octatriacontapentaenoyl)-sn-glycero-3-phospho-N-hexanoyl-ethanolamine/1-(14Z,17Z,20Z,23Z,26Z-dotriacontapentaenoyl)-2-(8Z,11Z,14Z,17Z,20Z-hexacosapentaenoyl)-sn-glycero-3-phospho-N-octadecanoyl-ethanolamine_0",
         "line": {
          "color": "#FF97FF",
          "dash": "solid"
         },
         "marker": {
          "symbol": "circle"
         },
         "mode": "lines",
         "name": "1-(14Z,17Z,20Z,23Z,26Z-dotriacontapentaenoyl)-2-(10Z,13Z,16Z,19Z,22Z-octacosapentaenoyl)-sn-glycero-3-phospho-N-hexadecanoyl-ethanolamine/1-(14Z,17Z,20Z,23Z,26Z-dotriacontapentaenoyl)-2-(11Z,14Z,17Z,20Z,23Z-hexacosapentaenoyl)-sn-glycero-3-phospho-N-octadecanoyl-ethanolamine/1-(14Z,17Z,20Z,23Z,26Z-dotriacontapentaenoyl)-2-(11Z,14Z,17Z,20Z-hexacosatetraenoyl)-sn-glycero-3-phospho-N-(11Z-octadecenoyl)-ethanolamine/1-(14Z,17Z,20Z,23Z,26Z-dotriacontapentaenoyl)-2-(11Z,14Z,17Z,20Z-hexacosatetraenoyl)-sn-glycero-3-phospho-N-(9Z-octadecenoyl)-ethanolamine/1-(14Z,17Z,20Z,23Z,26Z-dotriacontapentaenoyl)-2-(12Z,15Z,18Z,21Z,24Z-triacontapentaenoyl)-sn-glycero-3-phospho-N-tetradecanoyl-ethanolamine/1-(14Z,17Z,20Z,23Z,26Z-dotriacontapentaenoyl)-2-(13Z,16Z,19Z,22Z,25Z-octacosapentaenoyl)-sn-glycero-3-phospho-N-hexadecanoyl-ethanolamine/1-(14Z,17Z,20Z,23Z,26Z-dotriacontapentaenoyl)-2-(15Z,18Z,21Z,24Z,27Z-triacontapentaenoyl)-sn-glycero-3-phospho-N-tetradecanoyl-ethanolamine/1-(14Z,17Z,20Z,23Z,26Z-dotriacontapentaenoyl)-2-(15Z-tetracosenoyl)-sn-glycero-3-phospho-N-(5Z,8Z,11Z,14Z-eicosatetraenoyl)-ethanolamine/1-(14Z,17Z,20Z,23Z,26Z-dotriacontapentaenoyl)-2-(17Z,20Z,23Z,26Z,29Z-dotriacontapentaenoyl)-sn-glycero-3-phospho-N-dodecanoyl-ethanolamine/1-(14Z,17Z,20Z,23Z,26Z-dotriacontapentaenoyl)-2-(19Z,22Z,25Z,28Z,31Z-tetratriacontapentaenoyl)-sn-glycero-3-phospho-N-decanoyl-ethanolamine/1-(14Z,17Z,20Z,23Z,26Z-dotriacontapentaenoyl)-2-(21Z,24Z,27Z,30Z,33Z-hexatriacontapentaenoyl)-sn-glycero-3-phospho-N-octanoyl-ethanolamine/1-(14Z,17Z,20Z,23Z,26Z-dotriacontapentaenoyl)-2-(23Z,26Z,29Z,32Z,35Z-octatriacontapentaenoyl)-sn-glycero-3-phospho-N-hexanoyl-ethanolamine/1-(14Z,17Z,20Z,23Z,26Z-dotriacontapentaenoyl)-2-(8Z,11Z,14Z,17Z,20Z-hexacosapentaenoyl)-sn-glycero-3-phospho-N-octadecanoyl-ethanolamine_0",
         "scene": "scene",
         "showlegend": false,
         "type": "scatter3d",
         "x": [
          1300.012023533229,
          1300.012023533229,
          1300.012023533229,
          1301.015378371029,
          1301.015378371029,
          1301.015378371029
         ],
         "y": [
          5.160999774932861,
          5.875,
          6.590000152587891,
          5.160999774932861,
          5.875,
          6.590000152587891
         ],
         "z": [
          0,
          0,
          0,
          105.59954071044922,
          232.53497314453125,
          0
         ]
        },
        {
         "hovertemplate": "labels=1-(14Z,17Z,20Z,23Z,26Z-dotriacontapentaenoyl)-2-(10Z,13Z,16Z,19Z,22Z-octacosapentaenoyl)-sn-glycero-3-phospho-N-hexanoyl-ethanolamine/1-(14Z,17Z,20Z,23Z,26Z-dotriacontapentaenoyl)-2-(11Z,14Z,17Z,20Z,23Z-hexacosapentaenoyl)-sn-glycero-3-phospho-N-octanoyl-ethanolamine/1-(14Z,17Z,20Z,23Z,26Z-dotriacontapentaenoyl)-2-(13Z,16Z,19Z,22Z,25Z-octacosapentaenoyl)-sn-glycero-3-phospho-N-hexanoyl-ethanolamine/1-(14Z,17Z,20Z,23Z,26Z-dotriacontapentaenoyl)-2-(4Z,7Z,10Z,13Z,16Z-docosapentaenoyl)-sn-glycero-3-phospho-N-dodecanoyl-ethanolamine/1-(14Z,17Z,20Z,23Z,26Z-dotriacontapentaenoyl)-2-(5Z,8Z,11Z,14Z,17Z-eicosapentaenoyl)-sn-glycero-3-phospho-N-tetradecanoyl-ethanolamine/1-(14Z,17Z,20Z,23Z,26Z-dotriacontapentaenoyl)-2-(6Z,9Z,12Z,15Z,18Z-tetracosapentaenoyl)-sn-glycero-3-phospho-N-decanoyl-ethanolamine/1-(14Z,17Z,20Z,23Z,26Z-dotriacontapentaenoyl)-2-(7Z,10Z,13Z,16Z,19Z-docosapentaenoyl)-sn-glycero-3-phospho-N-dodecanoyl-ethanolamine/1-(14Z,17Z,20Z,23Z,26Z-dotriacontapentaenoyl)-2-(8Z,11Z,14Z,17Z,20Z-hexacosapentaenoyl)-sn-glycero-3-phospho-N-octanoyl-ethanolamine/1-(14Z,17Z,20Z,23Z,26Z-dotriacontapentaenoyl)-2-(9Z,12Z,15Z,18Z,21Z-tetracosapentaenoyl)-sn-glycero-3-phospho-N-decanoyl-ethanolamine/1-(14Z,17Z,20Z,23Z,26Z-dotriacontapentaenoyl)-2-(9Z,12Z-hexadecadienoyl)-sn-glycero-3-phospho-N-(6Z,9Z,12Z-octadecatrienoyl)-ethanolamine/1-(14Z,17Z,20Z,23Z,26Z-dotriacontapentaenoyl)-2-(9Z,12Z-hexadecadienoyl)-sn-glycero-3-phospho-N-(9Z,12Z,15Z-octadecatrienoyl)-ethanolamine_0<br>m/z=%{x}<br>rt=%{y}<br>intensity=%{z}<extra></extra>",
         "legendgroup": "1-(14Z,17Z,20Z,23Z,26Z-dotriacontapentaenoyl)-2-(10Z,13Z,16Z,19Z,22Z-octacosapentaenoyl)-sn-glycero-3-phospho-N-hexanoyl-ethanolamine/1-(14Z,17Z,20Z,23Z,26Z-dotriacontapentaenoyl)-2-(11Z,14Z,17Z,20Z,23Z-hexacosapentaenoyl)-sn-glycero-3-phospho-N-octanoyl-ethanolamine/1-(14Z,17Z,20Z,23Z,26Z-dotriacontapentaenoyl)-2-(13Z,16Z,19Z,22Z,25Z-octacosapentaenoyl)-sn-glycero-3-phospho-N-hexanoyl-ethanolamine/1-(14Z,17Z,20Z,23Z,26Z-dotriacontapentaenoyl)-2-(4Z,7Z,10Z,13Z,16Z-docosapentaenoyl)-sn-glycero-3-phospho-N-dodecanoyl-ethanolamine/1-(14Z,17Z,20Z,23Z,26Z-dotriacontapentaenoyl)-2-(5Z,8Z,11Z,14Z,17Z-eicosapentaenoyl)-sn-glycero-3-phospho-N-tetradecanoyl-ethanolamine/1-(14Z,17Z,20Z,23Z,26Z-dotriacontapentaenoyl)-2-(6Z,9Z,12Z,15Z,18Z-tetracosapentaenoyl)-sn-glycero-3-phospho-N-decanoyl-ethanolamine/1-(14Z,17Z,20Z,23Z,26Z-dotriacontapentaenoyl)-2-(7Z,10Z,13Z,16Z,19Z-docosapentaenoyl)-sn-glycero-3-phospho-N-dodecanoyl-ethanolamine/1-(14Z,17Z,20Z,23Z,26Z-dotriacontapentaenoyl)-2-(8Z,11Z,14Z,17Z,20Z-hexacosapentaenoyl)-sn-glycero-3-phospho-N-octanoyl-ethanolamine/1-(14Z,17Z,20Z,23Z,26Z-dotriacontapentaenoyl)-2-(9Z,12Z,15Z,18Z,21Z-tetracosapentaenoyl)-sn-glycero-3-phospho-N-decanoyl-ethanolamine/1-(14Z,17Z,20Z,23Z,26Z-dotriacontapentaenoyl)-2-(9Z,12Z-hexadecadienoyl)-sn-glycero-3-phospho-N-(6Z,9Z,12Z-octadecatrienoyl)-ethanolamine/1-(14Z,17Z,20Z,23Z,26Z-dotriacontapentaenoyl)-2-(9Z,12Z-hexadecadienoyl)-sn-glycero-3-phospho-N-(9Z,12Z,15Z-octadecatrienoyl)-ethanolamine_0",
         "line": {
          "color": "#FECB52",
          "dash": "solid"
         },
         "marker": {
          "symbol": "circle"
         },
         "mode": "lines",
         "name": "1-(14Z,17Z,20Z,23Z,26Z-dotriacontapentaenoyl)-2-(10Z,13Z,16Z,19Z,22Z-octacosapentaenoyl)-sn-glycero-3-phospho-N-hexanoyl-ethanolamine/1-(14Z,17Z,20Z,23Z,26Z-dotriacontapentaenoyl)-2-(11Z,14Z,17Z,20Z,23Z-hexacosapentaenoyl)-sn-glycero-3-phospho-N-octanoyl-ethanolamine/1-(14Z,17Z,20Z,23Z,26Z-dotriacontapentaenoyl)-2-(13Z,16Z,19Z,22Z,25Z-octacosapentaenoyl)-sn-glycero-3-phospho-N-hexanoyl-ethanolamine/1-(14Z,17Z,20Z,23Z,26Z-dotriacontapentaenoyl)-2-(4Z,7Z,10Z,13Z,16Z-docosapentaenoyl)-sn-glycero-3-phospho-N-dodecanoyl-ethanolamine/1-(14Z,17Z,20Z,23Z,26Z-dotriacontapentaenoyl)-2-(5Z,8Z,11Z,14Z,17Z-eicosapentaenoyl)-sn-glycero-3-phospho-N-tetradecanoyl-ethanolamine/1-(14Z,17Z,20Z,23Z,26Z-dotriacontapentaenoyl)-2-(6Z,9Z,12Z,15Z,18Z-tetracosapentaenoyl)-sn-glycero-3-phospho-N-decanoyl-ethanolamine/1-(14Z,17Z,20Z,23Z,26Z-dotriacontapentaenoyl)-2-(7Z,10Z,13Z,16Z,19Z-docosapentaenoyl)-sn-glycero-3-phospho-N-dodecanoyl-ethanolamine/1-(14Z,17Z,20Z,23Z,26Z-dotriacontapentaenoyl)-2-(8Z,11Z,14Z,17Z,20Z-hexacosapentaenoyl)-sn-glycero-3-phospho-N-octanoyl-ethanolamine/1-(14Z,17Z,20Z,23Z,26Z-dotriacontapentaenoyl)-2-(9Z,12Z,15Z,18Z,21Z-tetracosapentaenoyl)-sn-glycero-3-phospho-N-decanoyl-ethanolamine/1-(14Z,17Z,20Z,23Z,26Z-dotriacontapentaenoyl)-2-(9Z,12Z-hexadecadienoyl)-sn-glycero-3-phospho-N-(6Z,9Z,12Z-octadecatrienoyl)-ethanolamine/1-(14Z,17Z,20Z,23Z,26Z-dotriacontapentaenoyl)-2-(9Z,12Z-hexadecadienoyl)-sn-glycero-3-phospho-N-(9Z,12Z,15Z-octadecatrienoyl)-ethanolamine_0",
         "scene": "scene",
         "showlegend": false,
         "type": "scatter3d",
         "x": [
          1159.855513533229,
          1159.855513533229,
          1159.855513533229,
          1160.858868371029,
          1160.858868371029,
          1160.858868371029
         ],
         "y": [
          8.017999649047852,
          8.732999801635742,
          9.446999549865723,
          8.017999649047852,
          8.732999801635742,
          9.446999549865723
         ],
         "z": [
          57.25440979003906,
          223.04681396484375,
          425.2595520019531,
          180.9916534423828,
          0,
          0
         ]
        },
        {
         "hovertemplate": "labels=1-(14Z,17Z,20Z,23Z,26Z-dotriacontapentaenoyl)-2-(10Z,13Z,16Z,19Z,22Z-octacosapentaenoyl)-sn-glycero-3-phospho-N-octadecanoyl-ethanolamine/1-(14Z,17Z,20Z,23Z,26Z-dotriacontapentaenoyl)-2-(12Z,15Z,18Z,21Z,24Z-triacontapentaenoyl)-sn-glycero-3-phospho-N-hexadecanoyl-ethanolamine/1-(14Z,17Z,20Z,23Z,26Z-dotriacontapentaenoyl)-2-(13Z,16Z,19Z,22Z,25Z-octacosapentaenoyl)-sn-glycero-3-phospho-N-octadecanoyl-ethanolamine/1-(14Z,17Z,20Z,23Z,26Z-dotriacontapentaenoyl)-2-(13Z,16Z,19Z,22Z-octacosatetraenoyl)-sn-glycero-3-phospho-N-(11Z-octadecenoyl)-ethanolamine/1-(14Z,17Z,20Z,23Z,26Z-dotriacontapentaenoyl)-2-(13Z,16Z,19Z,22Z-octacosatetraenoyl)-sn-glycero-3-phospho-N-(9Z-octadecenoyl)-ethanolamine/1-(14Z,17Z,20Z,23Z,26Z-dotriacontapentaenoyl)-2-(15Z,18Z,21Z,24Z,27Z-triacontapentaenoyl)-sn-glycero-3-phospho-N-hexadecanoyl-ethanolamine/1-(14Z,17Z,20Z,23Z,26Z-dotriacontapentaenoyl)-2-(17Z,20Z,23Z,26Z,29Z-dotriacontapentaenoyl)-sn-glycero-3-phospho-N-tetradecanoyl-ethanolamine/1-(14Z,17Z,20Z,23Z,26Z-dotriacontapentaenoyl)-2-(17Z-hexacosenoyl)-sn-glycero-3-phospho-N-(5Z,8Z,11Z,14Z-eicosatetraenoyl)-ethanolamine/1-(14Z,17Z,20Z,23Z,26Z-dotriacontapentaenoyl)-2-(19Z,22Z,25Z,28Z,31Z-tetratriacontapentaenoyl)-sn-glycero-3-phospho-N-dodecanoyl-ethanolamine/1-(14Z,17Z,20Z,23Z,26Z-dotriacontapentaenoyl)-2-(21Z,24Z,27Z,30Z,33Z-hexatriacontapentaenoyl)-sn-glycero-3-phospho-N-decanoyl-ethanolamine/1-(14Z,17Z,20Z,23Z,26Z-dotriacontapentaenoyl)-2-(23Z,26Z,29Z,32Z,35Z-octatriacontapentaenoyl)-sn-glycero-3-phospho-N-octanoyl-ethanolamine_0<br>m/z=%{x}<br>rt=%{y}<br>intensity=%{z}<extra></extra>",
         "legendgroup": "1-(14Z,17Z,20Z,23Z,26Z-dotriacontapentaenoyl)-2-(10Z,13Z,16Z,19Z,22Z-octacosapentaenoyl)-sn-glycero-3-phospho-N-octadecanoyl-ethanolamine/1-(14Z,17Z,20Z,23Z,26Z-dotriacontapentaenoyl)-2-(12Z,15Z,18Z,21Z,24Z-triacontapentaenoyl)-sn-glycero-3-phospho-N-hexadecanoyl-ethanolamine/1-(14Z,17Z,20Z,23Z,26Z-dotriacontapentaenoyl)-2-(13Z,16Z,19Z,22Z,25Z-octacosapentaenoyl)-sn-glycero-3-phospho-N-octadecanoyl-ethanolamine/1-(14Z,17Z,20Z,23Z,26Z-dotriacontapentaenoyl)-2-(13Z,16Z,19Z,22Z-octacosatetraenoyl)-sn-glycero-3-phospho-N-(11Z-octadecenoyl)-ethanolamine/1-(14Z,17Z,20Z,23Z,26Z-dotriacontapentaenoyl)-2-(13Z,16Z,19Z,22Z-octacosatetraenoyl)-sn-glycero-3-phospho-N-(9Z-octadecenoyl)-ethanolamine/1-(14Z,17Z,20Z,23Z,26Z-dotriacontapentaenoyl)-2-(15Z,18Z,21Z,24Z,27Z-triacontapentaenoyl)-sn-glycero-3-phospho-N-hexadecanoyl-ethanolamine/1-(14Z,17Z,20Z,23Z,26Z-dotriacontapentaenoyl)-2-(17Z,20Z,23Z,26Z,29Z-dotriacontapentaenoyl)-sn-glycero-3-phospho-N-tetradecanoyl-ethanolamine/1-(14Z,17Z,20Z,23Z,26Z-dotriacontapentaenoyl)-2-(17Z-hexacosenoyl)-sn-glycero-3-phospho-N-(5Z,8Z,11Z,14Z-eicosatetraenoyl)-ethanolamine/1-(14Z,17Z,20Z,23Z,26Z-dotriacontapentaenoyl)-2-(19Z,22Z,25Z,28Z,31Z-tetratriacontapentaenoyl)-sn-glycero-3-phospho-N-dodecanoyl-ethanolamine/1-(14Z,17Z,20Z,23Z,26Z-dotriacontapentaenoyl)-2-(21Z,24Z,27Z,30Z,33Z-hexatriacontapentaenoyl)-sn-glycero-3-phospho-N-decanoyl-ethanolamine/1-(14Z,17Z,20Z,23Z,26Z-dotriacontapentaenoyl)-2-(23Z,26Z,29Z,32Z,35Z-octatriacontapentaenoyl)-sn-glycero-3-phospho-N-octanoyl-ethanolamine_0",
         "line": {
          "color": "#636efa",
          "dash": "solid"
         },
         "marker": {
          "symbol": "circle"
         },
         "mode": "lines",
         "name": "1-(14Z,17Z,20Z,23Z,26Z-dotriacontapentaenoyl)-2-(10Z,13Z,16Z,19Z,22Z-octacosapentaenoyl)-sn-glycero-3-phospho-N-octadecanoyl-ethanolamine/1-(14Z,17Z,20Z,23Z,26Z-dotriacontapentaenoyl)-2-(12Z,15Z,18Z,21Z,24Z-triacontapentaenoyl)-sn-glycero-3-phospho-N-hexadecanoyl-ethanolamine/1-(14Z,17Z,20Z,23Z,26Z-dotriacontapentaenoyl)-2-(13Z,16Z,19Z,22Z,25Z-octacosapentaenoyl)-sn-glycero-3-phospho-N-octadecanoyl-ethanolamine/1-(14Z,17Z,20Z,23Z,26Z-dotriacontapentaenoyl)-2-(13Z,16Z,19Z,22Z-octacosatetraenoyl)-sn-glycero-3-phospho-N-(11Z-octadecenoyl)-ethanolamine/1-(14Z,17Z,20Z,23Z,26Z-dotriacontapentaenoyl)-2-(13Z,16Z,19Z,22Z-octacosatetraenoyl)-sn-glycero-3-phospho-N-(9Z-octadecenoyl)-ethanolamine/1-(14Z,17Z,20Z,23Z,26Z-dotriacontapentaenoyl)-2-(15Z,18Z,21Z,24Z,27Z-triacontapentaenoyl)-sn-glycero-3-phospho-N-hexadecanoyl-ethanolamine/1-(14Z,17Z,20Z,23Z,26Z-dotriacontapentaenoyl)-2-(17Z,20Z,23Z,26Z,29Z-dotriacontapentaenoyl)-sn-glycero-3-phospho-N-tetradecanoyl-ethanolamine/1-(14Z,17Z,20Z,23Z,26Z-dotriacontapentaenoyl)-2-(17Z-hexacosenoyl)-sn-glycero-3-phospho-N-(5Z,8Z,11Z,14Z-eicosatetraenoyl)-ethanolamine/1-(14Z,17Z,20Z,23Z,26Z-dotriacontapentaenoyl)-2-(19Z,22Z,25Z,28Z,31Z-tetratriacontapentaenoyl)-sn-glycero-3-phospho-N-dodecanoyl-ethanolamine/1-(14Z,17Z,20Z,23Z,26Z-dotriacontapentaenoyl)-2-(21Z,24Z,27Z,30Z,33Z-hexatriacontapentaenoyl)-sn-glycero-3-phospho-N-decanoyl-ethanolamine/1-(14Z,17Z,20Z,23Z,26Z-dotriacontapentaenoyl)-2-(23Z,26Z,29Z,32Z,35Z-octatriacontapentaenoyl)-sn-glycero-3-phospho-N-octanoyl-ethanolamine_0",
         "scene": "scene",
         "showlegend": false,
         "type": "scatter3d",
         "x": [
          1328.043323533229,
          1328.043323533229,
          1328.043323533229,
          1329.0466783710292,
          1329.0466783710292,
          1329.0466783710292
         ],
         "y": [
          9.446999549865723,
          10.161999702453613,
          10.87600040435791,
          9.446999549865723,
          10.161999702453613,
          10.87600040435791
         ],
         "z": [
          676.19384765625,
          167.1473846435547,
          830.8313598632812,
          0,
          970.145751953125,
          0
         ]
        },
        {
         "hovertemplate": "labels=1-(14Z,17Z,20Z,23Z,26Z-dotriacontapentaenoyl)-2-(10Z,13Z,16Z,19Z,22Z-octacosapentaenoyl)-sn-glycero-3-phospho-N-octanoyl-ethanolamine/1-(14Z,17Z,20Z,23Z,26Z-dotriacontapentaenoyl)-2-(11Z,14Z,17Z,20Z,23Z-hexacosapentaenoyl)-sn-glycero-3-phospho-N-decanoyl-ethanolamine/1-(14Z,17Z,20Z,23Z,26Z-dotriacontapentaenoyl)-2-(12Z,15Z,18Z,21Z,24Z-triacontapentaenoyl)-sn-glycero-3-phospho-N-hexanoyl-ethanolamine/1-(14Z,17Z,20Z,23Z,26Z-dotriacontapentaenoyl)-2-(13Z,16Z,19Z,22Z,25Z-octacosapentaenoyl)-sn-glycero-3-phospho-N-octanoyl-ethanolamine/1-(14Z,17Z,20Z,23Z,26Z-dotriacontapentaenoyl)-2-(15Z,18Z,21Z,24Z,27Z-triacontapentaenoyl)-sn-glycero-3-phospho-N-hexanoyl-ethanolamine/1-(14Z,17Z,20Z,23Z,26Z-dotriacontapentaenoyl)-2-(4Z,7Z,10Z,13Z,16Z-docosapentaenoyl)-sn-glycero-3-phospho-N-tetradecanoyl-ethanolamine/1-(14Z,17Z,20Z,23Z,26Z-dotriacontapentaenoyl)-2-(5Z,8Z,11Z,14Z,17Z-eicosapentaenoyl)-sn-glycero-3-phospho-N-hexadecanoyl-ethanolamine/1-(14Z,17Z,20Z,23Z,26Z-dotriacontapentaenoyl)-2-(6Z,9Z,12Z,15Z,18Z-tetracosapentaenoyl)-sn-glycero-3-phospho-N-dodecanoyl-ethanolamine/1-(14Z,17Z,20Z,23Z,26Z-dotriacontapentaenoyl)-2-(6Z,9Z,12Z,15Z-octadecatetraenoyl)-sn-glycero-3-phospho-N-(11Z-octadecenoyl)-ethanolamine/1-(14Z,17Z,20Z,23Z,26Z-dotriacontapentaenoyl)-2-(6Z,9Z,12Z,15Z-octadecatetraenoyl)-sn-glycero-3-phospho-N-(9Z-octadecenoyl)-ethanolamine/1-(14Z,17Z,20Z,23Z,26Z-dotriacontapentaenoyl)-2-(6Z,9Z,12Z-octadecatrienoyl)-sn-glycero-3-phospho-N-(9Z,12Z-octadecadienoyl)-ethanolamine/1-(14Z,17Z,20Z,23Z,26Z-dotriacontapentaenoyl)-2-(6Z-hexadecenoyl)-sn-glycero-3-phospho-N-(5Z,8Z,11Z,14Z-eicosatetraenoyl)-ethanolamine/1-(14Z,17Z,20Z,23Z,26Z-dotriacontapentaenoyl)-2-(7Z,10Z,13Z,16Z,19Z-docosapentaenoyl)-sn-glycero-3-phospho-N-tetradecanoyl-ethanolamine/1-(14Z,17Z,20Z,23Z,26Z-dotriacontapentaenoyl)-2-(8Z,11Z,14Z,17Z,20Z-hexacosapentaenoyl)-sn-glycero-3-phospho-N-decanoyl-ethanolamine/1-(14Z,17Z,20Z,23Z,26Z-dotriacontapentaenoyl)-2-(9Z,11E-octadecadienoyl)-sn-glycero-3-phospho-N-(6Z,9Z,12Z-octadecatrienoyl)-ethanolamine/1-(14Z,17Z,20Z,23Z,26Z-dotriacontapentaenoyl)-2-(9Z,11E-octadecadienoyl)-sn-glycero-3-phospho-N-(9Z,12Z,15Z-octadecatrienoyl)-ethanolamine/1-(14Z,17Z,20Z,23Z,26Z-dotriacontapentaenoyl)-2-(9Z,12Z,15Z,18Z,21Z-tetracosapentaenoyl)-sn-glycero-3-phospho-N-dodecanoyl-ethanolamine/1-(14Z,17Z,20Z,23Z,26Z-dotriacontapentaenoyl)-2-(9Z,12Z,15Z-octadecatrienoyl)-sn-glycero-3-phospho-N-(9Z,12Z-octadecadienoyl)-ethanolamine/1-(14Z,17Z,20Z,23Z,26Z-dotriacontapentaenoyl)-2-(9Z,12Z-octadecadienoyl)-sn-glycero-3-phospho-N-(6Z,9Z,12Z-octadecatrienoyl)-ethanolamine/1-(14Z,17Z,20Z,23Z,26Z-dotriacontapentaenoyl)-2-(9Z,12Z-octadecadienoyl)-sn-glycero-3-phospho-N-(9Z,12Z,15Z-octadecatrienoyl)-ethanolamine/1-(14Z,17Z,20Z,23Z,26Z-dotriacontapentaenoyl)-2-(9Z-hexadecenoyl)-sn-glycero-3-phospho-N-(5Z,8Z,11Z,14Z-eicosatetraenoyl)-ethanolamine_0<br>m/z=%{x}<br>rt=%{y}<br>intensity=%{z}<extra></extra>",
         "legendgroup": "1-(14Z,17Z,20Z,23Z,26Z-dotriacontapentaenoyl)-2-(10Z,13Z,16Z,19Z,22Z-octacosapentaenoyl)-sn-glycero-3-phospho-N-octanoyl-ethanolamine/1-(14Z,17Z,20Z,23Z,26Z-dotriacontapentaenoyl)-2-(11Z,14Z,17Z,20Z,23Z-hexacosapentaenoyl)-sn-glycero-3-phospho-N-decanoyl-ethanolamine/1-(14Z,17Z,20Z,23Z,26Z-dotriacontapentaenoyl)-2-(12Z,15Z,18Z,21Z,24Z-triacontapentaenoyl)-sn-glycero-3-phospho-N-hexanoyl-ethanolamine/1-(14Z,17Z,20Z,23Z,26Z-dotriacontapentaenoyl)-2-(13Z,16Z,19Z,22Z,25Z-octacosapentaenoyl)-sn-glycero-3-phospho-N-octanoyl-ethanolamine/1-(14Z,17Z,20Z,23Z,26Z-dotriacontapentaenoyl)-2-(15Z,18Z,21Z,24Z,27Z-triacontapentaenoyl)-sn-glycero-3-phospho-N-hexanoyl-ethanolamine/1-(14Z,17Z,20Z,23Z,26Z-dotriacontapentaenoyl)-2-(4Z,7Z,10Z,13Z,16Z-docosapentaenoyl)-sn-glycero-3-phospho-N-tetradecanoyl-ethanolamine/1-(14Z,17Z,20Z,23Z,26Z-dotriacontapentaenoyl)-2-(5Z,8Z,11Z,14Z,17Z-eicosapentaenoyl)-sn-glycero-3-phospho-N-hexadecanoyl-ethanolamine/1-(14Z,17Z,20Z,23Z,26Z-dotriacontapentaenoyl)-2-(6Z,9Z,12Z,15Z,18Z-tetracosapentaenoyl)-sn-glycero-3-phospho-N-dodecanoyl-ethanolamine/1-(14Z,17Z,20Z,23Z,26Z-dotriacontapentaenoyl)-2-(6Z,9Z,12Z,15Z-octadecatetraenoyl)-sn-glycero-3-phospho-N-(11Z-octadecenoyl)-ethanolamine/1-(14Z,17Z,20Z,23Z,26Z-dotriacontapentaenoyl)-2-(6Z,9Z,12Z,15Z-octadecatetraenoyl)-sn-glycero-3-phospho-N-(9Z-octadecenoyl)-ethanolamine/1-(14Z,17Z,20Z,23Z,26Z-dotriacontapentaenoyl)-2-(6Z,9Z,12Z-octadecatrienoyl)-sn-glycero-3-phospho-N-(9Z,12Z-octadecadienoyl)-ethanolamine/1-(14Z,17Z,20Z,23Z,26Z-dotriacontapentaenoyl)-2-(6Z-hexadecenoyl)-sn-glycero-3-phospho-N-(5Z,8Z,11Z,14Z-eicosatetraenoyl)-ethanolamine/1-(14Z,17Z,20Z,23Z,26Z-dotriacontapentaenoyl)-2-(7Z,10Z,13Z,16Z,19Z-docosapentaenoyl)-sn-glycero-3-phospho-N-tetradecanoyl-ethanolamine/1-(14Z,17Z,20Z,23Z,26Z-dotriacontapentaenoyl)-2-(8Z,11Z,14Z,17Z,20Z-hexacosapentaenoyl)-sn-glycero-3-phospho-N-decanoyl-ethanolamine/1-(14Z,17Z,20Z,23Z,26Z-dotriacontapentaenoyl)-2-(9Z,11E-octadecadienoyl)-sn-glycero-3-phospho-N-(6Z,9Z,12Z-octadecatrienoyl)-ethanolamine/1-(14Z,17Z,20Z,23Z,26Z-dotriacontapentaenoyl)-2-(9Z,11E-octadecadienoyl)-sn-glycero-3-phospho-N-(9Z,12Z,15Z-octadecatrienoyl)-ethanolamine/1-(14Z,17Z,20Z,23Z,26Z-dotriacontapentaenoyl)-2-(9Z,12Z,15Z,18Z,21Z-tetracosapentaenoyl)-sn-glycero-3-phospho-N-dodecanoyl-ethanolamine/1-(14Z,17Z,20Z,23Z,26Z-dotriacontapentaenoyl)-2-(9Z,12Z,15Z-octadecatrienoyl)-sn-glycero-3-phospho-N-(9Z,12Z-octadecadienoyl)-ethanolamine/1-(14Z,17Z,20Z,23Z,26Z-dotriacontapentaenoyl)-2-(9Z,12Z-octadecadienoyl)-sn-glycero-3-phospho-N-(6Z,9Z,12Z-octadecatrienoyl)-ethanolamine/1-(14Z,17Z,20Z,23Z,26Z-dotriacontapentaenoyl)-2-(9Z,12Z-octadecadienoyl)-sn-glycero-3-phospho-N-(9Z,12Z,15Z-octadecatrienoyl)-ethanolamine/1-(14Z,17Z,20Z,23Z,26Z-dotriacontapentaenoyl)-2-(9Z-hexadecenoyl)-sn-glycero-3-phospho-N-(5Z,8Z,11Z,14Z-eicosatetraenoyl)-ethanolamine_0",
         "line": {
          "color": "#EF553B",
          "dash": "solid"
         },
         "marker": {
          "symbol": "circle"
         },
         "mode": "lines",
         "name": "1-(14Z,17Z,20Z,23Z,26Z-dotriacontapentaenoyl)-2-(10Z,13Z,16Z,19Z,22Z-octacosapentaenoyl)-sn-glycero-3-phospho-N-octanoyl-ethanolamine/1-(14Z,17Z,20Z,23Z,26Z-dotriacontapentaenoyl)-2-(11Z,14Z,17Z,20Z,23Z-hexacosapentaenoyl)-sn-glycero-3-phospho-N-decanoyl-ethanolamine/1-(14Z,17Z,20Z,23Z,26Z-dotriacontapentaenoyl)-2-(12Z,15Z,18Z,21Z,24Z-triacontapentaenoyl)-sn-glycero-3-phospho-N-hexanoyl-ethanolamine/1-(14Z,17Z,20Z,23Z,26Z-dotriacontapentaenoyl)-2-(13Z,16Z,19Z,22Z,25Z-octacosapentaenoyl)-sn-glycero-3-phospho-N-octanoyl-ethanolamine/1-(14Z,17Z,20Z,23Z,26Z-dotriacontapentaenoyl)-2-(15Z,18Z,21Z,24Z,27Z-triacontapentaenoyl)-sn-glycero-3-phospho-N-hexanoyl-ethanolamine/1-(14Z,17Z,20Z,23Z,26Z-dotriacontapentaenoyl)-2-(4Z,7Z,10Z,13Z,16Z-docosapentaenoyl)-sn-glycero-3-phospho-N-tetradecanoyl-ethanolamine/1-(14Z,17Z,20Z,23Z,26Z-dotriacontapentaenoyl)-2-(5Z,8Z,11Z,14Z,17Z-eicosapentaenoyl)-sn-glycero-3-phospho-N-hexadecanoyl-ethanolamine/1-(14Z,17Z,20Z,23Z,26Z-dotriacontapentaenoyl)-2-(6Z,9Z,12Z,15Z,18Z-tetracosapentaenoyl)-sn-glycero-3-phospho-N-dodecanoyl-ethanolamine/1-(14Z,17Z,20Z,23Z,26Z-dotriacontapentaenoyl)-2-(6Z,9Z,12Z,15Z-octadecatetraenoyl)-sn-glycero-3-phospho-N-(11Z-octadecenoyl)-ethanolamine/1-(14Z,17Z,20Z,23Z,26Z-dotriacontapentaenoyl)-2-(6Z,9Z,12Z,15Z-octadecatetraenoyl)-sn-glycero-3-phospho-N-(9Z-octadecenoyl)-ethanolamine/1-(14Z,17Z,20Z,23Z,26Z-dotriacontapentaenoyl)-2-(6Z,9Z,12Z-octadecatrienoyl)-sn-glycero-3-phospho-N-(9Z,12Z-octadecadienoyl)-ethanolamine/1-(14Z,17Z,20Z,23Z,26Z-dotriacontapentaenoyl)-2-(6Z-hexadecenoyl)-sn-glycero-3-phospho-N-(5Z,8Z,11Z,14Z-eicosatetraenoyl)-ethanolamine/1-(14Z,17Z,20Z,23Z,26Z-dotriacontapentaenoyl)-2-(7Z,10Z,13Z,16Z,19Z-docosapentaenoyl)-sn-glycero-3-phospho-N-tetradecanoyl-ethanolamine/1-(14Z,17Z,20Z,23Z,26Z-dotriacontapentaenoyl)-2-(8Z,11Z,14Z,17Z,20Z-hexacosapentaenoyl)-sn-glycero-3-phospho-N-decanoyl-ethanolamine/1-(14Z,17Z,20Z,23Z,26Z-dotriacontapentaenoyl)-2-(9Z,11E-octadecadienoyl)-sn-glycero-3-phospho-N-(6Z,9Z,12Z-octadecatrienoyl)-ethanolamine/1-(14Z,17Z,20Z,23Z,26Z-dotriacontapentaenoyl)-2-(9Z,11E-octadecadienoyl)-sn-glycero-3-phospho-N-(9Z,12Z,15Z-octadecatrienoyl)-ethanolamine/1-(14Z,17Z,20Z,23Z,26Z-dotriacontapentaenoyl)-2-(9Z,12Z,15Z,18Z,21Z-tetracosapentaenoyl)-sn-glycero-3-phospho-N-dodecanoyl-ethanolamine/1-(14Z,17Z,20Z,23Z,26Z-dotriacontapentaenoyl)-2-(9Z,12Z,15Z-octadecatrienoyl)-sn-glycero-3-phospho-N-(9Z,12Z-octadecadienoyl)-ethanolamine/1-(14Z,17Z,20Z,23Z,26Z-dotriacontapentaenoyl)-2-(9Z,12Z-octadecadienoyl)-sn-glycero-3-phospho-N-(6Z,9Z,12Z-octadecatrienoyl)-ethanolamine/1-(14Z,17Z,20Z,23Z,26Z-dotriacontapentaenoyl)-2-(9Z,12Z-octadecadienoyl)-sn-glycero-3-phospho-N-(9Z,12Z,15Z-octadecatrienoyl)-ethanolamine/1-(14Z,17Z,20Z,23Z,26Z-dotriacontapentaenoyl)-2-(9Z-hexadecenoyl)-sn-glycero-3-phospho-N-(5Z,8Z,11Z,14Z-eicosatetraenoyl)-ethanolamine_0",
         "scene": "scene",
         "showlegend": false,
         "type": "scatter3d",
         "x": [
          1187.886813533229,
          1187.886813533229,
          1187.886813533229,
          1188.8901683710292,
          1188.8901683710292,
          1188.8901683710292
         ],
         "y": [
          9.446999549865723,
          10.161999702453613,
          10.87600040435791,
          9.446999549865723,
          10.161999702453613,
          10.87600040435791
         ],
         "z": [
          0,
          0,
          0,
          362.8526611328125,
          297.2601623535156,
          627.65673828125
         ]
        },
        {
         "hovertemplate": "labels=1-(14Z,17Z,20Z,23Z,26Z-dotriacontapentaenoyl)-2-(10Z,13Z,16Z,19Z,22Z-octacosapentaenoyl)-sn-glycero-3-phospho-N-tetradecanoyl-ethanolamine/1-(14Z,17Z,20Z,23Z,26Z-dotriacontapentaenoyl)-2-(11Z,14Z,17Z,20Z,23Z-hexacosapentaenoyl)-sn-glycero-3-phospho-N-hexadecanoyl-ethanolamine/1-(14Z,17Z,20Z,23Z,26Z-dotriacontapentaenoyl)-2-(12Z,15Z,18Z,21Z,24Z-triacontapentaenoyl)-sn-glycero-3-phospho-N-dodecanoyl-ethanolamine/1-(14Z,17Z,20Z,23Z,26Z-dotriacontapentaenoyl)-2-(13Z,16Z,19Z,22Z,25Z-octacosapentaenoyl)-sn-glycero-3-phospho-N-tetradecanoyl-ethanolamine/1-(14Z,17Z,20Z,23Z,26Z-dotriacontapentaenoyl)-2-(13Z-docosenoyl)-sn-glycero-3-phospho-N-(5Z,8Z,11Z,14Z-eicosatetraenoyl)-ethanolamine/1-(14Z,17Z,20Z,23Z,26Z-dotriacontapentaenoyl)-2-(15Z,18Z,21Z,24Z,27Z-triacontapentaenoyl)-sn-glycero-3-phospho-N-dodecanoyl-ethanolamine/1-(14Z,17Z,20Z,23Z,26Z-dotriacontapentaenoyl)-2-(17Z,20Z,23Z,26Z,29Z-dotriacontapentaenoyl)-sn-glycero-3-phospho-N-decanoyl-ethanolamine/1-(14Z,17Z,20Z,23Z,26Z-dotriacontapentaenoyl)-2-(19Z,22Z,25Z,28Z,31Z-tetratriacontapentaenoyl)-sn-glycero-3-phospho-N-octanoyl-ethanolamine/1-(14Z,17Z,20Z,23Z,26Z-dotriacontapentaenoyl)-2-(21Z,24Z,27Z,30Z,33Z-hexatriacontapentaenoyl)-sn-glycero-3-phospho-N-hexanoyl-ethanolamine/1-(14Z,17Z,20Z,23Z,26Z-dotriacontapentaenoyl)-2-(6Z,9Z,12Z,15Z,18Z-tetracosapentaenoyl)-sn-glycero-3-phospho-N-octadecanoyl-ethanolamine/1-(14Z,17Z,20Z,23Z,26Z-dotriacontapentaenoyl)-2-(8Z,11Z,14Z,17Z,20Z-hexacosapentaenoyl)-sn-glycero-3-phospho-N-hexadecanoyl-ethanolamine/1-(14Z,17Z,20Z,23Z,26Z-dotriacontapentaenoyl)-2-(9Z,12Z,15Z,18Z,21Z-tetracosapentaenoyl)-sn-glycero-3-phospho-N-octadecanoyl-ethanolamine/1-(14Z,17Z,20Z,23Z,26Z-dotriacontapentaenoyl)-2-(9Z,12Z,15Z,18Z-tetracosatetraenoyl)-sn-glycero-3-phospho-N-(11Z-octadecenoyl)-ethanolamine/1-(14Z,17Z,20Z,23Z,26Z-dotriacontapentaenoyl)-2-(9Z,12Z,15Z,18Z-tetracosatetraenoyl)-sn-glycero-3-phospho-N-(9Z-octadecenoyl)-ethanolamine_0<br>m/z=%{x}<br>rt=%{y}<br>intensity=%{z}<extra></extra>",
         "legendgroup": "1-(14Z,17Z,20Z,23Z,26Z-dotriacontapentaenoyl)-2-(10Z,13Z,16Z,19Z,22Z-octacosapentaenoyl)-sn-glycero-3-phospho-N-tetradecanoyl-ethanolamine/1-(14Z,17Z,20Z,23Z,26Z-dotriacontapentaenoyl)-2-(11Z,14Z,17Z,20Z,23Z-hexacosapentaenoyl)-sn-glycero-3-phospho-N-hexadecanoyl-ethanolamine/1-(14Z,17Z,20Z,23Z,26Z-dotriacontapentaenoyl)-2-(12Z,15Z,18Z,21Z,24Z-triacontapentaenoyl)-sn-glycero-3-phospho-N-dodecanoyl-ethanolamine/1-(14Z,17Z,20Z,23Z,26Z-dotriacontapentaenoyl)-2-(13Z,16Z,19Z,22Z,25Z-octacosapentaenoyl)-sn-glycero-3-phospho-N-tetradecanoyl-ethanolamine/1-(14Z,17Z,20Z,23Z,26Z-dotriacontapentaenoyl)-2-(13Z-docosenoyl)-sn-glycero-3-phospho-N-(5Z,8Z,11Z,14Z-eicosatetraenoyl)-ethanolamine/1-(14Z,17Z,20Z,23Z,26Z-dotriacontapentaenoyl)-2-(15Z,18Z,21Z,24Z,27Z-triacontapentaenoyl)-sn-glycero-3-phospho-N-dodecanoyl-ethanolamine/1-(14Z,17Z,20Z,23Z,26Z-dotriacontapentaenoyl)-2-(17Z,20Z,23Z,26Z,29Z-dotriacontapentaenoyl)-sn-glycero-3-phospho-N-decanoyl-ethanolamine/1-(14Z,17Z,20Z,23Z,26Z-dotriacontapentaenoyl)-2-(19Z,22Z,25Z,28Z,31Z-tetratriacontapentaenoyl)-sn-glycero-3-phospho-N-octanoyl-ethanolamine/1-(14Z,17Z,20Z,23Z,26Z-dotriacontapentaenoyl)-2-(21Z,24Z,27Z,30Z,33Z-hexatriacontapentaenoyl)-sn-glycero-3-phospho-N-hexanoyl-ethanolamine/1-(14Z,17Z,20Z,23Z,26Z-dotriacontapentaenoyl)-2-(6Z,9Z,12Z,15Z,18Z-tetracosapentaenoyl)-sn-glycero-3-phospho-N-octadecanoyl-ethanolamine/1-(14Z,17Z,20Z,23Z,26Z-dotriacontapentaenoyl)-2-(8Z,11Z,14Z,17Z,20Z-hexacosapentaenoyl)-sn-glycero-3-phospho-N-hexadecanoyl-ethanolamine/1-(14Z,17Z,20Z,23Z,26Z-dotriacontapentaenoyl)-2-(9Z,12Z,15Z,18Z,21Z-tetracosapentaenoyl)-sn-glycero-3-phospho-N-octadecanoyl-ethanolamine/1-(14Z,17Z,20Z,23Z,26Z-dotriacontapentaenoyl)-2-(9Z,12Z,15Z,18Z-tetracosatetraenoyl)-sn-glycero-3-phospho-N-(11Z-octadecenoyl)-ethanolamine/1-(14Z,17Z,20Z,23Z,26Z-dotriacontapentaenoyl)-2-(9Z,12Z,15Z,18Z-tetracosatetraenoyl)-sn-glycero-3-phospho-N-(9Z-octadecenoyl)-ethanolamine_0",
         "line": {
          "color": "#00cc96",
          "dash": "solid"
         },
         "marker": {
          "symbol": "circle"
         },
         "mode": "lines",
         "name": "1-(14Z,17Z,20Z,23Z,26Z-dotriacontapentaenoyl)-2-(10Z,13Z,16Z,19Z,22Z-octacosapentaenoyl)-sn-glycero-3-phospho-N-tetradecanoyl-ethanolamine/1-(14Z,17Z,20Z,23Z,26Z-dotriacontapentaenoyl)-2-(11Z,14Z,17Z,20Z,23Z-hexacosapentaenoyl)-sn-glycero-3-phospho-N-hexadecanoyl-ethanolamine/1-(14Z,17Z,20Z,23Z,26Z-dotriacontapentaenoyl)-2-(12Z,15Z,18Z,21Z,24Z-triacontapentaenoyl)-sn-glycero-3-phospho-N-dodecanoyl-ethanolamine/1-(14Z,17Z,20Z,23Z,26Z-dotriacontapentaenoyl)-2-(13Z,16Z,19Z,22Z,25Z-octacosapentaenoyl)-sn-glycero-3-phospho-N-tetradecanoyl-ethanolamine/1-(14Z,17Z,20Z,23Z,26Z-dotriacontapentaenoyl)-2-(13Z-docosenoyl)-sn-glycero-3-phospho-N-(5Z,8Z,11Z,14Z-eicosatetraenoyl)-ethanolamine/1-(14Z,17Z,20Z,23Z,26Z-dotriacontapentaenoyl)-2-(15Z,18Z,21Z,24Z,27Z-triacontapentaenoyl)-sn-glycero-3-phospho-N-dodecanoyl-ethanolamine/1-(14Z,17Z,20Z,23Z,26Z-dotriacontapentaenoyl)-2-(17Z,20Z,23Z,26Z,29Z-dotriacontapentaenoyl)-sn-glycero-3-phospho-N-decanoyl-ethanolamine/1-(14Z,17Z,20Z,23Z,26Z-dotriacontapentaenoyl)-2-(19Z,22Z,25Z,28Z,31Z-tetratriacontapentaenoyl)-sn-glycero-3-phospho-N-octanoyl-ethanolamine/1-(14Z,17Z,20Z,23Z,26Z-dotriacontapentaenoyl)-2-(21Z,24Z,27Z,30Z,33Z-hexatriacontapentaenoyl)-sn-glycero-3-phospho-N-hexanoyl-ethanolamine/1-(14Z,17Z,20Z,23Z,26Z-dotriacontapentaenoyl)-2-(6Z,9Z,12Z,15Z,18Z-tetracosapentaenoyl)-sn-glycero-3-phospho-N-octadecanoyl-ethanolamine/1-(14Z,17Z,20Z,23Z,26Z-dotriacontapentaenoyl)-2-(8Z,11Z,14Z,17Z,20Z-hexacosapentaenoyl)-sn-glycero-3-phospho-N-hexadecanoyl-ethanolamine/1-(14Z,17Z,20Z,23Z,26Z-dotriacontapentaenoyl)-2-(9Z,12Z,15Z,18Z,21Z-tetracosapentaenoyl)-sn-glycero-3-phospho-N-octadecanoyl-ethanolamine/1-(14Z,17Z,20Z,23Z,26Z-dotriacontapentaenoyl)-2-(9Z,12Z,15Z,18Z-tetracosatetraenoyl)-sn-glycero-3-phospho-N-(11Z-octadecenoyl)-ethanolamine/1-(14Z,17Z,20Z,23Z,26Z-dotriacontapentaenoyl)-2-(9Z,12Z,15Z,18Z-tetracosatetraenoyl)-sn-glycero-3-phospho-N-(9Z-octadecenoyl)-ethanolamine_0",
         "scene": "scene",
         "showlegend": false,
         "type": "scatter3d",
         "x": [
          1271.9807235332291,
          1271.9807235332291,
          1272.9840783710292,
          1272.9840783710292
         ],
         "y": [
          10.161999702453613,
          10.87600040435791,
          10.161999702453613,
          10.87600040435791
         ],
         "z": [
          181.92633056640625,
          963.808837890625,
          0,
          0
         ]
        },
        {
         "hovertemplate": "labels=1-(14Z,17Z,20Z,23Z,26Z-dotriacontapentaenoyl)-2-(10Z,13Z,16Z-docosatrienoyl)-sn-glycero-3-phospho-N-(11Z-octadecenoyl)-ethanolamine/1-(14Z,17Z,20Z,23Z,26Z-dotriacontapentaenoyl)-2-(10Z,13Z,16Z-docosatrienoyl)-sn-glycero-3-phospho-N-(9Z-octadecenoyl)-ethanolamine/1-(14Z,17Z,20Z,23Z,26Z-dotriacontapentaenoyl)-2-(11Z,14Z,17Z,20Z-hexacosatetraenoyl)-sn-glycero-3-phospho-N-tetradecanoyl-ethanolamine/1-(14Z,17Z,20Z,23Z,26Z-dotriacontapentaenoyl)-2-(13Z,16Z,19Z,22Z-octacosatetraenoyl)-sn-glycero-3-phospho-N-dodecanoyl-ethanolamine/1-(14Z,17Z,20Z,23Z,26Z-dotriacontapentaenoyl)-2-(13Z,16Z-docosadienoyl)-sn-glycero-3-phospho-N-(9Z,12Z-octadecadienoyl)-ethanolamine/1-(14Z,17Z,20Z,23Z,26Z-dotriacontapentaenoyl)-2-(13Z-docosenoyl)-sn-glycero-3-phospho-N-(6Z,9Z,12Z-octadecatrienoyl)-ethanolamine/1-(14Z,17Z,20Z,23Z,26Z-dotriacontapentaenoyl)-2-(13Z-docosenoyl)-sn-glycero-3-phospho-N-(9Z,12Z,15Z-octadecatrienoyl)-ethanolamine/1-(14Z,17Z,20Z,23Z,26Z-dotriacontapentaenoyl)-2-(15Z,18Z,21Z,24Z-triacontatetraenoyl)-sn-glycero-3-phospho-N-decanoyl-ethanolamine/1-(14Z,17Z,20Z,23Z,26Z-dotriacontapentaenoyl)-2-(17Z,20Z,23Z,26Z-dotriacontatetraenoyl)-sn-glycero-3-phospho-N-octanoyl-ethanolamine/1-(14Z,17Z,20Z,23Z,26Z-dotriacontapentaenoyl)-2-(19Z,22Z,25Z,28Z-tetratriacontatetraenoyl)-sn-glycero-3-phospho-N-hexanoyl-ethanolamine/1-(14Z,17Z,20Z,23Z,26Z-dotriacontapentaenoyl)-2-(7Z,10Z,13Z,16Z-docosatetraenoyl)-sn-glycero-3-phospho-N-octadecanoyl-ethanolamine/1-(14Z,17Z,20Z,23Z,26Z-dotriacontapentaenoyl)-2-(9Z,12Z,15Z,18Z-tetracosatetraenoyl)-sn-glycero-3-phospho-N-hexadecanoyl-ethanolamine/1-(14Z,17Z,20Z,23Z,26Z-dotriacontapentaenoyl)-2-eicosanoyl-sn-glycero-3-phospho-N-(5Z,8Z,11Z,14Z-eicosatetraenoyl)-ethanolamine_0<br>m/z=%{x}<br>rt=%{y}<br>intensity=%{z}<extra></extra>",
         "legendgroup": "1-(14Z,17Z,20Z,23Z,26Z-dotriacontapentaenoyl)-2-(10Z,13Z,16Z-docosatrienoyl)-sn-glycero-3-phospho-N-(11Z-octadecenoyl)-ethanolamine/1-(14Z,17Z,20Z,23Z,26Z-dotriacontapentaenoyl)-2-(10Z,13Z,16Z-docosatrienoyl)-sn-glycero-3-phospho-N-(9Z-octadecenoyl)-ethanolamine/1-(14Z,17Z,20Z,23Z,26Z-dotriacontapentaenoyl)-2-(11Z,14Z,17Z,20Z-hexacosatetraenoyl)-sn-glycero-3-phospho-N-tetradecanoyl-ethanolamine/1-(14Z,17Z,20Z,23Z,26Z-dotriacontapentaenoyl)-2-(13Z,16Z,19Z,22Z-octacosatetraenoyl)-sn-glycero-3-phospho-N-dodecanoyl-ethanolamine/1-(14Z,17Z,20Z,23Z,26Z-dotriacontapentaenoyl)-2-(13Z,16Z-docosadienoyl)-sn-glycero-3-phospho-N-(9Z,12Z-octadecadienoyl)-ethanolamine/1-(14Z,17Z,20Z,23Z,26Z-dotriacontapentaenoyl)-2-(13Z-docosenoyl)-sn-glycero-3-phospho-N-(6Z,9Z,12Z-octadecatrienoyl)-ethanolamine/1-(14Z,17Z,20Z,23Z,26Z-dotriacontapentaenoyl)-2-(13Z-docosenoyl)-sn-glycero-3-phospho-N-(9Z,12Z,15Z-octadecatrienoyl)-ethanolamine/1-(14Z,17Z,20Z,23Z,26Z-dotriacontapentaenoyl)-2-(15Z,18Z,21Z,24Z-triacontatetraenoyl)-sn-glycero-3-phospho-N-decanoyl-ethanolamine/1-(14Z,17Z,20Z,23Z,26Z-dotriacontapentaenoyl)-2-(17Z,20Z,23Z,26Z-dotriacontatetraenoyl)-sn-glycero-3-phospho-N-octanoyl-ethanolamine/1-(14Z,17Z,20Z,23Z,26Z-dotriacontapentaenoyl)-2-(19Z,22Z,25Z,28Z-tetratriacontatetraenoyl)-sn-glycero-3-phospho-N-hexanoyl-ethanolamine/1-(14Z,17Z,20Z,23Z,26Z-dotriacontapentaenoyl)-2-(7Z,10Z,13Z,16Z-docosatetraenoyl)-sn-glycero-3-phospho-N-octadecanoyl-ethanolamine/1-(14Z,17Z,20Z,23Z,26Z-dotriacontapentaenoyl)-2-(9Z,12Z,15Z,18Z-tetracosatetraenoyl)-sn-glycero-3-phospho-N-hexadecanoyl-ethanolamine/1-(14Z,17Z,20Z,23Z,26Z-dotriacontapentaenoyl)-2-eicosanoyl-sn-glycero-3-phospho-N-(5Z,8Z,11Z,14Z-eicosatetraenoyl)-ethanolamine_0",
         "line": {
          "color": "#ab63fa",
          "dash": "solid"
         },
         "marker": {
          "symbol": "circle"
         },
         "mode": "lines",
         "name": "1-(14Z,17Z,20Z,23Z,26Z-dotriacontapentaenoyl)-2-(10Z,13Z,16Z-docosatrienoyl)-sn-glycero-3-phospho-N-(11Z-octadecenoyl)-ethanolamine/1-(14Z,17Z,20Z,23Z,26Z-dotriacontapentaenoyl)-2-(10Z,13Z,16Z-docosatrienoyl)-sn-glycero-3-phospho-N-(9Z-octadecenoyl)-ethanolamine/1-(14Z,17Z,20Z,23Z,26Z-dotriacontapentaenoyl)-2-(11Z,14Z,17Z,20Z-hexacosatetraenoyl)-sn-glycero-3-phospho-N-tetradecanoyl-ethanolamine/1-(14Z,17Z,20Z,23Z,26Z-dotriacontapentaenoyl)-2-(13Z,16Z,19Z,22Z-octacosatetraenoyl)-sn-glycero-3-phospho-N-dodecanoyl-ethanolamine/1-(14Z,17Z,20Z,23Z,26Z-dotriacontapentaenoyl)-2-(13Z,16Z-docosadienoyl)-sn-glycero-3-phospho-N-(9Z,12Z-octadecadienoyl)-ethanolamine/1-(14Z,17Z,20Z,23Z,26Z-dotriacontapentaenoyl)-2-(13Z-docosenoyl)-sn-glycero-3-phospho-N-(6Z,9Z,12Z-octadecatrienoyl)-ethanolamine/1-(14Z,17Z,20Z,23Z,26Z-dotriacontapentaenoyl)-2-(13Z-docosenoyl)-sn-glycero-3-phospho-N-(9Z,12Z,15Z-octadecatrienoyl)-ethanolamine/1-(14Z,17Z,20Z,23Z,26Z-dotriacontapentaenoyl)-2-(15Z,18Z,21Z,24Z-triacontatetraenoyl)-sn-glycero-3-phospho-N-decanoyl-ethanolamine/1-(14Z,17Z,20Z,23Z,26Z-dotriacontapentaenoyl)-2-(17Z,20Z,23Z,26Z-dotriacontatetraenoyl)-sn-glycero-3-phospho-N-octanoyl-ethanolamine/1-(14Z,17Z,20Z,23Z,26Z-dotriacontapentaenoyl)-2-(19Z,22Z,25Z,28Z-tetratriacontatetraenoyl)-sn-glycero-3-phospho-N-hexanoyl-ethanolamine/1-(14Z,17Z,20Z,23Z,26Z-dotriacontapentaenoyl)-2-(7Z,10Z,13Z,16Z-docosatetraenoyl)-sn-glycero-3-phospho-N-octadecanoyl-ethanolamine/1-(14Z,17Z,20Z,23Z,26Z-dotriacontapentaenoyl)-2-(9Z,12Z,15Z,18Z-tetracosatetraenoyl)-sn-glycero-3-phospho-N-hexadecanoyl-ethanolamine/1-(14Z,17Z,20Z,23Z,26Z-dotriacontapentaenoyl)-2-eicosanoyl-sn-glycero-3-phospho-N-(5Z,8Z,11Z,14Z-eicosatetraenoyl)-ethanolamine_0",
         "scene": "scene",
         "showlegend": false,
         "type": "scatter3d",
         "x": [
          1245.965073533229,
          1245.965073533229,
          1246.9684283710292,
          1246.9684283710292
         ],
         "y": [
          8.017999649047852,
          8.732999801635742,
          8.017999649047852,
          8.732999801635742
         ],
         "z": [
          0,
          534.5509643554688,
          0,
          0
         ]
        },
        {
         "hovertemplate": "labels=1-(14Z,17Z,20Z,23Z,26Z-dotriacontapentaenoyl)-2-(10Z,13Z,16Z-docosatrienoyl)-sn-glycero-3-phospho-N-(4Z,7Z,10Z,13Z,16Z,19Z-docosahexaenoyl)-ethanolamine/1-(14Z,17Z,20Z,23Z,26Z-dotriacontapentaenoyl)-2-(6Z,9Z,12Z,15Z,18Z-tetracosapentaenoyl)-sn-glycero-3-phospho-N-(5Z,8Z,11Z,14Z-eicosatetraenoyl)-ethanolamine/1-(14Z,17Z,20Z,23Z,26Z-dotriacontapentaenoyl)-2-(8Z,11Z,14Z,17Z,20Z,23Z-hexacosahexaenoyl)-sn-glycero-3-phospho-N-(6Z,9Z,12Z-octadecatrienoyl)-ethanolamine/1-(14Z,17Z,20Z,23Z,26Z-dotriacontapentaenoyl)-2-(8Z,11Z,14Z,17Z,20Z,23Z-hexacosahexaenoyl)-sn-glycero-3-phospho-N-(9Z,12Z,15Z-octadecatrienoyl)-ethanolamine/1-(14Z,17Z,20Z,23Z,26Z-dotriacontapentaenoyl)-2-(9Z,12Z,15Z,18Z,21Z-tetracosapentaenoyl)-sn-glycero-3-phospho-N-(5Z,8Z,11Z,14Z-eicosatetraenoyl)-ethanolamine_0<br>m/z=%{x}<br>rt=%{y}<br>intensity=%{z}<extra></extra>",
         "legendgroup": "1-(14Z,17Z,20Z,23Z,26Z-dotriacontapentaenoyl)-2-(10Z,13Z,16Z-docosatrienoyl)-sn-glycero-3-phospho-N-(4Z,7Z,10Z,13Z,16Z,19Z-docosahexaenoyl)-ethanolamine/1-(14Z,17Z,20Z,23Z,26Z-dotriacontapentaenoyl)-2-(6Z,9Z,12Z,15Z,18Z-tetracosapentaenoyl)-sn-glycero-3-phospho-N-(5Z,8Z,11Z,14Z-eicosatetraenoyl)-ethanolamine/1-(14Z,17Z,20Z,23Z,26Z-dotriacontapentaenoyl)-2-(8Z,11Z,14Z,17Z,20Z,23Z-hexacosahexaenoyl)-sn-glycero-3-phospho-N-(6Z,9Z,12Z-octadecatrienoyl)-ethanolamine/1-(14Z,17Z,20Z,23Z,26Z-dotriacontapentaenoyl)-2-(8Z,11Z,14Z,17Z,20Z,23Z-hexacosahexaenoyl)-sn-glycero-3-phospho-N-(9Z,12Z,15Z-octadecatrienoyl)-ethanolamine/1-(14Z,17Z,20Z,23Z,26Z-dotriacontapentaenoyl)-2-(9Z,12Z,15Z,18Z,21Z-tetracosapentaenoyl)-sn-glycero-3-phospho-N-(5Z,8Z,11Z,14Z-eicosatetraenoyl)-ethanolamine_0",
         "line": {
          "color": "#FFA15A",
          "dash": "solid"
         },
         "marker": {
          "symbol": "circle"
         },
         "mode": "lines",
         "name": "1-(14Z,17Z,20Z,23Z,26Z-dotriacontapentaenoyl)-2-(10Z,13Z,16Z-docosatrienoyl)-sn-glycero-3-phospho-N-(4Z,7Z,10Z,13Z,16Z,19Z-docosahexaenoyl)-ethanolamine/1-(14Z,17Z,20Z,23Z,26Z-dotriacontapentaenoyl)-2-(6Z,9Z,12Z,15Z,18Z-tetracosapentaenoyl)-sn-glycero-3-phospho-N-(5Z,8Z,11Z,14Z-eicosatetraenoyl)-ethanolamine/1-(14Z,17Z,20Z,23Z,26Z-dotriacontapentaenoyl)-2-(8Z,11Z,14Z,17Z,20Z,23Z-hexacosahexaenoyl)-sn-glycero-3-phospho-N-(6Z,9Z,12Z-octadecatrienoyl)-ethanolamine/1-(14Z,17Z,20Z,23Z,26Z-dotriacontapentaenoyl)-2-(8Z,11Z,14Z,17Z,20Z,23Z-hexacosahexaenoyl)-sn-glycero-3-phospho-N-(9Z,12Z,15Z-octadecatrienoyl)-ethanolamine/1-(14Z,17Z,20Z,23Z,26Z-dotriacontapentaenoyl)-2-(9Z,12Z,15Z,18Z,21Z-tetracosapentaenoyl)-sn-glycero-3-phospho-N-(5Z,8Z,11Z,14Z-eicosatetraenoyl)-ethanolamine_0",
         "scene": "scene",
         "showlegend": false,
         "type": "scatter3d",
         "x": [
          1291.949413533229,
          1291.949413533229,
          1292.9527683710292,
          1292.9527683710292
         ],
         "y": [
          5.875,
          6.590000152587891,
          5.875,
          6.590000152587891
         ],
         "z": [
          190.00050354003906,
          484.7860107421875,
          0,
          174.67825317382812
         ]
        },
        {
         "hovertemplate": "labels=1-(14Z,17Z,20Z,23Z,26Z-dotriacontapentaenoyl)-2-(10Z,13Z,16Z-docosatrienoyl)-sn-glycero-3-phospho-N-(5Z,8Z,11Z,14Z-eicosatetraenoyl)-ethanolamine/1-(14Z,17Z,20Z,23Z,26Z-dotriacontapentaenoyl)-2-(11Z-eicosenoyl)-sn-glycero-3-phospho-N-(4Z,7Z,10Z,13Z,16Z,19Z-docosahexaenoyl)-ethanolamine/1-(14Z,17Z,20Z,23Z,26Z-dotriacontapentaenoyl)-2-(6Z,9Z,12Z,15Z,18Z,21Z-tetracosahexaenoyl)-sn-glycero-3-phospho-N-(11Z-octadecenoyl)-ethanolamine/1-(14Z,17Z,20Z,23Z,26Z-dotriacontapentaenoyl)-2-(6Z,9Z,12Z,15Z,18Z,21Z-tetracosahexaenoyl)-sn-glycero-3-phospho-N-(9Z-octadecenoyl)-ethanolamine/1-(14Z,17Z,20Z,23Z,26Z-dotriacontapentaenoyl)-2-(6Z,9Z,12Z,15Z,18Z-tetracosapentaenoyl)-sn-glycero-3-phospho-N-(9Z,12Z-octadecadienoyl)-ethanolamine/1-(14Z,17Z,20Z,23Z,26Z-dotriacontapentaenoyl)-2-(9Z,12Z,15Z,18Z,21Z-tetracosapentaenoyl)-sn-glycero-3-phospho-N-(9Z,12Z-octadecadienoyl)-ethanolamine/1-(14Z,17Z,20Z,23Z,26Z-dotriacontapentaenoyl)-2-(9Z,12Z,15Z,18Z-tetracosatetraenoyl)-sn-glycero-3-phospho-N-(6Z,9Z,12Z-octadecatrienoyl)-ethanolamine/1-(14Z,17Z,20Z,23Z,26Z-dotriacontapentaenoyl)-2-(9Z,12Z,15Z,18Z-tetracosatetraenoyl)-sn-glycero-3-phospho-N-(9Z,12Z,15Z-octadecatrienoyl)-ethanolamine_0<br>m/z=%{x}<br>rt=%{y}<br>intensity=%{z}<extra></extra>",
         "legendgroup": "1-(14Z,17Z,20Z,23Z,26Z-dotriacontapentaenoyl)-2-(10Z,13Z,16Z-docosatrienoyl)-sn-glycero-3-phospho-N-(5Z,8Z,11Z,14Z-eicosatetraenoyl)-ethanolamine/1-(14Z,17Z,20Z,23Z,26Z-dotriacontapentaenoyl)-2-(11Z-eicosenoyl)-sn-glycero-3-phospho-N-(4Z,7Z,10Z,13Z,16Z,19Z-docosahexaenoyl)-ethanolamine/1-(14Z,17Z,20Z,23Z,26Z-dotriacontapentaenoyl)-2-(6Z,9Z,12Z,15Z,18Z,21Z-tetracosahexaenoyl)-sn-glycero-3-phospho-N-(11Z-octadecenoyl)-ethanolamine/1-(14Z,17Z,20Z,23Z,26Z-dotriacontapentaenoyl)-2-(6Z,9Z,12Z,15Z,18Z,21Z-tetracosahexaenoyl)-sn-glycero-3-phospho-N-(9Z-octadecenoyl)-ethanolamine/1-(14Z,17Z,20Z,23Z,26Z-dotriacontapentaenoyl)-2-(6Z,9Z,12Z,15Z,18Z-tetracosapentaenoyl)-sn-glycero-3-phospho-N-(9Z,12Z-octadecadienoyl)-ethanolamine/1-(14Z,17Z,20Z,23Z,26Z-dotriacontapentaenoyl)-2-(9Z,12Z,15Z,18Z,21Z-tetracosapentaenoyl)-sn-glycero-3-phospho-N-(9Z,12Z-octadecadienoyl)-ethanolamine/1-(14Z,17Z,20Z,23Z,26Z-dotriacontapentaenoyl)-2-(9Z,12Z,15Z,18Z-tetracosatetraenoyl)-sn-glycero-3-phospho-N-(6Z,9Z,12Z-octadecatrienoyl)-ethanolamine/1-(14Z,17Z,20Z,23Z,26Z-dotriacontapentaenoyl)-2-(9Z,12Z,15Z,18Z-tetracosatetraenoyl)-sn-glycero-3-phospho-N-(9Z,12Z,15Z-octadecatrienoyl)-ethanolamine_0",
         "line": {
          "color": "#19d3f3",
          "dash": "solid"
         },
         "marker": {
          "symbol": "circle"
         },
         "mode": "lines",
         "name": "1-(14Z,17Z,20Z,23Z,26Z-dotriacontapentaenoyl)-2-(10Z,13Z,16Z-docosatrienoyl)-sn-glycero-3-phospho-N-(5Z,8Z,11Z,14Z-eicosatetraenoyl)-ethanolamine/1-(14Z,17Z,20Z,23Z,26Z-dotriacontapentaenoyl)-2-(11Z-eicosenoyl)-sn-glycero-3-phospho-N-(4Z,7Z,10Z,13Z,16Z,19Z-docosahexaenoyl)-ethanolamine/1-(14Z,17Z,20Z,23Z,26Z-dotriacontapentaenoyl)-2-(6Z,9Z,12Z,15Z,18Z,21Z-tetracosahexaenoyl)-sn-glycero-3-phospho-N-(11Z-octadecenoyl)-ethanolamine/1-(14Z,17Z,20Z,23Z,26Z-dotriacontapentaenoyl)-2-(6Z,9Z,12Z,15Z,18Z,21Z-tetracosahexaenoyl)-sn-glycero-3-phospho-N-(9Z-octadecenoyl)-ethanolamine/1-(14Z,17Z,20Z,23Z,26Z-dotriacontapentaenoyl)-2-(6Z,9Z,12Z,15Z,18Z-tetracosapentaenoyl)-sn-glycero-3-phospho-N-(9Z,12Z-octadecadienoyl)-ethanolamine/1-(14Z,17Z,20Z,23Z,26Z-dotriacontapentaenoyl)-2-(9Z,12Z,15Z,18Z,21Z-tetracosapentaenoyl)-sn-glycero-3-phospho-N-(9Z,12Z-octadecadienoyl)-ethanolamine/1-(14Z,17Z,20Z,23Z,26Z-dotriacontapentaenoyl)-2-(9Z,12Z,15Z,18Z-tetracosatetraenoyl)-sn-glycero-3-phospho-N-(6Z,9Z,12Z-octadecatrienoyl)-ethanolamine/1-(14Z,17Z,20Z,23Z,26Z-dotriacontapentaenoyl)-2-(9Z,12Z,15Z,18Z-tetracosatetraenoyl)-sn-glycero-3-phospho-N-(9Z,12Z,15Z-octadecatrienoyl)-ethanolamine_0",
         "scene": "scene",
         "showlegend": false,
         "type": "scatter3d",
         "x": [
          1267.949413533229,
          1267.949413533229,
          1267.949413533229,
          1268.9527683710292,
          1268.9527683710292,
          1268.9527683710292
         ],
         "y": [
          9.446999549865723,
          10.161999702453613,
          10.87600040435791,
          9.446999549865723,
          10.161999702453613,
          10.87600040435791
         ],
         "z": [
          0,
          360.7182922363281,
          0,
          61.422454833984375,
          100.08720397949219,
          0
         ]
        },
        {
         "hovertemplate": "labels=1-(14Z,17Z,20Z,23Z,26Z-dotriacontapentaenoyl)-2-(10Z,13Z,16Z-docosatrienoyl)-sn-glycero-3-phospho-N-decanoyl-ethanolamine/1-(14Z,17Z,20Z,23Z,26Z-dotriacontapentaenoyl)-2-(11Z,14Z,17Z-eicoastrienoyl)-sn-glycero-3-phospho-N-dodecanoyl-ethanolamine/1-(14Z,17Z,20Z,23Z,26Z-dotriacontapentaenoyl)-2-(6Z,9Z,12Z-octadecatrienoyl)-sn-glycero-3-phospho-N-tetradecanoyl-ethanolamine/1-(14Z,17Z,20Z,23Z,26Z-dotriacontapentaenoyl)-2-(8Z,11Z,14Z-eicosatrienoyl)-sn-glycero-3-phospho-N-dodecanoyl-ethanolamine/1-(14Z,17Z,20Z,23Z,26Z-dotriacontapentaenoyl)-2-(9Z,12Z,15Z-octadecatrienoyl)-sn-glycero-3-phospho-N-tetradecanoyl-ethanolamine_0<br>m/z=%{x}<br>rt=%{y}<br>intensity=%{z}<extra></extra>",
         "legendgroup": "1-(14Z,17Z,20Z,23Z,26Z-dotriacontapentaenoyl)-2-(10Z,13Z,16Z-docosatrienoyl)-sn-glycero-3-phospho-N-decanoyl-ethanolamine/1-(14Z,17Z,20Z,23Z,26Z-dotriacontapentaenoyl)-2-(11Z,14Z,17Z-eicoastrienoyl)-sn-glycero-3-phospho-N-dodecanoyl-ethanolamine/1-(14Z,17Z,20Z,23Z,26Z-dotriacontapentaenoyl)-2-(6Z,9Z,12Z-octadecatrienoyl)-sn-glycero-3-phospho-N-tetradecanoyl-ethanolamine/1-(14Z,17Z,20Z,23Z,26Z-dotriacontapentaenoyl)-2-(8Z,11Z,14Z-eicosatrienoyl)-sn-glycero-3-phospho-N-dodecanoyl-ethanolamine/1-(14Z,17Z,20Z,23Z,26Z-dotriacontapentaenoyl)-2-(9Z,12Z,15Z-octadecatrienoyl)-sn-glycero-3-phospho-N-tetradecanoyl-ethanolamine_0",
         "line": {
          "color": "#FF6692",
          "dash": "solid"
         },
         "marker": {
          "symbol": "circle"
         },
         "mode": "lines",
         "name": "1-(14Z,17Z,20Z,23Z,26Z-dotriacontapentaenoyl)-2-(10Z,13Z,16Z-docosatrienoyl)-sn-glycero-3-phospho-N-decanoyl-ethanolamine/1-(14Z,17Z,20Z,23Z,26Z-dotriacontapentaenoyl)-2-(11Z,14Z,17Z-eicoastrienoyl)-sn-glycero-3-phospho-N-dodecanoyl-ethanolamine/1-(14Z,17Z,20Z,23Z,26Z-dotriacontapentaenoyl)-2-(6Z,9Z,12Z-octadecatrienoyl)-sn-glycero-3-phospho-N-tetradecanoyl-ethanolamine/1-(14Z,17Z,20Z,23Z,26Z-dotriacontapentaenoyl)-2-(8Z,11Z,14Z-eicosatrienoyl)-sn-glycero-3-phospho-N-dodecanoyl-ethanolamine/1-(14Z,17Z,20Z,23Z,26Z-dotriacontapentaenoyl)-2-(9Z,12Z,15Z-octadecatrienoyl)-sn-glycero-3-phospho-N-tetradecanoyl-ethanolamine_0",
         "scene": "scene",
         "showlegend": false,
         "type": "scatter3d",
         "x": [
          1135.855513533229,
          1135.855513533229,
          1135.855513533229,
          1136.858868371029,
          1136.858868371029,
          1136.858868371029
         ],
         "y": [
          5.875,
          6.590000152587891,
          7.303999900817871,
          5.875,
          6.590000152587891,
          7.303999900817871
         ],
         "z": [
          56.057952880859375,
          0,
          37.455726623535156,
          0,
          239.883544921875,
          0
         ]
        },
        {
         "hovertemplate": "labels=1-(14Z,17Z,20Z,23Z,26Z-dotriacontapentaenoyl)-2-(10Z,13Z,16Z-docosatrienoyl)-sn-glycero-3-phospho-N-dodecanoyl-ethanolamine/1-(14Z,17Z,20Z,23Z,26Z-dotriacontapentaenoyl)-2-(11Z,14Z,17Z-eicoastrienoyl)-sn-glycero-3-phospho-N-tetradecanoyl-ethanolamine/1-(14Z,17Z,20Z,23Z,26Z-dotriacontapentaenoyl)-2-(6Z,9Z,12Z-octadecatrienoyl)-sn-glycero-3-phospho-N-hexadecanoyl-ethanolamine/1-(14Z,17Z,20Z,23Z,26Z-dotriacontapentaenoyl)-2-(6Z-hexadecenoyl)-sn-glycero-3-phospho-N-(9Z,12Z-octadecadienoyl)-ethanolamine/1-(14Z,17Z,20Z,23Z,26Z-dotriacontapentaenoyl)-2-(8Z,11Z,14Z-eicosatrienoyl)-sn-glycero-3-phospho-N-tetradecanoyl-ethanolamine/1-(14Z,17Z,20Z,23Z,26Z-dotriacontapentaenoyl)-2-(9Z,12Z,15Z-octadecatrienoyl)-sn-glycero-3-phospho-N-hexadecanoyl-ethanolamine/1-(14Z,17Z,20Z,23Z,26Z-dotriacontapentaenoyl)-2-(9Z,12Z-hexadecadienoyl)-sn-glycero-3-phospho-N-(11Z-octadecenoyl)-ethanolamine/1-(14Z,17Z,20Z,23Z,26Z-dotriacontapentaenoyl)-2-(9Z,12Z-hexadecadienoyl)-sn-glycero-3-phospho-N-(9Z-octadecenoyl)-ethanolamine/1-(14Z,17Z,20Z,23Z,26Z-dotriacontapentaenoyl)-2-(9Z-hexadecenoyl)-sn-glycero-3-phospho-N-(9Z,12Z-octadecadienoyl)-ethanolamine/1-(14Z,17Z,20Z,23Z,26Z-dotriacontapentaenoyl)-2-hexadecanoyl-sn-glycero-3-phospho-N-(6Z,9Z,12Z-octadecatrienoyl)-ethanolamine/1-(14Z,17Z,20Z,23Z,26Z-dotriacontapentaenoyl)-2-hexadecanoyl-sn-glycero-3-phospho-N-(9Z,12Z,15Z-octadecatrienoyl)-ethanolamine_0<br>m/z=%{x}<br>rt=%{y}<br>intensity=%{z}<extra></extra>",
         "legendgroup": "1-(14Z,17Z,20Z,23Z,26Z-dotriacontapentaenoyl)-2-(10Z,13Z,16Z-docosatrienoyl)-sn-glycero-3-phospho-N-dodecanoyl-ethanolamine/1-(14Z,17Z,20Z,23Z,26Z-dotriacontapentaenoyl)-2-(11Z,14Z,17Z-eicoastrienoyl)-sn-glycero-3-phospho-N-tetradecanoyl-ethanolamine/1-(14Z,17Z,20Z,23Z,26Z-dotriacontapentaenoyl)-2-(6Z,9Z,12Z-octadecatrienoyl)-sn-glycero-3-phospho-N-hexadecanoyl-ethanolamine/1-(14Z,17Z,20Z,23Z,26Z-dotriacontapentaenoyl)-2-(6Z-hexadecenoyl)-sn-glycero-3-phospho-N-(9Z,12Z-octadecadienoyl)-ethanolamine/1-(14Z,17Z,20Z,23Z,26Z-dotriacontapentaenoyl)-2-(8Z,11Z,14Z-eicosatrienoyl)-sn-glycero-3-phospho-N-tetradecanoyl-ethanolamine/1-(14Z,17Z,20Z,23Z,26Z-dotriacontapentaenoyl)-2-(9Z,12Z,15Z-octadecatrienoyl)-sn-glycero-3-phospho-N-hexadecanoyl-ethanolamine/1-(14Z,17Z,20Z,23Z,26Z-dotriacontapentaenoyl)-2-(9Z,12Z-hexadecadienoyl)-sn-glycero-3-phospho-N-(11Z-octadecenoyl)-ethanolamine/1-(14Z,17Z,20Z,23Z,26Z-dotriacontapentaenoyl)-2-(9Z,12Z-hexadecadienoyl)-sn-glycero-3-phospho-N-(9Z-octadecenoyl)-ethanolamine/1-(14Z,17Z,20Z,23Z,26Z-dotriacontapentaenoyl)-2-(9Z-hexadecenoyl)-sn-glycero-3-phospho-N-(9Z,12Z-octadecadienoyl)-ethanolamine/1-(14Z,17Z,20Z,23Z,26Z-dotriacontapentaenoyl)-2-hexadecanoyl-sn-glycero-3-phospho-N-(6Z,9Z,12Z-octadecatrienoyl)-ethanolamine/1-(14Z,17Z,20Z,23Z,26Z-dotriacontapentaenoyl)-2-hexadecanoyl-sn-glycero-3-phospho-N-(9Z,12Z,15Z-octadecatrienoyl)-ethanolamine_0",
         "line": {
          "color": "#B6E880",
          "dash": "solid"
         },
         "marker": {
          "symbol": "circle"
         },
         "mode": "lines",
         "name": "1-(14Z,17Z,20Z,23Z,26Z-dotriacontapentaenoyl)-2-(10Z,13Z,16Z-docosatrienoyl)-sn-glycero-3-phospho-N-dodecanoyl-ethanolamine/1-(14Z,17Z,20Z,23Z,26Z-dotriacontapentaenoyl)-2-(11Z,14Z,17Z-eicoastrienoyl)-sn-glycero-3-phospho-N-tetradecanoyl-ethanolamine/1-(14Z,17Z,20Z,23Z,26Z-dotriacontapentaenoyl)-2-(6Z,9Z,12Z-octadecatrienoyl)-sn-glycero-3-phospho-N-hexadecanoyl-ethanolamine/1-(14Z,17Z,20Z,23Z,26Z-dotriacontapentaenoyl)-2-(6Z-hexadecenoyl)-sn-glycero-3-phospho-N-(9Z,12Z-octadecadienoyl)-ethanolamine/1-(14Z,17Z,20Z,23Z,26Z-dotriacontapentaenoyl)-2-(8Z,11Z,14Z-eicosatrienoyl)-sn-glycero-3-phospho-N-tetradecanoyl-ethanolamine/1-(14Z,17Z,20Z,23Z,26Z-dotriacontapentaenoyl)-2-(9Z,12Z,15Z-octadecatrienoyl)-sn-glycero-3-phospho-N-hexadecanoyl-ethanolamine/1-(14Z,17Z,20Z,23Z,26Z-dotriacontapentaenoyl)-2-(9Z,12Z-hexadecadienoyl)-sn-glycero-3-phospho-N-(11Z-octadecenoyl)-ethanolamine/1-(14Z,17Z,20Z,23Z,26Z-dotriacontapentaenoyl)-2-(9Z,12Z-hexadecadienoyl)-sn-glycero-3-phospho-N-(9Z-octadecenoyl)-ethanolamine/1-(14Z,17Z,20Z,23Z,26Z-dotriacontapentaenoyl)-2-(9Z-hexadecenoyl)-sn-glycero-3-phospho-N-(9Z,12Z-octadecadienoyl)-ethanolamine/1-(14Z,17Z,20Z,23Z,26Z-dotriacontapentaenoyl)-2-hexadecanoyl-sn-glycero-3-phospho-N-(6Z,9Z,12Z-octadecatrienoyl)-ethanolamine/1-(14Z,17Z,20Z,23Z,26Z-dotriacontapentaenoyl)-2-hexadecanoyl-sn-glycero-3-phospho-N-(9Z,12Z,15Z-octadecatrienoyl)-ethanolamine_0",
         "scene": "scene",
         "showlegend": false,
         "type": "scatter3d",
         "x": [
          1163.886813533229,
          1163.886813533229,
          1163.886813533229,
          1163.886813533229,
          1164.8901683710292,
          1164.8901683710292,
          1164.8901683710292,
          1164.8901683710292
         ],
         "y": [
          10.161999702453613,
          10.87600040435791,
          11.590999603271484,
          12.305000305175781,
          10.161999702453613,
          10.87600040435791,
          11.590999603271484,
          12.305000305175781
         ],
         "z": [
          0,
          1134.5338134765625,
          0,
          0,
          0,
          414.0035705566406,
          821.5531616210938,
          0
         ]
        },
        {
         "hovertemplate": "labels=1-(14Z,17Z,20Z,23Z,26Z-dotriacontapentaenoyl)-2-(10Z,13Z,16Z-docosatrienoyl)-sn-glycero-3-phospho-N-hexadecanoyl-ethanolamine/1-(14Z,17Z,20Z,23Z,26Z-dotriacontapentaenoyl)-2-(11Z,14Z,17Z-eicoastrienoyl)-sn-glycero-3-phospho-N-octadecanoyl-ethanolamine/1-(14Z,17Z,20Z,23Z,26Z-dotriacontapentaenoyl)-2-(11Z,14Z-eicosadienoyl)-sn-glycero-3-phospho-N-(11Z-octadecenoyl)-ethanolamine/1-(14Z,17Z,20Z,23Z,26Z-dotriacontapentaenoyl)-2-(11Z,14Z-eicosadienoyl)-sn-glycero-3-phospho-N-(9Z-octadecenoyl)-ethanolamine/1-(14Z,17Z,20Z,23Z,26Z-dotriacontapentaenoyl)-2-(11Z-eicosenoyl)-sn-glycero-3-phospho-N-(9Z,12Z-octadecadienoyl)-ethanolamine/1-(14Z,17Z,20Z,23Z,26Z-dotriacontapentaenoyl)-2-(8Z,11Z,14Z-eicosatrienoyl)-sn-glycero-3-phospho-N-octadecanoyl-ethanolamine/1-(14Z,17Z,20Z,23Z,26Z-dotriacontapentaenoyl)-2-eicosanoyl-sn-glycero-3-phospho-N-(6Z,9Z,12Z-octadecatrienoyl)-ethanolamine/1-(14Z,17Z,20Z,23Z,26Z-dotriacontapentaenoyl)-2-eicosanoyl-sn-glycero-3-phospho-N-(9Z,12Z,15Z-octadecatrienoyl)-ethanolamine_0<br>m/z=%{x}<br>rt=%{y}<br>intensity=%{z}<extra></extra>",
         "legendgroup": "1-(14Z,17Z,20Z,23Z,26Z-dotriacontapentaenoyl)-2-(10Z,13Z,16Z-docosatrienoyl)-sn-glycero-3-phospho-N-hexadecanoyl-ethanolamine/1-(14Z,17Z,20Z,23Z,26Z-dotriacontapentaenoyl)-2-(11Z,14Z,17Z-eicoastrienoyl)-sn-glycero-3-phospho-N-octadecanoyl-ethanolamine/1-(14Z,17Z,20Z,23Z,26Z-dotriacontapentaenoyl)-2-(11Z,14Z-eicosadienoyl)-sn-glycero-3-phospho-N-(11Z-octadecenoyl)-ethanolamine/1-(14Z,17Z,20Z,23Z,26Z-dotriacontapentaenoyl)-2-(11Z,14Z-eicosadienoyl)-sn-glycero-3-phospho-N-(9Z-octadecenoyl)-ethanolamine/1-(14Z,17Z,20Z,23Z,26Z-dotriacontapentaenoyl)-2-(11Z-eicosenoyl)-sn-glycero-3-phospho-N-(9Z,12Z-octadecadienoyl)-ethanolamine/1-(14Z,17Z,20Z,23Z,26Z-dotriacontapentaenoyl)-2-(8Z,11Z,14Z-eicosatrienoyl)-sn-glycero-3-phospho-N-octadecanoyl-ethanolamine/1-(14Z,17Z,20Z,23Z,26Z-dotriacontapentaenoyl)-2-eicosanoyl-sn-glycero-3-phospho-N-(6Z,9Z,12Z-octadecatrienoyl)-ethanolamine/1-(14Z,17Z,20Z,23Z,26Z-dotriacontapentaenoyl)-2-eicosanoyl-sn-glycero-3-phospho-N-(9Z,12Z,15Z-octadecatrienoyl)-ethanolamine_0",
         "line": {
          "color": "#FF97FF",
          "dash": "solid"
         },
         "marker": {
          "symbol": "circle"
         },
         "mode": "lines",
         "name": "1-(14Z,17Z,20Z,23Z,26Z-dotriacontapentaenoyl)-2-(10Z,13Z,16Z-docosatrienoyl)-sn-glycero-3-phospho-N-hexadecanoyl-ethanolamine/1-(14Z,17Z,20Z,23Z,26Z-dotriacontapentaenoyl)-2-(11Z,14Z,17Z-eicoastrienoyl)-sn-glycero-3-phospho-N-octadecanoyl-ethanolamine/1-(14Z,17Z,20Z,23Z,26Z-dotriacontapentaenoyl)-2-(11Z,14Z-eicosadienoyl)-sn-glycero-3-phospho-N-(11Z-octadecenoyl)-ethanolamine/1-(14Z,17Z,20Z,23Z,26Z-dotriacontapentaenoyl)-2-(11Z,14Z-eicosadienoyl)-sn-glycero-3-phospho-N-(9Z-octadecenoyl)-ethanolamine/1-(14Z,17Z,20Z,23Z,26Z-dotriacontapentaenoyl)-2-(11Z-eicosenoyl)-sn-glycero-3-phospho-N-(9Z,12Z-octadecadienoyl)-ethanolamine/1-(14Z,17Z,20Z,23Z,26Z-dotriacontapentaenoyl)-2-(8Z,11Z,14Z-eicosatrienoyl)-sn-glycero-3-phospho-N-octadecanoyl-ethanolamine/1-(14Z,17Z,20Z,23Z,26Z-dotriacontapentaenoyl)-2-eicosanoyl-sn-glycero-3-phospho-N-(6Z,9Z,12Z-octadecatrienoyl)-ethanolamine/1-(14Z,17Z,20Z,23Z,26Z-dotriacontapentaenoyl)-2-eicosanoyl-sn-glycero-3-phospho-N-(9Z,12Z,15Z-octadecatrienoyl)-ethanolamine_0",
         "scene": "scene",
         "showlegend": false,
         "type": "scatter3d",
         "x": [
          1219.949413533229,
          1219.949413533229,
          1219.949413533229,
          1219.949413533229,
          1219.949413533229,
          1220.9527683710292,
          1220.9527683710292,
          1220.9527683710292,
          1220.9527683710292,
          1220.9527683710292
         ],
         "y": [
          8.017999649047852,
          8.732999801635742,
          9.446999549865723,
          10.161999702453613,
          10.87600040435791,
          8.017999649047852,
          8.732999801635742,
          9.446999549865723,
          10.161999702453613,
          10.87600040435791
         ],
         "z": [
          262.8315734863281,
          2555.331787109375,
          2979.399658203125,
          3525.353271484375,
          3345.282470703125,
          142.5588836669922,
          0,
          378.00927734375,
          0,
          0
         ]
        },
        {
         "hovertemplate": "labels=1-(14Z,17Z,20Z,23Z,26Z-dotriacontapentaenoyl)-2-(10Z,13Z,16Z-docosatrienoyl)-sn-glycero-3-phospho-N-hexanoyl-ethanolamine/1-(14Z,17Z,20Z,23Z,26Z-dotriacontapentaenoyl)-2-(11Z,14Z,17Z-eicoastrienoyl)-sn-glycero-3-phospho-N-octanoyl-ethanolamine/1-(14Z,17Z,20Z,23Z,26Z-dotriacontapentaenoyl)-2-(6Z,9Z,12Z-octadecatrienoyl)-sn-glycero-3-phospho-N-decanoyl-ethanolamine/1-(14Z,17Z,20Z,23Z,26Z-dotriacontapentaenoyl)-2-(8Z,11Z,14Z-eicosatrienoyl)-sn-glycero-3-phospho-N-octanoyl-ethanolamine/1-(14Z,17Z,20Z,23Z,26Z-dotriacontapentaenoyl)-2-(9Z,12Z,15Z-octadecatrienoyl)-sn-glycero-3-phospho-N-decanoyl-ethanolamine_0<br>m/z=%{x}<br>rt=%{y}<br>intensity=%{z}<extra></extra>",
         "legendgroup": "1-(14Z,17Z,20Z,23Z,26Z-dotriacontapentaenoyl)-2-(10Z,13Z,16Z-docosatrienoyl)-sn-glycero-3-phospho-N-hexanoyl-ethanolamine/1-(14Z,17Z,20Z,23Z,26Z-dotriacontapentaenoyl)-2-(11Z,14Z,17Z-eicoastrienoyl)-sn-glycero-3-phospho-N-octanoyl-ethanolamine/1-(14Z,17Z,20Z,23Z,26Z-dotriacontapentaenoyl)-2-(6Z,9Z,12Z-octadecatrienoyl)-sn-glycero-3-phospho-N-decanoyl-ethanolamine/1-(14Z,17Z,20Z,23Z,26Z-dotriacontapentaenoyl)-2-(8Z,11Z,14Z-eicosatrienoyl)-sn-glycero-3-phospho-N-octanoyl-ethanolamine/1-(14Z,17Z,20Z,23Z,26Z-dotriacontapentaenoyl)-2-(9Z,12Z,15Z-octadecatrienoyl)-sn-glycero-3-phospho-N-decanoyl-ethanolamine_0",
         "line": {
          "color": "#FECB52",
          "dash": "solid"
         },
         "marker": {
          "symbol": "circle"
         },
         "mode": "lines",
         "name": "1-(14Z,17Z,20Z,23Z,26Z-dotriacontapentaenoyl)-2-(10Z,13Z,16Z-docosatrienoyl)-sn-glycero-3-phospho-N-hexanoyl-ethanolamine/1-(14Z,17Z,20Z,23Z,26Z-dotriacontapentaenoyl)-2-(11Z,14Z,17Z-eicoastrienoyl)-sn-glycero-3-phospho-N-octanoyl-ethanolamine/1-(14Z,17Z,20Z,23Z,26Z-dotriacontapentaenoyl)-2-(6Z,9Z,12Z-octadecatrienoyl)-sn-glycero-3-phospho-N-decanoyl-ethanolamine/1-(14Z,17Z,20Z,23Z,26Z-dotriacontapentaenoyl)-2-(8Z,11Z,14Z-eicosatrienoyl)-sn-glycero-3-phospho-N-octanoyl-ethanolamine/1-(14Z,17Z,20Z,23Z,26Z-dotriacontapentaenoyl)-2-(9Z,12Z,15Z-octadecatrienoyl)-sn-glycero-3-phospho-N-decanoyl-ethanolamine_0",
         "scene": "scene",
         "showlegend": false,
         "type": "scatter3d",
         "x": [
          1079.792913533229,
          1079.792913533229,
          1079.792913533229,
          1080.796268371029,
          1080.796268371029,
          1080.796268371029
         ],
         "y": [
          5.160999774932861,
          5.875,
          6.590000152587891,
          5.160999774932861,
          5.875,
          6.590000152587891
         ],
         "z": [
          0,
          7.006883144378662,
          0,
          0,
          69.0969467163086,
          0
         ]
        },
        {
         "hovertemplate": "labels=1-(14Z,17Z,20Z,23Z,26Z-dotriacontapentaenoyl)-2-(10Z,13Z,16Z-docosatrienoyl)-sn-glycero-3-phospho-N-octadecanoyl-ethanolamine/1-(14Z,17Z,20Z,23Z,26Z-dotriacontapentaenoyl)-2-(13Z,16Z-docosadienoyl)-sn-glycero-3-phospho-N-(11Z-octadecenoyl)-ethanolamine/1-(14Z,17Z,20Z,23Z,26Z-dotriacontapentaenoyl)-2-(13Z,16Z-docosadienoyl)-sn-glycero-3-phospho-N-(9Z-octadecenoyl)-ethanolamine/1-(14Z,17Z,20Z,23Z,26Z-dotriacontapentaenoyl)-2-(13Z-docosenoyl)-sn-glycero-3-phospho-N-(9Z,12Z-octadecadienoyl)-ethanolamine/1-(14Z,17Z,20Z,23Z,26Z-dotriacontapentaenoyl)-2-docosanoyl-sn-glycero-3-phospho-N-(6Z,9Z,12Z-octadecatrienoyl)-ethanolamine/1-(14Z,17Z,20Z,23Z,26Z-dotriacontapentaenoyl)-2-docosanoyl-sn-glycero-3-phospho-N-(9Z,12Z,15Z-octadecatrienoyl)-ethanolamine_0<br>m/z=%{x}<br>rt=%{y}<br>intensity=%{z}<extra></extra>",
         "legendgroup": "1-(14Z,17Z,20Z,23Z,26Z-dotriacontapentaenoyl)-2-(10Z,13Z,16Z-docosatrienoyl)-sn-glycero-3-phospho-N-octadecanoyl-ethanolamine/1-(14Z,17Z,20Z,23Z,26Z-dotriacontapentaenoyl)-2-(13Z,16Z-docosadienoyl)-sn-glycero-3-phospho-N-(11Z-octadecenoyl)-ethanolamine/1-(14Z,17Z,20Z,23Z,26Z-dotriacontapentaenoyl)-2-(13Z,16Z-docosadienoyl)-sn-glycero-3-phospho-N-(9Z-octadecenoyl)-ethanolamine/1-(14Z,17Z,20Z,23Z,26Z-dotriacontapentaenoyl)-2-(13Z-docosenoyl)-sn-glycero-3-phospho-N-(9Z,12Z-octadecadienoyl)-ethanolamine/1-(14Z,17Z,20Z,23Z,26Z-dotriacontapentaenoyl)-2-docosanoyl-sn-glycero-3-phospho-N-(6Z,9Z,12Z-octadecatrienoyl)-ethanolamine/1-(14Z,17Z,20Z,23Z,26Z-dotriacontapentaenoyl)-2-docosanoyl-sn-glycero-3-phospho-N-(9Z,12Z,15Z-octadecatrienoyl)-ethanolamine_0",
         "line": {
          "color": "#636efa",
          "dash": "solid"
         },
         "marker": {
          "symbol": "circle"
         },
         "mode": "lines",
         "name": "1-(14Z,17Z,20Z,23Z,26Z-dotriacontapentaenoyl)-2-(10Z,13Z,16Z-docosatrienoyl)-sn-glycero-3-phospho-N-octadecanoyl-ethanolamine/1-(14Z,17Z,20Z,23Z,26Z-dotriacontapentaenoyl)-2-(13Z,16Z-docosadienoyl)-sn-glycero-3-phospho-N-(11Z-octadecenoyl)-ethanolamine/1-(14Z,17Z,20Z,23Z,26Z-dotriacontapentaenoyl)-2-(13Z,16Z-docosadienoyl)-sn-glycero-3-phospho-N-(9Z-octadecenoyl)-ethanolamine/1-(14Z,17Z,20Z,23Z,26Z-dotriacontapentaenoyl)-2-(13Z-docosenoyl)-sn-glycero-3-phospho-N-(9Z,12Z-octadecadienoyl)-ethanolamine/1-(14Z,17Z,20Z,23Z,26Z-dotriacontapentaenoyl)-2-docosanoyl-sn-glycero-3-phospho-N-(6Z,9Z,12Z-octadecatrienoyl)-ethanolamine/1-(14Z,17Z,20Z,23Z,26Z-dotriacontapentaenoyl)-2-docosanoyl-sn-glycero-3-phospho-N-(9Z,12Z,15Z-octadecatrienoyl)-ethanolamine_0",
         "scene": "scene",
         "showlegend": false,
         "type": "scatter3d",
         "x": [
          1247.9807235332291,
          1247.9807235332291,
          1247.9807235332291,
          1247.9807235332291,
          1247.9807235332291,
          1248.9840783710292,
          1248.9840783710292,
          1248.9840783710292,
          1248.9840783710292,
          1248.9840783710292
         ],
         "y": [
          8.017999649047852,
          8.732999801635742,
          9.446999549865723,
          10.161999702453613,
          10.87600040435791,
          8.017999649047852,
          8.732999801635742,
          9.446999549865723,
          10.161999702453613,
          10.87600040435791
         ],
         "z": [
          0,
          0,
          0,
          0,
          0,
          16.44577407836914,
          480.36907958984375,
          688.1152954101562,
          224.52743530273438,
          0
         ]
        },
        {
         "hovertemplate": "labels=1-(14Z,17Z,20Z,23Z,26Z-dotriacontapentaenoyl)-2-(10Z,13Z,16Z-docosatrienoyl)-sn-glycero-3-phospho-N-octanoyl-ethanolamine/1-(14Z,17Z,20Z,23Z,26Z-dotriacontapentaenoyl)-2-(11Z,14Z,17Z-eicoastrienoyl)-sn-glycero-3-phospho-N-decanoyl-ethanolamine/1-(14Z,17Z,20Z,23Z,26Z-dotriacontapentaenoyl)-2-(6Z,9Z,12Z-octadecatrienoyl)-sn-glycero-3-phospho-N-dodecanoyl-ethanolamine/1-(14Z,17Z,20Z,23Z,26Z-dotriacontapentaenoyl)-2-(8Z,11Z,14Z-eicosatrienoyl)-sn-glycero-3-phospho-N-decanoyl-ethanolamine/1-(14Z,17Z,20Z,23Z,26Z-dotriacontapentaenoyl)-2-(9Z,12Z,15Z-octadecatrienoyl)-sn-glycero-3-phospho-N-dodecanoyl-ethanolamine_0<br>m/z=%{x}<br>rt=%{y}<br>intensity=%{z}<extra></extra>",
         "legendgroup": "1-(14Z,17Z,20Z,23Z,26Z-dotriacontapentaenoyl)-2-(10Z,13Z,16Z-docosatrienoyl)-sn-glycero-3-phospho-N-octanoyl-ethanolamine/1-(14Z,17Z,20Z,23Z,26Z-dotriacontapentaenoyl)-2-(11Z,14Z,17Z-eicoastrienoyl)-sn-glycero-3-phospho-N-decanoyl-ethanolamine/1-(14Z,17Z,20Z,23Z,26Z-dotriacontapentaenoyl)-2-(6Z,9Z,12Z-octadecatrienoyl)-sn-glycero-3-phospho-N-dodecanoyl-ethanolamine/1-(14Z,17Z,20Z,23Z,26Z-dotriacontapentaenoyl)-2-(8Z,11Z,14Z-eicosatrienoyl)-sn-glycero-3-phospho-N-decanoyl-ethanolamine/1-(14Z,17Z,20Z,23Z,26Z-dotriacontapentaenoyl)-2-(9Z,12Z,15Z-octadecatrienoyl)-sn-glycero-3-phospho-N-dodecanoyl-ethanolamine_0",
         "line": {
          "color": "#EF553B",
          "dash": "solid"
         },
         "marker": {
          "symbol": "circle"
         },
         "mode": "lines",
         "name": "1-(14Z,17Z,20Z,23Z,26Z-dotriacontapentaenoyl)-2-(10Z,13Z,16Z-docosatrienoyl)-sn-glycero-3-phospho-N-octanoyl-ethanolamine/1-(14Z,17Z,20Z,23Z,26Z-dotriacontapentaenoyl)-2-(11Z,14Z,17Z-eicoastrienoyl)-sn-glycero-3-phospho-N-decanoyl-ethanolamine/1-(14Z,17Z,20Z,23Z,26Z-dotriacontapentaenoyl)-2-(6Z,9Z,12Z-octadecatrienoyl)-sn-glycero-3-phospho-N-dodecanoyl-ethanolamine/1-(14Z,17Z,20Z,23Z,26Z-dotriacontapentaenoyl)-2-(8Z,11Z,14Z-eicosatrienoyl)-sn-glycero-3-phospho-N-decanoyl-ethanolamine/1-(14Z,17Z,20Z,23Z,26Z-dotriacontapentaenoyl)-2-(9Z,12Z,15Z-octadecatrienoyl)-sn-glycero-3-phospho-N-dodecanoyl-ethanolamine_0",
         "scene": "scene",
         "showlegend": false,
         "type": "scatter3d",
         "x": [
          1107.824213533229,
          1107.824213533229,
          1108.8275683710292,
          1108.8275683710292
         ],
         "y": [
          5.875,
          6.590000152587891,
          5.875,
          6.590000152587891
         ],
         "z": [
          0,
          95.84934997558594,
          0,
          157.01995849609375
         ]
        },
        {
         "hovertemplate": "labels=1-(14Z,17Z,20Z,23Z,26Z-dotriacontapentaenoyl)-2-(10Z,13Z,16Z-docosatrienoyl)-sn-glycero-3-phospho-N-tetradecanoyl-ethanolamine/1-(14Z,17Z,20Z,23Z,26Z-dotriacontapentaenoyl)-2-(11E-octadecenoyl)-sn-glycero-3-phospho-N-(9Z,12Z-octadecadienoyl)-ethanolamine/1-(14Z,17Z,20Z,23Z,26Z-dotriacontapentaenoyl)-2-(11Z,14Z,17Z-eicoastrienoyl)-sn-glycero-3-phospho-N-hexadecanoyl-ethanolamine/1-(14Z,17Z,20Z,23Z,26Z-dotriacontapentaenoyl)-2-(11Z-octadecenoyl)-sn-glycero-3-phospho-N-(9Z,12Z-octadecadienoyl)-ethanolamine/1-(14Z,17Z,20Z,23Z,26Z-dotriacontapentaenoyl)-2-(6Z,9Z,12Z-octadecatrienoyl)-sn-glycero-3-phospho-N-octadecanoyl-ethanolamine/1-(14Z,17Z,20Z,23Z,26Z-dotriacontapentaenoyl)-2-(6Z-octadecenoyl)-sn-glycero-3-phospho-N-(9Z,12Z-octadecadienoyl)-ethanolamine/1-(14Z,17Z,20Z,23Z,26Z-dotriacontapentaenoyl)-2-(8Z,11Z,14Z-eicosatrienoyl)-sn-glycero-3-phospho-N-hexadecanoyl-ethanolamine/1-(14Z,17Z,20Z,23Z,26Z-dotriacontapentaenoyl)-2-(9Z,11E-octadecadienoyl)-sn-glycero-3-phospho-N-(11Z-octadecenoyl)-ethanolamine/1-(14Z,17Z,20Z,23Z,26Z-dotriacontapentaenoyl)-2-(9Z,11E-octadecadienoyl)-sn-glycero-3-phospho-N-(9Z-octadecenoyl)-ethanolamine/1-(14Z,17Z,20Z,23Z,26Z-dotriacontapentaenoyl)-2-(9Z,12Z,15Z-octadecatrienoyl)-sn-glycero-3-phospho-N-octadecanoyl-ethanolamine/1-(14Z,17Z,20Z,23Z,26Z-dotriacontapentaenoyl)-2-(9Z,12Z-octadecadienoyl)-sn-glycero-3-phospho-N-(11Z-octadecenoyl)-ethanolamine/1-(14Z,17Z,20Z,23Z,26Z-dotriacontapentaenoyl)-2-(9Z,12Z-octadecadienoyl)-sn-glycero-3-phospho-N-(9Z-octadecenoyl)-ethanolamine/1-(14Z,17Z,20Z,23Z,26Z-dotriacontapentaenoyl)-2-(9Z-octadecenoyl)-sn-glycero-3-phospho-N-(9Z,12Z-octadecadienoyl)-ethanolamine/1-(14Z,17Z,20Z,23Z,26Z-dotriacontapentaenoyl)-2-octadecanoyl-sn-glycero-3-phospho-N-(6Z,9Z,12Z-octadecatrienoyl)-ethanolamine/1-(14Z,17Z,20Z,23Z,26Z-dotriacontapentaenoyl)-2-octadecanoyl-sn-glycero-3-phospho-N-(9Z,12Z,15Z-octadecatrienoyl)-ethanolamine_0<br>m/z=%{x}<br>rt=%{y}<br>intensity=%{z}<extra></extra>",
         "legendgroup": "1-(14Z,17Z,20Z,23Z,26Z-dotriacontapentaenoyl)-2-(10Z,13Z,16Z-docosatrienoyl)-sn-glycero-3-phospho-N-tetradecanoyl-ethanolamine/1-(14Z,17Z,20Z,23Z,26Z-dotriacontapentaenoyl)-2-(11E-octadecenoyl)-sn-glycero-3-phospho-N-(9Z,12Z-octadecadienoyl)-ethanolamine/1-(14Z,17Z,20Z,23Z,26Z-dotriacontapentaenoyl)-2-(11Z,14Z,17Z-eicoastrienoyl)-sn-glycero-3-phospho-N-hexadecanoyl-ethanolamine/1-(14Z,17Z,20Z,23Z,26Z-dotriacontapentaenoyl)-2-(11Z-octadecenoyl)-sn-glycero-3-phospho-N-(9Z,12Z-octadecadienoyl)-ethanolamine/1-(14Z,17Z,20Z,23Z,26Z-dotriacontapentaenoyl)-2-(6Z,9Z,12Z-octadecatrienoyl)-sn-glycero-3-phospho-N-octadecanoyl-ethanolamine/1-(14Z,17Z,20Z,23Z,26Z-dotriacontapentaenoyl)-2-(6Z-octadecenoyl)-sn-glycero-3-phospho-N-(9Z,12Z-octadecadienoyl)-ethanolamine/1-(14Z,17Z,20Z,23Z,26Z-dotriacontapentaenoyl)-2-(8Z,11Z,14Z-eicosatrienoyl)-sn-glycero-3-phospho-N-hexadecanoyl-ethanolamine/1-(14Z,17Z,20Z,23Z,26Z-dotriacontapentaenoyl)-2-(9Z,11E-octadecadienoyl)-sn-glycero-3-phospho-N-(11Z-octadecenoyl)-ethanolamine/1-(14Z,17Z,20Z,23Z,26Z-dotriacontapentaenoyl)-2-(9Z,11E-octadecadienoyl)-sn-glycero-3-phospho-N-(9Z-octadecenoyl)-ethanolamine/1-(14Z,17Z,20Z,23Z,26Z-dotriacontapentaenoyl)-2-(9Z,12Z,15Z-octadecatrienoyl)-sn-glycero-3-phospho-N-octadecanoyl-ethanolamine/1-(14Z,17Z,20Z,23Z,26Z-dotriacontapentaenoyl)-2-(9Z,12Z-octadecadienoyl)-sn-glycero-3-phospho-N-(11Z-octadecenoyl)-ethanolamine/1-(14Z,17Z,20Z,23Z,26Z-dotriacontapentaenoyl)-2-(9Z,12Z-octadecadienoyl)-sn-glycero-3-phospho-N-(9Z-octadecenoyl)-ethanolamine/1-(14Z,17Z,20Z,23Z,26Z-dotriacontapentaenoyl)-2-(9Z-octadecenoyl)-sn-glycero-3-phospho-N-(9Z,12Z-octadecadienoyl)-ethanolamine/1-(14Z,17Z,20Z,23Z,26Z-dotriacontapentaenoyl)-2-octadecanoyl-sn-glycero-3-phospho-N-(6Z,9Z,12Z-octadecatrienoyl)-ethanolamine/1-(14Z,17Z,20Z,23Z,26Z-dotriacontapentaenoyl)-2-octadecanoyl-sn-glycero-3-phospho-N-(9Z,12Z,15Z-octadecatrienoyl)-ethanolamine_0",
         "line": {
          "color": "#00cc96",
          "dash": "solid"
         },
         "marker": {
          "symbol": "circle"
         },
         "mode": "lines",
         "name": "1-(14Z,17Z,20Z,23Z,26Z-dotriacontapentaenoyl)-2-(10Z,13Z,16Z-docosatrienoyl)-sn-glycero-3-phospho-N-tetradecanoyl-ethanolamine/1-(14Z,17Z,20Z,23Z,26Z-dotriacontapentaenoyl)-2-(11E-octadecenoyl)-sn-glycero-3-phospho-N-(9Z,12Z-octadecadienoyl)-ethanolamine/1-(14Z,17Z,20Z,23Z,26Z-dotriacontapentaenoyl)-2-(11Z,14Z,17Z-eicoastrienoyl)-sn-glycero-3-phospho-N-hexadecanoyl-ethanolamine/1-(14Z,17Z,20Z,23Z,26Z-dotriacontapentaenoyl)-2-(11Z-octadecenoyl)-sn-glycero-3-phospho-N-(9Z,12Z-octadecadienoyl)-ethanolamine/1-(14Z,17Z,20Z,23Z,26Z-dotriacontapentaenoyl)-2-(6Z,9Z,12Z-octadecatrienoyl)-sn-glycero-3-phospho-N-octadecanoyl-ethanolamine/1-(14Z,17Z,20Z,23Z,26Z-dotriacontapentaenoyl)-2-(6Z-octadecenoyl)-sn-glycero-3-phospho-N-(9Z,12Z-octadecadienoyl)-ethanolamine/1-(14Z,17Z,20Z,23Z,26Z-dotriacontapentaenoyl)-2-(8Z,11Z,14Z-eicosatrienoyl)-sn-glycero-3-phospho-N-hexadecanoyl-ethanolamine/1-(14Z,17Z,20Z,23Z,26Z-dotriacontapentaenoyl)-2-(9Z,11E-octadecadienoyl)-sn-glycero-3-phospho-N-(11Z-octadecenoyl)-ethanolamine/1-(14Z,17Z,20Z,23Z,26Z-dotriacontapentaenoyl)-2-(9Z,11E-octadecadienoyl)-sn-glycero-3-phospho-N-(9Z-octadecenoyl)-ethanolamine/1-(14Z,17Z,20Z,23Z,26Z-dotriacontapentaenoyl)-2-(9Z,12Z,15Z-octadecatrienoyl)-sn-glycero-3-phospho-N-octadecanoyl-ethanolamine/1-(14Z,17Z,20Z,23Z,26Z-dotriacontapentaenoyl)-2-(9Z,12Z-octadecadienoyl)-sn-glycero-3-phospho-N-(11Z-octadecenoyl)-ethanolamine/1-(14Z,17Z,20Z,23Z,26Z-dotriacontapentaenoyl)-2-(9Z,12Z-octadecadienoyl)-sn-glycero-3-phospho-N-(9Z-octadecenoyl)-ethanolamine/1-(14Z,17Z,20Z,23Z,26Z-dotriacontapentaenoyl)-2-(9Z-octadecenoyl)-sn-glycero-3-phospho-N-(9Z,12Z-octadecadienoyl)-ethanolamine/1-(14Z,17Z,20Z,23Z,26Z-dotriacontapentaenoyl)-2-octadecanoyl-sn-glycero-3-phospho-N-(6Z,9Z,12Z-octadecatrienoyl)-ethanolamine/1-(14Z,17Z,20Z,23Z,26Z-dotriacontapentaenoyl)-2-octadecanoyl-sn-glycero-3-phospho-N-(9Z,12Z,15Z-octadecatrienoyl)-ethanolamine_0",
         "scene": "scene",
         "showlegend": false,
         "type": "scatter3d",
         "x": [
          1191.9181135332294,
          1191.9181135332294,
          1191.9181135332294,
          1192.9214683710293,
          1192.9214683710293,
          1192.9214683710293
         ],
         "y": [
          4.446000099182129,
          5.160999774932861,
          5.875,
          4.446000099182129,
          5.160999774932861,
          5.875
         ],
         "z": [
          0,
          0,
          0,
          71.58370208740234,
          93.80133056640625,
          0
         ]
        },
        {
         "hovertemplate": "labels=1-(14Z,17Z,20Z,23Z,26Z-dotriacontapentaenoyl)-2-(11-methyldodecanoyl)-sn-glycero-3-phospho-N-(11Z-octadecenoyl)-ethanolamine/1-(14Z,17Z,20Z,23Z,26Z-dotriacontapentaenoyl)-2-(11-methyldodecanoyl)-sn-glycero-3-phospho-N-(9Z-octadecenoyl)-ethanolamine_0<br>m/z=%{x}<br>rt=%{y}<br>intensity=%{z}<extra></extra>",
         "legendgroup": "1-(14Z,17Z,20Z,23Z,26Z-dotriacontapentaenoyl)-2-(11-methyldodecanoyl)-sn-glycero-3-phospho-N-(11Z-octadecenoyl)-ethanolamine/1-(14Z,17Z,20Z,23Z,26Z-dotriacontapentaenoyl)-2-(11-methyldodecanoyl)-sn-glycero-3-phospho-N-(9Z-octadecenoyl)-ethanolamine_0",
         "line": {
          "color": "#ab63fa",
          "dash": "solid"
         },
         "marker": {
          "symbol": "circle"
         },
         "mode": "lines",
         "name": "1-(14Z,17Z,20Z,23Z,26Z-dotriacontapentaenoyl)-2-(11-methyldodecanoyl)-sn-glycero-3-phospho-N-(11Z-octadecenoyl)-ethanolamine/1-(14Z,17Z,20Z,23Z,26Z-dotriacontapentaenoyl)-2-(11-methyldodecanoyl)-sn-glycero-3-phospho-N-(9Z-octadecenoyl)-ethanolamine_0",
         "scene": "scene",
         "showlegend": false,
         "type": "scatter3d",
         "x": [
          1125.871163533229,
          1125.871163533229,
          1125.871163533229,
          1126.8745183710291,
          1126.8745183710291,
          1126.8745183710291
         ],
         "y": [
          5.875,
          6.590000152587891,
          7.303999900817871,
          5.875,
          6.590000152587891,
          7.303999900817871
         ],
         "z": [
          0,
          330.18817138671875,
          0,
          88.7421646118164,
          0,
          0
         ]
        },
        {
         "hovertemplate": "labels=1-(14Z,17Z,20Z,23Z,26Z-dotriacontapentaenoyl)-2-(11-methyldodecanoyl)-sn-glycero-3-phospho-N-(4Z,7Z,10Z,13Z,16Z,19Z-docosahexaenoyl)-ethanolamine_0<br>m/z=%{x}<br>rt=%{y}<br>intensity=%{z}<extra></extra>",
         "legendgroup": "1-(14Z,17Z,20Z,23Z,26Z-dotriacontapentaenoyl)-2-(11-methyldodecanoyl)-sn-glycero-3-phospho-N-(4Z,7Z,10Z,13Z,16Z,19Z-docosahexaenoyl)-ethanolamine_0",
         "line": {
          "color": "#FFA15A",
          "dash": "solid"
         },
         "marker": {
          "symbol": "circle"
         },
         "mode": "lines",
         "name": "1-(14Z,17Z,20Z,23Z,26Z-dotriacontapentaenoyl)-2-(11-methyldodecanoyl)-sn-glycero-3-phospho-N-(4Z,7Z,10Z,13Z,16Z,19Z-docosahexaenoyl)-ethanolamine_0",
         "scene": "scene",
         "showlegend": false,
         "type": "scatter3d",
         "x": [
          1171.855513533229,
          1171.855513533229,
          1171.855513533229,
          1172.858868371029,
          1172.858868371029,
          1172.858868371029
         ],
         "y": [
          9.446999549865723,
          10.161999702453613,
          10.87600040435791,
          9.446999549865723,
          10.161999702453613,
          10.87600040435791
         ],
         "z": [
          0,
          320.87371826171875,
          0,
          0,
          201.09996032714844,
          1000.3157958984375
         ]
        },
        {
         "hovertemplate": "labels=1-(14Z,17Z,20Z,23Z,26Z-dotriacontapentaenoyl)-2-(11-methyldodecanoyl)-sn-glycero-3-phospho-N-(5Z,8Z,11Z,14Z-eicosatetraenoyl)-ethanolamine_0<br>m/z=%{x}<br>rt=%{y}<br>intensity=%{z}<extra></extra>",
         "legendgroup": "1-(14Z,17Z,20Z,23Z,26Z-dotriacontapentaenoyl)-2-(11-methyldodecanoyl)-sn-glycero-3-phospho-N-(5Z,8Z,11Z,14Z-eicosatetraenoyl)-ethanolamine_0",
         "line": {
          "color": "#19d3f3",
          "dash": "solid"
         },
         "marker": {
          "symbol": "circle"
         },
         "mode": "lines",
         "name": "1-(14Z,17Z,20Z,23Z,26Z-dotriacontapentaenoyl)-2-(11-methyldodecanoyl)-sn-glycero-3-phospho-N-(5Z,8Z,11Z,14Z-eicosatetraenoyl)-ethanolamine_0",
         "scene": "scene",
         "showlegend": false,
         "type": "scatter3d",
         "x": [
          1147.855513533229,
          1147.855513533229,
          1148.858868371029,
          1148.858868371029
         ],
         "y": [
          10.161999702453613,
          10.87600040435791,
          10.161999702453613,
          10.87600040435791
         ],
         "z": [
          0,
          526.332275390625,
          353.509765625,
          0
         ]
        },
        {
         "hovertemplate": "labels=1-(14Z,17Z,20Z,23Z,26Z-dotriacontapentaenoyl)-2-(11-methyldodecanoyl)-sn-glycero-3-phospho-N-(6Z,9Z,12Z-octadecatrienoyl)-ethanolamine/1-(14Z,17Z,20Z,23Z,26Z-dotriacontapentaenoyl)-2-(11-methyldodecanoyl)-sn-glycero-3-phospho-N-(9Z,12Z,15Z-octadecatrienoyl)-ethanolamine_0<br>m/z=%{x}<br>rt=%{y}<br>intensity=%{z}<extra></extra>",
         "legendgroup": "1-(14Z,17Z,20Z,23Z,26Z-dotriacontapentaenoyl)-2-(11-methyldodecanoyl)-sn-glycero-3-phospho-N-(6Z,9Z,12Z-octadecatrienoyl)-ethanolamine/1-(14Z,17Z,20Z,23Z,26Z-dotriacontapentaenoyl)-2-(11-methyldodecanoyl)-sn-glycero-3-phospho-N-(9Z,12Z,15Z-octadecatrienoyl)-ethanolamine_0",
         "line": {
          "color": "#FF6692",
          "dash": "solid"
         },
         "marker": {
          "symbol": "circle"
         },
         "mode": "lines",
         "name": "1-(14Z,17Z,20Z,23Z,26Z-dotriacontapentaenoyl)-2-(11-methyldodecanoyl)-sn-glycero-3-phospho-N-(6Z,9Z,12Z-octadecatrienoyl)-ethanolamine/1-(14Z,17Z,20Z,23Z,26Z-dotriacontapentaenoyl)-2-(11-methyldodecanoyl)-sn-glycero-3-phospho-N-(9Z,12Z,15Z-octadecatrienoyl)-ethanolamine_0",
         "scene": "scene",
         "showlegend": false,
         "type": "scatter3d",
         "x": [
          1121.8398635332292,
          1121.8398635332292,
          1122.8432183710293,
          1122.8432183710293
         ],
         "y": [
          8.017999649047852,
          8.732999801635742,
          8.017999649047852,
          8.732999801635742
         ],
         "z": [
          0,
          322.0439453125,
          157.685791015625,
          215.56707763671875
         ]
        },
        {
         "hovertemplate": "labels=1-(14Z,17Z,20Z,23Z,26Z-dotriacontapentaenoyl)-2-(11-methyldodecanoyl)-sn-glycero-3-phospho-N-(9Z,12Z-octadecadienoyl)-ethanolamine_0<br>m/z=%{x}<br>rt=%{y}<br>intensity=%{z}<extra></extra>",
         "legendgroup": "1-(14Z,17Z,20Z,23Z,26Z-dotriacontapentaenoyl)-2-(11-methyldodecanoyl)-sn-glycero-3-phospho-N-(9Z,12Z-octadecadienoyl)-ethanolamine_0",
         "line": {
          "color": "#B6E880",
          "dash": "solid"
         },
         "marker": {
          "symbol": "circle"
         },
         "mode": "lines",
         "name": "1-(14Z,17Z,20Z,23Z,26Z-dotriacontapentaenoyl)-2-(11-methyldodecanoyl)-sn-glycero-3-phospho-N-(9Z,12Z-octadecadienoyl)-ethanolamine_0",
         "scene": "scene",
         "showlegend": false,
         "type": "scatter3d",
         "x": [
          1123.855513533229,
          1123.855513533229,
          1123.855513533229,
          1123.855513533229,
          1123.855513533229,
          1124.858868371029,
          1124.858868371029,
          1124.858868371029,
          1124.858868371029,
          1124.858868371029
         ],
         "y": [
          9.446999549865723,
          10.161999702453613,
          10.87600040435791,
          11.590999603271484,
          12.305000305175781,
          9.446999549865723,
          10.161999702453613,
          10.87600040435791,
          11.590999603271484,
          12.305000305175781
         ],
         "z": [
          117.3879623413086,
          375.846923828125,
          474.98052978515625,
          0,
          0,
          0,
          161.4609375,
          766.0552978515625,
          943.0267944335938,
          0
         ]
        },
        {
         "hovertemplate": "labels=1-(14Z,17Z,20Z,23Z,26Z-dotriacontapentaenoyl)-2-(11-methyldodecanoyl)-sn-glycero-3-phospho-N-decanoyl-ethanolamine/1-(14Z,17Z,20Z,23Z,26Z-dotriacontapentaenoyl)-2-(13-methyltetradecanoyl)-sn-glycero-3-phospho-N-octanoyl-ethanolamine_0<br>m/z=%{x}<br>rt=%{y}<br>intensity=%{z}<extra></extra>",
         "legendgroup": "1-(14Z,17Z,20Z,23Z,26Z-dotriacontapentaenoyl)-2-(11-methyldodecanoyl)-sn-glycero-3-phospho-N-decanoyl-ethanolamine/1-(14Z,17Z,20Z,23Z,26Z-dotriacontapentaenoyl)-2-(13-methyltetradecanoyl)-sn-glycero-3-phospho-N-octanoyl-ethanolamine_0",
         "line": {
          "color": "#FF97FF",
          "dash": "solid"
         },
         "marker": {
          "symbol": "circle"
         },
         "mode": "lines",
         "name": "1-(14Z,17Z,20Z,23Z,26Z-dotriacontapentaenoyl)-2-(11-methyldodecanoyl)-sn-glycero-3-phospho-N-decanoyl-ethanolamine/1-(14Z,17Z,20Z,23Z,26Z-dotriacontapentaenoyl)-2-(13-methyltetradecanoyl)-sn-glycero-3-phospho-N-octanoyl-ethanolamine_0",
         "scene": "scene",
         "showlegend": false,
         "type": "scatter3d",
         "x": [
          1015.761613533229,
          1015.761613533229,
          1015.761613533229,
          1015.761613533229,
          1016.764968371029,
          1016.764968371029,
          1016.764968371029,
          1016.764968371029
         ],
         "y": [
          8.732999801635742,
          9.446999549865723,
          10.161999702453613,
          10.87600040435791,
          8.732999801635742,
          9.446999549865723,
          10.161999702453613,
          10.87600040435791
         ],
         "z": [
          104.75428771972656,
          0,
          0,
          929.2279663085938,
          111.83122253417969,
          0,
          709.1070556640625,
          737.088134765625
         ]
        },
        {
         "hovertemplate": "labels=1-(14Z,17Z,20Z,23Z,26Z-dotriacontapentaenoyl)-2-(11-methyldodecanoyl)-sn-glycero-3-phospho-N-dodecanoyl-ethanolamine/1-(14Z,17Z,20Z,23Z,26Z-dotriacontapentaenoyl)-2-(13-methyltetradecanoyl)-sn-glycero-3-phospho-N-decanoyl-ethanolamine_0<br>m/z=%{x}<br>rt=%{y}<br>intensity=%{z}<extra></extra>",
         "legendgroup": "1-(14Z,17Z,20Z,23Z,26Z-dotriacontapentaenoyl)-2-(11-methyldodecanoyl)-sn-glycero-3-phospho-N-dodecanoyl-ethanolamine/1-(14Z,17Z,20Z,23Z,26Z-dotriacontapentaenoyl)-2-(13-methyltetradecanoyl)-sn-glycero-3-phospho-N-decanoyl-ethanolamine_0",
         "line": {
          "color": "#FECB52",
          "dash": "solid"
         },
         "marker": {
          "symbol": "circle"
         },
         "mode": "lines",
         "name": "1-(14Z,17Z,20Z,23Z,26Z-dotriacontapentaenoyl)-2-(11-methyldodecanoyl)-sn-glycero-3-phospho-N-dodecanoyl-ethanolamine/1-(14Z,17Z,20Z,23Z,26Z-dotriacontapentaenoyl)-2-(13-methyltetradecanoyl)-sn-glycero-3-phospho-N-decanoyl-ethanolamine_0",
         "scene": "scene",
         "showlegend": false,
         "type": "scatter3d",
         "x": [
          1043.792913533229,
          1043.792913533229,
          1044.796268371029,
          1044.796268371029
         ],
         "y": [
          8.732999801635742,
          9.446999549865723,
          8.732999801635742,
          9.446999549865723
         ],
         "z": [
          69.5417709350586,
          140.17498779296875,
          0,
          0
         ]
        },
        {
         "hovertemplate": "labels=1-(14Z,17Z,20Z,23Z,26Z-dotriacontapentaenoyl)-2-(11-methyldodecanoyl)-sn-glycero-3-phospho-N-hexadecanoyl-ethanolamine/1-(14Z,17Z,20Z,23Z,26Z-dotriacontapentaenoyl)-2-(13-methyltetradecanoyl)-sn-glycero-3-phospho-N-tetradecanoyl-ethanolamine_0<br>m/z=%{x}<br>rt=%{y}<br>intensity=%{z}<extra></extra>",
         "legendgroup": "1-(14Z,17Z,20Z,23Z,26Z-dotriacontapentaenoyl)-2-(11-methyldodecanoyl)-sn-glycero-3-phospho-N-hexadecanoyl-ethanolamine/1-(14Z,17Z,20Z,23Z,26Z-dotriacontapentaenoyl)-2-(13-methyltetradecanoyl)-sn-glycero-3-phospho-N-tetradecanoyl-ethanolamine_0",
         "line": {
          "color": "#636efa",
          "dash": "solid"
         },
         "marker": {
          "symbol": "circle"
         },
         "mode": "lines",
         "name": "1-(14Z,17Z,20Z,23Z,26Z-dotriacontapentaenoyl)-2-(11-methyldodecanoyl)-sn-glycero-3-phospho-N-hexadecanoyl-ethanolamine/1-(14Z,17Z,20Z,23Z,26Z-dotriacontapentaenoyl)-2-(13-methyltetradecanoyl)-sn-glycero-3-phospho-N-tetradecanoyl-ethanolamine_0",
         "scene": "scene",
         "showlegend": false,
         "type": "scatter3d",
         "x": [
          1099.855513533229,
          1099.855513533229,
          1099.855513533229,
          1099.855513533229,
          1099.855513533229,
          1100.858868371029,
          1100.858868371029,
          1100.858868371029,
          1100.858868371029,
          1100.858868371029
         ],
         "y": [
          9.446999549865723,
          10.161999702453613,
          10.87600040435791,
          11.590999603271484,
          12.305000305175781,
          9.446999549865723,
          10.161999702453613,
          10.87600040435791,
          11.590999603271484,
          12.305000305175781
         ],
         "z": [
          0,
          373.22674560546875,
          1092.1744384765625,
          422.2060546875,
          0,
          218.79425048828125,
          0,
          0,
          0,
          964.0765991210938
         ]
        },
        {
         "hovertemplate": "labels=1-(14Z,17Z,20Z,23Z,26Z-dotriacontapentaenoyl)-2-(11-methyldodecanoyl)-sn-glycero-3-phospho-N-hexanoyl-ethanolamine_0<br>m/z=%{x}<br>rt=%{y}<br>intensity=%{z}<extra></extra>",
         "legendgroup": "1-(14Z,17Z,20Z,23Z,26Z-dotriacontapentaenoyl)-2-(11-methyldodecanoyl)-sn-glycero-3-phospho-N-hexanoyl-ethanolamine_0",
         "line": {
          "color": "#EF553B",
          "dash": "solid"
         },
         "marker": {
          "symbol": "circle"
         },
         "mode": "lines",
         "name": "1-(14Z,17Z,20Z,23Z,26Z-dotriacontapentaenoyl)-2-(11-methyldodecanoyl)-sn-glycero-3-phospho-N-hexanoyl-ethanolamine_0",
         "scene": "scene",
         "showlegend": false,
         "type": "scatter3d",
         "x": [
          959.6990135332289,
          959.6990135332289,
          959.6990135332289,
          959.6990135332289,
          960.7023683710289,
          960.7023683710289,
          960.7023683710289,
          960.7023683710289
         ],
         "y": [
          5.160999774932861,
          5.875,
          6.590000152587891,
          7.303999900817871,
          5.160999774932861,
          5.875,
          6.590000152587891,
          7.303999900817871
         ],
         "z": [
          307.55523681640625,
          0,
          0,
          313.009521484375,
          105.04776000976562,
          92.81082916259766,
          231.9341583251953,
          249.58961486816406
         ]
        },
        {
         "hovertemplate": "labels=1-(14Z,17Z,20Z,23Z,26Z-dotriacontapentaenoyl)-2-(11-methyldodecanoyl)-sn-glycero-3-phospho-N-octadecanoyl-ethanolamine/1-(14Z,17Z,20Z,23Z,26Z-dotriacontapentaenoyl)-2-(13-methyltetradecanoyl)-sn-glycero-3-phospho-N-hexadecanoyl-ethanolamine_0<br>m/z=%{x}<br>rt=%{y}<br>intensity=%{z}<extra></extra>",
         "legendgroup": "1-(14Z,17Z,20Z,23Z,26Z-dotriacontapentaenoyl)-2-(11-methyldodecanoyl)-sn-glycero-3-phospho-N-octadecanoyl-ethanolamine/1-(14Z,17Z,20Z,23Z,26Z-dotriacontapentaenoyl)-2-(13-methyltetradecanoyl)-sn-glycero-3-phospho-N-hexadecanoyl-ethanolamine_0",
         "line": {
          "color": "#00cc96",
          "dash": "solid"
         },
         "marker": {
          "symbol": "circle"
         },
         "mode": "lines",
         "name": "1-(14Z,17Z,20Z,23Z,26Z-dotriacontapentaenoyl)-2-(11-methyldodecanoyl)-sn-glycero-3-phospho-N-octadecanoyl-ethanolamine/1-(14Z,17Z,20Z,23Z,26Z-dotriacontapentaenoyl)-2-(13-methyltetradecanoyl)-sn-glycero-3-phospho-N-hexadecanoyl-ethanolamine_0",
         "scene": "scene",
         "showlegend": false,
         "type": "scatter3d",
         "x": [
          1127.886813533229,
          1128.8901683710292
         ],
         "y": [
          4.446000099182129,
          4.446000099182129
         ],
         "z": [
          0,
          537.5762329101562
         ]
        },
        {
         "hovertemplate": "labels=1-(14Z,17Z,20Z,23Z,26Z-dotriacontapentaenoyl)-2-(11-methyldodecanoyl)-sn-glycero-3-phospho-N-octanoyl-ethanolamine/1-(14Z,17Z,20Z,23Z,26Z-dotriacontapentaenoyl)-2-(13-methyltetradecanoyl)-sn-glycero-3-phospho-N-hexanoyl-ethanolamine_0<br>m/z=%{x}<br>rt=%{y}<br>intensity=%{z}<extra></extra>",
         "legendgroup": "1-(14Z,17Z,20Z,23Z,26Z-dotriacontapentaenoyl)-2-(11-methyldodecanoyl)-sn-glycero-3-phospho-N-octanoyl-ethanolamine/1-(14Z,17Z,20Z,23Z,26Z-dotriacontapentaenoyl)-2-(13-methyltetradecanoyl)-sn-glycero-3-phospho-N-hexanoyl-ethanolamine_0",
         "line": {
          "color": "#ab63fa",
          "dash": "solid"
         },
         "marker": {
          "symbol": "circle"
         },
         "mode": "lines",
         "name": "1-(14Z,17Z,20Z,23Z,26Z-dotriacontapentaenoyl)-2-(11-methyldodecanoyl)-sn-glycero-3-phospho-N-octanoyl-ethanolamine/1-(14Z,17Z,20Z,23Z,26Z-dotriacontapentaenoyl)-2-(13-methyltetradecanoyl)-sn-glycero-3-phospho-N-hexanoyl-ethanolamine_0",
         "scene": "scene",
         "showlegend": false,
         "type": "scatter3d",
         "x": [
          987.7303135332289,
          987.7303135332289,
          987.7303135332289,
          988.7336683710289,
          988.7336683710289,
          988.7336683710289
         ],
         "y": [
          9.446999549865723,
          10.161999702453613,
          10.87600040435791,
          9.446999549865723,
          10.161999702453613,
          10.87600040435791
         ],
         "z": [
          0,
          401.11456298828125,
          661.4203491210938,
          0,
          0,
          0
         ]
        },
        {
         "hovertemplate": "labels=1-(14Z,17Z,20Z,23Z,26Z-dotriacontapentaenoyl)-2-(11-methyldodecanoyl)-sn-glycero-3-phospho-N-tetradecanoyl-ethanolamine/1-(14Z,17Z,20Z,23Z,26Z-dotriacontapentaenoyl)-2-(13-methyltetradecanoyl)-sn-glycero-3-phospho-N-dodecanoyl-ethanolamine_0<br>m/z=%{x}<br>rt=%{y}<br>intensity=%{z}<extra></extra>",
         "legendgroup": "1-(14Z,17Z,20Z,23Z,26Z-dotriacontapentaenoyl)-2-(11-methyldodecanoyl)-sn-glycero-3-phospho-N-tetradecanoyl-ethanolamine/1-(14Z,17Z,20Z,23Z,26Z-dotriacontapentaenoyl)-2-(13-methyltetradecanoyl)-sn-glycero-3-phospho-N-dodecanoyl-ethanolamine_0",
         "line": {
          "color": "#FFA15A",
          "dash": "solid"
         },
         "marker": {
          "symbol": "circle"
         },
         "mode": "lines",
         "name": "1-(14Z,17Z,20Z,23Z,26Z-dotriacontapentaenoyl)-2-(11-methyldodecanoyl)-sn-glycero-3-phospho-N-tetradecanoyl-ethanolamine/1-(14Z,17Z,20Z,23Z,26Z-dotriacontapentaenoyl)-2-(13-methyltetradecanoyl)-sn-glycero-3-phospho-N-dodecanoyl-ethanolamine_0",
         "scene": "scene",
         "showlegend": false,
         "type": "scatter3d",
         "x": [
          1071.824213533229,
          1071.824213533229,
          1072.8275683710292,
          1072.8275683710292
         ],
         "y": [
          7.303999900817871,
          8.017999649047852,
          7.303999900817871,
          8.017999649047852
         ],
         "z": [
          159.56224060058594,
          229.34072875976562,
          0,
          97.19359588623047
         ]
        },
        {
         "hovertemplate": "labels=1-(14Z,17Z,20Z,23Z,26Z-dotriacontapentaenoyl)-2-(11E-octadecenoyl)-sn-glycero-3-phospho-N-(11Z-octadecenoyl)-ethanolamine/1-(14Z,17Z,20Z,23Z,26Z-dotriacontapentaenoyl)-2-(11E-octadecenoyl)-sn-glycero-3-phospho-N-(9Z-octadecenoyl)-ethanolamine/1-(14Z,17Z,20Z,23Z,26Z-dotriacontapentaenoyl)-2-(11Z,14Z-eicosadienoyl)-sn-glycero-3-phospho-N-hexadecanoyl-ethanolamine/1-(14Z,17Z,20Z,23Z,26Z-dotriacontapentaenoyl)-2-(11Z-octadecenoyl)-sn-glycero-3-phospho-N-(11Z-octadecenoyl)-ethanolamine/1-(14Z,17Z,20Z,23Z,26Z-dotriacontapentaenoyl)-2-(11Z-octadecenoyl)-sn-glycero-3-phospho-N-(9Z-octadecenoyl)-ethanolamine/1-(14Z,17Z,20Z,23Z,26Z-dotriacontapentaenoyl)-2-(13Z,16Z-docosadienoyl)-sn-glycero-3-phospho-N-tetradecanoyl-ethanolamine/1-(14Z,17Z,20Z,23Z,26Z-dotriacontapentaenoyl)-2-(6Z-octadecenoyl)-sn-glycero-3-phospho-N-(11Z-octadecenoyl)-ethanolamine/1-(14Z,17Z,20Z,23Z,26Z-dotriacontapentaenoyl)-2-(6Z-octadecenoyl)-sn-glycero-3-phospho-N-(9Z-octadecenoyl)-ethanolamine/1-(14Z,17Z,20Z,23Z,26Z-dotriacontapentaenoyl)-2-(9Z,11E-octadecadienoyl)-sn-glycero-3-phospho-N-octadecanoyl-ethanolamine/1-(14Z,17Z,20Z,23Z,26Z-dotriacontapentaenoyl)-2-(9Z,12Z-octadecadienoyl)-sn-glycero-3-phospho-N-octadecanoyl-ethanolamine/1-(14Z,17Z,20Z,23Z,26Z-dotriacontapentaenoyl)-2-(9Z-octadecenoyl)-sn-glycero-3-phospho-N-(11Z-octadecenoyl)-ethanolamine/1-(14Z,17Z,20Z,23Z,26Z-dotriacontapentaenoyl)-2-(9Z-octadecenoyl)-sn-glycero-3-phospho-N-(9Z-octadecenoyl)-ethanolamine/1-(14Z,17Z,20Z,23Z,26Z-dotriacontapentaenoyl)-2-octadecanoyl-sn-glycero-3-phospho-N-(9Z,12Z-octadecadienoyl)-ethanolamine_0<br>m/z=%{x}<br>rt=%{y}<br>intensity=%{z}<extra></extra>",
         "legendgroup": "1-(14Z,17Z,20Z,23Z,26Z-dotriacontapentaenoyl)-2-(11E-octadecenoyl)-sn-glycero-3-phospho-N-(11Z-octadecenoyl)-ethanolamine/1-(14Z,17Z,20Z,23Z,26Z-dotriacontapentaenoyl)-2-(11E-octadecenoyl)-sn-glycero-3-phospho-N-(9Z-octadecenoyl)-ethanolamine/1-(14Z,17Z,20Z,23Z,26Z-dotriacontapentaenoyl)-2-(11Z,14Z-eicosadienoyl)-sn-glycero-3-phospho-N-hexadecanoyl-ethanolamine/1-(14Z,17Z,20Z,23Z,26Z-dotriacontapentaenoyl)-2-(11Z-octadecenoyl)-sn-glycero-3-phospho-N-(11Z-octadecenoyl)-ethanolamine/1-(14Z,17Z,20Z,23Z,26Z-dotriacontapentaenoyl)-2-(11Z-octadecenoyl)-sn-glycero-3-phospho-N-(9Z-octadecenoyl)-ethanolamine/1-(14Z,17Z,20Z,23Z,26Z-dotriacontapentaenoyl)-2-(13Z,16Z-docosadienoyl)-sn-glycero-3-phospho-N-tetradecanoyl-ethanolamine/1-(14Z,17Z,20Z,23Z,26Z-dotriacontapentaenoyl)-2-(6Z-octadecenoyl)-sn-glycero-3-phospho-N-(11Z-octadecenoyl)-ethanolamine/1-(14Z,17Z,20Z,23Z,26Z-dotriacontapentaenoyl)-2-(6Z-octadecenoyl)-sn-glycero-3-phospho-N-(9Z-octadecenoyl)-ethanolamine/1-(14Z,17Z,20Z,23Z,26Z-dotriacontapentaenoyl)-2-(9Z,11E-octadecadienoyl)-sn-glycero-3-phospho-N-octadecanoyl-ethanolamine/1-(14Z,17Z,20Z,23Z,26Z-dotriacontapentaenoyl)-2-(9Z,12Z-octadecadienoyl)-sn-glycero-3-phospho-N-octadecanoyl-ethanolamine/1-(14Z,17Z,20Z,23Z,26Z-dotriacontapentaenoyl)-2-(9Z-octadecenoyl)-sn-glycero-3-phospho-N-(11Z-octadecenoyl)-ethanolamine/1-(14Z,17Z,20Z,23Z,26Z-dotriacontapentaenoyl)-2-(9Z-octadecenoyl)-sn-glycero-3-phospho-N-(9Z-octadecenoyl)-ethanolamine/1-(14Z,17Z,20Z,23Z,26Z-dotriacontapentaenoyl)-2-octadecanoyl-sn-glycero-3-phospho-N-(9Z,12Z-octadecadienoyl)-ethanolamine_0",
         "line": {
          "color": "#19d3f3",
          "dash": "solid"
         },
         "marker": {
          "symbol": "circle"
         },
         "mode": "lines",
         "name": "1-(14Z,17Z,20Z,23Z,26Z-dotriacontapentaenoyl)-2-(11E-octadecenoyl)-sn-glycero-3-phospho-N-(11Z-octadecenoyl)-ethanolamine/1-(14Z,17Z,20Z,23Z,26Z-dotriacontapentaenoyl)-2-(11E-octadecenoyl)-sn-glycero-3-phospho-N-(9Z-octadecenoyl)-ethanolamine/1-(14Z,17Z,20Z,23Z,26Z-dotriacontapentaenoyl)-2-(11Z,14Z-eicosadienoyl)-sn-glycero-3-phospho-N-hexadecanoyl-ethanolamine/1-(14Z,17Z,20Z,23Z,26Z-dotriacontapentaenoyl)-2-(11Z-octadecenoyl)-sn-glycero-3-phospho-N-(11Z-octadecenoyl)-ethanolamine/1-(14Z,17Z,20Z,23Z,26Z-dotriacontapentaenoyl)-2-(11Z-octadecenoyl)-sn-glycero-3-phospho-N-(9Z-octadecenoyl)-ethanolamine/1-(14Z,17Z,20Z,23Z,26Z-dotriacontapentaenoyl)-2-(13Z,16Z-docosadienoyl)-sn-glycero-3-phospho-N-tetradecanoyl-ethanolamine/1-(14Z,17Z,20Z,23Z,26Z-dotriacontapentaenoyl)-2-(6Z-octadecenoyl)-sn-glycero-3-phospho-N-(11Z-octadecenoyl)-ethanolamine/1-(14Z,17Z,20Z,23Z,26Z-dotriacontapentaenoyl)-2-(6Z-octadecenoyl)-sn-glycero-3-phospho-N-(9Z-octadecenoyl)-ethanolamine/1-(14Z,17Z,20Z,23Z,26Z-dotriacontapentaenoyl)-2-(9Z,11E-octadecadienoyl)-sn-glycero-3-phospho-N-octadecanoyl-ethanolamine/1-(14Z,17Z,20Z,23Z,26Z-dotriacontapentaenoyl)-2-(9Z,12Z-octadecadienoyl)-sn-glycero-3-phospho-N-octadecanoyl-ethanolamine/1-(14Z,17Z,20Z,23Z,26Z-dotriacontapentaenoyl)-2-(9Z-octadecenoyl)-sn-glycero-3-phospho-N-(11Z-octadecenoyl)-ethanolamine/1-(14Z,17Z,20Z,23Z,26Z-dotriacontapentaenoyl)-2-(9Z-octadecenoyl)-sn-glycero-3-phospho-N-(9Z-octadecenoyl)-ethanolamine/1-(14Z,17Z,20Z,23Z,26Z-dotriacontapentaenoyl)-2-octadecanoyl-sn-glycero-3-phospho-N-(9Z,12Z-octadecadienoyl)-ethanolamine_0",
         "scene": "scene",
         "showlegend": false,
         "type": "scatter3d",
         "x": [
          1193.933763533229,
          1193.933763533229,
          1193.933763533229,
          1193.933763533229,
          1194.937118371029,
          1194.937118371029,
          1194.937118371029,
          1194.937118371029
         ],
         "y": [
          7.303999900817871,
          8.017999649047852,
          8.732999801635742,
          9.446999549865723,
          7.303999900817871,
          8.017999649047852,
          8.732999801635742,
          9.446999549865723
         ],
         "z": [
          225.202880859375,
          560.1369018554688,
          214.97079467773438,
          99.39624786376953,
          0,
          0,
          0,
          0
         ]
        },
        {
         "hovertemplate": "labels=1-(14Z,17Z,20Z,23Z,26Z-dotriacontapentaenoyl)-2-(11E-octadecenoyl)-sn-glycero-3-phospho-N-(4Z,7Z,10Z,13Z,16Z,19Z-docosahexaenoyl)-ethanolamine/1-(14Z,17Z,20Z,23Z,26Z-dotriacontapentaenoyl)-2-(11Z,14Z,17Z-eicoastrienoyl)-sn-glycero-3-phospho-N-(5Z,8Z,11Z,14Z-eicosatetraenoyl)-ethanolamine/1-(14Z,17Z,20Z,23Z,26Z-dotriacontapentaenoyl)-2-(11Z-octadecenoyl)-sn-glycero-3-phospho-N-(4Z,7Z,10Z,13Z,16Z,19Z-docosahexaenoyl)-ethanolamine/1-(14Z,17Z,20Z,23Z,26Z-dotriacontapentaenoyl)-2-(4Z,7Z,10Z,13Z,16Z,19Z-docosahexaenoyl)-sn-glycero-3-phospho-N-(11Z-octadecenoyl)-ethanolamine/1-(14Z,17Z,20Z,23Z,26Z-dotriacontapentaenoyl)-2-(4Z,7Z,10Z,13Z,16Z,19Z-docosahexaenoyl)-sn-glycero-3-phospho-N-(9Z-octadecenoyl)-ethanolamine/1-(14Z,17Z,20Z,23Z,26Z-dotriacontapentaenoyl)-2-(4Z,7Z,10Z,13Z,16Z-docosapentaenoyl)-sn-glycero-3-phospho-N-(9Z,12Z-octadecadienoyl)-ethanolamine/1-(14Z,17Z,20Z,23Z,26Z-dotriacontapentaenoyl)-2-(6Z-octadecenoyl)-sn-glycero-3-phospho-N-(4Z,7Z,10Z,13Z,16Z,19Z-docosahexaenoyl)-ethanolamine/1-(14Z,17Z,20Z,23Z,26Z-dotriacontapentaenoyl)-2-(7Z,10Z,13Z,16Z,19Z-docosapentaenoyl)-sn-glycero-3-phospho-N-(9Z,12Z-octadecadienoyl)-ethanolamine/1-(14Z,17Z,20Z,23Z,26Z-dotriacontapentaenoyl)-2-(7Z,10Z,13Z,16Z-docosatetraenoyl)-sn-glycero-3-phospho-N-(6Z,9Z,12Z-octadecatrienoyl)-ethanolamine/1-(14Z,17Z,20Z,23Z,26Z-dotriacontapentaenoyl)-2-(7Z,10Z,13Z,16Z-docosatetraenoyl)-sn-glycero-3-phospho-N-(9Z,12Z,15Z-octadecatrienoyl)-ethanolamine/1-(14Z,17Z,20Z,23Z,26Z-dotriacontapentaenoyl)-2-(8Z,11Z,14Z-eicosatrienoyl)-sn-glycero-3-phospho-N-(5Z,8Z,11Z,14Z-eicosatetraenoyl)-ethanolamine/1-(14Z,17Z,20Z,23Z,26Z-dotriacontapentaenoyl)-2-(9Z-octadecenoyl)-sn-glycero-3-phospho-N-(4Z,7Z,10Z,13Z,16Z,19Z-docosahexaenoyl)-ethanolamine_0<br>m/z=%{x}<br>rt=%{y}<br>intensity=%{z}<extra></extra>",
         "legendgroup": "1-(14Z,17Z,20Z,23Z,26Z-dotriacontapentaenoyl)-2-(11E-octadecenoyl)-sn-glycero-3-phospho-N-(4Z,7Z,10Z,13Z,16Z,19Z-docosahexaenoyl)-ethanolamine/1-(14Z,17Z,20Z,23Z,26Z-dotriacontapentaenoyl)-2-(11Z,14Z,17Z-eicoastrienoyl)-sn-glycero-3-phospho-N-(5Z,8Z,11Z,14Z-eicosatetraenoyl)-ethanolamine/1-(14Z,17Z,20Z,23Z,26Z-dotriacontapentaenoyl)-2-(11Z-octadecenoyl)-sn-glycero-3-phospho-N-(4Z,7Z,10Z,13Z,16Z,19Z-docosahexaenoyl)-ethanolamine/1-(14Z,17Z,20Z,23Z,26Z-dotriacontapentaenoyl)-2-(4Z,7Z,10Z,13Z,16Z,19Z-docosahexaenoyl)-sn-glycero-3-phospho-N-(11Z-octadecenoyl)-ethanolamine/1-(14Z,17Z,20Z,23Z,26Z-dotriacontapentaenoyl)-2-(4Z,7Z,10Z,13Z,16Z,19Z-docosahexaenoyl)-sn-glycero-3-phospho-N-(9Z-octadecenoyl)-ethanolamine/1-(14Z,17Z,20Z,23Z,26Z-dotriacontapentaenoyl)-2-(4Z,7Z,10Z,13Z,16Z-docosapentaenoyl)-sn-glycero-3-phospho-N-(9Z,12Z-octadecadienoyl)-ethanolamine/1-(14Z,17Z,20Z,23Z,26Z-dotriacontapentaenoyl)-2-(6Z-octadecenoyl)-sn-glycero-3-phospho-N-(4Z,7Z,10Z,13Z,16Z,19Z-docosahexaenoyl)-ethanolamine/1-(14Z,17Z,20Z,23Z,26Z-dotriacontapentaenoyl)-2-(7Z,10Z,13Z,16Z,19Z-docosapentaenoyl)-sn-glycero-3-phospho-N-(9Z,12Z-octadecadienoyl)-ethanolamine/1-(14Z,17Z,20Z,23Z,26Z-dotriacontapentaenoyl)-2-(7Z,10Z,13Z,16Z-docosatetraenoyl)-sn-glycero-3-phospho-N-(6Z,9Z,12Z-octadecatrienoyl)-ethanolamine/1-(14Z,17Z,20Z,23Z,26Z-dotriacontapentaenoyl)-2-(7Z,10Z,13Z,16Z-docosatetraenoyl)-sn-glycero-3-phospho-N-(9Z,12Z,15Z-octadecatrienoyl)-ethanolamine/1-(14Z,17Z,20Z,23Z,26Z-dotriacontapentaenoyl)-2-(8Z,11Z,14Z-eicosatrienoyl)-sn-glycero-3-phospho-N-(5Z,8Z,11Z,14Z-eicosatetraenoyl)-ethanolamine/1-(14Z,17Z,20Z,23Z,26Z-dotriacontapentaenoyl)-2-(9Z-octadecenoyl)-sn-glycero-3-phospho-N-(4Z,7Z,10Z,13Z,16Z,19Z-docosahexaenoyl)-ethanolamine_0",
         "line": {
          "color": "#FF6692",
          "dash": "solid"
         },
         "marker": {
          "symbol": "circle"
         },
         "mode": "lines",
         "name": "1-(14Z,17Z,20Z,23Z,26Z-dotriacontapentaenoyl)-2-(11E-octadecenoyl)-sn-glycero-3-phospho-N-(4Z,7Z,10Z,13Z,16Z,19Z-docosahexaenoyl)-ethanolamine/1-(14Z,17Z,20Z,23Z,26Z-dotriacontapentaenoyl)-2-(11Z,14Z,17Z-eicoastrienoyl)-sn-glycero-3-phospho-N-(5Z,8Z,11Z,14Z-eicosatetraenoyl)-ethanolamine/1-(14Z,17Z,20Z,23Z,26Z-dotriacontapentaenoyl)-2-(11Z-octadecenoyl)-sn-glycero-3-phospho-N-(4Z,7Z,10Z,13Z,16Z,19Z-docosahexaenoyl)-ethanolamine/1-(14Z,17Z,20Z,23Z,26Z-dotriacontapentaenoyl)-2-(4Z,7Z,10Z,13Z,16Z,19Z-docosahexaenoyl)-sn-glycero-3-phospho-N-(11Z-octadecenoyl)-ethanolamine/1-(14Z,17Z,20Z,23Z,26Z-dotriacontapentaenoyl)-2-(4Z,7Z,10Z,13Z,16Z,19Z-docosahexaenoyl)-sn-glycero-3-phospho-N-(9Z-octadecenoyl)-ethanolamine/1-(14Z,17Z,20Z,23Z,26Z-dotriacontapentaenoyl)-2-(4Z,7Z,10Z,13Z,16Z-docosapentaenoyl)-sn-glycero-3-phospho-N-(9Z,12Z-octadecadienoyl)-ethanolamine/1-(14Z,17Z,20Z,23Z,26Z-dotriacontapentaenoyl)-2-(6Z-octadecenoyl)-sn-glycero-3-phospho-N-(4Z,7Z,10Z,13Z,16Z,19Z-docosahexaenoyl)-ethanolamine/1-(14Z,17Z,20Z,23Z,26Z-dotriacontapentaenoyl)-2-(7Z,10Z,13Z,16Z,19Z-docosapentaenoyl)-sn-glycero-3-phospho-N-(9Z,12Z-octadecadienoyl)-ethanolamine/1-(14Z,17Z,20Z,23Z,26Z-dotriacontapentaenoyl)-2-(7Z,10Z,13Z,16Z-docosatetraenoyl)-sn-glycero-3-phospho-N-(6Z,9Z,12Z-octadecatrienoyl)-ethanolamine/1-(14Z,17Z,20Z,23Z,26Z-dotriacontapentaenoyl)-2-(7Z,10Z,13Z,16Z-docosatetraenoyl)-sn-glycero-3-phospho-N-(9Z,12Z,15Z-octadecatrienoyl)-ethanolamine/1-(14Z,17Z,20Z,23Z,26Z-dotriacontapentaenoyl)-2-(8Z,11Z,14Z-eicosatrienoyl)-sn-glycero-3-phospho-N-(5Z,8Z,11Z,14Z-eicosatetraenoyl)-ethanolamine/1-(14Z,17Z,20Z,23Z,26Z-dotriacontapentaenoyl)-2-(9Z-octadecenoyl)-sn-glycero-3-phospho-N-(4Z,7Z,10Z,13Z,16Z,19Z-docosahexaenoyl)-ethanolamine_0",
         "scene": "scene",
         "showlegend": false,
         "type": "scatter3d",
         "x": [
          1239.9181135332294,
          1239.9181135332294,
          1239.9181135332294,
          1240.9214683710293,
          1240.9214683710293,
          1240.9214683710293
         ],
         "y": [
          5.160999774932861,
          5.875,
          6.590000152587891,
          5.160999774932861,
          5.875,
          6.590000152587891
         ],
         "z": [
          48.505638122558594,
          0,
          0,
          0,
          730.2101440429688,
          55.3448371887207
         ]
        },
        {
         "hovertemplate": "labels=1-(14Z,17Z,20Z,23Z,26Z-dotriacontapentaenoyl)-2-(11E-octadecenoyl)-sn-glycero-3-phospho-N-(6Z,9Z,12Z-octadecatrienoyl)-ethanolamine/1-(14Z,17Z,20Z,23Z,26Z-dotriacontapentaenoyl)-2-(11E-octadecenoyl)-sn-glycero-3-phospho-N-(9Z,12Z,15Z-octadecatrienoyl)-ethanolamine/1-(14Z,17Z,20Z,23Z,26Z-dotriacontapentaenoyl)-2-(11Z,14Z,17Z,20Z-hexacosatetraenoyl)-sn-glycero-3-phospho-N-decanoyl-ethanolamine/1-(14Z,17Z,20Z,23Z,26Z-dotriacontapentaenoyl)-2-(11Z-octadecenoyl)-sn-glycero-3-phospho-N-(6Z,9Z,12Z-octadecatrienoyl)-ethanolamine/1-(14Z,17Z,20Z,23Z,26Z-dotriacontapentaenoyl)-2-(11Z-octadecenoyl)-sn-glycero-3-phospho-N-(9Z,12Z,15Z-octadecatrienoyl)-ethanolamine/1-(14Z,17Z,20Z,23Z,26Z-dotriacontapentaenoyl)-2-(13Z,16Z,19Z,22Z-octacosatetraenoyl)-sn-glycero-3-phospho-N-octanoyl-ethanolamine/1-(14Z,17Z,20Z,23Z,26Z-dotriacontapentaenoyl)-2-(15Z,18Z,21Z,24Z-triacontatetraenoyl)-sn-glycero-3-phospho-N-hexanoyl-ethanolamine/1-(14Z,17Z,20Z,23Z,26Z-dotriacontapentaenoyl)-2-(5Z,8Z,11Z,14Z-eicosatetraenoyl)-sn-glycero-3-phospho-N-hexadecanoyl-ethanolamine/1-(14Z,17Z,20Z,23Z,26Z-dotriacontapentaenoyl)-2-(6Z,9Z,12Z,15Z-octadecatetraenoyl)-sn-glycero-3-phospho-N-octadecanoyl-ethanolamine/1-(14Z,17Z,20Z,23Z,26Z-dotriacontapentaenoyl)-2-(6Z,9Z,12Z-octadecatrienoyl)-sn-glycero-3-phospho-N-(11Z-octadecenoyl)-ethanolamine/1-(14Z,17Z,20Z,23Z,26Z-dotriacontapentaenoyl)-2-(6Z,9Z,12Z-octadecatrienoyl)-sn-glycero-3-phospho-N-(9Z-octadecenoyl)-ethanolamine/1-(14Z,17Z,20Z,23Z,26Z-dotriacontapentaenoyl)-2-(6Z-octadecenoyl)-sn-glycero-3-phospho-N-(6Z,9Z,12Z-octadecatrienoyl)-ethanolamine/1-(14Z,17Z,20Z,23Z,26Z-dotriacontapentaenoyl)-2-(6Z-octadecenoyl)-sn-glycero-3-phospho-N-(9Z,12Z,15Z-octadecatrienoyl)-ethanolamine/1-(14Z,17Z,20Z,23Z,26Z-dotriacontapentaenoyl)-2-(7Z,10Z,13Z,16Z-docosatetraenoyl)-sn-glycero-3-phospho-N-tetradecanoyl-ethanolamine/1-(14Z,17Z,20Z,23Z,26Z-dotriacontapentaenoyl)-2-(8Z,11Z,14Z,17Z-eicosatetraenoyl)-sn-glycero-3-phospho-N-hexadecanoyl-ethanolamine/1-(14Z,17Z,20Z,23Z,26Z-dotriacontapentaenoyl)-2-(9Z,11E-octadecadienoyl)-sn-glycero-3-phospho-N-(9Z,12Z-octadecadienoyl)-ethanolamine/1-(14Z,17Z,20Z,23Z,26Z-dotriacontapentaenoyl)-2-(9Z,12Z,15Z,18Z-tetracosatetraenoyl)-sn-glycero-3-phospho-N-dodecanoyl-ethanolamine/1-(14Z,17Z,20Z,23Z,26Z-dotriacontapentaenoyl)-2-(9Z,12Z,15Z-octadecatrienoyl)-sn-glycero-3-phospho-N-(11Z-octadecenoyl)-ethanolamine/1-(14Z,17Z,20Z,23Z,26Z-dotriacontapentaenoyl)-2-(9Z,12Z,15Z-octadecatrienoyl)-sn-glycero-3-phospho-N-(9Z-octadecenoyl)-ethanolamine/1-(14Z,17Z,20Z,23Z,26Z-dotriacontapentaenoyl)-2-(9Z,12Z-octadecadienoyl)-sn-glycero-3-phospho-N-(9Z,12Z-octadecadienoyl)-ethanolamine/1-(14Z,17Z,20Z,23Z,26Z-dotriacontapentaenoyl)-2-(9Z-octadecenoyl)-sn-glycero-3-phospho-N-(6Z,9Z,12Z-octadecatrienoyl)-ethanolamine/1-(14Z,17Z,20Z,23Z,26Z-dotriacontapentaenoyl)-2-(9Z-octadecenoyl)-sn-glycero-3-phospho-N-(9Z,12Z,15Z-octadecatrienoyl)-ethanolamine/1-(14Z,17Z,20Z,23Z,26Z-dotriacontapentaenoyl)-2-hexadecanoyl-sn-glycero-3-phospho-N-(5Z,8Z,11Z,14Z-eicosatetraenoyl)-ethanolamine_0<br>m/z=%{x}<br>rt=%{y}<br>intensity=%{z}<extra></extra>",
         "legendgroup": "1-(14Z,17Z,20Z,23Z,26Z-dotriacontapentaenoyl)-2-(11E-octadecenoyl)-sn-glycero-3-phospho-N-(6Z,9Z,12Z-octadecatrienoyl)-ethanolamine/1-(14Z,17Z,20Z,23Z,26Z-dotriacontapentaenoyl)-2-(11E-octadecenoyl)-sn-glycero-3-phospho-N-(9Z,12Z,15Z-octadecatrienoyl)-ethanolamine/1-(14Z,17Z,20Z,23Z,26Z-dotriacontapentaenoyl)-2-(11Z,14Z,17Z,20Z-hexacosatetraenoyl)-sn-glycero-3-phospho-N-decanoyl-ethanolamine/1-(14Z,17Z,20Z,23Z,26Z-dotriacontapentaenoyl)-2-(11Z-octadecenoyl)-sn-glycero-3-phospho-N-(6Z,9Z,12Z-octadecatrienoyl)-ethanolamine/1-(14Z,17Z,20Z,23Z,26Z-dotriacontapentaenoyl)-2-(11Z-octadecenoyl)-sn-glycero-3-phospho-N-(9Z,12Z,15Z-octadecatrienoyl)-ethanolamine/1-(14Z,17Z,20Z,23Z,26Z-dotriacontapentaenoyl)-2-(13Z,16Z,19Z,22Z-octacosatetraenoyl)-sn-glycero-3-phospho-N-octanoyl-ethanolamine/1-(14Z,17Z,20Z,23Z,26Z-dotriacontapentaenoyl)-2-(15Z,18Z,21Z,24Z-triacontatetraenoyl)-sn-glycero-3-phospho-N-hexanoyl-ethanolamine/1-(14Z,17Z,20Z,23Z,26Z-dotriacontapentaenoyl)-2-(5Z,8Z,11Z,14Z-eicosatetraenoyl)-sn-glycero-3-phospho-N-hexadecanoyl-ethanolamine/1-(14Z,17Z,20Z,23Z,26Z-dotriacontapentaenoyl)-2-(6Z,9Z,12Z,15Z-octadecatetraenoyl)-sn-glycero-3-phospho-N-octadecanoyl-ethanolamine/1-(14Z,17Z,20Z,23Z,26Z-dotriacontapentaenoyl)-2-(6Z,9Z,12Z-octadecatrienoyl)-sn-glycero-3-phospho-N-(11Z-octadecenoyl)-ethanolamine/1-(14Z,17Z,20Z,23Z,26Z-dotriacontapentaenoyl)-2-(6Z,9Z,12Z-octadecatrienoyl)-sn-glycero-3-phospho-N-(9Z-octadecenoyl)-ethanolamine/1-(14Z,17Z,20Z,23Z,26Z-dotriacontapentaenoyl)-2-(6Z-octadecenoyl)-sn-glycero-3-phospho-N-(6Z,9Z,12Z-octadecatrienoyl)-ethanolamine/1-(14Z,17Z,20Z,23Z,26Z-dotriacontapentaenoyl)-2-(6Z-octadecenoyl)-sn-glycero-3-phospho-N-(9Z,12Z,15Z-octadecatrienoyl)-ethanolamine/1-(14Z,17Z,20Z,23Z,26Z-dotriacontapentaenoyl)-2-(7Z,10Z,13Z,16Z-docosatetraenoyl)-sn-glycero-3-phospho-N-tetradecanoyl-ethanolamine/1-(14Z,17Z,20Z,23Z,26Z-dotriacontapentaenoyl)-2-(8Z,11Z,14Z,17Z-eicosatetraenoyl)-sn-glycero-3-phospho-N-hexadecanoyl-ethanolamine/1-(14Z,17Z,20Z,23Z,26Z-dotriacontapentaenoyl)-2-(9Z,11E-octadecadienoyl)-sn-glycero-3-phospho-N-(9Z,12Z-octadecadienoyl)-ethanolamine/1-(14Z,17Z,20Z,23Z,26Z-dotriacontapentaenoyl)-2-(9Z,12Z,15Z,18Z-tetracosatetraenoyl)-sn-glycero-3-phospho-N-dodecanoyl-ethanolamine/1-(14Z,17Z,20Z,23Z,26Z-dotriacontapentaenoyl)-2-(9Z,12Z,15Z-octadecatrienoyl)-sn-glycero-3-phospho-N-(11Z-octadecenoyl)-ethanolamine/1-(14Z,17Z,20Z,23Z,26Z-dotriacontapentaenoyl)-2-(9Z,12Z,15Z-octadecatrienoyl)-sn-glycero-3-phospho-N-(9Z-octadecenoyl)-ethanolamine/1-(14Z,17Z,20Z,23Z,26Z-dotriacontapentaenoyl)-2-(9Z,12Z-octadecadienoyl)-sn-glycero-3-phospho-N-(9Z,12Z-octadecadienoyl)-ethanolamine/1-(14Z,17Z,20Z,23Z,26Z-dotriacontapentaenoyl)-2-(9Z-octadecenoyl)-sn-glycero-3-phospho-N-(6Z,9Z,12Z-octadecatrienoyl)-ethanolamine/1-(14Z,17Z,20Z,23Z,26Z-dotriacontapentaenoyl)-2-(9Z-octadecenoyl)-sn-glycero-3-phospho-N-(9Z,12Z,15Z-octadecatrienoyl)-ethanolamine/1-(14Z,17Z,20Z,23Z,26Z-dotriacontapentaenoyl)-2-hexadecanoyl-sn-glycero-3-phospho-N-(5Z,8Z,11Z,14Z-eicosatetraenoyl)-ethanolamine_0",
         "line": {
          "color": "#B6E880",
          "dash": "solid"
         },
         "marker": {
          "symbol": "circle"
         },
         "mode": "lines",
         "name": "1-(14Z,17Z,20Z,23Z,26Z-dotriacontapentaenoyl)-2-(11E-octadecenoyl)-sn-glycero-3-phospho-N-(6Z,9Z,12Z-octadecatrienoyl)-ethanolamine/1-(14Z,17Z,20Z,23Z,26Z-dotriacontapentaenoyl)-2-(11E-octadecenoyl)-sn-glycero-3-phospho-N-(9Z,12Z,15Z-octadecatrienoyl)-ethanolamine/1-(14Z,17Z,20Z,23Z,26Z-dotriacontapentaenoyl)-2-(11Z,14Z,17Z,20Z-hexacosatetraenoyl)-sn-glycero-3-phospho-N-decanoyl-ethanolamine/1-(14Z,17Z,20Z,23Z,26Z-dotriacontapentaenoyl)-2-(11Z-octadecenoyl)-sn-glycero-3-phospho-N-(6Z,9Z,12Z-octadecatrienoyl)-ethanolamine/1-(14Z,17Z,20Z,23Z,26Z-dotriacontapentaenoyl)-2-(11Z-octadecenoyl)-sn-glycero-3-phospho-N-(9Z,12Z,15Z-octadecatrienoyl)-ethanolamine/1-(14Z,17Z,20Z,23Z,26Z-dotriacontapentaenoyl)-2-(13Z,16Z,19Z,22Z-octacosatetraenoyl)-sn-glycero-3-phospho-N-octanoyl-ethanolamine/1-(14Z,17Z,20Z,23Z,26Z-dotriacontapentaenoyl)-2-(15Z,18Z,21Z,24Z-triacontatetraenoyl)-sn-glycero-3-phospho-N-hexanoyl-ethanolamine/1-(14Z,17Z,20Z,23Z,26Z-dotriacontapentaenoyl)-2-(5Z,8Z,11Z,14Z-eicosatetraenoyl)-sn-glycero-3-phospho-N-hexadecanoyl-ethanolamine/1-(14Z,17Z,20Z,23Z,26Z-dotriacontapentaenoyl)-2-(6Z,9Z,12Z,15Z-octadecatetraenoyl)-sn-glycero-3-phospho-N-octadecanoyl-ethanolamine/1-(14Z,17Z,20Z,23Z,26Z-dotriacontapentaenoyl)-2-(6Z,9Z,12Z-octadecatrienoyl)-sn-glycero-3-phospho-N-(11Z-octadecenoyl)-ethanolamine/1-(14Z,17Z,20Z,23Z,26Z-dotriacontapentaenoyl)-2-(6Z,9Z,12Z-octadecatrienoyl)-sn-glycero-3-phospho-N-(9Z-octadecenoyl)-ethanolamine/1-(14Z,17Z,20Z,23Z,26Z-dotriacontapentaenoyl)-2-(6Z-octadecenoyl)-sn-glycero-3-phospho-N-(6Z,9Z,12Z-octadecatrienoyl)-ethanolamine/1-(14Z,17Z,20Z,23Z,26Z-dotriacontapentaenoyl)-2-(6Z-octadecenoyl)-sn-glycero-3-phospho-N-(9Z,12Z,15Z-octadecatrienoyl)-ethanolamine/1-(14Z,17Z,20Z,23Z,26Z-dotriacontapentaenoyl)-2-(7Z,10Z,13Z,16Z-docosatetraenoyl)-sn-glycero-3-phospho-N-tetradecanoyl-ethanolamine/1-(14Z,17Z,20Z,23Z,26Z-dotriacontapentaenoyl)-2-(8Z,11Z,14Z,17Z-eicosatetraenoyl)-sn-glycero-3-phospho-N-hexadecanoyl-ethanolamine/1-(14Z,17Z,20Z,23Z,26Z-dotriacontapentaenoyl)-2-(9Z,11E-octadecadienoyl)-sn-glycero-3-phospho-N-(9Z,12Z-octadecadienoyl)-ethanolamine/1-(14Z,17Z,20Z,23Z,26Z-dotriacontapentaenoyl)-2-(9Z,12Z,15Z,18Z-tetracosatetraenoyl)-sn-glycero-3-phospho-N-dodecanoyl-ethanolamine/1-(14Z,17Z,20Z,23Z,26Z-dotriacontapentaenoyl)-2-(9Z,12Z,15Z-octadecatrienoyl)-sn-glycero-3-phospho-N-(11Z-octadecenoyl)-ethanolamine/1-(14Z,17Z,20Z,23Z,26Z-dotriacontapentaenoyl)-2-(9Z,12Z,15Z-octadecatrienoyl)-sn-glycero-3-phospho-N-(9Z-octadecenoyl)-ethanolamine/1-(14Z,17Z,20Z,23Z,26Z-dotriacontapentaenoyl)-2-(9Z,12Z-octadecadienoyl)-sn-glycero-3-phospho-N-(9Z,12Z-octadecadienoyl)-ethanolamine/1-(14Z,17Z,20Z,23Z,26Z-dotriacontapentaenoyl)-2-(9Z-octadecenoyl)-sn-glycero-3-phospho-N-(6Z,9Z,12Z-octadecatrienoyl)-ethanolamine/1-(14Z,17Z,20Z,23Z,26Z-dotriacontapentaenoyl)-2-(9Z-octadecenoyl)-sn-glycero-3-phospho-N-(9Z,12Z,15Z-octadecatrienoyl)-ethanolamine/1-(14Z,17Z,20Z,23Z,26Z-dotriacontapentaenoyl)-2-hexadecanoyl-sn-glycero-3-phospho-N-(5Z,8Z,11Z,14Z-eicosatetraenoyl)-ethanolamine_0",
         "scene": "scene",
         "showlegend": false,
         "type": "scatter3d",
         "x": [
          1189.9024635332291,
          1190.9058183710292
         ],
         "y": [
          4.446000099182129,
          4.446000099182129
         ],
         "z": [
          1012.1885986328125,
          0
         ]
        },
        {
         "hovertemplate": "labels=1-(14Z,17Z,20Z,23Z,26Z-dotriacontapentaenoyl)-2-(11E-octadecenoyl)-sn-glycero-3-phospho-N-decanoyl-ethanolamine/1-(14Z,17Z,20Z,23Z,26Z-dotriacontapentaenoyl)-2-(11Z-eicosenoyl)-sn-glycero-3-phospho-N-octanoyl-ethanolamine/1-(14Z,17Z,20Z,23Z,26Z-dotriacontapentaenoyl)-2-(11Z-octadecenoyl)-sn-glycero-3-phospho-N-decanoyl-ethanolamine/1-(14Z,17Z,20Z,23Z,26Z-dotriacontapentaenoyl)-2-(13Z-docosenoyl)-sn-glycero-3-phospho-N-hexanoyl-ethanolamine/1-(14Z,17Z,20Z,23Z,26Z-dotriacontapentaenoyl)-2-(6Z-hexadecenoyl)-sn-glycero-3-phospho-N-dodecanoyl-ethanolamine/1-(14Z,17Z,20Z,23Z,26Z-dotriacontapentaenoyl)-2-(6Z-octadecenoyl)-sn-glycero-3-phospho-N-decanoyl-ethanolamine/1-(14Z,17Z,20Z,23Z,26Z-dotriacontapentaenoyl)-2-(9Z-hexadecenoyl)-sn-glycero-3-phospho-N-dodecanoyl-ethanolamine/1-(14Z,17Z,20Z,23Z,26Z-dotriacontapentaenoyl)-2-(9Z-octadecenoyl)-sn-glycero-3-phospho-N-decanoyl-ethanolamine_0<br>m/z=%{x}<br>rt=%{y}<br>intensity=%{z}<extra></extra>",
         "legendgroup": "1-(14Z,17Z,20Z,23Z,26Z-dotriacontapentaenoyl)-2-(11E-octadecenoyl)-sn-glycero-3-phospho-N-decanoyl-ethanolamine/1-(14Z,17Z,20Z,23Z,26Z-dotriacontapentaenoyl)-2-(11Z-eicosenoyl)-sn-glycero-3-phospho-N-octanoyl-ethanolamine/1-(14Z,17Z,20Z,23Z,26Z-dotriacontapentaenoyl)-2-(11Z-octadecenoyl)-sn-glycero-3-phospho-N-decanoyl-ethanolamine/1-(14Z,17Z,20Z,23Z,26Z-dotriacontapentaenoyl)-2-(13Z-docosenoyl)-sn-glycero-3-phospho-N-hexanoyl-ethanolamine/1-(14Z,17Z,20Z,23Z,26Z-dotriacontapentaenoyl)-2-(6Z-hexadecenoyl)-sn-glycero-3-phospho-N-dodecanoyl-ethanolamine/1-(14Z,17Z,20Z,23Z,26Z-dotriacontapentaenoyl)-2-(6Z-octadecenoyl)-sn-glycero-3-phospho-N-decanoyl-ethanolamine/1-(14Z,17Z,20Z,23Z,26Z-dotriacontapentaenoyl)-2-(9Z-hexadecenoyl)-sn-glycero-3-phospho-N-dodecanoyl-ethanolamine/1-(14Z,17Z,20Z,23Z,26Z-dotriacontapentaenoyl)-2-(9Z-octadecenoyl)-sn-glycero-3-phospho-N-decanoyl-ethanolamine_0",
         "line": {
          "color": "#FF97FF",
          "dash": "solid"
         },
         "marker": {
          "symbol": "circle"
         },
         "mode": "lines",
         "name": "1-(14Z,17Z,20Z,23Z,26Z-dotriacontapentaenoyl)-2-(11E-octadecenoyl)-sn-glycero-3-phospho-N-decanoyl-ethanolamine/1-(14Z,17Z,20Z,23Z,26Z-dotriacontapentaenoyl)-2-(11Z-eicosenoyl)-sn-glycero-3-phospho-N-octanoyl-ethanolamine/1-(14Z,17Z,20Z,23Z,26Z-dotriacontapentaenoyl)-2-(11Z-octadecenoyl)-sn-glycero-3-phospho-N-decanoyl-ethanolamine/1-(14Z,17Z,20Z,23Z,26Z-dotriacontapentaenoyl)-2-(13Z-docosenoyl)-sn-glycero-3-phospho-N-hexanoyl-ethanolamine/1-(14Z,17Z,20Z,23Z,26Z-dotriacontapentaenoyl)-2-(6Z-hexadecenoyl)-sn-glycero-3-phospho-N-dodecanoyl-ethanolamine/1-(14Z,17Z,20Z,23Z,26Z-dotriacontapentaenoyl)-2-(6Z-octadecenoyl)-sn-glycero-3-phospho-N-decanoyl-ethanolamine/1-(14Z,17Z,20Z,23Z,26Z-dotriacontapentaenoyl)-2-(9Z-hexadecenoyl)-sn-glycero-3-phospho-N-dodecanoyl-ethanolamine/1-(14Z,17Z,20Z,23Z,26Z-dotriacontapentaenoyl)-2-(9Z-octadecenoyl)-sn-glycero-3-phospho-N-decanoyl-ethanolamine_0",
         "scene": "scene",
         "showlegend": false,
         "type": "scatter3d",
         "x": [
          1083.824213533229,
          1083.824213533229,
          1083.824213533229,
          1084.8275683710292,
          1084.8275683710292,
          1084.8275683710292
         ],
         "y": [
          7.303999900817871,
          8.017999649047852,
          8.732999801635742,
          7.303999900817871,
          8.017999649047852,
          8.732999801635742
         ],
         "z": [
          40.43616485595703,
          0,
          366.125244140625,
          0,
          0,
          0
         ]
        },
        {
         "hovertemplate": "labels=1-(14Z,17Z,20Z,23Z,26Z-dotriacontapentaenoyl)-2-(11E-octadecenoyl)-sn-glycero-3-phospho-N-dodecanoyl-ethanolamine/1-(14Z,17Z,20Z,23Z,26Z-dotriacontapentaenoyl)-2-(11Z-eicosenoyl)-sn-glycero-3-phospho-N-decanoyl-ethanolamine/1-(14Z,17Z,20Z,23Z,26Z-dotriacontapentaenoyl)-2-(11Z-octadecenoyl)-sn-glycero-3-phospho-N-dodecanoyl-ethanolamine/1-(14Z,17Z,20Z,23Z,26Z-dotriacontapentaenoyl)-2-(13Z-docosenoyl)-sn-glycero-3-phospho-N-octanoyl-ethanolamine/1-(14Z,17Z,20Z,23Z,26Z-dotriacontapentaenoyl)-2-(15Z-tetracosenoyl)-sn-glycero-3-phospho-N-hexanoyl-ethanolamine/1-(14Z,17Z,20Z,23Z,26Z-dotriacontapentaenoyl)-2-(6Z-hexadecenoyl)-sn-glycero-3-phospho-N-tetradecanoyl-ethanolamine/1-(14Z,17Z,20Z,23Z,26Z-dotriacontapentaenoyl)-2-(6Z-octadecenoyl)-sn-glycero-3-phospho-N-dodecanoyl-ethanolamine/1-(14Z,17Z,20Z,23Z,26Z-dotriacontapentaenoyl)-2-(9Z-hexadecenoyl)-sn-glycero-3-phospho-N-tetradecanoyl-ethanolamine/1-(14Z,17Z,20Z,23Z,26Z-dotriacontapentaenoyl)-2-(9Z-octadecenoyl)-sn-glycero-3-phospho-N-dodecanoyl-ethanolamine_0<br>m/z=%{x}<br>rt=%{y}<br>intensity=%{z}<extra></extra>",
         "legendgroup": "1-(14Z,17Z,20Z,23Z,26Z-dotriacontapentaenoyl)-2-(11E-octadecenoyl)-sn-glycero-3-phospho-N-dodecanoyl-ethanolamine/1-(14Z,17Z,20Z,23Z,26Z-dotriacontapentaenoyl)-2-(11Z-eicosenoyl)-sn-glycero-3-phospho-N-decanoyl-ethanolamine/1-(14Z,17Z,20Z,23Z,26Z-dotriacontapentaenoyl)-2-(11Z-octadecenoyl)-sn-glycero-3-phospho-N-dodecanoyl-ethanolamine/1-(14Z,17Z,20Z,23Z,26Z-dotriacontapentaenoyl)-2-(13Z-docosenoyl)-sn-glycero-3-phospho-N-octanoyl-ethanolamine/1-(14Z,17Z,20Z,23Z,26Z-dotriacontapentaenoyl)-2-(15Z-tetracosenoyl)-sn-glycero-3-phospho-N-hexanoyl-ethanolamine/1-(14Z,17Z,20Z,23Z,26Z-dotriacontapentaenoyl)-2-(6Z-hexadecenoyl)-sn-glycero-3-phospho-N-tetradecanoyl-ethanolamine/1-(14Z,17Z,20Z,23Z,26Z-dotriacontapentaenoyl)-2-(6Z-octadecenoyl)-sn-glycero-3-phospho-N-dodecanoyl-ethanolamine/1-(14Z,17Z,20Z,23Z,26Z-dotriacontapentaenoyl)-2-(9Z-hexadecenoyl)-sn-glycero-3-phospho-N-tetradecanoyl-ethanolamine/1-(14Z,17Z,20Z,23Z,26Z-dotriacontapentaenoyl)-2-(9Z-octadecenoyl)-sn-glycero-3-phospho-N-dodecanoyl-ethanolamine_0",
         "line": {
          "color": "#FECB52",
          "dash": "solid"
         },
         "marker": {
          "symbol": "circle"
         },
         "mode": "lines",
         "name": "1-(14Z,17Z,20Z,23Z,26Z-dotriacontapentaenoyl)-2-(11E-octadecenoyl)-sn-glycero-3-phospho-N-dodecanoyl-ethanolamine/1-(14Z,17Z,20Z,23Z,26Z-dotriacontapentaenoyl)-2-(11Z-eicosenoyl)-sn-glycero-3-phospho-N-decanoyl-ethanolamine/1-(14Z,17Z,20Z,23Z,26Z-dotriacontapentaenoyl)-2-(11Z-octadecenoyl)-sn-glycero-3-phospho-N-dodecanoyl-ethanolamine/1-(14Z,17Z,20Z,23Z,26Z-dotriacontapentaenoyl)-2-(13Z-docosenoyl)-sn-glycero-3-phospho-N-octanoyl-ethanolamine/1-(14Z,17Z,20Z,23Z,26Z-dotriacontapentaenoyl)-2-(15Z-tetracosenoyl)-sn-glycero-3-phospho-N-hexanoyl-ethanolamine/1-(14Z,17Z,20Z,23Z,26Z-dotriacontapentaenoyl)-2-(6Z-hexadecenoyl)-sn-glycero-3-phospho-N-tetradecanoyl-ethanolamine/1-(14Z,17Z,20Z,23Z,26Z-dotriacontapentaenoyl)-2-(6Z-octadecenoyl)-sn-glycero-3-phospho-N-dodecanoyl-ethanolamine/1-(14Z,17Z,20Z,23Z,26Z-dotriacontapentaenoyl)-2-(9Z-hexadecenoyl)-sn-glycero-3-phospho-N-tetradecanoyl-ethanolamine/1-(14Z,17Z,20Z,23Z,26Z-dotriacontapentaenoyl)-2-(9Z-octadecenoyl)-sn-glycero-3-phospho-N-dodecanoyl-ethanolamine_0",
         "scene": "scene",
         "showlegend": false,
         "type": "scatter3d",
         "x": [
          1111.855513533229,
          1111.855513533229,
          1112.858868371029,
          1112.858868371029
         ],
         "y": [
          7.303999900817871,
          8.017999649047852,
          7.303999900817871,
          8.017999649047852
         ],
         "z": [
          0,
          0,
          0,
          55.64311218261719
         ]
        },
        {
         "hovertemplate": "labels=1-(14Z,17Z,20Z,23Z,26Z-dotriacontapentaenoyl)-2-(11E-octadecenoyl)-sn-glycero-3-phospho-N-hexadecanoyl-ethanolamine/1-(14Z,17Z,20Z,23Z,26Z-dotriacontapentaenoyl)-2-(11Z-eicosenoyl)-sn-glycero-3-phospho-N-tetradecanoyl-ethanolamine/1-(14Z,17Z,20Z,23Z,26Z-dotriacontapentaenoyl)-2-(11Z-octadecenoyl)-sn-glycero-3-phospho-N-hexadecanoyl-ethanolamine/1-(14Z,17Z,20Z,23Z,26Z-dotriacontapentaenoyl)-2-(13Z-docosenoyl)-sn-glycero-3-phospho-N-dodecanoyl-ethanolamine/1-(14Z,17Z,20Z,23Z,26Z-dotriacontapentaenoyl)-2-(15Z-tetracosenoyl)-sn-glycero-3-phospho-N-decanoyl-ethanolamine/1-(14Z,17Z,20Z,23Z,26Z-dotriacontapentaenoyl)-2-(17Z-hexacosenoyl)-sn-glycero-3-phospho-N-octanoyl-ethanolamine/1-(14Z,17Z,20Z,23Z,26Z-dotriacontapentaenoyl)-2-(6Z-hexadecenoyl)-sn-glycero-3-phospho-N-octadecanoyl-ethanolamine/1-(14Z,17Z,20Z,23Z,26Z-dotriacontapentaenoyl)-2-(6Z-octadecenoyl)-sn-glycero-3-phospho-N-hexadecanoyl-ethanolamine/1-(14Z,17Z,20Z,23Z,26Z-dotriacontapentaenoyl)-2-(9Z-hexadecenoyl)-sn-glycero-3-phospho-N-octadecanoyl-ethanolamine/1-(14Z,17Z,20Z,23Z,26Z-dotriacontapentaenoyl)-2-(9Z-octadecenoyl)-sn-glycero-3-phospho-N-hexadecanoyl-ethanolamine/1-(14Z,17Z,20Z,23Z,26Z-dotriacontapentaenoyl)-2-hexadecanoyl-sn-glycero-3-phospho-N-(11Z-octadecenoyl)-ethanolamine/1-(14Z,17Z,20Z,23Z,26Z-dotriacontapentaenoyl)-2-hexadecanoyl-sn-glycero-3-phospho-N-(9Z-octadecenoyl)-ethanolamine_0<br>m/z=%{x}<br>rt=%{y}<br>intensity=%{z}<extra></extra>",
         "legendgroup": "1-(14Z,17Z,20Z,23Z,26Z-dotriacontapentaenoyl)-2-(11E-octadecenoyl)-sn-glycero-3-phospho-N-hexadecanoyl-ethanolamine/1-(14Z,17Z,20Z,23Z,26Z-dotriacontapentaenoyl)-2-(11Z-eicosenoyl)-sn-glycero-3-phospho-N-tetradecanoyl-ethanolamine/1-(14Z,17Z,20Z,23Z,26Z-dotriacontapentaenoyl)-2-(11Z-octadecenoyl)-sn-glycero-3-phospho-N-hexadecanoyl-ethanolamine/1-(14Z,17Z,20Z,23Z,26Z-dotriacontapentaenoyl)-2-(13Z-docosenoyl)-sn-glycero-3-phospho-N-dodecanoyl-ethanolamine/1-(14Z,17Z,20Z,23Z,26Z-dotriacontapentaenoyl)-2-(15Z-tetracosenoyl)-sn-glycero-3-phospho-N-decanoyl-ethanolamine/1-(14Z,17Z,20Z,23Z,26Z-dotriacontapentaenoyl)-2-(17Z-hexacosenoyl)-sn-glycero-3-phospho-N-octanoyl-ethanolamine/1-(14Z,17Z,20Z,23Z,26Z-dotriacontapentaenoyl)-2-(6Z-hexadecenoyl)-sn-glycero-3-phospho-N-octadecanoyl-ethanolamine/1-(14Z,17Z,20Z,23Z,26Z-dotriacontapentaenoyl)-2-(6Z-octadecenoyl)-sn-glycero-3-phospho-N-hexadecanoyl-ethanolamine/1-(14Z,17Z,20Z,23Z,26Z-dotriacontapentaenoyl)-2-(9Z-hexadecenoyl)-sn-glycero-3-phospho-N-octadecanoyl-ethanolamine/1-(14Z,17Z,20Z,23Z,26Z-dotriacontapentaenoyl)-2-(9Z-octadecenoyl)-sn-glycero-3-phospho-N-hexadecanoyl-ethanolamine/1-(14Z,17Z,20Z,23Z,26Z-dotriacontapentaenoyl)-2-hexadecanoyl-sn-glycero-3-phospho-N-(11Z-octadecenoyl)-ethanolamine/1-(14Z,17Z,20Z,23Z,26Z-dotriacontapentaenoyl)-2-hexadecanoyl-sn-glycero-3-phospho-N-(9Z-octadecenoyl)-ethanolamine_0",
         "line": {
          "color": "#636efa",
          "dash": "solid"
         },
         "marker": {
          "symbol": "circle"
         },
         "mode": "lines",
         "name": "1-(14Z,17Z,20Z,23Z,26Z-dotriacontapentaenoyl)-2-(11E-octadecenoyl)-sn-glycero-3-phospho-N-hexadecanoyl-ethanolamine/1-(14Z,17Z,20Z,23Z,26Z-dotriacontapentaenoyl)-2-(11Z-eicosenoyl)-sn-glycero-3-phospho-N-tetradecanoyl-ethanolamine/1-(14Z,17Z,20Z,23Z,26Z-dotriacontapentaenoyl)-2-(11Z-octadecenoyl)-sn-glycero-3-phospho-N-hexadecanoyl-ethanolamine/1-(14Z,17Z,20Z,23Z,26Z-dotriacontapentaenoyl)-2-(13Z-docosenoyl)-sn-glycero-3-phospho-N-dodecanoyl-ethanolamine/1-(14Z,17Z,20Z,23Z,26Z-dotriacontapentaenoyl)-2-(15Z-tetracosenoyl)-sn-glycero-3-phospho-N-decanoyl-ethanolamine/1-(14Z,17Z,20Z,23Z,26Z-dotriacontapentaenoyl)-2-(17Z-hexacosenoyl)-sn-glycero-3-phospho-N-octanoyl-ethanolamine/1-(14Z,17Z,20Z,23Z,26Z-dotriacontapentaenoyl)-2-(6Z-hexadecenoyl)-sn-glycero-3-phospho-N-octadecanoyl-ethanolamine/1-(14Z,17Z,20Z,23Z,26Z-dotriacontapentaenoyl)-2-(6Z-octadecenoyl)-sn-glycero-3-phospho-N-hexadecanoyl-ethanolamine/1-(14Z,17Z,20Z,23Z,26Z-dotriacontapentaenoyl)-2-(9Z-hexadecenoyl)-sn-glycero-3-phospho-N-octadecanoyl-ethanolamine/1-(14Z,17Z,20Z,23Z,26Z-dotriacontapentaenoyl)-2-(9Z-octadecenoyl)-sn-glycero-3-phospho-N-hexadecanoyl-ethanolamine/1-(14Z,17Z,20Z,23Z,26Z-dotriacontapentaenoyl)-2-hexadecanoyl-sn-glycero-3-phospho-N-(11Z-octadecenoyl)-ethanolamine/1-(14Z,17Z,20Z,23Z,26Z-dotriacontapentaenoyl)-2-hexadecanoyl-sn-glycero-3-phospho-N-(9Z-octadecenoyl)-ethanolamine_0",
         "scene": "scene",
         "showlegend": false,
         "type": "scatter3d",
         "x": [
          1167.9181135332294,
          1167.9181135332294,
          1168.9214683710293,
          1168.9214683710293
         ],
         "y": [
          5.875,
          6.590000152587891,
          5.875,
          6.590000152587891
         ],
         "z": [
          0,
          115.93547058105469,
          174.78182983398438,
          165.94076538085938
         ]
        },
        {
         "hovertemplate": "labels=1-(14Z,17Z,20Z,23Z,26Z-dotriacontapentaenoyl)-2-(11E-octadecenoyl)-sn-glycero-3-phospho-N-hexanoyl-ethanolamine/1-(14Z,17Z,20Z,23Z,26Z-dotriacontapentaenoyl)-2-(11Z-octadecenoyl)-sn-glycero-3-phospho-N-hexanoyl-ethanolamine/1-(14Z,17Z,20Z,23Z,26Z-dotriacontapentaenoyl)-2-(6Z-hexadecenoyl)-sn-glycero-3-phospho-N-octanoyl-ethanolamine/1-(14Z,17Z,20Z,23Z,26Z-dotriacontapentaenoyl)-2-(6Z-octadecenoyl)-sn-glycero-3-phospho-N-hexanoyl-ethanolamine/1-(14Z,17Z,20Z,23Z,26Z-dotriacontapentaenoyl)-2-(9Z-hexadecenoyl)-sn-glycero-3-phospho-N-octanoyl-ethanolamine/1-(14Z,17Z,20Z,23Z,26Z-dotriacontapentaenoyl)-2-(9Z-octadecenoyl)-sn-glycero-3-phospho-N-hexanoyl-ethanolamine_0<br>m/z=%{x}<br>rt=%{y}<br>intensity=%{z}<extra></extra>",
         "legendgroup": "1-(14Z,17Z,20Z,23Z,26Z-dotriacontapentaenoyl)-2-(11E-octadecenoyl)-sn-glycero-3-phospho-N-hexanoyl-ethanolamine/1-(14Z,17Z,20Z,23Z,26Z-dotriacontapentaenoyl)-2-(11Z-octadecenoyl)-sn-glycero-3-phospho-N-hexanoyl-ethanolamine/1-(14Z,17Z,20Z,23Z,26Z-dotriacontapentaenoyl)-2-(6Z-hexadecenoyl)-sn-glycero-3-phospho-N-octanoyl-ethanolamine/1-(14Z,17Z,20Z,23Z,26Z-dotriacontapentaenoyl)-2-(6Z-octadecenoyl)-sn-glycero-3-phospho-N-hexanoyl-ethanolamine/1-(14Z,17Z,20Z,23Z,26Z-dotriacontapentaenoyl)-2-(9Z-hexadecenoyl)-sn-glycero-3-phospho-N-octanoyl-ethanolamine/1-(14Z,17Z,20Z,23Z,26Z-dotriacontapentaenoyl)-2-(9Z-octadecenoyl)-sn-glycero-3-phospho-N-hexanoyl-ethanolamine_0",
         "line": {
          "color": "#EF553B",
          "dash": "solid"
         },
         "marker": {
          "symbol": "circle"
         },
         "mode": "lines",
         "name": "1-(14Z,17Z,20Z,23Z,26Z-dotriacontapentaenoyl)-2-(11E-octadecenoyl)-sn-glycero-3-phospho-N-hexanoyl-ethanolamine/1-(14Z,17Z,20Z,23Z,26Z-dotriacontapentaenoyl)-2-(11Z-octadecenoyl)-sn-glycero-3-phospho-N-hexanoyl-ethanolamine/1-(14Z,17Z,20Z,23Z,26Z-dotriacontapentaenoyl)-2-(6Z-hexadecenoyl)-sn-glycero-3-phospho-N-octanoyl-ethanolamine/1-(14Z,17Z,20Z,23Z,26Z-dotriacontapentaenoyl)-2-(6Z-octadecenoyl)-sn-glycero-3-phospho-N-hexanoyl-ethanolamine/1-(14Z,17Z,20Z,23Z,26Z-dotriacontapentaenoyl)-2-(9Z-hexadecenoyl)-sn-glycero-3-phospho-N-octanoyl-ethanolamine/1-(14Z,17Z,20Z,23Z,26Z-dotriacontapentaenoyl)-2-(9Z-octadecenoyl)-sn-glycero-3-phospho-N-hexanoyl-ethanolamine_0",
         "scene": "scene",
         "showlegend": false,
         "type": "scatter3d",
         "x": [
          1027.7616135332291,
          1027.7616135332291,
          1027.7616135332291,
          1027.7616135332291,
          1028.7649683710292,
          1028.7649683710292,
          1028.7649683710292,
          1028.7649683710292
         ],
         "y": [
          8.732999801635742,
          9.446999549865723,
          10.161999702453613,
          10.87600040435791,
          8.732999801635742,
          9.446999549865723,
          10.161999702453613,
          10.87600040435791
         ],
         "z": [
          33.097084045410156,
          0,
          1163.74560546875,
          0,
          0,
          0,
          0,
          0
         ]
        },
        {
         "hovertemplate": "labels=1-(14Z,17Z,20Z,23Z,26Z-dotriacontapentaenoyl)-2-(11E-octadecenoyl)-sn-glycero-3-phospho-N-octadecanoyl-ethanolamine/1-(14Z,17Z,20Z,23Z,26Z-dotriacontapentaenoyl)-2-(11Z-eicosenoyl)-sn-glycero-3-phospho-N-hexadecanoyl-ethanolamine/1-(14Z,17Z,20Z,23Z,26Z-dotriacontapentaenoyl)-2-(11Z-octadecenoyl)-sn-glycero-3-phospho-N-octadecanoyl-ethanolamine/1-(14Z,17Z,20Z,23Z,26Z-dotriacontapentaenoyl)-2-(13Z-docosenoyl)-sn-glycero-3-phospho-N-tetradecanoyl-ethanolamine/1-(14Z,17Z,20Z,23Z,26Z-dotriacontapentaenoyl)-2-(15Z-tetracosenoyl)-sn-glycero-3-phospho-N-dodecanoyl-ethanolamine/1-(14Z,17Z,20Z,23Z,26Z-dotriacontapentaenoyl)-2-(17Z-hexacosenoyl)-sn-glycero-3-phospho-N-decanoyl-ethanolamine/1-(14Z,17Z,20Z,23Z,26Z-dotriacontapentaenoyl)-2-(6Z-octadecenoyl)-sn-glycero-3-phospho-N-octadecanoyl-ethanolamine/1-(14Z,17Z,20Z,23Z,26Z-dotriacontapentaenoyl)-2-(9Z-octadecenoyl)-sn-glycero-3-phospho-N-octadecanoyl-ethanolamine/1-(14Z,17Z,20Z,23Z,26Z-dotriacontapentaenoyl)-2-octadecanoyl-sn-glycero-3-phospho-N-(11Z-octadecenoyl)-ethanolamine/1-(14Z,17Z,20Z,23Z,26Z-dotriacontapentaenoyl)-2-octadecanoyl-sn-glycero-3-phospho-N-(9Z-octadecenoyl)-ethanolamine_0<br>m/z=%{x}<br>rt=%{y}<br>intensity=%{z}<extra></extra>",
         "legendgroup": "1-(14Z,17Z,20Z,23Z,26Z-dotriacontapentaenoyl)-2-(11E-octadecenoyl)-sn-glycero-3-phospho-N-octadecanoyl-ethanolamine/1-(14Z,17Z,20Z,23Z,26Z-dotriacontapentaenoyl)-2-(11Z-eicosenoyl)-sn-glycero-3-phospho-N-hexadecanoyl-ethanolamine/1-(14Z,17Z,20Z,23Z,26Z-dotriacontapentaenoyl)-2-(11Z-octadecenoyl)-sn-glycero-3-phospho-N-octadecanoyl-ethanolamine/1-(14Z,17Z,20Z,23Z,26Z-dotriacontapentaenoyl)-2-(13Z-docosenoyl)-sn-glycero-3-phospho-N-tetradecanoyl-ethanolamine/1-(14Z,17Z,20Z,23Z,26Z-dotriacontapentaenoyl)-2-(15Z-tetracosenoyl)-sn-glycero-3-phospho-N-dodecanoyl-ethanolamine/1-(14Z,17Z,20Z,23Z,26Z-dotriacontapentaenoyl)-2-(17Z-hexacosenoyl)-sn-glycero-3-phospho-N-decanoyl-ethanolamine/1-(14Z,17Z,20Z,23Z,26Z-dotriacontapentaenoyl)-2-(6Z-octadecenoyl)-sn-glycero-3-phospho-N-octadecanoyl-ethanolamine/1-(14Z,17Z,20Z,23Z,26Z-dotriacontapentaenoyl)-2-(9Z-octadecenoyl)-sn-glycero-3-phospho-N-octadecanoyl-ethanolamine/1-(14Z,17Z,20Z,23Z,26Z-dotriacontapentaenoyl)-2-octadecanoyl-sn-glycero-3-phospho-N-(11Z-octadecenoyl)-ethanolamine/1-(14Z,17Z,20Z,23Z,26Z-dotriacontapentaenoyl)-2-octadecanoyl-sn-glycero-3-phospho-N-(9Z-octadecenoyl)-ethanolamine_0",
         "line": {
          "color": "#00cc96",
          "dash": "solid"
         },
         "marker": {
          "symbol": "circle"
         },
         "mode": "lines",
         "name": "1-(14Z,17Z,20Z,23Z,26Z-dotriacontapentaenoyl)-2-(11E-octadecenoyl)-sn-glycero-3-phospho-N-octadecanoyl-ethanolamine/1-(14Z,17Z,20Z,23Z,26Z-dotriacontapentaenoyl)-2-(11Z-eicosenoyl)-sn-glycero-3-phospho-N-hexadecanoyl-ethanolamine/1-(14Z,17Z,20Z,23Z,26Z-dotriacontapentaenoyl)-2-(11Z-octadecenoyl)-sn-glycero-3-phospho-N-octadecanoyl-ethanolamine/1-(14Z,17Z,20Z,23Z,26Z-dotriacontapentaenoyl)-2-(13Z-docosenoyl)-sn-glycero-3-phospho-N-tetradecanoyl-ethanolamine/1-(14Z,17Z,20Z,23Z,26Z-dotriacontapentaenoyl)-2-(15Z-tetracosenoyl)-sn-glycero-3-phospho-N-dodecanoyl-ethanolamine/1-(14Z,17Z,20Z,23Z,26Z-dotriacontapentaenoyl)-2-(17Z-hexacosenoyl)-sn-glycero-3-phospho-N-decanoyl-ethanolamine/1-(14Z,17Z,20Z,23Z,26Z-dotriacontapentaenoyl)-2-(6Z-octadecenoyl)-sn-glycero-3-phospho-N-octadecanoyl-ethanolamine/1-(14Z,17Z,20Z,23Z,26Z-dotriacontapentaenoyl)-2-(9Z-octadecenoyl)-sn-glycero-3-phospho-N-octadecanoyl-ethanolamine/1-(14Z,17Z,20Z,23Z,26Z-dotriacontapentaenoyl)-2-octadecanoyl-sn-glycero-3-phospho-N-(11Z-octadecenoyl)-ethanolamine/1-(14Z,17Z,20Z,23Z,26Z-dotriacontapentaenoyl)-2-octadecanoyl-sn-glycero-3-phospho-N-(9Z-octadecenoyl)-ethanolamine_0",
         "scene": "scene",
         "showlegend": false,
         "type": "scatter3d",
         "x": [
          1195.949413533229,
          1195.949413533229,
          1196.9527683710292,
          1196.9527683710292
         ],
         "y": [
          5.875,
          6.590000152587891,
          5.875,
          6.590000152587891
         ],
         "z": [
          56.01034927368164,
          669.502685546875,
          0,
          0
         ]
        },
        {
         "hovertemplate": "labels=1-(14Z,17Z,20Z,23Z,26Z-dotriacontapentaenoyl)-2-(11E-octadecenoyl)-sn-glycero-3-phospho-N-octanoyl-ethanolamine/1-(14Z,17Z,20Z,23Z,26Z-dotriacontapentaenoyl)-2-(11Z-eicosenoyl)-sn-glycero-3-phospho-N-hexanoyl-ethanolamine/1-(14Z,17Z,20Z,23Z,26Z-dotriacontapentaenoyl)-2-(11Z-octadecenoyl)-sn-glycero-3-phospho-N-octanoyl-ethanolamine/1-(14Z,17Z,20Z,23Z,26Z-dotriacontapentaenoyl)-2-(6Z-hexadecenoyl)-sn-glycero-3-phospho-N-decanoyl-ethanolamine/1-(14Z,17Z,20Z,23Z,26Z-dotriacontapentaenoyl)-2-(6Z-octadecenoyl)-sn-glycero-3-phospho-N-octanoyl-ethanolamine/1-(14Z,17Z,20Z,23Z,26Z-dotriacontapentaenoyl)-2-(9Z-hexadecenoyl)-sn-glycero-3-phospho-N-decanoyl-ethanolamine/1-(14Z,17Z,20Z,23Z,26Z-dotriacontapentaenoyl)-2-(9Z-octadecenoyl)-sn-glycero-3-phospho-N-octanoyl-ethanolamine_0<br>m/z=%{x}<br>rt=%{y}<br>intensity=%{z}<extra></extra>",
         "legendgroup": "1-(14Z,17Z,20Z,23Z,26Z-dotriacontapentaenoyl)-2-(11E-octadecenoyl)-sn-glycero-3-phospho-N-octanoyl-ethanolamine/1-(14Z,17Z,20Z,23Z,26Z-dotriacontapentaenoyl)-2-(11Z-eicosenoyl)-sn-glycero-3-phospho-N-hexanoyl-ethanolamine/1-(14Z,17Z,20Z,23Z,26Z-dotriacontapentaenoyl)-2-(11Z-octadecenoyl)-sn-glycero-3-phospho-N-octanoyl-ethanolamine/1-(14Z,17Z,20Z,23Z,26Z-dotriacontapentaenoyl)-2-(6Z-hexadecenoyl)-sn-glycero-3-phospho-N-decanoyl-ethanolamine/1-(14Z,17Z,20Z,23Z,26Z-dotriacontapentaenoyl)-2-(6Z-octadecenoyl)-sn-glycero-3-phospho-N-octanoyl-ethanolamine/1-(14Z,17Z,20Z,23Z,26Z-dotriacontapentaenoyl)-2-(9Z-hexadecenoyl)-sn-glycero-3-phospho-N-decanoyl-ethanolamine/1-(14Z,17Z,20Z,23Z,26Z-dotriacontapentaenoyl)-2-(9Z-octadecenoyl)-sn-glycero-3-phospho-N-octanoyl-ethanolamine_0",
         "line": {
          "color": "#ab63fa",
          "dash": "solid"
         },
         "marker": {
          "symbol": "circle"
         },
         "mode": "lines",
         "name": "1-(14Z,17Z,20Z,23Z,26Z-dotriacontapentaenoyl)-2-(11E-octadecenoyl)-sn-glycero-3-phospho-N-octanoyl-ethanolamine/1-(14Z,17Z,20Z,23Z,26Z-dotriacontapentaenoyl)-2-(11Z-eicosenoyl)-sn-glycero-3-phospho-N-hexanoyl-ethanolamine/1-(14Z,17Z,20Z,23Z,26Z-dotriacontapentaenoyl)-2-(11Z-octadecenoyl)-sn-glycero-3-phospho-N-octanoyl-ethanolamine/1-(14Z,17Z,20Z,23Z,26Z-dotriacontapentaenoyl)-2-(6Z-hexadecenoyl)-sn-glycero-3-phospho-N-decanoyl-ethanolamine/1-(14Z,17Z,20Z,23Z,26Z-dotriacontapentaenoyl)-2-(6Z-octadecenoyl)-sn-glycero-3-phospho-N-octanoyl-ethanolamine/1-(14Z,17Z,20Z,23Z,26Z-dotriacontapentaenoyl)-2-(9Z-hexadecenoyl)-sn-glycero-3-phospho-N-decanoyl-ethanolamine/1-(14Z,17Z,20Z,23Z,26Z-dotriacontapentaenoyl)-2-(9Z-octadecenoyl)-sn-glycero-3-phospho-N-octanoyl-ethanolamine_0",
         "scene": "scene",
         "showlegend": false,
         "type": "scatter3d",
         "x": [
          1055.792913533229,
          1055.792913533229,
          1055.792913533229,
          1055.792913533229,
          1056.796268371029,
          1056.796268371029,
          1056.796268371029,
          1056.796268371029
         ],
         "y": [
          11.590999603271484,
          12.305000305175781,
          13.019000053405762,
          13.734000205993652,
          11.590999603271484,
          12.305000305175781,
          13.019000053405762,
          13.734000205993652
         ],
         "z": [
          757.3395385742188,
          815.4937133789062,
          0,
          0,
          0,
          3011.310546875,
          3088.857666015625,
          0
         ]
        },
        {
         "hovertemplate": "labels=1-(14Z,17Z,20Z,23Z,26Z-dotriacontapentaenoyl)-2-(11E-octadecenoyl)-sn-glycero-3-phospho-N-tetradecanoyl-ethanolamine/1-(14Z,17Z,20Z,23Z,26Z-dotriacontapentaenoyl)-2-(11Z-eicosenoyl)-sn-glycero-3-phospho-N-dodecanoyl-ethanolamine/1-(14Z,17Z,20Z,23Z,26Z-dotriacontapentaenoyl)-2-(11Z-octadecenoyl)-sn-glycero-3-phospho-N-tetradecanoyl-ethanolamine/1-(14Z,17Z,20Z,23Z,26Z-dotriacontapentaenoyl)-2-(13Z-docosenoyl)-sn-glycero-3-phospho-N-decanoyl-ethanolamine/1-(14Z,17Z,20Z,23Z,26Z-dotriacontapentaenoyl)-2-(15Z-tetracosenoyl)-sn-glycero-3-phospho-N-octanoyl-ethanolamine/1-(14Z,17Z,20Z,23Z,26Z-dotriacontapentaenoyl)-2-(17Z-hexacosenoyl)-sn-glycero-3-phospho-N-hexanoyl-ethanolamine/1-(14Z,17Z,20Z,23Z,26Z-dotriacontapentaenoyl)-2-(6Z-hexadecenoyl)-sn-glycero-3-phospho-N-hexadecanoyl-ethanolamine/1-(14Z,17Z,20Z,23Z,26Z-dotriacontapentaenoyl)-2-(6Z-octadecenoyl)-sn-glycero-3-phospho-N-tetradecanoyl-ethanolamine/1-(14Z,17Z,20Z,23Z,26Z-dotriacontapentaenoyl)-2-(9Z-hexadecenoyl)-sn-glycero-3-phospho-N-hexadecanoyl-ethanolamine/1-(14Z,17Z,20Z,23Z,26Z-dotriacontapentaenoyl)-2-(9Z-octadecenoyl)-sn-glycero-3-phospho-N-tetradecanoyl-ethanolamine/1-(14Z,17Z,20Z,23Z,26Z-dotriacontapentaenoyl)-2-tetradecanoyl-sn-glycero-3-phospho-N-(11Z-octadecenoyl)-ethanolamine/1-(14Z,17Z,20Z,23Z,26Z-dotriacontapentaenoyl)-2-tetradecanoyl-sn-glycero-3-phospho-N-(9Z-octadecenoyl)-ethanolamine_0<br>m/z=%{x}<br>rt=%{y}<br>intensity=%{z}<extra></extra>",
         "legendgroup": "1-(14Z,17Z,20Z,23Z,26Z-dotriacontapentaenoyl)-2-(11E-octadecenoyl)-sn-glycero-3-phospho-N-tetradecanoyl-ethanolamine/1-(14Z,17Z,20Z,23Z,26Z-dotriacontapentaenoyl)-2-(11Z-eicosenoyl)-sn-glycero-3-phospho-N-dodecanoyl-ethanolamine/1-(14Z,17Z,20Z,23Z,26Z-dotriacontapentaenoyl)-2-(11Z-octadecenoyl)-sn-glycero-3-phospho-N-tetradecanoyl-ethanolamine/1-(14Z,17Z,20Z,23Z,26Z-dotriacontapentaenoyl)-2-(13Z-docosenoyl)-sn-glycero-3-phospho-N-decanoyl-ethanolamine/1-(14Z,17Z,20Z,23Z,26Z-dotriacontapentaenoyl)-2-(15Z-tetracosenoyl)-sn-glycero-3-phospho-N-octanoyl-ethanolamine/1-(14Z,17Z,20Z,23Z,26Z-dotriacontapentaenoyl)-2-(17Z-hexacosenoyl)-sn-glycero-3-phospho-N-hexanoyl-ethanolamine/1-(14Z,17Z,20Z,23Z,26Z-dotriacontapentaenoyl)-2-(6Z-hexadecenoyl)-sn-glycero-3-phospho-N-hexadecanoyl-ethanolamine/1-(14Z,17Z,20Z,23Z,26Z-dotriacontapentaenoyl)-2-(6Z-octadecenoyl)-sn-glycero-3-phospho-N-tetradecanoyl-ethanolamine/1-(14Z,17Z,20Z,23Z,26Z-dotriacontapentaenoyl)-2-(9Z-hexadecenoyl)-sn-glycero-3-phospho-N-hexadecanoyl-ethanolamine/1-(14Z,17Z,20Z,23Z,26Z-dotriacontapentaenoyl)-2-(9Z-octadecenoyl)-sn-glycero-3-phospho-N-tetradecanoyl-ethanolamine/1-(14Z,17Z,20Z,23Z,26Z-dotriacontapentaenoyl)-2-tetradecanoyl-sn-glycero-3-phospho-N-(11Z-octadecenoyl)-ethanolamine/1-(14Z,17Z,20Z,23Z,26Z-dotriacontapentaenoyl)-2-tetradecanoyl-sn-glycero-3-phospho-N-(9Z-octadecenoyl)-ethanolamine_0",
         "line": {
          "color": "#FFA15A",
          "dash": "solid"
         },
         "marker": {
          "symbol": "circle"
         },
         "mode": "lines",
         "name": "1-(14Z,17Z,20Z,23Z,26Z-dotriacontapentaenoyl)-2-(11E-octadecenoyl)-sn-glycero-3-phospho-N-tetradecanoyl-ethanolamine/1-(14Z,17Z,20Z,23Z,26Z-dotriacontapentaenoyl)-2-(11Z-eicosenoyl)-sn-glycero-3-phospho-N-dodecanoyl-ethanolamine/1-(14Z,17Z,20Z,23Z,26Z-dotriacontapentaenoyl)-2-(11Z-octadecenoyl)-sn-glycero-3-phospho-N-tetradecanoyl-ethanolamine/1-(14Z,17Z,20Z,23Z,26Z-dotriacontapentaenoyl)-2-(13Z-docosenoyl)-sn-glycero-3-phospho-N-decanoyl-ethanolamine/1-(14Z,17Z,20Z,23Z,26Z-dotriacontapentaenoyl)-2-(15Z-tetracosenoyl)-sn-glycero-3-phospho-N-octanoyl-ethanolamine/1-(14Z,17Z,20Z,23Z,26Z-dotriacontapentaenoyl)-2-(17Z-hexacosenoyl)-sn-glycero-3-phospho-N-hexanoyl-ethanolamine/1-(14Z,17Z,20Z,23Z,26Z-dotriacontapentaenoyl)-2-(6Z-hexadecenoyl)-sn-glycero-3-phospho-N-hexadecanoyl-ethanolamine/1-(14Z,17Z,20Z,23Z,26Z-dotriacontapentaenoyl)-2-(6Z-octadecenoyl)-sn-glycero-3-phospho-N-tetradecanoyl-ethanolamine/1-(14Z,17Z,20Z,23Z,26Z-dotriacontapentaenoyl)-2-(9Z-hexadecenoyl)-sn-glycero-3-phospho-N-hexadecanoyl-ethanolamine/1-(14Z,17Z,20Z,23Z,26Z-dotriacontapentaenoyl)-2-(9Z-octadecenoyl)-sn-glycero-3-phospho-N-tetradecanoyl-ethanolamine/1-(14Z,17Z,20Z,23Z,26Z-dotriacontapentaenoyl)-2-tetradecanoyl-sn-glycero-3-phospho-N-(11Z-octadecenoyl)-ethanolamine/1-(14Z,17Z,20Z,23Z,26Z-dotriacontapentaenoyl)-2-tetradecanoyl-sn-glycero-3-phospho-N-(9Z-octadecenoyl)-ethanolamine_0",
         "scene": "scene",
         "showlegend": false,
         "type": "scatter3d",
         "x": [
          1139.886813533229,
          1139.886813533229,
          1140.8901683710292,
          1140.8901683710292
         ],
         "y": [
          5.875,
          6.590000152587891,
          5.875,
          6.590000152587891
         ],
         "z": [
          18.70670509338379,
          104.31761169433594,
          0,
          152.91024780273438
         ]
        },
        {
         "hovertemplate": "labels=1-(14Z,17Z,20Z,23Z,26Z-dotriacontapentaenoyl)-2-(11Z,14Z,17Z,20Z,23Z-hexacosapentaenoyl)-sn-glycero-3-phospho-N-(4Z,7Z,10Z,13Z,16Z,19Z-docosahexaenoyl)-ethanolamine/1-(14Z,17Z,20Z,23Z,26Z-dotriacontapentaenoyl)-2-(8Z,11Z,14Z,17Z,20Z-hexacosapentaenoyl)-sn-glycero-3-phospho-N-(4Z,7Z,10Z,13Z,16Z,19Z-docosahexaenoyl)-ethanolamine_0<br>m/z=%{x}<br>rt=%{y}<br>intensity=%{z}<extra></extra>",
         "legendgroup": "1-(14Z,17Z,20Z,23Z,26Z-dotriacontapentaenoyl)-2-(11Z,14Z,17Z,20Z,23Z-hexacosapentaenoyl)-sn-glycero-3-phospho-N-(4Z,7Z,10Z,13Z,16Z,19Z-docosahexaenoyl)-ethanolamine/1-(14Z,17Z,20Z,23Z,26Z-dotriacontapentaenoyl)-2-(8Z,11Z,14Z,17Z,20Z-hexacosapentaenoyl)-sn-glycero-3-phospho-N-(4Z,7Z,10Z,13Z,16Z,19Z-docosahexaenoyl)-ethanolamine_0",
         "line": {
          "color": "#19d3f3",
          "dash": "solid"
         },
         "marker": {
          "symbol": "circle"
         },
         "mode": "lines",
         "name": "1-(14Z,17Z,20Z,23Z,26Z-dotriacontapentaenoyl)-2-(11Z,14Z,17Z,20Z,23Z-hexacosapentaenoyl)-sn-glycero-3-phospho-N-(4Z,7Z,10Z,13Z,16Z,19Z-docosahexaenoyl)-ethanolamine/1-(14Z,17Z,20Z,23Z,26Z-dotriacontapentaenoyl)-2-(8Z,11Z,14Z,17Z,20Z-hexacosapentaenoyl)-sn-glycero-3-phospho-N-(4Z,7Z,10Z,13Z,16Z,19Z-docosahexaenoyl)-ethanolamine_0",
         "scene": "scene",
         "showlegend": false,
         "type": "scatter3d",
         "x": [
          1343.9807235332291,
          1343.9807235332291,
          1343.9807235332291,
          1344.9840783710292,
          1344.9840783710292,
          1344.9840783710292
         ],
         "y": [
          9.446999549865723,
          10.161999702453613,
          10.87600040435791,
          9.446999549865723,
          10.161999702453613,
          10.87600040435791
         ],
         "z": [
          0,
          923.23876953125,
          0,
          0,
          0,
          324.4808044433594
         ]
        },
        {
         "hovertemplate": "labels=1-(14Z,17Z,20Z,23Z,26Z-dotriacontapentaenoyl)-2-(11Z,14Z,17Z,20Z,23Z-hexacosapentaenoyl)-sn-glycero-3-phospho-N-(6Z,9Z,12Z-octadecatrienoyl)-ethanolamine/1-(14Z,17Z,20Z,23Z,26Z-dotriacontapentaenoyl)-2-(11Z,14Z,17Z,20Z,23Z-hexacosapentaenoyl)-sn-glycero-3-phospho-N-(9Z,12Z,15Z-octadecatrienoyl)-ethanolamine/1-(14Z,17Z,20Z,23Z,26Z-dotriacontapentaenoyl)-2-(13Z,16Z-docosadienoyl)-sn-glycero-3-phospho-N-(4Z,7Z,10Z,13Z,16Z,19Z-docosahexaenoyl)-ethanolamine/1-(14Z,17Z,20Z,23Z,26Z-dotriacontapentaenoyl)-2-(8Z,11Z,14Z,17Z,20Z,23Z-hexacosahexaenoyl)-sn-glycero-3-phospho-N-(9Z,12Z-octadecadienoyl)-ethanolamine/1-(14Z,17Z,20Z,23Z,26Z-dotriacontapentaenoyl)-2-(8Z,11Z,14Z,17Z,20Z-hexacosapentaenoyl)-sn-glycero-3-phospho-N-(6Z,9Z,12Z-octadecatrienoyl)-ethanolamine/1-(14Z,17Z,20Z,23Z,26Z-dotriacontapentaenoyl)-2-(8Z,11Z,14Z,17Z,20Z-hexacosapentaenoyl)-sn-glycero-3-phospho-N-(9Z,12Z,15Z-octadecatrienoyl)-ethanolamine/1-(14Z,17Z,20Z,23Z,26Z-dotriacontapentaenoyl)-2-(9Z,12Z,15Z,18Z-tetracosatetraenoyl)-sn-glycero-3-phospho-N-(5Z,8Z,11Z,14Z-eicosatetraenoyl)-ethanolamine_0<br>m/z=%{x}<br>rt=%{y}<br>intensity=%{z}<extra></extra>",
         "legendgroup": "1-(14Z,17Z,20Z,23Z,26Z-dotriacontapentaenoyl)-2-(11Z,14Z,17Z,20Z,23Z-hexacosapentaenoyl)-sn-glycero-3-phospho-N-(6Z,9Z,12Z-octadecatrienoyl)-ethanolamine/1-(14Z,17Z,20Z,23Z,26Z-dotriacontapentaenoyl)-2-(11Z,14Z,17Z,20Z,23Z-hexacosapentaenoyl)-sn-glycero-3-phospho-N-(9Z,12Z,15Z-octadecatrienoyl)-ethanolamine/1-(14Z,17Z,20Z,23Z,26Z-dotriacontapentaenoyl)-2-(13Z,16Z-docosadienoyl)-sn-glycero-3-phospho-N-(4Z,7Z,10Z,13Z,16Z,19Z-docosahexaenoyl)-ethanolamine/1-(14Z,17Z,20Z,23Z,26Z-dotriacontapentaenoyl)-2-(8Z,11Z,14Z,17Z,20Z,23Z-hexacosahexaenoyl)-sn-glycero-3-phospho-N-(9Z,12Z-octadecadienoyl)-ethanolamine/1-(14Z,17Z,20Z,23Z,26Z-dotriacontapentaenoyl)-2-(8Z,11Z,14Z,17Z,20Z-hexacosapentaenoyl)-sn-glycero-3-phospho-N-(6Z,9Z,12Z-octadecatrienoyl)-ethanolamine/1-(14Z,17Z,20Z,23Z,26Z-dotriacontapentaenoyl)-2-(8Z,11Z,14Z,17Z,20Z-hexacosapentaenoyl)-sn-glycero-3-phospho-N-(9Z,12Z,15Z-octadecatrienoyl)-ethanolamine/1-(14Z,17Z,20Z,23Z,26Z-dotriacontapentaenoyl)-2-(9Z,12Z,15Z,18Z-tetracosatetraenoyl)-sn-glycero-3-phospho-N-(5Z,8Z,11Z,14Z-eicosatetraenoyl)-ethanolamine_0",
         "line": {
          "color": "#FF6692",
          "dash": "solid"
         },
         "marker": {
          "symbol": "circle"
         },
         "mode": "lines",
         "name": "1-(14Z,17Z,20Z,23Z,26Z-dotriacontapentaenoyl)-2-(11Z,14Z,17Z,20Z,23Z-hexacosapentaenoyl)-sn-glycero-3-phospho-N-(6Z,9Z,12Z-octadecatrienoyl)-ethanolamine/1-(14Z,17Z,20Z,23Z,26Z-dotriacontapentaenoyl)-2-(11Z,14Z,17Z,20Z,23Z-hexacosapentaenoyl)-sn-glycero-3-phospho-N-(9Z,12Z,15Z-octadecatrienoyl)-ethanolamine/1-(14Z,17Z,20Z,23Z,26Z-dotriacontapentaenoyl)-2-(13Z,16Z-docosadienoyl)-sn-glycero-3-phospho-N-(4Z,7Z,10Z,13Z,16Z,19Z-docosahexaenoyl)-ethanolamine/1-(14Z,17Z,20Z,23Z,26Z-dotriacontapentaenoyl)-2-(8Z,11Z,14Z,17Z,20Z,23Z-hexacosahexaenoyl)-sn-glycero-3-phospho-N-(9Z,12Z-octadecadienoyl)-ethanolamine/1-(14Z,17Z,20Z,23Z,26Z-dotriacontapentaenoyl)-2-(8Z,11Z,14Z,17Z,20Z-hexacosapentaenoyl)-sn-glycero-3-phospho-N-(6Z,9Z,12Z-octadecatrienoyl)-ethanolamine/1-(14Z,17Z,20Z,23Z,26Z-dotriacontapentaenoyl)-2-(8Z,11Z,14Z,17Z,20Z-hexacosapentaenoyl)-sn-glycero-3-phospho-N-(9Z,12Z,15Z-octadecatrienoyl)-ethanolamine/1-(14Z,17Z,20Z,23Z,26Z-dotriacontapentaenoyl)-2-(9Z,12Z,15Z,18Z-tetracosatetraenoyl)-sn-glycero-3-phospho-N-(5Z,8Z,11Z,14Z-eicosatetraenoyl)-ethanolamine_0",
         "scene": "scene",
         "showlegend": false,
         "type": "scatter3d",
         "x": [
          1293.965073533229,
          1293.965073533229,
          1293.965073533229,
          1294.9684283710292,
          1294.9684283710292,
          1294.9684283710292
         ],
         "y": [
          9.446999549865723,
          10.161999702453613,
          10.87600040435791,
          9.446999549865723,
          10.161999702453613,
          10.87600040435791
         ],
         "z": [
          0,
          0,
          194.13270568847656,
          189.54981994628906,
          389.00128173828125,
          0
         ]
        },
        {
         "hovertemplate": "labels=1-(14Z,17Z,20Z,23Z,26Z-dotriacontapentaenoyl)-2-(11Z,14Z,17Z,20Z,23Z-hexacosapentaenoyl)-sn-glycero-3-phospho-N-(9Z,12Z-octadecadienoyl)-ethanolamine/1-(14Z,17Z,20Z,23Z,26Z-dotriacontapentaenoyl)-2-(11Z,14Z,17Z,20Z-hexacosatetraenoyl)-sn-glycero-3-phospho-N-(6Z,9Z,12Z-octadecatrienoyl)-ethanolamine/1-(14Z,17Z,20Z,23Z,26Z-dotriacontapentaenoyl)-2-(11Z,14Z,17Z,20Z-hexacosatetraenoyl)-sn-glycero-3-phospho-N-(9Z,12Z,15Z-octadecatrienoyl)-ethanolamine/1-(14Z,17Z,20Z,23Z,26Z-dotriacontapentaenoyl)-2-(13Z-docosenoyl)-sn-glycero-3-phospho-N-(4Z,7Z,10Z,13Z,16Z,19Z-docosahexaenoyl)-ethanolamine/1-(14Z,17Z,20Z,23Z,26Z-dotriacontapentaenoyl)-2-(8Z,11Z,14Z,17Z,20Z,23Z-hexacosahexaenoyl)-sn-glycero-3-phospho-N-(11Z-octadecenoyl)-ethanolamine/1-(14Z,17Z,20Z,23Z,26Z-dotriacontapentaenoyl)-2-(8Z,11Z,14Z,17Z,20Z,23Z-hexacosahexaenoyl)-sn-glycero-3-phospho-N-(9Z-octadecenoyl)-ethanolamine/1-(14Z,17Z,20Z,23Z,26Z-dotriacontapentaenoyl)-2-(8Z,11Z,14Z,17Z,20Z-hexacosapentaenoyl)-sn-glycero-3-phospho-N-(9Z,12Z-octadecadienoyl)-ethanolamine_0<br>m/z=%{x}<br>rt=%{y}<br>intensity=%{z}<extra></extra>",
         "legendgroup": "1-(14Z,17Z,20Z,23Z,26Z-dotriacontapentaenoyl)-2-(11Z,14Z,17Z,20Z,23Z-hexacosapentaenoyl)-sn-glycero-3-phospho-N-(9Z,12Z-octadecadienoyl)-ethanolamine/1-(14Z,17Z,20Z,23Z,26Z-dotriacontapentaenoyl)-2-(11Z,14Z,17Z,20Z-hexacosatetraenoyl)-sn-glycero-3-phospho-N-(6Z,9Z,12Z-octadecatrienoyl)-ethanolamine/1-(14Z,17Z,20Z,23Z,26Z-dotriacontapentaenoyl)-2-(11Z,14Z,17Z,20Z-hexacosatetraenoyl)-sn-glycero-3-phospho-N-(9Z,12Z,15Z-octadecatrienoyl)-ethanolamine/1-(14Z,17Z,20Z,23Z,26Z-dotriacontapentaenoyl)-2-(13Z-docosenoyl)-sn-glycero-3-phospho-N-(4Z,7Z,10Z,13Z,16Z,19Z-docosahexaenoyl)-ethanolamine/1-(14Z,17Z,20Z,23Z,26Z-dotriacontapentaenoyl)-2-(8Z,11Z,14Z,17Z,20Z,23Z-hexacosahexaenoyl)-sn-glycero-3-phospho-N-(11Z-octadecenoyl)-ethanolamine/1-(14Z,17Z,20Z,23Z,26Z-dotriacontapentaenoyl)-2-(8Z,11Z,14Z,17Z,20Z,23Z-hexacosahexaenoyl)-sn-glycero-3-phospho-N-(9Z-octadecenoyl)-ethanolamine/1-(14Z,17Z,20Z,23Z,26Z-dotriacontapentaenoyl)-2-(8Z,11Z,14Z,17Z,20Z-hexacosapentaenoyl)-sn-glycero-3-phospho-N-(9Z,12Z-octadecadienoyl)-ethanolamine_0",
         "line": {
          "color": "#B6E880",
          "dash": "solid"
         },
         "marker": {
          "symbol": "circle"
         },
         "mode": "lines",
         "name": "1-(14Z,17Z,20Z,23Z,26Z-dotriacontapentaenoyl)-2-(11Z,14Z,17Z,20Z,23Z-hexacosapentaenoyl)-sn-glycero-3-phospho-N-(9Z,12Z-octadecadienoyl)-ethanolamine/1-(14Z,17Z,20Z,23Z,26Z-dotriacontapentaenoyl)-2-(11Z,14Z,17Z,20Z-hexacosatetraenoyl)-sn-glycero-3-phospho-N-(6Z,9Z,12Z-octadecatrienoyl)-ethanolamine/1-(14Z,17Z,20Z,23Z,26Z-dotriacontapentaenoyl)-2-(11Z,14Z,17Z,20Z-hexacosatetraenoyl)-sn-glycero-3-phospho-N-(9Z,12Z,15Z-octadecatrienoyl)-ethanolamine/1-(14Z,17Z,20Z,23Z,26Z-dotriacontapentaenoyl)-2-(13Z-docosenoyl)-sn-glycero-3-phospho-N-(4Z,7Z,10Z,13Z,16Z,19Z-docosahexaenoyl)-ethanolamine/1-(14Z,17Z,20Z,23Z,26Z-dotriacontapentaenoyl)-2-(8Z,11Z,14Z,17Z,20Z,23Z-hexacosahexaenoyl)-sn-glycero-3-phospho-N-(11Z-octadecenoyl)-ethanolamine/1-(14Z,17Z,20Z,23Z,26Z-dotriacontapentaenoyl)-2-(8Z,11Z,14Z,17Z,20Z,23Z-hexacosahexaenoyl)-sn-glycero-3-phospho-N-(9Z-octadecenoyl)-ethanolamine/1-(14Z,17Z,20Z,23Z,26Z-dotriacontapentaenoyl)-2-(8Z,11Z,14Z,17Z,20Z-hexacosapentaenoyl)-sn-glycero-3-phospho-N-(9Z,12Z-octadecadienoyl)-ethanolamine_0",
         "scene": "scene",
         "showlegend": false,
         "type": "scatter3d",
         "x": [
          1295.9807235332291,
          1295.9807235332291,
          1296.9840783710292,
          1296.9840783710292
         ],
         "y": [
          5.160999774932861,
          5.875,
          5.160999774932861,
          5.875
         ],
         "z": [
          192.04965209960938,
          37.03293228149414,
          0,
          0
         ]
        },
        {
         "hovertemplate": "labels=1-(14Z,17Z,20Z,23Z,26Z-dotriacontapentaenoyl)-2-(11Z,14Z,17Z,20Z,23Z-hexacosapentaenoyl)-sn-glycero-3-phospho-N-hexanoyl-ethanolamine/1-(14Z,17Z,20Z,23Z,26Z-dotriacontapentaenoyl)-2-(4Z,7Z,10Z,13Z,16Z-docosapentaenoyl)-sn-glycero-3-phospho-N-decanoyl-ethanolamine/1-(14Z,17Z,20Z,23Z,26Z-dotriacontapentaenoyl)-2-(5Z,8Z,11Z,14Z,17Z-eicosapentaenoyl)-sn-glycero-3-phospho-N-dodecanoyl-ethanolamine/1-(14Z,17Z,20Z,23Z,26Z-dotriacontapentaenoyl)-2-(6Z,9Z,12Z,15Z,18Z-tetracosapentaenoyl)-sn-glycero-3-phospho-N-octanoyl-ethanolamine/1-(14Z,17Z,20Z,23Z,26Z-dotriacontapentaenoyl)-2-(7Z,10Z,13Z,16Z,19Z-docosapentaenoyl)-sn-glycero-3-phospho-N-decanoyl-ethanolamine/1-(14Z,17Z,20Z,23Z,26Z-dotriacontapentaenoyl)-2-(8Z,11Z,14Z,17Z,20Z-hexacosapentaenoyl)-sn-glycero-3-phospho-N-hexanoyl-ethanolamine/1-(14Z,17Z,20Z,23Z,26Z-dotriacontapentaenoyl)-2-(9Z,12Z,15Z,18Z,21Z-tetracosapentaenoyl)-sn-glycero-3-phospho-N-octanoyl-ethanolamine_0<br>m/z=%{x}<br>rt=%{y}<br>intensity=%{z}<extra></extra>",
         "legendgroup": "1-(14Z,17Z,20Z,23Z,26Z-dotriacontapentaenoyl)-2-(11Z,14Z,17Z,20Z,23Z-hexacosapentaenoyl)-sn-glycero-3-phospho-N-hexanoyl-ethanolamine/1-(14Z,17Z,20Z,23Z,26Z-dotriacontapentaenoyl)-2-(4Z,7Z,10Z,13Z,16Z-docosapentaenoyl)-sn-glycero-3-phospho-N-decanoyl-ethanolamine/1-(14Z,17Z,20Z,23Z,26Z-dotriacontapentaenoyl)-2-(5Z,8Z,11Z,14Z,17Z-eicosapentaenoyl)-sn-glycero-3-phospho-N-dodecanoyl-ethanolamine/1-(14Z,17Z,20Z,23Z,26Z-dotriacontapentaenoyl)-2-(6Z,9Z,12Z,15Z,18Z-tetracosapentaenoyl)-sn-glycero-3-phospho-N-octanoyl-ethanolamine/1-(14Z,17Z,20Z,23Z,26Z-dotriacontapentaenoyl)-2-(7Z,10Z,13Z,16Z,19Z-docosapentaenoyl)-sn-glycero-3-phospho-N-decanoyl-ethanolamine/1-(14Z,17Z,20Z,23Z,26Z-dotriacontapentaenoyl)-2-(8Z,11Z,14Z,17Z,20Z-hexacosapentaenoyl)-sn-glycero-3-phospho-N-hexanoyl-ethanolamine/1-(14Z,17Z,20Z,23Z,26Z-dotriacontapentaenoyl)-2-(9Z,12Z,15Z,18Z,21Z-tetracosapentaenoyl)-sn-glycero-3-phospho-N-octanoyl-ethanolamine_0",
         "line": {
          "color": "#FF97FF",
          "dash": "solid"
         },
         "marker": {
          "symbol": "circle"
         },
         "mode": "lines",
         "name": "1-(14Z,17Z,20Z,23Z,26Z-dotriacontapentaenoyl)-2-(11Z,14Z,17Z,20Z,23Z-hexacosapentaenoyl)-sn-glycero-3-phospho-N-hexanoyl-ethanolamine/1-(14Z,17Z,20Z,23Z,26Z-dotriacontapentaenoyl)-2-(4Z,7Z,10Z,13Z,16Z-docosapentaenoyl)-sn-glycero-3-phospho-N-decanoyl-ethanolamine/1-(14Z,17Z,20Z,23Z,26Z-dotriacontapentaenoyl)-2-(5Z,8Z,11Z,14Z,17Z-eicosapentaenoyl)-sn-glycero-3-phospho-N-dodecanoyl-ethanolamine/1-(14Z,17Z,20Z,23Z,26Z-dotriacontapentaenoyl)-2-(6Z,9Z,12Z,15Z,18Z-tetracosapentaenoyl)-sn-glycero-3-phospho-N-octanoyl-ethanolamine/1-(14Z,17Z,20Z,23Z,26Z-dotriacontapentaenoyl)-2-(7Z,10Z,13Z,16Z,19Z-docosapentaenoyl)-sn-glycero-3-phospho-N-decanoyl-ethanolamine/1-(14Z,17Z,20Z,23Z,26Z-dotriacontapentaenoyl)-2-(8Z,11Z,14Z,17Z,20Z-hexacosapentaenoyl)-sn-glycero-3-phospho-N-hexanoyl-ethanolamine/1-(14Z,17Z,20Z,23Z,26Z-dotriacontapentaenoyl)-2-(9Z,12Z,15Z,18Z,21Z-tetracosapentaenoyl)-sn-glycero-3-phospho-N-octanoyl-ethanolamine_0",
         "scene": "scene",
         "showlegend": false,
         "type": "scatter3d",
         "x": [
          1131.824213533229,
          1131.824213533229,
          1131.824213533229,
          1131.824213533229,
          1132.8275683710292,
          1132.8275683710292,
          1132.8275683710292,
          1132.8275683710292
         ],
         "y": [
          11.590999603271484,
          12.305000305175781,
          13.019000053405762,
          13.734000205993652,
          11.590999603271484,
          12.305000305175781,
          13.019000053405762,
          13.734000205993652
         ],
         "z": [
          648.2216186523438,
          1620.3516845703125,
          1341.14892578125,
          0,
          0,
          619.3202514648438,
          0,
          1297.326904296875
         ]
        },
        {
         "hovertemplate": "labels=1-(14Z,17Z,20Z,23Z,26Z-dotriacontapentaenoyl)-2-(11Z,14Z,17Z,20Z-hexacosatetraenoyl)-sn-glycero-3-phospho-N-dodecanoyl-ethanolamine/1-(14Z,17Z,20Z,23Z,26Z-dotriacontapentaenoyl)-2-(11Z,14Z,17Z-eicoastrienoyl)-sn-glycero-3-phospho-N-(11Z-octadecenoyl)-ethanolamine/1-(14Z,17Z,20Z,23Z,26Z-dotriacontapentaenoyl)-2-(11Z,14Z,17Z-eicoastrienoyl)-sn-glycero-3-phospho-N-(9Z-octadecenoyl)-ethanolamine/1-(14Z,17Z,20Z,23Z,26Z-dotriacontapentaenoyl)-2-(11Z,14Z-eicosadienoyl)-sn-glycero-3-phospho-N-(9Z,12Z-octadecadienoyl)-ethanolamine/1-(14Z,17Z,20Z,23Z,26Z-dotriacontapentaenoyl)-2-(11Z-eicosenoyl)-sn-glycero-3-phospho-N-(6Z,9Z,12Z-octadecatrienoyl)-ethanolamine/1-(14Z,17Z,20Z,23Z,26Z-dotriacontapentaenoyl)-2-(11Z-eicosenoyl)-sn-glycero-3-phospho-N-(9Z,12Z,15Z-octadecatrienoyl)-ethanolamine/1-(14Z,17Z,20Z,23Z,26Z-dotriacontapentaenoyl)-2-(13Z,16Z,19Z,22Z-octacosatetraenoyl)-sn-glycero-3-phospho-N-decanoyl-ethanolamine/1-(14Z,17Z,20Z,23Z,26Z-dotriacontapentaenoyl)-2-(15Z,18Z,21Z,24Z-triacontatetraenoyl)-sn-glycero-3-phospho-N-octanoyl-ethanolamine/1-(14Z,17Z,20Z,23Z,26Z-dotriacontapentaenoyl)-2-(17Z,20Z,23Z,26Z-dotriacontatetraenoyl)-sn-glycero-3-phospho-N-hexanoyl-ethanolamine/1-(14Z,17Z,20Z,23Z,26Z-dotriacontapentaenoyl)-2-(5Z,8Z,11Z,14Z-eicosatetraenoyl)-sn-glycero-3-phospho-N-octadecanoyl-ethanolamine/1-(14Z,17Z,20Z,23Z,26Z-dotriacontapentaenoyl)-2-(7Z,10Z,13Z,16Z-docosatetraenoyl)-sn-glycero-3-phospho-N-hexadecanoyl-ethanolamine/1-(14Z,17Z,20Z,23Z,26Z-dotriacontapentaenoyl)-2-(8Z,11Z,14Z,17Z-eicosatetraenoyl)-sn-glycero-3-phospho-N-octadecanoyl-ethanolamine/1-(14Z,17Z,20Z,23Z,26Z-dotriacontapentaenoyl)-2-(8Z,11Z,14Z-eicosatrienoyl)-sn-glycero-3-phospho-N-(11Z-octadecenoyl)-ethanolamine/1-(14Z,17Z,20Z,23Z,26Z-dotriacontapentaenoyl)-2-(8Z,11Z,14Z-eicosatrienoyl)-sn-glycero-3-phospho-N-(9Z-octadecenoyl)-ethanolamine/1-(14Z,17Z,20Z,23Z,26Z-dotriacontapentaenoyl)-2-(9Z,12Z,15Z,18Z-tetracosatetraenoyl)-sn-glycero-3-phospho-N-tetradecanoyl-ethanolamine/1-(14Z,17Z,20Z,23Z,26Z-dotriacontapentaenoyl)-2-octadecanoyl-sn-glycero-3-phospho-N-(5Z,8Z,11Z,14Z-eicosatetraenoyl)-ethanolamine_0<br>m/z=%{x}<br>rt=%{y}<br>intensity=%{z}<extra></extra>",
         "legendgroup": "1-(14Z,17Z,20Z,23Z,26Z-dotriacontapentaenoyl)-2-(11Z,14Z,17Z,20Z-hexacosatetraenoyl)-sn-glycero-3-phospho-N-dodecanoyl-ethanolamine/1-(14Z,17Z,20Z,23Z,26Z-dotriacontapentaenoyl)-2-(11Z,14Z,17Z-eicoastrienoyl)-sn-glycero-3-phospho-N-(11Z-octadecenoyl)-ethanolamine/1-(14Z,17Z,20Z,23Z,26Z-dotriacontapentaenoyl)-2-(11Z,14Z,17Z-eicoastrienoyl)-sn-glycero-3-phospho-N-(9Z-octadecenoyl)-ethanolamine/1-(14Z,17Z,20Z,23Z,26Z-dotriacontapentaenoyl)-2-(11Z,14Z-eicosadienoyl)-sn-glycero-3-phospho-N-(9Z,12Z-octadecadienoyl)-ethanolamine/1-(14Z,17Z,20Z,23Z,26Z-dotriacontapentaenoyl)-2-(11Z-eicosenoyl)-sn-glycero-3-phospho-N-(6Z,9Z,12Z-octadecatrienoyl)-ethanolamine/1-(14Z,17Z,20Z,23Z,26Z-dotriacontapentaenoyl)-2-(11Z-eicosenoyl)-sn-glycero-3-phospho-N-(9Z,12Z,15Z-octadecatrienoyl)-ethanolamine/1-(14Z,17Z,20Z,23Z,26Z-dotriacontapentaenoyl)-2-(13Z,16Z,19Z,22Z-octacosatetraenoyl)-sn-glycero-3-phospho-N-decanoyl-ethanolamine/1-(14Z,17Z,20Z,23Z,26Z-dotriacontapentaenoyl)-2-(15Z,18Z,21Z,24Z-triacontatetraenoyl)-sn-glycero-3-phospho-N-octanoyl-ethanolamine/1-(14Z,17Z,20Z,23Z,26Z-dotriacontapentaenoyl)-2-(17Z,20Z,23Z,26Z-dotriacontatetraenoyl)-sn-glycero-3-phospho-N-hexanoyl-ethanolamine/1-(14Z,17Z,20Z,23Z,26Z-dotriacontapentaenoyl)-2-(5Z,8Z,11Z,14Z-eicosatetraenoyl)-sn-glycero-3-phospho-N-octadecanoyl-ethanolamine/1-(14Z,17Z,20Z,23Z,26Z-dotriacontapentaenoyl)-2-(7Z,10Z,13Z,16Z-docosatetraenoyl)-sn-glycero-3-phospho-N-hexadecanoyl-ethanolamine/1-(14Z,17Z,20Z,23Z,26Z-dotriacontapentaenoyl)-2-(8Z,11Z,14Z,17Z-eicosatetraenoyl)-sn-glycero-3-phospho-N-octadecanoyl-ethanolamine/1-(14Z,17Z,20Z,23Z,26Z-dotriacontapentaenoyl)-2-(8Z,11Z,14Z-eicosatrienoyl)-sn-glycero-3-phospho-N-(11Z-octadecenoyl)-ethanolamine/1-(14Z,17Z,20Z,23Z,26Z-dotriacontapentaenoyl)-2-(8Z,11Z,14Z-eicosatrienoyl)-sn-glycero-3-phospho-N-(9Z-octadecenoyl)-ethanolamine/1-(14Z,17Z,20Z,23Z,26Z-dotriacontapentaenoyl)-2-(9Z,12Z,15Z,18Z-tetracosatetraenoyl)-sn-glycero-3-phospho-N-tetradecanoyl-ethanolamine/1-(14Z,17Z,20Z,23Z,26Z-dotriacontapentaenoyl)-2-octadecanoyl-sn-glycero-3-phospho-N-(5Z,8Z,11Z,14Z-eicosatetraenoyl)-ethanolamine_0",
         "line": {
          "color": "#FECB52",
          "dash": "solid"
         },
         "marker": {
          "symbol": "circle"
         },
         "mode": "lines",
         "name": "1-(14Z,17Z,20Z,23Z,26Z-dotriacontapentaenoyl)-2-(11Z,14Z,17Z,20Z-hexacosatetraenoyl)-sn-glycero-3-phospho-N-dodecanoyl-ethanolamine/1-(14Z,17Z,20Z,23Z,26Z-dotriacontapentaenoyl)-2-(11Z,14Z,17Z-eicoastrienoyl)-sn-glycero-3-phospho-N-(11Z-octadecenoyl)-ethanolamine/1-(14Z,17Z,20Z,23Z,26Z-dotriacontapentaenoyl)-2-(11Z,14Z,17Z-eicoastrienoyl)-sn-glycero-3-phospho-N-(9Z-octadecenoyl)-ethanolamine/1-(14Z,17Z,20Z,23Z,26Z-dotriacontapentaenoyl)-2-(11Z,14Z-eicosadienoyl)-sn-glycero-3-phospho-N-(9Z,12Z-octadecadienoyl)-ethanolamine/1-(14Z,17Z,20Z,23Z,26Z-dotriacontapentaenoyl)-2-(11Z-eicosenoyl)-sn-glycero-3-phospho-N-(6Z,9Z,12Z-octadecatrienoyl)-ethanolamine/1-(14Z,17Z,20Z,23Z,26Z-dotriacontapentaenoyl)-2-(11Z-eicosenoyl)-sn-glycero-3-phospho-N-(9Z,12Z,15Z-octadecatrienoyl)-ethanolamine/1-(14Z,17Z,20Z,23Z,26Z-dotriacontapentaenoyl)-2-(13Z,16Z,19Z,22Z-octacosatetraenoyl)-sn-glycero-3-phospho-N-decanoyl-ethanolamine/1-(14Z,17Z,20Z,23Z,26Z-dotriacontapentaenoyl)-2-(15Z,18Z,21Z,24Z-triacontatetraenoyl)-sn-glycero-3-phospho-N-octanoyl-ethanolamine/1-(14Z,17Z,20Z,23Z,26Z-dotriacontapentaenoyl)-2-(17Z,20Z,23Z,26Z-dotriacontatetraenoyl)-sn-glycero-3-phospho-N-hexanoyl-ethanolamine/1-(14Z,17Z,20Z,23Z,26Z-dotriacontapentaenoyl)-2-(5Z,8Z,11Z,14Z-eicosatetraenoyl)-sn-glycero-3-phospho-N-octadecanoyl-ethanolamine/1-(14Z,17Z,20Z,23Z,26Z-dotriacontapentaenoyl)-2-(7Z,10Z,13Z,16Z-docosatetraenoyl)-sn-glycero-3-phospho-N-hexadecanoyl-ethanolamine/1-(14Z,17Z,20Z,23Z,26Z-dotriacontapentaenoyl)-2-(8Z,11Z,14Z,17Z-eicosatetraenoyl)-sn-glycero-3-phospho-N-octadecanoyl-ethanolamine/1-(14Z,17Z,20Z,23Z,26Z-dotriacontapentaenoyl)-2-(8Z,11Z,14Z-eicosatrienoyl)-sn-glycero-3-phospho-N-(11Z-octadecenoyl)-ethanolamine/1-(14Z,17Z,20Z,23Z,26Z-dotriacontapentaenoyl)-2-(8Z,11Z,14Z-eicosatrienoyl)-sn-glycero-3-phospho-N-(9Z-octadecenoyl)-ethanolamine/1-(14Z,17Z,20Z,23Z,26Z-dotriacontapentaenoyl)-2-(9Z,12Z,15Z,18Z-tetracosatetraenoyl)-sn-glycero-3-phospho-N-tetradecanoyl-ethanolamine/1-(14Z,17Z,20Z,23Z,26Z-dotriacontapentaenoyl)-2-octadecanoyl-sn-glycero-3-phospho-N-(5Z,8Z,11Z,14Z-eicosatetraenoyl)-ethanolamine_0",
         "scene": "scene",
         "showlegend": false,
         "type": "scatter3d",
         "x": [
          1217.933763533229,
          1217.933763533229,
          1217.933763533229,
          1218.937118371029,
          1218.937118371029,
          1218.937118371029
         ],
         "y": [
          4.446000099182129,
          5.160999774932861,
          5.875,
          4.446000099182129,
          5.160999774932861,
          5.875
         ],
         "z": [
          60.192874908447266,
          63.18952941894531,
          0,
          0,
          0,
          0
         ]
        },
        {
         "hovertemplate": "labels=1-(14Z,17Z,20Z,23Z,26Z-dotriacontapentaenoyl)-2-(11Z,14Z,17Z,20Z-hexacosatetraenoyl)-sn-glycero-3-phospho-N-hexadecanoyl-ethanolamine/1-(14Z,17Z,20Z,23Z,26Z-dotriacontapentaenoyl)-2-(13Z,16Z,19Z,22Z-octacosatetraenoyl)-sn-glycero-3-phospho-N-tetradecanoyl-ethanolamine/1-(14Z,17Z,20Z,23Z,26Z-dotriacontapentaenoyl)-2-(15Z,18Z,21Z,24Z-triacontatetraenoyl)-sn-glycero-3-phospho-N-dodecanoyl-ethanolamine/1-(14Z,17Z,20Z,23Z,26Z-dotriacontapentaenoyl)-2-(15Z-tetracosenoyl)-sn-glycero-3-phospho-N-(6Z,9Z,12Z-octadecatrienoyl)-ethanolamine/1-(14Z,17Z,20Z,23Z,26Z-dotriacontapentaenoyl)-2-(15Z-tetracosenoyl)-sn-glycero-3-phospho-N-(9Z,12Z,15Z-octadecatrienoyl)-ethanolamine/1-(14Z,17Z,20Z,23Z,26Z-dotriacontapentaenoyl)-2-(17Z,20Z,23Z,26Z-dotriacontatetraenoyl)-sn-glycero-3-phospho-N-decanoyl-ethanolamine/1-(14Z,17Z,20Z,23Z,26Z-dotriacontapentaenoyl)-2-(19Z,22Z,25Z,28Z-tetratriacontatetraenoyl)-sn-glycero-3-phospho-N-octanoyl-ethanolamine/1-(14Z,17Z,20Z,23Z,26Z-dotriacontapentaenoyl)-2-(21Z,24Z,27Z,30Z-hexatriacontatetraenoyl)-sn-glycero-3-phospho-N-hexanoyl-ethanolamine/1-(14Z,17Z,20Z,23Z,26Z-dotriacontapentaenoyl)-2-(9Z,12Z,15Z,18Z-tetracosatetraenoyl)-sn-glycero-3-phospho-N-octadecanoyl-ethanolamine/1-(14Z,17Z,20Z,23Z,26Z-dotriacontapentaenoyl)-2-docosanoyl-sn-glycero-3-phospho-N-(5Z,8Z,11Z,14Z-eicosatetraenoyl)-ethanolamine_0<br>m/z=%{x}<br>rt=%{y}<br>intensity=%{z}<extra></extra>",
         "legendgroup": "1-(14Z,17Z,20Z,23Z,26Z-dotriacontapentaenoyl)-2-(11Z,14Z,17Z,20Z-hexacosatetraenoyl)-sn-glycero-3-phospho-N-hexadecanoyl-ethanolamine/1-(14Z,17Z,20Z,23Z,26Z-dotriacontapentaenoyl)-2-(13Z,16Z,19Z,22Z-octacosatetraenoyl)-sn-glycero-3-phospho-N-tetradecanoyl-ethanolamine/1-(14Z,17Z,20Z,23Z,26Z-dotriacontapentaenoyl)-2-(15Z,18Z,21Z,24Z-triacontatetraenoyl)-sn-glycero-3-phospho-N-dodecanoyl-ethanolamine/1-(14Z,17Z,20Z,23Z,26Z-dotriacontapentaenoyl)-2-(15Z-tetracosenoyl)-sn-glycero-3-phospho-N-(6Z,9Z,12Z-octadecatrienoyl)-ethanolamine/1-(14Z,17Z,20Z,23Z,26Z-dotriacontapentaenoyl)-2-(15Z-tetracosenoyl)-sn-glycero-3-phospho-N-(9Z,12Z,15Z-octadecatrienoyl)-ethanolamine/1-(14Z,17Z,20Z,23Z,26Z-dotriacontapentaenoyl)-2-(17Z,20Z,23Z,26Z-dotriacontatetraenoyl)-sn-glycero-3-phospho-N-decanoyl-ethanolamine/1-(14Z,17Z,20Z,23Z,26Z-dotriacontapentaenoyl)-2-(19Z,22Z,25Z,28Z-tetratriacontatetraenoyl)-sn-glycero-3-phospho-N-octanoyl-ethanolamine/1-(14Z,17Z,20Z,23Z,26Z-dotriacontapentaenoyl)-2-(21Z,24Z,27Z,30Z-hexatriacontatetraenoyl)-sn-glycero-3-phospho-N-hexanoyl-ethanolamine/1-(14Z,17Z,20Z,23Z,26Z-dotriacontapentaenoyl)-2-(9Z,12Z,15Z,18Z-tetracosatetraenoyl)-sn-glycero-3-phospho-N-octadecanoyl-ethanolamine/1-(14Z,17Z,20Z,23Z,26Z-dotriacontapentaenoyl)-2-docosanoyl-sn-glycero-3-phospho-N-(5Z,8Z,11Z,14Z-eicosatetraenoyl)-ethanolamine_0",
         "line": {
          "color": "#636efa",
          "dash": "solid"
         },
         "marker": {
          "symbol": "circle"
         },
         "mode": "lines",
         "name": "1-(14Z,17Z,20Z,23Z,26Z-dotriacontapentaenoyl)-2-(11Z,14Z,17Z,20Z-hexacosatetraenoyl)-sn-glycero-3-phospho-N-hexadecanoyl-ethanolamine/1-(14Z,17Z,20Z,23Z,26Z-dotriacontapentaenoyl)-2-(13Z,16Z,19Z,22Z-octacosatetraenoyl)-sn-glycero-3-phospho-N-tetradecanoyl-ethanolamine/1-(14Z,17Z,20Z,23Z,26Z-dotriacontapentaenoyl)-2-(15Z,18Z,21Z,24Z-triacontatetraenoyl)-sn-glycero-3-phospho-N-dodecanoyl-ethanolamine/1-(14Z,17Z,20Z,23Z,26Z-dotriacontapentaenoyl)-2-(15Z-tetracosenoyl)-sn-glycero-3-phospho-N-(6Z,9Z,12Z-octadecatrienoyl)-ethanolamine/1-(14Z,17Z,20Z,23Z,26Z-dotriacontapentaenoyl)-2-(15Z-tetracosenoyl)-sn-glycero-3-phospho-N-(9Z,12Z,15Z-octadecatrienoyl)-ethanolamine/1-(14Z,17Z,20Z,23Z,26Z-dotriacontapentaenoyl)-2-(17Z,20Z,23Z,26Z-dotriacontatetraenoyl)-sn-glycero-3-phospho-N-decanoyl-ethanolamine/1-(14Z,17Z,20Z,23Z,26Z-dotriacontapentaenoyl)-2-(19Z,22Z,25Z,28Z-tetratriacontatetraenoyl)-sn-glycero-3-phospho-N-octanoyl-ethanolamine/1-(14Z,17Z,20Z,23Z,26Z-dotriacontapentaenoyl)-2-(21Z,24Z,27Z,30Z-hexatriacontatetraenoyl)-sn-glycero-3-phospho-N-hexanoyl-ethanolamine/1-(14Z,17Z,20Z,23Z,26Z-dotriacontapentaenoyl)-2-(9Z,12Z,15Z,18Z-tetracosatetraenoyl)-sn-glycero-3-phospho-N-octadecanoyl-ethanolamine/1-(14Z,17Z,20Z,23Z,26Z-dotriacontapentaenoyl)-2-docosanoyl-sn-glycero-3-phospho-N-(5Z,8Z,11Z,14Z-eicosatetraenoyl)-ethanolamine_0",
         "scene": "scene",
         "showlegend": false,
         "type": "scatter3d",
         "x": [
          1273.9963735332294,
          1273.9963735332294,
          1273.9963735332294,
          1274.9997283710293,
          1274.9997283710293,
          1274.9997283710293
         ],
         "y": [
          5.160999774932861,
          5.875,
          6.590000152587891,
          5.160999774932861,
          5.875,
          6.590000152587891
         ],
         "z": [
          0,
          407.4688720703125,
          0,
          0,
          44.122032165527344,
          58.00262451171875
         ]
        },
        {
         "hovertemplate": "labels=1-(14Z,17Z,20Z,23Z,26Z-dotriacontapentaenoyl)-2-(11Z,14Z,17Z,20Z-hexacosatetraenoyl)-sn-glycero-3-phospho-N-hexanoyl-ethanolamine/1-(14Z,17Z,20Z,23Z,26Z-dotriacontapentaenoyl)-2-(5Z,8Z,11Z,14Z-eicosatetraenoyl)-sn-glycero-3-phospho-N-dodecanoyl-ethanolamine/1-(14Z,17Z,20Z,23Z,26Z-dotriacontapentaenoyl)-2-(6Z,9Z,12Z,15Z-octadecatetraenoyl)-sn-glycero-3-phospho-N-tetradecanoyl-ethanolamine/1-(14Z,17Z,20Z,23Z,26Z-dotriacontapentaenoyl)-2-(7Z,10Z,13Z,16Z-docosatetraenoyl)-sn-glycero-3-phospho-N-decanoyl-ethanolamine/1-(14Z,17Z,20Z,23Z,26Z-dotriacontapentaenoyl)-2-(8Z,11Z,14Z,17Z-eicosatetraenoyl)-sn-glycero-3-phospho-N-dodecanoyl-ethanolamine/1-(14Z,17Z,20Z,23Z,26Z-dotriacontapentaenoyl)-2-(9Z,12Z,15Z,18Z-tetracosatetraenoyl)-sn-glycero-3-phospho-N-octanoyl-ethanolamine_0<br>m/z=%{x}<br>rt=%{y}<br>intensity=%{z}<extra></extra>",
         "legendgroup": "1-(14Z,17Z,20Z,23Z,26Z-dotriacontapentaenoyl)-2-(11Z,14Z,17Z,20Z-hexacosatetraenoyl)-sn-glycero-3-phospho-N-hexanoyl-ethanolamine/1-(14Z,17Z,20Z,23Z,26Z-dotriacontapentaenoyl)-2-(5Z,8Z,11Z,14Z-eicosatetraenoyl)-sn-glycero-3-phospho-N-dodecanoyl-ethanolamine/1-(14Z,17Z,20Z,23Z,26Z-dotriacontapentaenoyl)-2-(6Z,9Z,12Z,15Z-octadecatetraenoyl)-sn-glycero-3-phospho-N-tetradecanoyl-ethanolamine/1-(14Z,17Z,20Z,23Z,26Z-dotriacontapentaenoyl)-2-(7Z,10Z,13Z,16Z-docosatetraenoyl)-sn-glycero-3-phospho-N-decanoyl-ethanolamine/1-(14Z,17Z,20Z,23Z,26Z-dotriacontapentaenoyl)-2-(8Z,11Z,14Z,17Z-eicosatetraenoyl)-sn-glycero-3-phospho-N-dodecanoyl-ethanolamine/1-(14Z,17Z,20Z,23Z,26Z-dotriacontapentaenoyl)-2-(9Z,12Z,15Z,18Z-tetracosatetraenoyl)-sn-glycero-3-phospho-N-octanoyl-ethanolamine_0",
         "line": {
          "color": "#EF553B",
          "dash": "solid"
         },
         "marker": {
          "symbol": "circle"
         },
         "mode": "lines",
         "name": "1-(14Z,17Z,20Z,23Z,26Z-dotriacontapentaenoyl)-2-(11Z,14Z,17Z,20Z-hexacosatetraenoyl)-sn-glycero-3-phospho-N-hexanoyl-ethanolamine/1-(14Z,17Z,20Z,23Z,26Z-dotriacontapentaenoyl)-2-(5Z,8Z,11Z,14Z-eicosatetraenoyl)-sn-glycero-3-phospho-N-dodecanoyl-ethanolamine/1-(14Z,17Z,20Z,23Z,26Z-dotriacontapentaenoyl)-2-(6Z,9Z,12Z,15Z-octadecatetraenoyl)-sn-glycero-3-phospho-N-tetradecanoyl-ethanolamine/1-(14Z,17Z,20Z,23Z,26Z-dotriacontapentaenoyl)-2-(7Z,10Z,13Z,16Z-docosatetraenoyl)-sn-glycero-3-phospho-N-decanoyl-ethanolamine/1-(14Z,17Z,20Z,23Z,26Z-dotriacontapentaenoyl)-2-(8Z,11Z,14Z,17Z-eicosatetraenoyl)-sn-glycero-3-phospho-N-dodecanoyl-ethanolamine/1-(14Z,17Z,20Z,23Z,26Z-dotriacontapentaenoyl)-2-(9Z,12Z,15Z,18Z-tetracosatetraenoyl)-sn-glycero-3-phospho-N-octanoyl-ethanolamine_0",
         "scene": "scene",
         "showlegend": false,
         "type": "scatter3d",
         "x": [
          1133.8398635332292,
          1133.8398635332292,
          1133.8398635332292,
          1133.8398635332292,
          1134.8432183710293,
          1134.8432183710293,
          1134.8432183710293,
          1134.8432183710293
         ],
         "y": [
          8.732999801635742,
          9.446999549865723,
          10.161999702453613,
          10.87600040435791,
          8.732999801635742,
          9.446999549865723,
          10.161999702453613,
          10.87600040435791
         ],
         "z": [
          192.71261596679688,
          272.3285827636719,
          199.77484130859375,
          607.58447265625,
          0,
          0,
          1002.7581176757812,
          835.2492065429688
         ]
        },
        {
         "hovertemplate": "labels=1-(14Z,17Z,20Z,23Z,26Z-dotriacontapentaenoyl)-2-(11Z,14Z,17Z,20Z-hexacosatetraenoyl)-sn-glycero-3-phospho-N-octadecanoyl-ethanolamine/1-(14Z,17Z,20Z,23Z,26Z-dotriacontapentaenoyl)-2-(13Z,16Z,19Z,22Z-octacosatetraenoyl)-sn-glycero-3-phospho-N-hexadecanoyl-ethanolamine/1-(14Z,17Z,20Z,23Z,26Z-dotriacontapentaenoyl)-2-(15Z,18Z,21Z,24Z-triacontatetraenoyl)-sn-glycero-3-phospho-N-tetradecanoyl-ethanolamine/1-(14Z,17Z,20Z,23Z,26Z-dotriacontapentaenoyl)-2-(17Z,20Z,23Z,26Z-dotriacontatetraenoyl)-sn-glycero-3-phospho-N-dodecanoyl-ethanolamine/1-(14Z,17Z,20Z,23Z,26Z-dotriacontapentaenoyl)-2-(17Z-hexacosenoyl)-sn-glycero-3-phospho-N-(6Z,9Z,12Z-octadecatrienoyl)-ethanolamine/1-(14Z,17Z,20Z,23Z,26Z-dotriacontapentaenoyl)-2-(17Z-hexacosenoyl)-sn-glycero-3-phospho-N-(9Z,12Z,15Z-octadecatrienoyl)-ethanolamine/1-(14Z,17Z,20Z,23Z,26Z-dotriacontapentaenoyl)-2-(19Z,22Z,25Z,28Z-tetratriacontatetraenoyl)-sn-glycero-3-phospho-N-decanoyl-ethanolamine/1-(14Z,17Z,20Z,23Z,26Z-dotriacontapentaenoyl)-2-(21Z,24Z,27Z,30Z-hexatriacontatetraenoyl)-sn-glycero-3-phospho-N-octanoyl-ethanolamine/1-(14Z,17Z,20Z,23Z,26Z-dotriacontapentaenoyl)-2-(23Z,26Z,29Z,32Z-octatriacontatetraenoyl)-sn-glycero-3-phospho-N-hexanoyl-ethanolamine/1-(14Z,17Z,20Z,23Z,26Z-dotriacontapentaenoyl)-2-tetracosanoyl-sn-glycero-3-phospho-N-(5Z,8Z,11Z,14Z-eicosatetraenoyl)-ethanolamine_0<br>m/z=%{x}<br>rt=%{y}<br>intensity=%{z}<extra></extra>",
         "legendgroup": "1-(14Z,17Z,20Z,23Z,26Z-dotriacontapentaenoyl)-2-(11Z,14Z,17Z,20Z-hexacosatetraenoyl)-sn-glycero-3-phospho-N-octadecanoyl-ethanolamine/1-(14Z,17Z,20Z,23Z,26Z-dotriacontapentaenoyl)-2-(13Z,16Z,19Z,22Z-octacosatetraenoyl)-sn-glycero-3-phospho-N-hexadecanoyl-ethanolamine/1-(14Z,17Z,20Z,23Z,26Z-dotriacontapentaenoyl)-2-(15Z,18Z,21Z,24Z-triacontatetraenoyl)-sn-glycero-3-phospho-N-tetradecanoyl-ethanolamine/1-(14Z,17Z,20Z,23Z,26Z-dotriacontapentaenoyl)-2-(17Z,20Z,23Z,26Z-dotriacontatetraenoyl)-sn-glycero-3-phospho-N-dodecanoyl-ethanolamine/1-(14Z,17Z,20Z,23Z,26Z-dotriacontapentaenoyl)-2-(17Z-hexacosenoyl)-sn-glycero-3-phospho-N-(6Z,9Z,12Z-octadecatrienoyl)-ethanolamine/1-(14Z,17Z,20Z,23Z,26Z-dotriacontapentaenoyl)-2-(17Z-hexacosenoyl)-sn-glycero-3-phospho-N-(9Z,12Z,15Z-octadecatrienoyl)-ethanolamine/1-(14Z,17Z,20Z,23Z,26Z-dotriacontapentaenoyl)-2-(19Z,22Z,25Z,28Z-tetratriacontatetraenoyl)-sn-glycero-3-phospho-N-decanoyl-ethanolamine/1-(14Z,17Z,20Z,23Z,26Z-dotriacontapentaenoyl)-2-(21Z,24Z,27Z,30Z-hexatriacontatetraenoyl)-sn-glycero-3-phospho-N-octanoyl-ethanolamine/1-(14Z,17Z,20Z,23Z,26Z-dotriacontapentaenoyl)-2-(23Z,26Z,29Z,32Z-octatriacontatetraenoyl)-sn-glycero-3-phospho-N-hexanoyl-ethanolamine/1-(14Z,17Z,20Z,23Z,26Z-dotriacontapentaenoyl)-2-tetracosanoyl-sn-glycero-3-phospho-N-(5Z,8Z,11Z,14Z-eicosatetraenoyl)-ethanolamine_0",
         "line": {
          "color": "#00cc96",
          "dash": "solid"
         },
         "marker": {
          "symbol": "circle"
         },
         "mode": "lines",
         "name": "1-(14Z,17Z,20Z,23Z,26Z-dotriacontapentaenoyl)-2-(11Z,14Z,17Z,20Z-hexacosatetraenoyl)-sn-glycero-3-phospho-N-octadecanoyl-ethanolamine/1-(14Z,17Z,20Z,23Z,26Z-dotriacontapentaenoyl)-2-(13Z,16Z,19Z,22Z-octacosatetraenoyl)-sn-glycero-3-phospho-N-hexadecanoyl-ethanolamine/1-(14Z,17Z,20Z,23Z,26Z-dotriacontapentaenoyl)-2-(15Z,18Z,21Z,24Z-triacontatetraenoyl)-sn-glycero-3-phospho-N-tetradecanoyl-ethanolamine/1-(14Z,17Z,20Z,23Z,26Z-dotriacontapentaenoyl)-2-(17Z,20Z,23Z,26Z-dotriacontatetraenoyl)-sn-glycero-3-phospho-N-dodecanoyl-ethanolamine/1-(14Z,17Z,20Z,23Z,26Z-dotriacontapentaenoyl)-2-(17Z-hexacosenoyl)-sn-glycero-3-phospho-N-(6Z,9Z,12Z-octadecatrienoyl)-ethanolamine/1-(14Z,17Z,20Z,23Z,26Z-dotriacontapentaenoyl)-2-(17Z-hexacosenoyl)-sn-glycero-3-phospho-N-(9Z,12Z,15Z-octadecatrienoyl)-ethanolamine/1-(14Z,17Z,20Z,23Z,26Z-dotriacontapentaenoyl)-2-(19Z,22Z,25Z,28Z-tetratriacontatetraenoyl)-sn-glycero-3-phospho-N-decanoyl-ethanolamine/1-(14Z,17Z,20Z,23Z,26Z-dotriacontapentaenoyl)-2-(21Z,24Z,27Z,30Z-hexatriacontatetraenoyl)-sn-glycero-3-phospho-N-octanoyl-ethanolamine/1-(14Z,17Z,20Z,23Z,26Z-dotriacontapentaenoyl)-2-(23Z,26Z,29Z,32Z-octatriacontatetraenoyl)-sn-glycero-3-phospho-N-hexanoyl-ethanolamine/1-(14Z,17Z,20Z,23Z,26Z-dotriacontapentaenoyl)-2-tetracosanoyl-sn-glycero-3-phospho-N-(5Z,8Z,11Z,14Z-eicosatetraenoyl)-ethanolamine_0",
         "scene": "scene",
         "showlegend": false,
         "type": "scatter3d",
         "x": [
          1302.027673533229,
          1302.027673533229,
          1303.0310283710292,
          1303.0310283710292
         ],
         "y": [
          10.161999702453613,
          10.87600040435791,
          10.161999702453613,
          10.87600040435791
         ],
         "z": [
          0,
          498.8203430175781,
          0,
          1186.39013671875
         ]
        },
        {
         "hovertemplate": "labels=1-(14Z,17Z,20Z,23Z,26Z-dotriacontapentaenoyl)-2-(11Z,14Z,17Z,20Z-hexacosatetraenoyl)-sn-glycero-3-phospho-N-octanoyl-ethanolamine/1-(14Z,17Z,20Z,23Z,26Z-dotriacontapentaenoyl)-2-(13Z,16Z,19Z,22Z-octacosatetraenoyl)-sn-glycero-3-phospho-N-hexanoyl-ethanolamine/1-(14Z,17Z,20Z,23Z,26Z-dotriacontapentaenoyl)-2-(5Z,8Z,11Z,14Z-eicosatetraenoyl)-sn-glycero-3-phospho-N-tetradecanoyl-ethanolamine/1-(14Z,17Z,20Z,23Z,26Z-dotriacontapentaenoyl)-2-(6Z,9Z,12Z,15Z-octadecatetraenoyl)-sn-glycero-3-phospho-N-hexadecanoyl-ethanolamine/1-(14Z,17Z,20Z,23Z,26Z-dotriacontapentaenoyl)-2-(6Z-hexadecenoyl)-sn-glycero-3-phospho-N-(6Z,9Z,12Z-octadecatrienoyl)-ethanolamine/1-(14Z,17Z,20Z,23Z,26Z-dotriacontapentaenoyl)-2-(6Z-hexadecenoyl)-sn-glycero-3-phospho-N-(9Z,12Z,15Z-octadecatrienoyl)-ethanolamine/1-(14Z,17Z,20Z,23Z,26Z-dotriacontapentaenoyl)-2-(7Z,10Z,13Z,16Z-docosatetraenoyl)-sn-glycero-3-phospho-N-dodecanoyl-ethanolamine/1-(14Z,17Z,20Z,23Z,26Z-dotriacontapentaenoyl)-2-(8Z,11Z,14Z,17Z-eicosatetraenoyl)-sn-glycero-3-phospho-N-tetradecanoyl-ethanolamine/1-(14Z,17Z,20Z,23Z,26Z-dotriacontapentaenoyl)-2-(9Z,12Z,15Z,18Z-tetracosatetraenoyl)-sn-glycero-3-phospho-N-decanoyl-ethanolamine/1-(14Z,17Z,20Z,23Z,26Z-dotriacontapentaenoyl)-2-(9Z,12Z-hexadecadienoyl)-sn-glycero-3-phospho-N-(9Z,12Z-octadecadienoyl)-ethanolamine/1-(14Z,17Z,20Z,23Z,26Z-dotriacontapentaenoyl)-2-(9Z-hexadecenoyl)-sn-glycero-3-phospho-N-(6Z,9Z,12Z-octadecatrienoyl)-ethanolamine/1-(14Z,17Z,20Z,23Z,26Z-dotriacontapentaenoyl)-2-(9Z-hexadecenoyl)-sn-glycero-3-phospho-N-(9Z,12Z,15Z-octadecatrienoyl)-ethanolamine_0<br>m/z=%{x}<br>rt=%{y}<br>intensity=%{z}<extra></extra>",
         "legendgroup": "1-(14Z,17Z,20Z,23Z,26Z-dotriacontapentaenoyl)-2-(11Z,14Z,17Z,20Z-hexacosatetraenoyl)-sn-glycero-3-phospho-N-octanoyl-ethanolamine/1-(14Z,17Z,20Z,23Z,26Z-dotriacontapentaenoyl)-2-(13Z,16Z,19Z,22Z-octacosatetraenoyl)-sn-glycero-3-phospho-N-hexanoyl-ethanolamine/1-(14Z,17Z,20Z,23Z,26Z-dotriacontapentaenoyl)-2-(5Z,8Z,11Z,14Z-eicosatetraenoyl)-sn-glycero-3-phospho-N-tetradecanoyl-ethanolamine/1-(14Z,17Z,20Z,23Z,26Z-dotriacontapentaenoyl)-2-(6Z,9Z,12Z,15Z-octadecatetraenoyl)-sn-glycero-3-phospho-N-hexadecanoyl-ethanolamine/1-(14Z,17Z,20Z,23Z,26Z-dotriacontapentaenoyl)-2-(6Z-hexadecenoyl)-sn-glycero-3-phospho-N-(6Z,9Z,12Z-octadecatrienoyl)-ethanolamine/1-(14Z,17Z,20Z,23Z,26Z-dotriacontapentaenoyl)-2-(6Z-hexadecenoyl)-sn-glycero-3-phospho-N-(9Z,12Z,15Z-octadecatrienoyl)-ethanolamine/1-(14Z,17Z,20Z,23Z,26Z-dotriacontapentaenoyl)-2-(7Z,10Z,13Z,16Z-docosatetraenoyl)-sn-glycero-3-phospho-N-dodecanoyl-ethanolamine/1-(14Z,17Z,20Z,23Z,26Z-dotriacontapentaenoyl)-2-(8Z,11Z,14Z,17Z-eicosatetraenoyl)-sn-glycero-3-phospho-N-tetradecanoyl-ethanolamine/1-(14Z,17Z,20Z,23Z,26Z-dotriacontapentaenoyl)-2-(9Z,12Z,15Z,18Z-tetracosatetraenoyl)-sn-glycero-3-phospho-N-decanoyl-ethanolamine/1-(14Z,17Z,20Z,23Z,26Z-dotriacontapentaenoyl)-2-(9Z,12Z-hexadecadienoyl)-sn-glycero-3-phospho-N-(9Z,12Z-octadecadienoyl)-ethanolamine/1-(14Z,17Z,20Z,23Z,26Z-dotriacontapentaenoyl)-2-(9Z-hexadecenoyl)-sn-glycero-3-phospho-N-(6Z,9Z,12Z-octadecatrienoyl)-ethanolamine/1-(14Z,17Z,20Z,23Z,26Z-dotriacontapentaenoyl)-2-(9Z-hexadecenoyl)-sn-glycero-3-phospho-N-(9Z,12Z,15Z-octadecatrienoyl)-ethanolamine_0",
         "line": {
          "color": "#ab63fa",
          "dash": "solid"
         },
         "marker": {
          "symbol": "circle"
         },
         "mode": "lines",
         "name": "1-(14Z,17Z,20Z,23Z,26Z-dotriacontapentaenoyl)-2-(11Z,14Z,17Z,20Z-hexacosatetraenoyl)-sn-glycero-3-phospho-N-octanoyl-ethanolamine/1-(14Z,17Z,20Z,23Z,26Z-dotriacontapentaenoyl)-2-(13Z,16Z,19Z,22Z-octacosatetraenoyl)-sn-glycero-3-phospho-N-hexanoyl-ethanolamine/1-(14Z,17Z,20Z,23Z,26Z-dotriacontapentaenoyl)-2-(5Z,8Z,11Z,14Z-eicosatetraenoyl)-sn-glycero-3-phospho-N-tetradecanoyl-ethanolamine/1-(14Z,17Z,20Z,23Z,26Z-dotriacontapentaenoyl)-2-(6Z,9Z,12Z,15Z-octadecatetraenoyl)-sn-glycero-3-phospho-N-hexadecanoyl-ethanolamine/1-(14Z,17Z,20Z,23Z,26Z-dotriacontapentaenoyl)-2-(6Z-hexadecenoyl)-sn-glycero-3-phospho-N-(6Z,9Z,12Z-octadecatrienoyl)-ethanolamine/1-(14Z,17Z,20Z,23Z,26Z-dotriacontapentaenoyl)-2-(6Z-hexadecenoyl)-sn-glycero-3-phospho-N-(9Z,12Z,15Z-octadecatrienoyl)-ethanolamine/1-(14Z,17Z,20Z,23Z,26Z-dotriacontapentaenoyl)-2-(7Z,10Z,13Z,16Z-docosatetraenoyl)-sn-glycero-3-phospho-N-dodecanoyl-ethanolamine/1-(14Z,17Z,20Z,23Z,26Z-dotriacontapentaenoyl)-2-(8Z,11Z,14Z,17Z-eicosatetraenoyl)-sn-glycero-3-phospho-N-tetradecanoyl-ethanolamine/1-(14Z,17Z,20Z,23Z,26Z-dotriacontapentaenoyl)-2-(9Z,12Z,15Z,18Z-tetracosatetraenoyl)-sn-glycero-3-phospho-N-decanoyl-ethanolamine/1-(14Z,17Z,20Z,23Z,26Z-dotriacontapentaenoyl)-2-(9Z,12Z-hexadecadienoyl)-sn-glycero-3-phospho-N-(9Z,12Z-octadecadienoyl)-ethanolamine/1-(14Z,17Z,20Z,23Z,26Z-dotriacontapentaenoyl)-2-(9Z-hexadecenoyl)-sn-glycero-3-phospho-N-(6Z,9Z,12Z-octadecatrienoyl)-ethanolamine/1-(14Z,17Z,20Z,23Z,26Z-dotriacontapentaenoyl)-2-(9Z-hexadecenoyl)-sn-glycero-3-phospho-N-(9Z,12Z,15Z-octadecatrienoyl)-ethanolamine_0",
         "scene": "scene",
         "showlegend": false,
         "type": "scatter3d",
         "x": [
          1161.871163533229,
          1161.871163533229,
          1162.8745183710294,
          1162.8745183710294
         ],
         "y": [
          8.732999801635742,
          9.446999549865723,
          8.732999801635742,
          9.446999549865723
         ],
         "z": [
          0,
          600.5933837890625,
          147.6812744140625,
          130.83621215820312
         ]
        },
        {
         "hovertemplate": "labels=1-(14Z,17Z,20Z,23Z,26Z-dotriacontapentaenoyl)-2-(11Z,14Z,17Z-eicoastrienoyl)-sn-glycero-3-phospho-N-(4Z,7Z,10Z,13Z,16Z,19Z-docosahexaenoyl)-ethanolamine/1-(14Z,17Z,20Z,23Z,26Z-dotriacontapentaenoyl)-2-(4Z,7Z,10Z,13Z,16Z-docosapentaenoyl)-sn-glycero-3-phospho-N-(5Z,8Z,11Z,14Z-eicosatetraenoyl)-ethanolamine/1-(14Z,17Z,20Z,23Z,26Z-dotriacontapentaenoyl)-2-(6Z,9Z,12Z,15Z,18Z,21Z-tetracosahexaenoyl)-sn-glycero-3-phospho-N-(6Z,9Z,12Z-octadecatrienoyl)-ethanolamine/1-(14Z,17Z,20Z,23Z,26Z-dotriacontapentaenoyl)-2-(6Z,9Z,12Z,15Z,18Z,21Z-tetracosahexaenoyl)-sn-glycero-3-phospho-N-(9Z,12Z,15Z-octadecatrienoyl)-ethanolamine/1-(14Z,17Z,20Z,23Z,26Z-dotriacontapentaenoyl)-2-(7Z,10Z,13Z,16Z,19Z-docosapentaenoyl)-sn-glycero-3-phospho-N-(5Z,8Z,11Z,14Z-eicosatetraenoyl)-ethanolamine/1-(14Z,17Z,20Z,23Z,26Z-dotriacontapentaenoyl)-2-(8Z,11Z,14Z-eicosatrienoyl)-sn-glycero-3-phospho-N-(4Z,7Z,10Z,13Z,16Z,19Z-docosahexaenoyl)-ethanolamine_0<br>m/z=%{x}<br>rt=%{y}<br>intensity=%{z}<extra></extra>",
         "legendgroup": "1-(14Z,17Z,20Z,23Z,26Z-dotriacontapentaenoyl)-2-(11Z,14Z,17Z-eicoastrienoyl)-sn-glycero-3-phospho-N-(4Z,7Z,10Z,13Z,16Z,19Z-docosahexaenoyl)-ethanolamine/1-(14Z,17Z,20Z,23Z,26Z-dotriacontapentaenoyl)-2-(4Z,7Z,10Z,13Z,16Z-docosapentaenoyl)-sn-glycero-3-phospho-N-(5Z,8Z,11Z,14Z-eicosatetraenoyl)-ethanolamine/1-(14Z,17Z,20Z,23Z,26Z-dotriacontapentaenoyl)-2-(6Z,9Z,12Z,15Z,18Z,21Z-tetracosahexaenoyl)-sn-glycero-3-phospho-N-(6Z,9Z,12Z-octadecatrienoyl)-ethanolamine/1-(14Z,17Z,20Z,23Z,26Z-dotriacontapentaenoyl)-2-(6Z,9Z,12Z,15Z,18Z,21Z-tetracosahexaenoyl)-sn-glycero-3-phospho-N-(9Z,12Z,15Z-octadecatrienoyl)-ethanolamine/1-(14Z,17Z,20Z,23Z,26Z-dotriacontapentaenoyl)-2-(7Z,10Z,13Z,16Z,19Z-docosapentaenoyl)-sn-glycero-3-phospho-N-(5Z,8Z,11Z,14Z-eicosatetraenoyl)-ethanolamine/1-(14Z,17Z,20Z,23Z,26Z-dotriacontapentaenoyl)-2-(8Z,11Z,14Z-eicosatrienoyl)-sn-glycero-3-phospho-N-(4Z,7Z,10Z,13Z,16Z,19Z-docosahexaenoyl)-ethanolamine_0",
         "line": {
          "color": "#FFA15A",
          "dash": "solid"
         },
         "marker": {
          "symbol": "circle"
         },
         "mode": "lines",
         "name": "1-(14Z,17Z,20Z,23Z,26Z-dotriacontapentaenoyl)-2-(11Z,14Z,17Z-eicoastrienoyl)-sn-glycero-3-phospho-N-(4Z,7Z,10Z,13Z,16Z,19Z-docosahexaenoyl)-ethanolamine/1-(14Z,17Z,20Z,23Z,26Z-dotriacontapentaenoyl)-2-(4Z,7Z,10Z,13Z,16Z-docosapentaenoyl)-sn-glycero-3-phospho-N-(5Z,8Z,11Z,14Z-eicosatetraenoyl)-ethanolamine/1-(14Z,17Z,20Z,23Z,26Z-dotriacontapentaenoyl)-2-(6Z,9Z,12Z,15Z,18Z,21Z-tetracosahexaenoyl)-sn-glycero-3-phospho-N-(6Z,9Z,12Z-octadecatrienoyl)-ethanolamine/1-(14Z,17Z,20Z,23Z,26Z-dotriacontapentaenoyl)-2-(6Z,9Z,12Z,15Z,18Z,21Z-tetracosahexaenoyl)-sn-glycero-3-phospho-N-(9Z,12Z,15Z-octadecatrienoyl)-ethanolamine/1-(14Z,17Z,20Z,23Z,26Z-dotriacontapentaenoyl)-2-(7Z,10Z,13Z,16Z,19Z-docosapentaenoyl)-sn-glycero-3-phospho-N-(5Z,8Z,11Z,14Z-eicosatetraenoyl)-ethanolamine/1-(14Z,17Z,20Z,23Z,26Z-dotriacontapentaenoyl)-2-(8Z,11Z,14Z-eicosatrienoyl)-sn-glycero-3-phospho-N-(4Z,7Z,10Z,13Z,16Z,19Z-docosahexaenoyl)-ethanolamine_0",
         "scene": "scene",
         "showlegend": false,
         "type": "scatter3d",
         "x": [
          1263.9181135332294,
          1263.9181135332294,
          1263.9181135332294,
          1263.9181135332294,
          1264.9214683710293,
          1264.9214683710293,
          1264.9214683710293,
          1264.9214683710293
         ],
         "y": [
          7.303999900817871,
          8.017999649047852,
          8.732999801635742,
          9.446999549865723,
          7.303999900817871,
          8.017999649047852,
          8.732999801635742,
          9.446999549865723
         ],
         "z": [
          252.26730346679688,
          511.5686950683594,
          381.2529602050781,
          380.0819396972656,
          85.49339294433594,
          0,
          0,
          0
         ]
        },
        {
         "hovertemplate": "labels=1-(14Z,17Z,20Z,23Z,26Z-dotriacontapentaenoyl)-2-(11Z,14Z,17Z-eicoastrienoyl)-sn-glycero-3-phospho-N-hexanoyl-ethanolamine/1-(14Z,17Z,20Z,23Z,26Z-dotriacontapentaenoyl)-2-(6Z,9Z,12Z-octadecatrienoyl)-sn-glycero-3-phospho-N-octanoyl-ethanolamine/1-(14Z,17Z,20Z,23Z,26Z-dotriacontapentaenoyl)-2-(8Z,11Z,14Z-eicosatrienoyl)-sn-glycero-3-phospho-N-hexanoyl-ethanolamine/1-(14Z,17Z,20Z,23Z,26Z-dotriacontapentaenoyl)-2-(9Z,12Z,15Z-octadecatrienoyl)-sn-glycero-3-phospho-N-octanoyl-ethanolamine_0<br>m/z=%{x}<br>rt=%{y}<br>intensity=%{z}<extra></extra>",
         "legendgroup": "1-(14Z,17Z,20Z,23Z,26Z-dotriacontapentaenoyl)-2-(11Z,14Z,17Z-eicoastrienoyl)-sn-glycero-3-phospho-N-hexanoyl-ethanolamine/1-(14Z,17Z,20Z,23Z,26Z-dotriacontapentaenoyl)-2-(6Z,9Z,12Z-octadecatrienoyl)-sn-glycero-3-phospho-N-octanoyl-ethanolamine/1-(14Z,17Z,20Z,23Z,26Z-dotriacontapentaenoyl)-2-(8Z,11Z,14Z-eicosatrienoyl)-sn-glycero-3-phospho-N-hexanoyl-ethanolamine/1-(14Z,17Z,20Z,23Z,26Z-dotriacontapentaenoyl)-2-(9Z,12Z,15Z-octadecatrienoyl)-sn-glycero-3-phospho-N-octanoyl-ethanolamine_0",
         "line": {
          "color": "#19d3f3",
          "dash": "solid"
         },
         "marker": {
          "symbol": "circle"
         },
         "mode": "lines",
         "name": "1-(14Z,17Z,20Z,23Z,26Z-dotriacontapentaenoyl)-2-(11Z,14Z,17Z-eicoastrienoyl)-sn-glycero-3-phospho-N-hexanoyl-ethanolamine/1-(14Z,17Z,20Z,23Z,26Z-dotriacontapentaenoyl)-2-(6Z,9Z,12Z-octadecatrienoyl)-sn-glycero-3-phospho-N-octanoyl-ethanolamine/1-(14Z,17Z,20Z,23Z,26Z-dotriacontapentaenoyl)-2-(8Z,11Z,14Z-eicosatrienoyl)-sn-glycero-3-phospho-N-hexanoyl-ethanolamine/1-(14Z,17Z,20Z,23Z,26Z-dotriacontapentaenoyl)-2-(9Z,12Z,15Z-octadecatrienoyl)-sn-glycero-3-phospho-N-octanoyl-ethanolamine_0",
         "scene": "scene",
         "showlegend": false,
         "type": "scatter3d",
         "x": [
          1051.7616135332291,
          1051.7616135332291,
          1051.7616135332291,
          1052.7649683710292,
          1052.7649683710292,
          1052.7649683710292
         ],
         "y": [
          9.446999549865723,
          10.161999702453613,
          10.87600040435791,
          9.446999549865723,
          10.161999702453613,
          10.87600040435791
         ],
         "z": [
          0,
          435.103759765625,
          0,
          250.99464416503906,
          0,
          524.0135498046875
         ]
        },
        {
         "hovertemplate": "labels=1-(14Z,17Z,20Z,23Z,26Z-dotriacontapentaenoyl)-2-(11Z,14Z-eicosadienoyl)-sn-glycero-3-phospho-N-(4Z,7Z,10Z,13Z,16Z,19Z-docosahexaenoyl)-ethanolamine/1-(14Z,17Z,20Z,23Z,26Z-dotriacontapentaenoyl)-2-(6Z,9Z,12Z,15Z,18Z,21Z-tetracosahexaenoyl)-sn-glycero-3-phospho-N-(9Z,12Z-octadecadienoyl)-ethanolamine/1-(14Z,17Z,20Z,23Z,26Z-dotriacontapentaenoyl)-2-(6Z,9Z,12Z,15Z,18Z-tetracosapentaenoyl)-sn-glycero-3-phospho-N-(6Z,9Z,12Z-octadecatrienoyl)-ethanolamine/1-(14Z,17Z,20Z,23Z,26Z-dotriacontapentaenoyl)-2-(6Z,9Z,12Z,15Z,18Z-tetracosapentaenoyl)-sn-glycero-3-phospho-N-(9Z,12Z,15Z-octadecatrienoyl)-ethanolamine/1-(14Z,17Z,20Z,23Z,26Z-dotriacontapentaenoyl)-2-(7Z,10Z,13Z,16Z-docosatetraenoyl)-sn-glycero-3-phospho-N-(5Z,8Z,11Z,14Z-eicosatetraenoyl)-ethanolamine/1-(14Z,17Z,20Z,23Z,26Z-dotriacontapentaenoyl)-2-(9Z,12Z,15Z,18Z,21Z-tetracosapentaenoyl)-sn-glycero-3-phospho-N-(6Z,9Z,12Z-octadecatrienoyl)-ethanolamine/1-(14Z,17Z,20Z,23Z,26Z-dotriacontapentaenoyl)-2-(9Z,12Z,15Z,18Z,21Z-tetracosapentaenoyl)-sn-glycero-3-phospho-N-(9Z,12Z,15Z-octadecatrienoyl)-ethanolamine_0<br>m/z=%{x}<br>rt=%{y}<br>intensity=%{z}<extra></extra>",
         "legendgroup": "1-(14Z,17Z,20Z,23Z,26Z-dotriacontapentaenoyl)-2-(11Z,14Z-eicosadienoyl)-sn-glycero-3-phospho-N-(4Z,7Z,10Z,13Z,16Z,19Z-docosahexaenoyl)-ethanolamine/1-(14Z,17Z,20Z,23Z,26Z-dotriacontapentaenoyl)-2-(6Z,9Z,12Z,15Z,18Z,21Z-tetracosahexaenoyl)-sn-glycero-3-phospho-N-(9Z,12Z-octadecadienoyl)-ethanolamine/1-(14Z,17Z,20Z,23Z,26Z-dotriacontapentaenoyl)-2-(6Z,9Z,12Z,15Z,18Z-tetracosapentaenoyl)-sn-glycero-3-phospho-N-(6Z,9Z,12Z-octadecatrienoyl)-ethanolamine/1-(14Z,17Z,20Z,23Z,26Z-dotriacontapentaenoyl)-2-(6Z,9Z,12Z,15Z,18Z-tetracosapentaenoyl)-sn-glycero-3-phospho-N-(9Z,12Z,15Z-octadecatrienoyl)-ethanolamine/1-(14Z,17Z,20Z,23Z,26Z-dotriacontapentaenoyl)-2-(7Z,10Z,13Z,16Z-docosatetraenoyl)-sn-glycero-3-phospho-N-(5Z,8Z,11Z,14Z-eicosatetraenoyl)-ethanolamine/1-(14Z,17Z,20Z,23Z,26Z-dotriacontapentaenoyl)-2-(9Z,12Z,15Z,18Z,21Z-tetracosapentaenoyl)-sn-glycero-3-phospho-N-(6Z,9Z,12Z-octadecatrienoyl)-ethanolamine/1-(14Z,17Z,20Z,23Z,26Z-dotriacontapentaenoyl)-2-(9Z,12Z,15Z,18Z,21Z-tetracosapentaenoyl)-sn-glycero-3-phospho-N-(9Z,12Z,15Z-octadecatrienoyl)-ethanolamine_0",
         "line": {
          "color": "#FF6692",
          "dash": "solid"
         },
         "marker": {
          "symbol": "circle"
         },
         "mode": "lines",
         "name": "1-(14Z,17Z,20Z,23Z,26Z-dotriacontapentaenoyl)-2-(11Z,14Z-eicosadienoyl)-sn-glycero-3-phospho-N-(4Z,7Z,10Z,13Z,16Z,19Z-docosahexaenoyl)-ethanolamine/1-(14Z,17Z,20Z,23Z,26Z-dotriacontapentaenoyl)-2-(6Z,9Z,12Z,15Z,18Z,21Z-tetracosahexaenoyl)-sn-glycero-3-phospho-N-(9Z,12Z-octadecadienoyl)-ethanolamine/1-(14Z,17Z,20Z,23Z,26Z-dotriacontapentaenoyl)-2-(6Z,9Z,12Z,15Z,18Z-tetracosapentaenoyl)-sn-glycero-3-phospho-N-(6Z,9Z,12Z-octadecatrienoyl)-ethanolamine/1-(14Z,17Z,20Z,23Z,26Z-dotriacontapentaenoyl)-2-(6Z,9Z,12Z,15Z,18Z-tetracosapentaenoyl)-sn-glycero-3-phospho-N-(9Z,12Z,15Z-octadecatrienoyl)-ethanolamine/1-(14Z,17Z,20Z,23Z,26Z-dotriacontapentaenoyl)-2-(7Z,10Z,13Z,16Z-docosatetraenoyl)-sn-glycero-3-phospho-N-(5Z,8Z,11Z,14Z-eicosatetraenoyl)-ethanolamine/1-(14Z,17Z,20Z,23Z,26Z-dotriacontapentaenoyl)-2-(9Z,12Z,15Z,18Z,21Z-tetracosapentaenoyl)-sn-glycero-3-phospho-N-(6Z,9Z,12Z-octadecatrienoyl)-ethanolamine/1-(14Z,17Z,20Z,23Z,26Z-dotriacontapentaenoyl)-2-(9Z,12Z,15Z,18Z,21Z-tetracosapentaenoyl)-sn-glycero-3-phospho-N-(9Z,12Z,15Z-octadecatrienoyl)-ethanolamine_0",
         "scene": "scene",
         "showlegend": false,
         "type": "scatter3d",
         "x": [
          1265.933763533229,
          1266.937118371029
         ],
         "y": [
          4.446000099182129,
          4.446000099182129
         ],
         "z": [
          0,
          196.0870819091797
         ]
        },
        {
         "hovertemplate": "labels=1-(14Z,17Z,20Z,23Z,26Z-dotriacontapentaenoyl)-2-(11Z,14Z-eicosadienoyl)-sn-glycero-3-phospho-N-decanoyl-ethanolamine/1-(14Z,17Z,20Z,23Z,26Z-dotriacontapentaenoyl)-2-(13Z,16Z-docosadienoyl)-sn-glycero-3-phospho-N-octanoyl-ethanolamine/1-(14Z,17Z,20Z,23Z,26Z-dotriacontapentaenoyl)-2-(9Z,11E-octadecadienoyl)-sn-glycero-3-phospho-N-dodecanoyl-ethanolamine/1-(14Z,17Z,20Z,23Z,26Z-dotriacontapentaenoyl)-2-(9Z,12Z-hexadecadienoyl)-sn-glycero-3-phospho-N-tetradecanoyl-ethanolamine/1-(14Z,17Z,20Z,23Z,26Z-dotriacontapentaenoyl)-2-(9Z,12Z-octadecadienoyl)-sn-glycero-3-phospho-N-dodecanoyl-ethanolamine_0<br>m/z=%{x}<br>rt=%{y}<br>intensity=%{z}<extra></extra>",
         "legendgroup": "1-(14Z,17Z,20Z,23Z,26Z-dotriacontapentaenoyl)-2-(11Z,14Z-eicosadienoyl)-sn-glycero-3-phospho-N-decanoyl-ethanolamine/1-(14Z,17Z,20Z,23Z,26Z-dotriacontapentaenoyl)-2-(13Z,16Z-docosadienoyl)-sn-glycero-3-phospho-N-octanoyl-ethanolamine/1-(14Z,17Z,20Z,23Z,26Z-dotriacontapentaenoyl)-2-(9Z,11E-octadecadienoyl)-sn-glycero-3-phospho-N-dodecanoyl-ethanolamine/1-(14Z,17Z,20Z,23Z,26Z-dotriacontapentaenoyl)-2-(9Z,12Z-hexadecadienoyl)-sn-glycero-3-phospho-N-tetradecanoyl-ethanolamine/1-(14Z,17Z,20Z,23Z,26Z-dotriacontapentaenoyl)-2-(9Z,12Z-octadecadienoyl)-sn-glycero-3-phospho-N-dodecanoyl-ethanolamine_0",
         "line": {
          "color": "#B6E880",
          "dash": "solid"
         },
         "marker": {
          "symbol": "circle"
         },
         "mode": "lines",
         "name": "1-(14Z,17Z,20Z,23Z,26Z-dotriacontapentaenoyl)-2-(11Z,14Z-eicosadienoyl)-sn-glycero-3-phospho-N-decanoyl-ethanolamine/1-(14Z,17Z,20Z,23Z,26Z-dotriacontapentaenoyl)-2-(13Z,16Z-docosadienoyl)-sn-glycero-3-phospho-N-octanoyl-ethanolamine/1-(14Z,17Z,20Z,23Z,26Z-dotriacontapentaenoyl)-2-(9Z,11E-octadecadienoyl)-sn-glycero-3-phospho-N-dodecanoyl-ethanolamine/1-(14Z,17Z,20Z,23Z,26Z-dotriacontapentaenoyl)-2-(9Z,12Z-hexadecadienoyl)-sn-glycero-3-phospho-N-tetradecanoyl-ethanolamine/1-(14Z,17Z,20Z,23Z,26Z-dotriacontapentaenoyl)-2-(9Z,12Z-octadecadienoyl)-sn-glycero-3-phospho-N-dodecanoyl-ethanolamine_0",
         "scene": "scene",
         "showlegend": false,
         "type": "scatter3d",
         "x": [
          1109.8398635332292,
          1109.8398635332292,
          1110.8432183710293,
          1110.8432183710293
         ],
         "y": [
          5.160999774932861,
          5.875,
          5.160999774932861,
          5.875
         ],
         "z": [
          0,
          0,
          190.29322814941406,
          10.000207901000977
         ]
        },
        {
         "hovertemplate": "labels=1-(14Z,17Z,20Z,23Z,26Z-dotriacontapentaenoyl)-2-(11Z,14Z-eicosadienoyl)-sn-glycero-3-phospho-N-dodecanoyl-ethanolamine/1-(14Z,17Z,20Z,23Z,26Z-dotriacontapentaenoyl)-2-(13Z,16Z-docosadienoyl)-sn-glycero-3-phospho-N-decanoyl-ethanolamine/1-(14Z,17Z,20Z,23Z,26Z-dotriacontapentaenoyl)-2-(9Z,11E-octadecadienoyl)-sn-glycero-3-phospho-N-tetradecanoyl-ethanolamine/1-(14Z,17Z,20Z,23Z,26Z-dotriacontapentaenoyl)-2-(9Z,12Z-hexadecadienoyl)-sn-glycero-3-phospho-N-hexadecanoyl-ethanolamine/1-(14Z,17Z,20Z,23Z,26Z-dotriacontapentaenoyl)-2-(9Z,12Z-octadecadienoyl)-sn-glycero-3-phospho-N-tetradecanoyl-ethanolamine_0<br>m/z=%{x}<br>rt=%{y}<br>intensity=%{z}<extra></extra>",
         "legendgroup": "1-(14Z,17Z,20Z,23Z,26Z-dotriacontapentaenoyl)-2-(11Z,14Z-eicosadienoyl)-sn-glycero-3-phospho-N-dodecanoyl-ethanolamine/1-(14Z,17Z,20Z,23Z,26Z-dotriacontapentaenoyl)-2-(13Z,16Z-docosadienoyl)-sn-glycero-3-phospho-N-decanoyl-ethanolamine/1-(14Z,17Z,20Z,23Z,26Z-dotriacontapentaenoyl)-2-(9Z,11E-octadecadienoyl)-sn-glycero-3-phospho-N-tetradecanoyl-ethanolamine/1-(14Z,17Z,20Z,23Z,26Z-dotriacontapentaenoyl)-2-(9Z,12Z-hexadecadienoyl)-sn-glycero-3-phospho-N-hexadecanoyl-ethanolamine/1-(14Z,17Z,20Z,23Z,26Z-dotriacontapentaenoyl)-2-(9Z,12Z-octadecadienoyl)-sn-glycero-3-phospho-N-tetradecanoyl-ethanolamine_0",
         "line": {
          "color": "#FF97FF",
          "dash": "solid"
         },
         "marker": {
          "symbol": "circle"
         },
         "mode": "lines",
         "name": "1-(14Z,17Z,20Z,23Z,26Z-dotriacontapentaenoyl)-2-(11Z,14Z-eicosadienoyl)-sn-glycero-3-phospho-N-dodecanoyl-ethanolamine/1-(14Z,17Z,20Z,23Z,26Z-dotriacontapentaenoyl)-2-(13Z,16Z-docosadienoyl)-sn-glycero-3-phospho-N-decanoyl-ethanolamine/1-(14Z,17Z,20Z,23Z,26Z-dotriacontapentaenoyl)-2-(9Z,11E-octadecadienoyl)-sn-glycero-3-phospho-N-tetradecanoyl-ethanolamine/1-(14Z,17Z,20Z,23Z,26Z-dotriacontapentaenoyl)-2-(9Z,12Z-hexadecadienoyl)-sn-glycero-3-phospho-N-hexadecanoyl-ethanolamine/1-(14Z,17Z,20Z,23Z,26Z-dotriacontapentaenoyl)-2-(9Z,12Z-octadecadienoyl)-sn-glycero-3-phospho-N-tetradecanoyl-ethanolamine_0",
         "scene": "scene",
         "showlegend": false,
         "type": "scatter3d",
         "x": [
          1137.871163533229,
          1137.871163533229,
          1137.871163533229,
          1138.8745183710291,
          1138.8745183710291,
          1138.8745183710291
         ],
         "y": [
          5.160999774932861,
          5.875,
          6.590000152587891,
          5.160999774932861,
          5.875,
          6.590000152587891
         ],
         "z": [
          32.01164245605469,
          0,
          176.49252319335938,
          283.0218811035156,
          0,
          0
         ]
        },
        {
         "hovertemplate": "labels=1-(14Z,17Z,20Z,23Z,26Z-dotriacontapentaenoyl)-2-(11Z,14Z-eicosadienoyl)-sn-glycero-3-phospho-N-hexanoyl-ethanolamine/1-(14Z,17Z,20Z,23Z,26Z-dotriacontapentaenoyl)-2-(9Z,11E-octadecadienoyl)-sn-glycero-3-phospho-N-octanoyl-ethanolamine/1-(14Z,17Z,20Z,23Z,26Z-dotriacontapentaenoyl)-2-(9Z,12Z-hexadecadienoyl)-sn-glycero-3-phospho-N-decanoyl-ethanolamine/1-(14Z,17Z,20Z,23Z,26Z-dotriacontapentaenoyl)-2-(9Z,12Z-octadecadienoyl)-sn-glycero-3-phospho-N-octanoyl-ethanolamine_0<br>m/z=%{x}<br>rt=%{y}<br>intensity=%{z}<extra></extra>",
         "legendgroup": "1-(14Z,17Z,20Z,23Z,26Z-dotriacontapentaenoyl)-2-(11Z,14Z-eicosadienoyl)-sn-glycero-3-phospho-N-hexanoyl-ethanolamine/1-(14Z,17Z,20Z,23Z,26Z-dotriacontapentaenoyl)-2-(9Z,11E-octadecadienoyl)-sn-glycero-3-phospho-N-octanoyl-ethanolamine/1-(14Z,17Z,20Z,23Z,26Z-dotriacontapentaenoyl)-2-(9Z,12Z-hexadecadienoyl)-sn-glycero-3-phospho-N-decanoyl-ethanolamine/1-(14Z,17Z,20Z,23Z,26Z-dotriacontapentaenoyl)-2-(9Z,12Z-octadecadienoyl)-sn-glycero-3-phospho-N-octanoyl-ethanolamine_0",
         "line": {
          "color": "#FECB52",
          "dash": "solid"
         },
         "marker": {
          "symbol": "circle"
         },
         "mode": "lines",
         "name": "1-(14Z,17Z,20Z,23Z,26Z-dotriacontapentaenoyl)-2-(11Z,14Z-eicosadienoyl)-sn-glycero-3-phospho-N-hexanoyl-ethanolamine/1-(14Z,17Z,20Z,23Z,26Z-dotriacontapentaenoyl)-2-(9Z,11E-octadecadienoyl)-sn-glycero-3-phospho-N-octanoyl-ethanolamine/1-(14Z,17Z,20Z,23Z,26Z-dotriacontapentaenoyl)-2-(9Z,12Z-hexadecadienoyl)-sn-glycero-3-phospho-N-decanoyl-ethanolamine/1-(14Z,17Z,20Z,23Z,26Z-dotriacontapentaenoyl)-2-(9Z,12Z-octadecadienoyl)-sn-glycero-3-phospho-N-octanoyl-ethanolamine_0",
         "scene": "scene",
         "showlegend": false,
         "type": "scatter3d",
         "x": [
          1053.7772635332292,
          1053.7772635332292,
          1053.7772635332292,
          1054.7806183710293,
          1054.7806183710293,
          1054.7806183710293
         ],
         "y": [
          5.875,
          6.590000152587891,
          7.303999900817871,
          5.875,
          6.590000152587891,
          7.303999900817871
         ],
         "z": [
          0,
          0,
          0,
          0,
          233.91241455078125,
          129.64486694335938
         ]
        },
        {
         "hovertemplate": "labels=1-(14Z,17Z,20Z,23Z,26Z-dotriacontapentaenoyl)-2-(11Z,14Z-eicosadienoyl)-sn-glycero-3-phospho-N-octadecanoyl-ethanolamine/1-(14Z,17Z,20Z,23Z,26Z-dotriacontapentaenoyl)-2-(11Z-eicosenoyl)-sn-glycero-3-phospho-N-(11Z-octadecenoyl)-ethanolamine/1-(14Z,17Z,20Z,23Z,26Z-dotriacontapentaenoyl)-2-(11Z-eicosenoyl)-sn-glycero-3-phospho-N-(9Z-octadecenoyl)-ethanolamine/1-(14Z,17Z,20Z,23Z,26Z-dotriacontapentaenoyl)-2-(13Z,16Z-docosadienoyl)-sn-glycero-3-phospho-N-hexadecanoyl-ethanolamine/1-(14Z,17Z,20Z,23Z,26Z-dotriacontapentaenoyl)-2-eicosanoyl-sn-glycero-3-phospho-N-(9Z,12Z-octadecadienoyl)-ethanolamine_0<br>m/z=%{x}<br>rt=%{y}<br>intensity=%{z}<extra></extra>",
         "legendgroup": "1-(14Z,17Z,20Z,23Z,26Z-dotriacontapentaenoyl)-2-(11Z,14Z-eicosadienoyl)-sn-glycero-3-phospho-N-octadecanoyl-ethanolamine/1-(14Z,17Z,20Z,23Z,26Z-dotriacontapentaenoyl)-2-(11Z-eicosenoyl)-sn-glycero-3-phospho-N-(11Z-octadecenoyl)-ethanolamine/1-(14Z,17Z,20Z,23Z,26Z-dotriacontapentaenoyl)-2-(11Z-eicosenoyl)-sn-glycero-3-phospho-N-(9Z-octadecenoyl)-ethanolamine/1-(14Z,17Z,20Z,23Z,26Z-dotriacontapentaenoyl)-2-(13Z,16Z-docosadienoyl)-sn-glycero-3-phospho-N-hexadecanoyl-ethanolamine/1-(14Z,17Z,20Z,23Z,26Z-dotriacontapentaenoyl)-2-eicosanoyl-sn-glycero-3-phospho-N-(9Z,12Z-octadecadienoyl)-ethanolamine_0",
         "line": {
          "color": "#636efa",
          "dash": "solid"
         },
         "marker": {
          "symbol": "circle"
         },
         "mode": "lines",
         "name": "1-(14Z,17Z,20Z,23Z,26Z-dotriacontapentaenoyl)-2-(11Z,14Z-eicosadienoyl)-sn-glycero-3-phospho-N-octadecanoyl-ethanolamine/1-(14Z,17Z,20Z,23Z,26Z-dotriacontapentaenoyl)-2-(11Z-eicosenoyl)-sn-glycero-3-phospho-N-(11Z-octadecenoyl)-ethanolamine/1-(14Z,17Z,20Z,23Z,26Z-dotriacontapentaenoyl)-2-(11Z-eicosenoyl)-sn-glycero-3-phospho-N-(9Z-octadecenoyl)-ethanolamine/1-(14Z,17Z,20Z,23Z,26Z-dotriacontapentaenoyl)-2-(13Z,16Z-docosadienoyl)-sn-glycero-3-phospho-N-hexadecanoyl-ethanolamine/1-(14Z,17Z,20Z,23Z,26Z-dotriacontapentaenoyl)-2-eicosanoyl-sn-glycero-3-phospho-N-(9Z,12Z-octadecadienoyl)-ethanolamine_0",
         "scene": "scene",
         "showlegend": false,
         "type": "scatter3d",
         "x": [
          1221.965073533229,
          1221.965073533229,
          1221.965073533229,
          1222.9684283710292,
          1222.9684283710292,
          1222.9684283710292
         ],
         "y": [
          9.446999549865723,
          10.161999702453613,
          10.87600040435791,
          9.446999549865723,
          10.161999702453613,
          10.87600040435791
         ],
         "z": [
          0,
          0,
          962.7022094726562,
          0,
          494.5455322265625,
          0
         ]
        },
        {
         "hovertemplate": "labels=1-(14Z,17Z,20Z,23Z,26Z-dotriacontapentaenoyl)-2-(11Z,14Z-eicosadienoyl)-sn-glycero-3-phospho-N-octanoyl-ethanolamine/1-(14Z,17Z,20Z,23Z,26Z-dotriacontapentaenoyl)-2-(13Z,16Z-docosadienoyl)-sn-glycero-3-phospho-N-hexanoyl-ethanolamine/1-(14Z,17Z,20Z,23Z,26Z-dotriacontapentaenoyl)-2-(9Z,11E-octadecadienoyl)-sn-glycero-3-phospho-N-decanoyl-ethanolamine/1-(14Z,17Z,20Z,23Z,26Z-dotriacontapentaenoyl)-2-(9Z,12Z-hexadecadienoyl)-sn-glycero-3-phospho-N-dodecanoyl-ethanolamine/1-(14Z,17Z,20Z,23Z,26Z-dotriacontapentaenoyl)-2-(9Z,12Z-octadecadienoyl)-sn-glycero-3-phospho-N-decanoyl-ethanolamine_0<br>m/z=%{x}<br>rt=%{y}<br>intensity=%{z}<extra></extra>",
         "legendgroup": "1-(14Z,17Z,20Z,23Z,26Z-dotriacontapentaenoyl)-2-(11Z,14Z-eicosadienoyl)-sn-glycero-3-phospho-N-octanoyl-ethanolamine/1-(14Z,17Z,20Z,23Z,26Z-dotriacontapentaenoyl)-2-(13Z,16Z-docosadienoyl)-sn-glycero-3-phospho-N-hexanoyl-ethanolamine/1-(14Z,17Z,20Z,23Z,26Z-dotriacontapentaenoyl)-2-(9Z,11E-octadecadienoyl)-sn-glycero-3-phospho-N-decanoyl-ethanolamine/1-(14Z,17Z,20Z,23Z,26Z-dotriacontapentaenoyl)-2-(9Z,12Z-hexadecadienoyl)-sn-glycero-3-phospho-N-dodecanoyl-ethanolamine/1-(14Z,17Z,20Z,23Z,26Z-dotriacontapentaenoyl)-2-(9Z,12Z-octadecadienoyl)-sn-glycero-3-phospho-N-decanoyl-ethanolamine_0",
         "line": {
          "color": "#EF553B",
          "dash": "solid"
         },
         "marker": {
          "symbol": "circle"
         },
         "mode": "lines",
         "name": "1-(14Z,17Z,20Z,23Z,26Z-dotriacontapentaenoyl)-2-(11Z,14Z-eicosadienoyl)-sn-glycero-3-phospho-N-octanoyl-ethanolamine/1-(14Z,17Z,20Z,23Z,26Z-dotriacontapentaenoyl)-2-(13Z,16Z-docosadienoyl)-sn-glycero-3-phospho-N-hexanoyl-ethanolamine/1-(14Z,17Z,20Z,23Z,26Z-dotriacontapentaenoyl)-2-(9Z,11E-octadecadienoyl)-sn-glycero-3-phospho-N-decanoyl-ethanolamine/1-(14Z,17Z,20Z,23Z,26Z-dotriacontapentaenoyl)-2-(9Z,12Z-hexadecadienoyl)-sn-glycero-3-phospho-N-dodecanoyl-ethanolamine/1-(14Z,17Z,20Z,23Z,26Z-dotriacontapentaenoyl)-2-(9Z,12Z-octadecadienoyl)-sn-glycero-3-phospho-N-decanoyl-ethanolamine_0",
         "scene": "scene",
         "showlegend": false,
         "type": "scatter3d",
         "x": [
          1081.808563533229,
          1081.808563533229,
          1081.808563533229,
          1082.8119183710292,
          1082.8119183710292,
          1082.8119183710292
         ],
         "y": [
          11.590999603271484,
          12.305000305175781,
          13.019000053405762,
          11.590999603271484,
          12.305000305175781,
          13.019000053405762
         ],
         "z": [
          0,
          1115.47265625,
          0,
          470.83941650390625,
          0,
          1145.114013671875
         ]
        },
        {
         "hovertemplate": "labels=1-(14Z,17Z,20Z,23Z,26Z-dotriacontapentaenoyl)-2-(11Z,14Z-eicosadienoyl)-sn-glycero-3-phospho-N-tetradecanoyl-ethanolamine/1-(14Z,17Z,20Z,23Z,26Z-dotriacontapentaenoyl)-2-(13Z,16Z-docosadienoyl)-sn-glycero-3-phospho-N-dodecanoyl-ethanolamine/1-(14Z,17Z,20Z,23Z,26Z-dotriacontapentaenoyl)-2-(6Z-hexadecenoyl)-sn-glycero-3-phospho-N-(11Z-octadecenoyl)-ethanolamine/1-(14Z,17Z,20Z,23Z,26Z-dotriacontapentaenoyl)-2-(6Z-hexadecenoyl)-sn-glycero-3-phospho-N-(9Z-octadecenoyl)-ethanolamine/1-(14Z,17Z,20Z,23Z,26Z-dotriacontapentaenoyl)-2-(9Z,11E-octadecadienoyl)-sn-glycero-3-phospho-N-hexadecanoyl-ethanolamine/1-(14Z,17Z,20Z,23Z,26Z-dotriacontapentaenoyl)-2-(9Z,12Z-hexadecadienoyl)-sn-glycero-3-phospho-N-octadecanoyl-ethanolamine/1-(14Z,17Z,20Z,23Z,26Z-dotriacontapentaenoyl)-2-(9Z,12Z-octadecadienoyl)-sn-glycero-3-phospho-N-hexadecanoyl-ethanolamine/1-(14Z,17Z,20Z,23Z,26Z-dotriacontapentaenoyl)-2-(9Z-hexadecenoyl)-sn-glycero-3-phospho-N-(11Z-octadecenoyl)-ethanolamine/1-(14Z,17Z,20Z,23Z,26Z-dotriacontapentaenoyl)-2-(9Z-hexadecenoyl)-sn-glycero-3-phospho-N-(9Z-octadecenoyl)-ethanolamine/1-(14Z,17Z,20Z,23Z,26Z-dotriacontapentaenoyl)-2-hexadecanoyl-sn-glycero-3-phospho-N-(9Z,12Z-octadecadienoyl)-ethanolamine_0<br>m/z=%{x}<br>rt=%{y}<br>intensity=%{z}<extra></extra>",
         "legendgroup": "1-(14Z,17Z,20Z,23Z,26Z-dotriacontapentaenoyl)-2-(11Z,14Z-eicosadienoyl)-sn-glycero-3-phospho-N-tetradecanoyl-ethanolamine/1-(14Z,17Z,20Z,23Z,26Z-dotriacontapentaenoyl)-2-(13Z,16Z-docosadienoyl)-sn-glycero-3-phospho-N-dodecanoyl-ethanolamine/1-(14Z,17Z,20Z,23Z,26Z-dotriacontapentaenoyl)-2-(6Z-hexadecenoyl)-sn-glycero-3-phospho-N-(11Z-octadecenoyl)-ethanolamine/1-(14Z,17Z,20Z,23Z,26Z-dotriacontapentaenoyl)-2-(6Z-hexadecenoyl)-sn-glycero-3-phospho-N-(9Z-octadecenoyl)-ethanolamine/1-(14Z,17Z,20Z,23Z,26Z-dotriacontapentaenoyl)-2-(9Z,11E-octadecadienoyl)-sn-glycero-3-phospho-N-hexadecanoyl-ethanolamine/1-(14Z,17Z,20Z,23Z,26Z-dotriacontapentaenoyl)-2-(9Z,12Z-hexadecadienoyl)-sn-glycero-3-phospho-N-octadecanoyl-ethanolamine/1-(14Z,17Z,20Z,23Z,26Z-dotriacontapentaenoyl)-2-(9Z,12Z-octadecadienoyl)-sn-glycero-3-phospho-N-hexadecanoyl-ethanolamine/1-(14Z,17Z,20Z,23Z,26Z-dotriacontapentaenoyl)-2-(9Z-hexadecenoyl)-sn-glycero-3-phospho-N-(11Z-octadecenoyl)-ethanolamine/1-(14Z,17Z,20Z,23Z,26Z-dotriacontapentaenoyl)-2-(9Z-hexadecenoyl)-sn-glycero-3-phospho-N-(9Z-octadecenoyl)-ethanolamine/1-(14Z,17Z,20Z,23Z,26Z-dotriacontapentaenoyl)-2-hexadecanoyl-sn-glycero-3-phospho-N-(9Z,12Z-octadecadienoyl)-ethanolamine_0",
         "line": {
          "color": "#00cc96",
          "dash": "solid"
         },
         "marker": {
          "symbol": "circle"
         },
         "mode": "lines",
         "name": "1-(14Z,17Z,20Z,23Z,26Z-dotriacontapentaenoyl)-2-(11Z,14Z-eicosadienoyl)-sn-glycero-3-phospho-N-tetradecanoyl-ethanolamine/1-(14Z,17Z,20Z,23Z,26Z-dotriacontapentaenoyl)-2-(13Z,16Z-docosadienoyl)-sn-glycero-3-phospho-N-dodecanoyl-ethanolamine/1-(14Z,17Z,20Z,23Z,26Z-dotriacontapentaenoyl)-2-(6Z-hexadecenoyl)-sn-glycero-3-phospho-N-(11Z-octadecenoyl)-ethanolamine/1-(14Z,17Z,20Z,23Z,26Z-dotriacontapentaenoyl)-2-(6Z-hexadecenoyl)-sn-glycero-3-phospho-N-(9Z-octadecenoyl)-ethanolamine/1-(14Z,17Z,20Z,23Z,26Z-dotriacontapentaenoyl)-2-(9Z,11E-octadecadienoyl)-sn-glycero-3-phospho-N-hexadecanoyl-ethanolamine/1-(14Z,17Z,20Z,23Z,26Z-dotriacontapentaenoyl)-2-(9Z,12Z-hexadecadienoyl)-sn-glycero-3-phospho-N-octadecanoyl-ethanolamine/1-(14Z,17Z,20Z,23Z,26Z-dotriacontapentaenoyl)-2-(9Z,12Z-octadecadienoyl)-sn-glycero-3-phospho-N-hexadecanoyl-ethanolamine/1-(14Z,17Z,20Z,23Z,26Z-dotriacontapentaenoyl)-2-(9Z-hexadecenoyl)-sn-glycero-3-phospho-N-(11Z-octadecenoyl)-ethanolamine/1-(14Z,17Z,20Z,23Z,26Z-dotriacontapentaenoyl)-2-(9Z-hexadecenoyl)-sn-glycero-3-phospho-N-(9Z-octadecenoyl)-ethanolamine/1-(14Z,17Z,20Z,23Z,26Z-dotriacontapentaenoyl)-2-hexadecanoyl-sn-glycero-3-phospho-N-(9Z,12Z-octadecadienoyl)-ethanolamine_0",
         "scene": "scene",
         "showlegend": false,
         "type": "scatter3d",
         "x": [
          1165.9024635332291,
          1165.9024635332291,
          1166.9058183710292,
          1166.9058183710292
         ],
         "y": [
          5.875,
          6.590000152587891,
          5.875,
          6.590000152587891
         ],
         "z": [
          40.57038497924805,
          166.36810302734375,
          0,
          0
         ]
        },
        {
         "hovertemplate": "labels=1-(14Z,17Z,20Z,23Z,26Z-dotriacontapentaenoyl)-2-(11Z-eicosenoyl)-sn-glycero-3-phospho-N-octadecanoyl-ethanolamine/1-(14Z,17Z,20Z,23Z,26Z-dotriacontapentaenoyl)-2-(13Z-docosenoyl)-sn-glycero-3-phospho-N-hexadecanoyl-ethanolamine/1-(14Z,17Z,20Z,23Z,26Z-dotriacontapentaenoyl)-2-(15Z-tetracosenoyl)-sn-glycero-3-phospho-N-tetradecanoyl-ethanolamine/1-(14Z,17Z,20Z,23Z,26Z-dotriacontapentaenoyl)-2-(17Z-hexacosenoyl)-sn-glycero-3-phospho-N-dodecanoyl-ethanolamine/1-(14Z,17Z,20Z,23Z,26Z-dotriacontapentaenoyl)-2-eicosanoyl-sn-glycero-3-phospho-N-(11Z-octadecenoyl)-ethanolamine/1-(14Z,17Z,20Z,23Z,26Z-dotriacontapentaenoyl)-2-eicosanoyl-sn-glycero-3-phospho-N-(9Z-octadecenoyl)-ethanolamine_0<br>m/z=%{x}<br>rt=%{y}<br>intensity=%{z}<extra></extra>",
         "legendgroup": "1-(14Z,17Z,20Z,23Z,26Z-dotriacontapentaenoyl)-2-(11Z-eicosenoyl)-sn-glycero-3-phospho-N-octadecanoyl-ethanolamine/1-(14Z,17Z,20Z,23Z,26Z-dotriacontapentaenoyl)-2-(13Z-docosenoyl)-sn-glycero-3-phospho-N-hexadecanoyl-ethanolamine/1-(14Z,17Z,20Z,23Z,26Z-dotriacontapentaenoyl)-2-(15Z-tetracosenoyl)-sn-glycero-3-phospho-N-tetradecanoyl-ethanolamine/1-(14Z,17Z,20Z,23Z,26Z-dotriacontapentaenoyl)-2-(17Z-hexacosenoyl)-sn-glycero-3-phospho-N-dodecanoyl-ethanolamine/1-(14Z,17Z,20Z,23Z,26Z-dotriacontapentaenoyl)-2-eicosanoyl-sn-glycero-3-phospho-N-(11Z-octadecenoyl)-ethanolamine/1-(14Z,17Z,20Z,23Z,26Z-dotriacontapentaenoyl)-2-eicosanoyl-sn-glycero-3-phospho-N-(9Z-octadecenoyl)-ethanolamine_0",
         "line": {
          "color": "#ab63fa",
          "dash": "solid"
         },
         "marker": {
          "symbol": "circle"
         },
         "mode": "lines",
         "name": "1-(14Z,17Z,20Z,23Z,26Z-dotriacontapentaenoyl)-2-(11Z-eicosenoyl)-sn-glycero-3-phospho-N-octadecanoyl-ethanolamine/1-(14Z,17Z,20Z,23Z,26Z-dotriacontapentaenoyl)-2-(13Z-docosenoyl)-sn-glycero-3-phospho-N-hexadecanoyl-ethanolamine/1-(14Z,17Z,20Z,23Z,26Z-dotriacontapentaenoyl)-2-(15Z-tetracosenoyl)-sn-glycero-3-phospho-N-tetradecanoyl-ethanolamine/1-(14Z,17Z,20Z,23Z,26Z-dotriacontapentaenoyl)-2-(17Z-hexacosenoyl)-sn-glycero-3-phospho-N-dodecanoyl-ethanolamine/1-(14Z,17Z,20Z,23Z,26Z-dotriacontapentaenoyl)-2-eicosanoyl-sn-glycero-3-phospho-N-(11Z-octadecenoyl)-ethanolamine/1-(14Z,17Z,20Z,23Z,26Z-dotriacontapentaenoyl)-2-eicosanoyl-sn-glycero-3-phospho-N-(9Z-octadecenoyl)-ethanolamine_0",
         "scene": "scene",
         "showlegend": false,
         "type": "scatter3d",
         "x": [
          1223.9807235332291,
          1223.9807235332291,
          1224.9840783710292,
          1224.9840783710292
         ],
         "y": [
          5.160999774932861,
          5.875,
          5.160999774932861,
          5.875
         ],
         "z": [
          402.74603271484375,
          0,
          0,
          0
         ]
        },
        {
         "hovertemplate": "labels=1-(14Z,17Z,20Z,23Z,26Z-dotriacontapentaenoyl)-2-(12Z,15Z,18Z,21Z,24Z,27Z-triacontahexaenoyl)-sn-glycero-3-phospho-N-(11Z-octadecenoyl)-ethanolamine/1-(14Z,17Z,20Z,23Z,26Z-dotriacontapentaenoyl)-2-(12Z,15Z,18Z,21Z,24Z,27Z-triacontahexaenoyl)-sn-glycero-3-phospho-N-(9Z-octadecenoyl)-ethanolamine/1-(14Z,17Z,20Z,23Z,26Z-dotriacontapentaenoyl)-2-(12Z,15Z,18Z,21Z,24Z-triacontapentaenoyl)-sn-glycero-3-phospho-N-(9Z,12Z-octadecadienoyl)-ethanolamine/1-(14Z,17Z,20Z,23Z,26Z-dotriacontapentaenoyl)-2-(15Z,18Z,21Z,24Z,27Z-triacontapentaenoyl)-sn-glycero-3-phospho-N-(9Z,12Z-octadecadienoyl)-ethanolamine/1-(14Z,17Z,20Z,23Z,26Z-dotriacontapentaenoyl)-2-(15Z,18Z,21Z,24Z-triacontatetraenoyl)-sn-glycero-3-phospho-N-(6Z,9Z,12Z-octadecatrienoyl)-ethanolamine/1-(14Z,17Z,20Z,23Z,26Z-dotriacontapentaenoyl)-2-(15Z,18Z,21Z,24Z-triacontatetraenoyl)-sn-glycero-3-phospho-N-(9Z,12Z,15Z-octadecatrienoyl)-ethanolamine/1-(14Z,17Z,20Z,23Z,26Z-dotriacontapentaenoyl)-2-(17Z-hexacosenoyl)-sn-glycero-3-phospho-N-(4Z,7Z,10Z,13Z,16Z,19Z-docosahexaenoyl)-ethanolamine_0<br>m/z=%{x}<br>rt=%{y}<br>intensity=%{z}<extra></extra>",
         "legendgroup": "1-(14Z,17Z,20Z,23Z,26Z-dotriacontapentaenoyl)-2-(12Z,15Z,18Z,21Z,24Z,27Z-triacontahexaenoyl)-sn-glycero-3-phospho-N-(11Z-octadecenoyl)-ethanolamine/1-(14Z,17Z,20Z,23Z,26Z-dotriacontapentaenoyl)-2-(12Z,15Z,18Z,21Z,24Z,27Z-triacontahexaenoyl)-sn-glycero-3-phospho-N-(9Z-octadecenoyl)-ethanolamine/1-(14Z,17Z,20Z,23Z,26Z-dotriacontapentaenoyl)-2-(12Z,15Z,18Z,21Z,24Z-triacontapentaenoyl)-sn-glycero-3-phospho-N-(9Z,12Z-octadecadienoyl)-ethanolamine/1-(14Z,17Z,20Z,23Z,26Z-dotriacontapentaenoyl)-2-(15Z,18Z,21Z,24Z,27Z-triacontapentaenoyl)-sn-glycero-3-phospho-N-(9Z,12Z-octadecadienoyl)-ethanolamine/1-(14Z,17Z,20Z,23Z,26Z-dotriacontapentaenoyl)-2-(15Z,18Z,21Z,24Z-triacontatetraenoyl)-sn-glycero-3-phospho-N-(6Z,9Z,12Z-octadecatrienoyl)-ethanolamine/1-(14Z,17Z,20Z,23Z,26Z-dotriacontapentaenoyl)-2-(15Z,18Z,21Z,24Z-triacontatetraenoyl)-sn-glycero-3-phospho-N-(9Z,12Z,15Z-octadecatrienoyl)-ethanolamine/1-(14Z,17Z,20Z,23Z,26Z-dotriacontapentaenoyl)-2-(17Z-hexacosenoyl)-sn-glycero-3-phospho-N-(4Z,7Z,10Z,13Z,16Z,19Z-docosahexaenoyl)-ethanolamine_0",
         "line": {
          "color": "#FFA15A",
          "dash": "solid"
         },
         "marker": {
          "symbol": "circle"
         },
         "mode": "lines",
         "name": "1-(14Z,17Z,20Z,23Z,26Z-dotriacontapentaenoyl)-2-(12Z,15Z,18Z,21Z,24Z,27Z-triacontahexaenoyl)-sn-glycero-3-phospho-N-(11Z-octadecenoyl)-ethanolamine/1-(14Z,17Z,20Z,23Z,26Z-dotriacontapentaenoyl)-2-(12Z,15Z,18Z,21Z,24Z,27Z-triacontahexaenoyl)-sn-glycero-3-phospho-N-(9Z-octadecenoyl)-ethanolamine/1-(14Z,17Z,20Z,23Z,26Z-dotriacontapentaenoyl)-2-(12Z,15Z,18Z,21Z,24Z-triacontapentaenoyl)-sn-glycero-3-phospho-N-(9Z,12Z-octadecadienoyl)-ethanolamine/1-(14Z,17Z,20Z,23Z,26Z-dotriacontapentaenoyl)-2-(15Z,18Z,21Z,24Z,27Z-triacontapentaenoyl)-sn-glycero-3-phospho-N-(9Z,12Z-octadecadienoyl)-ethanolamine/1-(14Z,17Z,20Z,23Z,26Z-dotriacontapentaenoyl)-2-(15Z,18Z,21Z,24Z-triacontatetraenoyl)-sn-glycero-3-phospho-N-(6Z,9Z,12Z-octadecatrienoyl)-ethanolamine/1-(14Z,17Z,20Z,23Z,26Z-dotriacontapentaenoyl)-2-(15Z,18Z,21Z,24Z-triacontatetraenoyl)-sn-glycero-3-phospho-N-(9Z,12Z,15Z-octadecatrienoyl)-ethanolamine/1-(14Z,17Z,20Z,23Z,26Z-dotriacontapentaenoyl)-2-(17Z-hexacosenoyl)-sn-glycero-3-phospho-N-(4Z,7Z,10Z,13Z,16Z,19Z-docosahexaenoyl)-ethanolamine_0",
         "scene": "scene",
         "showlegend": false,
         "type": "scatter3d",
         "x": [
          1352.043323533229,
          1352.043323533229,
          1353.0466783710292,
          1353.0466783710292
         ],
         "y": [
          10.161999702453613,
          10.87600040435791,
          10.161999702453613,
          10.87600040435791
         ],
         "z": [
          0,
          0,
          76.0656967163086,
          524.7557373046875
         ]
        },
        {
         "hovertemplate": "labels=1-(14Z,17Z,20Z,23Z,26Z-dotriacontapentaenoyl)-2-(12Z,15Z,18Z,21Z,24Z,27Z-triacontahexaenoyl)-sn-glycero-3-phospho-N-(4Z,7Z,10Z,13Z,16Z,19Z-docosahexaenoyl)-ethanolamine_0<br>m/z=%{x}<br>rt=%{y}<br>intensity=%{z}<extra></extra>",
         "legendgroup": "1-(14Z,17Z,20Z,23Z,26Z-dotriacontapentaenoyl)-2-(12Z,15Z,18Z,21Z,24Z,27Z-triacontahexaenoyl)-sn-glycero-3-phospho-N-(4Z,7Z,10Z,13Z,16Z,19Z-docosahexaenoyl)-ethanolamine_0",
         "line": {
          "color": "#19d3f3",
          "dash": "solid"
         },
         "marker": {
          "symbol": "circle"
         },
         "mode": "lines",
         "name": "1-(14Z,17Z,20Z,23Z,26Z-dotriacontapentaenoyl)-2-(12Z,15Z,18Z,21Z,24Z,27Z-triacontahexaenoyl)-sn-glycero-3-phospho-N-(4Z,7Z,10Z,13Z,16Z,19Z-docosahexaenoyl)-ethanolamine_0",
         "scene": "scene",
         "showlegend": false,
         "type": "scatter3d",
         "x": [
          1398.027673533229,
          1398.027673533229,
          1398.027673533229,
          1398.027673533229,
          1398.027673533229,
          1398.027673533229,
          1399.0310283710292,
          1399.0310283710292,
          1399.0310283710292,
          1399.0310283710292,
          1399.0310283710292,
          1399.0310283710292
         ],
         "y": [
          9.446999549865723,
          10.161999702453613,
          10.87600040435791,
          11.590999603271484,
          12.305000305175781,
          13.019000053405762,
          9.446999549865723,
          10.161999702453613,
          10.87600040435791,
          11.590999603271484,
          12.305000305175781,
          13.019000053405762
         ],
         "z": [
          0,
          0,
          0,
          0,
          1154.4219970703125,
          0,
          0,
          235.85537719726562,
          260.4840087890625,
          1569.14453125,
          1450.4510498046875,
          0
         ]
        },
        {
         "hovertemplate": "labels=1-(14Z,17Z,20Z,23Z,26Z-dotriacontapentaenoyl)-2-(12Z,15Z,18Z,21Z,24Z,27Z-triacontahexaenoyl)-sn-glycero-3-phospho-N-(5Z,8Z,11Z,14Z-eicosatetraenoyl)-ethanolamine/1-(14Z,17Z,20Z,23Z,26Z-dotriacontapentaenoyl)-2-(13Z,16Z,19Z,22Z-octacosatetraenoyl)-sn-glycero-3-phospho-N-(4Z,7Z,10Z,13Z,16Z,19Z-docosahexaenoyl)-ethanolamine_0<br>m/z=%{x}<br>rt=%{y}<br>intensity=%{z}<extra></extra>",
         "legendgroup": "1-(14Z,17Z,20Z,23Z,26Z-dotriacontapentaenoyl)-2-(12Z,15Z,18Z,21Z,24Z,27Z-triacontahexaenoyl)-sn-glycero-3-phospho-N-(5Z,8Z,11Z,14Z-eicosatetraenoyl)-ethanolamine/1-(14Z,17Z,20Z,23Z,26Z-dotriacontapentaenoyl)-2-(13Z,16Z,19Z,22Z-octacosatetraenoyl)-sn-glycero-3-phospho-N-(4Z,7Z,10Z,13Z,16Z,19Z-docosahexaenoyl)-ethanolamine_0",
         "line": {
          "color": "#FF6692",
          "dash": "solid"
         },
         "marker": {
          "symbol": "circle"
         },
         "mode": "lines",
         "name": "1-(14Z,17Z,20Z,23Z,26Z-dotriacontapentaenoyl)-2-(12Z,15Z,18Z,21Z,24Z,27Z-triacontahexaenoyl)-sn-glycero-3-phospho-N-(5Z,8Z,11Z,14Z-eicosatetraenoyl)-ethanolamine/1-(14Z,17Z,20Z,23Z,26Z-dotriacontapentaenoyl)-2-(13Z,16Z,19Z,22Z-octacosatetraenoyl)-sn-glycero-3-phospho-N-(4Z,7Z,10Z,13Z,16Z,19Z-docosahexaenoyl)-ethanolamine_0",
         "scene": "scene",
         "showlegend": false,
         "type": "scatter3d",
         "x": [
          1374.027673533229,
          1374.027673533229,
          1374.027673533229,
          1374.027673533229,
          1374.027673533229,
          1375.0310283710292,
          1375.0310283710292,
          1375.0310283710292,
          1375.0310283710292,
          1375.0310283710292
         ],
         "y": [
          3.0169999599456787,
          3.7320001125335693,
          4.446000099182129,
          5.160999774932861,
          5.875,
          3.0169999599456787,
          3.7320001125335693,
          4.446000099182129,
          5.160999774932861,
          5.875
         ],
         "z": [
          132.82290649414062,
          0,
          0,
          0,
          8.000044822692871,
          84.77315521240234,
          17.252540588378906,
          341.8686828613281,
          14.236248016357422,
          49.19154739379883
         ]
        },
        {
         "hovertemplate": "labels=1-(14Z,17Z,20Z,23Z,26Z-dotriacontapentaenoyl)-2-(12Z,15Z,18Z,21Z,24Z,27Z-triacontahexaenoyl)-sn-glycero-3-phospho-N-(9Z,12Z-octadecadienoyl)-ethanolamine/1-(14Z,17Z,20Z,23Z,26Z-dotriacontapentaenoyl)-2-(12Z,15Z,18Z,21Z,24Z-triacontapentaenoyl)-sn-glycero-3-phospho-N-(6Z,9Z,12Z-octadecatrienoyl)-ethanolamine/1-(14Z,17Z,20Z,23Z,26Z-dotriacontapentaenoyl)-2-(12Z,15Z,18Z,21Z,24Z-triacontapentaenoyl)-sn-glycero-3-phospho-N-(9Z,12Z,15Z-octadecatrienoyl)-ethanolamine/1-(14Z,17Z,20Z,23Z,26Z-dotriacontapentaenoyl)-2-(13Z,16Z,19Z,22Z-octacosatetraenoyl)-sn-glycero-3-phospho-N-(5Z,8Z,11Z,14Z-eicosatetraenoyl)-ethanolamine/1-(14Z,17Z,20Z,23Z,26Z-dotriacontapentaenoyl)-2-(15Z,18Z,21Z,24Z,27Z-triacontapentaenoyl)-sn-glycero-3-phospho-N-(6Z,9Z,12Z-octadecatrienoyl)-ethanolamine/1-(14Z,17Z,20Z,23Z,26Z-dotriacontapentaenoyl)-2-(15Z,18Z,21Z,24Z,27Z-triacontapentaenoyl)-sn-glycero-3-phospho-N-(9Z,12Z,15Z-octadecatrienoyl)-ethanolamine_0<br>m/z=%{x}<br>rt=%{y}<br>intensity=%{z}<extra></extra>",
         "legendgroup": "1-(14Z,17Z,20Z,23Z,26Z-dotriacontapentaenoyl)-2-(12Z,15Z,18Z,21Z,24Z,27Z-triacontahexaenoyl)-sn-glycero-3-phospho-N-(9Z,12Z-octadecadienoyl)-ethanolamine/1-(14Z,17Z,20Z,23Z,26Z-dotriacontapentaenoyl)-2-(12Z,15Z,18Z,21Z,24Z-triacontapentaenoyl)-sn-glycero-3-phospho-N-(6Z,9Z,12Z-octadecatrienoyl)-ethanolamine/1-(14Z,17Z,20Z,23Z,26Z-dotriacontapentaenoyl)-2-(12Z,15Z,18Z,21Z,24Z-triacontapentaenoyl)-sn-glycero-3-phospho-N-(9Z,12Z,15Z-octadecatrienoyl)-ethanolamine/1-(14Z,17Z,20Z,23Z,26Z-dotriacontapentaenoyl)-2-(13Z,16Z,19Z,22Z-octacosatetraenoyl)-sn-glycero-3-phospho-N-(5Z,8Z,11Z,14Z-eicosatetraenoyl)-ethanolamine/1-(14Z,17Z,20Z,23Z,26Z-dotriacontapentaenoyl)-2-(15Z,18Z,21Z,24Z,27Z-triacontapentaenoyl)-sn-glycero-3-phospho-N-(6Z,9Z,12Z-octadecatrienoyl)-ethanolamine/1-(14Z,17Z,20Z,23Z,26Z-dotriacontapentaenoyl)-2-(15Z,18Z,21Z,24Z,27Z-triacontapentaenoyl)-sn-glycero-3-phospho-N-(9Z,12Z,15Z-octadecatrienoyl)-ethanolamine_0",
         "line": {
          "color": "#B6E880",
          "dash": "solid"
         },
         "marker": {
          "symbol": "circle"
         },
         "mode": "lines",
         "name": "1-(14Z,17Z,20Z,23Z,26Z-dotriacontapentaenoyl)-2-(12Z,15Z,18Z,21Z,24Z,27Z-triacontahexaenoyl)-sn-glycero-3-phospho-N-(9Z,12Z-octadecadienoyl)-ethanolamine/1-(14Z,17Z,20Z,23Z,26Z-dotriacontapentaenoyl)-2-(12Z,15Z,18Z,21Z,24Z-triacontapentaenoyl)-sn-glycero-3-phospho-N-(6Z,9Z,12Z-octadecatrienoyl)-ethanolamine/1-(14Z,17Z,20Z,23Z,26Z-dotriacontapentaenoyl)-2-(12Z,15Z,18Z,21Z,24Z-triacontapentaenoyl)-sn-glycero-3-phospho-N-(9Z,12Z,15Z-octadecatrienoyl)-ethanolamine/1-(14Z,17Z,20Z,23Z,26Z-dotriacontapentaenoyl)-2-(13Z,16Z,19Z,22Z-octacosatetraenoyl)-sn-glycero-3-phospho-N-(5Z,8Z,11Z,14Z-eicosatetraenoyl)-ethanolamine/1-(14Z,17Z,20Z,23Z,26Z-dotriacontapentaenoyl)-2-(15Z,18Z,21Z,24Z,27Z-triacontapentaenoyl)-sn-glycero-3-phospho-N-(6Z,9Z,12Z-octadecatrienoyl)-ethanolamine/1-(14Z,17Z,20Z,23Z,26Z-dotriacontapentaenoyl)-2-(15Z,18Z,21Z,24Z,27Z-triacontapentaenoyl)-sn-glycero-3-phospho-N-(9Z,12Z,15Z-octadecatrienoyl)-ethanolamine_0",
         "scene": "scene",
         "showlegend": false,
         "type": "scatter3d",
         "x": [
          1350.027673533229,
          1350.027673533229,
          1351.0310283710292,
          1351.0310283710292
         ],
         "y": [
          8.732999801635742,
          9.446999549865723,
          8.732999801635742,
          9.446999549865723
         ],
         "z": [
          39.03197479248047,
          0,
          65.35889434814453,
          208.1061553955078
         ]
        },
        {
         "hovertemplate": "labels=1-(14Z,17Z,20Z,23Z,26Z-dotriacontapentaenoyl)-2-(12Z,15Z,18Z,21Z,24Z,27Z-triacontahexaenoyl)-sn-glycero-3-phospho-N-octadecanoyl-ethanolamine/1-(14Z,17Z,20Z,23Z,26Z-dotriacontapentaenoyl)-2-(12Z,15Z,18Z,21Z,24Z-triacontapentaenoyl)-sn-glycero-3-phospho-N-(11Z-octadecenoyl)-ethanolamine/1-(14Z,17Z,20Z,23Z,26Z-dotriacontapentaenoyl)-2-(12Z,15Z,18Z,21Z,24Z-triacontapentaenoyl)-sn-glycero-3-phospho-N-(9Z-octadecenoyl)-ethanolamine/1-(14Z,17Z,20Z,23Z,26Z-dotriacontapentaenoyl)-2-(14Z,17Z,20Z,23Z,26Z,29Z-dotriacontahexaenoyl)-sn-glycero-3-phospho-N-hexadecanoyl-ethanolamine/1-(14Z,17Z,20Z,23Z,26Z-dotriacontapentaenoyl)-2-(15Z,18Z,21Z,24Z,27Z-triacontapentaenoyl)-sn-glycero-3-phospho-N-(11Z-octadecenoyl)-ethanolamine/1-(14Z,17Z,20Z,23Z,26Z-dotriacontapentaenoyl)-2-(15Z,18Z,21Z,24Z,27Z-triacontapentaenoyl)-sn-glycero-3-phospho-N-(9Z-octadecenoyl)-ethanolamine/1-(14Z,17Z,20Z,23Z,26Z-dotriacontapentaenoyl)-2-(15Z,18Z,21Z,24Z-triacontatetraenoyl)-sn-glycero-3-phospho-N-(9Z,12Z-octadecadienoyl)-ethanolamine/1-(14Z,17Z,20Z,23Z,26Z-dotriacontapentaenoyl)-2-(16Z,19Z,22Z,25Z,28Z,31Z-tetratriacontahexaenoyl)-sn-glycero-3-phospho-N-tetradecanoyl-ethanolamine/1-(14Z,17Z,20Z,23Z,26Z-dotriacontapentaenoyl)-2-(18Z,21Z,24Z,27Z,30Z,33Z-hexatriacontahexaenoyl)-sn-glycero-3-phospho-N-dodecanoyl-ethanolamine/1-(14Z,17Z,20Z,23Z,26Z-dotriacontapentaenoyl)-2-hexacosanoyl-sn-glycero-3-phospho-N-(4Z,7Z,10Z,13Z,16Z,19Z-docosahexaenoyl)-ethanolamine_0<br>m/z=%{x}<br>rt=%{y}<br>intensity=%{z}<extra></extra>",
         "legendgroup": "1-(14Z,17Z,20Z,23Z,26Z-dotriacontapentaenoyl)-2-(12Z,15Z,18Z,21Z,24Z,27Z-triacontahexaenoyl)-sn-glycero-3-phospho-N-octadecanoyl-ethanolamine/1-(14Z,17Z,20Z,23Z,26Z-dotriacontapentaenoyl)-2-(12Z,15Z,18Z,21Z,24Z-triacontapentaenoyl)-sn-glycero-3-phospho-N-(11Z-octadecenoyl)-ethanolamine/1-(14Z,17Z,20Z,23Z,26Z-dotriacontapentaenoyl)-2-(12Z,15Z,18Z,21Z,24Z-triacontapentaenoyl)-sn-glycero-3-phospho-N-(9Z-octadecenoyl)-ethanolamine/1-(14Z,17Z,20Z,23Z,26Z-dotriacontapentaenoyl)-2-(14Z,17Z,20Z,23Z,26Z,29Z-dotriacontahexaenoyl)-sn-glycero-3-phospho-N-hexadecanoyl-ethanolamine/1-(14Z,17Z,20Z,23Z,26Z-dotriacontapentaenoyl)-2-(15Z,18Z,21Z,24Z,27Z-triacontapentaenoyl)-sn-glycero-3-phospho-N-(11Z-octadecenoyl)-ethanolamine/1-(14Z,17Z,20Z,23Z,26Z-dotriacontapentaenoyl)-2-(15Z,18Z,21Z,24Z,27Z-triacontapentaenoyl)-sn-glycero-3-phospho-N-(9Z-octadecenoyl)-ethanolamine/1-(14Z,17Z,20Z,23Z,26Z-dotriacontapentaenoyl)-2-(15Z,18Z,21Z,24Z-triacontatetraenoyl)-sn-glycero-3-phospho-N-(9Z,12Z-octadecadienoyl)-ethanolamine/1-(14Z,17Z,20Z,23Z,26Z-dotriacontapentaenoyl)-2-(16Z,19Z,22Z,25Z,28Z,31Z-tetratriacontahexaenoyl)-sn-glycero-3-phospho-N-tetradecanoyl-ethanolamine/1-(14Z,17Z,20Z,23Z,26Z-dotriacontapentaenoyl)-2-(18Z,21Z,24Z,27Z,30Z,33Z-hexatriacontahexaenoyl)-sn-glycero-3-phospho-N-dodecanoyl-ethanolamine/1-(14Z,17Z,20Z,23Z,26Z-dotriacontapentaenoyl)-2-hexacosanoyl-sn-glycero-3-phospho-N-(4Z,7Z,10Z,13Z,16Z,19Z-docosahexaenoyl)-ethanolamine_0",
         "line": {
          "color": "#FF97FF",
          "dash": "solid"
         },
         "marker": {
          "symbol": "circle"
         },
         "mode": "lines",
         "name": "1-(14Z,17Z,20Z,23Z,26Z-dotriacontapentaenoyl)-2-(12Z,15Z,18Z,21Z,24Z,27Z-triacontahexaenoyl)-sn-glycero-3-phospho-N-octadecanoyl-ethanolamine/1-(14Z,17Z,20Z,23Z,26Z-dotriacontapentaenoyl)-2-(12Z,15Z,18Z,21Z,24Z-triacontapentaenoyl)-sn-glycero-3-phospho-N-(11Z-octadecenoyl)-ethanolamine/1-(14Z,17Z,20Z,23Z,26Z-dotriacontapentaenoyl)-2-(12Z,15Z,18Z,21Z,24Z-triacontapentaenoyl)-sn-glycero-3-phospho-N-(9Z-octadecenoyl)-ethanolamine/1-(14Z,17Z,20Z,23Z,26Z-dotriacontapentaenoyl)-2-(14Z,17Z,20Z,23Z,26Z,29Z-dotriacontahexaenoyl)-sn-glycero-3-phospho-N-hexadecanoyl-ethanolamine/1-(14Z,17Z,20Z,23Z,26Z-dotriacontapentaenoyl)-2-(15Z,18Z,21Z,24Z,27Z-triacontapentaenoyl)-sn-glycero-3-phospho-N-(11Z-octadecenoyl)-ethanolamine/1-(14Z,17Z,20Z,23Z,26Z-dotriacontapentaenoyl)-2-(15Z,18Z,21Z,24Z,27Z-triacontapentaenoyl)-sn-glycero-3-phospho-N-(9Z-octadecenoyl)-ethanolamine/1-(14Z,17Z,20Z,23Z,26Z-dotriacontapentaenoyl)-2-(15Z,18Z,21Z,24Z-triacontatetraenoyl)-sn-glycero-3-phospho-N-(9Z,12Z-octadecadienoyl)-ethanolamine/1-(14Z,17Z,20Z,23Z,26Z-dotriacontapentaenoyl)-2-(16Z,19Z,22Z,25Z,28Z,31Z-tetratriacontahexaenoyl)-sn-glycero-3-phospho-N-tetradecanoyl-ethanolamine/1-(14Z,17Z,20Z,23Z,26Z-dotriacontapentaenoyl)-2-(18Z,21Z,24Z,27Z,30Z,33Z-hexatriacontahexaenoyl)-sn-glycero-3-phospho-N-dodecanoyl-ethanolamine/1-(14Z,17Z,20Z,23Z,26Z-dotriacontapentaenoyl)-2-hexacosanoyl-sn-glycero-3-phospho-N-(4Z,7Z,10Z,13Z,16Z,19Z-docosahexaenoyl)-ethanolamine_0",
         "scene": "scene",
         "showlegend": false,
         "type": "scatter3d",
         "x": [
          1354.0589735332292,
          1354.0589735332292,
          1355.0623283710293,
          1355.0623283710293
         ],
         "y": [
          5.875,
          6.590000152587891,
          5.875,
          6.590000152587891
         ],
         "z": [
          0,
          544.6719360351562,
          0,
          0
         ]
        },
        {
         "hovertemplate": "labels=1-(14Z,17Z,20Z,23Z,26Z-dotriacontapentaenoyl)-2-(12Z,15Z,18Z,21Z,24Z-triacontapentaenoyl)-sn-glycero-3-phospho-N-(4Z,7Z,10Z,13Z,16Z,19Z-docosahexaenoyl)-ethanolamine/1-(14Z,17Z,20Z,23Z,26Z-dotriacontapentaenoyl)-2-(15Z,18Z,21Z,24Z,27Z-triacontapentaenoyl)-sn-glycero-3-phospho-N-(4Z,7Z,10Z,13Z,16Z,19Z-docosahexaenoyl)-ethanolamine_0<br>m/z=%{x}<br>rt=%{y}<br>intensity=%{z}<extra></extra>",
         "legendgroup": "1-(14Z,17Z,20Z,23Z,26Z-dotriacontapentaenoyl)-2-(12Z,15Z,18Z,21Z,24Z-triacontapentaenoyl)-sn-glycero-3-phospho-N-(4Z,7Z,10Z,13Z,16Z,19Z-docosahexaenoyl)-ethanolamine/1-(14Z,17Z,20Z,23Z,26Z-dotriacontapentaenoyl)-2-(15Z,18Z,21Z,24Z,27Z-triacontapentaenoyl)-sn-glycero-3-phospho-N-(4Z,7Z,10Z,13Z,16Z,19Z-docosahexaenoyl)-ethanolamine_0",
         "line": {
          "color": "#FECB52",
          "dash": "solid"
         },
         "marker": {
          "symbol": "circle"
         },
         "mode": "lines",
         "name": "1-(14Z,17Z,20Z,23Z,26Z-dotriacontapentaenoyl)-2-(12Z,15Z,18Z,21Z,24Z-triacontapentaenoyl)-sn-glycero-3-phospho-N-(4Z,7Z,10Z,13Z,16Z,19Z-docosahexaenoyl)-ethanolamine/1-(14Z,17Z,20Z,23Z,26Z-dotriacontapentaenoyl)-2-(15Z,18Z,21Z,24Z,27Z-triacontapentaenoyl)-sn-glycero-3-phospho-N-(4Z,7Z,10Z,13Z,16Z,19Z-docosahexaenoyl)-ethanolamine_0",
         "scene": "scene",
         "showlegend": false,
         "type": "scatter3d",
         "x": [
          1400.043323533229,
          1400.043323533229,
          1400.043323533229,
          1400.043323533229,
          1401.0466783710292,
          1401.0466783710292,
          1401.0466783710292,
          1401.0466783710292
         ],
         "y": [
          8.732999801635742,
          9.446999549865723,
          10.161999702453613,
          10.87600040435791,
          8.732999801635742,
          9.446999549865723,
          10.161999702453613,
          10.87600040435791
         ],
         "z": [
          88.26078033447266,
          0,
          0,
          0,
          131.38720703125,
          648.3546142578125,
          96.56324768066406,
          0
         ]
        },
        {
         "hovertemplate": "labels=1-(14Z,17Z,20Z,23Z,26Z-dotriacontapentaenoyl)-2-(12Z,15Z,18Z,21Z,24Z-triacontapentaenoyl)-sn-glycero-3-phospho-N-(5Z,8Z,11Z,14Z-eicosatetraenoyl)-ethanolamine/1-(14Z,17Z,20Z,23Z,26Z-dotriacontapentaenoyl)-2-(14Z,17Z,20Z,23Z,26Z,29Z-dotriacontahexaenoyl)-sn-glycero-3-phospho-N-(6Z,9Z,12Z-octadecatrienoyl)-ethanolamine/1-(14Z,17Z,20Z,23Z,26Z-dotriacontapentaenoyl)-2-(14Z,17Z,20Z,23Z,26Z,29Z-dotriacontahexaenoyl)-sn-glycero-3-phospho-N-(9Z,12Z,15Z-octadecatrienoyl)-ethanolamine/1-(14Z,17Z,20Z,23Z,26Z-dotriacontapentaenoyl)-2-(15Z,18Z,21Z,24Z,27Z-triacontapentaenoyl)-sn-glycero-3-phospho-N-(5Z,8Z,11Z,14Z-eicosatetraenoyl)-ethanolamine_0<br>m/z=%{x}<br>rt=%{y}<br>intensity=%{z}<extra></extra>",
         "legendgroup": "1-(14Z,17Z,20Z,23Z,26Z-dotriacontapentaenoyl)-2-(12Z,15Z,18Z,21Z,24Z-triacontapentaenoyl)-sn-glycero-3-phospho-N-(5Z,8Z,11Z,14Z-eicosatetraenoyl)-ethanolamine/1-(14Z,17Z,20Z,23Z,26Z-dotriacontapentaenoyl)-2-(14Z,17Z,20Z,23Z,26Z,29Z-dotriacontahexaenoyl)-sn-glycero-3-phospho-N-(6Z,9Z,12Z-octadecatrienoyl)-ethanolamine/1-(14Z,17Z,20Z,23Z,26Z-dotriacontapentaenoyl)-2-(14Z,17Z,20Z,23Z,26Z,29Z-dotriacontahexaenoyl)-sn-glycero-3-phospho-N-(9Z,12Z,15Z-octadecatrienoyl)-ethanolamine/1-(14Z,17Z,20Z,23Z,26Z-dotriacontapentaenoyl)-2-(15Z,18Z,21Z,24Z,27Z-triacontapentaenoyl)-sn-glycero-3-phospho-N-(5Z,8Z,11Z,14Z-eicosatetraenoyl)-ethanolamine_0",
         "line": {
          "color": "#636efa",
          "dash": "solid"
         },
         "marker": {
          "symbol": "circle"
         },
         "mode": "lines",
         "name": "1-(14Z,17Z,20Z,23Z,26Z-dotriacontapentaenoyl)-2-(12Z,15Z,18Z,21Z,24Z-triacontapentaenoyl)-sn-glycero-3-phospho-N-(5Z,8Z,11Z,14Z-eicosatetraenoyl)-ethanolamine/1-(14Z,17Z,20Z,23Z,26Z-dotriacontapentaenoyl)-2-(14Z,17Z,20Z,23Z,26Z,29Z-dotriacontahexaenoyl)-sn-glycero-3-phospho-N-(6Z,9Z,12Z-octadecatrienoyl)-ethanolamine/1-(14Z,17Z,20Z,23Z,26Z-dotriacontapentaenoyl)-2-(14Z,17Z,20Z,23Z,26Z,29Z-dotriacontahexaenoyl)-sn-glycero-3-phospho-N-(9Z,12Z,15Z-octadecatrienoyl)-ethanolamine/1-(14Z,17Z,20Z,23Z,26Z-dotriacontapentaenoyl)-2-(15Z,18Z,21Z,24Z,27Z-triacontapentaenoyl)-sn-glycero-3-phospho-N-(5Z,8Z,11Z,14Z-eicosatetraenoyl)-ethanolamine_0",
         "scene": "scene",
         "showlegend": false,
         "type": "scatter3d",
         "x": [
          1376.043323533229,
          1376.043323533229,
          1376.043323533229,
          1376.043323533229,
          1377.0466783710292,
          1377.0466783710292,
          1377.0466783710292,
          1377.0466783710292
         ],
         "y": [
          10.161999702453613,
          10.87600040435791,
          11.590999603271484,
          12.305000305175781,
          10.161999702453613,
          10.87600040435791,
          11.590999603271484,
          12.305000305175781
         ],
         "z": [
          646.0496826171875,
          94.30081939697266,
          0,
          0,
          0,
          781.5036010742188,
          683.5650024414062,
          0
         ]
        },
        {
         "hovertemplate": "labels=1-(14Z,17Z,20Z,23Z,26Z-dotriacontapentaenoyl)-2-(12Z,15Z,18Z,21Z,24Z-triacontapentaenoyl)-sn-glycero-3-phospho-N-octadecanoyl-ethanolamine/1-(14Z,17Z,20Z,23Z,26Z-dotriacontapentaenoyl)-2-(15Z,18Z,21Z,24Z,27Z-triacontapentaenoyl)-sn-glycero-3-phospho-N-octadecanoyl-ethanolamine/1-(14Z,17Z,20Z,23Z,26Z-dotriacontapentaenoyl)-2-(15Z,18Z,21Z,24Z-triacontatetraenoyl)-sn-glycero-3-phospho-N-(11Z-octadecenoyl)-ethanolamine/1-(14Z,17Z,20Z,23Z,26Z-dotriacontapentaenoyl)-2-(15Z,18Z,21Z,24Z-triacontatetraenoyl)-sn-glycero-3-phospho-N-(9Z-octadecenoyl)-ethanolamine/1-(14Z,17Z,20Z,23Z,26Z-dotriacontapentaenoyl)-2-(17Z,20Z,23Z,26Z,29Z-dotriacontapentaenoyl)-sn-glycero-3-phospho-N-hexadecanoyl-ethanolamine/1-(14Z,17Z,20Z,23Z,26Z-dotriacontapentaenoyl)-2-(19Z,22Z,25Z,28Z,31Z-tetratriacontapentaenoyl)-sn-glycero-3-phospho-N-tetradecanoyl-ethanolamine/1-(14Z,17Z,20Z,23Z,26Z-dotriacontapentaenoyl)-2-(21Z,24Z,27Z,30Z,33Z-hexatriacontapentaenoyl)-sn-glycero-3-phospho-N-dodecanoyl-ethanolamine/1-(14Z,17Z,20Z,23Z,26Z-dotriacontapentaenoyl)-2-(23Z,26Z,29Z,32Z,35Z-octatriacontapentaenoyl)-sn-glycero-3-phospho-N-decanoyl-ethanolamine_0<br>m/z=%{x}<br>rt=%{y}<br>intensity=%{z}<extra></extra>",
         "legendgroup": "1-(14Z,17Z,20Z,23Z,26Z-dotriacontapentaenoyl)-2-(12Z,15Z,18Z,21Z,24Z-triacontapentaenoyl)-sn-glycero-3-phospho-N-octadecanoyl-ethanolamine/1-(14Z,17Z,20Z,23Z,26Z-dotriacontapentaenoyl)-2-(15Z,18Z,21Z,24Z,27Z-triacontapentaenoyl)-sn-glycero-3-phospho-N-octadecanoyl-ethanolamine/1-(14Z,17Z,20Z,23Z,26Z-dotriacontapentaenoyl)-2-(15Z,18Z,21Z,24Z-triacontatetraenoyl)-sn-glycero-3-phospho-N-(11Z-octadecenoyl)-ethanolamine/1-(14Z,17Z,20Z,23Z,26Z-dotriacontapentaenoyl)-2-(15Z,18Z,21Z,24Z-triacontatetraenoyl)-sn-glycero-3-phospho-N-(9Z-octadecenoyl)-ethanolamine/1-(14Z,17Z,20Z,23Z,26Z-dotriacontapentaenoyl)-2-(17Z,20Z,23Z,26Z,29Z-dotriacontapentaenoyl)-sn-glycero-3-phospho-N-hexadecanoyl-ethanolamine/1-(14Z,17Z,20Z,23Z,26Z-dotriacontapentaenoyl)-2-(19Z,22Z,25Z,28Z,31Z-tetratriacontapentaenoyl)-sn-glycero-3-phospho-N-tetradecanoyl-ethanolamine/1-(14Z,17Z,20Z,23Z,26Z-dotriacontapentaenoyl)-2-(21Z,24Z,27Z,30Z,33Z-hexatriacontapentaenoyl)-sn-glycero-3-phospho-N-dodecanoyl-ethanolamine/1-(14Z,17Z,20Z,23Z,26Z-dotriacontapentaenoyl)-2-(23Z,26Z,29Z,32Z,35Z-octatriacontapentaenoyl)-sn-glycero-3-phospho-N-decanoyl-ethanolamine_0",
         "line": {
          "color": "#EF553B",
          "dash": "solid"
         },
         "marker": {
          "symbol": "circle"
         },
         "mode": "lines",
         "name": "1-(14Z,17Z,20Z,23Z,26Z-dotriacontapentaenoyl)-2-(12Z,15Z,18Z,21Z,24Z-triacontapentaenoyl)-sn-glycero-3-phospho-N-octadecanoyl-ethanolamine/1-(14Z,17Z,20Z,23Z,26Z-dotriacontapentaenoyl)-2-(15Z,18Z,21Z,24Z,27Z-triacontapentaenoyl)-sn-glycero-3-phospho-N-octadecanoyl-ethanolamine/1-(14Z,17Z,20Z,23Z,26Z-dotriacontapentaenoyl)-2-(15Z,18Z,21Z,24Z-triacontatetraenoyl)-sn-glycero-3-phospho-N-(11Z-octadecenoyl)-ethanolamine/1-(14Z,17Z,20Z,23Z,26Z-dotriacontapentaenoyl)-2-(15Z,18Z,21Z,24Z-triacontatetraenoyl)-sn-glycero-3-phospho-N-(9Z-octadecenoyl)-ethanolamine/1-(14Z,17Z,20Z,23Z,26Z-dotriacontapentaenoyl)-2-(17Z,20Z,23Z,26Z,29Z-dotriacontapentaenoyl)-sn-glycero-3-phospho-N-hexadecanoyl-ethanolamine/1-(14Z,17Z,20Z,23Z,26Z-dotriacontapentaenoyl)-2-(19Z,22Z,25Z,28Z,31Z-tetratriacontapentaenoyl)-sn-glycero-3-phospho-N-tetradecanoyl-ethanolamine/1-(14Z,17Z,20Z,23Z,26Z-dotriacontapentaenoyl)-2-(21Z,24Z,27Z,30Z,33Z-hexatriacontapentaenoyl)-sn-glycero-3-phospho-N-dodecanoyl-ethanolamine/1-(14Z,17Z,20Z,23Z,26Z-dotriacontapentaenoyl)-2-(23Z,26Z,29Z,32Z,35Z-octatriacontapentaenoyl)-sn-glycero-3-phospho-N-decanoyl-ethanolamine_0",
         "scene": "scene",
         "showlegend": false,
         "type": "scatter3d",
         "x": [
          1356.074623533229,
          1356.074623533229,
          1356.074623533229,
          1357.077978371029,
          1357.077978371029,
          1357.077978371029
         ],
         "y": [
          9.446999549865723,
          10.161999702453613,
          10.87600040435791,
          9.446999549865723,
          10.161999702453613,
          10.87600040435791
         ],
         "z": [
          156.16209411621094,
          0,
          0,
          0,
          1227.7779541015625,
          0
         ]
        },
        {
         "hovertemplate": "labels=1-(14Z,17Z,20Z,23Z,26Z-dotriacontapentaenoyl)-2-(13-methyltetradecanoyl)-sn-glycero-3-phospho-N-(9Z,12Z,15Z-octadecatrienoyl)-ethanolamine_0<br>m/z=%{x}<br>rt=%{y}<br>intensity=%{z}<extra></extra>",
         "legendgroup": "1-(14Z,17Z,20Z,23Z,26Z-dotriacontapentaenoyl)-2-(13-methyltetradecanoyl)-sn-glycero-3-phospho-N-(9Z,12Z,15Z-octadecatrienoyl)-ethanolamine_0",
         "line": {
          "color": "#00cc96",
          "dash": "solid"
         },
         "marker": {
          "symbol": "circle"
         },
         "mode": "lines",
         "name": "1-(14Z,17Z,20Z,23Z,26Z-dotriacontapentaenoyl)-2-(13-methyltetradecanoyl)-sn-glycero-3-phospho-N-(9Z,12Z,15Z-octadecatrienoyl)-ethanolamine_0",
         "scene": "scene",
         "showlegend": false,
         "type": "scatter3d",
         "x": [
          1149.871163533229,
          1149.871163533229,
          1149.871163533229,
          1149.871163533229,
          1149.871163533229,
          1150.8745183710291,
          1150.8745183710291,
          1150.8745183710291,
          1150.8745183710291,
          1150.8745183710291
         ],
         "y": [
          8.017999649047852,
          8.732999801635742,
          9.446999549865723,
          10.161999702453613,
          10.87600040435791,
          8.017999649047852,
          8.732999801635742,
          9.446999549865723,
          10.161999702453613,
          10.87600040435791
         ],
         "z": [
          0,
          18.268224716186523,
          308.8811340332031,
          0,
          0,
          0,
          277.19189453125,
          392.3803405761719,
          623.965087890625,
          846.0382690429688
         ]
        },
        {
         "hovertemplate": "labels=1-(14Z,17Z,20Z,23Z,26Z-dotriacontapentaenoyl)-2-(13-methyltetradecanoyl)-sn-glycero-3-phospho-N-octadecanoyl-ethanolamine_0<br>m/z=%{x}<br>rt=%{y}<br>intensity=%{z}<extra></extra>",
         "legendgroup": "1-(14Z,17Z,20Z,23Z,26Z-dotriacontapentaenoyl)-2-(13-methyltetradecanoyl)-sn-glycero-3-phospho-N-octadecanoyl-ethanolamine_0",
         "line": {
          "color": "#ab63fa",
          "dash": "solid"
         },
         "marker": {
          "symbol": "circle"
         },
         "mode": "lines",
         "name": "1-(14Z,17Z,20Z,23Z,26Z-dotriacontapentaenoyl)-2-(13-methyltetradecanoyl)-sn-glycero-3-phospho-N-octadecanoyl-ethanolamine_0",
         "scene": "scene",
         "showlegend": false,
         "type": "scatter3d",
         "x": [
          1155.9181135332294,
          1155.9181135332294,
          1156.9214683710293,
          1156.9214683710293
         ],
         "y": [
          8.017999649047852,
          8.732999801635742,
          8.017999649047852,
          8.732999801635742
         ],
         "z": [
          0,
          0,
          0,
          126.54241943359375
         ]
        },
        {
         "hovertemplate": "labels=1-(14Z,17Z,20Z,23Z,26Z-dotriacontapentaenoyl)-2-(13Z,16Z,19Z,22Z-octacosatetraenoyl)-sn-glycero-3-phospho-N-octadecanoyl-ethanolamine/1-(14Z,17Z,20Z,23Z,26Z-dotriacontapentaenoyl)-2-(15Z,18Z,21Z,24Z-triacontatetraenoyl)-sn-glycero-3-phospho-N-hexadecanoyl-ethanolamine/1-(14Z,17Z,20Z,23Z,26Z-dotriacontapentaenoyl)-2-(17Z,20Z,23Z,26Z-dotriacontatetraenoyl)-sn-glycero-3-phospho-N-tetradecanoyl-ethanolamine/1-(14Z,17Z,20Z,23Z,26Z-dotriacontapentaenoyl)-2-(19Z,22Z,25Z,28Z-tetratriacontatetraenoyl)-sn-glycero-3-phospho-N-dodecanoyl-ethanolamine/1-(14Z,17Z,20Z,23Z,26Z-dotriacontapentaenoyl)-2-(21Z,24Z,27Z,30Z-hexatriacontatetraenoyl)-sn-glycero-3-phospho-N-decanoyl-ethanolamine/1-(14Z,17Z,20Z,23Z,26Z-dotriacontapentaenoyl)-2-(23Z,26Z,29Z,32Z-octatriacontatetraenoyl)-sn-glycero-3-phospho-N-octanoyl-ethanolamine/1-(14Z,17Z,20Z,23Z,26Z-dotriacontapentaenoyl)-2-hexacosanoyl-sn-glycero-3-phospho-N-(5Z,8Z,11Z,14Z-eicosatetraenoyl)-ethanolamine_0<br>m/z=%{x}<br>rt=%{y}<br>intensity=%{z}<extra></extra>",
         "legendgroup": "1-(14Z,17Z,20Z,23Z,26Z-dotriacontapentaenoyl)-2-(13Z,16Z,19Z,22Z-octacosatetraenoyl)-sn-glycero-3-phospho-N-octadecanoyl-ethanolamine/1-(14Z,17Z,20Z,23Z,26Z-dotriacontapentaenoyl)-2-(15Z,18Z,21Z,24Z-triacontatetraenoyl)-sn-glycero-3-phospho-N-hexadecanoyl-ethanolamine/1-(14Z,17Z,20Z,23Z,26Z-dotriacontapentaenoyl)-2-(17Z,20Z,23Z,26Z-dotriacontatetraenoyl)-sn-glycero-3-phospho-N-tetradecanoyl-ethanolamine/1-(14Z,17Z,20Z,23Z,26Z-dotriacontapentaenoyl)-2-(19Z,22Z,25Z,28Z-tetratriacontatetraenoyl)-sn-glycero-3-phospho-N-dodecanoyl-ethanolamine/1-(14Z,17Z,20Z,23Z,26Z-dotriacontapentaenoyl)-2-(21Z,24Z,27Z,30Z-hexatriacontatetraenoyl)-sn-glycero-3-phospho-N-decanoyl-ethanolamine/1-(14Z,17Z,20Z,23Z,26Z-dotriacontapentaenoyl)-2-(23Z,26Z,29Z,32Z-octatriacontatetraenoyl)-sn-glycero-3-phospho-N-octanoyl-ethanolamine/1-(14Z,17Z,20Z,23Z,26Z-dotriacontapentaenoyl)-2-hexacosanoyl-sn-glycero-3-phospho-N-(5Z,8Z,11Z,14Z-eicosatetraenoyl)-ethanolamine_0",
         "line": {
          "color": "#FFA15A",
          "dash": "solid"
         },
         "marker": {
          "symbol": "circle"
         },
         "mode": "lines",
         "name": "1-(14Z,17Z,20Z,23Z,26Z-dotriacontapentaenoyl)-2-(13Z,16Z,19Z,22Z-octacosatetraenoyl)-sn-glycero-3-phospho-N-octadecanoyl-ethanolamine/1-(14Z,17Z,20Z,23Z,26Z-dotriacontapentaenoyl)-2-(15Z,18Z,21Z,24Z-triacontatetraenoyl)-sn-glycero-3-phospho-N-hexadecanoyl-ethanolamine/1-(14Z,17Z,20Z,23Z,26Z-dotriacontapentaenoyl)-2-(17Z,20Z,23Z,26Z-dotriacontatetraenoyl)-sn-glycero-3-phospho-N-tetradecanoyl-ethanolamine/1-(14Z,17Z,20Z,23Z,26Z-dotriacontapentaenoyl)-2-(19Z,22Z,25Z,28Z-tetratriacontatetraenoyl)-sn-glycero-3-phospho-N-dodecanoyl-ethanolamine/1-(14Z,17Z,20Z,23Z,26Z-dotriacontapentaenoyl)-2-(21Z,24Z,27Z,30Z-hexatriacontatetraenoyl)-sn-glycero-3-phospho-N-decanoyl-ethanolamine/1-(14Z,17Z,20Z,23Z,26Z-dotriacontapentaenoyl)-2-(23Z,26Z,29Z,32Z-octatriacontatetraenoyl)-sn-glycero-3-phospho-N-octanoyl-ethanolamine/1-(14Z,17Z,20Z,23Z,26Z-dotriacontapentaenoyl)-2-hexacosanoyl-sn-glycero-3-phospho-N-(5Z,8Z,11Z,14Z-eicosatetraenoyl)-ethanolamine_0",
         "scene": "scene",
         "showlegend": false,
         "type": "scatter3d",
         "x": [
          1330.0589735332292,
          1330.0589735332292,
          1331.0623283710293,
          1331.0623283710293
         ],
         "y": [
          13.019000053405762,
          13.734000205993652,
          13.019000053405762,
          13.734000205993652
         ],
         "z": [
          0,
          1392.5166015625,
          0,
          1365.2142333984375
         ]
        },
        {
         "hovertemplate": "labels=1-(14Z,17Z,20Z,23Z,26Z-dotriacontapentaenoyl)-2-(13Z,16Z-docosadienoyl)-sn-glycero-3-phospho-N-octadecanoyl-ethanolamine/1-(14Z,17Z,20Z,23Z,26Z-dotriacontapentaenoyl)-2-(13Z-docosenoyl)-sn-glycero-3-phospho-N-(11Z-octadecenoyl)-ethanolamine/1-(14Z,17Z,20Z,23Z,26Z-dotriacontapentaenoyl)-2-(13Z-docosenoyl)-sn-glycero-3-phospho-N-(9Z-octadecenoyl)-ethanolamine/1-(14Z,17Z,20Z,23Z,26Z-dotriacontapentaenoyl)-2-docosanoyl-sn-glycero-3-phospho-N-(9Z,12Z-octadecadienoyl)-ethanolamine_0<br>m/z=%{x}<br>rt=%{y}<br>intensity=%{z}<extra></extra>",
         "legendgroup": "1-(14Z,17Z,20Z,23Z,26Z-dotriacontapentaenoyl)-2-(13Z,16Z-docosadienoyl)-sn-glycero-3-phospho-N-octadecanoyl-ethanolamine/1-(14Z,17Z,20Z,23Z,26Z-dotriacontapentaenoyl)-2-(13Z-docosenoyl)-sn-glycero-3-phospho-N-(11Z-octadecenoyl)-ethanolamine/1-(14Z,17Z,20Z,23Z,26Z-dotriacontapentaenoyl)-2-(13Z-docosenoyl)-sn-glycero-3-phospho-N-(9Z-octadecenoyl)-ethanolamine/1-(14Z,17Z,20Z,23Z,26Z-dotriacontapentaenoyl)-2-docosanoyl-sn-glycero-3-phospho-N-(9Z,12Z-octadecadienoyl)-ethanolamine_0",
         "line": {
          "color": "#19d3f3",
          "dash": "solid"
         },
         "marker": {
          "symbol": "circle"
         },
         "mode": "lines",
         "name": "1-(14Z,17Z,20Z,23Z,26Z-dotriacontapentaenoyl)-2-(13Z,16Z-docosadienoyl)-sn-glycero-3-phospho-N-octadecanoyl-ethanolamine/1-(14Z,17Z,20Z,23Z,26Z-dotriacontapentaenoyl)-2-(13Z-docosenoyl)-sn-glycero-3-phospho-N-(11Z-octadecenoyl)-ethanolamine/1-(14Z,17Z,20Z,23Z,26Z-dotriacontapentaenoyl)-2-(13Z-docosenoyl)-sn-glycero-3-phospho-N-(9Z-octadecenoyl)-ethanolamine/1-(14Z,17Z,20Z,23Z,26Z-dotriacontapentaenoyl)-2-docosanoyl-sn-glycero-3-phospho-N-(9Z,12Z-octadecadienoyl)-ethanolamine_0",
         "scene": "scene",
         "showlegend": false,
         "type": "scatter3d",
         "x": [
          1249.9963735332294,
          1249.9963735332294,
          1249.9963735332294,
          1249.9963735332294,
          1250.9997283710293,
          1250.9997283710293,
          1250.9997283710293,
          1250.9997283710293
         ],
         "y": [
          10.161999702453613,
          10.87600040435791,
          11.590999603271484,
          12.305000305175781,
          10.161999702453613,
          10.87600040435791,
          11.590999603271484,
          12.305000305175781
         ],
         "z": [
          250.19830322265625,
          403.24090576171875,
          0,
          860.6918334960938,
          0,
          1802.835205078125,
          330.9742126464844,
          0
         ]
        },
        {
         "hovertemplate": "labels=1-(14Z,17Z,20Z,23Z,26Z-dotriacontapentaenoyl)-2-(13Z-docosenoyl)-sn-glycero-3-phospho-N-octadecanoyl-ethanolamine/1-(14Z,17Z,20Z,23Z,26Z-dotriacontapentaenoyl)-2-(15Z-tetracosenoyl)-sn-glycero-3-phospho-N-hexadecanoyl-ethanolamine/1-(14Z,17Z,20Z,23Z,26Z-dotriacontapentaenoyl)-2-(17Z-hexacosenoyl)-sn-glycero-3-phospho-N-tetradecanoyl-ethanolamine/1-(14Z,17Z,20Z,23Z,26Z-dotriacontapentaenoyl)-2-docosanoyl-sn-glycero-3-phospho-N-(11Z-octadecenoyl)-ethanolamine/1-(14Z,17Z,20Z,23Z,26Z-dotriacontapentaenoyl)-2-docosanoyl-sn-glycero-3-phospho-N-(9Z-octadecenoyl)-ethanolamine_0<br>m/z=%{x}<br>rt=%{y}<br>intensity=%{z}<extra></extra>",
         "legendgroup": "1-(14Z,17Z,20Z,23Z,26Z-dotriacontapentaenoyl)-2-(13Z-docosenoyl)-sn-glycero-3-phospho-N-octadecanoyl-ethanolamine/1-(14Z,17Z,20Z,23Z,26Z-dotriacontapentaenoyl)-2-(15Z-tetracosenoyl)-sn-glycero-3-phospho-N-hexadecanoyl-ethanolamine/1-(14Z,17Z,20Z,23Z,26Z-dotriacontapentaenoyl)-2-(17Z-hexacosenoyl)-sn-glycero-3-phospho-N-tetradecanoyl-ethanolamine/1-(14Z,17Z,20Z,23Z,26Z-dotriacontapentaenoyl)-2-docosanoyl-sn-glycero-3-phospho-N-(11Z-octadecenoyl)-ethanolamine/1-(14Z,17Z,20Z,23Z,26Z-dotriacontapentaenoyl)-2-docosanoyl-sn-glycero-3-phospho-N-(9Z-octadecenoyl)-ethanolamine_0",
         "line": {
          "color": "#FF6692",
          "dash": "solid"
         },
         "marker": {
          "symbol": "circle"
         },
         "mode": "lines",
         "name": "1-(14Z,17Z,20Z,23Z,26Z-dotriacontapentaenoyl)-2-(13Z-docosenoyl)-sn-glycero-3-phospho-N-octadecanoyl-ethanolamine/1-(14Z,17Z,20Z,23Z,26Z-dotriacontapentaenoyl)-2-(15Z-tetracosenoyl)-sn-glycero-3-phospho-N-hexadecanoyl-ethanolamine/1-(14Z,17Z,20Z,23Z,26Z-dotriacontapentaenoyl)-2-(17Z-hexacosenoyl)-sn-glycero-3-phospho-N-tetradecanoyl-ethanolamine/1-(14Z,17Z,20Z,23Z,26Z-dotriacontapentaenoyl)-2-docosanoyl-sn-glycero-3-phospho-N-(11Z-octadecenoyl)-ethanolamine/1-(14Z,17Z,20Z,23Z,26Z-dotriacontapentaenoyl)-2-docosanoyl-sn-glycero-3-phospho-N-(9Z-octadecenoyl)-ethanolamine_0",
         "scene": "scene",
         "showlegend": false,
         "type": "scatter3d",
         "x": [
          1252.012023533229,
          1252.012023533229,
          1253.015378371029,
          1253.015378371029
         ],
         "y": [
          10.161999702453613,
          10.87600040435791,
          10.161999702453613,
          10.87600040435791
         ],
         "z": [
          239.7680206298828,
          671.9393310546875,
          0,
          0
         ]
        },
        {
         "hovertemplate": "labels=1-(14Z,17Z,20Z,23Z,26Z-dotriacontapentaenoyl)-2-(14Z,17Z,20Z,23Z,26Z,29Z-dotriacontahexaenoyl)-sn-glycero-3-phospho-N-(11Z-octadecenoyl)-ethanolamine/1-(14Z,17Z,20Z,23Z,26Z-dotriacontapentaenoyl)-2-(14Z,17Z,20Z,23Z,26Z,29Z-dotriacontahexaenoyl)-sn-glycero-3-phospho-N-(9Z-octadecenoyl)-ethanolamine/1-(14Z,17Z,20Z,23Z,26Z-dotriacontapentaenoyl)-2-(17Z,20Z,23Z,26Z,29Z-dotriacontapentaenoyl)-sn-glycero-3-phospho-N-(9Z,12Z-octadecadienoyl)-ethanolamine/1-(14Z,17Z,20Z,23Z,26Z-dotriacontapentaenoyl)-2-(17Z,20Z,23Z,26Z-dotriacontatetraenoyl)-sn-glycero-3-phospho-N-(6Z,9Z,12Z-octadecatrienoyl)-ethanolamine/1-(14Z,17Z,20Z,23Z,26Z-dotriacontapentaenoyl)-2-(17Z,20Z,23Z,26Z-dotriacontatetraenoyl)-sn-glycero-3-phospho-N-(9Z,12Z,15Z-octadecatrienoyl)-ethanolamine_0<br>m/z=%{x}<br>rt=%{y}<br>intensity=%{z}<extra></extra>",
         "legendgroup": "1-(14Z,17Z,20Z,23Z,26Z-dotriacontapentaenoyl)-2-(14Z,17Z,20Z,23Z,26Z,29Z-dotriacontahexaenoyl)-sn-glycero-3-phospho-N-(11Z-octadecenoyl)-ethanolamine/1-(14Z,17Z,20Z,23Z,26Z-dotriacontapentaenoyl)-2-(14Z,17Z,20Z,23Z,26Z,29Z-dotriacontahexaenoyl)-sn-glycero-3-phospho-N-(9Z-octadecenoyl)-ethanolamine/1-(14Z,17Z,20Z,23Z,26Z-dotriacontapentaenoyl)-2-(17Z,20Z,23Z,26Z,29Z-dotriacontapentaenoyl)-sn-glycero-3-phospho-N-(9Z,12Z-octadecadienoyl)-ethanolamine/1-(14Z,17Z,20Z,23Z,26Z-dotriacontapentaenoyl)-2-(17Z,20Z,23Z,26Z-dotriacontatetraenoyl)-sn-glycero-3-phospho-N-(6Z,9Z,12Z-octadecatrienoyl)-ethanolamine/1-(14Z,17Z,20Z,23Z,26Z-dotriacontapentaenoyl)-2-(17Z,20Z,23Z,26Z-dotriacontatetraenoyl)-sn-glycero-3-phospho-N-(9Z,12Z,15Z-octadecatrienoyl)-ethanolamine_0",
         "line": {
          "color": "#B6E880",
          "dash": "solid"
         },
         "marker": {
          "symbol": "circle"
         },
         "mode": "lines",
         "name": "1-(14Z,17Z,20Z,23Z,26Z-dotriacontapentaenoyl)-2-(14Z,17Z,20Z,23Z,26Z,29Z-dotriacontahexaenoyl)-sn-glycero-3-phospho-N-(11Z-octadecenoyl)-ethanolamine/1-(14Z,17Z,20Z,23Z,26Z-dotriacontapentaenoyl)-2-(14Z,17Z,20Z,23Z,26Z,29Z-dotriacontahexaenoyl)-sn-glycero-3-phospho-N-(9Z-octadecenoyl)-ethanolamine/1-(14Z,17Z,20Z,23Z,26Z-dotriacontapentaenoyl)-2-(17Z,20Z,23Z,26Z,29Z-dotriacontapentaenoyl)-sn-glycero-3-phospho-N-(9Z,12Z-octadecadienoyl)-ethanolamine/1-(14Z,17Z,20Z,23Z,26Z-dotriacontapentaenoyl)-2-(17Z,20Z,23Z,26Z-dotriacontatetraenoyl)-sn-glycero-3-phospho-N-(6Z,9Z,12Z-octadecatrienoyl)-ethanolamine/1-(14Z,17Z,20Z,23Z,26Z-dotriacontapentaenoyl)-2-(17Z,20Z,23Z,26Z-dotriacontatetraenoyl)-sn-glycero-3-phospho-N-(9Z,12Z,15Z-octadecatrienoyl)-ethanolamine_0",
         "scene": "scene",
         "showlegend": false,
         "type": "scatter3d",
         "x": [
          1380.074623533229,
          1380.074623533229,
          1380.074623533229,
          1381.077978371029,
          1381.077978371029,
          1381.077978371029
         ],
         "y": [
          11.590999603271484,
          12.305000305175781,
          13.019000053405762,
          11.590999603271484,
          12.305000305175781,
          13.019000053405762
         ],
         "z": [
          296.0979309082031,
          0,
          871.5120239257812,
          0,
          691.6427612304688,
          0
         ]
        },
        {
         "hovertemplate": "labels=1-(14Z,17Z,20Z,23Z,26Z-dotriacontapentaenoyl)-2-(14Z,17Z,20Z,23Z,26Z,29Z-dotriacontahexaenoyl)-sn-glycero-3-phospho-N-(4Z,7Z,10Z,13Z,16Z,19Z-docosahexaenoyl)-ethanolamine_0<br>m/z=%{x}<br>rt=%{y}<br>intensity=%{z}<extra></extra>",
         "legendgroup": "1-(14Z,17Z,20Z,23Z,26Z-dotriacontapentaenoyl)-2-(14Z,17Z,20Z,23Z,26Z,29Z-dotriacontahexaenoyl)-sn-glycero-3-phospho-N-(4Z,7Z,10Z,13Z,16Z,19Z-docosahexaenoyl)-ethanolamine_0",
         "line": {
          "color": "#FF97FF",
          "dash": "solid"
         },
         "marker": {
          "symbol": "circle"
         },
         "mode": "lines",
         "name": "1-(14Z,17Z,20Z,23Z,26Z-dotriacontapentaenoyl)-2-(14Z,17Z,20Z,23Z,26Z,29Z-dotriacontahexaenoyl)-sn-glycero-3-phospho-N-(4Z,7Z,10Z,13Z,16Z,19Z-docosahexaenoyl)-ethanolamine_0",
         "scene": "scene",
         "showlegend": false,
         "type": "scatter3d",
         "x": [
          1426.0589735332292,
          1426.0589735332292,
          1426.0589735332292,
          1426.0589735332292,
          1426.0589735332292,
          1426.0589735332292,
          1427.0623283710293,
          1427.0623283710293,
          1427.0623283710293,
          1427.0623283710293,
          1427.0623283710293,
          1427.0623283710293
         ],
         "y": [
          3.0169999599456787,
          3.7320001125335693,
          4.446000099182129,
          5.160999774932861,
          5.875,
          6.590000152587891,
          3.0169999599456787,
          3.7320001125335693,
          4.446000099182129,
          5.160999774932861,
          5.875,
          6.590000152587891
         ],
         "z": [
          31,
          96.01936340332031,
          0,
          671.6214599609375,
          0,
          77.6353530883789,
          0,
          0,
          0,
          0,
          0,
          0
         ]
        },
        {
         "hovertemplate": "labels=1-(14Z,17Z,20Z,23Z,26Z-dotriacontapentaenoyl)-2-(14Z,17Z,20Z,23Z,26Z,29Z-dotriacontahexaenoyl)-sn-glycero-3-phospho-N-(5Z,8Z,11Z,14Z-eicosatetraenoyl)-ethanolamine/1-(14Z,17Z,20Z,23Z,26Z-dotriacontapentaenoyl)-2-(15Z,18Z,21Z,24Z-triacontatetraenoyl)-sn-glycero-3-phospho-N-(4Z,7Z,10Z,13Z,16Z,19Z-docosahexaenoyl)-ethanolamine_0<br>m/z=%{x}<br>rt=%{y}<br>intensity=%{z}<extra></extra>",
         "legendgroup": "1-(14Z,17Z,20Z,23Z,26Z-dotriacontapentaenoyl)-2-(14Z,17Z,20Z,23Z,26Z,29Z-dotriacontahexaenoyl)-sn-glycero-3-phospho-N-(5Z,8Z,11Z,14Z-eicosatetraenoyl)-ethanolamine/1-(14Z,17Z,20Z,23Z,26Z-dotriacontapentaenoyl)-2-(15Z,18Z,21Z,24Z-triacontatetraenoyl)-sn-glycero-3-phospho-N-(4Z,7Z,10Z,13Z,16Z,19Z-docosahexaenoyl)-ethanolamine_0",
         "line": {
          "color": "#FECB52",
          "dash": "solid"
         },
         "marker": {
          "symbol": "circle"
         },
         "mode": "lines",
         "name": "1-(14Z,17Z,20Z,23Z,26Z-dotriacontapentaenoyl)-2-(14Z,17Z,20Z,23Z,26Z,29Z-dotriacontahexaenoyl)-sn-glycero-3-phospho-N-(5Z,8Z,11Z,14Z-eicosatetraenoyl)-ethanolamine/1-(14Z,17Z,20Z,23Z,26Z-dotriacontapentaenoyl)-2-(15Z,18Z,21Z,24Z-triacontatetraenoyl)-sn-glycero-3-phospho-N-(4Z,7Z,10Z,13Z,16Z,19Z-docosahexaenoyl)-ethanolamine_0",
         "scene": "scene",
         "showlegend": false,
         "type": "scatter3d",
         "x": [
          1402.0589735332292,
          1402.0589735332292,
          1403.0623283710293,
          1403.0623283710293
         ],
         "y": [
          5.875,
          6.590000152587891,
          5.875,
          6.590000152587891
         ],
         "z": [
          0,
          667.1517333984375,
          0,
          0
         ]
        },
        {
         "hovertemplate": "labels=1-(14Z,17Z,20Z,23Z,26Z-dotriacontapentaenoyl)-2-(14Z,17Z,20Z,23Z,26Z,29Z-dotriacontahexaenoyl)-sn-glycero-3-phospho-N-(9Z,12Z-octadecadienoyl)-ethanolamine/1-(14Z,17Z,20Z,23Z,26Z-dotriacontapentaenoyl)-2-(15Z,18Z,21Z,24Z-triacontatetraenoyl)-sn-glycero-3-phospho-N-(5Z,8Z,11Z,14Z-eicosatetraenoyl)-ethanolamine/1-(14Z,17Z,20Z,23Z,26Z-dotriacontapentaenoyl)-2-(17Z,20Z,23Z,26Z,29Z-dotriacontapentaenoyl)-sn-glycero-3-phospho-N-(6Z,9Z,12Z-octadecatrienoyl)-ethanolamine/1-(14Z,17Z,20Z,23Z,26Z-dotriacontapentaenoyl)-2-(17Z,20Z,23Z,26Z,29Z-dotriacontapentaenoyl)-sn-glycero-3-phospho-N-(9Z,12Z,15Z-octadecatrienoyl)-ethanolamine_0<br>m/z=%{x}<br>rt=%{y}<br>intensity=%{z}<extra></extra>",
         "legendgroup": "1-(14Z,17Z,20Z,23Z,26Z-dotriacontapentaenoyl)-2-(14Z,17Z,20Z,23Z,26Z,29Z-dotriacontahexaenoyl)-sn-glycero-3-phospho-N-(9Z,12Z-octadecadienoyl)-ethanolamine/1-(14Z,17Z,20Z,23Z,26Z-dotriacontapentaenoyl)-2-(15Z,18Z,21Z,24Z-triacontatetraenoyl)-sn-glycero-3-phospho-N-(5Z,8Z,11Z,14Z-eicosatetraenoyl)-ethanolamine/1-(14Z,17Z,20Z,23Z,26Z-dotriacontapentaenoyl)-2-(17Z,20Z,23Z,26Z,29Z-dotriacontapentaenoyl)-sn-glycero-3-phospho-N-(6Z,9Z,12Z-octadecatrienoyl)-ethanolamine/1-(14Z,17Z,20Z,23Z,26Z-dotriacontapentaenoyl)-2-(17Z,20Z,23Z,26Z,29Z-dotriacontapentaenoyl)-sn-glycero-3-phospho-N-(9Z,12Z,15Z-octadecatrienoyl)-ethanolamine_0",
         "line": {
          "color": "#636efa",
          "dash": "solid"
         },
         "marker": {
          "symbol": "circle"
         },
         "mode": "lines",
         "name": "1-(14Z,17Z,20Z,23Z,26Z-dotriacontapentaenoyl)-2-(14Z,17Z,20Z,23Z,26Z,29Z-dotriacontahexaenoyl)-sn-glycero-3-phospho-N-(9Z,12Z-octadecadienoyl)-ethanolamine/1-(14Z,17Z,20Z,23Z,26Z-dotriacontapentaenoyl)-2-(15Z,18Z,21Z,24Z-triacontatetraenoyl)-sn-glycero-3-phospho-N-(5Z,8Z,11Z,14Z-eicosatetraenoyl)-ethanolamine/1-(14Z,17Z,20Z,23Z,26Z-dotriacontapentaenoyl)-2-(17Z,20Z,23Z,26Z,29Z-dotriacontapentaenoyl)-sn-glycero-3-phospho-N-(6Z,9Z,12Z-octadecatrienoyl)-ethanolamine/1-(14Z,17Z,20Z,23Z,26Z-dotriacontapentaenoyl)-2-(17Z,20Z,23Z,26Z,29Z-dotriacontapentaenoyl)-sn-glycero-3-phospho-N-(9Z,12Z,15Z-octadecatrienoyl)-ethanolamine_0",
         "scene": "scene",
         "showlegend": false,
         "type": "scatter3d",
         "x": [
          1378.0589735332292,
          1378.0589735332292,
          1378.0589735332292,
          1379.0623283710293,
          1379.0623283710293,
          1379.0623283710293
         ],
         "y": [
          9.446999549865723,
          10.161999702453613,
          10.87600040435791,
          9.446999549865723,
          10.161999702453613,
          10.87600040435791
         ],
         "z": [
          0,
          290.6296691894531,
          181.33676147460938,
          133.77830505371094,
          0,
          0
         ]
        },
        {
         "hovertemplate": "labels=1-(14Z,17Z,20Z,23Z,26Z-dotriacontapentaenoyl)-2-(14Z,17Z,20Z,23Z,26Z,29Z-dotriacontahexaenoyl)-sn-glycero-3-phospho-N-octadecanoyl-ethanolamine/1-(14Z,17Z,20Z,23Z,26Z-dotriacontapentaenoyl)-2-(16Z,19Z,22Z,25Z,28Z,31Z-tetratriacontahexaenoyl)-sn-glycero-3-phospho-N-hexadecanoyl-ethanolamine/1-(14Z,17Z,20Z,23Z,26Z-dotriacontapentaenoyl)-2-(17Z,20Z,23Z,26Z,29Z-dotriacontapentaenoyl)-sn-glycero-3-phospho-N-(11Z-octadecenoyl)-ethanolamine/1-(14Z,17Z,20Z,23Z,26Z-dotriacontapentaenoyl)-2-(17Z,20Z,23Z,26Z,29Z-dotriacontapentaenoyl)-sn-glycero-3-phospho-N-(9Z-octadecenoyl)-ethanolamine/1-(14Z,17Z,20Z,23Z,26Z-dotriacontapentaenoyl)-2-(17Z,20Z,23Z,26Z-dotriacontatetraenoyl)-sn-glycero-3-phospho-N-(9Z,12Z-octadecadienoyl)-ethanolamine/1-(14Z,17Z,20Z,23Z,26Z-dotriacontapentaenoyl)-2-(18Z,21Z,24Z,27Z,30Z,33Z-hexatriacontahexaenoyl)-sn-glycero-3-phospho-N-tetradecanoyl-ethanolamine/1-(14Z,17Z,20Z,23Z,26Z-dotriacontapentaenoyl)-2-octacosanoyl-sn-glycero-3-phospho-N-(4Z,7Z,10Z,13Z,16Z,19Z-docosahexaenoyl)-ethanolamine_0<br>m/z=%{x}<br>rt=%{y}<br>intensity=%{z}<extra></extra>",
         "legendgroup": "1-(14Z,17Z,20Z,23Z,26Z-dotriacontapentaenoyl)-2-(14Z,17Z,20Z,23Z,26Z,29Z-dotriacontahexaenoyl)-sn-glycero-3-phospho-N-octadecanoyl-ethanolamine/1-(14Z,17Z,20Z,23Z,26Z-dotriacontapentaenoyl)-2-(16Z,19Z,22Z,25Z,28Z,31Z-tetratriacontahexaenoyl)-sn-glycero-3-phospho-N-hexadecanoyl-ethanolamine/1-(14Z,17Z,20Z,23Z,26Z-dotriacontapentaenoyl)-2-(17Z,20Z,23Z,26Z,29Z-dotriacontapentaenoyl)-sn-glycero-3-phospho-N-(11Z-octadecenoyl)-ethanolamine/1-(14Z,17Z,20Z,23Z,26Z-dotriacontapentaenoyl)-2-(17Z,20Z,23Z,26Z,29Z-dotriacontapentaenoyl)-sn-glycero-3-phospho-N-(9Z-octadecenoyl)-ethanolamine/1-(14Z,17Z,20Z,23Z,26Z-dotriacontapentaenoyl)-2-(17Z,20Z,23Z,26Z-dotriacontatetraenoyl)-sn-glycero-3-phospho-N-(9Z,12Z-octadecadienoyl)-ethanolamine/1-(14Z,17Z,20Z,23Z,26Z-dotriacontapentaenoyl)-2-(18Z,21Z,24Z,27Z,30Z,33Z-hexatriacontahexaenoyl)-sn-glycero-3-phospho-N-tetradecanoyl-ethanolamine/1-(14Z,17Z,20Z,23Z,26Z-dotriacontapentaenoyl)-2-octacosanoyl-sn-glycero-3-phospho-N-(4Z,7Z,10Z,13Z,16Z,19Z-docosahexaenoyl)-ethanolamine_0",
         "line": {
          "color": "#EF553B",
          "dash": "solid"
         },
         "marker": {
          "symbol": "circle"
         },
         "mode": "lines",
         "name": "1-(14Z,17Z,20Z,23Z,26Z-dotriacontapentaenoyl)-2-(14Z,17Z,20Z,23Z,26Z,29Z-dotriacontahexaenoyl)-sn-glycero-3-phospho-N-octadecanoyl-ethanolamine/1-(14Z,17Z,20Z,23Z,26Z-dotriacontapentaenoyl)-2-(16Z,19Z,22Z,25Z,28Z,31Z-tetratriacontahexaenoyl)-sn-glycero-3-phospho-N-hexadecanoyl-ethanolamine/1-(14Z,17Z,20Z,23Z,26Z-dotriacontapentaenoyl)-2-(17Z,20Z,23Z,26Z,29Z-dotriacontapentaenoyl)-sn-glycero-3-phospho-N-(11Z-octadecenoyl)-ethanolamine/1-(14Z,17Z,20Z,23Z,26Z-dotriacontapentaenoyl)-2-(17Z,20Z,23Z,26Z,29Z-dotriacontapentaenoyl)-sn-glycero-3-phospho-N-(9Z-octadecenoyl)-ethanolamine/1-(14Z,17Z,20Z,23Z,26Z-dotriacontapentaenoyl)-2-(17Z,20Z,23Z,26Z-dotriacontatetraenoyl)-sn-glycero-3-phospho-N-(9Z,12Z-octadecadienoyl)-ethanolamine/1-(14Z,17Z,20Z,23Z,26Z-dotriacontapentaenoyl)-2-(18Z,21Z,24Z,27Z,30Z,33Z-hexatriacontahexaenoyl)-sn-glycero-3-phospho-N-tetradecanoyl-ethanolamine/1-(14Z,17Z,20Z,23Z,26Z-dotriacontapentaenoyl)-2-octacosanoyl-sn-glycero-3-phospho-N-(4Z,7Z,10Z,13Z,16Z,19Z-docosahexaenoyl)-ethanolamine_0",
         "scene": "scene",
         "showlegend": false,
         "type": "scatter3d",
         "x": [
          1382.090273533229,
          1382.090273533229,
          1382.090273533229,
          1383.0936283710294,
          1383.0936283710294,
          1383.0936283710294
         ],
         "y": [
          11.590999603271484,
          12.305000305175781,
          13.019000053405762,
          11.590999603271484,
          12.305000305175781,
          13.019000053405762
         ],
         "z": [
          0,
          1078.4384765625,
          0,
          0,
          0,
          0
         ]
        },
        {
         "hovertemplate": "labels=1-(14Z,17Z,20Z,23Z,26Z-dotriacontapentaenoyl)-2-(15Z,18Z,21Z,24Z-triacontatetraenoyl)-sn-glycero-3-phospho-N-octadecanoyl-ethanolamine/1-(14Z,17Z,20Z,23Z,26Z-dotriacontapentaenoyl)-2-(17Z,20Z,23Z,26Z-dotriacontatetraenoyl)-sn-glycero-3-phospho-N-hexadecanoyl-ethanolamine/1-(14Z,17Z,20Z,23Z,26Z-dotriacontapentaenoyl)-2-(19Z,22Z,25Z,28Z-tetratriacontatetraenoyl)-sn-glycero-3-phospho-N-tetradecanoyl-ethanolamine/1-(14Z,17Z,20Z,23Z,26Z-dotriacontapentaenoyl)-2-(21Z,24Z,27Z,30Z-hexatriacontatetraenoyl)-sn-glycero-3-phospho-N-dodecanoyl-ethanolamine/1-(14Z,17Z,20Z,23Z,26Z-dotriacontapentaenoyl)-2-(23Z,26Z,29Z,32Z-octatriacontatetraenoyl)-sn-glycero-3-phospho-N-decanoyl-ethanolamine/1-(14Z,17Z,20Z,23Z,26Z-dotriacontapentaenoyl)-2-octacosanoyl-sn-glycero-3-phospho-N-(5Z,8Z,11Z,14Z-eicosatetraenoyl)-ethanolamine_0<br>m/z=%{x}<br>rt=%{y}<br>intensity=%{z}<extra></extra>",
         "legendgroup": "1-(14Z,17Z,20Z,23Z,26Z-dotriacontapentaenoyl)-2-(15Z,18Z,21Z,24Z-triacontatetraenoyl)-sn-glycero-3-phospho-N-octadecanoyl-ethanolamine/1-(14Z,17Z,20Z,23Z,26Z-dotriacontapentaenoyl)-2-(17Z,20Z,23Z,26Z-dotriacontatetraenoyl)-sn-glycero-3-phospho-N-hexadecanoyl-ethanolamine/1-(14Z,17Z,20Z,23Z,26Z-dotriacontapentaenoyl)-2-(19Z,22Z,25Z,28Z-tetratriacontatetraenoyl)-sn-glycero-3-phospho-N-tetradecanoyl-ethanolamine/1-(14Z,17Z,20Z,23Z,26Z-dotriacontapentaenoyl)-2-(21Z,24Z,27Z,30Z-hexatriacontatetraenoyl)-sn-glycero-3-phospho-N-dodecanoyl-ethanolamine/1-(14Z,17Z,20Z,23Z,26Z-dotriacontapentaenoyl)-2-(23Z,26Z,29Z,32Z-octatriacontatetraenoyl)-sn-glycero-3-phospho-N-decanoyl-ethanolamine/1-(14Z,17Z,20Z,23Z,26Z-dotriacontapentaenoyl)-2-octacosanoyl-sn-glycero-3-phospho-N-(5Z,8Z,11Z,14Z-eicosatetraenoyl)-ethanolamine_0",
         "line": {
          "color": "#00cc96",
          "dash": "solid"
         },
         "marker": {
          "symbol": "circle"
         },
         "mode": "lines",
         "name": "1-(14Z,17Z,20Z,23Z,26Z-dotriacontapentaenoyl)-2-(15Z,18Z,21Z,24Z-triacontatetraenoyl)-sn-glycero-3-phospho-N-octadecanoyl-ethanolamine/1-(14Z,17Z,20Z,23Z,26Z-dotriacontapentaenoyl)-2-(17Z,20Z,23Z,26Z-dotriacontatetraenoyl)-sn-glycero-3-phospho-N-hexadecanoyl-ethanolamine/1-(14Z,17Z,20Z,23Z,26Z-dotriacontapentaenoyl)-2-(19Z,22Z,25Z,28Z-tetratriacontatetraenoyl)-sn-glycero-3-phospho-N-tetradecanoyl-ethanolamine/1-(14Z,17Z,20Z,23Z,26Z-dotriacontapentaenoyl)-2-(21Z,24Z,27Z,30Z-hexatriacontatetraenoyl)-sn-glycero-3-phospho-N-dodecanoyl-ethanolamine/1-(14Z,17Z,20Z,23Z,26Z-dotriacontapentaenoyl)-2-(23Z,26Z,29Z,32Z-octatriacontatetraenoyl)-sn-glycero-3-phospho-N-decanoyl-ethanolamine/1-(14Z,17Z,20Z,23Z,26Z-dotriacontapentaenoyl)-2-octacosanoyl-sn-glycero-3-phospho-N-(5Z,8Z,11Z,14Z-eicosatetraenoyl)-ethanolamine_0",
         "scene": "scene",
         "showlegend": false,
         "type": "scatter3d",
         "x": [
          1358.090273533229,
          1358.090273533229,
          1358.090273533229,
          1359.0936283710294,
          1359.0936283710294,
          1359.0936283710294
         ],
         "y": [
          3.0169999599456787,
          3.7320001125335693,
          4.446000099182129,
          3.0169999599456787,
          3.7320001125335693,
          4.446000099182129
         ],
         "z": [
          0,
          0,
          0,
          0,
          58.30208206176758,
          128.4008026123047
         ]
        },
        {
         "hovertemplate": "labels=1-(14Z,17Z,20Z,23Z,26Z-dotriacontapentaenoyl)-2-(15Z-tetracosenoyl)-sn-glycero-3-phospho-N-(11Z-octadecenoyl)-ethanolamine/1-(14Z,17Z,20Z,23Z,26Z-dotriacontapentaenoyl)-2-(15Z-tetracosenoyl)-sn-glycero-3-phospho-N-(9Z-octadecenoyl)-ethanolamine/1-(14Z,17Z,20Z,23Z,26Z-dotriacontapentaenoyl)-2-tetracosanoyl-sn-glycero-3-phospho-N-(9Z,12Z-octadecadienoyl)-ethanolamine_0<br>m/z=%{x}<br>rt=%{y}<br>intensity=%{z}<extra></extra>",
         "legendgroup": "1-(14Z,17Z,20Z,23Z,26Z-dotriacontapentaenoyl)-2-(15Z-tetracosenoyl)-sn-glycero-3-phospho-N-(11Z-octadecenoyl)-ethanolamine/1-(14Z,17Z,20Z,23Z,26Z-dotriacontapentaenoyl)-2-(15Z-tetracosenoyl)-sn-glycero-3-phospho-N-(9Z-octadecenoyl)-ethanolamine/1-(14Z,17Z,20Z,23Z,26Z-dotriacontapentaenoyl)-2-tetracosanoyl-sn-glycero-3-phospho-N-(9Z,12Z-octadecadienoyl)-ethanolamine_0",
         "line": {
          "color": "#ab63fa",
          "dash": "solid"
         },
         "marker": {
          "symbol": "circle"
         },
         "mode": "lines",
         "name": "1-(14Z,17Z,20Z,23Z,26Z-dotriacontapentaenoyl)-2-(15Z-tetracosenoyl)-sn-glycero-3-phospho-N-(11Z-octadecenoyl)-ethanolamine/1-(14Z,17Z,20Z,23Z,26Z-dotriacontapentaenoyl)-2-(15Z-tetracosenoyl)-sn-glycero-3-phospho-N-(9Z-octadecenoyl)-ethanolamine/1-(14Z,17Z,20Z,23Z,26Z-dotriacontapentaenoyl)-2-tetracosanoyl-sn-glycero-3-phospho-N-(9Z,12Z-octadecadienoyl)-ethanolamine_0",
         "scene": "scene",
         "showlegend": false,
         "type": "scatter3d",
         "x": [
          1278.027673533229,
          1278.027673533229,
          1278.027673533229,
          1279.0310283710292,
          1279.0310283710292,
          1279.0310283710292
         ],
         "y": [
          5.160999774932861,
          5.875,
          6.590000152587891,
          5.160999774932861,
          5.875,
          6.590000152587891
         ],
         "z": [
          229.52700805664062,
          0,
          0,
          0,
          173.23574829101562,
          0
         ]
        },
        {
         "hovertemplate": "labels=1-(14Z,17Z,20Z,23Z,26Z-dotriacontapentaenoyl)-2-(15Z-tetracosenoyl)-sn-glycero-3-phospho-N-(9Z,12Z-octadecadienoyl)-ethanolamine/1-(14Z,17Z,20Z,23Z,26Z-dotriacontapentaenoyl)-2-tetracosanoyl-sn-glycero-3-phospho-N-(6Z,9Z,12Z-octadecatrienoyl)-ethanolamine/1-(14Z,17Z,20Z,23Z,26Z-dotriacontapentaenoyl)-2-tetracosanoyl-sn-glycero-3-phospho-N-(9Z,12Z,15Z-octadecatrienoyl)-ethanolamine_0<br>m/z=%{x}<br>rt=%{y}<br>intensity=%{z}<extra></extra>",
         "legendgroup": "1-(14Z,17Z,20Z,23Z,26Z-dotriacontapentaenoyl)-2-(15Z-tetracosenoyl)-sn-glycero-3-phospho-N-(9Z,12Z-octadecadienoyl)-ethanolamine/1-(14Z,17Z,20Z,23Z,26Z-dotriacontapentaenoyl)-2-tetracosanoyl-sn-glycero-3-phospho-N-(6Z,9Z,12Z-octadecatrienoyl)-ethanolamine/1-(14Z,17Z,20Z,23Z,26Z-dotriacontapentaenoyl)-2-tetracosanoyl-sn-glycero-3-phospho-N-(9Z,12Z,15Z-octadecatrienoyl)-ethanolamine_0",
         "line": {
          "color": "#FFA15A",
          "dash": "solid"
         },
         "marker": {
          "symbol": "circle"
         },
         "mode": "lines",
         "name": "1-(14Z,17Z,20Z,23Z,26Z-dotriacontapentaenoyl)-2-(15Z-tetracosenoyl)-sn-glycero-3-phospho-N-(9Z,12Z-octadecadienoyl)-ethanolamine/1-(14Z,17Z,20Z,23Z,26Z-dotriacontapentaenoyl)-2-tetracosanoyl-sn-glycero-3-phospho-N-(6Z,9Z,12Z-octadecatrienoyl)-ethanolamine/1-(14Z,17Z,20Z,23Z,26Z-dotriacontapentaenoyl)-2-tetracosanoyl-sn-glycero-3-phospho-N-(9Z,12Z,15Z-octadecatrienoyl)-ethanolamine_0",
         "scene": "scene",
         "showlegend": false,
         "type": "scatter3d",
         "x": [
          1276.012023533229,
          1276.012023533229,
          1276.012023533229,
          1277.015378371029,
          1277.015378371029,
          1277.015378371029
         ],
         "y": [
          5.875,
          6.590000152587891,
          7.303999900817871,
          5.875,
          6.590000152587891,
          7.303999900817871
         ],
         "z": [
          0,
          0,
          56.98431396484375,
          0,
          68.63832092285156,
          64.46492767333984
         ]
        },
        {
         "hovertemplate": "labels=1-(14Z,17Z,20Z,23Z,26Z-dotriacontapentaenoyl)-2-(15Z-tetracosenoyl)-sn-glycero-3-phospho-N-octadecanoyl-ethanolamine/1-(14Z,17Z,20Z,23Z,26Z-dotriacontapentaenoyl)-2-(17Z-hexacosenoyl)-sn-glycero-3-phospho-N-hexadecanoyl-ethanolamine/1-(14Z,17Z,20Z,23Z,26Z-dotriacontapentaenoyl)-2-tetracosanoyl-sn-glycero-3-phospho-N-(11Z-octadecenoyl)-ethanolamine/1-(14Z,17Z,20Z,23Z,26Z-dotriacontapentaenoyl)-2-tetracosanoyl-sn-glycero-3-phospho-N-(9Z-octadecenoyl)-ethanolamine_0<br>m/z=%{x}<br>rt=%{y}<br>intensity=%{z}<extra></extra>",
         "legendgroup": "1-(14Z,17Z,20Z,23Z,26Z-dotriacontapentaenoyl)-2-(15Z-tetracosenoyl)-sn-glycero-3-phospho-N-octadecanoyl-ethanolamine/1-(14Z,17Z,20Z,23Z,26Z-dotriacontapentaenoyl)-2-(17Z-hexacosenoyl)-sn-glycero-3-phospho-N-hexadecanoyl-ethanolamine/1-(14Z,17Z,20Z,23Z,26Z-dotriacontapentaenoyl)-2-tetracosanoyl-sn-glycero-3-phospho-N-(11Z-octadecenoyl)-ethanolamine/1-(14Z,17Z,20Z,23Z,26Z-dotriacontapentaenoyl)-2-tetracosanoyl-sn-glycero-3-phospho-N-(9Z-octadecenoyl)-ethanolamine_0",
         "line": {
          "color": "#19d3f3",
          "dash": "solid"
         },
         "marker": {
          "symbol": "circle"
         },
         "mode": "lines",
         "name": "1-(14Z,17Z,20Z,23Z,26Z-dotriacontapentaenoyl)-2-(15Z-tetracosenoyl)-sn-glycero-3-phospho-N-octadecanoyl-ethanolamine/1-(14Z,17Z,20Z,23Z,26Z-dotriacontapentaenoyl)-2-(17Z-hexacosenoyl)-sn-glycero-3-phospho-N-hexadecanoyl-ethanolamine/1-(14Z,17Z,20Z,23Z,26Z-dotriacontapentaenoyl)-2-tetracosanoyl-sn-glycero-3-phospho-N-(11Z-octadecenoyl)-ethanolamine/1-(14Z,17Z,20Z,23Z,26Z-dotriacontapentaenoyl)-2-tetracosanoyl-sn-glycero-3-phospho-N-(9Z-octadecenoyl)-ethanolamine_0",
         "scene": "scene",
         "showlegend": false,
         "type": "scatter3d",
         "x": [
          1280.043323533229,
          1280.043323533229,
          1280.043323533229,
          1280.043323533229,
          1280.043323533229,
          1280.043323533229,
          1281.0466783710292,
          1281.0466783710292,
          1281.0466783710292,
          1281.0466783710292,
          1281.0466783710292,
          1281.0466783710292
         ],
         "y": [
          9.446999549865723,
          10.161999702453613,
          10.87600040435791,
          11.590999603271484,
          12.305000305175781,
          13.019000053405762,
          9.446999549865723,
          10.161999702453613,
          10.87600040435791,
          11.590999603271484,
          12.305000305175781,
          13.019000053405762
         ],
         "z": [
          75.1286392211914,
          113.62709045410156,
          270.005126953125,
          609.3458251953125,
          639.4818725585938,
          0,
          0,
          0,
          0,
          0,
          0,
          0
         ]
        },
        {
         "hovertemplate": "labels=1-(14Z,17Z,20Z,23Z,26Z-dotriacontapentaenoyl)-2-(16Z,19Z,22Z,25Z,28Z,31Z-tetratriacontahexaenoyl)-sn-glycero-3-phospho-N-(11Z-octadecenoyl)-ethanolamine/1-(14Z,17Z,20Z,23Z,26Z-dotriacontapentaenoyl)-2-(16Z,19Z,22Z,25Z,28Z,31Z-tetratriacontahexaenoyl)-sn-glycero-3-phospho-N-(9Z-octadecenoyl)-ethanolamine/1-(14Z,17Z,20Z,23Z,26Z-dotriacontapentaenoyl)-2-(19Z,22Z,25Z,28Z,31Z-tetratriacontapentaenoyl)-sn-glycero-3-phospho-N-(9Z,12Z-octadecadienoyl)-ethanolamine/1-(14Z,17Z,20Z,23Z,26Z-dotriacontapentaenoyl)-2-(19Z,22Z,25Z,28Z-tetratriacontatetraenoyl)-sn-glycero-3-phospho-N-(6Z,9Z,12Z-octadecatrienoyl)-ethanolamine/1-(14Z,17Z,20Z,23Z,26Z-dotriacontapentaenoyl)-2-(19Z,22Z,25Z,28Z-tetratriacontatetraenoyl)-sn-glycero-3-phospho-N-(9Z,12Z,15Z-octadecatrienoyl)-ethanolamine_0<br>m/z=%{x}<br>rt=%{y}<br>intensity=%{z}<extra></extra>",
         "legendgroup": "1-(14Z,17Z,20Z,23Z,26Z-dotriacontapentaenoyl)-2-(16Z,19Z,22Z,25Z,28Z,31Z-tetratriacontahexaenoyl)-sn-glycero-3-phospho-N-(11Z-octadecenoyl)-ethanolamine/1-(14Z,17Z,20Z,23Z,26Z-dotriacontapentaenoyl)-2-(16Z,19Z,22Z,25Z,28Z,31Z-tetratriacontahexaenoyl)-sn-glycero-3-phospho-N-(9Z-octadecenoyl)-ethanolamine/1-(14Z,17Z,20Z,23Z,26Z-dotriacontapentaenoyl)-2-(19Z,22Z,25Z,28Z,31Z-tetratriacontapentaenoyl)-sn-glycero-3-phospho-N-(9Z,12Z-octadecadienoyl)-ethanolamine/1-(14Z,17Z,20Z,23Z,26Z-dotriacontapentaenoyl)-2-(19Z,22Z,25Z,28Z-tetratriacontatetraenoyl)-sn-glycero-3-phospho-N-(6Z,9Z,12Z-octadecatrienoyl)-ethanolamine/1-(14Z,17Z,20Z,23Z,26Z-dotriacontapentaenoyl)-2-(19Z,22Z,25Z,28Z-tetratriacontatetraenoyl)-sn-glycero-3-phospho-N-(9Z,12Z,15Z-octadecatrienoyl)-ethanolamine_0",
         "line": {
          "color": "#FF6692",
          "dash": "solid"
         },
         "marker": {
          "symbol": "circle"
         },
         "mode": "lines",
         "name": "1-(14Z,17Z,20Z,23Z,26Z-dotriacontapentaenoyl)-2-(16Z,19Z,22Z,25Z,28Z,31Z-tetratriacontahexaenoyl)-sn-glycero-3-phospho-N-(11Z-octadecenoyl)-ethanolamine/1-(14Z,17Z,20Z,23Z,26Z-dotriacontapentaenoyl)-2-(16Z,19Z,22Z,25Z,28Z,31Z-tetratriacontahexaenoyl)-sn-glycero-3-phospho-N-(9Z-octadecenoyl)-ethanolamine/1-(14Z,17Z,20Z,23Z,26Z-dotriacontapentaenoyl)-2-(19Z,22Z,25Z,28Z,31Z-tetratriacontapentaenoyl)-sn-glycero-3-phospho-N-(9Z,12Z-octadecadienoyl)-ethanolamine/1-(14Z,17Z,20Z,23Z,26Z-dotriacontapentaenoyl)-2-(19Z,22Z,25Z,28Z-tetratriacontatetraenoyl)-sn-glycero-3-phospho-N-(6Z,9Z,12Z-octadecatrienoyl)-ethanolamine/1-(14Z,17Z,20Z,23Z,26Z-dotriacontapentaenoyl)-2-(19Z,22Z,25Z,28Z-tetratriacontatetraenoyl)-sn-glycero-3-phospho-N-(9Z,12Z,15Z-octadecatrienoyl)-ethanolamine_0",
         "scene": "scene",
         "showlegend": false,
         "type": "scatter3d",
         "x": [
          1408.105923533229,
          1408.105923533229,
          1408.105923533229,
          1409.1092783710292,
          1409.1092783710292,
          1409.1092783710292
         ],
         "y": [
          7.303999900817871,
          8.017999649047852,
          8.732999801635742,
          7.303999900817871,
          8.017999649047852,
          8.732999801635742
         ],
         "z": [
          0,
          92.44541931152344,
          107.328857421875,
          0,
          383.7739562988281,
          0
         ]
        },
        {
         "hovertemplate": "labels=1-(14Z,17Z,20Z,23Z,26Z-dotriacontapentaenoyl)-2-(16Z,19Z,22Z,25Z,28Z,31Z-tetratriacontahexaenoyl)-sn-glycero-3-phospho-N-(4Z,7Z,10Z,13Z,16Z,19Z-docosahexaenoyl)-ethanolamine_0<br>m/z=%{x}<br>rt=%{y}<br>intensity=%{z}<extra></extra>",
         "legendgroup": "1-(14Z,17Z,20Z,23Z,26Z-dotriacontapentaenoyl)-2-(16Z,19Z,22Z,25Z,28Z,31Z-tetratriacontahexaenoyl)-sn-glycero-3-phospho-N-(4Z,7Z,10Z,13Z,16Z,19Z-docosahexaenoyl)-ethanolamine_0",
         "line": {
          "color": "#B6E880",
          "dash": "solid"
         },
         "marker": {
          "symbol": "circle"
         },
         "mode": "lines",
         "name": "1-(14Z,17Z,20Z,23Z,26Z-dotriacontapentaenoyl)-2-(16Z,19Z,22Z,25Z,28Z,31Z-tetratriacontahexaenoyl)-sn-glycero-3-phospho-N-(4Z,7Z,10Z,13Z,16Z,19Z-docosahexaenoyl)-ethanolamine_0",
         "scene": "scene",
         "showlegend": false,
         "type": "scatter3d",
         "x": [
          1454.090273533229,
          1454.090273533229,
          1454.090273533229,
          1455.0936283710294,
          1455.0936283710294,
          1455.0936283710294
         ],
         "y": [
          4.446000099182129,
          5.160999774932861,
          5.875,
          4.446000099182129,
          5.160999774932861,
          5.875
         ],
         "z": [
          0,
          470.298583984375,
          0,
          582.294189453125,
          122.14305114746094,
          0
         ]
        },
        {
         "hovertemplate": "labels=1-(14Z,17Z,20Z,23Z,26Z-dotriacontapentaenoyl)-2-(16Z,19Z,22Z,25Z,28Z,31Z-tetratriacontahexaenoyl)-sn-glycero-3-phospho-N-(5Z,8Z,11Z,14Z-eicosatetraenoyl)-ethanolamine/1-(14Z,17Z,20Z,23Z,26Z-dotriacontapentaenoyl)-2-(17Z,20Z,23Z,26Z-dotriacontatetraenoyl)-sn-glycero-3-phospho-N-(4Z,7Z,10Z,13Z,16Z,19Z-docosahexaenoyl)-ethanolamine_0<br>m/z=%{x}<br>rt=%{y}<br>intensity=%{z}<extra></extra>",
         "legendgroup": "1-(14Z,17Z,20Z,23Z,26Z-dotriacontapentaenoyl)-2-(16Z,19Z,22Z,25Z,28Z,31Z-tetratriacontahexaenoyl)-sn-glycero-3-phospho-N-(5Z,8Z,11Z,14Z-eicosatetraenoyl)-ethanolamine/1-(14Z,17Z,20Z,23Z,26Z-dotriacontapentaenoyl)-2-(17Z,20Z,23Z,26Z-dotriacontatetraenoyl)-sn-glycero-3-phospho-N-(4Z,7Z,10Z,13Z,16Z,19Z-docosahexaenoyl)-ethanolamine_0",
         "line": {
          "color": "#FF97FF",
          "dash": "solid"
         },
         "marker": {
          "symbol": "circle"
         },
         "mode": "lines",
         "name": "1-(14Z,17Z,20Z,23Z,26Z-dotriacontapentaenoyl)-2-(16Z,19Z,22Z,25Z,28Z,31Z-tetratriacontahexaenoyl)-sn-glycero-3-phospho-N-(5Z,8Z,11Z,14Z-eicosatetraenoyl)-ethanolamine/1-(14Z,17Z,20Z,23Z,26Z-dotriacontapentaenoyl)-2-(17Z,20Z,23Z,26Z-dotriacontatetraenoyl)-sn-glycero-3-phospho-N-(4Z,7Z,10Z,13Z,16Z,19Z-docosahexaenoyl)-ethanolamine_0",
         "scene": "scene",
         "showlegend": false,
         "type": "scatter3d",
         "x": [
          1430.090273533229,
          1430.090273533229,
          1430.090273533229,
          1431.0936283710294,
          1431.0936283710294,
          1431.0936283710294
         ],
         "y": [
          9.446999549865723,
          10.161999702453613,
          10.87600040435791,
          9.446999549865723,
          10.161999702453613,
          10.87600040435791
         ],
         "z": [
          0,
          0,
          236.4768524169922,
          92.05101013183594,
          330.4202575683594,
          0
         ]
        },
        {
         "hovertemplate": "labels=1-(14Z,17Z,20Z,23Z,26Z-dotriacontapentaenoyl)-2-(16Z,19Z,22Z,25Z,28Z,31Z-tetratriacontahexaenoyl)-sn-glycero-3-phospho-N-(6Z,9Z,12Z-octadecatrienoyl)-ethanolamine/1-(14Z,17Z,20Z,23Z,26Z-dotriacontapentaenoyl)-2-(16Z,19Z,22Z,25Z,28Z,31Z-tetratriacontahexaenoyl)-sn-glycero-3-phospho-N-(9Z,12Z,15Z-octadecatrienoyl)-ethanolamine/1-(14Z,17Z,20Z,23Z,26Z-dotriacontapentaenoyl)-2-(17Z,20Z,23Z,26Z,29Z-dotriacontapentaenoyl)-sn-glycero-3-phospho-N-(5Z,8Z,11Z,14Z-eicosatetraenoyl)-ethanolamine_0<br>m/z=%{x}<br>rt=%{y}<br>intensity=%{z}<extra></extra>",
         "legendgroup": "1-(14Z,17Z,20Z,23Z,26Z-dotriacontapentaenoyl)-2-(16Z,19Z,22Z,25Z,28Z,31Z-tetratriacontahexaenoyl)-sn-glycero-3-phospho-N-(6Z,9Z,12Z-octadecatrienoyl)-ethanolamine/1-(14Z,17Z,20Z,23Z,26Z-dotriacontapentaenoyl)-2-(16Z,19Z,22Z,25Z,28Z,31Z-tetratriacontahexaenoyl)-sn-glycero-3-phospho-N-(9Z,12Z,15Z-octadecatrienoyl)-ethanolamine/1-(14Z,17Z,20Z,23Z,26Z-dotriacontapentaenoyl)-2-(17Z,20Z,23Z,26Z,29Z-dotriacontapentaenoyl)-sn-glycero-3-phospho-N-(5Z,8Z,11Z,14Z-eicosatetraenoyl)-ethanolamine_0",
         "line": {
          "color": "#FECB52",
          "dash": "solid"
         },
         "marker": {
          "symbol": "circle"
         },
         "mode": "lines",
         "name": "1-(14Z,17Z,20Z,23Z,26Z-dotriacontapentaenoyl)-2-(16Z,19Z,22Z,25Z,28Z,31Z-tetratriacontahexaenoyl)-sn-glycero-3-phospho-N-(6Z,9Z,12Z-octadecatrienoyl)-ethanolamine/1-(14Z,17Z,20Z,23Z,26Z-dotriacontapentaenoyl)-2-(16Z,19Z,22Z,25Z,28Z,31Z-tetratriacontahexaenoyl)-sn-glycero-3-phospho-N-(9Z,12Z,15Z-octadecatrienoyl)-ethanolamine/1-(14Z,17Z,20Z,23Z,26Z-dotriacontapentaenoyl)-2-(17Z,20Z,23Z,26Z,29Z-dotriacontapentaenoyl)-sn-glycero-3-phospho-N-(5Z,8Z,11Z,14Z-eicosatetraenoyl)-ethanolamine_0",
         "scene": "scene",
         "showlegend": false,
         "type": "scatter3d",
         "x": [
          1404.074623533229,
          1404.074623533229,
          1405.077978371029,
          1405.077978371029
         ],
         "y": [
          5.160999774932861,
          5.875,
          5.160999774932861,
          5.875
         ],
         "z": [
          0,
          51.03868865966797,
          73.44654083251953,
          0
         ]
        },
        {
         "hovertemplate": "labels=1-(14Z,17Z,20Z,23Z,26Z-dotriacontapentaenoyl)-2-(16Z,19Z,22Z,25Z,28Z,31Z-tetratriacontahexaenoyl)-sn-glycero-3-phospho-N-(9Z,12Z-octadecadienoyl)-ethanolamine/1-(14Z,17Z,20Z,23Z,26Z-dotriacontapentaenoyl)-2-(17Z,20Z,23Z,26Z-dotriacontatetraenoyl)-sn-glycero-3-phospho-N-(5Z,8Z,11Z,14Z-eicosatetraenoyl)-ethanolamine/1-(14Z,17Z,20Z,23Z,26Z-dotriacontapentaenoyl)-2-(19Z,22Z,25Z,28Z,31Z-tetratriacontapentaenoyl)-sn-glycero-3-phospho-N-(6Z,9Z,12Z-octadecatrienoyl)-ethanolamine/1-(14Z,17Z,20Z,23Z,26Z-dotriacontapentaenoyl)-2-(19Z,22Z,25Z,28Z,31Z-tetratriacontapentaenoyl)-sn-glycero-3-phospho-N-(9Z,12Z,15Z-octadecatrienoyl)-ethanolamine_0<br>m/z=%{x}<br>rt=%{y}<br>intensity=%{z}<extra></extra>",
         "legendgroup": "1-(14Z,17Z,20Z,23Z,26Z-dotriacontapentaenoyl)-2-(16Z,19Z,22Z,25Z,28Z,31Z-tetratriacontahexaenoyl)-sn-glycero-3-phospho-N-(9Z,12Z-octadecadienoyl)-ethanolamine/1-(14Z,17Z,20Z,23Z,26Z-dotriacontapentaenoyl)-2-(17Z,20Z,23Z,26Z-dotriacontatetraenoyl)-sn-glycero-3-phospho-N-(5Z,8Z,11Z,14Z-eicosatetraenoyl)-ethanolamine/1-(14Z,17Z,20Z,23Z,26Z-dotriacontapentaenoyl)-2-(19Z,22Z,25Z,28Z,31Z-tetratriacontapentaenoyl)-sn-glycero-3-phospho-N-(6Z,9Z,12Z-octadecatrienoyl)-ethanolamine/1-(14Z,17Z,20Z,23Z,26Z-dotriacontapentaenoyl)-2-(19Z,22Z,25Z,28Z,31Z-tetratriacontapentaenoyl)-sn-glycero-3-phospho-N-(9Z,12Z,15Z-octadecatrienoyl)-ethanolamine_0",
         "line": {
          "color": "#636efa",
          "dash": "solid"
         },
         "marker": {
          "symbol": "circle"
         },
         "mode": "lines",
         "name": "1-(14Z,17Z,20Z,23Z,26Z-dotriacontapentaenoyl)-2-(16Z,19Z,22Z,25Z,28Z,31Z-tetratriacontahexaenoyl)-sn-glycero-3-phospho-N-(9Z,12Z-octadecadienoyl)-ethanolamine/1-(14Z,17Z,20Z,23Z,26Z-dotriacontapentaenoyl)-2-(17Z,20Z,23Z,26Z-dotriacontatetraenoyl)-sn-glycero-3-phospho-N-(5Z,8Z,11Z,14Z-eicosatetraenoyl)-ethanolamine/1-(14Z,17Z,20Z,23Z,26Z-dotriacontapentaenoyl)-2-(19Z,22Z,25Z,28Z,31Z-tetratriacontapentaenoyl)-sn-glycero-3-phospho-N-(6Z,9Z,12Z-octadecatrienoyl)-ethanolamine/1-(14Z,17Z,20Z,23Z,26Z-dotriacontapentaenoyl)-2-(19Z,22Z,25Z,28Z,31Z-tetratriacontapentaenoyl)-sn-glycero-3-phospho-N-(9Z,12Z,15Z-octadecatrienoyl)-ethanolamine_0",
         "scene": "scene",
         "showlegend": false,
         "type": "scatter3d",
         "x": [
          1406.090273533229,
          1406.090273533229,
          1406.090273533229,
          1407.0936283710294,
          1407.0936283710294,
          1407.0936283710294
         ],
         "y": [
          5.160999774932861,
          5.875,
          6.590000152587891,
          5.160999774932861,
          5.875,
          6.590000152587891
         ],
         "z": [
          0,
          425.1407470703125,
          182.09552001953125,
          0,
          0,
          0
         ]
        },
        {
         "hovertemplate": "labels=1-(14Z,17Z,20Z,23Z,26Z-dotriacontapentaenoyl)-2-(16Z,19Z,22Z,25Z,28Z,31Z-tetratriacontahexaenoyl)-sn-glycero-3-phospho-N-octadecanoyl-ethanolamine/1-(14Z,17Z,20Z,23Z,26Z-dotriacontapentaenoyl)-2-(18Z,21Z,24Z,27Z,30Z,33Z-hexatriacontahexaenoyl)-sn-glycero-3-phospho-N-hexadecanoyl-ethanolamine/1-(14Z,17Z,20Z,23Z,26Z-dotriacontapentaenoyl)-2-(19Z,22Z,25Z,28Z,31Z-tetratriacontapentaenoyl)-sn-glycero-3-phospho-N-(11Z-octadecenoyl)-ethanolamine/1-(14Z,17Z,20Z,23Z,26Z-dotriacontapentaenoyl)-2-(19Z,22Z,25Z,28Z,31Z-tetratriacontapentaenoyl)-sn-glycero-3-phospho-N-(9Z-octadecenoyl)-ethanolamine/1-(14Z,17Z,20Z,23Z,26Z-dotriacontapentaenoyl)-2-(19Z,22Z,25Z,28Z-tetratriacontatetraenoyl)-sn-glycero-3-phospho-N-(9Z,12Z-octadecadienoyl)-ethanolamine/1-(14Z,17Z,20Z,23Z,26Z-dotriacontapentaenoyl)-2-triacontanoyl-sn-glycero-3-phospho-N-(4Z,7Z,10Z,13Z,16Z,19Z-docosahexaenoyl)-ethanolamine_0<br>m/z=%{x}<br>rt=%{y}<br>intensity=%{z}<extra></extra>",
         "legendgroup": "1-(14Z,17Z,20Z,23Z,26Z-dotriacontapentaenoyl)-2-(16Z,19Z,22Z,25Z,28Z,31Z-tetratriacontahexaenoyl)-sn-glycero-3-phospho-N-octadecanoyl-ethanolamine/1-(14Z,17Z,20Z,23Z,26Z-dotriacontapentaenoyl)-2-(18Z,21Z,24Z,27Z,30Z,33Z-hexatriacontahexaenoyl)-sn-glycero-3-phospho-N-hexadecanoyl-ethanolamine/1-(14Z,17Z,20Z,23Z,26Z-dotriacontapentaenoyl)-2-(19Z,22Z,25Z,28Z,31Z-tetratriacontapentaenoyl)-sn-glycero-3-phospho-N-(11Z-octadecenoyl)-ethanolamine/1-(14Z,17Z,20Z,23Z,26Z-dotriacontapentaenoyl)-2-(19Z,22Z,25Z,28Z,31Z-tetratriacontapentaenoyl)-sn-glycero-3-phospho-N-(9Z-octadecenoyl)-ethanolamine/1-(14Z,17Z,20Z,23Z,26Z-dotriacontapentaenoyl)-2-(19Z,22Z,25Z,28Z-tetratriacontatetraenoyl)-sn-glycero-3-phospho-N-(9Z,12Z-octadecadienoyl)-ethanolamine/1-(14Z,17Z,20Z,23Z,26Z-dotriacontapentaenoyl)-2-triacontanoyl-sn-glycero-3-phospho-N-(4Z,7Z,10Z,13Z,16Z,19Z-docosahexaenoyl)-ethanolamine_0",
         "line": {
          "color": "#EF553B",
          "dash": "solid"
         },
         "marker": {
          "symbol": "circle"
         },
         "mode": "lines",
         "name": "1-(14Z,17Z,20Z,23Z,26Z-dotriacontapentaenoyl)-2-(16Z,19Z,22Z,25Z,28Z,31Z-tetratriacontahexaenoyl)-sn-glycero-3-phospho-N-octadecanoyl-ethanolamine/1-(14Z,17Z,20Z,23Z,26Z-dotriacontapentaenoyl)-2-(18Z,21Z,24Z,27Z,30Z,33Z-hexatriacontahexaenoyl)-sn-glycero-3-phospho-N-hexadecanoyl-ethanolamine/1-(14Z,17Z,20Z,23Z,26Z-dotriacontapentaenoyl)-2-(19Z,22Z,25Z,28Z,31Z-tetratriacontapentaenoyl)-sn-glycero-3-phospho-N-(11Z-octadecenoyl)-ethanolamine/1-(14Z,17Z,20Z,23Z,26Z-dotriacontapentaenoyl)-2-(19Z,22Z,25Z,28Z,31Z-tetratriacontapentaenoyl)-sn-glycero-3-phospho-N-(9Z-octadecenoyl)-ethanolamine/1-(14Z,17Z,20Z,23Z,26Z-dotriacontapentaenoyl)-2-(19Z,22Z,25Z,28Z-tetratriacontatetraenoyl)-sn-glycero-3-phospho-N-(9Z,12Z-octadecadienoyl)-ethanolamine/1-(14Z,17Z,20Z,23Z,26Z-dotriacontapentaenoyl)-2-triacontanoyl-sn-glycero-3-phospho-N-(4Z,7Z,10Z,13Z,16Z,19Z-docosahexaenoyl)-ethanolamine_0",
         "scene": "scene",
         "showlegend": false,
         "type": "scatter3d",
         "x": [
          1410.1215735332291,
          1410.1215735332291,
          1410.1215735332291,
          1410.1215735332291,
          1411.1249283710292,
          1411.1249283710292,
          1411.1249283710292,
          1411.1249283710292
         ],
         "y": [
          8.732999801635742,
          9.446999549865723,
          10.161999702453613,
          10.87600040435791,
          8.732999801635742,
          9.446999549865723,
          10.161999702453613,
          10.87600040435791
         ],
         "z": [
          0,
          446.3034362792969,
          427.5774230957031,
          0,
          0,
          0,
          0,
          0
         ]
        },
        {
         "hovertemplate": "labels=1-(14Z,17Z,20Z,23Z,26Z-dotriacontapentaenoyl)-2-(17Z,20Z,23Z,26Z,29Z-dotriacontapentaenoyl)-sn-glycero-3-phospho-N-(4Z,7Z,10Z,13Z,16Z,19Z-docosahexaenoyl)-ethanolamine_0<br>m/z=%{x}<br>rt=%{y}<br>intensity=%{z}<extra></extra>",
         "legendgroup": "1-(14Z,17Z,20Z,23Z,26Z-dotriacontapentaenoyl)-2-(17Z,20Z,23Z,26Z,29Z-dotriacontapentaenoyl)-sn-glycero-3-phospho-N-(4Z,7Z,10Z,13Z,16Z,19Z-docosahexaenoyl)-ethanolamine_0",
         "line": {
          "color": "#00cc96",
          "dash": "solid"
         },
         "marker": {
          "symbol": "circle"
         },
         "mode": "lines",
         "name": "1-(14Z,17Z,20Z,23Z,26Z-dotriacontapentaenoyl)-2-(17Z,20Z,23Z,26Z,29Z-dotriacontapentaenoyl)-sn-glycero-3-phospho-N-(4Z,7Z,10Z,13Z,16Z,19Z-docosahexaenoyl)-ethanolamine_0",
         "scene": "scene",
         "showlegend": false,
         "type": "scatter3d",
         "x": [
          1428.074623533229,
          1428.074623533229,
          1428.074623533229,
          1428.074623533229,
          1429.077978371029,
          1429.077978371029,
          1429.077978371029,
          1429.077978371029
         ],
         "y": [
          8.732999801635742,
          9.446999549865723,
          10.161999702453613,
          10.87600040435791,
          8.732999801635742,
          9.446999549865723,
          10.161999702453613,
          10.87600040435791
         ],
         "z": [
          369.9810791015625,
          362.8878479003906,
          833.5757446289062,
          382.26263427734375,
          304.1865539550781,
          602.6522216796875,
          721.3993530273438,
          589.7122802734375
         ]
        },
        {
         "hovertemplate": "labels=1-(14Z,17Z,20Z,23Z,26Z-dotriacontapentaenoyl)-2-(17Z,20Z,23Z,26Z,29Z-dotriacontapentaenoyl)-sn-glycero-3-phospho-N-octadecanoyl-ethanolamine/1-(14Z,17Z,20Z,23Z,26Z-dotriacontapentaenoyl)-2-(17Z,20Z,23Z,26Z-dotriacontatetraenoyl)-sn-glycero-3-phospho-N-(11Z-octadecenoyl)-ethanolamine/1-(14Z,17Z,20Z,23Z,26Z-dotriacontapentaenoyl)-2-(17Z,20Z,23Z,26Z-dotriacontatetraenoyl)-sn-glycero-3-phospho-N-(9Z-octadecenoyl)-ethanolamine/1-(14Z,17Z,20Z,23Z,26Z-dotriacontapentaenoyl)-2-(19Z,22Z,25Z,28Z,31Z-tetratriacontapentaenoyl)-sn-glycero-3-phospho-N-hexadecanoyl-ethanolamine/1-(14Z,17Z,20Z,23Z,26Z-dotriacontapentaenoyl)-2-(21Z,24Z,27Z,30Z,33Z-hexatriacontapentaenoyl)-sn-glycero-3-phospho-N-tetradecanoyl-ethanolamine/1-(14Z,17Z,20Z,23Z,26Z-dotriacontapentaenoyl)-2-(23Z,26Z,29Z,32Z,35Z-octatriacontapentaenoyl)-sn-glycero-3-phospho-N-dodecanoyl-ethanolamine_0<br>m/z=%{x}<br>rt=%{y}<br>intensity=%{z}<extra></extra>",
         "legendgroup": "1-(14Z,17Z,20Z,23Z,26Z-dotriacontapentaenoyl)-2-(17Z,20Z,23Z,26Z,29Z-dotriacontapentaenoyl)-sn-glycero-3-phospho-N-octadecanoyl-ethanolamine/1-(14Z,17Z,20Z,23Z,26Z-dotriacontapentaenoyl)-2-(17Z,20Z,23Z,26Z-dotriacontatetraenoyl)-sn-glycero-3-phospho-N-(11Z-octadecenoyl)-ethanolamine/1-(14Z,17Z,20Z,23Z,26Z-dotriacontapentaenoyl)-2-(17Z,20Z,23Z,26Z-dotriacontatetraenoyl)-sn-glycero-3-phospho-N-(9Z-octadecenoyl)-ethanolamine/1-(14Z,17Z,20Z,23Z,26Z-dotriacontapentaenoyl)-2-(19Z,22Z,25Z,28Z,31Z-tetratriacontapentaenoyl)-sn-glycero-3-phospho-N-hexadecanoyl-ethanolamine/1-(14Z,17Z,20Z,23Z,26Z-dotriacontapentaenoyl)-2-(21Z,24Z,27Z,30Z,33Z-hexatriacontapentaenoyl)-sn-glycero-3-phospho-N-tetradecanoyl-ethanolamine/1-(14Z,17Z,20Z,23Z,26Z-dotriacontapentaenoyl)-2-(23Z,26Z,29Z,32Z,35Z-octatriacontapentaenoyl)-sn-glycero-3-phospho-N-dodecanoyl-ethanolamine_0",
         "line": {
          "color": "#ab63fa",
          "dash": "solid"
         },
         "marker": {
          "symbol": "circle"
         },
         "mode": "lines",
         "name": "1-(14Z,17Z,20Z,23Z,26Z-dotriacontapentaenoyl)-2-(17Z,20Z,23Z,26Z,29Z-dotriacontapentaenoyl)-sn-glycero-3-phospho-N-octadecanoyl-ethanolamine/1-(14Z,17Z,20Z,23Z,26Z-dotriacontapentaenoyl)-2-(17Z,20Z,23Z,26Z-dotriacontatetraenoyl)-sn-glycero-3-phospho-N-(11Z-octadecenoyl)-ethanolamine/1-(14Z,17Z,20Z,23Z,26Z-dotriacontapentaenoyl)-2-(17Z,20Z,23Z,26Z-dotriacontatetraenoyl)-sn-glycero-3-phospho-N-(9Z-octadecenoyl)-ethanolamine/1-(14Z,17Z,20Z,23Z,26Z-dotriacontapentaenoyl)-2-(19Z,22Z,25Z,28Z,31Z-tetratriacontapentaenoyl)-sn-glycero-3-phospho-N-hexadecanoyl-ethanolamine/1-(14Z,17Z,20Z,23Z,26Z-dotriacontapentaenoyl)-2-(21Z,24Z,27Z,30Z,33Z-hexatriacontapentaenoyl)-sn-glycero-3-phospho-N-tetradecanoyl-ethanolamine/1-(14Z,17Z,20Z,23Z,26Z-dotriacontapentaenoyl)-2-(23Z,26Z,29Z,32Z,35Z-octatriacontapentaenoyl)-sn-glycero-3-phospho-N-dodecanoyl-ethanolamine_0",
         "scene": "scene",
         "showlegend": false,
         "type": "scatter3d",
         "x": [
          1384.105923533229,
          1384.105923533229,
          1384.105923533229,
          1384.105923533229,
          1385.1092783710292,
          1385.1092783710292,
          1385.1092783710292,
          1385.1092783710292
         ],
         "y": [
          8.732999801635742,
          9.446999549865723,
          10.161999702453613,
          10.87600040435791,
          8.732999801635742,
          9.446999549865723,
          10.161999702453613,
          10.87600040435791
         ],
         "z": [
          73.62080383300781,
          0,
          397.3236999511719,
          0,
          0,
          255.2103271484375,
          0,
          0
         ]
        },
        {
         "hovertemplate": "labels=1-(14Z,17Z,20Z,23Z,26Z-dotriacontapentaenoyl)-2-(17Z,20Z,23Z,26Z-dotriacontatetraenoyl)-sn-glycero-3-phospho-N-octadecanoyl-ethanolamine/1-(14Z,17Z,20Z,23Z,26Z-dotriacontapentaenoyl)-2-(19Z,22Z,25Z,28Z-tetratriacontatetraenoyl)-sn-glycero-3-phospho-N-hexadecanoyl-ethanolamine/1-(14Z,17Z,20Z,23Z,26Z-dotriacontapentaenoyl)-2-(21Z,24Z,27Z,30Z-hexatriacontatetraenoyl)-sn-glycero-3-phospho-N-tetradecanoyl-ethanolamine/1-(14Z,17Z,20Z,23Z,26Z-dotriacontapentaenoyl)-2-(23Z,26Z,29Z,32Z-octatriacontatetraenoyl)-sn-glycero-3-phospho-N-dodecanoyl-ethanolamine/1-(14Z,17Z,20Z,23Z,26Z-dotriacontapentaenoyl)-2-triacontanoyl-sn-glycero-3-phospho-N-(5Z,8Z,11Z,14Z-eicosatetraenoyl)-ethanolamine_0<br>m/z=%{x}<br>rt=%{y}<br>intensity=%{z}<extra></extra>",
         "legendgroup": "1-(14Z,17Z,20Z,23Z,26Z-dotriacontapentaenoyl)-2-(17Z,20Z,23Z,26Z-dotriacontatetraenoyl)-sn-glycero-3-phospho-N-octadecanoyl-ethanolamine/1-(14Z,17Z,20Z,23Z,26Z-dotriacontapentaenoyl)-2-(19Z,22Z,25Z,28Z-tetratriacontatetraenoyl)-sn-glycero-3-phospho-N-hexadecanoyl-ethanolamine/1-(14Z,17Z,20Z,23Z,26Z-dotriacontapentaenoyl)-2-(21Z,24Z,27Z,30Z-hexatriacontatetraenoyl)-sn-glycero-3-phospho-N-tetradecanoyl-ethanolamine/1-(14Z,17Z,20Z,23Z,26Z-dotriacontapentaenoyl)-2-(23Z,26Z,29Z,32Z-octatriacontatetraenoyl)-sn-glycero-3-phospho-N-dodecanoyl-ethanolamine/1-(14Z,17Z,20Z,23Z,26Z-dotriacontapentaenoyl)-2-triacontanoyl-sn-glycero-3-phospho-N-(5Z,8Z,11Z,14Z-eicosatetraenoyl)-ethanolamine_0",
         "line": {
          "color": "#FFA15A",
          "dash": "solid"
         },
         "marker": {
          "symbol": "circle"
         },
         "mode": "lines",
         "name": "1-(14Z,17Z,20Z,23Z,26Z-dotriacontapentaenoyl)-2-(17Z,20Z,23Z,26Z-dotriacontatetraenoyl)-sn-glycero-3-phospho-N-octadecanoyl-ethanolamine/1-(14Z,17Z,20Z,23Z,26Z-dotriacontapentaenoyl)-2-(19Z,22Z,25Z,28Z-tetratriacontatetraenoyl)-sn-glycero-3-phospho-N-hexadecanoyl-ethanolamine/1-(14Z,17Z,20Z,23Z,26Z-dotriacontapentaenoyl)-2-(21Z,24Z,27Z,30Z-hexatriacontatetraenoyl)-sn-glycero-3-phospho-N-tetradecanoyl-ethanolamine/1-(14Z,17Z,20Z,23Z,26Z-dotriacontapentaenoyl)-2-(23Z,26Z,29Z,32Z-octatriacontatetraenoyl)-sn-glycero-3-phospho-N-dodecanoyl-ethanolamine/1-(14Z,17Z,20Z,23Z,26Z-dotriacontapentaenoyl)-2-triacontanoyl-sn-glycero-3-phospho-N-(5Z,8Z,11Z,14Z-eicosatetraenoyl)-ethanolamine_0",
         "scene": "scene",
         "showlegend": false,
         "type": "scatter3d",
         "x": [
          1386.1215735332291,
          1386.1215735332291,
          1386.1215735332291,
          1387.1249283710292,
          1387.1249283710292,
          1387.1249283710292
         ],
         "y": [
          8.017999649047852,
          8.732999801635742,
          9.446999549865723,
          8.017999649047852,
          8.732999801635742,
          9.446999549865723
         ],
         "z": [
          0,
          95.48442077636719,
          312.7437744140625,
          145.3942413330078,
          0,
          0
         ]
        },
        {
         "hovertemplate": "labels=1-(14Z,17Z,20Z,23Z,26Z-dotriacontapentaenoyl)-2-(17Z-hexacosenoyl)-sn-glycero-3-phospho-N-(11Z-octadecenoyl)-ethanolamine/1-(14Z,17Z,20Z,23Z,26Z-dotriacontapentaenoyl)-2-(17Z-hexacosenoyl)-sn-glycero-3-phospho-N-(9Z-octadecenoyl)-ethanolamine/1-(14Z,17Z,20Z,23Z,26Z-dotriacontapentaenoyl)-2-hexacosanoyl-sn-glycero-3-phospho-N-(9Z,12Z-octadecadienoyl)-ethanolamine_0<br>m/z=%{x}<br>rt=%{y}<br>intensity=%{z}<extra></extra>",
         "legendgroup": "1-(14Z,17Z,20Z,23Z,26Z-dotriacontapentaenoyl)-2-(17Z-hexacosenoyl)-sn-glycero-3-phospho-N-(11Z-octadecenoyl)-ethanolamine/1-(14Z,17Z,20Z,23Z,26Z-dotriacontapentaenoyl)-2-(17Z-hexacosenoyl)-sn-glycero-3-phospho-N-(9Z-octadecenoyl)-ethanolamine/1-(14Z,17Z,20Z,23Z,26Z-dotriacontapentaenoyl)-2-hexacosanoyl-sn-glycero-3-phospho-N-(9Z,12Z-octadecadienoyl)-ethanolamine_0",
         "line": {
          "color": "#19d3f3",
          "dash": "solid"
         },
         "marker": {
          "symbol": "circle"
         },
         "mode": "lines",
         "name": "1-(14Z,17Z,20Z,23Z,26Z-dotriacontapentaenoyl)-2-(17Z-hexacosenoyl)-sn-glycero-3-phospho-N-(11Z-octadecenoyl)-ethanolamine/1-(14Z,17Z,20Z,23Z,26Z-dotriacontapentaenoyl)-2-(17Z-hexacosenoyl)-sn-glycero-3-phospho-N-(9Z-octadecenoyl)-ethanolamine/1-(14Z,17Z,20Z,23Z,26Z-dotriacontapentaenoyl)-2-hexacosanoyl-sn-glycero-3-phospho-N-(9Z,12Z-octadecadienoyl)-ethanolamine_0",
         "scene": "scene",
         "showlegend": false,
         "type": "scatter3d",
         "x": [
          1306.0589735332292,
          1306.0589735332292,
          1307.0623283710293,
          1307.0623283710293
         ],
         "y": [
          8.732999801635742,
          9.446999549865723,
          8.732999801635742,
          9.446999549865723
         ],
         "z": [
          43.01423263549805,
          351.06744384765625,
          0,
          0
         ]
        },
        {
         "hovertemplate": "labels=1-(14Z,17Z,20Z,23Z,26Z-dotriacontapentaenoyl)-2-(17Z-hexacosenoyl)-sn-glycero-3-phospho-N-(9Z,12Z-octadecadienoyl)-ethanolamine/1-(14Z,17Z,20Z,23Z,26Z-dotriacontapentaenoyl)-2-hexacosanoyl-sn-glycero-3-phospho-N-(6Z,9Z,12Z-octadecatrienoyl)-ethanolamine/1-(14Z,17Z,20Z,23Z,26Z-dotriacontapentaenoyl)-2-hexacosanoyl-sn-glycero-3-phospho-N-(9Z,12Z,15Z-octadecatrienoyl)-ethanolamine_0<br>m/z=%{x}<br>rt=%{y}<br>intensity=%{z}<extra></extra>",
         "legendgroup": "1-(14Z,17Z,20Z,23Z,26Z-dotriacontapentaenoyl)-2-(17Z-hexacosenoyl)-sn-glycero-3-phospho-N-(9Z,12Z-octadecadienoyl)-ethanolamine/1-(14Z,17Z,20Z,23Z,26Z-dotriacontapentaenoyl)-2-hexacosanoyl-sn-glycero-3-phospho-N-(6Z,9Z,12Z-octadecatrienoyl)-ethanolamine/1-(14Z,17Z,20Z,23Z,26Z-dotriacontapentaenoyl)-2-hexacosanoyl-sn-glycero-3-phospho-N-(9Z,12Z,15Z-octadecatrienoyl)-ethanolamine_0",
         "line": {
          "color": "#FF6692",
          "dash": "solid"
         },
         "marker": {
          "symbol": "circle"
         },
         "mode": "lines",
         "name": "1-(14Z,17Z,20Z,23Z,26Z-dotriacontapentaenoyl)-2-(17Z-hexacosenoyl)-sn-glycero-3-phospho-N-(9Z,12Z-octadecadienoyl)-ethanolamine/1-(14Z,17Z,20Z,23Z,26Z-dotriacontapentaenoyl)-2-hexacosanoyl-sn-glycero-3-phospho-N-(6Z,9Z,12Z-octadecatrienoyl)-ethanolamine/1-(14Z,17Z,20Z,23Z,26Z-dotriacontapentaenoyl)-2-hexacosanoyl-sn-glycero-3-phospho-N-(9Z,12Z,15Z-octadecatrienoyl)-ethanolamine_0",
         "scene": "scene",
         "showlegend": false,
         "type": "scatter3d",
         "x": [
          1304.043323533229,
          1304.043323533229,
          1305.0466783710292,
          1305.0466783710292
         ],
         "y": [
          7.303999900817871,
          8.017999649047852,
          7.303999900817871,
          8.017999649047852
         ],
         "z": [
          0,
          394.5266418457031,
          0,
          0
         ]
        },
        {
         "hovertemplate": "labels=1-(14Z,17Z,20Z,23Z,26Z-dotriacontapentaenoyl)-2-(17Z-hexacosenoyl)-sn-glycero-3-phospho-N-octadecanoyl-ethanolamine/1-(14Z,17Z,20Z,23Z,26Z-dotriacontapentaenoyl)-2-hexacosanoyl-sn-glycero-3-phospho-N-(11Z-octadecenoyl)-ethanolamine/1-(14Z,17Z,20Z,23Z,26Z-dotriacontapentaenoyl)-2-hexacosanoyl-sn-glycero-3-phospho-N-(9Z-octadecenoyl)-ethanolamine_0<br>m/z=%{x}<br>rt=%{y}<br>intensity=%{z}<extra></extra>",
         "legendgroup": "1-(14Z,17Z,20Z,23Z,26Z-dotriacontapentaenoyl)-2-(17Z-hexacosenoyl)-sn-glycero-3-phospho-N-octadecanoyl-ethanolamine/1-(14Z,17Z,20Z,23Z,26Z-dotriacontapentaenoyl)-2-hexacosanoyl-sn-glycero-3-phospho-N-(11Z-octadecenoyl)-ethanolamine/1-(14Z,17Z,20Z,23Z,26Z-dotriacontapentaenoyl)-2-hexacosanoyl-sn-glycero-3-phospho-N-(9Z-octadecenoyl)-ethanolamine_0",
         "line": {
          "color": "#B6E880",
          "dash": "solid"
         },
         "marker": {
          "symbol": "circle"
         },
         "mode": "lines",
         "name": "1-(14Z,17Z,20Z,23Z,26Z-dotriacontapentaenoyl)-2-(17Z-hexacosenoyl)-sn-glycero-3-phospho-N-octadecanoyl-ethanolamine/1-(14Z,17Z,20Z,23Z,26Z-dotriacontapentaenoyl)-2-hexacosanoyl-sn-glycero-3-phospho-N-(11Z-octadecenoyl)-ethanolamine/1-(14Z,17Z,20Z,23Z,26Z-dotriacontapentaenoyl)-2-hexacosanoyl-sn-glycero-3-phospho-N-(9Z-octadecenoyl)-ethanolamine_0",
         "scene": "scene",
         "showlegend": false,
         "type": "scatter3d",
         "x": [
          1308.074623533229,
          1309.077978371029
         ],
         "y": [
          4.446000099182129,
          4.446000099182129
         ],
         "z": [
          0,
          83.1595230102539
         ]
        },
        {
         "hovertemplate": "labels=1-(14Z,17Z,20Z,23Z,26Z-dotriacontapentaenoyl)-2-(18Z,21Z,24Z,27Z,30Z,33Z-hexatriacontahexaenoyl)-sn-glycero-3-phospho-N-(11Z-octadecenoyl)-ethanolamine/1-(14Z,17Z,20Z,23Z,26Z-dotriacontapentaenoyl)-2-(18Z,21Z,24Z,27Z,30Z,33Z-hexatriacontahexaenoyl)-sn-glycero-3-phospho-N-(9Z-octadecenoyl)-ethanolamine/1-(14Z,17Z,20Z,23Z,26Z-dotriacontapentaenoyl)-2-(21Z,24Z,27Z,30Z,33Z-hexatriacontapentaenoyl)-sn-glycero-3-phospho-N-(9Z,12Z-octadecadienoyl)-ethanolamine/1-(14Z,17Z,20Z,23Z,26Z-dotriacontapentaenoyl)-2-(21Z,24Z,27Z,30Z-hexatriacontatetraenoyl)-sn-glycero-3-phospho-N-(6Z,9Z,12Z-octadecatrienoyl)-ethanolamine/1-(14Z,17Z,20Z,23Z,26Z-dotriacontapentaenoyl)-2-(21Z,24Z,27Z,30Z-hexatriacontatetraenoyl)-sn-glycero-3-phospho-N-(9Z,12Z,15Z-octadecatrienoyl)-ethanolamine_0<br>m/z=%{x}<br>rt=%{y}<br>intensity=%{z}<extra></extra>",
         "legendgroup": "1-(14Z,17Z,20Z,23Z,26Z-dotriacontapentaenoyl)-2-(18Z,21Z,24Z,27Z,30Z,33Z-hexatriacontahexaenoyl)-sn-glycero-3-phospho-N-(11Z-octadecenoyl)-ethanolamine/1-(14Z,17Z,20Z,23Z,26Z-dotriacontapentaenoyl)-2-(18Z,21Z,24Z,27Z,30Z,33Z-hexatriacontahexaenoyl)-sn-glycero-3-phospho-N-(9Z-octadecenoyl)-ethanolamine/1-(14Z,17Z,20Z,23Z,26Z-dotriacontapentaenoyl)-2-(21Z,24Z,27Z,30Z,33Z-hexatriacontapentaenoyl)-sn-glycero-3-phospho-N-(9Z,12Z-octadecadienoyl)-ethanolamine/1-(14Z,17Z,20Z,23Z,26Z-dotriacontapentaenoyl)-2-(21Z,24Z,27Z,30Z-hexatriacontatetraenoyl)-sn-glycero-3-phospho-N-(6Z,9Z,12Z-octadecatrienoyl)-ethanolamine/1-(14Z,17Z,20Z,23Z,26Z-dotriacontapentaenoyl)-2-(21Z,24Z,27Z,30Z-hexatriacontatetraenoyl)-sn-glycero-3-phospho-N-(9Z,12Z,15Z-octadecatrienoyl)-ethanolamine_0",
         "line": {
          "color": "#FF97FF",
          "dash": "solid"
         },
         "marker": {
          "symbol": "circle"
         },
         "mode": "lines",
         "name": "1-(14Z,17Z,20Z,23Z,26Z-dotriacontapentaenoyl)-2-(18Z,21Z,24Z,27Z,30Z,33Z-hexatriacontahexaenoyl)-sn-glycero-3-phospho-N-(11Z-octadecenoyl)-ethanolamine/1-(14Z,17Z,20Z,23Z,26Z-dotriacontapentaenoyl)-2-(18Z,21Z,24Z,27Z,30Z,33Z-hexatriacontahexaenoyl)-sn-glycero-3-phospho-N-(9Z-octadecenoyl)-ethanolamine/1-(14Z,17Z,20Z,23Z,26Z-dotriacontapentaenoyl)-2-(21Z,24Z,27Z,30Z,33Z-hexatriacontapentaenoyl)-sn-glycero-3-phospho-N-(9Z,12Z-octadecadienoyl)-ethanolamine/1-(14Z,17Z,20Z,23Z,26Z-dotriacontapentaenoyl)-2-(21Z,24Z,27Z,30Z-hexatriacontatetraenoyl)-sn-glycero-3-phospho-N-(6Z,9Z,12Z-octadecatrienoyl)-ethanolamine/1-(14Z,17Z,20Z,23Z,26Z-dotriacontapentaenoyl)-2-(21Z,24Z,27Z,30Z-hexatriacontatetraenoyl)-sn-glycero-3-phospho-N-(9Z,12Z,15Z-octadecatrienoyl)-ethanolamine_0",
         "scene": "scene",
         "showlegend": false,
         "type": "scatter3d",
         "x": [
          1436.1372235332294,
          1437.1405783710293
         ],
         "y": [
          7.303999900817871,
          7.303999900817871
         ],
         "z": [
          78.06549072265625,
          271.1211853027344
         ]
        },
        {
         "hovertemplate": "labels=1-(14Z,17Z,20Z,23Z,26Z-dotriacontapentaenoyl)-2-(18Z,21Z,24Z,27Z,30Z,33Z-hexatriacontahexaenoyl)-sn-glycero-3-phospho-N-(4Z,7Z,10Z,13Z,16Z,19Z-docosahexaenoyl)-ethanolamine_0<br>m/z=%{x}<br>rt=%{y}<br>intensity=%{z}<extra></extra>",
         "legendgroup": "1-(14Z,17Z,20Z,23Z,26Z-dotriacontapentaenoyl)-2-(18Z,21Z,24Z,27Z,30Z,33Z-hexatriacontahexaenoyl)-sn-glycero-3-phospho-N-(4Z,7Z,10Z,13Z,16Z,19Z-docosahexaenoyl)-ethanolamine_0",
         "line": {
          "color": "#FECB52",
          "dash": "solid"
         },
         "marker": {
          "symbol": "circle"
         },
         "mode": "lines",
         "name": "1-(14Z,17Z,20Z,23Z,26Z-dotriacontapentaenoyl)-2-(18Z,21Z,24Z,27Z,30Z,33Z-hexatriacontahexaenoyl)-sn-glycero-3-phospho-N-(4Z,7Z,10Z,13Z,16Z,19Z-docosahexaenoyl)-ethanolamine_0",
         "scene": "scene",
         "showlegend": false,
         "type": "scatter3d",
         "x": [
          1482.1215735332291,
          1482.1215735332291,
          1482.1215735332291,
          1483.1249283710292,
          1483.1249283710292,
          1483.1249283710292
         ],
         "y": [
          8.017999649047852,
          8.732999801635742,
          9.446999549865723,
          8.017999649047852,
          8.732999801635742,
          9.446999549865723
         ],
         "z": [
          0,
          0,
          0,
          0,
          585.2603149414062,
          508.8338928222656
         ]
        },
        {
         "hovertemplate": "labels=1-(14Z,17Z,20Z,23Z,26Z-dotriacontapentaenoyl)-2-(18Z,21Z,24Z,27Z,30Z,33Z-hexatriacontahexaenoyl)-sn-glycero-3-phospho-N-(5Z,8Z,11Z,14Z-eicosatetraenoyl)-ethanolamine/1-(14Z,17Z,20Z,23Z,26Z-dotriacontapentaenoyl)-2-(19Z,22Z,25Z,28Z-tetratriacontatetraenoyl)-sn-glycero-3-phospho-N-(4Z,7Z,10Z,13Z,16Z,19Z-docosahexaenoyl)-ethanolamine_0<br>m/z=%{x}<br>rt=%{y}<br>intensity=%{z}<extra></extra>",
         "legendgroup": "1-(14Z,17Z,20Z,23Z,26Z-dotriacontapentaenoyl)-2-(18Z,21Z,24Z,27Z,30Z,33Z-hexatriacontahexaenoyl)-sn-glycero-3-phospho-N-(5Z,8Z,11Z,14Z-eicosatetraenoyl)-ethanolamine/1-(14Z,17Z,20Z,23Z,26Z-dotriacontapentaenoyl)-2-(19Z,22Z,25Z,28Z-tetratriacontatetraenoyl)-sn-glycero-3-phospho-N-(4Z,7Z,10Z,13Z,16Z,19Z-docosahexaenoyl)-ethanolamine_0",
         "line": {
          "color": "#636efa",
          "dash": "solid"
         },
         "marker": {
          "symbol": "circle"
         },
         "mode": "lines",
         "name": "1-(14Z,17Z,20Z,23Z,26Z-dotriacontapentaenoyl)-2-(18Z,21Z,24Z,27Z,30Z,33Z-hexatriacontahexaenoyl)-sn-glycero-3-phospho-N-(5Z,8Z,11Z,14Z-eicosatetraenoyl)-ethanolamine/1-(14Z,17Z,20Z,23Z,26Z-dotriacontapentaenoyl)-2-(19Z,22Z,25Z,28Z-tetratriacontatetraenoyl)-sn-glycero-3-phospho-N-(4Z,7Z,10Z,13Z,16Z,19Z-docosahexaenoyl)-ethanolamine_0",
         "scene": "scene",
         "showlegend": false,
         "type": "scatter3d",
         "x": [
          1458.1215735332291,
          1458.1215735332291,
          1459.1249283710292,
          1459.1249283710292
         ],
         "y": [
          10.161999702453613,
          10.87600040435791,
          10.161999702453613,
          10.87600040435791
         ],
         "z": [
          175.05160522460938,
          366.6071472167969,
          312.36865234375,
          203.2153778076172
         ]
        },
        {
         "hovertemplate": "labels=1-(14Z,17Z,20Z,23Z,26Z-dotriacontapentaenoyl)-2-(18Z,21Z,24Z,27Z,30Z,33Z-hexatriacontahexaenoyl)-sn-glycero-3-phospho-N-(6Z,9Z,12Z-octadecatrienoyl)-ethanolamine/1-(14Z,17Z,20Z,23Z,26Z-dotriacontapentaenoyl)-2-(18Z,21Z,24Z,27Z,30Z,33Z-hexatriacontahexaenoyl)-sn-glycero-3-phospho-N-(9Z,12Z,15Z-octadecatrienoyl)-ethanolamine/1-(14Z,17Z,20Z,23Z,26Z-dotriacontapentaenoyl)-2-(19Z,22Z,25Z,28Z,31Z-tetratriacontapentaenoyl)-sn-glycero-3-phospho-N-(5Z,8Z,11Z,14Z-eicosatetraenoyl)-ethanolamine_0<br>m/z=%{x}<br>rt=%{y}<br>intensity=%{z}<extra></extra>",
         "legendgroup": "1-(14Z,17Z,20Z,23Z,26Z-dotriacontapentaenoyl)-2-(18Z,21Z,24Z,27Z,30Z,33Z-hexatriacontahexaenoyl)-sn-glycero-3-phospho-N-(6Z,9Z,12Z-octadecatrienoyl)-ethanolamine/1-(14Z,17Z,20Z,23Z,26Z-dotriacontapentaenoyl)-2-(18Z,21Z,24Z,27Z,30Z,33Z-hexatriacontahexaenoyl)-sn-glycero-3-phospho-N-(9Z,12Z,15Z-octadecatrienoyl)-ethanolamine/1-(14Z,17Z,20Z,23Z,26Z-dotriacontapentaenoyl)-2-(19Z,22Z,25Z,28Z,31Z-tetratriacontapentaenoyl)-sn-glycero-3-phospho-N-(5Z,8Z,11Z,14Z-eicosatetraenoyl)-ethanolamine_0",
         "line": {
          "color": "#EF553B",
          "dash": "solid"
         },
         "marker": {
          "symbol": "circle"
         },
         "mode": "lines",
         "name": "1-(14Z,17Z,20Z,23Z,26Z-dotriacontapentaenoyl)-2-(18Z,21Z,24Z,27Z,30Z,33Z-hexatriacontahexaenoyl)-sn-glycero-3-phospho-N-(6Z,9Z,12Z-octadecatrienoyl)-ethanolamine/1-(14Z,17Z,20Z,23Z,26Z-dotriacontapentaenoyl)-2-(18Z,21Z,24Z,27Z,30Z,33Z-hexatriacontahexaenoyl)-sn-glycero-3-phospho-N-(9Z,12Z,15Z-octadecatrienoyl)-ethanolamine/1-(14Z,17Z,20Z,23Z,26Z-dotriacontapentaenoyl)-2-(19Z,22Z,25Z,28Z,31Z-tetratriacontapentaenoyl)-sn-glycero-3-phospho-N-(5Z,8Z,11Z,14Z-eicosatetraenoyl)-ethanolamine_0",
         "scene": "scene",
         "showlegend": false,
         "type": "scatter3d",
         "x": [
          1432.105923533229,
          1432.105923533229,
          1432.105923533229,
          1433.1092783710292,
          1433.1092783710292,
          1433.1092783710292
         ],
         "y": [
          9.446999549865723,
          10.161999702453613,
          10.87600040435791,
          9.446999549865723,
          10.161999702453613,
          10.87600040435791
         ],
         "z": [
          0,
          316.2473449707031,
          0,
          249.61538696289062,
          627.4901733398438,
          0
         ]
        },
        {
         "hovertemplate": "labels=1-(14Z,17Z,20Z,23Z,26Z-dotriacontapentaenoyl)-2-(18Z,21Z,24Z,27Z,30Z,33Z-hexatriacontahexaenoyl)-sn-glycero-3-phospho-N-(9Z,12Z-octadecadienoyl)-ethanolamine/1-(14Z,17Z,20Z,23Z,26Z-dotriacontapentaenoyl)-2-(19Z,22Z,25Z,28Z-tetratriacontatetraenoyl)-sn-glycero-3-phospho-N-(5Z,8Z,11Z,14Z-eicosatetraenoyl)-ethanolamine/1-(14Z,17Z,20Z,23Z,26Z-dotriacontapentaenoyl)-2-(21Z,24Z,27Z,30Z,33Z-hexatriacontapentaenoyl)-sn-glycero-3-phospho-N-(6Z,9Z,12Z-octadecatrienoyl)-ethanolamine/1-(14Z,17Z,20Z,23Z,26Z-dotriacontapentaenoyl)-2-(21Z,24Z,27Z,30Z,33Z-hexatriacontapentaenoyl)-sn-glycero-3-phospho-N-(9Z,12Z,15Z-octadecatrienoyl)-ethanolamine_0<br>m/z=%{x}<br>rt=%{y}<br>intensity=%{z}<extra></extra>",
         "legendgroup": "1-(14Z,17Z,20Z,23Z,26Z-dotriacontapentaenoyl)-2-(18Z,21Z,24Z,27Z,30Z,33Z-hexatriacontahexaenoyl)-sn-glycero-3-phospho-N-(9Z,12Z-octadecadienoyl)-ethanolamine/1-(14Z,17Z,20Z,23Z,26Z-dotriacontapentaenoyl)-2-(19Z,22Z,25Z,28Z-tetratriacontatetraenoyl)-sn-glycero-3-phospho-N-(5Z,8Z,11Z,14Z-eicosatetraenoyl)-ethanolamine/1-(14Z,17Z,20Z,23Z,26Z-dotriacontapentaenoyl)-2-(21Z,24Z,27Z,30Z,33Z-hexatriacontapentaenoyl)-sn-glycero-3-phospho-N-(6Z,9Z,12Z-octadecatrienoyl)-ethanolamine/1-(14Z,17Z,20Z,23Z,26Z-dotriacontapentaenoyl)-2-(21Z,24Z,27Z,30Z,33Z-hexatriacontapentaenoyl)-sn-glycero-3-phospho-N-(9Z,12Z,15Z-octadecatrienoyl)-ethanolamine_0",
         "line": {
          "color": "#00cc96",
          "dash": "solid"
         },
         "marker": {
          "symbol": "circle"
         },
         "mode": "lines",
         "name": "1-(14Z,17Z,20Z,23Z,26Z-dotriacontapentaenoyl)-2-(18Z,21Z,24Z,27Z,30Z,33Z-hexatriacontahexaenoyl)-sn-glycero-3-phospho-N-(9Z,12Z-octadecadienoyl)-ethanolamine/1-(14Z,17Z,20Z,23Z,26Z-dotriacontapentaenoyl)-2-(19Z,22Z,25Z,28Z-tetratriacontatetraenoyl)-sn-glycero-3-phospho-N-(5Z,8Z,11Z,14Z-eicosatetraenoyl)-ethanolamine/1-(14Z,17Z,20Z,23Z,26Z-dotriacontapentaenoyl)-2-(21Z,24Z,27Z,30Z,33Z-hexatriacontapentaenoyl)-sn-glycero-3-phospho-N-(6Z,9Z,12Z-octadecatrienoyl)-ethanolamine/1-(14Z,17Z,20Z,23Z,26Z-dotriacontapentaenoyl)-2-(21Z,24Z,27Z,30Z,33Z-hexatriacontapentaenoyl)-sn-glycero-3-phospho-N-(9Z,12Z,15Z-octadecatrienoyl)-ethanolamine_0",
         "scene": "scene",
         "showlegend": false,
         "type": "scatter3d",
         "x": [
          1434.1215735332291,
          1434.1215735332291,
          1434.1215735332291,
          1435.1249283710292,
          1435.1249283710292,
          1435.1249283710292
         ],
         "y": [
          5.160999774932861,
          5.875,
          6.590000152587891,
          5.160999774932861,
          5.875,
          6.590000152587891
         ],
         "z": [
          257.63494873046875,
          0,
          0,
          144.57415771484375,
          379.1164245605469,
          0
         ]
        },
        {
         "hovertemplate": "labels=1-(14Z,17Z,20Z,23Z,26Z-dotriacontapentaenoyl)-2-(18Z,21Z,24Z,27Z,30Z,33Z-hexatriacontahexaenoyl)-sn-glycero-3-phospho-N-octadecanoyl-ethanolamine/1-(14Z,17Z,20Z,23Z,26Z-dotriacontapentaenoyl)-2-(21Z,24Z,27Z,30Z,33Z-hexatriacontapentaenoyl)-sn-glycero-3-phospho-N-(11Z-octadecenoyl)-ethanolamine/1-(14Z,17Z,20Z,23Z,26Z-dotriacontapentaenoyl)-2-(21Z,24Z,27Z,30Z,33Z-hexatriacontapentaenoyl)-sn-glycero-3-phospho-N-(9Z-octadecenoyl)-ethanolamine/1-(14Z,17Z,20Z,23Z,26Z-dotriacontapentaenoyl)-2-(21Z,24Z,27Z,30Z-hexatriacontatetraenoyl)-sn-glycero-3-phospho-N-(9Z,12Z-octadecadienoyl)-ethanolamine_0<br>m/z=%{x}<br>rt=%{y}<br>intensity=%{z}<extra></extra>",
         "legendgroup": "1-(14Z,17Z,20Z,23Z,26Z-dotriacontapentaenoyl)-2-(18Z,21Z,24Z,27Z,30Z,33Z-hexatriacontahexaenoyl)-sn-glycero-3-phospho-N-octadecanoyl-ethanolamine/1-(14Z,17Z,20Z,23Z,26Z-dotriacontapentaenoyl)-2-(21Z,24Z,27Z,30Z,33Z-hexatriacontapentaenoyl)-sn-glycero-3-phospho-N-(11Z-octadecenoyl)-ethanolamine/1-(14Z,17Z,20Z,23Z,26Z-dotriacontapentaenoyl)-2-(21Z,24Z,27Z,30Z,33Z-hexatriacontapentaenoyl)-sn-glycero-3-phospho-N-(9Z-octadecenoyl)-ethanolamine/1-(14Z,17Z,20Z,23Z,26Z-dotriacontapentaenoyl)-2-(21Z,24Z,27Z,30Z-hexatriacontatetraenoyl)-sn-glycero-3-phospho-N-(9Z,12Z-octadecadienoyl)-ethanolamine_0",
         "line": {
          "color": "#ab63fa",
          "dash": "solid"
         },
         "marker": {
          "symbol": "circle"
         },
         "mode": "lines",
         "name": "1-(14Z,17Z,20Z,23Z,26Z-dotriacontapentaenoyl)-2-(18Z,21Z,24Z,27Z,30Z,33Z-hexatriacontahexaenoyl)-sn-glycero-3-phospho-N-octadecanoyl-ethanolamine/1-(14Z,17Z,20Z,23Z,26Z-dotriacontapentaenoyl)-2-(21Z,24Z,27Z,30Z,33Z-hexatriacontapentaenoyl)-sn-glycero-3-phospho-N-(11Z-octadecenoyl)-ethanolamine/1-(14Z,17Z,20Z,23Z,26Z-dotriacontapentaenoyl)-2-(21Z,24Z,27Z,30Z,33Z-hexatriacontapentaenoyl)-sn-glycero-3-phospho-N-(9Z-octadecenoyl)-ethanolamine/1-(14Z,17Z,20Z,23Z,26Z-dotriacontapentaenoyl)-2-(21Z,24Z,27Z,30Z-hexatriacontatetraenoyl)-sn-glycero-3-phospho-N-(9Z,12Z-octadecadienoyl)-ethanolamine_0",
         "scene": "scene",
         "showlegend": false,
         "type": "scatter3d",
         "x": [
          1438.152873533229,
          1438.152873533229,
          1438.152873533229,
          1439.156228371029,
          1439.156228371029,
          1439.156228371029
         ],
         "y": [
          5.160999774932861,
          5.875,
          6.590000152587891,
          5.160999774932861,
          5.875,
          6.590000152587891
         ],
         "z": [
          0,
          0,
          0,
          0,
          517.512451171875,
          0
         ]
        },
        {
         "hovertemplate": "labels=1-(14Z,17Z,20Z,23Z,26Z-dotriacontapentaenoyl)-2-(19Z,22Z,25Z,28Z,31Z-tetratriacontapentaenoyl)-sn-glycero-3-phospho-N-(4Z,7Z,10Z,13Z,16Z,19Z-docosahexaenoyl)-ethanolamine_0<br>m/z=%{x}<br>rt=%{y}<br>intensity=%{z}<extra></extra>",
         "legendgroup": "1-(14Z,17Z,20Z,23Z,26Z-dotriacontapentaenoyl)-2-(19Z,22Z,25Z,28Z,31Z-tetratriacontapentaenoyl)-sn-glycero-3-phospho-N-(4Z,7Z,10Z,13Z,16Z,19Z-docosahexaenoyl)-ethanolamine_0",
         "line": {
          "color": "#FFA15A",
          "dash": "solid"
         },
         "marker": {
          "symbol": "circle"
         },
         "mode": "lines",
         "name": "1-(14Z,17Z,20Z,23Z,26Z-dotriacontapentaenoyl)-2-(19Z,22Z,25Z,28Z,31Z-tetratriacontapentaenoyl)-sn-glycero-3-phospho-N-(4Z,7Z,10Z,13Z,16Z,19Z-docosahexaenoyl)-ethanolamine_0",
         "scene": "scene",
         "showlegend": false,
         "type": "scatter3d",
         "x": [
          1456.105923533229,
          1456.105923533229,
          1457.1092783710292,
          1457.1092783710292
         ],
         "y": [
          13.019000053405762,
          13.734000205993652,
          13.019000053405762,
          13.734000205993652
         ],
         "z": [
          1906.0908203125,
          0,
          932.213134765625,
          0
         ]
        },
        {
         "hovertemplate": "labels=1-(14Z,17Z,20Z,23Z,26Z-dotriacontapentaenoyl)-2-(19Z,22Z,25Z,28Z,31Z-tetratriacontapentaenoyl)-sn-glycero-3-phospho-N-octadecanoyl-ethanolamine/1-(14Z,17Z,20Z,23Z,26Z-dotriacontapentaenoyl)-2-(19Z,22Z,25Z,28Z-tetratriacontatetraenoyl)-sn-glycero-3-phospho-N-(11Z-octadecenoyl)-ethanolamine/1-(14Z,17Z,20Z,23Z,26Z-dotriacontapentaenoyl)-2-(19Z,22Z,25Z,28Z-tetratriacontatetraenoyl)-sn-glycero-3-phospho-N-(9Z-octadecenoyl)-ethanolamine/1-(14Z,17Z,20Z,23Z,26Z-dotriacontapentaenoyl)-2-(21Z,24Z,27Z,30Z,33Z-hexatriacontapentaenoyl)-sn-glycero-3-phospho-N-hexadecanoyl-ethanolamine/1-(14Z,17Z,20Z,23Z,26Z-dotriacontapentaenoyl)-2-(23Z,26Z,29Z,32Z,35Z-octatriacontapentaenoyl)-sn-glycero-3-phospho-N-tetradecanoyl-ethanolamine_0<br>m/z=%{x}<br>rt=%{y}<br>intensity=%{z}<extra></extra>",
         "legendgroup": "1-(14Z,17Z,20Z,23Z,26Z-dotriacontapentaenoyl)-2-(19Z,22Z,25Z,28Z,31Z-tetratriacontapentaenoyl)-sn-glycero-3-phospho-N-octadecanoyl-ethanolamine/1-(14Z,17Z,20Z,23Z,26Z-dotriacontapentaenoyl)-2-(19Z,22Z,25Z,28Z-tetratriacontatetraenoyl)-sn-glycero-3-phospho-N-(11Z-octadecenoyl)-ethanolamine/1-(14Z,17Z,20Z,23Z,26Z-dotriacontapentaenoyl)-2-(19Z,22Z,25Z,28Z-tetratriacontatetraenoyl)-sn-glycero-3-phospho-N-(9Z-octadecenoyl)-ethanolamine/1-(14Z,17Z,20Z,23Z,26Z-dotriacontapentaenoyl)-2-(21Z,24Z,27Z,30Z,33Z-hexatriacontapentaenoyl)-sn-glycero-3-phospho-N-hexadecanoyl-ethanolamine/1-(14Z,17Z,20Z,23Z,26Z-dotriacontapentaenoyl)-2-(23Z,26Z,29Z,32Z,35Z-octatriacontapentaenoyl)-sn-glycero-3-phospho-N-tetradecanoyl-ethanolamine_0",
         "line": {
          "color": "#19d3f3",
          "dash": "solid"
         },
         "marker": {
          "symbol": "circle"
         },
         "mode": "lines",
         "name": "1-(14Z,17Z,20Z,23Z,26Z-dotriacontapentaenoyl)-2-(19Z,22Z,25Z,28Z,31Z-tetratriacontapentaenoyl)-sn-glycero-3-phospho-N-octadecanoyl-ethanolamine/1-(14Z,17Z,20Z,23Z,26Z-dotriacontapentaenoyl)-2-(19Z,22Z,25Z,28Z-tetratriacontatetraenoyl)-sn-glycero-3-phospho-N-(11Z-octadecenoyl)-ethanolamine/1-(14Z,17Z,20Z,23Z,26Z-dotriacontapentaenoyl)-2-(19Z,22Z,25Z,28Z-tetratriacontatetraenoyl)-sn-glycero-3-phospho-N-(9Z-octadecenoyl)-ethanolamine/1-(14Z,17Z,20Z,23Z,26Z-dotriacontapentaenoyl)-2-(21Z,24Z,27Z,30Z,33Z-hexatriacontapentaenoyl)-sn-glycero-3-phospho-N-hexadecanoyl-ethanolamine/1-(14Z,17Z,20Z,23Z,26Z-dotriacontapentaenoyl)-2-(23Z,26Z,29Z,32Z,35Z-octatriacontapentaenoyl)-sn-glycero-3-phospho-N-tetradecanoyl-ethanolamine_0",
         "scene": "scene",
         "showlegend": false,
         "type": "scatter3d",
         "x": [
          1412.1372235332294,
          1412.1372235332294,
          1413.1405783710293,
          1413.1405783710293
         ],
         "y": [
          10.161999702453613,
          10.87600040435791,
          10.161999702453613,
          10.87600040435791
         ],
         "z": [
          281.0883483886719,
          720.2545776367188,
          281.3266906738281,
          0
         ]
        },
        {
         "hovertemplate": "labels=1-(14Z,17Z,20Z,23Z,26Z-dotriacontapentaenoyl)-2-(19Z,22Z,25Z,28Z-tetratriacontatetraenoyl)-sn-glycero-3-phospho-N-octadecanoyl-ethanolamine/1-(14Z,17Z,20Z,23Z,26Z-dotriacontapentaenoyl)-2-(21Z,24Z,27Z,30Z-hexatriacontatetraenoyl)-sn-glycero-3-phospho-N-hexadecanoyl-ethanolamine/1-(14Z,17Z,20Z,23Z,26Z-dotriacontapentaenoyl)-2-(23Z,26Z,29Z,32Z-octatriacontatetraenoyl)-sn-glycero-3-phospho-N-tetradecanoyl-ethanolamine_0<br>m/z=%{x}<br>rt=%{y}<br>intensity=%{z}<extra></extra>",
         "legendgroup": "1-(14Z,17Z,20Z,23Z,26Z-dotriacontapentaenoyl)-2-(19Z,22Z,25Z,28Z-tetratriacontatetraenoyl)-sn-glycero-3-phospho-N-octadecanoyl-ethanolamine/1-(14Z,17Z,20Z,23Z,26Z-dotriacontapentaenoyl)-2-(21Z,24Z,27Z,30Z-hexatriacontatetraenoyl)-sn-glycero-3-phospho-N-hexadecanoyl-ethanolamine/1-(14Z,17Z,20Z,23Z,26Z-dotriacontapentaenoyl)-2-(23Z,26Z,29Z,32Z-octatriacontatetraenoyl)-sn-glycero-3-phospho-N-tetradecanoyl-ethanolamine_0",
         "line": {
          "color": "#FF6692",
          "dash": "solid"
         },
         "marker": {
          "symbol": "circle"
         },
         "mode": "lines",
         "name": "1-(14Z,17Z,20Z,23Z,26Z-dotriacontapentaenoyl)-2-(19Z,22Z,25Z,28Z-tetratriacontatetraenoyl)-sn-glycero-3-phospho-N-octadecanoyl-ethanolamine/1-(14Z,17Z,20Z,23Z,26Z-dotriacontapentaenoyl)-2-(21Z,24Z,27Z,30Z-hexatriacontatetraenoyl)-sn-glycero-3-phospho-N-hexadecanoyl-ethanolamine/1-(14Z,17Z,20Z,23Z,26Z-dotriacontapentaenoyl)-2-(23Z,26Z,29Z,32Z-octatriacontatetraenoyl)-sn-glycero-3-phospho-N-tetradecanoyl-ethanolamine_0",
         "scene": "scene",
         "showlegend": false,
         "type": "scatter3d",
         "x": [
          1414.152873533229,
          1414.152873533229,
          1415.156228371029,
          1415.156228371029
         ],
         "y": [
          5.160999774932861,
          5.875,
          5.160999774932861,
          5.875
         ],
         "z": [
          0,
          43.995765686035156,
          272.3798828125,
          66.57122039794922
         ]
        },
        {
         "hovertemplate": "labels=1-(14Z,17Z,20Z,23Z,26Z-dotriacontapentaenoyl)-2-(21Z,24Z,27Z,30Z,33Z-hexatriacontapentaenoyl)-sn-glycero-3-phospho-N-(4Z,7Z,10Z,13Z,16Z,19Z-docosahexaenoyl)-ethanolamine_0<br>m/z=%{x}<br>rt=%{y}<br>intensity=%{z}<extra></extra>",
         "legendgroup": "1-(14Z,17Z,20Z,23Z,26Z-dotriacontapentaenoyl)-2-(21Z,24Z,27Z,30Z,33Z-hexatriacontapentaenoyl)-sn-glycero-3-phospho-N-(4Z,7Z,10Z,13Z,16Z,19Z-docosahexaenoyl)-ethanolamine_0",
         "line": {
          "color": "#B6E880",
          "dash": "solid"
         },
         "marker": {
          "symbol": "circle"
         },
         "mode": "lines",
         "name": "1-(14Z,17Z,20Z,23Z,26Z-dotriacontapentaenoyl)-2-(21Z,24Z,27Z,30Z,33Z-hexatriacontapentaenoyl)-sn-glycero-3-phospho-N-(4Z,7Z,10Z,13Z,16Z,19Z-docosahexaenoyl)-ethanolamine_0",
         "scene": "scene",
         "showlegend": false,
         "type": "scatter3d",
         "x": [
          1484.1372235332294,
          1484.1372235332294,
          1484.1372235332294,
          1485.1405783710293,
          1485.1405783710293,
          1485.1405783710293
         ],
         "y": [
          11.590999603271484,
          12.305000305175781,
          13.019000053405762,
          11.590999603271484,
          12.305000305175781,
          13.019000053405762
         ],
         "z": [
          1642.2154541015625,
          1084.20361328125,
          0,
          0,
          2076.969970703125,
          0
         ]
        },
        {
         "hovertemplate": "labels=1-(14Z,17Z,20Z,23Z,26Z-dotriacontapentaenoyl)-2-(21Z,24Z,27Z,30Z,33Z-hexatriacontapentaenoyl)-sn-glycero-3-phospho-N-(5Z,8Z,11Z,14Z-eicosatetraenoyl)-ethanolamine_0<br>m/z=%{x}<br>rt=%{y}<br>intensity=%{z}<extra></extra>",
         "legendgroup": "1-(14Z,17Z,20Z,23Z,26Z-dotriacontapentaenoyl)-2-(21Z,24Z,27Z,30Z,33Z-hexatriacontapentaenoyl)-sn-glycero-3-phospho-N-(5Z,8Z,11Z,14Z-eicosatetraenoyl)-ethanolamine_0",
         "line": {
          "color": "#FF97FF",
          "dash": "solid"
         },
         "marker": {
          "symbol": "circle"
         },
         "mode": "lines",
         "name": "1-(14Z,17Z,20Z,23Z,26Z-dotriacontapentaenoyl)-2-(21Z,24Z,27Z,30Z,33Z-hexatriacontapentaenoyl)-sn-glycero-3-phospho-N-(5Z,8Z,11Z,14Z-eicosatetraenoyl)-ethanolamine_0",
         "scene": "scene",
         "showlegend": false,
         "type": "scatter3d",
         "x": [
          1460.1372235332294,
          1460.1372235332294,
          1460.1372235332294,
          1460.1372235332294,
          1461.1405783710293,
          1461.1405783710293,
          1461.1405783710293,
          1461.1405783710293
         ],
         "y": [
          7.303999900817871,
          8.017999649047852,
          8.732999801635742,
          9.446999549865723,
          7.303999900817871,
          8.017999649047852,
          8.732999801635742,
          9.446999549865723
         ],
         "z": [
          0,
          0,
          123.0722427368164,
          0,
          141.00619506835938,
          0,
          838.5300903320312,
          597.08349609375
         ]
        },
        {
         "hovertemplate": "labels=1-(14Z,17Z,20Z,23Z,26Z-dotriacontapentaenoyl)-2-(21Z,24Z,27Z,30Z,33Z-hexatriacontapentaenoyl)-sn-glycero-3-phospho-N-octadecanoyl-ethanolamine/1-(14Z,17Z,20Z,23Z,26Z-dotriacontapentaenoyl)-2-(21Z,24Z,27Z,30Z-hexatriacontatetraenoyl)-sn-glycero-3-phospho-N-(11Z-octadecenoyl)-ethanolamine/1-(14Z,17Z,20Z,23Z,26Z-dotriacontapentaenoyl)-2-(21Z,24Z,27Z,30Z-hexatriacontatetraenoyl)-sn-glycero-3-phospho-N-(9Z-octadecenoyl)-ethanolamine/1-(14Z,17Z,20Z,23Z,26Z-dotriacontapentaenoyl)-2-(23Z,26Z,29Z,32Z,35Z-octatriacontapentaenoyl)-sn-glycero-3-phospho-N-hexadecanoyl-ethanolamine_0<br>m/z=%{x}<br>rt=%{y}<br>intensity=%{z}<extra></extra>",
         "legendgroup": "1-(14Z,17Z,20Z,23Z,26Z-dotriacontapentaenoyl)-2-(21Z,24Z,27Z,30Z,33Z-hexatriacontapentaenoyl)-sn-glycero-3-phospho-N-octadecanoyl-ethanolamine/1-(14Z,17Z,20Z,23Z,26Z-dotriacontapentaenoyl)-2-(21Z,24Z,27Z,30Z-hexatriacontatetraenoyl)-sn-glycero-3-phospho-N-(11Z-octadecenoyl)-ethanolamine/1-(14Z,17Z,20Z,23Z,26Z-dotriacontapentaenoyl)-2-(21Z,24Z,27Z,30Z-hexatriacontatetraenoyl)-sn-glycero-3-phospho-N-(9Z-octadecenoyl)-ethanolamine/1-(14Z,17Z,20Z,23Z,26Z-dotriacontapentaenoyl)-2-(23Z,26Z,29Z,32Z,35Z-octatriacontapentaenoyl)-sn-glycero-3-phospho-N-hexadecanoyl-ethanolamine_0",
         "line": {
          "color": "#FECB52",
          "dash": "solid"
         },
         "marker": {
          "symbol": "circle"
         },
         "mode": "lines",
         "name": "1-(14Z,17Z,20Z,23Z,26Z-dotriacontapentaenoyl)-2-(21Z,24Z,27Z,30Z,33Z-hexatriacontapentaenoyl)-sn-glycero-3-phospho-N-octadecanoyl-ethanolamine/1-(14Z,17Z,20Z,23Z,26Z-dotriacontapentaenoyl)-2-(21Z,24Z,27Z,30Z-hexatriacontatetraenoyl)-sn-glycero-3-phospho-N-(11Z-octadecenoyl)-ethanolamine/1-(14Z,17Z,20Z,23Z,26Z-dotriacontapentaenoyl)-2-(21Z,24Z,27Z,30Z-hexatriacontatetraenoyl)-sn-glycero-3-phospho-N-(9Z-octadecenoyl)-ethanolamine/1-(14Z,17Z,20Z,23Z,26Z-dotriacontapentaenoyl)-2-(23Z,26Z,29Z,32Z,35Z-octatriacontapentaenoyl)-sn-glycero-3-phospho-N-hexadecanoyl-ethanolamine_0",
         "scene": "scene",
         "showlegend": false,
         "type": "scatter3d",
         "x": [
          1440.168523533229,
          1440.168523533229,
          1440.168523533229,
          1440.168523533229,
          1441.1718783710292,
          1441.1718783710292,
          1441.1718783710292,
          1441.1718783710292
         ],
         "y": [
          8.732999801635742,
          9.446999549865723,
          10.161999702453613,
          10.87600040435791,
          8.732999801635742,
          9.446999549865723,
          10.161999702453613,
          10.87600040435791
         ],
         "z": [
          0,
          442.84930419921875,
          0,
          590.5928344726562,
          296.27423095703125,
          1014.3349609375,
          210.6287078857422,
          0
         ]
        },
        {
         "hovertemplate": "labels=1-(14Z,17Z,20Z,23Z,26Z-dotriacontapentaenoyl)-2-(21Z,24Z,27Z,30Z-hexatriacontatetraenoyl)-sn-glycero-3-phospho-N-(4Z,7Z,10Z,13Z,16Z,19Z-docosahexaenoyl)-ethanolamine_0<br>m/z=%{x}<br>rt=%{y}<br>intensity=%{z}<extra></extra>",
         "legendgroup": "1-(14Z,17Z,20Z,23Z,26Z-dotriacontapentaenoyl)-2-(21Z,24Z,27Z,30Z-hexatriacontatetraenoyl)-sn-glycero-3-phospho-N-(4Z,7Z,10Z,13Z,16Z,19Z-docosahexaenoyl)-ethanolamine_0",
         "line": {
          "color": "#636efa",
          "dash": "solid"
         },
         "marker": {
          "symbol": "circle"
         },
         "mode": "lines",
         "name": "1-(14Z,17Z,20Z,23Z,26Z-dotriacontapentaenoyl)-2-(21Z,24Z,27Z,30Z-hexatriacontatetraenoyl)-sn-glycero-3-phospho-N-(4Z,7Z,10Z,13Z,16Z,19Z-docosahexaenoyl)-ethanolamine_0",
         "scene": "scene",
         "showlegend": false,
         "type": "scatter3d",
         "x": [
          1486.152873533229,
          1486.152873533229,
          1487.156228371029,
          1487.156228371029
         ],
         "y": [
          10.161999702453613,
          10.87600040435791,
          10.161999702453613,
          10.87600040435791
         ],
         "z": [
          0,
          680.3104248046875,
          0,
          504.7826843261719
         ]
        },
        {
         "hovertemplate": "labels=1-(14Z,17Z,20Z,23Z,26Z-dotriacontapentaenoyl)-2-(21Z,24Z,27Z,30Z-hexatriacontatetraenoyl)-sn-glycero-3-phospho-N-(5Z,8Z,11Z,14Z-eicosatetraenoyl)-ethanolamine/1-(14Z,17Z,20Z,23Z,26Z-dotriacontapentaenoyl)-2-(23Z,26Z,29Z,32Z,35Z-octatriacontapentaenoyl)-sn-glycero-3-phospho-N-(6Z,9Z,12Z-octadecatrienoyl)-ethanolamine/1-(14Z,17Z,20Z,23Z,26Z-dotriacontapentaenoyl)-2-(23Z,26Z,29Z,32Z,35Z-octatriacontapentaenoyl)-sn-glycero-3-phospho-N-(9Z,12Z,15Z-octadecatrienoyl)-ethanolamine_0<br>m/z=%{x}<br>rt=%{y}<br>intensity=%{z}<extra></extra>",
         "legendgroup": "1-(14Z,17Z,20Z,23Z,26Z-dotriacontapentaenoyl)-2-(21Z,24Z,27Z,30Z-hexatriacontatetraenoyl)-sn-glycero-3-phospho-N-(5Z,8Z,11Z,14Z-eicosatetraenoyl)-ethanolamine/1-(14Z,17Z,20Z,23Z,26Z-dotriacontapentaenoyl)-2-(23Z,26Z,29Z,32Z,35Z-octatriacontapentaenoyl)-sn-glycero-3-phospho-N-(6Z,9Z,12Z-octadecatrienoyl)-ethanolamine/1-(14Z,17Z,20Z,23Z,26Z-dotriacontapentaenoyl)-2-(23Z,26Z,29Z,32Z,35Z-octatriacontapentaenoyl)-sn-glycero-3-phospho-N-(9Z,12Z,15Z-octadecatrienoyl)-ethanolamine_0",
         "line": {
          "color": "#EF553B",
          "dash": "solid"
         },
         "marker": {
          "symbol": "circle"
         },
         "mode": "lines",
         "name": "1-(14Z,17Z,20Z,23Z,26Z-dotriacontapentaenoyl)-2-(21Z,24Z,27Z,30Z-hexatriacontatetraenoyl)-sn-glycero-3-phospho-N-(5Z,8Z,11Z,14Z-eicosatetraenoyl)-ethanolamine/1-(14Z,17Z,20Z,23Z,26Z-dotriacontapentaenoyl)-2-(23Z,26Z,29Z,32Z,35Z-octatriacontapentaenoyl)-sn-glycero-3-phospho-N-(6Z,9Z,12Z-octadecatrienoyl)-ethanolamine/1-(14Z,17Z,20Z,23Z,26Z-dotriacontapentaenoyl)-2-(23Z,26Z,29Z,32Z,35Z-octatriacontapentaenoyl)-sn-glycero-3-phospho-N-(9Z,12Z,15Z-octadecatrienoyl)-ethanolamine_0",
         "scene": "scene",
         "showlegend": false,
         "type": "scatter3d",
         "x": [
          1462.152873533229,
          1462.152873533229,
          1462.152873533229,
          1462.152873533229,
          1462.152873533229,
          1463.156228371029,
          1463.156228371029,
          1463.156228371029,
          1463.156228371029,
          1463.156228371029
         ],
         "y": [
          10.161999702453613,
          10.87600040435791,
          11.590999603271484,
          12.305000305175781,
          13.019000053405762,
          10.161999702453613,
          10.87600040435791,
          11.590999603271484,
          12.305000305175781,
          13.019000053405762
         ],
         "z": [
          0,
          747.6904296875,
          614.7633056640625,
          561.0333862304688,
          0,
          0,
          0,
          0,
          0,
          0
         ]
        },
        {
         "hovertemplate": "labels=1-(14Z,17Z,20Z,23Z,26Z-dotriacontapentaenoyl)-2-(21Z,24Z,27Z,30Z-hexatriacontatetraenoyl)-sn-glycero-3-phospho-N-octadecanoyl-ethanolamine/1-(14Z,17Z,20Z,23Z,26Z-dotriacontapentaenoyl)-2-(23Z,26Z,29Z,32Z-octatriacontatetraenoyl)-sn-glycero-3-phospho-N-hexadecanoyl-ethanolamine_0<br>m/z=%{x}<br>rt=%{y}<br>intensity=%{z}<extra></extra>",
         "legendgroup": "1-(14Z,17Z,20Z,23Z,26Z-dotriacontapentaenoyl)-2-(21Z,24Z,27Z,30Z-hexatriacontatetraenoyl)-sn-glycero-3-phospho-N-octadecanoyl-ethanolamine/1-(14Z,17Z,20Z,23Z,26Z-dotriacontapentaenoyl)-2-(23Z,26Z,29Z,32Z-octatriacontatetraenoyl)-sn-glycero-3-phospho-N-hexadecanoyl-ethanolamine_0",
         "line": {
          "color": "#00cc96",
          "dash": "solid"
         },
         "marker": {
          "symbol": "circle"
         },
         "mode": "lines",
         "name": "1-(14Z,17Z,20Z,23Z,26Z-dotriacontapentaenoyl)-2-(21Z,24Z,27Z,30Z-hexatriacontatetraenoyl)-sn-glycero-3-phospho-N-octadecanoyl-ethanolamine/1-(14Z,17Z,20Z,23Z,26Z-dotriacontapentaenoyl)-2-(23Z,26Z,29Z,32Z-octatriacontatetraenoyl)-sn-glycero-3-phospho-N-hexadecanoyl-ethanolamine_0",
         "scene": "scene",
         "showlegend": false,
         "type": "scatter3d",
         "x": [
          1442.184173533229,
          1442.184173533229,
          1443.1875283710292,
          1443.1875283710292
         ],
         "y": [
          5.160999774932861,
          5.875,
          5.160999774932861,
          5.875
         ],
         "z": [
          353.07476806640625,
          0,
          649.7906494140625,
          107.13291931152344
         ]
        },
        {
         "hovertemplate": "labels=1-(14Z,17Z,20Z,23Z,26Z-dotriacontapentaenoyl)-2-(23Z,26Z,29Z,32Z,35Z-octatriacontapentaenoyl)-sn-glycero-3-phospho-N-(11Z-octadecenoyl)-ethanolamine/1-(14Z,17Z,20Z,23Z,26Z-dotriacontapentaenoyl)-2-(23Z,26Z,29Z,32Z,35Z-octatriacontapentaenoyl)-sn-glycero-3-phospho-N-(9Z-octadecenoyl)-ethanolamine/1-(14Z,17Z,20Z,23Z,26Z-dotriacontapentaenoyl)-2-(23Z,26Z,29Z,32Z-octatriacontatetraenoyl)-sn-glycero-3-phospho-N-(9Z,12Z-octadecadienoyl)-ethanolamine_0<br>m/z=%{x}<br>rt=%{y}<br>intensity=%{z}<extra></extra>",
         "legendgroup": "1-(14Z,17Z,20Z,23Z,26Z-dotriacontapentaenoyl)-2-(23Z,26Z,29Z,32Z,35Z-octatriacontapentaenoyl)-sn-glycero-3-phospho-N-(11Z-octadecenoyl)-ethanolamine/1-(14Z,17Z,20Z,23Z,26Z-dotriacontapentaenoyl)-2-(23Z,26Z,29Z,32Z,35Z-octatriacontapentaenoyl)-sn-glycero-3-phospho-N-(9Z-octadecenoyl)-ethanolamine/1-(14Z,17Z,20Z,23Z,26Z-dotriacontapentaenoyl)-2-(23Z,26Z,29Z,32Z-octatriacontatetraenoyl)-sn-glycero-3-phospho-N-(9Z,12Z-octadecadienoyl)-ethanolamine_0",
         "line": {
          "color": "#ab63fa",
          "dash": "solid"
         },
         "marker": {
          "symbol": "circle"
         },
         "mode": "lines",
         "name": "1-(14Z,17Z,20Z,23Z,26Z-dotriacontapentaenoyl)-2-(23Z,26Z,29Z,32Z,35Z-octatriacontapentaenoyl)-sn-glycero-3-phospho-N-(11Z-octadecenoyl)-ethanolamine/1-(14Z,17Z,20Z,23Z,26Z-dotriacontapentaenoyl)-2-(23Z,26Z,29Z,32Z,35Z-octatriacontapentaenoyl)-sn-glycero-3-phospho-N-(9Z-octadecenoyl)-ethanolamine/1-(14Z,17Z,20Z,23Z,26Z-dotriacontapentaenoyl)-2-(23Z,26Z,29Z,32Z-octatriacontatetraenoyl)-sn-glycero-3-phospho-N-(9Z,12Z-octadecadienoyl)-ethanolamine_0",
         "scene": "scene",
         "showlegend": false,
         "type": "scatter3d",
         "x": [
          1466.184173533229,
          1466.184173533229,
          1467.1875283710292,
          1467.1875283710292
         ],
         "y": [
          10.161999702453613,
          10.87600040435791,
          10.161999702453613,
          10.87600040435791
         ],
         "z": [
          0,
          1082.6502685546875,
          0,
          226.14768981933594
         ]
        },
        {
         "hovertemplate": "labels=1-(14Z,17Z,20Z,23Z,26Z-dotriacontapentaenoyl)-2-(23Z,26Z,29Z,32Z,35Z-octatriacontapentaenoyl)-sn-glycero-3-phospho-N-(4Z,7Z,10Z,13Z,16Z,19Z-docosahexaenoyl)-ethanolamine_0<br>m/z=%{x}<br>rt=%{y}<br>intensity=%{z}<extra></extra>",
         "legendgroup": "1-(14Z,17Z,20Z,23Z,26Z-dotriacontapentaenoyl)-2-(23Z,26Z,29Z,32Z,35Z-octatriacontapentaenoyl)-sn-glycero-3-phospho-N-(4Z,7Z,10Z,13Z,16Z,19Z-docosahexaenoyl)-ethanolamine_0",
         "line": {
          "color": "#FFA15A",
          "dash": "solid"
         },
         "marker": {
          "symbol": "circle"
         },
         "mode": "lines",
         "name": "1-(14Z,17Z,20Z,23Z,26Z-dotriacontapentaenoyl)-2-(23Z,26Z,29Z,32Z,35Z-octatriacontapentaenoyl)-sn-glycero-3-phospho-N-(4Z,7Z,10Z,13Z,16Z,19Z-docosahexaenoyl)-ethanolamine_0",
         "scene": "scene",
         "showlegend": false,
         "type": "scatter3d",
         "x": [
          1512.168523533229,
          1512.168523533229,
          1512.168523533229,
          1513.1718783710292,
          1513.1718783710292,
          1513.1718783710292
         ],
         "y": [
          11.590999603271484,
          12.305000305175781,
          13.019000053405762,
          11.590999603271484,
          12.305000305175781,
          13.019000053405762
         ],
         "z": [
          0,
          583.2167358398438,
          0,
          0,
          0,
          0
         ]
        },
        {
         "hovertemplate": "labels=1-(14Z,17Z,20Z,23Z,26Z-dotriacontapentaenoyl)-2-(23Z,26Z,29Z,32Z,35Z-octatriacontapentaenoyl)-sn-glycero-3-phospho-N-(5Z,8Z,11Z,14Z-eicosatetraenoyl)-ethanolamine_0<br>m/z=%{x}<br>rt=%{y}<br>intensity=%{z}<extra></extra>",
         "legendgroup": "1-(14Z,17Z,20Z,23Z,26Z-dotriacontapentaenoyl)-2-(23Z,26Z,29Z,32Z,35Z-octatriacontapentaenoyl)-sn-glycero-3-phospho-N-(5Z,8Z,11Z,14Z-eicosatetraenoyl)-ethanolamine_0",
         "line": {
          "color": "#19d3f3",
          "dash": "solid"
         },
         "marker": {
          "symbol": "circle"
         },
         "mode": "lines",
         "name": "1-(14Z,17Z,20Z,23Z,26Z-dotriacontapentaenoyl)-2-(23Z,26Z,29Z,32Z,35Z-octatriacontapentaenoyl)-sn-glycero-3-phospho-N-(5Z,8Z,11Z,14Z-eicosatetraenoyl)-ethanolamine_0",
         "scene": "scene",
         "showlegend": false,
         "type": "scatter3d",
         "x": [
          1488.168523533229,
          1488.168523533229,
          1488.168523533229,
          1489.1718783710292,
          1489.1718783710292,
          1489.1718783710292
         ],
         "y": [
          7.303999900817871,
          8.017999649047852,
          8.732999801635742,
          7.303999900817871,
          8.017999649047852,
          8.732999801635742
         ],
         "z": [
          0,
          0,
          169.91131591796875,
          0,
          881.8134155273438,
          0
         ]
        },
        {
         "hovertemplate": "labels=1-(14Z,17Z,20Z,23Z,26Z-dotriacontapentaenoyl)-2-(23Z,26Z,29Z,32Z,35Z-octatriacontapentaenoyl)-sn-glycero-3-phospho-N-(9Z,12Z-octadecadienoyl)-ethanolamine/1-(14Z,17Z,20Z,23Z,26Z-dotriacontapentaenoyl)-2-(23Z,26Z,29Z,32Z-octatriacontatetraenoyl)-sn-glycero-3-phospho-N-(6Z,9Z,12Z-octadecatrienoyl)-ethanolamine/1-(14Z,17Z,20Z,23Z,26Z-dotriacontapentaenoyl)-2-(23Z,26Z,29Z,32Z-octatriacontatetraenoyl)-sn-glycero-3-phospho-N-(9Z,12Z,15Z-octadecatrienoyl)-ethanolamine_0<br>m/z=%{x}<br>rt=%{y}<br>intensity=%{z}<extra></extra>",
         "legendgroup": "1-(14Z,17Z,20Z,23Z,26Z-dotriacontapentaenoyl)-2-(23Z,26Z,29Z,32Z,35Z-octatriacontapentaenoyl)-sn-glycero-3-phospho-N-(9Z,12Z-octadecadienoyl)-ethanolamine/1-(14Z,17Z,20Z,23Z,26Z-dotriacontapentaenoyl)-2-(23Z,26Z,29Z,32Z-octatriacontatetraenoyl)-sn-glycero-3-phospho-N-(6Z,9Z,12Z-octadecatrienoyl)-ethanolamine/1-(14Z,17Z,20Z,23Z,26Z-dotriacontapentaenoyl)-2-(23Z,26Z,29Z,32Z-octatriacontatetraenoyl)-sn-glycero-3-phospho-N-(9Z,12Z,15Z-octadecatrienoyl)-ethanolamine_0",
         "line": {
          "color": "#FF6692",
          "dash": "solid"
         },
         "marker": {
          "symbol": "circle"
         },
         "mode": "lines",
         "name": "1-(14Z,17Z,20Z,23Z,26Z-dotriacontapentaenoyl)-2-(23Z,26Z,29Z,32Z,35Z-octatriacontapentaenoyl)-sn-glycero-3-phospho-N-(9Z,12Z-octadecadienoyl)-ethanolamine/1-(14Z,17Z,20Z,23Z,26Z-dotriacontapentaenoyl)-2-(23Z,26Z,29Z,32Z-octatriacontatetraenoyl)-sn-glycero-3-phospho-N-(6Z,9Z,12Z-octadecatrienoyl)-ethanolamine/1-(14Z,17Z,20Z,23Z,26Z-dotriacontapentaenoyl)-2-(23Z,26Z,29Z,32Z-octatriacontatetraenoyl)-sn-glycero-3-phospho-N-(9Z,12Z,15Z-octadecatrienoyl)-ethanolamine_0",
         "scene": "scene",
         "showlegend": false,
         "type": "scatter3d",
         "x": [
          1464.168523533229,
          1464.168523533229,
          1464.168523533229,
          1465.1718783710292,
          1465.1718783710292,
          1465.1718783710292
         ],
         "y": [
          11.590999603271484,
          12.305000305175781,
          13.019000053405762,
          11.590999603271484,
          12.305000305175781,
          13.019000053405762
         ],
         "z": [
          0,
          730.4865112304688,
          396.69219970703125,
          534.262451171875,
          0,
          0
         ]
        },
        {
         "hovertemplate": "labels=1-(14Z,17Z,20Z,23Z,26Z-dotriacontapentaenoyl)-2-(23Z,26Z,29Z,32Z,35Z-octatriacontapentaenoyl)-sn-glycero-3-phospho-N-octadecanoyl-ethanolamine/1-(14Z,17Z,20Z,23Z,26Z-dotriacontapentaenoyl)-2-(23Z,26Z,29Z,32Z-octatriacontatetraenoyl)-sn-glycero-3-phospho-N-(11Z-octadecenoyl)-ethanolamine/1-(14Z,17Z,20Z,23Z,26Z-dotriacontapentaenoyl)-2-(23Z,26Z,29Z,32Z-octatriacontatetraenoyl)-sn-glycero-3-phospho-N-(9Z-octadecenoyl)-ethanolamine_0<br>m/z=%{x}<br>rt=%{y}<br>intensity=%{z}<extra></extra>",
         "legendgroup": "1-(14Z,17Z,20Z,23Z,26Z-dotriacontapentaenoyl)-2-(23Z,26Z,29Z,32Z,35Z-octatriacontapentaenoyl)-sn-glycero-3-phospho-N-octadecanoyl-ethanolamine/1-(14Z,17Z,20Z,23Z,26Z-dotriacontapentaenoyl)-2-(23Z,26Z,29Z,32Z-octatriacontatetraenoyl)-sn-glycero-3-phospho-N-(11Z-octadecenoyl)-ethanolamine/1-(14Z,17Z,20Z,23Z,26Z-dotriacontapentaenoyl)-2-(23Z,26Z,29Z,32Z-octatriacontatetraenoyl)-sn-glycero-3-phospho-N-(9Z-octadecenoyl)-ethanolamine_0",
         "line": {
          "color": "#B6E880",
          "dash": "solid"
         },
         "marker": {
          "symbol": "circle"
         },
         "mode": "lines",
         "name": "1-(14Z,17Z,20Z,23Z,26Z-dotriacontapentaenoyl)-2-(23Z,26Z,29Z,32Z,35Z-octatriacontapentaenoyl)-sn-glycero-3-phospho-N-octadecanoyl-ethanolamine/1-(14Z,17Z,20Z,23Z,26Z-dotriacontapentaenoyl)-2-(23Z,26Z,29Z,32Z-octatriacontatetraenoyl)-sn-glycero-3-phospho-N-(11Z-octadecenoyl)-ethanolamine/1-(14Z,17Z,20Z,23Z,26Z-dotriacontapentaenoyl)-2-(23Z,26Z,29Z,32Z-octatriacontatetraenoyl)-sn-glycero-3-phospho-N-(9Z-octadecenoyl)-ethanolamine_0",
         "scene": "scene",
         "showlegend": false,
         "type": "scatter3d",
         "x": [
          1468.1998235332292,
          1468.1998235332292,
          1468.1998235332292,
          1469.2031783710293,
          1469.2031783710293,
          1469.2031783710293
         ],
         "y": [
          8.017999649047852,
          8.732999801635742,
          9.446999549865723,
          8.017999649047852,
          8.732999801635742,
          9.446999549865723
         ],
         "z": [
          0,
          48.78801345825195,
          0,
          0,
          292.9564208984375,
          720.9486083984375
         ]
        },
        {
         "hovertemplate": "labels=1-(14Z,17Z,20Z,23Z,26Z-dotriacontapentaenoyl)-2-(23Z,26Z,29Z,32Z-octatriacontatetraenoyl)-sn-glycero-3-phospho-N-(4Z,7Z,10Z,13Z,16Z,19Z-docosahexaenoyl)-ethanolamine_0<br>m/z=%{x}<br>rt=%{y}<br>intensity=%{z}<extra></extra>",
         "legendgroup": "1-(14Z,17Z,20Z,23Z,26Z-dotriacontapentaenoyl)-2-(23Z,26Z,29Z,32Z-octatriacontatetraenoyl)-sn-glycero-3-phospho-N-(4Z,7Z,10Z,13Z,16Z,19Z-docosahexaenoyl)-ethanolamine_0",
         "line": {
          "color": "#FF97FF",
          "dash": "solid"
         },
         "marker": {
          "symbol": "circle"
         },
         "mode": "lines",
         "name": "1-(14Z,17Z,20Z,23Z,26Z-dotriacontapentaenoyl)-2-(23Z,26Z,29Z,32Z-octatriacontatetraenoyl)-sn-glycero-3-phospho-N-(4Z,7Z,10Z,13Z,16Z,19Z-docosahexaenoyl)-ethanolamine_0",
         "scene": "scene",
         "showlegend": false,
         "type": "scatter3d",
         "x": [
          1514.184173533229,
          1514.184173533229,
          1514.184173533229,
          1515.1875283710292,
          1515.1875283710292,
          1515.1875283710292
         ],
         "y": [
          11.590999603271484,
          12.305000305175781,
          13.019000053405762,
          11.590999603271484,
          12.305000305175781,
          13.019000053405762
         ],
         "z": [
          0,
          1361.28466796875,
          854.1386108398438,
          0,
          0,
          923.881591796875
         ]
        },
        {
         "hovertemplate": "labels=1-(14Z,17Z,20Z,23Z,26Z-dotriacontapentaenoyl)-2-(23Z,26Z,29Z,32Z-octatriacontatetraenoyl)-sn-glycero-3-phospho-N-(5Z,8Z,11Z,14Z-eicosatetraenoyl)-ethanolamine_0<br>m/z=%{x}<br>rt=%{y}<br>intensity=%{z}<extra></extra>",
         "legendgroup": "1-(14Z,17Z,20Z,23Z,26Z-dotriacontapentaenoyl)-2-(23Z,26Z,29Z,32Z-octatriacontatetraenoyl)-sn-glycero-3-phospho-N-(5Z,8Z,11Z,14Z-eicosatetraenoyl)-ethanolamine_0",
         "line": {
          "color": "#FECB52",
          "dash": "solid"
         },
         "marker": {
          "symbol": "circle"
         },
         "mode": "lines",
         "name": "1-(14Z,17Z,20Z,23Z,26Z-dotriacontapentaenoyl)-2-(23Z,26Z,29Z,32Z-octatriacontatetraenoyl)-sn-glycero-3-phospho-N-(5Z,8Z,11Z,14Z-eicosatetraenoyl)-ethanolamine_0",
         "scene": "scene",
         "showlegend": false,
         "type": "scatter3d",
         "x": [
          1490.184173533229,
          1490.184173533229,
          1490.184173533229,
          1491.1875283710292,
          1491.1875283710292,
          1491.1875283710292
         ],
         "y": [
          8.017999649047852,
          8.732999801635742,
          9.446999549865723,
          8.017999649047852,
          8.732999801635742,
          9.446999549865723
         ],
         "z": [
          68.15762329101562,
          38.02757263183594,
          700.873046875,
          107.7293472290039,
          264.8171691894531,
          112.16214752197266
         ]
        },
        {
         "hovertemplate": "labels=1-(14Z,17Z,20Z,23Z,26Z-dotriacontapentaenoyl)-2-(23Z,26Z,29Z,32Z-octatriacontatetraenoyl)-sn-glycero-3-phospho-N-octadecanoyl-ethanolamine_0<br>m/z=%{x}<br>rt=%{y}<br>intensity=%{z}<extra></extra>",
         "legendgroup": "1-(14Z,17Z,20Z,23Z,26Z-dotriacontapentaenoyl)-2-(23Z,26Z,29Z,32Z-octatriacontatetraenoyl)-sn-glycero-3-phospho-N-octadecanoyl-ethanolamine_0",
         "line": {
          "color": "#636efa",
          "dash": "solid"
         },
         "marker": {
          "symbol": "circle"
         },
         "mode": "lines",
         "name": "1-(14Z,17Z,20Z,23Z,26Z-dotriacontapentaenoyl)-2-(23Z,26Z,29Z,32Z-octatriacontatetraenoyl)-sn-glycero-3-phospho-N-octadecanoyl-ethanolamine_0",
         "scene": "scene",
         "showlegend": false,
         "type": "scatter3d",
         "x": [
          1470.215473533229,
          1470.215473533229,
          1470.215473533229,
          1470.215473533229,
          1471.218828371029,
          1471.218828371029,
          1471.218828371029,
          1471.218828371029
         ],
         "y": [
          11.590999603271484,
          12.305000305175781,
          13.019000053405762,
          13.734000205993652,
          11.590999603271484,
          12.305000305175781,
          13.019000053405762,
          13.734000205993652
         ],
         "z": [
          0,
          959.5228271484375,
          922.363525390625,
          0,
          599.2879638671875,
          0,
          762.0776977539062,
          1178.064453125
         ]
        },
        {
         "hovertemplate": "labels=1-(14Z,17Z,20Z,23Z,26Z-dotriacontapentaenoyl)-2-(4Z,7Z,10Z,13Z,16Z,19Z-docosahexaenoyl)-sn-glycero-3-phospho-N-(4Z,7Z,10Z,13Z,16Z,19Z-docosahexaenoyl)-ethanolamine_0<br>m/z=%{x}<br>rt=%{y}<br>intensity=%{z}<extra></extra>",
         "legendgroup": "1-(14Z,17Z,20Z,23Z,26Z-dotriacontapentaenoyl)-2-(4Z,7Z,10Z,13Z,16Z,19Z-docosahexaenoyl)-sn-glycero-3-phospho-N-(4Z,7Z,10Z,13Z,16Z,19Z-docosahexaenoyl)-ethanolamine_0",
         "line": {
          "color": "#EF553B",
          "dash": "solid"
         },
         "marker": {
          "symbol": "circle"
         },
         "mode": "lines",
         "name": "1-(14Z,17Z,20Z,23Z,26Z-dotriacontapentaenoyl)-2-(4Z,7Z,10Z,13Z,16Z,19Z-docosahexaenoyl)-sn-glycero-3-phospho-N-(4Z,7Z,10Z,13Z,16Z,19Z-docosahexaenoyl)-ethanolamine_0",
         "scene": "scene",
         "showlegend": false,
         "type": "scatter3d",
         "x": [
          1285.9024635332291,
          1285.9024635332291,
          1285.9024635332291,
          1286.9058183710292,
          1286.9058183710292,
          1286.9058183710292
         ],
         "y": [
          9.446999549865723,
          10.161999702453613,
          10.87600040435791,
          9.446999549865723,
          10.161999702453613,
          10.87600040435791
         ],
         "z": [
          422.5713806152344,
          1145.234130859375,
          0,
          0,
          1102.7413330078125,
          0
         ]
        },
        {
         "hovertemplate": "labels=1-(14Z,17Z,20Z,23Z,26Z-dotriacontapentaenoyl)-2-(4Z,7Z,10Z,13Z,16Z,19Z-docosahexaenoyl)-sn-glycero-3-phospho-N-(5Z,8Z,11Z,14Z-eicosatetraenoyl)-ethanolamine/1-(14Z,17Z,20Z,23Z,26Z-dotriacontapentaenoyl)-2-(5Z,8Z,11Z,14Z-eicosatetraenoyl)-sn-glycero-3-phospho-N-(4Z,7Z,10Z,13Z,16Z,19Z-docosahexaenoyl)-ethanolamine/1-(14Z,17Z,20Z,23Z,26Z-dotriacontapentaenoyl)-2-(8Z,11Z,14Z,17Z-eicosatetraenoyl)-sn-glycero-3-phospho-N-(4Z,7Z,10Z,13Z,16Z,19Z-docosahexaenoyl)-ethanolamine_0<br>m/z=%{x}<br>rt=%{y}<br>intensity=%{z}<extra></extra>",
         "legendgroup": "1-(14Z,17Z,20Z,23Z,26Z-dotriacontapentaenoyl)-2-(4Z,7Z,10Z,13Z,16Z,19Z-docosahexaenoyl)-sn-glycero-3-phospho-N-(5Z,8Z,11Z,14Z-eicosatetraenoyl)-ethanolamine/1-(14Z,17Z,20Z,23Z,26Z-dotriacontapentaenoyl)-2-(5Z,8Z,11Z,14Z-eicosatetraenoyl)-sn-glycero-3-phospho-N-(4Z,7Z,10Z,13Z,16Z,19Z-docosahexaenoyl)-ethanolamine/1-(14Z,17Z,20Z,23Z,26Z-dotriacontapentaenoyl)-2-(8Z,11Z,14Z,17Z-eicosatetraenoyl)-sn-glycero-3-phospho-N-(4Z,7Z,10Z,13Z,16Z,19Z-docosahexaenoyl)-ethanolamine_0",
         "line": {
          "color": "#00cc96",
          "dash": "solid"
         },
         "marker": {
          "symbol": "circle"
         },
         "mode": "lines",
         "name": "1-(14Z,17Z,20Z,23Z,26Z-dotriacontapentaenoyl)-2-(4Z,7Z,10Z,13Z,16Z,19Z-docosahexaenoyl)-sn-glycero-3-phospho-N-(5Z,8Z,11Z,14Z-eicosatetraenoyl)-ethanolamine/1-(14Z,17Z,20Z,23Z,26Z-dotriacontapentaenoyl)-2-(5Z,8Z,11Z,14Z-eicosatetraenoyl)-sn-glycero-3-phospho-N-(4Z,7Z,10Z,13Z,16Z,19Z-docosahexaenoyl)-ethanolamine/1-(14Z,17Z,20Z,23Z,26Z-dotriacontapentaenoyl)-2-(8Z,11Z,14Z,17Z-eicosatetraenoyl)-sn-glycero-3-phospho-N-(4Z,7Z,10Z,13Z,16Z,19Z-docosahexaenoyl)-ethanolamine_0",
         "scene": "scene",
         "showlegend": false,
         "type": "scatter3d",
         "x": [
          1261.9024635332291,
          1261.9024635332291,
          1261.9024635332291,
          1261.9024635332291,
          1262.9058183710292,
          1262.9058183710292,
          1262.9058183710292,
          1262.9058183710292
         ],
         "y": [
          8.732999801635742,
          9.446999549865723,
          10.161999702453613,
          10.87600040435791,
          8.732999801635742,
          9.446999549865723,
          10.161999702453613,
          10.87600040435791
         ],
         "z": [
          58.66353225708008,
          208.03164672851562,
          1215.64013671875,
          0,
          338.0345458984375,
          0,
          452.4031066894531,
          0
         ]
        },
        {
         "hovertemplate": "labels=1-(14Z,17Z,20Z,23Z,26Z-dotriacontapentaenoyl)-2-(4Z,7Z,10Z,13Z,16Z,19Z-docosahexaenoyl)-sn-glycero-3-phospho-N-(6Z,9Z,12Z-octadecatrienoyl)-ethanolamine/1-(14Z,17Z,20Z,23Z,26Z-dotriacontapentaenoyl)-2-(4Z,7Z,10Z,13Z,16Z,19Z-docosahexaenoyl)-sn-glycero-3-phospho-N-(9Z,12Z,15Z-octadecatrienoyl)-ethanolamine/1-(14Z,17Z,20Z,23Z,26Z-dotriacontapentaenoyl)-2-(5Z,8Z,11Z,14Z,17Z-eicosapentaenoyl)-sn-glycero-3-phospho-N-(5Z,8Z,11Z,14Z-eicosatetraenoyl)-ethanolamine/1-(14Z,17Z,20Z,23Z,26Z-dotriacontapentaenoyl)-2-(6Z,9Z,12Z-octadecatrienoyl)-sn-glycero-3-phospho-N-(4Z,7Z,10Z,13Z,16Z,19Z-docosahexaenoyl)-ethanolamine/1-(14Z,17Z,20Z,23Z,26Z-dotriacontapentaenoyl)-2-(9Z,12Z,15Z-octadecatrienoyl)-sn-glycero-3-phospho-N-(4Z,7Z,10Z,13Z,16Z,19Z-docosahexaenoyl)-ethanolamine_0<br>m/z=%{x}<br>rt=%{y}<br>intensity=%{z}<extra></extra>",
         "legendgroup": "1-(14Z,17Z,20Z,23Z,26Z-dotriacontapentaenoyl)-2-(4Z,7Z,10Z,13Z,16Z,19Z-docosahexaenoyl)-sn-glycero-3-phospho-N-(6Z,9Z,12Z-octadecatrienoyl)-ethanolamine/1-(14Z,17Z,20Z,23Z,26Z-dotriacontapentaenoyl)-2-(4Z,7Z,10Z,13Z,16Z,19Z-docosahexaenoyl)-sn-glycero-3-phospho-N-(9Z,12Z,15Z-octadecatrienoyl)-ethanolamine/1-(14Z,17Z,20Z,23Z,26Z-dotriacontapentaenoyl)-2-(5Z,8Z,11Z,14Z,17Z-eicosapentaenoyl)-sn-glycero-3-phospho-N-(5Z,8Z,11Z,14Z-eicosatetraenoyl)-ethanolamine/1-(14Z,17Z,20Z,23Z,26Z-dotriacontapentaenoyl)-2-(6Z,9Z,12Z-octadecatrienoyl)-sn-glycero-3-phospho-N-(4Z,7Z,10Z,13Z,16Z,19Z-docosahexaenoyl)-ethanolamine/1-(14Z,17Z,20Z,23Z,26Z-dotriacontapentaenoyl)-2-(9Z,12Z,15Z-octadecatrienoyl)-sn-glycero-3-phospho-N-(4Z,7Z,10Z,13Z,16Z,19Z-docosahexaenoyl)-ethanolamine_0",
         "line": {
          "color": "#ab63fa",
          "dash": "solid"
         },
         "marker": {
          "symbol": "circle"
         },
         "mode": "lines",
         "name": "1-(14Z,17Z,20Z,23Z,26Z-dotriacontapentaenoyl)-2-(4Z,7Z,10Z,13Z,16Z,19Z-docosahexaenoyl)-sn-glycero-3-phospho-N-(6Z,9Z,12Z-octadecatrienoyl)-ethanolamine/1-(14Z,17Z,20Z,23Z,26Z-dotriacontapentaenoyl)-2-(4Z,7Z,10Z,13Z,16Z,19Z-docosahexaenoyl)-sn-glycero-3-phospho-N-(9Z,12Z,15Z-octadecatrienoyl)-ethanolamine/1-(14Z,17Z,20Z,23Z,26Z-dotriacontapentaenoyl)-2-(5Z,8Z,11Z,14Z,17Z-eicosapentaenoyl)-sn-glycero-3-phospho-N-(5Z,8Z,11Z,14Z-eicosatetraenoyl)-ethanolamine/1-(14Z,17Z,20Z,23Z,26Z-dotriacontapentaenoyl)-2-(6Z,9Z,12Z-octadecatrienoyl)-sn-glycero-3-phospho-N-(4Z,7Z,10Z,13Z,16Z,19Z-docosahexaenoyl)-ethanolamine/1-(14Z,17Z,20Z,23Z,26Z-dotriacontapentaenoyl)-2-(9Z,12Z,15Z-octadecatrienoyl)-sn-glycero-3-phospho-N-(4Z,7Z,10Z,13Z,16Z,19Z-docosahexaenoyl)-ethanolamine_0",
         "scene": "scene",
         "showlegend": false,
         "type": "scatter3d",
         "x": [
          1235.886813533229,
          1235.886813533229,
          1236.8901683710292,
          1236.8901683710292
         ],
         "y": [
          13.019000053405762,
          13.734000205993652,
          13.019000053405762,
          13.734000205993652
         ],
         "z": [
          0,
          1487.2801513671875,
          496.3593444824219,
          1835.2747802734375
         ]
        },
        {
         "hovertemplate": "labels=1-(14Z,17Z,20Z,23Z,26Z-dotriacontapentaenoyl)-2-(4Z,7Z,10Z,13Z,16Z,19Z-docosahexaenoyl)-sn-glycero-3-phospho-N-(9Z,12Z-octadecadienoyl)-ethanolamine/1-(14Z,17Z,20Z,23Z,26Z-dotriacontapentaenoyl)-2-(4Z,7Z,10Z,13Z,16Z-docosapentaenoyl)-sn-glycero-3-phospho-N-(6Z,9Z,12Z-octadecatrienoyl)-ethanolamine/1-(14Z,17Z,20Z,23Z,26Z-dotriacontapentaenoyl)-2-(4Z,7Z,10Z,13Z,16Z-docosapentaenoyl)-sn-glycero-3-phospho-N-(9Z,12Z,15Z-octadecatrienoyl)-ethanolamine/1-(14Z,17Z,20Z,23Z,26Z-dotriacontapentaenoyl)-2-(5Z,8Z,11Z,14Z-eicosatetraenoyl)-sn-glycero-3-phospho-N-(5Z,8Z,11Z,14Z-eicosatetraenoyl)-ethanolamine/1-(14Z,17Z,20Z,23Z,26Z-dotriacontapentaenoyl)-2-(7Z,10Z,13Z,16Z,19Z-docosapentaenoyl)-sn-glycero-3-phospho-N-(6Z,9Z,12Z-octadecatrienoyl)-ethanolamine/1-(14Z,17Z,20Z,23Z,26Z-dotriacontapentaenoyl)-2-(7Z,10Z,13Z,16Z,19Z-docosapentaenoyl)-sn-glycero-3-phospho-N-(9Z,12Z,15Z-octadecatrienoyl)-ethanolamine/1-(14Z,17Z,20Z,23Z,26Z-dotriacontapentaenoyl)-2-(8Z,11Z,14Z,17Z-eicosatetraenoyl)-sn-glycero-3-phospho-N-(5Z,8Z,11Z,14Z-eicosatetraenoyl)-ethanolamine/1-(14Z,17Z,20Z,23Z,26Z-dotriacontapentaenoyl)-2-(9Z,11E-octadecadienoyl)-sn-glycero-3-phospho-N-(4Z,7Z,10Z,13Z,16Z,19Z-docosahexaenoyl)-ethanolamine/1-(14Z,17Z,20Z,23Z,26Z-dotriacontapentaenoyl)-2-(9Z,12Z-octadecadienoyl)-sn-glycero-3-phospho-N-(4Z,7Z,10Z,13Z,16Z,19Z-docosahexaenoyl)-ethanolamine_0<br>m/z=%{x}<br>rt=%{y}<br>intensity=%{z}<extra></extra>",
         "legendgroup": "1-(14Z,17Z,20Z,23Z,26Z-dotriacontapentaenoyl)-2-(4Z,7Z,10Z,13Z,16Z,19Z-docosahexaenoyl)-sn-glycero-3-phospho-N-(9Z,12Z-octadecadienoyl)-ethanolamine/1-(14Z,17Z,20Z,23Z,26Z-dotriacontapentaenoyl)-2-(4Z,7Z,10Z,13Z,16Z-docosapentaenoyl)-sn-glycero-3-phospho-N-(6Z,9Z,12Z-octadecatrienoyl)-ethanolamine/1-(14Z,17Z,20Z,23Z,26Z-dotriacontapentaenoyl)-2-(4Z,7Z,10Z,13Z,16Z-docosapentaenoyl)-sn-glycero-3-phospho-N-(9Z,12Z,15Z-octadecatrienoyl)-ethanolamine/1-(14Z,17Z,20Z,23Z,26Z-dotriacontapentaenoyl)-2-(5Z,8Z,11Z,14Z-eicosatetraenoyl)-sn-glycero-3-phospho-N-(5Z,8Z,11Z,14Z-eicosatetraenoyl)-ethanolamine/1-(14Z,17Z,20Z,23Z,26Z-dotriacontapentaenoyl)-2-(7Z,10Z,13Z,16Z,19Z-docosapentaenoyl)-sn-glycero-3-phospho-N-(6Z,9Z,12Z-octadecatrienoyl)-ethanolamine/1-(14Z,17Z,20Z,23Z,26Z-dotriacontapentaenoyl)-2-(7Z,10Z,13Z,16Z,19Z-docosapentaenoyl)-sn-glycero-3-phospho-N-(9Z,12Z,15Z-octadecatrienoyl)-ethanolamine/1-(14Z,17Z,20Z,23Z,26Z-dotriacontapentaenoyl)-2-(8Z,11Z,14Z,17Z-eicosatetraenoyl)-sn-glycero-3-phospho-N-(5Z,8Z,11Z,14Z-eicosatetraenoyl)-ethanolamine/1-(14Z,17Z,20Z,23Z,26Z-dotriacontapentaenoyl)-2-(9Z,11E-octadecadienoyl)-sn-glycero-3-phospho-N-(4Z,7Z,10Z,13Z,16Z,19Z-docosahexaenoyl)-ethanolamine/1-(14Z,17Z,20Z,23Z,26Z-dotriacontapentaenoyl)-2-(9Z,12Z-octadecadienoyl)-sn-glycero-3-phospho-N-(4Z,7Z,10Z,13Z,16Z,19Z-docosahexaenoyl)-ethanolamine_0",
         "line": {
          "color": "#FFA15A",
          "dash": "solid"
         },
         "marker": {
          "symbol": "circle"
         },
         "mode": "lines",
         "name": "1-(14Z,17Z,20Z,23Z,26Z-dotriacontapentaenoyl)-2-(4Z,7Z,10Z,13Z,16Z,19Z-docosahexaenoyl)-sn-glycero-3-phospho-N-(9Z,12Z-octadecadienoyl)-ethanolamine/1-(14Z,17Z,20Z,23Z,26Z-dotriacontapentaenoyl)-2-(4Z,7Z,10Z,13Z,16Z-docosapentaenoyl)-sn-glycero-3-phospho-N-(6Z,9Z,12Z-octadecatrienoyl)-ethanolamine/1-(14Z,17Z,20Z,23Z,26Z-dotriacontapentaenoyl)-2-(4Z,7Z,10Z,13Z,16Z-docosapentaenoyl)-sn-glycero-3-phospho-N-(9Z,12Z,15Z-octadecatrienoyl)-ethanolamine/1-(14Z,17Z,20Z,23Z,26Z-dotriacontapentaenoyl)-2-(5Z,8Z,11Z,14Z-eicosatetraenoyl)-sn-glycero-3-phospho-N-(5Z,8Z,11Z,14Z-eicosatetraenoyl)-ethanolamine/1-(14Z,17Z,20Z,23Z,26Z-dotriacontapentaenoyl)-2-(7Z,10Z,13Z,16Z,19Z-docosapentaenoyl)-sn-glycero-3-phospho-N-(6Z,9Z,12Z-octadecatrienoyl)-ethanolamine/1-(14Z,17Z,20Z,23Z,26Z-dotriacontapentaenoyl)-2-(7Z,10Z,13Z,16Z,19Z-docosapentaenoyl)-sn-glycero-3-phospho-N-(9Z,12Z,15Z-octadecatrienoyl)-ethanolamine/1-(14Z,17Z,20Z,23Z,26Z-dotriacontapentaenoyl)-2-(8Z,11Z,14Z,17Z-eicosatetraenoyl)-sn-glycero-3-phospho-N-(5Z,8Z,11Z,14Z-eicosatetraenoyl)-ethanolamine/1-(14Z,17Z,20Z,23Z,26Z-dotriacontapentaenoyl)-2-(9Z,11E-octadecadienoyl)-sn-glycero-3-phospho-N-(4Z,7Z,10Z,13Z,16Z,19Z-docosahexaenoyl)-ethanolamine/1-(14Z,17Z,20Z,23Z,26Z-dotriacontapentaenoyl)-2-(9Z,12Z-octadecadienoyl)-sn-glycero-3-phospho-N-(4Z,7Z,10Z,13Z,16Z,19Z-docosahexaenoyl)-ethanolamine_0",
         "scene": "scene",
         "showlegend": false,
         "type": "scatter3d",
         "x": [
          1237.9024635332291,
          1237.9024635332291,
          1237.9024635332291,
          1237.9024635332291,
          1238.9058183710292,
          1238.9058183710292,
          1238.9058183710292,
          1238.9058183710292
         ],
         "y": [
          4.446000099182129,
          5.160999774932861,
          5.875,
          6.590000152587891,
          4.446000099182129,
          5.160999774932861,
          5.875,
          6.590000152587891
         ],
         "z": [
          72.7967529296875,
          239.894287109375,
          0,
          0,
          0,
          55.491275787353516,
          24.12523078918457,
          0
         ]
        },
        {
         "hovertemplate": "labels=1-(14Z,17Z,20Z,23Z,26Z-dotriacontapentaenoyl)-2-(4Z,7Z,10Z,13Z,16Z,19Z-docosahexaenoyl)-sn-glycero-3-phospho-N-decanoyl-ethanolamine/1-(14Z,17Z,20Z,23Z,26Z-dotriacontapentaenoyl)-2-(6Z,9Z,12Z,15Z,18Z,21Z-tetracosahexaenoyl)-sn-glycero-3-phospho-N-octanoyl-ethanolamine/1-(14Z,17Z,20Z,23Z,26Z-dotriacontapentaenoyl)-2-(8Z,11Z,14Z,17Z,20Z,23Z-hexacosahexaenoyl)-sn-glycero-3-phospho-N-hexanoyl-ethanolamine_0<br>m/z=%{x}<br>rt=%{y}<br>intensity=%{z}<extra></extra>",
         "legendgroup": "1-(14Z,17Z,20Z,23Z,26Z-dotriacontapentaenoyl)-2-(4Z,7Z,10Z,13Z,16Z,19Z-docosahexaenoyl)-sn-glycero-3-phospho-N-decanoyl-ethanolamine/1-(14Z,17Z,20Z,23Z,26Z-dotriacontapentaenoyl)-2-(6Z,9Z,12Z,15Z,18Z,21Z-tetracosahexaenoyl)-sn-glycero-3-phospho-N-octanoyl-ethanolamine/1-(14Z,17Z,20Z,23Z,26Z-dotriacontapentaenoyl)-2-(8Z,11Z,14Z,17Z,20Z,23Z-hexacosahexaenoyl)-sn-glycero-3-phospho-N-hexanoyl-ethanolamine_0",
         "line": {
          "color": "#19d3f3",
          "dash": "solid"
         },
         "marker": {
          "symbol": "circle"
         },
         "mode": "lines",
         "name": "1-(14Z,17Z,20Z,23Z,26Z-dotriacontapentaenoyl)-2-(4Z,7Z,10Z,13Z,16Z,19Z-docosahexaenoyl)-sn-glycero-3-phospho-N-decanoyl-ethanolamine/1-(14Z,17Z,20Z,23Z,26Z-dotriacontapentaenoyl)-2-(6Z,9Z,12Z,15Z,18Z,21Z-tetracosahexaenoyl)-sn-glycero-3-phospho-N-octanoyl-ethanolamine/1-(14Z,17Z,20Z,23Z,26Z-dotriacontapentaenoyl)-2-(8Z,11Z,14Z,17Z,20Z,23Z-hexacosahexaenoyl)-sn-glycero-3-phospho-N-hexanoyl-ethanolamine_0",
         "scene": "scene",
         "showlegend": false,
         "type": "scatter3d",
         "x": [
          1129.808563533229,
          1129.808563533229,
          1129.808563533229,
          1129.808563533229,
          1130.8119183710292,
          1130.8119183710292,
          1130.8119183710292,
          1130.8119183710292
         ],
         "y": [
          11.590999603271484,
          12.305000305175781,
          13.019000053405762,
          13.734000205993652,
          11.590999603271484,
          12.305000305175781,
          13.019000053405762,
          13.734000205993652
         ],
         "z": [
          826.47607421875,
          0,
          0,
          0,
          0,
          1923.9942626953125,
          0,
          0
         ]
        },
        {
         "hovertemplate": "labels=1-(14Z,17Z,20Z,23Z,26Z-dotriacontapentaenoyl)-2-(4Z,7Z,10Z,13Z,16Z,19Z-docosahexaenoyl)-sn-glycero-3-phospho-N-hexanoyl-ethanolamine_0<br>m/z=%{x}<br>rt=%{y}<br>intensity=%{z}<extra></extra>",
         "legendgroup": "1-(14Z,17Z,20Z,23Z,26Z-dotriacontapentaenoyl)-2-(4Z,7Z,10Z,13Z,16Z,19Z-docosahexaenoyl)-sn-glycero-3-phospho-N-hexanoyl-ethanolamine_0",
         "line": {
          "color": "#FF6692",
          "dash": "solid"
         },
         "marker": {
          "symbol": "circle"
         },
         "mode": "lines",
         "name": "1-(14Z,17Z,20Z,23Z,26Z-dotriacontapentaenoyl)-2-(4Z,7Z,10Z,13Z,16Z,19Z-docosahexaenoyl)-sn-glycero-3-phospho-N-hexanoyl-ethanolamine_0",
         "scene": "scene",
         "showlegend": false,
         "type": "scatter3d",
         "x": [
          1073.745963533229,
          1073.745963533229,
          1074.7493183710292,
          1074.7493183710292
         ],
         "y": [
          5.875,
          6.590000152587891,
          5.875,
          6.590000152587891
         ],
         "z": [
          21.027019500732422,
          136.72906494140625,
          0,
          255.08059692382812
         ]
        },
        {
         "hovertemplate": "labels=1-(14Z,17Z,20Z,23Z,26Z-dotriacontapentaenoyl)-2-(4Z,7Z,10Z,13Z,16Z,19Z-docosahexaenoyl)-sn-glycero-3-phospho-N-octanoyl-ethanolamine/1-(14Z,17Z,20Z,23Z,26Z-dotriacontapentaenoyl)-2-(6Z,9Z,12Z,15Z,18Z,21Z-tetracosahexaenoyl)-sn-glycero-3-phospho-N-hexanoyl-ethanolamine_0<br>m/z=%{x}<br>rt=%{y}<br>intensity=%{z}<extra></extra>",
         "legendgroup": "1-(14Z,17Z,20Z,23Z,26Z-dotriacontapentaenoyl)-2-(4Z,7Z,10Z,13Z,16Z,19Z-docosahexaenoyl)-sn-glycero-3-phospho-N-octanoyl-ethanolamine/1-(14Z,17Z,20Z,23Z,26Z-dotriacontapentaenoyl)-2-(6Z,9Z,12Z,15Z,18Z,21Z-tetracosahexaenoyl)-sn-glycero-3-phospho-N-hexanoyl-ethanolamine_0",
         "line": {
          "color": "#B6E880",
          "dash": "solid"
         },
         "marker": {
          "symbol": "circle"
         },
         "mode": "lines",
         "name": "1-(14Z,17Z,20Z,23Z,26Z-dotriacontapentaenoyl)-2-(4Z,7Z,10Z,13Z,16Z,19Z-docosahexaenoyl)-sn-glycero-3-phospho-N-octanoyl-ethanolamine/1-(14Z,17Z,20Z,23Z,26Z-dotriacontapentaenoyl)-2-(6Z,9Z,12Z,15Z,18Z,21Z-tetracosahexaenoyl)-sn-glycero-3-phospho-N-hexanoyl-ethanolamine_0",
         "scene": "scene",
         "showlegend": false,
         "type": "scatter3d",
         "x": [
          1101.7772635332292,
          1101.7772635332292,
          1101.7772635332292,
          1102.7806183710293,
          1102.7806183710293,
          1102.7806183710293
         ],
         "y": [
          9.446999549865723,
          10.161999702453613,
          10.87600040435791,
          9.446999549865723,
          10.161999702453613,
          10.87600040435791
         ],
         "z": [
          0,
          0,
          0,
          0,
          658.7801513671875,
          0
         ]
        },
        {
         "hovertemplate": "labels=1-(14Z,17Z,20Z,23Z,26Z-dotriacontapentaenoyl)-2-(4Z,7Z,10Z,13Z,16Z-docosapentaenoyl)-sn-glycero-3-phospho-N-(4Z,7Z,10Z,13Z,16Z,19Z-docosahexaenoyl)-ethanolamine/1-(14Z,17Z,20Z,23Z,26Z-dotriacontapentaenoyl)-2-(7Z,10Z,13Z,16Z,19Z-docosapentaenoyl)-sn-glycero-3-phospho-N-(4Z,7Z,10Z,13Z,16Z,19Z-docosahexaenoyl)-ethanolamine_0<br>m/z=%{x}<br>rt=%{y}<br>intensity=%{z}<extra></extra>",
         "legendgroup": "1-(14Z,17Z,20Z,23Z,26Z-dotriacontapentaenoyl)-2-(4Z,7Z,10Z,13Z,16Z-docosapentaenoyl)-sn-glycero-3-phospho-N-(4Z,7Z,10Z,13Z,16Z,19Z-docosahexaenoyl)-ethanolamine/1-(14Z,17Z,20Z,23Z,26Z-dotriacontapentaenoyl)-2-(7Z,10Z,13Z,16Z,19Z-docosapentaenoyl)-sn-glycero-3-phospho-N-(4Z,7Z,10Z,13Z,16Z,19Z-docosahexaenoyl)-ethanolamine_0",
         "line": {
          "color": "#FF97FF",
          "dash": "solid"
         },
         "marker": {
          "symbol": "circle"
         },
         "mode": "lines",
         "name": "1-(14Z,17Z,20Z,23Z,26Z-dotriacontapentaenoyl)-2-(4Z,7Z,10Z,13Z,16Z-docosapentaenoyl)-sn-glycero-3-phospho-N-(4Z,7Z,10Z,13Z,16Z,19Z-docosahexaenoyl)-ethanolamine/1-(14Z,17Z,20Z,23Z,26Z-dotriacontapentaenoyl)-2-(7Z,10Z,13Z,16Z,19Z-docosapentaenoyl)-sn-glycero-3-phospho-N-(4Z,7Z,10Z,13Z,16Z,19Z-docosahexaenoyl)-ethanolamine_0",
         "scene": "scene",
         "showlegend": false,
         "type": "scatter3d",
         "x": [
          1287.9181135332294,
          1287.9181135332294,
          1288.9214683710293,
          1288.9214683710293
         ],
         "y": [
          10.161999702453613,
          10.87600040435791,
          10.161999702453613,
          10.87600040435791
         ],
         "z": [
          0,
          688.5595092773438,
          0,
          601.5348510742188
         ]
        },
        {
         "hovertemplate": "labels=1-(14Z,17Z,20Z,23Z,26Z-dotriacontapentaenoyl)-2-(4Z,7Z,10Z,13Z,16Z-docosapentaenoyl)-sn-glycero-3-phospho-N-hexanoyl-ethanolamine/1-(14Z,17Z,20Z,23Z,26Z-dotriacontapentaenoyl)-2-(5Z,8Z,11Z,14Z,17Z-eicosapentaenoyl)-sn-glycero-3-phospho-N-octanoyl-ethanolamine/1-(14Z,17Z,20Z,23Z,26Z-dotriacontapentaenoyl)-2-(7Z,10Z,13Z,16Z,19Z-docosapentaenoyl)-sn-glycero-3-phospho-N-hexanoyl-ethanolamine_0<br>m/z=%{x}<br>rt=%{y}<br>intensity=%{z}<extra></extra>",
         "legendgroup": "1-(14Z,17Z,20Z,23Z,26Z-dotriacontapentaenoyl)-2-(4Z,7Z,10Z,13Z,16Z-docosapentaenoyl)-sn-glycero-3-phospho-N-hexanoyl-ethanolamine/1-(14Z,17Z,20Z,23Z,26Z-dotriacontapentaenoyl)-2-(5Z,8Z,11Z,14Z,17Z-eicosapentaenoyl)-sn-glycero-3-phospho-N-octanoyl-ethanolamine/1-(14Z,17Z,20Z,23Z,26Z-dotriacontapentaenoyl)-2-(7Z,10Z,13Z,16Z,19Z-docosapentaenoyl)-sn-glycero-3-phospho-N-hexanoyl-ethanolamine_0",
         "line": {
          "color": "#FECB52",
          "dash": "solid"
         },
         "marker": {
          "symbol": "circle"
         },
         "mode": "lines",
         "name": "1-(14Z,17Z,20Z,23Z,26Z-dotriacontapentaenoyl)-2-(4Z,7Z,10Z,13Z,16Z-docosapentaenoyl)-sn-glycero-3-phospho-N-hexanoyl-ethanolamine/1-(14Z,17Z,20Z,23Z,26Z-dotriacontapentaenoyl)-2-(5Z,8Z,11Z,14Z,17Z-eicosapentaenoyl)-sn-glycero-3-phospho-N-octanoyl-ethanolamine/1-(14Z,17Z,20Z,23Z,26Z-dotriacontapentaenoyl)-2-(7Z,10Z,13Z,16Z,19Z-docosapentaenoyl)-sn-glycero-3-phospho-N-hexanoyl-ethanolamine_0",
         "scene": "scene",
         "showlegend": false,
         "type": "scatter3d",
         "x": [
          1075.7616135332291,
          1075.7616135332291,
          1075.7616135332291,
          1076.7649683710292,
          1076.7649683710292,
          1076.7649683710292
         ],
         "y": [
          9.446999549865723,
          10.161999702453613,
          10.87600040435791,
          9.446999549865723,
          10.161999702453613,
          10.87600040435791
         ],
         "z": [
          0,
          712.2447509765625,
          0,
          0,
          0,
          0
         ]
        },
        {
         "hovertemplate": "labels=1-(14Z,17Z,20Z,23Z,26Z-dotriacontapentaenoyl)-2-(4Z,7Z,10Z,13Z,16Z-docosapentaenoyl)-sn-glycero-3-phospho-N-octanoyl-ethanolamine/1-(14Z,17Z,20Z,23Z,26Z-dotriacontapentaenoyl)-2-(5Z,8Z,11Z,14Z,17Z-eicosapentaenoyl)-sn-glycero-3-phospho-N-decanoyl-ethanolamine/1-(14Z,17Z,20Z,23Z,26Z-dotriacontapentaenoyl)-2-(6Z,9Z,12Z,15Z,18Z-tetracosapentaenoyl)-sn-glycero-3-phospho-N-hexanoyl-ethanolamine/1-(14Z,17Z,20Z,23Z,26Z-dotriacontapentaenoyl)-2-(7Z,10Z,13Z,16Z,19Z-docosapentaenoyl)-sn-glycero-3-phospho-N-octanoyl-ethanolamine/1-(14Z,17Z,20Z,23Z,26Z-dotriacontapentaenoyl)-2-(9Z,12Z,15Z,18Z,21Z-tetracosapentaenoyl)-sn-glycero-3-phospho-N-hexanoyl-ethanolamine_0<br>m/z=%{x}<br>rt=%{y}<br>intensity=%{z}<extra></extra>",
         "legendgroup": "1-(14Z,17Z,20Z,23Z,26Z-dotriacontapentaenoyl)-2-(4Z,7Z,10Z,13Z,16Z-docosapentaenoyl)-sn-glycero-3-phospho-N-octanoyl-ethanolamine/1-(14Z,17Z,20Z,23Z,26Z-dotriacontapentaenoyl)-2-(5Z,8Z,11Z,14Z,17Z-eicosapentaenoyl)-sn-glycero-3-phospho-N-decanoyl-ethanolamine/1-(14Z,17Z,20Z,23Z,26Z-dotriacontapentaenoyl)-2-(6Z,9Z,12Z,15Z,18Z-tetracosapentaenoyl)-sn-glycero-3-phospho-N-hexanoyl-ethanolamine/1-(14Z,17Z,20Z,23Z,26Z-dotriacontapentaenoyl)-2-(7Z,10Z,13Z,16Z,19Z-docosapentaenoyl)-sn-glycero-3-phospho-N-octanoyl-ethanolamine/1-(14Z,17Z,20Z,23Z,26Z-dotriacontapentaenoyl)-2-(9Z,12Z,15Z,18Z,21Z-tetracosapentaenoyl)-sn-glycero-3-phospho-N-hexanoyl-ethanolamine_0",
         "line": {
          "color": "#636efa",
          "dash": "solid"
         },
         "marker": {
          "symbol": "circle"
         },
         "mode": "lines",
         "name": "1-(14Z,17Z,20Z,23Z,26Z-dotriacontapentaenoyl)-2-(4Z,7Z,10Z,13Z,16Z-docosapentaenoyl)-sn-glycero-3-phospho-N-octanoyl-ethanolamine/1-(14Z,17Z,20Z,23Z,26Z-dotriacontapentaenoyl)-2-(5Z,8Z,11Z,14Z,17Z-eicosapentaenoyl)-sn-glycero-3-phospho-N-decanoyl-ethanolamine/1-(14Z,17Z,20Z,23Z,26Z-dotriacontapentaenoyl)-2-(6Z,9Z,12Z,15Z,18Z-tetracosapentaenoyl)-sn-glycero-3-phospho-N-hexanoyl-ethanolamine/1-(14Z,17Z,20Z,23Z,26Z-dotriacontapentaenoyl)-2-(7Z,10Z,13Z,16Z,19Z-docosapentaenoyl)-sn-glycero-3-phospho-N-octanoyl-ethanolamine/1-(14Z,17Z,20Z,23Z,26Z-dotriacontapentaenoyl)-2-(9Z,12Z,15Z,18Z,21Z-tetracosapentaenoyl)-sn-glycero-3-phospho-N-hexanoyl-ethanolamine_0",
         "scene": "scene",
         "showlegend": false,
         "type": "scatter3d",
         "x": [
          1103.792913533229,
          1103.792913533229,
          1104.796268371029,
          1104.796268371029
         ],
         "y": [
          8.017999649047852,
          8.732999801635742,
          8.017999649047852,
          8.732999801635742
         ],
         "z": [
          52.330692291259766,
          286.28436279296875,
          0,
          212.26458740234375
         ]
        },
        {
         "hovertemplate": "labels=1-(14Z,17Z,20Z,23Z,26Z-dotriacontapentaenoyl)-2-(5Z,8Z,11Z,14Z,17Z-eicosapentaenoyl)-sn-glycero-3-phospho-N-(4Z,7Z,10Z,13Z,16Z,19Z-docosahexaenoyl)-ethanolamine_0<br>m/z=%{x}<br>rt=%{y}<br>intensity=%{z}<extra></extra>",
         "legendgroup": "1-(14Z,17Z,20Z,23Z,26Z-dotriacontapentaenoyl)-2-(5Z,8Z,11Z,14Z,17Z-eicosapentaenoyl)-sn-glycero-3-phospho-N-(4Z,7Z,10Z,13Z,16Z,19Z-docosahexaenoyl)-ethanolamine_0",
         "line": {
          "color": "#EF553B",
          "dash": "solid"
         },
         "marker": {
          "symbol": "circle"
         },
         "mode": "lines",
         "name": "1-(14Z,17Z,20Z,23Z,26Z-dotriacontapentaenoyl)-2-(5Z,8Z,11Z,14Z,17Z-eicosapentaenoyl)-sn-glycero-3-phospho-N-(4Z,7Z,10Z,13Z,16Z,19Z-docosahexaenoyl)-ethanolamine_0",
         "scene": "scene",
         "showlegend": false,
         "type": "scatter3d",
         "x": [
          1259.886813533229,
          1259.886813533229,
          1259.886813533229,
          1259.886813533229,
          1259.886813533229,
          1259.886813533229,
          1259.886813533229,
          1260.8901683710292,
          1260.8901683710292,
          1260.8901683710292,
          1260.8901683710292,
          1260.8901683710292,
          1260.8901683710292,
          1260.8901683710292
         ],
         "y": [
          11.590999603271484,
          12.305000305175781,
          13.019000053405762,
          13.734000205993652,
          14.447999954223633,
          15.163000106811523,
          15.876999855041504,
          11.590999603271484,
          12.305000305175781,
          13.019000053405762,
          13.734000205993652,
          14.447999954223633,
          15.163000106811523,
          15.876999855041504
         ],
         "z": [
          0,
          0,
          1918.619140625,
          0,
          975.0303955078125,
          1822.17236328125,
          708.2705078125,
          361.9460754394531,
          543.7572021484375,
          0,
          3291.095947265625,
          1256.1153564453125,
          984.7012329101562,
          884.811279296875
         ]
        },
        {
         "hovertemplate": "labels=1-(14Z,17Z,20Z,23Z,26Z-dotriacontapentaenoyl)-2-(5Z,8Z,11Z,14Z,17Z-eicosapentaenoyl)-sn-glycero-3-phospho-N-(6Z,9Z,12Z-octadecatrienoyl)-ethanolamine/1-(14Z,17Z,20Z,23Z,26Z-dotriacontapentaenoyl)-2-(5Z,8Z,11Z,14Z,17Z-eicosapentaenoyl)-sn-glycero-3-phospho-N-(9Z,12Z,15Z-octadecatrienoyl)-ethanolamine/1-(14Z,17Z,20Z,23Z,26Z-dotriacontapentaenoyl)-2-(6Z,9Z,12Z,15Z-octadecatetraenoyl)-sn-glycero-3-phospho-N-(5Z,8Z,11Z,14Z-eicosatetraenoyl)-ethanolamine/1-(14Z,17Z,20Z,23Z,26Z-dotriacontapentaenoyl)-2-(9Z,12Z-hexadecadienoyl)-sn-glycero-3-phospho-N-(4Z,7Z,10Z,13Z,16Z,19Z-docosahexaenoyl)-ethanolamine_0<br>m/z=%{x}<br>rt=%{y}<br>intensity=%{z}<extra></extra>",
         "legendgroup": "1-(14Z,17Z,20Z,23Z,26Z-dotriacontapentaenoyl)-2-(5Z,8Z,11Z,14Z,17Z-eicosapentaenoyl)-sn-glycero-3-phospho-N-(6Z,9Z,12Z-octadecatrienoyl)-ethanolamine/1-(14Z,17Z,20Z,23Z,26Z-dotriacontapentaenoyl)-2-(5Z,8Z,11Z,14Z,17Z-eicosapentaenoyl)-sn-glycero-3-phospho-N-(9Z,12Z,15Z-octadecatrienoyl)-ethanolamine/1-(14Z,17Z,20Z,23Z,26Z-dotriacontapentaenoyl)-2-(6Z,9Z,12Z,15Z-octadecatetraenoyl)-sn-glycero-3-phospho-N-(5Z,8Z,11Z,14Z-eicosatetraenoyl)-ethanolamine/1-(14Z,17Z,20Z,23Z,26Z-dotriacontapentaenoyl)-2-(9Z,12Z-hexadecadienoyl)-sn-glycero-3-phospho-N-(4Z,7Z,10Z,13Z,16Z,19Z-docosahexaenoyl)-ethanolamine_0",
         "line": {
          "color": "#00cc96",
          "dash": "solid"
         },
         "marker": {
          "symbol": "circle"
         },
         "mode": "lines",
         "name": "1-(14Z,17Z,20Z,23Z,26Z-dotriacontapentaenoyl)-2-(5Z,8Z,11Z,14Z,17Z-eicosapentaenoyl)-sn-glycero-3-phospho-N-(6Z,9Z,12Z-octadecatrienoyl)-ethanolamine/1-(14Z,17Z,20Z,23Z,26Z-dotriacontapentaenoyl)-2-(5Z,8Z,11Z,14Z,17Z-eicosapentaenoyl)-sn-glycero-3-phospho-N-(9Z,12Z,15Z-octadecatrienoyl)-ethanolamine/1-(14Z,17Z,20Z,23Z,26Z-dotriacontapentaenoyl)-2-(6Z,9Z,12Z,15Z-octadecatetraenoyl)-sn-glycero-3-phospho-N-(5Z,8Z,11Z,14Z-eicosatetraenoyl)-ethanolamine/1-(14Z,17Z,20Z,23Z,26Z-dotriacontapentaenoyl)-2-(9Z,12Z-hexadecadienoyl)-sn-glycero-3-phospho-N-(4Z,7Z,10Z,13Z,16Z,19Z-docosahexaenoyl)-ethanolamine_0",
         "scene": "scene",
         "showlegend": false,
         "type": "scatter3d",
         "x": [
          1209.871163533229,
          1209.871163533229,
          1210.8745183710294,
          1210.8745183710294
         ],
         "y": [
          8.732999801635742,
          9.446999549865723,
          8.732999801635742,
          9.446999549865723
         ],
         "z": [
          127.81439208984375,
          0,
          84.04851531982422,
          482.7730407714844
         ]
        },
        {
         "hovertemplate": "labels=1-(14Z,17Z,20Z,23Z,26Z-dotriacontapentaenoyl)-2-(5Z,8Z,11Z,14Z,17Z-eicosapentaenoyl)-sn-glycero-3-phospho-N-(9Z,12Z-octadecadienoyl)-ethanolamine/1-(14Z,17Z,20Z,23Z,26Z-dotriacontapentaenoyl)-2-(5Z,8Z,11Z,14Z-eicosatetraenoyl)-sn-glycero-3-phospho-N-(6Z,9Z,12Z-octadecatrienoyl)-ethanolamine/1-(14Z,17Z,20Z,23Z,26Z-dotriacontapentaenoyl)-2-(5Z,8Z,11Z,14Z-eicosatetraenoyl)-sn-glycero-3-phospho-N-(9Z,12Z,15Z-octadecatrienoyl)-ethanolamine/1-(14Z,17Z,20Z,23Z,26Z-dotriacontapentaenoyl)-2-(6Z,9Z,12Z-octadecatrienoyl)-sn-glycero-3-phospho-N-(5Z,8Z,11Z,14Z-eicosatetraenoyl)-ethanolamine/1-(14Z,17Z,20Z,23Z,26Z-dotriacontapentaenoyl)-2-(6Z-hexadecenoyl)-sn-glycero-3-phospho-N-(4Z,7Z,10Z,13Z,16Z,19Z-docosahexaenoyl)-ethanolamine/1-(14Z,17Z,20Z,23Z,26Z-dotriacontapentaenoyl)-2-(8Z,11Z,14Z,17Z-eicosatetraenoyl)-sn-glycero-3-phospho-N-(6Z,9Z,12Z-octadecatrienoyl)-ethanolamine/1-(14Z,17Z,20Z,23Z,26Z-dotriacontapentaenoyl)-2-(8Z,11Z,14Z,17Z-eicosatetraenoyl)-sn-glycero-3-phospho-N-(9Z,12Z,15Z-octadecatrienoyl)-ethanolamine/1-(14Z,17Z,20Z,23Z,26Z-dotriacontapentaenoyl)-2-(9Z,12Z,15Z-octadecatrienoyl)-sn-glycero-3-phospho-N-(5Z,8Z,11Z,14Z-eicosatetraenoyl)-ethanolamine/1-(14Z,17Z,20Z,23Z,26Z-dotriacontapentaenoyl)-2-(9Z-hexadecenoyl)-sn-glycero-3-phospho-N-(4Z,7Z,10Z,13Z,16Z,19Z-docosahexaenoyl)-ethanolamine_0<br>m/z=%{x}<br>rt=%{y}<br>intensity=%{z}<extra></extra>",
         "legendgroup": "1-(14Z,17Z,20Z,23Z,26Z-dotriacontapentaenoyl)-2-(5Z,8Z,11Z,14Z,17Z-eicosapentaenoyl)-sn-glycero-3-phospho-N-(9Z,12Z-octadecadienoyl)-ethanolamine/1-(14Z,17Z,20Z,23Z,26Z-dotriacontapentaenoyl)-2-(5Z,8Z,11Z,14Z-eicosatetraenoyl)-sn-glycero-3-phospho-N-(6Z,9Z,12Z-octadecatrienoyl)-ethanolamine/1-(14Z,17Z,20Z,23Z,26Z-dotriacontapentaenoyl)-2-(5Z,8Z,11Z,14Z-eicosatetraenoyl)-sn-glycero-3-phospho-N-(9Z,12Z,15Z-octadecatrienoyl)-ethanolamine/1-(14Z,17Z,20Z,23Z,26Z-dotriacontapentaenoyl)-2-(6Z,9Z,12Z-octadecatrienoyl)-sn-glycero-3-phospho-N-(5Z,8Z,11Z,14Z-eicosatetraenoyl)-ethanolamine/1-(14Z,17Z,20Z,23Z,26Z-dotriacontapentaenoyl)-2-(6Z-hexadecenoyl)-sn-glycero-3-phospho-N-(4Z,7Z,10Z,13Z,16Z,19Z-docosahexaenoyl)-ethanolamine/1-(14Z,17Z,20Z,23Z,26Z-dotriacontapentaenoyl)-2-(8Z,11Z,14Z,17Z-eicosatetraenoyl)-sn-glycero-3-phospho-N-(6Z,9Z,12Z-octadecatrienoyl)-ethanolamine/1-(14Z,17Z,20Z,23Z,26Z-dotriacontapentaenoyl)-2-(8Z,11Z,14Z,17Z-eicosatetraenoyl)-sn-glycero-3-phospho-N-(9Z,12Z,15Z-octadecatrienoyl)-ethanolamine/1-(14Z,17Z,20Z,23Z,26Z-dotriacontapentaenoyl)-2-(9Z,12Z,15Z-octadecatrienoyl)-sn-glycero-3-phospho-N-(5Z,8Z,11Z,14Z-eicosatetraenoyl)-ethanolamine/1-(14Z,17Z,20Z,23Z,26Z-dotriacontapentaenoyl)-2-(9Z-hexadecenoyl)-sn-glycero-3-phospho-N-(4Z,7Z,10Z,13Z,16Z,19Z-docosahexaenoyl)-ethanolamine_0",
         "line": {
          "color": "#ab63fa",
          "dash": "solid"
         },
         "marker": {
          "symbol": "circle"
         },
         "mode": "lines",
         "name": "1-(14Z,17Z,20Z,23Z,26Z-dotriacontapentaenoyl)-2-(5Z,8Z,11Z,14Z,17Z-eicosapentaenoyl)-sn-glycero-3-phospho-N-(9Z,12Z-octadecadienoyl)-ethanolamine/1-(14Z,17Z,20Z,23Z,26Z-dotriacontapentaenoyl)-2-(5Z,8Z,11Z,14Z-eicosatetraenoyl)-sn-glycero-3-phospho-N-(6Z,9Z,12Z-octadecatrienoyl)-ethanolamine/1-(14Z,17Z,20Z,23Z,26Z-dotriacontapentaenoyl)-2-(5Z,8Z,11Z,14Z-eicosatetraenoyl)-sn-glycero-3-phospho-N-(9Z,12Z,15Z-octadecatrienoyl)-ethanolamine/1-(14Z,17Z,20Z,23Z,26Z-dotriacontapentaenoyl)-2-(6Z,9Z,12Z-octadecatrienoyl)-sn-glycero-3-phospho-N-(5Z,8Z,11Z,14Z-eicosatetraenoyl)-ethanolamine/1-(14Z,17Z,20Z,23Z,26Z-dotriacontapentaenoyl)-2-(6Z-hexadecenoyl)-sn-glycero-3-phospho-N-(4Z,7Z,10Z,13Z,16Z,19Z-docosahexaenoyl)-ethanolamine/1-(14Z,17Z,20Z,23Z,26Z-dotriacontapentaenoyl)-2-(8Z,11Z,14Z,17Z-eicosatetraenoyl)-sn-glycero-3-phospho-N-(6Z,9Z,12Z-octadecatrienoyl)-ethanolamine/1-(14Z,17Z,20Z,23Z,26Z-dotriacontapentaenoyl)-2-(8Z,11Z,14Z,17Z-eicosatetraenoyl)-sn-glycero-3-phospho-N-(9Z,12Z,15Z-octadecatrienoyl)-ethanolamine/1-(14Z,17Z,20Z,23Z,26Z-dotriacontapentaenoyl)-2-(9Z,12Z,15Z-octadecatrienoyl)-sn-glycero-3-phospho-N-(5Z,8Z,11Z,14Z-eicosatetraenoyl)-ethanolamine/1-(14Z,17Z,20Z,23Z,26Z-dotriacontapentaenoyl)-2-(9Z-hexadecenoyl)-sn-glycero-3-phospho-N-(4Z,7Z,10Z,13Z,16Z,19Z-docosahexaenoyl)-ethanolamine_0",
         "scene": "scene",
         "showlegend": false,
         "type": "scatter3d",
         "x": [
          1211.886813533229,
          1211.886813533229,
          1212.8901683710292,
          1212.8901683710292
         ],
         "y": [
          10.161999702453613,
          10.87600040435791,
          10.161999702453613,
          10.87600040435791
         ],
         "z": [
          0,
          0,
          0,
          549.286865234375
         ]
        },
        {
         "hovertemplate": "labels=1-(14Z,17Z,20Z,23Z,26Z-dotriacontapentaenoyl)-2-(5Z,8Z,11Z,14Z,17Z-eicosapentaenoyl)-sn-glycero-3-phospho-N-hexanoyl-ethanolamine_0<br>m/z=%{x}<br>rt=%{y}<br>intensity=%{z}<extra></extra>",
         "legendgroup": "1-(14Z,17Z,20Z,23Z,26Z-dotriacontapentaenoyl)-2-(5Z,8Z,11Z,14Z,17Z-eicosapentaenoyl)-sn-glycero-3-phospho-N-hexanoyl-ethanolamine_0",
         "line": {
          "color": "#FFA15A",
          "dash": "solid"
         },
         "marker": {
          "symbol": "circle"
         },
         "mode": "lines",
         "name": "1-(14Z,17Z,20Z,23Z,26Z-dotriacontapentaenoyl)-2-(5Z,8Z,11Z,14Z,17Z-eicosapentaenoyl)-sn-glycero-3-phospho-N-hexanoyl-ethanolamine_0",
         "scene": "scene",
         "showlegend": false,
         "type": "scatter3d",
         "x": [
          1047.730313533229,
          1047.730313533229,
          1048.7336683710291,
          1048.7336683710291
         ],
         "y": [
          5.875,
          6.590000152587891,
          5.875,
          6.590000152587891
         ],
         "z": [
          0,
          0,
          0,
          434.8478088378906
         ]
        },
        {
         "hovertemplate": "labels=1-(14Z,17Z,20Z,23Z,26Z-dotriacontapentaenoyl)-2-(5Z,8Z,11Z,14Z-eicosatetraenoyl)-sn-glycero-3-phospho-N-decanoyl-ethanolamine/1-(14Z,17Z,20Z,23Z,26Z-dotriacontapentaenoyl)-2-(6Z,9Z,12Z,15Z-octadecatetraenoyl)-sn-glycero-3-phospho-N-dodecanoyl-ethanolamine/1-(14Z,17Z,20Z,23Z,26Z-dotriacontapentaenoyl)-2-(7Z,10Z,13Z,16Z-docosatetraenoyl)-sn-glycero-3-phospho-N-octanoyl-ethanolamine/1-(14Z,17Z,20Z,23Z,26Z-dotriacontapentaenoyl)-2-(8Z,11Z,14Z,17Z-eicosatetraenoyl)-sn-glycero-3-phospho-N-decanoyl-ethanolamine/1-(14Z,17Z,20Z,23Z,26Z-dotriacontapentaenoyl)-2-(9Z,12Z,15Z,18Z-tetracosatetraenoyl)-sn-glycero-3-phospho-N-hexanoyl-ethanolamine_0<br>m/z=%{x}<br>rt=%{y}<br>intensity=%{z}<extra></extra>",
         "legendgroup": "1-(14Z,17Z,20Z,23Z,26Z-dotriacontapentaenoyl)-2-(5Z,8Z,11Z,14Z-eicosatetraenoyl)-sn-glycero-3-phospho-N-decanoyl-ethanolamine/1-(14Z,17Z,20Z,23Z,26Z-dotriacontapentaenoyl)-2-(6Z,9Z,12Z,15Z-octadecatetraenoyl)-sn-glycero-3-phospho-N-dodecanoyl-ethanolamine/1-(14Z,17Z,20Z,23Z,26Z-dotriacontapentaenoyl)-2-(7Z,10Z,13Z,16Z-docosatetraenoyl)-sn-glycero-3-phospho-N-octanoyl-ethanolamine/1-(14Z,17Z,20Z,23Z,26Z-dotriacontapentaenoyl)-2-(8Z,11Z,14Z,17Z-eicosatetraenoyl)-sn-glycero-3-phospho-N-decanoyl-ethanolamine/1-(14Z,17Z,20Z,23Z,26Z-dotriacontapentaenoyl)-2-(9Z,12Z,15Z,18Z-tetracosatetraenoyl)-sn-glycero-3-phospho-N-hexanoyl-ethanolamine_0",
         "line": {
          "color": "#19d3f3",
          "dash": "solid"
         },
         "marker": {
          "symbol": "circle"
         },
         "mode": "lines",
         "name": "1-(14Z,17Z,20Z,23Z,26Z-dotriacontapentaenoyl)-2-(5Z,8Z,11Z,14Z-eicosatetraenoyl)-sn-glycero-3-phospho-N-decanoyl-ethanolamine/1-(14Z,17Z,20Z,23Z,26Z-dotriacontapentaenoyl)-2-(6Z,9Z,12Z,15Z-octadecatetraenoyl)-sn-glycero-3-phospho-N-dodecanoyl-ethanolamine/1-(14Z,17Z,20Z,23Z,26Z-dotriacontapentaenoyl)-2-(7Z,10Z,13Z,16Z-docosatetraenoyl)-sn-glycero-3-phospho-N-octanoyl-ethanolamine/1-(14Z,17Z,20Z,23Z,26Z-dotriacontapentaenoyl)-2-(8Z,11Z,14Z,17Z-eicosatetraenoyl)-sn-glycero-3-phospho-N-decanoyl-ethanolamine/1-(14Z,17Z,20Z,23Z,26Z-dotriacontapentaenoyl)-2-(9Z,12Z,15Z,18Z-tetracosatetraenoyl)-sn-glycero-3-phospho-N-hexanoyl-ethanolamine_0",
         "scene": "scene",
         "showlegend": false,
         "type": "scatter3d",
         "x": [
          1105.808563533229,
          1106.8119183710292
         ],
         "y": [
          4.446000099182129,
          4.446000099182129
         ],
         "z": [
          295.3119201660156,
          153.46786499023438
         ]
        },
        {
         "hovertemplate": "labels=1-(14Z,17Z,20Z,23Z,26Z-dotriacontapentaenoyl)-2-(5Z,8Z,11Z,14Z-eicosatetraenoyl)-sn-glycero-3-phospho-N-hexanoyl-ethanolamine/1-(14Z,17Z,20Z,23Z,26Z-dotriacontapentaenoyl)-2-(6Z,9Z,12Z,15Z-octadecatetraenoyl)-sn-glycero-3-phospho-N-octanoyl-ethanolamine/1-(14Z,17Z,20Z,23Z,26Z-dotriacontapentaenoyl)-2-(8Z,11Z,14Z,17Z-eicosatetraenoyl)-sn-glycero-3-phospho-N-hexanoyl-ethanolamine_0<br>m/z=%{x}<br>rt=%{y}<br>intensity=%{z}<extra></extra>",
         "legendgroup": "1-(14Z,17Z,20Z,23Z,26Z-dotriacontapentaenoyl)-2-(5Z,8Z,11Z,14Z-eicosatetraenoyl)-sn-glycero-3-phospho-N-hexanoyl-ethanolamine/1-(14Z,17Z,20Z,23Z,26Z-dotriacontapentaenoyl)-2-(6Z,9Z,12Z,15Z-octadecatetraenoyl)-sn-glycero-3-phospho-N-octanoyl-ethanolamine/1-(14Z,17Z,20Z,23Z,26Z-dotriacontapentaenoyl)-2-(8Z,11Z,14Z,17Z-eicosatetraenoyl)-sn-glycero-3-phospho-N-hexanoyl-ethanolamine_0",
         "line": {
          "color": "#FF6692",
          "dash": "solid"
         },
         "marker": {
          "symbol": "circle"
         },
         "mode": "lines",
         "name": "1-(14Z,17Z,20Z,23Z,26Z-dotriacontapentaenoyl)-2-(5Z,8Z,11Z,14Z-eicosatetraenoyl)-sn-glycero-3-phospho-N-hexanoyl-ethanolamine/1-(14Z,17Z,20Z,23Z,26Z-dotriacontapentaenoyl)-2-(6Z,9Z,12Z,15Z-octadecatetraenoyl)-sn-glycero-3-phospho-N-octanoyl-ethanolamine/1-(14Z,17Z,20Z,23Z,26Z-dotriacontapentaenoyl)-2-(8Z,11Z,14Z,17Z-eicosatetraenoyl)-sn-glycero-3-phospho-N-hexanoyl-ethanolamine_0",
         "scene": "scene",
         "showlegend": false,
         "type": "scatter3d",
         "x": [
          1049.745963533229,
          1049.745963533229,
          1050.7493183710292,
          1050.7493183710292
         ],
         "y": [
          11.590999603271484,
          12.305000305175781,
          11.590999603271484,
          12.305000305175781
         ],
         "z": [
          0,
          0,
          1136.0631103515625,
          0
         ]
        },
        {
         "hovertemplate": "labels=1-(14Z,17Z,20Z,23Z,26Z-dotriacontapentaenoyl)-2-(5Z,8Z,11Z,14Z-eicosatetraenoyl)-sn-glycero-3-phospho-N-octanoyl-ethanolamine/1-(14Z,17Z,20Z,23Z,26Z-dotriacontapentaenoyl)-2-(6Z,9Z,12Z,15Z-octadecatetraenoyl)-sn-glycero-3-phospho-N-decanoyl-ethanolamine/1-(14Z,17Z,20Z,23Z,26Z-dotriacontapentaenoyl)-2-(7Z,10Z,13Z,16Z-docosatetraenoyl)-sn-glycero-3-phospho-N-hexanoyl-ethanolamine/1-(14Z,17Z,20Z,23Z,26Z-dotriacontapentaenoyl)-2-(8Z,11Z,14Z,17Z-eicosatetraenoyl)-sn-glycero-3-phospho-N-octanoyl-ethanolamine_0<br>m/z=%{x}<br>rt=%{y}<br>intensity=%{z}<extra></extra>",
         "legendgroup": "1-(14Z,17Z,20Z,23Z,26Z-dotriacontapentaenoyl)-2-(5Z,8Z,11Z,14Z-eicosatetraenoyl)-sn-glycero-3-phospho-N-octanoyl-ethanolamine/1-(14Z,17Z,20Z,23Z,26Z-dotriacontapentaenoyl)-2-(6Z,9Z,12Z,15Z-octadecatetraenoyl)-sn-glycero-3-phospho-N-decanoyl-ethanolamine/1-(14Z,17Z,20Z,23Z,26Z-dotriacontapentaenoyl)-2-(7Z,10Z,13Z,16Z-docosatetraenoyl)-sn-glycero-3-phospho-N-hexanoyl-ethanolamine/1-(14Z,17Z,20Z,23Z,26Z-dotriacontapentaenoyl)-2-(8Z,11Z,14Z,17Z-eicosatetraenoyl)-sn-glycero-3-phospho-N-octanoyl-ethanolamine_0",
         "line": {
          "color": "#B6E880",
          "dash": "solid"
         },
         "marker": {
          "symbol": "circle"
         },
         "mode": "lines",
         "name": "1-(14Z,17Z,20Z,23Z,26Z-dotriacontapentaenoyl)-2-(5Z,8Z,11Z,14Z-eicosatetraenoyl)-sn-glycero-3-phospho-N-octanoyl-ethanolamine/1-(14Z,17Z,20Z,23Z,26Z-dotriacontapentaenoyl)-2-(6Z,9Z,12Z,15Z-octadecatetraenoyl)-sn-glycero-3-phospho-N-decanoyl-ethanolamine/1-(14Z,17Z,20Z,23Z,26Z-dotriacontapentaenoyl)-2-(7Z,10Z,13Z,16Z-docosatetraenoyl)-sn-glycero-3-phospho-N-hexanoyl-ethanolamine/1-(14Z,17Z,20Z,23Z,26Z-dotriacontapentaenoyl)-2-(8Z,11Z,14Z,17Z-eicosatetraenoyl)-sn-glycero-3-phospho-N-octanoyl-ethanolamine_0",
         "scene": "scene",
         "showlegend": false,
         "type": "scatter3d",
         "x": [
          1077.7772635332292,
          1077.7772635332292,
          1077.7772635332292,
          1078.7806183710293,
          1078.7806183710293,
          1078.7806183710293
         ],
         "y": [
          11.590999603271484,
          12.305000305175781,
          13.019000053405762,
          11.590999603271484,
          12.305000305175781,
          13.019000053405762
         ],
         "z": [
          0,
          0,
          0,
          1319.59033203125,
          1627.6197509765625,
          0
         ]
        },
        {
         "hovertemplate": "labels=1-(14Z,17Z,20Z,23Z,26Z-dotriacontapentaenoyl)-2-(6Z,9Z,12Z,15Z,18Z,21Z-tetracosahexaenoyl)-sn-glycero-3-phospho-N-(4Z,7Z,10Z,13Z,16Z,19Z-docosahexaenoyl)-ethanolamine_0<br>m/z=%{x}<br>rt=%{y}<br>intensity=%{z}<extra></extra>",
         "legendgroup": "1-(14Z,17Z,20Z,23Z,26Z-dotriacontapentaenoyl)-2-(6Z,9Z,12Z,15Z,18Z,21Z-tetracosahexaenoyl)-sn-glycero-3-phospho-N-(4Z,7Z,10Z,13Z,16Z,19Z-docosahexaenoyl)-ethanolamine_0",
         "line": {
          "color": "#FF97FF",
          "dash": "solid"
         },
         "marker": {
          "symbol": "circle"
         },
         "mode": "lines",
         "name": "1-(14Z,17Z,20Z,23Z,26Z-dotriacontapentaenoyl)-2-(6Z,9Z,12Z,15Z,18Z,21Z-tetracosahexaenoyl)-sn-glycero-3-phospho-N-(4Z,7Z,10Z,13Z,16Z,19Z-docosahexaenoyl)-ethanolamine_0",
         "scene": "scene",
         "showlegend": false,
         "type": "scatter3d",
         "x": [
          1313.933763533229,
          1313.933763533229,
          1314.937118371029,
          1314.937118371029
         ],
         "y": [
          8.017999649047852,
          8.732999801635742,
          8.017999649047852,
          8.732999801635742
         ],
         "z": [
          0,
          489.5495910644531,
          92.24143981933594,
          5.016988754272461
         ]
        },
        {
         "hovertemplate": "labels=1-(14Z,17Z,20Z,23Z,26Z-dotriacontapentaenoyl)-2-(6Z,9Z,12Z,15Z,18Z,21Z-tetracosahexaenoyl)-sn-glycero-3-phospho-N-(5Z,8Z,11Z,14Z-eicosatetraenoyl)-ethanolamine/1-(14Z,17Z,20Z,23Z,26Z-dotriacontapentaenoyl)-2-(7Z,10Z,13Z,16Z-docosatetraenoyl)-sn-glycero-3-phospho-N-(4Z,7Z,10Z,13Z,16Z,19Z-docosahexaenoyl)-ethanolamine_0<br>m/z=%{x}<br>rt=%{y}<br>intensity=%{z}<extra></extra>",
         "legendgroup": "1-(14Z,17Z,20Z,23Z,26Z-dotriacontapentaenoyl)-2-(6Z,9Z,12Z,15Z,18Z,21Z-tetracosahexaenoyl)-sn-glycero-3-phospho-N-(5Z,8Z,11Z,14Z-eicosatetraenoyl)-ethanolamine/1-(14Z,17Z,20Z,23Z,26Z-dotriacontapentaenoyl)-2-(7Z,10Z,13Z,16Z-docosatetraenoyl)-sn-glycero-3-phospho-N-(4Z,7Z,10Z,13Z,16Z,19Z-docosahexaenoyl)-ethanolamine_0",
         "line": {
          "color": "#FECB52",
          "dash": "solid"
         },
         "marker": {
          "symbol": "circle"
         },
         "mode": "lines",
         "name": "1-(14Z,17Z,20Z,23Z,26Z-dotriacontapentaenoyl)-2-(6Z,9Z,12Z,15Z,18Z,21Z-tetracosahexaenoyl)-sn-glycero-3-phospho-N-(5Z,8Z,11Z,14Z-eicosatetraenoyl)-ethanolamine/1-(14Z,17Z,20Z,23Z,26Z-dotriacontapentaenoyl)-2-(7Z,10Z,13Z,16Z-docosatetraenoyl)-sn-glycero-3-phospho-N-(4Z,7Z,10Z,13Z,16Z,19Z-docosahexaenoyl)-ethanolamine_0",
         "scene": "scene",
         "showlegend": false,
         "type": "scatter3d",
         "x": [
          1289.933763533229,
          1289.933763533229,
          1290.937118371029,
          1290.937118371029
         ],
         "y": [
          13.019000053405762,
          13.734000205993652,
          13.019000053405762,
          13.734000205993652
         ],
         "z": [
          2219.52783203125,
          0,
          0,
          966.7363891601562
         ]
        },
        {
         "hovertemplate": "labels=1-(14Z,17Z,20Z,23Z,26Z-dotriacontapentaenoyl)-2-(6Z,9Z,12Z,15Z,18Z-tetracosapentaenoyl)-sn-glycero-3-phospho-N-(4Z,7Z,10Z,13Z,16Z,19Z-docosahexaenoyl)-ethanolamine/1-(14Z,17Z,20Z,23Z,26Z-dotriacontapentaenoyl)-2-(9Z,12Z,15Z,18Z,21Z-tetracosapentaenoyl)-sn-glycero-3-phospho-N-(4Z,7Z,10Z,13Z,16Z,19Z-docosahexaenoyl)-ethanolamine_0<br>m/z=%{x}<br>rt=%{y}<br>intensity=%{z}<extra></extra>",
         "legendgroup": "1-(14Z,17Z,20Z,23Z,26Z-dotriacontapentaenoyl)-2-(6Z,9Z,12Z,15Z,18Z-tetracosapentaenoyl)-sn-glycero-3-phospho-N-(4Z,7Z,10Z,13Z,16Z,19Z-docosahexaenoyl)-ethanolamine/1-(14Z,17Z,20Z,23Z,26Z-dotriacontapentaenoyl)-2-(9Z,12Z,15Z,18Z,21Z-tetracosapentaenoyl)-sn-glycero-3-phospho-N-(4Z,7Z,10Z,13Z,16Z,19Z-docosahexaenoyl)-ethanolamine_0",
         "line": {
          "color": "#636efa",
          "dash": "solid"
         },
         "marker": {
          "symbol": "circle"
         },
         "mode": "lines",
         "name": "1-(14Z,17Z,20Z,23Z,26Z-dotriacontapentaenoyl)-2-(6Z,9Z,12Z,15Z,18Z-tetracosapentaenoyl)-sn-glycero-3-phospho-N-(4Z,7Z,10Z,13Z,16Z,19Z-docosahexaenoyl)-ethanolamine/1-(14Z,17Z,20Z,23Z,26Z-dotriacontapentaenoyl)-2-(9Z,12Z,15Z,18Z,21Z-tetracosapentaenoyl)-sn-glycero-3-phospho-N-(4Z,7Z,10Z,13Z,16Z,19Z-docosahexaenoyl)-ethanolamine_0",
         "scene": "scene",
         "showlegend": false,
         "type": "scatter3d",
         "x": [
          1315.949413533229,
          1315.949413533229,
          1316.9527683710292,
          1316.9527683710292
         ],
         "y": [
          7.303999900817871,
          8.017999649047852,
          7.303999900817871,
          8.017999649047852
         ],
         "z": [
          0,
          16.033355712890625,
          0,
          182.56300354003906
         ]
        },
        {
         "hovertemplate": "labels=1-(14Z,17Z,20Z,23Z,26Z-dotriacontapentaenoyl)-2-(6Z,9Z,12Z,15Z-octadecatetraenoyl)-sn-glycero-3-phospho-N-(4Z,7Z,10Z,13Z,16Z,19Z-docosahexaenoyl)-ethanolamine_0<br>m/z=%{x}<br>rt=%{y}<br>intensity=%{z}<extra></extra>",
         "legendgroup": "1-(14Z,17Z,20Z,23Z,26Z-dotriacontapentaenoyl)-2-(6Z,9Z,12Z,15Z-octadecatetraenoyl)-sn-glycero-3-phospho-N-(4Z,7Z,10Z,13Z,16Z,19Z-docosahexaenoyl)-ethanolamine_0",
         "line": {
          "color": "#EF553B",
          "dash": "solid"
         },
         "marker": {
          "symbol": "circle"
         },
         "mode": "lines",
         "name": "1-(14Z,17Z,20Z,23Z,26Z-dotriacontapentaenoyl)-2-(6Z,9Z,12Z,15Z-octadecatetraenoyl)-sn-glycero-3-phospho-N-(4Z,7Z,10Z,13Z,16Z,19Z-docosahexaenoyl)-ethanolamine_0",
         "scene": "scene",
         "showlegend": false,
         "type": "scatter3d",
         "x": [
          1233.871163533229,
          1233.871163533229,
          1233.871163533229,
          1234.8745183710294,
          1234.8745183710294,
          1234.8745183710294
         ],
         "y": [
          5.160999774932861,
          5.875,
          6.590000152587891,
          5.160999774932861,
          5.875,
          6.590000152587891
         ],
         "z": [
          0,
          66.5868911743164,
          0,
          0,
          0,
          0
         ]
        },
        {
         "hovertemplate": "labels=1-(14Z,17Z,20Z,23Z,26Z-dotriacontapentaenoyl)-2-(6Z,9Z,12Z,15Z-octadecatetraenoyl)-sn-glycero-3-phospho-N-(6Z,9Z,12Z-octadecatrienoyl)-ethanolamine/1-(14Z,17Z,20Z,23Z,26Z-dotriacontapentaenoyl)-2-(6Z,9Z,12Z,15Z-octadecatetraenoyl)-sn-glycero-3-phospho-N-(9Z,12Z,15Z-octadecatrienoyl)-ethanolamine_0<br>m/z=%{x}<br>rt=%{y}<br>intensity=%{z}<extra></extra>",
         "legendgroup": "1-(14Z,17Z,20Z,23Z,26Z-dotriacontapentaenoyl)-2-(6Z,9Z,12Z,15Z-octadecatetraenoyl)-sn-glycero-3-phospho-N-(6Z,9Z,12Z-octadecatrienoyl)-ethanolamine/1-(14Z,17Z,20Z,23Z,26Z-dotriacontapentaenoyl)-2-(6Z,9Z,12Z,15Z-octadecatetraenoyl)-sn-glycero-3-phospho-N-(9Z,12Z,15Z-octadecatrienoyl)-ethanolamine_0",
         "line": {
          "color": "#00cc96",
          "dash": "solid"
         },
         "marker": {
          "symbol": "circle"
         },
         "mode": "lines",
         "name": "1-(14Z,17Z,20Z,23Z,26Z-dotriacontapentaenoyl)-2-(6Z,9Z,12Z,15Z-octadecatetraenoyl)-sn-glycero-3-phospho-N-(6Z,9Z,12Z-octadecatrienoyl)-ethanolamine/1-(14Z,17Z,20Z,23Z,26Z-dotriacontapentaenoyl)-2-(6Z,9Z,12Z,15Z-octadecatetraenoyl)-sn-glycero-3-phospho-N-(9Z,12Z,15Z-octadecatrienoyl)-ethanolamine_0",
         "scene": "scene",
         "showlegend": false,
         "type": "scatter3d",
         "x": [
          1183.855513533229,
          1183.855513533229,
          1184.858868371029,
          1184.858868371029
         ],
         "y": [
          5.160999774932861,
          5.875,
          5.160999774932861,
          5.875
         ],
         "z": [
          36.83401107788086,
          74.54130554199219,
          31.127769470214844,
          0
         ]
        },
        {
         "hovertemplate": "labels=1-(14Z,17Z,20Z,23Z,26Z-dotriacontapentaenoyl)-2-(6Z,9Z,12Z,15Z-octadecatetraenoyl)-sn-glycero-3-phospho-N-hexanoyl-ethanolamine_0<br>m/z=%{x}<br>rt=%{y}<br>intensity=%{z}<extra></extra>",
         "legendgroup": "1-(14Z,17Z,20Z,23Z,26Z-dotriacontapentaenoyl)-2-(6Z,9Z,12Z,15Z-octadecatetraenoyl)-sn-glycero-3-phospho-N-hexanoyl-ethanolamine_0",
         "line": {
          "color": "#ab63fa",
          "dash": "solid"
         },
         "marker": {
          "symbol": "circle"
         },
         "mode": "lines",
         "name": "1-(14Z,17Z,20Z,23Z,26Z-dotriacontapentaenoyl)-2-(6Z,9Z,12Z,15Z-octadecatetraenoyl)-sn-glycero-3-phospho-N-hexanoyl-ethanolamine_0",
         "scene": "scene",
         "showlegend": false,
         "type": "scatter3d",
         "x": [
          1021.7146635332289,
          1021.7146635332289,
          1021.7146635332289,
          1021.7146635332289,
          1021.7146635332289,
          1022.718018371029,
          1022.718018371029,
          1022.718018371029,
          1022.718018371029,
          1022.718018371029
         ],
         "y": [
          8.017999649047852,
          8.732999801635742,
          9.446999549865723,
          10.161999702453613,
          10.87600040435791,
          8.017999649047852,
          8.732999801635742,
          9.446999549865723,
          10.161999702453613,
          10.87600040435791
         ],
         "z": [
          0,
          151.11366271972656,
          780.4408569335938,
          287.6728515625,
          0,
          0,
          0,
          87.76758575439453,
          563.3932495117188,
          0
         ]
        },
        {
         "hovertemplate": "labels=1-(14Z,17Z,20Z,23Z,26Z-dotriacontapentaenoyl)-2-(6Z,9Z,12Z-octadecatrienoyl)-sn-glycero-3-phospho-N-hexanoyl-ethanolamine/1-(14Z,17Z,20Z,23Z,26Z-dotriacontapentaenoyl)-2-(9Z,12Z,15Z-octadecatrienoyl)-sn-glycero-3-phospho-N-hexanoyl-ethanolamine_0<br>m/z=%{x}<br>rt=%{y}<br>intensity=%{z}<extra></extra>",
         "legendgroup": "1-(14Z,17Z,20Z,23Z,26Z-dotriacontapentaenoyl)-2-(6Z,9Z,12Z-octadecatrienoyl)-sn-glycero-3-phospho-N-hexanoyl-ethanolamine/1-(14Z,17Z,20Z,23Z,26Z-dotriacontapentaenoyl)-2-(9Z,12Z,15Z-octadecatrienoyl)-sn-glycero-3-phospho-N-hexanoyl-ethanolamine_0",
         "line": {
          "color": "#FFA15A",
          "dash": "solid"
         },
         "marker": {
          "symbol": "circle"
         },
         "mode": "lines",
         "name": "1-(14Z,17Z,20Z,23Z,26Z-dotriacontapentaenoyl)-2-(6Z,9Z,12Z-octadecatrienoyl)-sn-glycero-3-phospho-N-hexanoyl-ethanolamine/1-(14Z,17Z,20Z,23Z,26Z-dotriacontapentaenoyl)-2-(9Z,12Z,15Z-octadecatrienoyl)-sn-glycero-3-phospho-N-hexanoyl-ethanolamine_0",
         "scene": "scene",
         "showlegend": false,
         "type": "scatter3d",
         "x": [
          1023.7303135332289,
          1023.7303135332289,
          1023.7303135332289,
          1023.7303135332289,
          1023.7303135332289,
          1023.7303135332289,
          1023.7303135332289,
          1024.733668371029,
          1024.733668371029,
          1024.733668371029,
          1024.733668371029,
          1024.733668371029,
          1024.733668371029,
          1024.733668371029
         ],
         "y": [
          9.446999549865723,
          10.161999702453613,
          10.87600040435791,
          11.590999603271484,
          12.305000305175781,
          13.019000053405762,
          13.734000205993652,
          9.446999549865723,
          10.161999702453613,
          10.87600040435791,
          11.590999603271484,
          12.305000305175781,
          13.019000053405762,
          13.734000205993652
         ],
         "z": [
          0,
          529.8134765625,
          707.048095703125,
          1669.5909423828125,
          1371.0179443359375,
          1102.0335693359375,
          0,
          708.424072265625,
          973.0715942382812,
          0,
          0,
          0,
          1779.3983154296875,
          0
         ]
        },
        {
         "hovertemplate": "labels=1-(14Z,17Z,20Z,23Z,26Z-dotriacontapentaenoyl)-2-(6Z-hexadecenoyl)-sn-glycero-3-phospho-N-hexanoyl-ethanolamine/1-(14Z,17Z,20Z,23Z,26Z-dotriacontapentaenoyl)-2-(9Z-hexadecenoyl)-sn-glycero-3-phospho-N-hexanoyl-ethanolamine_0<br>m/z=%{x}<br>rt=%{y}<br>intensity=%{z}<extra></extra>",
         "legendgroup": "1-(14Z,17Z,20Z,23Z,26Z-dotriacontapentaenoyl)-2-(6Z-hexadecenoyl)-sn-glycero-3-phospho-N-hexanoyl-ethanolamine/1-(14Z,17Z,20Z,23Z,26Z-dotriacontapentaenoyl)-2-(9Z-hexadecenoyl)-sn-glycero-3-phospho-N-hexanoyl-ethanolamine_0",
         "line": {
          "color": "#19d3f3",
          "dash": "solid"
         },
         "marker": {
          "symbol": "circle"
         },
         "mode": "lines",
         "name": "1-(14Z,17Z,20Z,23Z,26Z-dotriacontapentaenoyl)-2-(6Z-hexadecenoyl)-sn-glycero-3-phospho-N-hexanoyl-ethanolamine/1-(14Z,17Z,20Z,23Z,26Z-dotriacontapentaenoyl)-2-(9Z-hexadecenoyl)-sn-glycero-3-phospho-N-hexanoyl-ethanolamine_0",
         "scene": "scene",
         "showlegend": false,
         "type": "scatter3d",
         "x": [
          999.7303135332289,
          999.7303135332289,
          999.7303135332289,
          1000.7336683710289,
          1000.7336683710289,
          1000.7336683710289
         ],
         "y": [
          5.160999774932861,
          5.875,
          6.590000152587891,
          5.160999774932861,
          5.875,
          6.590000152587891
         ],
         "z": [
          0,
          10.051482200622559,
          95.09044647216797,
          453.6282958984375,
          230.80157470703125,
          51.08539581298828
         ]
        },
        {
         "hovertemplate": "labels=1-(14Z,17Z,20Z,23Z,26Z-dotriacontapentaenoyl)-2-(8Z,11Z,14Z,17Z,20Z,23Z-hexacosahexaenoyl)-sn-glycero-3-phospho-N-(4Z,7Z,10Z,13Z,16Z,19Z-docosahexaenoyl)-ethanolamine_0<br>m/z=%{x}<br>rt=%{y}<br>intensity=%{z}<extra></extra>",
         "legendgroup": "1-(14Z,17Z,20Z,23Z,26Z-dotriacontapentaenoyl)-2-(8Z,11Z,14Z,17Z,20Z,23Z-hexacosahexaenoyl)-sn-glycero-3-phospho-N-(4Z,7Z,10Z,13Z,16Z,19Z-docosahexaenoyl)-ethanolamine_0",
         "line": {
          "color": "#FF6692",
          "dash": "solid"
         },
         "marker": {
          "symbol": "circle"
         },
         "mode": "lines",
         "name": "1-(14Z,17Z,20Z,23Z,26Z-dotriacontapentaenoyl)-2-(8Z,11Z,14Z,17Z,20Z,23Z-hexacosahexaenoyl)-sn-glycero-3-phospho-N-(4Z,7Z,10Z,13Z,16Z,19Z-docosahexaenoyl)-ethanolamine_0",
         "scene": "scene",
         "showlegend": false,
         "type": "scatter3d",
         "x": [
          1341.965073533229,
          1341.965073533229,
          1342.9684283710292,
          1342.9684283710292
         ],
         "y": [
          8.017999649047852,
          8.732999801635742,
          8.017999649047852,
          8.732999801635742
         ],
         "z": [
          0,
          547.1226196289062,
          0,
          483.0057678222656
         ]
        },
        {
         "hovertemplate": "labels=1-(14Z,17Z,20Z,23Z,26Z-dotriacontapentaenoyl)-2-(8Z,11Z,14Z,17Z,20Z,23Z-hexacosahexaenoyl)-sn-glycero-3-phospho-N-(5Z,8Z,11Z,14Z-eicosatetraenoyl)-ethanolamine/1-(14Z,17Z,20Z,23Z,26Z-dotriacontapentaenoyl)-2-(9Z,12Z,15Z,18Z-tetracosatetraenoyl)-sn-glycero-3-phospho-N-(4Z,7Z,10Z,13Z,16Z,19Z-docosahexaenoyl)-ethanolamine_0<br>m/z=%{x}<br>rt=%{y}<br>intensity=%{z}<extra></extra>",
         "legendgroup": "1-(14Z,17Z,20Z,23Z,26Z-dotriacontapentaenoyl)-2-(8Z,11Z,14Z,17Z,20Z,23Z-hexacosahexaenoyl)-sn-glycero-3-phospho-N-(5Z,8Z,11Z,14Z-eicosatetraenoyl)-ethanolamine/1-(14Z,17Z,20Z,23Z,26Z-dotriacontapentaenoyl)-2-(9Z,12Z,15Z,18Z-tetracosatetraenoyl)-sn-glycero-3-phospho-N-(4Z,7Z,10Z,13Z,16Z,19Z-docosahexaenoyl)-ethanolamine_0",
         "line": {
          "color": "#B6E880",
          "dash": "solid"
         },
         "marker": {
          "symbol": "circle"
         },
         "mode": "lines",
         "name": "1-(14Z,17Z,20Z,23Z,26Z-dotriacontapentaenoyl)-2-(8Z,11Z,14Z,17Z,20Z,23Z-hexacosahexaenoyl)-sn-glycero-3-phospho-N-(5Z,8Z,11Z,14Z-eicosatetraenoyl)-ethanolamine/1-(14Z,17Z,20Z,23Z,26Z-dotriacontapentaenoyl)-2-(9Z,12Z,15Z,18Z-tetracosatetraenoyl)-sn-glycero-3-phospho-N-(4Z,7Z,10Z,13Z,16Z,19Z-docosahexaenoyl)-ethanolamine_0",
         "scene": "scene",
         "showlegend": false,
         "type": "scatter3d",
         "x": [
          1317.965073533229,
          1317.965073533229,
          1317.965073533229,
          1317.965073533229,
          1317.965073533229,
          1318.9684283710292,
          1318.9684283710292,
          1318.9684283710292,
          1318.9684283710292,
          1318.9684283710292
         ],
         "y": [
          8.017999649047852,
          8.732999801635742,
          9.446999549865723,
          10.161999702453613,
          10.87600040435791,
          8.017999649047852,
          8.732999801635742,
          9.446999549865723,
          10.161999702453613,
          10.87600040435791
         ],
         "z": [
          0,
          187.11346435546875,
          160.8105926513672,
          0,
          0,
          42.34138488769531,
          0,
          285.2799072265625,
          248.00262451171875,
          0
         ]
        },
        {
         "hovertemplate": "labels=1-(14Z,17Z,20Z,23Z,26Z-dotriacontapentaenoyl)-2-(9Z,11E-octadecadienoyl)-sn-glycero-3-phospho-N-hexanoyl-ethanolamine/1-(14Z,17Z,20Z,23Z,26Z-dotriacontapentaenoyl)-2-(9Z,12Z-hexadecadienoyl)-sn-glycero-3-phospho-N-octanoyl-ethanolamine/1-(14Z,17Z,20Z,23Z,26Z-dotriacontapentaenoyl)-2-(9Z,12Z-octadecadienoyl)-sn-glycero-3-phospho-N-hexanoyl-ethanolamine_0<br>m/z=%{x}<br>rt=%{y}<br>intensity=%{z}<extra></extra>",
         "legendgroup": "1-(14Z,17Z,20Z,23Z,26Z-dotriacontapentaenoyl)-2-(9Z,11E-octadecadienoyl)-sn-glycero-3-phospho-N-hexanoyl-ethanolamine/1-(14Z,17Z,20Z,23Z,26Z-dotriacontapentaenoyl)-2-(9Z,12Z-hexadecadienoyl)-sn-glycero-3-phospho-N-octanoyl-ethanolamine/1-(14Z,17Z,20Z,23Z,26Z-dotriacontapentaenoyl)-2-(9Z,12Z-octadecadienoyl)-sn-glycero-3-phospho-N-hexanoyl-ethanolamine_0",
         "line": {
          "color": "#FF97FF",
          "dash": "solid"
         },
         "marker": {
          "symbol": "circle"
         },
         "mode": "lines",
         "name": "1-(14Z,17Z,20Z,23Z,26Z-dotriacontapentaenoyl)-2-(9Z,11E-octadecadienoyl)-sn-glycero-3-phospho-N-hexanoyl-ethanolamine/1-(14Z,17Z,20Z,23Z,26Z-dotriacontapentaenoyl)-2-(9Z,12Z-hexadecadienoyl)-sn-glycero-3-phospho-N-octanoyl-ethanolamine/1-(14Z,17Z,20Z,23Z,26Z-dotriacontapentaenoyl)-2-(9Z,12Z-octadecadienoyl)-sn-glycero-3-phospho-N-hexanoyl-ethanolamine_0",
         "scene": "scene",
         "showlegend": false,
         "type": "scatter3d",
         "x": [
          1025.745963533229,
          1025.745963533229,
          1025.745963533229,
          1026.7493183710292,
          1026.7493183710292,
          1026.7493183710292
         ],
         "y": [
          9.446999549865723,
          10.161999702453613,
          10.87600040435791,
          9.446999549865723,
          10.161999702453613,
          10.87600040435791
         ],
         "z": [
          420.454833984375,
          864.2484130859375,
          0,
          0,
          535.4525756835938,
          0
         ]
        },
        {
         "hovertemplate": "labels=1-(14Z,17Z,20Z,23Z,26Z-dotriacontapentaenoyl)-2-(9Z,12Z-hexadecadienoyl)-sn-glycero-3-phospho-N-hexanoyl-ethanolamine_0<br>m/z=%{x}<br>rt=%{y}<br>intensity=%{z}<extra></extra>",
         "legendgroup": "1-(14Z,17Z,20Z,23Z,26Z-dotriacontapentaenoyl)-2-(9Z,12Z-hexadecadienoyl)-sn-glycero-3-phospho-N-hexanoyl-ethanolamine_0",
         "line": {
          "color": "#FECB52",
          "dash": "solid"
         },
         "marker": {
          "symbol": "circle"
         },
         "mode": "lines",
         "name": "1-(14Z,17Z,20Z,23Z,26Z-dotriacontapentaenoyl)-2-(9Z,12Z-hexadecadienoyl)-sn-glycero-3-phospho-N-hexanoyl-ethanolamine_0",
         "scene": "scene",
         "showlegend": false,
         "type": "scatter3d",
         "x": [
          997.7146635332289,
          997.7146635332289,
          998.718018371029,
          998.718018371029
         ],
         "y": [
          5.875,
          6.590000152587891,
          5.875,
          6.590000152587891
         ],
         "z": [
          0,
          283.70574951171875,
          0,
          78.9889907836914
         ]
        },
        {
         "hovertemplate": "labels=1-(14Z,17Z,20Z,23Z,26Z-dotriacontapentaenoyl)-2-docosanoyl-sn-glycero-3-phospho-N-decanoyl-ethanolamine/1-(14Z,17Z,20Z,23Z,26Z-dotriacontapentaenoyl)-2-eicosanoyl-sn-glycero-3-phospho-N-dodecanoyl-ethanolamine/1-(14Z,17Z,20Z,23Z,26Z-dotriacontapentaenoyl)-2-hexacosanoyl-sn-glycero-3-phospho-N-hexanoyl-ethanolamine/1-(14Z,17Z,20Z,23Z,26Z-dotriacontapentaenoyl)-2-hexadecanoyl-sn-glycero-3-phospho-N-hexadecanoyl-ethanolamine/1-(14Z,17Z,20Z,23Z,26Z-dotriacontapentaenoyl)-2-octadecanoyl-sn-glycero-3-phospho-N-tetradecanoyl-ethanolamine/1-(14Z,17Z,20Z,23Z,26Z-dotriacontapentaenoyl)-2-tetracosanoyl-sn-glycero-3-phospho-N-octanoyl-ethanolamine_0<br>m/z=%{x}<br>rt=%{y}<br>intensity=%{z}<extra></extra>",
         "legendgroup": "1-(14Z,17Z,20Z,23Z,26Z-dotriacontapentaenoyl)-2-docosanoyl-sn-glycero-3-phospho-N-decanoyl-ethanolamine/1-(14Z,17Z,20Z,23Z,26Z-dotriacontapentaenoyl)-2-eicosanoyl-sn-glycero-3-phospho-N-dodecanoyl-ethanolamine/1-(14Z,17Z,20Z,23Z,26Z-dotriacontapentaenoyl)-2-hexacosanoyl-sn-glycero-3-phospho-N-hexanoyl-ethanolamine/1-(14Z,17Z,20Z,23Z,26Z-dotriacontapentaenoyl)-2-hexadecanoyl-sn-glycero-3-phospho-N-hexadecanoyl-ethanolamine/1-(14Z,17Z,20Z,23Z,26Z-dotriacontapentaenoyl)-2-octadecanoyl-sn-glycero-3-phospho-N-tetradecanoyl-ethanolamine/1-(14Z,17Z,20Z,23Z,26Z-dotriacontapentaenoyl)-2-tetracosanoyl-sn-glycero-3-phospho-N-octanoyl-ethanolamine_0",
         "line": {
          "color": "#636efa",
          "dash": "solid"
         },
         "marker": {
          "symbol": "circle"
         },
         "mode": "lines",
         "name": "1-(14Z,17Z,20Z,23Z,26Z-dotriacontapentaenoyl)-2-docosanoyl-sn-glycero-3-phospho-N-decanoyl-ethanolamine/1-(14Z,17Z,20Z,23Z,26Z-dotriacontapentaenoyl)-2-eicosanoyl-sn-glycero-3-phospho-N-dodecanoyl-ethanolamine/1-(14Z,17Z,20Z,23Z,26Z-dotriacontapentaenoyl)-2-hexacosanoyl-sn-glycero-3-phospho-N-hexanoyl-ethanolamine/1-(14Z,17Z,20Z,23Z,26Z-dotriacontapentaenoyl)-2-hexadecanoyl-sn-glycero-3-phospho-N-hexadecanoyl-ethanolamine/1-(14Z,17Z,20Z,23Z,26Z-dotriacontapentaenoyl)-2-octadecanoyl-sn-glycero-3-phospho-N-tetradecanoyl-ethanolamine/1-(14Z,17Z,20Z,23Z,26Z-dotriacontapentaenoyl)-2-tetracosanoyl-sn-glycero-3-phospho-N-octanoyl-ethanolamine_0",
         "scene": "scene",
         "showlegend": false,
         "type": "scatter3d",
         "x": [
          1141.9024635332291,
          1141.9024635332291,
          1141.9024635332291,
          1142.9058183710292,
          1142.9058183710292,
          1142.9058183710292
         ],
         "y": [
          9.446999549865723,
          10.161999702453613,
          10.87600040435791,
          9.446999549865723,
          10.161999702453613,
          10.87600040435791
         ],
         "z": [
          0,
          0,
          0,
          0,
          713.1109008789062,
          0
         ]
        },
        {
         "hovertemplate": "labels=1-(14Z,17Z,20Z,23Z,26Z-dotriacontapentaenoyl)-2-docosanoyl-sn-glycero-3-phospho-N-dodecanoyl-ethanolamine/1-(14Z,17Z,20Z,23Z,26Z-dotriacontapentaenoyl)-2-eicosanoyl-sn-glycero-3-phospho-N-tetradecanoyl-ethanolamine/1-(14Z,17Z,20Z,23Z,26Z-dotriacontapentaenoyl)-2-hexacosanoyl-sn-glycero-3-phospho-N-octanoyl-ethanolamine/1-(14Z,17Z,20Z,23Z,26Z-dotriacontapentaenoyl)-2-hexadecanoyl-sn-glycero-3-phospho-N-octadecanoyl-ethanolamine/1-(14Z,17Z,20Z,23Z,26Z-dotriacontapentaenoyl)-2-octacosanoyl-sn-glycero-3-phospho-N-hexanoyl-ethanolamine/1-(14Z,17Z,20Z,23Z,26Z-dotriacontapentaenoyl)-2-octadecanoyl-sn-glycero-3-phospho-N-hexadecanoyl-ethanolamine/1-(14Z,17Z,20Z,23Z,26Z-dotriacontapentaenoyl)-2-tetracosanoyl-sn-glycero-3-phospho-N-decanoyl-ethanolamine_0<br>m/z=%{x}<br>rt=%{y}<br>intensity=%{z}<extra></extra>",
         "legendgroup": "1-(14Z,17Z,20Z,23Z,26Z-dotriacontapentaenoyl)-2-docosanoyl-sn-glycero-3-phospho-N-dodecanoyl-ethanolamine/1-(14Z,17Z,20Z,23Z,26Z-dotriacontapentaenoyl)-2-eicosanoyl-sn-glycero-3-phospho-N-tetradecanoyl-ethanolamine/1-(14Z,17Z,20Z,23Z,26Z-dotriacontapentaenoyl)-2-hexacosanoyl-sn-glycero-3-phospho-N-octanoyl-ethanolamine/1-(14Z,17Z,20Z,23Z,26Z-dotriacontapentaenoyl)-2-hexadecanoyl-sn-glycero-3-phospho-N-octadecanoyl-ethanolamine/1-(14Z,17Z,20Z,23Z,26Z-dotriacontapentaenoyl)-2-octacosanoyl-sn-glycero-3-phospho-N-hexanoyl-ethanolamine/1-(14Z,17Z,20Z,23Z,26Z-dotriacontapentaenoyl)-2-octadecanoyl-sn-glycero-3-phospho-N-hexadecanoyl-ethanolamine/1-(14Z,17Z,20Z,23Z,26Z-dotriacontapentaenoyl)-2-tetracosanoyl-sn-glycero-3-phospho-N-decanoyl-ethanolamine_0",
         "line": {
          "color": "#EF553B",
          "dash": "solid"
         },
         "marker": {
          "symbol": "circle"
         },
         "mode": "lines",
         "name": "1-(14Z,17Z,20Z,23Z,26Z-dotriacontapentaenoyl)-2-docosanoyl-sn-glycero-3-phospho-N-dodecanoyl-ethanolamine/1-(14Z,17Z,20Z,23Z,26Z-dotriacontapentaenoyl)-2-eicosanoyl-sn-glycero-3-phospho-N-tetradecanoyl-ethanolamine/1-(14Z,17Z,20Z,23Z,26Z-dotriacontapentaenoyl)-2-hexacosanoyl-sn-glycero-3-phospho-N-octanoyl-ethanolamine/1-(14Z,17Z,20Z,23Z,26Z-dotriacontapentaenoyl)-2-hexadecanoyl-sn-glycero-3-phospho-N-octadecanoyl-ethanolamine/1-(14Z,17Z,20Z,23Z,26Z-dotriacontapentaenoyl)-2-octacosanoyl-sn-glycero-3-phospho-N-hexanoyl-ethanolamine/1-(14Z,17Z,20Z,23Z,26Z-dotriacontapentaenoyl)-2-octadecanoyl-sn-glycero-3-phospho-N-hexadecanoyl-ethanolamine/1-(14Z,17Z,20Z,23Z,26Z-dotriacontapentaenoyl)-2-tetracosanoyl-sn-glycero-3-phospho-N-decanoyl-ethanolamine_0",
         "scene": "scene",
         "showlegend": false,
         "type": "scatter3d",
         "x": [
          1169.933763533229,
          1169.933763533229,
          1170.937118371029,
          1170.937118371029
         ],
         "y": [
          13.019000053405762,
          13.734000205993652,
          13.019000053405762,
          13.734000205993652
         ],
         "z": [
          1153.9227294921875,
          0,
          0,
          479.2025451660156
         ]
        },
        {
         "hovertemplate": "labels=1-(14Z,17Z,20Z,23Z,26Z-dotriacontapentaenoyl)-2-docosanoyl-sn-glycero-3-phospho-N-hexadecanoyl-ethanolamine/1-(14Z,17Z,20Z,23Z,26Z-dotriacontapentaenoyl)-2-eicosanoyl-sn-glycero-3-phospho-N-octadecanoyl-ethanolamine/1-(14Z,17Z,20Z,23Z,26Z-dotriacontapentaenoyl)-2-hexacosanoyl-sn-glycero-3-phospho-N-dodecanoyl-ethanolamine/1-(14Z,17Z,20Z,23Z,26Z-dotriacontapentaenoyl)-2-octacosanoyl-sn-glycero-3-phospho-N-decanoyl-ethanolamine/1-(14Z,17Z,20Z,23Z,26Z-dotriacontapentaenoyl)-2-tetracosanoyl-sn-glycero-3-phospho-N-tetradecanoyl-ethanolamine/1-(14Z,17Z,20Z,23Z,26Z-dotriacontapentaenoyl)-2-triacontanoyl-sn-glycero-3-phospho-N-octanoyl-ethanolamine_0<br>m/z=%{x}<br>rt=%{y}<br>intensity=%{z}<extra></extra>",
         "legendgroup": "1-(14Z,17Z,20Z,23Z,26Z-dotriacontapentaenoyl)-2-docosanoyl-sn-glycero-3-phospho-N-hexadecanoyl-ethanolamine/1-(14Z,17Z,20Z,23Z,26Z-dotriacontapentaenoyl)-2-eicosanoyl-sn-glycero-3-phospho-N-octadecanoyl-ethanolamine/1-(14Z,17Z,20Z,23Z,26Z-dotriacontapentaenoyl)-2-hexacosanoyl-sn-glycero-3-phospho-N-dodecanoyl-ethanolamine/1-(14Z,17Z,20Z,23Z,26Z-dotriacontapentaenoyl)-2-octacosanoyl-sn-glycero-3-phospho-N-decanoyl-ethanolamine/1-(14Z,17Z,20Z,23Z,26Z-dotriacontapentaenoyl)-2-tetracosanoyl-sn-glycero-3-phospho-N-tetradecanoyl-ethanolamine/1-(14Z,17Z,20Z,23Z,26Z-dotriacontapentaenoyl)-2-triacontanoyl-sn-glycero-3-phospho-N-octanoyl-ethanolamine_0",
         "line": {
          "color": "#00cc96",
          "dash": "solid"
         },
         "marker": {
          "symbol": "circle"
         },
         "mode": "lines",
         "name": "1-(14Z,17Z,20Z,23Z,26Z-dotriacontapentaenoyl)-2-docosanoyl-sn-glycero-3-phospho-N-hexadecanoyl-ethanolamine/1-(14Z,17Z,20Z,23Z,26Z-dotriacontapentaenoyl)-2-eicosanoyl-sn-glycero-3-phospho-N-octadecanoyl-ethanolamine/1-(14Z,17Z,20Z,23Z,26Z-dotriacontapentaenoyl)-2-hexacosanoyl-sn-glycero-3-phospho-N-dodecanoyl-ethanolamine/1-(14Z,17Z,20Z,23Z,26Z-dotriacontapentaenoyl)-2-octacosanoyl-sn-glycero-3-phospho-N-decanoyl-ethanolamine/1-(14Z,17Z,20Z,23Z,26Z-dotriacontapentaenoyl)-2-tetracosanoyl-sn-glycero-3-phospho-N-tetradecanoyl-ethanolamine/1-(14Z,17Z,20Z,23Z,26Z-dotriacontapentaenoyl)-2-triacontanoyl-sn-glycero-3-phospho-N-octanoyl-ethanolamine_0",
         "scene": "scene",
         "showlegend": false,
         "type": "scatter3d",
         "x": [
          1225.9963735332294,
          1225.9963735332294,
          1225.9963735332294,
          1225.9963735332294,
          1226.9997283710293,
          1226.9997283710293,
          1226.9997283710293,
          1226.9997283710293
         ],
         "y": [
          8.732999801635742,
          9.446999549865723,
          10.161999702453613,
          10.87600040435791,
          8.732999801635742,
          9.446999549865723,
          10.161999702453613,
          10.87600040435791
         ],
         "z": [
          0,
          0,
          0,
          0,
          0,
          145.6199493408203,
          669.2677612304688,
          1074.116943359375
         ]
        },
        {
         "hovertemplate": "labels=1-(14Z,17Z,20Z,23Z,26Z-dotriacontapentaenoyl)-2-docosanoyl-sn-glycero-3-phospho-N-hexanoyl-ethanolamine/1-(14Z,17Z,20Z,23Z,26Z-dotriacontapentaenoyl)-2-eicosanoyl-sn-glycero-3-phospho-N-octanoyl-ethanolamine/1-(14Z,17Z,20Z,23Z,26Z-dotriacontapentaenoyl)-2-hexadecanoyl-sn-glycero-3-phospho-N-dodecanoyl-ethanolamine/1-(14Z,17Z,20Z,23Z,26Z-dotriacontapentaenoyl)-2-octadecanoyl-sn-glycero-3-phospho-N-decanoyl-ethanolamine_0<br>m/z=%{x}<br>rt=%{y}<br>intensity=%{z}<extra></extra>",
         "legendgroup": "1-(14Z,17Z,20Z,23Z,26Z-dotriacontapentaenoyl)-2-docosanoyl-sn-glycero-3-phospho-N-hexanoyl-ethanolamine/1-(14Z,17Z,20Z,23Z,26Z-dotriacontapentaenoyl)-2-eicosanoyl-sn-glycero-3-phospho-N-octanoyl-ethanolamine/1-(14Z,17Z,20Z,23Z,26Z-dotriacontapentaenoyl)-2-hexadecanoyl-sn-glycero-3-phospho-N-dodecanoyl-ethanolamine/1-(14Z,17Z,20Z,23Z,26Z-dotriacontapentaenoyl)-2-octadecanoyl-sn-glycero-3-phospho-N-decanoyl-ethanolamine_0",
         "line": {
          "color": "#ab63fa",
          "dash": "solid"
         },
         "marker": {
          "symbol": "circle"
         },
         "mode": "lines",
         "name": "1-(14Z,17Z,20Z,23Z,26Z-dotriacontapentaenoyl)-2-docosanoyl-sn-glycero-3-phospho-N-hexanoyl-ethanolamine/1-(14Z,17Z,20Z,23Z,26Z-dotriacontapentaenoyl)-2-eicosanoyl-sn-glycero-3-phospho-N-octanoyl-ethanolamine/1-(14Z,17Z,20Z,23Z,26Z-dotriacontapentaenoyl)-2-hexadecanoyl-sn-glycero-3-phospho-N-dodecanoyl-ethanolamine/1-(14Z,17Z,20Z,23Z,26Z-dotriacontapentaenoyl)-2-octadecanoyl-sn-glycero-3-phospho-N-decanoyl-ethanolamine_0",
         "scene": "scene",
         "showlegend": false,
         "type": "scatter3d",
         "x": [
          1085.8398635332292,
          1085.8398635332292,
          1085.8398635332292,
          1086.8432183710293,
          1086.8432183710293,
          1086.8432183710293
         ],
         "y": [
          8.017999649047852,
          8.732999801635742,
          9.446999549865723,
          8.017999649047852,
          8.732999801635742,
          9.446999549865723
         ],
         "z": [
          26.986364364624023,
          0,
          198.40383911132812,
          0,
          0,
          0
         ]
        },
        {
         "hovertemplate": "labels=1-(14Z,17Z,20Z,23Z,26Z-dotriacontapentaenoyl)-2-docosanoyl-sn-glycero-3-phospho-N-octadecanoyl-ethanolamine/1-(14Z,17Z,20Z,23Z,26Z-dotriacontapentaenoyl)-2-hexacosanoyl-sn-glycero-3-phospho-N-tetradecanoyl-ethanolamine/1-(14Z,17Z,20Z,23Z,26Z-dotriacontapentaenoyl)-2-octacosanoyl-sn-glycero-3-phospho-N-dodecanoyl-ethanolamine/1-(14Z,17Z,20Z,23Z,26Z-dotriacontapentaenoyl)-2-tetracosanoyl-sn-glycero-3-phospho-N-hexadecanoyl-ethanolamine/1-(14Z,17Z,20Z,23Z,26Z-dotriacontapentaenoyl)-2-triacontanoyl-sn-glycero-3-phospho-N-decanoyl-ethanolamine_0<br>m/z=%{x}<br>rt=%{y}<br>intensity=%{z}<extra></extra>",
         "legendgroup": "1-(14Z,17Z,20Z,23Z,26Z-dotriacontapentaenoyl)-2-docosanoyl-sn-glycero-3-phospho-N-octadecanoyl-ethanolamine/1-(14Z,17Z,20Z,23Z,26Z-dotriacontapentaenoyl)-2-hexacosanoyl-sn-glycero-3-phospho-N-tetradecanoyl-ethanolamine/1-(14Z,17Z,20Z,23Z,26Z-dotriacontapentaenoyl)-2-octacosanoyl-sn-glycero-3-phospho-N-dodecanoyl-ethanolamine/1-(14Z,17Z,20Z,23Z,26Z-dotriacontapentaenoyl)-2-tetracosanoyl-sn-glycero-3-phospho-N-hexadecanoyl-ethanolamine/1-(14Z,17Z,20Z,23Z,26Z-dotriacontapentaenoyl)-2-triacontanoyl-sn-glycero-3-phospho-N-decanoyl-ethanolamine_0",
         "line": {
          "color": "#FFA15A",
          "dash": "solid"
         },
         "marker": {
          "symbol": "circle"
         },
         "mode": "lines",
         "name": "1-(14Z,17Z,20Z,23Z,26Z-dotriacontapentaenoyl)-2-docosanoyl-sn-glycero-3-phospho-N-octadecanoyl-ethanolamine/1-(14Z,17Z,20Z,23Z,26Z-dotriacontapentaenoyl)-2-hexacosanoyl-sn-glycero-3-phospho-N-tetradecanoyl-ethanolamine/1-(14Z,17Z,20Z,23Z,26Z-dotriacontapentaenoyl)-2-octacosanoyl-sn-glycero-3-phospho-N-dodecanoyl-ethanolamine/1-(14Z,17Z,20Z,23Z,26Z-dotriacontapentaenoyl)-2-tetracosanoyl-sn-glycero-3-phospho-N-hexadecanoyl-ethanolamine/1-(14Z,17Z,20Z,23Z,26Z-dotriacontapentaenoyl)-2-triacontanoyl-sn-glycero-3-phospho-N-decanoyl-ethanolamine_0",
         "scene": "scene",
         "showlegend": false,
         "type": "scatter3d",
         "x": [
          1254.027673533229,
          1254.027673533229,
          1254.027673533229,
          1255.0310283710292,
          1255.0310283710292,
          1255.0310283710292
         ],
         "y": [
          4.446000099182129,
          5.160999774932861,
          5.875,
          4.446000099182129,
          5.160999774932861,
          5.875
         ],
         "z": [
          262.83416748046875,
          213.00791931152344,
          0,
          0,
          0,
          0
         ]
        },
        {
         "hovertemplate": "labels=1-(14Z,17Z,20Z,23Z,26Z-dotriacontapentaenoyl)-2-docosanoyl-sn-glycero-3-phospho-N-octanoyl-ethanolamine/1-(14Z,17Z,20Z,23Z,26Z-dotriacontapentaenoyl)-2-eicosanoyl-sn-glycero-3-phospho-N-decanoyl-ethanolamine/1-(14Z,17Z,20Z,23Z,26Z-dotriacontapentaenoyl)-2-hexadecanoyl-sn-glycero-3-phospho-N-tetradecanoyl-ethanolamine/1-(14Z,17Z,20Z,23Z,26Z-dotriacontapentaenoyl)-2-octadecanoyl-sn-glycero-3-phospho-N-dodecanoyl-ethanolamine/1-(14Z,17Z,20Z,23Z,26Z-dotriacontapentaenoyl)-2-tetracosanoyl-sn-glycero-3-phospho-N-hexanoyl-ethanolamine_0<br>m/z=%{x}<br>rt=%{y}<br>intensity=%{z}<extra></extra>",
         "legendgroup": "1-(14Z,17Z,20Z,23Z,26Z-dotriacontapentaenoyl)-2-docosanoyl-sn-glycero-3-phospho-N-octanoyl-ethanolamine/1-(14Z,17Z,20Z,23Z,26Z-dotriacontapentaenoyl)-2-eicosanoyl-sn-glycero-3-phospho-N-decanoyl-ethanolamine/1-(14Z,17Z,20Z,23Z,26Z-dotriacontapentaenoyl)-2-hexadecanoyl-sn-glycero-3-phospho-N-tetradecanoyl-ethanolamine/1-(14Z,17Z,20Z,23Z,26Z-dotriacontapentaenoyl)-2-octadecanoyl-sn-glycero-3-phospho-N-dodecanoyl-ethanolamine/1-(14Z,17Z,20Z,23Z,26Z-dotriacontapentaenoyl)-2-tetracosanoyl-sn-glycero-3-phospho-N-hexanoyl-ethanolamine_0",
         "line": {
          "color": "#19d3f3",
          "dash": "solid"
         },
         "marker": {
          "symbol": "circle"
         },
         "mode": "lines",
         "name": "1-(14Z,17Z,20Z,23Z,26Z-dotriacontapentaenoyl)-2-docosanoyl-sn-glycero-3-phospho-N-octanoyl-ethanolamine/1-(14Z,17Z,20Z,23Z,26Z-dotriacontapentaenoyl)-2-eicosanoyl-sn-glycero-3-phospho-N-decanoyl-ethanolamine/1-(14Z,17Z,20Z,23Z,26Z-dotriacontapentaenoyl)-2-hexadecanoyl-sn-glycero-3-phospho-N-tetradecanoyl-ethanolamine/1-(14Z,17Z,20Z,23Z,26Z-dotriacontapentaenoyl)-2-octadecanoyl-sn-glycero-3-phospho-N-dodecanoyl-ethanolamine/1-(14Z,17Z,20Z,23Z,26Z-dotriacontapentaenoyl)-2-tetracosanoyl-sn-glycero-3-phospho-N-hexanoyl-ethanolamine_0",
         "scene": "scene",
         "showlegend": false,
         "type": "scatter3d",
         "x": [
          1113.871163533229,
          1113.871163533229,
          1114.8745183710291,
          1114.8745183710291
         ],
         "y": [
          10.161999702453613,
          10.87600040435791,
          10.161999702453613,
          10.87600040435791
         ],
         "z": [
          0,
          697.5455322265625,
          0,
          0
         ]
        },
        {
         "hovertemplate": "labels=1-(14Z,17Z,20Z,23Z,26Z-dotriacontapentaenoyl)-2-docosanoyl-sn-glycero-3-phospho-N-tetradecanoyl-ethanolamine/1-(14Z,17Z,20Z,23Z,26Z-dotriacontapentaenoyl)-2-eicosanoyl-sn-glycero-3-phospho-N-hexadecanoyl-ethanolamine/1-(14Z,17Z,20Z,23Z,26Z-dotriacontapentaenoyl)-2-hexacosanoyl-sn-glycero-3-phospho-N-decanoyl-ethanolamine/1-(14Z,17Z,20Z,23Z,26Z-dotriacontapentaenoyl)-2-octacosanoyl-sn-glycero-3-phospho-N-octanoyl-ethanolamine/1-(14Z,17Z,20Z,23Z,26Z-dotriacontapentaenoyl)-2-octadecanoyl-sn-glycero-3-phospho-N-octadecanoyl-ethanolamine/1-(14Z,17Z,20Z,23Z,26Z-dotriacontapentaenoyl)-2-tetracosanoyl-sn-glycero-3-phospho-N-dodecanoyl-ethanolamine/1-(14Z,17Z,20Z,23Z,26Z-dotriacontapentaenoyl)-2-triacontanoyl-sn-glycero-3-phospho-N-hexanoyl-ethanolamine_0<br>m/z=%{x}<br>rt=%{y}<br>intensity=%{z}<extra></extra>",
         "legendgroup": "1-(14Z,17Z,20Z,23Z,26Z-dotriacontapentaenoyl)-2-docosanoyl-sn-glycero-3-phospho-N-tetradecanoyl-ethanolamine/1-(14Z,17Z,20Z,23Z,26Z-dotriacontapentaenoyl)-2-eicosanoyl-sn-glycero-3-phospho-N-hexadecanoyl-ethanolamine/1-(14Z,17Z,20Z,23Z,26Z-dotriacontapentaenoyl)-2-hexacosanoyl-sn-glycero-3-phospho-N-decanoyl-ethanolamine/1-(14Z,17Z,20Z,23Z,26Z-dotriacontapentaenoyl)-2-octacosanoyl-sn-glycero-3-phospho-N-octanoyl-ethanolamine/1-(14Z,17Z,20Z,23Z,26Z-dotriacontapentaenoyl)-2-octadecanoyl-sn-glycero-3-phospho-N-octadecanoyl-ethanolamine/1-(14Z,17Z,20Z,23Z,26Z-dotriacontapentaenoyl)-2-tetracosanoyl-sn-glycero-3-phospho-N-dodecanoyl-ethanolamine/1-(14Z,17Z,20Z,23Z,26Z-dotriacontapentaenoyl)-2-triacontanoyl-sn-glycero-3-phospho-N-hexanoyl-ethanolamine_0",
         "line": {
          "color": "#FF6692",
          "dash": "solid"
         },
         "marker": {
          "symbol": "circle"
         },
         "mode": "lines",
         "name": "1-(14Z,17Z,20Z,23Z,26Z-dotriacontapentaenoyl)-2-docosanoyl-sn-glycero-3-phospho-N-tetradecanoyl-ethanolamine/1-(14Z,17Z,20Z,23Z,26Z-dotriacontapentaenoyl)-2-eicosanoyl-sn-glycero-3-phospho-N-hexadecanoyl-ethanolamine/1-(14Z,17Z,20Z,23Z,26Z-dotriacontapentaenoyl)-2-hexacosanoyl-sn-glycero-3-phospho-N-decanoyl-ethanolamine/1-(14Z,17Z,20Z,23Z,26Z-dotriacontapentaenoyl)-2-octacosanoyl-sn-glycero-3-phospho-N-octanoyl-ethanolamine/1-(14Z,17Z,20Z,23Z,26Z-dotriacontapentaenoyl)-2-octadecanoyl-sn-glycero-3-phospho-N-octadecanoyl-ethanolamine/1-(14Z,17Z,20Z,23Z,26Z-dotriacontapentaenoyl)-2-tetracosanoyl-sn-glycero-3-phospho-N-dodecanoyl-ethanolamine/1-(14Z,17Z,20Z,23Z,26Z-dotriacontapentaenoyl)-2-triacontanoyl-sn-glycero-3-phospho-N-hexanoyl-ethanolamine_0",
         "scene": "scene",
         "showlegend": false,
         "type": "scatter3d",
         "x": [
          1197.965073533229,
          1197.965073533229,
          1197.965073533229,
          1198.9684283710292,
          1198.9684283710292,
          1198.9684283710292
         ],
         "y": [
          3.0169999599456787,
          3.7320001125335693,
          4.446000099182129,
          3.0169999599456787,
          3.7320001125335693,
          4.446000099182129
         ],
         "z": [
          84.5750732421875,
          0,
          295.4227294921875,
          120.65795135498047,
          65.93794250488281,
          51.40463638305664
         ]
        },
        {
         "hovertemplate": "labels=1-(14Z,17Z,20Z,23Z,26Z-dotriacontapentaenoyl)-2-eicosanoyl-sn-glycero-3-phospho-N-hexanoyl-ethanolamine/1-(14Z,17Z,20Z,23Z,26Z-dotriacontapentaenoyl)-2-hexadecanoyl-sn-glycero-3-phospho-N-decanoyl-ethanolamine/1-(14Z,17Z,20Z,23Z,26Z-dotriacontapentaenoyl)-2-octadecanoyl-sn-glycero-3-phospho-N-octanoyl-ethanolamine_0<br>m/z=%{x}<br>rt=%{y}<br>intensity=%{z}<extra></extra>",
         "legendgroup": "1-(14Z,17Z,20Z,23Z,26Z-dotriacontapentaenoyl)-2-eicosanoyl-sn-glycero-3-phospho-N-hexanoyl-ethanolamine/1-(14Z,17Z,20Z,23Z,26Z-dotriacontapentaenoyl)-2-hexadecanoyl-sn-glycero-3-phospho-N-decanoyl-ethanolamine/1-(14Z,17Z,20Z,23Z,26Z-dotriacontapentaenoyl)-2-octadecanoyl-sn-glycero-3-phospho-N-octanoyl-ethanolamine_0",
         "line": {
          "color": "#B6E880",
          "dash": "solid"
         },
         "marker": {
          "symbol": "circle"
         },
         "mode": "lines",
         "name": "1-(14Z,17Z,20Z,23Z,26Z-dotriacontapentaenoyl)-2-eicosanoyl-sn-glycero-3-phospho-N-hexanoyl-ethanolamine/1-(14Z,17Z,20Z,23Z,26Z-dotriacontapentaenoyl)-2-hexadecanoyl-sn-glycero-3-phospho-N-decanoyl-ethanolamine/1-(14Z,17Z,20Z,23Z,26Z-dotriacontapentaenoyl)-2-octadecanoyl-sn-glycero-3-phospho-N-octanoyl-ethanolamine_0",
         "scene": "scene",
         "showlegend": false,
         "type": "scatter3d",
         "x": [
          1057.808563533229,
          1057.808563533229,
          1058.8119183710292,
          1058.8119183710292
         ],
         "y": [
          8.017999649047852,
          8.732999801635742,
          8.017999649047852,
          8.732999801635742
         ],
         "z": [
          62.26161575317383,
          290.9346618652344,
          0,
          292.2231140136719
         ]
        },
        {
         "hovertemplate": "labels=1-(14Z,17Z,20Z,23Z,26Z-dotriacontapentaenoyl)-2-hexacosanoyl-sn-glycero-3-phospho-N-hexadecanoyl-ethanolamine/1-(14Z,17Z,20Z,23Z,26Z-dotriacontapentaenoyl)-2-octacosanoyl-sn-glycero-3-phospho-N-tetradecanoyl-ethanolamine/1-(14Z,17Z,20Z,23Z,26Z-dotriacontapentaenoyl)-2-tetracosanoyl-sn-glycero-3-phospho-N-octadecanoyl-ethanolamine/1-(14Z,17Z,20Z,23Z,26Z-dotriacontapentaenoyl)-2-triacontanoyl-sn-glycero-3-phospho-N-dodecanoyl-ethanolamine_0<br>m/z=%{x}<br>rt=%{y}<br>intensity=%{z}<extra></extra>",
         "legendgroup": "1-(14Z,17Z,20Z,23Z,26Z-dotriacontapentaenoyl)-2-hexacosanoyl-sn-glycero-3-phospho-N-hexadecanoyl-ethanolamine/1-(14Z,17Z,20Z,23Z,26Z-dotriacontapentaenoyl)-2-octacosanoyl-sn-glycero-3-phospho-N-tetradecanoyl-ethanolamine/1-(14Z,17Z,20Z,23Z,26Z-dotriacontapentaenoyl)-2-tetracosanoyl-sn-glycero-3-phospho-N-octadecanoyl-ethanolamine/1-(14Z,17Z,20Z,23Z,26Z-dotriacontapentaenoyl)-2-triacontanoyl-sn-glycero-3-phospho-N-dodecanoyl-ethanolamine_0",
         "line": {
          "color": "#FF97FF",
          "dash": "solid"
         },
         "marker": {
          "symbol": "circle"
         },
         "mode": "lines",
         "name": "1-(14Z,17Z,20Z,23Z,26Z-dotriacontapentaenoyl)-2-hexacosanoyl-sn-glycero-3-phospho-N-hexadecanoyl-ethanolamine/1-(14Z,17Z,20Z,23Z,26Z-dotriacontapentaenoyl)-2-octacosanoyl-sn-glycero-3-phospho-N-tetradecanoyl-ethanolamine/1-(14Z,17Z,20Z,23Z,26Z-dotriacontapentaenoyl)-2-tetracosanoyl-sn-glycero-3-phospho-N-octadecanoyl-ethanolamine/1-(14Z,17Z,20Z,23Z,26Z-dotriacontapentaenoyl)-2-triacontanoyl-sn-glycero-3-phospho-N-dodecanoyl-ethanolamine_0",
         "scene": "scene",
         "showlegend": false,
         "type": "scatter3d",
         "x": [
          1282.0589735332292,
          1282.0589735332292,
          1283.0623283710293,
          1283.0623283710293
         ],
         "y": [
          5.160999774932861,
          5.875,
          5.160999774932861,
          5.875
         ],
         "z": [
          0,
          0,
          531.160888671875,
          124.78265380859375
         ]
        },
        {
         "hovertemplate": "labels=1-(14Z,17Z,20Z,23Z,26Z-dotriacontapentaenoyl)-2-hexacosanoyl-sn-glycero-3-phospho-N-octadecanoyl-ethanolamine/1-(14Z,17Z,20Z,23Z,26Z-dotriacontapentaenoyl)-2-octacosanoyl-sn-glycero-3-phospho-N-hexadecanoyl-ethanolamine/1-(14Z,17Z,20Z,23Z,26Z-dotriacontapentaenoyl)-2-triacontanoyl-sn-glycero-3-phospho-N-tetradecanoyl-ethanolamine_0<br>m/z=%{x}<br>rt=%{y}<br>intensity=%{z}<extra></extra>",
         "legendgroup": "1-(14Z,17Z,20Z,23Z,26Z-dotriacontapentaenoyl)-2-hexacosanoyl-sn-glycero-3-phospho-N-octadecanoyl-ethanolamine/1-(14Z,17Z,20Z,23Z,26Z-dotriacontapentaenoyl)-2-octacosanoyl-sn-glycero-3-phospho-N-hexadecanoyl-ethanolamine/1-(14Z,17Z,20Z,23Z,26Z-dotriacontapentaenoyl)-2-triacontanoyl-sn-glycero-3-phospho-N-tetradecanoyl-ethanolamine_0",
         "line": {
          "color": "#FECB52",
          "dash": "solid"
         },
         "marker": {
          "symbol": "circle"
         },
         "mode": "lines",
         "name": "1-(14Z,17Z,20Z,23Z,26Z-dotriacontapentaenoyl)-2-hexacosanoyl-sn-glycero-3-phospho-N-octadecanoyl-ethanolamine/1-(14Z,17Z,20Z,23Z,26Z-dotriacontapentaenoyl)-2-octacosanoyl-sn-glycero-3-phospho-N-hexadecanoyl-ethanolamine/1-(14Z,17Z,20Z,23Z,26Z-dotriacontapentaenoyl)-2-triacontanoyl-sn-glycero-3-phospho-N-tetradecanoyl-ethanolamine_0",
         "scene": "scene",
         "showlegend": false,
         "type": "scatter3d",
         "x": [
          1310.090273533229,
          1310.090273533229,
          1310.090273533229,
          1311.0936283710294,
          1311.0936283710294,
          1311.0936283710294
         ],
         "y": [
          5.160999774932861,
          5.875,
          6.590000152587891,
          5.160999774932861,
          5.875,
          6.590000152587891
         ],
         "z": [
          282.6661682128906,
          0,
          0,
          0,
          242.59097290039062,
          0
         ]
        },
        {
         "hovertemplate": "labels=1-(14Z,17Z,20Z,23Z,26Z-dotriacontapentaenoyl)-2-hexadecanoyl-sn-glycero-3-phospho-N-hexanoyl-ethanolamine_0<br>m/z=%{x}<br>rt=%{y}<br>intensity=%{z}<extra></extra>",
         "legendgroup": "1-(14Z,17Z,20Z,23Z,26Z-dotriacontapentaenoyl)-2-hexadecanoyl-sn-glycero-3-phospho-N-hexanoyl-ethanolamine_0",
         "line": {
          "color": "#636efa",
          "dash": "solid"
         },
         "marker": {
          "symbol": "circle"
         },
         "mode": "lines",
         "name": "1-(14Z,17Z,20Z,23Z,26Z-dotriacontapentaenoyl)-2-hexadecanoyl-sn-glycero-3-phospho-N-hexanoyl-ethanolamine_0",
         "scene": "scene",
         "showlegend": false,
         "type": "scatter3d",
         "x": [
          1001.745963533229,
          1001.745963533229,
          1002.749318371029,
          1002.749318371029
         ],
         "y": [
          8.017999649047852,
          8.732999801635742,
          8.017999649047852,
          8.732999801635742
         ],
         "z": [
          0,
          0,
          0,
          1287.69775390625
         ]
        },
        {
         "hovertemplate": "labels=1-(14Z,17Z,20Z,23Z,26Z-dotriacontapentaenoyl)-2-hexadecanoyl-sn-glycero-3-phospho-N-octanoyl-ethanolamine/1-(14Z,17Z,20Z,23Z,26Z-dotriacontapentaenoyl)-2-octadecanoyl-sn-glycero-3-phospho-N-hexanoyl-ethanolamine_0<br>m/z=%{x}<br>rt=%{y}<br>intensity=%{z}<extra></extra>",
         "legendgroup": "1-(14Z,17Z,20Z,23Z,26Z-dotriacontapentaenoyl)-2-hexadecanoyl-sn-glycero-3-phospho-N-octanoyl-ethanolamine/1-(14Z,17Z,20Z,23Z,26Z-dotriacontapentaenoyl)-2-octadecanoyl-sn-glycero-3-phospho-N-hexanoyl-ethanolamine_0",
         "line": {
          "color": "#EF553B",
          "dash": "solid"
         },
         "marker": {
          "symbol": "circle"
         },
         "mode": "lines",
         "name": "1-(14Z,17Z,20Z,23Z,26Z-dotriacontapentaenoyl)-2-hexadecanoyl-sn-glycero-3-phospho-N-octanoyl-ethanolamine/1-(14Z,17Z,20Z,23Z,26Z-dotriacontapentaenoyl)-2-octadecanoyl-sn-glycero-3-phospho-N-hexanoyl-ethanolamine_0",
         "scene": "scene",
         "showlegend": false,
         "type": "scatter3d",
         "x": [
          1029.7772635332292,
          1029.7772635332292,
          1029.7772635332292,
          1029.7772635332292,
          1030.7806183710293,
          1030.7806183710293,
          1030.7806183710293,
          1030.7806183710293
         ],
         "y": [
          8.732999801635742,
          9.446999549865723,
          10.161999702453613,
          10.87600040435791,
          8.732999801635742,
          9.446999549865723,
          10.161999702453613,
          10.87600040435791
         ],
         "z": [
          77.54106903076172,
          0,
          1160.84814453125,
          0,
          0,
          0,
          0,
          0
         ]
        },
        {
         "hovertemplate": "labels=1-(14Z,17Z,20Z,23Z,26Z-dotriacontapentaenoyl)-2-octacosanoyl-sn-glycero-3-phospho-N-(11Z-octadecenoyl)-ethanolamine/1-(14Z,17Z,20Z,23Z,26Z-dotriacontapentaenoyl)-2-octacosanoyl-sn-glycero-3-phospho-N-(9Z-octadecenoyl)-ethanolamine_0<br>m/z=%{x}<br>rt=%{y}<br>intensity=%{z}<extra></extra>",
         "legendgroup": "1-(14Z,17Z,20Z,23Z,26Z-dotriacontapentaenoyl)-2-octacosanoyl-sn-glycero-3-phospho-N-(11Z-octadecenoyl)-ethanolamine/1-(14Z,17Z,20Z,23Z,26Z-dotriacontapentaenoyl)-2-octacosanoyl-sn-glycero-3-phospho-N-(9Z-octadecenoyl)-ethanolamine_0",
         "line": {
          "color": "#00cc96",
          "dash": "solid"
         },
         "marker": {
          "symbol": "circle"
         },
         "mode": "lines",
         "name": "1-(14Z,17Z,20Z,23Z,26Z-dotriacontapentaenoyl)-2-octacosanoyl-sn-glycero-3-phospho-N-(11Z-octadecenoyl)-ethanolamine/1-(14Z,17Z,20Z,23Z,26Z-dotriacontapentaenoyl)-2-octacosanoyl-sn-glycero-3-phospho-N-(9Z-octadecenoyl)-ethanolamine_0",
         "scene": "scene",
         "showlegend": false,
         "type": "scatter3d",
         "x": [
          1336.105923533229,
          1336.105923533229,
          1337.1092783710292,
          1337.1092783710292
         ],
         "y": [
          13.019000053405762,
          13.734000205993652,
          13.019000053405762,
          13.734000205993652
         ],
         "z": [
          660.2377319335938,
          1550.249267578125,
          0,
          0
         ]
        },
        {
         "hovertemplate": "labels=1-(14Z,17Z,20Z,23Z,26Z-dotriacontapentaenoyl)-2-octacosanoyl-sn-glycero-3-phospho-N-(6Z,9Z,12Z-octadecatrienoyl)-ethanolamine/1-(14Z,17Z,20Z,23Z,26Z-dotriacontapentaenoyl)-2-octacosanoyl-sn-glycero-3-phospho-N-(9Z,12Z,15Z-octadecatrienoyl)-ethanolamine_0<br>m/z=%{x}<br>rt=%{y}<br>intensity=%{z}<extra></extra>",
         "legendgroup": "1-(14Z,17Z,20Z,23Z,26Z-dotriacontapentaenoyl)-2-octacosanoyl-sn-glycero-3-phospho-N-(6Z,9Z,12Z-octadecatrienoyl)-ethanolamine/1-(14Z,17Z,20Z,23Z,26Z-dotriacontapentaenoyl)-2-octacosanoyl-sn-glycero-3-phospho-N-(9Z,12Z,15Z-octadecatrienoyl)-ethanolamine_0",
         "line": {
          "color": "#ab63fa",
          "dash": "solid"
         },
         "marker": {
          "symbol": "circle"
         },
         "mode": "lines",
         "name": "1-(14Z,17Z,20Z,23Z,26Z-dotriacontapentaenoyl)-2-octacosanoyl-sn-glycero-3-phospho-N-(6Z,9Z,12Z-octadecatrienoyl)-ethanolamine/1-(14Z,17Z,20Z,23Z,26Z-dotriacontapentaenoyl)-2-octacosanoyl-sn-glycero-3-phospho-N-(9Z,12Z,15Z-octadecatrienoyl)-ethanolamine_0",
         "scene": "scene",
         "showlegend": false,
         "type": "scatter3d",
         "x": [
          1332.074623533229,
          1332.074623533229,
          1332.074623533229,
          1332.074623533229,
          1332.074623533229,
          1333.077978371029,
          1333.077978371029,
          1333.077978371029,
          1333.077978371029,
          1333.077978371029
         ],
         "y": [
          9.446999549865723,
          10.161999702453613,
          10.87600040435791,
          11.590999603271484,
          12.305000305175781,
          9.446999549865723,
          10.161999702453613,
          10.87600040435791,
          11.590999603271484,
          12.305000305175781
         ],
         "z": [
          169.00006103515625,
          802.49951171875,
          0,
          0,
          1352.1639404296875,
          0,
          0,
          1106.4779052734375,
          1061.223876953125,
          0
         ]
        },
        {
         "hovertemplate": "labels=1-(14Z,17Z,20Z,23Z,26Z-dotriacontapentaenoyl)-2-octacosanoyl-sn-glycero-3-phospho-N-(9Z,12Z-octadecadienoyl)-ethanolamine_0<br>m/z=%{x}<br>rt=%{y}<br>intensity=%{z}<extra></extra>",
         "legendgroup": "1-(14Z,17Z,20Z,23Z,26Z-dotriacontapentaenoyl)-2-octacosanoyl-sn-glycero-3-phospho-N-(9Z,12Z-octadecadienoyl)-ethanolamine_0",
         "line": {
          "color": "#FFA15A",
          "dash": "solid"
         },
         "marker": {
          "symbol": "circle"
         },
         "mode": "lines",
         "name": "1-(14Z,17Z,20Z,23Z,26Z-dotriacontapentaenoyl)-2-octacosanoyl-sn-glycero-3-phospho-N-(9Z,12Z-octadecadienoyl)-ethanolamine_0",
         "scene": "scene",
         "showlegend": false,
         "type": "scatter3d",
         "x": [
          1334.090273533229,
          1334.090273533229,
          1334.090273533229,
          1334.090273533229,
          1334.090273533229,
          1334.090273533229,
          1334.090273533229,
          1335.0936283710294,
          1335.0936283710294,
          1335.0936283710294,
          1335.0936283710294,
          1335.0936283710294,
          1335.0936283710294,
          1335.0936283710294
         ],
         "y": [
          9.446999549865723,
          10.161999702453613,
          10.87600040435791,
          11.590999603271484,
          12.305000305175781,
          13.019000053405762,
          13.734000205993652,
          9.446999549865723,
          10.161999702453613,
          10.87600040435791,
          11.590999603271484,
          12.305000305175781,
          13.019000053405762,
          13.734000205993652
         ],
         "z": [
          0,
          0,
          592.021728515625,
          0,
          0,
          0,
          0,
          0,
          182.2917938232422,
          320.1211242675781,
          713.669921875,
          1388.43408203125,
          751.548828125,
          0
         ]
        },
        {
         "hovertemplate": "labels=1-(14Z,17Z,20Z,23Z,26Z-dotriacontapentaenoyl)-2-octacosanoyl-sn-glycero-3-phospho-N-octadecanoyl-ethanolamine/1-(14Z,17Z,20Z,23Z,26Z-dotriacontapentaenoyl)-2-triacontanoyl-sn-glycero-3-phospho-N-hexadecanoyl-ethanolamine_0<br>m/z=%{x}<br>rt=%{y}<br>intensity=%{z}<extra></extra>",
         "legendgroup": "1-(14Z,17Z,20Z,23Z,26Z-dotriacontapentaenoyl)-2-octacosanoyl-sn-glycero-3-phospho-N-octadecanoyl-ethanolamine/1-(14Z,17Z,20Z,23Z,26Z-dotriacontapentaenoyl)-2-triacontanoyl-sn-glycero-3-phospho-N-hexadecanoyl-ethanolamine_0",
         "line": {
          "color": "#19d3f3",
          "dash": "solid"
         },
         "marker": {
          "symbol": "circle"
         },
         "mode": "lines",
         "name": "1-(14Z,17Z,20Z,23Z,26Z-dotriacontapentaenoyl)-2-octacosanoyl-sn-glycero-3-phospho-N-octadecanoyl-ethanolamine/1-(14Z,17Z,20Z,23Z,26Z-dotriacontapentaenoyl)-2-triacontanoyl-sn-glycero-3-phospho-N-hexadecanoyl-ethanolamine_0",
         "scene": "scene",
         "showlegend": false,
         "type": "scatter3d",
         "x": [
          1338.1215735332291,
          1338.1215735332291,
          1338.1215735332291,
          1338.1215735332291,
          1338.1215735332291,
          1338.1215735332291,
          1339.1249283710292,
          1339.1249283710292,
          1339.1249283710292,
          1339.1249283710292,
          1339.1249283710292,
          1339.1249283710292
         ],
         "y": [
          11.590999603271484,
          12.305000305175781,
          13.019000053405762,
          13.734000205993652,
          14.447999954223633,
          15.163000106811523,
          11.590999603271484,
          12.305000305175781,
          13.019000053405762,
          13.734000205993652,
          14.447999954223633,
          15.163000106811523
         ],
         "z": [
          0,
          944.1006469726562,
          0,
          0,
          0,
          0,
          0,
          657.3699340820312,
          937.9591674804688,
          1801.0452880859375,
          1187.6644287109375,
          0
         ]
        },
        {
         "hovertemplate": "labels=1-(14Z,17Z,20Z,23Z,26Z-dotriacontapentaenoyl)-2-triacontanoyl-sn-glycero-3-phospho-N-(11Z-octadecenoyl)-ethanolamine/1-(14Z,17Z,20Z,23Z,26Z-dotriacontapentaenoyl)-2-triacontanoyl-sn-glycero-3-phospho-N-(9Z-octadecenoyl)-ethanolamine_0<br>m/z=%{x}<br>rt=%{y}<br>intensity=%{z}<extra></extra>",
         "legendgroup": "1-(14Z,17Z,20Z,23Z,26Z-dotriacontapentaenoyl)-2-triacontanoyl-sn-glycero-3-phospho-N-(11Z-octadecenoyl)-ethanolamine/1-(14Z,17Z,20Z,23Z,26Z-dotriacontapentaenoyl)-2-triacontanoyl-sn-glycero-3-phospho-N-(9Z-octadecenoyl)-ethanolamine_0",
         "line": {
          "color": "#FF6692",
          "dash": "solid"
         },
         "marker": {
          "symbol": "circle"
         },
         "mode": "lines",
         "name": "1-(14Z,17Z,20Z,23Z,26Z-dotriacontapentaenoyl)-2-triacontanoyl-sn-glycero-3-phospho-N-(11Z-octadecenoyl)-ethanolamine/1-(14Z,17Z,20Z,23Z,26Z-dotriacontapentaenoyl)-2-triacontanoyl-sn-glycero-3-phospho-N-(9Z-octadecenoyl)-ethanolamine_0",
         "scene": "scene",
         "showlegend": false,
         "type": "scatter3d",
         "x": [
          1364.1372235332294,
          1364.1372235332294,
          1364.1372235332294,
          1364.1372235332294,
          1365.1405783710293,
          1365.1405783710293,
          1365.1405783710293,
          1365.1405783710293
         ],
         "y": [
          8.732999801635742,
          9.446999549865723,
          10.161999702453613,
          10.87600040435791,
          8.732999801635742,
          9.446999549865723,
          10.161999702453613,
          10.87600040435791
         ],
         "z": [
          255.5436248779297,
          0,
          0,
          421.6817932128906,
          312.3154296875,
          927.4568481445312,
          467.8522644042969,
          0
         ]
        },
        {
         "hovertemplate": "labels=1-(14Z,17Z,20Z,23Z,26Z-dotriacontapentaenoyl)-2-triacontanoyl-sn-glycero-3-phospho-N-(6Z,9Z,12Z-octadecatrienoyl)-ethanolamine/1-(14Z,17Z,20Z,23Z,26Z-dotriacontapentaenoyl)-2-triacontanoyl-sn-glycero-3-phospho-N-(9Z,12Z,15Z-octadecatrienoyl)-ethanolamine_0<br>m/z=%{x}<br>rt=%{y}<br>intensity=%{z}<extra></extra>",
         "legendgroup": "1-(14Z,17Z,20Z,23Z,26Z-dotriacontapentaenoyl)-2-triacontanoyl-sn-glycero-3-phospho-N-(6Z,9Z,12Z-octadecatrienoyl)-ethanolamine/1-(14Z,17Z,20Z,23Z,26Z-dotriacontapentaenoyl)-2-triacontanoyl-sn-glycero-3-phospho-N-(9Z,12Z,15Z-octadecatrienoyl)-ethanolamine_0",
         "line": {
          "color": "#B6E880",
          "dash": "solid"
         },
         "marker": {
          "symbol": "circle"
         },
         "mode": "lines",
         "name": "1-(14Z,17Z,20Z,23Z,26Z-dotriacontapentaenoyl)-2-triacontanoyl-sn-glycero-3-phospho-N-(6Z,9Z,12Z-octadecatrienoyl)-ethanolamine/1-(14Z,17Z,20Z,23Z,26Z-dotriacontapentaenoyl)-2-triacontanoyl-sn-glycero-3-phospho-N-(9Z,12Z,15Z-octadecatrienoyl)-ethanolamine_0",
         "scene": "scene",
         "showlegend": false,
         "type": "scatter3d",
         "x": [
          1360.105923533229,
          1360.105923533229,
          1360.105923533229,
          1361.1092783710292,
          1361.1092783710292,
          1361.1092783710292
         ],
         "y": [
          9.446999549865723,
          10.161999702453613,
          10.87600040435791,
          9.446999549865723,
          10.161999702453613,
          10.87600040435791
         ],
         "z": [
          0,
          0,
          354.43896484375,
          0,
          606.02685546875,
          0
         ]
        },
        {
         "hovertemplate": "labels=1-(14Z,17Z,20Z,23Z,26Z-dotriacontapentaenoyl)-2-triacontanoyl-sn-glycero-3-phospho-N-(9Z,12Z-octadecadienoyl)-ethanolamine_0<br>m/z=%{x}<br>rt=%{y}<br>intensity=%{z}<extra></extra>",
         "legendgroup": "1-(14Z,17Z,20Z,23Z,26Z-dotriacontapentaenoyl)-2-triacontanoyl-sn-glycero-3-phospho-N-(9Z,12Z-octadecadienoyl)-ethanolamine_0",
         "line": {
          "color": "#FF97FF",
          "dash": "solid"
         },
         "marker": {
          "symbol": "circle"
         },
         "mode": "lines",
         "name": "1-(14Z,17Z,20Z,23Z,26Z-dotriacontapentaenoyl)-2-triacontanoyl-sn-glycero-3-phospho-N-(9Z,12Z-octadecadienoyl)-ethanolamine_0",
         "scene": "scene",
         "showlegend": false,
         "type": "scatter3d",
         "x": [
          1362.1215735332291,
          1362.1215735332291,
          1362.1215735332291,
          1362.1215735332291,
          1363.1249283710292,
          1363.1249283710292,
          1363.1249283710292,
          1363.1249283710292
         ],
         "y": [
          8.732999801635742,
          9.446999549865723,
          10.161999702453613,
          10.87600040435791,
          8.732999801635742,
          9.446999549865723,
          10.161999702453613,
          10.87600040435791
         ],
         "z": [
          82.553955078125,
          0,
          568.6666870117188,
          0,
          60.7264404296875,
          0,
          1310.1737060546875,
          0
         ]
        },
        {
         "hovertemplate": "labels=1-(14Z,17Z,20Z,23Z,26Z-dotriacontapentaenoyl)-2-triacontanoyl-sn-glycero-3-phospho-N-octadecanoyl-ethanolamine_0<br>m/z=%{x}<br>rt=%{y}<br>intensity=%{z}<extra></extra>",
         "legendgroup": "1-(14Z,17Z,20Z,23Z,26Z-dotriacontapentaenoyl)-2-triacontanoyl-sn-glycero-3-phospho-N-octadecanoyl-ethanolamine_0",
         "line": {
          "color": "#FECB52",
          "dash": "solid"
         },
         "marker": {
          "symbol": "circle"
         },
         "mode": "lines",
         "name": "1-(14Z,17Z,20Z,23Z,26Z-dotriacontapentaenoyl)-2-triacontanoyl-sn-glycero-3-phospho-N-octadecanoyl-ethanolamine_0",
         "scene": "scene",
         "showlegend": false,
         "type": "scatter3d",
         "x": [
          1366.152873533229,
          1366.152873533229,
          1367.156228371029,
          1367.156228371029
         ],
         "y": [
          11.590999603271484,
          12.305000305175781,
          11.590999603271484,
          12.305000305175781
         ],
         "z": [
          703.617919921875,
          0,
          958.4668579101562,
          0
         ]
        },
        {
         "hovertemplate": "labels=3-dimethylselenopropanal_0<br>m/z=%{x}<br>rt=%{y}<br>intensity=%{z}<extra></extra>",
         "legendgroup": "3-dimethylselenopropanal_0",
         "line": {
          "color": "#636efa",
          "dash": "solid"
         },
         "marker": {
          "symbol": "circle"
         },
         "mode": "lines",
         "name": "3-dimethylselenopropanal_0",
         "scene": "scene",
         "showlegend": false,
         "type": "scatter3d",
         "x": [
          168.004236466771,
          168.004236466771,
          169.007591304571,
          169.007591304571
         ],
         "y": [
          7.303999900817871,
          8.017999649047852,
          7.303999900817871,
          8.017999649047852
         ],
         "z": [
          0,
          0,
          0,
          583.0145874023438
         ]
        },
        {
         "hovertemplate": "labels=NADH_0<br>m/z=%{x}<br>rt=%{y}<br>intensity=%{z}<extra></extra>",
         "legendgroup": "NADH_0",
         "line": {
          "color": "#EF553B",
          "dash": "solid"
         },
         "marker": {
          "symbol": "circle"
         },
         "mode": "lines",
         "name": "NADH_0",
         "scene": "scene",
         "showlegend": false,
         "type": "scatter3d",
         "x": [
          330.54783353322904,
          330.54783353322904,
          330.54783353322904,
          331.049510952129,
          331.049510952129,
          331.049510952129
         ],
         "y": [
          9.446999549865723,
          10.161999702453613,
          10.87600040435791,
          9.446999549865723,
          10.161999702453613,
          10.87600040435791
         ],
         "z": [
          246.41615295410156,
          0,
          0,
          0,
          2743.003173828125,
          0
         ]
        }
       ],
       "layout": {
        "legend": {
         "title": {
          "text": "labels"
         },
         "tracegroupgap": 0
        },
        "margin": {
         "t": 60
        },
        "scene": {
         "domain": {
          "x": [
           0,
           1
          ],
          "y": [
           0,
           1
          ]
         },
         "xaxis": {
          "title": {
           "text": "m/z"
          }
         },
         "yaxis": {
          "title": {
           "text": "rt"
          }
         },
         "zaxis": {
          "title": {
           "text": "intensity"
          }
         }
        },
        "template": {
         "data": {
          "bar": [
           {
            "error_x": {
             "color": "#2a3f5f"
            },
            "error_y": {
             "color": "#2a3f5f"
            },
            "marker": {
             "line": {
              "color": "#E5ECF6",
              "width": 0.5
             },
             "pattern": {
              "fillmode": "overlay",
              "size": 10,
              "solidity": 0.2
             }
            },
            "type": "bar"
           }
          ],
          "barpolar": [
           {
            "marker": {
             "line": {
              "color": "#E5ECF6",
              "width": 0.5
             },
             "pattern": {
              "fillmode": "overlay",
              "size": 10,
              "solidity": 0.2
             }
            },
            "type": "barpolar"
           }
          ],
          "carpet": [
           {
            "aaxis": {
             "endlinecolor": "#2a3f5f",
             "gridcolor": "white",
             "linecolor": "white",
             "minorgridcolor": "white",
             "startlinecolor": "#2a3f5f"
            },
            "baxis": {
             "endlinecolor": "#2a3f5f",
             "gridcolor": "white",
             "linecolor": "white",
             "minorgridcolor": "white",
             "startlinecolor": "#2a3f5f"
            },
            "type": "carpet"
           }
          ],
          "choropleth": [
           {
            "colorbar": {
             "outlinewidth": 0,
             "ticks": ""
            },
            "type": "choropleth"
           }
          ],
          "contour": [
           {
            "colorbar": {
             "outlinewidth": 0,
             "ticks": ""
            },
            "colorscale": [
             [
              0,
              "#0d0887"
             ],
             [
              0.1111111111111111,
              "#46039f"
             ],
             [
              0.2222222222222222,
              "#7201a8"
             ],
             [
              0.3333333333333333,
              "#9c179e"
             ],
             [
              0.4444444444444444,
              "#bd3786"
             ],
             [
              0.5555555555555556,
              "#d8576b"
             ],
             [
              0.6666666666666666,
              "#ed7953"
             ],
             [
              0.7777777777777778,
              "#fb9f3a"
             ],
             [
              0.8888888888888888,
              "#fdca26"
             ],
             [
              1,
              "#f0f921"
             ]
            ],
            "type": "contour"
           }
          ],
          "contourcarpet": [
           {
            "colorbar": {
             "outlinewidth": 0,
             "ticks": ""
            },
            "type": "contourcarpet"
           }
          ],
          "heatmap": [
           {
            "colorbar": {
             "outlinewidth": 0,
             "ticks": ""
            },
            "colorscale": [
             [
              0,
              "#0d0887"
             ],
             [
              0.1111111111111111,
              "#46039f"
             ],
             [
              0.2222222222222222,
              "#7201a8"
             ],
             [
              0.3333333333333333,
              "#9c179e"
             ],
             [
              0.4444444444444444,
              "#bd3786"
             ],
             [
              0.5555555555555556,
              "#d8576b"
             ],
             [
              0.6666666666666666,
              "#ed7953"
             ],
             [
              0.7777777777777778,
              "#fb9f3a"
             ],
             [
              0.8888888888888888,
              "#fdca26"
             ],
             [
              1,
              "#f0f921"
             ]
            ],
            "type": "heatmap"
           }
          ],
          "heatmapgl": [
           {
            "colorbar": {
             "outlinewidth": 0,
             "ticks": ""
            },
            "colorscale": [
             [
              0,
              "#0d0887"
             ],
             [
              0.1111111111111111,
              "#46039f"
             ],
             [
              0.2222222222222222,
              "#7201a8"
             ],
             [
              0.3333333333333333,
              "#9c179e"
             ],
             [
              0.4444444444444444,
              "#bd3786"
             ],
             [
              0.5555555555555556,
              "#d8576b"
             ],
             [
              0.6666666666666666,
              "#ed7953"
             ],
             [
              0.7777777777777778,
              "#fb9f3a"
             ],
             [
              0.8888888888888888,
              "#fdca26"
             ],
             [
              1,
              "#f0f921"
             ]
            ],
            "type": "heatmapgl"
           }
          ],
          "histogram": [
           {
            "marker": {
             "pattern": {
              "fillmode": "overlay",
              "size": 10,
              "solidity": 0.2
             }
            },
            "type": "histogram"
           }
          ],
          "histogram2d": [
           {
            "colorbar": {
             "outlinewidth": 0,
             "ticks": ""
            },
            "colorscale": [
             [
              0,
              "#0d0887"
             ],
             [
              0.1111111111111111,
              "#46039f"
             ],
             [
              0.2222222222222222,
              "#7201a8"
             ],
             [
              0.3333333333333333,
              "#9c179e"
             ],
             [
              0.4444444444444444,
              "#bd3786"
             ],
             [
              0.5555555555555556,
              "#d8576b"
             ],
             [
              0.6666666666666666,
              "#ed7953"
             ],
             [
              0.7777777777777778,
              "#fb9f3a"
             ],
             [
              0.8888888888888888,
              "#fdca26"
             ],
             [
              1,
              "#f0f921"
             ]
            ],
            "type": "histogram2d"
           }
          ],
          "histogram2dcontour": [
           {
            "colorbar": {
             "outlinewidth": 0,
             "ticks": ""
            },
            "colorscale": [
             [
              0,
              "#0d0887"
             ],
             [
              0.1111111111111111,
              "#46039f"
             ],
             [
              0.2222222222222222,
              "#7201a8"
             ],
             [
              0.3333333333333333,
              "#9c179e"
             ],
             [
              0.4444444444444444,
              "#bd3786"
             ],
             [
              0.5555555555555556,
              "#d8576b"
             ],
             [
              0.6666666666666666,
              "#ed7953"
             ],
             [
              0.7777777777777778,
              "#fb9f3a"
             ],
             [
              0.8888888888888888,
              "#fdca26"
             ],
             [
              1,
              "#f0f921"
             ]
            ],
            "type": "histogram2dcontour"
           }
          ],
          "mesh3d": [
           {
            "colorbar": {
             "outlinewidth": 0,
             "ticks": ""
            },
            "type": "mesh3d"
           }
          ],
          "parcoords": [
           {
            "line": {
             "colorbar": {
              "outlinewidth": 0,
              "ticks": ""
             }
            },
            "type": "parcoords"
           }
          ],
          "pie": [
           {
            "automargin": true,
            "type": "pie"
           }
          ],
          "scatter": [
           {
            "fillpattern": {
             "fillmode": "overlay",
             "size": 10,
             "solidity": 0.2
            },
            "type": "scatter"
           }
          ],
          "scatter3d": [
           {
            "line": {
             "colorbar": {
              "outlinewidth": 0,
              "ticks": ""
             }
            },
            "marker": {
             "colorbar": {
              "outlinewidth": 0,
              "ticks": ""
             }
            },
            "type": "scatter3d"
           }
          ],
          "scattercarpet": [
           {
            "marker": {
             "colorbar": {
              "outlinewidth": 0,
              "ticks": ""
             }
            },
            "type": "scattercarpet"
           }
          ],
          "scattergeo": [
           {
            "marker": {
             "colorbar": {
              "outlinewidth": 0,
              "ticks": ""
             }
            },
            "type": "scattergeo"
           }
          ],
          "scattergl": [
           {
            "marker": {
             "colorbar": {
              "outlinewidth": 0,
              "ticks": ""
             }
            },
            "type": "scattergl"
           }
          ],
          "scattermapbox": [
           {
            "marker": {
             "colorbar": {
              "outlinewidth": 0,
              "ticks": ""
             }
            },
            "type": "scattermapbox"
           }
          ],
          "scatterpolar": [
           {
            "marker": {
             "colorbar": {
              "outlinewidth": 0,
              "ticks": ""
             }
            },
            "type": "scatterpolar"
           }
          ],
          "scatterpolargl": [
           {
            "marker": {
             "colorbar": {
              "outlinewidth": 0,
              "ticks": ""
             }
            },
            "type": "scatterpolargl"
           }
          ],
          "scatterternary": [
           {
            "marker": {
             "colorbar": {
              "outlinewidth": 0,
              "ticks": ""
             }
            },
            "type": "scatterternary"
           }
          ],
          "surface": [
           {
            "colorbar": {
             "outlinewidth": 0,
             "ticks": ""
            },
            "colorscale": [
             [
              0,
              "#0d0887"
             ],
             [
              0.1111111111111111,
              "#46039f"
             ],
             [
              0.2222222222222222,
              "#7201a8"
             ],
             [
              0.3333333333333333,
              "#9c179e"
             ],
             [
              0.4444444444444444,
              "#bd3786"
             ],
             [
              0.5555555555555556,
              "#d8576b"
             ],
             [
              0.6666666666666666,
              "#ed7953"
             ],
             [
              0.7777777777777778,
              "#fb9f3a"
             ],
             [
              0.8888888888888888,
              "#fdca26"
             ],
             [
              1,
              "#f0f921"
             ]
            ],
            "type": "surface"
           }
          ],
          "table": [
           {
            "cells": {
             "fill": {
              "color": "#EBF0F8"
             },
             "line": {
              "color": "white"
             }
            },
            "header": {
             "fill": {
              "color": "#C8D4E3"
             },
             "line": {
              "color": "white"
             }
            },
            "type": "table"
           }
          ]
         },
         "layout": {
          "annotationdefaults": {
           "arrowcolor": "#2a3f5f",
           "arrowhead": 0,
           "arrowwidth": 1
          },
          "autotypenumbers": "strict",
          "coloraxis": {
           "colorbar": {
            "outlinewidth": 0,
            "ticks": ""
           }
          },
          "colorscale": {
           "diverging": [
            [
             0,
             "#8e0152"
            ],
            [
             0.1,
             "#c51b7d"
            ],
            [
             0.2,
             "#de77ae"
            ],
            [
             0.3,
             "#f1b6da"
            ],
            [
             0.4,
             "#fde0ef"
            ],
            [
             0.5,
             "#f7f7f7"
            ],
            [
             0.6,
             "#e6f5d0"
            ],
            [
             0.7,
             "#b8e186"
            ],
            [
             0.8,
             "#7fbc41"
            ],
            [
             0.9,
             "#4d9221"
            ],
            [
             1,
             "#276419"
            ]
           ],
           "sequential": [
            [
             0,
             "#0d0887"
            ],
            [
             0.1111111111111111,
             "#46039f"
            ],
            [
             0.2222222222222222,
             "#7201a8"
            ],
            [
             0.3333333333333333,
             "#9c179e"
            ],
            [
             0.4444444444444444,
             "#bd3786"
            ],
            [
             0.5555555555555556,
             "#d8576b"
            ],
            [
             0.6666666666666666,
             "#ed7953"
            ],
            [
             0.7777777777777778,
             "#fb9f3a"
            ],
            [
             0.8888888888888888,
             "#fdca26"
            ],
            [
             1,
             "#f0f921"
            ]
           ],
           "sequentialminus": [
            [
             0,
             "#0d0887"
            ],
            [
             0.1111111111111111,
             "#46039f"
            ],
            [
             0.2222222222222222,
             "#7201a8"
            ],
            [
             0.3333333333333333,
             "#9c179e"
            ],
            [
             0.4444444444444444,
             "#bd3786"
            ],
            [
             0.5555555555555556,
             "#d8576b"
            ],
            [
             0.6666666666666666,
             "#ed7953"
            ],
            [
             0.7777777777777778,
             "#fb9f3a"
            ],
            [
             0.8888888888888888,
             "#fdca26"
            ],
            [
             1,
             "#f0f921"
            ]
           ]
          },
          "colorway": [
           "#636efa",
           "#EF553B",
           "#00cc96",
           "#ab63fa",
           "#FFA15A",
           "#19d3f3",
           "#FF6692",
           "#B6E880",
           "#FF97FF",
           "#FECB52"
          ],
          "font": {
           "color": "#2a3f5f"
          },
          "geo": {
           "bgcolor": "white",
           "lakecolor": "white",
           "landcolor": "#E5ECF6",
           "showlakes": true,
           "showland": true,
           "subunitcolor": "white"
          },
          "hoverlabel": {
           "align": "left"
          },
          "hovermode": "closest",
          "mapbox": {
           "style": "light"
          },
          "paper_bgcolor": "white",
          "plot_bgcolor": "#E5ECF6",
          "polar": {
           "angularaxis": {
            "gridcolor": "white",
            "linecolor": "white",
            "ticks": ""
           },
           "bgcolor": "#E5ECF6",
           "radialaxis": {
            "gridcolor": "white",
            "linecolor": "white",
            "ticks": ""
           }
          },
          "scene": {
           "xaxis": {
            "backgroundcolor": "#E5ECF6",
            "gridcolor": "white",
            "gridwidth": 2,
            "linecolor": "white",
            "showbackground": true,
            "ticks": "",
            "zerolinecolor": "white"
           },
           "yaxis": {
            "backgroundcolor": "#E5ECF6",
            "gridcolor": "white",
            "gridwidth": 2,
            "linecolor": "white",
            "showbackground": true,
            "ticks": "",
            "zerolinecolor": "white"
           },
           "zaxis": {
            "backgroundcolor": "#E5ECF6",
            "gridcolor": "white",
            "gridwidth": 2,
            "linecolor": "white",
            "showbackground": true,
            "ticks": "",
            "zerolinecolor": "white"
           }
          },
          "shapedefaults": {
           "line": {
            "color": "#2a3f5f"
           }
          },
          "ternary": {
           "aaxis": {
            "gridcolor": "white",
            "linecolor": "white",
            "ticks": ""
           },
           "baxis": {
            "gridcolor": "white",
            "linecolor": "white",
            "ticks": ""
           },
           "bgcolor": "#E5ECF6",
           "caxis": {
            "gridcolor": "white",
            "linecolor": "white",
            "ticks": ""
           }
          },
          "title": {
           "x": 0.05
          },
          "xaxis": {
           "automargin": true,
           "gridcolor": "white",
           "linecolor": "white",
           "ticks": "",
           "title": {
            "standoff": 15
           },
           "zerolinecolor": "white",
           "zerolinewidth": 2
          },
          "yaxis": {
           "automargin": true,
           "gridcolor": "white",
           "linecolor": "white",
           "ticks": "",
           "title": {
            "standoff": 15
           },
           "zerolinecolor": "white",
           "zerolinewidth": 2
          }
         }
        }
       }
      }
     },
     "metadata": {},
     "output_type": "display_data"
    }
   ],
   "source": [
    "df = plot_features_3D(feature_map, plottype=\"line\")"
   ]
  },
  {
   "cell_type": "code",
   "execution_count": null,
   "metadata": {
    "ExecuteTime": {
     "start_time": "2024-01-24T17:08:44.103902105Z"
    }
   },
   "outputs": [
    {
     "data": {
      "text/html": [
       "<div>\n",
       "<style scoped>\n",
       "    .dataframe tbody tr th:only-of-type {\n",
       "        vertical-align: middle;\n",
       "    }\n",
       "\n",
       "    .dataframe tbody tr th {\n",
       "        vertical-align: top;\n",
       "    }\n",
       "\n",
       "    .dataframe thead th {\n",
       "        text-align: right;\n",
       "    }\n",
       "</style>\n",
       "<table border=\"1\" class=\"dataframe\">\n",
       "  <thead>\n",
       "    <tr style=\"text-align: right;\">\n",
       "      <th></th>\n",
       "      <th>m/z</th>\n",
       "      <th>rt</th>\n",
       "      <th>intensity</th>\n",
       "      <th>labels</th>\n",
       "    </tr>\n",
       "  </thead>\n",
       "  <tbody>\n",
       "    <tr>\n",
       "      <th>0</th>\n",
       "      <td>102.674924</td>\n",
       "      <td>0.000000</td>\n",
       "      <td>8.018</td>\n",
       "      <td>(2E)-geranyl diphosphate</td>\n",
       "    </tr>\n",
       "    <tr>\n",
       "      <th>1</th>\n",
       "      <td>102.674924</td>\n",
       "      <td>159.001266</td>\n",
       "      <td>8.733</td>\n",
       "      <td>(2E)-geranyl diphosphate</td>\n",
       "    </tr>\n",
       "    <tr>\n",
       "      <th>2</th>\n",
       "      <td>103.009375</td>\n",
       "      <td>0.000000</td>\n",
       "      <td>8.018</td>\n",
       "      <td>(2E)-geranyl diphosphate</td>\n",
       "    </tr>\n",
       "    <tr>\n",
       "      <th>3</th>\n",
       "      <td>103.009375</td>\n",
       "      <td>232.764114</td>\n",
       "      <td>8.733</td>\n",
       "      <td>(2E)-geranyl diphosphate</td>\n",
       "    </tr>\n",
       "    <tr>\n",
       "      <th>4</th>\n",
       "      <td>159.025499</td>\n",
       "      <td>0.000000</td>\n",
       "      <td>5.161</td>\n",
       "      <td>(3-hydroxy-2-oxindol-3-yl)acetyl-L-aspartate</td>\n",
       "    </tr>\n",
       "    <tr>\n",
       "      <th>...</th>\n",
       "      <td>...</td>\n",
       "      <td>...</td>\n",
       "      <td>...</td>\n",
       "      <td>...</td>\n",
       "    </tr>\n",
       "    <tr>\n",
       "      <th>1073</th>\n",
       "      <td>330.547834</td>\n",
       "      <td>0.000000</td>\n",
       "      <td>10.162</td>\n",
       "      <td>NADH</td>\n",
       "    </tr>\n",
       "    <tr>\n",
       "      <th>1074</th>\n",
       "      <td>330.547834</td>\n",
       "      <td>0.000000</td>\n",
       "      <td>10.876</td>\n",
       "      <td>NADH</td>\n",
       "    </tr>\n",
       "    <tr>\n",
       "      <th>1075</th>\n",
       "      <td>331.049511</td>\n",
       "      <td>0.000000</td>\n",
       "      <td>9.447</td>\n",
       "      <td>NADH</td>\n",
       "    </tr>\n",
       "    <tr>\n",
       "      <th>1076</th>\n",
       "      <td>331.049511</td>\n",
       "      <td>2743.003174</td>\n",
       "      <td>10.162</td>\n",
       "      <td>NADH</td>\n",
       "    </tr>\n",
       "    <tr>\n",
       "      <th>1077</th>\n",
       "      <td>331.049511</td>\n",
       "      <td>0.000000</td>\n",
       "      <td>10.876</td>\n",
       "      <td>NADH</td>\n",
       "    </tr>\n",
       "  </tbody>\n",
       "</table>\n",
       "<p>1078 rows × 4 columns</p>\n",
       "</div>"
      ],
      "text/plain": [
       "             m/z           rt  intensity  \\\n",
       "0     102.674924     0.000000      8.018   \n",
       "1     102.674924   159.001266      8.733   \n",
       "2     103.009375     0.000000      8.018   \n",
       "3     103.009375   232.764114      8.733   \n",
       "4     159.025499     0.000000      5.161   \n",
       "...          ...          ...        ...   \n",
       "1073  330.547834     0.000000     10.162   \n",
       "1074  330.547834     0.000000     10.876   \n",
       "1075  331.049511     0.000000      9.447   \n",
       "1076  331.049511  2743.003174     10.162   \n",
       "1077  331.049511     0.000000     10.876   \n",
       "\n",
       "                                            labels  \n",
       "0                         (2E)-geranyl diphosphate  \n",
       "1                         (2E)-geranyl diphosphate  \n",
       "2                         (2E)-geranyl diphosphate  \n",
       "3                         (2E)-geranyl diphosphate  \n",
       "4     (3-hydroxy-2-oxindol-3-yl)acetyl-L-aspartate  \n",
       "...                                            ...  \n",
       "1073                                          NADH  \n",
       "1074                                          NADH  \n",
       "1075                                          NADH  \n",
       "1076                                          NADH  \n",
       "1077                                          NADH  \n",
       "\n",
       "[1078 rows x 4 columns]"
      ]
     },
     "execution_count": 139,
     "metadata": {},
     "output_type": "execute_result"
    }
   ],
   "source": [
    "df"
   ]
  },
  {
   "cell_type": "code",
   "execution_count": null,
   "metadata": {
    "ExecuteTime": {
     "start_time": "2024-01-24T17:08:44.103998421Z"
    }
   },
   "outputs": [],
   "source": [
    "z_data = pd.read_csv('https://raw.githubusercontent.com/plotly/datasets/master/api_docs/mt_bruno_elevation.csv')\n",
    "z_data.values.shape"
   ]
  },
  {
   "cell_type": "code",
   "execution_count": null,
   "metadata": {
    "ExecuteTime": {
     "start_time": "2024-01-24T17:08:44.104079575Z"
    }
   },
   "outputs": [],
   "source": []
  },
  {
   "cell_type": "code",
   "execution_count": null,
   "metadata": {
    "ExecuteTime": {
     "start_time": "2024-01-24T17:08:44.104220680Z"
    }
   },
   "outputs": [],
   "source": [
    "feature = feature_map[0]"
   ]
  },
  {
   "cell_type": "code",
   "execution_count": null,
   "metadata": {
    "ExecuteTime": {
     "start_time": "2024-01-24T17:08:44.104337462Z"
    }
   },
   "outputs": [],
   "source": []
  }
 ],
 "metadata": {
  "kernelspec": {
   "display_name": "gemml",
   "language": "python",
   "name": "python3"
  },
  "language_info": {
   "codemirror_mode": {
    "name": "ipython",
    "version": 3
   },
   "file_extension": ".py",
   "mimetype": "text/x-python",
   "name": "python",
   "nbconvert_exporter": "python",
   "pygments_lexer": "ipython3",
   "version": "3.11.7"
  }
 },
 "nbformat": 4,
 "nbformat_minor": 2
}
