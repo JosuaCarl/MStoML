{
 "cells": [
  {
   "cell_type": "code",
   "execution_count": 1,
   "metadata": {},
   "outputs": [
    {
     "name": "stdout",
     "output_type": "stream",
     "text": [
      "Warning: OPENMS_DATA_PATH environment variable already exists. pyOpenMS will use it (C:\\Program Files\\OpenMS-3.1.0\\share\\OpenMS) to locate data in the OpenMS share folder (e.g., the unimod database), instead of the default (c:\\Users\\JosuaCarl\\miniconda3\\envs\\gemml\\Lib\\site-packages\\pyopenms\\share/OpenMS).\n"
     ]
    }
   ],
   "source": [
    "# Imports\n",
    "import os\n",
    "import datetime\n",
    "import json\n",
    "from typing import overload, Any, List, Dict, Tuple, Set, Sequence, Union, Optional\n",
    "import numpy as np\n",
    "import pandas as pd\n",
    "import pyopenms as oms\n",
    "import matplotlib.pyplot as plt\n",
    "import seaborn as sns\n",
    "import plotly.graph_objects as go\n",
    "import plotly.express as px\n",
    "from tqdm import tqdm\n",
    "import shutil\n",
    "import requests\n",
    "from sklearn.impute import KNNImputer\n",
    "from sklearn.preprocessing import FunctionTransformer\n",
    "from sklearn.pipeline import Pipeline\n",
    "\n",
    "# Ignore seaborn warning for future deprecation of module part\n",
    "import warnings\n",
    "warnings.simplefilter(action='ignore', category=FutureWarning)\n",
    "\n",
    "# import methods from FIA python script\n",
    "from FIA import *\n",
    "\n",
    "oms.LogConfigHandler().setLogLevel(\"DEBUG\")"
   ]
  },
  {
   "cell_type": "markdown",
   "metadata": {},
   "source": [
    "## Read in"
   ]
  },
  {
   "cell_type": "code",
   "execution_count": 2,
   "metadata": {},
   "outputs": [],
   "source": [
    "# set path to your mzML files and workfolder\n",
    "data_dir = \"../../data/example data/exampleA_ecolistrains\"\n",
    "run_dir = \"../../runs/fia_explorer\"\n",
    "\n",
    "data_dir = os.path.normpath(os.path.join(os.getcwd(), data_dir))\n",
    "run_dir = os.path.normpath(os.path.join(os.getcwd(), run_dir))\n",
    "\n",
    "# clean_dir(run_dir)"
   ]
  },
  {
   "cell_type": "markdown",
   "metadata": {},
   "source": [
    "## Centroiding\n",
    "Data reduction with peak picking"
   ]
  },
  {
   "cell_type": "code",
   "execution_count": 3,
   "metadata": {},
   "outputs": [],
   "source": [
    "# centroid_dir = centroid_batch(data_dir, run_dir, file_ending=\".mzXML\")\n",
    "centroid_dir = os.path.join(run_dir, \"centroids\")"
   ]
  },
  {
   "cell_type": "markdown",
   "metadata": {},
   "source": [
    "## Merging\n",
    "We loose temporal information. Could not be desired, because the isotope spectra get less specific."
   ]
  },
  {
   "cell_type": "code",
   "execution_count": 4,
   "metadata": {},
   "outputs": [],
   "source": [
    "# merge_dir = merge_batch(centroid_dir, run_dir, block_size=None, mz_binning_width=5.0, mz_binning_width_unit=\"ppm\", average_gaussian_cutoff=0.01, file_ending=\".mzML\")\n",
    "# merge_dir = os.path.join(run_dir, \"merged\")"
   ]
  },
  {
   "cell_type": "markdown",
   "metadata": {},
   "source": [
    "## Mass trace detection"
   ]
  },
  {
   "cell_type": "code",
   "execution_count": 5,
   "metadata": {},
   "outputs": [
    {
     "name": "stderr",
     "output_type": "stream",
     "text": [
      "100%|██████████| 6/6 [00:03<00:00,  1.53it/s]\n"
     ]
    }
   ],
   "source": [
    "mass_traces_all = mass_trace_detection_batch(experiments=centroid_dir, file_ending=\".mzML\", \n",
    "                                             mass_error_ppm=10.0, noise_threshold_int= 1000.0, reestimate_mt_sd=\"true\",\n",
    "                                             quant_method=\"median\", trace_termination_criterion=\"outlier\", trace_termination_outliers=3,\n",
    "                                             min_trace_length=5.0, max_trace_length=-1.0)"
   ]
  },
  {
   "cell_type": "markdown",
   "metadata": {},
   "source": [
    "## Elution peak detection\n",
    "Should mostly come out to one peak, but somtimes separation happens in long pipe"
   ]
  },
  {
   "cell_type": "code",
   "execution_count": 6,
   "metadata": {},
   "outputs": [
    {
     "name": "stderr",
     "output_type": "stream",
     "text": [
      "100%|██████████| 6/6 [00:02<00:00,  2.69it/s]\n"
     ]
    }
   ],
   "source": [
    "mass_traces_deconvol_all = elution_peak_detection_batch(mass_traces_all=mass_traces_all, chrom_fwhm=10.0, chrom_peak_snr=2.0,\n",
    "                                                     width_filtering=\"fixed\", min_fwhm=1.0, max_fwhm=60.0,\n",
    "                                                     masstrace_snr_filtering=\"false\")"
   ]
  },
  {
   "cell_type": "markdown",
   "metadata": {},
   "source": [
    "## Feature detection"
   ]
  },
  {
   "cell_type": "code",
   "execution_count": 7,
   "metadata": {},
   "outputs": [
    {
     "name": "stderr",
     "output_type": "stream",
     "text": [
      "100%|██████████| 6/6 [00:06<00:00,  1.02s/it]\n"
     ]
    }
   ],
   "source": [
    "feature_maps = feature_detection_untargeted_batch(experiments=centroid_dir,\n",
    "                                                  mass_traces_deconvol_all=mass_traces_deconvol_all, isotope_filtering_model=\"metabolites (2% RMS)\",\n",
    "                                                  local_rt_range=3.0, local_mz_range=5.0, \n",
    "                                                  charge_lower_bound=1, charge_upper_bound=3,\n",
    "                                                  chrom_fwhm=10.0, report_summed_ints=\"true\",\n",
    "                                                  enable_RT_filtering=\"false\", mz_scoring_13C=\"false\",\n",
    "                                                  use_smoothed_intensities=\"false\", report_convex_hulls=\"true\",\n",
    "                                                  report_chromatograms=\"false\", remove_single_traces=\"true\",\n",
    "                                                  mz_scoring_by_elements=\"false\", elements=\"CHNOPS\")"
   ]
  },
  {
   "cell_type": "code",
   "execution_count": 8,
   "metadata": {},
   "outputs": [
    {
     "data": {
      "text/plain": [
       "<pyopenms._dataframes._FeatureMapDF at 0x2519c2b1770>"
      ]
     },
     "execution_count": 8,
     "metadata": {},
     "output_type": "execute_result"
    }
   ],
   "source": [
    "fm = feature_maps[0]\n",
    "fm"
   ]
  },
  {
   "cell_type": "code",
   "execution_count": 9,
   "metadata": {},
   "outputs": [
    {
     "name": "stdout",
     "output_type": "stream",
     "text": [
      "Storing feature maps:\n"
     ]
    },
    {
     "name": "stderr",
     "output_type": "stream",
     "text": [
      "100%|██████████| 6/6 [00:00<00:00, 25.69it/s]\n"
     ]
    }
   ],
   "source": [
    "store_feature_maps(feature_maps, os.path.join(run_dir, \"features\"), names=centroid_dir, file_ending=\".mzML\")"
   ]
  },
  {
   "cell_type": "markdown",
   "metadata": {},
   "source": [
    "## Feature refinement"
   ]
  },
  {
   "cell_type": "code",
   "execution_count": 10,
   "metadata": {},
   "outputs": [
    {
     "name": "stdout",
     "output_type": "stream",
     "text": [
      "Assign polarity to feature maps:\n"
     ]
    },
    {
     "name": "stderr",
     "output_type": "stream",
     "text": [
      "100%|██████████| 6/6 [00:00<00:00, 227.77it/s]\n"
     ]
    },
    {
     "name": "stdout",
     "output_type": "stream",
     "text": [
      "Separating feature maps:\n"
     ]
    },
    {
     "name": "stderr",
     "output_type": "stream",
     "text": [
      "100%|██████████| 6/6 [00:00<?, ?it/s]\n"
     ]
    }
   ],
   "source": [
    "feature_maps_pol = assign_feature_maps_polarity(feature_maps)\n",
    "feature_maps_pos, feature_maps_neg = separate_feature_maps_pos_neg(feature_maps=feature_maps_pol)"
   ]
  },
  {
   "cell_type": "code",
   "execution_count": 11,
   "metadata": {},
   "outputs": [
    {
     "name": "stdout",
     "output_type": "stream",
     "text": [
      "Detecting adducts:\n"
     ]
    },
    {
     "name": "stderr",
     "output_type": "stream",
     "text": [
      "100%|██████████| 3/3 [00:01<00:00,  2.25it/s]\n"
     ]
    },
    {
     "name": "stdout",
     "output_type": "stream",
     "text": [
      "Storing feature maps:\n"
     ]
    },
    {
     "name": "stderr",
     "output_type": "stream",
     "text": [
      "100%|██████████| 3/3 [00:00<00:00, 15.58it/s]\n"
     ]
    }
   ],
   "source": [
    "pos_adducts = [b\"H:+:0.6\", b\"K:+:0.1\", b\"Na:+:0.1\", b\"NH4:+:0.1\", b\"H-1O-1:+:0.05\", b\"H-3O-2:+:0.05\"]\n",
    "feature_maps_pos_adducts = detect_adducts(feature_maps_pos, potential_adducts=pos_adducts, q_try=\"feature\", mass_max_diff=10.0, unit=\"ppm\", max_minority_bound=2, verbose_level=3)\n",
    "store_feature_maps(feature_maps_pos_adducts, os.path.join(run_dir, \"adduct_features\"), names=centroid_dir, file_ending=\".mzML\")"
   ]
  },
  {
   "cell_type": "code",
   "execution_count": 12,
   "metadata": {},
   "outputs": [
    {
     "name": "stdout",
     "output_type": "stream",
     "text": [
      "Detecting adducts:\n"
     ]
    },
    {
     "name": "stderr",
     "output_type": "stream",
     "text": [
      "100%|██████████| 3/3 [00:01<00:00,  2.70it/s]\n"
     ]
    },
    {
     "name": "stdout",
     "output_type": "stream",
     "text": [
      "Storing feature maps:\n"
     ]
    },
    {
     "name": "stderr",
     "output_type": "stream",
     "text": [
      "100%|██████████| 3/3 [00:00<00:00, 44.72it/s]\n"
     ]
    }
   ],
   "source": [
    "neg_adducts = [b\"H-1:-:0.6\", b\"H-3O-1:-:0.2\", b\"Cl:-:0.1\", b\"Na-1:-:0.05\", b\"K-1:-:0.025\", b\"Br:-:0.025\"]\n",
    "feature_maps_neg_adducts = detect_adducts(feature_maps_neg, potential_adducts=neg_adducts, q_try=\"feature\", mass_max_diff=10.0, unit=\"ppm\", max_minority_bound=2, verbose_level=3)\n",
    "store_feature_maps(feature_maps_neg_adducts, os.path.join(run_dir, \"adduct_features\"), names=centroid_dir, file_ending=\".mzML\")"
   ]
  },
  {
   "cell_type": "code",
   "execution_count": 13,
   "metadata": {},
   "outputs": [
    {
     "name": "stdout",
     "output_type": "stream",
     "text": [
      "Assign polarity to feature maps:\n"
     ]
    },
    {
     "name": "stderr",
     "output_type": "stream",
     "text": [
      "100%|██████████| 1/1 [00:00<00:00, 340.86it/s]\n"
     ]
    },
    {
     "name": "stdout",
     "output_type": "stream",
     "text": [
      "Assign polarity to feature maps:\n"
     ]
    },
    {
     "name": "stderr",
     "output_type": "stream",
     "text": [
      "100%|██████████| 1/1 [00:00<00:00, 1000.31it/s]\n"
     ]
    }
   ],
   "source": [
    "consensus_map_pos = consensus_features_linking(feature_maps_pos_adducts, feature_grouper_type=\"QT\")\n",
    "consensus_map_pos = assign_feature_maps_polarity([consensus_map_pos], \"positive\")[0]\n",
    "consensus_map_neg = consensus_features_linking(feature_maps_neg_adducts, feature_grouper_type=\"QT\")\n",
    "consensus_map_neg = assign_feature_maps_polarity([consensus_map_neg], \"negative\")[0]"
   ]
  },
  {
   "cell_type": "code",
   "execution_count": 90,
   "metadata": {},
   "outputs": [],
   "source": [
    "cm_pos_df = consensus_map_to_df(consensus_map_pos)\n",
    "filtered_cm_pos_df = filter_consensus_map_df(cm_pos_df, max_missing_values=1, min_feature_quality=0.80)\n",
    "imputed_cm_pos_df = impute_consensus_map_df(filtered_cm_pos_df, n_nearest_neighbours=2)\n",
    "\n",
    "cm_neg_df = consensus_map_to_df(consensus_map_neg)\n",
    "filtered_cm_neg_df = filter_consensus_map_df(cm_neg_df, max_missing_values=1, min_feature_quality=0.80)\n",
    "imputed_cm_neg_df = impute_consensus_map_df(filtered_cm_neg_df, n_nearest_neighbours=2)"
   ]
  },
  {
   "cell_type": "markdown",
   "metadata": {},
   "source": [
    "## Centroiding"
   ]
  },
  {
   "cell_type": "code",
   "execution_count": 114,
   "metadata": {},
   "outputs": [],
   "source": [
    "def extract_centroids_cm_df(cm_df:pd.DataFrame) -> pd.DataFrame:\n",
    "    data_cols = [c for c in cm_df.columns if c not in [\"RT\", \"mz\", \"quality\"]]\n",
    "    intensities = cm_df[data_cols]\n",
    "    intensities = np.where(intensities == 0.0, np.nan, intensities)\n",
    "    centr_df = cm_df[[\"RT\", \"mz\", \"quality\"]].copy()\n",
    "    centr_df[\"centroided_intensity\"] = np.nanmean(intensities, axis=1)\n",
    "    return centr_df"
   ]
  },
  {
   "cell_type": "code",
   "execution_count": 127,
   "metadata": {},
   "outputs": [],
   "source": [
    "cm_neg_centroid_df = extract_centroids_cm_df(cm_neg_df)\n",
    "cm_pos_centroid_df = extract_centroids_cm_df(cm_pos_df)"
   ]
  },
  {
   "cell_type": "markdown",
   "metadata": {},
   "source": [
    "## Labeling"
   ]
  },
  {
   "cell_type": "code",
   "execution_count": 53,
   "metadata": {},
   "outputs": [],
   "source": [
    "mass_search_pos_df = accurate_mass_search(consensus_map_pos, \"../../databases/HMDB/\", os.path.join(run_dir, \"tmp\"),\n",
    " \"PositiveAdducts.tsv\", \"NegativeAdducts.tsv\", \"HMDBMappingFile.tsv\", \"HMDB2StructMapping.tsv\", ionization_mode=\"positive\")\n",
    "mass_search_neg_df = accurate_mass_search(consensus_map_neg, \"../../databases/HMDB/\", os.path.join(run_dir, \"tmp\"),\n",
    " \"PositiveAdducts.tsv\", \"NegativeAdducts.tsv\", \"HMDBMappingFile.tsv\", \"HMDB2StructMapping.tsv\", ionization_mode=\"negative\")"
   ]
  },
  {
   "cell_type": "markdown",
   "metadata": {},
   "source": [
    "## Annotation"
   ]
  },
  {
   "cell_type": "code",
   "execution_count": 134,
   "metadata": {},
   "outputs": [],
   "source": [
    "clean_dir(os.path.join(run_dir, \"results\"))\n",
    "id_pos_df = annotate_consensus_map_df(cm_pos_centroid_df, mass_search_pos_df, os.path.join(run_dir, \"results\", \"pos.tsv\"), mz_tolerance=1e-04)\n",
    "id_neg_df = annotate_consensus_map_df(cm_neg_centroid_df, mass_search_neg_df, os.path.join(run_dir, \"results\", \"neg.tsv\"), mz_tolerance=1e-04)"
   ]
  },
  {
   "cell_type": "markdown",
   "metadata": {},
   "source": [
    "## Merge"
   ]
  },
  {
   "cell_type": "code",
   "execution_count": 143,
   "metadata": {},
   "outputs": [
    {
     "data": {
      "text/plain": [
       "1437"
      ]
     },
     "execution_count": 143,
     "metadata": {},
     "output_type": "execute_result"
    }
   ],
   "source": [
    "len(id_pos_df.index) + len(id_neg_df.index)"
   ]
  },
  {
   "cell_type": "code",
   "execution_count": 144,
   "metadata": {},
   "outputs": [],
   "source": [
    "# still super inefficient !!\n",
    "\n",
    "def merge_by_mz(id_df_1:pd.DataFrame, id_df_2:pd.DataFrame, mz_tolerance=1e-04):\n",
    "    id_df = id_df_1.copy()\n",
    "    not_merged = pd.Series([True]*len(id_df_2.index), index=id_df_2.index)\n",
    "    for i, row_1 in id_df_1.iterrows():\n",
    "        counter = 1\n",
    "        for j, row_2 in id_df_2.iterrows():\n",
    "            if np.isclose(row_1[\"mz\"], row_2[\"mz\"], mz_tolerance):\n",
    "                id_df.at[i, \"mz\"] = id_df.at[i, \"mz\"] + id_df_2.at[j, \"mz\"]\n",
    "                not_merged[j] = False\n",
    "                counter +=1\n",
    "        id_df.at[i, \"mz\"] = id_df.at[i, \"mz\"] / counter\n",
    "    return pd.concat([id_df, id_df_2.loc[not_merged.to_list()]]).reset_index(drop=True)\n"
   ]
  },
  {
   "cell_type": "code",
   "execution_count": 145,
   "metadata": {},
   "outputs": [],
   "source": [
    "merged_results_df = merge_by_mz(id_pos_df, id_neg_df)"
   ]
  },
  {
   "cell_type": "code",
   "execution_count": 147,
   "metadata": {},
   "outputs": [],
   "source": [
    "merged_results_df.to_csv(os.path.join(run_dir, \"results\", \"merged.tsv\"), sep=\"\\t\", index=False)"
   ]
  },
  {
   "cell_type": "markdown",
   "metadata": {},
   "source": [
    "## Measurements"
   ]
  },
  {
   "cell_type": "code",
   "execution_count": 117,
   "metadata": {},
   "outputs": [
    {
     "name": "stdout",
     "output_type": "stream",
     "text": [
      "Overall deviation of metabolites by RMSD: 0.00162 Da\n"
     ]
    }
   ],
   "source": [
    "rmsd = float(np.mean((mass_search_pos_df[\"exp_mass_to_charge\"] - mass_search_pos_df[\"calc_mass_to_charge\"])**2))**(1/2)\n",
    "print(f\"Overall deviation of metabolites by RMSD: {round(rmsd,5)} Da\")"
   ]
  }
 ],
 "metadata": {
  "kernelspec": {
   "display_name": "gemml",
   "language": "python",
   "name": "python3"
  },
  "language_info": {
   "codemirror_mode": {
    "name": "ipython",
    "version": 3
   },
   "file_extension": ".py",
   "mimetype": "text/x-python",
   "name": "python",
   "nbconvert_exporter": "python",
   "pygments_lexer": "ipython3",
   "version": "3.11.7"
  }
 },
 "nbformat": 4,
 "nbformat_minor": 2
}
