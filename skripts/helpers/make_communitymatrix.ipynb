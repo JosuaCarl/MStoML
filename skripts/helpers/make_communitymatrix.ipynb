{
 "cells": [
  {
   "cell_type": "code",
   "execution_count": 13,
   "metadata": {},
   "outputs": [],
   "source": [
    "import os\n",
    "import polars as pl"
   ]
  },
  {
   "cell_type": "code",
   "execution_count": 73,
   "metadata": {},
   "outputs": [
    {
     "data": {
      "text/plain": [
       "['/mnt/d/data/Com20_repl',\n",
       " '/mnt/d/data/Com20_single',\n",
       " '/mnt/d/data/Com20_transwell_interact',\n",
       " '/mnt/d/data/Com20_val']"
      ]
     },
     "execution_count": 73,
     "metadata": {},
     "output_type": "execute_result"
    }
   ],
   "source": [
    "base = \"/mnt/d/data/\"\n",
    "com = \"Com20\"\n",
    "com_dirs = [os.path.join(base, d) for d in os.listdir(base) if com in d and os.path.isdir(os.path.join(base, d))]\n",
    "com_dirs"
   ]
  },
  {
   "cell_type": "code",
   "execution_count": 87,
   "metadata": {},
   "outputs": [
    {
     "data": {
      "text/html": [
       "<div><style>\n",
       ".dataframe > thead > tr,\n",
       ".dataframe > tbody > tr {\n",
       "  text-align: right;\n",
       "  white-space: pre-wrap;\n",
       "}\n",
       "</style>\n",
       "<small>shape: (132, 3)</small><table border=\"1\" class=\"dataframe\"><thead><tr><th>column_1</th><th>column_2</th><th>column_3</th></tr><tr><td>str</td><td>str</td><td>str</td></tr></thead><tbody><tr><td>&quot;P1-A1&quot;</td><td>&quot;Basic_FIA_Iso_…</td><td>&quot;NT5001_B1_P1-A…</td></tr><tr><td>&quot;P1-A1&quot;</td><td>&quot;Basic_FIA_Iso_…</td><td>&quot;NT5001_B1_P1-A…</td></tr><tr><td>&quot;P1-A2&quot;</td><td>&quot;Basic_FIA_Iso_…</td><td>&quot;NT5002_B1_P1-A…</td></tr><tr><td>&quot;P1-A2&quot;</td><td>&quot;Basic_FIA_Iso_…</td><td>&quot;NT5002_B1_P1-A…</td></tr><tr><td>&quot;P1-A3&quot;</td><td>&quot;Basic_FIA_Iso_…</td><td>&quot;NT5003_B1_P1-A…</td></tr><tr><td>&hellip;</td><td>&hellip;</td><td>&hellip;</td></tr><tr><td>&quot;P2-B1&quot;</td><td>&quot;Basic_FIA_Iso_…</td><td>&quot;TH_B2_P2-B1_ne…</td></tr><tr><td>&quot;P2-B2&quot;</td><td>&quot;Basic_FIA_Iso_…</td><td>&quot;mGAM_B3_P2-B2_…</td></tr><tr><td>&quot;P2-B2&quot;</td><td>&quot;Basic_FIA_Iso_…</td><td>&quot;mGAM_B3_P2-B2_…</td></tr><tr><td>&quot;P2-B3&quot;</td><td>&quot;Basic_FIA_Iso_…</td><td>&quot;TH_B3_P2-B3_po…</td></tr><tr><td>&quot;P2-B3&quot;</td><td>&quot;Basic_FIA_Iso_…</td><td>&quot;TH_B3_P2-B3_ne…</td></tr></tbody></table></div>"
      ],
      "text/plain": [
       "shape: (132, 3)\n",
       "┌──────────┬─────────────────────┬───────────────────────┐\n",
       "│ column_1 ┆ column_2            ┆ column_3              │\n",
       "│ ---      ┆ ---                 ┆ ---                   │\n",
       "│ str      ┆ str                 ┆ str                   │\n",
       "╞══════════╪═════════════════════╪═══════════════════════╡\n",
       "│ P1-A1    ┆ Basic_FIA_Iso_pos.m ┆ NT5001_B1_P1-A1_pos.d │\n",
       "│ P1-A1    ┆ Basic_FIA_Iso_neg.m ┆ NT5001_B1_P1-A1_neg.d │\n",
       "│ P1-A2    ┆ Basic_FIA_Iso_pos.m ┆ NT5002_B1_P1-A2_pos.d │\n",
       "│ P1-A2    ┆ Basic_FIA_Iso_neg.m ┆ NT5002_B1_P1-A2_neg.d │\n",
       "│ P1-A3    ┆ Basic_FIA_Iso_pos.m ┆ NT5003_B1_P1-A3_pos.d │\n",
       "│ …        ┆ …                   ┆ …                     │\n",
       "│ P2-B1    ┆ Basic_FIA_Iso_neg.m ┆ TH_B2_P2-B1_neg.d     │\n",
       "│ P2-B2    ┆ Basic_FIA_Iso_pos.m ┆ mGAM_B3_P2-B2_pos.d   │\n",
       "│ P2-B2    ┆ Basic_FIA_Iso_neg.m ┆ mGAM_B3_P2-B2_neg.d   │\n",
       "│ P2-B3    ┆ Basic_FIA_Iso_pos.m ┆ TH_B3_P2-B3_pos.d     │\n",
       "│ P2-B3    ┆ Basic_FIA_Iso_neg.m ┆ TH_B3_P2-B3_neg.d     │\n",
       "└──────────┴─────────────────────┴───────────────────────┘"
      ]
     },
     "execution_count": 87,
     "metadata": {},
     "output_type": "execute_result"
    }
   ],
   "source": [
    "comb = pl.read_excel(os.path.join(com_dirs[1], \"20230327_WKL_P0024.xlsx\"), read_options={\"has_header\": False})\n",
    "comb"
   ]
  },
  {
   "cell_type": "code",
   "execution_count": 88,
   "metadata": {},
   "outputs": [
    {
     "data": {
      "text/html": [
       "<div><style>\n",
       ".dataframe > thead > tr,\n",
       ".dataframe > tbody > tr {\n",
       "  text-align: right;\n",
       "  white-space: pre-wrap;\n",
       "}\n",
       "</style>\n",
       "<small>shape: (20, 2)</small><table border=\"1\" class=\"dataframe\"><thead><tr><th>ID</th><th>Organism</th></tr><tr><td>str</td><td>str</td></tr></thead><tbody><tr><td>&quot;NT5001&quot;</td><td>&quot;Phocaeicola vu…</td></tr><tr><td>&quot;NT5002&quot;</td><td>&quot;Bacteroides un…</td></tr><tr><td>&quot;NT5003&quot;</td><td>&quot;Bacteroides fr…</td></tr><tr><td>&quot;NT5004&quot;</td><td>&quot;Bacteroides th…</td></tr><tr><td>&quot;NT5006&quot;</td><td>&quot;Thomasclavelia…</td></tr><tr><td>&hellip;</td><td>&hellip;</td></tr><tr><td>&quot;NT5048&quot;</td><td>&quot;Bariatricus co…</td></tr><tr><td>&quot;NT5071&quot;</td><td>&quot;Parabacteroide…</td></tr><tr><td>&quot;NT5072&quot;</td><td>&quot;Streptococcus …</td></tr><tr><td>&quot;NT5073&quot;</td><td>&quot;Collinsella ae…</td></tr><tr><td>&quot;NT5076&quot;</td><td>&quot;Dorea formicig…</td></tr></tbody></table></div>"
      ],
      "text/plain": [
       "shape: (20, 2)\n",
       "┌────────┬──────────────────────────────┐\n",
       "│ ID     ┆ Organism                     │\n",
       "│ ---    ┆ ---                          │\n",
       "│ str    ┆ str                          │\n",
       "╞════════╪══════════════════════════════╡\n",
       "│ NT5001 ┆ Phocaeicola vulgatus         │\n",
       "│ NT5002 ┆ Bacteroides uniformis        │\n",
       "│ NT5003 ┆ Bacteroides fragilis         │\n",
       "│ NT5004 ┆ Bacteroides thetaiotaomicron │\n",
       "│ NT5006 ┆ Thomasclavelia ramosum       │\n",
       "│ …      ┆ …                            │\n",
       "│ NT5048 ┆ Bariatricus comes            │\n",
       "│ NT5071 ┆ Parabacteroides merdae       │\n",
       "│ NT5072 ┆ Streptococcus parasanguinis  │\n",
       "│ NT5073 ┆ Collinsella aerofaciens      │\n",
       "│ NT5076 ┆ Dorea formicigenerans        │\n",
       "└────────┴──────────────────────────────┘"
      ]
     },
     "execution_count": 88,
     "metadata": {},
     "output_type": "execute_result"
    }
   ],
   "source": [
    "orgs = pl.read_csv(os.path.join(base, f\"{com}_microbes.tsv\"), separator=\"\\t\")\n",
    "orgs"
   ]
  },
  {
   "cell_type": "code",
   "execution_count": 103,
   "metadata": {},
   "outputs": [
    {
     "data": {
      "text/html": [
       "<div><style>\n",
       ".dataframe > thead > tr,\n",
       ".dataframe > tbody > tr {\n",
       "  text-align: right;\n",
       "  white-space: pre-wrap;\n",
       "}\n",
       "</style>\n",
       "<small>shape: (10, 20)</small><table border=\"1\" class=\"dataframe\"><thead><tr><th>0</th><th>1</th><th>2</th><th>3</th><th>4</th><th>5</th><th>6</th><th>7</th><th>8</th><th>9</th><th>10</th><th>11</th><th>12</th><th>13</th><th>14</th><th>15</th><th>16</th><th>17</th><th>18</th><th>19</th></tr><tr><td>i64</td><td>i64</td><td>i64</td><td>i64</td><td>i64</td><td>i64</td><td>i64</td><td>i64</td><td>i64</td><td>i64</td><td>i64</td><td>i64</td><td>i64</td><td>i64</td><td>i64</td><td>i64</td><td>i64</td><td>i64</td><td>i64</td><td>i64</td></tr></thead><tbody><tr><td>1</td><td>0</td><td>0</td><td>0</td><td>0</td><td>0</td><td>0</td><td>0</td><td>0</td><td>0</td><td>0</td><td>0</td><td>0</td><td>0</td><td>0</td><td>0</td><td>0</td><td>0</td><td>0</td><td>0</td></tr><tr><td>0</td><td>1</td><td>0</td><td>0</td><td>0</td><td>0</td><td>0</td><td>0</td><td>0</td><td>0</td><td>0</td><td>0</td><td>0</td><td>0</td><td>0</td><td>0</td><td>0</td><td>0</td><td>0</td><td>0</td></tr><tr><td>0</td><td>0</td><td>1</td><td>0</td><td>0</td><td>0</td><td>0</td><td>0</td><td>0</td><td>0</td><td>0</td><td>0</td><td>0</td><td>0</td><td>0</td><td>0</td><td>0</td><td>0</td><td>0</td><td>0</td></tr><tr><td>0</td><td>0</td><td>0</td><td>1</td><td>0</td><td>0</td><td>0</td><td>0</td><td>0</td><td>0</td><td>0</td><td>0</td><td>0</td><td>0</td><td>0</td><td>0</td><td>0</td><td>0</td><td>0</td><td>0</td></tr><tr><td>0</td><td>0</td><td>0</td><td>0</td><td>1</td><td>0</td><td>0</td><td>0</td><td>0</td><td>0</td><td>0</td><td>0</td><td>0</td><td>0</td><td>0</td><td>0</td><td>0</td><td>0</td><td>0</td><td>0</td></tr><tr><td>0</td><td>0</td><td>0</td><td>0</td><td>0</td><td>1</td><td>0</td><td>0</td><td>0</td><td>0</td><td>0</td><td>0</td><td>0</td><td>0</td><td>0</td><td>0</td><td>0</td><td>0</td><td>0</td><td>0</td></tr><tr><td>0</td><td>0</td><td>0</td><td>0</td><td>0</td><td>0</td><td>1</td><td>0</td><td>0</td><td>0</td><td>0</td><td>0</td><td>0</td><td>0</td><td>0</td><td>0</td><td>0</td><td>0</td><td>0</td><td>0</td></tr><tr><td>0</td><td>0</td><td>0</td><td>0</td><td>0</td><td>0</td><td>0</td><td>1</td><td>0</td><td>0</td><td>0</td><td>0</td><td>0</td><td>0</td><td>0</td><td>0</td><td>0</td><td>0</td><td>0</td><td>0</td></tr><tr><td>0</td><td>0</td><td>0</td><td>0</td><td>0</td><td>0</td><td>0</td><td>0</td><td>1</td><td>0</td><td>0</td><td>0</td><td>0</td><td>0</td><td>0</td><td>0</td><td>0</td><td>0</td><td>0</td><td>0</td></tr><tr><td>0</td><td>0</td><td>0</td><td>0</td><td>0</td><td>0</td><td>0</td><td>0</td><td>0</td><td>1</td><td>0</td><td>0</td><td>0</td><td>0</td><td>0</td><td>0</td><td>0</td><td>0</td><td>0</td><td>0</td></tr></tbody></table></div>"
      ],
      "text/plain": [
       "shape: (10, 20)\n",
       "┌─────┬─────┬─────┬─────┬───┬─────┬─────┬─────┬─────┐\n",
       "│ 0   ┆ 1   ┆ 2   ┆ 3   ┆ … ┆ 16  ┆ 17  ┆ 18  ┆ 19  │\n",
       "│ --- ┆ --- ┆ --- ┆ --- ┆   ┆ --- ┆ --- ┆ --- ┆ --- │\n",
       "│ i64 ┆ i64 ┆ i64 ┆ i64 ┆   ┆ i64 ┆ i64 ┆ i64 ┆ i64 │\n",
       "╞═════╪═════╪═════╪═════╪═══╪═════╪═════╪═════╪═════╡\n",
       "│ 1   ┆ 0   ┆ 0   ┆ 0   ┆ … ┆ 0   ┆ 0   ┆ 0   ┆ 0   │\n",
       "│ 0   ┆ 1   ┆ 0   ┆ 0   ┆ … ┆ 0   ┆ 0   ┆ 0   ┆ 0   │\n",
       "│ 0   ┆ 0   ┆ 1   ┆ 0   ┆ … ┆ 0   ┆ 0   ┆ 0   ┆ 0   │\n",
       "│ 0   ┆ 0   ┆ 0   ┆ 1   ┆ … ┆ 0   ┆ 0   ┆ 0   ┆ 0   │\n",
       "│ 0   ┆ 0   ┆ 0   ┆ 0   ┆ … ┆ 0   ┆ 0   ┆ 0   ┆ 0   │\n",
       "│ 0   ┆ 0   ┆ 0   ┆ 0   ┆ … ┆ 0   ┆ 0   ┆ 0   ┆ 0   │\n",
       "│ 0   ┆ 0   ┆ 0   ┆ 0   ┆ … ┆ 0   ┆ 0   ┆ 0   ┆ 0   │\n",
       "│ 0   ┆ 0   ┆ 0   ┆ 0   ┆ … ┆ 0   ┆ 0   ┆ 0   ┆ 0   │\n",
       "│ 0   ┆ 0   ┆ 0   ┆ 0   ┆ … ┆ 0   ┆ 0   ┆ 0   ┆ 0   │\n",
       "│ 0   ┆ 0   ┆ 0   ┆ 0   ┆ … ┆ 0   ┆ 0   ┆ 0   ┆ 0   │\n",
       "└─────┴─────┴─────┴─────┴───┴─────┴─────┴─────┴─────┘"
      ]
     },
     "execution_count": 103,
     "metadata": {},
     "output_type": "execute_result"
    }
   ],
   "source": [
    "rows = []\n",
    "for row in comb[::2].iter_rows():\n",
    "    row = row[2]\n",
    "    rows.append(pl.DataFrame([1 if i in row else 0 for i in orgs[\"ID\"]]).transpose())\n",
    "comb_one_hot_df = pl.concat(rows)\n",
    "comb_one_hot_df.columns = [str(i) for i in range(len(orgs))]\n",
    "comb_one_hot_df[20:30]"
   ]
  },
  {
   "cell_type": "code",
   "execution_count": 104,
   "metadata": {},
   "outputs": [],
   "source": [
    "comb_one_hot_df.write_csv(os.path.join(com_dirs[1], \"comb_one_hot.tsv\"), separator=\"\\t\")"
   ]
  },
  {
   "cell_type": "code",
   "execution_count": null,
   "metadata": {},
   "outputs": [],
   "source": []
  }
 ],
 "metadata": {
  "kernelspec": {
   "display_name": "VAE",
   "language": "python",
   "name": "python3"
  },
  "language_info": {
   "codemirror_mode": {
    "name": "ipython",
    "version": 3
   },
   "file_extension": ".py",
   "mimetype": "text/x-python",
   "name": "python",
   "nbconvert_exporter": "python",
   "pygments_lexer": "ipython3",
   "version": "3.11.8"
  }
 },
 "nbformat": 4,
 "nbformat_minor": 2
}
