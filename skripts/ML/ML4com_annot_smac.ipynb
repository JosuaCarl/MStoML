{
 "cells": [
  {
   "cell_type": "markdown",
   "metadata": {},
   "source": [
    "# Machine Learning for metabolomes of microbial communities"
   ]
  },
  {
   "cell_type": "code",
   "execution_count": 1,
   "metadata": {},
   "outputs": [],
   "source": [
    "# imports\n",
    "import sys\n",
    "sys.path.append( '../FIA' )\n",
    "sys.path.append( '../ML' )\n",
    "sys.path.append( '..' )\n",
    "\n",
    "from helpers import *\n",
    "from FIA import *\n",
    "from ML4com import *\n",
    "from DL4com import *"
   ]
  },
  {
   "cell_type": "markdown",
   "metadata": {},
   "source": [
    "## Loading in"
   ]
  },
  {
   "cell_type": "code",
   "execution_count": 2,
   "metadata": {},
   "outputs": [],
   "source": [
    "# Load matrices\n",
    "strains = pd.read_csv(\"../../data/comm8_0/strains.tsv\", sep=\"\\t\")\n",
    "comm8 = pd.read_csv(\"../../data/comm8_0/comm8.tsv\", sep=\"\\t\")\n",
    "metData = pd.read_csv(\"../../data/comm8_0/metData.tsv\", sep=\"\\t\")\n",
    "metData.index = pd.read_csv(\"../../data/comm8_0/metName.tsv\", sep=\"\\t\")\n",
    "\n",
    "met_raw_pos = pd.read_excel(\"../../data/comm8_0/FIA-Data Com8_20230717_P0024_msAV206-312.xlsx\", sheet_name=\"pos\")\n",
    "met_raw_neg = pd.read_excel(\"../../data/comm8_0/FIA-Data Com8_20230717_P0024_msAV206-312.xlsx\", sheet_name=\"neg\")\n",
    "met_raw_comb = pd.concat( [total_ion_count_normalization( join_df_metNames(met_raw_pos) ),\n",
    "                           total_ion_count_normalization( join_df_metNames(met_raw_neg) )] )"
   ]
  },
  {
   "cell_type": "markdown",
   "metadata": {},
   "source": [
    "## Normalization"
   ]
  },
  {
   "cell_type": "code",
   "execution_count": 3,
   "metadata": {},
   "outputs": [],
   "source": [
    "X = met_raw_comb.transpose()\n",
    "ys = comm8\n",
    "targets = strains.values.flatten()"
   ]
  },
  {
   "cell_type": "markdown",
   "metadata": {},
   "source": [
    "## Learning and tuning"
   ]
  },
  {
   "cell_type": "code",
   "execution_count": 4,
   "metadata": {},
   "outputs": [],
   "source": [
    "from sklearn.model_selection import cross_val_score"
   ]
  },
  {
   "cell_type": "code",
   "execution_count": 5,
   "metadata": {},
   "outputs": [],
   "source": [
    "run_dir = \"../../runs/ML/annot\""
   ]
  },
  {
   "cell_type": "code",
   "execution_count": 6,
   "metadata": {},
   "outputs": [
    {
     "ename": "SyntaxError",
     "evalue": "'break' outside loop (668683560.py, line 1)",
     "output_type": "error",
     "traceback": [
      "\u001b[0;36m  Cell \u001b[0;32mIn[6], line 1\u001b[0;36m\u001b[0m\n\u001b[0;31m    break\u001b[0m\n\u001b[0m    ^\u001b[0m\n\u001b[0;31mSyntaxError\u001b[0m\u001b[0;31m:\u001b[0m 'break' outside loop\n"
     ]
    }
   ],
   "source": [
    "break"
   ]
  },
  {
   "cell_type": "markdown",
   "metadata": {},
   "source": [
    "### Decision Tree"
   ]
  },
  {
   "cell_type": "code",
   "execution_count": null,
   "metadata": {},
   "outputs": [
    {
     "name": "stdout",
     "output_type": "stream",
     "text": [
      "[INFO][abstract_initial_design.py:147] Using 10 initial design configurations and 0 additional configurations.\n",
      "[INFO][abstract_intensifier.py:305] Using only one seed for deterministic scenario.\n",
      "[INFO][abstract_intensifier.py:515] Added config 748752 as new incumbent because there are no incumbents yet.\n",
      "[INFO][abstract_intensifier.py:590] Added config 7474ab and rejected config 748752 as incumbent because it is not better than the incumbents on 1 instances:\n",
      "[INFO][smbo.py:319] Finished 50 trials.\n",
      "[INFO][abstract_intensifier.py:590] Added config 8ce50c and rejected config 7474ab as incumbent because it is not better than the incumbents on 1 instances:\n",
      "[INFO][smbo.py:319] Finished 100 trials.\n",
      "[INFO][smbo.py:319] Finished 150 trials.\n",
      "[INFO][smbo.py:319] Finished 200 trials.\n",
      "[INFO][smbo.py:327] Configuration budget is exhausted:\n",
      "[INFO][smbo.py:328] --- Remaining wallclock time: inf\n",
      "[INFO][smbo.py:329] --- Remaining cpu time: inf\n",
      "[INFO][smbo.py:330] --- Remaining trials: 0\n"
     ]
    }
   ],
   "source": [
    "from sklearn.tree import DecisionTreeClassifier\n",
    "\n",
    "configuration_space = ConfigurationSpace()\n",
    "ccp_alpha   = Float(\"ccp_alpha\", (1e-3, 1e-1), log=True, default=0.01)\n",
    "configuration_space.add_hyperparameters([ccp_alpha])\n",
    "\n",
    "classifier = SKL_Classifier(X, ys, cv=5, configuration_space=configuration_space, classifier=DecisionTreeClassifier)\n",
    "\n",
    "scenario = Scenario(classifier.configuration_space, deterministic=True, n_workers=4, n_trials=200,\n",
    "                    walltime_limit=0.5*60*60, cputime_limit=np.inf, trial_memory_limit=int(6e10),\n",
    "                    output_directory=Path(os.path.normpath(\"/mnt/d/runs/ML/NN/smac_dt\")))\n",
    "\n",
    "smac = HyperparameterOptimizationFacade(scenario, classifier.train)\n",
    "incumbent = smac.optimize()"
   ]
  },
  {
   "cell_type": "code",
   "execution_count": null,
   "metadata": {},
   "outputs": [
    {
     "name": "stderr",
     "output_type": "stream",
     "text": [
      "  0%|          | 0/8 [00:00<?, ?it/s]"
     ]
    },
    {
     "name": "stderr",
     "output_type": "stream",
     "text": [
      "100%|██████████| 8/8 [00:02<00:00,  3.72it/s]\n"
     ]
    }
   ],
   "source": [
    "if isinstance(incumbent, list):\n",
    "    best_hp = incumbent[0]\n",
    "else: \n",
    "    best_hp = incumbent\n",
    "\n",
    "metrics_df = cross_validate_model_sklearn(DecisionTreeClassifier, X, ys, strains[\"0\"], config=best_hp,\n",
    "\t\t\t\t\t\t\t\t          fold=StratifiedKFold(n_splits=5), verbosity=0)"
   ]
  },
  {
   "cell_type": "markdown",
   "metadata": {},
   "source": [
    "## Random Forest"
   ]
  },
  {
   "cell_type": "markdown",
   "metadata": {},
   "source": [
    "### Standard"
   ]
  },
  {
   "cell_type": "code",
   "execution_count": null,
   "metadata": {},
   "outputs": [
    {
     "name": "stderr",
     "output_type": "stream",
     "text": [
      "/home/josua/miniconda3_linux/envs/MStoML/lib/python3.11/site-packages/distributed/node.py:182: UserWarning: Port 8787 is already in use.\n",
      "Perhaps you already have a cluster running?\n",
      "Hosting the HTTP server on port 34283 instead\n",
      "  warnings.warn(\n"
     ]
    },
    {
     "name": "stdout",
     "output_type": "stream",
     "text": [
      "[INFO][abstract_initial_design.py:147] Using 30 initial design configurations and 0 additional configurations.\n",
      "[INFO][abstract_intensifier.py:305] Using only one seed for deterministic scenario.\n",
      "[INFO][smbo.py:319] Finished 0 trials.\n",
      "[INFO][smbo.py:319] Finished 0 trials.\n",
      "[INFO][smbo.py:319] Finished 0 trials.\n",
      "[INFO][smbo.py:319] Finished 0 trials.\n",
      "[INFO][abstract_intensifier.py:515] Added config fe7927 as new incumbent because there are no incumbents yet.\n",
      "[INFO][abstract_intensifier.py:590] Added config d1f329 and rejected config fe7927 as incumbent because it is not better than the incumbents on 1 instances:\n",
      "[INFO][smbo.py:319] Finished 50 trials.\n",
      "[INFO][smbo.py:319] Finished 100 trials.\n",
      "[INFO][abstract_intensifier.py:590] Added config 803917 and rejected config d1f329 as incumbent because it is not better than the incumbents on 1 instances:\n",
      "[INFO][smbo.py:319] Finished 150 trials.\n",
      "[INFO][smbo.py:327] Configuration budget is exhausted:\n",
      "[INFO][smbo.py:328] --- Remaining wallclock time: inf\n",
      "[INFO][smbo.py:329] --- Remaining cpu time: inf\n",
      "[INFO][smbo.py:330] --- Remaining trials: 0\n"
     ]
    }
   ],
   "source": [
    "from sklearn.ensemble import RandomForestClassifier\n",
    "\n",
    "configuration_space = ConfigurationSpace()\n",
    "ccp_alpha       = Float(\"ccp_alpha\", (1e-3, 1e-1), log=True, default=0.01)\n",
    "n_estimators    = Integer(\"n_estimators\", (10,1000), log=True, default=100)\n",
    "max_depth       = Integer(\"max_depth\", (5, 100), default=20)\n",
    "configuration_space.add_hyperparameters([ccp_alpha, n_estimators, max_depth])\n",
    "\n",
    "classifier = SKL_Classifier(X, ys, cv=5, configuration_space=configuration_space, classifier=RandomForestClassifier)\n",
    "\n",
    "scenario = Scenario(classifier.configuration_space, deterministic=True, n_workers=4, n_trials=200,\n",
    "                    walltime_limit=np.inf, cputime_limit=np.inf, trial_memory_limit=None,\n",
    "                    output_directory=Path(os.path.normpath(\"/mnt/d/runs/ML/NN/smac_dt\")))\n",
    "\n",
    "smac = HyperparameterOptimizationFacade(scenario, classifier.train)\n",
    "incumbent = smac.optimize()"
   ]
  },
  {
   "cell_type": "code",
   "execution_count": null,
   "metadata": {},
   "outputs": [
    {
     "ename": "NameError",
     "evalue": "name 'cross_validate_model_sklearn' is not defined",
     "output_type": "error",
     "traceback": [
      "\u001b[0;31m---------------------------------------------------------------------------\u001b[0m",
      "\u001b[0;31mNameError\u001b[0m                                 Traceback (most recent call last)",
      "Cell \u001b[0;32mIn[28], line 6\u001b[0m\n\u001b[1;32m      3\u001b[0m \u001b[38;5;28;01melse\u001b[39;00m: \n\u001b[1;32m      4\u001b[0m     best_hp \u001b[38;5;241m=\u001b[39m incumbent\n\u001b[0;32m----> 6\u001b[0m metrics_df \u001b[38;5;241m=\u001b[39m \u001b[43mcross_validate_model_sklearn\u001b[49m(RandomForestClassifier, X, ys, strains[\u001b[38;5;124m\"\u001b[39m\u001b[38;5;124m0\u001b[39m\u001b[38;5;124m\"\u001b[39m], config\u001b[38;5;241m=\u001b[39mbest_hp,\n\u001b[1;32m      7\u001b[0m \t\t\t\t\t\t\t\t          fold\u001b[38;5;241m=\u001b[39mStratifiedKFold(n_splits\u001b[38;5;241m=\u001b[39m\u001b[38;5;241m5\u001b[39m), verbosity\u001b[38;5;241m=\u001b[39m\u001b[38;5;241m0\u001b[39m)\n",
      "\u001b[0;31mNameError\u001b[0m: name 'cross_validate_model_sklearn' is not defined"
     ]
    }
   ],
   "source": [
    "if isinstance(incumbent, list):\n",
    "    best_hp = incumbent[0]\n",
    "else: \n",
    "    best_hp = incumbent\n",
    "\n",
    "metrics_df = cross_validate_model_sklearn(RandomForestClassifier, X, ys, targets, config=best_hp,\n",
    "\t\t\t\t\t\t\t\t          fold=StratifiedKFold(n_splits=5), verbosity=0)"
   ]
  },
  {
   "cell_type": "markdown",
   "metadata": {},
   "source": [
    "### Gradient Boosting"
   ]
  },
  {
   "cell_type": "markdown",
   "metadata": {},
   "source": [
    "##### Extreme Gradiant Boosting"
   ]
  },
  {
   "cell_type": "code",
   "execution_count": 10,
   "metadata": {},
   "outputs": [
    {
     "name": "stdout",
     "output_type": "stream",
     "text": [
      "[INFO][abstract_initial_design.py:95] Reducing the number of initial configurations from 60 to 50 (max_ratio == 0.25).\n"
     ]
    },
    {
     "name": "stderr",
     "output_type": "stream",
     "text": [
      "/home/josua/miniconda3_linux/envs/MStoML/lib/python3.11/site-packages/distributed/node.py:182: UserWarning: Port 8787 is already in use.\n",
      "Perhaps you already have a cluster running?\n",
      "Hosting the HTTP server on port 46275 instead\n",
      "  warnings.warn(\n"
     ]
    },
    {
     "name": "stdout",
     "output_type": "stream",
     "text": [
      "[INFO][abstract_initial_design.py:147] Using 50 initial design configurations and 0 additional configurations.\n",
      "[INFO][smbo.py:497] Continuing from previous run.\n",
      "[INFO][abstract_intensifier.py:287] Added existing seed 209652396 from runhistory to the intensifier.\n",
      "[INFO][abstract_intensifier.py:305] Using only one seed for deterministic scenario.\n",
      "[INFO][abstract_intensifier.py:590] Added config 6212ba and rejected config 829f77 as incumbent because it is not better than the incumbents on 1 instances:\n",
      "[INFO][abstract_intensifier.py:590] Added config 711802 and rejected config 6212ba as incumbent because it is not better than the incumbents on 1 instances:\n",
      "[INFO][abstract_intensifier.py:590] Added config 07f952 and rejected config 711802 as incumbent because it is not better than the incumbents on 1 instances:\n",
      "[INFO][abstract_intensifier.py:590] Added config f5b665 and rejected config 07f952 as incumbent because it is not better than the incumbents on 1 instances:\n"
     ]
    }
   ],
   "source": [
    "from xgboost import XGBClassifier\n",
    "\n",
    "configuration_space = ConfigurationSpace()\n",
    "objective           = Constant(\"objective\", \"binary:logistic\")\n",
    "num_parallel_tree   = Constant(\"num_parallel_tree\", 4)\n",
    "n_estimators        = Integer(\"n_estimators\", (10,1000), log=True, default=100)\n",
    "max_depth           = Integer(\"max_depth\", (1, 100), default=20)\n",
    "subsample           = Float(\"subsample\", (1e-1, 1e0), default=1e0)\n",
    "learning_rate       = Float(\"learning_rate\", (1e-2, 5e-1), default=1e-1)\n",
    "configuration_space.add_hyperparameters([objective, num_parallel_tree, n_estimators, max_depth, subsample, learning_rate])\n",
    "\n",
    "classifier = SKL_Classifier(np.array(X), np.array(ys), cv=5, configuration_space=configuration_space, classifier=XGBClassifier)\n",
    "\n",
    "scenario = Scenario(classifier.configuration_space, deterministic=True, n_workers=4, n_trials=200,\n",
    "                    walltime_limit=np.inf, cputime_limit=np.inf, trial_memory_limit=None,\n",
    "                    output_directory=Path(os.path.normpath(\"/mnt/d/runs/ML/NN/smac_dt\")))\n",
    "\n",
    "smac = HyperparameterOptimizationFacade(scenario, classifier.train)\n",
    "incumbent = smac.optimize()"
   ]
  },
  {
   "cell_type": "markdown",
   "metadata": {},
   "source": [
    "## Analysis"
   ]
  },
  {
   "cell_type": "markdown",
   "metadata": {},
   "source": [
    "### Plotting"
   ]
  },
  {
   "cell_type": "code",
   "execution_count": null,
   "metadata": {},
   "outputs": [],
   "source": [
    "# Accuracy CV matrix\n",
    "ax = sns.heatmap(metrics_df.pivot(index=\"Organism\", columns=\"Cross-Validation run\", values=\"Accuracy\"),\n",
    "                 vmin=0, vmax=1.0, annot=True, cmap=sns.color_palette(\"crest\", as_cmap=True))\n",
    "plt.savefig('../../runs/ML/annot/multi_layer_perceptron/heatmap_accuracies_1.png')  "
   ]
  },
  {
   "cell_type": "code",
   "execution_count": null,
   "metadata": {},
   "outputs": [],
   "source": [
    "plot_cv_confmat(ys=ys, target_labels=metrics_df.pivot(index=\"Organism\", columns=\"Cross-Validation run\", values=\"Accuracy\").index,\n",
    "                accuracies=np.mean(metrics_df.pivot(index=\"Organism\", columns=\"Cross-Validation run\", values=\"Accuracy\").values, axis=1),\n",
    "                confusion_matrices=np.sum(metrics_df.pivot(index=\"Organism\", columns=\"Cross-Validation run\", values=\"Conf_Mat\").values, axis=1),\n",
    "\t\t\t\toutdir=\"../../runs/ML/annot/multi_layer_perceptron\", name=\"class_annot_test_smac\")"
   ]
  },
  {
   "cell_type": "markdown",
   "metadata": {},
   "source": [
    "### DT depiction"
   ]
  },
  {
   "cell_type": "code",
   "execution_count": null,
   "metadata": {},
   "outputs": [
    {
     "ename": "NameError",
     "evalue": "name 'DecisionTreeClassifier' is not defined",
     "output_type": "error",
     "traceback": [
      "\u001b[1;31m---------------------------------------------------------------------------\u001b[0m",
      "\u001b[1;31mNameError\u001b[0m                                 Traceback (most recent call last)",
      "Cell \u001b[1;32mIn[169], line 1\u001b[0m\n\u001b[1;32m----> 1\u001b[0m model \u001b[38;5;241m=\u001b[39m \u001b[43mDecisionTreeClassifier\u001b[49m(random_state\u001b[38;5;241m=\u001b[39m\u001b[38;5;241m42\u001b[39m)\n\u001b[0;32m      3\u001b[0m \u001b[38;5;66;03m# for i, estimator in enumerate(model.estimators_):\u001b[39;00m\n\u001b[0;32m      4\u001b[0m \u001b[38;5;28;01mfor\u001b[39;00m i, s \u001b[38;5;129;01min\u001b[39;00m \u001b[38;5;28menumerate\u001b[39m(strains):\n",
      "\u001b[1;31mNameError\u001b[0m: name 'DecisionTreeClassifier' is not defined"
     ]
    }
   ],
   "source": [
    "model = DecisionTreeClassifier(random_state=42)\n",
    "\n",
    "# for i, estimator in enumerate(model.estimators_):\n",
    "for i, s in enumerate(strains):\n",
    "    model.fit(X.transpose(),ys.transpose()[i])\n",
    "    plot_decision_trees(model=model, feature_names=X.index, class_names=[\"absent\", s], outdir=outdir, name=f\"decisiontree/tree_{s}{suffix}\")"
   ]
  },
  {
   "cell_type": "markdown",
   "metadata": {},
   "source": [
    "### Feature importance"
   ]
  },
  {
   "cell_type": "code",
   "execution_count": null,
   "metadata": {},
   "outputs": [],
   "source": [
    "feature_importances = {}\n",
    "for i, s in enumerate(strains[\"0\"]):\n",
    "    model = XGBClassifier(**results.loc[results[\"model_nr\"] == best_df.iloc[0].name][\"parameters\"][0])\n",
    "    model.fit(X.values, ys[f\"{i}\"])\n",
    "    feature_importances[s] = model.feature_importances_\n",
    "\n",
    "    imp_feat = feature_importances.get(s) > 0.01\n",
    "\n",
    "    plt.bar(X.columns[imp_feat], feature_importances.get(s)[imp_feat])\n",
    "    plt.savefig(f\"../../reports/ML/XGBoost/important_features_{s}_2.png\")\n",
    "    plt.close()"
   ]
  },
  {
   "cell_type": "code",
   "execution_count": null,
   "metadata": {},
   "outputs": [],
   "source": [
    "feat_imp_df = pd.DataFrame(feature_importances, index=X.columns)\n",
    "feat_imp_df.to_csv(\"../../reports/ML/XGBoost/feature_importance.tsv\", sep=\"\\t\")"
   ]
  }
 ],
 "metadata": {
  "kernelspec": {
   "display_name": "Python 3",
   "language": "python",
   "name": "python3"
  },
  "language_info": {
   "codemirror_mode": {
    "name": "ipython",
    "version": 3
   },
   "file_extension": ".py",
   "mimetype": "text/x-python",
   "name": "python",
   "nbconvert_exporter": "python",
   "pygments_lexer": "ipython3",
   "version": "3.11.7"
  }
 },
 "nbformat": 4,
 "nbformat_minor": 2
}
