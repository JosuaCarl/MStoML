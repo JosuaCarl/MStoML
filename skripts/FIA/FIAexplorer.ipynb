{
 "cells": [
  {
   "cell_type": "code",
   "execution_count": 1,
   "metadata": {},
   "outputs": [
    {
     "name": "stdout",
     "output_type": "stream",
     "text": [
      "Warning: OPENMS_DATA_PATH environment variable already exists. pyOpenMS will use it (C:\\Program Files\\OpenMS-3.1.0\\share\\OpenMS) to locate data in the OpenMS share folder (e.g., the unimod database), instead of the default (c:\\Users\\JosuaCarl\\miniconda3\\envs\\gemml\\Lib\\site-packages\\pyopenms\\share/OpenMS).\n"
     ]
    }
   ],
   "source": [
    "# Imports\n",
    "import os\n",
    "import datetime\n",
    "import json\n",
    "from typing import overload, Any, List, Dict, Tuple, Set, Sequence, Union, Optional\n",
    "import numpy as np\n",
    "import pandas as pd\n",
    "import pyopenms as oms\n",
    "import matplotlib.pyplot as plt\n",
    "import seaborn as sns\n",
    "import plotly.graph_objects as go\n",
    "import plotly.express as px\n",
    "from tqdm import tqdm\n",
    "import shutil\n",
    "import requests\n",
    "from sklearn.impute import KNNImputer\n",
    "from sklearn.preprocessing import FunctionTransformer\n",
    "from sklearn.pipeline import Pipeline\n",
    "\n",
    "# Ignore seaborn warning for future deprecation of module part\n",
    "import warnings\n",
    "warnings.simplefilter(action='ignore', category=FutureWarning)\n",
    "\n",
    "# import methods from FIA python script\n",
    "from FIA import *\n",
    "\n",
    "oms.LogConfigHandler().setLogLevel(\"DEBUG\")"
   ]
  },
  {
   "cell_type": "markdown",
   "metadata": {},
   "source": [
    "## Read in"
   ]
  },
  {
   "cell_type": "code",
   "execution_count": 2,
   "metadata": {},
   "outputs": [],
   "source": [
    "# set path to your mzML files and workfolder\n",
    "data_dir = \"../../data/example data/exampleA_ecolistrains\"\n",
    "run_dir = \"../../runs/fia_explorer\"\n",
    "\n",
    "data_dir = os.path.normpath(os.path.join(os.getcwd(), data_dir))\n",
    "run_dir = os.path.normpath(os.path.join(os.getcwd(), run_dir))\n",
    "\n",
    "# clean_dir(run_dir)"
   ]
  },
  {
   "cell_type": "markdown",
   "metadata": {},
   "source": [
    "## Centroiding\n",
    "Data reduction with peak picking"
   ]
  },
  {
   "cell_type": "code",
   "execution_count": 3,
   "metadata": {},
   "outputs": [],
   "source": [
    "# centroid_dir = centroid_batch(data_dir, run_dir, file_ending=\".mzXML\")\n",
    "centroid_dir = os.path.join(run_dir, \"centroids\")"
   ]
  },
  {
   "cell_type": "markdown",
   "metadata": {},
   "source": [
    "## Merging\n",
    "We loose temporal information. Could not be desired, because the isotope spectra get less specific."
   ]
  },
  {
   "cell_type": "code",
   "execution_count": 4,
   "metadata": {},
   "outputs": [],
   "source": [
    "# merge_dir = merge_batch(centroid_dir, run_dir, block_size=None, mz_binning_width=5.0, mz_binning_width_unit=\"ppm\", average_gaussian_cutoff=0.01, file_ending=\".mzML\")\n",
    "# merge_dir = os.path.join(run_dir, \"merged\")"
   ]
  },
  {
   "cell_type": "markdown",
   "metadata": {},
   "source": [
    "## Mass trace detection"
   ]
  },
  {
   "cell_type": "code",
   "execution_count": 7,
   "metadata": {},
   "outputs": [
    {
     "name": "stderr",
     "output_type": "stream",
     "text": [
      "100%|██████████| 6/6 [00:03<00:00,  1.55it/s]\n"
     ]
    }
   ],
   "source": [
    "mass_traces_all = mass_trace_detection_batch(experiments=centroid_dir, file_ending=\".mzML\", \n",
    "                                             mass_error_ppm=10.0, noise_threshold_int= 1000.0, reestimate_mt_sd=\"true\",\n",
    "                                             quant_method=\"median\", trace_termination_criterion=\"outlier\", trace_termination_outliers=3,\n",
    "                                             min_trace_length=5.0, max_trace_length=-1.0)"
   ]
  },
  {
   "cell_type": "markdown",
   "metadata": {},
   "source": [
    "## Elution peak detection\n",
    "Should mostly come out to one peak, but somtimes separation happens in long pipe"
   ]
  },
  {
   "cell_type": "code",
   "execution_count": 13,
   "metadata": {},
   "outputs": [
    {
     "name": "stderr",
     "output_type": "stream",
     "text": [
      "100%|██████████| 6/6 [00:02<00:00,  2.48it/s]\n"
     ]
    }
   ],
   "source": [
    "mass_traces_deconvol_all = elution_peak_detection_batch(mass_traces_all=mass_traces_all, chrom_fwhm=10.0, chrom_peak_snr=2.0,\n",
    "                                                     width_filtering=\"fixed\", min_fwhm=1.0, max_fwhm=60.0,\n",
    "                                                     masstrace_snr_filtering=\"false\")"
   ]
  },
  {
   "cell_type": "markdown",
   "metadata": {},
   "source": [
    "## Feature detection"
   ]
  },
  {
   "cell_type": "code",
   "execution_count": 19,
   "metadata": {},
   "outputs": [],
   "source": [
    "def feature_detection_untargeted(experiment: Union[oms.MSExperiment, str],\n",
    "                                 mass_traces_deconvol: list = [], isotope_filtering_model=\"metabolites (2% RMS)\",\n",
    "                                 local_rt_range:float=3.0, local_mz_range:float=5.0, \n",
    "                                 charge_lower_bound:int=1, charge_upper_bound:int=3,\n",
    "                                 chrom_fwhm:float=10.0, report_summed_ints:str=\"true\",\n",
    "                                 enable_RT_filtering:str=\"false\", mz_scoring_13C:str=\"false\",\n",
    "                                 use_smoothed_intensities:str=\"false\", report_convex_hulls: str = \"true\",\n",
    "                                 report_chromatograms:str=\"false\", remove_single_traces: str = \"true\",\n",
    "                                 mz_scoring_by_elements: str = \"false\", elements:str=\"CHNOPS\") -> oms.FeatureMap:\n",
    "    \"\"\"\n",
    "    Untargeted feature detection\n",
    "    \"\"\"\n",
    "    feature_map = oms.FeatureMap()  # output features\n",
    "    chrom_out = []  # output chromatograms\n",
    "    ffm = oms.FeatureFindingMetabo()\n",
    "\n",
    "    if isinstance(experiment, str):\n",
    "        feature_map.setPrimaryMSRunPath([experiment.encode()])\n",
    "\n",
    "    experiment = load_experiment(experiment)\n",
    "\n",
    "    ffm_par = ffm.getDefaults()\n",
    "    ffm_par.setValue(\"local_rt_range\", local_rt_range)          # rt range for coeluting mass traces (can be set low (3.0s ~ 2 frames/spectra), because only one peak is expected)\n",
    "    ffm_par.setValue(\"local_mz_range\", local_mz_range)          # mz range for isotopic traces\n",
    "    ffm_par.setValue(\"charge_lower_bound\", charge_lower_bound)\n",
    "    ffm_par.setValue(\"charge_upper_bound\", charge_upper_bound)\n",
    "    ffm_par.setValue(\"chrom_fwhm\", chrom_fwhm)                  # Set expected chromatographic width according to elution detection parameter\n",
    "    ffm_par.setValue(\"report_summed_ints\", report_summed_ints)  # Sum intesity over all traces or use monoisotopic peak intensity ? (amplyfies signal with detected isotopes)\n",
    "    ffm_par.setValue(\"enable_RT_filtering\", enable_RT_filtering) # Require RT overlap. 'false' for direct injection\n",
    "    ffm_par.setValue(\"isotope_filtering_model\", isotope_filtering_model) # metabolites (2% RMS) = Support Vector Machine, with Root mean square deviation of 2% (for precise machines)\n",
    "    ffm_par.setValue(\"mz_scoring_13C\", mz_scoring_13C)  # Disable for general metabolomics\n",
    "    ffm_par.setValue(\"use_smoothed_intensities\", use_smoothed_intensities)  # Use Locally Weighted Scatterplot Smoothed intensities (useful, if intensity is mass-dependent (Orbitraps)) ?\n",
    "    ffm_par.setValue(\"report_convex_hulls\", report_convex_hulls)\n",
    "    ffm_par.setValue(\"report_chromatograms\", report_chromatograms)  # 'false', was not performed in Flow-injection\n",
    "    ffm_par.setValue(\"remove_single_traces\", remove_single_traces)  # 'false', there will be valuable single traces, because we have long traces, that may not match\n",
    "    ffm_par.setValue(\"mz_scoring_by_elements\", mz_scoring_by_elements) # 'true' to use expected element peaks to detect isotopes \n",
    "    ffm_par.setValue(\"elements\", elements) # Elements, that are present in sample: \"CHNOPS\"  \n",
    "    ffm.setParameters(ffm_par)\n",
    "\n",
    "    ffm.run(mass_traces_deconvol, feature_map, chrom_out)\n",
    "    feature_map.setUniqueIds()  # Assigns a new, valid unique id per feature\n",
    "\n",
    "    return feature_map\n",
    "\n",
    "def feature_detection_untargeted_batch(experiments:Union[List[oms.MSExperiment|str], str], file_ending:str=\".mzML\",\n",
    "                                       mass_traces_deconvol_all: list[list] = [], isotope_filtering_model=\"metabolites (2% RMS)\",\n",
    "                                       local_rt_range:float=3.0, local_mz_range:float=5.0, \n",
    "                                       charge_lower_bound:int=1, charge_upper_bound:int=3,\n",
    "                                       chrom_fwhm:float=10.0, report_summed_ints:str=\"true\",\n",
    "                                       enable_RT_filtering:str=\"false\", mz_scoring_13C:str=\"false\",\n",
    "                                       use_smoothed_intensities:str=\"false\", report_convex_hulls: str = \"true\",\n",
    "                                       report_chromatograms:str=\"false\", remove_single_traces: str = \"true\",\n",
    "                                       mz_scoring_by_elements: str = \"false\", elements:str=\"CHNOPS\") -> list[oms.FeatureMap]:\n",
    "    feature_maps = []\n",
    "    if isinstance(experiments, str):\n",
    "        experiments = [os.path.join(experiments, file) for file in os.listdir(experiments) if file.endswith(file_ending)]\n",
    "    for i, experiment in enumerate(tqdm(experiments)):\n",
    "        feature_maps.append(\n",
    "            feature_detection_untargeted(experiment=experiment,\n",
    "                                         mass_traces_deconvol=mass_traces_deconvol_all[i], \n",
    "                                         isotope_filtering_model=isotope_filtering_model,\n",
    "                                         local_rt_range=local_rt_range, local_mz_range=local_mz_range, \n",
    "                                         charge_lower_bound=charge_lower_bound, charge_upper_bound=charge_upper_bound,\n",
    "                                         chrom_fwhm=chrom_fwhm, report_summed_ints=report_summed_ints,\n",
    "                                         enable_RT_filtering=enable_RT_filtering, mz_scoring_13C=mz_scoring_13C,\n",
    "                                         use_smoothed_intensities=use_smoothed_intensities, report_convex_hulls=report_convex_hulls,\n",
    "                                         report_chromatograms=report_chromatograms, remove_single_traces=remove_single_traces,\n",
    "                                         mz_scoring_by_elements=mz_scoring_by_elements, elements=elements)\n",
    "        )\n",
    "\n",
    "    return feature_maps"
   ]
  },
  {
   "cell_type": "code",
   "execution_count": 22,
   "metadata": {},
   "outputs": [
    {
     "name": "stderr",
     "output_type": "stream",
     "text": [
      "100%|██████████| 6/6 [00:07<00:00,  1.18s/it]\n"
     ]
    }
   ],
   "source": [
    "feature_maps = feature_detection_untargeted_batch(experiments=centroid_dir,\n",
    "                                                  mass_traces_deconvol_all=mass_traces_deconvol_all, isotope_filtering_model=\"metabolites (2% RMS)\",\n",
    "                                                  local_rt_range=3.0, local_mz_range=5.0, \n",
    "                                                  charge_lower_bound=1, charge_upper_bound=3,\n",
    "                                                  chrom_fwhm=10.0, report_summed_ints=\"true\",\n",
    "                                                  enable_RT_filtering=\"false\", mz_scoring_13C=\"false\",\n",
    "                                                  use_smoothed_intensities=\"false\", report_convex_hulls=\"true\",\n",
    "                                                  report_chromatograms=\"false\", remove_single_traces=\"true\",\n",
    "                                                  mz_scoring_by_elements=\"false\", elements=\"CHNOPS\")"
   ]
  },
  {
   "cell_type": "code",
   "execution_count": 30,
   "metadata": {},
   "outputs": [
    {
     "data": {
      "text/html": [
       "<div>\n",
       "<style scoped>\n",
       "    .dataframe tbody tr th:only-of-type {\n",
       "        vertical-align: middle;\n",
       "    }\n",
       "\n",
       "    .dataframe tbody tr th {\n",
       "        vertical-align: top;\n",
       "    }\n",
       "\n",
       "    .dataframe thead th {\n",
       "        text-align: right;\n",
       "    }\n",
       "</style>\n",
       "<table border=\"1\" class=\"dataframe\">\n",
       "  <thead>\n",
       "    <tr style=\"text-align: right;\">\n",
       "      <th></th>\n",
       "      <th>peptide_sequence</th>\n",
       "      <th>peptide_score</th>\n",
       "      <th>ID_filename</th>\n",
       "      <th>ID_native_id</th>\n",
       "      <th>charge</th>\n",
       "      <th>RT</th>\n",
       "      <th>mz</th>\n",
       "      <th>RTstart</th>\n",
       "      <th>RTend</th>\n",
       "      <th>MZstart</th>\n",
       "      <th>MZend</th>\n",
       "      <th>quality</th>\n",
       "      <th>intensity</th>\n",
       "    </tr>\n",
       "    <tr>\n",
       "      <th>feature_id</th>\n",
       "      <th></th>\n",
       "      <th></th>\n",
       "      <th></th>\n",
       "      <th></th>\n",
       "      <th></th>\n",
       "      <th></th>\n",
       "      <th></th>\n",
       "      <th></th>\n",
       "      <th></th>\n",
       "      <th></th>\n",
       "      <th></th>\n",
       "      <th></th>\n",
       "      <th></th>\n",
       "    </tr>\n",
       "  </thead>\n",
       "  <tbody>\n",
       "    <tr>\n",
       "      <th>14841806439465190535</th>\n",
       "      <td>None</td>\n",
       "      <td>NaN</td>\n",
       "      <td>None</td>\n",
       "      <td>None</td>\n",
       "      <td>1</td>\n",
       "      <td>3.278</td>\n",
       "      <td>84.080468</td>\n",
       "      <td>2.564</td>\n",
       "      <td>14.708</td>\n",
       "      <td>84.080363</td>\n",
       "      <td>85.084158</td>\n",
       "      <td>0.000421</td>\n",
       "      <td>92905.492188</td>\n",
       "    </tr>\n",
       "    <tr>\n",
       "      <th>2278316379206883097</th>\n",
       "      <td>None</td>\n",
       "      <td>NaN</td>\n",
       "      <td>None</td>\n",
       "      <td>None</td>\n",
       "      <td>1</td>\n",
       "      <td>14.708</td>\n",
       "      <td>105.028532</td>\n",
       "      <td>8.993</td>\n",
       "      <td>29.708</td>\n",
       "      <td>105.028084</td>\n",
       "      <td>106.032963</td>\n",
       "      <td>0.000541</td>\n",
       "      <td>117844.164062</td>\n",
       "    </tr>\n",
       "    <tr>\n",
       "      <th>11923495444197646664</th>\n",
       "      <td>None</td>\n",
       "      <td>NaN</td>\n",
       "      <td>None</td>\n",
       "      <td>None</td>\n",
       "      <td>1</td>\n",
       "      <td>14.708</td>\n",
       "      <td>114.091074</td>\n",
       "      <td>2.564</td>\n",
       "      <td>29.708</td>\n",
       "      <td>114.090557</td>\n",
       "      <td>115.096137</td>\n",
       "      <td>0.000150</td>\n",
       "      <td>33178.593750</td>\n",
       "    </tr>\n",
       "    <tr>\n",
       "      <th>7862005751953330614</th>\n",
       "      <td>None</td>\n",
       "      <td>NaN</td>\n",
       "      <td>None</td>\n",
       "      <td>None</td>\n",
       "      <td>1</td>\n",
       "      <td>15.422</td>\n",
       "      <td>130.158792</td>\n",
       "      <td>2.564</td>\n",
       "      <td>29.708</td>\n",
       "      <td>130.157784</td>\n",
       "      <td>131.163722</td>\n",
       "      <td>0.000062</td>\n",
       "      <td>14022.859375</td>\n",
       "    </tr>\n",
       "    <tr>\n",
       "      <th>8818712505812277634</th>\n",
       "      <td>None</td>\n",
       "      <td>NaN</td>\n",
       "      <td>None</td>\n",
       "      <td>None</td>\n",
       "      <td>1</td>\n",
       "      <td>10.422</td>\n",
       "      <td>148.060168</td>\n",
       "      <td>2.564</td>\n",
       "      <td>29.708</td>\n",
       "      <td>148.058831</td>\n",
       "      <td>149.065015</td>\n",
       "      <td>0.000315</td>\n",
       "      <td>69323.648438</td>\n",
       "    </tr>\n",
       "    <tr>\n",
       "      <th>...</th>\n",
       "      <td>...</td>\n",
       "      <td>...</td>\n",
       "      <td>...</td>\n",
       "      <td>...</td>\n",
       "      <td>...</td>\n",
       "      <td>...</td>\n",
       "      <td>...</td>\n",
       "      <td>...</td>\n",
       "      <td>...</td>\n",
       "      <td>...</td>\n",
       "      <td>...</td>\n",
       "      <td>...</td>\n",
       "      <td>...</td>\n",
       "    </tr>\n",
       "    <tr>\n",
       "      <th>8119065683242516267</th>\n",
       "      <td>None</td>\n",
       "      <td>NaN</td>\n",
       "      <td>None</td>\n",
       "      <td>None</td>\n",
       "      <td>3</td>\n",
       "      <td>20.422</td>\n",
       "      <td>1460.542414</td>\n",
       "      <td>8.279</td>\n",
       "      <td>29.708</td>\n",
       "      <td>1460.530501</td>\n",
       "      <td>1460.905277</td>\n",
       "      <td>0.000028</td>\n",
       "      <td>8166.180664</td>\n",
       "    </tr>\n",
       "    <tr>\n",
       "      <th>9698110462512209987</th>\n",
       "      <td>None</td>\n",
       "      <td>NaN</td>\n",
       "      <td>None</td>\n",
       "      <td>None</td>\n",
       "      <td>3</td>\n",
       "      <td>13.993</td>\n",
       "      <td>1462.016225</td>\n",
       "      <td>8.279</td>\n",
       "      <td>29.708</td>\n",
       "      <td>1461.999122</td>\n",
       "      <td>1462.348638</td>\n",
       "      <td>0.000031</td>\n",
       "      <td>7990.146484</td>\n",
       "    </tr>\n",
       "    <tr>\n",
       "      <th>12125663703087055322</th>\n",
       "      <td>None</td>\n",
       "      <td>NaN</td>\n",
       "      <td>None</td>\n",
       "      <td>None</td>\n",
       "      <td>3</td>\n",
       "      <td>12.565</td>\n",
       "      <td>1468.042431</td>\n",
       "      <td>8.279</td>\n",
       "      <td>29.708</td>\n",
       "      <td>1468.029331</td>\n",
       "      <td>1468.396629</td>\n",
       "      <td>0.000025</td>\n",
       "      <td>7643.970703</td>\n",
       "    </tr>\n",
       "    <tr>\n",
       "      <th>17529297411202260356</th>\n",
       "      <td>None</td>\n",
       "      <td>NaN</td>\n",
       "      <td>None</td>\n",
       "      <td>None</td>\n",
       "      <td>2</td>\n",
       "      <td>14.708</td>\n",
       "      <td>1492.030079</td>\n",
       "      <td>8.279</td>\n",
       "      <td>29.708</td>\n",
       "      <td>1492.026204</td>\n",
       "      <td>1492.534964</td>\n",
       "      <td>0.000048</td>\n",
       "      <td>11526.248047</td>\n",
       "    </tr>\n",
       "    <tr>\n",
       "      <th>5078340210854237244</th>\n",
       "      <td>None</td>\n",
       "      <td>NaN</td>\n",
       "      <td>None</td>\n",
       "      <td>None</td>\n",
       "      <td>2</td>\n",
       "      <td>10.422</td>\n",
       "      <td>1672.811459</td>\n",
       "      <td>8.279</td>\n",
       "      <td>23.279</td>\n",
       "      <td>1672.803933</td>\n",
       "      <td>1673.312779</td>\n",
       "      <td>0.000027</td>\n",
       "      <td>6447.891602</td>\n",
       "    </tr>\n",
       "  </tbody>\n",
       "</table>\n",
       "<p>3803 rows × 13 columns</p>\n",
       "</div>"
      ],
      "text/plain": [
       "                     peptide_sequence  peptide_score ID_filename ID_native_id  \\\n",
       "feature_id                                                                      \n",
       "14841806439465190535             None            NaN        None         None   \n",
       "2278316379206883097              None            NaN        None         None   \n",
       "11923495444197646664             None            NaN        None         None   \n",
       "7862005751953330614              None            NaN        None         None   \n",
       "8818712505812277634              None            NaN        None         None   \n",
       "...                               ...            ...         ...          ...   \n",
       "8119065683242516267              None            NaN        None         None   \n",
       "9698110462512209987              None            NaN        None         None   \n",
       "12125663703087055322             None            NaN        None         None   \n",
       "17529297411202260356             None            NaN        None         None   \n",
       "5078340210854237244              None            NaN        None         None   \n",
       "\n",
       "                      charge      RT           mz  RTstart   RTend  \\\n",
       "feature_id                                                           \n",
       "14841806439465190535       1   3.278    84.080468    2.564  14.708   \n",
       "2278316379206883097        1  14.708   105.028532    8.993  29.708   \n",
       "11923495444197646664       1  14.708   114.091074    2.564  29.708   \n",
       "7862005751953330614        1  15.422   130.158792    2.564  29.708   \n",
       "8818712505812277634        1  10.422   148.060168    2.564  29.708   \n",
       "...                      ...     ...          ...      ...     ...   \n",
       "8119065683242516267        3  20.422  1460.542414    8.279  29.708   \n",
       "9698110462512209987        3  13.993  1462.016225    8.279  29.708   \n",
       "12125663703087055322       3  12.565  1468.042431    8.279  29.708   \n",
       "17529297411202260356       2  14.708  1492.030079    8.279  29.708   \n",
       "5078340210854237244        2  10.422  1672.811459    8.279  23.279   \n",
       "\n",
       "                          MZstart        MZend   quality      intensity  \n",
       "feature_id                                                               \n",
       "14841806439465190535    84.080363    85.084158  0.000421   92905.492188  \n",
       "2278316379206883097    105.028084   106.032963  0.000541  117844.164062  \n",
       "11923495444197646664   114.090557   115.096137  0.000150   33178.593750  \n",
       "7862005751953330614    130.157784   131.163722  0.000062   14022.859375  \n",
       "8818712505812277634    148.058831   149.065015  0.000315   69323.648438  \n",
       "...                           ...          ...       ...            ...  \n",
       "8119065683242516267   1460.530501  1460.905277  0.000028    8166.180664  \n",
       "9698110462512209987   1461.999122  1462.348638  0.000031    7990.146484  \n",
       "12125663703087055322  1468.029331  1468.396629  0.000025    7643.970703  \n",
       "17529297411202260356  1492.026204  1492.534964  0.000048   11526.248047  \n",
       "5078340210854237244   1672.803933  1673.312779  0.000027    6447.891602  \n",
       "\n",
       "[3803 rows x 13 columns]"
      ]
     },
     "execution_count": 30,
     "metadata": {},
     "output_type": "execute_result"
    }
   ],
   "source": [
    "feature_maps[3].get_df()"
   ]
  },
  {
   "cell_type": "code",
   "execution_count": 21,
   "metadata": {},
   "outputs": [
    {
     "name": "stdout",
     "output_type": "stream",
     "text": [
      "Storing feature maps:\n"
     ]
    },
    {
     "name": "stderr",
     "output_type": "stream",
     "text": [
      "  0%|          | 0/6 [00:00<?, ?it/s]\n"
     ]
    },
    {
     "ename": "TypeError",
     "evalue": "'NoneType' object is not subscriptable",
     "output_type": "error",
     "traceback": [
      "\u001b[1;31m---------------------------------------------------------------------------\u001b[0m",
      "\u001b[1;31mTypeError\u001b[0m                                 Traceback (most recent call last)",
      "Cell \u001b[1;32mIn[21], line 1\u001b[0m\n\u001b[1;32m----> 1\u001b[0m \u001b[43mstore_feature_maps\u001b[49m\u001b[43m(\u001b[49m\u001b[43mfeature_maps\u001b[49m\u001b[43m,\u001b[49m\u001b[43m \u001b[49m\u001b[43mos\u001b[49m\u001b[38;5;241;43m.\u001b[39;49m\u001b[43mpath\u001b[49m\u001b[38;5;241;43m.\u001b[39;49m\u001b[43mjoin\u001b[49m\u001b[43m(\u001b[49m\u001b[43mrun_dir\u001b[49m\u001b[43m,\u001b[49m\u001b[43m \u001b[49m\u001b[38;5;124;43m\"\u001b[39;49m\u001b[38;5;124;43mfeatures\u001b[39;49m\u001b[38;5;124;43m\"\u001b[39;49m\u001b[43m)\u001b[49m\u001b[43m,\u001b[49m\u001b[43m \u001b[49m\u001b[43mfile_ending\u001b[49m\u001b[38;5;241;43m=\u001b[39;49m\u001b[38;5;124;43m\"\u001b[39;49m\u001b[38;5;124;43m.mzML\u001b[39;49m\u001b[38;5;124;43m\"\u001b[39;49m\u001b[43m)\u001b[49m\n",
      "File \u001b[1;32mc:\\Users\\JosuaCarl\\Desktop\\Thesis\\MStoML\\skripts\\FIA\\FIA.py:710\u001b[0m, in \u001b[0;36mstore_feature_maps\u001b[1;34m(feature_maps, out_dir, file_ending)\u001b[0m\n\u001b[0;32m    708\u001b[0m \u001b[38;5;28mprint\u001b[39m(\u001b[38;5;124m\"\u001b[39m\u001b[38;5;124mStoring feature maps:\u001b[39m\u001b[38;5;124m\"\u001b[39m)\n\u001b[0;32m    709\u001b[0m \u001b[38;5;28;01mfor\u001b[39;00m feature_map \u001b[38;5;129;01min\u001b[39;00m tqdm(feature_maps):\n\u001b[1;32m--> 710\u001b[0m     oms\u001b[38;5;241m.\u001b[39mFeatureXMLFile()\u001b[38;5;241m.\u001b[39mstore(os\u001b[38;5;241m.\u001b[39mpath\u001b[38;5;241m.\u001b[39mjoin(out_dir, os\u001b[38;5;241m.\u001b[39mpath\u001b[38;5;241m.\u001b[39mbasename(\u001b[43mfeature_map\u001b[49m\u001b[38;5;241;43m.\u001b[39;49m\u001b[43mgetMetaValue\u001b[49m\u001b[43m(\u001b[49m\u001b[38;5;124;43m\"\u001b[39;49m\u001b[38;5;124;43mspectra_data\u001b[39;49m\u001b[38;5;124;43m\"\u001b[39;49m\u001b[43m)\u001b[49m\u001b[43m[\u001b[49m\u001b[38;5;241;43m0\u001b[39;49m\u001b[43m]\u001b[49m\u001b[38;5;241m.\u001b[39mdecode())[:\u001b[38;5;241m-\u001b[39m\u001b[38;5;28mlen\u001b[39m(file_ending)] \u001b[38;5;241m+\u001b[39m \u001b[38;5;124m\"\u001b[39m\u001b[38;5;124m.featureXML\u001b[39m\u001b[38;5;124m\"\u001b[39m),\n\u001b[0;32m    711\u001b[0m                                feature_map)\n",
      "\u001b[1;31mTypeError\u001b[0m: 'NoneType' object is not subscriptable"
     ]
    }
   ],
   "source": [
    "store_feature_maps(feature_maps, os.path.join(run_dir, \"features\"), file_ending=\".mzML\")"
   ]
  },
  {
   "cell_type": "code",
   "execution_count": 18,
   "metadata": {},
   "outputs": [
    {
     "name": "stdout",
     "output_type": "stream",
     "text": [
      "Param: b'local_rt_range' Value: 10.0 Description: RT range where to look for coeluting mass traces\n",
      "Param: b'local_mz_range' Value: 6.5 Description: MZ range where to look for isotopic mass traces\n",
      "Param: b'charge_lower_bound' Value: 1 Description: Lowest charge state to consider\n",
      "Param: b'charge_upper_bound' Value: 3 Description: Highest charge state to consider\n",
      "Param: b'chrom_fwhm' Value: 5.0 Description: Expected chromatographic peak width (in seconds).\n",
      "Param: b'report_summed_ints' Value: false Description: Set to true for a feature intensity summed up over all traces rather than using monoisotopic trace intensity alone.\n",
      "Param: b'enable_RT_filtering' Value: true Description: Require sufficient overlap in RT while assembling mass traces. Disable for direct injection data..\n",
      "Param: b'isotope_filtering_model' Value: metabolites (5% RMS) Description: Remove/score candidate assemblies based on isotope intensities. SVM isotope models for metabolites were trained with either 2% or 5% RMS error. For peptides, an averagine cosine scoring is used. Select the appropriate noise model according to the quality of measurement or MS device.\n",
      "Param: b'mz_scoring_13C' Value: false Description: Use the 13C isotope peak position (~1.003355 Da) as the expected shift in m/z for isotope mass traces (highly recommended for lipidomics!). Disable for general metabolites (as described in Kenar et al. 2014, MCP.).\n",
      "Param: b'use_smoothed_intensities' Value: true Description: Use LOWESS intensities instead of raw intensities.\n",
      "Param: b'report_convex_hulls' Value: false Description: Augment each reported feature with the convex hull of the underlying mass traces (increases featureXML file size considerably).\n",
      "Param: b'report_chromatograms' Value: false Description: Adds Chromatogram for each reported feature (Output in mzml).\n",
      "Param: b'remove_single_traces' Value: false Description: Remove unassembled traces (single traces).\n",
      "Param: b'mz_scoring_by_elements' Value: false Description: Use the m/z range of the assumed elements to detect isotope peaks. A expected m/z range is computed from the isotopes of the assumed elements. If enabled, this ignores 'mz_scoring_13C'\n",
      "Param: b'elements' Value: CHNOPS Description: Elements assumes to be present in the sample (this influences isotope detection).\n"
     ]
    }
   ],
   "source": [
    "ffm = oms.FeatureFindingMetabo()\n",
    "ffm_par = ffm.getParameters()\n",
    "print_params(ffm_par)"
   ]
  },
  {
   "cell_type": "code",
   "execution_count": null,
   "metadata": {},
   "outputs": [],
   "source": []
  }
 ],
 "metadata": {
  "kernelspec": {
   "display_name": "gemml",
   "language": "python",
   "name": "python3"
  },
  "language_info": {
   "codemirror_mode": {
    "name": "ipython",
    "version": 3
   },
   "file_extension": ".py",
   "mimetype": "text/x-python",
   "name": "python",
   "nbconvert_exporter": "python",
   "pygments_lexer": "ipython3",
   "version": "3.11.7"
  }
 },
 "nbformat": 4,
 "nbformat_minor": 2
}
