{
 "cells": [
  {
   "cell_type": "code",
   "execution_count": 1,
   "metadata": {},
   "outputs": [
    {
     "name": "stdout",
     "output_type": "stream",
     "text": [
      "Warning: OPENMS_DATA_PATH environment variable already exists. pyOpenMS will use it (C:\\Program Files\\OpenMS-3.1.0\\share\\OpenMS) to locate data in the OpenMS share folder (e.g., the unimod database), instead of the default (c:\\Users\\JosuaCarl\\miniconda3\\envs\\gemml\\Lib\\site-packages\\pyopenms\\share/OpenMS).\n"
     ]
    }
   ],
   "source": [
    "# Imports\n",
    "import os\n",
    "import time\n",
    "\n",
    "# import methods from FIA python script\n",
    "from FIA import *"
   ]
  },
  {
   "cell_type": "code",
   "execution_count": 2,
   "metadata": {},
   "outputs": [],
   "source": [
    "# Runtime-estimation\n",
    "start = time.time()"
   ]
  },
  {
   "cell_type": "markdown",
   "metadata": {},
   "source": [
    "## Read in"
   ]
  },
  {
   "cell_type": "code",
   "execution_count": 3,
   "metadata": {},
   "outputs": [],
   "source": [
    "# set path to your mzML files and workfolder\n",
    "data_dir = \"../../data/example data/exampleA_ecolistrains\"\n",
    "run_dir = \"../../runs/fia_explorer\"\n",
    "\n",
    "data_dir = os.path.normpath(os.path.join(os.getcwd(), data_dir))\n",
    "run_dir = os.path.normpath(os.path.join(os.getcwd(), run_dir))\n",
    "\n",
    "# clean_dir(run_dir)"
   ]
  },
  {
   "cell_type": "markdown",
   "metadata": {},
   "source": [
    "## Centroiding"
   ]
  },
  {
   "cell_type": "markdown",
   "metadata": {},
   "source": [
    "- signal_to_noise (Default: 1.0)\n",
    "    - Signal to noise value, each peak is required to be above this value (turn off by setting it to 0.0)\n",
    "- peak_width (Default: 0.0)\n",
    "    - Expected peak width half width in Dalton - peaks will be extended until this half width is reached (even if the intensitity is increasing). In conjunction with check_width_internally it will also be used to remove peaks whose spacing is larger than this value.\n",
    "- spacing_difference (Default: 1.5)\n",
    "    - Difference between peaks in multiples of the minimal difference to continue. The higher this value is set, the further apart peaks are allowed to be to still extend a peak. E.g. if the value is set to 1.5 and in a current peak the minimal spacing between peaks is 10 mDa, then only peaks at most 15 mDa apart will be added to the peak.\n",
    "- sn_bin_count (Default: 30)\n",
    "    - Bin count for the Signal to Noise estimation.\n",
    "- nr_iterations (Default: 5)\n",
    "    - Nr of iterations to perform (how many times the peaks are re-centered).\n",
    "- sn_win_len (Default: 20.0)\n",
    "    - Window length for the Signal to Noise estimation.\n",
    "- check_width_internally (Default: false)\n",
    "    - Delete peaks where the spacing is larger than the peak width (should be set to true to avoid artefacts)\n",
    "- ms1_only (Default: false)\n",
    "    - Only do MS1\n",
    "- clear_meta_data (Default: false)"
   ]
  },
  {
   "cell_type": "code",
   "execution_count": 4,
   "metadata": {},
   "outputs": [],
   "source": [
    "\"\"\"\n",
    "centroid_dir = centroid_batch(data_dir, run_dir, file_ending=\".mzXML\", instrument=\"TOF\",\n",
    "                                signal_to_noise=2.0, spacing_difference=1.5,\n",
    "                                peak_width=0.0, sn_bin_count=100, nr_iterations=5, sn_win_len=20.0,\n",
    "                                check_width_internally=\"false\", ms1_only=\"true\", clear_meta_data=\"false\",\n",
    "                                deepcopy=False)\n",
    "\"\"\"\n",
    "centroid_dir = os.path.join(run_dir, \"centroids\")"
   ]
  },
  {
   "cell_type": "markdown",
   "metadata": {},
   "source": [
    "## Merging\n",
    "- block_method: Summing up\n",
    "- The gaussian method performs weighted average over the neighbouring spectra with weights having the shape of gaussian shape (i.e., sharply decreasing from the center). \n",
    "- On the other hand, the tophat method, as the name implies, performs a simple averaging over the neighbouring spectra.if tuned\n",
    "- precursor_method: Needs MS2 data"
   ]
  },
  {
   "cell_type": "markdown",
   "metadata": {},
   "source": [
    "- mz_binning_width' (Default: 5.0)\n",
    "    - minimum m/z distance for two data points (profile data) or peaks (centroided data) to be considered distinct. Closer data points or peaks will be merged.\n",
    "- mz_binning_width_unit' (Default: ppm)\n",
    "    - Unit in which the distance between two data points or peaks is given.\n",
    "- sort_blocks' (Default: RT_ascending)\n",
    "    - Sort blocks by <?> before merging them (useful for precursor order)\n",
    "- average_gaussian:spectrum_type' (Default: automatic)\n",
    "    - Spectrum type of the MS level to be averaged\n",
    "- average_gaussian:ms_level' (Default:  1)\n",
    "    - If set to be 0, each MS level will be merged from 1 to max. Otherwise, average spectra of this level. All other spectra remain unchanged.\n",
    "- average_gaussian:rt_FWHM' (Default:  5.0)\n",
    "    - FWHM of Gauss curve in seconds to be averaged over.\n",
    "- average_gaussian:cutoff' (Default:  0.01)\n",
    "    - Intensity cutoff for Gaussian. The Gaussian RT profile decreases from 1 at its apex to 0 at infinity. Spectra for which the intensity of the Gaussian drops below the cutoff do not contribute to the average.\n",
    "- average_gaussian:precursor_mass_tol' (Default:  0.0)   \n",
    "    - PPM mass tolerance for precursor mass. If set, MSn (n>2) spectra of precursor masses within the tolerance are averaged.\n",
    "- average_gaussian:precursor_max_charge' (Default:  1)\n",
    "    - Possible maximum precursor ion charge. Effective only when average_gaussian:precursor_mass_tol option is active.\n",
    "- average_tophat:spectrum_type' (Default: 0)\n",
    "    - type of the MS level to be averaged\n",
    "- average_tophat:ms_level' (Default:  1)\n",
    "    - If set to be 0, each MS level will be merged from 1 to max. Otherwise, average spectra of this level. All other spectra remain unchanged.\n",
    "- average_tophat:rt_range' (Default:  5.0)\n",
    "    - RT range to be averaged over, i.e. +/-(RT range)/2 from each spectrum.\n",
    "- average_tophat:rt_unit' (Default:  scans)\n",
    "    - Unit for RT range.\n",
    "- block_method:ms_levels' (Default:  [1] )\n",
    "    - Merge spectra of this level. All spectra with other MS levels remain untouched.\n",
    "- block_method:rt_block_size' (Default:  5)\n",
    "    - Maximum number of scans to be summed up.\n",
    "- block_method:rt_max_length' (Default:  0.0)\n",
    "    - Maximum RT size of the block in seconds (0.0 = no size restriction).\n",
    "- precursor_method:mz_tolerance' (Default:  0.0001)\n",
    "    - Max m/z distance of the precursor entries of two spectra to be merged in [Da].\n",
    "- precursor_method:mass_tolerance' (Default:  0.0)\n",
    "    - Max mass distance of the precursor entries of two spectra to be merged in [Da]. Active when set to a positive value.\n",
    "- precursor_method:rt_tolerance' (Default:  5.0)\n",
    "    - Max RT distance of the precursor entries of two spectra to be merged in [s]."
   ]
  },
  {
   "cell_type": "code",
   "execution_count": 5,
   "metadata": {},
   "outputs": [
    {
     "name": "stderr",
     "output_type": "stream",
     "text": [
      "100%|██████████| 6/6 [00:04<00:00,  1.43it/s]\n"
     ]
    }
   ],
   "source": [
    "# Sum\n",
    "merge_dir = merge_batch(centroid_dir, run_dir, file_ending=\".mzML\", method=\"block_method\",\n",
    "                        mz_binning_width=5.0, mz_binning_width_unit=\"ppm\",\n",
    "                        ms_levels=[1], sort_blocks=\"RT_ascending\",\n",
    "                        rt_block_size=None, rt_max_length=0.0,\n",
    "                        )\n",
    "# merge_dir = os.path.join(run_dir, \"merged\")"
   ]
  },
  {
   "cell_type": "code",
   "execution_count": null,
   "metadata": {},
   "outputs": [],
   "source": [
    "dynamic_plot(load_experiment(os.path.join(merge_dir, \"mg1655_P3-A8_neg.mzML\")), log=[])"
   ]
  },
  {
   "cell_type": "markdown",
   "metadata": {},
   "source": [
    "# Does not merge, but center point could be taken..."
   ]
  },
  {
   "cell_type": "code",
   "execution_count": 7,
   "metadata": {},
   "outputs": [
    {
     "name": "stderr",
     "output_type": "stream",
     "text": [
      "100%|██████████| 6/6 [01:20<00:00, 13.34s/it]\n"
     ]
    }
   ],
   "source": [
    "# Gaussian average\n",
    "merge_dir = merge_batch(centroid_dir, run_dir, file_ending=\".mzML\", method=\"average_gaussian\",\n",
    "                        mz_binning_width=5.0, mz_binning_width_unit=\"ppm\",\n",
    "                        ms_levels=[1], sort_blocks=\"RT_ascending\", \n",
    "                        spectrum_type=\"centroid\",\n",
    "                        rt_FWHM=1000.0, cutoff=0.01, precursor_mass_tol=0.0, precursor_max_charge=1\n",
    "                        )"
   ]
  },
  {
   "cell_type": "code",
   "execution_count": 8,
   "metadata": {},
   "outputs": [
    {
     "data": {
      "text/plain": [
       "38"
      ]
     },
     "execution_count": 8,
     "metadata": {},
     "output_type": "execute_result"
    }
   ],
   "source": [
    "exp1 = load_experiment(os.path.join(merge_dir, \"mg1655_P3-A8_neg.mzML\"))\n",
    "quick_plot(exp1[0])"
   ]
  },
  {
   "cell_type": "code",
   "execution_count": 9,
   "metadata": {},
   "outputs": [
    {
     "name": "stderr",
     "output_type": "stream",
     "text": [
      "100%|██████████| 6/6 [01:16<00:00, 12.74s/it]\n"
     ]
    }
   ],
   "source": [
    "# Tophat average\n",
    "merge_dir = merge_batch(centroid_dir, run_dir, file_ending=\".mzML\", method=\"average_tophat\",\n",
    "                        mz_binning_width=5.0, mz_binning_width_unit=\"ppm\",\n",
    "                        ms_levels=[1], sort_blocks=\"RT_ascending\",\n",
    "                        spectrum_type=\"centroid\",\n",
    "                        rt_range=None, rt_unit=\"scans\"\n",
    "                        )"
   ]
  },
  {
   "cell_type": "code",
   "execution_count": null,
   "metadata": {},
   "outputs": [],
   "source": [
    "exp2 = load_experiment(os.path.join(merge_dir, \"mg1655_P3-A8_neg.mzML\"))\n",
    "exp2 = mow_threshold(exp2, threshold=10000.0)\n",
    "quick_plot(exp2[1])"
   ]
  },
  {
   "cell_type": "code",
   "execution_count": 30,
   "metadata": {},
   "outputs": [
    {
     "data": {
      "text/plain": [
       "(array([  50.00029439,   50.00097256,   50.00151292, ..., 1699.30189102,\n",
       "        1699.31001098, 1699.32175955]),\n",
       " array([  2.6657624,   7.56036  ,  29.643358 , ..., 319.66562  ,\n",
       "        153.15288  ,   9.00652  ], dtype=float32))"
      ]
     },
     "execution_count": 30,
     "metadata": {},
     "output_type": "execute_result"
    }
   ],
   "source": [
    "exp2[0].get_peaks()"
   ]
  },
  {
   "cell_type": "code",
   "execution_count": 32,
   "metadata": {},
   "outputs": [
    {
     "data": {
      "text/plain": [
       "(array([  50.00062217,   50.00072559,   50.00107364, ..., 1699.30919586,\n",
       "        1699.31540763, 1699.32436205]),\n",
       " array([ 12.153074 ,   5.2866306,   0.352071 , ..., 152.93008  ,\n",
       "         25.832344 ,  27.697784 ], dtype=float32))"
      ]
     },
     "execution_count": 32,
     "metadata": {},
     "output_type": "execute_result"
    }
   ],
   "source": [
    "exp2[37].get_peaks()"
   ]
  },
  {
   "cell_type": "code",
   "execution_count": null,
   "metadata": {},
   "outputs": [],
   "source": [
    "exp = load_experiment(os.path.join(data_dir, \"mg1655_P3-A8_neg.mzXML\"))\n",
    "quick_plot(exp[0])"
   ]
  },
  {
   "cell_type": "code",
   "execution_count": 12,
   "metadata": {},
   "outputs": [
    {
     "name": "stdout",
     "output_type": "stream",
     "text": [
      "approx. runtime: 168 s\n"
     ]
    }
   ],
   "source": [
    "# Runtime-estimation\n",
    "end = time.time()\n",
    "runtime = end - start\n",
    "print(f\"approx. runtime: {int(runtime)} s\")"
   ]
  },
  {
   "cell_type": "code",
   "execution_count": null,
   "metadata": {},
   "outputs": [],
   "source": []
  }
 ],
 "metadata": {
  "kernelspec": {
   "display_name": "gemml",
   "language": "python",
   "name": "python3"
  },
  "language_info": {
   "codemirror_mode": {
    "name": "ipython",
    "version": 3
   },
   "file_extension": ".py",
   "mimetype": "text/x-python",
   "name": "python",
   "nbconvert_exporter": "python",
   "pygments_lexer": "ipython3",
   "version": "3.11.7"
  }
 },
 "nbformat": 4,
 "nbformat_minor": 2
}
