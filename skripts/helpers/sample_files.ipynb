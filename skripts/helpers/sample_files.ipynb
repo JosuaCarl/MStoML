{
 "cells": [
  {
   "cell_type": "code",
   "execution_count": 1,
   "metadata": {},
   "outputs": [],
   "source": [
    "import os\n",
    "import itertools\n",
    "import random\n",
    "import shutil\n",
    "from tqdm import tqdm"
   ]
  },
  {
   "cell_type": "code",
   "execution_count": 6,
   "metadata": {},
   "outputs": [],
   "source": [
    "paths = {\"start\":   [\"/mnt/d/runs/FIA/\"],\n",
    "         \"sub\":     [\"Com8_equal_conc_comb\", \"Com8_grown_together\", \"Com20_repl\", \"Com20_single\", \"Com20_val\"],\n",
    "         \"subsub\":  [\"merge_only/merged\"] }\n",
    "path_combs = [os.path.join(*path) for path in itertools.product(*paths.values())]\n",
    "target = os.path.join(paths[\"start\"][0], \"Sampled_Coms\")"
   ]
  },
  {
   "cell_type": "code",
   "execution_count": 7,
   "metadata": {},
   "outputs": [],
   "source": [
    "total_paths = []\n",
    "for p in path_combs:\n",
    "    for file in os.listdir(p):\n",
    "        path = os.path.join(p, file)\n",
    "        if os.path.isfile(path):\n",
    "            total_paths.append(path)\n",
    "    "
   ]
  },
  {
   "cell_type": "code",
   "execution_count": 8,
   "metadata": {},
   "outputs": [
    {
     "name": "stderr",
     "output_type": "stream",
     "text": [
      "100%|██████████| 100/100 [00:50<00:00,  2.00it/s]\n"
     ]
    }
   ],
   "source": [
    "samples = random.sample(total_paths, 100)\n",
    "for sample in tqdm(samples):\n",
    "    shutil.copy(sample, target)"
   ]
  },
  {
   "cell_type": "code",
   "execution_count": null,
   "metadata": {},
   "outputs": [],
   "source": []
  }
 ],
 "metadata": {
  "kernelspec": {
   "display_name": "FIA_VAE",
   "language": "python",
   "name": "python3"
  },
  "language_info": {
   "codemirror_mode": {
    "name": "ipython",
    "version": 3
   },
   "file_extension": ".py",
   "mimetype": "text/x-python",
   "name": "python",
   "nbconvert_exporter": "python",
   "pygments_lexer": "ipython3",
   "version": "3.11.8"
  }
 },
 "nbformat": 4,
 "nbformat_minor": 2
}
