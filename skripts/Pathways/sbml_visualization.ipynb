{
 "cells": [
  {
   "cell_type": "code",
   "execution_count": 1,
   "metadata": {},
   "outputs": [],
   "source": [
    "import os\n",
    "import escher\n",
    "import cobra"
   ]
  },
  {
   "cell_type": "code",
   "execution_count": 14,
   "metadata": {},
   "outputs": [
    {
     "data": {
      "text/plain": [
       "['/mnt/d/data/GEMs/Com_8/Bacteroides_thetaiotaomicron_dnLKV9_utf8.xml',\n",
       " '/mnt/d/data/GEMs/Com_8/Bacteroides_uniformis_dnLKV2_utf8.xml',\n",
       " '/mnt/d/data/GEMs/Com_8/Bacteroides_vulgatus_PC510_utf8.xml',\n",
       " '/mnt/d/data/GEMs/Com_8/Clostridium_ramosum_VPI_0427_DSM_1402_utf8.xml',\n",
       " '/mnt/d/data/GEMs/Com_8/Collinsella_aerofaciens_ERR1022282_utf8.xml',\n",
       " '/mnt/d/data/GEMs/Com_8/Fusobacterium_nucleatum_subsp_polymorphum_ATCC_10953_utf8.xml',\n",
       " '/mnt/d/data/GEMs/Com_8/Roseburia_intestinalis_XB6B4_utf8.xml',\n",
       " '/mnt/d/data/GEMs/Com_8/Ruminococcus_gnavus_ATCC_29149_utf8.xml']"
      ]
     },
     "execution_count": 14,
     "metadata": {},
     "output_type": "execute_result"
    }
   ],
   "source": [
    "sbmls_path = \"/mnt/d/data/GEMs/Com_8\"\n",
    "files = [os.path.join(sbmls_path, file) for file in os.listdir(sbmls_path) if file.endswith(\"ml\") and \"utf8\" in file]\n",
    "files"
   ]
  },
  {
   "cell_type": "code",
   "execution_count": 12,
   "metadata": {},
   "outputs": [],
   "source": [
    "def convert_to_utf8(file):\n",
    "    with open(file, 'r', encoding=\"iso-8859-15\") as f:\n",
    "        raw = f.read()\n",
    "        splt = file.split(\".\")\n",
    "        new_file = \"\".join(splt[:-1]) + \"_utf8.\" + \"\".join(splt[-1])\n",
    "        with open(new_file, \"wb\") as wf:\n",
    "            wf.write(raw.encode(\"utf8\"))\n",
    "\n",
    "for file in files:\n",
    "    convert_to_utf8(file)"
   ]
  },
  {
   "cell_type": "code",
   "execution_count": 15,
   "metadata": {},
   "outputs": [
    {
     "data": {
      "text/plain": [
       "'/mnt/d/data/GEMs/Com_8/Bacteroides_thetaiotaomicron_dnLKV9_utf8.xml'"
      ]
     },
     "execution_count": 15,
     "metadata": {},
     "output_type": "execute_result"
    }
   ],
   "source": [
    "files[0]"
   ]
  },
  {
   "cell_type": "code",
   "execution_count": 16,
   "metadata": {},
   "outputs": [
    {
     "data": {
      "text/plain": [
       "(<Model M_Bacteroides_thetaiotaomicron_dnLKV9 at 0x7f26a0361de0>,\n",
       " {'SBML_FATAL': [],\n",
       "  'SBML_ERROR': [\"E0 (Error): SBML component consistency (fbc, L15351); Chemical formula must be string; The value of attribute 'fbc:chemicalFormula' on the SBML <species> object must be set to a string consisting only of atomic names or user defined compounds and their occurrence.\\nReference: L3V1 Fbc V3 Section 3.4\\n Encountered '(' when expecting a capital letter. The chemicalFormula 'C10H14N5O7P(C5H8O5PR)n(C5H8O5PR)n' has incorrect syntax.\\n\",\n",
       "   \"E1 (Error): SBML component consistency (fbc, L15762); Chemical formula must be string; The value of attribute 'fbc:chemicalFormula' on the SBML <species> object must be set to a string consisting only of atomic names or user defined compounds and their occurrence.\\nReference: L3V1 Fbc V3 Section 3.4\\n Encountered '(' when expecting a capital letter. The chemicalFormula 'C9H13N2O9P(C5H8O6PR)n(C5H8O6PR)n' has incorrect syntax.\\n\",\n",
       "   \"E2 (Error): SBML component consistency (fbc, L15351); Chemical formula must be string; The value of attribute 'fbc:chemicalFormula' on the SBML <species> object must be set to a string consisting only of atomic names or user defined compounds and their occurrence.\\nReference: L3V1 Fbc V3 Section 3.4\\n Encountered '(' when expecting a capital letter. The chemicalFormula 'C10H14N5O7P(C5H8O5PR)n(C5H8O5PR)n' has incorrect syntax.\\n\",\n",
       "   \"E3 (Error): SBML component consistency (fbc, L15762); Chemical formula must be string; The value of attribute 'fbc:chemicalFormula' on the SBML <species> object must be set to a string consisting only of atomic names or user defined compounds and their occurrence.\\nReference: L3V1 Fbc V3 Section 3.4\\n Encountered '(' when expecting a capital letter. The chemicalFormula 'C9H13N2O9P(C5H8O6PR)n(C5H8O6PR)n' has incorrect syntax.\\n\"],\n",
       "  'SBML_SCHEMA_ERROR': [],\n",
       "  'SBML_WARNING': [],\n",
       "  'COBRA_FATAL': [],\n",
       "  'COBRA_ERROR': [],\n",
       "  'COBRA_WARNING': [],\n",
       "  'COBRA_CHECK': [\"Metabolite 'M01720[c]' formula 'C10H14N5O7P(C5H8O5PR)n(C5H8O5PR)n' not alphanumeric\",\n",
       "   \"Metabolite 'M03087[c]' formula 'C9H13N2O9P(C5H8O6PR)n(C5H8O6PR)n' not alphanumeric\"]})"
      ]
     },
     "execution_count": 16,
     "metadata": {},
     "output_type": "execute_result"
    }
   ],
   "source": [
    "cobra.io.sbml.validate_sbml_model(files[0])"
   ]
  },
  {
   "cell_type": "code",
   "execution_count": 17,
   "metadata": {},
   "outputs": [],
   "source": [
    "sb_model = cobra.io.read_sbml_model(files[0])"
   ]
  },
  {
   "cell_type": "code",
   "execution_count": null,
   "metadata": {},
   "outputs": [
    {
     "data": {
      "text/html": [
       "\n",
       "        <table>\n",
       "            <tr>\n",
       "                <td><strong>Name</strong></td>\n",
       "                <td>M_Clostridium_ramosum_VPI_0427_DSM_1402</td>\n",
       "            </tr><tr>\n",
       "                <td><strong>Memory address</strong></td>\n",
       "                <td>7fe028056f20</td>\n",
       "            </tr><tr>\n",
       "                <td><strong>Number of metabolites</strong></td>\n",
       "                <td>962</td>\n",
       "            </tr><tr>\n",
       "                <td><strong>Number of reactions</strong></td>\n",
       "                <td>1049</td>\n",
       "            </tr><tr>\n",
       "                <td><strong>Number of genes</strong></td>\n",
       "                <td>893</td>\n",
       "            </tr><tr>\n",
       "                <td><strong>Number of groups</strong></td>\n",
       "                <td>68</td>\n",
       "            </tr><tr>\n",
       "                <td><strong>Objective expression</strong></td>\n",
       "                <td>1.0*biomass525 - 1.0*biomass525_reverse_5c178</td>\n",
       "            </tr><tr>\n",
       "                <td><strong>Compartments</strong></td>\n",
       "                <td>Cytoplasm, Extracellular</td>\n",
       "            </tr>\n",
       "          </table>"
      ],
      "text/plain": [
       "<Model M_Clostridium_ramosum_VPI_0427_DSM_1402 at 0x7fe028056f20>"
      ]
     },
     "execution_count": 8,
     "metadata": {},
     "output_type": "execute_result"
    }
   ],
   "source": [
    "sb_model"
   ]
  },
  {
   "cell_type": "code",
   "execution_count": null,
   "metadata": {},
   "outputs": [
    {
     "name": "stderr",
     "output_type": "stream",
     "text": [
      "/home/josua/miniconda3_linux/envs/FBA/lib/python3.10/site-packages/cobra/core/metabolite.py:191: UserWarning: The element 'R' does not appear in the periodic table\n",
      "  warn(f\"The element {e} does not appear in the periodic table\")\n"
     ]
    }
   ],
   "source": [
    "g = sb_model.metabolites[3]\n",
    "g."
   ]
  },
  {
   "cell_type": "code",
   "execution_count": 38,
   "metadata": {},
   "outputs": [
    {
     "data": {
      "text/plain": [
       "824"
      ]
     },
     "execution_count": 38,
     "metadata": {},
     "output_type": "execute_result"
    }
   ],
   "source": [
    "fw = [m.formula_weight for m in sb_model.metabolites if \"R\" not in m.formula and \"X\" not in m.formula]\n",
    "len(fw)"
   ]
  },
  {
   "cell_type": "code",
   "execution_count": 9,
   "metadata": {},
   "outputs": [],
   "source": [
    "sb_model_json = cobra.io.to_json(sb_model)"
   ]
  },
  {
   "cell_type": "code",
   "execution_count": 14,
   "metadata": {},
   "outputs": [],
   "source": [
    "builder = escher.Builder(model_json=sb_model_json)"
   ]
  },
  {
   "cell_type": "code",
   "execution_count": 15,
   "metadata": {},
   "outputs": [
    {
     "data": {
      "application/vnd.jupyter.widget-view+json": {
       "model_id": "1864944b5a6641478e63c706c0238830",
       "version_major": 2,
       "version_minor": 0
      },
      "text/plain": [
       "Builder()"
      ]
     },
     "metadata": {},
     "output_type": "display_data"
    }
   ],
   "source": [
    "builder"
   ]
  },
  {
   "cell_type": "code",
   "execution_count": null,
   "metadata": {},
   "outputs": [],
   "source": []
  }
 ],
 "metadata": {
  "kernelspec": {
   "display_name": "Python 3 (ipykernel)",
   "language": "python",
   "name": "python3"
  },
  "language_info": {
   "codemirror_mode": {
    "name": "ipython",
    "version": 3
   },
   "file_extension": ".py",
   "mimetype": "text/x-python",
   "name": "python",
   "nbconvert_exporter": "python",
   "pygments_lexer": "ipython3",
   "version": "3.10.14"
  }
 },
 "nbformat": 4,
 "nbformat_minor": 2
}
