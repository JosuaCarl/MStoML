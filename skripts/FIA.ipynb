{
 "cells": [
  {
   "cell_type": "markdown",
   "metadata": {},
   "source": [
    "# Feature Detection"
   ]
  },
  {
   "cell_type": "code",
   "execution_count": 1,
   "metadata": {},
   "outputs": [],
   "source": [
    "# import methods from FIA python script\n",
    "from FIA import *\n",
    "import os\n",
    "\n",
    "# Ignore seaborn warning for future deprecation of module part\n",
    "import warnings\n",
    "warnings.simplefilter(action='ignore', category=FutureWarning)"
   ]
  },
  {
   "cell_type": "markdown",
   "metadata": {},
   "source": [
    "## Library Preparation"
   ]
  },
  {
   "cell_type": "code",
   "execution_count": 6,
   "metadata": {},
   "outputs": [],
   "source": [
    "experiment_path = \"../data/example data/exampleA_ecolistrains/mg1655_P3-A8_neg.mzXML\"\n",
    "experiment = read_experiment(experiment_path)"
   ]
  },
  {
   "cell_type": "code",
   "execution_count": 7,
   "metadata": {},
   "outputs": [
    {
     "data": {
      "text/plain": [
       "'a/b/callable'"
      ]
     },
     "execution_count": 7,
     "metadata": {},
     "output_type": "execute_result"
    }
   ],
   "source": [
    "centroid_exp = centroid_experiment(experiment, deepcopy=True)\n",
    "oms.MzMLFile().store(\"../runs/centroided_experiment.MzML\", centroid_exp)"
   ]
  },
  {
   "cell_type": "code",
   "execution_count": null,
   "metadata": {},
   "outputs": [],
   "source": [
    "# merge_exp = merge_spectra(centroid_exp, block_size=centroid_exp.getNrSpectra(), deepcopy=True)"
   ]
  },
  {
   "cell_type": "markdown",
   "metadata": {},
   "source": [
    "## Untargeted"
   ]
  },
  {
   "cell_type": "markdown",
   "metadata": {},
   "source": [
    "filepaths = [\"../runs/tr_example/centroided_experiment.MzML\"]\n",
    "fms = [ untargeted_feature_detection(filepath=filepath,\n",
    "                                     feature_filepath=\"../runs/tr_example/untargeted.featureXML\",\n",
    "                                     mass_error_ppm=10.0,\n",
    "                                     noise_threshold_int=10000.0,\n",
    "                                     remove_single_traces=\"true\") \n",
    "        for filepath in filepaths ]\n",
    "fms_rt = align_retention_times(fms)\n",
    "fms_a = detect_adducts(fms_rt)"
   ]
  },
  {
   "cell_type": "code",
   "execution_count": null,
   "metadata": {},
   "outputs": [],
   "source": [
    "store_feature_maps(fms_a)"
   ]
  },
  {
   "cell_type": "markdown",
   "metadata": {},
   "source": [
    "## Targeted"
   ]
  },
  {
   "cell_type": "markdown",
   "metadata": {},
   "source": [
    "#### From mass"
   ]
  },
  {
   "cell_type": "code",
   "execution_count": null,
   "metadata": {},
   "outputs": [],
   "source": [
    "# set path to your mzML files and workfolder\n",
    "data_dir = \"../data/example data/exampleA\"\n",
    "run_dir = \"../run/exampleA\"\n",
    "\n",
    "data_dir = os.path.normpath(os.path.join(os.getcwd(), data_dir))\n",
    "run_dir = os.path.normpath(os.path.join(os.getcwd(), run_dir))\n",
    "\n",
    "clean_dir(run_dir)"
   ]
  },
  {
   "cell_type": "code",
   "execution_count": null,
   "metadata": {},
   "outputs": [],
   "source": [
    "run_dir = centroid_batch(data_dir, run_dir, file_ending=\".mzML\")"
   ]
  },
  {
   "cell_type": "code",
   "execution_count": null,
   "metadata": {},
   "outputs": [],
   "source": [
    "feature_maps = untargeted_features_detection(run_dir, \".mzML\", \n",
    "                                            mass_error_ppm=10.0, noise_threshold_int=1000.0,\n",
    "                                            width_filtering=\"fixed\", isotope_filtering_model=\"none\", remove_single_traces=\"true\",\n",
    "                                            mz_scoring_by_elements=\"false\", report_convex_hulls=\"true\")"
   ]
  },
  {
   "cell_type": "code",
   "execution_count": null,
   "metadata": {},
   "outputs": [],
   "source": [
    "feature_maps = align_retention_times(feature_maps, \n",
    "                                    max_num_peaks_considered=-1,      # -1 -> consider infinite/all peaks\n",
    "                                    max_mz_difference=10.0,\n",
    "                                    mz_unit=\"ppm\")\n",
    "plot_feature_map_rt_alignment(feature_maps)\n",
    "consensus_map = consensus_features_linking(feature_maps, feature_grouper=\"KD\")\n",
    "mass_search_df = accurate_mass_search(consensus_map, \"../runs/tr1\", \"tmp\",\n",
    " \"PositiveAdducts.tsv\", \"NegativeAdducts.tsv\", \"HMDBMappingFile.tsv\", \"HMDB2StructMapping.tsv\", ionization_mode=\"negative\")\n",
    "cm_df = consensus_map_to_df(consensus_map)\n",
    "filtered_cm_df = filter_consensus_map_df(cm_df, max_missing_values=1, min_feature_quality=0.8)\n",
    "imputed_cm_df = impute_consensus_map_df(filtered_cm_df, n_nearest_neighbours=2)\n",
    "def consensus_map_df_to_id_df(consensus_map_df:pd.DataFrame, mass_search_df:pd.DataFrame, result_dir:str) -> pd.DataFrame:\n",
    "    clean_dir(result_dir)\n",
    "    id_df = consensus_map_df\n",
    "\n",
    "    id_df[\"identifications\"] = pd.Series([\"\" for x in range(len(id_df.index))])\n",
    "\n",
    "    for rt, mz, description in zip(\n",
    "        mass_search_df[\"retention_time\"],\n",
    "        mass_search_df[\"exp_mass_to_charge\"],\n",
    "        mass_search_df[\"description\"],\n",
    "    ):\n",
    "        indices = id_df.index[\n",
    "            isclose(id_df[\"mz\"], float(mz), atol=1e-05)\n",
    "            & isclose(id_df[\"RT\"], float(rt), atol=1e-05)\n",
    "        ].tolist()\n",
    "        for index in indices:\n",
    "            if description != \"null\":\n",
    "                id_df.loc[index, \"identifications\"] += str(description) + \";\"\n",
    "    id_df[\"identifications\"] = [\n",
    "        item[:-1] if \";\" in item else \"\" for item in id_df[\"identifications\"]\n",
    "    ]\n",
    "    id_df.to_csv(os.path.join(result_dir, \"result.tsv\"), sep=\"\\t\", index=False)\n",
    "    return id_df\n",
    "id_df = consensus_map_df_to_id_df(imputed_cm_df, mass_search_df, \"../runs/tr1/results\")\n",
    "plot_id_df(id_df)"
   ]
  },
  {
   "cell_type": "markdown",
   "metadata": {},
   "source": [
    "#### From mass, charge & retention time"
   ]
  },
  {
   "cell_type": "code",
   "execution_count": null,
   "metadata": {},
   "outputs": [],
   "source": [
    "mt = define_metabolite_table(\"../databases/compounds.tsv\", [50.0, 3000.0])\n",
    "len(mt)"
   ]
  },
  {
   "cell_type": "code",
   "execution_count": null,
   "metadata": {},
   "outputs": [],
   "source": [
    "fm = feature_detection_targeted(\"../runs/tr_example/centroided_experiment.MzML\", mt[0:100], mz_window=5.0, rt_window=200.0, peak_width=3.0)"
   ]
  },
  {
   "cell_type": "code",
   "execution_count": null,
   "metadata": {},
   "outputs": [],
   "source": [
    "oms.FeatureXMLFile().store(\"../runs/tr_example/targeted.featureXML\", fm)"
   ]
  }
 ],
 "metadata": {
  "kernelspec": {
   "display_name": "gemml",
   "language": "python",
   "name": "python3"
  },
  "language_info": {
   "codemirror_mode": {
    "name": "ipython",
    "version": 3
   },
   "file_extension": ".py",
   "mimetype": "text/x-python",
   "name": "python",
   "nbconvert_exporter": "python",
   "pygments_lexer": "ipython3",
   "version": "3.11.0"
  }
 },
 "nbformat": 4,
 "nbformat_minor": 2
}
