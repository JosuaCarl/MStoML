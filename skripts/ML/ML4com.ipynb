{
 "cells": [
  {
   "cell_type": "markdown",
   "metadata": {},
   "source": [
    "# Machine Learning for metabolomes of microbial communities"
   ]
  },
  {
   "cell_type": "code",
   "execution_count": 1,
   "metadata": {},
   "outputs": [],
   "source": [
    "# imports\n",
    "import sys\n",
    "sys.path.append( '..' )\n",
    "\n",
    "from helpers import *\n",
    "from FIA import *\n",
    "from ML4com import *\n",
    "from VAE.vae import *\n",
    "\n",
    "import warnings\n",
    "warnings.simplefilter(action='ignore', category=sklearn.exceptions.UndefinedMetricWarning)"
   ]
  },
  {
   "cell_type": "markdown",
   "metadata": {},
   "source": [
    "## Loading in"
   ]
  },
  {
   "cell_type": "code",
   "execution_count": 2,
   "metadata": {},
   "outputs": [],
   "source": [
    "orig_dir = os.path.normpath(os.path.join(os.getcwd(), \"/mnt/d/data/Com8_grown_together\"))\n",
    "data_dir  = os.path.normpath(os.path.join(os.getcwd(), \"/mnt/d/runs/FIA/Com8_grown_together\"))\n",
    "\n",
    "strains = pd.read_csv( os.path.join(orig_dir, \"strains.tsv\"), sep=\"\\t\")\n",
    "comm = pd.read_csv( os.path.join(orig_dir, \"comb_one_hot.tsv\"), sep=\"\\t\")\n",
    "metData = pd.read_csv( os.path.join(orig_dir, \"metData.tsv\"), sep=\"\\t\")\n",
    "metData.index = pd.read_csv( os.path.join(orig_dir, \"metName.tsv\"), sep=\"\\t\")\n",
    "\n",
    "ys = comm\n",
    "targets = strains[\"Organism\"].values"
   ]
  },
  {
   "cell_type": "markdown",
   "metadata": {},
   "source": [
    "### Latent space data"
   ]
  },
  {
   "cell_type": "code",
   "execution_count": 3,
   "metadata": {},
   "outputs": [],
   "source": [
    "run_dir = os.path.normpath(os.path.join(os.getcwd(), \"/mnt/d/runs/ML/latent\"))\n",
    "\n",
    "backend_name = \"tensorflow\"\n",
    "computation = \"cpu\"\n",
    "name = \"cos\"\n",
    "project = f\"vae_{backend_name}_{computation}_{name}\"\n",
    "outdir = Path( os.path.normpath( os.path.join(run_dir, project)) )\n",
    "if not os.path.isdir(outdir):\n",
    "    os.mkdir(outdir)\n",
    "\n",
    "X = pd.read_csv(f\"/mnt/d/runs/VAE/results/encoded_mu_{name}.tsv\", index_col=[\"Unnamed: 0\"], sep=\"\\t\")"
   ]
  },
  {
   "cell_type": "code",
   "execution_count": 4,
   "metadata": {},
   "outputs": [
    {
     "ename": "SyntaxError",
     "evalue": "'break' outside loop (668683560.py, line 1)",
     "output_type": "error",
     "traceback": [
      "\u001b[0;36m  Cell \u001b[0;32mIn[4], line 1\u001b[0;36m\u001b[0m\n\u001b[0;31m    break\u001b[0m\n\u001b[0m    ^\u001b[0m\n\u001b[0;31mSyntaxError\u001b[0m\u001b[0;31m:\u001b[0m 'break' outside loop\n"
     ]
    }
   ],
   "source": [
    "break"
   ]
  },
  {
   "cell_type": "markdown",
   "metadata": {},
   "source": [
    "### Annotated data"
   ]
  },
  {
   "cell_type": "code",
   "execution_count": null,
   "metadata": {},
   "outputs": [],
   "source": [
    "run_dir = os.path.normpath(os.path.join(os.getcwd(), \"/mnt/d/runs/ML/annot\"))\n",
    "name = \"annotated\"\n",
    "\n",
    "met_raw_pos = pd.read_excel( os.path.join(orig_dir,\"FIA-Data Com8_20230717_P0024_msAV206-312.xlsx\"), sheet_name=\"pos\" )\n",
    "met_raw_neg = pd.read_excel( os.path.join(orig_dir,\"FIA-Data Com8_20230717_P0024_msAV206-312.xlsx\"), sheet_name=\"neg\" )\n",
    "met_raw_comb = pd.concat( [total_ion_count_normalization( join_df_metNames(met_raw_pos) ),\n",
    "                           total_ion_count_normalization( join_df_metNames(met_raw_neg) )] )\n",
    "\n",
    "outdir = Path( os.path.normpath( run_dir ) )\n",
    "\n",
    "X = met_raw_comb.transpose()"
   ]
  },
  {
   "cell_type": "markdown",
   "metadata": {},
   "source": [
    "## Learning and tuning"
   ]
  },
  {
   "cell_type": "code",
   "execution_count": 7,
   "metadata": {},
   "outputs": [],
   "source": [
    "n_trials = 10\n",
    "inner_fold = 3\n",
    "outer_fold = 5\n",
    "verbosity = 0"
   ]
  },
  {
   "cell_type": "markdown",
   "metadata": {},
   "source": [
    "### KNeighbors Classifier"
   ]
  },
  {
   "cell_type": "code",
   "execution_count": 6,
   "metadata": {},
   "outputs": [
    {
     "name": "stderr",
     "output_type": "stream",
     "text": [
      "  0%|          | 0/8 [00:00<?, ?it/s]"
     ]
    },
    {
     "name": "stdout",
     "output_type": "stream",
     "text": [
      "[INFO][abstract_initial_design.py:95] Reducing the number of initial configurations from 50 to 2 (max_ratio == 0.25).\n",
      "[INFO][abstract_initial_design.py:147] Using 2 initial design configurations and 0 additional configurations.\n",
      "[INFO][abstract_intensifier.py:305] Using only one seed for deterministic scenario.\n",
      "[INFO][abstract_intensifier.py:515] Added config e07579 as new incumbent because there are no incumbents yet.\n",
      "[INFO][abstract_intensifier.py:590] Added config f02224 and rejected config e07579 as incumbent because it is not better than the incumbents on 1 instances:\n",
      "[INFO][smbo.py:327] Configuration budget is exhausted:\n",
      "[INFO][smbo.py:328] --- Remaining wallclock time: inf\n",
      "[INFO][smbo.py:329] --- Remaining cpu time: inf\n",
      "[INFO][smbo.py:330] --- Remaining trials: 0\n",
      "Mean accuracy: 0.5\n",
      "[INFO][abstract_initial_design.py:95] Reducing the number of initial configurations from 50 to 2 (max_ratio == 0.25).\n",
      "[INFO][abstract_initial_design.py:147] Using 2 initial design configurations and 0 additional configurations.\n"
     ]
    },
    {
     "name": "stderr",
     "output_type": "stream",
     "text": [
      "/home/josua/miniconda3_linux/envs/VAE/lib/python3.11/site-packages/sklearn/base.py:486: UserWarning: X has feature names, but KNeighborsClassifier was fitted without feature names\n",
      "  warnings.warn(\n"
     ]
    },
    {
     "name": "stdout",
     "output_type": "stream",
     "text": [
      "[INFO][abstract_intensifier.py:305] Using only one seed for deterministic scenario.\n",
      "[INFO][abstract_intensifier.py:515] Added config e07579 as new incumbent because there are no incumbents yet.\n",
      "[INFO][abstract_intensifier.py:590] Added config f02224 and rejected config e07579 as incumbent because it is not better than the incumbents on 1 instances:\n",
      "[INFO][abstract_intensifier.py:590] Added config 488746 and rejected config f02224 as incumbent because it is not better than the incumbents on 1 instances:\n",
      "[INFO][smbo.py:327] Configuration budget is exhausted:\n",
      "[INFO][smbo.py:328] --- Remaining wallclock time: inf\n",
      "[INFO][smbo.py:329] --- Remaining cpu time: inf\n",
      "[INFO][smbo.py:330] --- Remaining trials: 0\n",
      "Mean accuracy: 0.5714285714285714\n",
      "[INFO][abstract_initial_design.py:95] Reducing the number of initial configurations from 50 to 2 (max_ratio == 0.25).\n",
      "[INFO][abstract_initial_design.py:147] Using 2 initial design configurations and 0 additional configurations.\n"
     ]
    },
    {
     "name": "stderr",
     "output_type": "stream",
     "text": [
      "/home/josua/miniconda3_linux/envs/VAE/lib/python3.11/site-packages/sklearn/base.py:486: UserWarning: X has feature names, but KNeighborsClassifier was fitted without feature names\n",
      "  warnings.warn(\n"
     ]
    },
    {
     "name": "stdout",
     "output_type": "stream",
     "text": [
      "[INFO][abstract_intensifier.py:305] Using only one seed for deterministic scenario.\n",
      "[INFO][abstract_intensifier.py:515] Added config e07579 as new incumbent because there are no incumbents yet.\n",
      "[INFO][abstract_intensifier.py:590] Added config f02224 and rejected config e07579 as incumbent because it is not better than the incumbents on 1 instances:\n",
      "[INFO][abstract_intensifier.py:590] Added config 488746 and rejected config f02224 as incumbent because it is not better than the incumbents on 1 instances:\n",
      "[INFO][smbo.py:327] Configuration budget is exhausted:\n",
      "[INFO][smbo.py:328] --- Remaining wallclock time: inf\n",
      "[INFO][smbo.py:329] --- Remaining cpu time: inf\n",
      "[INFO][smbo.py:330] --- Remaining trials: 0\n",
      "Mean accuracy: 0.5714285714285714\n",
      "[INFO][abstract_initial_design.py:95] Reducing the number of initial configurations from 50 to 2 (max_ratio == 0.25).\n",
      "[INFO][abstract_initial_design.py:147] Using 2 initial design configurations and 0 additional configurations.\n"
     ]
    },
    {
     "name": "stderr",
     "output_type": "stream",
     "text": [
      "/home/josua/miniconda3_linux/envs/VAE/lib/python3.11/site-packages/sklearn/base.py:486: UserWarning: X has feature names, but KNeighborsClassifier was fitted without feature names\n",
      "  warnings.warn(\n"
     ]
    },
    {
     "name": "stdout",
     "output_type": "stream",
     "text": [
      "[INFO][abstract_intensifier.py:305] Using only one seed for deterministic scenario.\n",
      "[INFO][abstract_intensifier.py:515] Added config e07579 as new incumbent because there are no incumbents yet.\n",
      "[INFO][abstract_intensifier.py:590] Added config f02224 and rejected config e07579 as incumbent because it is not better than the incumbents on 1 instances:\n",
      "[INFO][abstract_intensifier.py:590] Added config 488746 and rejected config f02224 as incumbent because it is not better than the incumbents on 1 instances:\n",
      "[INFO][smbo.py:327] Configuration budget is exhausted:\n",
      "[INFO][smbo.py:328] --- Remaining wallclock time: inf\n",
      "[INFO][smbo.py:329] --- Remaining cpu time: inf\n",
      "[INFO][smbo.py:330] --- Remaining trials: 0\n",
      "Mean accuracy: 0.5384615384615384\n",
      "[INFO][abstract_initial_design.py:95] Reducing the number of initial configurations from 50 to 2 (max_ratio == 0.25).\n",
      "[INFO][abstract_initial_design.py:147] Using 2 initial design configurations and 0 additional configurations.\n"
     ]
    },
    {
     "name": "stderr",
     "output_type": "stream",
     "text": [
      "/home/josua/miniconda3_linux/envs/VAE/lib/python3.11/site-packages/sklearn/base.py:486: UserWarning: X has feature names, but KNeighborsClassifier was fitted without feature names\n",
      "  warnings.warn(\n"
     ]
    },
    {
     "name": "stdout",
     "output_type": "stream",
     "text": [
      "[INFO][abstract_intensifier.py:305] Using only one seed for deterministic scenario.\n",
      "[INFO][abstract_intensifier.py:515] Added config e07579 as new incumbent because there are no incumbents yet.\n",
      "[INFO][abstract_intensifier.py:590] Added config f02224 and rejected config e07579 as incumbent because it is not better than the incumbents on 1 instances:\n",
      "[INFO][smbo.py:327] Configuration budget is exhausted:\n",
      "[INFO][smbo.py:328] --- Remaining wallclock time: inf\n",
      "[INFO][smbo.py:329] --- Remaining cpu time: inf\n",
      "[INFO][smbo.py:330] --- Remaining trials: 0\n"
     ]
    },
    {
     "name": "stderr",
     "output_type": "stream",
     "text": [
      "/home/josua/miniconda3_linux/envs/VAE/lib/python3.11/site-packages/sklearn/base.py:486: UserWarning: X has feature names, but KNeighborsClassifier was fitted without feature names\n",
      "  warnings.warn(\n",
      " 12%|█▎        | 1/8 [00:30<03:34, 30.62s/it]"
     ]
    },
    {
     "name": "stdout",
     "output_type": "stream",
     "text": [
      "Mean accuracy: 0.38461538461538464\n",
      "[INFO][abstract_initial_design.py:95] Reducing the number of initial configurations from 50 to 2 (max_ratio == 0.25).\n",
      "[INFO][abstract_initial_design.py:147] Using 2 initial design configurations and 0 additional configurations.\n",
      "[INFO][abstract_intensifier.py:305] Using only one seed for deterministic scenario.\n",
      "[INFO][abstract_intensifier.py:515] Added config e07579 as new incumbent because there are no incumbents yet.\n",
      "[INFO][abstract_intensifier.py:590] Added config 488746 and rejected config e07579 as incumbent because it is not better than the incumbents on 1 instances:\n",
      "[INFO][smbo.py:327] Configuration budget is exhausted:\n",
      "[INFO][smbo.py:328] --- Remaining wallclock time: inf\n",
      "[INFO][smbo.py:329] --- Remaining cpu time: inf\n",
      "[INFO][smbo.py:330] --- Remaining trials: 0\n",
      "Mean accuracy: 0.7857142857142857\n",
      "[INFO][abstract_initial_design.py:95] Reducing the number of initial configurations from 50 to 2 (max_ratio == 0.25).\n",
      "[INFO][abstract_initial_design.py:147] Using 2 initial design configurations and 0 additional configurations.\n"
     ]
    },
    {
     "name": "stderr",
     "output_type": "stream",
     "text": [
      "/home/josua/miniconda3_linux/envs/VAE/lib/python3.11/site-packages/sklearn/base.py:486: UserWarning: X has feature names, but KNeighborsClassifier was fitted without feature names\n",
      "  warnings.warn(\n"
     ]
    },
    {
     "name": "stdout",
     "output_type": "stream",
     "text": [
      "[INFO][abstract_intensifier.py:305] Using only one seed for deterministic scenario.\n",
      "[INFO][abstract_intensifier.py:515] Added config e07579 as new incumbent because there are no incumbents yet.\n",
      "[INFO][smbo.py:327] Configuration budget is exhausted:\n",
      "[INFO][smbo.py:328] --- Remaining wallclock time: inf\n",
      "[INFO][smbo.py:329] --- Remaining cpu time: inf\n",
      "[INFO][smbo.py:330] --- Remaining trials: 0\n",
      "Mean accuracy: 0.35714285714285715\n",
      "[INFO][abstract_initial_design.py:95] Reducing the number of initial configurations from 50 to 2 (max_ratio == 0.25).\n",
      "[INFO][abstract_initial_design.py:147] Using 2 initial design configurations and 0 additional configurations.\n"
     ]
    },
    {
     "name": "stderr",
     "output_type": "stream",
     "text": [
      "/home/josua/miniconda3_linux/envs/VAE/lib/python3.11/site-packages/sklearn/base.py:486: UserWarning: X has feature names, but KNeighborsClassifier was fitted without feature names\n",
      "  warnings.warn(\n"
     ]
    },
    {
     "name": "stdout",
     "output_type": "stream",
     "text": [
      "[INFO][abstract_intensifier.py:305] Using only one seed for deterministic scenario.\n",
      "[INFO][abstract_intensifier.py:515] Added config e07579 as new incumbent because there are no incumbents yet.\n",
      "[INFO][abstract_intensifier.py:590] Added config f02224 and rejected config e07579 as incumbent because it is not better than the incumbents on 1 instances:\n",
      "[INFO][abstract_intensifier.py:590] Added config 488746 and rejected config f02224 as incumbent because it is not better than the incumbents on 1 instances:\n",
      "[INFO][smbo.py:327] Configuration budget is exhausted:\n",
      "[INFO][smbo.py:328] --- Remaining wallclock time: inf\n",
      "[INFO][smbo.py:329] --- Remaining cpu time: inf\n",
      "[INFO][smbo.py:330] --- Remaining trials: 0\n",
      "Mean accuracy: 0.7857142857142857\n",
      "[INFO][abstract_initial_design.py:95] Reducing the number of initial configurations from 50 to 2 (max_ratio == 0.25).\n",
      "[INFO][abstract_initial_design.py:147] Using 2 initial design configurations and 0 additional configurations.\n"
     ]
    },
    {
     "name": "stderr",
     "output_type": "stream",
     "text": [
      "/home/josua/miniconda3_linux/envs/VAE/lib/python3.11/site-packages/sklearn/base.py:486: UserWarning: X has feature names, but KNeighborsClassifier was fitted without feature names\n",
      "  warnings.warn(\n"
     ]
    },
    {
     "name": "stdout",
     "output_type": "stream",
     "text": [
      "[INFO][abstract_intensifier.py:305] Using only one seed for deterministic scenario.\n",
      "[INFO][abstract_intensifier.py:515] Added config e07579 as new incumbent because there are no incumbents yet.\n",
      "[INFO][abstract_intensifier.py:590] Added config f02224 and rejected config e07579 as incumbent because it is not better than the incumbents on 1 instances:\n",
      "[INFO][abstract_intensifier.py:590] Added config 488746 and rejected config f02224 as incumbent because it is not better than the incumbents on 1 instances:\n",
      "[INFO][smbo.py:327] Configuration budget is exhausted:\n",
      "[INFO][smbo.py:328] --- Remaining wallclock time: inf\n",
      "[INFO][smbo.py:329] --- Remaining cpu time: inf\n",
      "[INFO][smbo.py:330] --- Remaining trials: 0\n",
      "Mean accuracy: 0.5384615384615384\n",
      "[INFO][abstract_initial_design.py:95] Reducing the number of initial configurations from 50 to 2 (max_ratio == 0.25).\n",
      "[INFO][abstract_initial_design.py:147] Using 2 initial design configurations and 0 additional configurations.\n"
     ]
    },
    {
     "name": "stderr",
     "output_type": "stream",
     "text": [
      "/home/josua/miniconda3_linux/envs/VAE/lib/python3.11/site-packages/sklearn/base.py:486: UserWarning: X has feature names, but KNeighborsClassifier was fitted without feature names\n",
      "  warnings.warn(\n"
     ]
    },
    {
     "name": "stdout",
     "output_type": "stream",
     "text": [
      "[INFO][abstract_intensifier.py:305] Using only one seed for deterministic scenario.\n",
      "[INFO][abstract_intensifier.py:515] Added config e07579 as new incumbent because there are no incumbents yet.\n",
      "[INFO][abstract_intensifier.py:590] Added config f02224 and rejected config e07579 as incumbent because it is not better than the incumbents on 1 instances:\n",
      "[INFO][abstract_intensifier.py:590] Added config 488746 and rejected config f02224 as incumbent because it is not better than the incumbents on 1 instances:\n",
      "[INFO][smbo.py:327] Configuration budget is exhausted:\n",
      "[INFO][smbo.py:328] --- Remaining wallclock time: inf\n",
      "[INFO][smbo.py:329] --- Remaining cpu time: inf\n",
      "[INFO][smbo.py:330] --- Remaining trials: 0\n"
     ]
    },
    {
     "name": "stderr",
     "output_type": "stream",
     "text": [
      "/home/josua/miniconda3_linux/envs/VAE/lib/python3.11/site-packages/sklearn/base.py:486: UserWarning: X has feature names, but KNeighborsClassifier was fitted without feature names\n",
      "  warnings.warn(\n",
      " 25%|██▌       | 2/8 [01:01<03:03, 30.50s/it]"
     ]
    },
    {
     "name": "stdout",
     "output_type": "stream",
     "text": [
      "Mean accuracy: 0.46153846153846156\n",
      "[INFO][abstract_initial_design.py:95] Reducing the number of initial configurations from 50 to 2 (max_ratio == 0.25).\n",
      "[INFO][abstract_initial_design.py:147] Using 2 initial design configurations and 0 additional configurations.\n",
      "[INFO][abstract_intensifier.py:305] Using only one seed for deterministic scenario.\n",
      "[INFO][abstract_intensifier.py:515] Added config e07579 as new incumbent because there are no incumbents yet.\n",
      "[INFO][abstract_intensifier.py:590] Added config f02224 and rejected config e07579 as incumbent because it is not better than the incumbents on 1 instances:\n",
      "[INFO][smbo.py:327] Configuration budget is exhausted:\n",
      "[INFO][smbo.py:328] --- Remaining wallclock time: inf\n",
      "[INFO][smbo.py:329] --- Remaining cpu time: inf\n",
      "[INFO][smbo.py:330] --- Remaining trials: 0\n",
      "Mean accuracy: 0.42857142857142855\n",
      "[INFO][abstract_initial_design.py:95] Reducing the number of initial configurations from 50 to 2 (max_ratio == 0.25).\n",
      "[INFO][abstract_initial_design.py:147] Using 2 initial design configurations and 0 additional configurations.\n"
     ]
    },
    {
     "name": "stderr",
     "output_type": "stream",
     "text": [
      "/home/josua/miniconda3_linux/envs/VAE/lib/python3.11/site-packages/sklearn/base.py:486: UserWarning: X has feature names, but KNeighborsClassifier was fitted without feature names\n",
      "  warnings.warn(\n"
     ]
    },
    {
     "name": "stdout",
     "output_type": "stream",
     "text": [
      "[INFO][abstract_intensifier.py:305] Using only one seed for deterministic scenario.\n",
      "[INFO][abstract_intensifier.py:515] Added config e07579 as new incumbent because there are no incumbents yet.\n",
      "[INFO][abstract_intensifier.py:590] Added config f02224 and rejected config e07579 as incumbent because it is not better than the incumbents on 1 instances:\n",
      "[INFO][smbo.py:327] Configuration budget is exhausted:\n",
      "[INFO][smbo.py:328] --- Remaining wallclock time: inf\n",
      "[INFO][smbo.py:329] --- Remaining cpu time: inf\n",
      "[INFO][smbo.py:330] --- Remaining trials: 0\n",
      "Mean accuracy: 0.5714285714285714\n",
      "[INFO][abstract_initial_design.py:95] Reducing the number of initial configurations from 50 to 2 (max_ratio == 0.25).\n",
      "[INFO][abstract_initial_design.py:147] Using 2 initial design configurations and 0 additional configurations.\n"
     ]
    },
    {
     "name": "stderr",
     "output_type": "stream",
     "text": [
      "/home/josua/miniconda3_linux/envs/VAE/lib/python3.11/site-packages/sklearn/base.py:486: UserWarning: X has feature names, but KNeighborsClassifier was fitted without feature names\n",
      "  warnings.warn(\n"
     ]
    },
    {
     "name": "stdout",
     "output_type": "stream",
     "text": [
      "[INFO][abstract_intensifier.py:305] Using only one seed for deterministic scenario.\n",
      "[INFO][abstract_intensifier.py:515] Added config e07579 as new incumbent because there are no incumbents yet.\n",
      "[INFO][abstract_intensifier.py:590] Added config f02224 and rejected config e07579 as incumbent because it is not better than the incumbents on 1 instances:\n",
      "[INFO][abstract_intensifier.py:590] Added config 488746 and rejected config f02224 as incumbent because it is not better than the incumbents on 1 instances:\n",
      "[INFO][smbo.py:327] Configuration budget is exhausted:\n",
      "[INFO][smbo.py:328] --- Remaining wallclock time: inf\n",
      "[INFO][smbo.py:329] --- Remaining cpu time: inf\n",
      "[INFO][smbo.py:330] --- Remaining trials: 0\n",
      "Mean accuracy: 0.7142857142857143\n",
      "[INFO][abstract_initial_design.py:95] Reducing the number of initial configurations from 50 to 2 (max_ratio == 0.25).\n",
      "[INFO][abstract_initial_design.py:147] Using 2 initial design configurations and 0 additional configurations.\n"
     ]
    },
    {
     "name": "stderr",
     "output_type": "stream",
     "text": [
      "/home/josua/miniconda3_linux/envs/VAE/lib/python3.11/site-packages/sklearn/base.py:486: UserWarning: X has feature names, but KNeighborsClassifier was fitted without feature names\n",
      "  warnings.warn(\n"
     ]
    },
    {
     "name": "stdout",
     "output_type": "stream",
     "text": [
      "[INFO][abstract_intensifier.py:305] Using only one seed for deterministic scenario.\n",
      "[INFO][abstract_intensifier.py:515] Added config e07579 as new incumbent because there are no incumbents yet.\n",
      "[INFO][abstract_intensifier.py:590] Added config f02224 and rejected config e07579 as incumbent because it is not better than the incumbents on 1 instances:\n",
      "[INFO][abstract_intensifier.py:590] Added config 488746 and rejected config f02224 as incumbent because it is not better than the incumbents on 1 instances:\n",
      "[INFO][smbo.py:327] Configuration budget is exhausted:\n",
      "[INFO][smbo.py:328] --- Remaining wallclock time: inf\n",
      "[INFO][smbo.py:329] --- Remaining cpu time: inf\n",
      "[INFO][smbo.py:330] --- Remaining trials: 0\n",
      "Mean accuracy: 0.6923076923076923\n",
      "[INFO][abstract_initial_design.py:95] Reducing the number of initial configurations from 50 to 2 (max_ratio == 0.25).\n",
      "[INFO][abstract_initial_design.py:147] Using 2 initial design configurations and 0 additional configurations.\n"
     ]
    },
    {
     "name": "stderr",
     "output_type": "stream",
     "text": [
      "/home/josua/miniconda3_linux/envs/VAE/lib/python3.11/site-packages/sklearn/base.py:486: UserWarning: X has feature names, but KNeighborsClassifier was fitted without feature names\n",
      "  warnings.warn(\n"
     ]
    },
    {
     "name": "stdout",
     "output_type": "stream",
     "text": [
      "[INFO][abstract_intensifier.py:305] Using only one seed for deterministic scenario.\n",
      "[INFO][abstract_intensifier.py:515] Added config e07579 as new incumbent because there are no incumbents yet.\n",
      "[INFO][abstract_intensifier.py:590] Added config f02224 and rejected config e07579 as incumbent because it is not better than the incumbents on 1 instances:\n",
      "[INFO][smbo.py:327] Configuration budget is exhausted:\n",
      "[INFO][smbo.py:328] --- Remaining wallclock time: inf\n",
      "[INFO][smbo.py:329] --- Remaining cpu time: inf\n",
      "[INFO][smbo.py:330] --- Remaining trials: 0\n"
     ]
    },
    {
     "name": "stderr",
     "output_type": "stream",
     "text": [
      "/home/josua/miniconda3_linux/envs/VAE/lib/python3.11/site-packages/sklearn/base.py:486: UserWarning: X has feature names, but KNeighborsClassifier was fitted without feature names\n",
      "  warnings.warn(\n",
      " 38%|███▊      | 3/8 [01:33<02:36, 31.20s/it]"
     ]
    },
    {
     "name": "stdout",
     "output_type": "stream",
     "text": [
      "Mean accuracy: 0.6153846153846154\n",
      "[INFO][abstract_initial_design.py:95] Reducing the number of initial configurations from 50 to 2 (max_ratio == 0.25).\n",
      "[INFO][abstract_initial_design.py:147] Using 2 initial design configurations and 0 additional configurations.\n",
      "[INFO][abstract_intensifier.py:305] Using only one seed for deterministic scenario.\n",
      "[INFO][abstract_intensifier.py:515] Added config e07579 as new incumbent because there are no incumbents yet.\n",
      "[INFO][smbo.py:327] Configuration budget is exhausted:\n",
      "[INFO][smbo.py:328] --- Remaining wallclock time: inf\n",
      "[INFO][smbo.py:329] --- Remaining cpu time: inf\n",
      "[INFO][smbo.py:330] --- Remaining trials: 0\n",
      "Mean accuracy: 0.5\n",
      "[INFO][abstract_initial_design.py:95] Reducing the number of initial configurations from 50 to 2 (max_ratio == 0.25).\n",
      "[INFO][abstract_initial_design.py:147] Using 2 initial design configurations and 0 additional configurations.\n"
     ]
    },
    {
     "name": "stderr",
     "output_type": "stream",
     "text": [
      "/home/josua/miniconda3_linux/envs/VAE/lib/python3.11/site-packages/sklearn/base.py:486: UserWarning: X has feature names, but KNeighborsClassifier was fitted without feature names\n",
      "  warnings.warn(\n"
     ]
    },
    {
     "name": "stdout",
     "output_type": "stream",
     "text": [
      "[INFO][abstract_intensifier.py:305] Using only one seed for deterministic scenario.\n",
      "[INFO][abstract_intensifier.py:515] Added config e07579 as new incumbent because there are no incumbents yet.\n",
      "[INFO][abstract_intensifier.py:590] Added config 295ed8 and rejected config e07579 as incumbent because it is not better than the incumbents on 1 instances:\n",
      "[INFO][smbo.py:327] Configuration budget is exhausted:\n",
      "[INFO][smbo.py:328] --- Remaining wallclock time: inf\n",
      "[INFO][smbo.py:329] --- Remaining cpu time: inf\n",
      "[INFO][smbo.py:330] --- Remaining trials: 0\n",
      "Mean accuracy: 0.5\n",
      "[INFO][abstract_initial_design.py:95] Reducing the number of initial configurations from 50 to 2 (max_ratio == 0.25).\n",
      "[INFO][abstract_initial_design.py:147] Using 2 initial design configurations and 0 additional configurations.\n"
     ]
    },
    {
     "name": "stderr",
     "output_type": "stream",
     "text": [
      "/home/josua/miniconda3_linux/envs/VAE/lib/python3.11/site-packages/sklearn/base.py:486: UserWarning: X has feature names, but KNeighborsClassifier was fitted without feature names\n",
      "  warnings.warn(\n"
     ]
    },
    {
     "name": "stdout",
     "output_type": "stream",
     "text": [
      "[INFO][abstract_intensifier.py:305] Using only one seed for deterministic scenario.\n",
      "[INFO][abstract_intensifier.py:515] Added config e07579 as new incumbent because there are no incumbents yet.\n",
      "[INFO][abstract_intensifier.py:590] Added config 8e8f99 and rejected config e07579 as incumbent because it is not better than the incumbents on 1 instances:\n",
      "[INFO][smbo.py:327] Configuration budget is exhausted:\n",
      "[INFO][smbo.py:328] --- Remaining wallclock time: inf\n",
      "[INFO][smbo.py:329] --- Remaining cpu time: inf\n",
      "[INFO][smbo.py:330] --- Remaining trials: 0\n",
      "Mean accuracy: 0.6428571428571429\n",
      "[INFO][abstract_initial_design.py:95] Reducing the number of initial configurations from 50 to 2 (max_ratio == 0.25).\n",
      "[INFO][abstract_initial_design.py:147] Using 2 initial design configurations and 0 additional configurations.\n"
     ]
    },
    {
     "name": "stderr",
     "output_type": "stream",
     "text": [
      "/home/josua/miniconda3_linux/envs/VAE/lib/python3.11/site-packages/sklearn/base.py:486: UserWarning: X has feature names, but KNeighborsClassifier was fitted without feature names\n",
      "  warnings.warn(\n"
     ]
    },
    {
     "name": "stdout",
     "output_type": "stream",
     "text": [
      "[INFO][abstract_intensifier.py:305] Using only one seed for deterministic scenario.\n",
      "[INFO][abstract_intensifier.py:515] Added config e07579 as new incumbent because there are no incumbents yet.\n",
      "[INFO][smbo.py:327] Configuration budget is exhausted:\n",
      "[INFO][smbo.py:328] --- Remaining wallclock time: inf\n",
      "[INFO][smbo.py:329] --- Remaining cpu time: inf\n",
      "[INFO][smbo.py:330] --- Remaining trials: 0\n",
      "Mean accuracy: 0.6153846153846154\n",
      "[INFO][abstract_initial_design.py:95] Reducing the number of initial configurations from 50 to 2 (max_ratio == 0.25).\n",
      "[INFO][abstract_initial_design.py:147] Using 2 initial design configurations and 0 additional configurations.\n"
     ]
    },
    {
     "name": "stderr",
     "output_type": "stream",
     "text": [
      "/home/josua/miniconda3_linux/envs/VAE/lib/python3.11/site-packages/sklearn/base.py:486: UserWarning: X has feature names, but KNeighborsClassifier was fitted without feature names\n",
      "  warnings.warn(\n"
     ]
    },
    {
     "name": "stdout",
     "output_type": "stream",
     "text": [
      "[INFO][abstract_intensifier.py:305] Using only one seed for deterministic scenario.\n",
      "[INFO][abstract_intensifier.py:515] Added config e07579 as new incumbent because there are no incumbents yet.\n",
      "[INFO][smbo.py:327] Configuration budget is exhausted:\n",
      "[INFO][smbo.py:328] --- Remaining wallclock time: inf\n",
      "[INFO][smbo.py:329] --- Remaining cpu time: inf\n",
      "[INFO][smbo.py:330] --- Remaining trials: 0\n"
     ]
    },
    {
     "name": "stderr",
     "output_type": "stream",
     "text": [
      "/home/josua/miniconda3_linux/envs/VAE/lib/python3.11/site-packages/sklearn/base.py:486: UserWarning: X has feature names, but KNeighborsClassifier was fitted without feature names\n",
      "  warnings.warn(\n",
      " 50%|█████     | 4/8 [02:04<02:05, 31.26s/it]"
     ]
    },
    {
     "name": "stdout",
     "output_type": "stream",
     "text": [
      "Mean accuracy: 0.6923076923076923\n",
      "[INFO][abstract_initial_design.py:95] Reducing the number of initial configurations from 50 to 2 (max_ratio == 0.25).\n",
      "[INFO][abstract_initial_design.py:147] Using 2 initial design configurations and 0 additional configurations.\n",
      "[INFO][abstract_intensifier.py:305] Using only one seed for deterministic scenario.\n",
      "[INFO][abstract_intensifier.py:515] Added config e07579 as new incumbent because there are no incumbents yet.\n",
      "[INFO][smbo.py:327] Configuration budget is exhausted:\n",
      "[INFO][smbo.py:328] --- Remaining wallclock time: inf\n",
      "[INFO][smbo.py:329] --- Remaining cpu time: inf\n",
      "[INFO][smbo.py:330] --- Remaining trials: 0\n",
      "Mean accuracy: 0.5\n",
      "[INFO][abstract_initial_design.py:95] Reducing the number of initial configurations from 50 to 2 (max_ratio == 0.25).\n",
      "[INFO][abstract_initial_design.py:147] Using 2 initial design configurations and 0 additional configurations.\n"
     ]
    },
    {
     "name": "stderr",
     "output_type": "stream",
     "text": [
      "/home/josua/miniconda3_linux/envs/VAE/lib/python3.11/site-packages/sklearn/base.py:486: UserWarning: X has feature names, but KNeighborsClassifier was fitted without feature names\n",
      "  warnings.warn(\n"
     ]
    },
    {
     "name": "stdout",
     "output_type": "stream",
     "text": [
      "[INFO][abstract_intensifier.py:305] Using only one seed for deterministic scenario.\n",
      "[INFO][abstract_intensifier.py:515] Added config e07579 as new incumbent because there are no incumbents yet.\n",
      "[INFO][smbo.py:327] Configuration budget is exhausted:\n",
      "[INFO][smbo.py:328] --- Remaining wallclock time: inf\n",
      "[INFO][smbo.py:329] --- Remaining cpu time: inf\n",
      "[INFO][smbo.py:330] --- Remaining trials: 0\n",
      "Mean accuracy: 0.42857142857142855\n",
      "[INFO][abstract_initial_design.py:95] Reducing the number of initial configurations from 50 to 2 (max_ratio == 0.25).\n",
      "[INFO][abstract_initial_design.py:147] Using 2 initial design configurations and 0 additional configurations.\n"
     ]
    },
    {
     "name": "stderr",
     "output_type": "stream",
     "text": [
      "/home/josua/miniconda3_linux/envs/VAE/lib/python3.11/site-packages/sklearn/base.py:486: UserWarning: X has feature names, but KNeighborsClassifier was fitted without feature names\n",
      "  warnings.warn(\n"
     ]
    },
    {
     "name": "stdout",
     "output_type": "stream",
     "text": [
      "[INFO][abstract_intensifier.py:305] Using only one seed for deterministic scenario.\n",
      "[INFO][abstract_intensifier.py:515] Added config e07579 as new incumbent because there are no incumbents yet.\n",
      "[INFO][smbo.py:327] Configuration budget is exhausted:\n",
      "[INFO][smbo.py:328] --- Remaining wallclock time: inf\n",
      "[INFO][smbo.py:329] --- Remaining cpu time: inf\n",
      "[INFO][smbo.py:330] --- Remaining trials: 0\n",
      "Mean accuracy: 0.5\n",
      "[INFO][abstract_initial_design.py:95] Reducing the number of initial configurations from 50 to 2 (max_ratio == 0.25).\n",
      "[INFO][abstract_initial_design.py:147] Using 2 initial design configurations and 0 additional configurations.\n"
     ]
    },
    {
     "name": "stderr",
     "output_type": "stream",
     "text": [
      "/home/josua/miniconda3_linux/envs/VAE/lib/python3.11/site-packages/sklearn/base.py:486: UserWarning: X has feature names, but KNeighborsClassifier was fitted without feature names\n",
      "  warnings.warn(\n"
     ]
    },
    {
     "name": "stdout",
     "output_type": "stream",
     "text": [
      "[INFO][abstract_intensifier.py:305] Using only one seed for deterministic scenario.\n",
      "[INFO][abstract_intensifier.py:515] Added config e07579 as new incumbent because there are no incumbents yet.\n",
      "[INFO][smbo.py:327] Configuration budget is exhausted:\n",
      "[INFO][smbo.py:328] --- Remaining wallclock time: inf\n",
      "[INFO][smbo.py:329] --- Remaining cpu time: inf\n",
      "[INFO][smbo.py:330] --- Remaining trials: 0\n",
      "Mean accuracy: 0.6153846153846154\n",
      "[INFO][abstract_initial_design.py:95] Reducing the number of initial configurations from 50 to 2 (max_ratio == 0.25).\n",
      "[INFO][abstract_initial_design.py:147] Using 2 initial design configurations and 0 additional configurations.\n"
     ]
    },
    {
     "name": "stderr",
     "output_type": "stream",
     "text": [
      "/home/josua/miniconda3_linux/envs/VAE/lib/python3.11/site-packages/sklearn/base.py:486: UserWarning: X has feature names, but KNeighborsClassifier was fitted without feature names\n",
      "  warnings.warn(\n"
     ]
    },
    {
     "name": "stdout",
     "output_type": "stream",
     "text": [
      "[INFO][abstract_intensifier.py:305] Using only one seed for deterministic scenario.\n",
      "[INFO][abstract_intensifier.py:515] Added config e07579 as new incumbent because there are no incumbents yet.\n",
      "[INFO][smbo.py:327] Configuration budget is exhausted:\n",
      "[INFO][smbo.py:328] --- Remaining wallclock time: inf\n",
      "[INFO][smbo.py:329] --- Remaining cpu time: inf\n",
      "[INFO][smbo.py:330] --- Remaining trials: 0\n"
     ]
    },
    {
     "name": "stderr",
     "output_type": "stream",
     "text": [
      "/home/josua/miniconda3_linux/envs/VAE/lib/python3.11/site-packages/sklearn/base.py:486: UserWarning: X has feature names, but KNeighborsClassifier was fitted without feature names\n",
      "  warnings.warn(\n",
      " 62%|██████▎   | 5/8 [02:35<01:33, 31.06s/it]"
     ]
    },
    {
     "name": "stdout",
     "output_type": "stream",
     "text": [
      "Mean accuracy: 0.5384615384615384\n",
      "[INFO][abstract_initial_design.py:95] Reducing the number of initial configurations from 50 to 2 (max_ratio == 0.25).\n",
      "[INFO][abstract_initial_design.py:147] Using 2 initial design configurations and 0 additional configurations.\n",
      "[INFO][abstract_intensifier.py:305] Using only one seed for deterministic scenario.\n",
      "[INFO][abstract_intensifier.py:515] Added config e07579 as new incumbent because there are no incumbents yet.\n",
      "[INFO][smbo.py:327] Configuration budget is exhausted:\n",
      "[INFO][smbo.py:328] --- Remaining wallclock time: inf\n",
      "[INFO][smbo.py:329] --- Remaining cpu time: inf\n",
      "[INFO][smbo.py:330] --- Remaining trials: 0\n",
      "Mean accuracy: 0.5\n",
      "[INFO][abstract_initial_design.py:95] Reducing the number of initial configurations from 50 to 2 (max_ratio == 0.25).\n",
      "[INFO][abstract_initial_design.py:147] Using 2 initial design configurations and 0 additional configurations.\n"
     ]
    },
    {
     "name": "stderr",
     "output_type": "stream",
     "text": [
      "/home/josua/miniconda3_linux/envs/VAE/lib/python3.11/site-packages/sklearn/base.py:486: UserWarning: X has feature names, but KNeighborsClassifier was fitted without feature names\n",
      "  warnings.warn(\n"
     ]
    },
    {
     "name": "stdout",
     "output_type": "stream",
     "text": [
      "[INFO][abstract_intensifier.py:305] Using only one seed for deterministic scenario.\n",
      "[INFO][abstract_intensifier.py:515] Added config e07579 as new incumbent because there are no incumbents yet.\n",
      "[INFO][smbo.py:327] Configuration budget is exhausted:\n",
      "[INFO][smbo.py:328] --- Remaining wallclock time: inf\n",
      "[INFO][smbo.py:329] --- Remaining cpu time: inf\n",
      "[INFO][smbo.py:330] --- Remaining trials: 0\n",
      "Mean accuracy: 0.6428571428571429\n",
      "[INFO][abstract_initial_design.py:95] Reducing the number of initial configurations from 50 to 2 (max_ratio == 0.25).\n",
      "[INFO][abstract_initial_design.py:147] Using 2 initial design configurations and 0 additional configurations.\n"
     ]
    },
    {
     "name": "stderr",
     "output_type": "stream",
     "text": [
      "/home/josua/miniconda3_linux/envs/VAE/lib/python3.11/site-packages/sklearn/base.py:486: UserWarning: X has feature names, but KNeighborsClassifier was fitted without feature names\n",
      "  warnings.warn(\n"
     ]
    },
    {
     "name": "stdout",
     "output_type": "stream",
     "text": [
      "[INFO][abstract_intensifier.py:305] Using only one seed for deterministic scenario.\n",
      "[INFO][abstract_intensifier.py:515] Added config e07579 as new incumbent because there are no incumbents yet.\n",
      "[INFO][abstract_intensifier.py:590] Added config f02224 and rejected config e07579 as incumbent because it is not better than the incumbents on 1 instances:\n",
      "[INFO][abstract_intensifier.py:590] Added config 488746 and rejected config f02224 as incumbent because it is not better than the incumbents on 1 instances:\n",
      "[INFO][smbo.py:327] Configuration budget is exhausted:\n",
      "[INFO][smbo.py:328] --- Remaining wallclock time: inf\n",
      "[INFO][smbo.py:329] --- Remaining cpu time: inf\n",
      "[INFO][smbo.py:330] --- Remaining trials: 0\n",
      "Mean accuracy: 0.7142857142857143\n",
      "[INFO][abstract_initial_design.py:95] Reducing the number of initial configurations from 50 to 2 (max_ratio == 0.25).\n",
      "[INFO][abstract_initial_design.py:147] Using 2 initial design configurations and 0 additional configurations.\n"
     ]
    },
    {
     "name": "stderr",
     "output_type": "stream",
     "text": [
      "/home/josua/miniconda3_linux/envs/VAE/lib/python3.11/site-packages/sklearn/base.py:486: UserWarning: X has feature names, but KNeighborsClassifier was fitted without feature names\n",
      "  warnings.warn(\n"
     ]
    },
    {
     "name": "stdout",
     "output_type": "stream",
     "text": [
      "[INFO][abstract_intensifier.py:305] Using only one seed for deterministic scenario.\n",
      "[INFO][abstract_intensifier.py:515] Added config e07579 as new incumbent because there are no incumbents yet.\n",
      "[INFO][abstract_intensifier.py:590] Added config f02224 and rejected config e07579 as incumbent because it is not better than the incumbents on 1 instances:\n",
      "[INFO][abstract_intensifier.py:590] Added config 488746 and rejected config f02224 as incumbent because it is not better than the incumbents on 1 instances:\n",
      "[INFO][smbo.py:327] Configuration budget is exhausted:\n",
      "[INFO][smbo.py:328] --- Remaining wallclock time: inf\n",
      "[INFO][smbo.py:329] --- Remaining cpu time: inf\n",
      "[INFO][smbo.py:330] --- Remaining trials: 0\n",
      "Mean accuracy: 0.6923076923076923\n",
      "[INFO][abstract_initial_design.py:95] Reducing the number of initial configurations from 50 to 2 (max_ratio == 0.25).\n",
      "[INFO][abstract_initial_design.py:147] Using 2 initial design configurations and 0 additional configurations.\n"
     ]
    },
    {
     "name": "stderr",
     "output_type": "stream",
     "text": [
      "/home/josua/miniconda3_linux/envs/VAE/lib/python3.11/site-packages/sklearn/base.py:486: UserWarning: X has feature names, but KNeighborsClassifier was fitted without feature names\n",
      "  warnings.warn(\n"
     ]
    },
    {
     "name": "stdout",
     "output_type": "stream",
     "text": [
      "[INFO][abstract_intensifier.py:305] Using only one seed for deterministic scenario.\n",
      "[INFO][abstract_intensifier.py:515] Added config e07579 as new incumbent because there are no incumbents yet.\n",
      "[INFO][smbo.py:327] Configuration budget is exhausted:\n",
      "[INFO][smbo.py:328] --- Remaining wallclock time: inf\n",
      "[INFO][smbo.py:329] --- Remaining cpu time: inf\n",
      "[INFO][smbo.py:330] --- Remaining trials: 0\n"
     ]
    },
    {
     "name": "stderr",
     "output_type": "stream",
     "text": [
      "/home/josua/miniconda3_linux/envs/VAE/lib/python3.11/site-packages/sklearn/base.py:486: UserWarning: X has feature names, but KNeighborsClassifier was fitted without feature names\n",
      "  warnings.warn(\n",
      " 75%|███████▌  | 6/8 [03:07<01:03, 31.51s/it]"
     ]
    },
    {
     "name": "stdout",
     "output_type": "stream",
     "text": [
      "Mean accuracy: 0.6153846153846154\n",
      "[INFO][abstract_initial_design.py:95] Reducing the number of initial configurations from 50 to 2 (max_ratio == 0.25).\n",
      "[INFO][abstract_initial_design.py:147] Using 2 initial design configurations and 0 additional configurations.\n",
      "[INFO][abstract_intensifier.py:305] Using only one seed for deterministic scenario.\n",
      "[INFO][abstract_intensifier.py:515] Added config e07579 as new incumbent because there are no incumbents yet.\n",
      "[INFO][abstract_intensifier.py:590] Added config f02224 and rejected config e07579 as incumbent because it is not better than the incumbents on 1 instances:\n",
      "[INFO][smbo.py:327] Configuration budget is exhausted:\n",
      "[INFO][smbo.py:328] --- Remaining wallclock time: inf\n",
      "[INFO][smbo.py:329] --- Remaining cpu time: inf\n",
      "[INFO][smbo.py:330] --- Remaining trials: 0\n",
      "Mean accuracy: 0.35714285714285715\n",
      "[INFO][abstract_initial_design.py:95] Reducing the number of initial configurations from 50 to 2 (max_ratio == 0.25).\n",
      "[INFO][abstract_initial_design.py:147] Using 2 initial design configurations and 0 additional configurations.\n"
     ]
    },
    {
     "name": "stderr",
     "output_type": "stream",
     "text": [
      "/home/josua/miniconda3_linux/envs/VAE/lib/python3.11/site-packages/sklearn/base.py:486: UserWarning: X has feature names, but KNeighborsClassifier was fitted without feature names\n",
      "  warnings.warn(\n"
     ]
    },
    {
     "name": "stdout",
     "output_type": "stream",
     "text": [
      "[INFO][abstract_intensifier.py:305] Using only one seed for deterministic scenario.\n",
      "[INFO][abstract_intensifier.py:515] Added config e07579 as new incumbent because there are no incumbents yet.\n",
      "[INFO][abstract_intensifier.py:590] Added config f02224 and rejected config e07579 as incumbent because it is not better than the incumbents on 1 instances:\n",
      "[INFO][smbo.py:327] Configuration budget is exhausted:\n",
      "[INFO][smbo.py:328] --- Remaining wallclock time: inf\n",
      "[INFO][smbo.py:329] --- Remaining cpu time: inf\n",
      "[INFO][smbo.py:330] --- Remaining trials: 0\n",
      "Mean accuracy: 0.5714285714285714\n",
      "[INFO][abstract_initial_design.py:95] Reducing the number of initial configurations from 50 to 2 (max_ratio == 0.25).\n",
      "[INFO][abstract_initial_design.py:147] Using 2 initial design configurations and 0 additional configurations.\n"
     ]
    },
    {
     "name": "stderr",
     "output_type": "stream",
     "text": [
      "/home/josua/miniconda3_linux/envs/VAE/lib/python3.11/site-packages/sklearn/base.py:486: UserWarning: X has feature names, but KNeighborsClassifier was fitted without feature names\n",
      "  warnings.warn(\n"
     ]
    },
    {
     "name": "stdout",
     "output_type": "stream",
     "text": [
      "[INFO][abstract_intensifier.py:305] Using only one seed for deterministic scenario.\n",
      "[INFO][abstract_intensifier.py:515] Added config e07579 as new incumbent because there are no incumbents yet.\n",
      "[INFO][abstract_intensifier.py:590] Added config f02224 and rejected config e07579 as incumbent because it is not better than the incumbents on 1 instances:\n",
      "[INFO][smbo.py:327] Configuration budget is exhausted:\n",
      "[INFO][smbo.py:328] --- Remaining wallclock time: inf\n",
      "[INFO][smbo.py:329] --- Remaining cpu time: inf\n",
      "[INFO][smbo.py:330] --- Remaining trials: 0\n",
      "Mean accuracy: 0.35714285714285715\n",
      "[INFO][abstract_initial_design.py:95] Reducing the number of initial configurations from 50 to 2 (max_ratio == 0.25).\n",
      "[INFO][abstract_initial_design.py:147] Using 2 initial design configurations and 0 additional configurations.\n"
     ]
    },
    {
     "name": "stderr",
     "output_type": "stream",
     "text": [
      "/home/josua/miniconda3_linux/envs/VAE/lib/python3.11/site-packages/sklearn/base.py:486: UserWarning: X has feature names, but KNeighborsClassifier was fitted without feature names\n",
      "  warnings.warn(\n"
     ]
    },
    {
     "name": "stdout",
     "output_type": "stream",
     "text": [
      "[INFO][abstract_intensifier.py:305] Using only one seed for deterministic scenario.\n",
      "[INFO][abstract_intensifier.py:515] Added config e07579 as new incumbent because there are no incumbents yet.\n",
      "[INFO][abstract_intensifier.py:590] Added config f02224 and rejected config e07579 as incumbent because it is not better than the incumbents on 1 instances:\n",
      "[INFO][smbo.py:327] Configuration budget is exhausted:\n",
      "[INFO][smbo.py:328] --- Remaining wallclock time: inf\n",
      "[INFO][smbo.py:329] --- Remaining cpu time: inf\n",
      "[INFO][smbo.py:330] --- Remaining trials: 0\n",
      "Mean accuracy: 0.8461538461538461\n",
      "[INFO][abstract_initial_design.py:95] Reducing the number of initial configurations from 50 to 2 (max_ratio == 0.25).\n",
      "[INFO][abstract_initial_design.py:147] Using 2 initial design configurations and 0 additional configurations.\n"
     ]
    },
    {
     "name": "stderr",
     "output_type": "stream",
     "text": [
      "/home/josua/miniconda3_linux/envs/VAE/lib/python3.11/site-packages/sklearn/base.py:486: UserWarning: X has feature names, but KNeighborsClassifier was fitted without feature names\n",
      "  warnings.warn(\n"
     ]
    },
    {
     "name": "stdout",
     "output_type": "stream",
     "text": [
      "[INFO][abstract_intensifier.py:305] Using only one seed for deterministic scenario.\n",
      "[INFO][abstract_intensifier.py:515] Added config e07579 as new incumbent because there are no incumbents yet.\n",
      "[INFO][abstract_intensifier.py:590] Added config f02224 and rejected config e07579 as incumbent because it is not better than the incumbents on 1 instances:\n",
      "[INFO][smbo.py:327] Configuration budget is exhausted:\n",
      "[INFO][smbo.py:328] --- Remaining wallclock time: inf\n",
      "[INFO][smbo.py:329] --- Remaining cpu time: inf\n",
      "[INFO][smbo.py:330] --- Remaining trials: 0\n"
     ]
    },
    {
     "name": "stderr",
     "output_type": "stream",
     "text": [
      "/home/josua/miniconda3_linux/envs/VAE/lib/python3.11/site-packages/sklearn/base.py:486: UserWarning: X has feature names, but KNeighborsClassifier was fitted without feature names\n",
      "  warnings.warn(\n",
      " 88%|████████▊ | 7/8 [03:39<00:31, 31.83s/it]"
     ]
    },
    {
     "name": "stdout",
     "output_type": "stream",
     "text": [
      "Mean accuracy: 0.46153846153846156\n",
      "[INFO][abstract_initial_design.py:95] Reducing the number of initial configurations from 50 to 2 (max_ratio == 0.25).\n",
      "[INFO][abstract_initial_design.py:147] Using 2 initial design configurations and 0 additional configurations.\n",
      "[INFO][abstract_intensifier.py:305] Using only one seed for deterministic scenario.\n",
      "[INFO][abstract_intensifier.py:515] Added config e07579 as new incumbent because there are no incumbents yet.\n",
      "[INFO][smbo.py:327] Configuration budget is exhausted:\n",
      "[INFO][smbo.py:328] --- Remaining wallclock time: inf\n",
      "[INFO][smbo.py:329] --- Remaining cpu time: inf\n",
      "[INFO][smbo.py:330] --- Remaining trials: 0\n",
      "Mean accuracy: 0.35714285714285715\n",
      "[INFO][abstract_initial_design.py:95] Reducing the number of initial configurations from 50 to 2 (max_ratio == 0.25).\n",
      "[INFO][abstract_initial_design.py:147] Using 2 initial design configurations and 0 additional configurations.\n"
     ]
    },
    {
     "name": "stderr",
     "output_type": "stream",
     "text": [
      "/home/josua/miniconda3_linux/envs/VAE/lib/python3.11/site-packages/sklearn/base.py:486: UserWarning: X has feature names, but KNeighborsClassifier was fitted without feature names\n",
      "  warnings.warn(\n"
     ]
    },
    {
     "name": "stdout",
     "output_type": "stream",
     "text": [
      "[INFO][abstract_intensifier.py:305] Using only one seed for deterministic scenario.\n",
      "[INFO][abstract_intensifier.py:515] Added config e07579 as new incumbent because there are no incumbents yet.\n",
      "[INFO][abstract_intensifier.py:590] Added config f02224 and rejected config e07579 as incumbent because it is not better than the incumbents on 1 instances:\n",
      "[INFO][smbo.py:327] Configuration budget is exhausted:\n",
      "[INFO][smbo.py:328] --- Remaining wallclock time: inf\n",
      "[INFO][smbo.py:329] --- Remaining cpu time: inf\n",
      "[INFO][smbo.py:330] --- Remaining trials: 0\n",
      "Mean accuracy: 0.5714285714285714\n",
      "[INFO][abstract_initial_design.py:95] Reducing the number of initial configurations from 50 to 2 (max_ratio == 0.25).\n",
      "[INFO][abstract_initial_design.py:147] Using 2 initial design configurations and 0 additional configurations.\n"
     ]
    },
    {
     "name": "stderr",
     "output_type": "stream",
     "text": [
      "/home/josua/miniconda3_linux/envs/VAE/lib/python3.11/site-packages/sklearn/base.py:486: UserWarning: X has feature names, but KNeighborsClassifier was fitted without feature names\n",
      "  warnings.warn(\n"
     ]
    },
    {
     "name": "stdout",
     "output_type": "stream",
     "text": [
      "[INFO][abstract_intensifier.py:305] Using only one seed for deterministic scenario.\n",
      "[INFO][abstract_intensifier.py:515] Added config e07579 as new incumbent because there are no incumbents yet.\n",
      "[INFO][abstract_intensifier.py:590] Added config f02224 and rejected config e07579 as incumbent because it is not better than the incumbents on 1 instances:\n",
      "[INFO][abstract_intensifier.py:590] Added config 488746 and rejected config f02224 as incumbent because it is not better than the incumbents on 1 instances:\n",
      "[INFO][smbo.py:327] Configuration budget is exhausted:\n",
      "[INFO][smbo.py:328] --- Remaining wallclock time: inf\n",
      "[INFO][smbo.py:329] --- Remaining cpu time: inf\n",
      "[INFO][smbo.py:330] --- Remaining trials: 0\n",
      "Mean accuracy: 0.6428571428571429\n",
      "[INFO][abstract_initial_design.py:95] Reducing the number of initial configurations from 50 to 2 (max_ratio == 0.25).\n",
      "[INFO][abstract_initial_design.py:147] Using 2 initial design configurations and 0 additional configurations.\n"
     ]
    },
    {
     "name": "stderr",
     "output_type": "stream",
     "text": [
      "/home/josua/miniconda3_linux/envs/VAE/lib/python3.11/site-packages/sklearn/base.py:486: UserWarning: X has feature names, but KNeighborsClassifier was fitted without feature names\n",
      "  warnings.warn(\n"
     ]
    },
    {
     "name": "stdout",
     "output_type": "stream",
     "text": [
      "[INFO][abstract_intensifier.py:305] Using only one seed for deterministic scenario.\n",
      "[INFO][abstract_intensifier.py:515] Added config e07579 as new incumbent because there are no incumbents yet.\n",
      "[INFO][abstract_intensifier.py:590] Added config f02224 and rejected config e07579 as incumbent because it is not better than the incumbents on 1 instances:\n",
      "[INFO][smbo.py:327] Configuration budget is exhausted:\n",
      "[INFO][smbo.py:328] --- Remaining wallclock time: inf\n",
      "[INFO][smbo.py:329] --- Remaining cpu time: inf\n",
      "[INFO][smbo.py:330] --- Remaining trials: 0\n",
      "Mean accuracy: 0.5384615384615384\n",
      "[INFO][abstract_initial_design.py:95] Reducing the number of initial configurations from 50 to 2 (max_ratio == 0.25).\n",
      "[INFO][abstract_initial_design.py:147] Using 2 initial design configurations and 0 additional configurations.\n"
     ]
    },
    {
     "name": "stderr",
     "output_type": "stream",
     "text": [
      "/home/josua/miniconda3_linux/envs/VAE/lib/python3.11/site-packages/sklearn/base.py:486: UserWarning: X has feature names, but KNeighborsClassifier was fitted without feature names\n",
      "  warnings.warn(\n"
     ]
    },
    {
     "name": "stdout",
     "output_type": "stream",
     "text": [
      "[INFO][abstract_intensifier.py:305] Using only one seed for deterministic scenario.\n",
      "[INFO][abstract_intensifier.py:515] Added config e07579 as new incumbent because there are no incumbents yet.\n",
      "[INFO][abstract_intensifier.py:590] Added config f02224 and rejected config e07579 as incumbent because it is not better than the incumbents on 1 instances:\n",
      "[INFO][smbo.py:327] Configuration budget is exhausted:\n",
      "[INFO][smbo.py:328] --- Remaining wallclock time: inf\n",
      "[INFO][smbo.py:329] --- Remaining cpu time: inf\n",
      "[INFO][smbo.py:330] --- Remaining trials: 0\n"
     ]
    },
    {
     "name": "stderr",
     "output_type": "stream",
     "text": [
      "/home/josua/miniconda3_linux/envs/VAE/lib/python3.11/site-packages/sklearn/base.py:486: UserWarning: X has feature names, but KNeighborsClassifier was fitted without feature names\n",
      "  warnings.warn(\n",
      "100%|██████████| 8/8 [04:12<00:00, 31.51s/it]"
     ]
    },
    {
     "name": "stdout",
     "output_type": "stream",
     "text": [
      "Mean accuracy: 0.6923076923076923\n"
     ]
    },
    {
     "name": "stderr",
     "output_type": "stream",
     "text": [
      "\n"
     ]
    },
    {
     "data": {
      "image/png": "[encoded data removed]",
      "text/plain": [
       "<Figure size 640x480 with 2 Axes>"
      ]
     },
     "metadata": {},
     "output_type": "display_data"
    },
    {
     "data": {
      "image/png": "[encoded data removed]",
      "text/plain": [
       "<Figure size 640x480 with 1 Axes>"
      ]
     },
     "metadata": {},
     "output_type": "display_data"
    }
   ],
   "source": [
    "from sklearn.neighbors import KNeighborsClassifier \n",
    "classifier = KNeighborsClassifier\n",
    "algorithm_name = \"Kneighbours classifier\"\n",
    "\n",
    "configuration_space = ConfigurationSpace()\n",
    "hyperparameters = [ \n",
    "                    Constant(\"n_neighbors\",   2),\n",
    "                    Categorical(\"weights\",    [\"uniform\", \"distance\"], default=\"uniform\"),\n",
    "                    Integer(\"leaf_size\",      (10, 100), log=True, default=30),\n",
    "                    Integer(\"p\",              (1, 2), default=2),\n",
    "                    Constant(\"metric\",        \"minkowski\")\n",
    "                  ]\n",
    "configuration_space.add_hyperparameters( hyperparameters ) \n",
    "\n",
    "metrics_df, organism_metrics_df, overall_metrics_df = nested_cross_validate_model_sklearn( X=X, ys=ys, labels=targets, classifier=classifier,\n",
    "                                                                                           configuration_space=configuration_space, n_trials=n_trials,\n",
    "                                                                                           name=name, algorithm_name=algorithm_name, outdir=outdir,\n",
    "                                                                                           fold=StratifiedKFold(n_splits=outer_fold), inner_fold=inner_fold, verbosity=verbosity)\n",
    "\n",
    "plot_metrics_df(metrics_df, organism_metrics_df, overall_metrics_df, algorithm_name, outdir)"
   ]
  },
  {
   "cell_type": "markdown",
   "metadata": {},
   "source": [
    "### Support-Vector Machine"
   ]
  },
  {
   "cell_type": "code",
   "execution_count": 15,
   "metadata": {},
   "outputs": [
    {
     "name": "stderr",
     "output_type": "stream",
     "text": [
      " 38%|███▊      | 3/8 [01:27<02:25, 29.15s/it]"
     ]
    }
   ],
   "source": [
    "from sklearn.svm import SVC \n",
    "classifier = SVC\n",
    "algorithm_name = \"Support-vector classifier\"\n",
    "\n",
    "configuration_space = ConfigurationSpace()\n",
    "hyperparameters = [ \n",
    "                    Float(\"C\",              (0.5, 2.0), default=1.0),\n",
    "                    Categorical(\"kernel\",   [\"linear\", \"poly\", \"rbf\", \"sigmoid\"], default=\"rbf\"),\n",
    "                    Integer(\"degree\",       (2,4), default=3),\n",
    "                    Categorical(\"gamma\",    [\"scale\", \"auto\"]),\n",
    "                    Float(\"coef0\",          (1e-12, 1.0), log=True, default=0.01),\n",
    "                    Constant(\"random_state\", 42),\n",
    "                  ]\n",
    "conditions = [\n",
    "                InCondition(hyperparameters[2], hyperparameters[1], [\"poly\"]),\n",
    "                InCondition(hyperparameters[4], hyperparameters[1], [\"poly\", \"sigmoid\"]),\n",
    "                InCondition(hyperparameters[3], hyperparameters[1], [\"rbf\", \"poly\", \"sigmoid\"])\n",
    "             ]\n",
    "\n",
    "configuration_space.add_hyperparameters( hyperparameters ) \n",
    "configuration_space.add_conditions(conditions)\n",
    "\n",
    "metrics_df, organism_metrics_df, overall_metrics_df = nested_cross_validate_model_sklearn( X=X, ys=ys, labels=targets, classifier=classifier,\n",
    "                                                                                           configuration_space=configuration_space, n_trials=n_trials,\n",
    "                                                                                           name=name, algorithm_name=algorithm_name, outdir=outdir,\n",
    "                                                                                           fold=StratifiedKFold(n_splits=outer_fold), inner_fold=inner_fold, verbosity=verbosity)\n",
    "\n",
    "plot_metrics_df(metrics_df, organism_metrics_df, overall_metrics_df, algorithm_name, outdir)"
   ]
  },
  {
   "cell_type": "markdown",
   "metadata": {},
   "source": [
    "### Gaussian Process Classifier"
   ]
  },
  {
   "cell_type": "code",
   "execution_count": null,
   "metadata": {},
   "outputs": [],
   "source": [
    "from sklearn.gaussian_process import GaussianProcessClassifier\n",
    "classifier = GaussianProcessClassifier\n",
    "algorithm_name = \"Gaussian process classifier\"\n",
    "\n",
    "\n",
    "configuration_space = ConfigurationSpace()\n",
    "hyperparameters = [ \n",
    "                    Constant(\"random_state\", 42),\n",
    "                    Integer(\"max_iter_predict\",   (10, 1000), log=True, default=100),\n",
    "                  ]\n",
    "configuration_space.add_hyperparameters( hyperparameters )\n",
    "\n",
    "metrics_df, organism_metrics_df, overall_metrics_df = nested_cross_validate_model_sklearn( X=X, ys=ys, labels=targets, classifier=classifier,\n",
    "                                                                                           configuration_space=configuration_space, n_trials=n_trials,\n",
    "                                                                                           name=name, algorithm_name=algorithm_name, outdir=outdir,\n",
    "                                                                                           fold=StratifiedKFold(n_splits=outer_fold), inner_fold=inner_fold, verbosity=verbosity)\n",
    "\n",
    "plot_metrics_df(metrics_df, organism_metrics_df, overall_metrics_df, algorithm_name, outdir)"
   ]
  },
  {
   "cell_type": "markdown",
   "metadata": {},
   "source": [
    "### Naive Bayes"
   ]
  },
  {
   "cell_type": "code",
   "execution_count": null,
   "metadata": {},
   "outputs": [],
   "source": [
    "from sklearn.naive_bayes import GaussianNB\n",
    "classifier = GaussianNB\n",
    "algorithm_name = \"Gaussian Naive-Bayes\"\n",
    "\n",
    "configuration_space = ConfigurationSpace()\n",
    "hyperparameters = [ \n",
    "                    Constant(\"var_smoothing\",   1e-9),\n",
    "                  ]\n",
    "configuration_space.add_hyperparameters( hyperparameters )\n",
    "\n",
    "metrics_df, organism_metrics_df, overall_metrics_df = nested_cross_validate_model_sklearn( X=X, ys=ys, labels=targets, classifier=classifier,\n",
    "                                                                                           configuration_space=configuration_space, n_trials=n_trials,\n",
    "                                                                                           name=name, algorithm_name=algorithm_name, outdir=outdir,\n",
    "                                                                                           fold=StratifiedKFold(n_splits=outer_fold), inner_fold=inner_fold, verbosity=verbosity)\n",
    "\n",
    "plot_metrics_df(metrics_df, organism_metrics_df, overall_metrics_df, algorithm_name, outdir)"
   ]
  },
  {
   "cell_type": "code",
   "execution_count": null,
   "metadata": {},
   "outputs": [],
   "source": [
    "from sklearn.naive_bayes import ComplementNB\n",
    "classifier = ComplementNB\n",
    "algorithm_name = \"Complement Naive-Bayes\"\n",
    "\n",
    "configuration_space = ConfigurationSpace()\n",
    "hyperparameters = [ \n",
    "                    Float(\"alpha\",   (0.0, 1.0), log=True, default=1.0),\n",
    "                  ]\n",
    "configuration_space.add_hyperparameters( hyperparameters )\n",
    "\n",
    "metrics_df, organism_metrics_df, overall_metrics_df = nested_cross_validate_model_sklearn( X=X, ys=ys, labels=targets, classifier=classifier,\n",
    "                                                                                           configuration_space=configuration_space, n_trials=n_trials,\n",
    "                                                                                           name=name, algorithm_name=algorithm_name, outdir=outdir,\n",
    "                                                                                           fold=StratifiedKFold(n_splits=outer_fold), inner_fold=inner_fold, verbosity=verbosity)\n",
    "\n",
    "plot_metrics_df(metrics_df, organism_metrics_df, overall_metrics_df, algorithm_name, outdir)"
   ]
  },
  {
   "cell_type": "markdown",
   "metadata": {},
   "source": [
    "### Decision Tree"
   ]
  },
  {
   "cell_type": "code",
   "execution_count": null,
   "metadata": {},
   "outputs": [
    {
     "name": "stdout",
     "output_type": "stream",
     "text": [
      "[INFO][abstract_initial_design.py:95] Reducing the number of initial configurations from 10 to 2 (max_ratio == 0.25).\n",
      "[INFO][abstract_initial_design.py:147] Using 2 initial design configurations and 0 additional configurations.\n",
      "[INFO][abstract_intensifier.py:305] Using only one seed for deterministic scenario.\n",
      "[INFO][abstract_intensifier.py:515] Added config 8f03e1 as new incumbent because there are no incumbents yet.\n",
      "[INFO][smbo.py:327] Configuration budget is exhausted:\n",
      "[INFO][smbo.py:328] --- Remaining wallclock time: inf\n",
      "[INFO][smbo.py:329] --- Remaining cpu time: inf\n",
      "[INFO][smbo.py:330] --- Remaining trials: 0\n"
     ]
    }
   ],
   "source": [
    "from sklearn.tree import DecisionTreeClassifier\n",
    "classifier = DecisionTreeClassifier\n",
    "algorithm_name = \"decision tree\"\n",
    "\n",
    "configuration_space = ConfigurationSpace()\n",
    "ccp_alpha   = Float(\"ccp_alpha\", (1e-3, 1e0), log=True, default=0.01)\n",
    "configuration_space.add_hyperparameters([ccp_alpha])\n",
    "\n",
    "metrics_df, organism_metrics_df, overall_metrics_df = nested_cross_validate_model_sklearn( X=X, ys=ys, labels=targets, classifier=classifier,\n",
    "                                                                                           configuration_space=configuration_space, n_trials=n_trials,\n",
    "                                                                                           name=name, algorithm_name=algorithm_name, outdir=outdir,\n",
    "                                                                                           fold=StratifiedKFold(n_splits=outer_fold), inner_fold=inner_fold, verbosity=verbosity)\n",
    "\n",
    "plot_metrics_df(metrics_df, organism_metrics_df, overall_metrics_df, algorithm_name, outdir)"
   ]
  },
  {
   "cell_type": "markdown",
   "metadata": {},
   "source": [
    "## Random Forest"
   ]
  },
  {
   "cell_type": "markdown",
   "metadata": {},
   "source": [
    "### Standard"
   ]
  },
  {
   "cell_type": "code",
   "execution_count": null,
   "metadata": {},
   "outputs": [
    {
     "name": "stdout",
     "output_type": "stream",
     "text": [
      "[INFO][abstract_initial_design.py:147] Using 30 initial design configurations and 0 additional configurations.\n",
      "[INFO][abstract_intensifier.py:305] Using only one seed for deterministic scenario.\n",
      "[INFO][abstract_intensifier.py:515] Added config fe7927 as new incumbent because there are no incumbents yet.\n",
      "[INFO][smbo.py:319] Finished 50 trials.\n",
      "[INFO][smbo.py:319] Finished 100 trials.\n",
      "[INFO][smbo.py:319] Finished 150 trials.\n",
      "[INFO][smbo.py:319] Finished 200 trials.\n",
      "[INFO][smbo.py:327] Configuration budget is exhausted:\n",
      "[INFO][smbo.py:328] --- Remaining wallclock time: inf\n",
      "[INFO][smbo.py:329] --- Remaining cpu time: inf\n",
      "[INFO][smbo.py:330] --- Remaining trials: 0\n"
     ]
    }
   ],
   "source": [
    "from sklearn.ensemble import RandomForestClassifier\n",
    "\n",
    "configuration_space = ConfigurationSpace()\n",
    "ccp_alpha       = Float(\"ccp_alpha\", (1e-3, 1e-1), log=True, default=0.01)\n",
    "n_estimators    = Integer(\"n_estimators\", (10,1000), log=True, default=100)\n",
    "max_depth       = Integer(\"max_depth\", (5, 100), default=20)\n",
    "configuration_space.add_hyperparameters([ccp_alpha, n_estimators, max_depth])\n",
    "\n",
    "metrics_df, organism_metrics_df, overall_metrics_df = nested_cross_validate_model_sklearn( X=X, ys=ys, labels=targets, classifier=classifier,\n",
    "                                                                                           configuration_space=configuration_space, n_trials=n_trials,\n",
    "                                                                                           name=name, algorithm_name=algorithm_name, outdir=outdir,\n",
    "                                                                                           fold=StratifiedKFold(n_splits=outer_fold), inner_fold=inner_fold, verbosity=verbosity)\n",
    "\n",
    "plot_metrics_df(metrics_df, organism_metrics_df, overall_metrics_df, algorithm_name, outdir)"
   ]
  },
  {
   "cell_type": "markdown",
   "metadata": {},
   "source": [
    "### Gradient Boosting"
   ]
  },
  {
   "cell_type": "markdown",
   "metadata": {},
   "source": [
    "##### Extreme Gradiant Boosting"
   ]
  },
  {
   "cell_type": "code",
   "execution_count": null,
   "metadata": {},
   "outputs": [
    {
     "name": "stdout",
     "output_type": "stream",
     "text": [
      "[INFO][abstract_initial_design.py:95] Reducing the number of initial configurations from 60 to 50 (max_ratio == 0.25).\n",
      "[INFO][abstract_initial_design.py:147] Using 50 initial design configurations and 0 additional configurations.\n",
      "[INFO][abstract_intensifier.py:305] Using only one seed for deterministic scenario.\n",
      "[INFO][abstract_intensifier.py:515] Added config 829f77 as new incumbent because there are no incumbents yet.\n",
      "[INFO][smbo.py:319] Finished 50 trials.\n",
      "[INFO][smbo.py:319] Finished 100 trials.\n",
      "[INFO][smbo.py:319] Finished 150 trials.\n",
      "[INFO][smbo.py:319] Finished 200 trials.\n",
      "[INFO][smbo.py:327] Configuration budget is exhausted:\n",
      "[INFO][smbo.py:328] --- Remaining wallclock time: inf\n",
      "[INFO][smbo.py:329] --- Remaining cpu time: inf\n",
      "[INFO][smbo.py:330] --- Remaining trials: 0\n"
     ]
    }
   ],
   "source": [
    "from xgboost import XGBClassifier\n",
    "\n",
    "configuration_space = ConfigurationSpace()\n",
    "objective           = Constant( \"objective\",            \"binary:logistic\")\n",
    "num_parallel_tree   = Constant( \"num_parallel_tree\",    4)\n",
    "n_estimators        = Integer(  \"n_estimators\",         (10,1000), log=True, default=100)\n",
    "max_depth           = Integer(  \"max_depth\",            (1, 100), default=20)\n",
    "subsample           = Float(    \"subsample\",            (1e-1, 1e0), default=1e0)\n",
    "learning_rate       = Float(    \"learning_rate\",        (1e-2, 5e-1), default=1e-1)\n",
    "configuration_space.add_hyperparameters([objective, num_parallel_tree, n_estimators, max_depth, subsample, learning_rate])\n",
    "\n",
    "metrics_df, organism_metrics_df, overall_metrics_df = nested_cross_validate_model_sklearn( X=X, ys=ys, labels=targets, classifier=classifier,\n",
    "                                                                                           configuration_space=configuration_space, n_trials=n_trials,\n",
    "                                                                                           name=name, algorithm_name=algorithm_name, outdir=outdir,\n",
    "                                                                                           fold=StratifiedKFold(n_splits=outer_fold), inner_fold=inner_fold, verbosity=verbosity)\n",
    "\n",
    "plot_metrics_df(metrics_df, organism_metrics_df, overall_metrics_df, algorithm_name, outdir)"
   ]
  },
  {
   "cell_type": "markdown",
   "metadata": {},
   "source": [
    "### Neural Network"
   ]
  },
  {
   "cell_type": "code",
   "execution_count": null,
   "metadata": {},
   "outputs": [],
   "source": [
    "configuration_space = ConfigurationSpace()\n",
    "max_layers = 8\n",
    "dropout_in = Float(\"dropout_in\", (0.0, 0.9), default=0.5)\n",
    "n_layers = Integer(\"n_layers\", (1, max_layers), default=1)\n",
    "n_neurons = []\n",
    "activations = []\n",
    "dropouts = []\n",
    "for i in range(max_layers):\n",
    "    n_neurons.append(Integer(f\"n_neurons_{i}\", (10, 10000), log=True, default=100))\n",
    "    activations.append( Categorical(f\"activation_{i}\", [\"tanh\", \"relu\", \"leakyrelu\", \"sigmoid\"], default=\"relu\") )\n",
    "    dropouts.append( Categorical(f\"dropout_{i}\", [True, False], default=True) )\n",
    "solver = Constant(\"solver\", \"nadam\")\n",
    "learning_rate = Float(\"learning_rate\", (1e-4, 1e-1), log=True, default=1e-2)\n",
    "\n",
    "hyperparameters = n_neurons + activations + dropouts + [dropout_in, n_layers, solver, learning_rate]\n",
    "configuration_space.add_hyperparameters( hyperparameters )\n",
    "\n",
    "outdir = Path(os.path.normpath(\"/mnt/d/runs/ML/NN/smac\"))\n",
    "\n",
    "metrics_df, organism_metrics_df, overall_metrics_df = nested_cross_validate_model_keras( X, ys, targets, configuration_space=configuration_space, classes=1,\n",
    "                                                                                         fold=StratifiedKFold(n_splits=5), patience=1000, epochs=10000, outdir=outdir,\n",
    "                                                                                         verbosity=0 )\n",
    "\n",
    "plot_metrics_df(metrics_df, organism_metrics_df, overall_metrics_df, algorithm_name, outdir)"
   ]
  },
  {
   "cell_type": "markdown",
   "metadata": {},
   "source": [
    "## Analysis"
   ]
  },
  {
   "cell_type": "code",
   "execution_count": null,
   "metadata": {},
   "outputs": [
    {
     "data": {
      "text/html": [
       "<div>\n",
       "<style scoped>\n",
       "    .dataframe tbody tr th:only-of-type {\n",
       "        vertical-align: middle;\n",
       "    }\n",
       "\n",
       "    .dataframe tbody tr th {\n",
       "        vertical-align: top;\n",
       "    }\n",
       "\n",
       "    .dataframe thead th {\n",
       "        text-align: right;\n",
       "    }\n",
       "</style>\n",
       "<table border=\"1\" class=\"dataframe\">\n",
       "  <thead>\n",
       "    <tr style=\"text-align: right;\">\n",
       "      <th></th>\n",
       "      <th>Organism</th>\n",
       "      <th>Cross-Validation run</th>\n",
       "      <th>Accuracy</th>\n",
       "      <th>AUC</th>\n",
       "      <th>TPR</th>\n",
       "      <th>FPR</th>\n",
       "      <th>Threshold</th>\n",
       "      <th>Conf_Mat</th>\n",
       "    </tr>\n",
       "  </thead>\n",
       "  <tbody>\n",
       "    <tr>\n",
       "      <th>0</th>\n",
       "      <td>C. ramosum</td>\n",
       "      <td>1</td>\n",
       "      <td>0.642857</td>\n",
       "      <td>0.5</td>\n",
       "      <td>[0.0, 1.0]</td>\n",
       "      <td>[0.0, 1.0]</td>\n",
       "      <td>[inf, 1.0]</td>\n",
       "      <td>[[0, 5], [0, 9]]</td>\n",
       "    </tr>\n",
       "    <tr>\n",
       "      <th>1</th>\n",
       "      <td>C. ramosum</td>\n",
       "      <td>2</td>\n",
       "      <td>0.642857</td>\n",
       "      <td>0.5</td>\n",
       "      <td>[0.0, 1.0]</td>\n",
       "      <td>[0.0, 1.0]</td>\n",
       "      <td>[inf, 1.0]</td>\n",
       "      <td>[[0, 5], [0, 9]]</td>\n",
       "    </tr>\n",
       "    <tr>\n",
       "      <th>2</th>\n",
       "      <td>C. ramosum</td>\n",
       "      <td>3</td>\n",
       "      <td>0.642857</td>\n",
       "      <td>0.5</td>\n",
       "      <td>[0.0, 1.0]</td>\n",
       "      <td>[0.0, 1.0]</td>\n",
       "      <td>[inf, 1.0]</td>\n",
       "      <td>[[0, 5], [0, 9]]</td>\n",
       "    </tr>\n",
       "    <tr>\n",
       "      <th>3</th>\n",
       "      <td>C. ramosum</td>\n",
       "      <td>4</td>\n",
       "      <td>0.615385</td>\n",
       "      <td>0.5</td>\n",
       "      <td>[0.0, 1.0]</td>\n",
       "      <td>[0.0, 1.0]</td>\n",
       "      <td>[inf, 1.0]</td>\n",
       "      <td>[[0, 5], [0, 8]]</td>\n",
       "    </tr>\n",
       "    <tr>\n",
       "      <th>4</th>\n",
       "      <td>C. ramosum</td>\n",
       "      <td>5</td>\n",
       "      <td>0.615385</td>\n",
       "      <td>0.5</td>\n",
       "      <td>[0.0, 1.0]</td>\n",
       "      <td>[0.0, 1.0]</td>\n",
       "      <td>[inf, 1.0]</td>\n",
       "      <td>[[0, 5], [0, 8]]</td>\n",
       "    </tr>\n",
       "    <tr>\n",
       "      <th>5</th>\n",
       "      <td>R. gnavus</td>\n",
       "      <td>1</td>\n",
       "      <td>0.642857</td>\n",
       "      <td>0.5</td>\n",
       "      <td>[0.0, 1.0]</td>\n",
       "      <td>[0.0, 1.0]</td>\n",
       "      <td>[inf, 1.0]</td>\n",
       "      <td>[[0, 5], [0, 9]]</td>\n",
       "    </tr>\n",
       "    <tr>\n",
       "      <th>6</th>\n",
       "      <td>R. gnavus</td>\n",
       "      <td>2</td>\n",
       "      <td>0.642857</td>\n",
       "      <td>0.5</td>\n",
       "      <td>[0.0, 1.0]</td>\n",
       "      <td>[0.0, 1.0]</td>\n",
       "      <td>[inf, 1.0]</td>\n",
       "      <td>[[0, 5], [0, 9]]</td>\n",
       "    </tr>\n",
       "    <tr>\n",
       "      <th>7</th>\n",
       "      <td>R. gnavus</td>\n",
       "      <td>3</td>\n",
       "      <td>0.642857</td>\n",
       "      <td>0.5</td>\n",
       "      <td>[0.0, 1.0]</td>\n",
       "      <td>[0.0, 1.0]</td>\n",
       "      <td>[inf, 1.0]</td>\n",
       "      <td>[[0, 5], [0, 9]]</td>\n",
       "    </tr>\n",
       "    <tr>\n",
       "      <th>8</th>\n",
       "      <td>R. gnavus</td>\n",
       "      <td>4</td>\n",
       "      <td>0.615385</td>\n",
       "      <td>0.5</td>\n",
       "      <td>[0.0, 1.0]</td>\n",
       "      <td>[0.0, 1.0]</td>\n",
       "      <td>[inf, 1.0]</td>\n",
       "      <td>[[0, 5], [0, 8]]</td>\n",
       "    </tr>\n",
       "    <tr>\n",
       "      <th>9</th>\n",
       "      <td>R. gnavus</td>\n",
       "      <td>5</td>\n",
       "      <td>0.615385</td>\n",
       "      <td>0.5</td>\n",
       "      <td>[0.0, 1.0]</td>\n",
       "      <td>[0.0, 1.0]</td>\n",
       "      <td>[inf, 1.0]</td>\n",
       "      <td>[[0, 5], [0, 8]]</td>\n",
       "    </tr>\n",
       "    <tr>\n",
       "      <th>10</th>\n",
       "      <td>C. aerofaciens</td>\n",
       "      <td>1</td>\n",
       "      <td>0.642857</td>\n",
       "      <td>0.5</td>\n",
       "      <td>[0.0, 1.0]</td>\n",
       "      <td>[0.0, 1.0]</td>\n",
       "      <td>[inf, 1.0]</td>\n",
       "      <td>[[0, 5], [0, 9]]</td>\n",
       "    </tr>\n",
       "    <tr>\n",
       "      <th>11</th>\n",
       "      <td>C. aerofaciens</td>\n",
       "      <td>2</td>\n",
       "      <td>0.642857</td>\n",
       "      <td>0.5</td>\n",
       "      <td>[0.0, 1.0]</td>\n",
       "      <td>[0.0, 1.0]</td>\n",
       "      <td>[inf, 1.0]</td>\n",
       "      <td>[[0, 5], [0, 9]]</td>\n",
       "    </tr>\n",
       "    <tr>\n",
       "      <th>12</th>\n",
       "      <td>C. aerofaciens</td>\n",
       "      <td>3</td>\n",
       "      <td>0.642857</td>\n",
       "      <td>0.5</td>\n",
       "      <td>[0.0, 1.0]</td>\n",
       "      <td>[0.0, 1.0]</td>\n",
       "      <td>[inf, 1.0]</td>\n",
       "      <td>[[0, 5], [0, 9]]</td>\n",
       "    </tr>\n",
       "    <tr>\n",
       "      <th>13</th>\n",
       "      <td>C. aerofaciens</td>\n",
       "      <td>4</td>\n",
       "      <td>0.615385</td>\n",
       "      <td>0.5</td>\n",
       "      <td>[0.0, 1.0]</td>\n",
       "      <td>[0.0, 1.0]</td>\n",
       "      <td>[inf, 1.0]</td>\n",
       "      <td>[[0, 5], [0, 8]]</td>\n",
       "    </tr>\n",
       "    <tr>\n",
       "      <th>14</th>\n",
       "      <td>C. aerofaciens</td>\n",
       "      <td>5</td>\n",
       "      <td>0.615385</td>\n",
       "      <td>0.5</td>\n",
       "      <td>[0.0, 1.0]</td>\n",
       "      <td>[0.0, 1.0]</td>\n",
       "      <td>[inf, 1.0]</td>\n",
       "      <td>[[0, 5], [0, 8]]</td>\n",
       "    </tr>\n",
       "    <tr>\n",
       "      <th>15</th>\n",
       "      <td>B. thetaiotaomicron</td>\n",
       "      <td>1</td>\n",
       "      <td>0.571429</td>\n",
       "      <td>0.5</td>\n",
       "      <td>[0.0, 1.0]</td>\n",
       "      <td>[0.0, 1.0]</td>\n",
       "      <td>[inf, 0.0]</td>\n",
       "      <td>[[8, 0], [6, 0]]</td>\n",
       "    </tr>\n",
       "    <tr>\n",
       "      <th>16</th>\n",
       "      <td>B. thetaiotaomicron</td>\n",
       "      <td>2</td>\n",
       "      <td>0.571429</td>\n",
       "      <td>0.5</td>\n",
       "      <td>[0.0, 1.0]</td>\n",
       "      <td>[0.0, 1.0]</td>\n",
       "      <td>[inf, 0.0]</td>\n",
       "      <td>[[8, 0], [6, 0]]</td>\n",
       "    </tr>\n",
       "    <tr>\n",
       "      <th>17</th>\n",
       "      <td>B. thetaiotaomicron</td>\n",
       "      <td>3</td>\n",
       "      <td>0.571429</td>\n",
       "      <td>0.5</td>\n",
       "      <td>[0.0, 1.0]</td>\n",
       "      <td>[0.0, 1.0]</td>\n",
       "      <td>[inf, 0.0]</td>\n",
       "      <td>[[8, 0], [6, 0]]</td>\n",
       "    </tr>\n",
       "    <tr>\n",
       "      <th>18</th>\n",
       "      <td>B. thetaiotaomicron</td>\n",
       "      <td>4</td>\n",
       "      <td>0.615385</td>\n",
       "      <td>0.5</td>\n",
       "      <td>[0.0, 1.0]</td>\n",
       "      <td>[0.0, 1.0]</td>\n",
       "      <td>[inf, 0.0]</td>\n",
       "      <td>[[8, 0], [5, 0]]</td>\n",
       "    </tr>\n",
       "    <tr>\n",
       "      <th>19</th>\n",
       "      <td>B. thetaiotaomicron</td>\n",
       "      <td>5</td>\n",
       "      <td>0.615385</td>\n",
       "      <td>0.5</td>\n",
       "      <td>[0.0, 1.0]</td>\n",
       "      <td>[0.0, 1.0]</td>\n",
       "      <td>[inf, 0.0]</td>\n",
       "      <td>[[8, 0], [5, 0]]</td>\n",
       "    </tr>\n",
       "    <tr>\n",
       "      <th>20</th>\n",
       "      <td>B. uniformis</td>\n",
       "      <td>1</td>\n",
       "      <td>0.571429</td>\n",
       "      <td>0.5</td>\n",
       "      <td>[0.0, 1.0]</td>\n",
       "      <td>[0.0, 1.0]</td>\n",
       "      <td>[inf, 0.0]</td>\n",
       "      <td>[[8, 0], [6, 0]]</td>\n",
       "    </tr>\n",
       "    <tr>\n",
       "      <th>21</th>\n",
       "      <td>B. uniformis</td>\n",
       "      <td>2</td>\n",
       "      <td>0.571429</td>\n",
       "      <td>0.5</td>\n",
       "      <td>[0.0, 1.0]</td>\n",
       "      <td>[0.0, 1.0]</td>\n",
       "      <td>[inf, 0.0]</td>\n",
       "      <td>[[8, 0], [6, 0]]</td>\n",
       "    </tr>\n",
       "    <tr>\n",
       "      <th>22</th>\n",
       "      <td>B. uniformis</td>\n",
       "      <td>3</td>\n",
       "      <td>0.571429</td>\n",
       "      <td>0.5</td>\n",
       "      <td>[0.0, 1.0]</td>\n",
       "      <td>[0.0, 1.0]</td>\n",
       "      <td>[inf, 0.0]</td>\n",
       "      <td>[[8, 0], [6, 0]]</td>\n",
       "    </tr>\n",
       "    <tr>\n",
       "      <th>23</th>\n",
       "      <td>B. uniformis</td>\n",
       "      <td>4</td>\n",
       "      <td>0.615385</td>\n",
       "      <td>0.5</td>\n",
       "      <td>[0.0, 1.0]</td>\n",
       "      <td>[0.0, 1.0]</td>\n",
       "      <td>[inf, 0.0]</td>\n",
       "      <td>[[8, 0], [5, 0]]</td>\n",
       "    </tr>\n",
       "    <tr>\n",
       "      <th>24</th>\n",
       "      <td>B. uniformis</td>\n",
       "      <td>5</td>\n",
       "      <td>0.615385</td>\n",
       "      <td>0.5</td>\n",
       "      <td>[0.0, 1.0]</td>\n",
       "      <td>[0.0, 1.0]</td>\n",
       "      <td>[inf, 0.0]</td>\n",
       "      <td>[[8, 0], [5, 0]]</td>\n",
       "    </tr>\n",
       "    <tr>\n",
       "      <th>25</th>\n",
       "      <td>B. vulgatus</td>\n",
       "      <td>1</td>\n",
       "      <td>0.642857</td>\n",
       "      <td>0.5</td>\n",
       "      <td>[0.0, 1.0]</td>\n",
       "      <td>[0.0, 1.0]</td>\n",
       "      <td>[inf, 0.0]</td>\n",
       "      <td>[[9, 0], [5, 0]]</td>\n",
       "    </tr>\n",
       "    <tr>\n",
       "      <th>26</th>\n",
       "      <td>B. vulgatus</td>\n",
       "      <td>2</td>\n",
       "      <td>0.571429</td>\n",
       "      <td>0.5</td>\n",
       "      <td>[0.0, 1.0]</td>\n",
       "      <td>[0.0, 1.0]</td>\n",
       "      <td>[inf, 0.0]</td>\n",
       "      <td>[[8, 0], [6, 0]]</td>\n",
       "    </tr>\n",
       "    <tr>\n",
       "      <th>27</th>\n",
       "      <td>B. vulgatus</td>\n",
       "      <td>3</td>\n",
       "      <td>0.571429</td>\n",
       "      <td>0.5</td>\n",
       "      <td>[0.0, 1.0]</td>\n",
       "      <td>[0.0, 1.0]</td>\n",
       "      <td>[inf, 0.0]</td>\n",
       "      <td>[[8, 0], [6, 0]]</td>\n",
       "    </tr>\n",
       "    <tr>\n",
       "      <th>28</th>\n",
       "      <td>B. vulgatus</td>\n",
       "      <td>4</td>\n",
       "      <td>0.615385</td>\n",
       "      <td>0.5</td>\n",
       "      <td>[0.0, 1.0]</td>\n",
       "      <td>[0.0, 1.0]</td>\n",
       "      <td>[inf, 0.0]</td>\n",
       "      <td>[[8, 0], [5, 0]]</td>\n",
       "    </tr>\n",
       "    <tr>\n",
       "      <th>29</th>\n",
       "      <td>B. vulgatus</td>\n",
       "      <td>5</td>\n",
       "      <td>0.615385</td>\n",
       "      <td>0.5</td>\n",
       "      <td>[0.0, 1.0]</td>\n",
       "      <td>[0.0, 1.0]</td>\n",
       "      <td>[inf, 0.0]</td>\n",
       "      <td>[[8, 0], [5, 0]]</td>\n",
       "    </tr>\n",
       "    <tr>\n",
       "      <th>30</th>\n",
       "      <td>F. nucleatum</td>\n",
       "      <td>1</td>\n",
       "      <td>0.642857</td>\n",
       "      <td>0.5</td>\n",
       "      <td>[0.0, 1.0]</td>\n",
       "      <td>[0.0, 1.0]</td>\n",
       "      <td>[inf, 1.0]</td>\n",
       "      <td>[[0, 5], [0, 9]]</td>\n",
       "    </tr>\n",
       "    <tr>\n",
       "      <th>31</th>\n",
       "      <td>F. nucleatum</td>\n",
       "      <td>2</td>\n",
       "      <td>0.642857</td>\n",
       "      <td>0.5</td>\n",
       "      <td>[0.0, 1.0]</td>\n",
       "      <td>[0.0, 1.0]</td>\n",
       "      <td>[inf, 1.0]</td>\n",
       "      <td>[[0, 5], [0, 9]]</td>\n",
       "    </tr>\n",
       "    <tr>\n",
       "      <th>32</th>\n",
       "      <td>F. nucleatum</td>\n",
       "      <td>3</td>\n",
       "      <td>0.642857</td>\n",
       "      <td>0.5</td>\n",
       "      <td>[0.0, 1.0]</td>\n",
       "      <td>[0.0, 1.0]</td>\n",
       "      <td>[inf, 1.0]</td>\n",
       "      <td>[[0, 5], [0, 9]]</td>\n",
       "    </tr>\n",
       "    <tr>\n",
       "      <th>33</th>\n",
       "      <td>F. nucleatum</td>\n",
       "      <td>4</td>\n",
       "      <td>0.615385</td>\n",
       "      <td>0.5</td>\n",
       "      <td>[0.0, 1.0]</td>\n",
       "      <td>[0.0, 1.0]</td>\n",
       "      <td>[inf, 1.0]</td>\n",
       "      <td>[[0, 5], [0, 8]]</td>\n",
       "    </tr>\n",
       "    <tr>\n",
       "      <th>34</th>\n",
       "      <td>F. nucleatum</td>\n",
       "      <td>5</td>\n",
       "      <td>0.615385</td>\n",
       "      <td>0.5</td>\n",
       "      <td>[0.0, 1.0]</td>\n",
       "      <td>[0.0, 1.0]</td>\n",
       "      <td>[inf, 1.0]</td>\n",
       "      <td>[[0, 5], [0, 8]]</td>\n",
       "    </tr>\n",
       "    <tr>\n",
       "      <th>35</th>\n",
       "      <td>R. intestinalis</td>\n",
       "      <td>1</td>\n",
       "      <td>0.642857</td>\n",
       "      <td>0.5</td>\n",
       "      <td>[0.0, 1.0]</td>\n",
       "      <td>[0.0, 1.0]</td>\n",
       "      <td>[inf, 1.0]</td>\n",
       "      <td>[[0, 5], [0, 9]]</td>\n",
       "    </tr>\n",
       "    <tr>\n",
       "      <th>36</th>\n",
       "      <td>R. intestinalis</td>\n",
       "      <td>2</td>\n",
       "      <td>0.642857</td>\n",
       "      <td>0.5</td>\n",
       "      <td>[0.0, 1.0]</td>\n",
       "      <td>[0.0, 1.0]</td>\n",
       "      <td>[inf, 1.0]</td>\n",
       "      <td>[[0, 5], [0, 9]]</td>\n",
       "    </tr>\n",
       "    <tr>\n",
       "      <th>37</th>\n",
       "      <td>R. intestinalis</td>\n",
       "      <td>3</td>\n",
       "      <td>0.642857</td>\n",
       "      <td>0.5</td>\n",
       "      <td>[0.0, 1.0]</td>\n",
       "      <td>[0.0, 1.0]</td>\n",
       "      <td>[inf, 1.0]</td>\n",
       "      <td>[[0, 5], [0, 9]]</td>\n",
       "    </tr>\n",
       "    <tr>\n",
       "      <th>38</th>\n",
       "      <td>R. intestinalis</td>\n",
       "      <td>4</td>\n",
       "      <td>0.615385</td>\n",
       "      <td>0.5</td>\n",
       "      <td>[0.0, 1.0]</td>\n",
       "      <td>[0.0, 1.0]</td>\n",
       "      <td>[inf, 1.0]</td>\n",
       "      <td>[[0, 5], [0, 8]]</td>\n",
       "    </tr>\n",
       "    <tr>\n",
       "      <th>39</th>\n",
       "      <td>R. intestinalis</td>\n",
       "      <td>5</td>\n",
       "      <td>0.615385</td>\n",
       "      <td>0.5</td>\n",
       "      <td>[0.0, 1.0]</td>\n",
       "      <td>[0.0, 1.0]</td>\n",
       "      <td>[inf, 1.0]</td>\n",
       "      <td>[[0, 5], [0, 8]]</td>\n",
       "    </tr>\n",
       "  </tbody>\n",
       "</table>\n",
       "</div>"
      ],
      "text/plain": [
       "               Organism  Cross-Validation run  Accuracy  AUC         TPR  \\\n",
       "0            C. ramosum                     1  0.642857  0.5  [0.0, 1.0]   \n",
       "1            C. ramosum                     2  0.642857  0.5  [0.0, 1.0]   \n",
       "2            C. ramosum                     3  0.642857  0.5  [0.0, 1.0]   \n",
       "3            C. ramosum                     4  0.615385  0.5  [0.0, 1.0]   \n",
       "4            C. ramosum                     5  0.615385  0.5  [0.0, 1.0]   \n",
       "5             R. gnavus                     1  0.642857  0.5  [0.0, 1.0]   \n",
       "6             R. gnavus                     2  0.642857  0.5  [0.0, 1.0]   \n",
       "7             R. gnavus                     3  0.642857  0.5  [0.0, 1.0]   \n",
       "8             R. gnavus                     4  0.615385  0.5  [0.0, 1.0]   \n",
       "9             R. gnavus                     5  0.615385  0.5  [0.0, 1.0]   \n",
       "10       C. aerofaciens                     1  0.642857  0.5  [0.0, 1.0]   \n",
       "11       C. aerofaciens                     2  0.642857  0.5  [0.0, 1.0]   \n",
       "12       C. aerofaciens                     3  0.642857  0.5  [0.0, 1.0]   \n",
       "13       C. aerofaciens                     4  0.615385  0.5  [0.0, 1.0]   \n",
       "14       C. aerofaciens                     5  0.615385  0.5  [0.0, 1.0]   \n",
       "15  B. thetaiotaomicron                     1  0.571429  0.5  [0.0, 1.0]   \n",
       "16  B. thetaiotaomicron                     2  0.571429  0.5  [0.0, 1.0]   \n",
       "17  B. thetaiotaomicron                     3  0.571429  0.5  [0.0, 1.0]   \n",
       "18  B. thetaiotaomicron                     4  0.615385  0.5  [0.0, 1.0]   \n",
       "19  B. thetaiotaomicron                     5  0.615385  0.5  [0.0, 1.0]   \n",
       "20         B. uniformis                     1  0.571429  0.5  [0.0, 1.0]   \n",
       "21         B. uniformis                     2  0.571429  0.5  [0.0, 1.0]   \n",
       "22         B. uniformis                     3  0.571429  0.5  [0.0, 1.0]   \n",
       "23         B. uniformis                     4  0.615385  0.5  [0.0, 1.0]   \n",
       "24         B. uniformis                     5  0.615385  0.5  [0.0, 1.0]   \n",
       "25          B. vulgatus                     1  0.642857  0.5  [0.0, 1.0]   \n",
       "26          B. vulgatus                     2  0.571429  0.5  [0.0, 1.0]   \n",
       "27          B. vulgatus                     3  0.571429  0.5  [0.0, 1.0]   \n",
       "28          B. vulgatus                     4  0.615385  0.5  [0.0, 1.0]   \n",
       "29          B. vulgatus                     5  0.615385  0.5  [0.0, 1.0]   \n",
       "30         F. nucleatum                     1  0.642857  0.5  [0.0, 1.0]   \n",
       "31         F. nucleatum                     2  0.642857  0.5  [0.0, 1.0]   \n",
       "32         F. nucleatum                     3  0.642857  0.5  [0.0, 1.0]   \n",
       "33         F. nucleatum                     4  0.615385  0.5  [0.0, 1.0]   \n",
       "34         F. nucleatum                     5  0.615385  0.5  [0.0, 1.0]   \n",
       "35     R. intestinalis                      1  0.642857  0.5  [0.0, 1.0]   \n",
       "36     R. intestinalis                      2  0.642857  0.5  [0.0, 1.0]   \n",
       "37     R. intestinalis                      3  0.642857  0.5  [0.0, 1.0]   \n",
       "38     R. intestinalis                      4  0.615385  0.5  [0.0, 1.0]   \n",
       "39     R. intestinalis                      5  0.615385  0.5  [0.0, 1.0]   \n",
       "\n",
       "           FPR   Threshold          Conf_Mat  \n",
       "0   [0.0, 1.0]  [inf, 1.0]  [[0, 5], [0, 9]]  \n",
       "1   [0.0, 1.0]  [inf, 1.0]  [[0, 5], [0, 9]]  \n",
       "2   [0.0, 1.0]  [inf, 1.0]  [[0, 5], [0, 9]]  \n",
       "3   [0.0, 1.0]  [inf, 1.0]  [[0, 5], [0, 8]]  \n",
       "4   [0.0, 1.0]  [inf, 1.0]  [[0, 5], [0, 8]]  \n",
       "5   [0.0, 1.0]  [inf, 1.0]  [[0, 5], [0, 9]]  \n",
       "6   [0.0, 1.0]  [inf, 1.0]  [[0, 5], [0, 9]]  \n",
       "7   [0.0, 1.0]  [inf, 1.0]  [[0, 5], [0, 9]]  \n",
       "8   [0.0, 1.0]  [inf, 1.0]  [[0, 5], [0, 8]]  \n",
       "9   [0.0, 1.0]  [inf, 1.0]  [[0, 5], [0, 8]]  \n",
       "10  [0.0, 1.0]  [inf, 1.0]  [[0, 5], [0, 9]]  \n",
       "11  [0.0, 1.0]  [inf, 1.0]  [[0, 5], [0, 9]]  \n",
       "12  [0.0, 1.0]  [inf, 1.0]  [[0, 5], [0, 9]]  \n",
       "13  [0.0, 1.0]  [inf, 1.0]  [[0, 5], [0, 8]]  \n",
       "14  [0.0, 1.0]  [inf, 1.0]  [[0, 5], [0, 8]]  \n",
       "15  [0.0, 1.0]  [inf, 0.0]  [[8, 0], [6, 0]]  \n",
       "16  [0.0, 1.0]  [inf, 0.0]  [[8, 0], [6, 0]]  \n",
       "17  [0.0, 1.0]  [inf, 0.0]  [[8, 0], [6, 0]]  \n",
       "18  [0.0, 1.0]  [inf, 0.0]  [[8, 0], [5, 0]]  \n",
       "19  [0.0, 1.0]  [inf, 0.0]  [[8, 0], [5, 0]]  \n",
       "20  [0.0, 1.0]  [inf, 0.0]  [[8, 0], [6, 0]]  \n",
       "21  [0.0, 1.0]  [inf, 0.0]  [[8, 0], [6, 0]]  \n",
       "22  [0.0, 1.0]  [inf, 0.0]  [[8, 0], [6, 0]]  \n",
       "23  [0.0, 1.0]  [inf, 0.0]  [[8, 0], [5, 0]]  \n",
       "24  [0.0, 1.0]  [inf, 0.0]  [[8, 0], [5, 0]]  \n",
       "25  [0.0, 1.0]  [inf, 0.0]  [[9, 0], [5, 0]]  \n",
       "26  [0.0, 1.0]  [inf, 0.0]  [[8, 0], [6, 0]]  \n",
       "27  [0.0, 1.0]  [inf, 0.0]  [[8, 0], [6, 0]]  \n",
       "28  [0.0, 1.0]  [inf, 0.0]  [[8, 0], [5, 0]]  \n",
       "29  [0.0, 1.0]  [inf, 0.0]  [[8, 0], [5, 0]]  \n",
       "30  [0.0, 1.0]  [inf, 1.0]  [[0, 5], [0, 9]]  \n",
       "31  [0.0, 1.0]  [inf, 1.0]  [[0, 5], [0, 9]]  \n",
       "32  [0.0, 1.0]  [inf, 1.0]  [[0, 5], [0, 9]]  \n",
       "33  [0.0, 1.0]  [inf, 1.0]  [[0, 5], [0, 8]]  \n",
       "34  [0.0, 1.0]  [inf, 1.0]  [[0, 5], [0, 8]]  \n",
       "35  [0.0, 1.0]  [inf, 1.0]  [[0, 5], [0, 9]]  \n",
       "36  [0.0, 1.0]  [inf, 1.0]  [[0, 5], [0, 9]]  \n",
       "37  [0.0, 1.0]  [inf, 1.0]  [[0, 5], [0, 9]]  \n",
       "38  [0.0, 1.0]  [inf, 1.0]  [[0, 5], [0, 8]]  \n",
       "39  [0.0, 1.0]  [inf, 1.0]  [[0, 5], [0, 8]]  "
      ]
     },
     "execution_count": 28,
     "metadata": {},
     "output_type": "execute_result"
    }
   ],
   "source": [
    "metrics_df"
   ]
  },
  {
   "cell_type": "markdown",
   "metadata": {},
   "source": [
    "### DT depiction"
   ]
  },
  {
   "cell_type": "code",
   "execution_count": null,
   "metadata": {},
   "outputs": [
    {
     "ename": "NameError",
     "evalue": "name 'DecisionTreeClassifier' is not defined",
     "output_type": "error",
     "traceback": [
      "\u001b[1;31m---------------------------------------------------------------------------\u001b[0m",
      "\u001b[1;31mNameError\u001b[0m                                 Traceback (most recent call last)",
      "Cell \u001b[1;32mIn[169], line 1\u001b[0m\n\u001b[1;32m----> 1\u001b[0m model \u001b[38;5;241m=\u001b[39m \u001b[43mDecisionTreeClassifier\u001b[49m(random_state\u001b[38;5;241m=\u001b[39m\u001b[38;5;241m42\u001b[39m)\n\u001b[0;32m      3\u001b[0m \u001b[38;5;66;03m# for i, estimator in enumerate(model.estimators_):\u001b[39;00m\n\u001b[0;32m      4\u001b[0m \u001b[38;5;28;01mfor\u001b[39;00m i, s \u001b[38;5;129;01min\u001b[39;00m \u001b[38;5;28menumerate\u001b[39m(strains):\n",
      "\u001b[1;31mNameError\u001b[0m: name 'DecisionTreeClassifier' is not defined"
     ]
    }
   ],
   "source": [
    "model = DecisionTreeClassifier(random_state=42)\n",
    "\n",
    "# for i, estimator in enumerate(model.estimators_):\n",
    "for i, s in enumerate(strains):\n",
    "    model.fit(latent_space.transpose(),ys.transpose()[i])\n",
    "    plot_decision_trees(model=model, feature_names=X.index, class_names=[\"absent\", s], outdir=outdir, name=f\"decisiontree/tree_{s}{suffix}\")"
   ]
  },
  {
   "cell_type": "markdown",
   "metadata": {},
   "source": [
    "### Feature importance"
   ]
  },
  {
   "cell_type": "code",
   "execution_count": null,
   "metadata": {},
   "outputs": [],
   "source": [
    "feature_importances = {}\n",
    "for i, s in enumerate(strains[\"0\"]):\n",
    "    model = XGBClassifier(**best_hp)\n",
    "    model.fit(X.values, ys[f\"{i}\"])\n",
    "    feature_importances[s] = model.feature_importances_\n",
    "\n",
    "    imp_feat = feature_importances.get(s) > 0.1\n",
    "\n",
    "    plt.bar(X.columns[imp_feat], feature_importances.get(s)[imp_feat])\n",
    "    plt.savefig(f\"../../reports/ML/XGBoost/important_features_{s}_3_strict.png\")\n",
    "    plt.close()"
   ]
  },
  {
   "cell_type": "code",
   "execution_count": null,
   "metadata": {},
   "outputs": [],
   "source": [
    "feat_imp_df = pd.DataFrame(feature_importances, index=X.columns)\n",
    "feat_imp_df.to_csv(\"../../reports/ML/XGBoost/feature_importance_2.tsv\", sep=\"\\t\")"
   ]
  },
  {
   "cell_type": "code",
   "execution_count": null,
   "metadata": {},
   "outputs": [
    {
     "data": {
      "text/plain": [
       "metNames\n",
       "Palmitoylethanolamide[M+H]+\\n3-Dehydrosphinganine[M+H]+\\nSphingosine[M+H]    0.719717\n",
       "Name: B. vulgatus, dtype: float32"
      ]
     },
     "execution_count": 60,
     "metadata": {},
     "output_type": "execute_result"
    }
   ],
   "source": [
    "feat_imp_df[\"B. vulgatus\"].loc[feat_imp_df[\"B. vulgatus\"].max() == feat_imp_df[\"B. vulgatus\"]]"
   ]
  },
  {
   "cell_type": "code",
   "execution_count": null,
   "metadata": {},
   "outputs": [
    {
     "data": {
      "text/html": [
       "<div>\n",
       "<style scoped>\n",
       "    .dataframe tbody tr th:only-of-type {\n",
       "        vertical-align: middle;\n",
       "    }\n",
       "\n",
       "    .dataframe tbody tr th {\n",
       "        vertical-align: top;\n",
       "    }\n",
       "\n",
       "    .dataframe thead th {\n",
       "        text-align: right;\n",
       "    }\n",
       "</style>\n",
       "<table border=\"1\" class=\"dataframe\">\n",
       "  <thead>\n",
       "    <tr style=\"text-align: right;\">\n",
       "      <th></th>\n",
       "      <th>0</th>\n",
       "    </tr>\n",
       "  </thead>\n",
       "  <tbody>\n",
       "    <tr>\n",
       "      <th>0</th>\n",
       "      <td>C. ramosum</td>\n",
       "    </tr>\n",
       "    <tr>\n",
       "      <th>1</th>\n",
       "      <td>R. gnavus</td>\n",
       "    </tr>\n",
       "    <tr>\n",
       "      <th>2</th>\n",
       "      <td>C. aerofaciens</td>\n",
       "    </tr>\n",
       "    <tr>\n",
       "      <th>3</th>\n",
       "      <td>B. thetaiotaomicron</td>\n",
       "    </tr>\n",
       "    <tr>\n",
       "      <th>4</th>\n",
       "      <td>B. uniformis</td>\n",
       "    </tr>\n",
       "    <tr>\n",
       "      <th>5</th>\n",
       "      <td>B. vulgatus</td>\n",
       "    </tr>\n",
       "    <tr>\n",
       "      <th>6</th>\n",
       "      <td>F. nucleatum</td>\n",
       "    </tr>\n",
       "    <tr>\n",
       "      <th>7</th>\n",
       "      <td>R. intestinalis</td>\n",
       "    </tr>\n",
       "  </tbody>\n",
       "</table>\n",
       "</div>"
      ],
      "text/plain": [
       "                     0\n",
       "0           C. ramosum\n",
       "1            R. gnavus\n",
       "2       C. aerofaciens\n",
       "3  B. thetaiotaomicron\n",
       "4         B. uniformis\n",
       "5          B. vulgatus\n",
       "6         F. nucleatum\n",
       "7     R. intestinalis "
      ]
     },
     "execution_count": 62,
     "metadata": {},
     "output_type": "execute_result"
    }
   ],
   "source": [
    "strains"
   ]
  },
  {
   "cell_type": "code",
   "execution_count": null,
   "metadata": {},
   "outputs": [],
   "source": []
  }
 ],
 "metadata": {
  "kernelspec": {
   "display_name": "Python 3",
   "language": "python",
   "name": "python3"
  },
  "language_info": {
   "codemirror_mode": {
    "name": "ipython",
    "version": 3
   },
   "file_extension": ".py",
   "mimetype": "text/x-python",
   "name": "python",
   "nbconvert_exporter": "python",
   "pygments_lexer": "ipython3",
   "version": "3.11.8"
  }
 },
 "nbformat": 4,
 "nbformat_minor": 2
}
