{
 "cells": [
  {
   "cell_type": "code",
   "execution_count": 1,
   "metadata": {},
   "outputs": [],
   "source": [
    "import sys\n",
    "import itertools\n",
    "import shutil\n",
    "\n",
    "sys.path.append(\"..\")\n",
    "from FIA.FIA import *"
   ]
  },
  {
   "cell_type": "code",
   "execution_count": null,
   "metadata": {},
   "outputs": [],
   "source": [
    "paths = {\"start\":   [\"/mnt/d/runs/FIA/\"],\n",
    "         \"sub\":     [\"all\"], #[\"Com8_equal_conc_comb\", \"Com8_grown_together\", \"Com20_repl\", \"Com20_single\", \"Com20_val\", \"Sampled_Coms\"],\n",
    "         \"subsub\":  [\"merged\"] }\n",
    "path_combs = [os.path.join(*path) for path in itertools.product(*paths.values())]\n",
    "outpath = \"/mnt/d/runs/FIA/all\""
   ]
  },
  {
   "cell_type": "code",
   "execution_count": null,
   "metadata": {},
   "outputs": [],
   "source": [
    "binned_dfs = pd.DataFrame()\n",
    "for path in path_combs:\n",
    "    print(f\"Path: {path}\")\n",
    "    binned_df = pd.read_csv(os.path.join(path, \"data_matrix.tsv\"), sep=\"\\t\")\n",
    "    binned_dfs = pd.concat(binned_dfs, binned_df)\n",
    "binned_dfs.to_csv(os.path.join(outpath, \"data_matrix.tsv\"), sep=\"\\t\")"
   ]
  }
 ],
 "metadata": {
  "kernelspec": {
   "display_name": "VAE",
   "language": "python",
   "name": "python3"
  },
  "language_info": {
   "codemirror_mode": {
    "name": "ipython",
    "version": 3
   },
   "file_extension": ".py",
   "mimetype": "text/x-python",
   "name": "python",
   "nbconvert_exporter": "python",
   "pygments_lexer": "ipython3",
   "version": "3.11.8"
  }
 },
 "nbformat": 4,
 "nbformat_minor": 2
}
