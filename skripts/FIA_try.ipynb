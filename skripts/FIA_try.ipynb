{
 "cells": [
  {
   "cell_type": "code",
   "execution_count": 4,
   "metadata": {
    "ExecuteTime": {
     "end_time": "2024-01-24T17:26:04.331182945Z",
     "start_time": "2024-01-24T17:26:01.402929478Z"
    }
   },
   "outputs": [],
   "source": [
    "# Imports\n",
    "import os\n",
    "import datetime\n",
    "import json\n",
    "from numpy import *\n",
    "import pandas as pd\n",
    "import pyopenms as oms\n",
    "import matplotlib.pyplot as plt\n",
    "import seaborn as sns\n",
    "import plotly.graph_objects as go\n",
    "import plotly.express as px\n",
    "from tqdm import tqdm\n",
    "\n",
    "# Ignore seaborn warning for future deprecation of module part\n",
    "import warnings\n",
    "warnings.simplefilter(action='ignore', category=FutureWarning)\n",
    "\n",
    "# import methods from FIA python script\n",
    "from FIA import *"
   ]
  },
  {
   "cell_type": "markdown",
   "metadata": {},
   "source": [
    "## Loading\n",
    "Reads in files"
   ]
  },
  {
   "cell_type": "code",
   "execution_count": 49,
   "metadata": {
    "ExecuteTime": {
     "end_time": "2024-01-24T17:08:28.423346775Z",
     "start_time": "2024-01-24T17:08:28.371566080Z"
    }
   },
   "outputs": [],
   "source": [
    "experiment_path = \"../data/example data/exampleA_ecolistrains/mg1655_P3-A8_neg.mzXML\"\n",
    "experiment = read_mzxml(experiment_path)"
   ]
  },
  {
   "cell_type": "markdown",
   "metadata": {},
   "source": [
    "## Data preparation"
   ]
  },
  {
   "cell_type": "markdown",
   "metadata": {},
   "source": [
    "### Limit spectrum\n",
    "Limits range and size by subsampling"
   ]
  },
  {
   "cell_type": "code",
   "execution_count": 50,
   "metadata": {
    "ExecuteTime": {
     "end_time": "2024-01-24T17:08:28.427834673Z",
     "start_time": "2024-01-24T17:08:28.378174061Z"
    }
   },
   "outputs": [],
   "source": [
    "# lim_exp = limit_experiment(experiment, 51, 1699, 10**6, deepcopy=True)"
   ]
  },
  {
   "cell_type": "code",
   "execution_count": 51,
   "metadata": {
    "ExecuteTime": {
     "end_time": "2024-01-24T17:08:28.518965236Z",
     "start_time": "2024-01-24T17:08:28.389944931Z"
    }
   },
   "outputs": [],
   "source": [
    "# quick_plot(spectrum=lim_exp[0], xlim=[60.975, 61.04], plottype=\"line\")"
   ]
  },
  {
   "cell_type": "markdown",
   "metadata": {},
   "source": [
    "### Smoothing\n",
    "Can reduce noise, if peaks are non-Gaussian"
   ]
  },
  {
   "cell_type": "code",
   "execution_count": 52,
   "metadata": {
    "ExecuteTime": {
     "end_time": "2024-01-24T17:08:28.522515768Z",
     "start_time": "2024-01-24T17:08:28.402081576Z"
    }
   },
   "outputs": [],
   "source": [
    "# smooth_exp = smooth_spectra(lim_exp, 0.01, deepcopy=True)"
   ]
  },
  {
   "cell_type": "code",
   "execution_count": 53,
   "metadata": {
    "ExecuteTime": {
     "end_time": "2024-01-24T17:08:28.583071915Z",
     "start_time": "2024-01-24T17:08:28.410378208Z"
    }
   },
   "outputs": [],
   "source": [
    "# quick_plot(spectrum=smooth_exp[0], xlim=[60.975, 61.04], plottype=\"line\")"
   ]
  },
  {
   "cell_type": "markdown",
   "metadata": {},
   "source": [
    "$\\Rightarrow$ Smoothing not needed, as peaks are sufficently on point and approximately gaussian in distribution"
   ]
  },
  {
   "cell_type": "markdown",
   "metadata": {},
   "source": [
    "### Centroiding\n",
    "Reduces data, while retaining peaks"
   ]
  },
  {
   "cell_type": "code",
   "execution_count": 54,
   "metadata": {
    "ExecuteTime": {
     "end_time": "2024-01-24T17:08:28.610389552Z",
     "start_time": "2024-01-24T17:08:28.450632597Z"
    }
   },
   "outputs": [],
   "source": [
    "# quick_plot(spectrum=smooth_exp[0], xlim=[60.975, 61.04], plottype=\"scatter\")"
   ]
  },
  {
   "cell_type": "code",
   "execution_count": 55,
   "metadata": {
    "ExecuteTime": {
     "end_time": "2024-01-24T17:08:40.788296031Z",
     "start_time": "2024-01-24T17:08:40.075738198Z"
    }
   },
   "outputs": [],
   "source": [
    "centroid_exp = centroid_experiment(experiment, deepcopy=True)"
   ]
  },
  {
   "cell_type": "code",
   "execution_count": 56,
   "metadata": {
    "ExecuteTime": {
     "end_time": "2024-01-24T17:08:42.440372393Z",
     "start_time": "2024-01-24T17:08:42.423664976Z"
    }
   },
   "outputs": [],
   "source": [
    "oms.MzMLFile().store(\"../runs/centroided_experiment.MzML\", centroid_exp)"
   ]
  },
  {
   "cell_type": "code",
   "execution_count": 57,
   "metadata": {
    "ExecuteTime": {
     "end_time": "2024-01-24T17:08:42.455979989Z",
     "start_time": "2024-01-24T17:08:42.432334693Z"
    }
   },
   "outputs": [],
   "source": [
    "# quick_plot(spectrum=centroid_exp[0], xlim=[60.975, 61.04], plottype=\"scatter\")"
   ]
  },
  {
   "cell_type": "markdown",
   "metadata": {},
   "source": [
    "### Merging\n",
    "Merging spectra in a specified retention time can increase detection"
   ]
  },
  {
   "cell_type": "code",
   "execution_count": 58,
   "metadata": {
    "ExecuteTime": {
     "end_time": "2024-01-24T17:08:42.511135525Z",
     "start_time": "2024-01-24T17:08:42.444570052Z"
    }
   },
   "outputs": [],
   "source": [
    "# quick_plot(spectrum=centroid_exp[0])"
   ]
  },
  {
   "cell_type": "code",
   "execution_count": 59,
   "metadata": {
    "ExecuteTime": {
     "end_time": "2024-01-24T17:08:42.514911835Z",
     "start_time": "2024-01-24T17:08:42.476730507Z"
    }
   },
   "outputs": [],
   "source": [
    "# merge_exp = merge_spectra(centroid_exp, block_size=centroid_exp.getNrSpectra(), deepcopy=True)"
   ]
  },
  {
   "cell_type": "code",
   "execution_count": 60,
   "metadata": {
    "ExecuteTime": {
     "end_time": "2024-01-24T17:08:42.631065697Z",
     "start_time": "2024-01-24T17:08:42.482535592Z"
    }
   },
   "outputs": [],
   "source": [
    "# quick_plot(spectrum=merge_exp[0])"
   ]
  },
  {
   "cell_type": "markdown",
   "metadata": {},
   "source": [
    "### Normalization\n",
    "Useful to compare peaks over spectra"
   ]
  },
  {
   "cell_type": "code",
   "execution_count": 61,
   "metadata": {
    "ExecuteTime": {
     "end_time": "2024-01-24T17:08:42.639991138Z",
     "start_time": "2024-01-24T17:08:42.524122048Z"
    }
   },
   "outputs": [],
   "source": [
    "# norm_exp = normalize_spectra(merge_exp, deepcopy=True)"
   ]
  },
  {
   "cell_type": "code",
   "execution_count": 62,
   "metadata": {
    "ExecuteTime": {
     "end_time": "2024-01-24T17:08:42.643545606Z",
     "start_time": "2024-01-24T17:08:42.524424243Z"
    }
   },
   "outputs": [],
   "source": [
    "# quick_plot(spectrum=norm_exp[0], plottype=\"line\")"
   ]
  },
  {
   "cell_type": "markdown",
   "metadata": {},
   "source": [
    "### De-isotoping\n",
    "Adjusting mass/charge-ratio (m/z) for charge and isotopes"
   ]
  },
  {
   "cell_type": "code",
   "execution_count": 63,
   "metadata": {
    "ExecuteTime": {
     "end_time": "2024-01-24T17:08:42.661872051Z",
     "start_time": "2024-01-24T17:08:42.524773169Z"
    }
   },
   "outputs": [],
   "source": [
    "# dynamic_plot(norm_exp)"
   ]
  },
  {
   "cell_type": "code",
   "execution_count": 64,
   "metadata": {
    "ExecuteTime": {
     "end_time": "2024-01-24T17:08:42.666179974Z",
     "start_time": "2024-01-24T17:08:42.540668744Z"
    }
   },
   "outputs": [],
   "source": [
    "#deisotop_exp = deisotope_experiment(norm_exp,\n",
    "#                                    fragment_tolerance=0.1, fragment_unit_ppm=False, min_charge=1, max_charge=1,\n",
    "#                                    keep_only_deisotoped=True, min_isopeaks=2, max_isopeaks=5, make_single_charged=True, annotate_charge=True,\n",
    "#                                    annotate_iso_peak_count=True, use_decreasing_model=True, start_intensity_check=False, add_up_intensity=False,\n",
    "#                                    deepcopy=True)"
   ]
  },
  {
   "cell_type": "code",
   "execution_count": 65,
   "metadata": {
    "ExecuteTime": {
     "end_time": "2024-01-24T17:08:42.671585719Z",
     "start_time": "2024-01-24T17:08:42.587229331Z"
    }
   },
   "outputs": [],
   "source": [
    "# dynamic_plot(deisotop_exp)"
   ]
  },
  {
   "cell_type": "markdown",
   "metadata": {},
   "source": [
    "### Merging positive & negative spectra"
   ]
  },
  {
   "cell_type": "code",
   "execution_count": 66,
   "metadata": {
    "ExecuteTime": {
     "end_time": "2024-01-24T17:08:42.693426038Z",
     "start_time": "2024-01-24T17:08:42.587523145Z"
    }
   },
   "outputs": [],
   "source": [
    "# merge positive and negative spectra to amplify signals"
   ]
  },
  {
   "cell_type": "markdown",
   "metadata": {},
   "source": [
    "## Spectrum Alignment"
   ]
  },
  {
   "cell_type": "markdown",
   "metadata": {},
   "source": [
    "### Obtaining meabolites\n",
    "All possible metabolites from BiGG, ChEBI, ModelSEED, MetaNetX"
   ]
  },
  {
   "cell_type": "code",
   "execution_count": 67,
   "metadata": {
    "ExecuteTime": {
     "end_time": "2024-01-24T17:08:42.698510187Z",
     "start_time": "2024-01-24T17:08:42.587758783Z"
    }
   },
   "outputs": [],
   "source": [
    "# from urllib.request import urlretrieve\n",
    "# urlretrieve( \"http://bigg.ucsd.edu/static/namespace/bigg_models_metabolites.txt\", \"../data/databases/BiGG/metabolites.txt\")\n",
    "# urlretrieve( \"https://ftp.ebi.ac.uk/pub/databases/chebi/Flat_file_tab_delimited/chemical_data.tsv\", \"../data/databases/ChEBI/chemical_data.tsv\")\n",
    "# urlretrieve( \"https://raw.githubusercontent.com/ModelSEED/ModelSEEDDatabase/master/Biochemistry/compounds.tsv\", \"../data/databases/SEED/compounds.tsv\")\n",
    "# urlretrieve( \"https://www.metanetx.org/cgi-bin/mnxget/mnxref/chem_prop.tsv\", \"../data/databases/MetaNetX/chem_prop.tsv\")"
   ]
  },
  {
   "cell_type": "markdown",
   "metadata": {},
   "source": [
    "### Condense metabolite info\n",
    "Parse data to obtain a smaller table with metabolite info"
   ]
  },
  {
   "cell_type": "code",
   "execution_count": 68,
   "metadata": {
    "ExecuteTime": {
     "end_time": "2024-01-24T17:08:42.885526411Z",
     "start_time": "2024-01-24T17:08:42.592658037Z"
    }
   },
   "outputs": [],
   "source": [
    "# mnx_df = read_mnx(\"../data/databases/MetaNetX/chem_prop.tsv\")\n",
    "# mnx_to_oms(mnx_df).to_csv(\"../data/databases/compounds.tsv\", sep=\"\\t\", index=False)"
   ]
  },
  {
   "cell_type": "code",
   "execution_count": 69,
   "metadata": {
    "ExecuteTime": {
     "end_time": "2024-01-24T17:08:42.908336244Z",
     "start_time": "2024-01-24T17:08:42.636996291Z"
    }
   },
   "outputs": [],
   "source": [
    "# compounds = pd.read_csv(\"../data/databases/compounds.tsv\", sep=\"\\t\")"
   ]
  },
  {
   "cell_type": "code",
   "execution_count": 70,
   "metadata": {
    "ExecuteTime": {
     "end_time": "2024-01-24T17:08:42.953483424Z",
     "start_time": "2024-01-24T17:08:42.637377085Z"
    }
   },
   "outputs": [],
   "source": [
    "# join_df_by(mnx_df.dropna().iloc[0:10000], \"mass\", \"name\")"
   ]
  },
  {
   "cell_type": "markdown",
   "metadata": {},
   "source": [
    "MetaNetX is periodically refreshing their database from BiGG, ChEBI, enviPath, HMDB, KEGG, LipidMaps, MetaCyc, Reactome, SABIO-RK, SwissLipids and ModelSEED. Therefore it should hold the most complete database."
   ]
  },
  {
   "cell_type": "markdown",
   "metadata": {},
   "source": [
    "### Defining the theoretical spectrum\n",
    "Assigning theoretical spectra to the metabolites that can be presen. This is more for peptide detection !"
   ]
  },
  {
   "cell_type": "code",
   "execution_count": 71,
   "metadata": {
    "ExecuteTime": {
     "end_time": "2024-01-24T17:08:42.958638216Z",
     "start_time": "2024-01-24T17:08:42.637616598Z"
    }
   },
   "outputs": [],
   "source": [
    "#seq = oms.EmpiricalFormula(\"H6C2H\")\n",
    "#seq_formula = oms.EmpiricalFormula(\"H6C2H-1\")\n",
    "#isotopes = seq_formula.getIsotopeDistribution(oms.CoarseIsotopePatternGenerator(6))"
   ]
  },
  {
   "cell_type": "code",
   "execution_count": 72,
   "metadata": {
    "ExecuteTime": {
     "end_time": "2024-01-24T17:08:43.196887661Z",
     "start_time": "2024-01-24T17:08:42.643528414Z"
    }
   },
   "outputs": [],
   "source": [
    "#print(\"[M-H]- weight:\", seq_formula.getMonoWeight())"
   ]
  },
  {
   "cell_type": "markdown",
   "metadata": {},
   "source": [
    "### Assign metabolites to spectrum\n",
    "Detect peaks at metabolite masses and obtain relative prevalence"
   ]
  },
  {
   "cell_type": "code",
   "execution_count": 73,
   "metadata": {
    "ExecuteTime": {
     "end_time": "2024-01-24T17:08:43.220811223Z",
     "start_time": "2024-01-24T17:08:42.684156810Z"
    }
   },
   "outputs": [],
   "source": [
    "# "
   ]
  },
  {
   "cell_type": "markdown",
   "metadata": {},
   "source": [
    "## Feature Detection"
   ]
  },
  {
   "cell_type": "markdown",
   "metadata": {},
   "source": [
    "### Untargeted"
   ]
  },
  {
   "cell_type": "code",
   "outputs": [
    {
     "name": "stdout",
     "output_type": "stream",
     "text": [
      "Progress of 'mass trace detection':\n",
      "-- done [took 0.01 s (CPU), 0.01 s (Wall)] -- \n",
      "Progress of 'elution peak detection':\n",
      "-- done [took 0.09 s (CPU), 0.02 s (Wall)] -- \n",
      "Progress of 'assembling mass traces to features':\n",
      "-- done [took 0.07 s (CPU), 0.01 s (Wall)] -- \n",
      "MassExplainer table size: 312\n",
      "#Spectra that needed to and could be picked by MS-level:\n",
      "<RT window size calculated as 240 seconds.> occurred 14 times\n",
      "  MS-level 1: 38 / 38\n",
      "38 spectra and 0 chromatograms stored.\n",
      "Generating Masses with threshold: -6.90776 ...\n",
      "done\n",
      "2 of 4 valid net charge compomer results did not pass the feature charge constraints\n",
      "Inferring edges raised edge count from 2 to 2\n",
      "Found 2 putative edges (of 23) and avg hit-size of 2.5\n",
      "Using solver 'coinor' ...\n",
      "Optimal solution found!\n",
      " Branch and cut took 0.020667 seconds,  with objective value: 0.12.\n",
      "ILP score is: 0.12\n",
      "Agreeing charges: 4/4\n"
     ]
    }
   ],
   "source": [
    "filepaths = [\"../runs/centroided_experiment.MzML\"]\n",
    "fms = [ untargeted_feature_detection(filepath=filepath,\n",
    "                                     feature_filepath=\"../runs/untargeted.featureXML\",\n",
    "                                     mass_error_ppm=10.0,\n",
    "                                     noise_threshold_int=10000.0,\n",
    "                                     remove_single_traces=\"true\") \n",
    "        for filepath in filepaths ]\n",
    "fms_rt = align_retention_time(fms)\n",
    "fms_a = detect_adducts(fms_rt)"
   ],
   "metadata": {
    "collapsed": false,
    "ExecuteTime": {
     "end_time": "2024-01-24T17:08:43.672313590Z",
     "start_time": "2024-01-24T17:08:42.684488428Z"
    }
   },
   "execution_count": 74
  },
  {
   "cell_type": "code",
   "outputs": [],
   "source": [
    "store_feature_maps(fms_a)"
   ],
   "metadata": {
    "collapsed": false,
    "ExecuteTime": {
     "end_time": "2024-01-24T17:08:43.804117701Z",
     "start_time": "2024-01-24T17:08:43.788626930Z"
    }
   },
   "execution_count": 75
  },
  {
   "cell_type": "code",
   "outputs": [
    {
     "ename": "RuntimeError",
     "evalue": "At least two maps must be given!",
     "output_type": "error",
     "traceback": [
      "\u001B[0;31m---------------------------------------------------------------------------\u001B[0m",
      "\u001B[0;31mRuntimeError\u001B[0m                              Traceback (most recent call last)",
      "Cell \u001B[0;32mIn[76], line 1\u001B[0m\n\u001B[0;32m----> 1\u001B[0m cm \u001B[38;5;241m=\u001B[39m consensus_features(fms_a)\n\u001B[1;32m      2\u001B[0m oms\u001B[38;5;241m.\u001B[39mConsensusXMLFile()\u001B[38;5;241m.\u001B[39mstore(\u001B[38;5;124m\"\u001B[39m\u001B[38;5;124m../runs/FeatureMatrix_.consensusXML\u001B[39m\u001B[38;5;124m\"\u001B[39m, cm)\n",
      "File \u001B[0;32m/mnt/Data/Uni/Nextcloud/aktuelles_Semester/Thesis/MStoML/skripts/FIA.py:468\u001B[0m, in \u001B[0;36mconsensus_features\u001B[0;34m(feature_maps)\u001B[0m\n\u001B[1;32m    465\u001B[0m     file_description\u001B[38;5;241m.\u001B[39msize \u001B[38;5;241m=\u001B[39m feature_map\u001B[38;5;241m.\u001B[39msize()\n\u001B[1;32m    466\u001B[0m     file_descriptions[i] \u001B[38;5;241m=\u001B[39m file_description\n\u001B[0;32m--> 468\u001B[0m feature_grouper\u001B[38;5;241m.\u001B[39mgroup(feature_maps, consensus_map)\n\u001B[1;32m    469\u001B[0m consensus_map\u001B[38;5;241m.\u001B[39msetColumnHeaders(file_descriptions)\n\u001B[1;32m    470\u001B[0m consensus_map\u001B[38;5;241m.\u001B[39msetUniqueIds()\n",
      "File \u001B[0;32mpyopenms/_pyopenms_7.pyx:4091\u001B[0m, in \u001B[0;36mpyopenms._pyopenms_7.FeatureGroupingAlgorithmKD.group\u001B[0;34m()\u001B[0m\n",
      "File \u001B[0;32mpyopenms/_pyopenms_7.pyx:4046\u001B[0m, in \u001B[0;36mpyopenms._pyopenms_7.FeatureGroupingAlgorithmKD._group_0\u001B[0;34m()\u001B[0m\n",
      "\u001B[0;31mRuntimeError\u001B[0m: At least two maps must be given!"
     ]
    }
   ],
   "source": [
    "cm = consensus_features(fms_a)\n",
    "oms.ConsensusXMLFile().store(\"../runs/FeatureMatrix_.consensusXML\", cm)"
   ],
   "metadata": {
    "collapsed": false,
    "ExecuteTime": {
     "end_time": "2024-01-24T17:08:44.035694771Z",
     "start_time": "2024-01-24T17:08:43.816967934Z"
    }
   },
   "execution_count": 76
  },
  {
   "cell_type": "code",
   "outputs": [],
   "source": [
    "df = cm.get_df()\n",
    "df"
   ],
   "metadata": {
    "collapsed": false,
    "ExecuteTime": {
     "start_time": "2024-01-24T17:08:44.035663455Z"
    }
   }
  },
  {
   "cell_type": "markdown",
   "source": [
    "#### Link metabolites to features"
   ],
   "metadata": {
    "collapsed": false
   }
  },
  {
   "cell_type": "code",
   "outputs": [],
   "source": [
    "# Link it "
   ],
   "metadata": {
    "collapsed": false
   }
  },
  {
   "cell_type": "markdown",
   "metadata": {},
   "source": [
    "### Targeted"
   ]
  },
  {
   "cell_type": "markdown",
   "source": [
    "CANT FIND THE ERROR"
   ],
   "metadata": {
    "collapsed": false
   }
  },
  {
   "cell_type": "code",
   "execution_count": 5,
   "metadata": {
    "ExecuteTime": {
     "end_time": "2024-01-24T17:26:06.167475423Z",
     "start_time": "2024-01-24T17:26:06.115923954Z"
    }
   },
   "outputs": [],
   "source": [
    "def feature_detection_targeted(filepath: str, metab_table:list, experiment: oms.MSExperiment = None,\n",
    "                               mz_window:float=5.0, rt_window:float=20.0, peak_width:float=3.0) -> oms.FeatureMap:\n",
    "    \"\"\"\n",
    "    Feature detection\n",
    "    \"\"\"\n",
    "\n",
    "    if not experiment:\n",
    "        experiment = oms.MSExperiment()\n",
    "        oms.MzMLFile().load(filepath, experiment)\n",
    "\n",
    "     # FeatureMap to store results\n",
    "    feature_map = oms.FeatureMap()\n",
    "    \n",
    "    # create FeatureFinderAlgorithmMetaboIdent and assign ms data\n",
    "    ff = oms.FeatureFinderAlgorithmMetaboIdent()\n",
    "    ff.setMSData(experiment)\n",
    "    ff_par = ff.getDefaults()\n",
    "    ff_par.setValue(b\"extract:mz_window_\",  mz_window)\n",
    "    ff_par.setValue(b\"extract:rt_window_\",  rt_window)\n",
    "    ff_par.setValue(b\"extract:peak_width_\",  peak_width)\n",
    "    ff.setParameters(ff_par)\n",
    "    \n",
    "    # run the FeatureFinderMetaboIdent with the metabo_table and mzML file path -> store results in fm\n",
    "    ff.run(metab_table, feature_map, filepath)\n",
    "    \n",
    "    feature_map.setUniqueIds()  # Assigns a new, valid unique id per feature\n",
    "    feature_map.setPrimaryMSRunPath([filepath.encode()])\n",
    "    \n",
    "    return feature_map\n",
    "\n",
    "def targeted_feature_detection(filepath: str, experiment:oms.MSExperiment, compound_library_file:str, \n",
    "                               mz_window:float=5.0, rt_window:float=20.0, peak_width:float=3.0) -> oms.FeatureMap:\n",
    "    \"\"\"\n",
    "    @mz_window: ppm\n",
    "    @rt_window: s\n",
    "    @peak_width: s\n",
    "    returns: pyopenms.FeatureMap\n",
    "    \"\"\"\n",
    "    if not experiment:\n",
    "        experiment = oms.MSExperiment()\n",
    "        oms.MzMLFile().load(filepath, experiment)\n",
    "    \n",
    "    print(\"Defining metabolite table...\")\n",
    "    metab_table = define_metabolite_table(compound_library_file)\n",
    "    print(\"Metabolite table defined...\")\n",
    "    \n",
    "    feature_map = feature_detection_targeted(\"\", metab_table, experiment, mz_window, rt_window, peak_width)\n",
    "    print(\"Feature map created.\")\n",
    "    \n",
    "    return feature_map"
   ]
  },
  {
   "cell_type": "code",
   "outputs": [],
   "source": [
    "mt = define_metabolite_table(\"../data/databases/compounds.tsv\")"
   ],
   "metadata": {
    "collapsed": false,
    "ExecuteTime": {
     "end_time": "2024-01-24T17:26:15.929976016Z",
     "start_time": "2024-01-24T17:26:10.869794044Z"
    }
   },
   "execution_count": 6
  },
  {
   "cell_type": "code",
   "outputs": [],
   "source": [
    "fm = feature_detection_targeted(\"../runs/centroided_experiment.MzML\", mt, mz_window=5.0, rt_window=200.0, peak_width=3.0)"
   ],
   "metadata": {
    "collapsed": false,
    "is_executing": true
   },
   "execution_count": null
  },
  {
   "cell_type": "code",
   "execution_count": null,
   "metadata": {
    "ExecuteTime": {
     "start_time": "2024-01-24T17:08:44.052455566Z"
    }
   },
   "outputs": [],
   "source": [
    "# fm = targeted_feature_detection(\"../runs/centroided_experiment.MzML\", centroid_exp, \"../data/databases/compounds.tsv\", mz_window=5.0, rt_window=500.0, peak_width=3.0)\n",
    "oms.FeatureXMLFile().store(\"../runs/targeted.featureXML\", fm)"
   ]
  },
  {
   "cell_type": "markdown",
   "metadata": {},
   "source": [
    "### Plot"
   ]
  },
  {
   "cell_type": "code",
   "execution_count": null,
   "metadata": {
    "ExecuteTime": {
     "start_time": "2024-01-24T17:08:44.056519101Z"
    }
   },
   "outputs": [],
   "source": [
    "feature_map = read_feature_map_XML(\"../runs/untargeted.featureXML\")"
   ]
  },
  {
   "cell_type": "code",
   "execution_count": null,
   "metadata": {
    "ExecuteTime": {
     "start_time": "2024-01-24T17:08:44.060709760Z"
    }
   },
   "outputs": [],
   "source": [
    "def extract_feature_coord(feature, mzs, retention_times, intensities, labels, sub:bool=False):\n",
    "    for hull in feature.getConvexHulls():\n",
    "        hull_split = hsplit(hull.getHullPoints(), 2)\n",
    "        if sub:\n",
    "            mzs = append(mzs, tile(feature.getMZ(), len(hull_split[0])))\n",
    "            retention_times = append(retention_times, hull_split[1])\n",
    "            intensities = append(intensities, hull_split[0])\n",
    "            labels = append(labels, tile(feature.getMetaValue(\"label\"), len(hull_split[0])))\n",
    "        else:\n",
    "            mzs = append(mzs, feature.getMZ())\n",
    "            retention_times = append(retention_times, feature.getRT())\n",
    "            intensities = append(intensities, feature.getIntensity())\n",
    "            labels = append(labels, feature.getMetaValue(\"label\"))\n",
    "        \n",
    "\n",
    "    return [mzs, retention_times, intensities, labels]\n",
    "\n",
    "def plot_features_3D(feature_map:oms.FeatureMap, plottype:str=None) -> None:\n",
    "    \"\"\"\n",
    "    Represents found features in 3D\n",
    "    \"\"\"\n",
    "    mzs = empty([0])\n",
    "    retention_times = empty([0])\n",
    "    intensities = empty([0])\n",
    "    labels = empty([0])\n",
    "\n",
    "    for feature in feature_map:\n",
    "        if feature.getSubordinates():\n",
    "            for i, sub_feat in enumerate(feature.getSubordinates()):\n",
    "                mzs, retention_times, intensities, labels = extract_feature_coord(sub_feat, mzs, retention_times, intensities, labels, True)\n",
    "        else:\n",
    "            mzs, retention_times, intensities, labels = extract_feature_coord(feature, mzs, retention_times, intensities, labels)\n",
    "\n",
    "    df = pd.DataFrame({\"m/z\": mzs, \"rt\": retention_times, \"intensity\": intensities, \"labels\": labels})\n",
    "    \n",
    "    if plottype == \"surface\":\n",
    "        fig = go.Figure(data=[go.Surface(z=df)])\n",
    "        fig.update_layout(title='3D plot of features', autosize=False,\n",
    "                    width=500, height=500,\n",
    "                    margin=dict(l=65, r=50, b=65, t=90))\n",
    "    elif plottype == \"line\":\n",
    "        fig = px.line_3d(data_frame=df, x=\"m/z\", y=\"rt\", z=\"intensity\", color=\"labels\")\n",
    "    elif plottype == \"scatter\":\n",
    "        fig = px.scatter_3d(data_frame=df, x=\"m/z\", y=\"rt\", z=\"intensity\", color=\"labels\", size_max=8)\n",
    " \n",
    "    if plottype:\n",
    "        fig.show()\n",
    "    \n",
    "    return df"
   ]
  },
  {
   "cell_type": "code",
   "execution_count": null,
   "metadata": {
    "ExecuteTime": {
     "start_time": "2024-01-24T17:08:44.103732021Z"
    }
   },
   "outputs": [],
   "source": [
    "df = plot_features_3D(feature_map, plottype=\"scatter\")"
   ]
  },
  {
   "cell_type": "code",
   "execution_count": null,
   "metadata": {
    "ExecuteTime": {
     "start_time": "2024-01-24T17:08:44.103902105Z"
    }
   },
   "outputs": [],
   "source": [
    "df"
   ]
  },
  {
   "cell_type": "code",
   "execution_count": null,
   "metadata": {
    "ExecuteTime": {
     "start_time": "2024-01-24T17:08:44.103998421Z"
    }
   },
   "outputs": [],
   "source": [
    "z_data = pd.read_csv('https://raw.githubusercontent.com/plotly/datasets/master/api_docs/mt_bruno_elevation.csv')\n",
    "z_data.values.shape"
   ]
  },
  {
   "cell_type": "code",
   "execution_count": null,
   "metadata": {
    "ExecuteTime": {
     "start_time": "2024-01-24T17:08:44.104079575Z"
    }
   },
   "outputs": [],
   "source": []
  },
  {
   "cell_type": "code",
   "execution_count": null,
   "metadata": {
    "ExecuteTime": {
     "start_time": "2024-01-24T17:08:44.104220680Z"
    }
   },
   "outputs": [],
   "source": [
    "feature = feature_map[0]"
   ]
  },
  {
   "cell_type": "code",
   "execution_count": null,
   "metadata": {
    "ExecuteTime": {
     "start_time": "2024-01-24T17:08:44.104337462Z"
    }
   },
   "outputs": [],
   "source": []
  }
 ],
 "metadata": {
  "kernelspec": {
   "display_name": "gemml",
   "language": "python",
   "name": "python3"
  },
  "language_info": {
   "codemirror_mode": {
    "name": "ipython",
    "version": 3
   },
   "file_extension": ".py",
   "mimetype": "text/x-python",
   "name": "python",
   "nbconvert_exporter": "python",
   "pygments_lexer": "ipython3",
   "version": "3.11.0"
  }
 },
 "nbformat": 4,
 "nbformat_minor": 2
}
