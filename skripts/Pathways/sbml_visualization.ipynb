{
 "cells": [
  {
   "cell_type": "code",
   "execution_count": 18,
   "metadata": {},
   "outputs": [],
   "source": [
    "import os\n",
    "import sys\n",
    "import escher\n",
    "import cobra\n",
    "import numpy as np\n",
    "\n",
    "sys.path.append(\"..\")\n",
    "from helpers.file_handling import  *"
   ]
  },
  {
   "cell_type": "code",
   "execution_count": 4,
   "metadata": {},
   "outputs": [
    {
     "data": {
      "text/plain": [
       "['/mnt/d/data/GEMs/Com_8/Bacteroides_thetaiotaomicron_dnLKV9_utf8.xml',\n",
       " '/mnt/d/data/GEMs/Com_8/Bacteroides_uniformis_dnLKV2_utf8.xml',\n",
       " '/mnt/d/data/GEMs/Com_8/Bacteroides_vulgatus_PC510_utf8.xml',\n",
       " '/mnt/d/data/GEMs/Com_8/Clostridium_ramosum_VPI_0427_DSM_1402_utf8.xml',\n",
       " '/mnt/d/data/GEMs/Com_8/Collinsella_aerofaciens_ERR1022282_utf8.xml',\n",
       " '/mnt/d/data/GEMs/Com_8/Fusobacterium_nucleatum_subsp_polymorphum_ATCC_10953_utf8.xml',\n",
       " '/mnt/d/data/GEMs/Com_8/Roseburia_intestinalis_XB6B4_utf8.xml',\n",
       " '/mnt/d/data/GEMs/Com_8/Ruminococcus_gnavus_ATCC_29149_utf8.xml']"
      ]
     },
     "execution_count": 4,
     "metadata": {},
     "output_type": "execute_result"
    }
   ],
   "source": [
    "sbmls_path = \"/mnt/d/data/GEMs/Com_8\"\n",
    "files = [os.path.join(sbmls_path, file) for file in os.listdir(sbmls_path) if file.endswith(\"ml\") and \"utf8\" in file]\n",
    "files"
   ]
  },
  {
   "cell_type": "code",
   "execution_count": 4,
   "metadata": {},
   "outputs": [],
   "source": [
    "\"\"\"\n",
    "for file in files:\n",
    "    convert_to_utf8(file)\n",
    "\"\"\""
   ]
  },
  {
   "cell_type": "code",
   "execution_count": 60,
   "metadata": {},
   "outputs": [],
   "source": [
    "sb_model = cobra.io.read_sbml_model(files[3])"
   ]
  },
  {
   "cell_type": "code",
   "execution_count": 61,
   "metadata": {},
   "outputs": [
    {
     "data": {
      "text/html": [
       "\n",
       "        <table>\n",
       "            <tr>\n",
       "                <td><strong>Name</strong></td>\n",
       "                <td>M_Clostridium_ramosum_VPI_0427_DSM_1402</td>\n",
       "            </tr><tr>\n",
       "                <td><strong>Memory address</strong></td>\n",
       "                <td>7ff8bf0ee020</td>\n",
       "            </tr><tr>\n",
       "                <td><strong>Number of metabolites</strong></td>\n",
       "                <td>962</td>\n",
       "            </tr><tr>\n",
       "                <td><strong>Number of reactions</strong></td>\n",
       "                <td>1049</td>\n",
       "            </tr><tr>\n",
       "                <td><strong>Number of genes</strong></td>\n",
       "                <td>893</td>\n",
       "            </tr><tr>\n",
       "                <td><strong>Number of groups</strong></td>\n",
       "                <td>68</td>\n",
       "            </tr><tr>\n",
       "                <td><strong>Objective expression</strong></td>\n",
       "                <td>1.0*biomass525 - 1.0*biomass525_reverse_5c178</td>\n",
       "            </tr><tr>\n",
       "                <td><strong>Compartments</strong></td>\n",
       "                <td>Cytoplasm, Extracellular</td>\n",
       "            </tr>\n",
       "          </table>"
      ],
      "text/plain": [
       "<Model M_Clostridium_ramosum_VPI_0427_DSM_1402 at 0x7ff8bf0ee020>"
      ]
     },
     "execution_count": 61,
     "metadata": {},
     "output_type": "execute_result"
    }
   ],
   "source": [
    "sb_model"
   ]
  },
  {
   "cell_type": "code",
   "execution_count": 63,
   "metadata": {},
   "outputs": [],
   "source": [
    "def search_metab_by_name(model, met_name:str):\n",
    "    hits = []\n",
    "    for met in model.metabolites:\n",
    "        if met_name in met.name:\n",
    "            hits.append(met)\n",
    "    return hits\n",
    "\n",
    "def search_metab_by_weight(model, weight:float, tolerance:float):\n",
    "    hits = []\n",
    "    for met in model.metabolites:\n",
    "        if \"R\" in met.formula or \"X\" in met.formula:\n",
    "            continue\n",
    "        if np.isclose(weight, met.formula_weight, atol=tolerance, rtol=0.0):\n",
    "            hits.append(met)\n",
    "    return hits"
   ]
  },
  {
   "cell_type": "code",
   "execution_count": null,
   "metadata": {},
   "outputs": [],
   "source": [
    "search_metab_by_name(sb_model, \"10-formyltetra\")[0]"
   ]
  },
  {
   "cell_type": "code",
   "execution_count": 59,
   "metadata": {},
   "outputs": [
    {
     "data": {
      "text/plain": [
       "[<Metabolite 10fthf5glu[c] at 0x7ff8c4a41b40>]"
      ]
     },
     "execution_count": 59,
     "metadata": {},
     "output_type": "execute_result"
    }
   ],
   "source": [
    "search_metab_by_weight(sb_model, 983.8475, 2e-4)"
   ]
  },
  {
   "cell_type": "code",
   "execution_count": 9,
   "metadata": {},
   "outputs": [],
   "source": [
    "sb_model_json = cobra.io.to_json(sb_model)"
   ]
  },
  {
   "cell_type": "code",
   "execution_count": 14,
   "metadata": {},
   "outputs": [],
   "source": [
    "builder = escher.Builder(model_json=sb_model_json)"
   ]
  },
  {
   "cell_type": "code",
   "execution_count": 15,
   "metadata": {},
   "outputs": [
    {
     "data": {
      "application/vnd.jupyter.widget-view+json": {
       "model_id": "1864944b5a6641478e63c706c0238830",
       "version_major": 2,
       "version_minor": 0
      },
      "text/plain": [
       "Builder()"
      ]
     },
     "metadata": {},
     "output_type": "display_data"
    }
   ],
   "source": [
    "builder"
   ]
  },
  {
   "cell_type": "code",
   "execution_count": null,
   "metadata": {},
   "outputs": [],
   "source": []
  }
 ],
 "metadata": {
  "kernelspec": {
   "display_name": "Python 3 (ipykernel)",
   "language": "python",
   "name": "python3"
  },
  "language_info": {
   "codemirror_mode": {
    "name": "ipython",
    "version": 3
   },
   "file_extension": ".py",
   "mimetype": "text/x-python",
   "name": "python",
   "nbconvert_exporter": "python",
   "pygments_lexer": "ipython3",
   "version": "3.10.14"
  }
 },
 "nbformat": 4,
 "nbformat_minor": 2
}
