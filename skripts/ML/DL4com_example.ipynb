{
 "cells": [
  {
   "cell_type": "code",
   "execution_count": 1,
   "metadata": {},
   "outputs": [
    {
     "name": "stdout",
     "output_type": "stream",
     "text": [
      "Warning: OPENMS_DATA_PATH environment variable already exists. pyOpenMS will use it (C:\\Program Files\\OpenMS-3.1.0\\share\\OpenMS) to locate data in the OpenMS share folder (e.g., the unimod database), instead of the default (c:\\Users\\JosuaCarl\\miniconda3\\envs\\gemml\\Lib\\site-packages\\pyopenms\\share/OpenMS).\n",
      "WARNING:tensorflow:From c:\\Users\\JosuaCarl\\miniconda3\\envs\\gemml\\Lib\\site-packages\\keras\\src\\losses.py:2976: The name tf.losses.sparse_softmax_cross_entropy is deprecated. Please use tf.compat.v1.losses.sparse_softmax_cross_entropy instead.\n",
      "\n"
     ]
    }
   ],
   "source": [
    "# imports\n",
    "import sys\n",
    "import os\n",
    "import mat73\n",
    "import numpy as np\n",
    "import pandas as pd\n",
    "from sklearn.metrics import accuracy_score, confusion_matrix\n",
    "from sklearn.model_selection import cross_val_predict\n",
    "from sklearn import tree\n",
    "import seaborn as sns\n",
    "import matplotlib.pyplot as plt\n",
    "import math\n",
    "import warnings\n",
    "\n",
    "sys.path.append( '../FIA' )\n",
    "sys.path.append( '../ML' )\n",
    "from FIA import *\n",
    "from ML4com import *\n",
    "\n",
    "# TensorFlow and tf.keras\n",
    "import tensorflow as tf\n",
    "import keras\n",
    "import keras_tuner\n",
    "from keras import layers, activations"
   ]
  },
  {
   "cell_type": "code",
   "execution_count": 2,
   "metadata": {},
   "outputs": [],
   "source": [
    "def parse_folder(path):\n",
    "    return os.listdir(path)\n",
    "\n",
    "\n",
    "def mat_to_tsv(folder, file):\n",
    "    \"\"\"\n",
    "    path: path to mat file\n",
    "    saves mat files as tsv in the same folder\n",
    "    \"\"\"\n",
    "    mat = mat73.loadmat(f\"{folder}/{file}\")\n",
    "    for k, v in mat.items():\n",
    "        if not os.path.isfile(f\"{folder}/{k}.tsv\"):\n",
    "            df = pd.DataFrame(v)\n",
    "            df.to_csv(f\"{folder}/{k}.tsv\", sep=\"\\t\", index=False)"
   ]
  },
  {
   "cell_type": "code",
   "execution_count": 3,
   "metadata": {},
   "outputs": [],
   "source": [
    "for file in parse_folder(\"../../data/comm8_0\"):\n",
    "    if file.endswith(\".mat\"):\n",
    "        mat_to_tsv(\"../../data/comm8_0\", file)"
   ]
  },
  {
   "cell_type": "code",
   "execution_count": 4,
   "metadata": {},
   "outputs": [],
   "source": [
    "# Load matrices\n",
    "strains = pd.read_csv(\"../../data/comm8_0/strains.tsv\", sep=\"\\t\")\n",
    "comm8 = pd.read_csv(\"../../data/comm8_0/comm8.tsv\", sep=\"\\t\")\n",
    "metData = pd.read_csv(\"../../data/comm8_0/metData.tsv\", sep=\"\\t\")\n",
    "metData.index = pd.read_csv(\"../../data/comm8_0/metName.tsv\", sep=\"\\t\")\n",
    "\n",
    "met_raw_pos = pd.read_excel(\"../../data/comm8_0/FIA-Data Com8_20230717_P0024_msAV206-312.xlsx\", sheet_name=\"pos\")\n",
    "met_raw_neg = pd.read_excel(\"../../data/comm8_0/FIA-Data Com8_20230717_P0024_msAV206-312.xlsx\", sheet_name=\"neg\")"
   ]
  },
  {
   "cell_type": "code",
   "execution_count": 5,
   "metadata": {},
   "outputs": [],
   "source": [
    "def join_df_metNames(df):\n",
    "    cols = [\"metNames\"] + [f\"MS{i+1}\" for i in range(len(df.columns) - 6)]\n",
    "    comb = pd.DataFrame(columns=cols)\n",
    "    for pid in df[\"peakID\"].unique():\n",
    "        comb_met_name = \"\"\n",
    "        for met_name in df.loc[df[\"peakID\"] == pid][\"MetName\"]:\n",
    "            comb_met_name += met_name + \"\\n\"\n",
    "        comb.loc[len(comb.index)] = [comb_met_name[:-2]] + list(df.loc[df[\"peakID\"] == pid].iloc[0, 6:])\n",
    "    comb = comb.set_index('metNames')\n",
    "    return comb"
   ]
  },
  {
   "cell_type": "code",
   "execution_count": 6,
   "metadata": {},
   "outputs": [],
   "source": [
    "def standard_normalization(df, axis=1):\n",
    "    return df.apply(lambda line: [(x - np.mean(line)) / np.var(line) for x in line], result_type=\"expand\", axis=axis)"
   ]
  },
  {
   "cell_type": "code",
   "execution_count": 7,
   "metadata": {},
   "outputs": [],
   "source": [
    "met_raw_comb = pd.concat( [standard_normalization( join_df_metNames(met_raw_pos) ), standard_normalization( join_df_metNames(met_raw_neg) )] )"
   ]
  },
  {
   "cell_type": "code",
   "execution_count": 66,
   "metadata": {},
   "outputs": [],
   "source": [
    "# Define data\n",
    "X = met_raw_comb.transpose()\n",
    "ys = comm8"
   ]
  },
  {
   "cell_type": "markdown",
   "metadata": {},
   "source": [
    "## Model"
   ]
  },
  {
   "cell_type": "code",
   "execution_count": 78,
   "metadata": {},
   "outputs": [],
   "source": [
    "def build_model(hyperparameters):\n",
    "    model = keras.Sequential(name=\"MS_community_classifier\")\n",
    "    \n",
    "    model.add(keras.layers.Dropout(hyperparameters.Float(\"dropout_in\", min_value=0.0, max_value=0.99, sampling=\"linear\"),\n",
    "                                   noise_shape=None, seed=None))\n",
    "    model.add(keras.layers.BatchNormalization())\n",
    "    \n",
    "    # Middle layers\n",
    "    for i in range(hyperparameters.Int(\"num_layers\", 1, 2)):\n",
    "        model.add(\n",
    "            layers.Dense(\n",
    "                # Tune number of units separately.\n",
    "                units=hyperparameters.Int(f\"units_{i}\", min_value=32, max_value=256, step=64),\n",
    "                activation=hyperparameters.Choice(f\"activation_{i}\", [\"relu\", \"tanh\"]),\n",
    "            )\n",
    "        )\n",
    "        if hyperparameters.Boolean(f\"dropout_{i}\"):\n",
    "            model.add(keras.layers.Dropout(0.5, noise_shape=None, seed=None))\n",
    "        model.add(keras.layers.BatchNormalization())\n",
    "\n",
    "    model.add(layers.Dense(8,  activation=activations.sigmoid))     # Interpretation layer\n",
    "    \n",
    "    loss_function = keras.losses.CategoricalCrossentropy()\n",
    "\n",
    "    learning_rate = hyperparameters.Float(\"lr\", min_value=1e-4, max_value=1e-2, sampling=\"log\")\n",
    "    optimizer = keras.optimizers.Nadam(learning_rate=learning_rate)\n",
    "    auc = keras.metrics.AUC(num_thresholds=200, curve=\"ROC\", summation_method=\"interpolation\")\n",
    "\n",
    "    model.compile(optimizer=optimizer, loss=loss_function, metrics=['accuracy', auc])\n",
    "    return model"
   ]
  },
  {
   "cell_type": "markdown",
   "metadata": {},
   "source": [
    "### Hyperparameter optimization"
   ]
  },
  {
   "cell_type": "code",
   "execution_count": 79,
   "metadata": {},
   "outputs": [],
   "source": [
    "from sklearn.model_selection import train_test_split\n",
    "training_data, test_data, training_labels, test_labels = train_test_split(X, ys, test_size=0.2)# .iloc[:,0], test_size=0.2)"
   ]
  },
  {
   "cell_type": "code",
   "execution_count": 52,
   "metadata": {},
   "outputs": [
    {
     "name": "stdout",
     "output_type": "stream",
     "text": [
      "Search space summary\n",
      "Default search space size: 6\n",
      "dropout_in (Boolean)\n",
      "{'default': False, 'conditions': []}\n",
      "num_layers (Int)\n",
      "{'default': None, 'conditions': [], 'min_value': 1, 'max_value': 2, 'step': 1, 'sampling': 'linear'}\n",
      "units_0 (Int)\n",
      "{'default': None, 'conditions': [], 'min_value': 32, 'max_value': 256, 'step': 64, 'sampling': 'linear'}\n",
      "activation_0 (Choice)\n",
      "{'default': 'relu', 'conditions': [], 'values': ['relu', 'tanh'], 'ordered': False}\n",
      "dropout_0 (Boolean)\n",
      "{'default': False, 'conditions': []}\n",
      "lr (Float)\n",
      "{'default': 0.0001, 'conditions': [], 'min_value': 0.0001, 'max_value': 0.01, 'step': None, 'sampling': 'log'}\n"
     ]
    }
   ],
   "source": [
    "# Set tuner parameters\n",
    "tuner = keras_tuner.Hyperband(\n",
    "    build_model,\n",
    "    objective='val_accuracy',\n",
    "    factor=5,\n",
    "    max_epochs=200,\n",
    "    directory='../../runs/NN/hyperband_optimization_2',\n",
    "    project_name='classifier')\n",
    "\n",
    "tuner.search_space_summary()"
   ]
  },
  {
   "cell_type": "code",
   "execution_count": 54,
   "metadata": {},
   "outputs": [
    {
     "name": "stdout",
     "output_type": "stream",
     "text": [
      "Trial 689 Complete [00h 00m 16s]\n",
      "accuracy: 1.0\n",
      "\n",
      "Best accuracy So Far: 1.0\n",
      "Total elapsed time: 00h 58m 55s\n"
     ]
    }
   ],
   "source": [
    "tuner.search(training_data, training_labels,\n",
    "             validation_data = (test_data, test_labels))"
   ]
  },
  {
   "cell_type": "code",
   "execution_count": 55,
   "metadata": {},
   "outputs": [
    {
     "name": "stdout",
     "output_type": "stream",
     "text": [
      "Results summary\n",
      "Results in ../../runs/NN/hyperband_optimization\\classifier\n",
      "Showing 20 best trials\n",
      "Objective(name=\"accuracy\", direction=\"max\")\n",
      "\n",
      "Trial 0023 summary\n",
      "Hyperparameters:\n",
      "dropout_in: True\n",
      "num_layers: 2\n",
      "units_0: 160\n",
      "activation_0: relu\n",
      "dropout_0: False\n",
      "lr: 0.003937419409571616\n",
      "units_1: 32\n",
      "activation_1: relu\n",
      "dropout_1: False\n",
      "tuner/epochs: 2\n",
      "tuner/initial_epoch: 0\n",
      "tuner/bracket: 7\n",
      "tuner/round: 0\n",
      "Score: 1.0\n",
      "\n",
      "Trial 0072 summary\n",
      "Hyperparameters:\n",
      "dropout_in: True\n",
      "num_layers: 1\n",
      "units_0: 96\n",
      "activation_0: tanh\n",
      "dropout_0: False\n",
      "lr: 0.00118163725993479\n",
      "units_1: 32\n",
      "activation_1: relu\n",
      "dropout_1: False\n",
      "tuner/epochs: 2\n",
      "tuner/initial_epoch: 0\n",
      "tuner/bracket: 7\n",
      "tuner/round: 0\n",
      "Score: 1.0\n",
      "\n",
      "Trial 0144 summary\n",
      "Hyperparameters:\n",
      "dropout_in: True\n",
      "num_layers: 2\n",
      "units_0: 160\n",
      "activation_0: relu\n",
      "dropout_0: False\n",
      "lr: 0.003937419409571616\n",
      "units_1: 32\n",
      "activation_1: relu\n",
      "dropout_1: False\n",
      "tuner/epochs: 4\n",
      "tuner/initial_epoch: 2\n",
      "tuner/bracket: 7\n",
      "tuner/round: 1\n",
      "tuner/trial_id: 0023\n",
      "Score: 1.0\n",
      "\n",
      "Trial 0145 summary\n",
      "Hyperparameters:\n",
      "dropout_in: True\n",
      "num_layers: 1\n",
      "units_0: 96\n",
      "activation_0: tanh\n",
      "dropout_0: False\n",
      "lr: 0.00118163725993479\n",
      "units_1: 32\n",
      "activation_1: relu\n",
      "dropout_1: False\n",
      "tuner/epochs: 4\n",
      "tuner/initial_epoch: 2\n",
      "tuner/bracket: 7\n",
      "tuner/round: 1\n",
      "tuner/trial_id: 0072\n",
      "Score: 1.0\n",
      "\n",
      "Trial 0146 summary\n",
      "Hyperparameters:\n",
      "dropout_in: True\n",
      "num_layers: 1\n",
      "units_0: 96\n",
      "activation_0: relu\n",
      "dropout_0: False\n",
      "lr: 0.004498701607091658\n",
      "units_1: 224\n",
      "activation_1: relu\n",
      "dropout_1: False\n",
      "tuner/epochs: 4\n",
      "tuner/initial_epoch: 2\n",
      "tuner/bracket: 7\n",
      "tuner/round: 1\n",
      "tuner/trial_id: 0056\n",
      "Score: 1.0\n",
      "\n",
      "Trial 0147 summary\n",
      "Hyperparameters:\n",
      "dropout_in: True\n",
      "num_layers: 2\n",
      "units_0: 160\n",
      "activation_0: relu\n",
      "dropout_0: False\n",
      "lr: 0.0032207647478067728\n",
      "units_1: 160\n",
      "activation_1: tanh\n",
      "dropout_1: True\n",
      "tuner/epochs: 4\n",
      "tuner/initial_epoch: 2\n",
      "tuner/bracket: 7\n",
      "tuner/round: 1\n",
      "tuner/trial_id: 0071\n",
      "Score: 1.0\n",
      "\n",
      "Trial 0148 summary\n",
      "Hyperparameters:\n",
      "dropout_in: False\n",
      "num_layers: 2\n",
      "units_0: 224\n",
      "activation_0: tanh\n",
      "dropout_0: False\n",
      "lr: 0.0016618360336245936\n",
      "units_1: 96\n",
      "activation_1: relu\n",
      "dropout_1: False\n",
      "tuner/epochs: 4\n",
      "tuner/initial_epoch: 2\n",
      "tuner/bracket: 7\n",
      "tuner/round: 1\n",
      "tuner/trial_id: 0108\n",
      "Score: 1.0\n",
      "\n",
      "Trial 0149 summary\n",
      "Hyperparameters:\n",
      "dropout_in: True\n",
      "num_layers: 1\n",
      "units_0: 96\n",
      "activation_0: tanh\n",
      "dropout_0: False\n",
      "lr: 0.001974525683893352\n",
      "units_1: 224\n",
      "activation_1: relu\n",
      "dropout_1: True\n",
      "tuner/epochs: 4\n",
      "tuner/initial_epoch: 2\n",
      "tuner/bracket: 7\n",
      "tuner/round: 1\n",
      "tuner/trial_id: 0121\n",
      "Score: 1.0\n",
      "\n",
      "Trial 0150 summary\n",
      "Hyperparameters:\n",
      "dropout_in: True\n",
      "num_layers: 2\n",
      "units_0: 160\n",
      "activation_0: tanh\n",
      "dropout_0: False\n",
      "lr: 0.005808310220889578\n",
      "units_1: 96\n",
      "activation_1: tanh\n",
      "dropout_1: True\n",
      "tuner/epochs: 4\n",
      "tuner/initial_epoch: 2\n",
      "tuner/bracket: 7\n",
      "tuner/round: 1\n",
      "tuner/trial_id: 0010\n",
      "Score: 1.0\n",
      "\n",
      "Trial 0151 summary\n",
      "Hyperparameters:\n",
      "dropout_in: False\n",
      "num_layers: 2\n",
      "units_0: 160\n",
      "activation_0: relu\n",
      "dropout_0: True\n",
      "lr: 0.0028693147764813523\n",
      "units_1: 224\n",
      "activation_1: tanh\n",
      "dropout_1: False\n",
      "tuner/epochs: 4\n",
      "tuner/initial_epoch: 2\n",
      "tuner/bracket: 7\n",
      "tuner/round: 1\n",
      "tuner/trial_id: 0015\n",
      "Score: 1.0\n",
      "\n",
      "Trial 0152 summary\n",
      "Hyperparameters:\n",
      "dropout_in: True\n",
      "num_layers: 1\n",
      "units_0: 160\n",
      "activation_0: relu\n",
      "dropout_0: False\n",
      "lr: 0.0014000116581985261\n",
      "units_1: 160\n",
      "activation_1: tanh\n",
      "dropout_1: False\n",
      "tuner/epochs: 4\n",
      "tuner/initial_epoch: 2\n",
      "tuner/bracket: 7\n",
      "tuner/round: 1\n",
      "tuner/trial_id: 0026\n",
      "Score: 1.0\n",
      "\n",
      "Trial 0153 summary\n",
      "Hyperparameters:\n",
      "dropout_in: True\n",
      "num_layers: 1\n",
      "units_0: 32\n",
      "activation_0: relu\n",
      "dropout_0: False\n",
      "lr: 0.006415570313033613\n",
      "units_1: 32\n",
      "activation_1: tanh\n",
      "dropout_1: False\n",
      "tuner/epochs: 4\n",
      "tuner/initial_epoch: 2\n",
      "tuner/bracket: 7\n",
      "tuner/round: 1\n",
      "tuner/trial_id: 0028\n",
      "Score: 1.0\n",
      "\n",
      "Trial 0157 summary\n",
      "Hyperparameters:\n",
      "dropout_in: True\n",
      "num_layers: 1\n",
      "units_0: 160\n",
      "activation_0: tanh\n",
      "dropout_0: True\n",
      "lr: 0.0018023894351479478\n",
      "units_1: 160\n",
      "activation_1: relu\n",
      "dropout_1: True\n",
      "tuner/epochs: 4\n",
      "tuner/initial_epoch: 2\n",
      "tuner/bracket: 7\n",
      "tuner/round: 1\n",
      "tuner/trial_id: 0087\n",
      "Score: 1.0\n",
      "\n",
      "Trial 0158 summary\n",
      "Hyperparameters:\n",
      "dropout_in: True\n",
      "num_layers: 2\n",
      "units_0: 160\n",
      "activation_0: tanh\n",
      "dropout_0: False\n",
      "lr: 0.003591944497440234\n",
      "units_1: 160\n",
      "activation_1: relu\n",
      "dropout_1: False\n",
      "tuner/epochs: 4\n",
      "tuner/initial_epoch: 2\n",
      "tuner/bracket: 7\n",
      "tuner/round: 1\n",
      "tuner/trial_id: 0142\n",
      "Score: 1.0\n",
      "\n",
      "Trial 0159 summary\n",
      "Hyperparameters:\n",
      "dropout_in: True\n",
      "num_layers: 1\n",
      "units_0: 160\n",
      "activation_0: relu\n",
      "dropout_0: True\n",
      "lr: 0.00195710857349945\n",
      "tuner/epochs: 4\n",
      "tuner/initial_epoch: 2\n",
      "tuner/bracket: 7\n",
      "tuner/round: 1\n",
      "tuner/trial_id: 0000\n",
      "units_1: 96\n",
      "activation_1: tanh\n",
      "dropout_1: False\n",
      "Score: 1.0\n",
      "\n",
      "Trial 0160 summary\n",
      "Hyperparameters:\n",
      "dropout_in: True\n",
      "num_layers: 2\n",
      "units_0: 96\n",
      "activation_0: tanh\n",
      "dropout_0: False\n",
      "lr: 0.0049472962180093635\n",
      "tuner/epochs: 4\n",
      "tuner/initial_epoch: 2\n",
      "tuner/bracket: 7\n",
      "tuner/round: 1\n",
      "units_1: 32\n",
      "activation_1: relu\n",
      "dropout_1: False\n",
      "tuner/trial_id: 0001\n",
      "Score: 1.0\n",
      "\n",
      "Trial 0161 summary\n",
      "Hyperparameters:\n",
      "dropout_in: False\n",
      "num_layers: 2\n",
      "units_0: 96\n",
      "activation_0: tanh\n",
      "dropout_0: True\n",
      "lr: 0.001100329848883672\n",
      "units_1: 224\n",
      "activation_1: relu\n",
      "dropout_1: False\n",
      "tuner/epochs: 4\n",
      "tuner/initial_epoch: 2\n",
      "tuner/bracket: 7\n",
      "tuner/round: 1\n",
      "tuner/trial_id: 0005\n",
      "Score: 1.0\n",
      "\n",
      "Trial 0162 summary\n",
      "Hyperparameters:\n",
      "dropout_in: True\n",
      "num_layers: 2\n",
      "units_0: 160\n",
      "activation_0: tanh\n",
      "dropout_0: False\n",
      "lr: 0.002776217244607687\n",
      "units_1: 96\n",
      "activation_1: relu\n",
      "dropout_1: True\n",
      "tuner/epochs: 4\n",
      "tuner/initial_epoch: 2\n",
      "tuner/bracket: 7\n",
      "tuner/round: 1\n",
      "tuner/trial_id: 0025\n",
      "Score: 1.0\n",
      "\n",
      "Trial 0163 summary\n",
      "Hyperparameters:\n",
      "dropout_in: True\n",
      "num_layers: 1\n",
      "units_0: 224\n",
      "activation_0: relu\n",
      "dropout_0: False\n",
      "lr: 0.0004911396419742697\n",
      "units_1: 160\n",
      "activation_1: relu\n",
      "dropout_1: False\n",
      "tuner/epochs: 4\n",
      "tuner/initial_epoch: 2\n",
      "tuner/bracket: 7\n",
      "tuner/round: 1\n",
      "tuner/trial_id: 0034\n",
      "Score: 1.0\n",
      "\n",
      "Trial 0164 summary\n",
      "Hyperparameters:\n",
      "dropout_in: True\n",
      "num_layers: 2\n",
      "units_0: 96\n",
      "activation_0: tanh\n",
      "dropout_0: False\n",
      "lr: 0.0014601330934395126\n",
      "units_1: 224\n",
      "activation_1: relu\n",
      "dropout_1: False\n",
      "tuner/epochs: 4\n",
      "tuner/initial_epoch: 2\n",
      "tuner/bracket: 7\n",
      "tuner/round: 1\n",
      "tuner/trial_id: 0045\n",
      "Score: 1.0\n"
     ]
    }
   ],
   "source": [
    "tuner.results_summary(num_trials = 20)"
   ]
  },
  {
   "cell_type": "code",
   "execution_count": 58,
   "metadata": {},
   "outputs": [],
   "source": [
    "# Get the optimal hyperparameters\n",
    "best_hps = tuner.get_best_hyperparameters(num_trials = 1)[0]"
   ]
  },
  {
   "cell_type": "code",
   "execution_count": null,
   "metadata": {},
   "outputs": [
    {
     "ename": "SyntaxError",
     "evalue": "'break' outside loop (668683560.py, line 1)",
     "output_type": "error",
     "traceback": [
      "\u001b[1;36m  Cell \u001b[1;32mIn[12], line 1\u001b[1;36m\u001b[0m\n\u001b[1;33m    break\u001b[0m\n\u001b[1;37m    ^\u001b[0m\n\u001b[1;31mSyntaxError\u001b[0m\u001b[1;31m:\u001b[0m 'break' outside loop\n"
     ]
    }
   ],
   "source": [
    "break"
   ]
  },
  {
   "cell_type": "code",
   "execution_count": null,
   "metadata": {},
   "outputs": [],
   "source": [
    "hp = keras_tuner.HyperParameters()\n",
    "hp.Fixed(\"dropout\", True)\n",
    "hp.Fixed(\"num_layers\", 1)\n",
    "hp.Fixed(\"units_1\", 64)\n",
    "hp.Fixed(\"activation\", \"relu\")\n",
    "hp.Fixed(\"lr\", 1e-3)"
   ]
  },
  {
   "cell_type": "code",
   "execution_count": 59,
   "metadata": {},
   "outputs": [],
   "source": [
    "choice_hps = tuner.get_best_hyperparameters(num_trials = 2)[1]\n",
    "model = build_model(choice_hps)"
   ]
  },
  {
   "cell_type": "code",
   "execution_count": 74,
   "metadata": {},
   "outputs": [],
   "source": [
    "from sklearn.model_selection import KFold, StratifiedKFold\n",
    "cv = 5\n",
    "kf = StratifiedKFold(n_splits = cv, shuffle=True)"
   ]
  },
  {
   "cell_type": "code",
   "execution_count": 75,
   "metadata": {},
   "outputs": [
    {
     "name": "stderr",
     "output_type": "stream",
     "text": [
      "  0%|          | 0/8 [00:00<?, ?it/s]"
     ]
    },
    {
     "name": "stdout",
     "output_type": "stream",
     "text": [
      "1/1 [==============================] - 0s 83ms/step - loss: 0.0060 - accuracy: 1.0000\n",
      "1/1 [==============================] - 0s 49ms/step\n",
      "1/1 [==============================] - 0s 77ms/step - loss: 0.3213 - accuracy: 0.9286\n",
      "1/1 [==============================] - 0s 48ms/step\n",
      "1/1 [==============================] - 0s 78ms/step - loss: 0.0037 - accuracy: 1.0000\n",
      "1/1 [==============================] - 0s 35ms/step\n",
      "1/1 [==============================] - 0s 85ms/step - loss: 0.0764 - accuracy: 1.0000\n",
      "WARNING:tensorflow:5 out of the last 158 calls to <function Model.make_predict_function.<locals>.predict_function at 0x0000023BF58DB240> triggered tf.function retracing. Tracing is expensive and the excessive number of tracings could be due to (1) creating @tf.function repeatedly in a loop, (2) passing tensors with different shapes, (3) passing Python objects instead of tensors. For (1), please define your @tf.function outside of the loop. For (2), @tf.function has reduce_retracing=True option that can avoid unnecessary retracing. For (3), please refer to https://www.tensorflow.org/guide/function#controlling_retracing and https://www.tensorflow.org/api_docs/python/tf/function for  more details.\n",
      "1/1 [==============================] - 0s 52ms/step\n",
      "1/1 [==============================] - 0s 83ms/step - loss: 1.3663 - accuracy: 0.7692\n",
      "WARNING:tensorflow:6 out of the last 159 calls to <function Model.make_predict_function.<locals>.predict_function at 0x0000023BF7D7AC00> triggered tf.function retracing. Tracing is expensive and the excessive number of tracings could be due to (1) creating @tf.function repeatedly in a loop, (2) passing tensors with different shapes, (3) passing Python objects instead of tensors. For (1), please define your @tf.function outside of the loop. For (2), @tf.function has reduce_retracing=True option that can avoid unnecessary retracing. For (3), please refer to https://www.tensorflow.org/guide/function#controlling_retracing and https://www.tensorflow.org/api_docs/python/tf/function for  more details.\n",
      "1/1 [==============================] - 0s 47ms/step\n"
     ]
    },
    {
     "name": "stderr",
     "output_type": "stream",
     "text": [
      " 12%|█▎        | 1/8 [00:31<03:42, 31.74s/it]"
     ]
    },
    {
     "name": "stdout",
     "output_type": "stream",
     "text": [
      "1/1 [==============================] - 0s 84ms/step - loss: 0.6193 - accuracy: 0.7857\n",
      "1/1 [==============================] - 0s 51ms/step\n",
      "1/1 [==============================] - 0s 84ms/step - loss: 3.3880 - accuracy: 0.6429\n",
      "1/1 [==============================] - 0s 51ms/step\n",
      "1/1 [==============================] - 0s 80ms/step - loss: 1.2151 - accuracy: 0.8571\n",
      "1/1 [==============================] - 0s 48ms/step\n",
      "1/1 [==============================] - 0s 80ms/step - loss: 1.2919 - accuracy: 0.7692\n",
      "1/1 [==============================] - 0s 59ms/step\n",
      "1/1 [==============================] - 0s 102ms/step - loss: 0.4589 - accuracy: 0.8462\n",
      "1/1 [==============================] - 0s 48ms/step\n"
     ]
    },
    {
     "name": "stderr",
     "output_type": "stream",
     "text": [
      " 25%|██▌       | 2/8 [01:02<03:06, 31.12s/it]"
     ]
    },
    {
     "name": "stdout",
     "output_type": "stream",
     "text": [
      "1/1 [==============================] - 0s 84ms/step - loss: 0.2099 - accuracy: 0.9286\n",
      "1/1 [==============================] - 0s 47ms/step\n",
      "1/1 [==============================] - 0s 86ms/step - loss: 3.9240 - accuracy: 0.7857\n",
      "1/1 [==============================] - 0s 54ms/step\n",
      "1/1 [==============================] - 0s 69ms/step - loss: 0.0778 - accuracy: 1.0000\n",
      "1/1 [==============================] - 0s 48ms/step\n",
      "1/1 [==============================] - 0s 84ms/step - loss: 0.0979 - accuracy: 0.9231\n",
      "1/1 [==============================] - 0s 47ms/step\n",
      "1/1 [==============================] - 0s 83ms/step - loss: 0.0285 - accuracy: 1.0000\n",
      "1/1 [==============================] - 0s 49ms/step\n"
     ]
    },
    {
     "name": "stderr",
     "output_type": "stream",
     "text": [
      " 38%|███▊      | 3/8 [01:35<02:40, 32.11s/it]"
     ]
    },
    {
     "name": "stdout",
     "output_type": "stream",
     "text": [
      "1/1 [==============================] - 0s 84ms/step - loss: 0.4559 - accuracy: 0.8571\n",
      "1/1 [==============================] - 0s 47ms/step\n",
      "1/1 [==============================] - 0s 83ms/step - loss: 1.0245 - accuracy: 0.8571\n",
      "1/1 [==============================] - 0s 37ms/step\n",
      "1/1 [==============================] - 0s 83ms/step - loss: 0.5356 - accuracy: 0.9286\n",
      "1/1 [==============================] - 0s 49ms/step\n",
      "1/1 [==============================] - 0s 82ms/step - loss: 0.9533 - accuracy: 0.8462\n",
      "1/1 [==============================] - 0s 46ms/step\n",
      "1/1 [==============================] - 0s 84ms/step - loss: 0.8748 - accuracy: 0.9231\n",
      "1/1 [==============================] - 0s 48ms/step\n"
     ]
    },
    {
     "name": "stderr",
     "output_type": "stream",
     "text": [
      " 50%|█████     | 4/8 [02:09<02:11, 32.85s/it]"
     ]
    },
    {
     "name": "stdout",
     "output_type": "stream",
     "text": [
      "1/1 [==============================] - 0s 84ms/step - loss: 0.9406 - accuracy: 0.7857\n",
      "1/1 [==============================] - 0s 47ms/step\n",
      "1/1 [==============================] - 0s 80ms/step - loss: 2.6043 - accuracy: 0.6429\n",
      "1/1 [==============================] - 0s 44ms/step\n",
      "1/1 [==============================] - 0s 81ms/step - loss: 0.8353 - accuracy: 0.7143\n",
      "1/1 [==============================] - 0s 47ms/step\n",
      "1/1 [==============================] - 0s 82ms/step - loss: 1.9820 - accuracy: 0.5385\n",
      "1/1 [==============================] - 0s 59ms/step\n",
      "1/1 [==============================] - 0s 83ms/step - loss: 0.5962 - accuracy: 0.8462\n",
      "1/1 [==============================] - 0s 48ms/step\n"
     ]
    },
    {
     "name": "stderr",
     "output_type": "stream",
     "text": [
      " 62%|██████▎   | 5/8 [02:38<01:34, 31.46s/it]"
     ]
    },
    {
     "name": "stdout",
     "output_type": "stream",
     "text": [
      "1/1 [==============================] - 0s 85ms/step - loss: 0.6309 - accuracy: 0.9286\n",
      "1/1 [==============================] - 0s 58ms/step\n",
      "1/1 [==============================] - 0s 82ms/step - loss: 0.0182 - accuracy: 1.0000\n",
      "1/1 [==============================] - 0s 57ms/step\n",
      "1/1 [==============================] - 0s 84ms/step - loss: 3.5328 - accuracy: 0.5714\n",
      "1/1 [==============================] - 0s 47ms/step\n",
      "1/1 [==============================] - 0s 88ms/step - loss: 0.0172 - accuracy: 1.0000\n",
      "1/1 [==============================] - 0s 48ms/step\n",
      "1/1 [==============================] - 0s 102ms/step - loss: 2.7300 - accuracy: 0.8462\n",
      "1/1 [==============================] - 0s 47ms/step\n"
     ]
    },
    {
     "name": "stderr",
     "output_type": "stream",
     "text": [
      " 75%|███████▌  | 6/8 [03:09<01:02, 31.40s/it]"
     ]
    },
    {
     "name": "stdout",
     "output_type": "stream",
     "text": [
      "1/1 [==============================] - 0s 83ms/step - loss: 0.9372 - accuracy: 0.7143\n",
      "1/1 [==============================] - 0s 54ms/step\n",
      "1/1 [==============================] - 0s 84ms/step - loss: 0.7845 - accuracy: 0.8571\n",
      "1/1 [==============================] - 0s 52ms/step\n",
      "1/1 [==============================] - 0s 92ms/step - loss: 1.6652 - accuracy: 0.7857\n",
      "1/1 [==============================] - 0s 51ms/step\n",
      "1/1 [==============================] - 0s 83ms/step - loss: 2.5895 - accuracy: 0.6923\n",
      "1/1 [==============================] - 0s 56ms/step\n",
      "1/1 [==============================] - 0s 83ms/step - loss: 1.4145 - accuracy: 0.6923\n",
      "1/1 [==============================] - 0s 62ms/step\n"
     ]
    },
    {
     "name": "stderr",
     "output_type": "stream",
     "text": [
      " 88%|████████▊ | 7/8 [03:40<00:31, 31.18s/it]"
     ]
    },
    {
     "name": "stdout",
     "output_type": "stream",
     "text": [
      "1/1 [==============================] - 0s 78ms/step - loss: 0.8908 - accuracy: 0.8571\n",
      "1/1 [==============================] - 0s 49ms/step\n",
      "1/1 [==============================] - 0s 85ms/step - loss: 6.4188 - accuracy: 0.6429\n",
      "1/1 [==============================] - 0s 49ms/step\n",
      "1/1 [==============================] - 0s 69ms/step - loss: 5.0451 - accuracy: 0.6429\n",
      "1/1 [==============================] - 0s 47ms/step\n",
      "1/1 [==============================] - 0s 84ms/step - loss: 2.1860 - accuracy: 0.5385\n",
      "1/1 [==============================] - 0s 46ms/step\n",
      "1/1 [==============================] - 0s 67ms/step - loss: 3.3009 - accuracy: 0.6154\n",
      "1/1 [==============================] - 0s 54ms/step\n"
     ]
    },
    {
     "name": "stderr",
     "output_type": "stream",
     "text": [
      "100%|██████████| 8/8 [04:05<00:00, 30.64s/it]\n"
     ]
    }
   ],
   "source": [
    "confusion_matrices = []\n",
    "accuracies = []\n",
    "\n",
    "for y in tqdm(ys.columns):\n",
    "\ty = ys[y]\n",
    "\tconf_mats = []\n",
    "\tacc = []\n",
    "\tfor train_index, val_index in kf.split(X, y):\n",
    "\t\tmodel = build_model(choice_hps)\n",
    "\t\ttraining_data = X.iloc[train_index]\n",
    "\t\ttraining_labels = y.iloc[train_index]\n",
    "\t\tvalidation_data = X.iloc[val_index]\n",
    "\t\tvalidation_labels = y.iloc[val_index]\n",
    "\t\t\n",
    "\t\tcallback = keras.callbacks.EarlyStopping(monitor='loss', patience=100)\t# Model will stop when no improvment is reached after 1000 epochs\n",
    "\t\thistory = model.fit(training_data, training_labels, epochs=10000, callbacks=[callback], verbose=0)\n",
    "\n",
    "\t\tval_loss, val_acc = model.evaluate(validation_data,  validation_labels, verbose=\"auto\")\n",
    "\t\tacc.append(val_acc)\n",
    "\t\tprediction = model.predict(validation_data)\n",
    "\t\tprediction = [0.0 if pred[0] < 0.5 else 1.0 for pred in prediction]\n",
    "\t\tconf_mats.append(confusion_matrix(validation_labels,  prediction))\n",
    "\t\n",
    "\taccuracies.append(acc)\n",
    "\tconfusion_matrices.append(np.sum(conf_mats, axis=0))"
   ]
  },
  {
   "cell_type": "code",
   "execution_count": 76,
   "metadata": {},
   "outputs": [
    {
     "data": {
      "image/png": "[encoded data removed]",
      "text/plain": [
       "<Figure size 640x480 with 2 Axes>"
      ]
     },
     "metadata": {},
     "output_type": "display_data"
    }
   ],
   "source": [
    "# Accuracy CV matrix\n",
    "plot_df = pd.DataFrame(accuracies, columns=range(1,cv+1), index=strains[\"0\"])\n",
    "plot_df.index.name = \"Organisms\"\n",
    "plot_df.columns.name = \"Cross-Validation run\"\n",
    "ax = sns.heatmap(plot_df, vmin=0, vmax=1.0, annot=True)"
   ]
  },
  {
   "cell_type": "code",
   "execution_count": 77,
   "metadata": {},
   "outputs": [],
   "source": [
    "plot_cv_confmat(ys=ys, target_labels=strains.values, accuracies=np.mean(accuracies, axis=1), confusion_matrices=confusion_matrices,\n",
    "\t\t\t\toutdir=\"../../runs/ML/try/NN\", name=\"class_annot_test_1.png\")"
   ]
  },
  {
   "cell_type": "code",
   "execution_count": null,
   "metadata": {},
   "outputs": [],
   "source": []
  }
 ],
 "metadata": {
  "kernelspec": {
   "display_name": "gemml",
   "language": "python",
   "name": "python3"
  },
  "language_info": {
   "codemirror_mode": {
    "name": "ipython",
    "version": 3
   },
   "file_extension": ".py",
   "mimetype": "text/x-python",
   "name": "python",
   "nbconvert_exporter": "python",
   "pygments_lexer": "ipython3",
   "version": "3.11.7"
  }
 },
 "nbformat": 4,
 "nbformat_minor": 2
}
